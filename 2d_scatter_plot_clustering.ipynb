{
 "cells": [
  {
   "cell_type": "code",
   "execution_count": 21,
   "metadata": {},
   "outputs": [
    {
     "data": {
      "application/vnd.plotly.v1+json": {
       "config": {
        "plotlyServerURL": "https://plot.ly"
       },
       "data": [
        {
         "customdata": [
          [
           "máy tiệt trùng uv đã có chưa ạ",
           "Hiện tại sản phẩm Máy tiệt trùng  shop đang có những giá sau ạ:\n<500-1M> <1M-2M> <Tất cả giá>",
           "query_knowledge_base",
           "['object_type:may_tiet_trung']",
           "action_query_babe_kb"
          ],
          [
           "/confirm_attribute_value{\"price\": \"500-1M\"}",
           "Mời bạn click vào \"Xem chi tiết\" để tham khảo sản phẩm hiện có tại shop nhé!\n<card sp 1> <card sp 2> <card sp 3>",
           "confirm_attribute_value",
           "['price:500-1M']",
           "action_query_babe_kb"
          ],
          [
           "máy tiệt trùng uv đã có chưa ạ",
           "Máy tiệt trùng uv hiện hết hàng mời bạn tham khảo các sản phẩm khác của shop\nRecommend <sp1> <sp2> <sp3> <sp4>",
           "query_knowledge_base",
           "['object_type:may_tiet_trung']",
           "action_query_babe_kb"
          ],
          [
           "Khi nào thì có hàng mới ạ",
           "Khoảng một tuần sau có hàng ạ",
           "query_knowledge_base",
           null,
           "action_query_babe_kb"
          ],
          [
           "https://scontent.xx.fbcdn.net/v/t1.15752-9/92827724_2847726851949741_1696232900455825408_n.jpg?_nc_cat=103&_nc_sid=b96e70&_nc_ohc=Vw1pHh8MnN0AX8aJw4t&_nc_ad=z-m&_nc_cid=0&_nc_zor=9&_nc_ht=scontent.xx&oh=12087dbec406fb17040323a417f4ea20&oe=5EB568F4",
           "Bạn đang tìm kiếm thông tin gì ạ?",
           "send_link",
           "[\"url:['https://scontent.xx.fbcdn.net/v/t1.15752-9/92827724_2847726851949741_1696232900455825408_n.jpg?_nc_cat=103&_nc_sid=b96e70&_nc_ohc=Vw1pHh8MnN0AX8aJw4t&_nc_ad=z-m&_nc_cid=0&_nc_zor=9&_nc_ht=scontent.xx&oh=12087dbec406fb17040323a417f4ea20&oe=5EB568F4']\"]",
           "action_handle_send_link_only"
          ],
          [
           "E ơi còn giấy khô này k?",
           "Khăn khô đa năng MIPBI 600gr hiện đang có giá là 61.000 (Giá gốc: 70.000) mời bạn tham khảo:\n<show card sp>",
           "query_knowledge_base",
           "['object_type:khan','mention:này']",
           "action_query_babe_kb"
          ],
          [
           "Đúng r ạ",
           "Dạ, vâng ạ. ",
           "agree",
           null,
           "utter_agree"
          ],
          [
           "https://scontent.xx.fbcdn.net/v/t1.15752-9/92827724_2847726851949741_1696232900455825408_n.jpg?_nc_cat=103&_nc_sid=b96e70&_nc_ohc=Vw1pHh8MnN0AX8aJw4t&_nc_ad=z-m&_nc_cid=0&_nc_zor=9&_nc_ht=scontent.xx&oh=12087dbec406fb17040323a417f4ea20&oe=5EB568F4",
           "Bạn đang tìm kiếm thông tin gì ạ?",
           "send_link",
           "[\"url:['https://scontent.xx.fbcdn.net/v/t1.15752-9/92827724_2847726851949741_1696232900455825408_n.jpg?_nc_cat=103&_nc_sid=b96e70&_nc_ohc=Vw1pHh8MnN0AX8aJw4t&_nc_ad=z-m&_nc_cid=0&_nc_zor=9&_nc_ht=scontent.xx&oh=12087dbec406fb17040323a417f4ea20&oe=5EB568F4']\"]",
           "action_handle_send_link_only"
          ],
          [
           "E ơi còn giấy khô này k?",
           "Khăn khô đa năng MIPBI 600gr  hiện hết hàng mời bạn tham khảo các sản phẩm khác của shop\nRecommend <sp1> <sp2> <sp3> <sp4>",
           "query_knowledge_base",
           "['object_type:khan','mention:này']",
           "action_query_babe_kb"
          ],
          [
           "https://scontent.xx.fbcdn.net/v/t1.15752-9/93088148_260667535096586_5162228618784407552_n.jpg?_nc_cat=103&_nc_sid=b96e70&_nc_ohc=x7wswdCvMn8AX8w1Gx1&_nc_ad=z-m&_nc_cid=0&_nc_zor=9&_nc_ht=scontent.xx&oh=6b66cfd67139987f2f1390eeb9aed46d&oe=5EB7E07A",
           "Bạn đang tìm kiếm thông tin gì ạ?",
           "send_link",
           "[\"url:['https://scontent.xx.fbcdn.net/v/t1.15752-9/93088148_260667535096586_5162228618784407552_n.jpg?_nc_cat=103&_nc_sid=b96e70&_nc_ohc=x7wswdCvMn8AX8w1Gx1&_nc_ad=z-m&_nc_cid=0&_nc_zor=9&_nc_ht=scontent.xx&oh=6b66cfd67139987f2f1390eeb9aed46d&oe=5EB7E07A']\"]",
           "action_handle_send_link_only"
          ],
          [
           "Bn vậy shop ơi",
           "Sản phẩm  BẢNG VẼ HOLLA 2 in 1  hiện shop đang có giá: 830,000 VND (giá gốc 1,090,000 VND).\nBạn tham khảo các sản phẩm sau nhé ạ:\n<show sp>",
           "query_knowledge_base",
           "['attribute:price']",
           "action_query_babe_kb"
          ],
          [
           "Có trên shopee k shop",
           "Dạ mời bạn tham khảo sản phẩm BẢNG VẼ HOLLA 2 in 1  hiện có tại shop nhé!\n<show sp>",
           "query_knowledge_base",
           "['attribute:link']",
           "action_query_babe_kb"
          ],
          [
           "https://scontent.xx.fbcdn.net/v/t1.15752-9/93088148_260667535096586_5162228618784407552_n.jpg?_nc_cat=103&_nc_sid=b96e70&_nc_ohc=x7wswdCvMn8AX8w1Gx1&_nc_ad=z-m&_nc_cid=0&_nc_zor=9&_nc_ht=scontent.xx&oh=6b66cfd67139987f2f1390eeb9aed46d&oe=5EB7E07A",
           "Bạn đang tìm kiếm thông tin gì ạ?",
           "send_link",
           "[\"url:['https://scontent.xx.fbcdn.net/v/t1.15752-9/93088148_260667535096586_5162228618784407552_n.jpg?_nc_cat=103&_nc_sid=b96e70&_nc_ohc=x7wswdCvMn8AX8w1Gx1&_nc_ad=z-m&_nc_cid=0&_nc_zor=9&_nc_ht=scontent.xx&oh=6b66cfd67139987f2f1390eeb9aed46d&oe=5EB7E07A']\"]",
           "action_handle_send_link_only"
          ],
          [
           "Bn vậy shop ơi",
           "Sản phẩm  BẢNG VẼ HOLLA 2 in 1  hiện shop đang có giá: 830,000 VND (giá gốc 1,090,000 VND).\nBạn tham khảo các sản phẩm sau nhé ạ:\n<show sp>",
           "query_knowledge_base",
           "['attribute:price']",
           "action_query_babe_kb"
          ],
          [
           "Bảo hành bao lâu ạ",
           "\"Dạ BẢNG VẼ HOLLA 2 in 1 bảo hành 12 tháng ạ. {chính sách bảo hành chung}\"",
           "query_knowledge_base",
           "['attribute:guarantee']",
           "action_query_babe_kb"
          ],
          [
           "https://scontent.xx.fbcdn.net/v/t1.15752-9/92758628_220638542371993_7339655662080622592_n.jpg?_nc_cat=103&_nc_sid=b96e70&_nc_ohc=SFj_QNZGVnIAX_ptxfv&_nc_ad=z-m&_nc_cid=0&_nc_zor=9&_nc_ht=scontent.xx&oh=db6c1a23b261d135143caa7ddc90103e&oe=5EB60853",
           "Bạn đang tìm kiếm thông tin gì ạ?",
           "send_link",
           "[\"url:['https://scontent.xx.fbcdn.net/v/t1.15752-9/92758628_220638542371993_7339655662080622592_n.jpg?_nc_cat=103&_nc_sid=b96e70&_nc_ohc=SFj_QNZGVnIAX_ptxfv&_nc_ad=z-m&_nc_cid=0&_nc_zor=9&_nc_ht=scontent.xx&oh=db6c1a23b261d135143caa7ddc90103e&oe=5EB60853']\"]",
           "action_handle_send_link_only"
          ],
          [
           "Bộ này bn shop",
           "Sản phẩm  BẢNG VẼ HOLLA 2 in 1  hiện shop đang có giá: 830,000 VND (giá gốc 1,090,000 VND).\nBạn tham khảo các sản phẩm sau nhé ạ:\n<show sp>",
           "query_knowledge_base",
           "['mention:bộ này', 'attribute:price']",
           "action_query_babe_kb"
          ],
          [
           "Sản xuất ở đâu ạ",
           "Dạ BẢNG VẼ HOLLA 2 in 1 có xuất xứ từ Trung Quốc ạ\n(xuất xứ trong phần mô tả sp trên Shopee)",
           "query_knowledge_base",
           "['attribute:origin']",
           "action_query_babe_kb"
          ],
          [
           "https://scontent.xx.fbcdn.net/v/t1.15752-9/92812185_1223309388006647_5070003679390597120_n.jpg?_nc_cat=102&_nc_sid=b96e70&_nc_oc=AQmYZbuIaGFzKqFSSGeVZqs-Bkq4ODR2LY2ON0_mUykpAz_1tUqt1pKa3RZClcUSF3KFtyyW1LGSfsFG-shSXEJz&_nc_ad=z-m&_nc_cid=0&_nc_zor=9&_nc_ht=scontent.xx&oh=5e9f9b680aa5c98417da25593daab682&oe=5EB812A1",
           "Bạn đang tìm kiếm thông tin gì ạ?",
           "send_link",
           "[\"url:['https://scontent.xx.fbcdn.net/v/t1.15752-9/92812185_1223309388006647_5070003679390597120_n.jpg?_nc_cat=102&_nc_sid=b96e70&_nc_oc=AQmYZbuIaGFzKqFSSGeVZqs-Bkq4ODR2LY2ON0_mUykpAz_1tUqt1pKa3RZClcUSF3KFtyyW1LGSfsFG-shSXEJz&_nc_ad=z-m&_nc_cid=0&_nc_zor=9&_nc_ht=scontent.xx&oh=5e9f9b680aa5c98417da25593daab682&oe=5EB812A1']\"]",
           "action_handle_send_link_only"
          ],
          [
           "Cho t xin giá nhé",
           "Sản phẩm  BẢNG VẼ HOLLA 2 in 1  hiện shop đang có giá: 830,000 VND (giá gốc 1,090,000 VND).\nBạn tham khảo các sản phẩm sau nhé ạ:\n<show sp>",
           "query_knowledge_base",
           "['attribute:price']",
           "action_query_babe_kb"
          ],
          [
           "Làm bằng nhựa à ",
           "Dạ sản phẩm làm từ nhựa ạ\nBạn tham khảo các sản phẩm sau nhé ạ:\n<show sp>",
           "query_knowledge_base",
           "['material:bằng nhựa']",
           "action_query_babe_kb"
          ],
          [
           "Bộ holla vương miện giá tnao bạn",
           "Sản phẩm  COMBO HOLLA FULL PHIÊN BẢN 2020 MẪU VƯƠNG MIỆN  hiện shop đang có giá: 500,000 VND (giá gốc 500,000 VND).\nBạn tham khảo các sản phẩm sau nhé ạ:\n<show sp>",
           "query_knowledge_base",
           "['brand:holla', 'attribute:price','type:vương miện']",
           "action_query_babe_kb"
          ],
          [
           "Nước nào sản xuất ạ ?",
           "Dạ COMBO HOLLA FULL PHIÊN BẢN 2020 MẪU VƯƠNG MIỆN có xuất xứ từ Trung Quốc ạ\n(xuất xứ trong phần mô tả sp trên Shopee)",
           "query_knowledge_base",
           "['attribute:origin']",
           "action_query_babe_kb"
          ],
          [
           "ok shop",
           "Dạ,vâng ạ",
           "agree",
           null,
           "utter_agree"
          ],
          [
           "bạn ơi",
           "Chào bạn, mình là trợ lý ảo của Shop Gấu & Bí Ngô, mình giúp gì được bạn ạ?",
           "greet",
           null,
           "utter_greet"
          ],
          [
           "cho mình hỏi",
           "Dạ,vâng",
           "want_to_query",
           null,
           "utter_want_to_query"
          ],
          [
           "mình muốn mua câu trượt cho bé thì m nên chọn loại nào sau đây ạ\nbạn cho m xin gia sp nhe",
           "(Bắt được ảnh gửi tiếp theo mới trả lời user)",
           "query_knowledge_base",
           "['object_type:cau_truot', 'attribute:price']",
           "query_knowledge_base"
          ],
          [
           "https://scontent.xx.fbcdn.net/v/t1.15752-9/93230357_869531593523363_508287694191722496_n.jpg?_nc_cat=104&_nc_sid=b96e70&_nc_ohc=I8CWOIpt__8AX-L7EDQ&_nc_ad=z-m&_nc_cid=0&_nc_zor=9&_nc_ht=scontent.xx&oh=676159323610b77282663ad8853a2b01&oe=5EB58771",
           "Sản phẩm  cầu trượt  hiện shop đang có giá: 500,000 VND (giá gốc 500,000 VND).\r\nBạn tham khảo các sản phẩm sau nhé ạ:\r\n<show sp>",
           "send_link",
           "[\"url:['https://scontent.xx.fbcdn.net/v/t1.15752-9/93230357_869531593523363_508287694191722496_n.jpg?_nc_cat=104&_nc_sid=b96e70&_nc_ohc=I8CWOIpt__8AX-L7EDQ&_nc_ad=z-m&_nc_cid=0&_nc_zor=9&_nc_ht=scontent.xx&oh=676159323610b77282663ad8853a2b01&oe=5EB58771']\"]",
           "action_handle_send_link_only"
          ],
          [
           "Loại này bn vậy bạn",
           "(Bắt được ảnh gửi tiếp theo mới trả lời user)",
           "query_knowledge_base",
           "['mention:loại này', 'attribute:price']",
           "action_query_babe_kb"
          ],
          [
           "https://scontent.xx.fbcdn.net/v/t1.15752-9/93049946_266000034415184_8022889009304829952_n.jpg?_nc_cat=107&_nc_sid=b96e70&_nc_ohc=6H5qmCrlsTMAX_UxJKR&_nc_ad=z-m&_nc_cid=0&_nc_zor=9&_nc_ht=scontent.xx&oh=56bc309e3fb8f432e5605d1e1fd4a8e2&oe=5EB6DC2D",
           "Sản phẩm  BẢNG VẼ HOLLA 2 in 1  hiện shop đang có giá: 830,000 VND (giá gốc 1,090,000 VND).\nBạn tham khảo sản phẩm sau nhé ạ:\n<show sp>",
           "send_link",
           "[\"url:['https://scontent.xx.fbcdn.net/v/t1.15752-9/93049946_266000034415184_8022889009304829952_n.jpg?_nc_cat=107&_nc_sid=b96e70&_nc_ohc=6H5qmCrlsTMAX_UxJKR&_nc_ad=z-m&_nc_cid=0&_nc_zor=9&_nc_ht=scontent.xx&oh=56bc309e3fb8f432e5605d1e1fd4a8e2&oe=5EB6DC2D']\"]",
           "action_query_babe_kb"
          ],
          [
           "Có những màu gì ạ ?",
           "Dạ, BẢNG VẼ HOLLA 2 in 1 hiện có các màu: Hồng, Xanh\n<Show card tương ứng với các màu của sản phẩm>",
           "query_knowledge_base",
           "['attribute:color']",
           "action_query_babe_kb"
          ],
          [
           "Để mình tham khảo thêm , có gì mình báo sớm",
           "Dạ,vâng ạ",
           "finish_conv",
           null,
           "action_finish_conv"
          ],
          [
           "https://scontent.xx.fbcdn.net/v/t1.15752-9/92948814_645194249654417_7858679713655422976_n.jpg?_nc_cat=105&_nc_sid=b96e70&_nc_ohc=wRI0MxBYCusAX8FbQ55&_nc_ad=z-m&_nc_cid=0&_nc_zor=9&_nc_ht=scontent.xx&oh=fd554b026b9a9ba54d252a6b9a2a549b&oe=5EB53E67",
           "Bạn đang tìm kiếm thông tin gì ạ?",
           "send_link",
           "[\"url:['https://scontent.xx.fbcdn.net/v/t1.15752-9/92948814_645194249654417_7858679713655422976_n.jpg?_nc_cat=105&_nc_sid=b96e70&_nc_ohc=wRI0MxBYCusAX8FbQ55&_nc_ad=z-m&_nc_cid=0&_nc_zor=9&_nc_ht=scontent.xx&oh=fd554b026b9a9ba54d252a6b9a2a549b&oe=5EB53E67']\"]",
           "action_handle_send_link_only"
          ],
          [
           "Giá bnh shop",
           "Sản phẩm BẢNG VẼ HOLLA 2 in 1 hiện shop đang có giá: *830,000 VND (giá gốc 1,090,000 VND)*.\r\nBạn tham khảo các sản phẩm sau nhé ạ:",
           "query_knowledge_base",
           "['attribute:price']",
           "action_query_babe_kb"
          ],
          [
           "https://scontent.xx.fbcdn.net/v/t1.15752-9/92577959_521713968748198_2028124277756133376_n.jpg?_nc_cat=110&_nc_sid=b96e70&_nc_ohc=JJLk80vJ4PIAX8tj8Ac&_nc_ad=z-m&_nc_cid=0&_nc_zor=9&_nc_ht=scontent.xx&oh=d7d18f49b9b79de714940f80c57e49e5&oe=5EB732D7",
           "Sản phẩm NGỰA BẬP BÊNH HOLLA 2020 hiện shop đang có giá: *580,000 VND (giá gốc 800,000 VND)*.\r\nBạn tham khảo các sản phẩm sau nhé ạ:",
           "send_link",
           "[\"url:['https://scontent.xx.fbcdn.net/v/t1.15752-9/92577959_521713968748198_2028124277756133376_n.jpg?_nc_cat=110&_nc_sid=b96e70&_nc_ohc=JJLk80vJ4PIAX8tj8Ac&_nc_ad=z-m&_nc_cid=0&_nc_zor=9&_nc_ht=scontent.xx&oh=d7d18f49b9b79de714940f80c57e49e5&oe=5EB732D7']\"]",
           "action_handle_send_link_only"
          ],
          [
           "Ngựa này thì sao",
           "Dạ, sản phẩmNGỰA BẬP BÊNH HOLLA 2020hiện tại bên shop đang tạm hết hàng ạ. Bạn tham khảo các sản phẩm khác dành cho bé nhé!Dạ, sản phẩm Ngựa Bập Bệnh hiện tại bên shop đang tạm hết hàng ạ. Bạn tham khảo các sản phẩm khác dành cho bé nhé!",
           "query_knowledge_base",
           "['object_type:Ngựa',\n'mention:này']",
           "action_query_babe_kb"
          ],
          [
           "thank sh",
           "Dạ, cảm ơn ạ!",
           "thank",
           null,
           "utter_thank"
          ],
          [
           "https://scontent.xx.fbcdn.net/v/t1.15752-9/92791014_2661430304077984_4670421710539849728_n.jpg?_nc_cat=105&_nc_sid=b96e70&_nc_ohc=XlQTCwj0czIAX_d_QhB&_nc_ad=z-m&_nc_cid=0&_nc_zor=9&_nc_ht=scontent.xx&oh=02079e567064603a748d9ce883d4b2f8&oe=5EB5485D",
           "Bạn đang tìm kiếm thông tin gì ạ?",
           "send_link",
           "[\"url:['https://scontent.xx.fbcdn.net/v/t1.15752-9/92791014_2661430304077984_4670421710539849728_n.jpg?_nc_cat=105&_nc_sid=b96e70&_nc_ohc=XlQTCwj0czIAX_d_QhB&_nc_ad=z-m&_nc_cid=0&_nc_zor=9&_nc_ht=scontent.xx&oh=02079e567064603a748d9ce883d4b2f8&oe=5EB5485D']\"]",
           "action_handle_send_link_only"
          ],
          [
           "Bộ này bn vậy shop",
           "COMBO HOLLA FULL PHIÊN BẢN 2020 MẪU VƯƠNG MIỆN hiện shop đang có giá: 4100000 VND (giá gốc 5000000 VND). Bạn tham khảo các sản phẩm sau nhé ạ: <show sp>",
           "query_knowledge_base",
           "['mention:bộ này', 'attribute:price']",
           "action_query_babe_kb"
          ],
          [
           "Nước nào sản xuất ",
           "Dạ COMBO HOLLA FULL PHIÊN BẢN 2020 MẪU VƯƠNG MIỆN có xuất xứ từ Trung Quốc ạ\n(xuất xứ trong phần mô tả sp trên Shopee)",
           "query_knowledge_base",
           "['attribute:origin']",
           "action_query_babe_kb"
          ],
          [
           "https://scontent.xx.fbcdn.net/v/t1.15752-9/93486370_1623328874472120_5014179051686854656_n.jpg?_nc_cat=108&_nc_sid=b96e70&_nc_ohc=fwdfBm4m4twAX_LaA9U&_nc_ad=z-m&_nc_cid=0&_nc_zor=9&_nc_ht=scontent.xx&oh=422b65b1b7ea124a5b622f219a0e2ab3&oe=5EB738D6",
           "Bạn đang tìm kiếm thông tin gì ạ?",
           "send_link",
           "[\"url:['https://scontent.xx.fbcdn.net/v/t1.15752-9/93486370_1623328874472120_5014179051686854656_n.jpg?_nc_cat=108&_nc_sid=b96e70&_nc_ohc=fwdfBm4m4twAX_LaA9U&_nc_ad=z-m&_nc_cid=0&_nc_zor=9&_nc_ht=scontent.xx&oh=422b65b1b7ea124a5b622f219a0e2ab3&oe=5EB738D6']\"]",
           "action_handle_send_link_only"
          ],
          [
           "2 bộ này bn ạ",
           "Bộ đồ chơi nhà bếp thông minh hiện shop đang có giá: 790000 VND (giá gốc 790000 VND). Bạn tham khảo các sản phẩm sau nhé ạ: <show sp>",
           "query_knowledge_base",
           "['mention:bộ này', 'attribute:price']",
           "action_query_babe_kb"
          ],
          [
           "chất liệu gì thế",
           "Dạ sản phẩm làm từ nhựa ạ\r\nBạn tham khảo các sản phẩm sau nhé ạ:\r\n<show sp>",
           "query_knowledge_base",
           "['attribute:material']",
           "action_query_babe_kb"
          ],
          [
           "bạn ơi",
           "Chào bạn, mình là trợ lý ảo của Shop Gấu & Bí Ngô, mình giúp gì được bạn ạ?",
           "greet",
           null,
           "utter_greet"
          ],
          [
           "https://scontent.xx.fbcdn.net/v/t1.15752-9/92571038_2584677681814761_3423627618300198912_n.jpg?_nc_cat=105&_nc_sid=b96e70&_nc_ohc=OZGf9Ro8NKQAX8umkh_&_nc_ad=z-m&_nc_cid=0&_nc_zor=9&_nc_ht=scontent.xx&oh=b60d1adb39de9f1c672de5ce7f9a6ae4&oe=5EB53FA2",
           "Bạn đang tìm kiếm thông tin gì ạ?",
           "send_link",
           "[\"url:['https://scontent.xx.fbcdn.net/v/t1.15752-9/92571038_2584677681814761_3423627618300198912_n.jpg?_nc_cat=105&_nc_sid=b96e70&_nc_ohc=OZGf9Ro8NKQAX8umkh_&_nc_ad=z-m&_nc_cid=0&_nc_zor=9&_nc_ht=scontent.xx&oh=b60d1adb39de9f1c672de5ce7f9a6ae4&oe=5EB53FA2']\"]",
           "action_handle_send_link_only"
          ],
          [
           "Bn một bộ này vậy shop",
           "Sản phẩm  BẢNG VẼ HOLLA 2 in 1  hiện shop đang có giá: 830,000 VND (giá gốc 1,090,000 VND).\nBạn tham khảo các sản phẩm sau nhé ạ:\n<show sp>",
           "query_knowledge_base",
           "['attribute:price', 'mention:bộ này']",
           "action_query_babe_kb"
          ],
          [
           "Cả bộ hả b ?",
           "Dạ,vâng ạ",
           "query_knowledge_base",
           null,
           "action_query_babe_kb"
          ],
          [
           "bạn ơi",
           "Chào bạn, mình là trợ lý ảo của Shop Gấu & Bí Ngô, mình giúp gì được bạn ạ?",
           "greet",
           null,
           "utter_greet"
          ],
          [
           "https://scontent.xx.fbcdn.net/v/t1.15752-9/92792231_225126888578248_4184814308414193664_n.jpg?_nc_cat=108&_nc_sid=b96e70&_nc_ohc=Cjd1ceq4pLEAX_2V4Ao&_nc_ad=z-m&_nc_cid=0&_nc_zor=9&_nc_ht=scontent.xx&oh=d921b0784b3703a7b02a586756b0e62a&oe=5EB57163",
           "Bạn đang tìm kiếm thông tin gì ạ?",
           "send_link",
           "[\"url:['https://scontent.xx.fbcdn.net/v/t1.15752-9/92792231_225126888578248_4184814308414193664_n.jpg?_nc_cat=108&_nc_sid=b96e70&_nc_ohc=Cjd1ceq4pLEAX_2V4Ao&_nc_ad=z-m&_nc_cid=0&_nc_zor=9&_nc_ht=scontent.xx&oh=d921b0784b3703a7b02a586756b0e62a&oe=5EB57163']\"]",
           "action_handle_send_link_only"
          ],
          [
           "Bộ nay bn b",
           "Sản phẩm  BẢNG VẼ HOLLA 2 in 1  hiện shop đang có giá: 830,000 VND (giá gốc 1,090,000 VND).\nBạn tham khảo các sản phẩm sau nhé ạ:\n<show sp>",
           "query_knowledge_base",
           "['mention:bộ nay', 'attribute:price']",
           "action_query_babe_kb"
          ],
          [
           "Mấy chữ trên bản\r\nLa co sẵn lun hay la k co ạ",
           "Sản phẩm  BẢNG VẼ HOLLA 2 in 1 bao gồm các phụ kiện sau: bộ chữ, bộ số và bút nước\nBạn tham khảo sản phẩm sau nhé ạ:\r\n<show sp>",
           "query_knowledge_base",
           "['attribute:accessories']",
           "action_query_babe_kb"
          ],
          [
           "https://scontent.xx.fbcdn.net/v/t1.15752-9/92574409_215108049717012_4974694287758327808_n.jpg?_nc_cat=111&_nc_sid=b96e70&_nc_ohc=od8F78G2U4oAX-kFk_g&_nc_ad=z-m&_nc_cid=0&_nc_zor=9&_nc_ht=scontent.xx&oh=a03f154b9cf70c6406c5041b2712d5f9&oe=5EB69163",
           "Bạn đang tìm kiếm thông tin gì ạ?",
           "send_link",
           "[\"url:['https://scontent.xx.fbcdn.net/v/t1.15752-9/92574409_215108049717012_4974694287758327808_n.jpg?_nc_cat=111&_nc_sid=b96e70&_nc_ohc=od8F78G2U4oAX-kFk_g&_nc_ad=z-m&_nc_cid=0&_nc_zor=9&_nc_ht=scontent.xx&oh=a03f154b9cf70c6406c5041b2712d5f9&oe=5EB69163']\"]",
           "action_handle_send_link_only"
          ],
          [
           "Bn shop oi",
           "Sản phẩm  BẢNG VẼ HOLLA 2 in 1  hiện shop đang có giá: 830,000 VND (giá gốc 1,090,000 VND).\nBạn tham khảo các sản phẩm sau nhé ạ:\n<show sp>",
           "query_knowledge_base",
           "['attribute:price']",
           "utter_greet"
          ],
          [
           "Chiều nay ship luôn cho mình được không",
           "Bạn cho shop xin địa chỉ nhận hàng ạ.",
           "time_ship",
           null,
           "action_time_ship"
          ],
          [
           "số 7 tràng thi",
           "Với địa chỉ số 7 tràng thi shop có thể ship hàng đến trong 3 h ạ",
           null,
           null,
           null
          ],
          [
           "Thanh chắn cầu thang bn a",
           "Sản phẩm thanh chắn cầu thang hiện shop đang có giá: 830,000 VND (giá gốc 1,090,000 VND).\nBạn tham khảo các sản phẩm sau nhé ạ:\n<show sp>",
           "query_knowledge_base",
           "['attribute:price']['object_type:thanh_chan_cau_thang']",
           "action_query_babe_kb"
          ],
          [
           "kích thước tn shop",
           "Dạ, thanh chắn cầu thang có (các-nhiều kích thước) kích thước: 74x83x 77cm ạ. \n<show card sản phẩm> \n",
           "query_knowledge_base",
           "['attribute:size']",
           "action_query_babe_kb"
          ],
          [
           "ok shop",
           "Dạ,vâng",
           "agree",
           null,
           "utter_agree"
          ],
          [
           "bạn ơi",
           "Chào bạn, mình là trợ lý ảo của Shop Gấu & Bí Ngô, mình giúp gì được bạn ạ?",
           "greet",
           null,
           "utter_greet"
          ],
          [
           "Bộ đồ chơi nấu ăn giá bn ạ",
           "Mình chưa xác định được món đồ bạn hỏi, bạn mô tả rõ hơn giúp mình nhé!",
           "query_knowledge_base",
           "['attribute:price']",
           "action_query_babe_kb"
          ],
          [
           "https://scontent.xx.fbcdn.net/v/t1.15752-9/92871920_244941433296679_4143720563837239296_n.jpg?_nc_cat=104&_nc_sid=b96e70&_nc_ohc=cfVDG58zjTsAX8JQE4Y&_nc_ad=z-m&_nc_cid=0&_nc_zor=9&_nc_ht=scontent.xx&oh=6d491d56656f2cdc59cdc013a65bc22b&oe=5EB56A38",
           "Bộ đồ chơi nhà bếp thông minh hiện shop đang có giá: 790000 VND (giá gốc 790000 VND). Bạn tham khảo các sản phẩm sau nhé ạ: <show sp>",
           "send_link",
           "[\"url:['https://scontent.xx.fbcdn.net/v/t1.15752-9/92871920_244941433296679_4143720563837239296_n.jpg?_nc_cat=104&_nc_sid=b96e70&_nc_ohc=cfVDG58zjTsAX8JQE4Y&_nc_ad=z-m&_nc_cid=0&_nc_zor=9&_nc_ht=scontent.xx&oh=6d491d56656f2cdc59cdc013a65bc22b&oe=5EB56A38']\"]",
           "action_handle_send_link_only"
          ],
          [
           "ok shop",
           "Dạ,vâng",
           "agree",
           null,
           "utter_agree"
          ],
          [
           "https://scontent.xx.fbcdn.net/v/t1.15752-9/93136917_667702917395987_8046983986288787456_n.jpg?_nc_cat=108&_nc_sid=b96e70&_nc_ohc=v_S4u4HxLpgAX-GM0OS&_nc_ad=z-m&_nc_cid=0&_nc_zor=9&_nc_ht=scontent.xx&oh=f9b70ca6c2535878f0b530141ee4a4ca&oe=5EB59BE8",
           "action_handle_send_link_only",
           "send_link",
           "[\"url:['https://scontent.xx.fbcdn.net/v/t1.15752-9/93136917_667702917395987_8046983986288787456_n.jpg?_nc_cat=108&_nc_sid=b96e70&_nc_ohc=v_S4u4HxLpgAX-GM0OS&_nc_ad=z-m&_nc_cid=0&_nc_zor=9&_nc_ht=scontent.xx&oh=f9b70ca6c2535878f0b530141ee4a4ca&oe=5EB59BE8']\"]",
           "action_handle_send_link_only"
          ],
          [
           "Thanh 36cm lắp thêm vào chỗ hẹp cũng đc phải ko a, tức là dùng như thanh 12cm cũng đc a?",
           "Cho mình xin chiều rộng cầu thang nhà bạn ạ ?",
           "to_compare",
           "['size:36cm', 'size:12cm']",
           "action_to_compare"
          ],
          [
           "0,5m ạ",
           "Dạ sản phẩm thanh 36 cm và 12 cm lắp được với cầu thang có chiều rộng 0,5 m ạ",
           "query_knowledge_base",
           "['size:0,5m']",
           "action_query_babe_kb"
          ],
          [
           "https://scontent.xx.fbcdn.net/v/t1.15752-9/93409445_248021096324605_3539204290587394048_n.jpg?_nc_cat=100&_nc_sid=b96e70&_nc_ohc=CDp2-oURkTkAX-ROtNE&_nc_ad=z-m&_nc_cid=0&_nc_zor=9&_nc_ht=scontent.xx&oh=a13cc949d1040f31f6f45300484c2189&oe=5EB5A872",
           "action_handle_send_link_only",
           "send_link",
           "[\"url:['https://scontent.xx.fbcdn.net/v/t1.15752-9/93409445_248021096324605_3539204290587394048_n.jpg?_nc_cat=100&_nc_sid=b96e70&_nc_ohc=CDp2-oURkTkAX-ROtNE&_nc_ad=z-m&_nc_cid=0&_nc_zor=9&_nc_ht=scontent.xx&oh=a13cc949d1040f31f6f45300484c2189&oe=5EB5A872']\"]",
           "action_handle_send_link_only"
          ],
          [
           "Ngựa này hàng về hả shop?",
           "Sản phẩm  NGỰA BẬP BÊNH HOLLA 2020  hiện shop có hàng và đang có giá: 580000\n VND (giá gốc 800000 VND).\nBạn tham khảo các sản phẩm sau nhé ạ:\n<show sp>",
           "query_knowledge_base",
           "['object_type:ngua_bap_benh', 'mention:này']",
           "action_query_babe_kb"
          ],
          [
           "Bên mình có mã giảm giá shopee k shop?",
           "Hiện shop không có mã giảm giá shopee cho sản phẩm NGỰA BẬP BÊNH HOLLA 2020 ạ",
           "query_knowledge_base",
           "['attribute:promotion','attribute:codediscount']",
           "action_query_babe_kb"
          ],
          [
           "https://scontent.xx.fbcdn.net/v/t1.15752-9/92812185_1223309388006647_5070003679390597120_n.jpg?_nc_cat=102&_nc_sid=b96e70&_nc_ohc=g_UDAFO7FMkAX8iFNTd&_nc_ad=z-m&_nc_cid=0&_nc_zor=9&_nc_ht=scontent.xx&oh=b4d34f75250bd20bb8adc6193f0b996b&oe=5EB812A1",
           "Bạn đang tìm kiếm thông tin gì ạ?",
           "send_link",
           "[\"url:['https://scontent.xx.fbcdn.net/v/t1.15752-9/92812185_1223309388006647_5070003679390597120_n.jpg?_nc_cat=102&_nc_sid=b96e70&_nc_ohc=g_UDAFO7FMkAX8iFNTd&_nc_ad=z-m&_nc_cid=0&_nc_zor=9&_nc_ht=scontent.xx&oh=b4d34f75250bd20bb8adc6193f0b996b&oe=5EB812A1']\"]",
           "action_handle_send_link_only"
          ],
          [
           "Bạn ơi bộ này bao tiền ạ",
           "Sản phẩm  BẢNG VẼ HOLLA 2 in 1  hiện shop đang có giá: 830,000 VND (giá gốc 1,090,000 VND).\nBạn tham khảo các sản phẩm sau nhé ạ:\n<show sp>",
           "query_knowledge_base",
           "['mention:bộ này', 'attribute:price']",
           "action_query_babe_kb"
          ],
          [
           " bao gồm cả bộ chữ, số ở trên bảng + bút nước à b",
           "Sản phẩm  BẢNG VẼ HOLLA 2 in 1 bao gồm các phụ kiện sau: bộ chữ, bộ số và bút nước\nBạn tham khảo sản phẩm sau nhé ạ:\r\n<show sp>",
           "query_knowledge_base",
           "\n['accessories:bộ chữ']['accessories:bộ số']['accessories:bút nước']",
           "action_query_babe_kb"
          ],
          [
           "https://scontent.xx.fbcdn.net/v/t1.15752-9/92706664_584769512134067_2916220439648796672_n.jpg?_nc_cat=105&_nc_sid=b96e70&_nc_ohc=LzoJrxXZEG4AX_1Y2tK&_nc_ad=z-m&_nc_cid=0&_nc_zor=9&_nc_ht=scontent.xx&oh=e2d594b1bfcd857449d797dbb2d02b61&oe=5EB6767E",
           "Bạn đang tìm kiếm thông tin gì ạ?",
           "send_link",
           "[\"url:['https://scontent.xx.fbcdn.net/v/t1.15752-9/92706664_584769512134067_2916220439648796672_n.jpg?_nc_cat=105&_nc_sid=b96e70&_nc_ohc=LzoJrxXZEG4AX_1Y2tK&_nc_ad=z-m&_nc_cid=0&_nc_zor=9&_nc_ht=scontent.xx&oh=e2d594b1bfcd857449d797dbb2d02b61&oe=5EB6767E']\"]",
           "action_handle_send_link_only"
          ],
          [
           "Bộ này bao nhiêu vậy shop ơi",
           "Sản phẩm  BẢNG VẼ HOLLA 2 in 1  hiện shop đang có giá: 830,000 VND (giá gốc 1,090,000 VND).\nBạn tham khảo các sản phẩm sau nhé ạ:\n<show sp>",
           "query_knowledge_base",
           "['mention:bộ này', 'attribute:price']",
           "action_query_babe_kb"
          ],
          [
           "Mình có bảng vẽ đa năng cho bé mà k đi liền với bàn k ạ?",
           "Sản phẩm bảng vẽ mà không đi liền với bàn hiện shop có những sản phẩm sau mời bạn tham khảo:\n<sp1><sp2><sp3>",
           "query_knowledge_base",
           null,
           "action_query_babe_kb"
          ],
          [
           "https://scontent.xx.fbcdn.net/v/t1.15752-9/92694192_2614716975469495_5572242217088581632_n.jpg?_nc_cat=106&_nc_sid=b96e70&_nc_oc=AQntyQWugJc3s4avU1VoQOdwpdKSmeEpUXN84Gn9ed96LljSbQoHAhs_paPwY7xWumhVOcDyJAO9oQajF5hRIFYb&_nc_ad=z-m&_nc_cid=0&_nc_zor=9&_nc_ht=scontent.xx&oh=1df67664b5e1a92b05b733613c5946f5&oe=5EB51340",
           "Bạn đang tìm kiếm thông tin gì ạ?",
           "send_link",
           "[\"url:['https://scontent.xx.fbcdn.net/v/t1.15752-9/92694192_2614716975469495_5572242217088581632_n.jpg?_nc_cat=106&_nc_sid=b96e70&_nc_oc=AQntyQWugJc3s4avU1VoQOdwpdKSmeEpUXN84Gn9ed96LljSbQoHAhs_paPwY7xWumhVOcDyJAO9oQajF5hRIFYb&_nc_ad=z-m&_nc_cid=0&_nc_zor=9&_nc_ht=scontent.xx&oh=1df67664b5e1a92b05b733613c5946f5&oe=5EB51340']\"]",
           "action_handle_send_link_only"
          ],
          [
           "https://scontent.xx.fbcdn.net/v/t1.15752-9/93031511_247828126399871_5237293488793452544_n.jpg?_nc_cat=111&_nc_sid=b96e70&_nc_oc=AQnsp_bzf3mOSZi9Jvn-4cnExabSMmyu1uTaZT-ba4f20zzkHcvRqyG3oZmSHEleonx4tRAZxwxXNF5mYJHQN2gE&_nc_ad=z-m&_nc_cid=0&_nc_zor=9&_nc_ht=scontent.xx&oh=b4e535c62864baaa6a3e975576d0dc24&oe=5EB75ABA",
           "Bạn đang tìm kiếm thông tin gì ạ?",
           "send_link",
           "[\"url:['https://scontent.xx.fbcdn.net/v/t1.15752-9/93031511_247828126399871_5237293488793452544_n.jpg?_nc_cat=111&_nc_sid=b96e70&_nc_oc=AQnsp_bzf3mOSZi9Jvn-4cnExabSMmyu1uTaZT-ba4f20zzkHcvRqyG3oZmSHEleonx4tRAZxwxXNF5mYJHQN2gE&_nc_ad=z-m&_nc_cid=0&_nc_zor=9&_nc_ht=scontent.xx&oh=b4e535c62864baaa6a3e975576d0dc24&oe=5EB75ABA']\"]",
           "action_handle_send_link_only"
          ],
          [
           "Báo giá giúp mình",
           "Sản phẩm  BẢNG VẼ HOLLA 2 in 1  hiện shop đang có giá: 830,000 VND (giá gốc 1,090,000 VND).\nBạn tham khảo các sản phẩm sau nhé ạ:\n<show sp>",
           "query_knowledge_base",
           "['attribute:price']",
           "action_query_babe_kb"
          ],
          [
           "Gồm bảng, ghế và gì nữa ko shop",
           null,
           "query_knowledge_base",
           "['attribute:accessories']",
           "action_query_babe_kb"
          ],
          [
           "https://scontent.xx.fbcdn.net/v/t1.15752-9/92871283_242693100205365_8753955467434131456_n.jpg?_nc_cat=109&_nc_sid=b96e70&_nc_ohc=W1Vc84SDPpoAX9EiTsC&_nc_ad=z-m&_nc_cid=0&_nc_zor=9&_nc_ht=scontent.xx&oh=81d08ed8c54590679c062ba3cf4be944&oe=5EB65EBB",
           "Sản phẩm  BẢNG VẼ HOLLA 2 in 1 bao gồm các phụ kiện sau: bộ chữ, bộ số và bút nước ạ\nBạn tham khảo sản phẩm sau nhé ạ:\n<show sp>",
           "send_link",
           "[\"url:['https://scontent.xx.fbcdn.net/v/t1.15752-9/92871283_242693100205365_8753955467434131456_n.jpg?_nc_cat=109&_nc_sid=b96e70&_nc_ohc=W1Vc84SDPpoAX9EiTsC&_nc_ad=z-m&_nc_cid=0&_nc_zor=9&_nc_ht=scontent.xx&oh=81d08ed8c54590679c062ba3cf4be944&oe=5EB65EBB']\"]",
           "action_handle_send_link_only"
          ],
          [
           "Mình có bảng vẽ đa năng cho bé mà k đi liền với ghế k ạ?",
           "Sản phẩm bảng vẽ mà không đi liền với ghế hiện shop có những sản phẩm sau mời bạn tham khảo:\n<sp1><sp2><sp3>",
           "query_knowledge_base",
           "['aobject_type:bang_ve']",
           "action_query_babe_kb"
          ],
          [
           "Mẫu cầu trượt này báo giá giúp e nhé",
           null,
           "query_knowledge_base",
           "['object_type:cau_truot', 'mention:này', 'attribute:price']",
           "action_query_babe_kb"
          ],
          [
           "https://scontent.xx.fbcdn.net/v/t1.15752-9/92989817_2941090232617285_7762728477815472128_n.jpg?_nc_cat=109&_nc_sid=b96e70&_nc_ohc=15xhgRV8HgAAX9q4suE&_nc_ad=z-m&_nc_cid=0&_nc_zor=9&_nc_ht=scontent.xx&oh=ba92c28af571898e3d200043dab41de7&oe=5EB61F06",
           "Sản phẩm  cầu trượt  hiện shop đang có giá: 830,000 VND (giá gốc 1,090,000 VND).\nBạn tham khảo sản phẩm sau nhé ạ:\n<show sp>",
           "send_link",
           "[\"url:['https://scontent.xx.fbcdn.net/v/t1.15752-9/92989817_2941090232617285_7762728477815472128_n.jpg?_nc_cat=109&_nc_sid=b96e70&_nc_ohc=15xhgRV8HgAAX9q4suE&_nc_ad=z-m&_nc_cid=0&_nc_zor=9&_nc_ht=scontent.xx&oh=ba92c28af571898e3d200043dab41de7&oe=5EB61F06']\"]",
           "action_handle_send_link_only"
          ],
          [
           "Dùng cho bé bao tháng ạ",
           "Cầu trượt có độ tuổi sử dụng 0-36 tháng \nBạn tham khảo sản phẩm sau nhé ạ:\n<show sp>",
           "query_knowledge_base",
           "['attribute:age_of_use']",
           "action_query_babe_kb"
          ],
          [
           "Báo giá giúp mình bảng vẽ Hola nhé\n1 bộ bao gồm những gì nhỉ",
           "Sản phẩm  BẢNG VẼ HOLLA 2 in 1  hiện shop đang có giá: 830,000 VND (giá gốc 1,090,000 VND).\nSản phẩm BẢNG VẼ HOLLA 2 in 1 bao gồm các phụ kiện sau: bộ chữ, bộ số và bút nước ạ Bạn tham khảo sản phẩm sau nhé ạ:\n <show sp>",
           "query_knowledge_base",
           "['attribute:price','object_type:bang_ve','brand:hola','attribute:accessories']",
           "action_query_babe_kb"
          ],
          [
           "https://scontent.xx.fbcdn.net/v/t1.15752-9/92548082_214955003273973_3799894782386372608_n.jpg?_nc_cat=106&_nc_sid=b96e70&_nc_ohc=ECkHH-pZ5eQAX9wxG23&_nc_ad=z-m&_nc_cid=0&_nc_zor=9&_nc_ht=scontent.xx&oh=26d86b32b83f4722329ebda411b1b8b7&oe=5EB87673",
           null,
           "send_link",
           "[\"url:['https://scontent.xx.fbcdn.net/v/t1.15752-9/92548082_214955003273973_3799894782386372608_n.jpg?_nc_cat=106&_nc_sid=b96e70&_nc_ohc=ECkHH-pZ5eQAX9wxG23&_nc_ad=z-m&_nc_cid=0&_nc_zor=9&_nc_ht=scontent.xx&oh=26d86b32b83f4722329ebda411b1b8b7&oe=5EB87673']\"]",
           "action_handle_send_link_only"
          ],
          [
           "có trên shopee không shop",
           "Mời bạn tham khảo link shopee của sản phẩm:\n<show card sp>",
           "query_knowledge_base",
           "['attribute:link']",
           "action_query_babe_kb"
          ],
          [
           "Cho m xem màu",
           "Mình chưa xác định được món đồ bạn hỏi, bạn mô tả rõ hơn giúp mình nhé!",
           "query_knowledge_base",
           "['attribute:color']",
           "action_query_babe_kb"
          ],
          [
           "Ghế ăn dặm newber ạ",
           "Dạ, sản phẩm Ghế Ăn hãng sản xuất Newber hiện tại đang có các màu sau ạ : hồng, xanh\nBạn tham khảo sản phẩm sau nhé ạ:\n <show sp>",
           "query_knowledge_base",
           "['object_type:ghe_an', 'brand:newber']",
           "action_query_babe_kb"
          ],
          [
           "bé bao tuổi thì ngồi được ạ",
           "Ghế Ăn hãng sản xuất Newber có độ tuổi sử dụng 0-36 tháng \nBạn tham khảo sản phẩm sau nhé ạ:\n<show sp>",
           "query_knowledge_base",
           "['attribute:age_of_use']",
           "action_query_babe_kb"
          ],
          [
           "https://scontent.xx.fbcdn.net/v/t1.15752-9/92131879_1387552388082877_713343700784119808_n.jpg?_nc_cat=104&_nc_sid=b96e70&_nc_ohc=kFnxhSTxRVAAX_9rX3-&_nc_ad=z-m&_nc_cid=0&_nc_zor=9&_nc_ht=scontent.xx&oh=40adffc887ec99df20f0b2a16bf88371&oe=5EB60C83",
           "Bạn đang tìm kiếm thông tin gì ạ?",
           "send_link",
           "[\"url:['https://scontent.xx.fbcdn.net/v/t1.15752-9/92131879_1387552388082877_713343700784119808_n.jpg?_nc_cat=104&_nc_sid=b96e70&_nc_ohc=kFnxhSTxRVAAX_9rX3-&_nc_ad=z-m&_nc_cid=0&_nc_zor=9&_nc_ht=scontent.xx&oh=40adffc887ec99df20f0b2a16bf88371&oe=5EB60C83']\"]",
           "action_handle_send_link_only"
          ],
          [
           "Bản cho bé 2 tuoi bao nh ạ",
           "Sản phẩm BẢNG VẼ HOLLA 2 in 1 hiện shop đang có giá: *830,000 VND (giá gốc 1,090,000 VND)*.\r\nBạn tham khảo các sản phẩm sau nhé ạ:",
           "query_knowledge_base",
           "['age_of_use:2 tuoi', 'attribute:price']",
           "action_query_babe_kb"
          ],
          [
           "ok shop",
           "Dạ,vâng",
           "agree",
           null,
           "utter_agree"
          ],
          [
           "Bạn ơi ship cho mình 1 thanh chắn cửa và 1 thanh nối 12cm nhé",
           "\"Cảm ơn bạn! Bạn vui lòng điền thông tin vào Mẫu đặt hàng giúp shop nhé!\n<Show ra cái bảng mẫu đặt hàng: có tên sản phẩm, cho khách tùy chọn số lượng, màu sắc...>\"\n<xác nhận> <hủy>",
           "query_knowledge_base",
           "['object_type:thanh_chan_cua','object_type:thanh_noi','attribute:ship'size:12cm]",
           null
          ],
          [
           null,
           "Bạn đã đặt hàng thành công , đơn hàng sẽ đc gioa đến 434 TKC trong khoảng 24 h ạ",
           "agree",
           null,
           "action_query_babe_kb"
          ],
          [
           "bạn ơi",
           "Chào bạn, mình là trợ lý ảo của Shop Gấu & Bí Ngô, mình giúp gì được bạn ạ?",
           "greet",
           null,
           "utter_greet"
          ],
          [
           "shop ơi mình cần mua váy vắt sửa\nsưa",
           "Hiện tại sản phẩm máy hút sữa shop đang có những giá sau ạ:\n<500-1M> <1M-2M> <Tất cả giá>",
           "query_knowledge_base",
           "['object_type:may_hut_sua']",
           "action_query_babe_kb"
          ],
          [
           "/query_knowledge_base{\"price\": \"1M - 2M\"}\t",
           "Mời bạn click vào \"Xem chi tiết\" để tham khảo sản phẩm hiện có tại shop nhé!\r\n<card sp 1> <card sp 2> <card sp 3>",
           "query_knowledge_base",
           null,
           "action_query_babe_kb"
          ],
          [
           "Alo",
           "Chào bạn, mình là trợ lý ảo của Shop Gấu & Bí Ngô, mình giúp gì được bạn ạ?",
           "greet",
           null,
           "utter_greet"
          ],
          [
           "https://scontent.xx.fbcdn.net/v/t1.15752-9/93049506_230567204722153_3091303153677631488_n.jpg?_nc_cat=101&_nc_sid=b96e70&_nc_ohc=U5aAIvE1cnoAX-OQDkx&_nc_ad=z-m&_nc_cid=0&_nc_zor=9&_nc_ht=scontent.xx&oh=f0e42a84100aba274a52478c37af6d52&oe=5EB6C3EE",
           "Bạn đang tìm kiếm thông tin gì ạ?",
           "send_link",
           "[\"url:['https://scontent.xx.fbcdn.net/v/t1.15752-9/93049506_230567204722153_3091303153677631488_n.jpg?_nc_cat=101&_nc_sid=b96e70&_nc_ohc=U5aAIvE1cnoAX-OQDkx&_nc_ad=z-m&_nc_cid=0&_nc_zor=9&_nc_ht=scontent.xx&oh=f0e42a84100aba274a52478c37af6d52&oe=5EB6C3EE']\"]",
           "action_handle_send_link_only"
          ],
          [
           "Đăng shopee chưa",
           "Mời bạn tham khảo link shopee của sản phẩm:\n<show card sp>",
           "action_query_babe_kb",
           "['attribute:link']",
           "action_query_babe_kb"
          ],
          [
           "Alo",
           "Chào bạn, mình là trợ lý ảo của Shop Gấu & Bí Ngô, mình giúp gì được bạn ạ?",
           "greet",
           null,
           "utter_greet"
          ],
          [
           "https://scontent.xx.fbcdn.net/v/t1.15752-9/93049506_230567204722153_3091303153677631488_n.jpg?_nc_cat=101&_nc_sid=b96e70&_nc_ohc=U5aAIvE1cnoAX-OQDkx&_nc_ad=z-m&_nc_cid=0&_nc_zor=9&_nc_ht=scontent.xx&oh=f0e42a84100aba274a52478c37af6d52&oe=5EB6C3EE",
           null,
           "send_link",
           "[\"url:['https://scontent.xx.fbcdn.net/v/t1.15752-9/93049506_230567204722153_3091303153677631488_n.jpg?_nc_cat=101&_nc_sid=b96e70&_nc_ohc=U5aAIvE1cnoAX-OQDkx&_nc_ad=z-m&_nc_cid=0&_nc_zor=9&_nc_ht=scontent.xx&oh=f0e42a84100aba274a52478c37af6d52&oe=5EB6C3EE']\"]",
           "action_handle_send_link_only"
          ],
          [
           "Đăng shopee chưa",
           "Sản phẩm Bộ đồ chơi nhà bếp thông minh hiện chưa có link shopee ạ",
           "query_knowledge_base",
           "['attribute:link']",
           "action_query_babe_kb"
          ],
          [
           "Bao giờ đăng lên thì thông báo mình nhé để mình đặt hàng",
           "Dạ,vâng ạ",
           "query_knowledge_base",
           null,
           "action_query_babe_kb"
          ],
          [
           "b ơi cho mình hỏi chút\nbên mình có quây k k ạ",
           "Sản phẩm  Quây  hiện shop đang có giá: *1,440,000 VND (giá gốc 1,490,000 VND), 1,040,000 VND (giá gốc 1,290,000 VND), 1,340,000 VND (giá gốc 1,390,000 VND)*.\nBạn tham khảo các sản phẩm sau nhé ạ:",
           "query_knowledge_base",
           "['object_type:quay']",
           "action_query_babe_kb"
          ],
          [
           "mẫu này kt bn hả b",
           "Mình chưa xác định được món đồ bạn hỏi, bạn mô tả rõ hơn giúp mình nhé!",
           "query_knowledge_base",
           "['mention:mẫu này', 'attribute:size']",
           "action_query_babe_kb"
          ],
          [
           "https://scontent.xx.fbcdn.net/v/t1.15752-9/92319989_243079400401587_6154261374332567552_n.jpg?_nc_cat=102&_nc_sid=b96e70&_nc_ohc=YkHJKwU8VpUAX-Gwl3X&_nc_ad=z-m&_nc_cid=0&_nc_zor=9&_nc_ht=scontent.xx&oh=80ff0124dbde1098c7a2bee69d87cac8&oe=5EB719F6",
           "Sản phẩm  COMBO HOLLA LIÊN HOÀN 2020 hiện shop đang có kích thước: *1.8x2M*.\nBạn tham khảo sản phẩm sau nhé ạ:\n<show card sp>",
           "send_link",
           "[\"url:['https://scontent.xx.fbcdn.net/v/t1.15752-9/92319989_243079400401587_6154261374332567552_n.jpg?_nc_cat=102&_nc_sid=b96e70&_nc_ohc=YkHJKwU8VpUAX-Gwl3X&_nc_ad=z-m&_nc_cid=0&_nc_zor=9&_nc_ht=scontent.xx&oh=80ff0124dbde1098c7a2bee69d87cac8&oe=5EB719F6']\"]",
           "action_handle_send_link_only"
          ],
          [
           "mai ship mình bộ này b nhé\n",
           "Cho shop xin thông tin ạ ( địa chỉ , số điện thoại)",
           "query_knowledge_base",
           "['mention:bộ này']",
           "action_query_babe_kb"
          ],
          [
           "434 trần khát chân, hai bà trưng\nsđt:113",
           "Thông tin đơn hàng \n( ng nhận: tên fb, tên sản phẩm, số lượng, thuộc tính, giá trị sản phẩm , phí ship và tổng giá trị  đơn hàng)\n<xác nhận><hủy bỏ>",
           "query_knowledge_base",
           null,
           "action_query_babe_kb"
          ],
          [
           "<xác nhận>",
           "Cám ơn bạn đã mua hàng tại shop, đơn hàng sẽ được giao đến 434 trần khát chân, 2 bà trưng trong khoảng 24 h ",
           "agree",
           null,
           null
          ],
          [
           "bạn ơi",
           "Chào bạn, mình là trợ lý ảo của Shop Gấu & Bí Ngô, mình giúp gì được bạn ạ?",
           "greet",
           null,
           "utter_greet"
          ],
          [
           "cho e hỏi shop mình còn ghế ăn dặm loại này k ạ\nhttps://scontent.xx.fbcdn.net/v/t1.15752-9/92664877_857284874739536_7878532899333472256_n.png?_nc_cat=100&_nc_sid=b96e70&_nc_ohc=8hyz8A1A7kIAX8Zqi8Z&_nc_ad=z-m&_nc_cid=0&_nc_zor=9&_nc_ht=scontent.xx&oh=bbbcb24217efa1a016291a04e3c6a380&oe=5EB66428",
           "Sản phẩm  Ghế cao đa năng Mastela 1015  hiện shop đang có giá: 1320000 VND (giá gốc 2000000 VND).\nBạn tham khảo các sản phẩm sau nhé ạ:\n<show sp>",
           "query_knowledge_base",
           "[\"url:['https://scontent.xx.fbcdn.net/v/t1.15752-9/92664877_857284874739536_7878532899333472256_n.png?_nc_cat=100&_nc_sid=b96e70&_nc_ohc=8hyz8A1A7kIAX8Zqi8Z&_nc_ad=z-m&_nc_cid=0&_nc_zor=9&_nc_ht=scontent.xx&oh=bbbcb24217efa1a016291a04e3c6a380&oe=5EB66428']\", 'object_type:ghe_an', 'mention:loại này']",
           "action_query_babe_kb"
          ],
          [
           "thank shop",
           "Dạ vâng ạ.",
           "thank",
           null,
           "utter_thank"
          ],
          [
           "Alo\nhttps://scontent.xx.fbcdn.net/v/t1.15752-9/93277960_579821402741160_1239001299282821120_n.jpg?_nc_cat=100&_nc_sid=b96e70&_nc_ohc=d8OxiZOFC3UAX9Yvec0&_nc_ad=z-m&_nc_cid=0&_nc_zor=9&_nc_ht=scontent.xx&oh=6602df45fb9482936f8daa0e6f2fe356&oe=5EB6D3C7",
           "Chào bạn, mình là trợ lý ảo của Shop Gấu & Bí Ngô, mình giúp gì được bạn ạ?",
           "greet",
           "[\"url:['https://scontent.xx.fbcdn.net/v/t1.15752-9/93277960_579821402741160_1239001299282821120_n.jpg?_nc_cat=100&_nc_sid=b96e70&_nc_ohc=d8OxiZOFC3UAX9Yvec0&_nc_ad=z-m&_nc_cid=0&_nc_zor=9&_nc_ht=scontent.xx&oh=6602df45fb9482936f8daa0e6f2fe356&oe=5EB6D3C7']\"]",
           "utter_greet"
          ],
          [
           "Mua le dc k shop",
           "Quây góc vuông cánh nhỏ hình ngôi nhà toyhouse là sản phẩm bán lẻ hiện đang có giá 1.090.000 - ₫1.250.000\n (giá gốc 290.000 - ₫1.390.000)\nBạn tham khảo các sản phẩm sau nhé ạ:\n<show sp>",
           "query_knowledge_base",
           "[]",
           "action_query_babe_kb"
          ],
          [
           "Ship Thạch Bnaf, LB phí bnhieu b",
           "Ship thạch bàn , long biên trong nội thành hà nội hết khoảng 30-40 k ạ",
           "query_knowledge_base",
           "[]",
           "action_handover_to_inbox"
          ],
          [
           "Shop cho e hỏi bộ đồ chơi cho bé này có to ko ạ. Bé đứng với tới ko ạ. Do nhìn qua hình nên ko hình dung dc kích cỡ thế nào",
           "Mình chưa xác định được món đồ bạn hỏi, bạn mô tả rõ hơn giúp mình nhé!",
           "query_knowledge_base",
           "['attribute:size']",
           "action_query_babe_kb"
          ],
          [
           "https://scontent.xx.fbcdn.net/v/t1.15752-9/92484517_1949098825215067_9094653464721489920_n.jpg?_nc_cat=107&_nc_sid=b96e70&_nc_ohc=vtrowuM_cxgAX9BfUVc&_nc_ad=z-m&_nc_cid=0&_nc_zor=9&_nc_ht=scontent.xx&oh=fb8bb0f890ad2e441ac229831652b030&oe=5EB3F743",
           "Sản phẩm  Bộ đồ chơi nhà bếp thông minh có kích thước: 57x30x77cm và 51x32x100cm\nBạn tham khảo các sản phẩm sau nhé ạ:\n<Show card cuối cùng>",
           "send_link",
           "[\"url:['https://scontent.xx.fbcdn.net/v/t1.15752-9/92484517_1949098825215067_9094653464721489920_n.jpg?_nc_cat=107&_nc_sid=b96e70&_nc_ohc=vtrowuM_cxgAX9BfUVc&_nc_ad=z-m&_nc_cid=0&_nc_zor=9&_nc_ht=scontent.xx&oh=fb8bb0f890ad2e441ac229831652b030&oe=5EB3F743']\"]",
           "action_handle_send_link_only\n"
          ],
          [
           "cám ơn shop",
           null,
           "thank",
           null,
           "utter_thank"
          ],
          [
           "hello",
           "Chào bạn, mình là trợ lý ảo của Shop Gấu & Bí Ngô, mình giúp gì được bạn ạ?",
           "greet",
           null,
           "utter_greet"
          ],
          [
           "ghế ăn dặm",
           "Hiện tại sản phẩm Ghế Ăn  shop đang có những *giá* sau ạ:",
           "query_knowledge_base",
           "['object_type:ghe_an']",
           "action_query_babe_kb"
          ],
          [
           "/confirm_attribute_value{\"price\": \"500k - 1M\"}",
           "Dạ mời bạn tham khảo các loại sản phẩm hiện có tại shop nhé!",
           "confirm_attribute_value",
           "['price:500k - 1M']",
           "action_query_babe_kb"
          ],
          [
           "Vậy xe scotter còn k ạ\nLoại có ư bánh trc ạ",
           "Mời bạn tham khảo các Xe Scooter shop đang có ạ:\n<Show card xe scooter>",
           "query_knowledge_base",
           "['object_type:xe', 'brand:scotter']",
           "action_query_babe_kb"
          ],
          [
           "https://scontent.xx.fbcdn.net/v/t1.15752-9/92430207_618936155615605_8144463878298796032_n.jpg?_nc_cat=111&_nc_sid=b96e70&_nc_ohc=uE0sZhyAuPYAX9fUicW&_nc_ad=z-m&_nc_cid=0&_nc_zor=9&_nc_ht=scontent.xx&oh=3b3036f8632df7eedeffd0fc87e64692&oe=5EB2C515",
           "Bạn đang tìm kiếm thông tin gì ạ?",
           "send_link",
           "[\"url:['https://scontent.xx.fbcdn.net/v/t1.15752-9/92430207_618936155615605_8144463878298796032_n.jpg?_nc_cat=111&_nc_sid=b96e70&_nc_ohc=uE0sZhyAuPYAX9fUicW&_nc_ad=z-m&_nc_cid=0&_nc_zor=9&_nc_ht=scontent.xx&oh=3b3036f8632df7eedeffd0fc87e64692&oe=5EB2C515']\"]",
           "action_handle_send_link_only"
          ],
          [
           "Shop co bán goi nay kg ạ?",
           "Sản phẩm bạn vừa gửi shop không có hàng, hiện tại shop có các loại Gối sau:\n<show random card 5 cái gối>",
           "query_knowledge_base",
           "['object_type:goi', 'mention:nay']",
           "action_query_babe_kb"
          ],
          [
           "shop ơi",
           "Chào bạn, mình là trợ lý ảo của Shop Gấu & Bí Ngô, mình giúp gì được bạn ạ?",
           "greet",
           null,
           "utter_greet"
          ],
          [
           "Bộ này bao nhiêu vậy bạn?\nhttps://scontent.xx.fbcdn.net/v/t1.15752-9/92392502_563581274279413_911273699502456832_n.jpg?_nc_cat=101&_nc_sid=b96e70&_nc_ohc=LK2HVorNH4kAX-hOqZU&_nc_ad=z-m&_nc_cid=0&_nc_zor=9&_nc_ht=scontent.xx&oh=6d0970e4a27ab409c251778d49de4648&oe=5EB66188",
           "Sản phẩm  Bộ đồ chơi nhà bếp thông minh  hiện shop đang có giá: 490.000 - 790.000\nBạn tham khảo các sản phẩm sau nhé ạ:\n<Show card cuối cùng>",
           "query_knowledge_base",
           "[\"url:['https://scontent.xx.fbcdn.net/v/t1.15752-9/92392502_563581274279413_911273699502456832_n.jpg?_nc_cat=101&_nc_sid=b96e70&_nc_ohc=LK2HVorNH4kAX-hOqZU&_nc_ad=z-m&_nc_cid=0&_nc_zor=9&_nc_ht=scontent.xx&oh=6d0970e4a27ab409c251778d49de4648&oe=5EB66188']\", 'mention:bộ này', 'attribute:price']",
           "action_query_babe_kb"
          ],
          [
           "ok, thank shop!",
           "Shop cảm ơn bạn ạ.",
           "thank",
           null,
           "utter_thank"
          ],
          [
           "shop ơi",
           "Chào bạn, mình là trợ lý ảo của Shop Gấu & Bí Ngô, mình giúp gì được bạn ạ?",
           "greet",
           null,
           "utter_greet"
          ],
          [
           "Bộ này bao nhiêu vậy bạn?\nhttps://scontent.xx.fbcdn.net/v/t1.15752-9/92392502_563581274279413_911273699502456832_n.jpg?_nc_cat=101&_nc_sid=b96e70&_nc_ohc=LK2HVorNH4kAX-hOqZU&_nc_ad=z-m&_nc_cid=0&_nc_zor=9&_nc_ht=scontent.xx&oh=6d0970e4a27ab409c251778d49de4648&oe=5EB66188",
           "Sản phẩm  Bộ đồ chơi nhà bếp thông minh  hiện shop đang có giá: 490.000 - 790.000\nBạn tham khảo các sản phẩm sau nhé ạ:\n<Show card cuối cùng>",
           "query_knowledge_base",
           "[\"url:['https://scontent.xx.fbcdn.net/v/t1.15752-9/92392502_563581274279413_911273699502456832_n.jpg?_nc_cat=101&_nc_sid=b96e70&_nc_ohc=LK2HVorNH4kAX-hOqZU&_nc_ad=z-m&_nc_cid=0&_nc_zor=9&_nc_ht=scontent.xx&oh=6d0970e4a27ab409c251778d49de4648&oe=5EB66188']\", 'mention:bộ này', 'attribute:price']",
           "action_query_babe_kb"
          ],
          [
           "cái này có 2 size à shop?",
           "Sản phẩm  Bộ đồ chơi nhà bếp thông minh có kích thước: 57x30x77cm và 51x32x100cm\nBạn tham khảo các sản phẩm sau nhé ạ:\n<Show card cuối cùng>",
           "query_knowledge_base",
           "['mention:cái này', 'attribute:size']",
           "action_query_babe_kb"
          ],
          [
           "ok shop",
           "Vâng ạ!",
           "agree",
           null,
           "utter_agree"
          ],
          [
           "shop ơi",
           "Chào bạn, mình là trợ lý ảo của Shop Gấu & Bí Ngô, mình giúp gì được bạn ạ?",
           "greet",
           null,
           "utter_greet"
          ],
          [
           "Chào shop, shop còn mẫu ghế mastela màu ghi, mã 7330 không\nGiá bao nhiêu",
           "Sản phẩm Ghế ăn nâng hạ độ cao nhựa Mastela 07330/07331 màu ghi hiện đang có giá: 490.000 (Giá gốc: 639.000).\n<Show card>",
           "query_knowledge_base",
           "['object_type:ghe', 'brand:mastela', 'color:màu ghi', 'attribute:price', 'code:7330']",
           "action_query_babe_kb"
          ],
          [
           "Mình cần gấp, shop ship luôn cho mình nhé.",
           "Cảm ơn bạn! Bạn vui lòng điền thông tin vào Mẫu đặt hàng giúp shop nhé!\n<Show ra cái bảng mẫu đặt hàng: có tên sản phẩm, cho khách tùy chọn số lượng, màu sắc...>",
           "make_order",
           null,
           "action_make_order"
          ],
          [
           "https://scontent.xx.fbcdn.net/v/t1.15752-9/91106339_504681633742206_788347577962594304_n.jpg?_nc_cat=101&_nc_sid=b96e70&_nc_oc=AQkpdwlzm_mTmrlmOvdESGIDOUEFrWujbD-83rE4K6ox1kluGcnfS6n-PsbADXsmCzsphR9NWY-7rsS1btzeL5vr&_nc_ad=z-m&_nc_cid=0&_nc_zor=9&_nc_ht=scontent.xx&oh=911eee54169aeab013d04631dc885161&oe=5EA68BE0",
           "Bạn đang tìm kiếm thông tin gì ạ?",
           "send_link",
           "[\"url:['https://scontent.xx.fbcdn.net/v/t1.15752-9/91106339_504681633742206_788347577962594304_n.jpg?_nc_cat=101&_nc_sid=b96e70&_nc_oc=AQkpdwlzm_mTmrlmOvdESGIDOUEFrWujbD-83rE4K6ox1kluGcnfS6n-PsbADXsmCzsphR9NWY-7rsS1btzeL5vr&_nc_ad=z-m&_nc_cid=0&_nc_zor=9&_nc_ht=scontent.xx&oh=911eee54169aeab013d04631dc885161&oe=5EA68BE0']\"]",
           "action_handle_send_link_only"
          ],
          [
           "Bnhiu v shop",
           "Dạ, có phải bạn muốn hỏi một trong các sản phẩm dưới đây không ạ?\n (Vui lòng ấn chọn 1 sản phẩm)\n\n<show 5 card sản phẩm>",
           "query_knowledge_base",
           "['attribute:price']",
           "action_query_babe_kb"
          ],
          [
           "Cái thứ 2\n",
           "Mời bạn tham khảo sản phẩm Voi Jumbo thả hình khối Bkids Infantino:\n<show card>",
           null,
           "['mention:2']",
           "action_query_babe_kb"
          ],
          [
           "ok shop",
           "Dạ vâng ạ!",
           "agree",
           null,
           "utter_agree"
          ],
          [
           "shop ơi",
           "Chào bạn, mình là trợ lý ảo của Shop Gấu & Bí Ngô, mình giúp gì được bạn ạ?",
           "greet",
           null,
           "utter_greet"
          ],
          [
           "https://scontent.xx.fbcdn.net/v/t1.15752-9/91195826_498480424370303_2420395967455952896_n.jpg?_nc_cat=106&_nc_sid=b96e70&_nc_ohc=xbapPlP7xmIAX_VXW-N&_nc_ad=z-m&_nc_cid=0&_nc_zor=9&_nc_ht=scontent.xx&oh=9659d65beb602c42382325bcb6359a57&oe=5EA77EEF",
           "Bạn đang tìm kiếm thông tin gì ạ?",
           "send_link",
           "[\"url:['https://scontent.xx.fbcdn.net/v/t1.15752-9/91195826_498480424370303_2420395967455952896_n.jpg?_nc_cat=106&_nc_sid=b96e70&_nc_ohc=xbapPlP7xmIAX_VXW-N&_nc_ad=z-m&_nc_cid=0&_nc_zor=9&_nc_ht=scontent.xx&oh=9659d65beb602c42382325bcb6359a57&oe=5EA77EEF']\"]",
           "action_handle_send_link_only"
          ],
          [
           "B có sẵn thanh chắn giường này ko?",
           "Sản phẩm Thanh chắn giường cao cấp dạng trượt Umoo chính hãng đang có giá: 500.000 (Giá gốc: 610.000).\nMời bạn xem sản phẩm tại link:\n<Show card>",
           "query_knowledge_base",
           "['object_type:thanh_chan_giuong']",
           "action_query_babe_kb"
          ],
          [
           "loại này có những kích thước nào shop nhỉ?",
           "Sản phẩm Thanh chắn giường cao cấp dạng trượt Umoo chính hãng có các kích thước: 1m6, 1m8, 2m, 2m2.",
           "query_knowledge_base",
           "['mention:loại này', 'attribute:size']",
           "action_query_babe_kb"
          ],
          [
           "ok shop, cho mình đặt thanh loại 2m2 nhé.",
           "Cảm ơn bạn! Bạn vui lòng điền thông tin vào Mẫu đặt hàng giúp shop nhé!\n<Show ra cái bảng mẫu đặt hàng: có tên sản phẩm, cho khách tùy chọn số lượng, màu sắc...>",
           "make_order",
           "['size:loại 2m2']",
           "action_make_order"
          ],
          [
           "hi shop",
           "Chào bạn, mình là trợ lý ảo của Shop Gấu & Bí Ngô, mình giúp gì được bạn ạ?",
           "greet",
           null,
           "utter_greet"
          ],
          [
           "chị muốn hỏi giá cũi vải greco\nvà jolie",
           "Dạ, sản phẩm Giuong hãng sản xuất Jolie, chất liệu Vải bên shop hiện tại không có ạ. Bạn tham khảo các sản phẩm khác dành cho bé nhé!",
           "query_knowledge_base",
           "['attribute:price', 'object_type:giuong', 'material:vải', 'brand:greco', 'brand:jolie']",
           "action_query_babe_kb"
          ],
          [
           "/query_knowledge_base{\"brand\": \"Graco\"}",
           "Hiện tại sản phẩm Giuong hãng sản xuất Graco shop đang có những *giá* sau ạ:",
           "query_knowledge_base",
           "['brand:Graco']",
           "action_query_babe_kb"
          ],
          [
           "/query_knowledge_base{\"price\": \"2M - 5M\"}",
           "Sản phẩm  Giuong hãng sản xuất Graco, giá 2m - 5m hiện shop đang có giá: *5,000,000 VND, 2,900,000 VND*.\nBạn tham khảo các sản phẩm sau nhé ạ:",
           "query_knowledge_base",
           "['price:2M - 5M']",
           "action_query_babe_kb"
          ],
          [
           "2 cái khác gì nhau",
           "Bạn có thể nói với tôi theo 1 cách khác được không?",
           "handover_to_inbox",
           "[]",
           "utter_ask_rephrase"
          ],
          [
           "Chào shop\nMình quan tâm tới các sp này\nhttps://scontent.xx.fbcdn.net/v/t1.15752-9/91466198_244084896638357_7080438687661555712_n.jpg?_nc_cat=105&_nc_sid=b96e70&_nc_ohc=wyoTyMF_RSAAX9EbI1K&_nc_ad=z-m&_nc_cid=0&_nc_zor=9&_nc_ht=scontent.xx&oh=8d9617825e55509c74ce414b631e8d2e&oe=5EA469BA\nhttps://scontent.xx.fbcdn.net/v/t1.15752-9/91129214_149488453070304_6848237731844194304_n.jpg?_nc_cat=104&_nc_sid=b96e70&_nc_ohc=tMwYM6FZaVgAX_t9wGA&_nc_ad=z-m&_nc_cid=0&_nc_zor=9&_nc_ht=scontent.xx&oh=c169a5f865873b3923ef31fb69aea543&oe=5EA66692\nhttps://scontent.xx.fbcdn.net/v/t1.15752-9/91613067_640564659835802_8379030837110243328_n.jpg?_nc_cat=109&_nc_sid=b96e70&_nc_ohc=xYnCKgjShPcAX-8TQ54&_nc_ad=z-m&_nc_cid=0&_nc_zor=9&_nc_ht=scontent.xx&oh=7e1dcf9d72a2a4ba315f7a04a51fd287&oe=5EA4BE04\nhttps://scontent.xx.fbcdn.net/v/t1.15752-9/91721715_152379149397342_2808027185510612992_n.jpg?_nc_cat=101&_nc_sid=b96e70&_nc_ohc=l2cBoqQ6R1cAX-2E99z&_nc_ad=z-m&_nc_cid=0&_nc_zor=9&_nc_ht=scontent.xx&oh=410bcc1db19f63270645d1e28ee6726e&oe=5EA7D330\nBạn báo giá nhé\nBé nhà mình 2tuổi",
           "Mời bạn tham khảo các sản phẩm:\n<Show 4 cards tương ứng 4 sản phẩm gửi ảnh>\n<Kỳ vọng gửi đi đc cả 4 ảnh, CV đọc 4 ảnh và trả về chuẩn 4 card>",
           "greet\nquery_knowledge_base",
           "[\"url:['https://scontent.xx.fbcdn.net/v/t1.15752-9/91721715_152379149397342_2808027185510612992_n.jpg?_nc_cat=101&_nc_sid=b96e70&_nc_ohc=l2cBoqQ6R1cAX-2E99z&_nc_ad=z-m&_nc_cid=0&_nc_zor=9&_nc_ht=scontent.xx&oh=410bcc1db19f63270645d1e28ee6726e&oe=5EA7D330', 'https://scontent.xx.fbcdn.net/v/t1.15752-9/91129214_149488453070304_6848237731844194304_n.jpg?_nc_cat=104&_nc_sid=b96e70&_nc_ohc=tMwYM6FZaVgAX_t9wGA&_nc_ad=z-m&_nc_cid=0&_nc_zor=9&_nc_ht=scontent.xx&oh=c169a5f865873b3923ef31fb69aea543&oe=5EA66692', 'https://scontent.xx.fbcdn.net/v/t1.15752-9/91466198_244084896638357_7080438687661555712_n.jpg?_nc_cat=105&_nc_sid=b96e70&_nc_ohc=wyoTyMF_RSAAX9EbI1K&_nc_ad=z-m&_nc_cid=0&_nc_zor=9&_nc_ht=scontent.xx&oh=8d9617825e55509c74ce414b631e8d2e&oe=5EA469BA', 'https://scontent.xx.fbcdn.net/v/t1.15752-9/91613067_640564659835802_8379030837110243328_n.jpg?_nc_cat=109&_nc_sid=b96e70&_nc_ohc=xYnCKgjShPcAX-8TQ54&_nc_ad=z-m&_nc_cid=0&_nc_zor=9&_nc_ht=scontent.xx&oh=7e1dcf9d72a2a4ba315f7a04a51fd287&oe=5EA4BE04']\", 'size:https://scontent.xx.fbcdn.net/v/t1.15752-9/91613067_640564659835802_8379030837110243328_n.jpg?_nc_cat=109&_nc_sid=b96e70&_nc_ohc=xYnCKgjShPcAX-8TQ54&_nc_ad=z-m&_nc_cid=0&_nc_zor=9&_nc_ht=scontent.xx&oh=7e1dcf9d72a2a4ba315f7a04a51fd287&oe=5EA4BE04 https://scontent.xx.fbcdn.net/v/t1.15752-9/91721715_152379149397342_2808027185510612992_n.jpg?_nc_cat=101&_nc_sid=b96e70&_nc_ohc=l2cBoqQ6R1cAX-2E99z&_nc_ad=z-m&_nc_cid=0&_nc_zor=9&_nc_ht=scontent.xx&oh=410bcc1db19f63270645d1e28ee6726e&oe=5EA7D330', 'attribute:price']",
           "action_query_babe_kb"
          ],
          [
           "https://scontent.xx.fbcdn.net/v/t1.15752-9/91116566_291171825206315_2457738113934426112_n.jpg?_nc_cat=111&_nc_sid=b96e70&_nc_oc=AQl0eJdwRKLYDOTb3-7GEEopWEg73tj53KuP5VxJRcvtdD9rcM6ZrFogw5sbRM9s7R-eYHilgr7XsDCjxJ5VauHq&_nc_ad=z-m&_nc_cid=0&_nc_zor=9&_nc_ht=scontent.xx&oh=21cbaa7a85cf4cbf2e946bbc78f7ca73&oe=5EA6F7BA",
           "Bạn đang tìm kiếm thông tin gì ạ?",
           "send_link",
           "[\"url:['https://scontent.xx.fbcdn.net/v/t1.15752-9/91116566_291171825206315_2457738113934426112_n.jpg?_nc_cat=111&_nc_sid=b96e70&_nc_oc=AQl0eJdwRKLYDOTb3-7GEEopWEg73tj53KuP5VxJRcvtdD9rcM6ZrFogw5sbRM9s7R-eYHilgr7XsDCjxJ5VauHq&_nc_ad=z-m&_nc_cid=0&_nc_zor=9&_nc_ht=scontent.xx&oh=21cbaa7a85cf4cbf2e946bbc78f7ca73&oe=5EA6F7BA']\", 'brand:https://scontent.xx.fbcdn.net/v/t1.15752-9/91116566_291171825206315_2457738113934426112_n.jpg?_nc_cat=111&_nc_sid=b96e70&_nc_oc=AQl0eJdwRKLYDOTb3-7GEEopWEg73tj53KuP5VxJRcvtdD9rcM6ZrFogw5sbRM9s7R-eYHilgr7XsDCjxJ5VauHq&_nc_ad=z-m&_nc_cid=0&_nc_zor=9&_nc_ht=scontent.xx&oh=21cbaa7a85cf4cbf2e946bbc78f7ca73&oe=5EA6F7BA']",
           "action_handle_send_link_only"
          ],
          [
           "Shop còn bộ này k ạ",
           "Dạ mời bạn tham khảo sản phẩm hiện có tại shop nhé!\r\n<Show card Bể dựng thành cao Doctor Dolphin>",
           "query_knowledge_base",
           "['mention:bộ này']",
           "action_query_babe_kb"
          ],
          [
           "<Đặt hàng>\n(trên card cuối show thêm nút đặt hàng)",
           "Cảm ơn bạn! Bạn vui lòng điền thông tin vào Mẫu đặt hàng giúp shop nhé!\n<Show ra cái bảng mẫu đặt hàng: có tên sản phẩm, cho khách tùy chọn số lượng, màu sắc...>",
           "make_order",
           null,
           "action_make_order"
          ],
          [
           "alo shop ơi",
           "Chào bạn, mình là ...",
           "greet",
           "[]",
           "utter_greet"
          ],
          [
           "https://www.facebook.com/shopgauvabingo/photos/pcb.2425056854471305/2425056784471312/?type=3&theater\ncon xe này giá bn à shop",
           "Dạ, có phải bạn muốn hỏi một trong các sản phẩm dưới đây không ạ?\n (Vui lòng ấn chọn 1 sản phẩm)\n<Show 5 cards sản phẩm>",
           "send_link",
           "[\"url:['https://www.facebook.com/shopgauvabingo/photos/pcb.2425056854471305/2425056784471312/?type=3&theater']\", 'mention:này', 'attribute:price']",
           "action_handle_send_link_only"
          ],
          [
           "/query_knowledge_base{\"url\": \"https://shopee.vn/product/36371562/3103025341\", \"product_id\": \"https://shopee.vn/product/36371562/3103025341\"}",
           "Sản phẩm  Xe NADLE 3 in 1: Xe đẩy - Chòi chân - Xe đạp  hiện shop đang có giá: 2,650,000 VND (giá gốc 2,650,000 VND), 2,450,000 VND (giá gốc 2,450,000 VND), 1,550,000 VND (giá gốc 2,650,000 VND).\nBạn tham khảo các sản phẩm sau nhé ạ:\n<Show card cuối cùng>",
           "query_knowledge_base",
           "['url:https://shopee.vn/product/36371562/3103025341', 'product_id:https://shopee.vn/product/36371562/3103025341']",
           "action_query_babe_kb"
          ],
          [
           "Ok, thank shop",
           "Cảm ơn bạn!",
           "thank",
           null,
           "utter_thank"
          ],
          [
           "alo shop ơi",
           "Chào bạn, mình là trợ lý ảo của Shop Gấu & Bí Ngô, mình giúp gì được bạn ạ?",
           "greet",
           null,
           "utter_greet"
          ],
          [
           "https://www.facebook.com/shopgauvabingo/photos/pcb.2425056854471305/2425056784471312/?type=3&theater\ncon xe này giá bn à shop",
           "Dạ, có phải bạn muốn hỏi một trong các sản phẩm dưới đây không ạ?\n (Vui lòng ấn chọn 1 sản phẩm)\n<Show 5 cards sản phẩm>",
           "query_knowledge_base",
           "[\"url:['https://www.facebook.com/shopgauvabingo/photos/pcb.2425056854471305/2425056784471312/?type=3&theater']\", 'object_type:xe', 'mention:này', 'attribute:price']",
           "action_query_babe_kb"
          ],
          [
           "/query_knowledge_base{\"url\": \"https://shopee.vn/product/36371562/3103025341\", \"product_id\": \"https://shopee.vn/product/36371562/3103025341\"}",
           "Sản phẩm  Xe NADLE 3 in 1: Xe đẩy - Chòi chân - Xe đạp  hiện shop đang có giá: 2,650,000 VND (giá gốc 2,650,000 VND), 2,450,000 VND (giá gốc 2,450,000 VND), 1,550,000 VND (giá gốc 2,650,000 VND).\nBạn tham khảo các sản phẩm sau nhé ạ:\n<Show card cuối cùng>",
           "query_knowledge_base",
           "['url:https://shopee.vn/product/36371562/3103025341', 'product_id:https://shopee.vn/product/36371562/3103025341']",
           "action_query_babe_kb"
          ],
          [
           "còn màu gì hả bạn?",
           "Sản phẩm  Xe NADLE 3 in 1: Xe đẩy - Chòi chân - Xe đạp  hiện shop đang có các màu sau: Xanh (có đai), Đỏ (có đai), Đỏ (không đai)",
           "query_knowledge_base",
           "['attribute:color']",
           "action_query_babe_kb"
          ],
          [
           "ok shop",
           "Dạ!",
           "agree",
           null,
           "utter_agree"
          ],
          [
           "Shop ơi\nhttps://scontent.xx.fbcdn.net/v/t1.15752-9/89773808_692489661490146_5339680591392538624_n.jpg?_nc_cat=105&_nc_sid=b96e70&_nc_ohc=ZvqAmbeNCDcAX_ojWSp&_nc_ad=z-m&_nc_cid=0&_nc_zor=9&_nc_ht=scontent.xx&oh=f259ba91474851457d3947e495079101&oe=5EA5D0E8\nhttps://scontent.xx.fbcdn.net/v/t1.15752-9/91067797_2528355717402046_3331051973351833600_n.jpg?_nc_cat=100&_nc_sid=b96e70&_nc_ohc=q0UUsoAg19UAX8qVHO-&_nc_ad=z-m&_nc_cid=0&_nc_zor=9&_nc_ht=scontent.xx&oh=4206a21e474b26453ff9330e40fc62f0&oe=5EA7AD1A\nhttps://scontent.xx.fbcdn.net/v/t1.15752-9/90954742_227239561665156_4442812104826683392_n.jpg?_nc_cat=100&_nc_sid=b96e70&_nc_ohc=vWH8Zqo-URUAX_HgG9r&_nc_ad=z-m&_nc_cid=0&_nc_zor=9&_nc_ht=scontent.xx&oh=e190cba193ba23452c3183773cd05f43&oe=5EA50846",
           "Bạn đang tìm kiếm thông tin gì ạ?",
           "send_link",
           "[\"url:['https://scontent.xx.fbcdn.net/v/t1.15752-9/89773808_692489661490146_5339680591392538624_n.jpg?_nc_cat=105&_nc_sid=b96e70&_nc_ohc=ZvqAmbeNCDcAX_ojWSp&_nc_ad=z-m&_nc_cid=0&_nc_zor=9&_nc_ht=scontent.xx&oh=f259ba91474851457d3947e495079101&oe=5EA5D0E8', 'https://scontent.xx.fbcdn.net/v/t1.15752-9/90954742_227239561665156_4442812104826683392_n.jpg?_nc_cat=100&_nc_sid=b96e70&_nc_ohc=vWH8Zqo-URUAX_HgG9r&_nc_ad=z-m&_nc_cid=0&_nc_zor=9&_nc_ht=scontent.xx&oh=e190cba193ba23452c3183773cd05f43&oe=5EA50846', 'https://scontent.xx.fbcdn.net/v/t1.15752-9/91067797_2528355717402046_3331051973351833600_n.jpg?_nc_cat=100&_nc_sid=b96e70&_nc_ohc=q0UUsoAg19UAX8qVHO-&_nc_ad=z-m&_nc_cid=0&_nc_zor=9&_nc_ht=scontent.xx&oh=4206a21e474b26453ff9330e40fc62f0&oe=5EA7AD1A']\"]",
           "action_handle_send_link_only"
          ],
          [
           "Shop còn cầu trưowtn này k ạ",
           "Sản phẩm bạn đang tìm có phải là?",
           "query_knowledge_base",
           "['object_type:cầu trưowtn']",
           "action_query_babe_kb"
          ],
          [
           "/agree{\"object_type\": \"cau_truot\"}",
           "Dạ, sản phẩm Cầu Trượt  bên shop hiện tại không có ạ. Bạn tham khảo các sản phẩm khác dành cho bé nhé!",
           "agree",
           "['object_type:cau_truot']",
           "action_query_babe_kb"
          ],
          [
           "shop ơi",
           "Chào bạn, mình là trợ lý ảo của Shop Gấu & Bí Ngô, mình giúp gì được bạn ạ?",
           "greet",
           "[]",
           "utter_greet"
          ],
          [
           "Mình muốn mua bộ cầu trượt\nGiá tn b",
           "Dạ, sản phẩm Cầu Trượt hiện tại bên shop đang tạm hết hàng ạ. Bạn tham khảo các sản phẩm khác dành cho bé nhé!",
           "query_knowledge_base",
           "['object_type:cau_truot', 'attribute:price']",
           "action_query_babe_kb"
          ],
          [
           "Thank b",
           "- Cảm ơn bạn. Chúc bạn một ngày vui vẻ.",
           "thank",
           "[]",
           "utter_thank"
          ],
          [
           "shop ơi",
           "Cảm ơn bạn!",
           "greet",
           "[]",
           "utter_greet"
          ],
          [
           "Nhà mình có bán cầu trượt riêng k ah",
           "Cầu trượt là sản phẩm bán lẻ hiện đang có giá 1.090.000 - ₫1.250.000\n (giá gốc 290.000 - ₫1.390.000)\nBạn tham khảo các sản phẩm sau nhé ạ:\n<show sp>",
           "query_knowledge_base",
           "['object_type:cau_truot']",
           "action_query_babe_kb"
          ],
          [
           "alo shop ơi",
           "Chào bạn, mình là trợ lý ảo của Shop Gấu & Bí Ngô, mình giúp gì được bạn ạ?",
           "greet",
           "[]",
           "utter_greet"
          ],
          [
           "https://scontent.xx.fbcdn.net/v/t1.15752-9/91593775_635925830596165_5565507927411785728_n.jpg?_nc_cat=104&_nc_sid=b96e70&_nc_ohc=wC7vTKnHo0cAX8Dg2Lo&_nc_ad=z-m&_nc_cid=0&_nc_zor=9&_nc_ht=scontent.xx&oh=910f7a202b2c19c7f15ec65edad7e0c4&oe=5EA4F642",
           "Bạn đang tìm kiếm thông tin gì ạ?",
           "send_link",
           "[\"url:['https://scontent.xx.fbcdn.net/v/t1.15752-9/91593775_635925830596165_5565507927411785728_n.jpg?_nc_cat=104&_nc_sid=b96e70&_nc_ohc=wC7vTKnHo0cAX8Dg2Lo&_nc_ad=z-m&_nc_cid=0&_nc_zor=9&_nc_ht=scontent.xx&oh=910f7a202b2c19c7f15ec65edad7e0c4&oe=5EA4F642']\"]",
           "action_handle_send_link_only"
          ],
          [
           "lều còn ko shop\ngiá bn\ncòn bóng bn",
           "Lều hiện đang có giá 1.090.000 - ₫1.250.000\n (giá gốc 290.000 - ₫1.390.000)\nBạn tham khảo các sản phẩm sau nhé ạ:\n<show sp>\nBóng hiện shop đáng có các sản phẩm sau mời bạn tham khao\n<show sp>",
           "query_knowledge_base",
           "['attribute:price']",
           "action_query_babe_kb"
          ],
          [
           "alo shop ơi",
           "Chào bạn, mình là trợ lý ảo của Shop Gấu & Bí Ngô, mình giúp gì được bạn ạ?",
           "greet",
           null,
           "utter_greet"
          ],
          [
           "https://scontent.xx.fbcdn.net/v/t1.15752-9/90589519_223989032035055_1808774924945326080_n.jpg?_nc_cat=101&_nc_sid=b96e70&_nc_ohc=CaDCGgBG1rEAX97Uw9s&_nc_ad=z-m&_nc_cid=0&_nc_zor=9&_nc_ht=scontent.xx&oh=9dfd4d8d9027dbf47a7e14e2cf5f510d&oe=5EA4D570",
           "Bạn đang tìm kiếm thông tin gì ạ?",
           "send_link",
           "[\"url:['https://scontent.xx.fbcdn.net/v/t1.15752-9/90589519_223989032035055_1808774924945326080_n.jpg?_nc_cat=101&_nc_sid=b96e70&_nc_ohc=CaDCGgBG1rEAX97Uw9s&_nc_ad=z-m&_nc_cid=0&_nc_zor=9&_nc_ht=scontent.xx&oh=9dfd4d8d9027dbf47a7e14e2cf5f510d&oe=5EA4D570']\"]",
           "action_handle_send_link_only"
          ],
          [
           "Mình mua sản phẩm này nha\nGiá sao",
           "Sản phẩm Dàn âm thanh động vật có đèn nhạc Infantino đang có giá 129.000 (giá gốc: 180.000).\n<Show card>",
           "query_knowledge_base",
           "['mention:sản phẩm này', 'attribute:price']",
           "action_query_babe_kb"
          ],
          [
           "alo shop ơi",
           "Chào bạn, mình là trợ lý ảo của Shop Gấu & Bí Ngô, mình giúp gì được bạn ạ?",
           "greet",
           null,
           "utter_greet"
          ],
          [
           "Báo giá mình quây thảm với",
           "Sản phẩm  Quây góc vuông cánh nhỏ hình ngôi nhà chất liệu Nhựa hiện shop đang có giá: 1,040,000 VND (giá gốc 1,290,000 VND), 1,340,000 VND (giá gốc 1,390,000 VND), 1,440,000 VND (giá gốc 1,490,000 VND).\nBạn tham khảo các sản phẩm sau nhé ạ:\n<Show card>",
           "query_knowledge_base",
           "['attribute:price', 'object_type:quay', 'object_type:tham']",
           "action_query_babe_kb"
          ],
          [
           "Cái này có kèm thảm và bóng ko bạn",
           "Sản phẩm  Quây góc vuông cánh nhỏ hình ngôi nhà chất liệu Nhựa không có phụ kiện đi kèm\nBạn tham khảo các sản phẩm sau nhé ạ:\r\n<Show card>",
           "query_knowledge_base",
           "['mention:cái này', 'object_type:tham','object_type:bong']",
           "action_query_babe_kb"
          ],
          [
           "shop ơi",
           "Chào bạn, mình là trợ lý ảo của Shop Gấu & Bí Ngô, mình giúp gì được bạn ạ?",
           "greet",
           null,
           "utter_greet"
          ],
          [
           "minh muốn tìm quây cũi nhựa",
           "Dạ, sản phẩm Quây chất liệu nhựa bên shop hiện tại không có ạ. Bạn tham khảo các sản phẩm khác dành cho bé nhé!",
           "query_knowledge_base",
           "['object_type:quay', 'material:nhựa']",
           "action_query_babe_kb"
          ],
          [
           "ok shop",
           "Vâng ạ!",
           "agree",
           null,
           "utter_agree"
          ],
          [
           "shop ơi",
           "Chào bạn, mình là trợ lý ảo của Shop Gấu & Bí Ngô, mình giúp gì được bạn ạ?",
           "greet",
           null,
           "utter_greet"
          ],
          [
           "minh muốn tìm quây cũi nhựa",
           "Sản phẩm  Quây góc vuông cánh nhỏ hình ngôi nhà chất liệu Nhựa hiện shop đang có giá: 1,040,000 VND (giá gốc 1,290,000 VND), 1,340,000 VND (giá gốc 1,390,000 VND), 1,440,000 VND (giá gốc 1,490,000 VND).\nBạn tham khảo các sản phẩm sau nhé ạ:\n<Show card>",
           "query_knowledge_base",
           "['object_type:quay', 'material:nhựa']",
           "action_query_babe_kb"
          ],
          [
           "hàng có sẵn k shop?",
           "Sản phẩm Quây góc vuông cánh nhỏ hình ngôi nhà hiện shop đang còn hàng ạ!",
           "query_knowledge_base",
           "['availability:có sẵn']",
           "action_query_babe_kb"
          ],
          [
           "ok, cho mình đặt cái đấy nhé",
           "Cảm ơn bạn! Bạn vui lòng điền thông tin vào Mẫu đặt hàng giúp shop nhé!\n<Show ra cái bảng mẫu đặt hàng: có tên sản phẩm, cho khách tùy chọn số lượng, màu sắc...>\n<Các thông tin đã thu thập đc thì tự điền luôn, khách k phải điền nữa>",
           "make_order",
           null,
           "action_make_order"
          ],
          [
           "shop ơi",
           "Chào bạn, mình là trợ lý ảo của Shop Gấu & Bí Ngô, mình giúp gì được bạn ạ?",
           "greet",
           null,
           "utter_greet"
          ],
          [
           "https://scontent.xx.fbcdn.net/v/t1.15752-9/90523406_1646570122151011_7560973767770374144_n.jpg?_nc_cat=111&_nc_sid=b96e70&_nc_ohc=wRDYR9HiDIIAX9EYgXF&_nc_ad=z-m&_nc_cid=0&_nc_zor=9&_nc_ht=scontent.xx&oh=f705d96efc4592690e416d68be5946b9&oe=5EA3003E",
           "Bạn đang tìm kiếm thông tin gì ạ?\n",
           "send_link",
           "[\"url:['https://scontent.xx.fbcdn.net/v/t1.15752-9/90523406_1646570122151011_7560973767770374144_n.jpg?_nc_cat=111&_nc_sid=b96e70&_nc_ohc=wRDYR9HiDIIAX9EYgXF&_nc_ad=z-m&_nc_cid=0&_nc_zor=9&_nc_ht=scontent.xx&oh=f705d96efc4592690e416d68be5946b9&oe=5EA3003E']\"]",
           "action_handle_send_link_only"
          ],
          [
           "Shop bán ghế này ko",
           "Dạ, có phải bạn muốn hỏi một trong các sản phẩm dưới đây không ạ?\r\n (Vui lòng ấn chọn 1 sản phẩm)...",
           "query_knowledge_base",
           "['object_type:ghe', 'mention:này']",
           "action_query_babe_kb"
          ],
          [
           "/disagree{\"object_type\": null}",
           "Bạn vui lòng mô tả rõ mong muốn của bạn hoặc chat với nhân viên tư vấn nhé!",
           "disagree",
           "['object_type:None']",
           "utter_disagree"
          ],
          [
           "/connect_employee",
           null,
           "connect_employee",
           null,
           "action_handover_to_inbox"
          ],
          [
           "shop ơi",
           "Chào bạn, mình là trợ lý ảo của Shop Gấu & Bí Ngô, mình giúp gì được bạn ạ?",
           "greet",
           null,
           "utter_greet"
          ],
          [
           "https://scontent.xx.fbcdn.net/v/t1.15752-9/91209133_2660946144150142_6722210450643091456_n.jpg?_nc_cat=106&_nc_sid=b96e70&_nc_ohc=GJvzldrIJEgAX_t9AzO&_nc_ad=z-m&_nc_cid=0&_nc_zor=9&_nc_ht=scontent.xx&oh=7a2eae7dece74478231f21fa9ca599a0&oe=5EA4DA04",
           "Bạn đang tìm kiếm thông tin gì ạ?",
           "send_link",
           "[\"url:['https://scontent.xx.fbcdn.net/v/t1.15752-9/91209133_2660946144150142_6722210450643091456_n.jpg?_nc_cat=106&_nc_sid=b96e70&_nc_ohc=GJvzldrIJEgAX_t9AzO&_nc_ad=z-m&_nc_cid=0&_nc_zor=9&_nc_ht=scontent.xx&oh=7a2eae7dece74478231f21fa9ca599a0&oe=5EA4DA04']\"]",
           "action_handle_send_link_only"
          ],
          [
           "Mình mún mua bộ voi này\nMà phí ship shoppe tới 300k\nMắc quá b\n:((",
           null,
           "handover_to_inbox",
           "['price:300k']",
           "action_handover_to_inbox"
          ],
          [
           "bạn ơi",
           "Chào bạn, mình là trợ lý ảo của Shop Gấu & Bí Ngô, mình giúp gì được bạn ạ?",
           "greet",
           null,
           "utter_greet"
          ],
          [
           "https://scontent.xx.fbcdn.net/v/t1.15752-9/91189736_2657083197752531_2978518111348588544_n.jpg?_nc_cat=101&_nc_sid=b96e70&_nc_ohc=wn0qcXdkJ20AX8SmfaB&_nc_ad=z-m&_nc_cid=0&_nc_zor=9&_nc_ht=scontent.xx&oh=9071fd4b91cbc296bd63cc7dc7c0c2b9&oe=5EA452A3",
           "Bạn đang tìm kiếm thông tin gì ạ?\r\n",
           "send_link",
           "[\"url:['https://scontent.xx.fbcdn.net/v/t1.15752-9/91189736_2657083197752531_2978518111348588544_n.jpg?_nc_cat=101&_nc_sid=b96e70&_nc_ohc=wn0qcXdkJ20AX8SmfaB&_nc_ad=z-m&_nc_cid=0&_nc_zor=9&_nc_ht=scontent.xx&oh=9071fd4b91cbc296bd63cc7dc7c0c2b9&oe=5EA452A3']\"]",
           "action_handle_send_link_only"
          ],
          [
           "Bộ này còn k ạ",
           "Sản phẩm Voi thả bóng tập đứng có đèn nhạc Bkids Infantino hiện có giá 1.160.000 (Giá gốc: 1.298.000).\n<Show card>",
           "query_knowledge_base",
           "['mention:bộ này']",
           "action_query_babe_kb"
          ],
          [
           "shop ơi",
           "Chào bạn, mình là trợ lý ảo của Shop Gấu & Bí Ngô, mình giúp gì được bạn ạ?",
           "greet",
           "[]",
           "utter_greet"
          ],
          [
           "Cho mình hỏi bên bạn có máy hút sữa Avent hoa tuyết không ạ?",
           "Sản phẩm Máy hút sữa điện đôi Avent Snow (Chính hãng - Cty Vạn An) hãng sản xuất Avent hiện shop đang có giá: *4,990,000 VND (giá gốc 6,950,000 VND)*.\r\nBạn tham khảo các sản phẩm sau nhé ạ:",
           "query_knowledge_base",
           "['object_type:may_hut_sua', 'brand:avent']",
           "action_query_babe_kb"
          ],
          [
           "ok shop",
           "Dạ!",
           "agree",
           null,
           "utter_agree"
          ],
          [
           "shop ơi",
           "Chào bạn, mình là trợ lý ảo của Shop Gấu & Bí Ngô, mình giúp gì được bạn ạ?",
           "greet",
           "[]",
           "utter_greet"
          ],
          [
           "https://scontent.xx.fbcdn.net/v/t1.15752-9/90958526_844348296084999_5556829233025646592_n.jpg?_nc_cat=111&_nc_sid=b96e70&_nc_ohc=nKnFFBK9x4kAX8KAC9k&_nc_ad=z-m&_nc_cid=0&_nc_zor=9&_nc_ht=scontent.xx&oh=aead6e9f0b6ca0e8cf7d7446022ad8a7&oe=5EA4C715",
           "Bạn đang tìm kiếm thông tin gì ạ?",
           "send_link",
           "[\"url:['https://scontent.xx.fbcdn.net/v/t1.15752-9/90958526_844348296084999_5556829233025646592_n.jpg?_nc_cat=111&_nc_sid=b96e70&_nc_ohc=nKnFFBK9x4kAX8KAC9k&_nc_ad=z-m&_nc_cid=0&_nc_zor=9&_nc_ht=scontent.xx&oh=aead6e9f0b6ca0e8cf7d7446022ad8a7&oe=5EA4C715']\"]",
           "action_handle_send_link_only"
          ],
          [
           "Bên mình có medela freestyle like new k ak",
           "Shop không có máy hút sữa thương hiệu Medela, mời bạn tham khảo các sản phẩm máy hút sữa hiện có tại shop nhé:\n<Show card list máy hút sữa đang có>",
           "query_knowledge_base",
           "['brand:medela freestyle']",
           "action_query_babe_kb"
          ],
          [
           "Ok shop",
           "Dạ vâng ạ!",
           "agree",
           null,
           "utter_agree"
          ],
          [
           "shop ơi",
           "Chào bạn, mình là trợ lý ảo của Shop Gấu & Bí Ngô, mình giúp gì được bạn ạ?",
           "greet",
           null,
           "utter_greet"
          ],
          [
           "https://scontent.xx.fbcdn.net/v/t1.15752-9/91397331_873232633088393_7516530623012405248_n.jpg?_nc_cat=102&_nc_sid=b96e70&_nc_ohc=7L9qejTvUzsAX9A87Nc&_nc_ad=z-m&_nc_cid=0&_nc_zor=9&_nc_ht=scontent.xx&oh=5a5f3a23fc9f73f05af3323e7e4d10c9&oe=5EA44E0F",
           "Bạn đang tìm kiếm thông tin gì ạ?\r\n",
           "send_link",
           "[\"url:['https://scontent.xx.fbcdn.net/v/t1.15752-9/91397331_873232633088393_7516530623012405248_n.jpg?_nc_cat=102&_nc_sid=b96e70&_nc_ohc=7L9qejTvUzsAX9A87Nc&_nc_ad=z-m&_nc_cid=0&_nc_zor=9&_nc_ht=scontent.xx&oh=5a5f3a23fc9f73f05af3323e7e4d10c9&oe=5EA44E0F']\"]",
           "action_handle_send_link_only"
          ],
          [
           "Mẫu này giá bn ah",
           "Món đồ bạn cần tìm có phải là:\n<Xe chòi chân> <Xe đẩy> <Không đúng!>",
           "query_knowledge_base",
           "['mention:mẫu này', 'attribute:price']",
           "action_query_babe_kb"
          ],
          [
           "/agree{\"object_type\": \"xe_choi_chan\"}",
           "Sản phẩm  Xe Chòi Chân  hiện shop đang có giá: 499,000 VND (giá gốc 800,000 VND), 580,000 VND (giá gốc 800,000 VND), 699,000 VND (giá gốc 998,000 VND).\nBạn tham khảo các sản phẩm sau nhé ạ:\n<Show card>",
           "confirm_object_type",
           null,
           "action_query_babe_kb"
          ],
          [
           "ok shop, cho mình lấy cái xe Luddy",
           "Cảm ơn bạn! Bạn vui lòng điền thông tin vào Mẫu đặt hàng giúp shop nhé!\n<Show ra cái bảng mẫu đặt hàng: có tên sản phẩm, cho khách tùy chọn số lượng, màu sắc...>\n<Các thông tin đã thu thập đc thì tự điền luôn, khách k phải điền nữa>",
           "make_order",
           "['object_type:xe_choi_chan','brand:Luddy']",
           "action_make_order"
          ],
          [
           "shop ơi",
           "Chào bạn, mình là trợ lý ảo của Shop Gấu & Bí Ngô, mình giúp gì được bạn ạ?",
           "greet",
           null,
           "utter_greet"
          ],
          [
           "Có ship hàng qua Nguyễn Tuân k shop",
           "Shop giao hàng toàn quốc, khách hàng có thể chuyển khoản trước hoặc chọn hình thức thanh toán khi nhận hàng ạ!",
           "ask_ship",
           "['ship:ship', 'location:Nguyễn Tuân']",
           "utter_ship"
          ],
          [
           "vậy ship luôn cho mình Xe chòi chân có bàn đạp cao cấp Motion màu đỏ nhé",
           "Cảm ơn bạn! Bạn vui lòng điền thông tin vào Mẫu đặt hàng giúp shop nhé!\n<Show ra cái bảng mẫu đặt hàng: có tên sản phẩm, cho khách tùy chọn số lượng, màu sắc...>\n<Các thông tin đã thu thập đc thì tự điền luôn, khách k phải điền nữa>",
           "make_order",
           "['ship:ship', 'object_type:xe_choi_chan', 'brand:Motion', 'color:đỏ'",
           "action_make_order"
          ],
          [
           "shop ơi",
           "Chào bạn, mình là trợ lý ảo của Shop Gấu & Bí Ngô, mình giúp gì được bạn ạ?",
           "greet",
           null,
           "utter_greet"
          ],
          [
           "https://scontent.xx.fbcdn.net/v/t1.15752-9/91237420_573063973314379_5752083759176351744_n.jpg?_nc_cat=111&_nc_sid=b96e70&_nc_ohc=awAgMEF9UTYAX-Q_cFX&_nc_ad=z-m&_nc_cid=0&_nc_zor=9&_nc_ht=scontent.xx&oh=fbfffeefdee0fcd2f0dd6ed4ea38d8e6&oe=5EA3382F",
           "Bạn đang tìm kiếm thông tin gì ạ?\r\n",
           "send_link",
           "[\"url:['https://scontent.xx.fbcdn.net/v/t1.15752-9/91237420_573063973314379_5752083759176351744_n.jpg?_nc_cat=111&_nc_sid=b96e70&_nc_ohc=awAgMEF9UTYAX-Q_cFX&_nc_ad=z-m&_nc_cid=0&_nc_zor=9&_nc_ht=scontent.xx&oh=fbfffeefdee0fcd2f0dd6ed4ea38d8e6&oe=5EA3382F']\"]",
           "action_handle_send_link_only"
          ],
          [
           "Gia bao Nhiu shop",
           "Sản phẩm  COMBO HOLLA LIÊN HOÀN 2020 có giá 4.100.000 (Giá gốc: 5.000.000).\n<Show card>",
           "query_knowledge_base",
           "['attribute:price']",
           "action_query_babe_kb"
          ],
          [
           "ok shop",
           "Vâng ạ!",
           "agree",
           null,
           "utter_agree"
          ],
          [
           "shop ơi",
           "Chào bạn, mình là trợ lý ảo của Shop Gấu & Bí Ngô, mình giúp gì được bạn ạ?",
           "greet",
           null,
           "utter_greet"
          ],
          [
           "https://scontent.xx.fbcdn.net/v/t1.15752-9/91237420_573063973314379_5752083759176351744_n.jpg?_nc_cat=111&_nc_sid=b96e70&_nc_ohc=awAgMEF9UTYAX-Q_cFX&_nc_ad=z-m&_nc_cid=0&_nc_zor=9&_nc_ht=scontent.xx&oh=fbfffeefdee0fcd2f0dd6ed4ea38d8e6&oe=5EA3382F",
           "Bạn đang tìm kiếm thông tin gì ạ?\r\n",
           "send_link",
           "[\"url:['https://scontent.xx.fbcdn.net/v/t1.15752-9/91237420_573063973314379_5752083759176351744_n.jpg?_nc_cat=111&_nc_sid=b96e70&_nc_ohc=awAgMEF9UTYAX-Q_cFX&_nc_ad=z-m&_nc_cid=0&_nc_zor=9&_nc_ht=scontent.xx&oh=fbfffeefdee0fcd2f0dd6ed4ea38d8e6&oe=5EA3382F']\"]",
           "action_handle_send_link_only"
          ],
          [
           "Gia bao Nhiu shop",
           "Sản phẩm  COMBO HOLLA LIÊN HOÀN 2020 có giá 4.100.000 (Giá gốc: 5.000.000).\n<Show card>",
           "query_knowledge_base",
           "['attribute:price']",
           "action_query_babe_kb"
          ],
          [
           "có những màu gì bạn nhỉ?",
           "Sản phẩm  COMBO HOLLA LIÊN HOÀN 2020 có màu: Xanh và Cam ạ!\n<Show card>",
           "query_knowledge_base",
           "['attribute:color']",
           "action_query_babe_kb"
          ],
          [
           "ok shop, để mình xem thêm chút nhé!",
           "Dạ vâng ạ!",
           "agree & check_more",
           "['check_more:xem thêm']",
           "utter_agree"
          ],
          [
           "alo shop",
           "Chào bạn, mình là trợ lý ảo của Shop Gấu & Bí Ngô, mình giúp gì được bạn ạ?",
           "greet",
           null,
           "utter_greet"
          ],
          [
           "https://scontent.xx.fbcdn.net/v/t1.15752-9/91179254_522333818714923_2603681931581194240_n.jpg?_nc_cat=106&_nc_sid=b96e70&_nc_ohc=vIHq163ac_kAX-MHxt8&_nc_ad=z-m&_nc_cid=0&_nc_zor=9&_nc_ht=scontent.xx&oh=19368d98471da439001ddf5dc8cab52d&oe=5EA2F89D",
           "Bạn đang tìm kiếm thông tin gì ạ?\r\n",
           "send_link",
           "[\"url:['https://scontent.xx.fbcdn.net/v/t1.15752-9/91179254_522333818714923_2603681931581194240_n.jpg?_nc_cat=106&_nc_sid=b96e70&_nc_ohc=vIHq163ac_kAX-MHxt8&_nc_ad=z-m&_nc_cid=0&_nc_zor=9&_nc_ht=scontent.xx&oh=19368d98471da439001ddf5dc8cab52d&oe=5EA2F89D']\"]",
           "action_handle_send_link_only"
          ],
          [
           "Mình muón mua xe này",
           "Sản phẩm Xe tập đi cao cấp Tommorrow Sky - CHÍNH HÃNG có giá 449.000 (Giá gốc: 850.000).\n<Show card sản phẩm>",
           "query_knowledge_base",
           "['object_type:xe', 'mention:này']",
           "action_query_babe_kb"
          ],
          [
           "Shop ship luôn hàng k nhỉ\nMình Bắc Từ Liêm, HN",
           "Cảm ơn bạn! Bạn vui lòng điền thông tin vào Mẫu đặt hàng giúp shop nhé!\n<Show ra cái bảng mẫu đặt hàng: có tên sản phẩm, cho khách tùy chọn số lượng, màu sắc...>\n<Các thông tin đã thu thập đc thì tự điền luôn, khách k phải điền nữa>",
           "make_order",
           "[]",
           "action_make_order"
          ],
          [
           "shop ơi",
           "Chào bạn, mình là trợ lý ảo của Shop Gấu & Bí Ngô, mình giúp gì được bạn ạ?",
           "greet",
           null,
           "utter_greet"
          ],
          [
           "https://scontent.xx.fbcdn.net/v/t1.15752-9/91179254_522333818714923_2603681931581194240_n.jpg?_nc_cat=106&_nc_sid=b96e70&_nc_ohc=vIHq163ac_kAX-MHxt8&_nc_ad=z-m&_nc_cid=0&_nc_zor=9&_nc_ht=scontent.xx&oh=19368d98471da439001ddf5dc8cab52d&oe=5EA2F89D",
           "Bạn đang tìm kiếm thông tin gì ạ?\r\n",
           "send_link",
           "[\"url:['https://scontent.xx.fbcdn.net/v/t1.15752-9/91179254_522333818714923_2603681931581194240_n.jpg?_nc_cat=106&_nc_sid=b96e70&_nc_ohc=vIHq163ac_kAX-MHxt8&_nc_ad=z-m&_nc_cid=0&_nc_zor=9&_nc_ht=scontent.xx&oh=19368d98471da439001ddf5dc8cab52d&oe=5EA2F89D']\"]",
           "action_handle_send_link_only"
          ],
          [
           "Mình muón mua xe này",
           "Sản phẩm Xe tập đi cao cấp Tommorrow Sky - CHÍNH HÃNG có giá 449.000 (Giá gốc: 850.000).\n<Show card sản phẩm>",
           "query_knowledge_base",
           "['object_type:xe', 'mention:này']",
           "action_query_babe_kb"
          ],
          [
           "Bé nhà mình 8 tháng đã dùng được chưa shop nhỉ?",
           "Xe tập đi cao cấp Tommorrow Sky - CHÍNH HÃNG có độ tuổi sử dụng từ: 0 - 36 tháng ạ.",
           "query_knowledge_base",
           "['age_of_use:bé nhà mình 8 tháng']",
           "action_query_babe_kb"
          ],
          [
           "ok shop",
           "Vâng ạ!",
           "agree",
           null,
           "utter_agree"
          ],
          [
           "Mình vừa đặt trên shopee rồi nhé shop, giao hàng giúp mình nha!",
           null,
           "handover_to_inbox",
           "['attribute:link']",
           "action_handover_to_inbox"
          ],
          [
           "shop ơi",
           "Chào bạn, mình là trợ lý ảo của Shop Gấu & Bí Ngô, mình giúp gì được bạn ạ?",
           "greet",
           null,
           "utter_greet"
          ],
          [
           "https://scontent.xx.fbcdn.net/v/t1.15752-9/91140590_169156024104970_9149727164638167040_n.jpg?_nc_cat=111&_nc_sid=b96e70&_nc_oc=AQksL3EPbJwb5vF7MiFB6VdXzCEmtSqg7QZRnHQamP5qwRCPthge2V2zCm6k7jX6oSw0tzFhj2tL2-yD0lgdlWzF&_nc_ad=z-m&_nc_cid=0&_nc_zor=9&_nc_ht=scontent.xx&oh=a3ace1f889939914cd91509c52946144&oe=5EA53CD3",
           "Bạn đang tìm kiếm thông tin gì ạ?\r\n",
           "send_link",
           "[\"url:['https://scontent.xx.fbcdn.net/v/t1.15752-9/91140590_169156024104970_9149727164638167040_n.jpg?_nc_cat=111&_nc_sid=b96e70&_nc_oc=AQksL3EPbJwb5vF7MiFB6VdXzCEmtSqg7QZRnHQamP5qwRCPthge2V2zCm6k7jX6oSw0tzFhj2tL2-yD0lgdlWzF&_nc_ad=z-m&_nc_cid=0&_nc_zor=9&_nc_ht=scontent.xx&oh=a3ace1f889939914cd91509c52946144&oe=5EA53CD3']\"]",
           "action_handle_send_link_only"
          ],
          [
           "Mẫu này shop còn ko?",
           "Dạ mời bạn tham khảo sản phẩm hiện có tại shop nhé!\r\n\n<Show card sản phẩm Voi Jumbo thả hình khối Bkids Infantino>",
           "query_knowledge_base",
           "['mention:mẫu này']",
           "action_query_babe_kb"
          ],
          [
           "Mình ở Ngã Tư Sở thì phí ship hết bao nhiêu bạn, có được freeship k nhỉ",
           "Ship Ngã tư sở , Thanh Xuân trong nội thành hà nội hết khoảng 30-40 k ạ",
           "ask_ship",
           "['attribute:fee_ship']",
           "action_ask_ship"
          ],
          [
           "shop ơi",
           "Chào bạn, mình là trợ lý ảo của Shop Gấu & Bí Ngô, mình giúp gì được bạn ạ?",
           "greet",
           null,
           "utter_greet"
          ],
          [
           "https://scontent.xx.fbcdn.net/v/t1.15752-9/91276500_3332850896743682_3518647967223382016_n.jpg?_nc_cat=100&_nc_sid=b96e70&_nc_ohc=nsA07gDazpcAX82MA2A&_nc_ad=z-m&_nc_cid=0&_nc_zor=9&_nc_ht=scontent.xx&oh=1ed797577e15b6d086fb91ceb49c5941&oe=5EA5843B",
           "Bạn đang tìm kiếm thông tin gì ạ?",
           "send_link",
           "[\"url:['https://scontent.xx.fbcdn.net/v/t1.15752-9/91276500_3332850896743682_3518647967223382016_n.jpg?_nc_cat=100&_nc_sid=b96e70&_nc_ohc=nsA07gDazpcAX82MA2A&_nc_ad=z-m&_nc_cid=0&_nc_zor=9&_nc_ht=scontent.xx&oh=1ed797577e15b6d086fb91ceb49c5941&oe=5EA5843B']\"]",
           "action_handle_send_link_only"
          ],
          [
           "Báo giá cho mình cái shop",
           "Dạ, có phải bạn muốn hỏi một trong các sản phẩm dưới đây không ạ?\r\n (Vui lòng ấn chọn 1 sản phẩm)...",
           "query_knowledge_base",
           "['attribute:price']",
           "action_query_babe_kb"
          ],
          [
           "/query_knowledge_base{\"url\": \"https://shopee.vn/product/36371562/619150769\", \"product_id\": \"https://shopee.vn/product/36371562/619150769\"}",
           "Sản phẩm Ghế đa năng cao cấp Mastela 1015 hiện shop đang có giá: *1,320,000 VND (giá gốc 1,599,000 VND)*.\r\nBạn tham khảo các sản phẩm sau nhé ạ:",
           "query_knowledge_base",
           "['url:https://shopee.vn/product/36371562/619150769', 'product_id:https://shopee.vn/product/36371562/619150769']",
           "action_query_babe_kb"
          ],
          [
           "shop ơi",
           "Chào bạn, mình là trợ lý ảo của Shop Gấu & Bí Ngô, mình giúp gì được bạn ạ?",
           "greet",
           null,
           "utter_greet"
          ],
          [
           "https://scontent.xx.fbcdn.net/v/t1.15752-9/91276500_3332850896743682_3518647967223382016_n.jpg?_nc_cat=100&_nc_sid=b96e70&_nc_ohc=nsA07gDazpcAX82MA2A&_nc_ad=z-m&_nc_cid=0&_nc_zor=9&_nc_ht=scontent.xx&oh=1ed797577e15b6d086fb91ceb49c5941&oe=5EA5843B",
           "Bạn đang tìm kiếm thông tin gì ạ?\r\n",
           "send_link",
           "[\"url:['https://scontent.xx.fbcdn.net/v/t1.15752-9/91276500_3332850896743682_3518647967223382016_n.jpg?_nc_cat=100&_nc_sid=b96e70&_nc_ohc=nsA07gDazpcAX82MA2A&_nc_ad=z-m&_nc_cid=0&_nc_zor=9&_nc_ht=scontent.xx&oh=1ed797577e15b6d086fb91ceb49c5941&oe=5EA5843B']\"]",
           "action_handle_send_link_only"
          ],
          [
           "Báo giá cho mình cái shop",
           "Dạ, có phải bạn muốn hỏi một trong các sản phẩm dưới đây không ạ?\n (Vui lòng ấn chọn 1 sản phẩm)\n<Show 5 cards>",
           "query_knowledge_base",
           "['attribute:price']",
           "action_query_babe_kb"
          ],
          [
           "/query_knowledge_base{\"url\": \"https://shopee.vn/product/36371562/619150769\", \"product_id\": \"https://shopee.vn/product/36371562/619150769\"}",
           "Sản phẩm  Ghế đa năng cao cấp Mastela 1015  hiện shop đang có giá: 1,320,000 VND (giá gốc 1,599,000 VND).\r\nBạn tham khảo các sản phẩm sau nhé ạ:\n<show card>",
           "query_knowledge_base",
           "['url:https://shopee.vn/product/36371562/619150769', 'product_id:https://shopee.vn/product/36371562/619150769']",
           "action_query_babe_kb"
          ],
          [
           "<Đặt hàng>\n(trên card cuối show thêm nút đặt hàng)",
           "Cảm ơn bạn! Bạn vui lòng điền thông tin vào Mẫu đặt hàng giúp shop nhé!\n<Show ra cái bảng mẫu đặt hàng: có tên sản phẩm, cho khách tùy chọn số lượng, màu sắc...>",
           "make_order",
           null,
           "action_make_order"
          ],
          [
           "shop ơi",
           "Chào bạn, mình là trợ lý ảo của Shop Gấu & Bí Ngô, mình giúp gì được bạn ạ?",
           "greet",
           null,
           "utter_greet"
          ],
          [
           "mình cần tìm ghế ăn dặm",
           "Hiện tại sản phẩm Ghế Ăn  shop đang có những *giá* sau ạ:",
           "query_knowledge_base",
           "['object_type:ghe_an']",
           "action_query_babe_kb"
          ],
          [
           "/query_knowledge_base{\"price\": \"1M - 2M\"}",
           "Dạ mời bạn tham khảo sản phẩm hiện có tại shop nhé!",
           "query_knowledge_base",
           "['price:1M - 2M']",
           "action_query_babe_kb"
          ],
          [
           "ghế mastela sản xuất ở đâu vậy shop?",
           "Sản phẩm Ghế Ăn hãng sản xuất Mastela hiện shop đang có nơi sản xuất: *Trung Quốc*.",
           "query_knowledge_base",
           "['object_type:ghe', 'brand:mastela', 'attribute:origin']",
           "action_query_babe_kb"
          ],
          [
           "bé bao nhiêu tháng thì dùng đc ghế này?",
           "Hiện tại sản phẩm Ghế Ăn shop đang có những *độ tuổi sử dụng* sau ạ:",
           "query_knowledge_base",
           "['attribute:age_of_use', 'object_type:ghe']",
           "action_query_babe_kb"
          ],
          [
           "ok shop",
           "Dạ vâng ạ!",
           "agree",
           "[]",
           "utter_agree"
          ],
          [
           "shop có xe đẩy k?",
           "Hiện tại sản phẩm Xe Đẩy shop đang có những *giá* sau ạ:",
           "query_knowledge_base",
           "['object_type:xe_day']",
           "action_query_babe_kb"
          ],
          [
           "/query_knowledge_base{\"age_of_use\": \"0 - 36 Tháng\"}",
           "Hiện tại sản phẩm Xe Đẩy độ tuổi sử dụng 0 - 36 Tháng shop đang có những *hãng sản xuất* sau ạ:",
           "query_knowledge_base",
           "['age_of_use:0 - 36 Tháng']",
           "action_query_babe_kb"
          ],
          [
           "/query_knowledge_base{\"price\": \"2M - 5M\"}",
           "Hiện tại sản phẩm Xe Đẩy giá 2m - 5m, độ tuổi sử dụng 0 - 36 Tháng shop đang có những *hãng sản xuất* sau ạ:",
           "query_knowledge_base",
           "['price:2M - 5M']",
           "action_query_babe_kb"
          ],
          [
           "/confirm_attribute_value{\"brand\": \"NULL\"}",
           "Hiện tại sản phẩm Xe Đẩy giá 2m - 5m, độ tuổi sử dụng 0 - 36 Tháng shop đang có những *màu* sau ạ:",
           "confirm_attribute_value",
           "['brand:NULL']",
           "action_query_babe_kb"
          ],
          [
           "/confirm_attribute_value{\"material\": \"NULL\"}",
           "Hiện tại sản phẩm Xe Đẩy giá 2m - 5m, độ tuổi sử dụng 0 - 36 Tháng shop đang có những *màu* sau ạ:",
           "confirm_attribute_value",
           "['material:NULL']",
           "action_query_babe_kb"
          ],
          [
           "/query_knowledge_base{\"color\": \"Ghi\"}",
           "Dạ mời bạn tham khảo sản phẩm hiện có tại shop nhé!",
           "query_knowledge_base",
           "['color:Ghi']",
           "action_query_babe_kb"
          ],
          [
           "shop có ghế đa năng cho bé 10 tháng k?",
           "Hiện tại sản phẩm Ghế Đa Năng độ tuổi sử dụng Bé 10 Tháng shop đang có những *giá* sau ạ:",
           "query_knowledge_base",
           "['object_type:ghe_da_nang', 'age_of_use:bé 10 tháng']",
           "action_query_babe_kb"
          ],
          [
           "/query_knowledge_base{\"price\": \"1M - 2M\"}",
           "Hiện tại sản phẩm Ghế Đa Năng giá 1m - 2m, độ tuổi sử dụng Bé 10 Tháng shop đang có những *hãng sản xuất* sau ạ:",
           "query_knowledge_base",
           "['price:1M - 2M']",
           "action_query_babe_kb"
          ],
          [
           "/query_knowledge_base{\"brand\": \"More Kiss\"}",
           "Dạ mời bạn tham khảo sản phẩm hiện có tại shop nhé!",
           "query_knowledge_base",
           "['brand:More Kiss']",
           "action_query_babe_kb"
          ],
          [
           "shop ơi",
           "Chào bạn, mình là trợ lý ảo của Shop Gấu & Bí Ngô, mình giúp gì được bạn ạ?",
           "greet",
           null,
           "utter_greet"
          ],
          [
           "cho mình xin giá cái này với\nhttps://scontent.xx.fbcdn.net/v/t1.15752-9/91082126_501675780499282_7670743575553900544_n.png?_nc_cat=105&_nc_sid=b96e70&_nc_ohc=cv9WjzyAq2EAX-2ijUk&_nc_ad=z-m&_nc_cid=0&_nc_zor=9&_nc_ht=scontent.xx&oh=4a383c676ad9b86a134219b8ec91bdb3&oe=5EA28021",
           "Sản phẩm Ghế ô tô cao cấp Joie Steadi Dark Pewte hiện shop đang có giá: *2,750,000 VND (giá gốc 3,200,000 VND)*.\r\nBạn tham khảo các sản phẩm sau nhé ạ:",
           "query_knowledge_base",
           "[\"url:['https://scontent.xx.fbcdn.net/v/t1.15752-9/91082126_501675780499282_7670743575553900544_n.png?_nc_cat=105&_nc_sid=b96e70&_nc_ohc=cv9WjzyAq2EAX-2ijUk&_nc_ad=z-m&_nc_cid=0&_nc_zor=9&_nc_ht=scontent.xx&oh=4a383c676ad9b86a134219b8ec91bdb3&oe=5EA28021']\", 'attribute:price', 'mention:cái này']",
           "action_query_babe_kb"
          ],
          [
           "shop ơi",
           "Chào bạn, mình là trợ lý ảo của Shop Gấu & Bí Ngô, mình giúp gì được bạn ạ?",
           "greet",
           null,
           "utter_greet"
          ],
          [
           "cho mình xin giá cái này với\nhttps://scontent.xx.fbcdn.net/v/t1.15752-9/91082126_501675780499282_7670743575553900544_n.png?_nc_cat=105&_nc_sid=b96e70&_nc_ohc=cv9WjzyAq2EAX-2ijUk&_nc_ad=z-m&_nc_cid=0&_nc_zor=9&_nc_ht=scontent.xx&oh=4a383c676ad9b86a134219b8ec91bdb3&oe=5EA28021",
           "Sản phẩm Ghế ô tô cao cấp Joie Steadi Dark Pewte hiện shop đang có giá: *2,750,000 VND (giá gốc 3,200,000 VND)*.\r\nBạn tham khảo các sản phẩm sau nhé ạ:",
           "query_knowledge_base",
           "[\"url:['https://scontent.xx.fbcdn.net/v/t1.15752-9/91082126_501675780499282_7670743575553900544_n.png?_nc_cat=105&_nc_sid=b96e70&_nc_ohc=cv9WjzyAq2EAX-2ijUk&_nc_ad=z-m&_nc_cid=0&_nc_zor=9&_nc_ht=scontent.xx&oh=4a383c676ad9b86a134219b8ec91bdb3&oe=5EA28021']\", 'attribute:price', 'mention:cái này']",
           "action_query_babe_kb"
          ],
          [
           "ok, cảm ơn shop",
           "Dạ, cảm ơn bạn!",
           "thank",
           null,
           "utter_thank"
          ],
          [
           "/greet",
           "Chào Nguyễn Nhung, mình là trợ lý ảo của Shop Gấu & Bí Ngô",
           "greet",
           "[]",
           "utter_greet"
          ],
          [
           "cho mình xin giá cái này với\nhttps://scontent.xx.fbcdn.net/v/t1.15752-9/91082126_501675780499282_7670743575553900544_n.png?_nc_cat=105&_nc_sid=b96e70&_nc_ohc=cv9WjzyAq2EAX-2ijUk&_nc_ad=z-m&_nc_cid=0&_nc_zor=9&_nc_ht=scontent.xx&oh=4a383c676ad9b86a134219b8ec91bdb3&oe=5EA28021",
           "Sản phẩm Ghế ô tô cao cấp Ghế ô tô cao cấp Joie Steadi Dark Pewte đang có giá 2.750.000 (Giá gốc: 3.200.000).\nMời bạn tham khảo chi tiết sản phẩm:\nhttps://shopee.vn/product/36371562/1287118215",
           "query_knowledge_base",
           "[\"url:['https://scontent.xx.fbcdn.net/v/t1.15752-9/91082126_501675780499282_7670743575553900544_n.png?_nc_cat=105&_nc_sid=b96e70&_nc_ohc=cv9WjzyAq2EAX-2ijUk&_nc_ad=z-m&_nc_cid=0&_nc_zor=9&_nc_ht=scontent.xx&oh=4a383c676ad9b86a134219b8ec91bdb3&oe=5EA28021']\", 'attribute:price', 'mention:cái này']",
           "action_query_babe_kb"
          ],
          [
           "mình đang cần gấp, bạn gửi ship luôn cho mình được không?",
           "Cảm ơn bạn! Bạn vui lòng điền thông tin vào Mẫu đặt hàng giúp shop nhé!\n<Show ra cái bảng mẫu đặt hàng: có tên sản phẩm, cho khách tùy chọn số lượng, màu sắc...>\n<Các thông tin đã thu thập đc thì tự điền luôn, khách k phải điền nữa>",
           "make_order",
           "['ship:cần gấp', 'ship':'gửi ship']",
           "action_make_order"
          ],
          [
           "Bộ đồ chơi nấu ăn giá bn ạ",
           "Bộ đồ chơi nhà bếp thông minh hiện shop đang có giá: 790000 VND (giá gốc 790000 VND). Bạn tham khảo các sản phẩm sau nhé ạ: <show sp>",
           "query_knowledge_base",
           "['attribute:price']",
           "action_query_babe_kb"
          ],
          [
           "ok shop",
           "Dạ,vâng",
           "agree",
           null,
           "utter_agree"
          ],
          [
           "https://scontent.xx.fbcdn.net/v/t1.15752-9/93409445_248021096324605_3539204290587394048_n.jpg?_nc_cat=100&_nc_sid=b96e70&_nc_ohc=CDp2-oURkTkAX-ROtNE&_nc_ad=z-m&_nc_cid=0&_nc_zor=9&_nc_ht=scontent.xx&oh=a13cc949d1040f31f6f45300484c2189&oe=5EB5A872",
           "Bạn đang tìm kiếm thông tin gì ạ?",
           "send_link",
           "[\"url:['https://scontent.xx.fbcdn.net/v/t1.15752-9/93409445_248021096324605_3539204290587394048_n.jpg?_nc_cat=100&_nc_sid=b96e70&_nc_ohc=CDp2-oURkTkAX-ROtNE&_nc_ad=z-m&_nc_cid=0&_nc_zor=9&_nc_ht=scontent.xx&oh=a13cc949d1040f31f6f45300484c2189&oe=5EB5A872']\"]",
           "action_handle_send_link_only"
          ],
          [
           "Ngựa này hàng về hả shop?",
           "Sản phẩm  NGỰA BẬP BÊNH HOLLA 2020  hiện shop có hàng và đang có giá: 580000\n VND (giá gốc 800000 VND).\nBạn tham khảo các sản phẩm sau nhé ạ:\n<show sp>",
           "query_knowledge_base",
           "['object_type:ngựa', 'mention:này']",
           "action_query_babe_kb"
          ],
          [
           "https://scontent.xx.fbcdn.net/v/t1.15752-9/92812185_1223309388006647_5070003679390597120_n.jpg?_nc_cat=102&_nc_sid=b96e70&_nc_ohc=g_UDAFO7FMkAX8iFNTd&_nc_ad=z-m&_nc_cid=0&_nc_zor=9&_nc_ht=scontent.xx&oh=b4d34f75250bd20bb8adc6193f0b996b&oe=5EB812A1",
           "Bạn đang tìm kiếm thông tin gì ạ?",
           "send_link",
           "[\"url:['https://scontent.xx.fbcdn.net/v/t1.15752-9/92812185_1223309388006647_5070003679390597120_n.jpg?_nc_cat=102&_nc_sid=b96e70&_nc_ohc=g_UDAFO7FMkAX8iFNTd&_nc_ad=z-m&_nc_cid=0&_nc_zor=9&_nc_ht=scontent.xx&oh=b4d34f75250bd20bb8adc6193f0b996b&oe=5EB812A1']\"]",
           "action_handle_send_link_only"
          ],
          [
           "Bạn ơi bộ này bao tiền ạ",
           "Sản phẩm BẢNG VẼ HOLLA 2 in 1 hiện shop đang có giá: *830,000 VND (giá gốc 1,090,000 VND)*.\r\nBạn tham khảo các sản phẩm sau nhé ạ:",
           "query_knowledge_base",
           "['mention:bộ này', 'attribute:price']",
           "action_query_babe_kb"
          ],
          [
           "Cho m xem màu",
           "Mình chưa xác định được món đồ bạn hỏi, bạn mô tả rõ hơn giúp mình nhé!",
           "query_knowledge_base",
           "['attribute:color']",
           "action_query_babe_kb"
          ],
          [
           "Ghế ăn dặm newber ạ",
           "Dạ, sản phẩm Ghế Ăn hãng sản xuất Newber hiện tại bên shop đang tạm hết hàng ạ. Bạn tham khảo các sản phẩm khác dành cho bé nhé!",
           "query_knowledge_base",
           "['object_type:ghe_an', 'brand:newber']",
           "action_query_babe_kb"
          ],
          [
           "b ơi cho mình hỏi chút\nbên mình có quây k k ạ",
           "Sản phẩm  Quây  hiện shop đang có giá: *1,440,000 VND (giá gốc 1,490,000 VND), 1,040,000 VND (giá gốc 1,290,000 VND), 1,340,000 VND (giá gốc 1,390,000 VND)*.\nBạn tham khảo các sản phẩm sau nhé ạ:",
           "query_knowledge_base",
           "['object_type:quay']",
           "action_query_babe_kb"
          ],
          [
           "mẫu này kt bn hả b",
           "Mình chưa xác định được món đồ bạn hỏi, bạn mô tả rõ hơn giúp mình nhé!",
           "query_knowledge_base",
           "['mention:mẫu này', 'attribute:size']",
           "action_query_babe_kb"
          ],
          [
           "https://scontent.xx.fbcdn.net/v/t1.15752-9/92319989_243079400401587_6154261374332567552_n.jpg?_nc_cat=102&_nc_sid=b96e70&_nc_ohc=YkHJKwU8VpUAX-Gwl3X&_nc_ad=z-m&_nc_cid=0&_nc_zor=9&_nc_ht=scontent.xx&oh=80ff0124dbde1098c7a2bee69d87cac8&oe=5EB719F6",
           "Sản phẩm  COMBO HOLLA LIÊN HOÀN 2020 hiện shop đang có kích thước: *1.8x2M*.\nBạn tham khảo sản phẩm sau nhé ạ:\n<show card sp>",
           "send_link",
           "[\"url:['https://scontent.xx.fbcdn.net/v/t1.15752-9/92319989_243079400401587_6154261374332567552_n.jpg?_nc_cat=102&_nc_sid=b96e70&_nc_ohc=YkHJKwU8VpUAX-Gwl3X&_nc_ad=z-m&_nc_cid=0&_nc_zor=9&_nc_ht=scontent.xx&oh=80ff0124dbde1098c7a2bee69d87cac8&oe=5EB719F6']\"]",
           "action_handle_send_link_only"
          ],
          [
           "shop ơi",
           "Chào bạn, mình là trợ lý ảo của Shop Gấu & Bí Ngô, mình giúp gì được bạn ạ?",
           "greet",
           null,
           "utter_greet"
          ],
          [
           "https://scontent.xx.fbcdn.net/v/t1.15752-9/91195826_498480424370303_2420395967455952896_n.jpg?_nc_cat=106&_nc_sid=b96e70&_nc_ohc=xbapPlP7xmIAX_VXW-N&_nc_ad=z-m&_nc_cid=0&_nc_zor=9&_nc_ht=scontent.xx&oh=9659d65beb602c42382325bcb6359a57&oe=5EA77EEF",
           "Bạn đang tìm kiếm thông tin gì ạ?",
           "send_link",
           "[\"url:['https://scontent.xx.fbcdn.net/v/t1.15752-9/91195826_498480424370303_2420395967455952896_n.jpg?_nc_cat=106&_nc_sid=b96e70&_nc_ohc=xbapPlP7xmIAX_VXW-N&_nc_ad=z-m&_nc_cid=0&_nc_zor=9&_nc_ht=scontent.xx&oh=9659d65beb602c42382325bcb6359a57&oe=5EA77EEF']\"]",
           "action_handle_send_link_only"
          ],
          [
           "B có sẵn thanh chắn giường này ko?",
           "Sản phẩm Thanh chắn giường cao cấp dạng trượt Umoo chính hãng đang có giá: 500.000 (Giá gốc: 610.000).\nMời bạn xem sản phẩm tại link:\n<Show card>",
           "query_knowledge_base",
           "['object_type:thanh_chan_giuong']",
           "action_query_babe_kb"
          ],
          [
           "loại này có những kích thước nào shop nhỉ?",
           "Sản phẩm Thanh chắn giường cao cấp dạng trượt Umoo chính hãng có các kích thước: 1m6, 1m8, 2m, 2m2.",
           "query_knowledge_base",
           "['mention:loại này', 'attribute:size']",
           "action_query_babe_kb"
          ],
          [
           "ok shop",
           "Vâng ạ!",
           "agree",
           null,
           "utter_agree"
          ],
          [
           "https://scontent.xx.fbcdn.net/v/t1.15752-9/91116566_291171825206315_2457738113934426112_n.jpg?_nc_cat=111&_nc_sid=b96e70&_nc_oc=AQl0eJdwRKLYDOTb3-7GEEopWEg73tj53KuP5VxJRcvtdD9rcM6ZrFogw5sbRM9s7R-eYHilgr7XsDCjxJ5VauHq&_nc_ad=z-m&_nc_cid=0&_nc_zor=9&_nc_ht=scontent.xx&oh=21cbaa7a85cf4cbf2e946bbc78f7ca73&oe=5EA6F7BA",
           "Bạn đang tìm kiếm thông tin gì ạ?",
           "send_link",
           "[\"url:['https://scontent.xx.fbcdn.net/v/t1.15752-9/91116566_291171825206315_2457738113934426112_n.jpg?_nc_cat=111&_nc_sid=b96e70&_nc_oc=AQl0eJdwRKLYDOTb3-7GEEopWEg73tj53KuP5VxJRcvtdD9rcM6ZrFogw5sbRM9s7R-eYHilgr7XsDCjxJ5VauHq&_nc_ad=z-m&_nc_cid=0&_nc_zor=9&_nc_ht=scontent.xx&oh=21cbaa7a85cf4cbf2e946bbc78f7ca73&oe=5EA6F7BA']\"]",
           "action_handle_send_link_only"
          ],
          [
           "Shop còn bộ này k ạ",
           "Dạ mời bạn tham khảo sản phẩm hiện có tại shop nhé!\r\n<Show card Bể dựng thành cao Doctor Dolphin>",
           "query_knowledge_base",
           "['mention:bộ này']",
           "action_query_babe_kb"
          ],
          [
           "shop ơi",
           "Chào bạn, mình là ...",
           "greet",
           "[]",
           "utter_greet"
          ],
          [
           "Cho mình hỏi bên bạn có máy hút sữa Avent hoa tuyết không ạ?",
           "Sản phẩm  Máy hút sữa điện đôi Avent Snow (Chính hãng - Cty Vạn An) hãng sản xuất Avent hiện shop đang có giá: 4,990,000 VND (giá gốc 6,950,000 VND).\nBạn tham khảo tại link sau ạ:\n<Show card>",
           "query_knowledge_base",
           "['object_type:may_hut_sua', 'brand:avent']",
           "action_query_babe_kb"
          ],
          [
           "loại này dùng có tốt không bạn nhỉ?",
           null,
           "handover_to_inbox",
           "['mention:loại này']",
           "action_handover_to_inbox"
          ],
          [
           "alo shop",
           "Chào bạn, mình là trợ lý ảo của Shop Gấu & Bí Ngô, mình giúp gì được bạn ạ?",
           "greet",
           null,
           "utter_greet"
          ],
          [
           "https://scontent.xx.fbcdn.net/v/t1.15752-9/91179254_522333818714923_2603681931581194240_n.jpg?_nc_cat=106&_nc_sid=b96e70&_nc_ohc=vIHq163ac_kAX-MHxt8&_nc_ad=z-m&_nc_cid=0&_nc_zor=9&_nc_ht=scontent.xx&oh=19368d98471da439001ddf5dc8cab52d&oe=5EA2F89D",
           "Bạn đang tìm kiếm thông tin gì ạ?\r\n",
           "send_link",
           "[\"url:['https://scontent.xx.fbcdn.net/v/t1.15752-9/91179254_522333818714923_2603681931581194240_n.jpg?_nc_cat=106&_nc_sid=b96e70&_nc_ohc=vIHq163ac_kAX-MHxt8&_nc_ad=z-m&_nc_cid=0&_nc_zor=9&_nc_ht=scontent.xx&oh=19368d98471da439001ddf5dc8cab52d&oe=5EA2F89D']\"]",
           "action_handle_send_link_only"
          ],
          [
           "Mình muón mua xe này",
           "Sản phẩm Xe tập đi cao cấp Tommorrow Sky - CHÍNH HÃNG có giá 449.000 (Giá gốc: 850.000).\n<Show card sản phẩm>",
           "query_knowledge_base",
           "['object_type:xe', 'mention:này']",
           "action_query_babe_kb"
          ],
          [
           "shop ơi",
           "Chào bạn, mình là trợ lý ảo của Shop Gấu & Bí Ngô, mình giúp gì được bạn ạ?",
           "greet",
           null,
           "utter_greet"
          ],
          [
           "https://scontent.xx.fbcdn.net/v/t1.15752-9/91140590_169156024104970_9149727164638167040_n.jpg?_nc_cat=111&_nc_sid=b96e70&_nc_oc=AQksL3EPbJwb5vF7MiFB6VdXzCEmtSqg7QZRnHQamP5qwRCPthge2V2zCm6k7jX6oSw0tzFhj2tL2-yD0lgdlWzF&_nc_ad=z-m&_nc_cid=0&_nc_zor=9&_nc_ht=scontent.xx&oh=a3ace1f889939914cd91509c52946144&oe=5EA53CD3",
           "Bạn đang tìm kiếm thông tin gì ạ?\r\n",
           "send_link",
           "[\"url:['https://scontent.xx.fbcdn.net/v/t1.15752-9/91140590_169156024104970_9149727164638167040_n.jpg?_nc_cat=111&_nc_sid=b96e70&_nc_oc=AQksL3EPbJwb5vF7MiFB6VdXzCEmtSqg7QZRnHQamP5qwRCPthge2V2zCm6k7jX6oSw0tzFhj2tL2-yD0lgdlWzF&_nc_ad=z-m&_nc_cid=0&_nc_zor=9&_nc_ht=scontent.xx&oh=a3ace1f889939914cd91509c52946144&oe=5EA53CD3']\"]",
           "action_handle_send_link_only"
          ],
          [
           "Mẫu này shop còn ko?",
           "Dạ mời bạn tham khảo sản phẩm hiện có tại shop nhé!",
           "query_knowledge_base",
           "['mention:mẫu này']",
           "action_query_babe_kb"
          ],
          [
           "thank bạn",
           "Dạ, cảm ơn bạn!",
           "thank",
           null,
           "utter_thank"
          ],
          [
           "shop ơi",
           "Chào Trần Diệu Như, mình là trợ lý ảo của Shop Gấu & Bí Ngô!\nĐể hỗ trợ bạn nhanh nhất có thể, vui lòng mô tả ngắn gọn và rõ ràng sản phẩm muốn tìm kiếm nhé!",
           "greet",
           "[]",
           "utter_greet"
          ],
          [
           "Cho mình hỏi",
           "Mình chưa xác định được món đồ bạn hỏi, bạn mô tả rõ hơn giúp mình nhé!",
           "query_knowledge_base",
           "[]",
           "action_query_babe_kb"
          ],
          [
           "https://scontent.xx.fbcdn.net/v/t1.15752-9/93509238_660084428139084_8562660888245436416_n.jpg?_nc_cat=108&_nc_sid=b96e70&_nc_ohc=yXSk9VsgmBAAX8H8g7O&_nc_ad=z-m&_nc_cid=0&_nc_zor=9&_nc_ht=scontent.xx&oh=4277506b3e5d45205734a572902dadcd&oe=5EBF8F12\nBên bạn có loại này hk",
           "Sản phẩm Máy tiệt trùng sấy khô tia UV cao cấp Fatz Baby FB4702 có giá: 2.350.000 (Giá gốc: 2.750.000).\n<Show card>",
           "query_knowledge_base",
           "[\"url:['https://scontent.xx.fbcdn.net/v/t1.15752-9/93509238_660084428139084_8562660888245436416_n.jpg?_nc_cat=108&_nc_sid=b96e70&_nc_ohc=yXSk9VsgmBAAX8H8g7O&_nc_ad=z-m&_nc_cid=0&_nc_zor=9&_nc_ht=scontent.xx&oh=4277506b3e5d45205734a572902dadcd&oe=5EBF8F12']\", 'mention:loại này']",
           "action_query_babe_kb"
          ],
          [
           "Ok shop",
           "Dạ vâng ạ!",
           "agree",
           null,
           "utter_agree"
          ],
          [
           "Shop ơi\nShop còn xe đạp 3 bánh cho bé ko",
           "Sản phẩm Xe ba bánh hiện tại shop đang có các hãng sản xuất sau:\n<Brand_1> <Brand_2> <Brand_3> ...",
           "query_knowledge_base",
           "['object_type:xe_3_banh']",
           "action_query_babe_kb"
          ],
          [
           "Bn mẫu này ah\nhttps://scontent.xx.fbcdn.net/v/t1.15752-9/93355558_787687925088945_3366661856440614912_n.jpg?_nc_cat=104&_nc_sid=b96e70&_nc_ohc=LuvI-yPqqx4AX90ZvOD&_nc_ad=z-m&_nc_cid=0&_nc_zor=9&_nc_ht=scontent.xx&oh=feb80fc822356b2b3b1bdd09e69d5f5f&oe=5EC1D7AD",
           "Sản phẩm  COMBO HOLLA LIÊN HOÀN 2020 giá 4.100.000 (Giá gốc: 5.000.000).\n<Show card>",
           "query_knowledge_base",
           "[\"url:['https://scontent.xx.fbcdn.net/v/t1.15752-9/93355558_787687925088945_3366661856440614912_n.jpg?_nc_cat=104&_nc_sid=b96e70&_nc_ohc=LuvI-yPqqx4AX90ZvOD&_nc_ad=z-m&_nc_cid=0&_nc_zor=9&_nc_ht=scontent.xx&oh=feb80fc822356b2b3b1bdd09e69d5f5f&oe=5EC1D7AD']\", 'attribute:price', 'mention:mẫu này']",
           "action_query_babe_kb"
          ],
          [
           "Bn mẫu này ah\nhttps://scontent.xx.fbcdn.net/v/t1.15752-9/93355558_787687925088945_3366661856440614912_n.jpg?_nc_cat=104&_nc_sid=b96e70&_nc_ohc=LuvI-yPqqx4AX90ZvOD&_nc_ad=z-m&_nc_cid=0&_nc_zor=9&_nc_ht=scontent.xx&oh=feb80fc822356b2b3b1bdd09e69d5f5f&oe=5EC1D7AD",
           "Sản phẩm  COMBO HOLLA LIÊN HOÀN 2020 giá 4.100.000 (Giá gốc: 5.000.000).\n<Show card>",
           "query_knowledge_base",
           "[\"url:['https://scontent.xx.fbcdn.net/v/t1.15752-9/93355558_787687925088945_3366661856440614912_n.jpg?_nc_cat=104&_nc_sid=b96e70&_nc_ohc=LuvI-yPqqx4AX90ZvOD&_nc_ad=z-m&_nc_cid=0&_nc_zor=9&_nc_ht=scontent.xx&oh=feb80fc822356b2b3b1bdd09e69d5f5f&oe=5EC1D7AD']\", 'attribute:price', 'mention:mẫu này']",
           "action_query_babe_kb"
          ],
          [
           "ok, cảm ơn bạn",
           "Dạ vâng ạ!",
           "thank",
           null,
           "utter_thank"
          ],
          [
           "https://scontent.xx.fbcdn.net/v/t1.15752-9/93372808_237505350937658_7849680219572011008_n.jpg?_nc_cat=106&_nc_sid=b96e70&_nc_ohc=HZIdsjJWIdEAX9Zcxf0&_nc_ad=z-m&_nc_cid=0&_nc_zor=9&_nc_ht=scontent.xx&oh=f23cf6dba930b2cdde6188b71ae0af6d&oe=5EBED982\nShop ơi có chậu tăm này ko ạ\nGiá bnhiu",
           "Dạ, có phải bạn muốn hỏi một trong các sản phẩm dưới đây không ạ?\n (Vui lòng ấn chọn 1 sản phẩm)...",
           "query_knowledge_base",
           "[\"url:['https://scontent.xx.fbcdn.net/v/t1.15752-9/93372808_237505350937658_7849680219572011008_n.jpg?_nc_cat=106&_nc_sid=b96e70&_nc_ohc=HZIdsjJWIdEAX9Zcxf0&_nc_ad=z-m&_nc_cid=0&_nc_zor=9&_nc_ht=scontent.xx&oh=f23cf6dba930b2cdde6188b71ae0af6d&oe=5EBED982']\", 'attribute:price']",
           "action_query_babe_kb"
          ],
          [
           "/disagree{\"object_type\": null}\r\n\r\n",
           "Bạn vui lòng mô tả rõ mong muốn của bạn hoặc chat với nhân viên tư vấn nhé!",
           "disagree",
           "['object_type:None']",
           "utter_disagree"
          ],
          [
           "/connect_employee",
           null,
           "connect_employee",
           null,
           "action_handover_to_inbox"
          ],
          [
           "https://scontent.xx.fbcdn.net/v/t1.15752-9/93282219_2955120164565617_1480656053644296192_n.jpg?_nc_cat=102&_nc_sid=b96e70&_nc_ohc=Hj-a7J7s9IsAX9_oiUQ&_nc_ad=z-m&_nc_cid=0&_nc_zor=9&_nc_ht=scontent.xx&oh=7a656828dcc017d90efbd1d6b28f922e&oe=5EC20392\nhttps://scontent.xx.fbcdn.net/v/t1.15752-9/92019276_227770161797062_3872006948278763520_n.jpg?_nc_cat=110&_nc_sid=b96e70&_nc_ohc=iunHKGP-YF4AX-GSloP&_nc_ad=z-m&_nc_cid=0&_nc_zor=9&_nc_ht=scontent.xx&oh=55a529977543f1bae2e200fff5c4a62d&oe=5EC0888D\nhttps://scontent.xx.fbcdn.net/v/t1.15752-9/92691038_549798449252080_714445944011096064_n.jpg?_nc_cat=107&_nc_sid=b96e70&_nc_ohc=tk3aaQnr2kEAX9TQPsM&_nc_ad=z-m&_nc_cid=0&_nc_zor=9&_nc_ht=scontent.xx&oh=acd989282b420cc45bd0dc478eb2f4cb&oe=5EBF2CBB\nĐều là 1 xe hả chị oi",
           null,
           "handover_to_inbox",
           "[\"url:['https://scontent.xx.fbcdn.net/v/t1.15752-9/92691038_549798449252080_714445944011096064_n.jpg?_nc_cat=107&_nc_sid=b96e70&_nc_ohc=tk3aaQnr2kEAX9TQPsM&_nc_ad=z-m&_nc_cid=0&_nc_zor=9&_nc_ht=scontent.xx&oh=acd989282b420cc45bd0dc478eb2f4cb&oe=5EBF2CBB', 'https://scontent.xx.fbcdn.net/v/t1.15752-9/92019276_227770161797062_3872006948278763520_n.jpg?_nc_cat=110&_nc_sid=b96e70&_nc_ohc=iunHKGP-YF4AX-GSloP&_nc_ad=z-m&_nc_cid=0&_nc_zor=9&_nc_ht=scontent.xx&oh=55a529977543f1bae2e200fff5c4a62d&oe=5EC0888D', 'https://scontent.xx.fbcdn.net/v/t1.15752-9/93282219_2955120164565617_1480656053644296192_n.jpg?_nc_cat=102&_nc_sid=b96e70&_nc_ohc=Hj-a7J7s9IsAX9_oiUQ&_nc_ad=z-m&_nc_cid=0&_nc_zor=9&_nc_ht=scontent.xx&oh=7a656828dcc017d90efbd1d6b28f922e&oe=5EC20392']\"]",
           "action_handover_to_inbox"
          ],
          [
           "shop ơi",
           "Chào bạn, mình là trợ lý ảo của Shop Gấu & Bí Ngô, mình giúp gì được bạn ạ?",
           "greet",
           "[]",
           "utter_greet"
          ],
          [
           "https://scontent.xx.fbcdn.net/v/t1.15752-9/93942919_236576060921353_8212294017631649792_n.jpg?_nc_cat=110&_nc_sid=b96e70&_nc_ohc=x7L3d8CsyC4AX9jTMxO&_nc_ad=z-m&_nc_cid=0&_nc_zor=9&_nc_ht=scontent.xx&oh=35be75d9220bfb0bd5b9d37949f56726&oe=5EBFCEBD\nBáo giá giúp mình\nVà bên b có bàn gội đàu cho bé k\nCó sẵn k bạn",
           "Dạ, có phải bạn muốn hỏi một trong các sản phẩm dưới đây không ạ?\n (Vui lòng ấn chọn 1 sản phẩm)...",
           "query_knowledge_base",
           "[\"url:['https://scontent.xx.fbcdn.net/v/t1.15752-9/93942919_236576060921353_8212294017631649792_n.jpg?_nc_cat=110&_nc_sid=b96e70&_nc_ohc=x7L3d8CsyC4AX9jTMxO&_nc_ad=z-m&_nc_cid=0&_nc_zor=9&_nc_ht=scontent.xx&oh=35be75d9220bfb0bd5b9d37949f56726&oe=5EBFCEBD']\", 'attribute:price']",
           "action_query_babe_kb"
          ],
          [
           "K bàn gội đầu nữa bạn",
           "Bạn vui lòng mô tả rõ mong muốn của bạn hoặc chat với nhân viên tư vấn nhé!",
           "disagree",
           "[]",
           "utter_disagree"
          ],
          [
           "/connect_employee",
           null,
           "connect_employee",
           null,
           "action_handover_to_inbox"
          ],
          [
           "shop ơi",
           "Chào Thu Anh, mình là trợ lý ảo của Shop Gấu & Bí Ngô!\nĐể hỗ trợ bạn nhanh nhất có thể, vui lòng mô tả ngắn gọn và rõ ràng sản phẩm muốn tìm kiếm nhé!",
           "greet",
           "[]",
           "utter_greet"
          ],
          [
           "https://scontent.xx.fbcdn.net/v/t1.15752-9/93942919_236576060921353_8212294017631649792_n.jpg?_nc_cat=110&_nc_sid=b96e70&_nc_ohc=x7L3d8CsyC4AX9jTMxO&_nc_ad=z-m&_nc_cid=0&_nc_zor=9&_nc_ht=scontent.xx&oh=35be75d9220bfb0bd5b9d37949f56726&oe=5EBFCEBD\nBáo giá giúp mình\nVà bên b có bàn gội đàu cho bé k\nCó sẵn k bạn",
           "Dạ, có phải bạn muốn hỏi một trong các sản phẩm dưới đây không ạ?\n (Vui lòng ấn chọn 1 sản phẩm)...",
           "query_knowledge_base",
           "[\"url:['https://scontent.xx.fbcdn.net/v/t1.15752-9/93942919_236576060921353_8212294017631649792_n.jpg?_nc_cat=110&_nc_sid=b96e70&_nc_ohc=x7L3d8CsyC4AX9jTMxO&_nc_ad=z-m&_nc_cid=0&_nc_zor=9&_nc_ht=scontent.xx&oh=35be75d9220bfb0bd5b9d37949f56726&oe=5EBFCEBD']\", 'attribute:price']",
           "action_query_babe_kb"
          ],
          [
           "K bàn gội đầu nữa bạn",
           "Bạn vui lòng mô tả rõ mong muốn của bạn hoặc chat với nhân viên tư vấn nhé!\n<Show button [Chat với nhân viên] >",
           "disagree",
           "[]",
           "utter_disagree"
          ],
          [
           "chị muốn mua thêm cái bàn gội đầu nữa",
           "Dạ hiện tại sản phẩm Bàn gội đầu shop đang hết hàng ạ.",
           "query_knowledge_base",
           "[object_type:ban_goi_dau]",
           "action_query_babe_kb"
          ],
          [
           "ok em",
           "Dạ vâng ạ!",
           "agree",
           null,
           "utter_agree"
          ],
          [
           "Bộ này bao nhiêu bạn",
           "Mình chưa xác định được món đồ bạn hỏi, bạn mô tả rõ hơn giúp mình nhé!",
           "query_knowledge_base",
           "['mention:bộ này', 'attribute:price']",
           "action_query_babe_kb"
          ],
          [
           "https://scontent.xx.fbcdn.net/v/t1.15752-9/93831201_1146889219003227_7546191276316557312_n.jpg?_nc_cat=105&_nc_sid=b96e70&_nc_oc=AQkuiFn2HKv0U6Hz-7RRHmrQAjUe-uffEK34qJgnFu6_ykFT-y29UT6dfe6Tv3zTmX6LSt07VktpDCc5axlV9PMD&_nc_ad=z-m&_nc_cid=0&_nc_zor=9&_nc_ht=scontent.xx&oh=407a378e86bd2e1221efec86158f3723&oe=5EC0F33A",
           "Sản phẩm  Bàn học, bản chơi lắp ghép Lego cao cấp  hiện shop đang có giá: *995,000 VND (giá gốc 1,750,000 VND)*.\nBạn tham khảo các sản phẩm sau nhé ạ:",
           "send_link",
           "[\"url:['https://scontent.xx.fbcdn.net/v/t1.15752-9/93831201_1146889219003227_7546191276316557312_n.jpg?_nc_cat=105&_nc_sid=b96e70&_nc_oc=AQkuiFn2HKv0U6Hz-7RRHmrQAjUe-uffEK34qJgnFu6_ykFT-y29UT6dfe6Tv3zTmX6LSt07VktpDCc5axlV9PMD&_nc_ad=z-m&_nc_cid=0&_nc_zor=9&_nc_ht=scontent.xx&oh=407a378e86bd2e1221efec86158f3723&oe=5EC0F33A']\"]",
           "action_handle_send_link_only"
          ],
          [
           "https://scontent.xx.fbcdn.net/v/t1.15752-9/93580519_538582043761954_1298513551547170816_n.jpg?_nc_cat=110&_nc_sid=b96e70&_nc_ohc=V-gNgxOgT4YAX91GbRA&_nc_ad=z-m&_nc_cid=0&_nc_zor=9&_nc_ht=scontent.xx&oh=37247cf249e08d7d0658803b3f22d363&oe=5EBED552\nBộ này bn ah",
           "Sản phẩm  Bộ đồ chơi nhà bếp thông minh  hiện shop đang có giá: *790,000 VND (giá gốc 790,000 VND)*.\nBạn tham khảo các sản phẩm sau nhé ạ:",
           "query_knowledge_base",
           "[\"url:['https://scontent.xx.fbcdn.net/v/t1.15752-9/93580519_538582043761954_1298513551547170816_n.jpg?_nc_cat=110&_nc_sid=b96e70&_nc_ohc=V-gNgxOgT4YAX91GbRA&_nc_ad=z-m&_nc_cid=0&_nc_zor=9&_nc_ht=scontent.xx&oh=37247cf249e08d7d0658803b3f22d363&oe=5EBED552']\", 'mention:bộ này', 'attribute:price']",
           "action_query_babe_kb"
          ],
          [
           "Dạ vâng b",
           "Dạ vâng ạ!",
           "agree",
           "[]",
           "utter_agree"
          ],
          [
           "https://scontent.xx.fbcdn.net/v/t1.15752-9/93888763_534820093897495_8873435174071697408_n.jpg?_nc_cat=106&_nc_sid=b96e70&_nc_ohc=FKWPkRS2YlUAX_Kn-nn&_nc_ad=z-m&_nc_cid=0&_nc_zor=9&_nc_ht=scontent.xx&oh=7e3aa2900cd80040c578cdc8cd99deef&oe=5EC130D5",
           "Bạn đang tìm kiếm thông tin gì ạ?",
           "send_link",
           "[\"url:['https://scontent.xx.fbcdn.net/v/t1.15752-9/93888763_534820093897495_8873435174071697408_n.jpg?_nc_cat=106&_nc_sid=b96e70&_nc_ohc=FKWPkRS2YlUAX_Kn-nn&_nc_ad=z-m&_nc_cid=0&_nc_zor=9&_nc_ht=scontent.xx&oh=7e3aa2900cd80040c578cdc8cd99deef&oe=5EC130D5']\"]",
           "action_handle_send_link_only"
          ],
          [
           "Bộ này giâ bn ạ shop",
           "Sản phẩm  Bộ đồ chơi nhà bếp thông minh  hiện shop đang có giá: *790,000 VND (giá gốc 790,000 VND)*.\nBạn tham khảo các sản phẩm sau nhé ạ:",
           "query_knowledge_base",
           "['mention:bộ này', 'attribute:price']",
           "action_query_babe_kb"
          ],
          [
           "Cho t một xe chòi chân luddy",
           "Sản phẩm  Xe Chòi Chân  hiện shop đang có giá: *699,000 VND (giá gốc 998,000 VND), 448,400 VND (giá gốc 590,000 VND), 499,000 VND (giá gốc 800,000 VND), 580,000 VND (giá gốc 800,000 VND)*.\nBạn tham khảo các sản phẩm sau nhé ạ:",
           "query_knowledge_base",
           "['object_type:xe_choi_chan', 'brand:luddy']",
           "action_query_babe_kb"
          ],
          [
           "mình muốn mua cái luddy",
           "Sản phẩm Xe chòi chân thương hiệu Luddy có giá: 499,000 VND (giá gốc 800,000 VND)\n<show card xe luddy>",
           "query_knowledge_base",
           "['brand:luddy']",
           "action_query_babe_kb"
          ],
          [
           "ok, mình lấy cái này nhé",
           "\"Cảm ơn bạn! Bạn vui lòng điền thông tin vào Mẫu đặt hàng giúp shop nhé!\n<Show ra cái bảng mẫu đặt hàng: có tên sản phẩm, cho khách tùy chọn số lượng, màu sắc...>\n<Các thông tin đã thu thập đc thì tự điền luôn, khách k phải điền nữa>\"",
           "make_order",
           "['mention:cái này']",
           "action_make_order"
          ],
          [
           "ship cho m 1 xe tập đi sư tử nhé",
           "\"\"\"Cảm ơn bạn! Bạn vui lòng điền thông tin vào Mẫu đặt hàng giúp shop nhé!\n<Show ra cái bảng mẫu đặt hàng: có tên sản phẩm, cho khách tùy chọn số lượng, màu sắc...>\"\"\"\n<Xác nhận> <Hủy>",
           "query_knowledge_base",
           "['object_type:xe_tap_di,'type:sư tử'] ",
           "action_query_knowledge_base"
          ],
          [
           "<Xác nhận>",
           "Cám ơn bạn đã mua hàng tại shop, đơn hàng sẽ được giao đến 434 trần khát chân, 2 bà trưng trong khoảng 24 h ",
           "query_knowledge_base",
           null,
           "action_query_knowledge_base"
          ],
          [
           "hello",
           "Chào bạn, mình là trợ lý ảo của Shop Gấu & Bí Ngô, mình giúp gì được bạn ạ?",
           "greet",
           "['brand:hello']",
           "utter_greet"
          ],
          [
           "Alo, Shop cho mình hỏi chắn cửa cho bé với",
           "Sản phẩm  thanh chắn cửa (thanh chắn cầu thang)  hiện shop đang có giá: *699,000 VND (giá gốc 998,000 VND), 448,400 VND (giá gốc 590,000 VND), 499,000 VND (giá gốc 800,000 VND), 580,000 VND (giá gốc 800,000 VND)*.\nBạn tham khảo các sản phẩm sau nhé ạ:\n<show card sản phẩm>",
           "query_knowledge_base",
           "['object_type:thanh_chan_cua,']",
           "action_query_knowledge_base"
          ],
          [
           "Cái thứ 2 kích thước sao ạ",
           "Sản phẩm  thanh chắn cửa (thanh chắn cầu thang) giá 448,400 VND (giá gốc 590,000 VND) hiện shop đang có kích thước \n<74x85x77cm> \nMời bạn tham khảo sản phẩm ạ:\n<show card sản phẩm>",
           "query_knowledge_base",
           "['mention:2', 'attribute:size']",
           "action_query_babe_kb"
          ],
          [
           "Shop cho e đặt 2 chiếc này nhé ạ\nhttps://scontent.xx.fbcdn.net/v/t1.15752-9/94119707_246999513317631_5493050639422324736_n.jpg?_nc_cat=102&_nc_sid=b96e70&_nc_ohc=Daeqj9YODcQAX-CFRwg&_nc_ad=z-m&_nc_cid=0&_nc_zor=9&_nc_ht=scontent.xx&oh=6f084e97b2a0525ba301c5e07ad4e1ca&oe=5EC0779C\nhttps://scontent.xx.fbcdn.net/v/t1.15752-9/93565662_1081483932226317_4632993179384152064_n.jpg?_nc_cat=111&_nc_sid=b96e70&_nc_ohc=d4nkume4GwAAX_ITaqO&_nc_ad=z-m&_nc_cid=0&_nc_zor=9&_nc_ht=scontent.xx&oh=b89362cb2f5e3af20fdf2d6ca8be9a1b&oe=5EC202B9",
           "Có phải bạn đang muốn đặt hàng sản phẩm sau đúng ko ạ:\n< cardThảm gấp XPE> < card Thảm xốp ghép 28 tấm INFANTINO>\n<Đúng><Sai>",
           "query_knowledge_base",
           "[\"url:['https://scontent.xx.fbcdn.net/v/t1.15752-9/94119707_246999513317631_5493050639422324736_n.jpg?_nc_cat=102&_nc_sid=b96e70&_nc_ohc=Daeqj9YODcQAX-CFRwg&_nc_ad=z-m&_nc_cid=0&_nc_zor=9&_nc_ht=scontent.xx&oh=6f084e97b2a0525ba301c5e07ad4e1ca&oe=5EC0779C', 'https://scontent.xx.fbcdn.net/v/t1.15752-9/93565662_1081483932226317_4632993179384152064_n.jpg?_nc_cat=111&_nc_sid=b96e70&_nc_ohc=d4nkume4GwAAX_ITaqO&_nc_ad=z-m&_nc_cid=0&_nc_zor=9&_nc_ht=scontent.xx&oh=b89362cb2f5e3af20fdf2d6ca8be9a1b&oe=5EC202B9']\", 'mention:chiếc này']",
           "action_query_babe_kb"
          ],
          [
           "<Đúng>",
           "\"\"\"Cảm ơn bạn! Bạn vui lòng điền thông tin vào Mẫu đặt hàng giúp shop nhé!\n<Show ra cái bảng mẫu đặt hàng: có tên sản phẩm, cho khách tùy chọn số lượng, màu sắc...>\"\"\"\n<Xác nhận> <Hủy>",
           "query_knowledge_base",
           null,
           "action_query_babe_kb"
          ],
          [
           "<Hủy>",
           "Bạn đã hủy đơn hàng thành công",
           "query_knowledge_base",
           null,
           "action_query_babe_kb"
          ],
          [
           "Shop cho e đặt 2 chiếc này nhé ạ\nhttps://scontent.xx.fbcdn.net/v/t1.15752-9/94119707_246999513317631_5493050639422324736_n.jpg?_nc_cat=102&_nc_sid=b96e70&_nc_ohc=Daeqj9YODcQAX-CFRwg&_nc_ad=z-m&_nc_cid=0&_nc_zor=9&_nc_ht=scontent.xx&oh=6f084e97b2a0525ba301c5e07ad4e1ca&oe=5EC0779C\nhttps://scontent.xx.fbcdn.net/v/t1.15752-9/93565662_1081483932226317_4632993179384152064_n.jpg?_nc_cat=111&_nc_sid=b96e70&_nc_ohc=d4nkume4GwAAX_ITaqO&_nc_ad=z-m&_nc_cid=0&_nc_zor=9&_nc_ht=scontent.xx&oh=b89362cb2f5e3af20fdf2d6ca8be9a1b&oe=5EC202B9",
           "Có phải bạn đang muốn đặt hàng sản phẩm sau đúng ko ạ:\n< cardThảm gấp XPE> < card Thảm xốp ghép 28 tấm INFANTINO>\n<Đúng><Sai>",
           "query_knowledge_base",
           "[\"url:['https://scontent.xx.fbcdn.net/v/t1.15752-9/94119707_246999513317631_5493050639422324736_n.jpg?_nc_cat=102&_nc_sid=b96e70&_nc_ohc=Daeqj9YODcQAX-CFRwg&_nc_ad=z-m&_nc_cid=0&_nc_zor=9&_nc_ht=scontent.xx&oh=6f084e97b2a0525ba301c5e07ad4e1ca&oe=5EC0779C', 'https://scontent.xx.fbcdn.net/v/t1.15752-9/93565662_1081483932226317_4632993179384152064_n.jpg?_nc_cat=111&_nc_sid=b96e70&_nc_ohc=d4nkume4GwAAX_ITaqO&_nc_ad=z-m&_nc_cid=0&_nc_zor=9&_nc_ht=scontent.xx&oh=b89362cb2f5e3af20fdf2d6ca8be9a1b&oe=5EC202B9']\", 'mention:chiếc này']",
           "action_query_babe_kb"
          ],
          [
           "<Sai>",
           "- Bạn vui lòng mô tả rõ mong muốn của bạn hoặc chat với nhân viên tư vấn nhé!\n<Show button [Chat với nhân viên] >",
           "query_knowledge_base",
           null,
           "action_query_babe_kb"
          ],
          [
           "/connect_employee",
           null,
           "connect_employee",
           null,
           "action_handover_to_inbox"
          ],
          [
           "Bao nhiêu ạ?",
           "Mình chưa xác định được món đồ bạn hỏi, bạn mô tả rõ hơn giúp mình nhé!",
           "query_knowledge_base",
           "['attribute:price']",
           "action_query_babe_kb"
          ],
          [
           "Thảm đàn umoo á b",
           "Dạ, sản phẩm Thảm hãng sản xuất Umoo hiện tại bên shop đang tạm hết hàng ạ. Bạn tham khảo các sản phẩm khác dành cho bé nhé!",
           "query_knowledge_base",
           "['object_type:tham', 'brand:umoo']",
           "action_query_babe_kb"
          ],
          [
           "ok sh",
           "Dạ vâng ạ!",
           "agree",
           null,
           "utter_agree"
          ],
          [
           "https://scontent.xx.fbcdn.net/v/t1.15752-9/93771510_235191447698204_240353022788501504_n.jpg?_nc_cat=105&_nc_sid=b96e70&_nc_oc=AQlx2pVp0r7_f0RjNPCWbwr9XV9j6QbdsFeRGn-dAOQKhtQDKWCKnzalfU5cNEXNX56-SC0B2WDVVA4_PNa0axDZ&_nc_ad=z-m&_nc_cid=0&_nc_zor=9&_nc_ht=scontent.xx&oh=45f391b8434f15864356ad9c7abb704f&oe=5EC0C3B0\nGiá sách này con ko shop",
           "Sản phẩm  Giá sách Hamitu  hiện shop đang có giá: *790,000 VND (giá gốc 790,000 VND)*.\nBạn tham khảo các sản phẩm sau nhé ạ:",
           "query_knowledge_base",
           "[\"url:['https://scontent.xx.fbcdn.net/v/t1.15752-9/93771510_235191447698204_240353022788501504_n.jpg?_nc_cat=105&_nc_sid=b96e70&_nc_oc=AQlx2pVp0r7_f0RjNPCWbwr9XV9j6QbdsFeRGn-dAOQKhtQDKWCKnzalfU5cNEXNX56-SC0B2WDVVA4_PNa0axDZ&_nc_ad=z-m&_nc_cid=0&_nc_zor=9&_nc_ht=scontent.xx&oh=45f391b8434f15864356ad9c7abb704f&oe=5EC0C3B0']\", 'attribute:price']",
           "action_query_babe_kb"
          ],
          [
           "Còn màu xanh ko shop",
           "Sản phẩm  Giá sách Hamitu  màu xanh hiện còn hàng ạ.\nBạn tham khảo các sản phẩm sau nhé ạ:",
           "query_knowledge_base",
           "['color:màu xanh']",
           "action_query_babe_kb"
          ],
          [
           "Ok thanks",
           "Dạ, cảm ơn ạ!",
           "thank",
           "[]",
           "utter_thank"
          ],
          [
           "hi em",
           "Chào bạn, mình là trợ lý ảo của Shop Gấu & Bí Ngô, mình giúp gì được bạn ạ?",
           "greet",
           "[]",
           "utter_greet"
          ],
          [
           "a đặt xe này luôn nhé\nhttps://scontent.xx.fbcdn.net/v/t1.15752-9/93426657_582665362349104_6117563872380452864_n.jpg?_nc_cat=111&_nc_sid=b96e70&_nc_ohc=9aDEp0XKqVoAX_rm0-p&_nc_ad=z-m&_nc_cid=0&_nc_zor=9&_nc_ht=scontent.xx&oh=a4d2c6178976a040c493e58775c20c02&oe=5EC02932\nmàu này luôn nhé",
           "Có phải bạn đang muốn đặt hàng sản phẩm sau đúng ko ạ:\n< card XE ĐẠP CÓ MÁI CHE UMOO> \n<Đúng><Sai>",
           "query_knowledge_base",
           "[\"url:['https://scontent.xx.fbcdn.net/v/t1.15752-9/93426657_582665362349104_6117563872380452864_n.jpg?_nc_cat=111&_nc_sid=b96e70&_nc_ohc=9aDEp0XKqVoAX_rm0-p&_nc_ad=z-m&_nc_cid=0&_nc_zor=9&_nc_ht=scontent.xx&oh=a4d2c6178976a040c493e58775c20c02&oe=5EC02932']\", 'object_type:xe', 'mention:này', 'attribute:color', 'mention:này']",
           "action_query_babe_kb"
          ],
          [
           "<Đúng>",
           "\"\"\"Cảm ơn bạn! Bạn vui lòng điền thông tin vào Mẫu đặt hàng giúp shop nhé!\n<Show ra cái bảng mẫu đặt hàng: có tên sản phẩm, cho khách tùy chọn số lượng, màu sắc...>\"\"\"\n<Xác nhận> <Hủy>",
           "agree",
           null,
           "action_query_babe_kb"
          ],
          [
           "<Xác nhận>",
           "Bạn đã đặt hàng thành công, đơn hàng sẽ được giao đến 434 tkc trong khoảng 24 h ạ",
           "agree",
           "[]",
           "utter_agree"
          ],
          [
           "shop oi báo giá e nhé",
           null,
           "query_knowledge_base",
           "['attribute:price']",
           "action_query_babe_kb"
          ],
          [
           "https://scontent.xx.fbcdn.net/v/t1.15752-9/93648340_253034409210291_8426945079947558912_n.jpg?_nc_cat=101&_nc_sid=b96e70&_nc_ohc=2G7vc-3J1KcAX-JFUES&_nc_ad=z-m&_nc_cid=0&_nc_zor=9&_nc_ht=scontent.xx&oh=874f23fb53a055d93df5efd471d8ca19&oe=5EC1E172",
           "Dạ, có phải bạn muốn hỏi một trong các sản phẩm dưới đây không ạ?\r\n (Vui lòng ấn chọn 1 sản phẩm)...",
           "send_link",
           "[\"url:['https://scontent.xx.fbcdn.net/v/t1.15752-9/93648340_253034409210291_8426945079947558912_n.jpg?_nc_cat=101&_nc_sid=b96e70&_nc_ohc=2G7vc-3J1KcAX-JFUES&_nc_ad=z-m&_nc_cid=0&_nc_zor=9&_nc_ht=scontent.xx&oh=874f23fb53a055d93df5efd471d8ca19&oe=5EC1E172']\"]",
           "action_handle_send_link_only"
          ],
          [
           "/disagree{\"object_type\": null}\r\n\r\n",
           "Bạn vui lòng mô tả rõ mong muốn của bạn hoặc chat với nhân viên tư vấn nhé!",
           "deny_object_type",
           "['object_type:None']",
           "utter_disagree"
          ],
          [
           "/connect_employee",
           null,
           "connect_employee",
           null,
           "action_handover_to_inbox"
          ],
          [
           "shop ơi\nhttps://scontent.xx.fbcdn.net/v/t1.15752-9/93255120_1079083369126985_2667434300114206720_n.jpg?_nc_cat=103&_nc_sid=b96e70&_nc_ohc=dk1p7EdIWjMAX_wg9sH&_nc_ad=z-m&_nc_cid=0&_nc_zor=9&_nc_ht=scontent.xx&oh=9e16ba685cbda443a28e7671ce23d47c&oe=5EC1B4BD\nset màu xanh nhiu ạ",
           "Sản phẩm  Bộ đồ chơi nhà bếp thông minh màu xanh hiện shop đang có giá: *790,000 VND (giá gốc 790,000 VND)*.\nBạn tham khảo các sản phẩm sau nhé ạ:\n<show card sp>",
           "query_knowledge_base",
           "[\"url:['https://scontent.xx.fbcdn.net/v/t1.15752-9/93255120_1079083369126985_2667434300114206720_n.jpg?_nc_cat=103&_nc_sid=b96e70&_nc_ohc=dk1p7EdIWjMAX_wg9sH&_nc_ad=z-m&_nc_cid=0&_nc_zor=9&_nc_ht=scontent.xx&oh=9e16ba685cbda443a28e7671ce23d47c&oe=5EC1B4BD']\", 'color:màu xanh', 'attribute:price']",
           "action_query_babe_kb"
          ],
          [
           "Làm bằng nhựa à bạn",
           "Sản phẩm  Bộ đồ chơi nhà bếp thông minh được làm từ chất liệu Nhựa ạ",
           "query_knowledge_base",
           "['material:bằng nhựa']",
           "action_query_babe_kb"
          ],
          [
           "thank shop",
           "Dạ,vâng ạ",
           "thank",
           null,
           "utter_thank"
          ],
          [
           "Báo giá giúp mình xe này nhé\nhttps://scontent.xx.fbcdn.net/v/t1.15752-9/94473738_228765461534907_3682761519461826560_n.jpg?_nc_cat=100&_nc_sid=b96e70&_nc_ohc=uDLcqJEOolcAX-GG_Tc&_nc_ad=z-m&_nc_cid=0&_nc_zor=9&_nc_ht=scontent.xx&oh=151f6463223d298d3adaa6a3806487c0&oe=5EC0F060",
           "Sản phẩm  Xe chòi chân có bàn đạp cao cấp Motion  hiện shop đang có giá: *389,400 VND (giá gốc 590,000 VND)*.\nBạn tham khảo các sản phẩm sau nhé ạ:",
           "query_knowledge_base",
           "[\"url:['https://scontent.xx.fbcdn.net/v/t1.15752-9/94473738_228765461534907_3682761519461826560_n.jpg?_nc_cat=100&_nc_sid=b96e70&_nc_ohc=uDLcqJEOolcAX-GG_Tc&_nc_ad=z-m&_nc_cid=0&_nc_zor=9&_nc_ht=scontent.xx&oh=151f6463223d298d3adaa6a3806487c0&oe=5EC0F060']\", 'attribute:price', 'object_type:xe', 'mention:này']",
           "action_query_babe_kb"
          ],
          [
           "Xe này cho bé từ mấy tuổi ha b",
           "Sản phẩm  Xe chòi chân có bàn đạp cao cấp Motion  hiện shop đang có độ tuổi sử dụng: *0 - 36 tháng*.\n",
           "query_knowledge_base",
           "['object_type:xe', 'mention:này', 'attribute:age_of_use']",
           "action_query_babe_kb"
          ],
          [
           "Nước nào sản xuất vậy bạn",
           "Sản phẩm  Xe chòi chân có bàn đạp cao cấp Motion có xuất xứ từ Trung Quốc ạ",
           "query_knowledge_base",
           "['attribute:origin']",
           "action_query_babe_kb"
          ],
          [
           "shop ơi",
           "Chào bạn, mình là trợ lý ảo của Shop Gấu & Bí Ngô, mình giúp gì được bạn ạ?",
           "greet",
           null,
           "utter_greet"
          ],
          [
           "https://scontent.xx.fbcdn.net/v/t1.15752-9/93422728_2617871585161789_4870721839715844096_n.jpg?_nc_cat=110&_nc_sid=b96e70&_nc_ohc=0zczYbPpRJAAX_ADWi8&_nc_ad=z-m&_nc_cid=0&_nc_zor=9&_nc_ht=scontent.xx&oh=582c071897ee02dc5d94c30d6e640cb9&oe=5EBEDA17",
           "Bạn đang tìm kiếm thông tin gì ạ?",
           "send_link",
           "[\"url:['https://scontent.xx.fbcdn.net/v/t1.15752-9/93422728_2617871585161789_4870721839715844096_n.jpg?_nc_cat=110&_nc_sid=b96e70&_nc_ohc=0zczYbPpRJAAX_ADWi8&_nc_ad=z-m&_nc_cid=0&_nc_zor=9&_nc_ht=scontent.xx&oh=582c071897ee02dc5d94c30d6e640cb9&oe=5EBEDA17']\"]",
           "action_handle_send_link_only"
          ],
          [
           "Bn vậy s",
           "Sản phẩm  XE ĐẠP CÓ MÁI CHE UMOO  hiện shop đang có giá: *1,148,000 VND (giá gốc 2,800,000 VND)*.\nBạn tham khảo các sản phẩm sau nhé ạ:\n<show card sp>",
           "query_knowledge_base",
           "['attribute:price']",
           "action_query_babe_kb"
          ],
          [
           "trọng lượng xe bn ạ",
           "Sản phẩm  XE ĐẠP CÓ MÁI CHE UMOO có trọng lượng 3,6 kg ạ",
           "query_knowledge_base",
           "['attribute:weight']",
           "action_query_babe_kb"
          ],
          [
           "Cho mình xin link shopee",
           "Sản phẩm  XE ĐẠP CÓ MÁI CHE UMOO có link shopee sau:\n<link shopee>",
           "query_knowledge_base",
           "['attribute:link']",
           "action_query_babe_kb"
          ],
          [
           "Bộ này có gấp lại dc k shop",
           "Mình chưa xác định được món đồ bạn hỏi, bạn mô tả rõ hơn giúp mình nhé!",
           "handover_to_inbox",
           "['mention:bộ này']",
           "action_handover_to_inbox"
          ],
          [
           "https://scontent.fhan1-1.fna.fbcdn.net/v/t1.15752-0/p280x280/94247169_518496298833739_4742785827803758592_n.jpg?_nc_cat=106&_nc_sid=b96e70&_nc_ohc=tIQpyBHqGKcAX_YGh_a&_nc_ht=scontent.fhan1-1.fna&_nc_tp=6&oh=3141a0925467d595ddf7cb2d28d75d28&oe=5EC24DBE\nhttps://scontent.fhan1-1.fna.fbcdn.net/v/t1.15752-0/p280x280/93419718_261010215057212_4518874244767023104_n.jpg?_nc_cat=104&_nc_sid=b96e70&_nc_ohc=EVuxAqLJPbkAX-2BWJl&_nc_ht=scontent.fhan1-1.fna&_nc_tp=6&oh=08ddddefc4c435796d90f76c1ab9e8b3&oe=5EC5835B",
           "Sản phẩm abc_xyz có thể gấp gọn ạ!",
           "query_knowledge_base",
           "[\"url:['https://scontent.fhan1-1.fna.fbcdn.net/v/t1.15752-0/p280x280/94247169_518496298833739_4742785827803758592_n.jpg?_nc_cat=106&_nc_sid=b96e70&_nc_ohc=tIQpyBHqGKcAX_YGh_a&_nc_ht=scontent.fhan1-1.fna&_nc_tp=6&oh=3141a0925467d595ddf7cb2d28d75d28&oe=5EC24DBE', 'https://scontent.fhan1-1.fna.fbcdn.net/v/t1.15752-0/p280x280/93419718_261010215057212_4518874244767023104_n.jpg?_nc_cat=104&_nc_sid=b96e70&_nc_ohc=EVuxAqLJPbkAX-2BWJl&_nc_ht=scontent.fhan1-1.fna&_nc_tp=6&oh=08ddddefc4c435796d90f76c1ab9e8b3&oe=5EC5835B']\"]",
           "action_query_babe_kb"
          ],
          [
           "shop ơi",
           "Chào bạn, mình là trợ lý ảo của Shop Gấu & Bí Ngô, mình giúp gì được bạn ạ?",
           "greet",
           null,
           "utter_greet"
          ],
          [
           "https://scontent.xx.fbcdn.net/v/t1.15752-9/93441614_838087866689750_1344649905557209088_n.jpg?_nc_cat=104&_nc_sid=b96e70&_nc_ohc=-Pf6gZpnxUgAX-Vpbkx&_nc_ad=z-m&_nc_cid=0&_nc_zor=9&_nc_ht=scontent.xx&oh=85b3f6a0e8f8a803032f798d945c239f&oe=5EBCD83B",
           "Bạn đang tìm kiếm thông tin gì ạ?",
           "send_link",
           "[\"url:['https://scontent.xx.fbcdn.net/v/t1.15752-9/93441614_838087866689750_1344649905557209088_n.jpg?_nc_cat=104&_nc_sid=b96e70&_nc_ohc=-Pf6gZpnxUgAX-Vpbkx&_nc_ad=z-m&_nc_cid=0&_nc_zor=9&_nc_ht=scontent.xx&oh=85b3f6a0e8f8a803032f798d945c239f&oe=5EBCD83B']\"]",
           "action_handle_send_link_only"
          ],
          [
           "Cho e giá nhé",
           "Sản phẩm Bộ đồ chơi nhà bếp thông minh gồm 2 size \nSize nhỏ kích thước  57x30x77cm giá KM chỉ 590,000 VND\nSize to kích thước 51x32x100cm Giá Km chỉ 790,000 VND\nBạn tham khảo các sản phẩm sau nhé ạ:\n<Show card sp>",
           "query_knowledge_base",
           "['attribute:price']",
           "action_query_babe_kb"
          ],
          [
           "shop ơi",
           "Chào bạn, mình là trợ lý ảo của Shop Gấu & Bí Ngô, mình giúp gì được bạn ạ?",
           "greet",
           null,
           "utter_greet"
          ],
          [
           "Shop còn bộ câu cá k",
           "Dạ mình còn ạ\nSản phẩm Bộ câu cá Toys House có đèn, nhạc chính hãng hiện shop có giá là 300,000 VND\nBạn vui lòng xe thông tin sản phẩm tại đây ạ:\n<show card sp>",
           "query_knowledge_base",
           "['object_type:bo_cau_ca']",
           "action_query_babe_kb"
          ],
          [
           "https://scontent.xx.fbcdn.net/v/t1.15752-9/93418428_2960774930681647_6163693023730335744_n.jpg?_nc_cat=106&_nc_sid=b96e70&_nc_ohc=JB_DiuoYI7oAX-7VvxC&_nc_ad=z-m&_nc_cid=0&_nc_zor=9&_nc_ht=scontent.xx&oh=0dbb7a6e70ca829a178c063d9fc8d1b9&oe=5EBEAFDC",
           "Bạn đang tìm kiếm thông tin gì ạ?",
           "send_link",
           "[\"url:['https://scontent.xx.fbcdn.net/v/t1.15752-9/93418428_2960774930681647_6163693023730335744_n.jpg?_nc_cat=106&_nc_sid=b96e70&_nc_ohc=JB_DiuoYI7oAX-7VvxC&_nc_ad=z-m&_nc_cid=0&_nc_zor=9&_nc_ht=scontent.xx&oh=0dbb7a6e70ca829a178c063d9fc8d1b9&oe=5EBEAFDC']\"]",
           "action_handle_send_link_only"
          ],
          [
           "Bnhieu z",
           "Sản phẩm Xe đạp có mái che Umoo hiện shop đang có giá: 2,800,000 VND (giá gốc 2,800,000 VND)\nBạn tham khảo sản phẩm sau nhé ạ:\n<show card sp>",
           "query_knowledge_base",
           "['attribute:price']",
           "action_query_babe_kb"
          ],
          [
           "Xe umoo tháo ra thanh xe đap 3 banh như nadle dc ko ạ",
           "Handover",
           "handover_to_inbox",
           "['brand:umoo', 'brand:nadle']",
           "action_handover_to_inbox"
          ],
          [
           "https://scontent.xx.fbcdn.net/v/t1.15752-9/93253452_2682930575263004_7855235270143115264_n.jpg?_nc_cat=105&_nc_sid=b96e70&_nc_ohc=7jkZ9XfKxBwAX_UAxjX&_nc_ad=z-m&_nc_cid=0&_nc_zor=9&_nc_ht=scontent.xx&oh=825bee90f4f292788d9a5972ee3450dd&oe=5EBBD6BC",
           "Bạn đang tìm kiếm thông tin gì ạ?",
           "send_link",
           "[\"url:['https://scontent.xx.fbcdn.net/v/t1.15752-9/93253452_2682930575263004_7855235270143115264_n.jpg?_nc_cat=105&_nc_sid=b96e70&_nc_ohc=7jkZ9XfKxBwAX_UAxjX&_nc_ad=z-m&_nc_cid=0&_nc_zor=9&_nc_ht=scontent.xx&oh=825bee90f4f292788d9a5972ee3450dd&oe=5EBBD6BC']\"]",
           "action_handle_send_link_only"
          ],
          [
           "https://scontent.xx.fbcdn.net/v/t1.15752-9/93253452_2682930575263004_7855235270143115264_n.jpg?_nc_cat=105&_nc_sid=b96e70&_nc_ohc=7jkZ9XfKxBwAX_UAxjX&_nc_ad=z-m&_nc_cid=0&_nc_zor=9&_nc_ht=scontent.xx&oh=825bee90f4f292788d9a5972ee3450dd&oe=5EBBD6BC",
           "Bạn đang tìm kiếm thông tin gì ạ?",
           "send_link",
           "[\"url:['https://scontent.xx.fbcdn.net/v/t1.15752-9/93253452_2682930575263004_7855235270143115264_n.jpg?_nc_cat=105&_nc_sid=b96e70&_nc_ohc=7jkZ9XfKxBwAX_UAxjX&_nc_ad=z-m&_nc_cid=0&_nc_zor=9&_nc_ht=scontent.xx&oh=825bee90f4f292788d9a5972ee3450dd&oe=5EBBD6BC']\"]",
           "action_handle_send_link_only"
          ],
          [
           "Mình muốn hỏi 2cái nôi này là 1 ah",
           "Dạ, hai sản phẩm trên khác nhau, bạn có thể tham khảo 2 sản phẩm đó tại đây ạ:\n<show card sp 2 sp đó>",
           "query_knowledge_base",
           "['object_type:noi', 'mention:này']",
           "action_query_babe_kb"
          ],
          [
           "/query_knowledge_base{\"url\": \"https://shopee.vn/product/36371562/6418671728\", \"product_id\": \"https://shopee.vn/product/36371562/6418671728\"}",
           "Dạ mời bạn tham khảo sản phẩm hiện có tại shop nhé!",
           "query_knowledge_base",
           "['url:https://shopee.vn/product/36371562/6418671728', 'product_id:https://shopee.vn/product/36371562/6418671728']",
           "action_query_babe_kb"
          ],
          [
           "Xe này thì bn ạ?\nhttps://scontent.xx.fbcdn.net/v/t1.15752-9/92663760_242313147139819_180836660240449536_n.jpg?_nc_cat=108&_nc_sid=b96e70&_nc_oc=AQlkEzFcevEZjlSfmMVghzOFCJ91RNxuLFmnj-LZ115MgaQQpCgvQftExyz9V3ToMt-zJcTykpcg-9VknQVe51f6&_nc_ad=z-m&_nc_cid=0&_nc_zor=9&_nc_ht=scontent.xx&oh=a2c61b4882879e5c266eff69947cb40d&oe=5EBD5657",
           "Dạ, có phải bạn muốn hỏi một trong các sản phẩm dưới đây không ạ?\n (Vui lòng ấn chọn 1 sản phẩm)...",
           "query_knowledge_base",
           "[\"url:['https://scontent.xx.fbcdn.net/v/t1.15752-9/92663760_242313147139819_180836660240449536_n.jpg?_nc_cat=108&_nc_sid=b96e70&_nc_oc=AQlkEzFcevEZjlSfmMVghzOFCJ91RNxuLFmnj-LZ115MgaQQpCgvQftExyz9V3ToMt-zJcTykpcg-9VknQVe51f6&_nc_ad=z-m&_nc_cid=0&_nc_zor=9&_nc_ht=scontent.xx&oh=a2c61b4882879e5c266eff69947cb40d&oe=5EBD5657']\", 'object_type:xe', 'mention:này', 'attribute:price']",
           "action_query_babe_kb"
          ],
          [
           "/query_knowledge_base{\"url\": \"https://shopee.vn/product/36371562/3103025341\", \"product_id\": \"https://shopee.vn/product/36371562/3103025341\"}",
           "Sản phẩm Xe NADLE 3 in 1: Xe đẩy - Chòi chân - Xe đạp hiện shop đang có giá: *2,450,000 VND (giá gốc 2,450,000 VND), 2,650,000 VND (giá gốc 2,650,000 VND), 1,550,000 VND (giá gốc 2,650,000 VND)*.\r\nBạn tham khảo các sản phẩm sau nhé ạ:",
           "query_knowledge_base",
           "['url:https://shopee.vn/product/36371562/3103025341', 'product_id:https://shopee.vn/product/36371562/3103025341']",
           "action_query_babe_kb"
          ],
          [
           "https://scontent.xx.fbcdn.net/v/t1.15752-9/94088606_259054638553614_1365453125116231680_n.jpg?_nc_cat=102&_nc_sid=b96e70&_nc_ohc=0UI6w3AAdH4AX-0aWZz&_nc_ad=z-m&_nc_cid=0&_nc_zor=9&_nc_ht=scontent.xx&oh=e45937d7e7c56fde3c8930b2dc0943ad&oe=5EBF6B41",
           "Bạn đang tìm kiếm thông tin gì ạ?",
           "send_link",
           "[\"url:['https://scontent.xx.fbcdn.net/v/t1.15752-9/94088606_259054638553614_1365453125116231680_n.jpg?_nc_cat=102&_nc_sid=b96e70&_nc_ohc=0UI6w3AAdH4AX-0aWZz&_nc_ad=z-m&_nc_cid=0&_nc_zor=9&_nc_ht=scontent.xx&oh=e45937d7e7c56fde3c8930b2dc0943ad&oe=5EBF6B41']\"]",
           "action_handle_send_link_only"
          ],
          [
           "Bn em oi\nCó màu khác ko e",
           "Sản phẩm Bàn ghế đa năng Lego Holla hiện shop đang có giá: *1,400,000 VND (giá gốc 1,400,000 VND)\nBạn tham khảo các sản phẩm sau nhé ạ:\n<show card sp>\n\nSản phẩm Bàn ghế đa năng Lego Holla hiện shop đang có các mẫu: mẫu Gấu và mẫu Thỏ\nBạn tham khảo các sản phẩm sau nhé ạ:\r\n<show card sp>",
           "query_knowledge_base",
           "['attribute:price', 'attribute:color']",
           "action_query_babe_kb"
          ],
          [
           "B ơi kệ sắp về chưa b",
           "Dạ bạn muốn hỏi sản phẩm nào trong các sản phẩm dưới đây ạ\n<show card tất cả các kệ mà shop bán kèm button bên dưới \"Cái này\">\n<button: Không có trong số này>",
           "query_knowledge_base",
           "['object_type:ke']",
           "action_query_babe_kb"
          ],
          [
           "/query_knowledge_base{\"url\": \"https://shopee.vn/product/36371562/3103025341\", \"product_id\": \"https://shopee.vn/product/36371562/3103025341\"}",
           "Dạ sản phẩm Kệ đa năng cao cấp Pie shop dự tính sẽ về hàng vào ngày xx/xx ạ\nBạn vui lòng xem các sản phẩm khác của shop nhé ạ:\n<show card các sp tương tự>",
           "query_knowledge_base",
           "['url:https://shopee.vn/product/36371562/3103025341', 'product_id:https://shopee.vn/product/36371562/3103025341']",
           "action_query_babe_kb"
          ],
          [
           "ok shop",
           "Shop cảm ơn bạn!",
           "agree",
           null,
           "utter_agree"
          ],
          [
           "shop ơi",
           "Chào bạn, mình là trợ lý ảo của Shop Gấu & Bí Ngô, mình giúp gì được bạn ạ?",
           "greet",
           null,
           "utter_greet"
          ],
          [
           "https://scontent.xx.fbcdn.net/v/t1.15752-9/93113313_1080458392352702_7732950842487078912_n.jpg?_nc_cat=110&_nc_sid=b96e70&_nc_ohc=VWiKd2ejLkwAX8ZSSsK&_nc_ad=z-m&_nc_cid=0&_nc_zor=9&_nc_ht=scontent.xx&oh=9f0283f10c9513441437fe7e7239b722&oe=5EBE3115",
           "Bạn đang tìm kiếm thông tin gì ạ?",
           "send_link",
           "[\"url:['https://scontent.xx.fbcdn.net/v/t1.15752-9/93113313_1080458392352702_7732950842487078912_n.jpg?_nc_cat=110&_nc_sid=b96e70&_nc_ohc=VWiKd2ejLkwAX8ZSSsK&_nc_ad=z-m&_nc_cid=0&_nc_zor=9&_nc_ht=scontent.xx&oh=9f0283f10c9513441437fe7e7239b722&oe=5EBE3115']\"]",
           "action_handle_send_link_only"
          ],
          [
           "Chó này này giá bao nhiêu vậy shop",
           "Dạ, có phải bạn muốn hỏi một trong các sản phẩm dưới đây không ạ?\n (Vui lòng ấn chọn 1 sản phẩm)...",
           "query_knowledge_base",
           "['attribute:price']",
           "action_query_babe_kb"
          ],
          [
           "Hết hàng rồi hả shop",
           "Mình chưa rõ món đồ bạn hỏi, nếu có trong danh sách trên, bạn vui lòng chọn sản phẩm giúp mình nhé.",
           "query_knowledge_base",
           "[]",
           "action_query_babe_kb"
          ],
          [
           "/query_knowledge_base{\"url\": \"https://shopee.vn/product/36371562/3103025341\", \"product_id\": \"https://shopee.vn/product/36371562/3103025341\"}",
           "Dạ, sản phẩm hiện tại bên shop đang tạm hết hàng ạ. Bạn tham khảo các sản phẩm khác dành cho bé nhé!",
           "query_knowledge_base",
           "['url:https://shopee.vn/product/36371562/3103025341', 'product_id:https://shopee.vn/product/36371562/3103025341']",
           "action_query_babe_kb"
          ],
          [
           "Mìh ck r nhé\nhttps://scontent.xx.fbcdn.net/v/t1.15752-9/93636148_581283165927177_1218583943880638464_n.jpg?_nc_cat=107&_nc_sid=b96e70&_nc_ohc=v18UutxNnwkAX8l0irW&_nc_ad=z-m&_nc_cid=0&_nc_zor=9&_nc_ht=scontent.xx&oh=7374a7a5bb108982137dd407f074cced&oe=5EBC3E04",
           "Cảm ơn bạn, nhân viên của shop sẽ xác nhận sớm lại ạ.",
           "confirm_transfer",
           "[\"url:['https://scontent.xx.fbcdn.net/v/t1.15752-9/93636148_581283165927177_1218583943880638464_n.jpg?_nc_cat=107&_nc_sid=b96e70&_nc_ohc=v18UutxNnwkAX8l0irW&_nc_ad=z-m&_nc_cid=0&_nc_zor=9&_nc_ht=scontent.xx&oh=7374a7a5bb108982137dd407f074cced&oe=5EBC3E04']\"]",
           "confirm_transfer"
          ],
          [
           "Shop em o dau",
           "Địa chỉ shop ở : số 16 ngõ 124 Âu Cơ, Tứ liên , Tây Hồ , Hà Nội ạ",
           "ask_address",
           "[]",
           "action_ask_address"
          ],
          [
           "B ơi kệ sắp về chưa b",
           "Dạ bạn muốn hỏi sản phẩm nào trong các sản phẩm dưới đây ạ\n<ke> <kệ đứng>",
           "query_knowledge_base",
           "['object_type:ke']",
           "action_query_babe_kb"
          ],
          [
           "shop ơi",
           "Chào bạn, mình là trợ lý ảo của Shop Gấu & Bí Ngô, mình giúp gì được bạn ạ?",
           "greet",
           null,
           "utter_greet"
          ],
          [
           "https://scontent.xx.fbcdn.net/v/t1.15752-9/93441614_838087866689750_1344649905557209088_n.jpg?_nc_cat=104&_nc_sid=b96e70&_nc_ohc=-Pf6gZpnxUgAX-Vpbkx&_nc_ad=z-m&_nc_cid=0&_nc_zor=9&_nc_ht=scontent.xx&oh=85b3f6a0e8f8a803032f798d945c239f&oe=5EBCD83B",
           "Bạn đang tìm kiếm thông tin gì ạ?",
           "send_link",
           "[\"url:['https://scontent.xx.fbcdn.net/v/t1.15752-9/93441614_838087866689750_1344649905557209088_n.jpg?_nc_cat=104&_nc_sid=b96e70&_nc_ohc=-Pf6gZpnxUgAX-Vpbkx&_nc_ad=z-m&_nc_cid=0&_nc_zor=9&_nc_ht=scontent.xx&oh=85b3f6a0e8f8a803032f798d945c239f&oe=5EBCD83B']\"]",
           "action_handle_send_link_only"
          ],
          [
           "Cho e giá nhé",
           "Sản phẩm Bộ đồ chơi nhà bếp thông minh có giá: 490.000 - 790.000 tùy mẫu mã (kích thước, màu sắc...).\nBạn tham khảo các sản phẩm sau nhé ạ:\n<Show card sp>",
           "query_knowledge_base",
           "['attribute:price']",
           "action_query_babe_kb"
          ],
          [
           "https://scontent.xx.fbcdn.net/v/t1.15752-9/93888763_534820093897495_8873435174071697408_n.jpg?_nc_cat=106&_nc_sid=b96e70&_nc_ohc=FKWPkRS2YlUAX_Kn-nn&_nc_ad=z-m&_nc_cid=0&_nc_zor=9&_nc_ht=scontent.xx&oh=7e3aa2900cd80040c578cdc8cd99deef&oe=5EC130D5",
           "Bạn đang tìm kiếm thông tin gì ạ?",
           "send_link",
           "[\"url:['https://scontent.xx.fbcdn.net/v/t1.15752-9/93888763_534820093897495_8873435174071697408_n.jpg?_nc_cat=106&_nc_sid=b96e70&_nc_ohc=FKWPkRS2YlUAX_Kn-nn&_nc_ad=z-m&_nc_cid=0&_nc_zor=9&_nc_ht=scontent.xx&oh=7e3aa2900cd80040c578cdc8cd99deef&oe=5EC130D5']\"]",
           "action_handle_send_link_only"
          ],
          [
           "Bộ này giâ bn ạ shop",
           "\"Dạ, có phải bạn muốn hỏi một trong các sản phẩm dưới đây không ạ?\n (Vui lòng ấn chọn 1 sản phẩm)...\"",
           "query_knowledge_base",
           "['mention:bộ này', 'attribute:price']",
           "action_query_babe_kb"
          ],
          [
           "Loại này bn vậy bạn",
           "Mình chưa xác định được món đồ bạn hỏi, bạn mô tả rõ hơn giúp mình nhé!",
           "query_knowledge_base",
           "['mention:loại này', 'attribute:price']",
           "action_query_babe_kb"
          ],
          [
           "https://scontent.xx.fbcdn.net/v/t1.15752-9/93049946_266000034415184_8022889009304829952_n.jpg?_nc_cat=107&_nc_sid=b96e70&_nc_ohc=6H5qmCrlsTMAX_UxJKR&_nc_ad=z-m&_nc_cid=0&_nc_zor=9&_nc_ht=scontent.xx&oh=56bc309e3fb8f432e5605d1e1fd4a8e2&oe=5EB6DC2D",
           "Sản phẩm  BẢNG VẼ HOLLA 2 in 1  hiện shop đang có giá: 830,000 VND (giá gốc 1,090,000 VND).\nBạn tham khảo sản phẩm sau nhé ạ:\n<show sp>",
           "send_link",
           "[\"url:['https://scontent.xx.fbcdn.net/v/t1.15752-9/93049946_266000034415184_8022889009304829952_n.jpg?_nc_cat=107&_nc_sid=b96e70&_nc_ohc=6H5qmCrlsTMAX_UxJKR&_nc_ad=z-m&_nc_cid=0&_nc_zor=9&_nc_ht=scontent.xx&oh=56bc309e3fb8f432e5605d1e1fd4a8e2&oe=5EB6DC2D']\"]",
           "action_query_babe_kb"
          ],
          [
           "Có những màu gì ạ ?",
           "Dạ, BẢNG VẼ HOLLA 2 in 1 hiện có các màu: Hồng, Xanh\n<Show card tương ứng với các màu của sản phẩm>",
           "query_knowledge_base",
           "['attribute:color']",
           "action_query_babe_kb"
          ],
          [
           "Để mình tham khảo thêm , có gì mình báo sớm",
           null,
           "handover_to_inbox",
           null,
           "action_handover_to_inbox"
          ],
          [
           "Shop có ghế nhún k b",
           "Sản phẩm Ghế nhún hiện shop đang có các sản phẩm sau ạ:\r\n<show card các sản phẩm object_type ghe_nhun>\n",
           "query_knowledge_base",
           "['object_type:ghe_nhun']",
           "action_query_babe_kb"
          ],
          [
           "Shop ơi",
           "Chào bạn, mình là trợ lý ảo của Shop Gấu & Bí Ngô, mình giúp gì được bạn ạ?",
           "greet",
           "[]",
           "utter_greet"
          ],
          [
           "Mình mua bộ đồ chơi nấu ăn cho bé\nHappy little chef",
           "Sản phẩm Đồ chơi nấu ăn hiện shop đang có các sản phẩm sau ạ:\n<show card các sản phẩm object_type do_choi_nau_an>\n",
           "query_knowledge_base",
           "['object_type:do_choi_nau_an']",
           "action_query_babe_kb"
          ],
          [
           "ok ạ",
           "Vâng ạ!",
           "agree",
           null,
           "utter_agree"
          ],
          [
           "Shop ơi",
           "Chào bạn, mình là trợ lý ảo của Shop Gấu & Bí Ngô, mình giúp gì được bạn ạ?",
           "greet",
           "[]",
           "utter_greet"
          ],
          [
           "Cái thanh chắn cầu thang giá bn vậy bạn",
           "Sản phẩm Thanh nối chặn hiện shop đang có các sản phẩm sau ạ:\n<show card các sản phẩm object_type thanh_noi_chan>\n",
           "query_knowledge_base",
           "['object_type:thanh_noi_chan','attribute:price']",
           "action_query_babe_kb"
          ],
          [
           "ok ạ",
           "Vâng ạ!",
           "agree",
           null,
           "utter_agree"
          ],
          [
           "gửi ảnh giúp c đc ko",
           "Mình chưa xác định được món đồ bạn hỏi, bạn mô tả rõ hơn giúp mình nhé!",
           "query_knowledge_base",
           "['attribute:image']",
           "action_query_babe_kb"
          ],
          [
           "m cần tìm ghế ăn cho bé",
           "Sản phẩm Ghế Ăn hiện shop đang có các mức giá sau ạ:\n<500-1M>....<Sao cũng được!>",
           "query_knowledge_base",
           "['object_type:ghe_an']",
           "action_query_babe_kb"
          ],
          [
           "Chào shop",
           "Chào bạn, mình là trợ lý ảo của Shop Gấu & Bí Ngô, mình giúp gì được bạn ạ?",
           "greet",
           "[]",
           "utter_greet"
          ],
          [
           "Cho  mình xin giá máy pha sữa bên shop nhé ạ",
           "Sản phẩm  Máy pha sữa cao cấp Tiny Baby Formula (Nhật Bản)  hiện shop đang có giá: *3,530,000 VND (giá gốc 3,850,000 VND)*.\nBạn tham khảo các sản phẩm sau nhé ạ:",
           "query_knowledge_base",
           "['attribute:price', 'object_type:may_pha_sua']",
           "action_query_babe_kb"
          ],
          [
           "Chào shop",
           "Chào bạn, mình là trợ lý ảo của Shop Gấu & Bí Ngô, mình giúp gì được bạn ạ?",
           "greet",
           "[]",
           "utter_greet"
          ],
          [
           "Shop cho hỏi có bán ghế ăn dặm cho trẻ con không",
           "Hiện tại sản phẩm Ghế Ăn  shop đang có những *giá* sau ạ:",
           "query_knowledge_base",
           "['object_type:ghe_an']",
           "action_query_babe_kb"
          ],
          [
           "/confirm_attribute_value{\"price\": \"500k - 1M\"}",
           "Dạ mời bạn tham khảo sản phẩm hiện có tại shop nhé!",
           "confirm_attribute_value",
           "['price:500k - 1M']",
           "action_query_babe_kb"
          ],
          [
           "Tôi muốn mua loại 799k",
           "Sản phẩm  Ghế ăn đa năng kết hợp xe kéo MASTELA 1018 CHÍNH HÃNG giá 799k hiện shop đang có giá: *799,000 VND (giá gốc 1,300,000 VND)*.\nBạn tham khảo các sản phẩm sau nhé ạ:",
           "query_knowledge_base",
           "['price:799k']",
           "action_query_babe_kb"
          ],
          [
           "Cái này 30kg có ngồi được ko",
           "Sản phẩm  Ghế ăn đa năng kết hợp xe kéo MASTELA 1018 CHÍNH HÃNG có trọng tải: 13kg ạ\nBạn tham khảo các sản phẩm sau nhé ạ:\n<show card sp>",
           "query_knowledge_base",
           "['mention:cái này', 'capacity:30kg']",
           "action_query_babe_kb"
          ],
          [
           "ok shop",
           "Vâng ạ!",
           "agree",
           null,
           "utter_agree"
          ],
          [
           "Có freeship k an\nẠ\nShip hcm",
           "Dạ bạn vui lòng chờ trong vài phút, nhân viên sẽ trả lời bạn sớm nhất ạ",
           "handover_to_inbox",
           "[]",
           "action_handover_to_inbox"
          ],
          [
           "Dạ,bao lâu thì biết đc mình có đc nhận qà hay k ạ",
           "Dạ bạn vui lòng chờ trong vài phút, nhân viên sẽ trả lời bạn sớm nhất ạ",
           "handover_to_inbox",
           "[]",
           "action_handover_to_inbox"
          ],
          [
           "https://scontent.xx.fbcdn.net/v/t1.15752-9/94342216_2472338469763544_5708094841569673216_n.jpg?_nc_cat=111&_nc_sid=b96e70&_nc_ohc=kg5-pAp7BTgAX-QEe_x&_nc_ad=z-m&_nc_cid=0&_nc_zor=9&_nc_ht=scontent.xx&oh=aeb84a7b6bfc81f1fdadcd81e0347482&oe=5EC8A82A\nhttps://scontent.xx.fbcdn.net/v/t1.15752-9/94318161_887396588390390_8811840609993097216_n.jpg?_nc_cat=106&_nc_sid=b96e70&_nc_ohc=AWcLOmXmk3YAX-wKPHM&_nc_ad=z-m&_nc_cid=0&_nc_zor=9&_nc_ht=scontent.xx&oh=a19ee2c3acb264c574fb86ccd5539fac&oe=5EC6A253\nhai món này giá bnhieu ạ",
           "Sản phẩm Bộ đồ chơi nhà bếp thông minh hiện shop đang có giá: 790000 VND (giá gốc 790000 VND). Bạn tham khảo các sản phẩm sau nhé ạ:\n<show card sp>\n\nSản phẩm Xe chòi chân kiêm xe lắc cao cấp có nhạc Holla hiện shop đang có giá: *790,000 VND (giá gốc 1,200,000 VND)*.\nBạn tham khảo các sản phẩm sau nhé ạ:\n<show card sp>",
           "query_knowledge_base",
           "[\"url:['https://scontent.xx.fbcdn.net/v/t1.15752-9/94318161_887396588390390_8811840609993097216_n.jpg?_nc_cat=106&_nc_sid=b96e70&_nc_ohc=AWcLOmXmk3YAX-wKPHM&_nc_ad=z-m&_nc_cid=0&_nc_zor=9&_nc_ht=scontent.xx&oh=a19ee2c3acb264c574fb86ccd5539fac&oe=5EC6A253', 'https://scontent.xx.fbcdn.net/v/t1.15752-9/94342216_2472338469763544_5708094841569673216_n.jpg?_nc_cat=111&_nc_sid=b96e70&_nc_ohc=kg5-pAp7BTgAX-QEe_x&_nc_ad=z-m&_nc_cid=0&_nc_zor=9&_nc_ht=scontent.xx&oh=aeb84a7b6bfc81f1fdadcd81e0347482&oe=5EC8A82A']\", 'mention:món này', 'attribute:price']",
           "action_query_babe_kb"
          ],
          [
           "ok shop",
           "Vâng ạ!",
           "agree",
           null,
           "utter_agree"
          ],
          [
           "Bàn này gập gọn vào dc ko bạn?",
           "Dạ, bạn vui lòng xem hướng dẫn sử dụng sản phẩm tại đây ạ\n<show video hướng dẫn sử dụng trong shopee>",
           "query_knowledge_base",
           "['mention:bàn này','attribute:video']",
           "action_query_babe_kb"
          ],
          [
           "https://scontent.xx.fbcdn.net/v/t1.15752-9/94181516_219655075983837_7369188505747980288_n.jpg?_nc_cat=110&_nc_sid=b96e70&_nc_oc=AQmgIzziHIsE2roCLl036R2GPDGy04e86wa1CzOt7ervW0gLWyk_em0o2mmJ3IgXqY_sUfwvGsa9c35xaciWrG3J&_nc_ad=z-m&_nc_cid=0&_nc_zor=9&_nc_ht=scontent.xx&oh=588db62d9dc34f7e68e7f6727ba95966&oe=5EC598CD\nEm xin giá xe này shop ơi",
           "Sản phẩm  Xe tập đi đa năng cao cấp Holla hiện shop đang có giá: 1200.000 VND\nBạn tham khảo các sản phẩm sau nhé ạ:\n<show card sp>",
           "query_knowledge_base",
           "[\"url:['https://scontent.xx.fbcdn.net/v/t1.15752-9/94181516_219655075983837_7369188505747980288_n.jpg?_nc_cat=110&_nc_sid=b96e70&_nc_oc=AQmgIzziHIsE2roCLl036R2GPDGy04e86wa1CzOt7ervW0gLWyk_em0o2mmJ3IgXqY_sUfwvGsa9c35xaciWrG3J&_nc_ad=z-m&_nc_cid=0&_nc_zor=9&_nc_ht=scontent.xx&oh=588db62d9dc34f7e68e7f6727ba95966&oe=5EC598CD']\", 'attribute:price', 'object_type:xe', 'mention:này']",
           "action_query_babe_kb"
          ],
          [
           "Cảm ơn shop",
           "Cảm ơn bạn!",
           "thank",
           "[]",
           "utter_thank"
          ],
          [
           "Shop ship cho em 1 chiếc xe đẩy Holla màu xanh nhé ạ",
           "{Các câu hỏi bot có thể hỏi để đủ thông tin:}\r\n- Dạ bạn muốn đặt sản phẩm nào ạ?\r\n- Bạn muốn đặt số lượng bao nhiêu? + 5 button từ 1 đến 5\r\n- Số điện thoại người nhận?\r\n- Địa chỉ nhận hàng? (Số nhà, phường/xã, quận/huyện, tỉnh/thành phố)\r\n- Bạn có lưu ý gì cho bên vận chuyển không? (vd: cần gấp...)\r\n\r\n{Nếu đã đủ thông tin sẽ show ra} Đơn hàng của bạn gồm:...",
           "query_knowledge_base",
           "['object_type:xe_day', 'brand:holla', 'color:màu xanh']",
           "action_query_babe_kb"
          ],
          [
           "Shop ơi",
           "Chào bạn, mình là trợ lý ảo của Shop Gấu & Bí Ngô, mình giúp gì được bạn ạ?",
           "greet",
           "[]",
           "utter_greet"
          ],
          [
           "E chào shop\nE xin giá xe đẩy với ạ",
           "Hiện tại sản phẩm Xe Đẩy  shop đang có những *giá* sau ạ:",
           "query_knowledge_base",
           "['attribute:price', 'object_type:xe_day']",
           "action_query_babe_kb"
          ],
          [
           "E quên ạ\nXe tròn tập đi ấy ạ",
           "Hiện tại sản phẩm Xe Tập Đi  shop đang có những *giá* sau ạ:",
           "query_knowledge_base",
           "['object_type:xe_tap_di']",
           "action_query_babe_kb"
          ],
          [
           "https://scontent.xx.fbcdn.net/v/t1.15752-9/93606905_299502284371603_116262917866782720_n.jpg?_nc_cat=104&_nc_sid=b96e70&_nc_ohc=0AUlKD2s0VYAX9ut48m&_nc_ad=z-m&_nc_cid=0&_nc_zor=9&_nc_ht=scontent.xx&oh=f4de749b147aef02435adc37b87d9235&oe=5EC5F7D5",
           "Bạn đang tìm kiếm thông tin gì ạ?",
           "send_link",
           "[\"url:['https://scontent.xx.fbcdn.net/v/t1.15752-9/93606905_299502284371603_116262917866782720_n.jpg?_nc_cat=104&_nc_sid=b96e70&_nc_ohc=0AUlKD2s0VYAX9ut48m&_nc_ad=z-m&_nc_cid=0&_nc_zor=9&_nc_ht=scontent.xx&oh=f4de749b147aef02435adc37b87d9235&oe=5EC5F7D5']\"]",
           "action_handle_send_link_only"
          ],
          [
           "Giá tiền ban ơi",
           "Sản phẩm Quây HOLLA FULL PHIÊN BẢN 2020 MẪU VƯƠNG MIỆN hiện shop đang có giá: 4190.000 VND\nBạn tham khảo các sản phẩm sau nhé ạ:",
           "query_knowledge_base",
           "['attribute:price']",
           "action_query_babe_kb"
          ],
          [
           "Thanks b nhé",
           "Cảm ơn bạn!",
           "thank",
           "[]",
           "utter_thank"
          ],
          [
           "Chào shop",
           "Chào bạn, mình là trợ lý ảo của Shop Gấu & Bí Ngô, mình giúp gì được bạn ạ?",
           "greet",
           "[]",
           "utter_greet"
          ],
          [
           "Đồ eco còmybaby hết loại 6-9m hả chị",
           "Dạ, vấn đề này mình không hỗ trợ bạn được. Bạn vui lòng bấm \"Chat với nhân viên\" và chờ trong giây lát, nhân viên sẽ trả lời bạn sớm nhất có thể ạ. \n(Button Chat với nhân viên)",
           "query_knowledge_base",
           "['object_type:quan_ao']['size:6-9m']",
           "action_query_babe_kb"
          ],
          [
           "/connect_employee",
           null,
           "handover_to_inbox",
           "[]",
           "action_handover_to_inbox"
          ],
          [
           "Okie bạn\nBạn cho tớ tổng tiền nhé",
           "Dạ, vấn đề này mình không hỗ trợ bạn được. Bạn vui lòng bấm \"Chat với nhân viên\" và chờ trong giây lát, nhân viên sẽ trả lời bạn sớm nhất có thể ạ. \n(Button Chat với nhân viên)",
           "handover_to_inbox",
           "[]",
           "action_handover_to_inbox"
          ],
          [
           "https://scontent.xx.fbcdn.net/v/t1.15752-9/94615022_254702325575851_8685774369143652352_n.jpg?_nc_cat=107&_nc_sid=b96e70&_nc_oc=AQkW5yJT2whJY3uM6d13-4XyKcKwwf8gHNd-ED41EzYfoVcxoq3ogMZuuTsWcwYdCVqvspJWtELLeP0qWdOz4xNP&_nc_ad=z-m&_nc_cid=0&_nc_zor=9&_nc_ht=scontent.xx&oh=39335ddc3e910c63c2f92a71bc0721a2&oe=5EC5D7A0\nhttps://scontent.xx.fbcdn.net/v/t1.15752-9/94718995_656896051775135_4424984880991961088_n.jpg?_nc_cat=110&_nc_sid=b96e70&_nc_oc=AQmqj-ZwCy04a-EryIf2WLMm4Qvp9emjauY9QNfszWU48mpnGT7YnO-0OJhPHEpL8ykkfrGfYXp_1Pb3Q7FIuunG&_nc_ad=z-m&_nc_cid=0&_nc_zor=9&_nc_ht=scontent.xx&oh=eb24143022047722f3bba74d15534964&oe=5EC7896A\nhttps://scontent.xx.fbcdn.net/v/t1.15752-9/94278563_315945652700875_3393720721636065280_n.jpg?_nc_cat=107&_nc_sid=b96e70&_nc_oc=AQlu_SI7QRtyKEdwncW1fzfBqKQXFLU24Siyz8e0Kl_AT5LA2F-ihNTPCzaoj0XyStIeQPeFqeHSDe3t7fLokib0&_nc_ad=z-m&_nc_cid=0&_nc_zor=9&_nc_ht=scontent.xx&oh=a8c6f18333cf9f2b558c8e4c26ff2765&oe=5EC7387D\nShop báo giá e 3 sp này vs",
           "Sản phẩm Xe chòi chân kiêm xe lắc cao cấp có nhạc Holla hiện shop đang có giá: *790,000 VND (giá gốc 1,200,000 VND)*.\nBạn tham khảo các sản phẩm sau nhé ạ:\n<show card sp>\nSản phẩm Voi mẹ phun nước hiện shop đang có giá: *189,000 VND (giá gốc 290,000 VND)*.\nBạn tham khảo các sản phẩm sau nhé ạ:\n<show card sp>\nSản phẩm  Xe tập đi đa năng cao cấp Holla hiện shop đang có giá: *750,000 VND (giá gốc 1,200,000 VND)*.\nBạn tham khảo các sản phẩm sau nhé ạ:\n<show card sp>",
           "query_knowledge_base",
           "[\"url:['https://scontent.xx.fbcdn.net/v/t1.15752-9/94278563_315945652700875_3393720721636065280_n.jpg?_nc_cat=107&_nc_sid=b96e70&_nc_oc=AQlu_SI7QRtyKEdwncW1fzfBqKQXFLU24Siyz8e0Kl_AT5LA2F-ihNTPCzaoj0XyStIeQPeFqeHSDe3t7fLokib0&_nc_ad=z-m&_nc_cid=0&_nc_zor=9&_nc_ht=scontent.xx&oh=a8c6f18333cf9f2b558c8e4c26ff2765&oe=5EC7387D', 'https://scontent.xx.fbcdn.net/v/t1.15752-9/94718995_656896051775135_4424984880991961088_n.jpg?_nc_cat=110&_nc_sid=b96e70&_nc_oc=AQmqj-ZwCy04a-EryIf2WLMm4Qvp9emjauY9QNfszWU48mpnGT7YnO-0OJhPHEpL8ykkfrGfYXp_1Pb3Q7FIuunG&_nc_ad=z-m&_nc_cid=0&_nc_zor=9&_nc_ht=scontent.xx&oh=eb24143022047722f3bba74d15534964&oe=5EC7896A', 'https://scontent.xx.fbcdn.net/v/t1.15752-9/94615022_254702325575851_8685774369143652352_n.jpg?_nc_cat=107&_nc_sid=b96e70&_nc_oc=AQkW5yJT2whJY3uM6d13-4XyKcKwwf8gHNd-ED41EzYfoVcxoq3ogMZuuTsWcwYdCVqvspJWtELLeP0qWdOz4xNP&_nc_ad=z-m&_nc_cid=0&_nc_zor=9&_nc_ht=scontent.xx&oh=39335ddc3e910c63c2f92a71bc0721a2&oe=5EC5D7A0']\", 'attribute:price']",
           "action_query_babe_kb"
          ],
          [
           "https://scontent.xx.fbcdn.net/v/t1.15752-9/93936800_2528999887362024_6985015496575811584_n.png?_nc_cat=106&_nc_sid=b96e70&_nc_ohc=8tGxj4NRcFgAX_OiTnm&_nc_ad=z-m&_nc_cid=0&_nc_zor=9&_nc_ht=scontent.xx&oh=a363ac91b870ae543a0a88dba3e37f0b&oe=5EC78195\nxe nay bn ban oi?",
           "Sản phẩm Xe chòi chân kiêm xe lắc cao cấp có nhạc Holla hiện shop đang có giá: *790,000 VND (giá gốc 1,200,000 VND)*.\r\nBạn tham khảo các sản phẩm sau nhé ạ:\r\n<show card sp>",
           "query_knowledge_base",
           "[\"url:['https://scontent.xx.fbcdn.net/v/t1.15752-9/93936800_2528999887362024_6985015496575811584_n.png?_nc_cat=106&_nc_sid=b96e70&_nc_ohc=8tGxj4NRcFgAX_OiTnm&_nc_ad=z-m&_nc_cid=0&_nc_zor=9&_nc_ht=scontent.xx&oh=a363ac91b870ae543a0a88dba3e37f0b&oe=5EC78195']\", 'object_type:xe', 'mention:nay', 'attribute:price']",
           "action_query_babe_kb"
          ],
          [
           "ok ạ",
           "Vâng ạ!",
           "agree",
           null,
           "utter_agree"
          ],
          [
           "Xe nadle có tay đẩy ko b",
           "Dạ, vấn đề này mình không hỗ trợ bạn được. Bạn vui lòng bấm \"Chat với nhân viên\" và chờ trong giây lát, nhân viên sẽ trả lời bạn sớm nhất có thể ạ. \n(Button Chat với nhân viên)",
           "query_knowledge_base",
           "['brand:nadle','accessories:tay đẩy']",
           "action_query_babe_kb"
          ],
          [
           "/connect_employee",
           null,
           "handover_to_inbox",
           "[]",
           "action_handover_to_inbox"
          ],
          [
           "Cho mình link shoppe",
           "Dạ bạn cần xin link shopee của shop hay của sản phẩm nào ạ?",
           "query_knowledge_base",
           "['attribute:link']",
           "action_query_babe_kb"
          ],
          [
           "Xe lắc đó b",
           "Dạ mời bạn xem sản phẩm tại đây ạ:\n- Link Shopee: https://shopee.vn/-Richell-i.36371562.544276829",
           "query_knowledge_base",
           "['object_type: xe_tap_di','attribute:link']",
           "action_query_babe_kb"
          ],
          [
           "Chào ad. Cho tớ hỏi mình còn thảm xốp Infantino 28 miếng k nhỉ? Tớ cảm ơn",
           "Sản phẩm  Thảm hãng sản xuất Infantino, chất liệu Xốp 28 miếng hiện shop còn hàng, shop đang có giá: *99,000 VND (giá gốc 99,000 VND), 279,000 VND (giá gốc 349,000 VND), 179,000 VND (giá gốc 179,000 VND)*.\nBạn tham khảo các sản phẩm sau nhé ạ:",
           "query_knowledge_base",
           "['object_type:tham', 'material:xốp', 'brand:infantino','number of pieces:28 miếng']",
           "action_query_babe_kb"
          ],
          [
           "Loại 28 miếng có những màu gì hả ad? Hay chỉ có 1 màu thui?",
           "Sản phẩm  Thảm hãng sản xuất Infantino, chất liệu Xốp 28 miếng hiện shop đang có màu: *Xanh, Hồng*.\nBạn tham khảo các sản phẩm sau nhé ạ:",
           "query_knowledge_base",
           "['attribute:color', 'attribute:color']",
           "action_query_babe_kb"
          ],
          [
           "Oki tớ cảm ơn nhiều nhé!",
           "Cảm ơn bạn!",
           "thank",
           "[]",
           "utter_thank"
          ],
          [
           "Shop đã về xích đu & cầu trượt holla chưa ạ",
           "Sản phẩm  Cầu trượt xích đu Hola hải cẩu 2020 hãng sản xuất Holla hiện shop đang có giá: *1,982,500 VND (giá gốc 3,250,000 VND)*.\nBạn tham khảo các sản phẩm sau nhé ạ:",
           "query_knowledge_base",
           "['object_type:cau_truot', object_type:xich_du', 'brand:holla']",
           "action_query_babe_kb"
          ],
          [
           "Xích đu shop còn màu gì ạ",
           "Sản phẩm  Cầu trượt xích đu Hola hải cẩu 2020 hãng sản xuất Holla hiện shop đang có màu: *Vàng, Hồng*.\nBạn tham khảo các sản phẩm sau nhé ạ:",
           "query_knowledge_base",
           "['object_type:xich_du','attribute:color']",
           "action_query_babe_kb"
          ],
          [
           "Shop đã về xích đu & cầu trượt holla chưa ạ",
           "Mời bạn tham khảo các sản phẩm Cầu trượt, Xích đu, nhãn hiệu Holla đang có tại shop ạ:\n<show card các sản phẩm Cầu trượt, Xích đu Holla>",
           "query_knowledge_base",
           "['object_type:cau_truot', object_type:xich_du', 'brand:holla']",
           "action_query_babe_kb"
          ],
          [
           "Xích đu shop còn màu gì ạ",
           "Sản phẩm Xích đu nhãn hiệu Holla đang có các màu sau: <show màu>",
           "query_knowledge_base",
           "['object_type:xich_du','attribute:color']",
           "action_query_babe_kb"
          ],
          [
           "ok shop",
           "Vâng ạ!",
           "agree",
           null,
           "utter_agree"
          ],
          [
           "Ahop có giường này ko shop\nhttps://scontent.xx.fbcdn.net/v/t1.15752-9/94697811_243224110251372_4622459209449996288_n.jpg?_nc_cat=110&_nc_sid=b96e70&_nc_ohc=Z2trUQ5yFdkAX_aFlZ0&_nc_ad=z-m&_nc_cid=0&_nc_zor=9&_nc_ht=scontent.xx&oh=41b0cdfe72063f000ae97e6d2f27ea86&oe=5EC6F340",
           "Sản phẩm này hiện tại Shop không có, mời bạn tham khảo các Giường đang có tại shop ạ:\n<Show card Giường>",
           "query_knowledge_base",
           "[\"url:['https://scontent.xx.fbcdn.net/v/t1.15752-9/94697811_243224110251372_4622459209449996288_n.jpg?_nc_cat=110&_nc_sid=b96e70&_nc_ohc=Z2trUQ5yFdkAX_aFlZ0&_nc_ad=z-m&_nc_cid=0&_nc_zor=9&_nc_ht=scontent.xx&oh=41b0cdfe72063f000ae97e6d2f27ea86&oe=5EC6F340']\", 'object_type:giuong', 'mention:này']",
           "action_query_babe_kb"
          ],
          [
           "bộ bang lego thi bao nhieu",
           "Mình chưa xác định được món đồ bạn hỏi, bạn mô tả rõ hơn giúp mình nhé!",
           "query_knowledge_base",
           "['attribute:price']",
           "action_query_babe_kb"
          ],
          [
           "bàn lego ah",
           "Sản phẩm Bàn Lego hiện đang có giá: 1.035.000 VNĐ (Giá gốc: 1.750.000 VNĐ), 1.050.000VNĐ (Giá gốc: 1.890.000 VNĐ)\n<Show card 2 bàn lego đang có>",
           "query_knowledge_base",
           "['object_type:ban_lego']",
           "action_query_babe_kb"
          ],
          [
           "bộ bàn lego thi bao nhieu",
           "Sản phẩm Bàn Lego hiện đang có giá: 1.035.000 VNĐ (Giá gốc: 1.750.000 VNĐ), 1.050.000VNĐ (Giá gốc: 1.890.000 VNĐ)\n<Show card 2 bàn lego đang có>",
           "query_knowledge_base",
           "['attribute:price', 'object_type:ban_lego']",
           "action_query_babe_kb"
          ],
          [
           "thank b nhé",
           "Shop cảm ơn bạn ạ",
           "thank",
           "[]",
           "utter thank"
          ],
          [
           "shop ơi",
           "Chào bạn, mình là trợ lý ảo của Shop Gấu & Bí Ngô, mình giúp gì được bạn ạ?",
           "greet",
           null,
           "utter_greet"
          ],
          [
           "Shop có máy tiệt trùng uv fatz đúng ko ạ",
           "Mời bạn tham khảo các sản phẩm Máy tiệt trùng thương hiệu Fatz đang có tại shop ạ:\n<card 1> <card 2> <card 3> ...",
           "query_knowledge_base",
           "['object_type:may_tiet_trung', 'brand:fatz']",
           "action_query_babe_kb"
          ],
          [
           "shop ơi",
           "Chào bạn, mình là trợ lý ảo của Shop Gấu & Bí Ngô, mình giúp gì được bạn ạ?",
           "greet",
           null,
           "utter_greet"
          ],
          [
           "Shop có máy tiệt trùng uv fatz này đúng ko ạ\nhttps://scontent.xx.fbcdn.net/v/t1.15752-9/93890206_951879361908487_6660440411380645888_n.jpg?_nc_cat=101&_nc_sid=b96e70&_nc_ohc=qE3jk9gMoPkAX9QNKtO&_nc_ad=z-m&_nc_cid=0&_nc_zor=9&_nc_ht=scontent.xx&oh=34409ae90da130ed09ec60ff56ecf5aa&oe=5EC70431\n",
           "Sản phẩm TẶNG 02 bình sữa cao cấp - Máy tiệt trùng sấy khô tia UV cao cấp Fatz Baby FB4702 hiện có giá: 2.390.000 VNĐ (Giá gốc: 2.750.000 VNĐ).\n<show card>",
           "query_knowledge_base",
           "['object_type:may_tiet_trung', 'brand:fatz', 'url:https://scontent.xx.fbcdn.net/v/t1.15752-9/93890206_951879361908487_6660440411380645888_n.jpg?_nc_cat=101&_nc_sid=b96e70&_nc_ohc=qE3jk9gMoPkAX9QNKtO&_nc_ad=z-m&_nc_cid=0&_nc_zor=9&_nc_ht=scontent.xx&oh=34409ae90da130ed09ec60ff56ecf5aa&oe=5EC70431']",
           "action_query_babe_kb"
          ],
          [
           "ok shop",
           "Dạ vâng ạ!",
           "agree",
           null,
           "utter_agree"
          ],
          [
           "shop ơi",
           "Chào bạn, mình là trợ lý ảo của Shop Gấu & Bí Ngô, mình giúp gì được bạn ạ?",
           "greet",
           null,
           "utter_greet"
          ],
          [
           "Shop có máy tiệt trùng uv fatz này đúng ko ạ\nhttps://scontent.xx.fbcdn.net/v/t1.15752-9/93890206_951879361908487_6660440411380645888_n.jpg?_nc_cat=101&_nc_sid=b96e70&_nc_ohc=qE3jk9gMoPkAX9QNKtO&_nc_ad=z-m&_nc_cid=0&_nc_zor=9&_nc_ht=scontent.xx&oh=34409ae90da130ed09ec60ff56ecf5aa&oe=5EC70431\n",
           "Dạ, có phải bạn muốn hỏi một trong các sản phẩm dưới đây không ạ?\n (Vui lòng ấn chọn 1 sản phẩm)\n\n<show 5 card sản phẩm>",
           "query_knowledge_base",
           "['object_type:may_tiet_trung', 'brand:fatz', 'url:https://scontent.xx.fbcdn.net/v/t1.15752-9/93890206_951879361908487_6660440411380645888_n.jpg?_nc_cat=101&_nc_sid=b96e70&_nc_ohc=qE3jk9gMoPkAX9QNKtO&_nc_ad=z-m&_nc_cid=0&_nc_zor=9&_nc_ht=scontent.xx&oh=34409ae90da130ed09ec60ff56ecf5aa&oe=5EC70431']",
           "action_query_babe_kb"
          ],
          [
           "/query_knowledge_base{\"url\": \"https://shopee.vn/product/36371562/3210697307\", \"product_id\": \"https://shopee.vn/product/36371562/3210697307\"}",
           "Sản phẩm TẶNG 02 bình sữa cao cấp - Máy tiệt trùng sấy khô tia UV cao cấp Fatz Baby FB4702 hiện có giá: 2.390.000 VNĐ (Giá gốc: 2.750.000 VNĐ).\r\n<show card>",
           "query_knowledge_base",
           "['url:https://shopee.vn/product/36371562/3210697307', 'product_id:https://shopee.vn/product/36371562/3210697307']",
           "action_query_babe_kb"
          ],
          [
           "https://scontent.xx.fbcdn.net/v/t1.15752-9/93913289_670003413559736_245812939833999360_n.jpg?_nc_cat=105&_nc_sid=b96e70&_nc_ohc=IO8cH-ISUB4AX-tEq7O&_nc_ad=z-m&_nc_cid=0&_nc_zor=9&_nc_ht=scontent.xx&oh=70613ff7bf51b3e0c66e959468a12377&oe=5EC63EC6",
           "Bạn đang tìm kiếm thông tin gì ạ?",
           "send_link",
           "[\"url:['https://scontent.xx.fbcdn.net/v/t1.15752-9/93913289_670003413559736_245812939833999360_n.jpg?_nc_cat=105&_nc_sid=b96e70&_nc_ohc=IO8cH-ISUB4AX-tEq7O&_nc_ad=z-m&_nc_cid=0&_nc_zor=9&_nc_ht=scontent.xx&oh=70613ff7bf51b3e0c66e959468a12377&oe=5EC63EC6']\"]",
           "action_handle_send_link_only"
          ],
          [
           "Bạn có mẫu ntn ko\nCho mình xin thông số",
           "Sản phẩm Ghế đa năng cao cấp Mastela 1015 hiện có giá: 1.320.000 VNĐ (Giá gốc: 1.599.000 VNĐ).\nMời bạn xem chi tiết thông tin sản phẩm tại đường link:\n<show card>",
           "query_knowledge_base",
           "[]",
           "action_query_babe_kb"
          ],
          [
           "https://scontent.xx.fbcdn.net/v/t1.15752-9/93913289_670003413559736_245812939833999360_n.jpg?_nc_cat=105&_nc_sid=b96e70&_nc_ohc=IO8cH-ISUB4AX-tEq7O&_nc_ad=z-m&_nc_cid=0&_nc_zor=9&_nc_ht=scontent.xx&oh=70613ff7bf51b3e0c66e959468a12377&oe=5EC63EC6",
           "Bạn đang tìm kiếm thông tin gì ạ?",
           "send_link",
           "[\"url:['https://scontent.xx.fbcdn.net/v/t1.15752-9/93913289_670003413559736_245812939833999360_n.jpg?_nc_cat=105&_nc_sid=b96e70&_nc_ohc=IO8cH-ISUB4AX-tEq7O&_nc_ad=z-m&_nc_cid=0&_nc_zor=9&_nc_ht=scontent.xx&oh=70613ff7bf51b3e0c66e959468a12377&oe=5EC63EC6']\"]",
           "action_handle_send_link_only"
          ],
          [
           "Bạn có mẫu ntn ko\nCho mình xin thông số",
           "Sản phẩm Ghế đa năng cao cấp Mastela 1015 hiện đang hết hàng. Mời bạn tham khảo các sản phẩm Ghế ăn khác đang có tại shop ạ.\n<Show random 5 cards>",
           "query_knowledge_base",
           "[]",
           "action_query_babe_kb"
          ],
          [
           "https://scontent.xx.fbcdn.net/v/t1.15752-9/93913289_670003413559736_245812939833999360_n.jpg?_nc_cat=105&_nc_sid=b96e70&_nc_ohc=IO8cH-ISUB4AX-tEq7O&_nc_ad=z-m&_nc_cid=0&_nc_zor=9&_nc_ht=scontent.xx&oh=70613ff7bf51b3e0c66e959468a12377&oe=5EC63EC6",
           "Bạn đang tìm kiếm thông tin gì ạ?",
           "send_link",
           "[\"url:['https://scontent.xx.fbcdn.net/v/t1.15752-9/93913289_670003413559736_245812939833999360_n.jpg?_nc_cat=105&_nc_sid=b96e70&_nc_ohc=IO8cH-ISUB4AX-tEq7O&_nc_ad=z-m&_nc_cid=0&_nc_zor=9&_nc_ht=scontent.xx&oh=70613ff7bf51b3e0c66e959468a12377&oe=5EC63EC6']\"]",
           "action_handle_send_link_only"
          ],
          [
           "Bạn có mẫu ntn ko\nCho mình xin thông số",
           "Dạ, có phải bạn muốn hỏi một trong các sản phẩm dưới đây không ạ?\n (Vui lòng ấn chọn 1 sản phẩm)\n\n<show 5 card sản phẩm>",
           "query_knowledge_base",
           "[]",
           "action_query_babe_kb"
          ],
          [
           "Chào shop",
           "Chào bạn, mình là trợ lý ảo của Shop Gấu & Bí Ngô, mình giúp gì được bạn ạ?",
           "greet",
           null,
           "utter_greet"
          ],
          [
           "Hiện bên mình có những mẫu thú nhún nào",
           "Sản phẩm Thú nhún Toys House hiện có giá 239.000 VNĐ (Giá gốc: 275.000 VNĐ).\nMời bạn tham khảo sản phẩm tại đường link:\n<show card>",
           "query_knowledge_base",
           "['object_type:thu_nhun']",
           "action_query_babe_kb"
          ],
          [
           "Chào shop",
           "Chào bạn, mình là trợ lý ảo của Shop Gấu & Bí Ngô, mình giúp gì được bạn ạ?",
           "greet",
           null,
           "utter_greet"
          ],
          [
           "Hiện bên mình có những mẫu thú nhún nào",
           "Sản phẩm Thú nhún hiện shop đang có các sản phẩm sau ạ:\n<show card các sản phẩm object type thu_nhun>",
           "query_knowledge_base",
           "['object_type:thu_nhun']",
           "action_query_babe_kb"
          ],
          [
           "ok shop",
           "Vâng ạ!",
           "agree",
           null,
           "utter_agree"
          ],
          [
           "Ấy ơi mấy thứ này nhà ấy bnhieu\nhttps://scontent.xx.fbcdn.net/v/t1.15752-9/93831201_1146889219003227_7546191276316557312_n.jpg?_nc_cat=105&_nc_sid=b96e70&_nc_ohc=tLpSsYOv5b0AX-UBvhh&_nc_ad=z-m&_nc_cid=0&_nc_zor=9&_nc_ht=scontent.xx&oh=af8d419a2e841c371c922be98a8025dc&oe=5EC4E7BA\nhttps://scontent.xx.fbcdn.net/v/t1.15752-9/94143660_227716808643426_4665045218939109376_n.jpg?_nc_cat=105&_nc_sid=b96e70&_nc_ohc=7GeN0-9CL-AAX9yVHBg&_nc_ad=z-m&_nc_cid=0&_nc_zor=9&_nc_ht=scontent.xx&oh=42ac8090663a783fb85c954a364fcf89&oe=5EC72B79",
           "Sản phẩm Bàn học, bàn chơi lắp ghép Lego cao cấp hiện đang có giá: 1.035.000 VNĐ (Giá gốc: 1.750.000 VNĐ)\n<Show card sản phẩm 1>\n\nSản phẩm Voi mẹ phun nước hiện đang có giá: 189.000 VNĐ (Giá gốc: 290.000 VNĐ).\n<Show card sản phẩm 2>",
           "query_knowledge_base",
           "[\"url:['https://scontent.xx.fbcdn.net/v/t1.15752-9/93831201_1146889219003227_7546191276316557312_n.jpg?_nc_cat=105&_nc_sid=b96e70&_nc_ohc=tLpSsYOv5b0AX-UBvhh&_nc_ad=z-m&_nc_cid=0&_nc_zor=9&_nc_ht=scontent.xx&oh=af8d419a2e841c371c922be98a8025dc&oe=5EC4E7BA', 'https://scontent.xx.fbcdn.net/v/t1.15752-9/94143660_227716808643426_4665045218939109376_n.jpg?_nc_cat=105&_nc_sid=b96e70&_nc_ohc=7GeN0-9CL-AAX9yVHBg&_nc_ad=z-m&_nc_cid=0&_nc_zor=9&_nc_ht=scontent.xx&oh=42ac8090663a783fb85c954a364fcf89&oe=5EC72B79']\", 'attribute:price']",
           "action_query_babe_kb"
          ],
          [
           "https://scontent.xx.fbcdn.net/v/t1.15752-9/94570707_234412474285774_6361456205918896128_n.jpg?_nc_cat=106&_nc_sid=b96e70&_nc_ohc=5aKOFHkW5MwAX8P-5Cg&_nc_ad=z-m&_nc_cid=0&_nc_zor=9&_nc_ht=scontent.xx&oh=ab98b5d71300c2fac627d044b67b9d44&oe=5EC423FB",
           "Bạn đang tìm kiếm thông tin gì ạ?",
           "send_link",
           "[\"url:['https://scontent.xx.fbcdn.net/v/t1.15752-9/94570707_234412474285774_6361456205918896128_n.jpg?_nc_cat=106&_nc_sid=b96e70&_nc_ohc=5aKOFHkW5MwAX8P-5Cg&_nc_ad=z-m&_nc_cid=0&_nc_zor=9&_nc_ht=scontent.xx&oh=ab98b5d71300c2fac627d044b67b9d44&oe=5EC423FB']\"]",
           "action_handle_send_link_only"
          ],
          [
           "Bn vậy\nhttps://scontent.xx.fbcdn.net/v/t1.15752-9/93558727_234412454285776_253028798423891968_n.jpg?_nc_cat=100&_nc_sid=b96e70&_nc_ohc=h9Y4J1MnK90AX-NWRjd&_nc_ad=z-m&_nc_cid=0&_nc_zor=9&_nc_ht=scontent.xx&oh=a2f97f6c39456cdc20c8536ecb51d23d&oe=5EC3BD1D",
           "Sản phẩm COMBO HOLLA FULL PHIÊN BẢN 2020 MẪU VƯƠNG MIỆN đang có giá 4.100.000 VNĐ (Giá gốc: 5.000.000 VNĐ).\n<Show card>",
           "query_knowledge_base",
           "[\"url:['https://scontent.xx.fbcdn.net/v/t1.15752-9/93558727_234412454285776_253028798423891968_n.jpg?_nc_cat=100&_nc_sid=b96e70&_nc_ohc=h9Y4J1MnK90AX-NWRjd&_nc_ad=z-m&_nc_cid=0&_nc_zor=9&_nc_ht=scontent.xx&oh=a2f97f6c39456cdc20c8536ecb51d23d&oe=5EC3BD1D']\", 'attribute:price']",
           "action_query_babe_kb"
          ],
          [
           "ok shop",
           "Vâng ạ!",
           "agree",
           null,
           "utter_agree"
          ],
          [
           "Bn vậy\nhttps://scontent.xx.fbcdn.net/v/t1.15752-9/93558727_234412454285776_253028798423891968_n.jpg?_nc_cat=100&_nc_sid=b96e70&_nc_ohc=h9Y4J1MnK90AX-NWRjd&_nc_ad=z-m&_nc_cid=0&_nc_zor=9&_nc_ht=scontent.xx&oh=a2f97f6c39456cdc20c8536ecb51d23d&oe=5EC3BD1D",
           "Dạ, có phải bạn muốn hỏi một trong các sản phẩm dưới đây không ạ?\n (Vui lòng ấn chọn 1 sản phẩm)\n\n<show 5 card sản phẩm>",
           "query_knowledge_base",
           "[\"url:['https://scontent.xx.fbcdn.net/v/t1.15752-9/93558727_234412454285776_253028798423891968_n.jpg?_nc_cat=100&_nc_sid=b96e70&_nc_ohc=h9Y4J1MnK90AX-NWRjd&_nc_ad=z-m&_nc_cid=0&_nc_zor=9&_nc_ht=scontent.xx&oh=a2f97f6c39456cdc20c8536ecb51d23d&oe=5EC3BD1D']\", 'attribute:price']",
           "action_query_babe_kb"
          ],
          [
           "https://scontent.xx.fbcdn.net/v/t1.15752-9/94561499_543060359946538_2595608200518565888_n.jpg?_nc_cat=107&_nc_sid=b96e70&_nc_ohc=bSXx0Sekm_MAX_8eoFD&_nc_ad=z-m&_nc_cid=0&_nc_zor=9&_nc_ht=scontent.xx&oh=8f58096d3d249b1a54c759ddeeeba9f9&oe=5EC43219\nBộ này giá tnao shop",
           "Dạ, có phải bạn muốn hỏi một trong các sản phẩm dưới đây không ạ?\n (Vui lòng ấn chọn 1 sản phẩm)...",
           "query_knowledge_base",
           "[\"url:['https://scontent.xx.fbcdn.net/v/t1.15752-9/94561499_543060359946538_2595608200518565888_n.jpg?_nc_cat=107&_nc_sid=b96e70&_nc_ohc=bSXx0Sekm_MAX_8eoFD&_nc_ad=z-m&_nc_cid=0&_nc_zor=9&_nc_ht=scontent.xx&oh=8f58096d3d249b1a54c759ddeeeba9f9&oe=5EC43219']\", 'mention:bộ này', 'attribute:price']",
           "action_query_babe_kb"
          ],
          [
           "/query_knowledge_base{\"url\": \"https://shopee.vn/product/36371562/5307497099\", \"product_id\": \"https://shopee.vn/product/36371562/5307497099\"}",
           "Sản phẩm GHẾ NHẢY JUMPEROO KONIG KIDS CHÍNH HÃNG hiện có giá 1.190.000 VNĐ (Giá gốc: 1.900.000 VNĐ).\nMời bạn tham khảo sản phẩm tại đường link:\n<show card>",
           "query_knowledge_base",
           "['url:https://shopee.vn/product/36371562/3210697307', 'product_id:https://shopee.vn/product/36371562/3210697307']",
           "action_query_babe_kb"
          ],
          [
           "https://scontent.xx.fbcdn.net/v/t1.15752-9/94561499_543060359946538_2595608200518565888_n.jpg?_nc_cat=107&_nc_sid=b96e70&_nc_ohc=bSXx0Sekm_MAX_8eoFD&_nc_ad=z-m&_nc_cid=0&_nc_zor=9&_nc_ht=scontent.xx&oh=8f58096d3d249b1a54c759ddeeeba9f9&oe=5EC43219\nBộ này giá tnao shop",
           "Sản phẩm GHẾ NHẢY JUMPEROO KONIG KIDS CHÍNH HÃNG hiện có giá 1.190.000 VNĐ (Giá gốc: 1.900.000 VNĐ).\nMời bạn tham khảo sản phẩm tại đường link:\n<show card>",
           "query_knowledge_base",
           "[\"url:['https://scontent.xx.fbcdn.net/v/t1.15752-9/94561499_543060359946538_2595608200518565888_n.jpg?_nc_cat=107&_nc_sid=b96e70&_nc_ohc=bSXx0Sekm_MAX_8eoFD&_nc_ad=z-m&_nc_cid=0&_nc_zor=9&_nc_ht=scontent.xx&oh=8f58096d3d249b1a54c759ddeeeba9f9&oe=5EC43219']\", 'mention:bộ này', 'attribute:price']",
           "action_query_babe_kb"
          ],
          [
           "ok shop",
           "Dạ vâng ạ!",
           "agree",
           null,
           "utter_agree"
          ],
          [
           "https://scontent.xx.fbcdn.net/v/t1.15752-9/94038207_687798988709671_7037596126890950656_n.jpg?_nc_cat=108&_nc_sid=b96e70&_nc_ohc=4GBQnpA0-ScAX83d8VU&_nc_ad=z-m&_nc_cid=0&_nc_zor=9&_nc_ht=scontent.xx&oh=8afd05be65873d63fd7e0f02576cdead&oe=5EC747E3\nShop oi\nHôm mình hỏi máy này\nCon k shop\nBe nha minh chuan bi an dặm roi",
           null,
           "handover_to_inbox",
           "[\"url:['https://scontent.xx.fbcdn.net/v/t1.15752-9/94038207_687798988709671_7037596126890950656_n.jpg?_nc_cat=108&_nc_sid=b96e70&_nc_ohc=4GBQnpA0-ScAX83d8VU&_nc_ad=z-m&_nc_cid=0&_nc_zor=9&_nc_ht=scontent.xx&oh=8afd05be65873d63fd7e0f02576cdead&oe=5EC747E3']\", 'object_type:may', 'mention:này']",
           "action_handover_to_inbox"
          ],
          [
           "https://scontent.xx.fbcdn.net/v/t1.15752-9/94038207_687798988709671_7037596126890950656_n.jpg?_nc_cat=108&_nc_sid=b96e70&_nc_ohc=4GBQnpA0-ScAX83d8VU&_nc_ad=z-m&_nc_cid=0&_nc_zor=9&_nc_ht=scontent.xx&oh=8afd05be65873d63fd7e0f02576cdead&oe=5EC747E3\nShop oi\nHôm mình hỏi máy này\nCon k shop\nBe nha minh chuan bi an dặm roi",
           "Sản phẩm MÁY XAY HẤP ĐA NĂNG NUTRIBABY PLUS 5IN1 (Pháp) hiện có giá: 3.979.000 VNĐ (Giá gốc: 4.890.000 VNĐ).\n<Show card>",
           "query_knowledge_base",
           "[\"url:['https://scontent.xx.fbcdn.net/v/t1.15752-9/94038207_687798988709671_7037596126890950656_n.jpg?_nc_cat=108&_nc_sid=b96e70&_nc_ohc=4GBQnpA0-ScAX83d8VU&_nc_ad=z-m&_nc_cid=0&_nc_zor=9&_nc_ht=scontent.xx&oh=8afd05be65873d63fd7e0f02576cdead&oe=5EC747E3']\", 'object_type:may', 'mention:này']",
           "action_query_babe_kb"
          ],
          [
           "ok shop",
           "Dạ vâng ạ!",
           "agree",
           null,
           "utter_agree"
          ],
          [
           "Chào shop",
           "Chào bạn, mình là trợ lý ảo của Shop Gấu & Bí Ngô, mình giúp gì được bạn ạ?",
           "greet",
           null,
           "utter_greet"
          ],
          [
           "https://scontent.xx.fbcdn.net/v/t1.15752-9/94316648_559560771648930_8586198601812672512_n.jpg?_nc_cat=104&_nc_sid=b96e70&_nc_ohc=nYoq7RRX3DMAX_k9-MH&_nc_ad=z-m&_nc_cid=0&_nc_zor=9&_nc_ht=scontent.xx&oh=3ab20e00abb8dea43ef7bf6865ff9dfe&oe=5EC6DAB7\nBộ này giá bnhieu vậy s",
           "\"Sản phẩm  COMBO HOLLA LIÊN HOÀN 2020 có giá 4.100.000 (Giá gốc: 5.000.000).\n<Show card>\"",
           "query_knowledge_base",
           "[\"url:['https://scontent.xx.fbcdn.net/v/t1.15752-9/94316648_559560771648930_8586198601812672512_n.jpg?_nc_cat=104&_nc_sid=b96e70&_nc_ohc=nYoq7RRX3DMAX_k9-MH&_nc_ad=z-m&_nc_cid=0&_nc_zor=9&_nc_ht=scontent.xx&oh=3ab20e00abb8dea43ef7bf6865ff9dfe&oe=5EC6DAB7']\", 'mention:bộ này', 'attribute:price']",
           "action_query_babe_kb"
          ],
          [
           "Chào shop",
           "Chào bạn, mình là trợ lý ảo của Shop Gấu & Bí Ngô, mình giúp gì được bạn ạ?",
           "greet",
           null,
           "utter_greet"
          ],
          [
           "https://scontent.xx.fbcdn.net/v/t1.15752-9/94316648_559560771648930_8586198601812672512_n.jpg?_nc_cat=104&_nc_sid=b96e70&_nc_ohc=nYoq7RRX3DMAX_k9-MH&_nc_ad=z-m&_nc_cid=0&_nc_zor=9&_nc_ht=scontent.xx&oh=3ab20e00abb8dea43ef7bf6865ff9dfe&oe=5EC6DAB7\nBộ này giá bnhieu vậy s",
           "Sản phẩm  COMBO HOLLA LIÊN HOÀN 2020 có giá 4.100.000 (Giá gốc: 5.000.000).\n<Show card>\"",
           "query_knowledge_base",
           "[\"url:['https://scontent.xx.fbcdn.net/v/t1.15752-9/94316648_559560771648930_8586198601812672512_n.jpg?_nc_cat=104&_nc_sid=b96e70&_nc_ohc=nYoq7RRX3DMAX_k9-MH&_nc_ad=z-m&_nc_cid=0&_nc_zor=9&_nc_ht=scontent.xx&oh=3ab20e00abb8dea43ef7bf6865ff9dfe&oe=5EC6DAB7']\", 'mention:bộ này', 'attribute:price']",
           "action_query_babe_kb"
          ],
          [
           "có những màu gì shop nhỉ?",
           "Sản phẩm COMBO HOLLA LIÊN HOÀN 2020 có màu: Xanh, Cam ạ",
           null,
           null,
           null
          ],
          [
           "ok, thank shop nhé",
           "Shop cảm ơn bạn ạ.",
           "thank",
           null,
           "utter_thank"
          ],
          [
           "mình muốn mua máy tiệt trùng uv\ntư vấn mình với",
           "\"Hiện tại sản phẩm Máy tiệt trùng  shop đang có những giá sau ạ:\n<500-1M> <1M-2M> <Tất cả giá>\"",
           "query_knowledge_base",
           "[]",
           "action_query_babe_kb"
          ],
          [
           "Ok m đặt trên shopee nha",
           "Dạ vâng ạ!",
           "just_inform",
           null,
           null
          ],
          [
           "Shop ship cho minh ve dịa chi nay cái nhé 04 dường hạc thành. Phường tân sơn. Thành phố thanh hóa 0968955567",
           null,
           "handover_to_inbox",
           "[]",
           "action_handover_to_inbox"
          ],
          [
           "Vâng ạ. Phí ship SG khoảng bao nhiêu ạ",
           "Shop Gấu và Bí ngô sẵn sàng phục vụ, gửi hàng trên toàn quốc. Chi tiết chính sách giao hàng bạn xem tại địa chỉ:\n<link chính sách bán hàng>",
           "ask_ship",
           "['attribute:price']",
           "utter_ask_ship"
          ],
          [
           "https://scontent.xx.fbcdn.net/v/t1.15752-9/94323038_1108008879555033_809681363421626368_n.jpg?_nc_cat=100&_nc_sid=b96e70&_nc_ohc=9Sd_i3IdtH4AX-pZB98&_nc_ad=z-m&_nc_cid=0&_nc_zor=9&_nc_ht=scontent.xx&oh=4332a43fb415a3a2f20ba28a8e52e1d7&oe=5EC48249",
           "Bạn đang tìm kiếm thông tin gì ạ?",
           "send_link",
           "[\"url:['https://scontent.xx.fbcdn.net/v/t1.15752-9/94323038_1108008879555033_809681363421626368_n.jpg?_nc_cat=100&_nc_sid=b96e70&_nc_ohc=9Sd_i3IdtH4AX-pZB98&_nc_ad=z-m&_nc_cid=0&_nc_zor=9&_nc_ht=scontent.xx&oh=4332a43fb415a3a2f20ba28a8e52e1d7&oe=5EC48249']\"]",
           "action_handle_send_link_only"
          ],
          [
           "E bị mất khóa ở bộ phận này\nBên mình có bán lẻ k ạ",
           null,
           "handover_to_inbox",
           "['mention:bộ phận này']",
           "action_handover_to_inbox"
          ],
          [
           "https://scontent.xx.fbcdn.net/v/t1.15752-9/94259393_892892491187558_7679210626836594688_n.jpg?_nc_cat=108&_nc_sid=b96e70&_nc_ohc=0rDEDeG8lA0AX-B0SQQ&_nc_ad=z-m&_nc_cid=0&_nc_zor=9&_nc_ht=scontent.xx&oh=a2ff5613ed551cd6dc4fe7cc6402ee5e&oe=5EC5CABA\nhttps://scontent.xx.fbcdn.net/v/t1.15752-9/94243630_1102036203477446_4753051873383022592_n.jpg?_nc_cat=106&_nc_sid=b96e70&_nc_ohc=vnRAbnMtAQUAX_ep3zB&_nc_ad=z-m&_nc_cid=0&_nc_zor=9&_nc_ht=scontent.xx&oh=4898f46c66c29418b7233a70414f0ed4&oe=5EC4CCFA\n2 này nhiu shop",
           "Sản phẩm Xe đẩy 2 chiều cao cấp VOVO 2019 đang có giá: 1.620.000 VNĐ (Giá gốc: 2.500.000 VNĐ).\nMời bạn xem chi tiết sản phẩm tại link:\n<Show card>",
           "query_knowledge_base",
           "[\"url:['https://scontent.xx.fbcdn.net/v/t1.15752-9/94259393_892892491187558_7679210626836594688_n.jpg?_nc_cat=108&_nc_sid=b96e70&_nc_ohc=0rDEDeG8lA0AX-B0SQQ&_nc_ad=z-m&_nc_cid=0&_nc_zor=9&_nc_ht=scontent.xx&oh=a2ff5613ed551cd6dc4fe7cc6402ee5e&oe=5EC5CABA', 'https://scontent.xx.fbcdn.net/v/t1.15752-9/94243630_1102036203477446_4753051873383022592_n.jpg?_nc_cat=106&_nc_sid=b96e70&_nc_ohc=vnRAbnMtAQUAX_ep3zB&_nc_ad=z-m&_nc_cid=0&_nc_zor=9&_nc_ht=scontent.xx&oh=4898f46c66c29418b7233a70414f0ed4&oe=5EC4CCFA']\", 'attribute:price']",
           "action_query_babe_kb"
          ],
          [
           "Xe đẩy này đang giảm giá phải k",
           "Sản phẩm Xe đẩy 2 chiều cao cấp VOVO 2019 đang có khuyến mại: 35% ạ",
           "query_knowledge_base",
           "['object_type:xe_day', 'attribute:promotion']",
           "action_query_babe_kb"
          ],
          [
           "https://scontent.xx.fbcdn.net/v/t1.15752-9/94259393_892892491187558_7679210626836594688_n.jpg?_nc_cat=108&_nc_sid=b96e70&_nc_ohc=0rDEDeG8lA0AX-B0SQQ&_nc_ad=z-m&_nc_cid=0&_nc_zor=9&_nc_ht=scontent.xx&oh=a2ff5613ed551cd6dc4fe7cc6402ee5e&oe=5EC5CABA\nhttps://scontent.xx.fbcdn.net/v/t1.15752-9/94243630_1102036203477446_4753051873383022592_n.jpg?_nc_cat=106&_nc_sid=b96e70&_nc_ohc=vnRAbnMtAQUAX_ep3zB&_nc_ad=z-m&_nc_cid=0&_nc_zor=9&_nc_ht=scontent.xx&oh=4898f46c66c29418b7233a70414f0ed4&oe=5EC4CCFA\n2 này nhiu shop",
           "Sản phẩm Xe đẩy 2 chiều cao cấp VOVO 2019 đang có giá: 1.620.000 VNĐ (Giá gốc: 2.500.000 VNĐ).\nMời bạn xem chi tiết sản phẩm tại link:\n<Show card>\n\nSản phẩm Thanh đồ chơi treo nôi, cũi, xe đẩy, ghế ngồi ô tô hình chim có nhạc Infantino (Mỹ) đang có giá: 279.000 VNĐ (Giá gốc: 399.000 VNĐ).\nSản phẩm Xe đẩy 2 chiều cao cấp VOVO 2019 đang có giá: 1.620.000 VNĐ (Giá gốc: 2.500.000 VNĐ).\r\nMời bạn xem chi tiết sản phẩm tại link:\r\n<Show card>",
           "query_knowledge_base",
           "[\"url:['https://scontent.xx.fbcdn.net/v/t1.15752-9/94259393_892892491187558_7679210626836594688_n.jpg?_nc_cat=108&_nc_sid=b96e70&_nc_ohc=0rDEDeG8lA0AX-B0SQQ&_nc_ad=z-m&_nc_cid=0&_nc_zor=9&_nc_ht=scontent.xx&oh=a2ff5613ed551cd6dc4fe7cc6402ee5e&oe=5EC5CABA', 'https://scontent.xx.fbcdn.net/v/t1.15752-9/94243630_1102036203477446_4753051873383022592_n.jpg?_nc_cat=106&_nc_sid=b96e70&_nc_ohc=vnRAbnMtAQUAX_ep3zB&_nc_ad=z-m&_nc_cid=0&_nc_zor=9&_nc_ht=scontent.xx&oh=4898f46c66c29418b7233a70414f0ed4&oe=5EC4CCFA']\", 'attribute:price']",
           "action_query_babe_kb"
          ],
          [
           "Xe đẩy này đang giảm giá phải k",
           "Sản phẩm Xe đẩy 2 chiều cao cấp VOVO 2019 đang có khuyến mại: 35% ạ",
           "query_knowledge_base",
           "['object_type:xe_day', 'attribute:promotion']",
           "action_query_babe_kb"
          ],
          [
           "https://scontent.xx.fbcdn.net/v/t1.15752-9/94258066_3106456589367061_8404234375218069504_n.jpg?_nc_cat=108&_nc_sid=b96e70&_nc_ohc=SapTrP0sYnQAX8HDeMB&_nc_ad=z-m&_nc_cid=0&_nc_zor=9&_nc_ht=scontent.xx&oh=888da228f92bb60b1197f0943fe83fe6&oe=5EC73344",
           "Bạn đang tìm kiếm thông tin gì ạ?",
           "send_link",
           "[\"url:['https://scontent.xx.fbcdn.net/v/t1.15752-9/94258066_3106456589367061_8404234375218069504_n.jpg?_nc_cat=108&_nc_sid=b96e70&_nc_ohc=SapTrP0sYnQAX8HDeMB&_nc_ad=z-m&_nc_cid=0&_nc_zor=9&_nc_ht=scontent.xx&oh=888da228f92bb60b1197f0943fe83fe6&oe=5EC73344']\"]",
           "action_handle_send_link_only"
          ],
          [
           "Mình có cầu trượt này của hola k c",
           "Sản phẩm Cầu trượt xích đu Hola hải cẩu 2020 đang có giá: 1.990.000 VNĐ (Giá gốc: 3.250.000 VNĐ).\nMời bạn xem chi tiết sản phẩm tại link:\n<Show card>",
           "query_knowledge_base",
           "['object_type:cau_truot', 'mention:này', 'brand:hola']",
           "action_query_babe_kb"
          ],
          [
           "https://scontent.xx.fbcdn.net/v/t1.15752-9/94258066_3106456589367061_8404234375218069504_n.jpg?_nc_cat=108&_nc_sid=b96e70&_nc_ohc=SapTrP0sYnQAX8HDeMB&_nc_ad=z-m&_nc_cid=0&_nc_zor=9&_nc_ht=scontent.xx&oh=888da228f92bb60b1197f0943fe83fe6&oe=5EC73344",
           "Bạn đang tìm kiếm thông tin gì ạ?",
           "send_link",
           "[\"url:['https://scontent.xx.fbcdn.net/v/t1.15752-9/94258066_3106456589367061_8404234375218069504_n.jpg?_nc_cat=108&_nc_sid=b96e70&_nc_ohc=SapTrP0sYnQAX8HDeMB&_nc_ad=z-m&_nc_cid=0&_nc_zor=9&_nc_ht=scontent.xx&oh=888da228f92bb60b1197f0943fe83fe6&oe=5EC73344']\"]",
           "action_handle_send_link_only"
          ],
          [
           "Mình có cầu trượt này của hola k c",
           "Sản phẩm Cầu trượt xích đu Hola hải cẩu 2020 shop đang tạm hết hàng. Bạn tham khảo các sản phẩm Cầu trượt, Xích du khác đang có ở shop nhé!",
           "query_knowledge_base",
           "['object_type:cau_truot', 'mention:này', 'brand:hola']",
           "action_query_babe_kb"
          ],
          [
           "Khi nào có hàng lại ạ",
           null,
           "handover_to_inbox",
           "[]",
           "action_handover_to_inbox"
          ],
          [
           "Bạn ơi",
           "Chào bạn, mình là trợ lý ảo của Shop Gấu & Bí Ngô, mình giúp gì được bạn ạ?",
           "greet",
           "[]",
           "utter_greet"
          ],
          [
           "Tiki giao hàng chậm quá mình hủy đơn rồi",
           null,
           "handover_to_inbox",
           "[]",
           "action_handover_to_inbox"
          ],
          [
           "B ơi\nhttps://scontent.xx.fbcdn.net/v/t1.15752-9/94080363_366864304231193_6923640899247276032_n.jpg?_nc_cat=104&_nc_sid=b96e70&_nc_oc=AQnYjDUlyL9X-imLwYXvZ0dbzfwZzzYVzYigef-3OxNFH_DMmIWXM1cLs_yT6agKPNKI95IJz1OCpFOOphtU-1eO&_nc_ad=z-m&_nc_cid=0&_nc_zor=9&_nc_ht=scontent.xx&oh=5dba552f7208a17a094b507bc0e2384f&oe=5EC58419\nMình còn bộ này ko",
           "Dạ, có phải bạn muốn hỏi một trong các sản phẩm dưới đây không ạ?\n (Vui lòng ấn chọn 1 sản phẩm)...",
           "query_knowledge_base",
           "[\"url:['https://scontent.xx.fbcdn.net/v/t1.15752-9/94080363_366864304231193_6923640899247276032_n.jpg?_nc_cat=104&_nc_sid=b96e70&_nc_oc=AQnYjDUlyL9X-imLwYXvZ0dbzfwZzzYVzYigef-3OxNFH_DMmIWXM1cLs_yT6agKPNKI95IJz1OCpFOOphtU-1eO&_nc_ad=z-m&_nc_cid=0&_nc_zor=9&_nc_ht=scontent.xx&oh=5dba552f7208a17a094b507bc0e2384f&oe=5EC58419']\", 'mention:bộ này']",
           "action_query_babe_kb"
          ],
          [
           "/query_knowledge_base{\"url\": \"https://shopee.vn/product/36371562/3220636191\", \"product_id\": \"https://shopee.vn/product/36371562/3220636191\"}",
           "Sản phẩm  Bộ đồ chơi đàn Piano kết hợp 10 nhạc cụ BKIDS 003398  hiện shop đang có giá: *880,000 VND (giá gốc 1,200,000 VND)*.\nBạn tham khảo các sản phẩm sau nhé ạ:",
           "query_knowledge_base",
           "['url:https://shopee.vn/product/36371562/3220636191', 'product_id:https://shopee.vn/product/36371562/3220636191']",
           "action_query_babe_kb"
          ],
          [
           "B ơi\nhttps://scontent.xx.fbcdn.net/v/t1.15752-9/94080363_366864304231193_6923640899247276032_n.jpg?_nc_cat=104&_nc_sid=b96e70&_nc_oc=AQnYjDUlyL9X-imLwYXvZ0dbzfwZzzYVzYigef-3OxNFH_DMmIWXM1cLs_yT6agKPNKI95IJz1OCpFOOphtU-1eO&_nc_ad=z-m&_nc_cid=0&_nc_zor=9&_nc_ht=scontent.xx&oh=5dba552f7208a17a094b507bc0e2384f&oe=5EC58419\nMình còn bộ này ko",
           "Sản phẩm  Bộ đồ chơi đàn Piano kết hợp 10 nhạc cụ BKIDS 003398  hiện shop đang có giá: *880,000 VND (giá gốc 1,200,000 VND)*.\nBạn tham khảo các sản phẩm sau nhé ạ:",
           "query_knowledge_base",
           "[\"url:['https://scontent.xx.fbcdn.net/v/t1.15752-9/94080363_366864304231193_6923640899247276032_n.jpg?_nc_cat=104&_nc_sid=b96e70&_nc_oc=AQnYjDUlyL9X-imLwYXvZ0dbzfwZzzYVzYigef-3OxNFH_DMmIWXM1cLs_yT6agKPNKI95IJz1OCpFOOphtU-1eO&_nc_ad=z-m&_nc_cid=0&_nc_zor=9&_nc_ht=scontent.xx&oh=5dba552f7208a17a094b507bc0e2384f&oe=5EC58419']\", 'mention:bộ này']",
           "action_query_babe_kb"
          ],
          [
           "Còn xe màu xanh k bạn?",
           "Sản phẩm bạn đang tìm có phải là?",
           "query_knowledge_base",
           "['color:màu xanh','object_type:xe']",
           "action_query_babe_kb"
          ],
          [
           "https://scontent.xx.fbcdn.net/v/t1.15752-9/94102000_537890583596250_3175827341263765504_n.jpg?_nc_cat=101&_nc_sid=b96e70&_nc_ohc=5935ns4FSwQAX-_WOWm&_nc_ad=z-m&_nc_cid=0&_nc_zor=9&_nc_ht=scontent.xx&oh=15177bd0d58de1d81f7183e9a391dc86&oe=5EC3949F",
           "Dạ, có phải bạn muốn hỏi một trong các sản phẩm dưới đây không ạ?\n (Vui lòng ấn chọn 1 sản phẩm)...",
           "send_link",
           "[\"url:['https://scontent.xx.fbcdn.net/v/t1.15752-9/94102000_537890583596250_3175827341263765504_n.jpg?_nc_cat=101&_nc_sid=b96e70&_nc_ohc=5935ns4FSwQAX-_WOWm&_nc_ad=z-m&_nc_cid=0&_nc_zor=9&_nc_ht=scontent.xx&oh=15177bd0d58de1d81f7183e9a391dc86&oe=5EC3949F']\"]",
           "action_handle_send_link_only"
          ],
          [
           "/disagree{\"object_type\": null}",
           "Bạn vui lòng mô tả rõ mong muốn của bạn hoặc chat với nhân viên tư vấn nhé!",
           "disagree",
           "['object_type:None']",
           "utter_disagree"
          ],
          [
           "Mình gửi ảnh ở trên bạn ơi\nXem tin nhắn đi",
           null,
           "handover_to_inbox",
           "['attribute:image']",
           "action_handover_to_inbox"
          ],
          [
           "Còn xe màu xanh k bạn?",
           "Sản phẩm bạn đang tìm có phải là?",
           "query_knowledge_base",
           "['color:màu xanh','object_type:xe']",
           "action_query_babe_kb"
          ],
          [
           "https://scontent.xx.fbcdn.net/v/t1.15752-9/94102000_537890583596250_3175827341263765504_n.jpg?_nc_cat=101&_nc_sid=b96e70&_nc_ohc=5935ns4FSwQAX-_WOWm&_nc_ad=z-m&_nc_cid=0&_nc_zor=9&_nc_ht=scontent.xx&oh=15177bd0d58de1d81f7183e9a391dc86&oe=5EC3949F",
           "Dạ, có phải bạn muốn hỏi một trong các sản phẩm dưới đây không ạ?\n (Vui lòng ấn chọn 1 sản phẩm)...",
           "send_link",
           "[\"url:['https://scontent.xx.fbcdn.net/v/t1.15752-9/94102000_537890583596250_3175827341263765504_n.jpg?_nc_cat=101&_nc_sid=b96e70&_nc_ohc=5935ns4FSwQAX-_WOWm&_nc_ad=z-m&_nc_cid=0&_nc_zor=9&_nc_ht=scontent.xx&oh=15177bd0d58de1d81f7183e9a391dc86&oe=5EC3949F']\"]",
           "action_handle_send_link_only"
          ],
          [
           "/query_knowledge_base{\"url\": \"https://www.facebook.com/shopgauvabingo/posts/2445777899065867\", \"product_id\": \"https://www.facebook.com/shopgauvabingo/posts/2445777899065867\"}",
           "Sản phẩm Xe chòi chân kiêm xe lắc cao cấp có nhạc Holla hiện shop đang có giá: *790,000 VND (giá gốc 1,200,000 VND)*.\nBạn tham khảo các sản phẩm sau nhé ạ:",
           "query_knowledge_base",
           null,
           "action_query_babe_kb"
          ],
          [
           "thank shop",
           "Dạ, cảm ơn bạn!",
           "thank",
           null,
           "utter_thank"
          ],
          [
           "Còn xe màu xanh k bạn?",
           "Sản phẩm bạn đang tìm có phải là?",
           "query_knowledge_base",
           "['color:màu xanh','object_type:xe']",
           "action_query_babe_kb"
          ],
          [
           "https://scontent.xx.fbcdn.net/v/t1.15752-9/94102000_537890583596250_3175827341263765504_n.jpg?_nc_cat=101&_nc_sid=b96e70&_nc_ohc=5935ns4FSwQAX-_WOWm&_nc_ad=z-m&_nc_cid=0&_nc_zor=9&_nc_ht=scontent.xx&oh=15177bd0d58de1d81f7183e9a391dc86&oe=5EC3949F",
           "Sản phẩm Xe chòi chân kiêm xe lắc cao cấp có nhạc Holla hiện shop đang có giá: *790,000 VND (giá gốc 1,200,000 VND)*.\nBạn tham khảo các sản phẩm sau nhé ạ:",
           "send_link",
           "[\"url:['https://scontent.xx.fbcdn.net/v/t1.15752-9/94102000_537890583596250_3175827341263765504_n.jpg?_nc_cat=101&_nc_sid=b96e70&_nc_ohc=5935ns4FSwQAX-_WOWm&_nc_ad=z-m&_nc_cid=0&_nc_zor=9&_nc_ht=scontent.xx&oh=15177bd0d58de1d81f7183e9a391dc86&oe=5EC3949F']\"]",
           "action_handle_send_link_only"
          ],
          [
           "thank shop",
           "Dạ, cảm ơn bạn!",
           "thank",
           null,
           "utter_thank"
          ],
          [
           "Còn xe màu xanh k bạn?",
           "Sản phẩm bạn đang tìm có phải là?",
           "query_knowledge_base",
           "['color:màu xanh','object_type:xe']",
           "action_query_babe_kb"
          ],
          [
           "https://scontent.xx.fbcdn.net/v/t1.15752-9/94102000_537890583596250_3175827341263765504_n.jpg?_nc_cat=101&_nc_sid=b96e70&_nc_ohc=5935ns4FSwQAX-_WOWm&_nc_ad=z-m&_nc_cid=0&_nc_zor=9&_nc_ht=scontent.xx&oh=15177bd0d58de1d81f7183e9a391dc86&oe=5EC3949F",
           "Sản phẩm Xe chòi chân kiêm xe lắc cao cấp có nhạc Holla hiện shop còn hàng và đang có giá: *790,000 VND (giá gốc 1,200,000 VND)*.\r\nBạn tham khảo các sản phẩm sau nhé ạ:",
           "send_link",
           "[\"url:['https://scontent.xx.fbcdn.net/v/t1.15752-9/94102000_537890583596250_3175827341263765504_n.jpg?_nc_cat=101&_nc_sid=b96e70&_nc_ohc=5935ns4FSwQAX-_WOWm&_nc_ad=z-m&_nc_cid=0&_nc_zor=9&_nc_ht=scontent.xx&oh=15177bd0d58de1d81f7183e9a391dc86&oe=5EC3949F']\"]",
           "action_handle_send_link_only"
          ],
          [
           "thank shop",
           "Dạ, cảm ơn bạn!",
           "thank",
           null,
           "utter_thank"
          ],
          [
           "Còn xe màu xanh k bạn?",
           "Sản phẩm bạn đang tìm có phải là?",
           "query_knowledge_base",
           "['color:màu xanh','object_type:xe']",
           "action_query_babe_kb"
          ],
          [
           "https://scontent.xx.fbcdn.net/v/t1.15752-9/94102000_537890583596250_3175827341263765504_n.jpg?_nc_cat=101&_nc_sid=b96e70&_nc_ohc=5935ns4FSwQAX-_WOWm&_nc_ad=z-m&_nc_cid=0&_nc_zor=9&_nc_ht=scontent.xx&oh=15177bd0d58de1d81f7183e9a391dc86&oe=5EC3949F",
           "Sản phẩm Xe chòi chân kiêm xe lắc cao cấp có nhạc Holla hiện shop hết hàng ạ\nBạn tham khảo các sản phẩm khác nhé ạ:",
           "send_link",
           "[\"url:['https://scontent.xx.fbcdn.net/v/t1.15752-9/94102000_537890583596250_3175827341263765504_n.jpg?_nc_cat=101&_nc_sid=b96e70&_nc_ohc=5935ns4FSwQAX-_WOWm&_nc_ad=z-m&_nc_cid=0&_nc_zor=9&_nc_ht=scontent.xx&oh=15177bd0d58de1d81f7183e9a391dc86&oe=5EC3949F']\"]",
           "action_handle_send_link_only"
          ],
          [
           "thank shop",
           "Dạ, cảm ơn bạn!",
           "thank",
           null,
           "utter_thank"
          ],
          [
           "https://scontent.xx.fbcdn.net/v/t1.15752-9/93421060_694074408092001_3418794938278608896_n.jpg?_nc_cat=104&_nc_sid=b96e70&_nc_ohc=y8JBwsvgIzsAX8KRRtS&_nc_ad=z-m&_nc_cid=0&_nc_zor=9&_nc_ht=scontent.xx&oh=4b820252ad86bea6ddb057ddf4a2578f&oe=5EC53BA3\nBn shop oi",
           "Sản phẩm Xe chòi chân kiêm xe lắc cao cấp có nhạc Holla hiện shop đang có giá: *790,000 VND (giá gốc 1,200,000 VND)*.\nBạn tham khảo các sản phẩm sau nhé ạ:",
           "query_knowledge_base",
           "[\"url:['https://scontent.xx.fbcdn.net/v/t1.15752-9/93421060_694074408092001_3418794938278608896_n.jpg?_nc_cat=104&_nc_sid=b96e70&_nc_ohc=y8JBwsvgIzsAX8KRRtS&_nc_ad=z-m&_nc_cid=0&_nc_zor=9&_nc_ht=scontent.xx&oh=4b820252ad86bea6ddb057ddf4a2578f&oe=5EC53BA3']\", 'attribute:price']",
           "action_query_babe_kb"
          ],
          [
           "https://scontent.xx.fbcdn.net/v/t1.15752-9/93839074_222006799220932_6191900088302829568_n.jpg?_nc_cat=100&_nc_sid=b96e70&_nc_ohc=2EZhPQDsst4AX--rHnR&_nc_ad=z-m&_nc_cid=0&_nc_zor=9&_nc_ht=scontent.xx&oh=b6a830ddbc618e8a4c318b6dab622f03&oe=5EC45074",
           "Bạn đang tìm kiếm thông tin gì ạ?",
           "send_link",
           "[\"url:['https://scontent.xx.fbcdn.net/v/t1.15752-9/93839074_222006799220932_6191900088302829568_n.jpg?_nc_cat=100&_nc_sid=b96e70&_nc_ohc=2EZhPQDsst4AX--rHnR&_nc_ad=z-m&_nc_cid=0&_nc_zor=9&_nc_ht=scontent.xx&oh=b6a830ddbc618e8a4c318b6dab622f03&oe=5EC45074']\"]",
           "action_query_babe_kb"
          ],
          [
           "xe này bao nhiêu ạ",
           "Sản phẩm Xe NADLE 3 in 1: Xe đẩy - Chòi chân - Xe đạp hiện shop đang có giá: *1,550,000 VND (giá gốc 2,650,000 VND)*.\nBạn tham khảo các sản phẩm sau nhé ạ:",
           "query_knowledge_base",
           "['attribute:price','object_type:xe','mention:này']",
           "action_query_babe_kb"
          ],
          [
           "ok shop",
           "Dạ,vâng",
           "agree",
           null,
           "utter_agree"
          ],
          [
           "https://scontent.xx.fbcdn.net/v/t1.15752-9/93421060_694074408092001_3418794938278608896_n.jpg?_nc_cat=104&_nc_sid=b96e70&_nc_ohc=y8JBwsvgIzsAX8KRRtS&_nc_ad=z-m&_nc_cid=0&_nc_zor=9&_nc_ht=scontent.xx&oh=4b820252ad86bea6ddb057ddf4a2578f&oe=5EC53BA3\nBn shop oi",
           "Sản phẩm Xe chòi chân kiêm xe lắc cao cấp có nhạc Holla hiện shop đang có giá: *790,000 VND (giá gốc 1,200,000 VND)*.\nBạn tham khảo các sản phẩm sau nhé ạ:",
           "query_knowledge_base",
           "[\"url:['https://scontent.xx.fbcdn.net/v/t1.15752-9/93421060_694074408092001_3418794938278608896_n.jpg?_nc_cat=104&_nc_sid=b96e70&_nc_ohc=y8JBwsvgIzsAX8KRRtS&_nc_ad=z-m&_nc_cid=0&_nc_zor=9&_nc_ht=scontent.xx&oh=4b820252ad86bea6ddb057ddf4a2578f&oe=5EC53BA3']\", 'attribute:price']",
           "action_query_babe_kb"
          ],
          [
           "https://scontent.xx.fbcdn.net/v/t1.15752-9/93839074_222006799220932_6191900088302829568_n.jpg?_nc_cat=100&_nc_sid=b96e70&_nc_ohc=2EZhPQDsst4AX--rHnR&_nc_ad=z-m&_nc_cid=0&_nc_zor=9&_nc_ht=scontent.xx&oh=b6a830ddbc618e8a4c318b6dab622f03&oe=5EC45074",
           "Sản phẩm Xe NADLE 3 in 1: Xe đẩy - Chòi chân - Xe đạp hiện shop đang có giá: *1,550,000 VND (giá gốc 2,650,000 VND)*.\r\nBạn tham khảo các sản phẩm sau nhé ạ:",
           "send_link",
           "[\"url:['https://scontent.xx.fbcdn.net/v/t1.15752-9/93839074_222006799220932_6191900088302829568_n.jpg?_nc_cat=100&_nc_sid=b96e70&_nc_ohc=2EZhPQDsst4AX--rHnR&_nc_ad=z-m&_nc_cid=0&_nc_zor=9&_nc_ht=scontent.xx&oh=b6a830ddbc618e8a4c318b6dab622f03&oe=5EC45074']\"]",
           "action_query_babe_kb"
          ],
          [
           "ok shop",
           "Dạ,vâng",
           "agree",
           null,
           "utter_agree"
          ],
          [
           "https://scontent.xx.fbcdn.net/v/t1.15752-9/94133156_4309719482387540_6121986675083051008_n.jpg?_nc_cat=104&_nc_sid=b96e70&_nc_ohc=2eJCKINpBwUAX-7rsiy&_nc_ad=z-m&_nc_cid=0&_nc_zor=9&_nc_ht=scontent.xx&oh=c69b59c6321d1ca5600690f45432f74f&oe=5EC4161F\nXe lắc bn b oi",
           "Dạ, có phải bạn muốn hỏi một trong các sản phẩm dưới đây không ạ?\n (Vui lòng ấn chọn 1 sản phẩm)...",
           "query_knowledge_base",
           "[\"url:['https://scontent.xx.fbcdn.net/v/t1.15752-9/94133156_4309719482387540_6121986675083051008_n.jpg?_nc_cat=104&_nc_sid=b96e70&_nc_ohc=2eJCKINpBwUAX-7rsiy&_nc_ad=z-m&_nc_cid=0&_nc_zor=9&_nc_ht=scontent.xx&oh=c69b59c6321d1ca5600690f45432f74f&oe=5EC4161F']\",'object_type:xe', 'attribute:price']",
           "action_query_babe_kb"
          ],
          [
           "/disagree{\"object_type\": null}",
           "Bạn vui lòng mô tả rõ mong muốn của bạn hoặc chat với nhân viên tư vấn nhé!",
           "disagree",
           "['object_type:None']",
           "utter_disagree"
          ],
          [
           "/connect_employee",
           null,
           "connect_employee",
           null,
           "action_handover_to_inbox"
          ],
          [
           "https://scontent.xx.fbcdn.net/v/t1.15752-9/94133156_4309719482387540_6121986675083051008_n.jpg?_nc_cat=104&_nc_sid=b96e70&_nc_ohc=2eJCKINpBwUAX-7rsiy&_nc_ad=z-m&_nc_cid=0&_nc_zor=9&_nc_ht=scontent.xx&oh=c69b59c6321d1ca5600690f45432f74f&oe=5EC4161F\nXe lắc bn b oi",
           "Sản phẩm Xe chòi chân kiêm xe lắc cao cấp có nhạc Holla hiện shop đang có giá: *790,000 VND (giá gốc 1,200,000 VND)*.\nBạn tham khảo các sản phẩm sau nhé ạ:",
           "query_knowledge_base",
           "[\"url:['https://scontent.xx.fbcdn.net/v/t1.15752-9/94133156_4309719482387540_6121986675083051008_n.jpg?_nc_cat=104&_nc_sid=b96e70&_nc_ohc=2eJCKINpBwUAX-7rsiy&_nc_ad=z-m&_nc_cid=0&_nc_zor=9&_nc_ht=scontent.xx&oh=c69b59c6321d1ca5600690f45432f74f&oe=5EC4161F']\",'object_type:xe', 'attribute:price']",
           "action_query_babe_kb"
          ],
          [
           "xe lắc Holla có trên shopee chưa bạn",
           "Dạ mời bạn tham khảo sản phẩm Xe chòi chân kiêm xe lắc cao cấp có nhạc Holla  hiện có tại shop nhé!",
           "query_knowledge_base",
           "['object_type:xe', 'attribute:link','brand:Holla']",
           "action_query_babe_kb"
          ],
          [
           "https://scontent.xx.fbcdn.net/v/t1.15752-9/93376022_520238862196723_3877605347954786304_n.jpg?_nc_cat=103&_nc_sid=b96e70&_nc_ohc=BlxsEveDdc0AX_K0-TM&_nc_ad=z-m&_nc_cid=0&_nc_zor=9&_nc_ht=scontent.xx&oh=1f1b8bc5316b8af5ac78b77e0228670c&oe=5EC41FAA\nXe bn s",
           "Dạ, có phải bạn muốn hỏi một trong các sản phẩm dưới đây không ạ?\n (Vui lòng ấn chọn 1 sản phẩm)...",
           "query_knowledge_base",
           "[\"url:['https://scontent.xx.fbcdn.net/v/t1.15752-9/93376022_520238862196723_3877605347954786304_n.jpg?_nc_cat=103&_nc_sid=b96e70&_nc_ohc=BlxsEveDdc0AX_K0-TM&_nc_ad=z-m&_nc_cid=0&_nc_zor=9&_nc_ht=scontent.xx&oh=1f1b8bc5316b8af5ac78b77e0228670c&oe=5EC41FAA']\", 'attribute:price']",
           "action_query_babe_kb"
          ],
          [
           "/query_knowledge_base{\"url\": \"https://www.facebook.com/shopgauvabingo/posts/2445777899065867\", \"product_id\": \"https://www.facebook.com/shopgauvabingo/posts/2445777899065867\"}",
           "Sản phẩm Xe chòi chân kiêm xe lắc cao cấp có nhạc Holla hiện shop đang có giá: *790,000 VND (giá gốc 1,200,000 VND)*.\nBạn tham khảo các sản phẩm sau nhé ạ:",
           "query_knowledge_base",
           null,
           "action_query_babe_kb"
          ],
          [
           "https://scontent.xx.fbcdn.net/v/t1.15752-9/94429646_846745625805486_6674380384869810176_n.jpg?_nc_cat=107&_nc_sid=b96e70&_nc_ohc=9qsNXrDTRA8AX-ZKlOL&_nc_ad=z-m&_nc_cid=0&_nc_zor=9&_nc_ht=scontent.xx&oh=dc51afecc770f419605e40f9847c2d5a&oe=5EC3D2A7",
           "Sản phẩm  Cầu trượt xích đu Hola hải cẩu 2020  hiện shop đang có giá: *1,982,500 VND (giá gốc 3,250,000 VND)*.\nBạn tham khảo các sản phẩm sau nhé ạ:",
           "send_link",
           "[\"url:['https://scontent.xx.fbcdn.net/v/t1.15752-9/94429646_846745625805486_6674380384869810176_n.jpg?_nc_cat=107&_nc_sid=b96e70&_nc_ohc=9qsNXrDTRA8AX-ZKlOL&_nc_ad=z-m&_nc_cid=0&_nc_zor=9&_nc_ht=scontent.xx&oh=dc51afecc770f419605e40f9847c2d5a&oe=5EC3D2A7']\"]",
           "action_handle_send_link_only"
          ],
          [
           "https://scontent.xx.fbcdn.net/v/t1.15752-9/93376022_520238862196723_3877605347954786304_n.jpg?_nc_cat=103&_nc_sid=b96e70&_nc_ohc=BlxsEveDdc0AX_K0-TM&_nc_ad=z-m&_nc_cid=0&_nc_zor=9&_nc_ht=scontent.xx&oh=1f1b8bc5316b8af5ac78b77e0228670c&oe=5EC41FAA\nXe bn s",
           "Sản phẩm Xe chòi chân kiêm xe lắc cao cấp có nhạc Holla hiện shop đang có giá: *790,000 VND (giá gốc 1,200,000 VND)*.\nBạn tham khảo các sản phẩm sau nhé ạ:",
           "query_knowledge_base",
           "[\"url:['https://scontent.xx.fbcdn.net/v/t1.15752-9/93376022_520238862196723_3877605347954786304_n.jpg?_nc_cat=103&_nc_sid=b96e70&_nc_ohc=BlxsEveDdc0AX_K0-TM&_nc_ad=z-m&_nc_cid=0&_nc_zor=9&_nc_ht=scontent.xx&oh=1f1b8bc5316b8af5ac78b77e0228670c&oe=5EC41FAA']\", 'attribute:price']",
           "action_query_babe_kb"
          ],
          [
           "https://scontent.xx.fbcdn.net/v/t1.15752-9/94429646_846745625805486_6674380384869810176_n.jpg?_nc_cat=107&_nc_sid=b96e70&_nc_ohc=9qsNXrDTRA8AX-ZKlOL&_nc_ad=z-m&_nc_cid=0&_nc_zor=9&_nc_ht=scontent.xx&oh=dc51afecc770f419605e40f9847c2d5a&oe=5EC3D2A7",
           "Sản phẩm  Cầu trượt xích đu Hola hải cẩu 2020  hiện shop đang có giá: *1,982,500 VND (giá gốc 3,250,000 VND)*.\nBạn tham khảo các sản phẩm sau nhé ạ:",
           "send_link",
           "[\"url:['https://scontent.xx.fbcdn.net/v/t1.15752-9/94429646_846745625805486_6674380384869810176_n.jpg?_nc_cat=107&_nc_sid=b96e70&_nc_ohc=9qsNXrDTRA8AX-ZKlOL&_nc_ad=z-m&_nc_cid=0&_nc_zor=9&_nc_ht=scontent.xx&oh=dc51afecc770f419605e40f9847c2d5a&oe=5EC3D2A7']\"]",
           "action_handle_send_link_only"
          ],
          [
           "ok shop",
           "Dạ,vâng",
           "agree",
           null,
           "utter_agree"
          ],
          [
           "https://scontent.xx.fbcdn.net/v/t1.15752-9/93840235_671253940372699_6078193114063831040_n.jpg?_nc_cat=102&_nc_sid=b96e70&_nc_ohc=D5YUEvNDHT0AX9Y6mFp&_nc_ad=z-m&_nc_cid=0&_nc_zor=9&_nc_ht=scontent.xx&oh=8e687d198cf4874f887a6dacdfc1c955&oe=5EC2A850\nCho mình giá nhé",
           "Dạ, có phải bạn muốn hỏi một trong các sản phẩm dưới đây không ạ?\n (Vui lòng ấn chọn 1 sản phẩm)...",
           "query_knowledge_base",
           "[\"url:['https://scontent.xx.fbcdn.net/v/t1.15752-9/93840235_671253940372699_6078193114063831040_n.jpg?_nc_cat=102&_nc_sid=b96e70&_nc_ohc=D5YUEvNDHT0AX9Y6mFp&_nc_ad=z-m&_nc_cid=0&_nc_zor=9&_nc_ht=scontent.xx&oh=8e687d198cf4874f887a6dacdfc1c955&oe=5EC2A850']\", 'attribute:price']",
           "action_query_babe_kb"
          ],
          [
           "/disagree{\"object_type\": null}",
           "Bạn vui lòng mô tả rõ mong muốn của bạn hoặc chat với nhân viên tư vấn nhé!",
           "disagree",
           "['object_type:None']",
           "utter_disagree"
          ],
          [
           "/connect_employee",
           null,
           "connect_employee",
           null,
           "action_handover_to_inbox"
          ],
          [
           "https://scontent.xx.fbcdn.net/v/t1.15752-9/93840235_671253940372699_6078193114063831040_n.jpg?_nc_cat=102&_nc_sid=b96e70&_nc_ohc=D5YUEvNDHT0AX9Y6mFp&_nc_ad=z-m&_nc_cid=0&_nc_zor=9&_nc_ht=scontent.xx&oh=8e687d198cf4874f887a6dacdfc1c955&oe=5EC2A850\nCho mình giá nhé",
           "Sản phẩm Xe chòi chân kiêm xe lắc cao cấp có nhạc Holla hiện shop đang có giá: *790,000 VND (giá gốc 1,200,000 VND)*.\nBạn tham khảo các sản phẩm sau nhé ạ:",
           "query_knowledge_base",
           "[\"url:['https://scontent.xx.fbcdn.net/v/t1.15752-9/93840235_671253940372699_6078193114063831040_n.jpg?_nc_cat=102&_nc_sid=b96e70&_nc_ohc=D5YUEvNDHT0AX9Y6mFp&_nc_ad=z-m&_nc_cid=0&_nc_zor=9&_nc_ht=scontent.xx&oh=8e687d198cf4874f887a6dacdfc1c955&oe=5EC2A850']\", 'attribute:price']",
           "action_query_babe_kb"
          ],
          [
           "Ok bạn thế để t xem lại rùi báo nha",
           "Dạ,vâng",
           "end_conversation",
           null,
           "action_end_conversation"
          ],
          [
           "https://scontent.xx.fbcdn.net/v/t1.15752-9/93961206_796326287442487_728031685777555456_n.jpg?_nc_cat=105&_nc_sid=b96e70&_nc_ohc=3da0fC1ve2oAX8S6IbX&_nc_ad=z-m&_nc_cid=0&_nc_zor=9&_nc_ht=scontent.xx&oh=42d0e0506c5304eb15653717ac7c9999&oe=5EC3CDEE\nInbox mình nhé",
           "Dạ, có phải bạn muốn hỏi một trong các sản phẩm dưới đây không ạ?\n (Vui lòng ấn chọn 1 sản phẩm)...",
           "query_knowledge_base",
           "[\"url:['https://scontent.xx.fbcdn.net/v/t1.15752-9/93961206_796326287442487_728031685777555456_n.jpg?_nc_cat=105&_nc_sid=b96e70&_nc_ohc=3da0fC1ve2oAX8S6IbX&_nc_ad=z-m&_nc_cid=0&_nc_zor=9&_nc_ht=scontent.xx&oh=42d0e0506c5304eb15653717ac7c9999&oe=5EC3CDEE']\"]",
           "action_query_babe_kb"
          ],
          [
           "/query_knowledge_base{\"url\": \"https://www.facebook.com/shopgauvabingo/posts/2445777899065867\", \"product_id\": \"https://www.facebook.com/shopgauvabingo/posts/2445777899065867\"}",
           "Sản phẩm Xe chòi chân kiêm xe lắc cao cấp có nhạc Holla hiện shop đang có giá: *790,000 VND (giá gốc 1,200,000 VND)*.\nBạn tham khảo các sản phẩm sau nhé ạ:",
           "query_knowledge_base",
           null,
           "action_query_babe_kb"
          ],
          [
           "bé 13m đã dùng đc chưa bạn nhỉ?",
           "Sản phẩm  Xe chòi chân kiêm xe lắc cao cấp có nhạc Holla hiện shop đang có độ tuổi sử dụng: 0 - 36 tháng.\nBạn tham khảo các sản phẩm sau nhé ạ",
           "query_knowledge_base",
           "['age_of_use:13m']",
           "action_query_babe_kb"
          ],
          [
           "Ok bạn",
           "Dạ,vâng",
           "agree",
           null,
           "utter_agree"
          ],
          [
           "https://scontent.xx.fbcdn.net/v/t1.15752-9/93961206_796326287442487_728031685777555456_n.jpg?_nc_cat=105&_nc_sid=b96e70&_nc_ohc=3da0fC1ve2oAX8S6IbX&_nc_ad=z-m&_nc_cid=0&_nc_zor=9&_nc_ht=scontent.xx&oh=42d0e0506c5304eb15653717ac7c9999&oe=5EC3CDEE\nInbox mình nhé",
           "Sản phẩm Xe chòi chân kiêm xe lắc cao cấp có nhạc Holla hiện shop đang có giá: *790,000 VND (giá gốc 1,200,000 VND)*.\nBạn tham khảo các sản phẩm sau nhé ạ:",
           "query_knowledge_base",
           "[\"url:['https://scontent.xx.fbcdn.net/v/t1.15752-9/93961206_796326287442487_728031685777555456_n.jpg?_nc_cat=105&_nc_sid=b96e70&_nc_ohc=3da0fC1ve2oAX8S6IbX&_nc_ad=z-m&_nc_cid=0&_nc_zor=9&_nc_ht=scontent.xx&oh=42d0e0506c5304eb15653717ac7c9999&oe=5EC3CDEE']\"]",
           "action_query_babe_kb"
          ],
          [
           "có những màu gì sh",
           "Sản phẩm  Xe chòi chân kiêm xe lắc cao cấp có nhạc Holla hiện shop đang có màu: Hồng, Xanh.\nBạn tham khảo các sản phẩm sau nhé ạ:",
           "query_knowledge_base",
           "['attribute:color']",
           "action_query_babe_kb"
          ],
          [
           "Để mình tham khảo ",
           null,
           "handover_to_inbox",
           null,
           "action_handover_to_inbox"
          ],
          [
           "https://scontent.xx.fbcdn.net/v/t1.15752-9/93961206_796326287442487_728031685777555456_n.jpg?_nc_cat=105&_nc_sid=b96e70&_nc_ohc=3da0fC1ve2oAX8S6IbX&_nc_ad=z-m&_nc_cid=0&_nc_zor=9&_nc_ht=scontent.xx&oh=42d0e0506c5304eb15653717ac7c9999&oe=5EC3CDEE\nInbox mình nhé",
           "Sản phẩm Xe chòi chân kiêm xe lắc cao cấp có nhạc Holla hiện shop đang có giá: *790,000 VND (giá gốc 1,200,000 VND)*.\nBạn tham khảo các sản phẩm sau nhé ạ:",
           "query_knowledge_base",
           "[\"url:['https://scontent.xx.fbcdn.net/v/t1.15752-9/93961206_796326287442487_728031685777555456_n.jpg?_nc_cat=105&_nc_sid=b96e70&_nc_ohc=3da0fC1ve2oAX8S6IbX&_nc_ad=z-m&_nc_cid=0&_nc_zor=9&_nc_ht=scontent.xx&oh=42d0e0506c5304eb15653717ac7c9999&oe=5EC3CDEE']\"]",
           "action_query_babe_kb"
          ],
          [
           "có những màu gì sh",
           "Sản phẩm  Xe chòi chân kiêm xe lắc cao cấp có nhạc Holla hiện shop đang có màu: Hồng, Xanh.\nBạn tham khảo các sản phẩm sau nhé ạ:",
           "query_knowledge_base",
           "['attribute:color']",
           "action_query_babe_kb"
          ],
          [
           "Để mình tham khảo ",
           "Dạ, vâng ạ",
           "end_conversation",
           null,
           "action_end_conversation"
          ],
          [
           "https://scontent.xx.fbcdn.net/v/t1.15752-9/94433981_1159306187745864_4562238742848339968_n.jpg?_nc_cat=101&_nc_sid=b96e70&_nc_ohc=VEWd1RjRUwEAX9VKrUQ&_nc_ad=z-m&_nc_cid=0&_nc_zor=9&_nc_ht=scontent.xx&oh=f9b2c664968877f5a68112d6d9919576&oe=5EC3E911\nGia bao cho m nhe",
           "Dạ, có phải bạn muốn hỏi một trong các sản phẩm dưới đây không ạ?\n (Vui lòng ấn chọn 1 sản phẩm)...",
           "query_knowledge_base",
           "[\"url:['https://scontent.xx.fbcdn.net/v/t1.15752-9/94433981_1159306187745864_4562238742848339968_n.jpg?_nc_cat=101&_nc_sid=b96e70&_nc_ohc=VEWd1RjRUwEAX9VKrUQ&_nc_ad=z-m&_nc_cid=0&_nc_zor=9&_nc_ht=scontent.xx&oh=f9b2c664968877f5a68112d6d9919576&oe=5EC3E911']\", 'attribute:price']",
           "action_query_babe_kb"
          ],
          [
           "/query_knowledge_base{\"url\": \"https://www.facebook.com/shopgauvabingo/posts/2445777899065867\", \"product_id\": \"https://www.facebook.com/shopgauvabingo/posts/2445777899065867\"}",
           "Sản phẩm Xe chòi chân kiêm xe lắc cao cấp có nhạc Holla hiện shop đang có giá: *790,000 VND (giá gốc 1,200,000 VND)*.\nBạn tham khảo các sản phẩm sau nhé ạ:",
           "query_knowledge_base",
           null,
           "action_query_babe_kb"
          ],
          [
           "Ok bạn",
           "Dạ,vâng",
           "agree",
           null,
           "utter_agree"
          ],
          [
           "https://scontent.xx.fbcdn.net/v/t1.15752-9/94433981_1159306187745864_4562238742848339968_n.jpg?_nc_cat=101&_nc_sid=b96e70&_nc_ohc=VEWd1RjRUwEAX9VKrUQ&_nc_ad=z-m&_nc_cid=0&_nc_zor=9&_nc_ht=scontent.xx&oh=f9b2c664968877f5a68112d6d9919576&oe=5EC3E911\nGia bao cho m nhe",
           "Sản phẩm Xe chòi chân kiêm xe lắc cao cấp có nhạc Holla hiện shop đang có giá: *790,000 VND (giá gốc 1,200,000 VND)*.\nBạn tham khảo các sản phẩm sau nhé ạ:",
           "query_knowledge_base",
           "[\"url:['https://scontent.xx.fbcdn.net/v/t1.15752-9/94433981_1159306187745864_4562238742848339968_n.jpg?_nc_cat=101&_nc_sid=b96e70&_nc_ohc=VEWd1RjRUwEAX9VKrUQ&_nc_ad=z-m&_nc_cid=0&_nc_zor=9&_nc_ht=scontent.xx&oh=f9b2c664968877f5a68112d6d9919576&oe=5EC3E911']\", 'attribute:price']",
           "action_query_babe_kb"
          ],
          [
           "thank shop",
           "Dạ, cảm ơn bạn!",
           "thank",
           null,
           "utter_thank"
          ],
          [
           "hi shop",
           "Chào bạn, mình là trợ lý ảo của Shop Gấu & Bí Ngô, mình giúp gì được bạn ạ?",
           "greet",
           null,
           "utter_greet"
          ],
          [
           "https://scontent.xx.fbcdn.net/v/t1.15752-9/93802318_233197931358906_2034310246138118144_n.jpg?_nc_cat=107&_nc_sid=b96e70&_nc_ohc=X6ceCV_5fm0AX-PA3RH&_nc_ad=z-m&_nc_cid=0&_nc_zor=9&_nc_ht=scontent.xx&oh=4ffdce6cf0b70ce56ff8dd99177c2e51&oe=5EC2E409\nhttps://scontent.xx.fbcdn.net/v/t1.15752-9/67602042_302799497194173_8355364115610337280_n.jpg?_nc_cat=109&_nc_sid=b96e70&_nc_ohc=NpzSuwikljcAX_SqaKi&_nc_ad=z-m&_nc_cid=0&_nc_zor=9&_nc_ht=scontent.xx&oh=579e1eff47a88f97c894ea19ff974c8e&oe=5EC5986C",
           "Bạn đang tìm kiếm thông tin gì ạ?",
           "query_knowledge_base",
           "[\"url:['https://scontent.xx.fbcdn.net/v/t1.15752-9/93802318_233197931358906_2034310246138118144_n.jpg?_nc_cat=107&_nc_sid=b96e70&_nc_ohc=X6ceCV_5fm0AX-PA3RH&_nc_ad=z-m&_nc_cid=0&_nc_zor=9&_nc_ht=scontent.xx&oh=4ffdce6cf0b70ce56ff8dd99177c2e51&oe=5EC2E409', 'https://scontent.xx.fbcdn.net/v/t1.15752-9/67602042_302799497194173_8355364115610337280_n.jpg?_nc_cat=109&_nc_sid=b96e70&_nc_ohc=NpzSuwikljcAX_SqaKi&_nc_ad=z-m&_nc_cid=0&_nc_zor=9&_nc_ht=scontent.xx&oh=579e1eff47a88f97c894ea19ff974c8e&oe=5EC5986C']\"]",
           "action_query_babe_kb"
          ],
          [
           "Xe đẩy loại này còn k shop",
           "Sản phẩm Xe đẩy siêu nhẹ Umoo hiện shop đang có giá: *749,000 VND (giá gốc 1,200,000 VND)*.\nBạn tham khảo các sản phẩm sau nhé ạ:",
           "query_knowledge_base",
           "['object_type:xe_day', 'mention:loại này']",
           "action_query_babe_kb"
          ],
          [
           "Ok bạn",
           "Dạ,vâng",
           "agree",
           null,
           "utter_agree"
          ],
          [
           "hi shop",
           "Chào bạn, mình là trợ lý ảo của Shop Gấu & Bí Ngô, mình giúp gì được bạn ạ?",
           "greet",
           null,
           "utter_greet"
          ],
          [
           "https://scontent.xx.fbcdn.net/v/t1.15752-9/93802318_233197931358906_2034310246138118144_n.jpg?_nc_cat=107&_nc_sid=b96e70&_nc_ohc=X6ceCV_5fm0AX-PA3RH&_nc_ad=z-m&_nc_cid=0&_nc_zor=9&_nc_ht=scontent.xx&oh=4ffdce6cf0b70ce56ff8dd99177c2e51&oe=5EC2E409\nhttps://scontent.xx.fbcdn.net/v/t1.15752-9/67602042_302799497194173_8355364115610337280_n.jpg?_nc_cat=109&_nc_sid=b96e70&_nc_ohc=NpzSuwikljcAX_SqaKi&_nc_ad=z-m&_nc_cid=0&_nc_zor=9&_nc_ht=scontent.xx&oh=579e1eff47a88f97c894ea19ff974c8e&oe=5EC5986C",
           "Bạn đang tìm kiếm thông tin gì ạ?",
           "query_knowledge_base",
           "[\"url:['https://scontent.xx.fbcdn.net/v/t1.15752-9/93802318_233197931358906_2034310246138118144_n.jpg?_nc_cat=107&_nc_sid=b96e70&_nc_ohc=X6ceCV_5fm0AX-PA3RH&_nc_ad=z-m&_nc_cid=0&_nc_zor=9&_nc_ht=scontent.xx&oh=4ffdce6cf0b70ce56ff8dd99177c2e51&oe=5EC2E409', 'https://scontent.xx.fbcdn.net/v/t1.15752-9/67602042_302799497194173_8355364115610337280_n.jpg?_nc_cat=109&_nc_sid=b96e70&_nc_ohc=NpzSuwikljcAX_SqaKi&_nc_ad=z-m&_nc_cid=0&_nc_zor=9&_nc_ht=scontent.xx&oh=579e1eff47a88f97c894ea19ff974c8e&oe=5EC5986C']\"]",
           "action_query_babe_kb"
          ],
          [
           "Xe đẩy loại này còn k shop",
           "Sản phẩm Xe đẩy siêu nhẹ Umoo hiện shop đang hết hàng ạ.\nBạn tham khảo các sản phẩm khác nhé ạ:",
           "query_knowledge_base",
           "['object_type:xe_day', 'mention:loại này']",
           "action_query_babe_kb"
          ],
          [
           "Ok bạn",
           "Dạ,vâng",
           "agree",
           null,
           "utter_agree"
          ],
          [
           "https://scontent.xx.fbcdn.net/v/t1.15752-9/93838228_247081556436066_886875673921060864_n.jpg?_nc_cat=111&_nc_sid=b96e70&_nc_ohc=RVSbE5MO1C4AX9CWsL9&_nc_ad=z-m&_nc_cid=0&_nc_zor=9&_nc_ht=scontent.xx&oh=c524b14523d569610af325c716747b08&oe=5EC2BDC5\nCai này bao nhieu b",
           "Dạ, có phải bạn muốn hỏi một trong các sản phẩm dưới đây không ạ?\r\n (Vui lòng ấn chọn 1 sản phẩm)...",
           "query_knowledge_base",
           "[\"url:['https://scontent.xx.fbcdn.net/v/t1.15752-9/93838228_247081556436066_886875673921060864_n.jpg?_nc_cat=111&_nc_sid=b96e70&_nc_ohc=RVSbE5MO1C4AX9CWsL9&_nc_ad=z-m&_nc_cid=0&_nc_zor=9&_nc_ht=scontent.xx&oh=c524b14523d569610af325c716747b08&oe=5EC2BDC5']\", 'mention:cai này', 'attribute:price']",
           "action_query_babe_kb"
          ],
          [
           "/disagree{\"object_type\": null}",
           "Bạn vui lòng mô tả rõ mong muốn của bạn hoặc chat với nhân viên tư vấn nhé!",
           "disagree",
           "['object_type:None']",
           "utter_disagree"
          ],
          [
           "/connect_employee",
           null,
           "connect_employee",
           "[]",
           "action_handover_to_inbox"
          ],
          [
           "https://scontent.xx.fbcdn.net/v/t1.15752-9/93838228_247081556436066_886875673921060864_n.jpg?_nc_cat=111&_nc_sid=b96e70&_nc_ohc=RVSbE5MO1C4AX9CWsL9&_nc_ad=z-m&_nc_cid=0&_nc_zor=9&_nc_ht=scontent.xx&oh=c524b14523d569610af325c716747b08&oe=5EC2BDC5\nCai này bao nhieu b",
           "Sản phẩm bạn đang tìm có phải là?",
           "query_knowledge_base",
           "[\"url:['https://scontent.xx.fbcdn.net/v/t1.15752-9/93838228_247081556436066_886875673921060864_n.jpg?_nc_cat=111&_nc_sid=b96e70&_nc_ohc=RVSbE5MO1C4AX9CWsL9&_nc_ad=z-m&_nc_cid=0&_nc_zor=9&_nc_ht=scontent.xx&oh=c524b14523d569610af325c716747b08&oe=5EC2BDC5']\", 'mention:cai này', 'attribute:price']",
           "action_query_babe_kb"
          ],
          [
           "/disagree{\"object_type\": null}",
           "Bạn vui lòng mô tả rõ mong muốn của bạn hoặc chat với nhân viên tư vấn nhé!",
           "disagree",
           "['object_type:None']",
           "utter_disagree"
          ],
          [
           "/connect_employee",
           null,
           "connect_employee",
           "[]",
           "action_handover_to_inbox"
          ],
          [
           "https://scontent.xx.fbcdn.net/v/t1.15752-9/93838228_247081556436066_886875673921060864_n.jpg?_nc_cat=111&_nc_sid=b96e70&_nc_ohc=RVSbE5MO1C4AX9CWsL9&_nc_ad=z-m&_nc_cid=0&_nc_zor=9&_nc_ht=scontent.xx&oh=c524b14523d569610af325c716747b08&oe=5EC2BDC5\nCai này bao nhieu b",
           "Sản phẩm Bộ bảo vệ 7 món hiện shop đang có giá: *749,000 VND (giá gốc 1,200,000 VND)*.\nBạn tham khảo các sản phẩm sau nhé ạ:",
           "query_knowledge_base",
           "[\"url:['https://scontent.xx.fbcdn.net/v/t1.15752-9/93838228_247081556436066_886875673921060864_n.jpg?_nc_cat=111&_nc_sid=b96e70&_nc_ohc=RVSbE5MO1C4AX9CWsL9&_nc_ad=z-m&_nc_cid=0&_nc_zor=9&_nc_ht=scontent.xx&oh=c524b14523d569610af325c716747b08&oe=5EC2BDC5']\", 'mention:cai này', 'attribute:price']",
           "action_query_babe_kb"
          ],
          [
           "để mình xem có gì minh báo",
           null,
           "handover_to_inbox",
           null,
           "action_handover_to_inbox"
          ],
          [
           "https://scontent.xx.fbcdn.net/v/t1.15752-9/93640892_710305896457319_7085221636256825344_n.jpg?_nc_cat=111&_nc_sid=b96e70&_nc_ohc=9OUM8UhaLe0AX9f-sH6&_nc_ad=z-m&_nc_cid=0&_nc_zor=9&_nc_ht=scontent.xx&oh=0271467aa36e5b5d93e3cab034e401c5&oe=5EC3406E",
           "Bạn đang tìm kiếm thông tin gì ạ?",
           "send_link",
           "[\"url:['https://scontent.xx.fbcdn.net/v/t1.15752-9/93640892_710305896457319_7085221636256825344_n.jpg?_nc_cat=111&_nc_sid=b96e70&_nc_ohc=9OUM8UhaLe0AX9f-sH6&_nc_ad=z-m&_nc_cid=0&_nc_zor=9&_nc_ht=scontent.xx&oh=0271467aa36e5b5d93e3cab034e401c5&oe=5EC3406E']\"]",
           "action_handle_send_link_only"
          ],
          [
           "Bạn ơi giường đệm đi kèm giá như nào",
           "Sản phẩm bạn đang tìm có phải là?",
           "query_knowledge_base",
           "['object_type:giuong', 'attribute:price']",
           "action_query_babe_kb"
          ],
          [
           "/disagree{\"object_type\": null}",
           "Bạn vui lòng mô tả rõ mong muốn của bạn hoặc chat với nhân viên tư vấn nhé!",
           "disagree",
           "['object_type:None']",
           "utter_disagree"
          ],
          [
           "/connect_employee",
           null,
           "connect_employee",
           "[]",
           "action_handover_to_inbox"
          ],
          [
           "https://scontent.xx.fbcdn.net/v/t1.15752-9/93640892_710305896457319_7085221636256825344_n.jpg?_nc_cat=111&_nc_sid=b96e70&_nc_ohc=9OUM8UhaLe0AX9f-sH6&_nc_ad=z-m&_nc_cid=0&_nc_zor=9&_nc_ht=scontent.xx&oh=0271467aa36e5b5d93e3cab034e401c5&oe=5EC3406E",
           "Bạn đang tìm kiếm thông tin gì ạ?",
           "send_link",
           "[\"url:['https://scontent.xx.fbcdn.net/v/t1.15752-9/93640892_710305896457319_7085221636256825344_n.jpg?_nc_cat=111&_nc_sid=b96e70&_nc_ohc=9OUM8UhaLe0AX9f-sH6&_nc_ad=z-m&_nc_cid=0&_nc_zor=9&_nc_ht=scontent.xx&oh=0271467aa36e5b5d93e3cab034e401c5&oe=5EC3406E']\"]",
           "action_handle_send_link_only"
          ],
          [
           "Bạn ơi giường đệm đi kèm giá như nào",
           "Dạ, có phải bạn muốn hỏi một trong các sản phẩm dưới đây không ạ?\r\n (Vui lòng ấn chọn 1 sản phẩm)...",
           "query_knowledge_base",
           "['object_type:giuong', 'attribute:price']",
           "action_query_babe_kb"
          ],
          [
           "/query_knowledge_base{\"url\": \"https://www.facebook.com/shopgauvabingo/posts/2445681652408825\", \"product_id\": \"https://www.facebook.com/shopgauvabingo/posts/2445681652408825\"}",
           "Sản phẩm Giường nhựa Holla hiện shop đang có giá: *749,000 VND (giá gốc 1,200,000 VND)*.\nBạn tham khảo các sản phẩm sau nhé ạ:",
           "query_knowledge_base",
           null,
           "action_query_babe_kb"
          ],
          [
           "Ok shop",
           "Dạ,vâng",
           "agree",
           null,
           "utter_agree"
          ],
          [
           "https://scontent.xx.fbcdn.net/v/t1.15752-9/93640892_710305896457319_7085221636256825344_n.jpg?_nc_cat=111&_nc_sid=b96e70&_nc_ohc=9OUM8UhaLe0AX9f-sH6&_nc_ad=z-m&_nc_cid=0&_nc_zor=9&_nc_ht=scontent.xx&oh=0271467aa36e5b5d93e3cab034e401c5&oe=5EC3406E",
           "Bạn đang tìm kiếm thông tin gì ạ?",
           "send_link",
           "[\"url:['https://scontent.xx.fbcdn.net/v/t1.15752-9/93640892_710305896457319_7085221636256825344_n.jpg?_nc_cat=111&_nc_sid=b96e70&_nc_ohc=9OUM8UhaLe0AX9f-sH6&_nc_ad=z-m&_nc_cid=0&_nc_zor=9&_nc_ht=scontent.xx&oh=0271467aa36e5b5d93e3cab034e401c5&oe=5EC3406E']\"]",
           "action_handle_send_link_only"
          ],
          [
           "Bạn ơi giường đệm đi kèm giá như nào",
           "Sản phẩm Giường nhựa Holla hiện shop đang có giá: *749,000 VND (giá gốc 1,200,000 VND)*.\r\nBạn tham khảo các sản phẩm sau nhé ạ:",
           "query_knowledge_base",
           "['object_type:giuong', 'attribute:price']",
           "action_query_babe_kb"
          ],
          [
           "thank shop",
           "Dạ, vâng ạ!",
           "thank",
           null,
           "utter_thank"
          ],
          [
           "alo shop",
           "Chào bạn, mình là trợ lý ảo của Shop Gấu & Bí Ngô, mình giúp gì được bạn ạ?",
           "greet",
           null,
           "utter_greet"
          ],
          [
           "Shop có xe scooter ko ạ?",
           "Sản phẩm bạn đang tìm có phải là?",
           "query_knowledge_base",
           "['object_type:xe','brand:scooter']",
           "action_query_babe_kb"
          ],
          [
           "/deny_object_type{\"object_type\": null}",
           "Bạn vui lòng mô tả rõ mong muốn của bạn hoặc chat với nhân viên tư vấn nhé!",
           "deny_object_type",
           "['object_type:None']",
           "utter_disagree"
          ],
          [
           "/connect_employee",
           null,
           "connect_employee",
           "[]",
           "action_handover_to_inbox"
          ],
          [
           "alo shop",
           "Chào bạn, mình là trợ lý ảo của Shop Gấu & Bí Ngô, mình giúp gì được bạn ạ?",
           "greet",
           null,
           "utter_greet"
          ],
          [
           "Shop có xe scooter ko ạ?",
           "Hiện tại sản phẩm xe scooter  shop đang có những giá sau ạ:",
           "query_knowledge_base",
           "['object_type:xe_scooter']",
           "action_query_babe_kb"
          ],
          [
           "/confirm_attribute_value{\"price\": \"500-1M\"}",
           "Hiện tại sản phẩm xe scooter giá 500 - 1m shop đang có những hãng sản xuất sau ạ:",
           "query_knowledge_base",
           null,
           "action_query_babe_kb"
          ],
          [
           "/confirm_attribute_value{\"brand\": \"Vinng\"}",
           "Dạ mời bạn tham khảo sản phẩm hiện có tại shop nhé!",
           "query_knowledge_base",
           null,
           "action_query_babe_kb"
          ],
          [
           "Bạn ơi bên bạn hiện còn những loại cầu trượt nào nhỉ",
           "Sản phẩm  Cầu trượt xích đu Hola hải cẩu 2020  hiện shop đang có giá: *1,982,500 VND (giá gốc 3,250,000 VND)*.\nBạn tham khảo các sản phẩm sau nhé ạ:",
           "query_knowledge_base",
           "['object_type:cau_truot']",
           "action_query_babe_kb"
          ],
          [
           "ok shop",
           "Dạ,vâng",
           "agree",
           null,
           "utter_agree"
          ],
          [
           "Bạn ơi bên bạn hiện còn những loại cầu trượt nào nhỉ",
           "Hiện tại sản phẩm cầu trượt  shop đang có những giá sau ạ:",
           "query_knowledge_base",
           "['object_type:cau_truot']",
           "action_query_babe_kb"
          ],
          [
           "/confirm_attribute_value{\"price\": \"1M-2M\"}",
           "Dạ mời bạn tham khảo sản phẩm hiện có tại shop nhé!",
           "query_knowledge_base",
           null,
           "action_query_babe_kb"
          ],
          [
           "Có cái nào rẻ hơn k bạn\r\nCầu trượt riêng thôi",
           null,
           "handover_to_inbox",
           "['object_type:cau_truot']",
           "action_handover_to_inbox"
          ],
          [
           "Bạn ơi bên bạn hiện còn những loại cầu trượt nào nhỉ",
           "Sản phẩm  Cầu trượt xích đu Hola hải cẩu 2020  hiện shop đang có giá: *1,982,500 VND (giá gốc 3,250,000 VND)*.\r\nBạn tham khảo các sản phẩm sau nhé ạ:",
           "query_knowledge_base",
           "['object_type:cau_truot']",
           "action_query_babe_kb"
          ],
          [
           "Có cái nào rẻ hơn k bạn\r\nCầu trượt riêng thôi",
           "Sản phẩm  Cầu trượt có giá thấp hơn: *1,982,500 VND (giá gốc 3,250,000 VND)* shop có một số sản phẩm.\nBạn tham khảo các sản phẩm sau nhé ạ:",
           "query_knowledge_base",
           "['object_type:cau_truot']",
           "action_query_babe_kb"
          ],
          [
           "Bạn ơi bên bạn hiện còn những loại cầu trượt nào nhỉ",
           "Sản phẩm  Cầu trượt xích đu Hola hải cẩu 2020  hiện shop đang có giá: *1,982,500 VND (giá gốc 3,250,000 VND)*\nBạn tham khảo các sản phẩm sau nhé ạ:",
           "query_knowledge_base",
           "['object_type:cau_truot']",
           "action_query_babe_kb"
          ],
          [
           "Có cái nào rẻ hơn k bạn\r\nCầu trượt riêng thôi",
           "Sản phẩm  Cầu trượt có giá thấp hơn: *1,982,500 VND (giá gốc 3,250,000 VND)* shop hiện không có.\nBạn tham khảo các sản phẩm sau nhé ạ:",
           "query_knowledge_base",
           "['object_type:cau_truot']",
           "action_query_babe_kb"
          ],
          [
           null,
           "Bạn đã tìm đc sản phẩm ưng ý chưa ạ ,có cần trợ lý của shop gấu và bí ngô giúp gì không ạ",
           "reminder",
           null,
           "action_reminder"
          ],
          [
           "Cho m stk tối nhận hàng m ck nhé",
           "Dạ mình gửi bạn thông tin tài khoản của shop ạ:\nThông tin chuyển khoản: \n• 0611001928974 - VietcomBank chi nhánh Ba Đình. Nguyễn Lê Thuỷ\n• 1500216756861 - Agribank chi nhánh Hà Nội - Nguyễn Lê Thủy\n• 19022876983383 - Techcombank chi nhánh Hà Nội. Nguyễn Tuấn Quang! \nNội dung chuyển khoản bạn ghi rõ Tên Facebook + số điện thoại và nhắn lại bên mình sau khi chuyển khoản nhé.",
           "ask_account",
           null,
           "action_ask_account"
          ],
          [
           "ok shop",
           null,
           "agree",
           null,
           "utter_agree"
          ],
          [
           "https://scontent.xx.fbcdn.net/v/t1.15752-9/93983240_2821288317948752_842182115389865984_n.jpg?_nc_cat=110&_nc_sid=b96e70&_nc_oc=AQlu0Bd3QU0FS9YleaGD4xnvaMxDjJH1AaTvxpZAzM3XTfDDxP2pY23ZNSA3CghP0uZ8BknWoPUoMfQt5w9vtTsP&_nc_ad=z-m&_nc_cid=0&_nc_zor=9&_nc_ht=scontent.xx&oh=84195cc58455d4bf9cb6dc86a2f58333&oe=5EC16495",
           "Bạn đang tìm kiếm thông tin gì ạ?",
           "send_link",
           "[\"url:['https://scontent.xx.fbcdn.net/v/t1.15752-9/93983240_2821288317948752_842182115389865984_n.jpg?_nc_cat=110&_nc_sid=b96e70&_nc_oc=AQlu0Bd3QU0FS9YleaGD4xnvaMxDjJH1AaTvxpZAzM3XTfDDxP2pY23ZNSA3CghP0uZ8BknWoPUoMfQt5w9vtTsP&_nc_ad=z-m&_nc_cid=0&_nc_zor=9&_nc_ht=scontent.xx&oh=84195cc58455d4bf9cb6dc86a2f58333&oe=5EC16495']\"]",
           "action_handle_send_link_only"
          ],
          [
           "Bạn ơi bạn có cầu trượt này k?",
           "Dạ, có phải bạn muốn hỏi một trong các sản phẩm dưới đây không ạ?\r\n (Vui lòng ấn chọn 1 sản phẩm)",
           "query_knowledge_base",
           "['object_type:cau_truot', 'mention:này']",
           "action_query_babe_kb"
          ],
          [
           "/disagree{\"object_type\": null}",
           "Bạn vui lòng mô tả rõ mong muốn của bạn hoặc chat với nhân viên tư vấn nhé!",
           "disagree",
           null,
           "utter_disagree"
          ],
          [
           "/connect_employee",
           null,
           "connect_employee",
           "[]",
           "action_handover_to_inbox"
          ],
          [
           "https://scontent.xx.fbcdn.net/v/t1.15752-9/93983240_2821288317948752_842182115389865984_n.jpg?_nc_cat=110&_nc_sid=b96e70&_nc_oc=AQlu0Bd3QU0FS9YleaGD4xnvaMxDjJH1AaTvxpZAzM3XTfDDxP2pY23ZNSA3CghP0uZ8BknWoPUoMfQt5w9vtTsP&_nc_ad=z-m&_nc_cid=0&_nc_zor=9&_nc_ht=scontent.xx&oh=84195cc58455d4bf9cb6dc86a2f58333&oe=5EC16495",
           "Bạn đang tìm kiếm thông tin gì ạ?",
           "send_link",
           "[\"url:['https://scontent.xx.fbcdn.net/v/t1.15752-9/93983240_2821288317948752_842182115389865984_n.jpg?_nc_cat=110&_nc_sid=b96e70&_nc_oc=AQlu0Bd3QU0FS9YleaGD4xnvaMxDjJH1AaTvxpZAzM3XTfDDxP2pY23ZNSA3CghP0uZ8BknWoPUoMfQt5w9vtTsP&_nc_ad=z-m&_nc_cid=0&_nc_zor=9&_nc_ht=scontent.xx&oh=84195cc58455d4bf9cb6dc86a2f58333&oe=5EC16495']\"]",
           "action_handle_send_link_only"
          ],
          [
           "Bạn ơi bạn có cầu trượt này k?",
           "Dạ, có phải bạn muốn hỏi một trong các sản phẩm dưới đây không ạ?\r\n (Vui lòng ấn chọn 1 sản phẩm)",
           "query_knowledge_base",
           "['object_type:cau_truot', 'mention:này']",
           "action_query_babe_kb"
          ],
          [
           "Cái như mình gửi ảnh ấy",
           "Bạn vui lòng mô tả rõ mong muốn của bạn hoặc chat với nhân viên tư vấn nhé!",
           "disagree",
           null,
           "utter_disagree"
          ],
          [
           null,
           "Bạn đã tìm đc sản phẩm ưng ý chưa ạ ,có cần trợ lý của shop gấu và bí ngô giúp gì không ạ",
           "reminder",
           null,
           "action_reminder"
          ],
          [
           "C lấy bộ lego thỏ nhé\nNhắn c stk c ck",
           "Dạ mình gửi bạn thông tin tài khoản của shop ạ:\nThông tin chuyển khoản: \n• 0611001928974 - VietcomBank chi nhánh Ba Đình. Nguyễn Lê Thuỷ\n• 1500216756861 - Agribank chi nhánh Hà Nội - Nguyễn Lê Thủy\n• 19022876983383 - Techcombank chi nhánh Hà Nội. Nguyễn Tuấn Quang! \nNội dung chuyển khoản bạn ghi rõ Tên Facebook + số điện thoại và nhắn lại bên mình sau khi chuyển khoản nhé.",
           "ask_account",
           null,
           "action_ask_account"
          ],
          [
           "Ship về 28 ngõ 48 ngô gia tự, long biên 0989067795",
           "\"Cảm ơn bạn! Bạn vui lòng kiểm tra lại thông tin đặt hàng giúp shop nhé!\r\n<Show ra cái bảng mẫu đặt hàng: có tên sản phẩm, cho khách tùy chọn số lượng, màu sắc...>\"\r\n<xác nhận> <hủy>",
           "order",
           "[]",
           "action_order"
          ],
          [
           "<xác nhận>",
           "Bạn đã đặt hàng thành công , đơn hàng sẽ đc giao đến 28 ngõ 48 ngô gia tự, long biên trong khoảng 24 h ạ",
           "confirm_order",
           null,
           "action_confirm_order"
          ],
          [
           "alo shop",
           "Chào bạn, mình là trợ lý ảo của Shop Gấu & Bí Ngô, mình giúp gì được bạn ạ?",
           "greet",
           null,
           "utter_greet"
          ],
          [
           "https://scontent.xx.fbcdn.net/v/t1.15752-9/94187856_1428345610693079_2104702857449046016_n.jpg?_nc_cat=109&_nc_sid=b96e70&_nc_ohc=ITTHyLb5GbQAX8dQMXM&_nc_ad=z-m&_nc_cid=0&_nc_zor=9&_nc_ht=scontent.xx&oh=01542d8383a44dc3ca26de400c1cde2a&oe=5EC29798\nIb giá nhé shop",
           "Sản phẩm  Ghế đa năng Mastela Premium 1016  hiện shop đang có giá: *1,590,000 VND (giá gốc 2,000,000 VND)*.\nBạn tham khảo các sản phẩm sau nhé ạ:",
           "query_knowledge_base",
           "[\"url:['https://scontent.xx.fbcdn.net/v/t1.15752-9/94187856_1428345610693079_2104702857449046016_n.jpg?_nc_cat=109&_nc_sid=b96e70&_nc_ohc=ITTHyLb5GbQAX8dQMXM&_nc_ad=z-m&_nc_cid=0&_nc_zor=9&_nc_ht=scontent.xx&oh=01542d8383a44dc3ca26de400c1cde2a&oe=5EC29798']\", 'attribute:price']",
           "action_query_babe_kb"
          ],
          [
           "chiều nay ship được luôn cho mình được không",
           null,
           "handover_to_inbox",
           null,
           "action_handover_to_inbox"
          ],
          [
           "alo shop",
           "Chào bạn, mình là trợ lý ảo của Shop Gấu & Bí Ngô, mình giúp gì được bạn ạ?",
           "greet",
           null,
           "utter_greet"
          ],
          [
           "https://scontent.xx.fbcdn.net/v/t1.15752-9/94187856_1428345610693079_2104702857449046016_n.jpg?_nc_cat=109&_nc_sid=b96e70&_nc_ohc=ITTHyLb5GbQAX8dQMXM&_nc_ad=z-m&_nc_cid=0&_nc_zor=9&_nc_ht=scontent.xx&oh=01542d8383a44dc3ca26de400c1cde2a&oe=5EC29798\nIb giá nhé shop",
           "Sản phẩm  Ghế đa năng Mastela Premium 1016  hiện shop đang có giá: *1,590,000 VND (giá gốc 2,000,000 VND)*.\nBạn tham khảo các sản phẩm sau nhé ạ:",
           "query_knowledge_base",
           "[\"url:['https://scontent.xx.fbcdn.net/v/t1.15752-9/94187856_1428345610693079_2104702857449046016_n.jpg?_nc_cat=109&_nc_sid=b96e70&_nc_ohc=ITTHyLb5GbQAX8dQMXM&_nc_ad=z-m&_nc_cid=0&_nc_zor=9&_nc_ht=scontent.xx&oh=01542d8383a44dc3ca26de400c1cde2a&oe=5EC29798']\", 'attribute:price']",
           "action_query_babe_kb"
          ],
          [
           "chiều nay ship được luôn cho mình được không",
           "Bạn cho shop xin địa chỉ nhận hàng ạ.",
           "time_ship",
           null,
           "action_time_ship"
          ],
          [
           "số 7 tràng thi",
           "Với địa chỉ số 7 tràng thi shop có thể ship hàng đến trong 3 h ạ",
           "time_ship",
           null,
           "action_time_ship"
          ],
          [
           "https://scontent.xx.fbcdn.net/v/t1.15752-9/94118026_244969926552693_3478019006827331584_n.jpg?_nc_cat=100&_nc_sid=b96e70&_nc_ohc=i5bWmj-23SAAX_LTB3d&_nc_ad=z-m&_nc_cid=0&_nc_zor=9&_nc_ht=scontent.xx&oh=55c8b90d7ec276eab8fc521cd69e0638&oe=5EC1A4ED\nBộ này giá bn sho",
           "Dạ, có phải bạn muốn hỏi một trong các sản phẩm dưới đây không ạ?\n (Vui lòng ấn chọn 1 sản phẩm)...",
           "query_knowledge_base",
           "[\"url:['https://scontent.xx.fbcdn.net/v/t1.15752-9/94118026_244969926552693_3478019006827331584_n.jpg?_nc_cat=100&_nc_sid=b96e70&_nc_ohc=i5bWmj-23SAAX_LTB3d&_nc_ad=z-m&_nc_cid=0&_nc_zor=9&_nc_ht=scontent.xx&oh=55c8b90d7ec276eab8fc521cd69e0638&oe=5EC1A4ED']\", 'mention:bộ này', 'attribute:price']",
           "action_query_babe_kb"
          ],
          [
           "/query_knowledge_base{\"url\": \"https://www.facebook.com/shopgauvabingo/posts/2435578706752453\", \"product_id\": \"https://www.facebook.com/shopgauvabingo/posts/2435578706752453\"}",
           "Bộ đồ chơi nhà bếp thông minh hiện shop đang có giá: 790000 VND (giá gốc 790000 VND). Bạn tham khảo các sản phẩm sau nhé ạ:",
           "query_knowledge_base",
           null,
           "action_query_babe_kb"
          ],
          [
           "oki shop",
           "Dạ, vâng ạ",
           "agree",
           null,
           "utter_agree"
          ],
          [
           "https://scontent.xx.fbcdn.net/v/t1.15752-9/94118026_244969926552693_3478019006827331584_n.jpg?_nc_cat=100&_nc_sid=b96e70&_nc_ohc=i5bWmj-23SAAX_LTB3d&_nc_ad=z-m&_nc_cid=0&_nc_zor=9&_nc_ht=scontent.xx&oh=55c8b90d7ec276eab8fc521cd69e0638&oe=5EC1A4ED\nBộ này giá bn sho",
           "Sản phẩm bạn đang tìm có phải là?",
           "query_knowledge_base",
           "[\"url:['https://scontent.xx.fbcdn.net/v/t1.15752-9/94118026_244969926552693_3478019006827331584_n.jpg?_nc_cat=100&_nc_sid=b96e70&_nc_ohc=i5bWmj-23SAAX_LTB3d&_nc_ad=z-m&_nc_cid=0&_nc_zor=9&_nc_ht=scontent.xx&oh=55c8b90d7ec276eab8fc521cd69e0638&oe=5EC1A4ED']\", 'mention:bộ này', 'attribute:price']",
           "action_query_babe_kb"
          ],
          [
           "/confirm_object_type{\"object_type\": \"bo_do_choi\"}",
           "Bộ đồ chơi nhà bếp thông minh hiện shop đang có giá: 790000 VND (giá gốc 790000 VND). Bạn tham khảo các sản phẩm sau nhé ạ:",
           "query_knowledge_base",
           null,
           "action_query_babe_kb"
          ],
          [
           "oki shop",
           "Dạ, vâng ạ",
           "agree",
           null,
           "utter_agree"
          ],
          [
           "https://scontent.xx.fbcdn.net/v/t1.15752-9/94118026_244969926552693_3478019006827331584_n.jpg?_nc_cat=100&_nc_sid=b96e70&_nc_ohc=i5bWmj-23SAAX_LTB3d&_nc_ad=z-m&_nc_cid=0&_nc_zor=9&_nc_ht=scontent.xx&oh=55c8b90d7ec276eab8fc521cd69e0638&oe=5EC1A4ED\nBộ này giá bn sho",
           "Bộ đồ chơi nhà bếp thông minh hiện shop đang có giá: 790000 VND (giá gốc 790000 VND). Bạn tham khảo các sản phẩm sau nhé ạ:",
           "query_knowledge_base",
           "[\"url:['https://scontent.xx.fbcdn.net/v/t1.15752-9/94118026_244969926552693_3478019006827331584_n.jpg?_nc_cat=100&_nc_sid=b96e70&_nc_ohc=i5bWmj-23SAAX_LTB3d&_nc_ad=z-m&_nc_cid=0&_nc_zor=9&_nc_ht=scontent.xx&oh=55c8b90d7ec276eab8fc521cd69e0638&oe=5EC1A4ED']\", 'mention:bộ này', 'attribute:price']",
           "action_query_babe_kb"
          ],
          [
           "có những kích thước gì ạ",
           "Sản phẩm  Bộ đồ chơi nhà bếp thông minh có kích thước: 57x30x77cm và 51x32x100cm\nBạn tham khảo các sản phẩm sau nhé ạ:",
           "query_knowledge_base",
           "['attribute:size']",
           "action_query_babe_kb"
          ],
          [
           null,
           "Bạn đã tìm đc sản phẩm ưng ý chưa ạ ,có cần trợ lý của shop gấu và bí ngô giúp gì không ạ",
           "reminder",
           null,
           "action_reminder"
          ],
          [
           "Thế còn loại nào nữa ko c\nXe chòi chân ý",
           "Sản phẩm  Xe Chòi Chân  hiện shop đang có giá: *580,000 VND (giá gốc 800,000 VND), 499,000 VND (giá gốc 800,000 VND), 699,000 VND (giá gốc 998,000 VND), 448,400 VND (giá gốc 590,000 VND), 576,000 VND (giá gốc 800,000 VND)*.\nBạn tham khảo các sản phẩm sau nhé ạ:",
           "query_knowledge_base",
           "['object_type:xe_choi_chan']",
           "action_query_babe_kb"
          ],
          [
           "thank sop",
           "dạ,vâng ạ",
           "thank",
           null,
           "utter_thank"
          ],
          [
           "Shop cho e stk agribank để e ck ạ",
           "Dạ mình gửi bạn thông tin tài khoản của shop ạ:\nThông tin chuyển khoản: \n• 0611001928974 - VietcomBank chi nhánh Ba Đình. Nguyễn Lê Thuỷ\n• 1500216756861 - Agribank chi nhánh Hà Nội - Nguyễn Lê Thủy\n• 19022876983383 - Techcombank chi nhánh Hà Nội. Nguyễn Tuấn Quang! \nNội dung chuyển khoản bạn ghi rõ Tên Facebook + số điện thoại và nhắn lại bên mình sau khi chuyển khoản nhé.",
           "ask_account",
           null,
           "action_ask_account"
          ],
          [
           "Mình chuyển khoản rồi nhé ",
           null,
           "handover_to_inbox",
           null,
           "action_handover_to_inbox"
          ],
          [
           "Shop cho e stk agribank để e ck ạ",
           "Dạ mình gửi bạn thông tin tài khoản của shop ạ:\nThông tin chuyển khoản: \n• 0611001928974 - VietcomBank chi nhánh Ba Đình. Nguyễn Lê Thuỷ\n• 1500216756861 - Agribank chi nhánh Hà Nội - Nguyễn Lê Thủy\n• 19022876983383 - Techcombank chi nhánh Hà Nội. Nguyễn Tuấn Quang! \nNội dung chuyển khoản bạn ghi rõ Tên Facebook + số điện thoại và nhắn lại bên mình sau khi chuyển khoản nhé.",
           "ask_account",
           null,
           "action_ask_account"
          ],
          [
           "https://scontent.xx.fbcdn.net/v/t1.15752-9/93636148_581283165927177_1218583943880638464_n.jpg?_nc_cat=107&_nc_sid=b96e70&_nc_ohc=v18UutxNnwkAX8l0irW&_nc_ad=z-m&_nc_cid=0&_nc_zor=9&_nc_ht=scontent.xx&oh=7374a7a5bb108982137dd407f074cced&oe=5EBC3E04\nMình chuyển khoản rồi nhé ",
           "Cảm ơn bạn, nhân viên của shop sẽ xác nhận sớm lại ạ.",
           "confirm_transfer",
           null,
           "confirm_transfer"
          ],
          [
           "https://scontent.xx.fbcdn.net/v/t1.15752-9/94342216_2472338469763544_5708094841569673216_n.jpg?_nc_cat=111&_nc_sid=b96e70&_nc_ohc=kg5-pAp7BTgAX-QEe_x&_nc_ad=z-m&_nc_cid=0&_nc_zor=9&_nc_ht=scontent.xx&oh=aeb84a7b6bfc81f1fdadcd81e0347482&oe=5EC8A82A\nhttps://scontent.xx.fbcdn.net/v/t1.15752-9/94318161_887396588390390_8811840609993097216_n.jpg?_nc_cat=106&_nc_sid=b96e70&_nc_ohc=AWcLOmXmk3YAX-wKPHM&_nc_ad=z-m&_nc_cid=0&_nc_zor=9&_nc_ht=scontent.xx&oh=a19ee2c3acb264c574fb86ccd5539fac&oe=5EC6A253\nhai món này giá bnhieu ạ",
           "Sản phẩm Xe chòi chân kiêm xe lắc cao cấp có nhạc Holla hiện shop đang có giá: *790,000 VND (giá gốc 1,200,000 VND)*.\nBạn tham khảo các sản phẩm sau nhé ạ:\n<show card sp>",
           "query_knowledge_base",
           "[\"url:['https://scontent.xx.fbcdn.net/v/t1.15752-9/94318161_887396588390390_8811840609993097216_n.jpg?_nc_cat=106&_nc_sid=b96e70&_nc_ohc=AWcLOmXmk3YAX-wKPHM&_nc_ad=z-m&_nc_cid=0&_nc_zor=9&_nc_ht=scontent.xx&oh=a19ee2c3acb264c574fb86ccd5539fac&oe=5EC6A253', 'https://scontent.xx.fbcdn.net/v/t1.15752-9/94342216_2472338469763544_5708094841569673216_n.jpg?_nc_cat=111&_nc_sid=b96e70&_nc_ohc=kg5-pAp7BTgAX-QEe_x&_nc_ad=z-m&_nc_cid=0&_nc_zor=9&_nc_ht=scontent.xx&oh=aeb84a7b6bfc81f1fdadcd81e0347482&oe=5EC8A82A']\", 'mention:món này', 'attribute:price']",
           "action_query_babe_kb"
          ],
          [
           "ok shop",
           "Vâng ạ!",
           "agree",
           null,
           "utter_agree"
          ],
          [
           "Chào shop",
           "Chào bạn, mình là trợ lý ảo của Shop Gấu & Bí Ngô, mình giúp gì được bạn ạ?",
           "greet",
           "[]",
           "utter_greet"
          ],
          [
           "Đồ eco còmybaby hết loại 6-9m hả chị",
           "Sản phẩm Eco Comfybaby độ tuổi sử dụng 6 - 9 tháng hiện đang hết hàng. Mời bạn tham khảo các sản phẩm khác đang có tại shop ạ.\n<Show random 5 cards>",
           "query_knowledge_base",
           "['object_type:quan_ao']['size:6-9m']",
           "action_query_babe_kb"
          ],
          [
           "ok shop",
           "Vâng ạ!",
           "agree",
           null,
           "utter_agree"
          ],
          [
           "https://scontent.xx.fbcdn.net/v/t1.15752-9/94615022_254702325575851_8685774369143652352_n.jpg?_nc_cat=107&_nc_sid=b96e70&_nc_oc=AQkW5yJT2whJY3uM6d13-4XyKcKwwf8gHNd-ED41EzYfoVcxoq3ogMZuuTsWcwYdCVqvspJWtELLeP0qWdOz4xNP&_nc_ad=z-m&_nc_cid=0&_nc_zor=9&_nc_ht=scontent.xx&oh=39335ddc3e910c63c2f92a71bc0721a2&oe=5EC5D7A0\nhttps://scontent.xx.fbcdn.net/v/t1.15752-9/94718995_656896051775135_4424984880991961088_n.jpg?_nc_cat=110&_nc_sid=b96e70&_nc_oc=AQmqj-ZwCy04a-EryIf2WLMm4Qvp9emjauY9QNfszWU48mpnGT7YnO-0OJhPHEpL8ykkfrGfYXp_1Pb3Q7FIuunG&_nc_ad=z-m&_nc_cid=0&_nc_zor=9&_nc_ht=scontent.xx&oh=eb24143022047722f3bba74d15534964&oe=5EC7896A\nhttps://scontent.xx.fbcdn.net/v/t1.15752-9/94278563_315945652700875_3393720721636065280_n.jpg?_nc_cat=107&_nc_sid=b96e70&_nc_oc=AQlu_SI7QRtyKEdwncW1fzfBqKQXFLU24Siyz8e0Kl_AT5LA2F-ihNTPCzaoj0XyStIeQPeFqeHSDe3t7fLokib0&_nc_ad=z-m&_nc_cid=0&_nc_zor=9&_nc_ht=scontent.xx&oh=a8c6f18333cf9f2b558c8e4c26ff2765&oe=5EC7387D\nShop báo giá e 3 sp này vs",
           "Sản phẩm  Xe tập đi đa năng cao cấp Holla hiện shop đang có giá: *750,000 VND (giá gốc 1,200,000 VND)*.\nBạn tham khảo các sản phẩm sau nhé ạ:\n<show card sp>",
           "query_knowledge_base",
           "[\"url:['https://scontent.xx.fbcdn.net/v/t1.15752-9/94278563_315945652700875_3393720721636065280_n.jpg?_nc_cat=107&_nc_sid=b96e70&_nc_oc=AQlu_SI7QRtyKEdwncW1fzfBqKQXFLU24Siyz8e0Kl_AT5LA2F-ihNTPCzaoj0XyStIeQPeFqeHSDe3t7fLokib0&_nc_ad=z-m&_nc_cid=0&_nc_zor=9&_nc_ht=scontent.xx&oh=a8c6f18333cf9f2b558c8e4c26ff2765&oe=5EC7387D', 'https://scontent.xx.fbcdn.net/v/t1.15752-9/94718995_656896051775135_4424984880991961088_n.jpg?_nc_cat=110&_nc_sid=b96e70&_nc_oc=AQmqj-ZwCy04a-EryIf2WLMm4Qvp9emjauY9QNfszWU48mpnGT7YnO-0OJhPHEpL8ykkfrGfYXp_1Pb3Q7FIuunG&_nc_ad=z-m&_nc_cid=0&_nc_zor=9&_nc_ht=scontent.xx&oh=eb24143022047722f3bba74d15534964&oe=5EC7896A', 'https://scontent.xx.fbcdn.net/v/t1.15752-9/94615022_254702325575851_8685774369143652352_n.jpg?_nc_cat=107&_nc_sid=b96e70&_nc_oc=AQkW5yJT2whJY3uM6d13-4XyKcKwwf8gHNd-ED41EzYfoVcxoq3ogMZuuTsWcwYdCVqvspJWtELLeP0qWdOz4xNP&_nc_ad=z-m&_nc_cid=0&_nc_zor=9&_nc_ht=scontent.xx&oh=39335ddc3e910c63c2f92a71bc0721a2&oe=5EC5D7A0']\", 'attribute:price']",
           "action_query_babe_kb"
          ],
          [
           "ok shop",
           "Vâng ạ!",
           "agree",
           null,
           "utter_agree"
          ],
          [
           "Cho mình link shoppe",
           "Mình chưa xác định được món đồ bạn hỏi, bạn mô tả rõ hơn giúp mình nhé!",
           "query_knowledge_base",
           "['attribute:link']",
           "action_query_babe_kb"
          ],
          [
           "Xe lắc đó b",
           "Dạ mời bạn xem sản phẩm tại đây ạ:\n<show card sp>",
           "query_knowledge_base",
           "['object_type: xe_tap_di','attribute:link']",
           "action_query_babe_kb"
          ]
         ],
         "hovertemplate": "x=%{x}<br>y=%{y}<br>input_text=%{customdata[0]}<br>bot_text=%{customdata[1]}<br>intent=%{customdata[2]}<br>entities=%{customdata[3]}<br>action=%{customdata[4]}<extra></extra>",
         "legendgroup": "",
         "marker": {
          "color": "#636efa",
          "symbol": "circle"
         },
         "mode": "markers",
         "name": "",
         "showlegend": false,
         "type": "scatter",
         "x": [
          -0.57273704,
          20.1844,
          6.8672414,
          -11.846641,
          -37.968113,
          13.619651000000001,
          23.676287,
          -37.96813,
          16.988169,
          -37.096542,
          -14.559865,
          -9.572097,
          -37.098606,
          -14.559865,
          21.579912,
          -38.05273,
          -14.854423,
          1.5571964,
          -38.697933,
          -13.774496,
          5.5764074,
          -0.21310079,
          11.091239,
          27.68143,
          -11.40242,
          25.779638000000002,
          14.106435999999999,
          -14.234392999999999,
          20.882479,
          -14.646994,
          -5.250717,
          10.9413595,
          -35.419277,
          -14.474891,
          -8.873274,
          4.61916,
          28.432096,
          -34.567806,
          -4.9433465,
          11.641401,
          -35.345413,
          -14.177589999999999,
          -1.6340226,
          -11.679652,
          -36.758682,
          -14.122701000000001,
          9.938599,
          -11.630403,
          -33.66831,
          -12.807307000000002,
          9.891885,
          -37.29381,
          -13.323139000000001,
          19.156538,
          19.466595,
          -3.832783,
          19.566702,
          33.595215,
          -11.184619,
          10.491036,
          -5.7084410000000005,
          33.109608,
          25.474297,
          26.557014000000002,
          11.335234,
          25.448748000000002,
          -5.898643,
          3.929738,
          -36.611835,
          -16.190596,
          7.9738297000000005,
          -36.327778,
          -13.543517999999999,
          -7.678573599999999,
          -35.53601,
          -34.200275,
          -15.609716,
          12.840836,
          -3.7628896000000003,
          -5.9654675,
          8.557478,
          -14.328331,
          -4.9019547,
          -6.2168293,
          23.001268,
          -1.2431159,
          11.926373,
          -5.2233605,
          -4.902044999999999,
          -34.875698,
          -12.967487,
          32.83185,
          8.659913000000001,
          19.515465,
          -11.087495,
          17.596647,
          11.055083999999999,
          -4.097247,
          -37.95626,
          16.69667,
          -4.097247,
          23.341885,
          10.545016,
          20.36831,
          -17.27976,
          11.30103,
          -4.0187263,
          9.165639,
          25.669666,
          24.230234,
          -11.462482000000001,
          -8.779777000000001,
          26.339005,
          -0.8230685999999999,
          -2.2940187,
          25.333824,
          13.50247,
          0.9269489,
          26.467440000000003,
          -3.7905567000000002,
          1.5187263,
          -6.630012,
          -8.798174000000001,
          -34.542953000000004,
          16.858244,
          -8.297769,
          0.19071397,
          28.688786999999998,
          -10.424251,
          0.19071397,
          -3.8578992,
          33.761562,
          -10.653949,
          17.144686,
          11.254736,
          -36.3899,
          -0.05911973,
          16.578716,
          32.168507,
          -9.007936,
          -37.224125,
          3.8417041,
          5.525091000000001,
          13.587422,
          -3.1965647,
          8.158362,
          6.152889,
          -5.0295568,
          13.171607,
          24.703575,
          -33.515232,
          -15.146463,
          14.5849905,
          0.07835889,
          -0.57573116,
          -6.528843,
          28.673734999999997,
          -3.7452772000000003,
          -0.24756943,
          -6.528843,
          3.8512309,
          32.810375,
          22.712229999999998,
          -15.041717000000002,
          -1.3811163999999998,
          -7.1825156,
          -3.3000972,
          20.048132,
          30.106176,
          -13.920619,
          -2.6360216,
          -37.953109999999995,
          -10.390091,
          -3.5075006,
          -38.99691,
          2.1808395000000003,
          -3.5040050000000003,
          -0.951368,
          3.0135586,
          -10.078408,
          2.253525,
          32.698692,
          -8.492653,
          -1.0169324,
          4.4580755,
          9.861092,
          -8.621575,
          -33.857624,
          -8.800427,
          19.896535999999998,
          27.587459999999997,
          -10.170079,
          -36.519455,
          24.169923999999998,
          -11.027219,
          -33.831112,
          -11.834661,
          -7.1825156,
          -1.3138899,
          33.26548,
          -7.1861143,
          -38.587715,
          7.639908,
          30.582762,
          -9.575272,
          -36.333659999999995,
          17.868143,
          -7.790007000000001,
          11.220152,
          -9.079896000000002,
          22.889324,
          8.075007000000001,
          -9.754038000000001,
          -36.473279999999995,
          3.8003519,
          34.020634,
          -8.139789,
          -36.473793,
          3.8004214999999997,
          -8.306871000000001,
          27.910999999999998,
          -4.2162833,
          -38.392998,
          -9.643094,
          12.660631,
          -10.393865,
          -38.394993,
          -9.643104,
          18.775297,
          34.205653999999996,
          24.83311,
          -8.038627,
          -36.234356,
          -2.6682498,
          20.522497,
          -9.600502,
          -37.11704,
          -8.598958,
          -5.3862247000000005,
          -8.9586735,
          -37.117043,
          -7.216013,
          -4.441819000000001,
          14.584992999999999,
          -8.005422,
          3.0489889999999997,
          -7.459013499999999,
          9.231086,
          11.055375999999999,
          30.498784999999998,
          -15.086342000000002,
          3.3832437999999994,
          0.9449869000000001,
          7.185833000000001,
          7.4271082999999996,
          -0.6495491999999999,
          10.120971,
          7.481992699999999,
          8.154055,
          -10.594292,
          -8.293433,
          -9.466287,
          -8.293433,
          24.208584,
          -0.63385403,
          5.835139,
          12.017497,
          -6.312059,
          33.637188,
          -38.75035,
          -5.826953,
          -36.610268,
          -16.33718,
          11.926406,
          0.0846362,
          -17.279718,
          11.301005,
          -4.0187263,
          -9.359862,
          -37.225605,
          3.8420379999999996,
          5.525057299999999,
          33.75571,
          -37.514309999999995,
          -15.146463,
          -0.2959492,
          -0.05030777,
          3.619481,
          -3.7754154000000004,
          -38.393,
          -9.643094,
          -9.163246000000001,
          -36.234885999999996,
          -9.77421,
          25.566591,
          29.944196999999996,
          12.548441,
          5.387796,
          30.582762,
          3.9397085,
          10.951369999999999,
          10.951348,
          24.292213,
          -5.3944144,
          19.223646,
          27.156390000000002,
          26.607601000000003,
          -7.182516000000001,
          -8.164508,
          18.55039,
          26.925728000000003,
          29.908728000000004,
          -8.164508,
          18.751087,
          11.954445,
          29.637753999999997,
          10.668489,
          -6.451525,
          -4.606952,
          24.209082000000002,
          -35.705032,
          -11.792664,
          -7.368839,
          0.17463489999999998,
          9.39264,
          10.777944,
          24.438538,
          -1.7443856,
          -6.777905499999999,
          5.435518,
          13.148123000000002,
          9.398611,
          19.606237,
          13.148695000000002,
          11.666226,
          27.587597,
          14.086785999999998,
          5.5090650000000005,
          29.361462,
          -5.889213,
          -5.8072333,
          27.105125,
          -1.6015983,
          10.508455999999999,
          10.29807,
          24.891742999999998,
          11.847754,
          -1.3356261,
          19.75124,
          26.925533,
          -2.3849834999999997,
          21.258923,
          26.420204,
          -13.147379999999998,
          -2.1456869,
          -12.060249,
          -9.681221,
          -33.13467,
          -4.0051694,
          14.155481,
          23.885089999999998,
          -5.573157,
          22.790464,
          -8.639096,
          -35.774105,
          8.088419,
          -9.913561,
          -7.9544619999999995,
          -38.750065,
          -6.0460057,
          23.086668,
          -40.209216999999995,
          -40.20916,
          5.873888,
          7.466612,
          -1.932498,
          -7.234843700000001,
          -34.816246,
          -5.0099487,
          12.536792,
          12.205679,
          29.01983,
          -8.959184,
          -37.455154,
          -10.416825,
          13.421576500000002,
          4.9925737,
          26.868679999999998,
          27.135925,
          10.856653,
          -10.058015,
          -35.776676,
          -3.4626949999999996,
          -35.7054,
          -9.5659895,
          11.18852,
          -14.646994,
          -5.250717,
          11.372539,
          -15.702860999999999,
          -11.5675125,
          1.8234605,
          26.637992999999998,
          -11.566908999999999,
          0.5048060000000001,
          26.637992999999998,
          12.885157000000001,
          1.3699473,
          -10.958108,
          -3.2724987999999997,
          -10.958177000000001,
          5.245284,
          -6.248586,
          -2.5484686,
          -0.03318475,
          33.217945,
          21.279222,
          12.410282,
          -12.457953999999999,
          34.241446999999994,
          20.387610000000002,
          -8.044742999999999,
          21.078394,
          13.062038000000001,
          -11.5675125,
          -2.5670075,
          2.9437467999999996,
          -34.40547,
          -2.637635,
          18.83609,
          -10.958108,
          21.181433,
          27.281206,
          17.945816,
          -12.632188000000001,
          -6.5728664000000006,
          26.637995,
          11.913046000000001,
          27.281214000000002,
          19.660847,
          2.0759976000000004,
          0.32584995,
          -0.22664686,
          25.878496,
          -6.904382000000001,
          -8.855689,
          7.6790996,
          -2.2812989,
          33.506714,
          -3.2907550000000003,
          14.889248,
          8.028349,
          8.200274,
          13.545223000000002,
          -8.980199,
          9.898352000000001,
          -9.47136,
          7.561311999999999,
          31.977003000000003,
          -8.554721,
          -1.1542013999999998,
          16.034660000000002,
          -36.783516,
          -7.635650599999999,
          -36.783398,
          -8.635218,
          -36.783325,
          -12.384504,
          -9.98683,
          5.326859,
          -9.985294999999999,
          -5.433618,
          33.178024,
          11.560217999999999,
          -35.30316,
          14.540188,
          32.829353000000005,
          1.4218881,
          0.15966944,
          15.9098625,
          11.059346000000001,
          32.163204,
          24.853157,
          23.14333,
          31.976978000000003,
          -9.986832000000001,
          9.907244,
          -9.986469999999999,
          9.907237,
          -13.263697,
          22.692116,
          12.225427,
          21.94511,
          26.758234,
          25.86316,
          -36.35318,
          12.039698,
          4.2701405999999995,
          -11.66727,
          3.7685602,
          -11.667359,
          -34.517494,
          -6.5647216,
          -34.519215,
          -5.9064760000000005,
          -12.58041,
          -10.116653,
          27.350222,
          -9.411892,
          -0.49206814,
          -4.2311735,
          -11.736877999999999,
          -1.0759444,
          19.896534,
          20.179707999999998,
          -12.157245,
          -1.0760299999999998,
          -16.249416,
          25.320654,
          -12.157193,
          -17.315357000000002,
          25.38478,
          -11.736877999999999,
          -17.196457000000002,
          25.384544,
          -11.906896000000001,
          -14.426909,
          25.384722,
          -13.745164,
          -34.885445000000004,
          -16.15561,
          33.039024,
          -13.745164,
          -14.009992,
          32.831590000000006,
          -1.4767622,
          19.096135999999998,
          26.928677,
          -15.277520999999998,
          -1.9189459999999998,
          -0.34478807,
          -16.249321,
          -8.565686,
          -15.405617999999999,
          -8.565686,
          33.637188,
          -2.5725665,
          19.387043,
          27.587459999999997,
          -16.230736,
          26.384746999999997,
          -0.20599589999999998,
          -16.20121,
          -8.969159,
          27.211384000000002,
          -15.6040945,
          -15.843347,
          10.857346000000001,
          -15.604139000000002,
          -15.843347,
          8.526397,
          1.7520806,
          -16.201233,
          27.535584999999998,
          -13.255953,
          25.32066,
          -3.1294842000000003,
          -32.601246,
          -16.238424,
          27.535259999999997,
          -3.1893423,
          -32.601254,
          -13.235023499999999,
          27.211382,
          0.6340178000000001,
          19.698128,
          29.326803,
          3.6515582,
          19.094578,
          29.326555,
          -4.665186,
          -5.9348364,
          -40.04708,
          3.1198716,
          19.589294,
          29.326805,
          -40.048317,
          -0.54222286,
          -7.9470716,
          31.167710999999997,
          -40.048313,
          -6.4374485,
          30.064524,
          -3.775417,
          -16.001667,
          19.512264000000002,
          29.326560999999998,
          -4.233256,
          -15.852084,
          -9.137764,
          -7.4979366999999995,
          -13.930676,
          33.109604,
          -13.134729,
          -7.631135499999999,
          10.399121000000001,
          -13.930676,
          -9.390718,
          -13.416560999999998,
          -7.309951299999999,
          12.456645,
          20.888432,
          28.651847999999998,
          -39.82592,
          -14.482707000000001,
          15.455364000000001,
          29.326555,
          -39.825171999999995,
          -14.482664999999999,
          20.58066,
          12.45665,
          22.493105,
          22.765620000000002,
          25.684673,
          -4.233256,
          -4.9781947,
          24.427965,
          -4.216285,
          -4.978117500000001,
          19.166172,
          23.220682,
          0.5202287999999999,
          -4.845663500000001,
          26.324959999999997,
          3.6543300000000003,
          -6.1471386,
          26.32511,
          -3.6001947,
          -10.836144,
          12.456642,
          -7.298462,
          27.299286,
          20.276514000000002,
          16.785288,
          20.277067000000002,
          23.901009,
          -9.391226,
          32.682945000000004,
          -10.958177000000001,
          15.158748999999998,
          34.103146,
          -1.5221776000000002,
          33.453697,
          20.02082,
          0.6166461999999999
         ],
         "xaxis": "x",
         "y": [
          5.97708,
          -11.774917,
          0.13783370000000003,
          11.515901,
          35.836075,
          -4.9750013,
          -1.1391346000000002,
          35.829502000000005,
          -8.335233,
          34.453854,
          1.274365,
          8.896509,
          34.45471,
          1.2744469999999999,
          -11.362496,
          37.392952,
          2.9338398,
          8.538484,
          35.363640000000004,
          1.6690363000000001,
          -6.5602837,
          -7.008906,
          -1.8805859,
          6.566936500000001,
          -50.729557,
          6.717960000000001,
          -0.10498165,
          -1.3437278,
          -10.633318,
          -0.4714108,
          9.851194,
          9.892921000000001,
          35.086937,
          0.24416402,
          -4.7870636,
          -4.6076803,
          -8.505844999999999,
          37.765614,
          -3.8737042,
          -3.2679145,
          33.846385999999995,
          3.272067,
          1.0404860999999999,
          -50.47712,
          36.78884,
          2.7163048,
          5.663725,
          -50.1612,
          37.941593,
          1.6125461,
          -4.952716000000001,
          36.015003,
          -0.052251168,
          -4.104954,
          -3.6258428,
          -6.494326999999999,
          -9.894345,
          -0.8890190999999998,
          -50.708187,
          6.543531400000001,
          -6.802157000000001,
          -0.7184968,
          -15.680007000000002,
          -12.970296000000001,
          -2.204445,
          -15.674948,
          -2.9230384999999997,
          10.021825999999999,
          33.91603,
          7.722338000000001,
          -3.9954312000000005,
          35.26166,
          3.0668101,
          11.015999,
          37.43224,
          35.43916,
          4.273969999999999,
          1.9540253,
          2.112234,
          9.942056,
          5.8430014,
          -1.3270255,
          4.056269,
          5.311985,
          -13.786812,
          3.8034387,
          5.93955,
          3.7508857000000004,
          4.797294,
          36.361397,
          2.1866672,
          -1.4752468,
          3.546385,
          -3.0508432,
          -50.207806,
          -6.324640799999999,
          -6.993570299999999,
          -44.619385,
          34.95608,
          -8.565411,
          -44.619385,
          -13.71509,
          -3.5735989999999997,
          -6.7072389999999995,
          5.340005000000001,
          4.8830028,
          0.73801917,
          5.100901,
          -13.846217000000001,
          -11.052369,
          -50.071926,
          6.469776,
          -0.4111808,
          -43.686863,
          -3.1223414000000003,
          -13.23618,
          2.0459810000000003,
          -0.31467480000000003,
          4.900603,
          -44.509212,
          2.3717377,
          6.2650514,
          10.318876,
          34.15152,
          -6.155025,
          -48.0736,
          0.76924604,
          -8.227681,
          -47.682613,
          0.76924604,
          3.1226587,
          -3.7031095,
          -46.89994,
          -6.249479,
          3.6241999,
          36.49238,
          7.9771220000000005,
          -9.04331,
          -0.72533643,
          -48.414359999999995,
          32.58748,
          1.5949235000000002,
          0.46291494,
          0.5263505999999999,
          -43.272529999999996,
          -5.620851,
          -5.107792400000001,
          -0.29388353,
          -6.498729,
          -11.819360000000001,
          39.10913,
          11.836089999999999,
          -5.578355,
          -43.490829999999995,
          8.718287,
          -6.496096,
          -7.7700458,
          -42.53634,
          8.445696,
          -6.496096,
          4.466547,
          -3.918611,
          -13.734632999999999,
          12.555268,
          -1.1436757,
          -44.826747999999995,
          6.2703843,
          -7.151166,
          6.1115894,
          5.554717500000001,
          -43.00326,
          37.121426,
          5.0211879999999995,
          -42.570034,
          36.8372,
          1.345777,
          -42.57053,
          -8.012964,
          0.75547135,
          -46.92821,
          -0.22310229,
          -3.294341,
          -46.718340000000005,
          -7.931720299999999,
          3.3118505,
          3.4486294,
          -48.277527,
          35.854626,
          12.907524,
          -1.1428296999999998,
          5.7761793,
          -47.91348,
          37.670322,
          -12.352197,
          -50.365738,
          34.294727,
          12.521925999999999,
          -44.826747999999995,
          -2.7443779999999998,
          -4.083986,
          -44.830166,
          36.679790000000004,
          -0.64747137,
          -2.8830485,
          -46.289190000000005,
          36.166779999999996,
          -10.376192,
          -7.3105283,
          1.9866586,
          -46.59969,
          -10.659846,
          3.8374230000000003,
          -47.240482,
          38.735683,
          4.6745977,
          -3.5543106,
          -46.742,
          38.735134,
          4.6746316,
          11.808778,
          -9.922903999999999,
          -43.171665000000004,
          33.605090000000004,
          11.587446,
          -1.332006,
          -46.442966,
          33.60606,
          11.587472,
          -5.477204,
          -3.237651,
          -10.846959,
          -47.660126,
          34.593346000000004,
          4.7041287,
          -7.7416587,
          -48.19555,
          31.898663,
          13.048705,
          -5.8493695,
          -47.321056,
          31.898663,
          12.141041,
          -5.881261299999999,
          -5.578355999999999,
          -47.204487,
          5.132683,
          6.4792175,
          -5.391416,
          -5.2584105,
          -6.8081474,
          10.211275,
          -0.6004276999999999,
          1.8923421999999999,
          -5.2988873,
          -5.2171,
          -0.9102402,
          -6.515578700000001,
          -5.0124235,
          -6.8598247,
          -47.340286,
          3.6626724999999998,
          -47.517002000000005,
          3.6626724999999998,
          -0.05923347,
          -43.765316,
          3.3098955,
          1.770289,
          -0.9624455,
          -1.2621652,
          37.627007,
          -2.9620632999999996,
          33.915420000000005,
          8.004012,
          5.939559,
          1.9776293000000003,
          5.3400335,
          4.8829709999999995,
          0.73801917,
          -48.3426,
          32.587456,
          1.594441,
          0.46334517,
          -2.6624978,
          37.487286,
          11.836089999999999,
          -43.53951,
          -3.0417127999999996,
          10.483585,
          -43.702,
          33.6051,
          11.587446,
          -47.00822,
          34.59368,
          9.151284,
          5.595805599999999,
          6.1599054,
          8.234524,
          1.3046986,
          -2.8830485,
          10.311436,
          -4.1240883,
          -4.124093,
          0.56472915,
          11.080119999999999,
          -1.1547666,
          5.971275299999999,
          -11.310637,
          -44.826747999999995,
          12.698705,
          -1.33302,
          5.7614355,
          6.19961,
          12.698705,
          -1.963632,
          -6.011821299999999,
          -7.592931699999999,
          7.009563000000001,
          -5.67494,
          -4.290707599999999,
          -0.30361667,
          38.369125,
          1.5474238,
          -7.3370156,
          -2.4036632,
          3.2855086000000004,
          -1.2652828999999999,
          -12.08216,
          -43.844414,
          -7.827087,
          -5.4391136,
          -5.718948,
          3.583593,
          -9.733709,
          -5.71922,
          6.667525,
          5.7761292,
          3.4711057999999997,
          -4.9209127,
          -8.279357000000001,
          -4.325940599999999,
          4.645528,
          -12.897088,
          -43.74605,
          -5.2626805,
          2.9290202,
          -12.077047,
          0.22056338,
          9.913428999999999,
          -1.6578810000000002,
          5.761132,
          -4.220599,
          -11.215748,
          3.3467917000000003,
          4.0824537,
          7.826438400000001,
          12.998039,
          -46.78908,
          36.40478,
          -6.3190084,
          -6.436184,
          -12.418199000000001,
          12.006966,
          -12.670272,
          -46.29293,
          35.885063,
          -7.7894735,
          -48.0005,
          11.783924,
          38.39178,
          -3.5361192000000004,
          -12.146233,
          37.721140000000005,
          37.720946999999995,
          2.8429356,
          -6.1068172,
          10.828247,
          -6.3251934,
          38.855740000000004,
          -2.6110916,
          -4.1796975,
          -7.0398436,
          4.5341059999999995,
          -46.04396,
          39.702553,
          12.814014,
          0.5307044,
          -4.8065157,
          -13.5724535,
          -14.409061,
          -0.6611016,
          -46.14852,
          35.885426,
          1.645212,
          38.367816999999995,
          12.307178500000001,
          5.6065593,
          -0.47141078,
          9.851194,
          9.822649,
          10.86245,
          -43.34163,
          1.5423479,
          7.5133657000000005,
          -43.342293,
          1.9212706000000002,
          7.5133657000000005,
          5.5406512999999995,
          2.975371,
          -42.395824,
          -2.6527388,
          -42.395992,
          3.5541384,
          6.460732,
          -5.737423400000001,
          2.3246248,
          -2.7612517000000003,
          -9.85257,
          3.8293673999999998,
          0.43659929999999997,
          -2.808363,
          -10.5258465,
          4.834185,
          0.42460445,
          -4.8218603,
          -43.341633,
          7.396484399999999,
          3.0559056,
          38.08313,
          -4.832394,
          -9.108286999999999,
          -42.395824,
          -9.01843,
          -0.9952907,
          -5.852581,
          -0.5401994000000001,
          -1.9425694,
          7.513365299999999,
          3.4529479,
          -0.9952764999999999,
          1.1827290000000001,
          5.0764623,
          -8.134333999999999,
          1.6425296000000003,
          -12.422788,
          2.3639338,
          7.3591466,
          -0.51844335,
          8.327781,
          -3.3110836000000003,
          5.042199,
          0.25467414,
          -6.252551599999999,
          -5.4879,
          4.4555516,
          -47.68927,
          -6.870859599999999,
          -45.90663,
          -0.29037791,
          -1.1642818000000001,
          -47.414367999999996,
          7.933122999999999,
          -8.207886,
          40.190304,
          9.628843,
          40.19016,
          9.056362,
          40.190666,
          12.657197,
          -42.791767,
          1.2839562,
          -42.788746,
          5.739895,
          -3.456514,
          -7.197715299999999,
          35.49903,
          -7.716540299999999,
          -2.8476095,
          6.5511017,
          8.703948,
          -8.863352,
          -5.7380233,
          -0.73577434,
          -10.586292,
          -10.63482,
          -1.1634948,
          -42.79177,
          -2.9725025,
          -42.792652000000004,
          -2.9725137000000004,
          11.136349000000001,
          -0.17472434,
          2.8163953,
          -7.6837387,
          -14.080010000000001,
          -12.243489,
          36.611256,
          4.450832,
          1.5648011,
          13.319745999999999,
          1.1507291000000002,
          13.319698,
          36.945415000000004,
          10.61945,
          36.943084999999996,
          7.821234,
          11.125842,
          -50.83343,
          -13.494223999999999,
          12.811865,
          -7.772532000000001,
          -2.2875360000000002,
          14.348997,
          10.123866,
          -1.1429114,
          -6.582638,
          14.308010999999999,
          10.12397,
          3.1154978,
          0.48502854,
          14.307476999999999,
          3.0578453999999997,
          0.2418674,
          14.348997,
          3.5515697,
          0.24322587,
          14.351642000000002,
          7.0509996,
          0.24191123,
          0.40894267,
          32.55088,
          8.485874,
          -1.3867952,
          0.40894267,
          1.2950760000000001,
          -1.476788,
          10.45922,
          -0.792899,
          5.767355,
          3.6459370000000004,
          4.1498404,
          9.788706,
          3.1159557999999996,
          -4.482094,
          2.9798775,
          -4.482094,
          -1.2621652,
          10.788250999999999,
          -1.2574286,
          5.776178,
          4.095582,
          -13.338296,
          7.842103,
          3.3912226999999997,
          8.280231,
          4.916551999999999,
          1.9234301999999999,
          9.270676,
          10.070211,
          1.9233206999999999,
          9.270676,
          -1.0417048,
          6.759364,
          3.391121,
          4.950067,
          1.2072996,
          0.48502794,
          -43.618793,
          39.598236,
          7.595471000000001,
          4.9500237,
          -43.30559,
          39.598366,
          12.654497000000001,
          4.916551999999999,
          8.429363,
          -0.75954574,
          -5.737495,
          6.448726000000001,
          -0.79484755,
          -5.737775,
          -4.600058,
          13.984058,
          35.644997,
          5.415177,
          -0.7022478,
          -5.737495,
          35.644978,
          8.34891,
          -4.8627709999999995,
          -3.0544443,
          35.645035,
          -3.4154720000000003,
          -3.718438,
          -43.702,
          12.362042,
          -2.292075,
          -5.737775,
          -43.539295,
          11.948588,
          9.457036,
          6.4222470000000005,
          4.407103,
          -0.7184986999999999,
          12.099942,
          7.516223399999999,
          4.6486683,
          4.407103,
          5.731334700000001,
          4.479097,
          4.22802,
          9.253222000000001,
          -9.904086999999999,
          6.970814999999999,
          33.075835999999995,
          11.846597000000001,
          3.2774517999999997,
          -5.737775,
          33.075676,
          11.846603,
          -0.47854167,
          9.253222000000001,
          -11.272967999999999,
          -11.618756,
          -13.250548,
          -43.539295,
          -6.385228,
          6.891507000000001,
          -43.171665000000004,
          -6.3852444,
          0.073501006,
          -10.895316000000001,
          8.840056,
          -5.962696599999999,
          0.84499454,
          6.5225816,
          -5.736658,
          0.84440833,
          -4.946623000000001,
          9.011883000000001,
          9.253223,
          -7.253775999999999,
          -10.045964,
          -8.126694,
          -4.0488787,
          -8.126737,
          -9.855685000000001,
          1.0505996000000002,
          -2.993775,
          -42.395992,
          -8.430639999999999,
          -2.5913181,
          -5.2947917,
          -2.7376025,
          0.49614695,
          7.748831699999999
         ],
         "yaxis": "y"
        }
       ],
       "layout": {
        "legend": {
         "tracegroupgap": 0
        },
        "margin": {
         "t": 60
        },
        "template": {
         "data": {
          "bar": [
           {
            "error_x": {
             "color": "#2a3f5f"
            },
            "error_y": {
             "color": "#2a3f5f"
            },
            "marker": {
             "line": {
              "color": "#E5ECF6",
              "width": 0.5
             }
            },
            "type": "bar"
           }
          ],
          "barpolar": [
           {
            "marker": {
             "line": {
              "color": "#E5ECF6",
              "width": 0.5
             }
            },
            "type": "barpolar"
           }
          ],
          "carpet": [
           {
            "aaxis": {
             "endlinecolor": "#2a3f5f",
             "gridcolor": "white",
             "linecolor": "white",
             "minorgridcolor": "white",
             "startlinecolor": "#2a3f5f"
            },
            "baxis": {
             "endlinecolor": "#2a3f5f",
             "gridcolor": "white",
             "linecolor": "white",
             "minorgridcolor": "white",
             "startlinecolor": "#2a3f5f"
            },
            "type": "carpet"
           }
          ],
          "choropleth": [
           {
            "colorbar": {
             "outlinewidth": 0,
             "ticks": ""
            },
            "type": "choropleth"
           }
          ],
          "contour": [
           {
            "colorbar": {
             "outlinewidth": 0,
             "ticks": ""
            },
            "colorscale": [
             [
              0,
              "#0d0887"
             ],
             [
              0.1111111111111111,
              "#46039f"
             ],
             [
              0.2222222222222222,
              "#7201a8"
             ],
             [
              0.3333333333333333,
              "#9c179e"
             ],
             [
              0.4444444444444444,
              "#bd3786"
             ],
             [
              0.5555555555555556,
              "#d8576b"
             ],
             [
              0.6666666666666666,
              "#ed7953"
             ],
             [
              0.7777777777777778,
              "#fb9f3a"
             ],
             [
              0.8888888888888888,
              "#fdca26"
             ],
             [
              1,
              "#f0f921"
             ]
            ],
            "type": "contour"
           }
          ],
          "contourcarpet": [
           {
            "colorbar": {
             "outlinewidth": 0,
             "ticks": ""
            },
            "type": "contourcarpet"
           }
          ],
          "heatmap": [
           {
            "colorbar": {
             "outlinewidth": 0,
             "ticks": ""
            },
            "colorscale": [
             [
              0,
              "#0d0887"
             ],
             [
              0.1111111111111111,
              "#46039f"
             ],
             [
              0.2222222222222222,
              "#7201a8"
             ],
             [
              0.3333333333333333,
              "#9c179e"
             ],
             [
              0.4444444444444444,
              "#bd3786"
             ],
             [
              0.5555555555555556,
              "#d8576b"
             ],
             [
              0.6666666666666666,
              "#ed7953"
             ],
             [
              0.7777777777777778,
              "#fb9f3a"
             ],
             [
              0.8888888888888888,
              "#fdca26"
             ],
             [
              1,
              "#f0f921"
             ]
            ],
            "type": "heatmap"
           }
          ],
          "heatmapgl": [
           {
            "colorbar": {
             "outlinewidth": 0,
             "ticks": ""
            },
            "colorscale": [
             [
              0,
              "#0d0887"
             ],
             [
              0.1111111111111111,
              "#46039f"
             ],
             [
              0.2222222222222222,
              "#7201a8"
             ],
             [
              0.3333333333333333,
              "#9c179e"
             ],
             [
              0.4444444444444444,
              "#bd3786"
             ],
             [
              0.5555555555555556,
              "#d8576b"
             ],
             [
              0.6666666666666666,
              "#ed7953"
             ],
             [
              0.7777777777777778,
              "#fb9f3a"
             ],
             [
              0.8888888888888888,
              "#fdca26"
             ],
             [
              1,
              "#f0f921"
             ]
            ],
            "type": "heatmapgl"
           }
          ],
          "histogram": [
           {
            "marker": {
             "colorbar": {
              "outlinewidth": 0,
              "ticks": ""
             }
            },
            "type": "histogram"
           }
          ],
          "histogram2d": [
           {
            "colorbar": {
             "outlinewidth": 0,
             "ticks": ""
            },
            "colorscale": [
             [
              0,
              "#0d0887"
             ],
             [
              0.1111111111111111,
              "#46039f"
             ],
             [
              0.2222222222222222,
              "#7201a8"
             ],
             [
              0.3333333333333333,
              "#9c179e"
             ],
             [
              0.4444444444444444,
              "#bd3786"
             ],
             [
              0.5555555555555556,
              "#d8576b"
             ],
             [
              0.6666666666666666,
              "#ed7953"
             ],
             [
              0.7777777777777778,
              "#fb9f3a"
             ],
             [
              0.8888888888888888,
              "#fdca26"
             ],
             [
              1,
              "#f0f921"
             ]
            ],
            "type": "histogram2d"
           }
          ],
          "histogram2dcontour": [
           {
            "colorbar": {
             "outlinewidth": 0,
             "ticks": ""
            },
            "colorscale": [
             [
              0,
              "#0d0887"
             ],
             [
              0.1111111111111111,
              "#46039f"
             ],
             [
              0.2222222222222222,
              "#7201a8"
             ],
             [
              0.3333333333333333,
              "#9c179e"
             ],
             [
              0.4444444444444444,
              "#bd3786"
             ],
             [
              0.5555555555555556,
              "#d8576b"
             ],
             [
              0.6666666666666666,
              "#ed7953"
             ],
             [
              0.7777777777777778,
              "#fb9f3a"
             ],
             [
              0.8888888888888888,
              "#fdca26"
             ],
             [
              1,
              "#f0f921"
             ]
            ],
            "type": "histogram2dcontour"
           }
          ],
          "mesh3d": [
           {
            "colorbar": {
             "outlinewidth": 0,
             "ticks": ""
            },
            "type": "mesh3d"
           }
          ],
          "parcoords": [
           {
            "line": {
             "colorbar": {
              "outlinewidth": 0,
              "ticks": ""
             }
            },
            "type": "parcoords"
           }
          ],
          "pie": [
           {
            "automargin": true,
            "type": "pie"
           }
          ],
          "scatter": [
           {
            "marker": {
             "colorbar": {
              "outlinewidth": 0,
              "ticks": ""
             }
            },
            "type": "scatter"
           }
          ],
          "scatter3d": [
           {
            "line": {
             "colorbar": {
              "outlinewidth": 0,
              "ticks": ""
             }
            },
            "marker": {
             "colorbar": {
              "outlinewidth": 0,
              "ticks": ""
             }
            },
            "type": "scatter3d"
           }
          ],
          "scattercarpet": [
           {
            "marker": {
             "colorbar": {
              "outlinewidth": 0,
              "ticks": ""
             }
            },
            "type": "scattercarpet"
           }
          ],
          "scattergeo": [
           {
            "marker": {
             "colorbar": {
              "outlinewidth": 0,
              "ticks": ""
             }
            },
            "type": "scattergeo"
           }
          ],
          "scattergl": [
           {
            "marker": {
             "colorbar": {
              "outlinewidth": 0,
              "ticks": ""
             }
            },
            "type": "scattergl"
           }
          ],
          "scattermapbox": [
           {
            "marker": {
             "colorbar": {
              "outlinewidth": 0,
              "ticks": ""
             }
            },
            "type": "scattermapbox"
           }
          ],
          "scatterpolar": [
           {
            "marker": {
             "colorbar": {
              "outlinewidth": 0,
              "ticks": ""
             }
            },
            "type": "scatterpolar"
           }
          ],
          "scatterpolargl": [
           {
            "marker": {
             "colorbar": {
              "outlinewidth": 0,
              "ticks": ""
             }
            },
            "type": "scatterpolargl"
           }
          ],
          "scatterternary": [
           {
            "marker": {
             "colorbar": {
              "outlinewidth": 0,
              "ticks": ""
             }
            },
            "type": "scatterternary"
           }
          ],
          "surface": [
           {
            "colorbar": {
             "outlinewidth": 0,
             "ticks": ""
            },
            "colorscale": [
             [
              0,
              "#0d0887"
             ],
             [
              0.1111111111111111,
              "#46039f"
             ],
             [
              0.2222222222222222,
              "#7201a8"
             ],
             [
              0.3333333333333333,
              "#9c179e"
             ],
             [
              0.4444444444444444,
              "#bd3786"
             ],
             [
              0.5555555555555556,
              "#d8576b"
             ],
             [
              0.6666666666666666,
              "#ed7953"
             ],
             [
              0.7777777777777778,
              "#fb9f3a"
             ],
             [
              0.8888888888888888,
              "#fdca26"
             ],
             [
              1,
              "#f0f921"
             ]
            ],
            "type": "surface"
           }
          ],
          "table": [
           {
            "cells": {
             "fill": {
              "color": "#EBF0F8"
             },
             "line": {
              "color": "white"
             }
            },
            "header": {
             "fill": {
              "color": "#C8D4E3"
             },
             "line": {
              "color": "white"
             }
            },
            "type": "table"
           }
          ]
         },
         "layout": {
          "annotationdefaults": {
           "arrowcolor": "#2a3f5f",
           "arrowhead": 0,
           "arrowwidth": 1
          },
          "coloraxis": {
           "colorbar": {
            "outlinewidth": 0,
            "ticks": ""
           }
          },
          "colorscale": {
           "diverging": [
            [
             0,
             "#8e0152"
            ],
            [
             0.1,
             "#c51b7d"
            ],
            [
             0.2,
             "#de77ae"
            ],
            [
             0.3,
             "#f1b6da"
            ],
            [
             0.4,
             "#fde0ef"
            ],
            [
             0.5,
             "#f7f7f7"
            ],
            [
             0.6,
             "#e6f5d0"
            ],
            [
             0.7,
             "#b8e186"
            ],
            [
             0.8,
             "#7fbc41"
            ],
            [
             0.9,
             "#4d9221"
            ],
            [
             1,
             "#276419"
            ]
           ],
           "sequential": [
            [
             0,
             "#0d0887"
            ],
            [
             0.1111111111111111,
             "#46039f"
            ],
            [
             0.2222222222222222,
             "#7201a8"
            ],
            [
             0.3333333333333333,
             "#9c179e"
            ],
            [
             0.4444444444444444,
             "#bd3786"
            ],
            [
             0.5555555555555556,
             "#d8576b"
            ],
            [
             0.6666666666666666,
             "#ed7953"
            ],
            [
             0.7777777777777778,
             "#fb9f3a"
            ],
            [
             0.8888888888888888,
             "#fdca26"
            ],
            [
             1,
             "#f0f921"
            ]
           ],
           "sequentialminus": [
            [
             0,
             "#0d0887"
            ],
            [
             0.1111111111111111,
             "#46039f"
            ],
            [
             0.2222222222222222,
             "#7201a8"
            ],
            [
             0.3333333333333333,
             "#9c179e"
            ],
            [
             0.4444444444444444,
             "#bd3786"
            ],
            [
             0.5555555555555556,
             "#d8576b"
            ],
            [
             0.6666666666666666,
             "#ed7953"
            ],
            [
             0.7777777777777778,
             "#fb9f3a"
            ],
            [
             0.8888888888888888,
             "#fdca26"
            ],
            [
             1,
             "#f0f921"
            ]
           ]
          },
          "colorway": [
           "#636efa",
           "#EF553B",
           "#00cc96",
           "#ab63fa",
           "#FFA15A",
           "#19d3f3",
           "#FF6692",
           "#B6E880",
           "#FF97FF",
           "#FECB52"
          ],
          "font": {
           "color": "#2a3f5f"
          },
          "geo": {
           "bgcolor": "white",
           "lakecolor": "white",
           "landcolor": "#E5ECF6",
           "showlakes": true,
           "showland": true,
           "subunitcolor": "white"
          },
          "hoverlabel": {
           "align": "left"
          },
          "hovermode": "closest",
          "mapbox": {
           "style": "light"
          },
          "paper_bgcolor": "white",
          "plot_bgcolor": "#E5ECF6",
          "polar": {
           "angularaxis": {
            "gridcolor": "white",
            "linecolor": "white",
            "ticks": ""
           },
           "bgcolor": "#E5ECF6",
           "radialaxis": {
            "gridcolor": "white",
            "linecolor": "white",
            "ticks": ""
           }
          },
          "scene": {
           "xaxis": {
            "backgroundcolor": "#E5ECF6",
            "gridcolor": "white",
            "gridwidth": 2,
            "linecolor": "white",
            "showbackground": true,
            "ticks": "",
            "zerolinecolor": "white"
           },
           "yaxis": {
            "backgroundcolor": "#E5ECF6",
            "gridcolor": "white",
            "gridwidth": 2,
            "linecolor": "white",
            "showbackground": true,
            "ticks": "",
            "zerolinecolor": "white"
           },
           "zaxis": {
            "backgroundcolor": "#E5ECF6",
            "gridcolor": "white",
            "gridwidth": 2,
            "linecolor": "white",
            "showbackground": true,
            "ticks": "",
            "zerolinecolor": "white"
           }
          },
          "shapedefaults": {
           "line": {
            "color": "#2a3f5f"
           }
          },
          "ternary": {
           "aaxis": {
            "gridcolor": "white",
            "linecolor": "white",
            "ticks": ""
           },
           "baxis": {
            "gridcolor": "white",
            "linecolor": "white",
            "ticks": ""
           },
           "bgcolor": "#E5ECF6",
           "caxis": {
            "gridcolor": "white",
            "linecolor": "white",
            "ticks": ""
           }
          },
          "title": {
           "x": 0.05
          },
          "xaxis": {
           "automargin": true,
           "gridcolor": "white",
           "linecolor": "white",
           "ticks": "",
           "title": {
            "standoff": 15
           },
           "zerolinecolor": "white",
           "zerolinewidth": 2
          },
          "yaxis": {
           "automargin": true,
           "gridcolor": "white",
           "linecolor": "white",
           "ticks": "",
           "title": {
            "standoff": 15
           },
           "zerolinecolor": "white",
           "zerolinewidth": 2
          }
         }
        },
        "xaxis": {
         "anchor": "y",
         "domain": [
          0,
          1
         ],
         "title": {
          "text": "x"
         }
        },
        "yaxis": {
         "anchor": "x",
         "domain": [
          0,
          1
         ],
         "title": {
          "text": "y"
         }
        }
       }
      },
      "text/html": [
       "<div>\n",
       "        \n",
       "        \n",
       "            <div id=\"2e69471c-79fc-4735-bb08-be80cb31ee2b\" class=\"plotly-graph-div\" style=\"height:525px; width:100%;\"></div>\n",
       "            <script type=\"text/javascript\">\n",
       "                require([\"plotly\"], function(Plotly) {\n",
       "                    window.PLOTLYENV=window.PLOTLYENV || {};\n",
       "                    \n",
       "                if (document.getElementById(\"2e69471c-79fc-4735-bb08-be80cb31ee2b\")) {\n",
       "                    Plotly.newPlot(\n",
       "                        '2e69471c-79fc-4735-bb08-be80cb31ee2b',\n",
       "                        [{\"customdata\": [[\"m\\u00e1y ti\\u1ec7t tr\\u00f9ng uv \\u0111\\u00e3 c\\u00f3 ch\\u01b0a \\u1ea1\", \"Hi\\u1ec7n t\\u1ea1i s\\u1ea3n ph\\u1ea9m M\\u00e1y ti\\u1ec7t tr\\u00f9ng  shop \\u0111ang c\\u00f3 nh\\u1eefng gi\\u00e1 sau \\u1ea1:\\n<500-1M> <1M-2M> <T\\u1ea5t c\\u1ea3 gi\\u00e1>\", \"query_knowledge_base\", \"['object_type:may_tiet_trung']\", \"action_query_babe_kb\"], [\"/confirm_attribute_value{\\\"price\\\": \\\"500-1M\\\"}\", \"M\\u1eddi b\\u1ea1n click v\\u00e0o \\\"Xem chi ti\\u1ebft\\\" \\u0111\\u1ec3 tham kh\\u1ea3o s\\u1ea3n ph\\u1ea9m hi\\u1ec7n c\\u00f3 t\\u1ea1i shop nh\\u00e9!\\n<card sp 1> <card sp 2> <card sp 3>\", \"confirm_attribute_value\", \"['price:500-1M']\", \"action_query_babe_kb\"], [\"m\\u00e1y ti\\u1ec7t tr\\u00f9ng uv \\u0111\\u00e3 c\\u00f3 ch\\u01b0a \\u1ea1\", \"M\\u00e1y ti\\u1ec7t tr\\u00f9ng uv hi\\u1ec7n h\\u1ebft h\\u00e0ng m\\u1eddi b\\u1ea1n tham kh\\u1ea3o c\\u00e1c s\\u1ea3n ph\\u1ea9m kh\\u00e1c c\\u1ee7a shop\\nRecommend <sp1> <sp2> <sp3> <sp4>\", \"query_knowledge_base\", \"['object_type:may_tiet_trung']\", \"action_query_babe_kb\"], [\"Khi n\\u00e0o th\\u00ec c\\u00f3 h\\u00e0ng m\\u1edbi \\u1ea1\", \"Kho\\u1ea3ng m\\u1ed9t tu\\u1ea7n sau c\\u00f3 h\\u00e0ng \\u1ea1\", \"query_knowledge_base\", null, \"action_query_babe_kb\"], [\"https://scontent.xx.fbcdn.net/v/t1.15752-9/92827724_2847726851949741_1696232900455825408_n.jpg?_nc_cat=103&_nc_sid=b96e70&_nc_ohc=Vw1pHh8MnN0AX8aJw4t&_nc_ad=z-m&_nc_cid=0&_nc_zor=9&_nc_ht=scontent.xx&oh=12087dbec406fb17040323a417f4ea20&oe=5EB568F4\", \"B\\u1ea1n \\u0111ang t\\u00ecm ki\\u1ebfm th\\u00f4ng tin g\\u00ec \\u1ea1?\", \"send_link\", \"[\\\"url:['https://scontent.xx.fbcdn.net/v/t1.15752-9/92827724_2847726851949741_1696232900455825408_n.jpg?_nc_cat=103&_nc_sid=b96e70&_nc_ohc=Vw1pHh8MnN0AX8aJw4t&_nc_ad=z-m&_nc_cid=0&_nc_zor=9&_nc_ht=scontent.xx&oh=12087dbec406fb17040323a417f4ea20&oe=5EB568F4']\\\"]\", \"action_handle_send_link_only\"], [\"E \\u01a1i c\\u00f2n gi\\u1ea5y kh\\u00f4 n\\u00e0y k?\", \"Kh\\u0103n kh\\u00f4 \\u0111a n\\u0103ng MIPBI 600gr hi\\u1ec7n \\u0111ang c\\u00f3 gi\\u00e1 l\\u00e0 61.000 (Gi\\u00e1 g\\u1ed1c: 70.000) m\\u1eddi b\\u1ea1n tham kh\\u1ea3o:\\n<show card sp>\", \"query_knowledge_base\", \"['object_type:khan','mention:n\\u00e0y']\", \"action_query_babe_kb\"], [\"\\u0110\\u00fang r \\u1ea1\", \"D\\u1ea1, v\\u00e2ng \\u1ea1. \", \"agree\", null, \"utter_agree\"], [\"https://scontent.xx.fbcdn.net/v/t1.15752-9/92827724_2847726851949741_1696232900455825408_n.jpg?_nc_cat=103&_nc_sid=b96e70&_nc_ohc=Vw1pHh8MnN0AX8aJw4t&_nc_ad=z-m&_nc_cid=0&_nc_zor=9&_nc_ht=scontent.xx&oh=12087dbec406fb17040323a417f4ea20&oe=5EB568F4\", \"B\\u1ea1n \\u0111ang t\\u00ecm ki\\u1ebfm th\\u00f4ng tin g\\u00ec \\u1ea1?\", \"send_link\", \"[\\\"url:['https://scontent.xx.fbcdn.net/v/t1.15752-9/92827724_2847726851949741_1696232900455825408_n.jpg?_nc_cat=103&_nc_sid=b96e70&_nc_ohc=Vw1pHh8MnN0AX8aJw4t&_nc_ad=z-m&_nc_cid=0&_nc_zor=9&_nc_ht=scontent.xx&oh=12087dbec406fb17040323a417f4ea20&oe=5EB568F4']\\\"]\", \"action_handle_send_link_only\"], [\"E \\u01a1i c\\u00f2n gi\\u1ea5y kh\\u00f4 n\\u00e0y k?\", \"Kh\\u0103n kh\\u00f4 \\u0111a n\\u0103ng MIPBI 600gr  hi\\u1ec7n h\\u1ebft h\\u00e0ng m\\u1eddi b\\u1ea1n tham kh\\u1ea3o c\\u00e1c s\\u1ea3n ph\\u1ea9m kh\\u00e1c c\\u1ee7a shop\\nRecommend <sp1> <sp2> <sp3> <sp4>\", \"query_knowledge_base\", \"['object_type:khan','mention:n\\u00e0y']\", \"action_query_babe_kb\"], [\"https://scontent.xx.fbcdn.net/v/t1.15752-9/93088148_260667535096586_5162228618784407552_n.jpg?_nc_cat=103&_nc_sid=b96e70&_nc_ohc=x7wswdCvMn8AX8w1Gx1&_nc_ad=z-m&_nc_cid=0&_nc_zor=9&_nc_ht=scontent.xx&oh=6b66cfd67139987f2f1390eeb9aed46d&oe=5EB7E07A\", \"B\\u1ea1n \\u0111ang t\\u00ecm ki\\u1ebfm th\\u00f4ng tin g\\u00ec \\u1ea1?\", \"send_link\", \"[\\\"url:['https://scontent.xx.fbcdn.net/v/t1.15752-9/93088148_260667535096586_5162228618784407552_n.jpg?_nc_cat=103&_nc_sid=b96e70&_nc_ohc=x7wswdCvMn8AX8w1Gx1&_nc_ad=z-m&_nc_cid=0&_nc_zor=9&_nc_ht=scontent.xx&oh=6b66cfd67139987f2f1390eeb9aed46d&oe=5EB7E07A']\\\"]\", \"action_handle_send_link_only\"], [\"Bn v\\u1eady shop \\u01a1i\", \"S\\u1ea3n ph\\u1ea9m  B\\u1ea2NG V\\u1ebc HOLLA 2 in 1  hi\\u1ec7n shop \\u0111ang c\\u00f3 gi\\u00e1: 830,000 VND (gi\\u00e1 g\\u1ed1c 1,090,000 VND).\\nB\\u1ea1n tham kh\\u1ea3o c\\u00e1c s\\u1ea3n ph\\u1ea9m sau nh\\u00e9 \\u1ea1:\\n<show sp>\", \"query_knowledge_base\", \"['attribute:price']\", \"action_query_babe_kb\"], [\"C\\u00f3 tr\\u00ean shopee k shop\", \"D\\u1ea1 m\\u1eddi b\\u1ea1n tham kh\\u1ea3o s\\u1ea3n ph\\u1ea9m B\\u1ea2NG V\\u1ebc HOLLA 2 in 1  hi\\u1ec7n c\\u00f3 t\\u1ea1i shop nh\\u00e9!\\n<show sp>\", \"query_knowledge_base\", \"['attribute:link']\", \"action_query_babe_kb\"], [\"https://scontent.xx.fbcdn.net/v/t1.15752-9/93088148_260667535096586_5162228618784407552_n.jpg?_nc_cat=103&_nc_sid=b96e70&_nc_ohc=x7wswdCvMn8AX8w1Gx1&_nc_ad=z-m&_nc_cid=0&_nc_zor=9&_nc_ht=scontent.xx&oh=6b66cfd67139987f2f1390eeb9aed46d&oe=5EB7E07A\", \"B\\u1ea1n \\u0111ang t\\u00ecm ki\\u1ebfm th\\u00f4ng tin g\\u00ec \\u1ea1?\", \"send_link\", \"[\\\"url:['https://scontent.xx.fbcdn.net/v/t1.15752-9/93088148_260667535096586_5162228618784407552_n.jpg?_nc_cat=103&_nc_sid=b96e70&_nc_ohc=x7wswdCvMn8AX8w1Gx1&_nc_ad=z-m&_nc_cid=0&_nc_zor=9&_nc_ht=scontent.xx&oh=6b66cfd67139987f2f1390eeb9aed46d&oe=5EB7E07A']\\\"]\", \"action_handle_send_link_only\"], [\"Bn v\\u1eady shop \\u01a1i\", \"S\\u1ea3n ph\\u1ea9m  B\\u1ea2NG V\\u1ebc HOLLA 2 in 1  hi\\u1ec7n shop \\u0111ang c\\u00f3 gi\\u00e1: 830,000 VND (gi\\u00e1 g\\u1ed1c 1,090,000 VND).\\nB\\u1ea1n tham kh\\u1ea3o c\\u00e1c s\\u1ea3n ph\\u1ea9m sau nh\\u00e9 \\u1ea1:\\n<show sp>\", \"query_knowledge_base\", \"['attribute:price']\", \"action_query_babe_kb\"], [\"B\\u1ea3o h\\u00e0nh bao l\\u00e2u \\u1ea1\", \"\\\"D\\u1ea1 B\\u1ea2NG V\\u1ebc HOLLA 2 in 1 b\\u1ea3o h\\u00e0nh 12 th\\u00e1ng \\u1ea1. {ch\\u00ednh s\\u00e1ch b\\u1ea3o h\\u00e0nh chung}\\\"\", \"query_knowledge_base\", \"['attribute:guarantee']\", \"action_query_babe_kb\"], [\"https://scontent.xx.fbcdn.net/v/t1.15752-9/92758628_220638542371993_7339655662080622592_n.jpg?_nc_cat=103&_nc_sid=b96e70&_nc_ohc=SFj_QNZGVnIAX_ptxfv&_nc_ad=z-m&_nc_cid=0&_nc_zor=9&_nc_ht=scontent.xx&oh=db6c1a23b261d135143caa7ddc90103e&oe=5EB60853\", \"B\\u1ea1n \\u0111ang t\\u00ecm ki\\u1ebfm th\\u00f4ng tin g\\u00ec \\u1ea1?\", \"send_link\", \"[\\\"url:['https://scontent.xx.fbcdn.net/v/t1.15752-9/92758628_220638542371993_7339655662080622592_n.jpg?_nc_cat=103&_nc_sid=b96e70&_nc_ohc=SFj_QNZGVnIAX_ptxfv&_nc_ad=z-m&_nc_cid=0&_nc_zor=9&_nc_ht=scontent.xx&oh=db6c1a23b261d135143caa7ddc90103e&oe=5EB60853']\\\"]\", \"action_handle_send_link_only\"], [\"B\\u1ed9 n\\u00e0y bn shop\", \"S\\u1ea3n ph\\u1ea9m  B\\u1ea2NG V\\u1ebc HOLLA 2 in 1  hi\\u1ec7n shop \\u0111ang c\\u00f3 gi\\u00e1: 830,000 VND (gi\\u00e1 g\\u1ed1c 1,090,000 VND).\\nB\\u1ea1n tham kh\\u1ea3o c\\u00e1c s\\u1ea3n ph\\u1ea9m sau nh\\u00e9 \\u1ea1:\\n<show sp>\", \"query_knowledge_base\", \"['mention:b\\u1ed9 n\\u00e0y', 'attribute:price']\", \"action_query_babe_kb\"], [\"S\\u1ea3n xu\\u1ea5t \\u1edf \\u0111\\u00e2u \\u1ea1\", \"D\\u1ea1 B\\u1ea2NG V\\u1ebc HOLLA 2 in 1 c\\u00f3 xu\\u1ea5t x\\u1ee9 t\\u1eeb Trung Qu\\u1ed1c \\u1ea1\\n(xu\\u1ea5t x\\u1ee9 trong ph\\u1ea7n m\\u00f4 t\\u1ea3 sp tr\\u00ean Shopee)\", \"query_knowledge_base\", \"['attribute:origin']\", \"action_query_babe_kb\"], [\"https://scontent.xx.fbcdn.net/v/t1.15752-9/92812185_1223309388006647_5070003679390597120_n.jpg?_nc_cat=102&_nc_sid=b96e70&_nc_oc=AQmYZbuIaGFzKqFSSGeVZqs-Bkq4ODR2LY2ON0_mUykpAz_1tUqt1pKa3RZClcUSF3KFtyyW1LGSfsFG-shSXEJz&_nc_ad=z-m&_nc_cid=0&_nc_zor=9&_nc_ht=scontent.xx&oh=5e9f9b680aa5c98417da25593daab682&oe=5EB812A1\", \"B\\u1ea1n \\u0111ang t\\u00ecm ki\\u1ebfm th\\u00f4ng tin g\\u00ec \\u1ea1?\", \"send_link\", \"[\\\"url:['https://scontent.xx.fbcdn.net/v/t1.15752-9/92812185_1223309388006647_5070003679390597120_n.jpg?_nc_cat=102&_nc_sid=b96e70&_nc_oc=AQmYZbuIaGFzKqFSSGeVZqs-Bkq4ODR2LY2ON0_mUykpAz_1tUqt1pKa3RZClcUSF3KFtyyW1LGSfsFG-shSXEJz&_nc_ad=z-m&_nc_cid=0&_nc_zor=9&_nc_ht=scontent.xx&oh=5e9f9b680aa5c98417da25593daab682&oe=5EB812A1']\\\"]\", \"action_handle_send_link_only\"], [\"Cho t xin gi\\u00e1 nh\\u00e9\", \"S\\u1ea3n ph\\u1ea9m  B\\u1ea2NG V\\u1ebc HOLLA 2 in 1  hi\\u1ec7n shop \\u0111ang c\\u00f3 gi\\u00e1: 830,000 VND (gi\\u00e1 g\\u1ed1c 1,090,000 VND).\\nB\\u1ea1n tham kh\\u1ea3o c\\u00e1c s\\u1ea3n ph\\u1ea9m sau nh\\u00e9 \\u1ea1:\\n<show sp>\", \"query_knowledge_base\", \"['attribute:price']\", \"action_query_babe_kb\"], [\"L\\u00e0m b\\u1eb1ng nh\\u1ef1a \\u00e0 \", \"D\\u1ea1 s\\u1ea3n ph\\u1ea9m l\\u00e0m t\\u1eeb nh\\u1ef1a \\u1ea1\\nB\\u1ea1n tham kh\\u1ea3o c\\u00e1c s\\u1ea3n ph\\u1ea9m sau nh\\u00e9 \\u1ea1:\\n<show sp>\", \"query_knowledge_base\", \"['material:b\\u1eb1ng nh\\u1ef1a']\", \"action_query_babe_kb\"], [\"B\\u1ed9 holla v\\u01b0\\u01a1ng mi\\u1ec7n gi\\u00e1 tnao b\\u1ea1n\", \"S\\u1ea3n ph\\u1ea9m  COMBO HOLLA FULL PHI\\u00caN B\\u1ea2N 2020 M\\u1eaaU V\\u01af\\u01a0NG MI\\u1ec6N  hi\\u1ec7n shop \\u0111ang c\\u00f3 gi\\u00e1: 500,000 VND (gi\\u00e1 g\\u1ed1c 500,000 VND).\\nB\\u1ea1n tham kh\\u1ea3o c\\u00e1c s\\u1ea3n ph\\u1ea9m sau nh\\u00e9 \\u1ea1:\\n<show sp>\", \"query_knowledge_base\", \"['brand:holla', 'attribute:price','type:v\\u01b0\\u01a1ng mi\\u1ec7n']\", \"action_query_babe_kb\"], [\"N\\u01b0\\u1edbc n\\u00e0o s\\u1ea3n xu\\u1ea5t \\u1ea1 ?\", \"D\\u1ea1 COMBO HOLLA FULL PHI\\u00caN B\\u1ea2N 2020 M\\u1eaaU V\\u01af\\u01a0NG MI\\u1ec6N c\\u00f3 xu\\u1ea5t x\\u1ee9 t\\u1eeb Trung Qu\\u1ed1c \\u1ea1\\n(xu\\u1ea5t x\\u1ee9 trong ph\\u1ea7n m\\u00f4 t\\u1ea3 sp tr\\u00ean Shopee)\", \"query_knowledge_base\", \"['attribute:origin']\", \"action_query_babe_kb\"], [\"ok shop\", \"D\\u1ea1,v\\u00e2ng \\u1ea1\", \"agree\", null, \"utter_agree\"], [\"b\\u1ea1n \\u01a1i\", \"Ch\\u00e0o b\\u1ea1n, m\\u00ecnh l\\u00e0 tr\\u1ee3 l\\u00fd \\u1ea3o c\\u1ee7a Shop G\\u1ea5u & B\\u00ed Ng\\u00f4, m\\u00ecnh gi\\u00fap g\\u00ec \\u0111\\u01b0\\u1ee3c b\\u1ea1n \\u1ea1?\", \"greet\", null, \"utter_greet\"], [\"cho m\\u00ecnh h\\u1ecfi\", \"D\\u1ea1,v\\u00e2ng\", \"want_to_query\", null, \"utter_want_to_query\"], [\"m\\u00ecnh mu\\u1ed1n mua c\\u00e2u tr\\u01b0\\u1ee3t cho b\\u00e9 th\\u00ec m n\\u00ean ch\\u1ecdn lo\\u1ea1i n\\u00e0o sau \\u0111\\u00e2y \\u1ea1\\nb\\u1ea1n cho m xin gia sp nhe\", \"(B\\u1eaft \\u0111\\u01b0\\u1ee3c \\u1ea3nh g\\u1eedi ti\\u1ebfp theo m\\u1edbi tr\\u1ea3 l\\u1eddi user)\", \"query_knowledge_base\", \"['object_type:cau_truot', 'attribute:price']\", \"query_knowledge_base\"], [\"https://scontent.xx.fbcdn.net/v/t1.15752-9/93230357_869531593523363_508287694191722496_n.jpg?_nc_cat=104&_nc_sid=b96e70&_nc_ohc=I8CWOIpt__8AX-L7EDQ&_nc_ad=z-m&_nc_cid=0&_nc_zor=9&_nc_ht=scontent.xx&oh=676159323610b77282663ad8853a2b01&oe=5EB58771\", \"S\\u1ea3n ph\\u1ea9m  c\\u1ea7u tr\\u01b0\\u1ee3t  hi\\u1ec7n shop \\u0111ang c\\u00f3 gi\\u00e1: 500,000 VND (gi\\u00e1 g\\u1ed1c 500,000 VND).\\r\\nB\\u1ea1n tham kh\\u1ea3o c\\u00e1c s\\u1ea3n ph\\u1ea9m sau nh\\u00e9 \\u1ea1:\\r\\n<show sp>\", \"send_link\", \"[\\\"url:['https://scontent.xx.fbcdn.net/v/t1.15752-9/93230357_869531593523363_508287694191722496_n.jpg?_nc_cat=104&_nc_sid=b96e70&_nc_ohc=I8CWOIpt__8AX-L7EDQ&_nc_ad=z-m&_nc_cid=0&_nc_zor=9&_nc_ht=scontent.xx&oh=676159323610b77282663ad8853a2b01&oe=5EB58771']\\\"]\", \"action_handle_send_link_only\"], [\"Lo\\u1ea1i n\\u00e0y bn v\\u1eady b\\u1ea1n\", \"(B\\u1eaft \\u0111\\u01b0\\u1ee3c \\u1ea3nh g\\u1eedi ti\\u1ebfp theo m\\u1edbi tr\\u1ea3 l\\u1eddi user)\", \"query_knowledge_base\", \"['mention:lo\\u1ea1i n\\u00e0y', 'attribute:price']\", \"action_query_babe_kb\"], [\"https://scontent.xx.fbcdn.net/v/t1.15752-9/93049946_266000034415184_8022889009304829952_n.jpg?_nc_cat=107&_nc_sid=b96e70&_nc_ohc=6H5qmCrlsTMAX_UxJKR&_nc_ad=z-m&_nc_cid=0&_nc_zor=9&_nc_ht=scontent.xx&oh=56bc309e3fb8f432e5605d1e1fd4a8e2&oe=5EB6DC2D\", \"S\\u1ea3n ph\\u1ea9m  B\\u1ea2NG V\\u1ebc HOLLA 2 in 1  hi\\u1ec7n shop \\u0111ang c\\u00f3 gi\\u00e1: 830,000 VND (gi\\u00e1 g\\u1ed1c 1,090,000 VND).\\nB\\u1ea1n tham kh\\u1ea3o s\\u1ea3n ph\\u1ea9m sau nh\\u00e9 \\u1ea1:\\n<show sp>\", \"send_link\", \"[\\\"url:['https://scontent.xx.fbcdn.net/v/t1.15752-9/93049946_266000034415184_8022889009304829952_n.jpg?_nc_cat=107&_nc_sid=b96e70&_nc_ohc=6H5qmCrlsTMAX_UxJKR&_nc_ad=z-m&_nc_cid=0&_nc_zor=9&_nc_ht=scontent.xx&oh=56bc309e3fb8f432e5605d1e1fd4a8e2&oe=5EB6DC2D']\\\"]\", \"action_query_babe_kb\"], [\"C\\u00f3 nh\\u1eefng m\\u00e0u g\\u00ec \\u1ea1 ?\", \"D\\u1ea1, B\\u1ea2NG V\\u1ebc HOLLA 2 in 1 hi\\u1ec7n c\\u00f3 c\\u00e1c m\\u00e0u: H\\u1ed3ng, Xanh\\n<Show card t\\u01b0\\u01a1ng \\u1ee9ng v\\u1edbi c\\u00e1c m\\u00e0u c\\u1ee7a s\\u1ea3n ph\\u1ea9m>\", \"query_knowledge_base\", \"['attribute:color']\", \"action_query_babe_kb\"], [\"\\u0110\\u1ec3 m\\u00ecnh tham kh\\u1ea3o th\\u00eam , c\\u00f3 g\\u00ec m\\u00ecnh b\\u00e1o s\\u1edbm\", \"D\\u1ea1,v\\u00e2ng \\u1ea1\", \"finish_conv\", null, \"action_finish_conv\"], [\"https://scontent.xx.fbcdn.net/v/t1.15752-9/92948814_645194249654417_7858679713655422976_n.jpg?_nc_cat=105&_nc_sid=b96e70&_nc_ohc=wRI0MxBYCusAX8FbQ55&_nc_ad=z-m&_nc_cid=0&_nc_zor=9&_nc_ht=scontent.xx&oh=fd554b026b9a9ba54d252a6b9a2a549b&oe=5EB53E67\", \"B\\u1ea1n \\u0111ang t\\u00ecm ki\\u1ebfm th\\u00f4ng tin g\\u00ec \\u1ea1?\", \"send_link\", \"[\\\"url:['https://scontent.xx.fbcdn.net/v/t1.15752-9/92948814_645194249654417_7858679713655422976_n.jpg?_nc_cat=105&_nc_sid=b96e70&_nc_ohc=wRI0MxBYCusAX8FbQ55&_nc_ad=z-m&_nc_cid=0&_nc_zor=9&_nc_ht=scontent.xx&oh=fd554b026b9a9ba54d252a6b9a2a549b&oe=5EB53E67']\\\"]\", \"action_handle_send_link_only\"], [\"Gi\\u00e1 bnh shop\", \"S\\u1ea3n ph\\u1ea9m B\\u1ea2NG V\\u1ebc HOLLA 2 in 1 hi\\u1ec7n shop \\u0111ang c\\u00f3 gi\\u00e1: *830,000 VND (gi\\u00e1 g\\u1ed1c 1,090,000 VND)*.\\r\\nB\\u1ea1n tham kh\\u1ea3o c\\u00e1c s\\u1ea3n ph\\u1ea9m sau nh\\u00e9 \\u1ea1:\", \"query_knowledge_base\", \"['attribute:price']\", \"action_query_babe_kb\"], [\"https://scontent.xx.fbcdn.net/v/t1.15752-9/92577959_521713968748198_2028124277756133376_n.jpg?_nc_cat=110&_nc_sid=b96e70&_nc_ohc=JJLk80vJ4PIAX8tj8Ac&_nc_ad=z-m&_nc_cid=0&_nc_zor=9&_nc_ht=scontent.xx&oh=d7d18f49b9b79de714940f80c57e49e5&oe=5EB732D7\", \"S\\u1ea3n ph\\u1ea9m NG\\u1ef0A B\\u1eacP B\\u00caNH HOLLA 2020 hi\\u1ec7n shop \\u0111ang c\\u00f3 gi\\u00e1: *580,000 VND (gi\\u00e1 g\\u1ed1c 800,000 VND)*.\\r\\nB\\u1ea1n tham kh\\u1ea3o c\\u00e1c s\\u1ea3n ph\\u1ea9m sau nh\\u00e9 \\u1ea1:\", \"send_link\", \"[\\\"url:['https://scontent.xx.fbcdn.net/v/t1.15752-9/92577959_521713968748198_2028124277756133376_n.jpg?_nc_cat=110&_nc_sid=b96e70&_nc_ohc=JJLk80vJ4PIAX8tj8Ac&_nc_ad=z-m&_nc_cid=0&_nc_zor=9&_nc_ht=scontent.xx&oh=d7d18f49b9b79de714940f80c57e49e5&oe=5EB732D7']\\\"]\", \"action_handle_send_link_only\"], [\"Ng\\u1ef1a n\\u00e0y th\\u00ec sao\", \"D\\u1ea1, s\\u1ea3n ph\\u1ea9mNG\\u1ef0A B\\u1eacP B\\u00caNH HOLLA 2020hi\\u1ec7n t\\u1ea1i b\\u00ean shop \\u0111ang t\\u1ea1m h\\u1ebft h\\u00e0ng \\u1ea1. B\\u1ea1n tham kh\\u1ea3o c\\u00e1c s\\u1ea3n ph\\u1ea9m kh\\u00e1c d\\u00e0nh cho b\\u00e9 nh\\u00e9!D\\u1ea1, s\\u1ea3n ph\\u1ea9m Ng\\u1ef1a B\\u1eadp B\\u1ec7nh hi\\u1ec7n t\\u1ea1i b\\u00ean shop \\u0111ang t\\u1ea1m h\\u1ebft h\\u00e0ng \\u1ea1. B\\u1ea1n tham kh\\u1ea3o c\\u00e1c s\\u1ea3n ph\\u1ea9m kh\\u00e1c d\\u00e0nh cho b\\u00e9 nh\\u00e9!\", \"query_knowledge_base\", \"['object_type:Ng\\u1ef1a',\\n'mention:n\\u00e0y']\", \"action_query_babe_kb\"], [\"thank sh\", \"D\\u1ea1, c\\u1ea3m \\u01a1n \\u1ea1!\", \"thank\", null, \"utter_thank\"], [\"https://scontent.xx.fbcdn.net/v/t1.15752-9/92791014_2661430304077984_4670421710539849728_n.jpg?_nc_cat=105&_nc_sid=b96e70&_nc_ohc=XlQTCwj0czIAX_d_QhB&_nc_ad=z-m&_nc_cid=0&_nc_zor=9&_nc_ht=scontent.xx&oh=02079e567064603a748d9ce883d4b2f8&oe=5EB5485D\", \"B\\u1ea1n \\u0111ang t\\u00ecm ki\\u1ebfm th\\u00f4ng tin g\\u00ec \\u1ea1?\", \"send_link\", \"[\\\"url:['https://scontent.xx.fbcdn.net/v/t1.15752-9/92791014_2661430304077984_4670421710539849728_n.jpg?_nc_cat=105&_nc_sid=b96e70&_nc_ohc=XlQTCwj0czIAX_d_QhB&_nc_ad=z-m&_nc_cid=0&_nc_zor=9&_nc_ht=scontent.xx&oh=02079e567064603a748d9ce883d4b2f8&oe=5EB5485D']\\\"]\", \"action_handle_send_link_only\"], [\"B\\u1ed9 n\\u00e0y bn v\\u1eady shop\", \"COMBO HOLLA FULL PHI\\u00caN B\\u1ea2N 2020 M\\u1eaaU V\\u01af\\u01a0NG MI\\u1ec6N hi\\u1ec7n shop \\u0111ang c\\u00f3 gi\\u00e1: 4100000 VND (gi\\u00e1 g\\u1ed1c 5000000 VND). B\\u1ea1n tham kh\\u1ea3o c\\u00e1c s\\u1ea3n ph\\u1ea9m sau nh\\u00e9 \\u1ea1: <show sp>\", \"query_knowledge_base\", \"['mention:b\\u1ed9 n\\u00e0y', 'attribute:price']\", \"action_query_babe_kb\"], [\"N\\u01b0\\u1edbc n\\u00e0o s\\u1ea3n xu\\u1ea5t \", \"D\\u1ea1 COMBO HOLLA FULL PHI\\u00caN B\\u1ea2N 2020 M\\u1eaaU V\\u01af\\u01a0NG MI\\u1ec6N c\\u00f3 xu\\u1ea5t x\\u1ee9 t\\u1eeb Trung Qu\\u1ed1c \\u1ea1\\n(xu\\u1ea5t x\\u1ee9 trong ph\\u1ea7n m\\u00f4 t\\u1ea3 sp tr\\u00ean Shopee)\", \"query_knowledge_base\", \"['attribute:origin']\", \"action_query_babe_kb\"], [\"https://scontent.xx.fbcdn.net/v/t1.15752-9/93486370_1623328874472120_5014179051686854656_n.jpg?_nc_cat=108&_nc_sid=b96e70&_nc_ohc=fwdfBm4m4twAX_LaA9U&_nc_ad=z-m&_nc_cid=0&_nc_zor=9&_nc_ht=scontent.xx&oh=422b65b1b7ea124a5b622f219a0e2ab3&oe=5EB738D6\", \"B\\u1ea1n \\u0111ang t\\u00ecm ki\\u1ebfm th\\u00f4ng tin g\\u00ec \\u1ea1?\", \"send_link\", \"[\\\"url:['https://scontent.xx.fbcdn.net/v/t1.15752-9/93486370_1623328874472120_5014179051686854656_n.jpg?_nc_cat=108&_nc_sid=b96e70&_nc_ohc=fwdfBm4m4twAX_LaA9U&_nc_ad=z-m&_nc_cid=0&_nc_zor=9&_nc_ht=scontent.xx&oh=422b65b1b7ea124a5b622f219a0e2ab3&oe=5EB738D6']\\\"]\", \"action_handle_send_link_only\"], [\"2 b\\u1ed9 n\\u00e0y bn \\u1ea1\", \"B\\u1ed9 \\u0111\\u1ed3 ch\\u01a1i nh\\u00e0 b\\u1ebfp th\\u00f4ng minh hi\\u1ec7n shop \\u0111ang c\\u00f3 gi\\u00e1: 790000 VND (gi\\u00e1 g\\u1ed1c 790000 VND). B\\u1ea1n tham kh\\u1ea3o c\\u00e1c s\\u1ea3n ph\\u1ea9m sau nh\\u00e9 \\u1ea1: <show sp>\", \"query_knowledge_base\", \"['mention:b\\u1ed9 n\\u00e0y', 'attribute:price']\", \"action_query_babe_kb\"], [\"ch\\u1ea5t li\\u1ec7u g\\u00ec th\\u1ebf\", \"D\\u1ea1 s\\u1ea3n ph\\u1ea9m l\\u00e0m t\\u1eeb nh\\u1ef1a \\u1ea1\\r\\nB\\u1ea1n tham kh\\u1ea3o c\\u00e1c s\\u1ea3n ph\\u1ea9m sau nh\\u00e9 \\u1ea1:\\r\\n<show sp>\", \"query_knowledge_base\", \"['attribute:material']\", \"action_query_babe_kb\"], [\"b\\u1ea1n \\u01a1i\", \"Ch\\u00e0o b\\u1ea1n, m\\u00ecnh l\\u00e0 tr\\u1ee3 l\\u00fd \\u1ea3o c\\u1ee7a Shop G\\u1ea5u & B\\u00ed Ng\\u00f4, m\\u00ecnh gi\\u00fap g\\u00ec \\u0111\\u01b0\\u1ee3c b\\u1ea1n \\u1ea1?\", \"greet\", null, \"utter_greet\"], [\"https://scontent.xx.fbcdn.net/v/t1.15752-9/92571038_2584677681814761_3423627618300198912_n.jpg?_nc_cat=105&_nc_sid=b96e70&_nc_ohc=OZGf9Ro8NKQAX8umkh_&_nc_ad=z-m&_nc_cid=0&_nc_zor=9&_nc_ht=scontent.xx&oh=b60d1adb39de9f1c672de5ce7f9a6ae4&oe=5EB53FA2\", \"B\\u1ea1n \\u0111ang t\\u00ecm ki\\u1ebfm th\\u00f4ng tin g\\u00ec \\u1ea1?\", \"send_link\", \"[\\\"url:['https://scontent.xx.fbcdn.net/v/t1.15752-9/92571038_2584677681814761_3423627618300198912_n.jpg?_nc_cat=105&_nc_sid=b96e70&_nc_ohc=OZGf9Ro8NKQAX8umkh_&_nc_ad=z-m&_nc_cid=0&_nc_zor=9&_nc_ht=scontent.xx&oh=b60d1adb39de9f1c672de5ce7f9a6ae4&oe=5EB53FA2']\\\"]\", \"action_handle_send_link_only\"], [\"Bn m\\u1ed9t b\\u1ed9 n\\u00e0y v\\u1eady shop\", \"S\\u1ea3n ph\\u1ea9m  B\\u1ea2NG V\\u1ebc HOLLA 2 in 1  hi\\u1ec7n shop \\u0111ang c\\u00f3 gi\\u00e1: 830,000 VND (gi\\u00e1 g\\u1ed1c 1,090,000 VND).\\nB\\u1ea1n tham kh\\u1ea3o c\\u00e1c s\\u1ea3n ph\\u1ea9m sau nh\\u00e9 \\u1ea1:\\n<show sp>\", \"query_knowledge_base\", \"['attribute:price', 'mention:b\\u1ed9 n\\u00e0y']\", \"action_query_babe_kb\"], [\"C\\u1ea3 b\\u1ed9 h\\u1ea3 b ?\", \"D\\u1ea1,v\\u00e2ng \\u1ea1\", \"query_knowledge_base\", null, \"action_query_babe_kb\"], [\"b\\u1ea1n \\u01a1i\", \"Ch\\u00e0o b\\u1ea1n, m\\u00ecnh l\\u00e0 tr\\u1ee3 l\\u00fd \\u1ea3o c\\u1ee7a Shop G\\u1ea5u & B\\u00ed Ng\\u00f4, m\\u00ecnh gi\\u00fap g\\u00ec \\u0111\\u01b0\\u1ee3c b\\u1ea1n \\u1ea1?\", \"greet\", null, \"utter_greet\"], [\"https://scontent.xx.fbcdn.net/v/t1.15752-9/92792231_225126888578248_4184814308414193664_n.jpg?_nc_cat=108&_nc_sid=b96e70&_nc_ohc=Cjd1ceq4pLEAX_2V4Ao&_nc_ad=z-m&_nc_cid=0&_nc_zor=9&_nc_ht=scontent.xx&oh=d921b0784b3703a7b02a586756b0e62a&oe=5EB57163\", \"B\\u1ea1n \\u0111ang t\\u00ecm ki\\u1ebfm th\\u00f4ng tin g\\u00ec \\u1ea1?\", \"send_link\", \"[\\\"url:['https://scontent.xx.fbcdn.net/v/t1.15752-9/92792231_225126888578248_4184814308414193664_n.jpg?_nc_cat=108&_nc_sid=b96e70&_nc_ohc=Cjd1ceq4pLEAX_2V4Ao&_nc_ad=z-m&_nc_cid=0&_nc_zor=9&_nc_ht=scontent.xx&oh=d921b0784b3703a7b02a586756b0e62a&oe=5EB57163']\\\"]\", \"action_handle_send_link_only\"], [\"B\\u1ed9 nay bn b\", \"S\\u1ea3n ph\\u1ea9m  B\\u1ea2NG V\\u1ebc HOLLA 2 in 1  hi\\u1ec7n shop \\u0111ang c\\u00f3 gi\\u00e1: 830,000 VND (gi\\u00e1 g\\u1ed1c 1,090,000 VND).\\nB\\u1ea1n tham kh\\u1ea3o c\\u00e1c s\\u1ea3n ph\\u1ea9m sau nh\\u00e9 \\u1ea1:\\n<show sp>\", \"query_knowledge_base\", \"['mention:b\\u1ed9 nay', 'attribute:price']\", \"action_query_babe_kb\"], [\"M\\u1ea5y ch\\u1eef tr\\u00ean b\\u1ea3n\\r\\nLa co s\\u1eb5n lun hay la k co \\u1ea1\", \"S\\u1ea3n ph\\u1ea9m  B\\u1ea2NG V\\u1ebc HOLLA 2 in 1 bao g\\u1ed3m c\\u00e1c ph\\u1ee5 ki\\u1ec7n sau: b\\u1ed9 ch\\u1eef, b\\u1ed9 s\\u1ed1 v\\u00e0 b\\u00fat n\\u01b0\\u1edbc\\nB\\u1ea1n tham kh\\u1ea3o s\\u1ea3n ph\\u1ea9m sau nh\\u00e9 \\u1ea1:\\r\\n<show sp>\", \"query_knowledge_base\", \"['attribute:accessories']\", \"action_query_babe_kb\"], [\"https://scontent.xx.fbcdn.net/v/t1.15752-9/92574409_215108049717012_4974694287758327808_n.jpg?_nc_cat=111&_nc_sid=b96e70&_nc_ohc=od8F78G2U4oAX-kFk_g&_nc_ad=z-m&_nc_cid=0&_nc_zor=9&_nc_ht=scontent.xx&oh=a03f154b9cf70c6406c5041b2712d5f9&oe=5EB69163\", \"B\\u1ea1n \\u0111ang t\\u00ecm ki\\u1ebfm th\\u00f4ng tin g\\u00ec \\u1ea1?\", \"send_link\", \"[\\\"url:['https://scontent.xx.fbcdn.net/v/t1.15752-9/92574409_215108049717012_4974694287758327808_n.jpg?_nc_cat=111&_nc_sid=b96e70&_nc_ohc=od8F78G2U4oAX-kFk_g&_nc_ad=z-m&_nc_cid=0&_nc_zor=9&_nc_ht=scontent.xx&oh=a03f154b9cf70c6406c5041b2712d5f9&oe=5EB69163']\\\"]\", \"action_handle_send_link_only\"], [\"Bn shop oi\", \"S\\u1ea3n ph\\u1ea9m  B\\u1ea2NG V\\u1ebc HOLLA 2 in 1  hi\\u1ec7n shop \\u0111ang c\\u00f3 gi\\u00e1: 830,000 VND (gi\\u00e1 g\\u1ed1c 1,090,000 VND).\\nB\\u1ea1n tham kh\\u1ea3o c\\u00e1c s\\u1ea3n ph\\u1ea9m sau nh\\u00e9 \\u1ea1:\\n<show sp>\", \"query_knowledge_base\", \"['attribute:price']\", \"utter_greet\"], [\"Chi\\u1ec1u nay ship lu\\u00f4n cho m\\u00ecnh \\u0111\\u01b0\\u1ee3c kh\\u00f4ng\", \"B\\u1ea1n cho shop xin \\u0111\\u1ecba ch\\u1ec9 nh\\u1eadn h\\u00e0ng \\u1ea1.\", \"time_ship\", null, \"action_time_ship\"], [\"s\\u1ed1 7 tr\\u00e0ng thi\", \"V\\u1edbi \\u0111\\u1ecba ch\\u1ec9 s\\u1ed1 7 tr\\u00e0ng thi shop c\\u00f3 th\\u1ec3 ship h\\u00e0ng \\u0111\\u1ebfn trong 3 h \\u1ea1\", null, null, null], [\"Thanh ch\\u1eafn c\\u1ea7u thang bn a\", \"S\\u1ea3n ph\\u1ea9m thanh ch\\u1eafn c\\u1ea7u thang hi\\u1ec7n shop \\u0111ang c\\u00f3 gi\\u00e1: 830,000 VND (gi\\u00e1 g\\u1ed1c 1,090,000 VND).\\nB\\u1ea1n tham kh\\u1ea3o c\\u00e1c s\\u1ea3n ph\\u1ea9m sau nh\\u00e9 \\u1ea1:\\n<show sp>\", \"query_knowledge_base\", \"['attribute:price']['object_type:thanh_chan_cau_thang']\", \"action_query_babe_kb\"], [\"k\\u00edch th\\u01b0\\u1edbc tn shop\", \"D\\u1ea1, thanh ch\\u1eafn c\\u1ea7u thang c\\u00f3 (c\\u00e1c-nhi\\u1ec1u k\\u00edch th\\u01b0\\u1edbc) k\\u00edch th\\u01b0\\u1edbc: 74x83x 77cm \\u1ea1. \\n<show card s\\u1ea3n ph\\u1ea9m> \\n\", \"query_knowledge_base\", \"['attribute:size']\", \"action_query_babe_kb\"], [\"ok shop\", \"D\\u1ea1,v\\u00e2ng\", \"agree\", null, \"utter_agree\"], [\"b\\u1ea1n \\u01a1i\", \"Ch\\u00e0o b\\u1ea1n, m\\u00ecnh l\\u00e0 tr\\u1ee3 l\\u00fd \\u1ea3o c\\u1ee7a Shop G\\u1ea5u & B\\u00ed Ng\\u00f4, m\\u00ecnh gi\\u00fap g\\u00ec \\u0111\\u01b0\\u1ee3c b\\u1ea1n \\u1ea1?\", \"greet\", null, \"utter_greet\"], [\"B\\u1ed9 \\u0111\\u1ed3 ch\\u01a1i n\\u1ea5u \\u0103n gi\\u00e1 bn \\u1ea1\", \"M\\u00ecnh ch\\u01b0a x\\u00e1c \\u0111\\u1ecbnh \\u0111\\u01b0\\u1ee3c m\\u00f3n \\u0111\\u1ed3 b\\u1ea1n h\\u1ecfi, b\\u1ea1n m\\u00f4 t\\u1ea3 r\\u00f5 h\\u01a1n gi\\u00fap m\\u00ecnh nh\\u00e9!\", \"query_knowledge_base\", \"['attribute:price']\", \"action_query_babe_kb\"], [\"https://scontent.xx.fbcdn.net/v/t1.15752-9/92871920_244941433296679_4143720563837239296_n.jpg?_nc_cat=104&_nc_sid=b96e70&_nc_ohc=cfVDG58zjTsAX8JQE4Y&_nc_ad=z-m&_nc_cid=0&_nc_zor=9&_nc_ht=scontent.xx&oh=6d491d56656f2cdc59cdc013a65bc22b&oe=5EB56A38\", \"B\\u1ed9 \\u0111\\u1ed3 ch\\u01a1i nh\\u00e0 b\\u1ebfp th\\u00f4ng minh hi\\u1ec7n shop \\u0111ang c\\u00f3 gi\\u00e1: 790000 VND (gi\\u00e1 g\\u1ed1c 790000 VND). B\\u1ea1n tham kh\\u1ea3o c\\u00e1c s\\u1ea3n ph\\u1ea9m sau nh\\u00e9 \\u1ea1: <show sp>\", \"send_link\", \"[\\\"url:['https://scontent.xx.fbcdn.net/v/t1.15752-9/92871920_244941433296679_4143720563837239296_n.jpg?_nc_cat=104&_nc_sid=b96e70&_nc_ohc=cfVDG58zjTsAX8JQE4Y&_nc_ad=z-m&_nc_cid=0&_nc_zor=9&_nc_ht=scontent.xx&oh=6d491d56656f2cdc59cdc013a65bc22b&oe=5EB56A38']\\\"]\", \"action_handle_send_link_only\"], [\"ok shop\", \"D\\u1ea1,v\\u00e2ng\", \"agree\", null, \"utter_agree\"], [\"https://scontent.xx.fbcdn.net/v/t1.15752-9/93136917_667702917395987_8046983986288787456_n.jpg?_nc_cat=108&_nc_sid=b96e70&_nc_ohc=v_S4u4HxLpgAX-GM0OS&_nc_ad=z-m&_nc_cid=0&_nc_zor=9&_nc_ht=scontent.xx&oh=f9b70ca6c2535878f0b530141ee4a4ca&oe=5EB59BE8\", \"action_handle_send_link_only\", \"send_link\", \"[\\\"url:['https://scontent.xx.fbcdn.net/v/t1.15752-9/93136917_667702917395987_8046983986288787456_n.jpg?_nc_cat=108&_nc_sid=b96e70&_nc_ohc=v_S4u4HxLpgAX-GM0OS&_nc_ad=z-m&_nc_cid=0&_nc_zor=9&_nc_ht=scontent.xx&oh=f9b70ca6c2535878f0b530141ee4a4ca&oe=5EB59BE8']\\\"]\", \"action_handle_send_link_only\"], [\"Thanh 36cm l\\u1eafp th\\u00eam v\\u00e0o ch\\u1ed7 h\\u1eb9p c\\u0169ng \\u0111c ph\\u1ea3i ko a, t\\u1ee9c l\\u00e0 d\\u00f9ng nh\\u01b0 thanh 12cm c\\u0169ng \\u0111c a?\", \"Cho m\\u00ecnh xin chi\\u1ec1u r\\u1ed9ng c\\u1ea7u thang nh\\u00e0 b\\u1ea1n \\u1ea1 ?\", \"to_compare\", \"['size:36cm', 'size:12cm']\", \"action_to_compare\"], [\"0,5m \\u1ea1\", \"D\\u1ea1 s\\u1ea3n ph\\u1ea9m thanh 36 cm v\\u00e0 12 cm l\\u1eafp \\u0111\\u01b0\\u1ee3c v\\u1edbi c\\u1ea7u thang c\\u00f3 chi\\u1ec1u r\\u1ed9ng 0,5 m \\u1ea1\", \"query_knowledge_base\", \"['size:0,5m']\", \"action_query_babe_kb\"], [\"https://scontent.xx.fbcdn.net/v/t1.15752-9/93409445_248021096324605_3539204290587394048_n.jpg?_nc_cat=100&_nc_sid=b96e70&_nc_ohc=CDp2-oURkTkAX-ROtNE&_nc_ad=z-m&_nc_cid=0&_nc_zor=9&_nc_ht=scontent.xx&oh=a13cc949d1040f31f6f45300484c2189&oe=5EB5A872\", \"action_handle_send_link_only\", \"send_link\", \"[\\\"url:['https://scontent.xx.fbcdn.net/v/t1.15752-9/93409445_248021096324605_3539204290587394048_n.jpg?_nc_cat=100&_nc_sid=b96e70&_nc_ohc=CDp2-oURkTkAX-ROtNE&_nc_ad=z-m&_nc_cid=0&_nc_zor=9&_nc_ht=scontent.xx&oh=a13cc949d1040f31f6f45300484c2189&oe=5EB5A872']\\\"]\", \"action_handle_send_link_only\"], [\"Ng\\u1ef1a n\\u00e0y h\\u00e0ng v\\u1ec1 h\\u1ea3 shop?\", \"S\\u1ea3n ph\\u1ea9m  NG\\u1ef0A B\\u1eacP B\\u00caNH HOLLA 2020  hi\\u1ec7n shop c\\u00f3 h\\u00e0ng v\\u00e0 \\u0111ang c\\u00f3 gi\\u00e1: 580000\\n VND (gi\\u00e1 g\\u1ed1c 800000 VND).\\nB\\u1ea1n tham kh\\u1ea3o c\\u00e1c s\\u1ea3n ph\\u1ea9m sau nh\\u00e9 \\u1ea1:\\n<show sp>\", \"query_knowledge_base\", \"['object_type:ngua_bap_benh', 'mention:n\\u00e0y']\", \"action_query_babe_kb\"], [\"B\\u00ean m\\u00ecnh c\\u00f3 m\\u00e3 gi\\u1ea3m gi\\u00e1 shopee k shop?\", \"Hi\\u1ec7n shop kh\\u00f4ng c\\u00f3 m\\u00e3 gi\\u1ea3m gi\\u00e1 shopee cho s\\u1ea3n ph\\u1ea9m NG\\u1ef0A B\\u1eacP B\\u00caNH HOLLA 2020 \\u1ea1\", \"query_knowledge_base\", \"['attribute:promotion','attribute:codediscount']\", \"action_query_babe_kb\"], [\"https://scontent.xx.fbcdn.net/v/t1.15752-9/92812185_1223309388006647_5070003679390597120_n.jpg?_nc_cat=102&_nc_sid=b96e70&_nc_ohc=g_UDAFO7FMkAX8iFNTd&_nc_ad=z-m&_nc_cid=0&_nc_zor=9&_nc_ht=scontent.xx&oh=b4d34f75250bd20bb8adc6193f0b996b&oe=5EB812A1\", \"B\\u1ea1n \\u0111ang t\\u00ecm ki\\u1ebfm th\\u00f4ng tin g\\u00ec \\u1ea1?\", \"send_link\", \"[\\\"url:['https://scontent.xx.fbcdn.net/v/t1.15752-9/92812185_1223309388006647_5070003679390597120_n.jpg?_nc_cat=102&_nc_sid=b96e70&_nc_ohc=g_UDAFO7FMkAX8iFNTd&_nc_ad=z-m&_nc_cid=0&_nc_zor=9&_nc_ht=scontent.xx&oh=b4d34f75250bd20bb8adc6193f0b996b&oe=5EB812A1']\\\"]\", \"action_handle_send_link_only\"], [\"B\\u1ea1n \\u01a1i b\\u1ed9 n\\u00e0y bao ti\\u1ec1n \\u1ea1\", \"S\\u1ea3n ph\\u1ea9m  B\\u1ea2NG V\\u1ebc HOLLA 2 in 1  hi\\u1ec7n shop \\u0111ang c\\u00f3 gi\\u00e1: 830,000 VND (gi\\u00e1 g\\u1ed1c 1,090,000 VND).\\nB\\u1ea1n tham kh\\u1ea3o c\\u00e1c s\\u1ea3n ph\\u1ea9m sau nh\\u00e9 \\u1ea1:\\n<show sp>\", \"query_knowledge_base\", \"['mention:b\\u1ed9 n\\u00e0y', 'attribute:price']\", \"action_query_babe_kb\"], [\" bao g\\u1ed3m c\\u1ea3 b\\u1ed9 ch\\u1eef, s\\u1ed1 \\u1edf tr\\u00ean b\\u1ea3ng + b\\u00fat n\\u01b0\\u1edbc \\u00e0 b\", \"S\\u1ea3n ph\\u1ea9m  B\\u1ea2NG V\\u1ebc HOLLA 2 in 1 bao g\\u1ed3m c\\u00e1c ph\\u1ee5 ki\\u1ec7n sau: b\\u1ed9 ch\\u1eef, b\\u1ed9 s\\u1ed1 v\\u00e0 b\\u00fat n\\u01b0\\u1edbc\\nB\\u1ea1n tham kh\\u1ea3o s\\u1ea3n ph\\u1ea9m sau nh\\u00e9 \\u1ea1:\\r\\n<show sp>\", \"query_knowledge_base\", \"\\n['accessories:b\\u1ed9 ch\\u1eef']['accessories:b\\u1ed9 s\\u1ed1']['accessories:b\\u00fat n\\u01b0\\u1edbc']\", \"action_query_babe_kb\"], [\"https://scontent.xx.fbcdn.net/v/t1.15752-9/92706664_584769512134067_2916220439648796672_n.jpg?_nc_cat=105&_nc_sid=b96e70&_nc_ohc=LzoJrxXZEG4AX_1Y2tK&_nc_ad=z-m&_nc_cid=0&_nc_zor=9&_nc_ht=scontent.xx&oh=e2d594b1bfcd857449d797dbb2d02b61&oe=5EB6767E\", \"B\\u1ea1n \\u0111ang t\\u00ecm ki\\u1ebfm th\\u00f4ng tin g\\u00ec \\u1ea1?\", \"send_link\", \"[\\\"url:['https://scontent.xx.fbcdn.net/v/t1.15752-9/92706664_584769512134067_2916220439648796672_n.jpg?_nc_cat=105&_nc_sid=b96e70&_nc_ohc=LzoJrxXZEG4AX_1Y2tK&_nc_ad=z-m&_nc_cid=0&_nc_zor=9&_nc_ht=scontent.xx&oh=e2d594b1bfcd857449d797dbb2d02b61&oe=5EB6767E']\\\"]\", \"action_handle_send_link_only\"], [\"B\\u1ed9 n\\u00e0y bao nhi\\u00eau v\\u1eady shop \\u01a1i\", \"S\\u1ea3n ph\\u1ea9m  B\\u1ea2NG V\\u1ebc HOLLA 2 in 1  hi\\u1ec7n shop \\u0111ang c\\u00f3 gi\\u00e1: 830,000 VND (gi\\u00e1 g\\u1ed1c 1,090,000 VND).\\nB\\u1ea1n tham kh\\u1ea3o c\\u00e1c s\\u1ea3n ph\\u1ea9m sau nh\\u00e9 \\u1ea1:\\n<show sp>\", \"query_knowledge_base\", \"['mention:b\\u1ed9 n\\u00e0y', 'attribute:price']\", \"action_query_babe_kb\"], [\"M\\u00ecnh c\\u00f3 b\\u1ea3ng v\\u1ebd \\u0111a n\\u0103ng cho b\\u00e9 m\\u00e0 k \\u0111i li\\u1ec1n v\\u1edbi b\\u00e0n k \\u1ea1?\", \"S\\u1ea3n ph\\u1ea9m b\\u1ea3ng v\\u1ebd m\\u00e0 kh\\u00f4ng \\u0111i li\\u1ec1n v\\u1edbi b\\u00e0n hi\\u1ec7n shop c\\u00f3 nh\\u1eefng s\\u1ea3n ph\\u1ea9m sau m\\u1eddi b\\u1ea1n tham kh\\u1ea3o:\\n<sp1><sp2><sp3>\", \"query_knowledge_base\", null, \"action_query_babe_kb\"], [\"https://scontent.xx.fbcdn.net/v/t1.15752-9/92694192_2614716975469495_5572242217088581632_n.jpg?_nc_cat=106&_nc_sid=b96e70&_nc_oc=AQntyQWugJc3s4avU1VoQOdwpdKSmeEpUXN84Gn9ed96LljSbQoHAhs_paPwY7xWumhVOcDyJAO9oQajF5hRIFYb&_nc_ad=z-m&_nc_cid=0&_nc_zor=9&_nc_ht=scontent.xx&oh=1df67664b5e1a92b05b733613c5946f5&oe=5EB51340\", \"B\\u1ea1n \\u0111ang t\\u00ecm ki\\u1ebfm th\\u00f4ng tin g\\u00ec \\u1ea1?\", \"send_link\", \"[\\\"url:['https://scontent.xx.fbcdn.net/v/t1.15752-9/92694192_2614716975469495_5572242217088581632_n.jpg?_nc_cat=106&_nc_sid=b96e70&_nc_oc=AQntyQWugJc3s4avU1VoQOdwpdKSmeEpUXN84Gn9ed96LljSbQoHAhs_paPwY7xWumhVOcDyJAO9oQajF5hRIFYb&_nc_ad=z-m&_nc_cid=0&_nc_zor=9&_nc_ht=scontent.xx&oh=1df67664b5e1a92b05b733613c5946f5&oe=5EB51340']\\\"]\", \"action_handle_send_link_only\"], [\"https://scontent.xx.fbcdn.net/v/t1.15752-9/93031511_247828126399871_5237293488793452544_n.jpg?_nc_cat=111&_nc_sid=b96e70&_nc_oc=AQnsp_bzf3mOSZi9Jvn-4cnExabSMmyu1uTaZT-ba4f20zzkHcvRqyG3oZmSHEleonx4tRAZxwxXNF5mYJHQN2gE&_nc_ad=z-m&_nc_cid=0&_nc_zor=9&_nc_ht=scontent.xx&oh=b4e535c62864baaa6a3e975576d0dc24&oe=5EB75ABA\", \"B\\u1ea1n \\u0111ang t\\u00ecm ki\\u1ebfm th\\u00f4ng tin g\\u00ec \\u1ea1?\", \"send_link\", \"[\\\"url:['https://scontent.xx.fbcdn.net/v/t1.15752-9/93031511_247828126399871_5237293488793452544_n.jpg?_nc_cat=111&_nc_sid=b96e70&_nc_oc=AQnsp_bzf3mOSZi9Jvn-4cnExabSMmyu1uTaZT-ba4f20zzkHcvRqyG3oZmSHEleonx4tRAZxwxXNF5mYJHQN2gE&_nc_ad=z-m&_nc_cid=0&_nc_zor=9&_nc_ht=scontent.xx&oh=b4e535c62864baaa6a3e975576d0dc24&oe=5EB75ABA']\\\"]\", \"action_handle_send_link_only\"], [\"B\\u00e1o gi\\u00e1 gi\\u00fap m\\u00ecnh\", \"S\\u1ea3n ph\\u1ea9m  B\\u1ea2NG V\\u1ebc HOLLA 2 in 1  hi\\u1ec7n shop \\u0111ang c\\u00f3 gi\\u00e1: 830,000 VND (gi\\u00e1 g\\u1ed1c 1,090,000 VND).\\nB\\u1ea1n tham kh\\u1ea3o c\\u00e1c s\\u1ea3n ph\\u1ea9m sau nh\\u00e9 \\u1ea1:\\n<show sp>\", \"query_knowledge_base\", \"['attribute:price']\", \"action_query_babe_kb\"], [\"G\\u1ed3m b\\u1ea3ng, gh\\u1ebf v\\u00e0 g\\u00ec n\\u1eefa ko shop\", null, \"query_knowledge_base\", \"['attribute:accessories']\", \"action_query_babe_kb\"], [\"https://scontent.xx.fbcdn.net/v/t1.15752-9/92871283_242693100205365_8753955467434131456_n.jpg?_nc_cat=109&_nc_sid=b96e70&_nc_ohc=W1Vc84SDPpoAX9EiTsC&_nc_ad=z-m&_nc_cid=0&_nc_zor=9&_nc_ht=scontent.xx&oh=81d08ed8c54590679c062ba3cf4be944&oe=5EB65EBB\", \"S\\u1ea3n ph\\u1ea9m  B\\u1ea2NG V\\u1ebc HOLLA 2 in 1 bao g\\u1ed3m c\\u00e1c ph\\u1ee5 ki\\u1ec7n sau: b\\u1ed9 ch\\u1eef, b\\u1ed9 s\\u1ed1 v\\u00e0 b\\u00fat n\\u01b0\\u1edbc \\u1ea1\\nB\\u1ea1n tham kh\\u1ea3o s\\u1ea3n ph\\u1ea9m sau nh\\u00e9 \\u1ea1:\\n<show sp>\", \"send_link\", \"[\\\"url:['https://scontent.xx.fbcdn.net/v/t1.15752-9/92871283_242693100205365_8753955467434131456_n.jpg?_nc_cat=109&_nc_sid=b96e70&_nc_ohc=W1Vc84SDPpoAX9EiTsC&_nc_ad=z-m&_nc_cid=0&_nc_zor=9&_nc_ht=scontent.xx&oh=81d08ed8c54590679c062ba3cf4be944&oe=5EB65EBB']\\\"]\", \"action_handle_send_link_only\"], [\"M\\u00ecnh c\\u00f3 b\\u1ea3ng v\\u1ebd \\u0111a n\\u0103ng cho b\\u00e9 m\\u00e0 k \\u0111i li\\u1ec1n v\\u1edbi gh\\u1ebf k \\u1ea1?\", \"S\\u1ea3n ph\\u1ea9m b\\u1ea3ng v\\u1ebd m\\u00e0 kh\\u00f4ng \\u0111i li\\u1ec1n v\\u1edbi gh\\u1ebf hi\\u1ec7n shop c\\u00f3 nh\\u1eefng s\\u1ea3n ph\\u1ea9m sau m\\u1eddi b\\u1ea1n tham kh\\u1ea3o:\\n<sp1><sp2><sp3>\", \"query_knowledge_base\", \"['aobject_type:bang_ve']\", \"action_query_babe_kb\"], [\"M\\u1eabu c\\u1ea7u tr\\u01b0\\u1ee3t n\\u00e0y b\\u00e1o gi\\u00e1 gi\\u00fap e nh\\u00e9\", null, \"query_knowledge_base\", \"['object_type:cau_truot', 'mention:n\\u00e0y', 'attribute:price']\", \"action_query_babe_kb\"], [\"https://scontent.xx.fbcdn.net/v/t1.15752-9/92989817_2941090232617285_7762728477815472128_n.jpg?_nc_cat=109&_nc_sid=b96e70&_nc_ohc=15xhgRV8HgAAX9q4suE&_nc_ad=z-m&_nc_cid=0&_nc_zor=9&_nc_ht=scontent.xx&oh=ba92c28af571898e3d200043dab41de7&oe=5EB61F06\", \"S\\u1ea3n ph\\u1ea9m  c\\u1ea7u tr\\u01b0\\u1ee3t  hi\\u1ec7n shop \\u0111ang c\\u00f3 gi\\u00e1: 830,000 VND (gi\\u00e1 g\\u1ed1c 1,090,000 VND).\\nB\\u1ea1n tham kh\\u1ea3o s\\u1ea3n ph\\u1ea9m sau nh\\u00e9 \\u1ea1:\\n<show sp>\", \"send_link\", \"[\\\"url:['https://scontent.xx.fbcdn.net/v/t1.15752-9/92989817_2941090232617285_7762728477815472128_n.jpg?_nc_cat=109&_nc_sid=b96e70&_nc_ohc=15xhgRV8HgAAX9q4suE&_nc_ad=z-m&_nc_cid=0&_nc_zor=9&_nc_ht=scontent.xx&oh=ba92c28af571898e3d200043dab41de7&oe=5EB61F06']\\\"]\", \"action_handle_send_link_only\"], [\"D\\u00f9ng cho b\\u00e9 bao th\\u00e1ng \\u1ea1\", \"C\\u1ea7u tr\\u01b0\\u1ee3t c\\u00f3 \\u0111\\u1ed9 tu\\u1ed5i s\\u1eed d\\u1ee5ng 0-36 th\\u00e1ng \\nB\\u1ea1n tham kh\\u1ea3o s\\u1ea3n ph\\u1ea9m sau nh\\u00e9 \\u1ea1:\\n<show sp>\", \"query_knowledge_base\", \"['attribute:age_of_use']\", \"action_query_babe_kb\"], [\"B\\u00e1o gi\\u00e1 gi\\u00fap m\\u00ecnh b\\u1ea3ng v\\u1ebd Hola nh\\u00e9\\n1 b\\u1ed9 bao g\\u1ed3m nh\\u1eefng g\\u00ec nh\\u1ec9\", \"S\\u1ea3n ph\\u1ea9m  B\\u1ea2NG V\\u1ebc HOLLA 2 in 1  hi\\u1ec7n shop \\u0111ang c\\u00f3 gi\\u00e1: 830,000 VND (gi\\u00e1 g\\u1ed1c 1,090,000 VND).\\nS\\u1ea3n ph\\u1ea9m B\\u1ea2NG V\\u1ebc HOLLA 2 in 1 bao g\\u1ed3m c\\u00e1c ph\\u1ee5 ki\\u1ec7n sau: b\\u1ed9 ch\\u1eef, b\\u1ed9 s\\u1ed1 v\\u00e0 b\\u00fat n\\u01b0\\u1edbc \\u1ea1 B\\u1ea1n tham kh\\u1ea3o s\\u1ea3n ph\\u1ea9m sau nh\\u00e9 \\u1ea1:\\n <show sp>\", \"query_knowledge_base\", \"['attribute:price','object_type:bang_ve','brand:hola','attribute:accessories']\", \"action_query_babe_kb\"], [\"https://scontent.xx.fbcdn.net/v/t1.15752-9/92548082_214955003273973_3799894782386372608_n.jpg?_nc_cat=106&_nc_sid=b96e70&_nc_ohc=ECkHH-pZ5eQAX9wxG23&_nc_ad=z-m&_nc_cid=0&_nc_zor=9&_nc_ht=scontent.xx&oh=26d86b32b83f4722329ebda411b1b8b7&oe=5EB87673\", null, \"send_link\", \"[\\\"url:['https://scontent.xx.fbcdn.net/v/t1.15752-9/92548082_214955003273973_3799894782386372608_n.jpg?_nc_cat=106&_nc_sid=b96e70&_nc_ohc=ECkHH-pZ5eQAX9wxG23&_nc_ad=z-m&_nc_cid=0&_nc_zor=9&_nc_ht=scontent.xx&oh=26d86b32b83f4722329ebda411b1b8b7&oe=5EB87673']\\\"]\", \"action_handle_send_link_only\"], [\"c\\u00f3 tr\\u00ean shopee kh\\u00f4ng shop\", \"M\\u1eddi b\\u1ea1n tham kh\\u1ea3o link shopee c\\u1ee7a s\\u1ea3n ph\\u1ea9m:\\n<show card sp>\", \"query_knowledge_base\", \"['attribute:link']\", \"action_query_babe_kb\"], [\"Cho m xem m\\u00e0u\", \"M\\u00ecnh ch\\u01b0a x\\u00e1c \\u0111\\u1ecbnh \\u0111\\u01b0\\u1ee3c m\\u00f3n \\u0111\\u1ed3 b\\u1ea1n h\\u1ecfi, b\\u1ea1n m\\u00f4 t\\u1ea3 r\\u00f5 h\\u01a1n gi\\u00fap m\\u00ecnh nh\\u00e9!\", \"query_knowledge_base\", \"['attribute:color']\", \"action_query_babe_kb\"], [\"Gh\\u1ebf \\u0103n d\\u1eb7m newber \\u1ea1\", \"D\\u1ea1, s\\u1ea3n ph\\u1ea9m Gh\\u1ebf \\u0102n h\\u00e3ng s\\u1ea3n xu\\u1ea5t Newber hi\\u1ec7n t\\u1ea1i \\u0111ang c\\u00f3 c\\u00e1c m\\u00e0u sau \\u1ea1 : h\\u1ed3ng, xanh\\nB\\u1ea1n tham kh\\u1ea3o s\\u1ea3n ph\\u1ea9m sau nh\\u00e9 \\u1ea1:\\n <show sp>\", \"query_knowledge_base\", \"['object_type:ghe_an', 'brand:newber']\", \"action_query_babe_kb\"], [\"b\\u00e9 bao tu\\u1ed5i th\\u00ec ng\\u1ed3i \\u0111\\u01b0\\u1ee3c \\u1ea1\", \"Gh\\u1ebf \\u0102n h\\u00e3ng s\\u1ea3n xu\\u1ea5t Newber c\\u00f3 \\u0111\\u1ed9 tu\\u1ed5i s\\u1eed d\\u1ee5ng 0-36 th\\u00e1ng \\nB\\u1ea1n tham kh\\u1ea3o s\\u1ea3n ph\\u1ea9m sau nh\\u00e9 \\u1ea1:\\n<show sp>\", \"query_knowledge_base\", \"['attribute:age_of_use']\", \"action_query_babe_kb\"], [\"https://scontent.xx.fbcdn.net/v/t1.15752-9/92131879_1387552388082877_713343700784119808_n.jpg?_nc_cat=104&_nc_sid=b96e70&_nc_ohc=kFnxhSTxRVAAX_9rX3-&_nc_ad=z-m&_nc_cid=0&_nc_zor=9&_nc_ht=scontent.xx&oh=40adffc887ec99df20f0b2a16bf88371&oe=5EB60C83\", \"B\\u1ea1n \\u0111ang t\\u00ecm ki\\u1ebfm th\\u00f4ng tin g\\u00ec \\u1ea1?\", \"send_link\", \"[\\\"url:['https://scontent.xx.fbcdn.net/v/t1.15752-9/92131879_1387552388082877_713343700784119808_n.jpg?_nc_cat=104&_nc_sid=b96e70&_nc_ohc=kFnxhSTxRVAAX_9rX3-&_nc_ad=z-m&_nc_cid=0&_nc_zor=9&_nc_ht=scontent.xx&oh=40adffc887ec99df20f0b2a16bf88371&oe=5EB60C83']\\\"]\", \"action_handle_send_link_only\"], [\"B\\u1ea3n cho b\\u00e9 2 tuoi bao nh \\u1ea1\", \"S\\u1ea3n ph\\u1ea9m B\\u1ea2NG V\\u1ebc HOLLA 2 in 1 hi\\u1ec7n shop \\u0111ang c\\u00f3 gi\\u00e1: *830,000 VND (gi\\u00e1 g\\u1ed1c 1,090,000 VND)*.\\r\\nB\\u1ea1n tham kh\\u1ea3o c\\u00e1c s\\u1ea3n ph\\u1ea9m sau nh\\u00e9 \\u1ea1:\", \"query_knowledge_base\", \"['age_of_use:2 tuoi', 'attribute:price']\", \"action_query_babe_kb\"], [\"ok shop\", \"D\\u1ea1,v\\u00e2ng\", \"agree\", null, \"utter_agree\"], [\"B\\u1ea1n \\u01a1i ship cho m\\u00ecnh 1 thanh ch\\u1eafn c\\u1eeda v\\u00e0 1 thanh n\\u1ed1i 12cm nh\\u00e9\", \"\\\"C\\u1ea3m \\u01a1n b\\u1ea1n! B\\u1ea1n vui l\\u00f2ng \\u0111i\\u1ec1n th\\u00f4ng tin v\\u00e0o M\\u1eabu \\u0111\\u1eb7t h\\u00e0ng gi\\u00fap shop nh\\u00e9!\\n<Show ra c\\u00e1i b\\u1ea3ng m\\u1eabu \\u0111\\u1eb7t h\\u00e0ng: c\\u00f3 t\\u00ean s\\u1ea3n ph\\u1ea9m, cho kh\\u00e1ch t\\u00f9y ch\\u1ecdn s\\u1ed1 l\\u01b0\\u1ee3ng, m\\u00e0u s\\u1eafc...>\\\"\\n<x\\u00e1c nh\\u1eadn> <h\\u1ee7y>\", \"query_knowledge_base\", \"['object_type:thanh_chan_cua','object_type:thanh_noi','attribute:ship'size:12cm]\", null], [null, \"B\\u1ea1n \\u0111\\u00e3 \\u0111\\u1eb7t h\\u00e0ng th\\u00e0nh c\\u00f4ng , \\u0111\\u01a1n h\\u00e0ng s\\u1ebd \\u0111c gioa \\u0111\\u1ebfn 434 TKC trong kho\\u1ea3ng 24 h \\u1ea1\", \"agree\", null, \"action_query_babe_kb\"], [\"b\\u1ea1n \\u01a1i\", \"Ch\\u00e0o b\\u1ea1n, m\\u00ecnh l\\u00e0 tr\\u1ee3 l\\u00fd \\u1ea3o c\\u1ee7a Shop G\\u1ea5u & B\\u00ed Ng\\u00f4, m\\u00ecnh gi\\u00fap g\\u00ec \\u0111\\u01b0\\u1ee3c b\\u1ea1n \\u1ea1?\", \"greet\", null, \"utter_greet\"], [\"shop \\u01a1i m\\u00ecnh c\\u1ea7n mua v\\u00e1y v\\u1eaft s\\u1eeda\\ns\\u01b0a\", \"Hi\\u1ec7n t\\u1ea1i s\\u1ea3n ph\\u1ea9m m\\u00e1y h\\u00fat s\\u1eefa shop \\u0111ang c\\u00f3 nh\\u1eefng gi\\u00e1 sau \\u1ea1:\\n<500-1M> <1M-2M> <T\\u1ea5t c\\u1ea3 gi\\u00e1>\", \"query_knowledge_base\", \"['object_type:may_hut_sua']\", \"action_query_babe_kb\"], [\"/query_knowledge_base{\\\"price\\\": \\\"1M - 2M\\\"}\\t\", \"M\\u1eddi b\\u1ea1n click v\\u00e0o \\\"Xem chi ti\\u1ebft\\\" \\u0111\\u1ec3 tham kh\\u1ea3o s\\u1ea3n ph\\u1ea9m hi\\u1ec7n c\\u00f3 t\\u1ea1i shop nh\\u00e9!\\r\\n<card sp 1> <card sp 2> <card sp 3>\", \"query_knowledge_base\", null, \"action_query_babe_kb\"], [\"Alo\", \"Ch\\u00e0o b\\u1ea1n, m\\u00ecnh l\\u00e0 tr\\u1ee3 l\\u00fd \\u1ea3o c\\u1ee7a Shop G\\u1ea5u & B\\u00ed Ng\\u00f4, m\\u00ecnh gi\\u00fap g\\u00ec \\u0111\\u01b0\\u1ee3c b\\u1ea1n \\u1ea1?\", \"greet\", null, \"utter_greet\"], [\"https://scontent.xx.fbcdn.net/v/t1.15752-9/93049506_230567204722153_3091303153677631488_n.jpg?_nc_cat=101&_nc_sid=b96e70&_nc_ohc=U5aAIvE1cnoAX-OQDkx&_nc_ad=z-m&_nc_cid=0&_nc_zor=9&_nc_ht=scontent.xx&oh=f0e42a84100aba274a52478c37af6d52&oe=5EB6C3EE\", \"B\\u1ea1n \\u0111ang t\\u00ecm ki\\u1ebfm th\\u00f4ng tin g\\u00ec \\u1ea1?\", \"send_link\", \"[\\\"url:['https://scontent.xx.fbcdn.net/v/t1.15752-9/93049506_230567204722153_3091303153677631488_n.jpg?_nc_cat=101&_nc_sid=b96e70&_nc_ohc=U5aAIvE1cnoAX-OQDkx&_nc_ad=z-m&_nc_cid=0&_nc_zor=9&_nc_ht=scontent.xx&oh=f0e42a84100aba274a52478c37af6d52&oe=5EB6C3EE']\\\"]\", \"action_handle_send_link_only\"], [\"\\u0110\\u0103ng shopee ch\\u01b0a\", \"M\\u1eddi b\\u1ea1n tham kh\\u1ea3o link shopee c\\u1ee7a s\\u1ea3n ph\\u1ea9m:\\n<show card sp>\", \"action_query_babe_kb\", \"['attribute:link']\", \"action_query_babe_kb\"], [\"Alo\", \"Ch\\u00e0o b\\u1ea1n, m\\u00ecnh l\\u00e0 tr\\u1ee3 l\\u00fd \\u1ea3o c\\u1ee7a Shop G\\u1ea5u & B\\u00ed Ng\\u00f4, m\\u00ecnh gi\\u00fap g\\u00ec \\u0111\\u01b0\\u1ee3c b\\u1ea1n \\u1ea1?\", \"greet\", null, \"utter_greet\"], [\"https://scontent.xx.fbcdn.net/v/t1.15752-9/93049506_230567204722153_3091303153677631488_n.jpg?_nc_cat=101&_nc_sid=b96e70&_nc_ohc=U5aAIvE1cnoAX-OQDkx&_nc_ad=z-m&_nc_cid=0&_nc_zor=9&_nc_ht=scontent.xx&oh=f0e42a84100aba274a52478c37af6d52&oe=5EB6C3EE\", null, \"send_link\", \"[\\\"url:['https://scontent.xx.fbcdn.net/v/t1.15752-9/93049506_230567204722153_3091303153677631488_n.jpg?_nc_cat=101&_nc_sid=b96e70&_nc_ohc=U5aAIvE1cnoAX-OQDkx&_nc_ad=z-m&_nc_cid=0&_nc_zor=9&_nc_ht=scontent.xx&oh=f0e42a84100aba274a52478c37af6d52&oe=5EB6C3EE']\\\"]\", \"action_handle_send_link_only\"], [\"\\u0110\\u0103ng shopee ch\\u01b0a\", \"S\\u1ea3n ph\\u1ea9m B\\u1ed9 \\u0111\\u1ed3 ch\\u01a1i nh\\u00e0 b\\u1ebfp th\\u00f4ng minh hi\\u1ec7n ch\\u01b0a c\\u00f3 link shopee \\u1ea1\", \"query_knowledge_base\", \"['attribute:link']\", \"action_query_babe_kb\"], [\"Bao gi\\u1edd \\u0111\\u0103ng l\\u00ean th\\u00ec th\\u00f4ng b\\u00e1o m\\u00ecnh nh\\u00e9 \\u0111\\u1ec3 m\\u00ecnh \\u0111\\u1eb7t h\\u00e0ng\", \"D\\u1ea1,v\\u00e2ng \\u1ea1\", \"query_knowledge_base\", null, \"action_query_babe_kb\"], [\"b \\u01a1i cho m\\u00ecnh h\\u1ecfi ch\\u00fat\\nb\\u00ean m\\u00ecnh c\\u00f3 qu\\u00e2y k k \\u1ea1\", \"S\\u1ea3n ph\\u1ea9m  Qu\\u00e2y  hi\\u1ec7n shop \\u0111ang c\\u00f3 gi\\u00e1: *1,440,000 VND (gi\\u00e1 g\\u1ed1c 1,490,000 VND), 1,040,000 VND (gi\\u00e1 g\\u1ed1c 1,290,000 VND), 1,340,000 VND (gi\\u00e1 g\\u1ed1c 1,390,000 VND)*.\\nB\\u1ea1n tham kh\\u1ea3o c\\u00e1c s\\u1ea3n ph\\u1ea9m sau nh\\u00e9 \\u1ea1:\", \"query_knowledge_base\", \"['object_type:quay']\", \"action_query_babe_kb\"], [\"m\\u1eabu n\\u00e0y kt bn h\\u1ea3 b\", \"M\\u00ecnh ch\\u01b0a x\\u00e1c \\u0111\\u1ecbnh \\u0111\\u01b0\\u1ee3c m\\u00f3n \\u0111\\u1ed3 b\\u1ea1n h\\u1ecfi, b\\u1ea1n m\\u00f4 t\\u1ea3 r\\u00f5 h\\u01a1n gi\\u00fap m\\u00ecnh nh\\u00e9!\", \"query_knowledge_base\", \"['mention:m\\u1eabu n\\u00e0y', 'attribute:size']\", \"action_query_babe_kb\"], [\"https://scontent.xx.fbcdn.net/v/t1.15752-9/92319989_243079400401587_6154261374332567552_n.jpg?_nc_cat=102&_nc_sid=b96e70&_nc_ohc=YkHJKwU8VpUAX-Gwl3X&_nc_ad=z-m&_nc_cid=0&_nc_zor=9&_nc_ht=scontent.xx&oh=80ff0124dbde1098c7a2bee69d87cac8&oe=5EB719F6\", \"S\\u1ea3n ph\\u1ea9m  COMBO HOLLA LI\\u00caN HO\\u00c0N 2020 hi\\u1ec7n shop \\u0111ang c\\u00f3 k\\u00edch th\\u01b0\\u1edbc: *1.8x2M*.\\nB\\u1ea1n tham kh\\u1ea3o s\\u1ea3n ph\\u1ea9m sau nh\\u00e9 \\u1ea1:\\n<show card sp>\", \"send_link\", \"[\\\"url:['https://scontent.xx.fbcdn.net/v/t1.15752-9/92319989_243079400401587_6154261374332567552_n.jpg?_nc_cat=102&_nc_sid=b96e70&_nc_ohc=YkHJKwU8VpUAX-Gwl3X&_nc_ad=z-m&_nc_cid=0&_nc_zor=9&_nc_ht=scontent.xx&oh=80ff0124dbde1098c7a2bee69d87cac8&oe=5EB719F6']\\\"]\", \"action_handle_send_link_only\"], [\"mai ship m\\u00ecnh b\\u1ed9 n\\u00e0y b nh\\u00e9\\n\", \"Cho shop xin th\\u00f4ng tin \\u1ea1 ( \\u0111\\u1ecba ch\\u1ec9 , s\\u1ed1 \\u0111i\\u1ec7n tho\\u1ea1i)\", \"query_knowledge_base\", \"['mention:b\\u1ed9 n\\u00e0y']\", \"action_query_babe_kb\"], [\"434 tr\\u1ea7n kh\\u00e1t ch\\u00e2n, hai b\\u00e0 tr\\u01b0ng\\ns\\u0111t:113\", \"Th\\u00f4ng tin \\u0111\\u01a1n h\\u00e0ng \\n( ng nh\\u1eadn: t\\u00ean fb, t\\u00ean s\\u1ea3n ph\\u1ea9m, s\\u1ed1 l\\u01b0\\u1ee3ng, thu\\u1ed9c t\\u00ednh, gi\\u00e1 tr\\u1ecb s\\u1ea3n ph\\u1ea9m , ph\\u00ed ship v\\u00e0 t\\u1ed5ng gi\\u00e1 tr\\u1ecb  \\u0111\\u01a1n h\\u00e0ng)\\n<x\\u00e1c nh\\u1eadn><h\\u1ee7y b\\u1ecf>\", \"query_knowledge_base\", null, \"action_query_babe_kb\"], [\"<x\\u00e1c nh\\u1eadn>\", \"C\\u00e1m \\u01a1n b\\u1ea1n \\u0111\\u00e3 mua h\\u00e0ng t\\u1ea1i shop, \\u0111\\u01a1n h\\u00e0ng s\\u1ebd \\u0111\\u01b0\\u1ee3c giao \\u0111\\u1ebfn 434 tr\\u1ea7n kh\\u00e1t ch\\u00e2n, 2 b\\u00e0 tr\\u01b0ng trong kho\\u1ea3ng 24 h \", \"agree\", null, null], [\"b\\u1ea1n \\u01a1i\", \"Ch\\u00e0o b\\u1ea1n, m\\u00ecnh l\\u00e0 tr\\u1ee3 l\\u00fd \\u1ea3o c\\u1ee7a Shop G\\u1ea5u & B\\u00ed Ng\\u00f4, m\\u00ecnh gi\\u00fap g\\u00ec \\u0111\\u01b0\\u1ee3c b\\u1ea1n \\u1ea1?\", \"greet\", null, \"utter_greet\"], [\"cho e h\\u1ecfi shop m\\u00ecnh c\\u00f2n gh\\u1ebf \\u0103n d\\u1eb7m lo\\u1ea1i n\\u00e0y k \\u1ea1\\nhttps://scontent.xx.fbcdn.net/v/t1.15752-9/92664877_857284874739536_7878532899333472256_n.png?_nc_cat=100&_nc_sid=b96e70&_nc_ohc=8hyz8A1A7kIAX8Zqi8Z&_nc_ad=z-m&_nc_cid=0&_nc_zor=9&_nc_ht=scontent.xx&oh=bbbcb24217efa1a016291a04e3c6a380&oe=5EB66428\", \"S\\u1ea3n ph\\u1ea9m  Gh\\u1ebf cao \\u0111a n\\u0103ng Mastela 1015  hi\\u1ec7n shop \\u0111ang c\\u00f3 gi\\u00e1: 1320000 VND (gi\\u00e1 g\\u1ed1c 2000000 VND).\\nB\\u1ea1n tham kh\\u1ea3o c\\u00e1c s\\u1ea3n ph\\u1ea9m sau nh\\u00e9 \\u1ea1:\\n<show sp>\", \"query_knowledge_base\", \"[\\\"url:['https://scontent.xx.fbcdn.net/v/t1.15752-9/92664877_857284874739536_7878532899333472256_n.png?_nc_cat=100&_nc_sid=b96e70&_nc_ohc=8hyz8A1A7kIAX8Zqi8Z&_nc_ad=z-m&_nc_cid=0&_nc_zor=9&_nc_ht=scontent.xx&oh=bbbcb24217efa1a016291a04e3c6a380&oe=5EB66428']\\\", 'object_type:ghe_an', 'mention:lo\\u1ea1i n\\u00e0y']\", \"action_query_babe_kb\"], [\"thank shop\", \"D\\u1ea1 v\\u00e2ng \\u1ea1.\", \"thank\", null, \"utter_thank\"], [\"Alo\\nhttps://scontent.xx.fbcdn.net/v/t1.15752-9/93277960_579821402741160_1239001299282821120_n.jpg?_nc_cat=100&_nc_sid=b96e70&_nc_ohc=d8OxiZOFC3UAX9Yvec0&_nc_ad=z-m&_nc_cid=0&_nc_zor=9&_nc_ht=scontent.xx&oh=6602df45fb9482936f8daa0e6f2fe356&oe=5EB6D3C7\", \"Ch\\u00e0o b\\u1ea1n, m\\u00ecnh l\\u00e0 tr\\u1ee3 l\\u00fd \\u1ea3o c\\u1ee7a Shop G\\u1ea5u & B\\u00ed Ng\\u00f4, m\\u00ecnh gi\\u00fap g\\u00ec \\u0111\\u01b0\\u1ee3c b\\u1ea1n \\u1ea1?\", \"greet\", \"[\\\"url:['https://scontent.xx.fbcdn.net/v/t1.15752-9/93277960_579821402741160_1239001299282821120_n.jpg?_nc_cat=100&_nc_sid=b96e70&_nc_ohc=d8OxiZOFC3UAX9Yvec0&_nc_ad=z-m&_nc_cid=0&_nc_zor=9&_nc_ht=scontent.xx&oh=6602df45fb9482936f8daa0e6f2fe356&oe=5EB6D3C7']\\\"]\", \"utter_greet\"], [\"Mua le dc k shop\", \"Qu\\u00e2y g\\u00f3c vu\\u00f4ng c\\u00e1nh nh\\u1ecf h\\u00ecnh ng\\u00f4i nh\\u00e0 toyhouse l\\u00e0 s\\u1ea3n ph\\u1ea9m b\\u00e1n l\\u1ebb hi\\u1ec7n \\u0111ang c\\u00f3 gi\\u00e1 1.090.000 - \\u20ab1.250.000\\n (gi\\u00e1 g\\u1ed1c 290.000 - \\u20ab1.390.000)\\nB\\u1ea1n tham kh\\u1ea3o c\\u00e1c s\\u1ea3n ph\\u1ea9m sau nh\\u00e9 \\u1ea1:\\n<show sp>\", \"query_knowledge_base\", \"[]\", \"action_query_babe_kb\"], [\"Ship Th\\u1ea1ch Bnaf, LB ph\\u00ed bnhieu b\", \"Ship th\\u1ea1ch b\\u00e0n , long bi\\u00ean trong n\\u1ed9i th\\u00e0nh h\\u00e0 n\\u1ed9i h\\u1ebft kho\\u1ea3ng 30-40 k \\u1ea1\", \"query_knowledge_base\", \"[]\", \"action_handover_to_inbox\"], [\"Shop cho e h\\u1ecfi b\\u1ed9 \\u0111\\u1ed3 ch\\u01a1i cho b\\u00e9 n\\u00e0y c\\u00f3 to ko \\u1ea1. B\\u00e9 \\u0111\\u1ee9ng v\\u1edbi t\\u1edbi ko \\u1ea1. Do nh\\u00ecn qua h\\u00ecnh n\\u00ean ko h\\u00ecnh dung dc k\\u00edch c\\u1ee1 th\\u1ebf n\\u00e0o\", \"M\\u00ecnh ch\\u01b0a x\\u00e1c \\u0111\\u1ecbnh \\u0111\\u01b0\\u1ee3c m\\u00f3n \\u0111\\u1ed3 b\\u1ea1n h\\u1ecfi, b\\u1ea1n m\\u00f4 t\\u1ea3 r\\u00f5 h\\u01a1n gi\\u00fap m\\u00ecnh nh\\u00e9!\", \"query_knowledge_base\", \"['attribute:size']\", \"action_query_babe_kb\"], [\"https://scontent.xx.fbcdn.net/v/t1.15752-9/92484517_1949098825215067_9094653464721489920_n.jpg?_nc_cat=107&_nc_sid=b96e70&_nc_ohc=vtrowuM_cxgAX9BfUVc&_nc_ad=z-m&_nc_cid=0&_nc_zor=9&_nc_ht=scontent.xx&oh=fb8bb0f890ad2e441ac229831652b030&oe=5EB3F743\", \"S\\u1ea3n ph\\u1ea9m  B\\u1ed9 \\u0111\\u1ed3 ch\\u01a1i nh\\u00e0 b\\u1ebfp th\\u00f4ng minh c\\u00f3 k\\u00edch th\\u01b0\\u1edbc: 57x30x77cm v\\u00e0 51x32x100cm\\nB\\u1ea1n tham kh\\u1ea3o c\\u00e1c s\\u1ea3n ph\\u1ea9m sau nh\\u00e9 \\u1ea1:\\n<Show card cu\\u1ed1i c\\u00f9ng>\", \"send_link\", \"[\\\"url:['https://scontent.xx.fbcdn.net/v/t1.15752-9/92484517_1949098825215067_9094653464721489920_n.jpg?_nc_cat=107&_nc_sid=b96e70&_nc_ohc=vtrowuM_cxgAX9BfUVc&_nc_ad=z-m&_nc_cid=0&_nc_zor=9&_nc_ht=scontent.xx&oh=fb8bb0f890ad2e441ac229831652b030&oe=5EB3F743']\\\"]\", \"action_handle_send_link_only\\n\"], [\"c\\u00e1m \\u01a1n shop\", null, \"thank\", null, \"utter_thank\"], [\"hello\", \"Ch\\u00e0o b\\u1ea1n, m\\u00ecnh l\\u00e0 tr\\u1ee3 l\\u00fd \\u1ea3o c\\u1ee7a Shop G\\u1ea5u & B\\u00ed Ng\\u00f4, m\\u00ecnh gi\\u00fap g\\u00ec \\u0111\\u01b0\\u1ee3c b\\u1ea1n \\u1ea1?\", \"greet\", null, \"utter_greet\"], [\"gh\\u1ebf \\u0103n d\\u1eb7m\", \"Hi\\u1ec7n t\\u1ea1i s\\u1ea3n ph\\u1ea9m Gh\\u1ebf \\u0102n  shop \\u0111ang c\\u00f3 nh\\u1eefng *gi\\u00e1* sau \\u1ea1:\", \"query_knowledge_base\", \"['object_type:ghe_an']\", \"action_query_babe_kb\"], [\"/confirm_attribute_value{\\\"price\\\": \\\"500k - 1M\\\"}\", \"D\\u1ea1 m\\u1eddi b\\u1ea1n tham kh\\u1ea3o c\\u00e1c lo\\u1ea1i s\\u1ea3n ph\\u1ea9m hi\\u1ec7n c\\u00f3 t\\u1ea1i shop nh\\u00e9!\", \"confirm_attribute_value\", \"['price:500k - 1M']\", \"action_query_babe_kb\"], [\"V\\u1eady xe scotter c\\u00f2n k \\u1ea1\\nLo\\u1ea1i c\\u00f3 \\u01b0 b\\u00e1nh trc \\u1ea1\", \"M\\u1eddi b\\u1ea1n tham kh\\u1ea3o c\\u00e1c Xe Scooter shop \\u0111ang c\\u00f3 \\u1ea1:\\n<Show card xe scooter>\", \"query_knowledge_base\", \"['object_type:xe', 'brand:scotter']\", \"action_query_babe_kb\"], [\"https://scontent.xx.fbcdn.net/v/t1.15752-9/92430207_618936155615605_8144463878298796032_n.jpg?_nc_cat=111&_nc_sid=b96e70&_nc_ohc=uE0sZhyAuPYAX9fUicW&_nc_ad=z-m&_nc_cid=0&_nc_zor=9&_nc_ht=scontent.xx&oh=3b3036f8632df7eedeffd0fc87e64692&oe=5EB2C515\", \"B\\u1ea1n \\u0111ang t\\u00ecm ki\\u1ebfm th\\u00f4ng tin g\\u00ec \\u1ea1?\", \"send_link\", \"[\\\"url:['https://scontent.xx.fbcdn.net/v/t1.15752-9/92430207_618936155615605_8144463878298796032_n.jpg?_nc_cat=111&_nc_sid=b96e70&_nc_ohc=uE0sZhyAuPYAX9fUicW&_nc_ad=z-m&_nc_cid=0&_nc_zor=9&_nc_ht=scontent.xx&oh=3b3036f8632df7eedeffd0fc87e64692&oe=5EB2C515']\\\"]\", \"action_handle_send_link_only\"], [\"Shop co b\\u00e1n goi nay kg \\u1ea1?\", \"S\\u1ea3n ph\\u1ea9m b\\u1ea1n v\\u1eeba g\\u1eedi shop kh\\u00f4ng c\\u00f3 h\\u00e0ng, hi\\u1ec7n t\\u1ea1i shop c\\u00f3 c\\u00e1c lo\\u1ea1i G\\u1ed1i sau:\\n<show random card 5 c\\u00e1i g\\u1ed1i>\", \"query_knowledge_base\", \"['object_type:goi', 'mention:nay']\", \"action_query_babe_kb\"], [\"shop \\u01a1i\", \"Ch\\u00e0o b\\u1ea1n, m\\u00ecnh l\\u00e0 tr\\u1ee3 l\\u00fd \\u1ea3o c\\u1ee7a Shop G\\u1ea5u & B\\u00ed Ng\\u00f4, m\\u00ecnh gi\\u00fap g\\u00ec \\u0111\\u01b0\\u1ee3c b\\u1ea1n \\u1ea1?\", \"greet\", null, \"utter_greet\"], [\"B\\u1ed9 n\\u00e0y bao nhi\\u00eau v\\u1eady b\\u1ea1n?\\nhttps://scontent.xx.fbcdn.net/v/t1.15752-9/92392502_563581274279413_911273699502456832_n.jpg?_nc_cat=101&_nc_sid=b96e70&_nc_ohc=LK2HVorNH4kAX-hOqZU&_nc_ad=z-m&_nc_cid=0&_nc_zor=9&_nc_ht=scontent.xx&oh=6d0970e4a27ab409c251778d49de4648&oe=5EB66188\", \"S\\u1ea3n ph\\u1ea9m  B\\u1ed9 \\u0111\\u1ed3 ch\\u01a1i nh\\u00e0 b\\u1ebfp th\\u00f4ng minh  hi\\u1ec7n shop \\u0111ang c\\u00f3 gi\\u00e1: 490.000 - 790.000\\nB\\u1ea1n tham kh\\u1ea3o c\\u00e1c s\\u1ea3n ph\\u1ea9m sau nh\\u00e9 \\u1ea1:\\n<Show card cu\\u1ed1i c\\u00f9ng>\", \"query_knowledge_base\", \"[\\\"url:['https://scontent.xx.fbcdn.net/v/t1.15752-9/92392502_563581274279413_911273699502456832_n.jpg?_nc_cat=101&_nc_sid=b96e70&_nc_ohc=LK2HVorNH4kAX-hOqZU&_nc_ad=z-m&_nc_cid=0&_nc_zor=9&_nc_ht=scontent.xx&oh=6d0970e4a27ab409c251778d49de4648&oe=5EB66188']\\\", 'mention:b\\u1ed9 n\\u00e0y', 'attribute:price']\", \"action_query_babe_kb\"], [\"ok, thank shop!\", \"Shop c\\u1ea3m \\u01a1n b\\u1ea1n \\u1ea1.\", \"thank\", null, \"utter_thank\"], [\"shop \\u01a1i\", \"Ch\\u00e0o b\\u1ea1n, m\\u00ecnh l\\u00e0 tr\\u1ee3 l\\u00fd \\u1ea3o c\\u1ee7a Shop G\\u1ea5u & B\\u00ed Ng\\u00f4, m\\u00ecnh gi\\u00fap g\\u00ec \\u0111\\u01b0\\u1ee3c b\\u1ea1n \\u1ea1?\", \"greet\", null, \"utter_greet\"], [\"B\\u1ed9 n\\u00e0y bao nhi\\u00eau v\\u1eady b\\u1ea1n?\\nhttps://scontent.xx.fbcdn.net/v/t1.15752-9/92392502_563581274279413_911273699502456832_n.jpg?_nc_cat=101&_nc_sid=b96e70&_nc_ohc=LK2HVorNH4kAX-hOqZU&_nc_ad=z-m&_nc_cid=0&_nc_zor=9&_nc_ht=scontent.xx&oh=6d0970e4a27ab409c251778d49de4648&oe=5EB66188\", \"S\\u1ea3n ph\\u1ea9m  B\\u1ed9 \\u0111\\u1ed3 ch\\u01a1i nh\\u00e0 b\\u1ebfp th\\u00f4ng minh  hi\\u1ec7n shop \\u0111ang c\\u00f3 gi\\u00e1: 490.000 - 790.000\\nB\\u1ea1n tham kh\\u1ea3o c\\u00e1c s\\u1ea3n ph\\u1ea9m sau nh\\u00e9 \\u1ea1:\\n<Show card cu\\u1ed1i c\\u00f9ng>\", \"query_knowledge_base\", \"[\\\"url:['https://scontent.xx.fbcdn.net/v/t1.15752-9/92392502_563581274279413_911273699502456832_n.jpg?_nc_cat=101&_nc_sid=b96e70&_nc_ohc=LK2HVorNH4kAX-hOqZU&_nc_ad=z-m&_nc_cid=0&_nc_zor=9&_nc_ht=scontent.xx&oh=6d0970e4a27ab409c251778d49de4648&oe=5EB66188']\\\", 'mention:b\\u1ed9 n\\u00e0y', 'attribute:price']\", \"action_query_babe_kb\"], [\"c\\u00e1i n\\u00e0y c\\u00f3 2 size \\u00e0 shop?\", \"S\\u1ea3n ph\\u1ea9m  B\\u1ed9 \\u0111\\u1ed3 ch\\u01a1i nh\\u00e0 b\\u1ebfp th\\u00f4ng minh c\\u00f3 k\\u00edch th\\u01b0\\u1edbc: 57x30x77cm v\\u00e0 51x32x100cm\\nB\\u1ea1n tham kh\\u1ea3o c\\u00e1c s\\u1ea3n ph\\u1ea9m sau nh\\u00e9 \\u1ea1:\\n<Show card cu\\u1ed1i c\\u00f9ng>\", \"query_knowledge_base\", \"['mention:c\\u00e1i n\\u00e0y', 'attribute:size']\", \"action_query_babe_kb\"], [\"ok shop\", \"V\\u00e2ng \\u1ea1!\", \"agree\", null, \"utter_agree\"], [\"shop \\u01a1i\", \"Ch\\u00e0o b\\u1ea1n, m\\u00ecnh l\\u00e0 tr\\u1ee3 l\\u00fd \\u1ea3o c\\u1ee7a Shop G\\u1ea5u & B\\u00ed Ng\\u00f4, m\\u00ecnh gi\\u00fap g\\u00ec \\u0111\\u01b0\\u1ee3c b\\u1ea1n \\u1ea1?\", \"greet\", null, \"utter_greet\"], [\"Ch\\u00e0o shop, shop c\\u00f2n m\\u1eabu gh\\u1ebf mastela m\\u00e0u ghi, m\\u00e3 7330 kh\\u00f4ng\\nGi\\u00e1 bao nhi\\u00eau\", \"S\\u1ea3n ph\\u1ea9m Gh\\u1ebf \\u0103n n\\u00e2ng h\\u1ea1 \\u0111\\u1ed9 cao nh\\u1ef1a Mastela 07330/07331 m\\u00e0u ghi hi\\u1ec7n \\u0111ang c\\u00f3 gi\\u00e1: 490.000 (Gi\\u00e1 g\\u1ed1c: 639.000).\\n<Show card>\", \"query_knowledge_base\", \"['object_type:ghe', 'brand:mastela', 'color:m\\u00e0u ghi', 'attribute:price', 'code:7330']\", \"action_query_babe_kb\"], [\"M\\u00ecnh c\\u1ea7n g\\u1ea5p, shop ship lu\\u00f4n cho m\\u00ecnh nh\\u00e9.\", \"C\\u1ea3m \\u01a1n b\\u1ea1n! B\\u1ea1n vui l\\u00f2ng \\u0111i\\u1ec1n th\\u00f4ng tin v\\u00e0o M\\u1eabu \\u0111\\u1eb7t h\\u00e0ng gi\\u00fap shop nh\\u00e9!\\n<Show ra c\\u00e1i b\\u1ea3ng m\\u1eabu \\u0111\\u1eb7t h\\u00e0ng: c\\u00f3 t\\u00ean s\\u1ea3n ph\\u1ea9m, cho kh\\u00e1ch t\\u00f9y ch\\u1ecdn s\\u1ed1 l\\u01b0\\u1ee3ng, m\\u00e0u s\\u1eafc...>\", \"make_order\", null, \"action_make_order\"], [\"https://scontent.xx.fbcdn.net/v/t1.15752-9/91106339_504681633742206_788347577962594304_n.jpg?_nc_cat=101&_nc_sid=b96e70&_nc_oc=AQkpdwlzm_mTmrlmOvdESGIDOUEFrWujbD-83rE4K6ox1kluGcnfS6n-PsbADXsmCzsphR9NWY-7rsS1btzeL5vr&_nc_ad=z-m&_nc_cid=0&_nc_zor=9&_nc_ht=scontent.xx&oh=911eee54169aeab013d04631dc885161&oe=5EA68BE0\", \"B\\u1ea1n \\u0111ang t\\u00ecm ki\\u1ebfm th\\u00f4ng tin g\\u00ec \\u1ea1?\", \"send_link\", \"[\\\"url:['https://scontent.xx.fbcdn.net/v/t1.15752-9/91106339_504681633742206_788347577962594304_n.jpg?_nc_cat=101&_nc_sid=b96e70&_nc_oc=AQkpdwlzm_mTmrlmOvdESGIDOUEFrWujbD-83rE4K6ox1kluGcnfS6n-PsbADXsmCzsphR9NWY-7rsS1btzeL5vr&_nc_ad=z-m&_nc_cid=0&_nc_zor=9&_nc_ht=scontent.xx&oh=911eee54169aeab013d04631dc885161&oe=5EA68BE0']\\\"]\", \"action_handle_send_link_only\"], [\"Bnhiu v shop\", \"D\\u1ea1, c\\u00f3 ph\\u1ea3i b\\u1ea1n mu\\u1ed1n h\\u1ecfi m\\u1ed9t trong c\\u00e1c s\\u1ea3n ph\\u1ea9m d\\u01b0\\u1edbi \\u0111\\u00e2y kh\\u00f4ng \\u1ea1?\\n (Vui l\\u00f2ng \\u1ea5n ch\\u1ecdn 1 s\\u1ea3n ph\\u1ea9m)\\n\\n<show 5 card s\\u1ea3n ph\\u1ea9m>\", \"query_knowledge_base\", \"['attribute:price']\", \"action_query_babe_kb\"], [\"C\\u00e1i th\\u1ee9 2\\n\", \"M\\u1eddi b\\u1ea1n tham kh\\u1ea3o s\\u1ea3n ph\\u1ea9m Voi Jumbo th\\u1ea3 h\\u00ecnh kh\\u1ed1i Bkids Infantino:\\n<show card>\", null, \"['mention:2']\", \"action_query_babe_kb\"], [\"ok shop\", \"D\\u1ea1 v\\u00e2ng \\u1ea1!\", \"agree\", null, \"utter_agree\"], [\"shop \\u01a1i\", \"Ch\\u00e0o b\\u1ea1n, m\\u00ecnh l\\u00e0 tr\\u1ee3 l\\u00fd \\u1ea3o c\\u1ee7a Shop G\\u1ea5u & B\\u00ed Ng\\u00f4, m\\u00ecnh gi\\u00fap g\\u00ec \\u0111\\u01b0\\u1ee3c b\\u1ea1n \\u1ea1?\", \"greet\", null, \"utter_greet\"], [\"https://scontent.xx.fbcdn.net/v/t1.15752-9/91195826_498480424370303_2420395967455952896_n.jpg?_nc_cat=106&_nc_sid=b96e70&_nc_ohc=xbapPlP7xmIAX_VXW-N&_nc_ad=z-m&_nc_cid=0&_nc_zor=9&_nc_ht=scontent.xx&oh=9659d65beb602c42382325bcb6359a57&oe=5EA77EEF\", \"B\\u1ea1n \\u0111ang t\\u00ecm ki\\u1ebfm th\\u00f4ng tin g\\u00ec \\u1ea1?\", \"send_link\", \"[\\\"url:['https://scontent.xx.fbcdn.net/v/t1.15752-9/91195826_498480424370303_2420395967455952896_n.jpg?_nc_cat=106&_nc_sid=b96e70&_nc_ohc=xbapPlP7xmIAX_VXW-N&_nc_ad=z-m&_nc_cid=0&_nc_zor=9&_nc_ht=scontent.xx&oh=9659d65beb602c42382325bcb6359a57&oe=5EA77EEF']\\\"]\", \"action_handle_send_link_only\"], [\"B c\\u00f3 s\\u1eb5n thanh ch\\u1eafn gi\\u01b0\\u1eddng n\\u00e0y ko?\", \"S\\u1ea3n ph\\u1ea9m Thanh ch\\u1eafn gi\\u01b0\\u1eddng cao c\\u1ea5p d\\u1ea1ng tr\\u01b0\\u1ee3t Umoo ch\\u00ednh h\\u00e3ng \\u0111ang c\\u00f3 gi\\u00e1: 500.000 (Gi\\u00e1 g\\u1ed1c: 610.000).\\nM\\u1eddi b\\u1ea1n xem s\\u1ea3n ph\\u1ea9m t\\u1ea1i link:\\n<Show card>\", \"query_knowledge_base\", \"['object_type:thanh_chan_giuong']\", \"action_query_babe_kb\"], [\"lo\\u1ea1i n\\u00e0y c\\u00f3 nh\\u1eefng k\\u00edch th\\u01b0\\u1edbc n\\u00e0o shop nh\\u1ec9?\", \"S\\u1ea3n ph\\u1ea9m Thanh ch\\u1eafn gi\\u01b0\\u1eddng cao c\\u1ea5p d\\u1ea1ng tr\\u01b0\\u1ee3t Umoo ch\\u00ednh h\\u00e3ng c\\u00f3 c\\u00e1c k\\u00edch th\\u01b0\\u1edbc: 1m6, 1m8, 2m, 2m2.\", \"query_knowledge_base\", \"['mention:lo\\u1ea1i n\\u00e0y', 'attribute:size']\", \"action_query_babe_kb\"], [\"ok shop, cho m\\u00ecnh \\u0111\\u1eb7t thanh lo\\u1ea1i 2m2 nh\\u00e9.\", \"C\\u1ea3m \\u01a1n b\\u1ea1n! B\\u1ea1n vui l\\u00f2ng \\u0111i\\u1ec1n th\\u00f4ng tin v\\u00e0o M\\u1eabu \\u0111\\u1eb7t h\\u00e0ng gi\\u00fap shop nh\\u00e9!\\n<Show ra c\\u00e1i b\\u1ea3ng m\\u1eabu \\u0111\\u1eb7t h\\u00e0ng: c\\u00f3 t\\u00ean s\\u1ea3n ph\\u1ea9m, cho kh\\u00e1ch t\\u00f9y ch\\u1ecdn s\\u1ed1 l\\u01b0\\u1ee3ng, m\\u00e0u s\\u1eafc...>\", \"make_order\", \"['size:lo\\u1ea1i 2m2']\", \"action_make_order\"], [\"hi shop\", \"Ch\\u00e0o b\\u1ea1n, m\\u00ecnh l\\u00e0 tr\\u1ee3 l\\u00fd \\u1ea3o c\\u1ee7a Shop G\\u1ea5u & B\\u00ed Ng\\u00f4, m\\u00ecnh gi\\u00fap g\\u00ec \\u0111\\u01b0\\u1ee3c b\\u1ea1n \\u1ea1?\", \"greet\", null, \"utter_greet\"], [\"ch\\u1ecb mu\\u1ed1n h\\u1ecfi gi\\u00e1 c\\u0169i v\\u1ea3i greco\\nv\\u00e0 jolie\", \"D\\u1ea1, s\\u1ea3n ph\\u1ea9m Giuong h\\u00e3ng s\\u1ea3n xu\\u1ea5t Jolie, ch\\u1ea5t li\\u1ec7u V\\u1ea3i b\\u00ean shop hi\\u1ec7n t\\u1ea1i kh\\u00f4ng c\\u00f3 \\u1ea1. B\\u1ea1n tham kh\\u1ea3o c\\u00e1c s\\u1ea3n ph\\u1ea9m kh\\u00e1c d\\u00e0nh cho b\\u00e9 nh\\u00e9!\", \"query_knowledge_base\", \"['attribute:price', 'object_type:giuong', 'material:v\\u1ea3i', 'brand:greco', 'brand:jolie']\", \"action_query_babe_kb\"], [\"/query_knowledge_base{\\\"brand\\\": \\\"Graco\\\"}\", \"Hi\\u1ec7n t\\u1ea1i s\\u1ea3n ph\\u1ea9m Giuong h\\u00e3ng s\\u1ea3n xu\\u1ea5t Graco shop \\u0111ang c\\u00f3 nh\\u1eefng *gi\\u00e1* sau \\u1ea1:\", \"query_knowledge_base\", \"['brand:Graco']\", \"action_query_babe_kb\"], [\"/query_knowledge_base{\\\"price\\\": \\\"2M - 5M\\\"}\", \"S\\u1ea3n ph\\u1ea9m  Giuong h\\u00e3ng s\\u1ea3n xu\\u1ea5t Graco, gi\\u00e1 2m - 5m hi\\u1ec7n shop \\u0111ang c\\u00f3 gi\\u00e1: *5,000,000 VND, 2,900,000 VND*.\\nB\\u1ea1n tham kh\\u1ea3o c\\u00e1c s\\u1ea3n ph\\u1ea9m sau nh\\u00e9 \\u1ea1:\", \"query_knowledge_base\", \"['price:2M - 5M']\", \"action_query_babe_kb\"], [\"2 c\\u00e1i kh\\u00e1c g\\u00ec nhau\", \"B\\u1ea1n c\\u00f3 th\\u1ec3 n\\u00f3i v\\u1edbi t\\u00f4i theo 1 c\\u00e1ch kh\\u00e1c \\u0111\\u01b0\\u1ee3c kh\\u00f4ng?\", \"handover_to_inbox\", \"[]\", \"utter_ask_rephrase\"], [\"Ch\\u00e0o shop\\nM\\u00ecnh quan t\\u00e2m t\\u1edbi c\\u00e1c sp n\\u00e0y\\nhttps://scontent.xx.fbcdn.net/v/t1.15752-9/91466198_244084896638357_7080438687661555712_n.jpg?_nc_cat=105&_nc_sid=b96e70&_nc_ohc=wyoTyMF_RSAAX9EbI1K&_nc_ad=z-m&_nc_cid=0&_nc_zor=9&_nc_ht=scontent.xx&oh=8d9617825e55509c74ce414b631e8d2e&oe=5EA469BA\\nhttps://scontent.xx.fbcdn.net/v/t1.15752-9/91129214_149488453070304_6848237731844194304_n.jpg?_nc_cat=104&_nc_sid=b96e70&_nc_ohc=tMwYM6FZaVgAX_t9wGA&_nc_ad=z-m&_nc_cid=0&_nc_zor=9&_nc_ht=scontent.xx&oh=c169a5f865873b3923ef31fb69aea543&oe=5EA66692\\nhttps://scontent.xx.fbcdn.net/v/t1.15752-9/91613067_640564659835802_8379030837110243328_n.jpg?_nc_cat=109&_nc_sid=b96e70&_nc_ohc=xYnCKgjShPcAX-8TQ54&_nc_ad=z-m&_nc_cid=0&_nc_zor=9&_nc_ht=scontent.xx&oh=7e1dcf9d72a2a4ba315f7a04a51fd287&oe=5EA4BE04\\nhttps://scontent.xx.fbcdn.net/v/t1.15752-9/91721715_152379149397342_2808027185510612992_n.jpg?_nc_cat=101&_nc_sid=b96e70&_nc_ohc=l2cBoqQ6R1cAX-2E99z&_nc_ad=z-m&_nc_cid=0&_nc_zor=9&_nc_ht=scontent.xx&oh=410bcc1db19f63270645d1e28ee6726e&oe=5EA7D330\\nB\\u1ea1n b\\u00e1o gi\\u00e1 nh\\u00e9\\nB\\u00e9 nh\\u00e0 m\\u00ecnh 2tu\\u1ed5i\", \"M\\u1eddi b\\u1ea1n tham kh\\u1ea3o c\\u00e1c s\\u1ea3n ph\\u1ea9m:\\n<Show 4 cards t\\u01b0\\u01a1ng \\u1ee9ng 4 s\\u1ea3n ph\\u1ea9m g\\u1eedi \\u1ea3nh>\\n<K\\u1ef3 v\\u1ecdng g\\u1eedi \\u0111i \\u0111c c\\u1ea3 4 \\u1ea3nh, CV \\u0111\\u1ecdc 4 \\u1ea3nh v\\u00e0 tr\\u1ea3 v\\u1ec1 chu\\u1ea9n 4 card>\", \"greet\\nquery_knowledge_base\", \"[\\\"url:['https://scontent.xx.fbcdn.net/v/t1.15752-9/91721715_152379149397342_2808027185510612992_n.jpg?_nc_cat=101&_nc_sid=b96e70&_nc_ohc=l2cBoqQ6R1cAX-2E99z&_nc_ad=z-m&_nc_cid=0&_nc_zor=9&_nc_ht=scontent.xx&oh=410bcc1db19f63270645d1e28ee6726e&oe=5EA7D330', 'https://scontent.xx.fbcdn.net/v/t1.15752-9/91129214_149488453070304_6848237731844194304_n.jpg?_nc_cat=104&_nc_sid=b96e70&_nc_ohc=tMwYM6FZaVgAX_t9wGA&_nc_ad=z-m&_nc_cid=0&_nc_zor=9&_nc_ht=scontent.xx&oh=c169a5f865873b3923ef31fb69aea543&oe=5EA66692', 'https://scontent.xx.fbcdn.net/v/t1.15752-9/91466198_244084896638357_7080438687661555712_n.jpg?_nc_cat=105&_nc_sid=b96e70&_nc_ohc=wyoTyMF_RSAAX9EbI1K&_nc_ad=z-m&_nc_cid=0&_nc_zor=9&_nc_ht=scontent.xx&oh=8d9617825e55509c74ce414b631e8d2e&oe=5EA469BA', 'https://scontent.xx.fbcdn.net/v/t1.15752-9/91613067_640564659835802_8379030837110243328_n.jpg?_nc_cat=109&_nc_sid=b96e70&_nc_ohc=xYnCKgjShPcAX-8TQ54&_nc_ad=z-m&_nc_cid=0&_nc_zor=9&_nc_ht=scontent.xx&oh=7e1dcf9d72a2a4ba315f7a04a51fd287&oe=5EA4BE04']\\\", 'size:https://scontent.xx.fbcdn.net/v/t1.15752-9/91613067_640564659835802_8379030837110243328_n.jpg?_nc_cat=109&_nc_sid=b96e70&_nc_ohc=xYnCKgjShPcAX-8TQ54&_nc_ad=z-m&_nc_cid=0&_nc_zor=9&_nc_ht=scontent.xx&oh=7e1dcf9d72a2a4ba315f7a04a51fd287&oe=5EA4BE04 https://scontent.xx.fbcdn.net/v/t1.15752-9/91721715_152379149397342_2808027185510612992_n.jpg?_nc_cat=101&_nc_sid=b96e70&_nc_ohc=l2cBoqQ6R1cAX-2E99z&_nc_ad=z-m&_nc_cid=0&_nc_zor=9&_nc_ht=scontent.xx&oh=410bcc1db19f63270645d1e28ee6726e&oe=5EA7D330', 'attribute:price']\", \"action_query_babe_kb\"], [\"https://scontent.xx.fbcdn.net/v/t1.15752-9/91116566_291171825206315_2457738113934426112_n.jpg?_nc_cat=111&_nc_sid=b96e70&_nc_oc=AQl0eJdwRKLYDOTb3-7GEEopWEg73tj53KuP5VxJRcvtdD9rcM6ZrFogw5sbRM9s7R-eYHilgr7XsDCjxJ5VauHq&_nc_ad=z-m&_nc_cid=0&_nc_zor=9&_nc_ht=scontent.xx&oh=21cbaa7a85cf4cbf2e946bbc78f7ca73&oe=5EA6F7BA\", \"B\\u1ea1n \\u0111ang t\\u00ecm ki\\u1ebfm th\\u00f4ng tin g\\u00ec \\u1ea1?\", \"send_link\", \"[\\\"url:['https://scontent.xx.fbcdn.net/v/t1.15752-9/91116566_291171825206315_2457738113934426112_n.jpg?_nc_cat=111&_nc_sid=b96e70&_nc_oc=AQl0eJdwRKLYDOTb3-7GEEopWEg73tj53KuP5VxJRcvtdD9rcM6ZrFogw5sbRM9s7R-eYHilgr7XsDCjxJ5VauHq&_nc_ad=z-m&_nc_cid=0&_nc_zor=9&_nc_ht=scontent.xx&oh=21cbaa7a85cf4cbf2e946bbc78f7ca73&oe=5EA6F7BA']\\\", 'brand:https://scontent.xx.fbcdn.net/v/t1.15752-9/91116566_291171825206315_2457738113934426112_n.jpg?_nc_cat=111&_nc_sid=b96e70&_nc_oc=AQl0eJdwRKLYDOTb3-7GEEopWEg73tj53KuP5VxJRcvtdD9rcM6ZrFogw5sbRM9s7R-eYHilgr7XsDCjxJ5VauHq&_nc_ad=z-m&_nc_cid=0&_nc_zor=9&_nc_ht=scontent.xx&oh=21cbaa7a85cf4cbf2e946bbc78f7ca73&oe=5EA6F7BA']\", \"action_handle_send_link_only\"], [\"Shop c\\u00f2n b\\u1ed9 n\\u00e0y k \\u1ea1\", \"D\\u1ea1 m\\u1eddi b\\u1ea1n tham kh\\u1ea3o s\\u1ea3n ph\\u1ea9m hi\\u1ec7n c\\u00f3 t\\u1ea1i shop nh\\u00e9!\\r\\n<Show card B\\u1ec3 d\\u1ef1ng th\\u00e0nh cao Doctor Dolphin>\", \"query_knowledge_base\", \"['mention:b\\u1ed9 n\\u00e0y']\", \"action_query_babe_kb\"], [\"<\\u0110\\u1eb7t h\\u00e0ng>\\n(tr\\u00ean card cu\\u1ed1i show th\\u00eam n\\u00fat \\u0111\\u1eb7t h\\u00e0ng)\", \"C\\u1ea3m \\u01a1n b\\u1ea1n! B\\u1ea1n vui l\\u00f2ng \\u0111i\\u1ec1n th\\u00f4ng tin v\\u00e0o M\\u1eabu \\u0111\\u1eb7t h\\u00e0ng gi\\u00fap shop nh\\u00e9!\\n<Show ra c\\u00e1i b\\u1ea3ng m\\u1eabu \\u0111\\u1eb7t h\\u00e0ng: c\\u00f3 t\\u00ean s\\u1ea3n ph\\u1ea9m, cho kh\\u00e1ch t\\u00f9y ch\\u1ecdn s\\u1ed1 l\\u01b0\\u1ee3ng, m\\u00e0u s\\u1eafc...>\", \"make_order\", null, \"action_make_order\"], [\"alo shop \\u01a1i\", \"Ch\\u00e0o b\\u1ea1n, m\\u00ecnh l\\u00e0 ...\", \"greet\", \"[]\", \"utter_greet\"], [\"https://www.facebook.com/shopgauvabingo/photos/pcb.2425056854471305/2425056784471312/?type=3&theater\\ncon xe n\\u00e0y gi\\u00e1 bn \\u00e0 shop\", \"D\\u1ea1, c\\u00f3 ph\\u1ea3i b\\u1ea1n mu\\u1ed1n h\\u1ecfi m\\u1ed9t trong c\\u00e1c s\\u1ea3n ph\\u1ea9m d\\u01b0\\u1edbi \\u0111\\u00e2y kh\\u00f4ng \\u1ea1?\\n (Vui l\\u00f2ng \\u1ea5n ch\\u1ecdn 1 s\\u1ea3n ph\\u1ea9m)\\n<Show 5 cards s\\u1ea3n ph\\u1ea9m>\", \"send_link\", \"[\\\"url:['https://www.facebook.com/shopgauvabingo/photos/pcb.2425056854471305/2425056784471312/?type=3&theater']\\\", 'mention:n\\u00e0y', 'attribute:price']\", \"action_handle_send_link_only\"], [\"/query_knowledge_base{\\\"url\\\": \\\"https://shopee.vn/product/36371562/3103025341\\\", \\\"product_id\\\": \\\"https://shopee.vn/product/36371562/3103025341\\\"}\", \"S\\u1ea3n ph\\u1ea9m  Xe NADLE 3 in 1: Xe \\u0111\\u1ea9y - Ch\\u00f2i ch\\u00e2n - Xe \\u0111\\u1ea1p  hi\\u1ec7n shop \\u0111ang c\\u00f3 gi\\u00e1: 2,650,000 VND (gi\\u00e1 g\\u1ed1c 2,650,000 VND), 2,450,000 VND (gi\\u00e1 g\\u1ed1c 2,450,000 VND), 1,550,000 VND (gi\\u00e1 g\\u1ed1c 2,650,000 VND).\\nB\\u1ea1n tham kh\\u1ea3o c\\u00e1c s\\u1ea3n ph\\u1ea9m sau nh\\u00e9 \\u1ea1:\\n<Show card cu\\u1ed1i c\\u00f9ng>\", \"query_knowledge_base\", \"['url:https://shopee.vn/product/36371562/3103025341', 'product_id:https://shopee.vn/product/36371562/3103025341']\", \"action_query_babe_kb\"], [\"Ok, thank shop\", \"C\\u1ea3m \\u01a1n b\\u1ea1n!\", \"thank\", null, \"utter_thank\"], [\"alo shop \\u01a1i\", \"Ch\\u00e0o b\\u1ea1n, m\\u00ecnh l\\u00e0 tr\\u1ee3 l\\u00fd \\u1ea3o c\\u1ee7a Shop G\\u1ea5u & B\\u00ed Ng\\u00f4, m\\u00ecnh gi\\u00fap g\\u00ec \\u0111\\u01b0\\u1ee3c b\\u1ea1n \\u1ea1?\", \"greet\", null, \"utter_greet\"], [\"https://www.facebook.com/shopgauvabingo/photos/pcb.2425056854471305/2425056784471312/?type=3&theater\\ncon xe n\\u00e0y gi\\u00e1 bn \\u00e0 shop\", \"D\\u1ea1, c\\u00f3 ph\\u1ea3i b\\u1ea1n mu\\u1ed1n h\\u1ecfi m\\u1ed9t trong c\\u00e1c s\\u1ea3n ph\\u1ea9m d\\u01b0\\u1edbi \\u0111\\u00e2y kh\\u00f4ng \\u1ea1?\\n (Vui l\\u00f2ng \\u1ea5n ch\\u1ecdn 1 s\\u1ea3n ph\\u1ea9m)\\n<Show 5 cards s\\u1ea3n ph\\u1ea9m>\", \"query_knowledge_base\", \"[\\\"url:['https://www.facebook.com/shopgauvabingo/photos/pcb.2425056854471305/2425056784471312/?type=3&theater']\\\", 'object_type:xe', 'mention:n\\u00e0y', 'attribute:price']\", \"action_query_babe_kb\"], [\"/query_knowledge_base{\\\"url\\\": \\\"https://shopee.vn/product/36371562/3103025341\\\", \\\"product_id\\\": \\\"https://shopee.vn/product/36371562/3103025341\\\"}\", \"S\\u1ea3n ph\\u1ea9m  Xe NADLE 3 in 1: Xe \\u0111\\u1ea9y - Ch\\u00f2i ch\\u00e2n - Xe \\u0111\\u1ea1p  hi\\u1ec7n shop \\u0111ang c\\u00f3 gi\\u00e1: 2,650,000 VND (gi\\u00e1 g\\u1ed1c 2,650,000 VND), 2,450,000 VND (gi\\u00e1 g\\u1ed1c 2,450,000 VND), 1,550,000 VND (gi\\u00e1 g\\u1ed1c 2,650,000 VND).\\nB\\u1ea1n tham kh\\u1ea3o c\\u00e1c s\\u1ea3n ph\\u1ea9m sau nh\\u00e9 \\u1ea1:\\n<Show card cu\\u1ed1i c\\u00f9ng>\", \"query_knowledge_base\", \"['url:https://shopee.vn/product/36371562/3103025341', 'product_id:https://shopee.vn/product/36371562/3103025341']\", \"action_query_babe_kb\"], [\"c\\u00f2n m\\u00e0u g\\u00ec h\\u1ea3 b\\u1ea1n?\", \"S\\u1ea3n ph\\u1ea9m  Xe NADLE 3 in 1: Xe \\u0111\\u1ea9y - Ch\\u00f2i ch\\u00e2n - Xe \\u0111\\u1ea1p  hi\\u1ec7n shop \\u0111ang c\\u00f3 c\\u00e1c m\\u00e0u sau: Xanh (c\\u00f3 \\u0111ai), \\u0110\\u1ecf (c\\u00f3 \\u0111ai), \\u0110\\u1ecf (kh\\u00f4ng \\u0111ai)\", \"query_knowledge_base\", \"['attribute:color']\", \"action_query_babe_kb\"], [\"ok shop\", \"D\\u1ea1!\", \"agree\", null, \"utter_agree\"], [\"Shop \\u01a1i\\nhttps://scontent.xx.fbcdn.net/v/t1.15752-9/89773808_692489661490146_5339680591392538624_n.jpg?_nc_cat=105&_nc_sid=b96e70&_nc_ohc=ZvqAmbeNCDcAX_ojWSp&_nc_ad=z-m&_nc_cid=0&_nc_zor=9&_nc_ht=scontent.xx&oh=f259ba91474851457d3947e495079101&oe=5EA5D0E8\\nhttps://scontent.xx.fbcdn.net/v/t1.15752-9/91067797_2528355717402046_3331051973351833600_n.jpg?_nc_cat=100&_nc_sid=b96e70&_nc_ohc=q0UUsoAg19UAX8qVHO-&_nc_ad=z-m&_nc_cid=0&_nc_zor=9&_nc_ht=scontent.xx&oh=4206a21e474b26453ff9330e40fc62f0&oe=5EA7AD1A\\nhttps://scontent.xx.fbcdn.net/v/t1.15752-9/90954742_227239561665156_4442812104826683392_n.jpg?_nc_cat=100&_nc_sid=b96e70&_nc_ohc=vWH8Zqo-URUAX_HgG9r&_nc_ad=z-m&_nc_cid=0&_nc_zor=9&_nc_ht=scontent.xx&oh=e190cba193ba23452c3183773cd05f43&oe=5EA50846\", \"B\\u1ea1n \\u0111ang t\\u00ecm ki\\u1ebfm th\\u00f4ng tin g\\u00ec \\u1ea1?\", \"send_link\", \"[\\\"url:['https://scontent.xx.fbcdn.net/v/t1.15752-9/89773808_692489661490146_5339680591392538624_n.jpg?_nc_cat=105&_nc_sid=b96e70&_nc_ohc=ZvqAmbeNCDcAX_ojWSp&_nc_ad=z-m&_nc_cid=0&_nc_zor=9&_nc_ht=scontent.xx&oh=f259ba91474851457d3947e495079101&oe=5EA5D0E8', 'https://scontent.xx.fbcdn.net/v/t1.15752-9/90954742_227239561665156_4442812104826683392_n.jpg?_nc_cat=100&_nc_sid=b96e70&_nc_ohc=vWH8Zqo-URUAX_HgG9r&_nc_ad=z-m&_nc_cid=0&_nc_zor=9&_nc_ht=scontent.xx&oh=e190cba193ba23452c3183773cd05f43&oe=5EA50846', 'https://scontent.xx.fbcdn.net/v/t1.15752-9/91067797_2528355717402046_3331051973351833600_n.jpg?_nc_cat=100&_nc_sid=b96e70&_nc_ohc=q0UUsoAg19UAX8qVHO-&_nc_ad=z-m&_nc_cid=0&_nc_zor=9&_nc_ht=scontent.xx&oh=4206a21e474b26453ff9330e40fc62f0&oe=5EA7AD1A']\\\"]\", \"action_handle_send_link_only\"], [\"Shop c\\u00f2n c\\u1ea7u tr\\u01b0owtn n\\u00e0y k \\u1ea1\", \"S\\u1ea3n ph\\u1ea9m b\\u1ea1n \\u0111ang t\\u00ecm c\\u00f3 ph\\u1ea3i l\\u00e0?\", \"query_knowledge_base\", \"['object_type:c\\u1ea7u tr\\u01b0owtn']\", \"action_query_babe_kb\"], [\"/agree{\\\"object_type\\\": \\\"cau_truot\\\"}\", \"D\\u1ea1, s\\u1ea3n ph\\u1ea9m C\\u1ea7u Tr\\u01b0\\u1ee3t  b\\u00ean shop hi\\u1ec7n t\\u1ea1i kh\\u00f4ng c\\u00f3 \\u1ea1. B\\u1ea1n tham kh\\u1ea3o c\\u00e1c s\\u1ea3n ph\\u1ea9m kh\\u00e1c d\\u00e0nh cho b\\u00e9 nh\\u00e9!\", \"agree\", \"['object_type:cau_truot']\", \"action_query_babe_kb\"], [\"shop \\u01a1i\", \"Ch\\u00e0o b\\u1ea1n, m\\u00ecnh l\\u00e0 tr\\u1ee3 l\\u00fd \\u1ea3o c\\u1ee7a Shop G\\u1ea5u & B\\u00ed Ng\\u00f4, m\\u00ecnh gi\\u00fap g\\u00ec \\u0111\\u01b0\\u1ee3c b\\u1ea1n \\u1ea1?\", \"greet\", \"[]\", \"utter_greet\"], [\"M\\u00ecnh mu\\u1ed1n mua b\\u1ed9 c\\u1ea7u tr\\u01b0\\u1ee3t\\nGi\\u00e1 tn b\", \"D\\u1ea1, s\\u1ea3n ph\\u1ea9m C\\u1ea7u Tr\\u01b0\\u1ee3t hi\\u1ec7n t\\u1ea1i b\\u00ean shop \\u0111ang t\\u1ea1m h\\u1ebft h\\u00e0ng \\u1ea1. B\\u1ea1n tham kh\\u1ea3o c\\u00e1c s\\u1ea3n ph\\u1ea9m kh\\u00e1c d\\u00e0nh cho b\\u00e9 nh\\u00e9!\", \"query_knowledge_base\", \"['object_type:cau_truot', 'attribute:price']\", \"action_query_babe_kb\"], [\"Thank b\", \"- C\\u1ea3m \\u01a1n b\\u1ea1n. Ch\\u00fac b\\u1ea1n m\\u1ed9t ng\\u00e0y vui v\\u1ebb.\", \"thank\", \"[]\", \"utter_thank\"], [\"shop \\u01a1i\", \"C\\u1ea3m \\u01a1n b\\u1ea1n!\", \"greet\", \"[]\", \"utter_greet\"], [\"Nh\\u00e0 m\\u00ecnh c\\u00f3 b\\u00e1n c\\u1ea7u tr\\u01b0\\u1ee3t ri\\u00eang k ah\", \"C\\u1ea7u tr\\u01b0\\u1ee3t l\\u00e0 s\\u1ea3n ph\\u1ea9m b\\u00e1n l\\u1ebb hi\\u1ec7n \\u0111ang c\\u00f3 gi\\u00e1 1.090.000 - \\u20ab1.250.000\\n (gi\\u00e1 g\\u1ed1c 290.000 - \\u20ab1.390.000)\\nB\\u1ea1n tham kh\\u1ea3o c\\u00e1c s\\u1ea3n ph\\u1ea9m sau nh\\u00e9 \\u1ea1:\\n<show sp>\", \"query_knowledge_base\", \"['object_type:cau_truot']\", \"action_query_babe_kb\"], [\"alo shop \\u01a1i\", \"Ch\\u00e0o b\\u1ea1n, m\\u00ecnh l\\u00e0 tr\\u1ee3 l\\u00fd \\u1ea3o c\\u1ee7a Shop G\\u1ea5u & B\\u00ed Ng\\u00f4, m\\u00ecnh gi\\u00fap g\\u00ec \\u0111\\u01b0\\u1ee3c b\\u1ea1n \\u1ea1?\", \"greet\", \"[]\", \"utter_greet\"], [\"https://scontent.xx.fbcdn.net/v/t1.15752-9/91593775_635925830596165_5565507927411785728_n.jpg?_nc_cat=104&_nc_sid=b96e70&_nc_ohc=wC7vTKnHo0cAX8Dg2Lo&_nc_ad=z-m&_nc_cid=0&_nc_zor=9&_nc_ht=scontent.xx&oh=910f7a202b2c19c7f15ec65edad7e0c4&oe=5EA4F642\", \"B\\u1ea1n \\u0111ang t\\u00ecm ki\\u1ebfm th\\u00f4ng tin g\\u00ec \\u1ea1?\", \"send_link\", \"[\\\"url:['https://scontent.xx.fbcdn.net/v/t1.15752-9/91593775_635925830596165_5565507927411785728_n.jpg?_nc_cat=104&_nc_sid=b96e70&_nc_ohc=wC7vTKnHo0cAX8Dg2Lo&_nc_ad=z-m&_nc_cid=0&_nc_zor=9&_nc_ht=scontent.xx&oh=910f7a202b2c19c7f15ec65edad7e0c4&oe=5EA4F642']\\\"]\", \"action_handle_send_link_only\"], [\"l\\u1ec1u c\\u00f2n ko shop\\ngi\\u00e1 bn\\nc\\u00f2n b\\u00f3ng bn\", \"L\\u1ec1u hi\\u1ec7n \\u0111ang c\\u00f3 gi\\u00e1 1.090.000 - \\u20ab1.250.000\\n (gi\\u00e1 g\\u1ed1c 290.000 - \\u20ab1.390.000)\\nB\\u1ea1n tham kh\\u1ea3o c\\u00e1c s\\u1ea3n ph\\u1ea9m sau nh\\u00e9 \\u1ea1:\\n<show sp>\\nB\\u00f3ng hi\\u1ec7n shop \\u0111\\u00e1ng c\\u00f3 c\\u00e1c s\\u1ea3n ph\\u1ea9m sau m\\u1eddi b\\u1ea1n tham khao\\n<show sp>\", \"query_knowledge_base\", \"['attribute:price']\", \"action_query_babe_kb\"], [\"alo shop \\u01a1i\", \"Ch\\u00e0o b\\u1ea1n, m\\u00ecnh l\\u00e0 tr\\u1ee3 l\\u00fd \\u1ea3o c\\u1ee7a Shop G\\u1ea5u & B\\u00ed Ng\\u00f4, m\\u00ecnh gi\\u00fap g\\u00ec \\u0111\\u01b0\\u1ee3c b\\u1ea1n \\u1ea1?\", \"greet\", null, \"utter_greet\"], [\"https://scontent.xx.fbcdn.net/v/t1.15752-9/90589519_223989032035055_1808774924945326080_n.jpg?_nc_cat=101&_nc_sid=b96e70&_nc_ohc=CaDCGgBG1rEAX97Uw9s&_nc_ad=z-m&_nc_cid=0&_nc_zor=9&_nc_ht=scontent.xx&oh=9dfd4d8d9027dbf47a7e14e2cf5f510d&oe=5EA4D570\", \"B\\u1ea1n \\u0111ang t\\u00ecm ki\\u1ebfm th\\u00f4ng tin g\\u00ec \\u1ea1?\", \"send_link\", \"[\\\"url:['https://scontent.xx.fbcdn.net/v/t1.15752-9/90589519_223989032035055_1808774924945326080_n.jpg?_nc_cat=101&_nc_sid=b96e70&_nc_ohc=CaDCGgBG1rEAX97Uw9s&_nc_ad=z-m&_nc_cid=0&_nc_zor=9&_nc_ht=scontent.xx&oh=9dfd4d8d9027dbf47a7e14e2cf5f510d&oe=5EA4D570']\\\"]\", \"action_handle_send_link_only\"], [\"M\\u00ecnh mua s\\u1ea3n ph\\u1ea9m n\\u00e0y nha\\nGi\\u00e1 sao\", \"S\\u1ea3n ph\\u1ea9m D\\u00e0n \\u00e2m thanh \\u0111\\u1ed9ng v\\u1eadt c\\u00f3 \\u0111\\u00e8n nh\\u1ea1c Infantino \\u0111ang c\\u00f3 gi\\u00e1 129.000 (gi\\u00e1 g\\u1ed1c: 180.000).\\n<Show card>\", \"query_knowledge_base\", \"['mention:s\\u1ea3n ph\\u1ea9m n\\u00e0y', 'attribute:price']\", \"action_query_babe_kb\"], [\"alo shop \\u01a1i\", \"Ch\\u00e0o b\\u1ea1n, m\\u00ecnh l\\u00e0 tr\\u1ee3 l\\u00fd \\u1ea3o c\\u1ee7a Shop G\\u1ea5u & B\\u00ed Ng\\u00f4, m\\u00ecnh gi\\u00fap g\\u00ec \\u0111\\u01b0\\u1ee3c b\\u1ea1n \\u1ea1?\", \"greet\", null, \"utter_greet\"], [\"B\\u00e1o gi\\u00e1 m\\u00ecnh qu\\u00e2y th\\u1ea3m v\\u1edbi\", \"S\\u1ea3n ph\\u1ea9m  Qu\\u00e2y g\\u00f3c vu\\u00f4ng c\\u00e1nh nh\\u1ecf h\\u00ecnh ng\\u00f4i nh\\u00e0 ch\\u1ea5t li\\u1ec7u Nh\\u1ef1a hi\\u1ec7n shop \\u0111ang c\\u00f3 gi\\u00e1: 1,040,000 VND (gi\\u00e1 g\\u1ed1c 1,290,000 VND), 1,340,000 VND (gi\\u00e1 g\\u1ed1c 1,390,000 VND), 1,440,000 VND (gi\\u00e1 g\\u1ed1c 1,490,000 VND).\\nB\\u1ea1n tham kh\\u1ea3o c\\u00e1c s\\u1ea3n ph\\u1ea9m sau nh\\u00e9 \\u1ea1:\\n<Show card>\", \"query_knowledge_base\", \"['attribute:price', 'object_type:quay', 'object_type:tham']\", \"action_query_babe_kb\"], [\"C\\u00e1i n\\u00e0y c\\u00f3 k\\u00e8m th\\u1ea3m v\\u00e0 b\\u00f3ng ko b\\u1ea1n\", \"S\\u1ea3n ph\\u1ea9m  Qu\\u00e2y g\\u00f3c vu\\u00f4ng c\\u00e1nh nh\\u1ecf h\\u00ecnh ng\\u00f4i nh\\u00e0 ch\\u1ea5t li\\u1ec7u Nh\\u1ef1a kh\\u00f4ng c\\u00f3 ph\\u1ee5 ki\\u1ec7n \\u0111i k\\u00e8m\\nB\\u1ea1n tham kh\\u1ea3o c\\u00e1c s\\u1ea3n ph\\u1ea9m sau nh\\u00e9 \\u1ea1:\\r\\n<Show card>\", \"query_knowledge_base\", \"['mention:c\\u00e1i n\\u00e0y', 'object_type:tham','object_type:bong']\", \"action_query_babe_kb\"], [\"shop \\u01a1i\", \"Ch\\u00e0o b\\u1ea1n, m\\u00ecnh l\\u00e0 tr\\u1ee3 l\\u00fd \\u1ea3o c\\u1ee7a Shop G\\u1ea5u & B\\u00ed Ng\\u00f4, m\\u00ecnh gi\\u00fap g\\u00ec \\u0111\\u01b0\\u1ee3c b\\u1ea1n \\u1ea1?\", \"greet\", null, \"utter_greet\"], [\"minh mu\\u1ed1n t\\u00ecm qu\\u00e2y c\\u0169i nh\\u1ef1a\", \"D\\u1ea1, s\\u1ea3n ph\\u1ea9m Qu\\u00e2y ch\\u1ea5t li\\u1ec7u nh\\u1ef1a b\\u00ean shop hi\\u1ec7n t\\u1ea1i kh\\u00f4ng c\\u00f3 \\u1ea1. B\\u1ea1n tham kh\\u1ea3o c\\u00e1c s\\u1ea3n ph\\u1ea9m kh\\u00e1c d\\u00e0nh cho b\\u00e9 nh\\u00e9!\", \"query_knowledge_base\", \"['object_type:quay', 'material:nh\\u1ef1a']\", \"action_query_babe_kb\"], [\"ok shop\", \"V\\u00e2ng \\u1ea1!\", \"agree\", null, \"utter_agree\"], [\"shop \\u01a1i\", \"Ch\\u00e0o b\\u1ea1n, m\\u00ecnh l\\u00e0 tr\\u1ee3 l\\u00fd \\u1ea3o c\\u1ee7a Shop G\\u1ea5u & B\\u00ed Ng\\u00f4, m\\u00ecnh gi\\u00fap g\\u00ec \\u0111\\u01b0\\u1ee3c b\\u1ea1n \\u1ea1?\", \"greet\", null, \"utter_greet\"], [\"minh mu\\u1ed1n t\\u00ecm qu\\u00e2y c\\u0169i nh\\u1ef1a\", \"S\\u1ea3n ph\\u1ea9m  Qu\\u00e2y g\\u00f3c vu\\u00f4ng c\\u00e1nh nh\\u1ecf h\\u00ecnh ng\\u00f4i nh\\u00e0 ch\\u1ea5t li\\u1ec7u Nh\\u1ef1a hi\\u1ec7n shop \\u0111ang c\\u00f3 gi\\u00e1: 1,040,000 VND (gi\\u00e1 g\\u1ed1c 1,290,000 VND), 1,340,000 VND (gi\\u00e1 g\\u1ed1c 1,390,000 VND), 1,440,000 VND (gi\\u00e1 g\\u1ed1c 1,490,000 VND).\\nB\\u1ea1n tham kh\\u1ea3o c\\u00e1c s\\u1ea3n ph\\u1ea9m sau nh\\u00e9 \\u1ea1:\\n<Show card>\", \"query_knowledge_base\", \"['object_type:quay', 'material:nh\\u1ef1a']\", \"action_query_babe_kb\"], [\"h\\u00e0ng c\\u00f3 s\\u1eb5n k shop?\", \"S\\u1ea3n ph\\u1ea9m Qu\\u00e2y g\\u00f3c vu\\u00f4ng c\\u00e1nh nh\\u1ecf h\\u00ecnh ng\\u00f4i nh\\u00e0 hi\\u1ec7n shop \\u0111ang c\\u00f2n h\\u00e0ng \\u1ea1!\", \"query_knowledge_base\", \"['availability:c\\u00f3 s\\u1eb5n']\", \"action_query_babe_kb\"], [\"ok, cho m\\u00ecnh \\u0111\\u1eb7t c\\u00e1i \\u0111\\u1ea5y nh\\u00e9\", \"C\\u1ea3m \\u01a1n b\\u1ea1n! B\\u1ea1n vui l\\u00f2ng \\u0111i\\u1ec1n th\\u00f4ng tin v\\u00e0o M\\u1eabu \\u0111\\u1eb7t h\\u00e0ng gi\\u00fap shop nh\\u00e9!\\n<Show ra c\\u00e1i b\\u1ea3ng m\\u1eabu \\u0111\\u1eb7t h\\u00e0ng: c\\u00f3 t\\u00ean s\\u1ea3n ph\\u1ea9m, cho kh\\u00e1ch t\\u00f9y ch\\u1ecdn s\\u1ed1 l\\u01b0\\u1ee3ng, m\\u00e0u s\\u1eafc...>\\n<C\\u00e1c th\\u00f4ng tin \\u0111\\u00e3 thu th\\u1eadp \\u0111c th\\u00ec t\\u1ef1 \\u0111i\\u1ec1n lu\\u00f4n, kh\\u00e1ch k ph\\u1ea3i \\u0111i\\u1ec1n n\\u1eefa>\", \"make_order\", null, \"action_make_order\"], [\"shop \\u01a1i\", \"Ch\\u00e0o b\\u1ea1n, m\\u00ecnh l\\u00e0 tr\\u1ee3 l\\u00fd \\u1ea3o c\\u1ee7a Shop G\\u1ea5u & B\\u00ed Ng\\u00f4, m\\u00ecnh gi\\u00fap g\\u00ec \\u0111\\u01b0\\u1ee3c b\\u1ea1n \\u1ea1?\", \"greet\", null, \"utter_greet\"], [\"https://scontent.xx.fbcdn.net/v/t1.15752-9/90523406_1646570122151011_7560973767770374144_n.jpg?_nc_cat=111&_nc_sid=b96e70&_nc_ohc=wRDYR9HiDIIAX9EYgXF&_nc_ad=z-m&_nc_cid=0&_nc_zor=9&_nc_ht=scontent.xx&oh=f705d96efc4592690e416d68be5946b9&oe=5EA3003E\", \"B\\u1ea1n \\u0111ang t\\u00ecm ki\\u1ebfm th\\u00f4ng tin g\\u00ec \\u1ea1?\\n\", \"send_link\", \"[\\\"url:['https://scontent.xx.fbcdn.net/v/t1.15752-9/90523406_1646570122151011_7560973767770374144_n.jpg?_nc_cat=111&_nc_sid=b96e70&_nc_ohc=wRDYR9HiDIIAX9EYgXF&_nc_ad=z-m&_nc_cid=0&_nc_zor=9&_nc_ht=scontent.xx&oh=f705d96efc4592690e416d68be5946b9&oe=5EA3003E']\\\"]\", \"action_handle_send_link_only\"], [\"Shop b\\u00e1n gh\\u1ebf n\\u00e0y ko\", \"D\\u1ea1, c\\u00f3 ph\\u1ea3i b\\u1ea1n mu\\u1ed1n h\\u1ecfi m\\u1ed9t trong c\\u00e1c s\\u1ea3n ph\\u1ea9m d\\u01b0\\u1edbi \\u0111\\u00e2y kh\\u00f4ng \\u1ea1?\\r\\n (Vui l\\u00f2ng \\u1ea5n ch\\u1ecdn 1 s\\u1ea3n ph\\u1ea9m)...\", \"query_knowledge_base\", \"['object_type:ghe', 'mention:n\\u00e0y']\", \"action_query_babe_kb\"], [\"/disagree{\\\"object_type\\\": null}\", \"B\\u1ea1n vui l\\u00f2ng m\\u00f4 t\\u1ea3 r\\u00f5 mong mu\\u1ed1n c\\u1ee7a b\\u1ea1n ho\\u1eb7c chat v\\u1edbi nh\\u00e2n vi\\u00ean t\\u01b0 v\\u1ea5n nh\\u00e9!\", \"disagree\", \"['object_type:None']\", \"utter_disagree\"], [\"/connect_employee\", null, \"connect_employee\", null, \"action_handover_to_inbox\"], [\"shop \\u01a1i\", \"Ch\\u00e0o b\\u1ea1n, m\\u00ecnh l\\u00e0 tr\\u1ee3 l\\u00fd \\u1ea3o c\\u1ee7a Shop G\\u1ea5u & B\\u00ed Ng\\u00f4, m\\u00ecnh gi\\u00fap g\\u00ec \\u0111\\u01b0\\u1ee3c b\\u1ea1n \\u1ea1?\", \"greet\", null, \"utter_greet\"], [\"https://scontent.xx.fbcdn.net/v/t1.15752-9/91209133_2660946144150142_6722210450643091456_n.jpg?_nc_cat=106&_nc_sid=b96e70&_nc_ohc=GJvzldrIJEgAX_t9AzO&_nc_ad=z-m&_nc_cid=0&_nc_zor=9&_nc_ht=scontent.xx&oh=7a2eae7dece74478231f21fa9ca599a0&oe=5EA4DA04\", \"B\\u1ea1n \\u0111ang t\\u00ecm ki\\u1ebfm th\\u00f4ng tin g\\u00ec \\u1ea1?\", \"send_link\", \"[\\\"url:['https://scontent.xx.fbcdn.net/v/t1.15752-9/91209133_2660946144150142_6722210450643091456_n.jpg?_nc_cat=106&_nc_sid=b96e70&_nc_ohc=GJvzldrIJEgAX_t9AzO&_nc_ad=z-m&_nc_cid=0&_nc_zor=9&_nc_ht=scontent.xx&oh=7a2eae7dece74478231f21fa9ca599a0&oe=5EA4DA04']\\\"]\", \"action_handle_send_link_only\"], [\"M\\u00ecnh m\\u00fan mua b\\u1ed9 voi n\\u00e0y\\nM\\u00e0 ph\\u00ed ship shoppe t\\u1edbi 300k\\nM\\u1eafc qu\\u00e1 b\\n:((\", null, \"handover_to_inbox\", \"['price:300k']\", \"action_handover_to_inbox\"], [\"b\\u1ea1n \\u01a1i\", \"Ch\\u00e0o b\\u1ea1n, m\\u00ecnh l\\u00e0 tr\\u1ee3 l\\u00fd \\u1ea3o c\\u1ee7a Shop G\\u1ea5u & B\\u00ed Ng\\u00f4, m\\u00ecnh gi\\u00fap g\\u00ec \\u0111\\u01b0\\u1ee3c b\\u1ea1n \\u1ea1?\", \"greet\", null, \"utter_greet\"], [\"https://scontent.xx.fbcdn.net/v/t1.15752-9/91189736_2657083197752531_2978518111348588544_n.jpg?_nc_cat=101&_nc_sid=b96e70&_nc_ohc=wn0qcXdkJ20AX8SmfaB&_nc_ad=z-m&_nc_cid=0&_nc_zor=9&_nc_ht=scontent.xx&oh=9071fd4b91cbc296bd63cc7dc7c0c2b9&oe=5EA452A3\", \"B\\u1ea1n \\u0111ang t\\u00ecm ki\\u1ebfm th\\u00f4ng tin g\\u00ec \\u1ea1?\\r\\n\", \"send_link\", \"[\\\"url:['https://scontent.xx.fbcdn.net/v/t1.15752-9/91189736_2657083197752531_2978518111348588544_n.jpg?_nc_cat=101&_nc_sid=b96e70&_nc_ohc=wn0qcXdkJ20AX8SmfaB&_nc_ad=z-m&_nc_cid=0&_nc_zor=9&_nc_ht=scontent.xx&oh=9071fd4b91cbc296bd63cc7dc7c0c2b9&oe=5EA452A3']\\\"]\", \"action_handle_send_link_only\"], [\"B\\u1ed9 n\\u00e0y c\\u00f2n k \\u1ea1\", \"S\\u1ea3n ph\\u1ea9m Voi th\\u1ea3 b\\u00f3ng t\\u1eadp \\u0111\\u1ee9ng c\\u00f3 \\u0111\\u00e8n nh\\u1ea1c Bkids Infantino hi\\u1ec7n c\\u00f3 gi\\u00e1 1.160.000 (Gi\\u00e1 g\\u1ed1c: 1.298.000).\\n<Show card>\", \"query_knowledge_base\", \"['mention:b\\u1ed9 n\\u00e0y']\", \"action_query_babe_kb\"], [\"shop \\u01a1i\", \"Ch\\u00e0o b\\u1ea1n, m\\u00ecnh l\\u00e0 tr\\u1ee3 l\\u00fd \\u1ea3o c\\u1ee7a Shop G\\u1ea5u & B\\u00ed Ng\\u00f4, m\\u00ecnh gi\\u00fap g\\u00ec \\u0111\\u01b0\\u1ee3c b\\u1ea1n \\u1ea1?\", \"greet\", \"[]\", \"utter_greet\"], [\"Cho m\\u00ecnh h\\u1ecfi b\\u00ean b\\u1ea1n c\\u00f3 m\\u00e1y h\\u00fat s\\u1eefa Avent hoa tuy\\u1ebft kh\\u00f4ng \\u1ea1?\", \"S\\u1ea3n ph\\u1ea9m M\\u00e1y h\\u00fat s\\u1eefa \\u0111i\\u1ec7n \\u0111\\u00f4i Avent Snow (Ch\\u00ednh h\\u00e3ng - Cty V\\u1ea1n An) h\\u00e3ng s\\u1ea3n xu\\u1ea5t Avent hi\\u1ec7n shop \\u0111ang c\\u00f3 gi\\u00e1: *4,990,000 VND (gi\\u00e1 g\\u1ed1c 6,950,000 VND)*.\\r\\nB\\u1ea1n tham kh\\u1ea3o c\\u00e1c s\\u1ea3n ph\\u1ea9m sau nh\\u00e9 \\u1ea1:\", \"query_knowledge_base\", \"['object_type:may_hut_sua', 'brand:avent']\", \"action_query_babe_kb\"], [\"ok shop\", \"D\\u1ea1!\", \"agree\", null, \"utter_agree\"], [\"shop \\u01a1i\", \"Ch\\u00e0o b\\u1ea1n, m\\u00ecnh l\\u00e0 tr\\u1ee3 l\\u00fd \\u1ea3o c\\u1ee7a Shop G\\u1ea5u & B\\u00ed Ng\\u00f4, m\\u00ecnh gi\\u00fap g\\u00ec \\u0111\\u01b0\\u1ee3c b\\u1ea1n \\u1ea1?\", \"greet\", \"[]\", \"utter_greet\"], [\"https://scontent.xx.fbcdn.net/v/t1.15752-9/90958526_844348296084999_5556829233025646592_n.jpg?_nc_cat=111&_nc_sid=b96e70&_nc_ohc=nKnFFBK9x4kAX8KAC9k&_nc_ad=z-m&_nc_cid=0&_nc_zor=9&_nc_ht=scontent.xx&oh=aead6e9f0b6ca0e8cf7d7446022ad8a7&oe=5EA4C715\", \"B\\u1ea1n \\u0111ang t\\u00ecm ki\\u1ebfm th\\u00f4ng tin g\\u00ec \\u1ea1?\", \"send_link\", \"[\\\"url:['https://scontent.xx.fbcdn.net/v/t1.15752-9/90958526_844348296084999_5556829233025646592_n.jpg?_nc_cat=111&_nc_sid=b96e70&_nc_ohc=nKnFFBK9x4kAX8KAC9k&_nc_ad=z-m&_nc_cid=0&_nc_zor=9&_nc_ht=scontent.xx&oh=aead6e9f0b6ca0e8cf7d7446022ad8a7&oe=5EA4C715']\\\"]\", \"action_handle_send_link_only\"], [\"B\\u00ean m\\u00ecnh c\\u00f3 medela freestyle like new k ak\", \"Shop kh\\u00f4ng c\\u00f3 m\\u00e1y h\\u00fat s\\u1eefa th\\u01b0\\u01a1ng hi\\u1ec7u Medela, m\\u1eddi b\\u1ea1n tham kh\\u1ea3o c\\u00e1c s\\u1ea3n ph\\u1ea9m m\\u00e1y h\\u00fat s\\u1eefa hi\\u1ec7n c\\u00f3 t\\u1ea1i shop nh\\u00e9:\\n<Show card list m\\u00e1y h\\u00fat s\\u1eefa \\u0111ang c\\u00f3>\", \"query_knowledge_base\", \"['brand:medela freestyle']\", \"action_query_babe_kb\"], [\"Ok shop\", \"D\\u1ea1 v\\u00e2ng \\u1ea1!\", \"agree\", null, \"utter_agree\"], [\"shop \\u01a1i\", \"Ch\\u00e0o b\\u1ea1n, m\\u00ecnh l\\u00e0 tr\\u1ee3 l\\u00fd \\u1ea3o c\\u1ee7a Shop G\\u1ea5u & B\\u00ed Ng\\u00f4, m\\u00ecnh gi\\u00fap g\\u00ec \\u0111\\u01b0\\u1ee3c b\\u1ea1n \\u1ea1?\", \"greet\", null, \"utter_greet\"], [\"https://scontent.xx.fbcdn.net/v/t1.15752-9/91397331_873232633088393_7516530623012405248_n.jpg?_nc_cat=102&_nc_sid=b96e70&_nc_ohc=7L9qejTvUzsAX9A87Nc&_nc_ad=z-m&_nc_cid=0&_nc_zor=9&_nc_ht=scontent.xx&oh=5a5f3a23fc9f73f05af3323e7e4d10c9&oe=5EA44E0F\", \"B\\u1ea1n \\u0111ang t\\u00ecm ki\\u1ebfm th\\u00f4ng tin g\\u00ec \\u1ea1?\\r\\n\", \"send_link\", \"[\\\"url:['https://scontent.xx.fbcdn.net/v/t1.15752-9/91397331_873232633088393_7516530623012405248_n.jpg?_nc_cat=102&_nc_sid=b96e70&_nc_ohc=7L9qejTvUzsAX9A87Nc&_nc_ad=z-m&_nc_cid=0&_nc_zor=9&_nc_ht=scontent.xx&oh=5a5f3a23fc9f73f05af3323e7e4d10c9&oe=5EA44E0F']\\\"]\", \"action_handle_send_link_only\"], [\"M\\u1eabu n\\u00e0y gi\\u00e1 bn ah\", \"M\\u00f3n \\u0111\\u1ed3 b\\u1ea1n c\\u1ea7n t\\u00ecm c\\u00f3 ph\\u1ea3i l\\u00e0:\\n<Xe ch\\u00f2i ch\\u00e2n> <Xe \\u0111\\u1ea9y> <Kh\\u00f4ng \\u0111\\u00fang!>\", \"query_knowledge_base\", \"['mention:m\\u1eabu n\\u00e0y', 'attribute:price']\", \"action_query_babe_kb\"], [\"/agree{\\\"object_type\\\": \\\"xe_choi_chan\\\"}\", \"S\\u1ea3n ph\\u1ea9m  Xe Ch\\u00f2i Ch\\u00e2n  hi\\u1ec7n shop \\u0111ang c\\u00f3 gi\\u00e1: 499,000 VND (gi\\u00e1 g\\u1ed1c 800,000 VND), 580,000 VND (gi\\u00e1 g\\u1ed1c 800,000 VND), 699,000 VND (gi\\u00e1 g\\u1ed1c 998,000 VND).\\nB\\u1ea1n tham kh\\u1ea3o c\\u00e1c s\\u1ea3n ph\\u1ea9m sau nh\\u00e9 \\u1ea1:\\n<Show card>\", \"confirm_object_type\", null, \"action_query_babe_kb\"], [\"ok shop, cho m\\u00ecnh l\\u1ea5y c\\u00e1i xe Luddy\", \"C\\u1ea3m \\u01a1n b\\u1ea1n! B\\u1ea1n vui l\\u00f2ng \\u0111i\\u1ec1n th\\u00f4ng tin v\\u00e0o M\\u1eabu \\u0111\\u1eb7t h\\u00e0ng gi\\u00fap shop nh\\u00e9!\\n<Show ra c\\u00e1i b\\u1ea3ng m\\u1eabu \\u0111\\u1eb7t h\\u00e0ng: c\\u00f3 t\\u00ean s\\u1ea3n ph\\u1ea9m, cho kh\\u00e1ch t\\u00f9y ch\\u1ecdn s\\u1ed1 l\\u01b0\\u1ee3ng, m\\u00e0u s\\u1eafc...>\\n<C\\u00e1c th\\u00f4ng tin \\u0111\\u00e3 thu th\\u1eadp \\u0111c th\\u00ec t\\u1ef1 \\u0111i\\u1ec1n lu\\u00f4n, kh\\u00e1ch k ph\\u1ea3i \\u0111i\\u1ec1n n\\u1eefa>\", \"make_order\", \"['object_type:xe_choi_chan','brand:Luddy']\", \"action_make_order\"], [\"shop \\u01a1i\", \"Ch\\u00e0o b\\u1ea1n, m\\u00ecnh l\\u00e0 tr\\u1ee3 l\\u00fd \\u1ea3o c\\u1ee7a Shop G\\u1ea5u & B\\u00ed Ng\\u00f4, m\\u00ecnh gi\\u00fap g\\u00ec \\u0111\\u01b0\\u1ee3c b\\u1ea1n \\u1ea1?\", \"greet\", null, \"utter_greet\"], [\"C\\u00f3 ship h\\u00e0ng qua Nguy\\u1ec5n Tu\\u00e2n k shop\", \"Shop giao h\\u00e0ng to\\u00e0n qu\\u1ed1c, kh\\u00e1ch h\\u00e0ng c\\u00f3 th\\u1ec3 chuy\\u1ec3n kho\\u1ea3n tr\\u01b0\\u1edbc ho\\u1eb7c ch\\u1ecdn h\\u00ecnh th\\u1ee9c thanh to\\u00e1n khi nh\\u1eadn h\\u00e0ng \\u1ea1!\", \"ask_ship\", \"['ship:ship', 'location:Nguy\\u1ec5n Tu\\u00e2n']\", \"utter_ship\"], [\"v\\u1eady ship lu\\u00f4n cho m\\u00ecnh Xe ch\\u00f2i ch\\u00e2n c\\u00f3 b\\u00e0n \\u0111\\u1ea1p cao c\\u1ea5p Motion m\\u00e0u \\u0111\\u1ecf nh\\u00e9\", \"C\\u1ea3m \\u01a1n b\\u1ea1n! B\\u1ea1n vui l\\u00f2ng \\u0111i\\u1ec1n th\\u00f4ng tin v\\u00e0o M\\u1eabu \\u0111\\u1eb7t h\\u00e0ng gi\\u00fap shop nh\\u00e9!\\n<Show ra c\\u00e1i b\\u1ea3ng m\\u1eabu \\u0111\\u1eb7t h\\u00e0ng: c\\u00f3 t\\u00ean s\\u1ea3n ph\\u1ea9m, cho kh\\u00e1ch t\\u00f9y ch\\u1ecdn s\\u1ed1 l\\u01b0\\u1ee3ng, m\\u00e0u s\\u1eafc...>\\n<C\\u00e1c th\\u00f4ng tin \\u0111\\u00e3 thu th\\u1eadp \\u0111c th\\u00ec t\\u1ef1 \\u0111i\\u1ec1n lu\\u00f4n, kh\\u00e1ch k ph\\u1ea3i \\u0111i\\u1ec1n n\\u1eefa>\", \"make_order\", \"['ship:ship', 'object_type:xe_choi_chan', 'brand:Motion', 'color:\\u0111\\u1ecf'\", \"action_make_order\"], [\"shop \\u01a1i\", \"Ch\\u00e0o b\\u1ea1n, m\\u00ecnh l\\u00e0 tr\\u1ee3 l\\u00fd \\u1ea3o c\\u1ee7a Shop G\\u1ea5u & B\\u00ed Ng\\u00f4, m\\u00ecnh gi\\u00fap g\\u00ec \\u0111\\u01b0\\u1ee3c b\\u1ea1n \\u1ea1?\", \"greet\", null, \"utter_greet\"], [\"https://scontent.xx.fbcdn.net/v/t1.15752-9/91237420_573063973314379_5752083759176351744_n.jpg?_nc_cat=111&_nc_sid=b96e70&_nc_ohc=awAgMEF9UTYAX-Q_cFX&_nc_ad=z-m&_nc_cid=0&_nc_zor=9&_nc_ht=scontent.xx&oh=fbfffeefdee0fcd2f0dd6ed4ea38d8e6&oe=5EA3382F\", \"B\\u1ea1n \\u0111ang t\\u00ecm ki\\u1ebfm th\\u00f4ng tin g\\u00ec \\u1ea1?\\r\\n\", \"send_link\", \"[\\\"url:['https://scontent.xx.fbcdn.net/v/t1.15752-9/91237420_573063973314379_5752083759176351744_n.jpg?_nc_cat=111&_nc_sid=b96e70&_nc_ohc=awAgMEF9UTYAX-Q_cFX&_nc_ad=z-m&_nc_cid=0&_nc_zor=9&_nc_ht=scontent.xx&oh=fbfffeefdee0fcd2f0dd6ed4ea38d8e6&oe=5EA3382F']\\\"]\", \"action_handle_send_link_only\"], [\"Gia bao Nhiu shop\", \"S\\u1ea3n ph\\u1ea9m  COMBO HOLLA LI\\u00caN HO\\u00c0N 2020 c\\u00f3 gi\\u00e1 4.100.000 (Gi\\u00e1 g\\u1ed1c: 5.000.000).\\n<Show card>\", \"query_knowledge_base\", \"['attribute:price']\", \"action_query_babe_kb\"], [\"ok shop\", \"V\\u00e2ng \\u1ea1!\", \"agree\", null, \"utter_agree\"], [\"shop \\u01a1i\", \"Ch\\u00e0o b\\u1ea1n, m\\u00ecnh l\\u00e0 tr\\u1ee3 l\\u00fd \\u1ea3o c\\u1ee7a Shop G\\u1ea5u & B\\u00ed Ng\\u00f4, m\\u00ecnh gi\\u00fap g\\u00ec \\u0111\\u01b0\\u1ee3c b\\u1ea1n \\u1ea1?\", \"greet\", null, \"utter_greet\"], [\"https://scontent.xx.fbcdn.net/v/t1.15752-9/91237420_573063973314379_5752083759176351744_n.jpg?_nc_cat=111&_nc_sid=b96e70&_nc_ohc=awAgMEF9UTYAX-Q_cFX&_nc_ad=z-m&_nc_cid=0&_nc_zor=9&_nc_ht=scontent.xx&oh=fbfffeefdee0fcd2f0dd6ed4ea38d8e6&oe=5EA3382F\", \"B\\u1ea1n \\u0111ang t\\u00ecm ki\\u1ebfm th\\u00f4ng tin g\\u00ec \\u1ea1?\\r\\n\", \"send_link\", \"[\\\"url:['https://scontent.xx.fbcdn.net/v/t1.15752-9/91237420_573063973314379_5752083759176351744_n.jpg?_nc_cat=111&_nc_sid=b96e70&_nc_ohc=awAgMEF9UTYAX-Q_cFX&_nc_ad=z-m&_nc_cid=0&_nc_zor=9&_nc_ht=scontent.xx&oh=fbfffeefdee0fcd2f0dd6ed4ea38d8e6&oe=5EA3382F']\\\"]\", \"action_handle_send_link_only\"], [\"Gia bao Nhiu shop\", \"S\\u1ea3n ph\\u1ea9m  COMBO HOLLA LI\\u00caN HO\\u00c0N 2020 c\\u00f3 gi\\u00e1 4.100.000 (Gi\\u00e1 g\\u1ed1c: 5.000.000).\\n<Show card>\", \"query_knowledge_base\", \"['attribute:price']\", \"action_query_babe_kb\"], [\"c\\u00f3 nh\\u1eefng m\\u00e0u g\\u00ec b\\u1ea1n nh\\u1ec9?\", \"S\\u1ea3n ph\\u1ea9m  COMBO HOLLA LI\\u00caN HO\\u00c0N 2020 c\\u00f3 m\\u00e0u: Xanh v\\u00e0 Cam \\u1ea1!\\n<Show card>\", \"query_knowledge_base\", \"['attribute:color']\", \"action_query_babe_kb\"], [\"ok shop, \\u0111\\u1ec3 m\\u00ecnh xem th\\u00eam ch\\u00fat nh\\u00e9!\", \"D\\u1ea1 v\\u00e2ng \\u1ea1!\", \"agree & check_more\", \"['check_more:xem th\\u00eam']\", \"utter_agree\"], [\"alo shop\", \"Ch\\u00e0o b\\u1ea1n, m\\u00ecnh l\\u00e0 tr\\u1ee3 l\\u00fd \\u1ea3o c\\u1ee7a Shop G\\u1ea5u & B\\u00ed Ng\\u00f4, m\\u00ecnh gi\\u00fap g\\u00ec \\u0111\\u01b0\\u1ee3c b\\u1ea1n \\u1ea1?\", \"greet\", null, \"utter_greet\"], [\"https://scontent.xx.fbcdn.net/v/t1.15752-9/91179254_522333818714923_2603681931581194240_n.jpg?_nc_cat=106&_nc_sid=b96e70&_nc_ohc=vIHq163ac_kAX-MHxt8&_nc_ad=z-m&_nc_cid=0&_nc_zor=9&_nc_ht=scontent.xx&oh=19368d98471da439001ddf5dc8cab52d&oe=5EA2F89D\", \"B\\u1ea1n \\u0111ang t\\u00ecm ki\\u1ebfm th\\u00f4ng tin g\\u00ec \\u1ea1?\\r\\n\", \"send_link\", \"[\\\"url:['https://scontent.xx.fbcdn.net/v/t1.15752-9/91179254_522333818714923_2603681931581194240_n.jpg?_nc_cat=106&_nc_sid=b96e70&_nc_ohc=vIHq163ac_kAX-MHxt8&_nc_ad=z-m&_nc_cid=0&_nc_zor=9&_nc_ht=scontent.xx&oh=19368d98471da439001ddf5dc8cab52d&oe=5EA2F89D']\\\"]\", \"action_handle_send_link_only\"], [\"M\\u00ecnh mu\\u00f3n mua xe n\\u00e0y\", \"S\\u1ea3n ph\\u1ea9m Xe t\\u1eadp \\u0111i cao c\\u1ea5p Tommorrow Sky - CH\\u00cdNH H\\u00c3NG c\\u00f3 gi\\u00e1 449.000 (Gi\\u00e1 g\\u1ed1c: 850.000).\\n<Show card s\\u1ea3n ph\\u1ea9m>\", \"query_knowledge_base\", \"['object_type:xe', 'mention:n\\u00e0y']\", \"action_query_babe_kb\"], [\"Shop ship lu\\u00f4n h\\u00e0ng k nh\\u1ec9\\nM\\u00ecnh B\\u1eafc T\\u1eeb Li\\u00eam, HN\", \"C\\u1ea3m \\u01a1n b\\u1ea1n! B\\u1ea1n vui l\\u00f2ng \\u0111i\\u1ec1n th\\u00f4ng tin v\\u00e0o M\\u1eabu \\u0111\\u1eb7t h\\u00e0ng gi\\u00fap shop nh\\u00e9!\\n<Show ra c\\u00e1i b\\u1ea3ng m\\u1eabu \\u0111\\u1eb7t h\\u00e0ng: c\\u00f3 t\\u00ean s\\u1ea3n ph\\u1ea9m, cho kh\\u00e1ch t\\u00f9y ch\\u1ecdn s\\u1ed1 l\\u01b0\\u1ee3ng, m\\u00e0u s\\u1eafc...>\\n<C\\u00e1c th\\u00f4ng tin \\u0111\\u00e3 thu th\\u1eadp \\u0111c th\\u00ec t\\u1ef1 \\u0111i\\u1ec1n lu\\u00f4n, kh\\u00e1ch k ph\\u1ea3i \\u0111i\\u1ec1n n\\u1eefa>\", \"make_order\", \"[]\", \"action_make_order\"], [\"shop \\u01a1i\", \"Ch\\u00e0o b\\u1ea1n, m\\u00ecnh l\\u00e0 tr\\u1ee3 l\\u00fd \\u1ea3o c\\u1ee7a Shop G\\u1ea5u & B\\u00ed Ng\\u00f4, m\\u00ecnh gi\\u00fap g\\u00ec \\u0111\\u01b0\\u1ee3c b\\u1ea1n \\u1ea1?\", \"greet\", null, \"utter_greet\"], [\"https://scontent.xx.fbcdn.net/v/t1.15752-9/91179254_522333818714923_2603681931581194240_n.jpg?_nc_cat=106&_nc_sid=b96e70&_nc_ohc=vIHq163ac_kAX-MHxt8&_nc_ad=z-m&_nc_cid=0&_nc_zor=9&_nc_ht=scontent.xx&oh=19368d98471da439001ddf5dc8cab52d&oe=5EA2F89D\", \"B\\u1ea1n \\u0111ang t\\u00ecm ki\\u1ebfm th\\u00f4ng tin g\\u00ec \\u1ea1?\\r\\n\", \"send_link\", \"[\\\"url:['https://scontent.xx.fbcdn.net/v/t1.15752-9/91179254_522333818714923_2603681931581194240_n.jpg?_nc_cat=106&_nc_sid=b96e70&_nc_ohc=vIHq163ac_kAX-MHxt8&_nc_ad=z-m&_nc_cid=0&_nc_zor=9&_nc_ht=scontent.xx&oh=19368d98471da439001ddf5dc8cab52d&oe=5EA2F89D']\\\"]\", \"action_handle_send_link_only\"], [\"M\\u00ecnh mu\\u00f3n mua xe n\\u00e0y\", \"S\\u1ea3n ph\\u1ea9m Xe t\\u1eadp \\u0111i cao c\\u1ea5p Tommorrow Sky - CH\\u00cdNH H\\u00c3NG c\\u00f3 gi\\u00e1 449.000 (Gi\\u00e1 g\\u1ed1c: 850.000).\\n<Show card s\\u1ea3n ph\\u1ea9m>\", \"query_knowledge_base\", \"['object_type:xe', 'mention:n\\u00e0y']\", \"action_query_babe_kb\"], [\"B\\u00e9 nh\\u00e0 m\\u00ecnh 8 th\\u00e1ng \\u0111\\u00e3 d\\u00f9ng \\u0111\\u01b0\\u1ee3c ch\\u01b0a shop nh\\u1ec9?\", \"Xe t\\u1eadp \\u0111i cao c\\u1ea5p Tommorrow Sky - CH\\u00cdNH H\\u00c3NG c\\u00f3 \\u0111\\u1ed9 tu\\u1ed5i s\\u1eed d\\u1ee5ng t\\u1eeb: 0 - 36 th\\u00e1ng \\u1ea1.\", \"query_knowledge_base\", \"['age_of_use:b\\u00e9 nh\\u00e0 m\\u00ecnh 8 th\\u00e1ng']\", \"action_query_babe_kb\"], [\"ok shop\", \"V\\u00e2ng \\u1ea1!\", \"agree\", null, \"utter_agree\"], [\"M\\u00ecnh v\\u1eeba \\u0111\\u1eb7t tr\\u00ean shopee r\\u1ed3i nh\\u00e9 shop, giao h\\u00e0ng gi\\u00fap m\\u00ecnh nha!\", null, \"handover_to_inbox\", \"['attribute:link']\", \"action_handover_to_inbox\"], [\"shop \\u01a1i\", \"Ch\\u00e0o b\\u1ea1n, m\\u00ecnh l\\u00e0 tr\\u1ee3 l\\u00fd \\u1ea3o c\\u1ee7a Shop G\\u1ea5u & B\\u00ed Ng\\u00f4, m\\u00ecnh gi\\u00fap g\\u00ec \\u0111\\u01b0\\u1ee3c b\\u1ea1n \\u1ea1?\", \"greet\", null, \"utter_greet\"], [\"https://scontent.xx.fbcdn.net/v/t1.15752-9/91140590_169156024104970_9149727164638167040_n.jpg?_nc_cat=111&_nc_sid=b96e70&_nc_oc=AQksL3EPbJwb5vF7MiFB6VdXzCEmtSqg7QZRnHQamP5qwRCPthge2V2zCm6k7jX6oSw0tzFhj2tL2-yD0lgdlWzF&_nc_ad=z-m&_nc_cid=0&_nc_zor=9&_nc_ht=scontent.xx&oh=a3ace1f889939914cd91509c52946144&oe=5EA53CD3\", \"B\\u1ea1n \\u0111ang t\\u00ecm ki\\u1ebfm th\\u00f4ng tin g\\u00ec \\u1ea1?\\r\\n\", \"send_link\", \"[\\\"url:['https://scontent.xx.fbcdn.net/v/t1.15752-9/91140590_169156024104970_9149727164638167040_n.jpg?_nc_cat=111&_nc_sid=b96e70&_nc_oc=AQksL3EPbJwb5vF7MiFB6VdXzCEmtSqg7QZRnHQamP5qwRCPthge2V2zCm6k7jX6oSw0tzFhj2tL2-yD0lgdlWzF&_nc_ad=z-m&_nc_cid=0&_nc_zor=9&_nc_ht=scontent.xx&oh=a3ace1f889939914cd91509c52946144&oe=5EA53CD3']\\\"]\", \"action_handle_send_link_only\"], [\"M\\u1eabu n\\u00e0y shop c\\u00f2n ko?\", \"D\\u1ea1 m\\u1eddi b\\u1ea1n tham kh\\u1ea3o s\\u1ea3n ph\\u1ea9m hi\\u1ec7n c\\u00f3 t\\u1ea1i shop nh\\u00e9!\\r\\n\\n<Show card s\\u1ea3n ph\\u1ea9m Voi Jumbo th\\u1ea3 h\\u00ecnh kh\\u1ed1i Bkids Infantino>\", \"query_knowledge_base\", \"['mention:m\\u1eabu n\\u00e0y']\", \"action_query_babe_kb\"], [\"M\\u00ecnh \\u1edf Ng\\u00e3 T\\u01b0 S\\u1edf th\\u00ec ph\\u00ed ship h\\u1ebft bao nhi\\u00eau b\\u1ea1n, c\\u00f3 \\u0111\\u01b0\\u1ee3c freeship k nh\\u1ec9\", \"Ship Ng\\u00e3 t\\u01b0 s\\u1edf , Thanh Xu\\u00e2n trong n\\u1ed9i th\\u00e0nh h\\u00e0 n\\u1ed9i h\\u1ebft kho\\u1ea3ng 30-40 k \\u1ea1\", \"ask_ship\", \"['attribute:fee_ship']\", \"action_ask_ship\"], [\"shop \\u01a1i\", \"Ch\\u00e0o b\\u1ea1n, m\\u00ecnh l\\u00e0 tr\\u1ee3 l\\u00fd \\u1ea3o c\\u1ee7a Shop G\\u1ea5u & B\\u00ed Ng\\u00f4, m\\u00ecnh gi\\u00fap g\\u00ec \\u0111\\u01b0\\u1ee3c b\\u1ea1n \\u1ea1?\", \"greet\", null, \"utter_greet\"], [\"https://scontent.xx.fbcdn.net/v/t1.15752-9/91276500_3332850896743682_3518647967223382016_n.jpg?_nc_cat=100&_nc_sid=b96e70&_nc_ohc=nsA07gDazpcAX82MA2A&_nc_ad=z-m&_nc_cid=0&_nc_zor=9&_nc_ht=scontent.xx&oh=1ed797577e15b6d086fb91ceb49c5941&oe=5EA5843B\", \"B\\u1ea1n \\u0111ang t\\u00ecm ki\\u1ebfm th\\u00f4ng tin g\\u00ec \\u1ea1?\", \"send_link\", \"[\\\"url:['https://scontent.xx.fbcdn.net/v/t1.15752-9/91276500_3332850896743682_3518647967223382016_n.jpg?_nc_cat=100&_nc_sid=b96e70&_nc_ohc=nsA07gDazpcAX82MA2A&_nc_ad=z-m&_nc_cid=0&_nc_zor=9&_nc_ht=scontent.xx&oh=1ed797577e15b6d086fb91ceb49c5941&oe=5EA5843B']\\\"]\", \"action_handle_send_link_only\"], [\"B\\u00e1o gi\\u00e1 cho m\\u00ecnh c\\u00e1i shop\", \"D\\u1ea1, c\\u00f3 ph\\u1ea3i b\\u1ea1n mu\\u1ed1n h\\u1ecfi m\\u1ed9t trong c\\u00e1c s\\u1ea3n ph\\u1ea9m d\\u01b0\\u1edbi \\u0111\\u00e2y kh\\u00f4ng \\u1ea1?\\r\\n (Vui l\\u00f2ng \\u1ea5n ch\\u1ecdn 1 s\\u1ea3n ph\\u1ea9m)...\", \"query_knowledge_base\", \"['attribute:price']\", \"action_query_babe_kb\"], [\"/query_knowledge_base{\\\"url\\\": \\\"https://shopee.vn/product/36371562/619150769\\\", \\\"product_id\\\": \\\"https://shopee.vn/product/36371562/619150769\\\"}\", \"S\\u1ea3n ph\\u1ea9m Gh\\u1ebf \\u0111a n\\u0103ng cao c\\u1ea5p Mastela 1015 hi\\u1ec7n shop \\u0111ang c\\u00f3 gi\\u00e1: *1,320,000 VND (gi\\u00e1 g\\u1ed1c 1,599,000 VND)*.\\r\\nB\\u1ea1n tham kh\\u1ea3o c\\u00e1c s\\u1ea3n ph\\u1ea9m sau nh\\u00e9 \\u1ea1:\", \"query_knowledge_base\", \"['url:https://shopee.vn/product/36371562/619150769', 'product_id:https://shopee.vn/product/36371562/619150769']\", \"action_query_babe_kb\"], [\"shop \\u01a1i\", \"Ch\\u00e0o b\\u1ea1n, m\\u00ecnh l\\u00e0 tr\\u1ee3 l\\u00fd \\u1ea3o c\\u1ee7a Shop G\\u1ea5u & B\\u00ed Ng\\u00f4, m\\u00ecnh gi\\u00fap g\\u00ec \\u0111\\u01b0\\u1ee3c b\\u1ea1n \\u1ea1?\", \"greet\", null, \"utter_greet\"], [\"https://scontent.xx.fbcdn.net/v/t1.15752-9/91276500_3332850896743682_3518647967223382016_n.jpg?_nc_cat=100&_nc_sid=b96e70&_nc_ohc=nsA07gDazpcAX82MA2A&_nc_ad=z-m&_nc_cid=0&_nc_zor=9&_nc_ht=scontent.xx&oh=1ed797577e15b6d086fb91ceb49c5941&oe=5EA5843B\", \"B\\u1ea1n \\u0111ang t\\u00ecm ki\\u1ebfm th\\u00f4ng tin g\\u00ec \\u1ea1?\\r\\n\", \"send_link\", \"[\\\"url:['https://scontent.xx.fbcdn.net/v/t1.15752-9/91276500_3332850896743682_3518647967223382016_n.jpg?_nc_cat=100&_nc_sid=b96e70&_nc_ohc=nsA07gDazpcAX82MA2A&_nc_ad=z-m&_nc_cid=0&_nc_zor=9&_nc_ht=scontent.xx&oh=1ed797577e15b6d086fb91ceb49c5941&oe=5EA5843B']\\\"]\", \"action_handle_send_link_only\"], [\"B\\u00e1o gi\\u00e1 cho m\\u00ecnh c\\u00e1i shop\", \"D\\u1ea1, c\\u00f3 ph\\u1ea3i b\\u1ea1n mu\\u1ed1n h\\u1ecfi m\\u1ed9t trong c\\u00e1c s\\u1ea3n ph\\u1ea9m d\\u01b0\\u1edbi \\u0111\\u00e2y kh\\u00f4ng \\u1ea1?\\n (Vui l\\u00f2ng \\u1ea5n ch\\u1ecdn 1 s\\u1ea3n ph\\u1ea9m)\\n<Show 5 cards>\", \"query_knowledge_base\", \"['attribute:price']\", \"action_query_babe_kb\"], [\"/query_knowledge_base{\\\"url\\\": \\\"https://shopee.vn/product/36371562/619150769\\\", \\\"product_id\\\": \\\"https://shopee.vn/product/36371562/619150769\\\"}\", \"S\\u1ea3n ph\\u1ea9m  Gh\\u1ebf \\u0111a n\\u0103ng cao c\\u1ea5p Mastela 1015  hi\\u1ec7n shop \\u0111ang c\\u00f3 gi\\u00e1: 1,320,000 VND (gi\\u00e1 g\\u1ed1c 1,599,000 VND).\\r\\nB\\u1ea1n tham kh\\u1ea3o c\\u00e1c s\\u1ea3n ph\\u1ea9m sau nh\\u00e9 \\u1ea1:\\n<show card>\", \"query_knowledge_base\", \"['url:https://shopee.vn/product/36371562/619150769', 'product_id:https://shopee.vn/product/36371562/619150769']\", \"action_query_babe_kb\"], [\"<\\u0110\\u1eb7t h\\u00e0ng>\\n(tr\\u00ean card cu\\u1ed1i show th\\u00eam n\\u00fat \\u0111\\u1eb7t h\\u00e0ng)\", \"C\\u1ea3m \\u01a1n b\\u1ea1n! B\\u1ea1n vui l\\u00f2ng \\u0111i\\u1ec1n th\\u00f4ng tin v\\u00e0o M\\u1eabu \\u0111\\u1eb7t h\\u00e0ng gi\\u00fap shop nh\\u00e9!\\n<Show ra c\\u00e1i b\\u1ea3ng m\\u1eabu \\u0111\\u1eb7t h\\u00e0ng: c\\u00f3 t\\u00ean s\\u1ea3n ph\\u1ea9m, cho kh\\u00e1ch t\\u00f9y ch\\u1ecdn s\\u1ed1 l\\u01b0\\u1ee3ng, m\\u00e0u s\\u1eafc...>\", \"make_order\", null, \"action_make_order\"], [\"shop \\u01a1i\", \"Ch\\u00e0o b\\u1ea1n, m\\u00ecnh l\\u00e0 tr\\u1ee3 l\\u00fd \\u1ea3o c\\u1ee7a Shop G\\u1ea5u & B\\u00ed Ng\\u00f4, m\\u00ecnh gi\\u00fap g\\u00ec \\u0111\\u01b0\\u1ee3c b\\u1ea1n \\u1ea1?\", \"greet\", null, \"utter_greet\"], [\"m\\u00ecnh c\\u1ea7n t\\u00ecm gh\\u1ebf \\u0103n d\\u1eb7m\", \"Hi\\u1ec7n t\\u1ea1i s\\u1ea3n ph\\u1ea9m Gh\\u1ebf \\u0102n  shop \\u0111ang c\\u00f3 nh\\u1eefng *gi\\u00e1* sau \\u1ea1:\", \"query_knowledge_base\", \"['object_type:ghe_an']\", \"action_query_babe_kb\"], [\"/query_knowledge_base{\\\"price\\\": \\\"1M - 2M\\\"}\", \"D\\u1ea1 m\\u1eddi b\\u1ea1n tham kh\\u1ea3o s\\u1ea3n ph\\u1ea9m hi\\u1ec7n c\\u00f3 t\\u1ea1i shop nh\\u00e9!\", \"query_knowledge_base\", \"['price:1M - 2M']\", \"action_query_babe_kb\"], [\"gh\\u1ebf mastela s\\u1ea3n xu\\u1ea5t \\u1edf \\u0111\\u00e2u v\\u1eady shop?\", \"S\\u1ea3n ph\\u1ea9m Gh\\u1ebf \\u0102n h\\u00e3ng s\\u1ea3n xu\\u1ea5t Mastela hi\\u1ec7n shop \\u0111ang c\\u00f3 n\\u01a1i s\\u1ea3n xu\\u1ea5t: *Trung Qu\\u1ed1c*.\", \"query_knowledge_base\", \"['object_type:ghe', 'brand:mastela', 'attribute:origin']\", \"action_query_babe_kb\"], [\"b\\u00e9 bao nhi\\u00eau th\\u00e1ng th\\u00ec d\\u00f9ng \\u0111c gh\\u1ebf n\\u00e0y?\", \"Hi\\u1ec7n t\\u1ea1i s\\u1ea3n ph\\u1ea9m Gh\\u1ebf \\u0102n shop \\u0111ang c\\u00f3 nh\\u1eefng *\\u0111\\u1ed9 tu\\u1ed5i s\\u1eed d\\u1ee5ng* sau \\u1ea1:\", \"query_knowledge_base\", \"['attribute:age_of_use', 'object_type:ghe']\", \"action_query_babe_kb\"], [\"ok shop\", \"D\\u1ea1 v\\u00e2ng \\u1ea1!\", \"agree\", \"[]\", \"utter_agree\"], [\"shop c\\u00f3 xe \\u0111\\u1ea9y k?\", \"Hi\\u1ec7n t\\u1ea1i s\\u1ea3n ph\\u1ea9m Xe \\u0110\\u1ea9y shop \\u0111ang c\\u00f3 nh\\u1eefng *gi\\u00e1* sau \\u1ea1:\", \"query_knowledge_base\", \"['object_type:xe_day']\", \"action_query_babe_kb\"], [\"/query_knowledge_base{\\\"age_of_use\\\": \\\"0 - 36 Th\\u00e1ng\\\"}\", \"Hi\\u1ec7n t\\u1ea1i s\\u1ea3n ph\\u1ea9m Xe \\u0110\\u1ea9y \\u0111\\u1ed9 tu\\u1ed5i s\\u1eed d\\u1ee5ng 0 - 36 Th\\u00e1ng shop \\u0111ang c\\u00f3 nh\\u1eefng *h\\u00e3ng s\\u1ea3n xu\\u1ea5t* sau \\u1ea1:\", \"query_knowledge_base\", \"['age_of_use:0 - 36 Th\\u00e1ng']\", \"action_query_babe_kb\"], [\"/query_knowledge_base{\\\"price\\\": \\\"2M - 5M\\\"}\", \"Hi\\u1ec7n t\\u1ea1i s\\u1ea3n ph\\u1ea9m Xe \\u0110\\u1ea9y gi\\u00e1 2m - 5m, \\u0111\\u1ed9 tu\\u1ed5i s\\u1eed d\\u1ee5ng 0 - 36 Th\\u00e1ng shop \\u0111ang c\\u00f3 nh\\u1eefng *h\\u00e3ng s\\u1ea3n xu\\u1ea5t* sau \\u1ea1:\", \"query_knowledge_base\", \"['price:2M - 5M']\", \"action_query_babe_kb\"], [\"/confirm_attribute_value{\\\"brand\\\": \\\"NULL\\\"}\", \"Hi\\u1ec7n t\\u1ea1i s\\u1ea3n ph\\u1ea9m Xe \\u0110\\u1ea9y gi\\u00e1 2m - 5m, \\u0111\\u1ed9 tu\\u1ed5i s\\u1eed d\\u1ee5ng 0 - 36 Th\\u00e1ng shop \\u0111ang c\\u00f3 nh\\u1eefng *m\\u00e0u* sau \\u1ea1:\", \"confirm_attribute_value\", \"['brand:NULL']\", \"action_query_babe_kb\"], [\"/confirm_attribute_value{\\\"material\\\": \\\"NULL\\\"}\", \"Hi\\u1ec7n t\\u1ea1i s\\u1ea3n ph\\u1ea9m Xe \\u0110\\u1ea9y gi\\u00e1 2m - 5m, \\u0111\\u1ed9 tu\\u1ed5i s\\u1eed d\\u1ee5ng 0 - 36 Th\\u00e1ng shop \\u0111ang c\\u00f3 nh\\u1eefng *m\\u00e0u* sau \\u1ea1:\", \"confirm_attribute_value\", \"['material:NULL']\", \"action_query_babe_kb\"], [\"/query_knowledge_base{\\\"color\\\": \\\"Ghi\\\"}\", \"D\\u1ea1 m\\u1eddi b\\u1ea1n tham kh\\u1ea3o s\\u1ea3n ph\\u1ea9m hi\\u1ec7n c\\u00f3 t\\u1ea1i shop nh\\u00e9!\", \"query_knowledge_base\", \"['color:Ghi']\", \"action_query_babe_kb\"], [\"shop c\\u00f3 gh\\u1ebf \\u0111a n\\u0103ng cho b\\u00e9 10 th\\u00e1ng k?\", \"Hi\\u1ec7n t\\u1ea1i s\\u1ea3n ph\\u1ea9m Gh\\u1ebf \\u0110a N\\u0103ng \\u0111\\u1ed9 tu\\u1ed5i s\\u1eed d\\u1ee5ng B\\u00e9 10 Th\\u00e1ng shop \\u0111ang c\\u00f3 nh\\u1eefng *gi\\u00e1* sau \\u1ea1:\", \"query_knowledge_base\", \"['object_type:ghe_da_nang', 'age_of_use:b\\u00e9 10 th\\u00e1ng']\", \"action_query_babe_kb\"], [\"/query_knowledge_base{\\\"price\\\": \\\"1M - 2M\\\"}\", \"Hi\\u1ec7n t\\u1ea1i s\\u1ea3n ph\\u1ea9m Gh\\u1ebf \\u0110a N\\u0103ng gi\\u00e1 1m - 2m, \\u0111\\u1ed9 tu\\u1ed5i s\\u1eed d\\u1ee5ng B\\u00e9 10 Th\\u00e1ng shop \\u0111ang c\\u00f3 nh\\u1eefng *h\\u00e3ng s\\u1ea3n xu\\u1ea5t* sau \\u1ea1:\", \"query_knowledge_base\", \"['price:1M - 2M']\", \"action_query_babe_kb\"], [\"/query_knowledge_base{\\\"brand\\\": \\\"More Kiss\\\"}\", \"D\\u1ea1 m\\u1eddi b\\u1ea1n tham kh\\u1ea3o s\\u1ea3n ph\\u1ea9m hi\\u1ec7n c\\u00f3 t\\u1ea1i shop nh\\u00e9!\", \"query_knowledge_base\", \"['brand:More Kiss']\", \"action_query_babe_kb\"], [\"shop \\u01a1i\", \"Ch\\u00e0o b\\u1ea1n, m\\u00ecnh l\\u00e0 tr\\u1ee3 l\\u00fd \\u1ea3o c\\u1ee7a Shop G\\u1ea5u & B\\u00ed Ng\\u00f4, m\\u00ecnh gi\\u00fap g\\u00ec \\u0111\\u01b0\\u1ee3c b\\u1ea1n \\u1ea1?\", \"greet\", null, \"utter_greet\"], [\"cho m\\u00ecnh xin gi\\u00e1 c\\u00e1i n\\u00e0y v\\u1edbi\\nhttps://scontent.xx.fbcdn.net/v/t1.15752-9/91082126_501675780499282_7670743575553900544_n.png?_nc_cat=105&_nc_sid=b96e70&_nc_ohc=cv9WjzyAq2EAX-2ijUk&_nc_ad=z-m&_nc_cid=0&_nc_zor=9&_nc_ht=scontent.xx&oh=4a383c676ad9b86a134219b8ec91bdb3&oe=5EA28021\", \"S\\u1ea3n ph\\u1ea9m Gh\\u1ebf \\u00f4 t\\u00f4 cao c\\u1ea5p Joie Steadi Dark Pewte hi\\u1ec7n shop \\u0111ang c\\u00f3 gi\\u00e1: *2,750,000 VND (gi\\u00e1 g\\u1ed1c 3,200,000 VND)*.\\r\\nB\\u1ea1n tham kh\\u1ea3o c\\u00e1c s\\u1ea3n ph\\u1ea9m sau nh\\u00e9 \\u1ea1:\", \"query_knowledge_base\", \"[\\\"url:['https://scontent.xx.fbcdn.net/v/t1.15752-9/91082126_501675780499282_7670743575553900544_n.png?_nc_cat=105&_nc_sid=b96e70&_nc_ohc=cv9WjzyAq2EAX-2ijUk&_nc_ad=z-m&_nc_cid=0&_nc_zor=9&_nc_ht=scontent.xx&oh=4a383c676ad9b86a134219b8ec91bdb3&oe=5EA28021']\\\", 'attribute:price', 'mention:c\\u00e1i n\\u00e0y']\", \"action_query_babe_kb\"], [\"shop \\u01a1i\", \"Ch\\u00e0o b\\u1ea1n, m\\u00ecnh l\\u00e0 tr\\u1ee3 l\\u00fd \\u1ea3o c\\u1ee7a Shop G\\u1ea5u & B\\u00ed Ng\\u00f4, m\\u00ecnh gi\\u00fap g\\u00ec \\u0111\\u01b0\\u1ee3c b\\u1ea1n \\u1ea1?\", \"greet\", null, \"utter_greet\"], [\"cho m\\u00ecnh xin gi\\u00e1 c\\u00e1i n\\u00e0y v\\u1edbi\\nhttps://scontent.xx.fbcdn.net/v/t1.15752-9/91082126_501675780499282_7670743575553900544_n.png?_nc_cat=105&_nc_sid=b96e70&_nc_ohc=cv9WjzyAq2EAX-2ijUk&_nc_ad=z-m&_nc_cid=0&_nc_zor=9&_nc_ht=scontent.xx&oh=4a383c676ad9b86a134219b8ec91bdb3&oe=5EA28021\", \"S\\u1ea3n ph\\u1ea9m Gh\\u1ebf \\u00f4 t\\u00f4 cao c\\u1ea5p Joie Steadi Dark Pewte hi\\u1ec7n shop \\u0111ang c\\u00f3 gi\\u00e1: *2,750,000 VND (gi\\u00e1 g\\u1ed1c 3,200,000 VND)*.\\r\\nB\\u1ea1n tham kh\\u1ea3o c\\u00e1c s\\u1ea3n ph\\u1ea9m sau nh\\u00e9 \\u1ea1:\", \"query_knowledge_base\", \"[\\\"url:['https://scontent.xx.fbcdn.net/v/t1.15752-9/91082126_501675780499282_7670743575553900544_n.png?_nc_cat=105&_nc_sid=b96e70&_nc_ohc=cv9WjzyAq2EAX-2ijUk&_nc_ad=z-m&_nc_cid=0&_nc_zor=9&_nc_ht=scontent.xx&oh=4a383c676ad9b86a134219b8ec91bdb3&oe=5EA28021']\\\", 'attribute:price', 'mention:c\\u00e1i n\\u00e0y']\", \"action_query_babe_kb\"], [\"ok, c\\u1ea3m \\u01a1n shop\", \"D\\u1ea1, c\\u1ea3m \\u01a1n b\\u1ea1n!\", \"thank\", null, \"utter_thank\"], [\"/greet\", \"Ch\\u00e0o Nguy\\u1ec5n Nhung, m\\u00ecnh l\\u00e0 tr\\u1ee3 l\\u00fd \\u1ea3o c\\u1ee7a Shop G\\u1ea5u & B\\u00ed Ng\\u00f4\", \"greet\", \"[]\", \"utter_greet\"], [\"cho m\\u00ecnh xin gi\\u00e1 c\\u00e1i n\\u00e0y v\\u1edbi\\nhttps://scontent.xx.fbcdn.net/v/t1.15752-9/91082126_501675780499282_7670743575553900544_n.png?_nc_cat=105&_nc_sid=b96e70&_nc_ohc=cv9WjzyAq2EAX-2ijUk&_nc_ad=z-m&_nc_cid=0&_nc_zor=9&_nc_ht=scontent.xx&oh=4a383c676ad9b86a134219b8ec91bdb3&oe=5EA28021\", \"S\\u1ea3n ph\\u1ea9m Gh\\u1ebf \\u00f4 t\\u00f4 cao c\\u1ea5p Gh\\u1ebf \\u00f4 t\\u00f4 cao c\\u1ea5p Joie Steadi Dark Pewte \\u0111ang c\\u00f3 gi\\u00e1 2.750.000 (Gi\\u00e1 g\\u1ed1c: 3.200.000).\\nM\\u1eddi b\\u1ea1n tham kh\\u1ea3o chi ti\\u1ebft s\\u1ea3n ph\\u1ea9m:\\nhttps://shopee.vn/product/36371562/1287118215\", \"query_knowledge_base\", \"[\\\"url:['https://scontent.xx.fbcdn.net/v/t1.15752-9/91082126_501675780499282_7670743575553900544_n.png?_nc_cat=105&_nc_sid=b96e70&_nc_ohc=cv9WjzyAq2EAX-2ijUk&_nc_ad=z-m&_nc_cid=0&_nc_zor=9&_nc_ht=scontent.xx&oh=4a383c676ad9b86a134219b8ec91bdb3&oe=5EA28021']\\\", 'attribute:price', 'mention:c\\u00e1i n\\u00e0y']\", \"action_query_babe_kb\"], [\"m\\u00ecnh \\u0111ang c\\u1ea7n g\\u1ea5p, b\\u1ea1n g\\u1eedi ship lu\\u00f4n cho m\\u00ecnh \\u0111\\u01b0\\u1ee3c kh\\u00f4ng?\", \"C\\u1ea3m \\u01a1n b\\u1ea1n! B\\u1ea1n vui l\\u00f2ng \\u0111i\\u1ec1n th\\u00f4ng tin v\\u00e0o M\\u1eabu \\u0111\\u1eb7t h\\u00e0ng gi\\u00fap shop nh\\u00e9!\\n<Show ra c\\u00e1i b\\u1ea3ng m\\u1eabu \\u0111\\u1eb7t h\\u00e0ng: c\\u00f3 t\\u00ean s\\u1ea3n ph\\u1ea9m, cho kh\\u00e1ch t\\u00f9y ch\\u1ecdn s\\u1ed1 l\\u01b0\\u1ee3ng, m\\u00e0u s\\u1eafc...>\\n<C\\u00e1c th\\u00f4ng tin \\u0111\\u00e3 thu th\\u1eadp \\u0111c th\\u00ec t\\u1ef1 \\u0111i\\u1ec1n lu\\u00f4n, kh\\u00e1ch k ph\\u1ea3i \\u0111i\\u1ec1n n\\u1eefa>\", \"make_order\", \"['ship:c\\u1ea7n g\\u1ea5p', 'ship':'g\\u1eedi ship']\", \"action_make_order\"], [\"B\\u1ed9 \\u0111\\u1ed3 ch\\u01a1i n\\u1ea5u \\u0103n gi\\u00e1 bn \\u1ea1\", \"B\\u1ed9 \\u0111\\u1ed3 ch\\u01a1i nh\\u00e0 b\\u1ebfp th\\u00f4ng minh hi\\u1ec7n shop \\u0111ang c\\u00f3 gi\\u00e1: 790000 VND (gi\\u00e1 g\\u1ed1c 790000 VND). B\\u1ea1n tham kh\\u1ea3o c\\u00e1c s\\u1ea3n ph\\u1ea9m sau nh\\u00e9 \\u1ea1: <show sp>\", \"query_knowledge_base\", \"['attribute:price']\", \"action_query_babe_kb\"], [\"ok shop\", \"D\\u1ea1,v\\u00e2ng\", \"agree\", null, \"utter_agree\"], [\"https://scontent.xx.fbcdn.net/v/t1.15752-9/93409445_248021096324605_3539204290587394048_n.jpg?_nc_cat=100&_nc_sid=b96e70&_nc_ohc=CDp2-oURkTkAX-ROtNE&_nc_ad=z-m&_nc_cid=0&_nc_zor=9&_nc_ht=scontent.xx&oh=a13cc949d1040f31f6f45300484c2189&oe=5EB5A872\", \"B\\u1ea1n \\u0111ang t\\u00ecm ki\\u1ebfm th\\u00f4ng tin g\\u00ec \\u1ea1?\", \"send_link\", \"[\\\"url:['https://scontent.xx.fbcdn.net/v/t1.15752-9/93409445_248021096324605_3539204290587394048_n.jpg?_nc_cat=100&_nc_sid=b96e70&_nc_ohc=CDp2-oURkTkAX-ROtNE&_nc_ad=z-m&_nc_cid=0&_nc_zor=9&_nc_ht=scontent.xx&oh=a13cc949d1040f31f6f45300484c2189&oe=5EB5A872']\\\"]\", \"action_handle_send_link_only\"], [\"Ng\\u1ef1a n\\u00e0y h\\u00e0ng v\\u1ec1 h\\u1ea3 shop?\", \"S\\u1ea3n ph\\u1ea9m  NG\\u1ef0A B\\u1eacP B\\u00caNH HOLLA 2020  hi\\u1ec7n shop c\\u00f3 h\\u00e0ng v\\u00e0 \\u0111ang c\\u00f3 gi\\u00e1: 580000\\n VND (gi\\u00e1 g\\u1ed1c 800000 VND).\\nB\\u1ea1n tham kh\\u1ea3o c\\u00e1c s\\u1ea3n ph\\u1ea9m sau nh\\u00e9 \\u1ea1:\\n<show sp>\", \"query_knowledge_base\", \"['object_type:ng\\u1ef1a', 'mention:n\\u00e0y']\", \"action_query_babe_kb\"], [\"https://scontent.xx.fbcdn.net/v/t1.15752-9/92812185_1223309388006647_5070003679390597120_n.jpg?_nc_cat=102&_nc_sid=b96e70&_nc_ohc=g_UDAFO7FMkAX8iFNTd&_nc_ad=z-m&_nc_cid=0&_nc_zor=9&_nc_ht=scontent.xx&oh=b4d34f75250bd20bb8adc6193f0b996b&oe=5EB812A1\", \"B\\u1ea1n \\u0111ang t\\u00ecm ki\\u1ebfm th\\u00f4ng tin g\\u00ec \\u1ea1?\", \"send_link\", \"[\\\"url:['https://scontent.xx.fbcdn.net/v/t1.15752-9/92812185_1223309388006647_5070003679390597120_n.jpg?_nc_cat=102&_nc_sid=b96e70&_nc_ohc=g_UDAFO7FMkAX8iFNTd&_nc_ad=z-m&_nc_cid=0&_nc_zor=9&_nc_ht=scontent.xx&oh=b4d34f75250bd20bb8adc6193f0b996b&oe=5EB812A1']\\\"]\", \"action_handle_send_link_only\"], [\"B\\u1ea1n \\u01a1i b\\u1ed9 n\\u00e0y bao ti\\u1ec1n \\u1ea1\", \"S\\u1ea3n ph\\u1ea9m B\\u1ea2NG V\\u1ebc HOLLA 2 in 1 hi\\u1ec7n shop \\u0111ang c\\u00f3 gi\\u00e1: *830,000 VND (gi\\u00e1 g\\u1ed1c 1,090,000 VND)*.\\r\\nB\\u1ea1n tham kh\\u1ea3o c\\u00e1c s\\u1ea3n ph\\u1ea9m sau nh\\u00e9 \\u1ea1:\", \"query_knowledge_base\", \"['mention:b\\u1ed9 n\\u00e0y', 'attribute:price']\", \"action_query_babe_kb\"], [\"Cho m xem m\\u00e0u\", \"M\\u00ecnh ch\\u01b0a x\\u00e1c \\u0111\\u1ecbnh \\u0111\\u01b0\\u1ee3c m\\u00f3n \\u0111\\u1ed3 b\\u1ea1n h\\u1ecfi, b\\u1ea1n m\\u00f4 t\\u1ea3 r\\u00f5 h\\u01a1n gi\\u00fap m\\u00ecnh nh\\u00e9!\", \"query_knowledge_base\", \"['attribute:color']\", \"action_query_babe_kb\"], [\"Gh\\u1ebf \\u0103n d\\u1eb7m newber \\u1ea1\", \"D\\u1ea1, s\\u1ea3n ph\\u1ea9m Gh\\u1ebf \\u0102n h\\u00e3ng s\\u1ea3n xu\\u1ea5t Newber hi\\u1ec7n t\\u1ea1i b\\u00ean shop \\u0111ang t\\u1ea1m h\\u1ebft h\\u00e0ng \\u1ea1. B\\u1ea1n tham kh\\u1ea3o c\\u00e1c s\\u1ea3n ph\\u1ea9m kh\\u00e1c d\\u00e0nh cho b\\u00e9 nh\\u00e9!\", \"query_knowledge_base\", \"['object_type:ghe_an', 'brand:newber']\", \"action_query_babe_kb\"], [\"b \\u01a1i cho m\\u00ecnh h\\u1ecfi ch\\u00fat\\nb\\u00ean m\\u00ecnh c\\u00f3 qu\\u00e2y k k \\u1ea1\", \"S\\u1ea3n ph\\u1ea9m  Qu\\u00e2y  hi\\u1ec7n shop \\u0111ang c\\u00f3 gi\\u00e1: *1,440,000 VND (gi\\u00e1 g\\u1ed1c 1,490,000 VND), 1,040,000 VND (gi\\u00e1 g\\u1ed1c 1,290,000 VND), 1,340,000 VND (gi\\u00e1 g\\u1ed1c 1,390,000 VND)*.\\nB\\u1ea1n tham kh\\u1ea3o c\\u00e1c s\\u1ea3n ph\\u1ea9m sau nh\\u00e9 \\u1ea1:\", \"query_knowledge_base\", \"['object_type:quay']\", \"action_query_babe_kb\"], [\"m\\u1eabu n\\u00e0y kt bn h\\u1ea3 b\", \"M\\u00ecnh ch\\u01b0a x\\u00e1c \\u0111\\u1ecbnh \\u0111\\u01b0\\u1ee3c m\\u00f3n \\u0111\\u1ed3 b\\u1ea1n h\\u1ecfi, b\\u1ea1n m\\u00f4 t\\u1ea3 r\\u00f5 h\\u01a1n gi\\u00fap m\\u00ecnh nh\\u00e9!\", \"query_knowledge_base\", \"['mention:m\\u1eabu n\\u00e0y', 'attribute:size']\", \"action_query_babe_kb\"], [\"https://scontent.xx.fbcdn.net/v/t1.15752-9/92319989_243079400401587_6154261374332567552_n.jpg?_nc_cat=102&_nc_sid=b96e70&_nc_ohc=YkHJKwU8VpUAX-Gwl3X&_nc_ad=z-m&_nc_cid=0&_nc_zor=9&_nc_ht=scontent.xx&oh=80ff0124dbde1098c7a2bee69d87cac8&oe=5EB719F6\", \"S\\u1ea3n ph\\u1ea9m  COMBO HOLLA LI\\u00caN HO\\u00c0N 2020 hi\\u1ec7n shop \\u0111ang c\\u00f3 k\\u00edch th\\u01b0\\u1edbc: *1.8x2M*.\\nB\\u1ea1n tham kh\\u1ea3o s\\u1ea3n ph\\u1ea9m sau nh\\u00e9 \\u1ea1:\\n<show card sp>\", \"send_link\", \"[\\\"url:['https://scontent.xx.fbcdn.net/v/t1.15752-9/92319989_243079400401587_6154261374332567552_n.jpg?_nc_cat=102&_nc_sid=b96e70&_nc_ohc=YkHJKwU8VpUAX-Gwl3X&_nc_ad=z-m&_nc_cid=0&_nc_zor=9&_nc_ht=scontent.xx&oh=80ff0124dbde1098c7a2bee69d87cac8&oe=5EB719F6']\\\"]\", \"action_handle_send_link_only\"], [\"shop \\u01a1i\", \"Ch\\u00e0o b\\u1ea1n, m\\u00ecnh l\\u00e0 tr\\u1ee3 l\\u00fd \\u1ea3o c\\u1ee7a Shop G\\u1ea5u & B\\u00ed Ng\\u00f4, m\\u00ecnh gi\\u00fap g\\u00ec \\u0111\\u01b0\\u1ee3c b\\u1ea1n \\u1ea1?\", \"greet\", null, \"utter_greet\"], [\"https://scontent.xx.fbcdn.net/v/t1.15752-9/91195826_498480424370303_2420395967455952896_n.jpg?_nc_cat=106&_nc_sid=b96e70&_nc_ohc=xbapPlP7xmIAX_VXW-N&_nc_ad=z-m&_nc_cid=0&_nc_zor=9&_nc_ht=scontent.xx&oh=9659d65beb602c42382325bcb6359a57&oe=5EA77EEF\", \"B\\u1ea1n \\u0111ang t\\u00ecm ki\\u1ebfm th\\u00f4ng tin g\\u00ec \\u1ea1?\", \"send_link\", \"[\\\"url:['https://scontent.xx.fbcdn.net/v/t1.15752-9/91195826_498480424370303_2420395967455952896_n.jpg?_nc_cat=106&_nc_sid=b96e70&_nc_ohc=xbapPlP7xmIAX_VXW-N&_nc_ad=z-m&_nc_cid=0&_nc_zor=9&_nc_ht=scontent.xx&oh=9659d65beb602c42382325bcb6359a57&oe=5EA77EEF']\\\"]\", \"action_handle_send_link_only\"], [\"B c\\u00f3 s\\u1eb5n thanh ch\\u1eafn gi\\u01b0\\u1eddng n\\u00e0y ko?\", \"S\\u1ea3n ph\\u1ea9m Thanh ch\\u1eafn gi\\u01b0\\u1eddng cao c\\u1ea5p d\\u1ea1ng tr\\u01b0\\u1ee3t Umoo ch\\u00ednh h\\u00e3ng \\u0111ang c\\u00f3 gi\\u00e1: 500.000 (Gi\\u00e1 g\\u1ed1c: 610.000).\\nM\\u1eddi b\\u1ea1n xem s\\u1ea3n ph\\u1ea9m t\\u1ea1i link:\\n<Show card>\", \"query_knowledge_base\", \"['object_type:thanh_chan_giuong']\", \"action_query_babe_kb\"], [\"lo\\u1ea1i n\\u00e0y c\\u00f3 nh\\u1eefng k\\u00edch th\\u01b0\\u1edbc n\\u00e0o shop nh\\u1ec9?\", \"S\\u1ea3n ph\\u1ea9m Thanh ch\\u1eafn gi\\u01b0\\u1eddng cao c\\u1ea5p d\\u1ea1ng tr\\u01b0\\u1ee3t Umoo ch\\u00ednh h\\u00e3ng c\\u00f3 c\\u00e1c k\\u00edch th\\u01b0\\u1edbc: 1m6, 1m8, 2m, 2m2.\", \"query_knowledge_base\", \"['mention:lo\\u1ea1i n\\u00e0y', 'attribute:size']\", \"action_query_babe_kb\"], [\"ok shop\", \"V\\u00e2ng \\u1ea1!\", \"agree\", null, \"utter_agree\"], [\"https://scontent.xx.fbcdn.net/v/t1.15752-9/91116566_291171825206315_2457738113934426112_n.jpg?_nc_cat=111&_nc_sid=b96e70&_nc_oc=AQl0eJdwRKLYDOTb3-7GEEopWEg73tj53KuP5VxJRcvtdD9rcM6ZrFogw5sbRM9s7R-eYHilgr7XsDCjxJ5VauHq&_nc_ad=z-m&_nc_cid=0&_nc_zor=9&_nc_ht=scontent.xx&oh=21cbaa7a85cf4cbf2e946bbc78f7ca73&oe=5EA6F7BA\", \"B\\u1ea1n \\u0111ang t\\u00ecm ki\\u1ebfm th\\u00f4ng tin g\\u00ec \\u1ea1?\", \"send_link\", \"[\\\"url:['https://scontent.xx.fbcdn.net/v/t1.15752-9/91116566_291171825206315_2457738113934426112_n.jpg?_nc_cat=111&_nc_sid=b96e70&_nc_oc=AQl0eJdwRKLYDOTb3-7GEEopWEg73tj53KuP5VxJRcvtdD9rcM6ZrFogw5sbRM9s7R-eYHilgr7XsDCjxJ5VauHq&_nc_ad=z-m&_nc_cid=0&_nc_zor=9&_nc_ht=scontent.xx&oh=21cbaa7a85cf4cbf2e946bbc78f7ca73&oe=5EA6F7BA']\\\"]\", \"action_handle_send_link_only\"], [\"Shop c\\u00f2n b\\u1ed9 n\\u00e0y k \\u1ea1\", \"D\\u1ea1 m\\u1eddi b\\u1ea1n tham kh\\u1ea3o s\\u1ea3n ph\\u1ea9m hi\\u1ec7n c\\u00f3 t\\u1ea1i shop nh\\u00e9!\\r\\n<Show card B\\u1ec3 d\\u1ef1ng th\\u00e0nh cao Doctor Dolphin>\", \"query_knowledge_base\", \"['mention:b\\u1ed9 n\\u00e0y']\", \"action_query_babe_kb\"], [\"shop \\u01a1i\", \"Ch\\u00e0o b\\u1ea1n, m\\u00ecnh l\\u00e0 ...\", \"greet\", \"[]\", \"utter_greet\"], [\"Cho m\\u00ecnh h\\u1ecfi b\\u00ean b\\u1ea1n c\\u00f3 m\\u00e1y h\\u00fat s\\u1eefa Avent hoa tuy\\u1ebft kh\\u00f4ng \\u1ea1?\", \"S\\u1ea3n ph\\u1ea9m  M\\u00e1y h\\u00fat s\\u1eefa \\u0111i\\u1ec7n \\u0111\\u00f4i Avent Snow (Ch\\u00ednh h\\u00e3ng - Cty V\\u1ea1n An) h\\u00e3ng s\\u1ea3n xu\\u1ea5t Avent hi\\u1ec7n shop \\u0111ang c\\u00f3 gi\\u00e1: 4,990,000 VND (gi\\u00e1 g\\u1ed1c 6,950,000 VND).\\nB\\u1ea1n tham kh\\u1ea3o t\\u1ea1i link sau \\u1ea1:\\n<Show card>\", \"query_knowledge_base\", \"['object_type:may_hut_sua', 'brand:avent']\", \"action_query_babe_kb\"], [\"lo\\u1ea1i n\\u00e0y d\\u00f9ng c\\u00f3 t\\u1ed1t kh\\u00f4ng b\\u1ea1n nh\\u1ec9?\", null, \"handover_to_inbox\", \"['mention:lo\\u1ea1i n\\u00e0y']\", \"action_handover_to_inbox\"], [\"alo shop\", \"Ch\\u00e0o b\\u1ea1n, m\\u00ecnh l\\u00e0 tr\\u1ee3 l\\u00fd \\u1ea3o c\\u1ee7a Shop G\\u1ea5u & B\\u00ed Ng\\u00f4, m\\u00ecnh gi\\u00fap g\\u00ec \\u0111\\u01b0\\u1ee3c b\\u1ea1n \\u1ea1?\", \"greet\", null, \"utter_greet\"], [\"https://scontent.xx.fbcdn.net/v/t1.15752-9/91179254_522333818714923_2603681931581194240_n.jpg?_nc_cat=106&_nc_sid=b96e70&_nc_ohc=vIHq163ac_kAX-MHxt8&_nc_ad=z-m&_nc_cid=0&_nc_zor=9&_nc_ht=scontent.xx&oh=19368d98471da439001ddf5dc8cab52d&oe=5EA2F89D\", \"B\\u1ea1n \\u0111ang t\\u00ecm ki\\u1ebfm th\\u00f4ng tin g\\u00ec \\u1ea1?\\r\\n\", \"send_link\", \"[\\\"url:['https://scontent.xx.fbcdn.net/v/t1.15752-9/91179254_522333818714923_2603681931581194240_n.jpg?_nc_cat=106&_nc_sid=b96e70&_nc_ohc=vIHq163ac_kAX-MHxt8&_nc_ad=z-m&_nc_cid=0&_nc_zor=9&_nc_ht=scontent.xx&oh=19368d98471da439001ddf5dc8cab52d&oe=5EA2F89D']\\\"]\", \"action_handle_send_link_only\"], [\"M\\u00ecnh mu\\u00f3n mua xe n\\u00e0y\", \"S\\u1ea3n ph\\u1ea9m Xe t\\u1eadp \\u0111i cao c\\u1ea5p Tommorrow Sky - CH\\u00cdNH H\\u00c3NG c\\u00f3 gi\\u00e1 449.000 (Gi\\u00e1 g\\u1ed1c: 850.000).\\n<Show card s\\u1ea3n ph\\u1ea9m>\", \"query_knowledge_base\", \"['object_type:xe', 'mention:n\\u00e0y']\", \"action_query_babe_kb\"], [\"shop \\u01a1i\", \"Ch\\u00e0o b\\u1ea1n, m\\u00ecnh l\\u00e0 tr\\u1ee3 l\\u00fd \\u1ea3o c\\u1ee7a Shop G\\u1ea5u & B\\u00ed Ng\\u00f4, m\\u00ecnh gi\\u00fap g\\u00ec \\u0111\\u01b0\\u1ee3c b\\u1ea1n \\u1ea1?\", \"greet\", null, \"utter_greet\"], [\"https://scontent.xx.fbcdn.net/v/t1.15752-9/91140590_169156024104970_9149727164638167040_n.jpg?_nc_cat=111&_nc_sid=b96e70&_nc_oc=AQksL3EPbJwb5vF7MiFB6VdXzCEmtSqg7QZRnHQamP5qwRCPthge2V2zCm6k7jX6oSw0tzFhj2tL2-yD0lgdlWzF&_nc_ad=z-m&_nc_cid=0&_nc_zor=9&_nc_ht=scontent.xx&oh=a3ace1f889939914cd91509c52946144&oe=5EA53CD3\", \"B\\u1ea1n \\u0111ang t\\u00ecm ki\\u1ebfm th\\u00f4ng tin g\\u00ec \\u1ea1?\\r\\n\", \"send_link\", \"[\\\"url:['https://scontent.xx.fbcdn.net/v/t1.15752-9/91140590_169156024104970_9149727164638167040_n.jpg?_nc_cat=111&_nc_sid=b96e70&_nc_oc=AQksL3EPbJwb5vF7MiFB6VdXzCEmtSqg7QZRnHQamP5qwRCPthge2V2zCm6k7jX6oSw0tzFhj2tL2-yD0lgdlWzF&_nc_ad=z-m&_nc_cid=0&_nc_zor=9&_nc_ht=scontent.xx&oh=a3ace1f889939914cd91509c52946144&oe=5EA53CD3']\\\"]\", \"action_handle_send_link_only\"], [\"M\\u1eabu n\\u00e0y shop c\\u00f2n ko?\", \"D\\u1ea1 m\\u1eddi b\\u1ea1n tham kh\\u1ea3o s\\u1ea3n ph\\u1ea9m hi\\u1ec7n c\\u00f3 t\\u1ea1i shop nh\\u00e9!\", \"query_knowledge_base\", \"['mention:m\\u1eabu n\\u00e0y']\", \"action_query_babe_kb\"], [\"thank b\\u1ea1n\", \"D\\u1ea1, c\\u1ea3m \\u01a1n b\\u1ea1n!\", \"thank\", null, \"utter_thank\"], [\"shop \\u01a1i\", \"Ch\\u00e0o Tr\\u1ea7n Di\\u1ec7u Nh\\u01b0, m\\u00ecnh l\\u00e0 tr\\u1ee3 l\\u00fd \\u1ea3o c\\u1ee7a Shop G\\u1ea5u & B\\u00ed Ng\\u00f4!\\n\\u0110\\u1ec3 h\\u1ed7 tr\\u1ee3 b\\u1ea1n nhanh nh\\u1ea5t c\\u00f3 th\\u1ec3, vui l\\u00f2ng m\\u00f4 t\\u1ea3 ng\\u1eafn g\\u1ecdn v\\u00e0 r\\u00f5 r\\u00e0ng s\\u1ea3n ph\\u1ea9m mu\\u1ed1n t\\u00ecm ki\\u1ebfm nh\\u00e9!\", \"greet\", \"[]\", \"utter_greet\"], [\"Cho m\\u00ecnh h\\u1ecfi\", \"M\\u00ecnh ch\\u01b0a x\\u00e1c \\u0111\\u1ecbnh \\u0111\\u01b0\\u1ee3c m\\u00f3n \\u0111\\u1ed3 b\\u1ea1n h\\u1ecfi, b\\u1ea1n m\\u00f4 t\\u1ea3 r\\u00f5 h\\u01a1n gi\\u00fap m\\u00ecnh nh\\u00e9!\", \"query_knowledge_base\", \"[]\", \"action_query_babe_kb\"], [\"https://scontent.xx.fbcdn.net/v/t1.15752-9/93509238_660084428139084_8562660888245436416_n.jpg?_nc_cat=108&_nc_sid=b96e70&_nc_ohc=yXSk9VsgmBAAX8H8g7O&_nc_ad=z-m&_nc_cid=0&_nc_zor=9&_nc_ht=scontent.xx&oh=4277506b3e5d45205734a572902dadcd&oe=5EBF8F12\\nB\\u00ean b\\u1ea1n c\\u00f3 lo\\u1ea1i n\\u00e0y hk\", \"S\\u1ea3n ph\\u1ea9m M\\u00e1y ti\\u1ec7t tr\\u00f9ng s\\u1ea5y kh\\u00f4 tia UV cao c\\u1ea5p Fatz Baby FB4702 c\\u00f3 gi\\u00e1: 2.350.000 (Gi\\u00e1 g\\u1ed1c: 2.750.000).\\n<Show card>\", \"query_knowledge_base\", \"[\\\"url:['https://scontent.xx.fbcdn.net/v/t1.15752-9/93509238_660084428139084_8562660888245436416_n.jpg?_nc_cat=108&_nc_sid=b96e70&_nc_ohc=yXSk9VsgmBAAX8H8g7O&_nc_ad=z-m&_nc_cid=0&_nc_zor=9&_nc_ht=scontent.xx&oh=4277506b3e5d45205734a572902dadcd&oe=5EBF8F12']\\\", 'mention:lo\\u1ea1i n\\u00e0y']\", \"action_query_babe_kb\"], [\"Ok shop\", \"D\\u1ea1 v\\u00e2ng \\u1ea1!\", \"agree\", null, \"utter_agree\"], [\"Shop \\u01a1i\\nShop c\\u00f2n xe \\u0111\\u1ea1p 3 b\\u00e1nh cho b\\u00e9 ko\", \"S\\u1ea3n ph\\u1ea9m Xe ba b\\u00e1nh hi\\u1ec7n t\\u1ea1i shop \\u0111ang c\\u00f3 c\\u00e1c h\\u00e3ng s\\u1ea3n xu\\u1ea5t sau:\\n<Brand_1> <Brand_2> <Brand_3> ...\", \"query_knowledge_base\", \"['object_type:xe_3_banh']\", \"action_query_babe_kb\"], [\"Bn m\\u1eabu n\\u00e0y ah\\nhttps://scontent.xx.fbcdn.net/v/t1.15752-9/93355558_787687925088945_3366661856440614912_n.jpg?_nc_cat=104&_nc_sid=b96e70&_nc_ohc=LuvI-yPqqx4AX90ZvOD&_nc_ad=z-m&_nc_cid=0&_nc_zor=9&_nc_ht=scontent.xx&oh=feb80fc822356b2b3b1bdd09e69d5f5f&oe=5EC1D7AD\", \"S\\u1ea3n ph\\u1ea9m  COMBO HOLLA LI\\u00caN HO\\u00c0N 2020 gi\\u00e1 4.100.000 (Gi\\u00e1 g\\u1ed1c: 5.000.000).\\n<Show card>\", \"query_knowledge_base\", \"[\\\"url:['https://scontent.xx.fbcdn.net/v/t1.15752-9/93355558_787687925088945_3366661856440614912_n.jpg?_nc_cat=104&_nc_sid=b96e70&_nc_ohc=LuvI-yPqqx4AX90ZvOD&_nc_ad=z-m&_nc_cid=0&_nc_zor=9&_nc_ht=scontent.xx&oh=feb80fc822356b2b3b1bdd09e69d5f5f&oe=5EC1D7AD']\\\", 'attribute:price', 'mention:m\\u1eabu n\\u00e0y']\", \"action_query_babe_kb\"], [\"Bn m\\u1eabu n\\u00e0y ah\\nhttps://scontent.xx.fbcdn.net/v/t1.15752-9/93355558_787687925088945_3366661856440614912_n.jpg?_nc_cat=104&_nc_sid=b96e70&_nc_ohc=LuvI-yPqqx4AX90ZvOD&_nc_ad=z-m&_nc_cid=0&_nc_zor=9&_nc_ht=scontent.xx&oh=feb80fc822356b2b3b1bdd09e69d5f5f&oe=5EC1D7AD\", \"S\\u1ea3n ph\\u1ea9m  COMBO HOLLA LI\\u00caN HO\\u00c0N 2020 gi\\u00e1 4.100.000 (Gi\\u00e1 g\\u1ed1c: 5.000.000).\\n<Show card>\", \"query_knowledge_base\", \"[\\\"url:['https://scontent.xx.fbcdn.net/v/t1.15752-9/93355558_787687925088945_3366661856440614912_n.jpg?_nc_cat=104&_nc_sid=b96e70&_nc_ohc=LuvI-yPqqx4AX90ZvOD&_nc_ad=z-m&_nc_cid=0&_nc_zor=9&_nc_ht=scontent.xx&oh=feb80fc822356b2b3b1bdd09e69d5f5f&oe=5EC1D7AD']\\\", 'attribute:price', 'mention:m\\u1eabu n\\u00e0y']\", \"action_query_babe_kb\"], [\"ok, c\\u1ea3m \\u01a1n b\\u1ea1n\", \"D\\u1ea1 v\\u00e2ng \\u1ea1!\", \"thank\", null, \"utter_thank\"], [\"https://scontent.xx.fbcdn.net/v/t1.15752-9/93372808_237505350937658_7849680219572011008_n.jpg?_nc_cat=106&_nc_sid=b96e70&_nc_ohc=HZIdsjJWIdEAX9Zcxf0&_nc_ad=z-m&_nc_cid=0&_nc_zor=9&_nc_ht=scontent.xx&oh=f23cf6dba930b2cdde6188b71ae0af6d&oe=5EBED982\\nShop \\u01a1i c\\u00f3 ch\\u1eadu t\\u0103m n\\u00e0y ko \\u1ea1\\nGi\\u00e1 bnhiu\", \"D\\u1ea1, c\\u00f3 ph\\u1ea3i b\\u1ea1n mu\\u1ed1n h\\u1ecfi m\\u1ed9t trong c\\u00e1c s\\u1ea3n ph\\u1ea9m d\\u01b0\\u1edbi \\u0111\\u00e2y kh\\u00f4ng \\u1ea1?\\n (Vui l\\u00f2ng \\u1ea5n ch\\u1ecdn 1 s\\u1ea3n ph\\u1ea9m)...\", \"query_knowledge_base\", \"[\\\"url:['https://scontent.xx.fbcdn.net/v/t1.15752-9/93372808_237505350937658_7849680219572011008_n.jpg?_nc_cat=106&_nc_sid=b96e70&_nc_ohc=HZIdsjJWIdEAX9Zcxf0&_nc_ad=z-m&_nc_cid=0&_nc_zor=9&_nc_ht=scontent.xx&oh=f23cf6dba930b2cdde6188b71ae0af6d&oe=5EBED982']\\\", 'attribute:price']\", \"action_query_babe_kb\"], [\"/disagree{\\\"object_type\\\": null}\\r\\n\\r\\n\", \"B\\u1ea1n vui l\\u00f2ng m\\u00f4 t\\u1ea3 r\\u00f5 mong mu\\u1ed1n c\\u1ee7a b\\u1ea1n ho\\u1eb7c chat v\\u1edbi nh\\u00e2n vi\\u00ean t\\u01b0 v\\u1ea5n nh\\u00e9!\", \"disagree\", \"['object_type:None']\", \"utter_disagree\"], [\"/connect_employee\", null, \"connect_employee\", null, \"action_handover_to_inbox\"], [\"https://scontent.xx.fbcdn.net/v/t1.15752-9/93282219_2955120164565617_1480656053644296192_n.jpg?_nc_cat=102&_nc_sid=b96e70&_nc_ohc=Hj-a7J7s9IsAX9_oiUQ&_nc_ad=z-m&_nc_cid=0&_nc_zor=9&_nc_ht=scontent.xx&oh=7a656828dcc017d90efbd1d6b28f922e&oe=5EC20392\\nhttps://scontent.xx.fbcdn.net/v/t1.15752-9/92019276_227770161797062_3872006948278763520_n.jpg?_nc_cat=110&_nc_sid=b96e70&_nc_ohc=iunHKGP-YF4AX-GSloP&_nc_ad=z-m&_nc_cid=0&_nc_zor=9&_nc_ht=scontent.xx&oh=55a529977543f1bae2e200fff5c4a62d&oe=5EC0888D\\nhttps://scontent.xx.fbcdn.net/v/t1.15752-9/92691038_549798449252080_714445944011096064_n.jpg?_nc_cat=107&_nc_sid=b96e70&_nc_ohc=tk3aaQnr2kEAX9TQPsM&_nc_ad=z-m&_nc_cid=0&_nc_zor=9&_nc_ht=scontent.xx&oh=acd989282b420cc45bd0dc478eb2f4cb&oe=5EBF2CBB\\n\\u0110\\u1ec1u l\\u00e0 1 xe h\\u1ea3 ch\\u1ecb oi\", null, \"handover_to_inbox\", \"[\\\"url:['https://scontent.xx.fbcdn.net/v/t1.15752-9/92691038_549798449252080_714445944011096064_n.jpg?_nc_cat=107&_nc_sid=b96e70&_nc_ohc=tk3aaQnr2kEAX9TQPsM&_nc_ad=z-m&_nc_cid=0&_nc_zor=9&_nc_ht=scontent.xx&oh=acd989282b420cc45bd0dc478eb2f4cb&oe=5EBF2CBB', 'https://scontent.xx.fbcdn.net/v/t1.15752-9/92019276_227770161797062_3872006948278763520_n.jpg?_nc_cat=110&_nc_sid=b96e70&_nc_ohc=iunHKGP-YF4AX-GSloP&_nc_ad=z-m&_nc_cid=0&_nc_zor=9&_nc_ht=scontent.xx&oh=55a529977543f1bae2e200fff5c4a62d&oe=5EC0888D', 'https://scontent.xx.fbcdn.net/v/t1.15752-9/93282219_2955120164565617_1480656053644296192_n.jpg?_nc_cat=102&_nc_sid=b96e70&_nc_ohc=Hj-a7J7s9IsAX9_oiUQ&_nc_ad=z-m&_nc_cid=0&_nc_zor=9&_nc_ht=scontent.xx&oh=7a656828dcc017d90efbd1d6b28f922e&oe=5EC20392']\\\"]\", \"action_handover_to_inbox\"], [\"shop \\u01a1i\", \"Ch\\u00e0o b\\u1ea1n, m\\u00ecnh l\\u00e0 tr\\u1ee3 l\\u00fd \\u1ea3o c\\u1ee7a Shop G\\u1ea5u & B\\u00ed Ng\\u00f4, m\\u00ecnh gi\\u00fap g\\u00ec \\u0111\\u01b0\\u1ee3c b\\u1ea1n \\u1ea1?\", \"greet\", \"[]\", \"utter_greet\"], [\"https://scontent.xx.fbcdn.net/v/t1.15752-9/93942919_236576060921353_8212294017631649792_n.jpg?_nc_cat=110&_nc_sid=b96e70&_nc_ohc=x7L3d8CsyC4AX9jTMxO&_nc_ad=z-m&_nc_cid=0&_nc_zor=9&_nc_ht=scontent.xx&oh=35be75d9220bfb0bd5b9d37949f56726&oe=5EBFCEBD\\nB\\u00e1o gi\\u00e1 gi\\u00fap m\\u00ecnh\\nV\\u00e0 b\\u00ean b c\\u00f3 b\\u00e0n g\\u1ed9i \\u0111\\u00e0u cho b\\u00e9 k\\nC\\u00f3 s\\u1eb5n k b\\u1ea1n\", \"D\\u1ea1, c\\u00f3 ph\\u1ea3i b\\u1ea1n mu\\u1ed1n h\\u1ecfi m\\u1ed9t trong c\\u00e1c s\\u1ea3n ph\\u1ea9m d\\u01b0\\u1edbi \\u0111\\u00e2y kh\\u00f4ng \\u1ea1?\\n (Vui l\\u00f2ng \\u1ea5n ch\\u1ecdn 1 s\\u1ea3n ph\\u1ea9m)...\", \"query_knowledge_base\", \"[\\\"url:['https://scontent.xx.fbcdn.net/v/t1.15752-9/93942919_236576060921353_8212294017631649792_n.jpg?_nc_cat=110&_nc_sid=b96e70&_nc_ohc=x7L3d8CsyC4AX9jTMxO&_nc_ad=z-m&_nc_cid=0&_nc_zor=9&_nc_ht=scontent.xx&oh=35be75d9220bfb0bd5b9d37949f56726&oe=5EBFCEBD']\\\", 'attribute:price']\", \"action_query_babe_kb\"], [\"K b\\u00e0n g\\u1ed9i \\u0111\\u1ea7u n\\u1eefa b\\u1ea1n\", \"B\\u1ea1n vui l\\u00f2ng m\\u00f4 t\\u1ea3 r\\u00f5 mong mu\\u1ed1n c\\u1ee7a b\\u1ea1n ho\\u1eb7c chat v\\u1edbi nh\\u00e2n vi\\u00ean t\\u01b0 v\\u1ea5n nh\\u00e9!\", \"disagree\", \"[]\", \"utter_disagree\"], [\"/connect_employee\", null, \"connect_employee\", null, \"action_handover_to_inbox\"], [\"shop \\u01a1i\", \"Ch\\u00e0o Thu Anh, m\\u00ecnh l\\u00e0 tr\\u1ee3 l\\u00fd \\u1ea3o c\\u1ee7a Shop G\\u1ea5u & B\\u00ed Ng\\u00f4!\\n\\u0110\\u1ec3 h\\u1ed7 tr\\u1ee3 b\\u1ea1n nhanh nh\\u1ea5t c\\u00f3 th\\u1ec3, vui l\\u00f2ng m\\u00f4 t\\u1ea3 ng\\u1eafn g\\u1ecdn v\\u00e0 r\\u00f5 r\\u00e0ng s\\u1ea3n ph\\u1ea9m mu\\u1ed1n t\\u00ecm ki\\u1ebfm nh\\u00e9!\", \"greet\", \"[]\", \"utter_greet\"], [\"https://scontent.xx.fbcdn.net/v/t1.15752-9/93942919_236576060921353_8212294017631649792_n.jpg?_nc_cat=110&_nc_sid=b96e70&_nc_ohc=x7L3d8CsyC4AX9jTMxO&_nc_ad=z-m&_nc_cid=0&_nc_zor=9&_nc_ht=scontent.xx&oh=35be75d9220bfb0bd5b9d37949f56726&oe=5EBFCEBD\\nB\\u00e1o gi\\u00e1 gi\\u00fap m\\u00ecnh\\nV\\u00e0 b\\u00ean b c\\u00f3 b\\u00e0n g\\u1ed9i \\u0111\\u00e0u cho b\\u00e9 k\\nC\\u00f3 s\\u1eb5n k b\\u1ea1n\", \"D\\u1ea1, c\\u00f3 ph\\u1ea3i b\\u1ea1n mu\\u1ed1n h\\u1ecfi m\\u1ed9t trong c\\u00e1c s\\u1ea3n ph\\u1ea9m d\\u01b0\\u1edbi \\u0111\\u00e2y kh\\u00f4ng \\u1ea1?\\n (Vui l\\u00f2ng \\u1ea5n ch\\u1ecdn 1 s\\u1ea3n ph\\u1ea9m)...\", \"query_knowledge_base\", \"[\\\"url:['https://scontent.xx.fbcdn.net/v/t1.15752-9/93942919_236576060921353_8212294017631649792_n.jpg?_nc_cat=110&_nc_sid=b96e70&_nc_ohc=x7L3d8CsyC4AX9jTMxO&_nc_ad=z-m&_nc_cid=0&_nc_zor=9&_nc_ht=scontent.xx&oh=35be75d9220bfb0bd5b9d37949f56726&oe=5EBFCEBD']\\\", 'attribute:price']\", \"action_query_babe_kb\"], [\"K b\\u00e0n g\\u1ed9i \\u0111\\u1ea7u n\\u1eefa b\\u1ea1n\", \"B\\u1ea1n vui l\\u00f2ng m\\u00f4 t\\u1ea3 r\\u00f5 mong mu\\u1ed1n c\\u1ee7a b\\u1ea1n ho\\u1eb7c chat v\\u1edbi nh\\u00e2n vi\\u00ean t\\u01b0 v\\u1ea5n nh\\u00e9!\\n<Show button [Chat v\\u1edbi nh\\u00e2n vi\\u00ean] >\", \"disagree\", \"[]\", \"utter_disagree\"], [\"ch\\u1ecb mu\\u1ed1n mua th\\u00eam c\\u00e1i b\\u00e0n g\\u1ed9i \\u0111\\u1ea7u n\\u1eefa\", \"D\\u1ea1 hi\\u1ec7n t\\u1ea1i s\\u1ea3n ph\\u1ea9m B\\u00e0n g\\u1ed9i \\u0111\\u1ea7u shop \\u0111ang h\\u1ebft h\\u00e0ng \\u1ea1.\", \"query_knowledge_base\", \"[object_type:ban_goi_dau]\", \"action_query_babe_kb\"], [\"ok em\", \"D\\u1ea1 v\\u00e2ng \\u1ea1!\", \"agree\", null, \"utter_agree\"], [\"B\\u1ed9 n\\u00e0y bao nhi\\u00eau b\\u1ea1n\", \"M\\u00ecnh ch\\u01b0a x\\u00e1c \\u0111\\u1ecbnh \\u0111\\u01b0\\u1ee3c m\\u00f3n \\u0111\\u1ed3 b\\u1ea1n h\\u1ecfi, b\\u1ea1n m\\u00f4 t\\u1ea3 r\\u00f5 h\\u01a1n gi\\u00fap m\\u00ecnh nh\\u00e9!\", \"query_knowledge_base\", \"['mention:b\\u1ed9 n\\u00e0y', 'attribute:price']\", \"action_query_babe_kb\"], [\"https://scontent.xx.fbcdn.net/v/t1.15752-9/93831201_1146889219003227_7546191276316557312_n.jpg?_nc_cat=105&_nc_sid=b96e70&_nc_oc=AQkuiFn2HKv0U6Hz-7RRHmrQAjUe-uffEK34qJgnFu6_ykFT-y29UT6dfe6Tv3zTmX6LSt07VktpDCc5axlV9PMD&_nc_ad=z-m&_nc_cid=0&_nc_zor=9&_nc_ht=scontent.xx&oh=407a378e86bd2e1221efec86158f3723&oe=5EC0F33A\", \"S\\u1ea3n ph\\u1ea9m  B\\u00e0n h\\u1ecdc, b\\u1ea3n ch\\u01a1i l\\u1eafp gh\\u00e9p Lego cao c\\u1ea5p  hi\\u1ec7n shop \\u0111ang c\\u00f3 gi\\u00e1: *995,000 VND (gi\\u00e1 g\\u1ed1c 1,750,000 VND)*.\\nB\\u1ea1n tham kh\\u1ea3o c\\u00e1c s\\u1ea3n ph\\u1ea9m sau nh\\u00e9 \\u1ea1:\", \"send_link\", \"[\\\"url:['https://scontent.xx.fbcdn.net/v/t1.15752-9/93831201_1146889219003227_7546191276316557312_n.jpg?_nc_cat=105&_nc_sid=b96e70&_nc_oc=AQkuiFn2HKv0U6Hz-7RRHmrQAjUe-uffEK34qJgnFu6_ykFT-y29UT6dfe6Tv3zTmX6LSt07VktpDCc5axlV9PMD&_nc_ad=z-m&_nc_cid=0&_nc_zor=9&_nc_ht=scontent.xx&oh=407a378e86bd2e1221efec86158f3723&oe=5EC0F33A']\\\"]\", \"action_handle_send_link_only\"], [\"https://scontent.xx.fbcdn.net/v/t1.15752-9/93580519_538582043761954_1298513551547170816_n.jpg?_nc_cat=110&_nc_sid=b96e70&_nc_ohc=V-gNgxOgT4YAX91GbRA&_nc_ad=z-m&_nc_cid=0&_nc_zor=9&_nc_ht=scontent.xx&oh=37247cf249e08d7d0658803b3f22d363&oe=5EBED552\\nB\\u1ed9 n\\u00e0y bn ah\", \"S\\u1ea3n ph\\u1ea9m  B\\u1ed9 \\u0111\\u1ed3 ch\\u01a1i nh\\u00e0 b\\u1ebfp th\\u00f4ng minh  hi\\u1ec7n shop \\u0111ang c\\u00f3 gi\\u00e1: *790,000 VND (gi\\u00e1 g\\u1ed1c 790,000 VND)*.\\nB\\u1ea1n tham kh\\u1ea3o c\\u00e1c s\\u1ea3n ph\\u1ea9m sau nh\\u00e9 \\u1ea1:\", \"query_knowledge_base\", \"[\\\"url:['https://scontent.xx.fbcdn.net/v/t1.15752-9/93580519_538582043761954_1298513551547170816_n.jpg?_nc_cat=110&_nc_sid=b96e70&_nc_ohc=V-gNgxOgT4YAX91GbRA&_nc_ad=z-m&_nc_cid=0&_nc_zor=9&_nc_ht=scontent.xx&oh=37247cf249e08d7d0658803b3f22d363&oe=5EBED552']\\\", 'mention:b\\u1ed9 n\\u00e0y', 'attribute:price']\", \"action_query_babe_kb\"], [\"D\\u1ea1 v\\u00e2ng b\", \"D\\u1ea1 v\\u00e2ng \\u1ea1!\", \"agree\", \"[]\", \"utter_agree\"], [\"https://scontent.xx.fbcdn.net/v/t1.15752-9/93888763_534820093897495_8873435174071697408_n.jpg?_nc_cat=106&_nc_sid=b96e70&_nc_ohc=FKWPkRS2YlUAX_Kn-nn&_nc_ad=z-m&_nc_cid=0&_nc_zor=9&_nc_ht=scontent.xx&oh=7e3aa2900cd80040c578cdc8cd99deef&oe=5EC130D5\", \"B\\u1ea1n \\u0111ang t\\u00ecm ki\\u1ebfm th\\u00f4ng tin g\\u00ec \\u1ea1?\", \"send_link\", \"[\\\"url:['https://scontent.xx.fbcdn.net/v/t1.15752-9/93888763_534820093897495_8873435174071697408_n.jpg?_nc_cat=106&_nc_sid=b96e70&_nc_ohc=FKWPkRS2YlUAX_Kn-nn&_nc_ad=z-m&_nc_cid=0&_nc_zor=9&_nc_ht=scontent.xx&oh=7e3aa2900cd80040c578cdc8cd99deef&oe=5EC130D5']\\\"]\", \"action_handle_send_link_only\"], [\"B\\u1ed9 n\\u00e0y gi\\u00e2 bn \\u1ea1 shop\", \"S\\u1ea3n ph\\u1ea9m  B\\u1ed9 \\u0111\\u1ed3 ch\\u01a1i nh\\u00e0 b\\u1ebfp th\\u00f4ng minh  hi\\u1ec7n shop \\u0111ang c\\u00f3 gi\\u00e1: *790,000 VND (gi\\u00e1 g\\u1ed1c 790,000 VND)*.\\nB\\u1ea1n tham kh\\u1ea3o c\\u00e1c s\\u1ea3n ph\\u1ea9m sau nh\\u00e9 \\u1ea1:\", \"query_knowledge_base\", \"['mention:b\\u1ed9 n\\u00e0y', 'attribute:price']\", \"action_query_babe_kb\"], [\"Cho t m\\u1ed9t xe ch\\u00f2i ch\\u00e2n luddy\", \"S\\u1ea3n ph\\u1ea9m  Xe Ch\\u00f2i Ch\\u00e2n  hi\\u1ec7n shop \\u0111ang c\\u00f3 gi\\u00e1: *699,000 VND (gi\\u00e1 g\\u1ed1c 998,000 VND), 448,400 VND (gi\\u00e1 g\\u1ed1c 590,000 VND), 499,000 VND (gi\\u00e1 g\\u1ed1c 800,000 VND), 580,000 VND (gi\\u00e1 g\\u1ed1c 800,000 VND)*.\\nB\\u1ea1n tham kh\\u1ea3o c\\u00e1c s\\u1ea3n ph\\u1ea9m sau nh\\u00e9 \\u1ea1:\", \"query_knowledge_base\", \"['object_type:xe_choi_chan', 'brand:luddy']\", \"action_query_babe_kb\"], [\"m\\u00ecnh mu\\u1ed1n mua c\\u00e1i luddy\", \"S\\u1ea3n ph\\u1ea9m Xe ch\\u00f2i ch\\u00e2n th\\u01b0\\u01a1ng hi\\u1ec7u Luddy c\\u00f3 gi\\u00e1: 499,000 VND (gi\\u00e1 g\\u1ed1c 800,000 VND)\\n<show card xe luddy>\", \"query_knowledge_base\", \"['brand:luddy']\", \"action_query_babe_kb\"], [\"ok, m\\u00ecnh l\\u1ea5y c\\u00e1i n\\u00e0y nh\\u00e9\", \"\\\"C\\u1ea3m \\u01a1n b\\u1ea1n! B\\u1ea1n vui l\\u00f2ng \\u0111i\\u1ec1n th\\u00f4ng tin v\\u00e0o M\\u1eabu \\u0111\\u1eb7t h\\u00e0ng gi\\u00fap shop nh\\u00e9!\\n<Show ra c\\u00e1i b\\u1ea3ng m\\u1eabu \\u0111\\u1eb7t h\\u00e0ng: c\\u00f3 t\\u00ean s\\u1ea3n ph\\u1ea9m, cho kh\\u00e1ch t\\u00f9y ch\\u1ecdn s\\u1ed1 l\\u01b0\\u1ee3ng, m\\u00e0u s\\u1eafc...>\\n<C\\u00e1c th\\u00f4ng tin \\u0111\\u00e3 thu th\\u1eadp \\u0111c th\\u00ec t\\u1ef1 \\u0111i\\u1ec1n lu\\u00f4n, kh\\u00e1ch k ph\\u1ea3i \\u0111i\\u1ec1n n\\u1eefa>\\\"\", \"make_order\", \"['mention:c\\u00e1i n\\u00e0y']\", \"action_make_order\"], [\"ship cho m 1 xe t\\u1eadp \\u0111i s\\u01b0 t\\u1eed nh\\u00e9\", \"\\\"\\\"\\\"C\\u1ea3m \\u01a1n b\\u1ea1n! B\\u1ea1n vui l\\u00f2ng \\u0111i\\u1ec1n th\\u00f4ng tin v\\u00e0o M\\u1eabu \\u0111\\u1eb7t h\\u00e0ng gi\\u00fap shop nh\\u00e9!\\n<Show ra c\\u00e1i b\\u1ea3ng m\\u1eabu \\u0111\\u1eb7t h\\u00e0ng: c\\u00f3 t\\u00ean s\\u1ea3n ph\\u1ea9m, cho kh\\u00e1ch t\\u00f9y ch\\u1ecdn s\\u1ed1 l\\u01b0\\u1ee3ng, m\\u00e0u s\\u1eafc...>\\\"\\\"\\\"\\n<X\\u00e1c nh\\u1eadn> <H\\u1ee7y>\", \"query_knowledge_base\", \"['object_type:xe_tap_di,'type:s\\u01b0 t\\u1eed'] \", \"action_query_knowledge_base\"], [\"<X\\u00e1c nh\\u1eadn>\", \"C\\u00e1m \\u01a1n b\\u1ea1n \\u0111\\u00e3 mua h\\u00e0ng t\\u1ea1i shop, \\u0111\\u01a1n h\\u00e0ng s\\u1ebd \\u0111\\u01b0\\u1ee3c giao \\u0111\\u1ebfn 434 tr\\u1ea7n kh\\u00e1t ch\\u00e2n, 2 b\\u00e0 tr\\u01b0ng trong kho\\u1ea3ng 24 h \", \"query_knowledge_base\", null, \"action_query_knowledge_base\"], [\"hello\", \"Ch\\u00e0o b\\u1ea1n, m\\u00ecnh l\\u00e0 tr\\u1ee3 l\\u00fd \\u1ea3o c\\u1ee7a Shop G\\u1ea5u & B\\u00ed Ng\\u00f4, m\\u00ecnh gi\\u00fap g\\u00ec \\u0111\\u01b0\\u1ee3c b\\u1ea1n \\u1ea1?\", \"greet\", \"['brand:hello']\", \"utter_greet\"], [\"Alo, Shop cho m\\u00ecnh h\\u1ecfi ch\\u1eafn c\\u1eeda cho b\\u00e9 v\\u1edbi\", \"S\\u1ea3n ph\\u1ea9m  thanh ch\\u1eafn c\\u1eeda (thanh ch\\u1eafn c\\u1ea7u thang)  hi\\u1ec7n shop \\u0111ang c\\u00f3 gi\\u00e1: *699,000 VND (gi\\u00e1 g\\u1ed1c 998,000 VND), 448,400 VND (gi\\u00e1 g\\u1ed1c 590,000 VND), 499,000 VND (gi\\u00e1 g\\u1ed1c 800,000 VND), 580,000 VND (gi\\u00e1 g\\u1ed1c 800,000 VND)*.\\nB\\u1ea1n tham kh\\u1ea3o c\\u00e1c s\\u1ea3n ph\\u1ea9m sau nh\\u00e9 \\u1ea1:\\n<show card s\\u1ea3n ph\\u1ea9m>\", \"query_knowledge_base\", \"['object_type:thanh_chan_cua,']\", \"action_query_knowledge_base\"], [\"C\\u00e1i th\\u1ee9 2 k\\u00edch th\\u01b0\\u1edbc sao \\u1ea1\", \"S\\u1ea3n ph\\u1ea9m  thanh ch\\u1eafn c\\u1eeda (thanh ch\\u1eafn c\\u1ea7u thang) gi\\u00e1 448,400 VND (gi\\u00e1 g\\u1ed1c 590,000 VND) hi\\u1ec7n shop \\u0111ang c\\u00f3 k\\u00edch th\\u01b0\\u1edbc \\n<74x85x77cm> \\nM\\u1eddi b\\u1ea1n tham kh\\u1ea3o s\\u1ea3n ph\\u1ea9m \\u1ea1:\\n<show card s\\u1ea3n ph\\u1ea9m>\", \"query_knowledge_base\", \"['mention:2', 'attribute:size']\", \"action_query_babe_kb\"], [\"Shop cho e \\u0111\\u1eb7t 2 chi\\u1ebfc n\\u00e0y nh\\u00e9 \\u1ea1\\nhttps://scontent.xx.fbcdn.net/v/t1.15752-9/94119707_246999513317631_5493050639422324736_n.jpg?_nc_cat=102&_nc_sid=b96e70&_nc_ohc=Daeqj9YODcQAX-CFRwg&_nc_ad=z-m&_nc_cid=0&_nc_zor=9&_nc_ht=scontent.xx&oh=6f084e97b2a0525ba301c5e07ad4e1ca&oe=5EC0779C\\nhttps://scontent.xx.fbcdn.net/v/t1.15752-9/93565662_1081483932226317_4632993179384152064_n.jpg?_nc_cat=111&_nc_sid=b96e70&_nc_ohc=d4nkume4GwAAX_ITaqO&_nc_ad=z-m&_nc_cid=0&_nc_zor=9&_nc_ht=scontent.xx&oh=b89362cb2f5e3af20fdf2d6ca8be9a1b&oe=5EC202B9\", \"C\\u00f3 ph\\u1ea3i b\\u1ea1n \\u0111ang mu\\u1ed1n \\u0111\\u1eb7t h\\u00e0ng s\\u1ea3n ph\\u1ea9m sau \\u0111\\u00fang ko \\u1ea1:\\n< cardTh\\u1ea3m g\\u1ea5p XPE> < card Th\\u1ea3m x\\u1ed1p gh\\u00e9p 28 t\\u1ea5m INFANTINO>\\n<\\u0110\\u00fang><Sai>\", \"query_knowledge_base\", \"[\\\"url:['https://scontent.xx.fbcdn.net/v/t1.15752-9/94119707_246999513317631_5493050639422324736_n.jpg?_nc_cat=102&_nc_sid=b96e70&_nc_ohc=Daeqj9YODcQAX-CFRwg&_nc_ad=z-m&_nc_cid=0&_nc_zor=9&_nc_ht=scontent.xx&oh=6f084e97b2a0525ba301c5e07ad4e1ca&oe=5EC0779C', 'https://scontent.xx.fbcdn.net/v/t1.15752-9/93565662_1081483932226317_4632993179384152064_n.jpg?_nc_cat=111&_nc_sid=b96e70&_nc_ohc=d4nkume4GwAAX_ITaqO&_nc_ad=z-m&_nc_cid=0&_nc_zor=9&_nc_ht=scontent.xx&oh=b89362cb2f5e3af20fdf2d6ca8be9a1b&oe=5EC202B9']\\\", 'mention:chi\\u1ebfc n\\u00e0y']\", \"action_query_babe_kb\"], [\"<\\u0110\\u00fang>\", \"\\\"\\\"\\\"C\\u1ea3m \\u01a1n b\\u1ea1n! B\\u1ea1n vui l\\u00f2ng \\u0111i\\u1ec1n th\\u00f4ng tin v\\u00e0o M\\u1eabu \\u0111\\u1eb7t h\\u00e0ng gi\\u00fap shop nh\\u00e9!\\n<Show ra c\\u00e1i b\\u1ea3ng m\\u1eabu \\u0111\\u1eb7t h\\u00e0ng: c\\u00f3 t\\u00ean s\\u1ea3n ph\\u1ea9m, cho kh\\u00e1ch t\\u00f9y ch\\u1ecdn s\\u1ed1 l\\u01b0\\u1ee3ng, m\\u00e0u s\\u1eafc...>\\\"\\\"\\\"\\n<X\\u00e1c nh\\u1eadn> <H\\u1ee7y>\", \"query_knowledge_base\", null, \"action_query_babe_kb\"], [\"<H\\u1ee7y>\", \"B\\u1ea1n \\u0111\\u00e3 h\\u1ee7y \\u0111\\u01a1n h\\u00e0ng th\\u00e0nh c\\u00f4ng\", \"query_knowledge_base\", null, \"action_query_babe_kb\"], [\"Shop cho e \\u0111\\u1eb7t 2 chi\\u1ebfc n\\u00e0y nh\\u00e9 \\u1ea1\\nhttps://scontent.xx.fbcdn.net/v/t1.15752-9/94119707_246999513317631_5493050639422324736_n.jpg?_nc_cat=102&_nc_sid=b96e70&_nc_ohc=Daeqj9YODcQAX-CFRwg&_nc_ad=z-m&_nc_cid=0&_nc_zor=9&_nc_ht=scontent.xx&oh=6f084e97b2a0525ba301c5e07ad4e1ca&oe=5EC0779C\\nhttps://scontent.xx.fbcdn.net/v/t1.15752-9/93565662_1081483932226317_4632993179384152064_n.jpg?_nc_cat=111&_nc_sid=b96e70&_nc_ohc=d4nkume4GwAAX_ITaqO&_nc_ad=z-m&_nc_cid=0&_nc_zor=9&_nc_ht=scontent.xx&oh=b89362cb2f5e3af20fdf2d6ca8be9a1b&oe=5EC202B9\", \"C\\u00f3 ph\\u1ea3i b\\u1ea1n \\u0111ang mu\\u1ed1n \\u0111\\u1eb7t h\\u00e0ng s\\u1ea3n ph\\u1ea9m sau \\u0111\\u00fang ko \\u1ea1:\\n< cardTh\\u1ea3m g\\u1ea5p XPE> < card Th\\u1ea3m x\\u1ed1p gh\\u00e9p 28 t\\u1ea5m INFANTINO>\\n<\\u0110\\u00fang><Sai>\", \"query_knowledge_base\", \"[\\\"url:['https://scontent.xx.fbcdn.net/v/t1.15752-9/94119707_246999513317631_5493050639422324736_n.jpg?_nc_cat=102&_nc_sid=b96e70&_nc_ohc=Daeqj9YODcQAX-CFRwg&_nc_ad=z-m&_nc_cid=0&_nc_zor=9&_nc_ht=scontent.xx&oh=6f084e97b2a0525ba301c5e07ad4e1ca&oe=5EC0779C', 'https://scontent.xx.fbcdn.net/v/t1.15752-9/93565662_1081483932226317_4632993179384152064_n.jpg?_nc_cat=111&_nc_sid=b96e70&_nc_ohc=d4nkume4GwAAX_ITaqO&_nc_ad=z-m&_nc_cid=0&_nc_zor=9&_nc_ht=scontent.xx&oh=b89362cb2f5e3af20fdf2d6ca8be9a1b&oe=5EC202B9']\\\", 'mention:chi\\u1ebfc n\\u00e0y']\", \"action_query_babe_kb\"], [\"<Sai>\", \"- B\\u1ea1n vui l\\u00f2ng m\\u00f4 t\\u1ea3 r\\u00f5 mong mu\\u1ed1n c\\u1ee7a b\\u1ea1n ho\\u1eb7c chat v\\u1edbi nh\\u00e2n vi\\u00ean t\\u01b0 v\\u1ea5n nh\\u00e9!\\n<Show button [Chat v\\u1edbi nh\\u00e2n vi\\u00ean] >\", \"query_knowledge_base\", null, \"action_query_babe_kb\"], [\"/connect_employee\", null, \"connect_employee\", null, \"action_handover_to_inbox\"], [\"Bao nhi\\u00eau \\u1ea1?\", \"M\\u00ecnh ch\\u01b0a x\\u00e1c \\u0111\\u1ecbnh \\u0111\\u01b0\\u1ee3c m\\u00f3n \\u0111\\u1ed3 b\\u1ea1n h\\u1ecfi, b\\u1ea1n m\\u00f4 t\\u1ea3 r\\u00f5 h\\u01a1n gi\\u00fap m\\u00ecnh nh\\u00e9!\", \"query_knowledge_base\", \"['attribute:price']\", \"action_query_babe_kb\"], [\"Th\\u1ea3m \\u0111\\u00e0n umoo \\u00e1 b\", \"D\\u1ea1, s\\u1ea3n ph\\u1ea9m Th\\u1ea3m h\\u00e3ng s\\u1ea3n xu\\u1ea5t Umoo hi\\u1ec7n t\\u1ea1i b\\u00ean shop \\u0111ang t\\u1ea1m h\\u1ebft h\\u00e0ng \\u1ea1. B\\u1ea1n tham kh\\u1ea3o c\\u00e1c s\\u1ea3n ph\\u1ea9m kh\\u00e1c d\\u00e0nh cho b\\u00e9 nh\\u00e9!\", \"query_knowledge_base\", \"['object_type:tham', 'brand:umoo']\", \"action_query_babe_kb\"], [\"ok sh\", \"D\\u1ea1 v\\u00e2ng \\u1ea1!\", \"agree\", null, \"utter_agree\"], [\"https://scontent.xx.fbcdn.net/v/t1.15752-9/93771510_235191447698204_240353022788501504_n.jpg?_nc_cat=105&_nc_sid=b96e70&_nc_oc=AQlx2pVp0r7_f0RjNPCWbwr9XV9j6QbdsFeRGn-dAOQKhtQDKWCKnzalfU5cNEXNX56-SC0B2WDVVA4_PNa0axDZ&_nc_ad=z-m&_nc_cid=0&_nc_zor=9&_nc_ht=scontent.xx&oh=45f391b8434f15864356ad9c7abb704f&oe=5EC0C3B0\\nGi\\u00e1 s\\u00e1ch n\\u00e0y con ko shop\", \"S\\u1ea3n ph\\u1ea9m  Gi\\u00e1 s\\u00e1ch Hamitu  hi\\u1ec7n shop \\u0111ang c\\u00f3 gi\\u00e1: *790,000 VND (gi\\u00e1 g\\u1ed1c 790,000 VND)*.\\nB\\u1ea1n tham kh\\u1ea3o c\\u00e1c s\\u1ea3n ph\\u1ea9m sau nh\\u00e9 \\u1ea1:\", \"query_knowledge_base\", \"[\\\"url:['https://scontent.xx.fbcdn.net/v/t1.15752-9/93771510_235191447698204_240353022788501504_n.jpg?_nc_cat=105&_nc_sid=b96e70&_nc_oc=AQlx2pVp0r7_f0RjNPCWbwr9XV9j6QbdsFeRGn-dAOQKhtQDKWCKnzalfU5cNEXNX56-SC0B2WDVVA4_PNa0axDZ&_nc_ad=z-m&_nc_cid=0&_nc_zor=9&_nc_ht=scontent.xx&oh=45f391b8434f15864356ad9c7abb704f&oe=5EC0C3B0']\\\", 'attribute:price']\", \"action_query_babe_kb\"], [\"C\\u00f2n m\\u00e0u xanh ko shop\", \"S\\u1ea3n ph\\u1ea9m  Gi\\u00e1 s\\u00e1ch Hamitu  m\\u00e0u xanh hi\\u1ec7n c\\u00f2n h\\u00e0ng \\u1ea1.\\nB\\u1ea1n tham kh\\u1ea3o c\\u00e1c s\\u1ea3n ph\\u1ea9m sau nh\\u00e9 \\u1ea1:\", \"query_knowledge_base\", \"['color:m\\u00e0u xanh']\", \"action_query_babe_kb\"], [\"Ok thanks\", \"D\\u1ea1, c\\u1ea3m \\u01a1n \\u1ea1!\", \"thank\", \"[]\", \"utter_thank\"], [\"hi em\", \"Ch\\u00e0o b\\u1ea1n, m\\u00ecnh l\\u00e0 tr\\u1ee3 l\\u00fd \\u1ea3o c\\u1ee7a Shop G\\u1ea5u & B\\u00ed Ng\\u00f4, m\\u00ecnh gi\\u00fap g\\u00ec \\u0111\\u01b0\\u1ee3c b\\u1ea1n \\u1ea1?\", \"greet\", \"[]\", \"utter_greet\"], [\"a \\u0111\\u1eb7t xe n\\u00e0y lu\\u00f4n nh\\u00e9\\nhttps://scontent.xx.fbcdn.net/v/t1.15752-9/93426657_582665362349104_6117563872380452864_n.jpg?_nc_cat=111&_nc_sid=b96e70&_nc_ohc=9aDEp0XKqVoAX_rm0-p&_nc_ad=z-m&_nc_cid=0&_nc_zor=9&_nc_ht=scontent.xx&oh=a4d2c6178976a040c493e58775c20c02&oe=5EC02932\\nm\\u00e0u n\\u00e0y lu\\u00f4n nh\\u00e9\", \"C\\u00f3 ph\\u1ea3i b\\u1ea1n \\u0111ang mu\\u1ed1n \\u0111\\u1eb7t h\\u00e0ng s\\u1ea3n ph\\u1ea9m sau \\u0111\\u00fang ko \\u1ea1:\\n< card XE \\u0110\\u1ea0P C\\u00d3 M\\u00c1I CHE UMOO> \\n<\\u0110\\u00fang><Sai>\", \"query_knowledge_base\", \"[\\\"url:['https://scontent.xx.fbcdn.net/v/t1.15752-9/93426657_582665362349104_6117563872380452864_n.jpg?_nc_cat=111&_nc_sid=b96e70&_nc_ohc=9aDEp0XKqVoAX_rm0-p&_nc_ad=z-m&_nc_cid=0&_nc_zor=9&_nc_ht=scontent.xx&oh=a4d2c6178976a040c493e58775c20c02&oe=5EC02932']\\\", 'object_type:xe', 'mention:n\\u00e0y', 'attribute:color', 'mention:n\\u00e0y']\", \"action_query_babe_kb\"], [\"<\\u0110\\u00fang>\", \"\\\"\\\"\\\"C\\u1ea3m \\u01a1n b\\u1ea1n! B\\u1ea1n vui l\\u00f2ng \\u0111i\\u1ec1n th\\u00f4ng tin v\\u00e0o M\\u1eabu \\u0111\\u1eb7t h\\u00e0ng gi\\u00fap shop nh\\u00e9!\\n<Show ra c\\u00e1i b\\u1ea3ng m\\u1eabu \\u0111\\u1eb7t h\\u00e0ng: c\\u00f3 t\\u00ean s\\u1ea3n ph\\u1ea9m, cho kh\\u00e1ch t\\u00f9y ch\\u1ecdn s\\u1ed1 l\\u01b0\\u1ee3ng, m\\u00e0u s\\u1eafc...>\\\"\\\"\\\"\\n<X\\u00e1c nh\\u1eadn> <H\\u1ee7y>\", \"agree\", null, \"action_query_babe_kb\"], [\"<X\\u00e1c nh\\u1eadn>\", \"B\\u1ea1n \\u0111\\u00e3 \\u0111\\u1eb7t h\\u00e0ng th\\u00e0nh c\\u00f4ng, \\u0111\\u01a1n h\\u00e0ng s\\u1ebd \\u0111\\u01b0\\u1ee3c giao \\u0111\\u1ebfn 434 tkc trong kho\\u1ea3ng 24 h \\u1ea1\", \"agree\", \"[]\", \"utter_agree\"], [\"shop oi b\\u00e1o gi\\u00e1 e nh\\u00e9\", null, \"query_knowledge_base\", \"['attribute:price']\", \"action_query_babe_kb\"], [\"https://scontent.xx.fbcdn.net/v/t1.15752-9/93648340_253034409210291_8426945079947558912_n.jpg?_nc_cat=101&_nc_sid=b96e70&_nc_ohc=2G7vc-3J1KcAX-JFUES&_nc_ad=z-m&_nc_cid=0&_nc_zor=9&_nc_ht=scontent.xx&oh=874f23fb53a055d93df5efd471d8ca19&oe=5EC1E172\", \"D\\u1ea1, c\\u00f3 ph\\u1ea3i b\\u1ea1n mu\\u1ed1n h\\u1ecfi m\\u1ed9t trong c\\u00e1c s\\u1ea3n ph\\u1ea9m d\\u01b0\\u1edbi \\u0111\\u00e2y kh\\u00f4ng \\u1ea1?\\r\\n (Vui l\\u00f2ng \\u1ea5n ch\\u1ecdn 1 s\\u1ea3n ph\\u1ea9m)...\", \"send_link\", \"[\\\"url:['https://scontent.xx.fbcdn.net/v/t1.15752-9/93648340_253034409210291_8426945079947558912_n.jpg?_nc_cat=101&_nc_sid=b96e70&_nc_ohc=2G7vc-3J1KcAX-JFUES&_nc_ad=z-m&_nc_cid=0&_nc_zor=9&_nc_ht=scontent.xx&oh=874f23fb53a055d93df5efd471d8ca19&oe=5EC1E172']\\\"]\", \"action_handle_send_link_only\"], [\"/disagree{\\\"object_type\\\": null}\\r\\n\\r\\n\", \"B\\u1ea1n vui l\\u00f2ng m\\u00f4 t\\u1ea3 r\\u00f5 mong mu\\u1ed1n c\\u1ee7a b\\u1ea1n ho\\u1eb7c chat v\\u1edbi nh\\u00e2n vi\\u00ean t\\u01b0 v\\u1ea5n nh\\u00e9!\", \"deny_object_type\", \"['object_type:None']\", \"utter_disagree\"], [\"/connect_employee\", null, \"connect_employee\", null, \"action_handover_to_inbox\"], [\"shop \\u01a1i\\nhttps://scontent.xx.fbcdn.net/v/t1.15752-9/93255120_1079083369126985_2667434300114206720_n.jpg?_nc_cat=103&_nc_sid=b96e70&_nc_ohc=dk1p7EdIWjMAX_wg9sH&_nc_ad=z-m&_nc_cid=0&_nc_zor=9&_nc_ht=scontent.xx&oh=9e16ba685cbda443a28e7671ce23d47c&oe=5EC1B4BD\\nset m\\u00e0u xanh nhiu \\u1ea1\", \"S\\u1ea3n ph\\u1ea9m  B\\u1ed9 \\u0111\\u1ed3 ch\\u01a1i nh\\u00e0 b\\u1ebfp th\\u00f4ng minh m\\u00e0u xanh hi\\u1ec7n shop \\u0111ang c\\u00f3 gi\\u00e1: *790,000 VND (gi\\u00e1 g\\u1ed1c 790,000 VND)*.\\nB\\u1ea1n tham kh\\u1ea3o c\\u00e1c s\\u1ea3n ph\\u1ea9m sau nh\\u00e9 \\u1ea1:\\n<show card sp>\", \"query_knowledge_base\", \"[\\\"url:['https://scontent.xx.fbcdn.net/v/t1.15752-9/93255120_1079083369126985_2667434300114206720_n.jpg?_nc_cat=103&_nc_sid=b96e70&_nc_ohc=dk1p7EdIWjMAX_wg9sH&_nc_ad=z-m&_nc_cid=0&_nc_zor=9&_nc_ht=scontent.xx&oh=9e16ba685cbda443a28e7671ce23d47c&oe=5EC1B4BD']\\\", 'color:m\\u00e0u xanh', 'attribute:price']\", \"action_query_babe_kb\"], [\"L\\u00e0m b\\u1eb1ng nh\\u1ef1a \\u00e0 b\\u1ea1n\", \"S\\u1ea3n ph\\u1ea9m  B\\u1ed9 \\u0111\\u1ed3 ch\\u01a1i nh\\u00e0 b\\u1ebfp th\\u00f4ng minh \\u0111\\u01b0\\u1ee3c l\\u00e0m t\\u1eeb ch\\u1ea5t li\\u1ec7u Nh\\u1ef1a \\u1ea1\", \"query_knowledge_base\", \"['material:b\\u1eb1ng nh\\u1ef1a']\", \"action_query_babe_kb\"], [\"thank shop\", \"D\\u1ea1,v\\u00e2ng \\u1ea1\", \"thank\", null, \"utter_thank\"], [\"B\\u00e1o gi\\u00e1 gi\\u00fap m\\u00ecnh xe n\\u00e0y nh\\u00e9\\nhttps://scontent.xx.fbcdn.net/v/t1.15752-9/94473738_228765461534907_3682761519461826560_n.jpg?_nc_cat=100&_nc_sid=b96e70&_nc_ohc=uDLcqJEOolcAX-GG_Tc&_nc_ad=z-m&_nc_cid=0&_nc_zor=9&_nc_ht=scontent.xx&oh=151f6463223d298d3adaa6a3806487c0&oe=5EC0F060\", \"S\\u1ea3n ph\\u1ea9m  Xe ch\\u00f2i ch\\u00e2n c\\u00f3 b\\u00e0n \\u0111\\u1ea1p cao c\\u1ea5p Motion  hi\\u1ec7n shop \\u0111ang c\\u00f3 gi\\u00e1: *389,400 VND (gi\\u00e1 g\\u1ed1c 590,000 VND)*.\\nB\\u1ea1n tham kh\\u1ea3o c\\u00e1c s\\u1ea3n ph\\u1ea9m sau nh\\u00e9 \\u1ea1:\", \"query_knowledge_base\", \"[\\\"url:['https://scontent.xx.fbcdn.net/v/t1.15752-9/94473738_228765461534907_3682761519461826560_n.jpg?_nc_cat=100&_nc_sid=b96e70&_nc_ohc=uDLcqJEOolcAX-GG_Tc&_nc_ad=z-m&_nc_cid=0&_nc_zor=9&_nc_ht=scontent.xx&oh=151f6463223d298d3adaa6a3806487c0&oe=5EC0F060']\\\", 'attribute:price', 'object_type:xe', 'mention:n\\u00e0y']\", \"action_query_babe_kb\"], [\"Xe n\\u00e0y cho b\\u00e9 t\\u1eeb m\\u1ea5y tu\\u1ed5i ha b\", \"S\\u1ea3n ph\\u1ea9m  Xe ch\\u00f2i ch\\u00e2n c\\u00f3 b\\u00e0n \\u0111\\u1ea1p cao c\\u1ea5p Motion  hi\\u1ec7n shop \\u0111ang c\\u00f3 \\u0111\\u1ed9 tu\\u1ed5i s\\u1eed d\\u1ee5ng: *0 - 36 th\\u00e1ng*.\\n\", \"query_knowledge_base\", \"['object_type:xe', 'mention:n\\u00e0y', 'attribute:age_of_use']\", \"action_query_babe_kb\"], [\"N\\u01b0\\u1edbc n\\u00e0o s\\u1ea3n xu\\u1ea5t v\\u1eady b\\u1ea1n\", \"S\\u1ea3n ph\\u1ea9m  Xe ch\\u00f2i ch\\u00e2n c\\u00f3 b\\u00e0n \\u0111\\u1ea1p cao c\\u1ea5p Motion c\\u00f3 xu\\u1ea5t x\\u1ee9 t\\u1eeb Trung Qu\\u1ed1c \\u1ea1\", \"query_knowledge_base\", \"['attribute:origin']\", \"action_query_babe_kb\"], [\"shop \\u01a1i\", \"Ch\\u00e0o b\\u1ea1n, m\\u00ecnh l\\u00e0 tr\\u1ee3 l\\u00fd \\u1ea3o c\\u1ee7a Shop G\\u1ea5u & B\\u00ed Ng\\u00f4, m\\u00ecnh gi\\u00fap g\\u00ec \\u0111\\u01b0\\u1ee3c b\\u1ea1n \\u1ea1?\", \"greet\", null, \"utter_greet\"], [\"https://scontent.xx.fbcdn.net/v/t1.15752-9/93422728_2617871585161789_4870721839715844096_n.jpg?_nc_cat=110&_nc_sid=b96e70&_nc_ohc=0zczYbPpRJAAX_ADWi8&_nc_ad=z-m&_nc_cid=0&_nc_zor=9&_nc_ht=scontent.xx&oh=582c071897ee02dc5d94c30d6e640cb9&oe=5EBEDA17\", \"B\\u1ea1n \\u0111ang t\\u00ecm ki\\u1ebfm th\\u00f4ng tin g\\u00ec \\u1ea1?\", \"send_link\", \"[\\\"url:['https://scontent.xx.fbcdn.net/v/t1.15752-9/93422728_2617871585161789_4870721839715844096_n.jpg?_nc_cat=110&_nc_sid=b96e70&_nc_ohc=0zczYbPpRJAAX_ADWi8&_nc_ad=z-m&_nc_cid=0&_nc_zor=9&_nc_ht=scontent.xx&oh=582c071897ee02dc5d94c30d6e640cb9&oe=5EBEDA17']\\\"]\", \"action_handle_send_link_only\"], [\"Bn v\\u1eady s\", \"S\\u1ea3n ph\\u1ea9m  XE \\u0110\\u1ea0P C\\u00d3 M\\u00c1I CHE UMOO  hi\\u1ec7n shop \\u0111ang c\\u00f3 gi\\u00e1: *1,148,000 VND (gi\\u00e1 g\\u1ed1c 2,800,000 VND)*.\\nB\\u1ea1n tham kh\\u1ea3o c\\u00e1c s\\u1ea3n ph\\u1ea9m sau nh\\u00e9 \\u1ea1:\\n<show card sp>\", \"query_knowledge_base\", \"['attribute:price']\", \"action_query_babe_kb\"], [\"tr\\u1ecdng l\\u01b0\\u1ee3ng xe bn \\u1ea1\", \"S\\u1ea3n ph\\u1ea9m  XE \\u0110\\u1ea0P C\\u00d3 M\\u00c1I CHE UMOO c\\u00f3 tr\\u1ecdng l\\u01b0\\u1ee3ng 3,6 kg \\u1ea1\", \"query_knowledge_base\", \"['attribute:weight']\", \"action_query_babe_kb\"], [\"Cho m\\u00ecnh xin link shopee\", \"S\\u1ea3n ph\\u1ea9m  XE \\u0110\\u1ea0P C\\u00d3 M\\u00c1I CHE UMOO c\\u00f3 link shopee sau:\\n<link shopee>\", \"query_knowledge_base\", \"['attribute:link']\", \"action_query_babe_kb\"], [\"B\\u1ed9 n\\u00e0y c\\u00f3 g\\u1ea5p l\\u1ea1i dc k shop\", \"M\\u00ecnh ch\\u01b0a x\\u00e1c \\u0111\\u1ecbnh \\u0111\\u01b0\\u1ee3c m\\u00f3n \\u0111\\u1ed3 b\\u1ea1n h\\u1ecfi, b\\u1ea1n m\\u00f4 t\\u1ea3 r\\u00f5 h\\u01a1n gi\\u00fap m\\u00ecnh nh\\u00e9!\", \"handover_to_inbox\", \"['mention:b\\u1ed9 n\\u00e0y']\", \"action_handover_to_inbox\"], [\"https://scontent.fhan1-1.fna.fbcdn.net/v/t1.15752-0/p280x280/94247169_518496298833739_4742785827803758592_n.jpg?_nc_cat=106&_nc_sid=b96e70&_nc_ohc=tIQpyBHqGKcAX_YGh_a&_nc_ht=scontent.fhan1-1.fna&_nc_tp=6&oh=3141a0925467d595ddf7cb2d28d75d28&oe=5EC24DBE\\nhttps://scontent.fhan1-1.fna.fbcdn.net/v/t1.15752-0/p280x280/93419718_261010215057212_4518874244767023104_n.jpg?_nc_cat=104&_nc_sid=b96e70&_nc_ohc=EVuxAqLJPbkAX-2BWJl&_nc_ht=scontent.fhan1-1.fna&_nc_tp=6&oh=08ddddefc4c435796d90f76c1ab9e8b3&oe=5EC5835B\", \"S\\u1ea3n ph\\u1ea9m abc_xyz c\\u00f3 th\\u1ec3 g\\u1ea5p g\\u1ecdn \\u1ea1!\", \"query_knowledge_base\", \"[\\\"url:['https://scontent.fhan1-1.fna.fbcdn.net/v/t1.15752-0/p280x280/94247169_518496298833739_4742785827803758592_n.jpg?_nc_cat=106&_nc_sid=b96e70&_nc_ohc=tIQpyBHqGKcAX_YGh_a&_nc_ht=scontent.fhan1-1.fna&_nc_tp=6&oh=3141a0925467d595ddf7cb2d28d75d28&oe=5EC24DBE', 'https://scontent.fhan1-1.fna.fbcdn.net/v/t1.15752-0/p280x280/93419718_261010215057212_4518874244767023104_n.jpg?_nc_cat=104&_nc_sid=b96e70&_nc_ohc=EVuxAqLJPbkAX-2BWJl&_nc_ht=scontent.fhan1-1.fna&_nc_tp=6&oh=08ddddefc4c435796d90f76c1ab9e8b3&oe=5EC5835B']\\\"]\", \"action_query_babe_kb\"], [\"shop \\u01a1i\", \"Ch\\u00e0o b\\u1ea1n, m\\u00ecnh l\\u00e0 tr\\u1ee3 l\\u00fd \\u1ea3o c\\u1ee7a Shop G\\u1ea5u & B\\u00ed Ng\\u00f4, m\\u00ecnh gi\\u00fap g\\u00ec \\u0111\\u01b0\\u1ee3c b\\u1ea1n \\u1ea1?\", \"greet\", null, \"utter_greet\"], [\"https://scontent.xx.fbcdn.net/v/t1.15752-9/93441614_838087866689750_1344649905557209088_n.jpg?_nc_cat=104&_nc_sid=b96e70&_nc_ohc=-Pf6gZpnxUgAX-Vpbkx&_nc_ad=z-m&_nc_cid=0&_nc_zor=9&_nc_ht=scontent.xx&oh=85b3f6a0e8f8a803032f798d945c239f&oe=5EBCD83B\", \"B\\u1ea1n \\u0111ang t\\u00ecm ki\\u1ebfm th\\u00f4ng tin g\\u00ec \\u1ea1?\", \"send_link\", \"[\\\"url:['https://scontent.xx.fbcdn.net/v/t1.15752-9/93441614_838087866689750_1344649905557209088_n.jpg?_nc_cat=104&_nc_sid=b96e70&_nc_ohc=-Pf6gZpnxUgAX-Vpbkx&_nc_ad=z-m&_nc_cid=0&_nc_zor=9&_nc_ht=scontent.xx&oh=85b3f6a0e8f8a803032f798d945c239f&oe=5EBCD83B']\\\"]\", \"action_handle_send_link_only\"], [\"Cho e gi\\u00e1 nh\\u00e9\", \"S\\u1ea3n ph\\u1ea9m B\\u1ed9 \\u0111\\u1ed3 ch\\u01a1i nh\\u00e0 b\\u1ebfp th\\u00f4ng minh g\\u1ed3m 2 size \\nSize nh\\u1ecf k\\u00edch th\\u01b0\\u1edbc  57x30x77cm gi\\u00e1 KM ch\\u1ec9 590,000 VND\\nSize to k\\u00edch th\\u01b0\\u1edbc 51x32x100cm Gi\\u00e1 Km ch\\u1ec9 790,000 VND\\nB\\u1ea1n tham kh\\u1ea3o c\\u00e1c s\\u1ea3n ph\\u1ea9m sau nh\\u00e9 \\u1ea1:\\n<Show card sp>\", \"query_knowledge_base\", \"['attribute:price']\", \"action_query_babe_kb\"], [\"shop \\u01a1i\", \"Ch\\u00e0o b\\u1ea1n, m\\u00ecnh l\\u00e0 tr\\u1ee3 l\\u00fd \\u1ea3o c\\u1ee7a Shop G\\u1ea5u & B\\u00ed Ng\\u00f4, m\\u00ecnh gi\\u00fap g\\u00ec \\u0111\\u01b0\\u1ee3c b\\u1ea1n \\u1ea1?\", \"greet\", null, \"utter_greet\"], [\"Shop c\\u00f2n b\\u1ed9 c\\u00e2u c\\u00e1 k\", \"D\\u1ea1 m\\u00ecnh c\\u00f2n \\u1ea1\\nS\\u1ea3n ph\\u1ea9m B\\u1ed9 c\\u00e2u c\\u00e1 Toys House c\\u00f3 \\u0111\\u00e8n, nh\\u1ea1c ch\\u00ednh h\\u00e3ng hi\\u1ec7n shop c\\u00f3 gi\\u00e1 l\\u00e0 300,000 VND\\nB\\u1ea1n vui l\\u00f2ng xe th\\u00f4ng tin s\\u1ea3n ph\\u1ea9m t\\u1ea1i \\u0111\\u00e2y \\u1ea1:\\n<show card sp>\", \"query_knowledge_base\", \"['object_type:bo_cau_ca']\", \"action_query_babe_kb\"], [\"https://scontent.xx.fbcdn.net/v/t1.15752-9/93418428_2960774930681647_6163693023730335744_n.jpg?_nc_cat=106&_nc_sid=b96e70&_nc_ohc=JB_DiuoYI7oAX-7VvxC&_nc_ad=z-m&_nc_cid=0&_nc_zor=9&_nc_ht=scontent.xx&oh=0dbb7a6e70ca829a178c063d9fc8d1b9&oe=5EBEAFDC\", \"B\\u1ea1n \\u0111ang t\\u00ecm ki\\u1ebfm th\\u00f4ng tin g\\u00ec \\u1ea1?\", \"send_link\", \"[\\\"url:['https://scontent.xx.fbcdn.net/v/t1.15752-9/93418428_2960774930681647_6163693023730335744_n.jpg?_nc_cat=106&_nc_sid=b96e70&_nc_ohc=JB_DiuoYI7oAX-7VvxC&_nc_ad=z-m&_nc_cid=0&_nc_zor=9&_nc_ht=scontent.xx&oh=0dbb7a6e70ca829a178c063d9fc8d1b9&oe=5EBEAFDC']\\\"]\", \"action_handle_send_link_only\"], [\"Bnhieu z\", \"S\\u1ea3n ph\\u1ea9m Xe \\u0111\\u1ea1p c\\u00f3 m\\u00e1i che Umoo hi\\u1ec7n shop \\u0111ang c\\u00f3 gi\\u00e1: 2,800,000 VND (gi\\u00e1 g\\u1ed1c 2,800,000 VND)\\nB\\u1ea1n tham kh\\u1ea3o s\\u1ea3n ph\\u1ea9m sau nh\\u00e9 \\u1ea1:\\n<show card sp>\", \"query_knowledge_base\", \"['attribute:price']\", \"action_query_babe_kb\"], [\"Xe umoo th\\u00e1o ra thanh xe \\u0111ap 3 banh nh\\u01b0 nadle dc ko \\u1ea1\", \"Handover\", \"handover_to_inbox\", \"['brand:umoo', 'brand:nadle']\", \"action_handover_to_inbox\"], [\"https://scontent.xx.fbcdn.net/v/t1.15752-9/93253452_2682930575263004_7855235270143115264_n.jpg?_nc_cat=105&_nc_sid=b96e70&_nc_ohc=7jkZ9XfKxBwAX_UAxjX&_nc_ad=z-m&_nc_cid=0&_nc_zor=9&_nc_ht=scontent.xx&oh=825bee90f4f292788d9a5972ee3450dd&oe=5EBBD6BC\", \"B\\u1ea1n \\u0111ang t\\u00ecm ki\\u1ebfm th\\u00f4ng tin g\\u00ec \\u1ea1?\", \"send_link\", \"[\\\"url:['https://scontent.xx.fbcdn.net/v/t1.15752-9/93253452_2682930575263004_7855235270143115264_n.jpg?_nc_cat=105&_nc_sid=b96e70&_nc_ohc=7jkZ9XfKxBwAX_UAxjX&_nc_ad=z-m&_nc_cid=0&_nc_zor=9&_nc_ht=scontent.xx&oh=825bee90f4f292788d9a5972ee3450dd&oe=5EBBD6BC']\\\"]\", \"action_handle_send_link_only\"], [\"https://scontent.xx.fbcdn.net/v/t1.15752-9/93253452_2682930575263004_7855235270143115264_n.jpg?_nc_cat=105&_nc_sid=b96e70&_nc_ohc=7jkZ9XfKxBwAX_UAxjX&_nc_ad=z-m&_nc_cid=0&_nc_zor=9&_nc_ht=scontent.xx&oh=825bee90f4f292788d9a5972ee3450dd&oe=5EBBD6BC\", \"B\\u1ea1n \\u0111ang t\\u00ecm ki\\u1ebfm th\\u00f4ng tin g\\u00ec \\u1ea1?\", \"send_link\", \"[\\\"url:['https://scontent.xx.fbcdn.net/v/t1.15752-9/93253452_2682930575263004_7855235270143115264_n.jpg?_nc_cat=105&_nc_sid=b96e70&_nc_ohc=7jkZ9XfKxBwAX_UAxjX&_nc_ad=z-m&_nc_cid=0&_nc_zor=9&_nc_ht=scontent.xx&oh=825bee90f4f292788d9a5972ee3450dd&oe=5EBBD6BC']\\\"]\", \"action_handle_send_link_only\"], [\"M\\u00ecnh mu\\u1ed1n h\\u1ecfi 2c\\u00e1i n\\u00f4i n\\u00e0y l\\u00e0 1 ah\", \"D\\u1ea1, hai s\\u1ea3n ph\\u1ea9m tr\\u00ean kh\\u00e1c nhau, b\\u1ea1n c\\u00f3 th\\u1ec3 tham kh\\u1ea3o 2 s\\u1ea3n ph\\u1ea9m \\u0111\\u00f3 t\\u1ea1i \\u0111\\u00e2y \\u1ea1:\\n<show card sp 2 sp \\u0111\\u00f3>\", \"query_knowledge_base\", \"['object_type:noi', 'mention:n\\u00e0y']\", \"action_query_babe_kb\"], [\"/query_knowledge_base{\\\"url\\\": \\\"https://shopee.vn/product/36371562/6418671728\\\", \\\"product_id\\\": \\\"https://shopee.vn/product/36371562/6418671728\\\"}\", \"D\\u1ea1 m\\u1eddi b\\u1ea1n tham kh\\u1ea3o s\\u1ea3n ph\\u1ea9m hi\\u1ec7n c\\u00f3 t\\u1ea1i shop nh\\u00e9!\", \"query_knowledge_base\", \"['url:https://shopee.vn/product/36371562/6418671728', 'product_id:https://shopee.vn/product/36371562/6418671728']\", \"action_query_babe_kb\"], [\"Xe n\\u00e0y th\\u00ec bn \\u1ea1?\\nhttps://scontent.xx.fbcdn.net/v/t1.15752-9/92663760_242313147139819_180836660240449536_n.jpg?_nc_cat=108&_nc_sid=b96e70&_nc_oc=AQlkEzFcevEZjlSfmMVghzOFCJ91RNxuLFmnj-LZ115MgaQQpCgvQftExyz9V3ToMt-zJcTykpcg-9VknQVe51f6&_nc_ad=z-m&_nc_cid=0&_nc_zor=9&_nc_ht=scontent.xx&oh=a2c61b4882879e5c266eff69947cb40d&oe=5EBD5657\", \"D\\u1ea1, c\\u00f3 ph\\u1ea3i b\\u1ea1n mu\\u1ed1n h\\u1ecfi m\\u1ed9t trong c\\u00e1c s\\u1ea3n ph\\u1ea9m d\\u01b0\\u1edbi \\u0111\\u00e2y kh\\u00f4ng \\u1ea1?\\n (Vui l\\u00f2ng \\u1ea5n ch\\u1ecdn 1 s\\u1ea3n ph\\u1ea9m)...\", \"query_knowledge_base\", \"[\\\"url:['https://scontent.xx.fbcdn.net/v/t1.15752-9/92663760_242313147139819_180836660240449536_n.jpg?_nc_cat=108&_nc_sid=b96e70&_nc_oc=AQlkEzFcevEZjlSfmMVghzOFCJ91RNxuLFmnj-LZ115MgaQQpCgvQftExyz9V3ToMt-zJcTykpcg-9VknQVe51f6&_nc_ad=z-m&_nc_cid=0&_nc_zor=9&_nc_ht=scontent.xx&oh=a2c61b4882879e5c266eff69947cb40d&oe=5EBD5657']\\\", 'object_type:xe', 'mention:n\\u00e0y', 'attribute:price']\", \"action_query_babe_kb\"], [\"/query_knowledge_base{\\\"url\\\": \\\"https://shopee.vn/product/36371562/3103025341\\\", \\\"product_id\\\": \\\"https://shopee.vn/product/36371562/3103025341\\\"}\", \"S\\u1ea3n ph\\u1ea9m Xe NADLE 3 in 1: Xe \\u0111\\u1ea9y - Ch\\u00f2i ch\\u00e2n - Xe \\u0111\\u1ea1p hi\\u1ec7n shop \\u0111ang c\\u00f3 gi\\u00e1: *2,450,000 VND (gi\\u00e1 g\\u1ed1c 2,450,000 VND), 2,650,000 VND (gi\\u00e1 g\\u1ed1c 2,650,000 VND), 1,550,000 VND (gi\\u00e1 g\\u1ed1c 2,650,000 VND)*.\\r\\nB\\u1ea1n tham kh\\u1ea3o c\\u00e1c s\\u1ea3n ph\\u1ea9m sau nh\\u00e9 \\u1ea1:\", \"query_knowledge_base\", \"['url:https://shopee.vn/product/36371562/3103025341', 'product_id:https://shopee.vn/product/36371562/3103025341']\", \"action_query_babe_kb\"], [\"https://scontent.xx.fbcdn.net/v/t1.15752-9/94088606_259054638553614_1365453125116231680_n.jpg?_nc_cat=102&_nc_sid=b96e70&_nc_ohc=0UI6w3AAdH4AX-0aWZz&_nc_ad=z-m&_nc_cid=0&_nc_zor=9&_nc_ht=scontent.xx&oh=e45937d7e7c56fde3c8930b2dc0943ad&oe=5EBF6B41\", \"B\\u1ea1n \\u0111ang t\\u00ecm ki\\u1ebfm th\\u00f4ng tin g\\u00ec \\u1ea1?\", \"send_link\", \"[\\\"url:['https://scontent.xx.fbcdn.net/v/t1.15752-9/94088606_259054638553614_1365453125116231680_n.jpg?_nc_cat=102&_nc_sid=b96e70&_nc_ohc=0UI6w3AAdH4AX-0aWZz&_nc_ad=z-m&_nc_cid=0&_nc_zor=9&_nc_ht=scontent.xx&oh=e45937d7e7c56fde3c8930b2dc0943ad&oe=5EBF6B41']\\\"]\", \"action_handle_send_link_only\"], [\"Bn em oi\\nC\\u00f3 m\\u00e0u kh\\u00e1c ko e\", \"S\\u1ea3n ph\\u1ea9m B\\u00e0n gh\\u1ebf \\u0111a n\\u0103ng Lego Holla hi\\u1ec7n shop \\u0111ang c\\u00f3 gi\\u00e1: *1,400,000 VND (gi\\u00e1 g\\u1ed1c 1,400,000 VND)\\nB\\u1ea1n tham kh\\u1ea3o c\\u00e1c s\\u1ea3n ph\\u1ea9m sau nh\\u00e9 \\u1ea1:\\n<show card sp>\\n\\nS\\u1ea3n ph\\u1ea9m B\\u00e0n gh\\u1ebf \\u0111a n\\u0103ng Lego Holla hi\\u1ec7n shop \\u0111ang c\\u00f3 c\\u00e1c m\\u1eabu: m\\u1eabu G\\u1ea5u v\\u00e0 m\\u1eabu Th\\u1ecf\\nB\\u1ea1n tham kh\\u1ea3o c\\u00e1c s\\u1ea3n ph\\u1ea9m sau nh\\u00e9 \\u1ea1:\\r\\n<show card sp>\", \"query_knowledge_base\", \"['attribute:price', 'attribute:color']\", \"action_query_babe_kb\"], [\"B \\u01a1i k\\u1ec7 s\\u1eafp v\\u1ec1 ch\\u01b0a b\", \"D\\u1ea1 b\\u1ea1n mu\\u1ed1n h\\u1ecfi s\\u1ea3n ph\\u1ea9m n\\u00e0o trong c\\u00e1c s\\u1ea3n ph\\u1ea9m d\\u01b0\\u1edbi \\u0111\\u00e2y \\u1ea1\\n<show card t\\u1ea5t c\\u1ea3 c\\u00e1c k\\u1ec7 m\\u00e0 shop b\\u00e1n k\\u00e8m button b\\u00ean d\\u01b0\\u1edbi \\\"C\\u00e1i n\\u00e0y\\\">\\n<button: Kh\\u00f4ng c\\u00f3 trong s\\u1ed1 n\\u00e0y>\", \"query_knowledge_base\", \"['object_type:ke']\", \"action_query_babe_kb\"], [\"/query_knowledge_base{\\\"url\\\": \\\"https://shopee.vn/product/36371562/3103025341\\\", \\\"product_id\\\": \\\"https://shopee.vn/product/36371562/3103025341\\\"}\", \"D\\u1ea1 s\\u1ea3n ph\\u1ea9m K\\u1ec7 \\u0111a n\\u0103ng cao c\\u1ea5p Pie shop d\\u1ef1 t\\u00ednh s\\u1ebd v\\u1ec1 h\\u00e0ng v\\u00e0o ng\\u00e0y xx/xx \\u1ea1\\nB\\u1ea1n vui l\\u00f2ng xem c\\u00e1c s\\u1ea3n ph\\u1ea9m kh\\u00e1c c\\u1ee7a shop nh\\u00e9 \\u1ea1:\\n<show card c\\u00e1c sp t\\u01b0\\u01a1ng t\\u1ef1>\", \"query_knowledge_base\", \"['url:https://shopee.vn/product/36371562/3103025341', 'product_id:https://shopee.vn/product/36371562/3103025341']\", \"action_query_babe_kb\"], [\"ok shop\", \"Shop c\\u1ea3m \\u01a1n b\\u1ea1n!\", \"agree\", null, \"utter_agree\"], [\"shop \\u01a1i\", \"Ch\\u00e0o b\\u1ea1n, m\\u00ecnh l\\u00e0 tr\\u1ee3 l\\u00fd \\u1ea3o c\\u1ee7a Shop G\\u1ea5u & B\\u00ed Ng\\u00f4, m\\u00ecnh gi\\u00fap g\\u00ec \\u0111\\u01b0\\u1ee3c b\\u1ea1n \\u1ea1?\", \"greet\", null, \"utter_greet\"], [\"https://scontent.xx.fbcdn.net/v/t1.15752-9/93113313_1080458392352702_7732950842487078912_n.jpg?_nc_cat=110&_nc_sid=b96e70&_nc_ohc=VWiKd2ejLkwAX8ZSSsK&_nc_ad=z-m&_nc_cid=0&_nc_zor=9&_nc_ht=scontent.xx&oh=9f0283f10c9513441437fe7e7239b722&oe=5EBE3115\", \"B\\u1ea1n \\u0111ang t\\u00ecm ki\\u1ebfm th\\u00f4ng tin g\\u00ec \\u1ea1?\", \"send_link\", \"[\\\"url:['https://scontent.xx.fbcdn.net/v/t1.15752-9/93113313_1080458392352702_7732950842487078912_n.jpg?_nc_cat=110&_nc_sid=b96e70&_nc_ohc=VWiKd2ejLkwAX8ZSSsK&_nc_ad=z-m&_nc_cid=0&_nc_zor=9&_nc_ht=scontent.xx&oh=9f0283f10c9513441437fe7e7239b722&oe=5EBE3115']\\\"]\", \"action_handle_send_link_only\"], [\"Ch\\u00f3 n\\u00e0y n\\u00e0y gi\\u00e1 bao nhi\\u00eau v\\u1eady shop\", \"D\\u1ea1, c\\u00f3 ph\\u1ea3i b\\u1ea1n mu\\u1ed1n h\\u1ecfi m\\u1ed9t trong c\\u00e1c s\\u1ea3n ph\\u1ea9m d\\u01b0\\u1edbi \\u0111\\u00e2y kh\\u00f4ng \\u1ea1?\\n (Vui l\\u00f2ng \\u1ea5n ch\\u1ecdn 1 s\\u1ea3n ph\\u1ea9m)...\", \"query_knowledge_base\", \"['attribute:price']\", \"action_query_babe_kb\"], [\"H\\u1ebft h\\u00e0ng r\\u1ed3i h\\u1ea3 shop\", \"M\\u00ecnh ch\\u01b0a r\\u00f5 m\\u00f3n \\u0111\\u1ed3 b\\u1ea1n h\\u1ecfi, n\\u1ebfu c\\u00f3 trong danh s\\u00e1ch tr\\u00ean, b\\u1ea1n vui l\\u00f2ng ch\\u1ecdn s\\u1ea3n ph\\u1ea9m gi\\u00fap m\\u00ecnh nh\\u00e9.\", \"query_knowledge_base\", \"[]\", \"action_query_babe_kb\"], [\"/query_knowledge_base{\\\"url\\\": \\\"https://shopee.vn/product/36371562/3103025341\\\", \\\"product_id\\\": \\\"https://shopee.vn/product/36371562/3103025341\\\"}\", \"D\\u1ea1, s\\u1ea3n ph\\u1ea9m hi\\u1ec7n t\\u1ea1i b\\u00ean shop \\u0111ang t\\u1ea1m h\\u1ebft h\\u00e0ng \\u1ea1. B\\u1ea1n tham kh\\u1ea3o c\\u00e1c s\\u1ea3n ph\\u1ea9m kh\\u00e1c d\\u00e0nh cho b\\u00e9 nh\\u00e9!\", \"query_knowledge_base\", \"['url:https://shopee.vn/product/36371562/3103025341', 'product_id:https://shopee.vn/product/36371562/3103025341']\", \"action_query_babe_kb\"], [\"M\\u00ech ck r nh\\u00e9\\nhttps://scontent.xx.fbcdn.net/v/t1.15752-9/93636148_581283165927177_1218583943880638464_n.jpg?_nc_cat=107&_nc_sid=b96e70&_nc_ohc=v18UutxNnwkAX8l0irW&_nc_ad=z-m&_nc_cid=0&_nc_zor=9&_nc_ht=scontent.xx&oh=7374a7a5bb108982137dd407f074cced&oe=5EBC3E04\", \"C\\u1ea3m \\u01a1n b\\u1ea1n, nh\\u00e2n vi\\u00ean c\\u1ee7a shop s\\u1ebd x\\u00e1c nh\\u1eadn s\\u1edbm l\\u1ea1i \\u1ea1.\", \"confirm_transfer\", \"[\\\"url:['https://scontent.xx.fbcdn.net/v/t1.15752-9/93636148_581283165927177_1218583943880638464_n.jpg?_nc_cat=107&_nc_sid=b96e70&_nc_ohc=v18UutxNnwkAX8l0irW&_nc_ad=z-m&_nc_cid=0&_nc_zor=9&_nc_ht=scontent.xx&oh=7374a7a5bb108982137dd407f074cced&oe=5EBC3E04']\\\"]\", \"confirm_transfer\"], [\"Shop em o dau\", \"\\u0110\\u1ecba ch\\u1ec9 shop \\u1edf : s\\u1ed1 16 ng\\u00f5 124 \\u00c2u C\\u01a1, T\\u1ee9 li\\u00ean , T\\u00e2y H\\u1ed3 , H\\u00e0 N\\u1ed9i \\u1ea1\", \"ask_address\", \"[]\", \"action_ask_address\"], [\"B \\u01a1i k\\u1ec7 s\\u1eafp v\\u1ec1 ch\\u01b0a b\", \"D\\u1ea1 b\\u1ea1n mu\\u1ed1n h\\u1ecfi s\\u1ea3n ph\\u1ea9m n\\u00e0o trong c\\u00e1c s\\u1ea3n ph\\u1ea9m d\\u01b0\\u1edbi \\u0111\\u00e2y \\u1ea1\\n<ke> <k\\u1ec7 \\u0111\\u1ee9ng>\", \"query_knowledge_base\", \"['object_type:ke']\", \"action_query_babe_kb\"], [\"shop \\u01a1i\", \"Ch\\u00e0o b\\u1ea1n, m\\u00ecnh l\\u00e0 tr\\u1ee3 l\\u00fd \\u1ea3o c\\u1ee7a Shop G\\u1ea5u & B\\u00ed Ng\\u00f4, m\\u00ecnh gi\\u00fap g\\u00ec \\u0111\\u01b0\\u1ee3c b\\u1ea1n \\u1ea1?\", \"greet\", null, \"utter_greet\"], [\"https://scontent.xx.fbcdn.net/v/t1.15752-9/93441614_838087866689750_1344649905557209088_n.jpg?_nc_cat=104&_nc_sid=b96e70&_nc_ohc=-Pf6gZpnxUgAX-Vpbkx&_nc_ad=z-m&_nc_cid=0&_nc_zor=9&_nc_ht=scontent.xx&oh=85b3f6a0e8f8a803032f798d945c239f&oe=5EBCD83B\", \"B\\u1ea1n \\u0111ang t\\u00ecm ki\\u1ebfm th\\u00f4ng tin g\\u00ec \\u1ea1?\", \"send_link\", \"[\\\"url:['https://scontent.xx.fbcdn.net/v/t1.15752-9/93441614_838087866689750_1344649905557209088_n.jpg?_nc_cat=104&_nc_sid=b96e70&_nc_ohc=-Pf6gZpnxUgAX-Vpbkx&_nc_ad=z-m&_nc_cid=0&_nc_zor=9&_nc_ht=scontent.xx&oh=85b3f6a0e8f8a803032f798d945c239f&oe=5EBCD83B']\\\"]\", \"action_handle_send_link_only\"], [\"Cho e gi\\u00e1 nh\\u00e9\", \"S\\u1ea3n ph\\u1ea9m B\\u1ed9 \\u0111\\u1ed3 ch\\u01a1i nh\\u00e0 b\\u1ebfp th\\u00f4ng minh c\\u00f3 gi\\u00e1: 490.000 - 790.000 t\\u00f9y m\\u1eabu m\\u00e3 (k\\u00edch th\\u01b0\\u1edbc, m\\u00e0u s\\u1eafc...).\\nB\\u1ea1n tham kh\\u1ea3o c\\u00e1c s\\u1ea3n ph\\u1ea9m sau nh\\u00e9 \\u1ea1:\\n<Show card sp>\", \"query_knowledge_base\", \"['attribute:price']\", \"action_query_babe_kb\"], [\"https://scontent.xx.fbcdn.net/v/t1.15752-9/93888763_534820093897495_8873435174071697408_n.jpg?_nc_cat=106&_nc_sid=b96e70&_nc_ohc=FKWPkRS2YlUAX_Kn-nn&_nc_ad=z-m&_nc_cid=0&_nc_zor=9&_nc_ht=scontent.xx&oh=7e3aa2900cd80040c578cdc8cd99deef&oe=5EC130D5\", \"B\\u1ea1n \\u0111ang t\\u00ecm ki\\u1ebfm th\\u00f4ng tin g\\u00ec \\u1ea1?\", \"send_link\", \"[\\\"url:['https://scontent.xx.fbcdn.net/v/t1.15752-9/93888763_534820093897495_8873435174071697408_n.jpg?_nc_cat=106&_nc_sid=b96e70&_nc_ohc=FKWPkRS2YlUAX_Kn-nn&_nc_ad=z-m&_nc_cid=0&_nc_zor=9&_nc_ht=scontent.xx&oh=7e3aa2900cd80040c578cdc8cd99deef&oe=5EC130D5']\\\"]\", \"action_handle_send_link_only\"], [\"B\\u1ed9 n\\u00e0y gi\\u00e2 bn \\u1ea1 shop\", \"\\\"D\\u1ea1, c\\u00f3 ph\\u1ea3i b\\u1ea1n mu\\u1ed1n h\\u1ecfi m\\u1ed9t trong c\\u00e1c s\\u1ea3n ph\\u1ea9m d\\u01b0\\u1edbi \\u0111\\u00e2y kh\\u00f4ng \\u1ea1?\\n (Vui l\\u00f2ng \\u1ea5n ch\\u1ecdn 1 s\\u1ea3n ph\\u1ea9m)...\\\"\", \"query_knowledge_base\", \"['mention:b\\u1ed9 n\\u00e0y', 'attribute:price']\", \"action_query_babe_kb\"], [\"Lo\\u1ea1i n\\u00e0y bn v\\u1eady b\\u1ea1n\", \"M\\u00ecnh ch\\u01b0a x\\u00e1c \\u0111\\u1ecbnh \\u0111\\u01b0\\u1ee3c m\\u00f3n \\u0111\\u1ed3 b\\u1ea1n h\\u1ecfi, b\\u1ea1n m\\u00f4 t\\u1ea3 r\\u00f5 h\\u01a1n gi\\u00fap m\\u00ecnh nh\\u00e9!\", \"query_knowledge_base\", \"['mention:lo\\u1ea1i n\\u00e0y', 'attribute:price']\", \"action_query_babe_kb\"], [\"https://scontent.xx.fbcdn.net/v/t1.15752-9/93049946_266000034415184_8022889009304829952_n.jpg?_nc_cat=107&_nc_sid=b96e70&_nc_ohc=6H5qmCrlsTMAX_UxJKR&_nc_ad=z-m&_nc_cid=0&_nc_zor=9&_nc_ht=scontent.xx&oh=56bc309e3fb8f432e5605d1e1fd4a8e2&oe=5EB6DC2D\", \"S\\u1ea3n ph\\u1ea9m  B\\u1ea2NG V\\u1ebc HOLLA 2 in 1  hi\\u1ec7n shop \\u0111ang c\\u00f3 gi\\u00e1: 830,000 VND (gi\\u00e1 g\\u1ed1c 1,090,000 VND).\\nB\\u1ea1n tham kh\\u1ea3o s\\u1ea3n ph\\u1ea9m sau nh\\u00e9 \\u1ea1:\\n<show sp>\", \"send_link\", \"[\\\"url:['https://scontent.xx.fbcdn.net/v/t1.15752-9/93049946_266000034415184_8022889009304829952_n.jpg?_nc_cat=107&_nc_sid=b96e70&_nc_ohc=6H5qmCrlsTMAX_UxJKR&_nc_ad=z-m&_nc_cid=0&_nc_zor=9&_nc_ht=scontent.xx&oh=56bc309e3fb8f432e5605d1e1fd4a8e2&oe=5EB6DC2D']\\\"]\", \"action_query_babe_kb\"], [\"C\\u00f3 nh\\u1eefng m\\u00e0u g\\u00ec \\u1ea1 ?\", \"D\\u1ea1, B\\u1ea2NG V\\u1ebc HOLLA 2 in 1 hi\\u1ec7n c\\u00f3 c\\u00e1c m\\u00e0u: H\\u1ed3ng, Xanh\\n<Show card t\\u01b0\\u01a1ng \\u1ee9ng v\\u1edbi c\\u00e1c m\\u00e0u c\\u1ee7a s\\u1ea3n ph\\u1ea9m>\", \"query_knowledge_base\", \"['attribute:color']\", \"action_query_babe_kb\"], [\"\\u0110\\u1ec3 m\\u00ecnh tham kh\\u1ea3o th\\u00eam , c\\u00f3 g\\u00ec m\\u00ecnh b\\u00e1o s\\u1edbm\", null, \"handover_to_inbox\", null, \"action_handover_to_inbox\"], [\"Shop c\\u00f3 gh\\u1ebf nh\\u00fan k b\", \"S\\u1ea3n ph\\u1ea9m Gh\\u1ebf nh\\u00fan hi\\u1ec7n shop \\u0111ang c\\u00f3 c\\u00e1c s\\u1ea3n ph\\u1ea9m sau \\u1ea1:\\r\\n<show card c\\u00e1c s\\u1ea3n ph\\u1ea9m object_type ghe_nhun>\\n\", \"query_knowledge_base\", \"['object_type:ghe_nhun']\", \"action_query_babe_kb\"], [\"Shop \\u01a1i\", \"Ch\\u00e0o b\\u1ea1n, m\\u00ecnh l\\u00e0 tr\\u1ee3 l\\u00fd \\u1ea3o c\\u1ee7a Shop G\\u1ea5u & B\\u00ed Ng\\u00f4, m\\u00ecnh gi\\u00fap g\\u00ec \\u0111\\u01b0\\u1ee3c b\\u1ea1n \\u1ea1?\", \"greet\", \"[]\", \"utter_greet\"], [\"M\\u00ecnh mua b\\u1ed9 \\u0111\\u1ed3 ch\\u01a1i n\\u1ea5u \\u0103n cho b\\u00e9\\nHappy little chef\", \"S\\u1ea3n ph\\u1ea9m \\u0110\\u1ed3 ch\\u01a1i n\\u1ea5u \\u0103n hi\\u1ec7n shop \\u0111ang c\\u00f3 c\\u00e1c s\\u1ea3n ph\\u1ea9m sau \\u1ea1:\\n<show card c\\u00e1c s\\u1ea3n ph\\u1ea9m object_type do_choi_nau_an>\\n\", \"query_knowledge_base\", \"['object_type:do_choi_nau_an']\", \"action_query_babe_kb\"], [\"ok \\u1ea1\", \"V\\u00e2ng \\u1ea1!\", \"agree\", null, \"utter_agree\"], [\"Shop \\u01a1i\", \"Ch\\u00e0o b\\u1ea1n, m\\u00ecnh l\\u00e0 tr\\u1ee3 l\\u00fd \\u1ea3o c\\u1ee7a Shop G\\u1ea5u & B\\u00ed Ng\\u00f4, m\\u00ecnh gi\\u00fap g\\u00ec \\u0111\\u01b0\\u1ee3c b\\u1ea1n \\u1ea1?\", \"greet\", \"[]\", \"utter_greet\"], [\"C\\u00e1i thanh ch\\u1eafn c\\u1ea7u thang gi\\u00e1 bn v\\u1eady b\\u1ea1n\", \"S\\u1ea3n ph\\u1ea9m Thanh n\\u1ed1i ch\\u1eb7n hi\\u1ec7n shop \\u0111ang c\\u00f3 c\\u00e1c s\\u1ea3n ph\\u1ea9m sau \\u1ea1:\\n<show card c\\u00e1c s\\u1ea3n ph\\u1ea9m object_type thanh_noi_chan>\\n\", \"query_knowledge_base\", \"['object_type:thanh_noi_chan','attribute:price']\", \"action_query_babe_kb\"], [\"ok \\u1ea1\", \"V\\u00e2ng \\u1ea1!\", \"agree\", null, \"utter_agree\"], [\"g\\u1eedi \\u1ea3nh gi\\u00fap c \\u0111c ko\", \"M\\u00ecnh ch\\u01b0a x\\u00e1c \\u0111\\u1ecbnh \\u0111\\u01b0\\u1ee3c m\\u00f3n \\u0111\\u1ed3 b\\u1ea1n h\\u1ecfi, b\\u1ea1n m\\u00f4 t\\u1ea3 r\\u00f5 h\\u01a1n gi\\u00fap m\\u00ecnh nh\\u00e9!\", \"query_knowledge_base\", \"['attribute:image']\", \"action_query_babe_kb\"], [\"m c\\u1ea7n t\\u00ecm gh\\u1ebf \\u0103n cho b\\u00e9\", \"S\\u1ea3n ph\\u1ea9m Gh\\u1ebf \\u0102n hi\\u1ec7n shop \\u0111ang c\\u00f3 c\\u00e1c m\\u1ee9c gi\\u00e1 sau \\u1ea1:\\n<500-1M>....<Sao c\\u0169ng \\u0111\\u01b0\\u1ee3c!>\", \"query_knowledge_base\", \"['object_type:ghe_an']\", \"action_query_babe_kb\"], [\"Ch\\u00e0o shop\", \"Ch\\u00e0o b\\u1ea1n, m\\u00ecnh l\\u00e0 tr\\u1ee3 l\\u00fd \\u1ea3o c\\u1ee7a Shop G\\u1ea5u & B\\u00ed Ng\\u00f4, m\\u00ecnh gi\\u00fap g\\u00ec \\u0111\\u01b0\\u1ee3c b\\u1ea1n \\u1ea1?\", \"greet\", \"[]\", \"utter_greet\"], [\"Cho  m\\u00ecnh xin gi\\u00e1 m\\u00e1y pha s\\u1eefa b\\u00ean shop nh\\u00e9 \\u1ea1\", \"S\\u1ea3n ph\\u1ea9m  M\\u00e1y pha s\\u1eefa cao c\\u1ea5p Tiny Baby Formula (Nh\\u1eadt B\\u1ea3n)  hi\\u1ec7n shop \\u0111ang c\\u00f3 gi\\u00e1: *3,530,000 VND (gi\\u00e1 g\\u1ed1c 3,850,000 VND)*.\\nB\\u1ea1n tham kh\\u1ea3o c\\u00e1c s\\u1ea3n ph\\u1ea9m sau nh\\u00e9 \\u1ea1:\", \"query_knowledge_base\", \"['attribute:price', 'object_type:may_pha_sua']\", \"action_query_babe_kb\"], [\"Ch\\u00e0o shop\", \"Ch\\u00e0o b\\u1ea1n, m\\u00ecnh l\\u00e0 tr\\u1ee3 l\\u00fd \\u1ea3o c\\u1ee7a Shop G\\u1ea5u & B\\u00ed Ng\\u00f4, m\\u00ecnh gi\\u00fap g\\u00ec \\u0111\\u01b0\\u1ee3c b\\u1ea1n \\u1ea1?\", \"greet\", \"[]\", \"utter_greet\"], [\"Shop cho h\\u1ecfi c\\u00f3 b\\u00e1n gh\\u1ebf \\u0103n d\\u1eb7m cho tr\\u1ebb con kh\\u00f4ng\", \"Hi\\u1ec7n t\\u1ea1i s\\u1ea3n ph\\u1ea9m Gh\\u1ebf \\u0102n  shop \\u0111ang c\\u00f3 nh\\u1eefng *gi\\u00e1* sau \\u1ea1:\", \"query_knowledge_base\", \"['object_type:ghe_an']\", \"action_query_babe_kb\"], [\"/confirm_attribute_value{\\\"price\\\": \\\"500k - 1M\\\"}\", \"D\\u1ea1 m\\u1eddi b\\u1ea1n tham kh\\u1ea3o s\\u1ea3n ph\\u1ea9m hi\\u1ec7n c\\u00f3 t\\u1ea1i shop nh\\u00e9!\", \"confirm_attribute_value\", \"['price:500k - 1M']\", \"action_query_babe_kb\"], [\"T\\u00f4i mu\\u1ed1n mua lo\\u1ea1i 799k\", \"S\\u1ea3n ph\\u1ea9m  Gh\\u1ebf \\u0103n \\u0111a n\\u0103ng k\\u1ebft h\\u1ee3p xe k\\u00e9o MASTELA 1018 CH\\u00cdNH H\\u00c3NG gi\\u00e1 799k hi\\u1ec7n shop \\u0111ang c\\u00f3 gi\\u00e1: *799,000 VND (gi\\u00e1 g\\u1ed1c 1,300,000 VND)*.\\nB\\u1ea1n tham kh\\u1ea3o c\\u00e1c s\\u1ea3n ph\\u1ea9m sau nh\\u00e9 \\u1ea1:\", \"query_knowledge_base\", \"['price:799k']\", \"action_query_babe_kb\"], [\"C\\u00e1i n\\u00e0y 30kg c\\u00f3 ng\\u1ed3i \\u0111\\u01b0\\u1ee3c ko\", \"S\\u1ea3n ph\\u1ea9m  Gh\\u1ebf \\u0103n \\u0111a n\\u0103ng k\\u1ebft h\\u1ee3p xe k\\u00e9o MASTELA 1018 CH\\u00cdNH H\\u00c3NG c\\u00f3 tr\\u1ecdng t\\u1ea3i: 13kg \\u1ea1\\nB\\u1ea1n tham kh\\u1ea3o c\\u00e1c s\\u1ea3n ph\\u1ea9m sau nh\\u00e9 \\u1ea1:\\n<show card sp>\", \"query_knowledge_base\", \"['mention:c\\u00e1i n\\u00e0y', 'capacity:30kg']\", \"action_query_babe_kb\"], [\"ok shop\", \"V\\u00e2ng \\u1ea1!\", \"agree\", null, \"utter_agree\"], [\"C\\u00f3 freeship k an\\n\\u1ea0\\nShip hcm\", \"D\\u1ea1 b\\u1ea1n vui l\\u00f2ng ch\\u1edd trong v\\u00e0i ph\\u00fat, nh\\u00e2n vi\\u00ean s\\u1ebd tr\\u1ea3 l\\u1eddi b\\u1ea1n s\\u1edbm nh\\u1ea5t \\u1ea1\", \"handover_to_inbox\", \"[]\", \"action_handover_to_inbox\"], [\"D\\u1ea1,bao l\\u00e2u th\\u00ec bi\\u1ebft \\u0111c m\\u00ecnh c\\u00f3 \\u0111c nh\\u1eadn q\\u00e0 hay k \\u1ea1\", \"D\\u1ea1 b\\u1ea1n vui l\\u00f2ng ch\\u1edd trong v\\u00e0i ph\\u00fat, nh\\u00e2n vi\\u00ean s\\u1ebd tr\\u1ea3 l\\u1eddi b\\u1ea1n s\\u1edbm nh\\u1ea5t \\u1ea1\", \"handover_to_inbox\", \"[]\", \"action_handover_to_inbox\"], [\"https://scontent.xx.fbcdn.net/v/t1.15752-9/94342216_2472338469763544_5708094841569673216_n.jpg?_nc_cat=111&_nc_sid=b96e70&_nc_ohc=kg5-pAp7BTgAX-QEe_x&_nc_ad=z-m&_nc_cid=0&_nc_zor=9&_nc_ht=scontent.xx&oh=aeb84a7b6bfc81f1fdadcd81e0347482&oe=5EC8A82A\\nhttps://scontent.xx.fbcdn.net/v/t1.15752-9/94318161_887396588390390_8811840609993097216_n.jpg?_nc_cat=106&_nc_sid=b96e70&_nc_ohc=AWcLOmXmk3YAX-wKPHM&_nc_ad=z-m&_nc_cid=0&_nc_zor=9&_nc_ht=scontent.xx&oh=a19ee2c3acb264c574fb86ccd5539fac&oe=5EC6A253\\nhai m\\u00f3n n\\u00e0y gi\\u00e1 bnhieu \\u1ea1\", \"S\\u1ea3n ph\\u1ea9m B\\u1ed9 \\u0111\\u1ed3 ch\\u01a1i nh\\u00e0 b\\u1ebfp th\\u00f4ng minh hi\\u1ec7n shop \\u0111ang c\\u00f3 gi\\u00e1: 790000 VND (gi\\u00e1 g\\u1ed1c 790000 VND). B\\u1ea1n tham kh\\u1ea3o c\\u00e1c s\\u1ea3n ph\\u1ea9m sau nh\\u00e9 \\u1ea1:\\n<show card sp>\\n\\nS\\u1ea3n ph\\u1ea9m Xe ch\\u00f2i ch\\u00e2n ki\\u00eam xe l\\u1eafc cao c\\u1ea5p c\\u00f3 nh\\u1ea1c Holla hi\\u1ec7n shop \\u0111ang c\\u00f3 gi\\u00e1: *790,000 VND (gi\\u00e1 g\\u1ed1c 1,200,000 VND)*.\\nB\\u1ea1n tham kh\\u1ea3o c\\u00e1c s\\u1ea3n ph\\u1ea9m sau nh\\u00e9 \\u1ea1:\\n<show card sp>\", \"query_knowledge_base\", \"[\\\"url:['https://scontent.xx.fbcdn.net/v/t1.15752-9/94318161_887396588390390_8811840609993097216_n.jpg?_nc_cat=106&_nc_sid=b96e70&_nc_ohc=AWcLOmXmk3YAX-wKPHM&_nc_ad=z-m&_nc_cid=0&_nc_zor=9&_nc_ht=scontent.xx&oh=a19ee2c3acb264c574fb86ccd5539fac&oe=5EC6A253', 'https://scontent.xx.fbcdn.net/v/t1.15752-9/94342216_2472338469763544_5708094841569673216_n.jpg?_nc_cat=111&_nc_sid=b96e70&_nc_ohc=kg5-pAp7BTgAX-QEe_x&_nc_ad=z-m&_nc_cid=0&_nc_zor=9&_nc_ht=scontent.xx&oh=aeb84a7b6bfc81f1fdadcd81e0347482&oe=5EC8A82A']\\\", 'mention:m\\u00f3n n\\u00e0y', 'attribute:price']\", \"action_query_babe_kb\"], [\"ok shop\", \"V\\u00e2ng \\u1ea1!\", \"agree\", null, \"utter_agree\"], [\"B\\u00e0n n\\u00e0y g\\u1eadp g\\u1ecdn v\\u00e0o dc ko b\\u1ea1n?\", \"D\\u1ea1, b\\u1ea1n vui l\\u00f2ng xem h\\u01b0\\u1edbng d\\u1eabn s\\u1eed d\\u1ee5ng s\\u1ea3n ph\\u1ea9m t\\u1ea1i \\u0111\\u00e2y \\u1ea1\\n<show video h\\u01b0\\u1edbng d\\u1eabn s\\u1eed d\\u1ee5ng trong shopee>\", \"query_knowledge_base\", \"['mention:b\\u00e0n n\\u00e0y','attribute:video']\", \"action_query_babe_kb\"], [\"https://scontent.xx.fbcdn.net/v/t1.15752-9/94181516_219655075983837_7369188505747980288_n.jpg?_nc_cat=110&_nc_sid=b96e70&_nc_oc=AQmgIzziHIsE2roCLl036R2GPDGy04e86wa1CzOt7ervW0gLWyk_em0o2mmJ3IgXqY_sUfwvGsa9c35xaciWrG3J&_nc_ad=z-m&_nc_cid=0&_nc_zor=9&_nc_ht=scontent.xx&oh=588db62d9dc34f7e68e7f6727ba95966&oe=5EC598CD\\nEm xin gi\\u00e1 xe n\\u00e0y shop \\u01a1i\", \"S\\u1ea3n ph\\u1ea9m  Xe t\\u1eadp \\u0111i \\u0111a n\\u0103ng cao c\\u1ea5p Holla hi\\u1ec7n shop \\u0111ang c\\u00f3 gi\\u00e1: 1200.000 VND\\nB\\u1ea1n tham kh\\u1ea3o c\\u00e1c s\\u1ea3n ph\\u1ea9m sau nh\\u00e9 \\u1ea1:\\n<show card sp>\", \"query_knowledge_base\", \"[\\\"url:['https://scontent.xx.fbcdn.net/v/t1.15752-9/94181516_219655075983837_7369188505747980288_n.jpg?_nc_cat=110&_nc_sid=b96e70&_nc_oc=AQmgIzziHIsE2roCLl036R2GPDGy04e86wa1CzOt7ervW0gLWyk_em0o2mmJ3IgXqY_sUfwvGsa9c35xaciWrG3J&_nc_ad=z-m&_nc_cid=0&_nc_zor=9&_nc_ht=scontent.xx&oh=588db62d9dc34f7e68e7f6727ba95966&oe=5EC598CD']\\\", 'attribute:price', 'object_type:xe', 'mention:n\\u00e0y']\", \"action_query_babe_kb\"], [\"C\\u1ea3m \\u01a1n shop\", \"C\\u1ea3m \\u01a1n b\\u1ea1n!\", \"thank\", \"[]\", \"utter_thank\"], [\"Shop ship cho em 1 chi\\u1ebfc xe \\u0111\\u1ea9y Holla m\\u00e0u xanh nh\\u00e9 \\u1ea1\", \"{C\\u00e1c c\\u00e2u h\\u1ecfi bot c\\u00f3 th\\u1ec3 h\\u1ecfi \\u0111\\u1ec3 \\u0111\\u1ee7 th\\u00f4ng tin:}\\r\\n- D\\u1ea1 b\\u1ea1n mu\\u1ed1n \\u0111\\u1eb7t s\\u1ea3n ph\\u1ea9m n\\u00e0o \\u1ea1?\\r\\n- B\\u1ea1n mu\\u1ed1n \\u0111\\u1eb7t s\\u1ed1 l\\u01b0\\u1ee3ng bao nhi\\u00eau? + 5 button t\\u1eeb 1 \\u0111\\u1ebfn 5\\r\\n- S\\u1ed1 \\u0111i\\u1ec7n tho\\u1ea1i ng\\u01b0\\u1eddi nh\\u1eadn?\\r\\n- \\u0110\\u1ecba ch\\u1ec9 nh\\u1eadn h\\u00e0ng? (S\\u1ed1 nh\\u00e0, ph\\u01b0\\u1eddng/x\\u00e3, qu\\u1eadn/huy\\u1ec7n, t\\u1ec9nh/th\\u00e0nh ph\\u1ed1)\\r\\n- B\\u1ea1n c\\u00f3 l\\u01b0u \\u00fd g\\u00ec cho b\\u00ean v\\u1eadn chuy\\u1ec3n kh\\u00f4ng? (vd: c\\u1ea7n g\\u1ea5p...)\\r\\n\\r\\n{N\\u1ebfu \\u0111\\u00e3 \\u0111\\u1ee7 th\\u00f4ng tin s\\u1ebd show ra} \\u0110\\u01a1n h\\u00e0ng c\\u1ee7a b\\u1ea1n g\\u1ed3m:...\", \"query_knowledge_base\", \"['object_type:xe_day', 'brand:holla', 'color:m\\u00e0u xanh']\", \"action_query_babe_kb\"], [\"Shop \\u01a1i\", \"Ch\\u00e0o b\\u1ea1n, m\\u00ecnh l\\u00e0 tr\\u1ee3 l\\u00fd \\u1ea3o c\\u1ee7a Shop G\\u1ea5u & B\\u00ed Ng\\u00f4, m\\u00ecnh gi\\u00fap g\\u00ec \\u0111\\u01b0\\u1ee3c b\\u1ea1n \\u1ea1?\", \"greet\", \"[]\", \"utter_greet\"], [\"E ch\\u00e0o shop\\nE xin gi\\u00e1 xe \\u0111\\u1ea9y v\\u1edbi \\u1ea1\", \"Hi\\u1ec7n t\\u1ea1i s\\u1ea3n ph\\u1ea9m Xe \\u0110\\u1ea9y  shop \\u0111ang c\\u00f3 nh\\u1eefng *gi\\u00e1* sau \\u1ea1:\", \"query_knowledge_base\", \"['attribute:price', 'object_type:xe_day']\", \"action_query_babe_kb\"], [\"E qu\\u00ean \\u1ea1\\nXe tr\\u00f2n t\\u1eadp \\u0111i \\u1ea5y \\u1ea1\", \"Hi\\u1ec7n t\\u1ea1i s\\u1ea3n ph\\u1ea9m Xe T\\u1eadp \\u0110i  shop \\u0111ang c\\u00f3 nh\\u1eefng *gi\\u00e1* sau \\u1ea1:\", \"query_knowledge_base\", \"['object_type:xe_tap_di']\", \"action_query_babe_kb\"], [\"https://scontent.xx.fbcdn.net/v/t1.15752-9/93606905_299502284371603_116262917866782720_n.jpg?_nc_cat=104&_nc_sid=b96e70&_nc_ohc=0AUlKD2s0VYAX9ut48m&_nc_ad=z-m&_nc_cid=0&_nc_zor=9&_nc_ht=scontent.xx&oh=f4de749b147aef02435adc37b87d9235&oe=5EC5F7D5\", \"B\\u1ea1n \\u0111ang t\\u00ecm ki\\u1ebfm th\\u00f4ng tin g\\u00ec \\u1ea1?\", \"send_link\", \"[\\\"url:['https://scontent.xx.fbcdn.net/v/t1.15752-9/93606905_299502284371603_116262917866782720_n.jpg?_nc_cat=104&_nc_sid=b96e70&_nc_ohc=0AUlKD2s0VYAX9ut48m&_nc_ad=z-m&_nc_cid=0&_nc_zor=9&_nc_ht=scontent.xx&oh=f4de749b147aef02435adc37b87d9235&oe=5EC5F7D5']\\\"]\", \"action_handle_send_link_only\"], [\"Gi\\u00e1 ti\\u1ec1n ban \\u01a1i\", \"S\\u1ea3n ph\\u1ea9m Qu\\u00e2y HOLLA FULL PHI\\u00caN B\\u1ea2N 2020 M\\u1eaaU V\\u01af\\u01a0NG MI\\u1ec6N hi\\u1ec7n shop \\u0111ang c\\u00f3 gi\\u00e1: 4190.000 VND\\nB\\u1ea1n tham kh\\u1ea3o c\\u00e1c s\\u1ea3n ph\\u1ea9m sau nh\\u00e9 \\u1ea1:\", \"query_knowledge_base\", \"['attribute:price']\", \"action_query_babe_kb\"], [\"Thanks b nh\\u00e9\", \"C\\u1ea3m \\u01a1n b\\u1ea1n!\", \"thank\", \"[]\", \"utter_thank\"], [\"Ch\\u00e0o shop\", \"Ch\\u00e0o b\\u1ea1n, m\\u00ecnh l\\u00e0 tr\\u1ee3 l\\u00fd \\u1ea3o c\\u1ee7a Shop G\\u1ea5u & B\\u00ed Ng\\u00f4, m\\u00ecnh gi\\u00fap g\\u00ec \\u0111\\u01b0\\u1ee3c b\\u1ea1n \\u1ea1?\", \"greet\", \"[]\", \"utter_greet\"], [\"\\u0110\\u1ed3 eco c\\u00f2mybaby h\\u1ebft lo\\u1ea1i 6-9m h\\u1ea3 ch\\u1ecb\", \"D\\u1ea1, v\\u1ea5n \\u0111\\u1ec1 n\\u00e0y m\\u00ecnh kh\\u00f4ng h\\u1ed7 tr\\u1ee3 b\\u1ea1n \\u0111\\u01b0\\u1ee3c. B\\u1ea1n vui l\\u00f2ng b\\u1ea5m \\\"Chat v\\u1edbi nh\\u00e2n vi\\u00ean\\\" v\\u00e0 ch\\u1edd trong gi\\u00e2y l\\u00e1t, nh\\u00e2n vi\\u00ean s\\u1ebd tr\\u1ea3 l\\u1eddi b\\u1ea1n s\\u1edbm nh\\u1ea5t c\\u00f3 th\\u1ec3 \\u1ea1. \\n(Button Chat v\\u1edbi nh\\u00e2n vi\\u00ean)\", \"query_knowledge_base\", \"['object_type:quan_ao']['size:6-9m']\", \"action_query_babe_kb\"], [\"/connect_employee\", null, \"handover_to_inbox\", \"[]\", \"action_handover_to_inbox\"], [\"Okie b\\u1ea1n\\nB\\u1ea1n cho t\\u1edb t\\u1ed5ng ti\\u1ec1n nh\\u00e9\", \"D\\u1ea1, v\\u1ea5n \\u0111\\u1ec1 n\\u00e0y m\\u00ecnh kh\\u00f4ng h\\u1ed7 tr\\u1ee3 b\\u1ea1n \\u0111\\u01b0\\u1ee3c. B\\u1ea1n vui l\\u00f2ng b\\u1ea5m \\\"Chat v\\u1edbi nh\\u00e2n vi\\u00ean\\\" v\\u00e0 ch\\u1edd trong gi\\u00e2y l\\u00e1t, nh\\u00e2n vi\\u00ean s\\u1ebd tr\\u1ea3 l\\u1eddi b\\u1ea1n s\\u1edbm nh\\u1ea5t c\\u00f3 th\\u1ec3 \\u1ea1. \\n(Button Chat v\\u1edbi nh\\u00e2n vi\\u00ean)\", \"handover_to_inbox\", \"[]\", \"action_handover_to_inbox\"], [\"https://scontent.xx.fbcdn.net/v/t1.15752-9/94615022_254702325575851_8685774369143652352_n.jpg?_nc_cat=107&_nc_sid=b96e70&_nc_oc=AQkW5yJT2whJY3uM6d13-4XyKcKwwf8gHNd-ED41EzYfoVcxoq3ogMZuuTsWcwYdCVqvspJWtELLeP0qWdOz4xNP&_nc_ad=z-m&_nc_cid=0&_nc_zor=9&_nc_ht=scontent.xx&oh=39335ddc3e910c63c2f92a71bc0721a2&oe=5EC5D7A0\\nhttps://scontent.xx.fbcdn.net/v/t1.15752-9/94718995_656896051775135_4424984880991961088_n.jpg?_nc_cat=110&_nc_sid=b96e70&_nc_oc=AQmqj-ZwCy04a-EryIf2WLMm4Qvp9emjauY9QNfszWU48mpnGT7YnO-0OJhPHEpL8ykkfrGfYXp_1Pb3Q7FIuunG&_nc_ad=z-m&_nc_cid=0&_nc_zor=9&_nc_ht=scontent.xx&oh=eb24143022047722f3bba74d15534964&oe=5EC7896A\\nhttps://scontent.xx.fbcdn.net/v/t1.15752-9/94278563_315945652700875_3393720721636065280_n.jpg?_nc_cat=107&_nc_sid=b96e70&_nc_oc=AQlu_SI7QRtyKEdwncW1fzfBqKQXFLU24Siyz8e0Kl_AT5LA2F-ihNTPCzaoj0XyStIeQPeFqeHSDe3t7fLokib0&_nc_ad=z-m&_nc_cid=0&_nc_zor=9&_nc_ht=scontent.xx&oh=a8c6f18333cf9f2b558c8e4c26ff2765&oe=5EC7387D\\nShop b\\u00e1o gi\\u00e1 e 3 sp n\\u00e0y vs\", \"S\\u1ea3n ph\\u1ea9m Xe ch\\u00f2i ch\\u00e2n ki\\u00eam xe l\\u1eafc cao c\\u1ea5p c\\u00f3 nh\\u1ea1c Holla hi\\u1ec7n shop \\u0111ang c\\u00f3 gi\\u00e1: *790,000 VND (gi\\u00e1 g\\u1ed1c 1,200,000 VND)*.\\nB\\u1ea1n tham kh\\u1ea3o c\\u00e1c s\\u1ea3n ph\\u1ea9m sau nh\\u00e9 \\u1ea1:\\n<show card sp>\\nS\\u1ea3n ph\\u1ea9m Voi m\\u1eb9 phun n\\u01b0\\u1edbc hi\\u1ec7n shop \\u0111ang c\\u00f3 gi\\u00e1: *189,000 VND (gi\\u00e1 g\\u1ed1c 290,000 VND)*.\\nB\\u1ea1n tham kh\\u1ea3o c\\u00e1c s\\u1ea3n ph\\u1ea9m sau nh\\u00e9 \\u1ea1:\\n<show card sp>\\nS\\u1ea3n ph\\u1ea9m  Xe t\\u1eadp \\u0111i \\u0111a n\\u0103ng cao c\\u1ea5p Holla hi\\u1ec7n shop \\u0111ang c\\u00f3 gi\\u00e1: *750,000 VND (gi\\u00e1 g\\u1ed1c 1,200,000 VND)*.\\nB\\u1ea1n tham kh\\u1ea3o c\\u00e1c s\\u1ea3n ph\\u1ea9m sau nh\\u00e9 \\u1ea1:\\n<show card sp>\", \"query_knowledge_base\", \"[\\\"url:['https://scontent.xx.fbcdn.net/v/t1.15752-9/94278563_315945652700875_3393720721636065280_n.jpg?_nc_cat=107&_nc_sid=b96e70&_nc_oc=AQlu_SI7QRtyKEdwncW1fzfBqKQXFLU24Siyz8e0Kl_AT5LA2F-ihNTPCzaoj0XyStIeQPeFqeHSDe3t7fLokib0&_nc_ad=z-m&_nc_cid=0&_nc_zor=9&_nc_ht=scontent.xx&oh=a8c6f18333cf9f2b558c8e4c26ff2765&oe=5EC7387D', 'https://scontent.xx.fbcdn.net/v/t1.15752-9/94718995_656896051775135_4424984880991961088_n.jpg?_nc_cat=110&_nc_sid=b96e70&_nc_oc=AQmqj-ZwCy04a-EryIf2WLMm4Qvp9emjauY9QNfszWU48mpnGT7YnO-0OJhPHEpL8ykkfrGfYXp_1Pb3Q7FIuunG&_nc_ad=z-m&_nc_cid=0&_nc_zor=9&_nc_ht=scontent.xx&oh=eb24143022047722f3bba74d15534964&oe=5EC7896A', 'https://scontent.xx.fbcdn.net/v/t1.15752-9/94615022_254702325575851_8685774369143652352_n.jpg?_nc_cat=107&_nc_sid=b96e70&_nc_oc=AQkW5yJT2whJY3uM6d13-4XyKcKwwf8gHNd-ED41EzYfoVcxoq3ogMZuuTsWcwYdCVqvspJWtELLeP0qWdOz4xNP&_nc_ad=z-m&_nc_cid=0&_nc_zor=9&_nc_ht=scontent.xx&oh=39335ddc3e910c63c2f92a71bc0721a2&oe=5EC5D7A0']\\\", 'attribute:price']\", \"action_query_babe_kb\"], [\"https://scontent.xx.fbcdn.net/v/t1.15752-9/93936800_2528999887362024_6985015496575811584_n.png?_nc_cat=106&_nc_sid=b96e70&_nc_ohc=8tGxj4NRcFgAX_OiTnm&_nc_ad=z-m&_nc_cid=0&_nc_zor=9&_nc_ht=scontent.xx&oh=a363ac91b870ae543a0a88dba3e37f0b&oe=5EC78195\\nxe nay bn ban oi?\", \"S\\u1ea3n ph\\u1ea9m Xe ch\\u00f2i ch\\u00e2n ki\\u00eam xe l\\u1eafc cao c\\u1ea5p c\\u00f3 nh\\u1ea1c Holla hi\\u1ec7n shop \\u0111ang c\\u00f3 gi\\u00e1: *790,000 VND (gi\\u00e1 g\\u1ed1c 1,200,000 VND)*.\\r\\nB\\u1ea1n tham kh\\u1ea3o c\\u00e1c s\\u1ea3n ph\\u1ea9m sau nh\\u00e9 \\u1ea1:\\r\\n<show card sp>\", \"query_knowledge_base\", \"[\\\"url:['https://scontent.xx.fbcdn.net/v/t1.15752-9/93936800_2528999887362024_6985015496575811584_n.png?_nc_cat=106&_nc_sid=b96e70&_nc_ohc=8tGxj4NRcFgAX_OiTnm&_nc_ad=z-m&_nc_cid=0&_nc_zor=9&_nc_ht=scontent.xx&oh=a363ac91b870ae543a0a88dba3e37f0b&oe=5EC78195']\\\", 'object_type:xe', 'mention:nay', 'attribute:price']\", \"action_query_babe_kb\"], [\"ok \\u1ea1\", \"V\\u00e2ng \\u1ea1!\", \"agree\", null, \"utter_agree\"], [\"Xe nadle c\\u00f3 tay \\u0111\\u1ea9y ko b\", \"D\\u1ea1, v\\u1ea5n \\u0111\\u1ec1 n\\u00e0y m\\u00ecnh kh\\u00f4ng h\\u1ed7 tr\\u1ee3 b\\u1ea1n \\u0111\\u01b0\\u1ee3c. B\\u1ea1n vui l\\u00f2ng b\\u1ea5m \\\"Chat v\\u1edbi nh\\u00e2n vi\\u00ean\\\" v\\u00e0 ch\\u1edd trong gi\\u00e2y l\\u00e1t, nh\\u00e2n vi\\u00ean s\\u1ebd tr\\u1ea3 l\\u1eddi b\\u1ea1n s\\u1edbm nh\\u1ea5t c\\u00f3 th\\u1ec3 \\u1ea1. \\n(Button Chat v\\u1edbi nh\\u00e2n vi\\u00ean)\", \"query_knowledge_base\", \"['brand:nadle','accessories:tay \\u0111\\u1ea9y']\", \"action_query_babe_kb\"], [\"/connect_employee\", null, \"handover_to_inbox\", \"[]\", \"action_handover_to_inbox\"], [\"Cho m\\u00ecnh link shoppe\", \"D\\u1ea1 b\\u1ea1n c\\u1ea7n xin link shopee c\\u1ee7a shop hay c\\u1ee7a s\\u1ea3n ph\\u1ea9m n\\u00e0o \\u1ea1?\", \"query_knowledge_base\", \"['attribute:link']\", \"action_query_babe_kb\"], [\"Xe l\\u1eafc \\u0111\\u00f3 b\", \"D\\u1ea1 m\\u1eddi b\\u1ea1n xem s\\u1ea3n ph\\u1ea9m t\\u1ea1i \\u0111\\u00e2y \\u1ea1:\\n- Link Shopee: https://shopee.vn/-Richell-i.36371562.544276829\", \"query_knowledge_base\", \"['object_type: xe_tap_di','attribute:link']\", \"action_query_babe_kb\"], [\"Ch\\u00e0o ad. Cho t\\u1edb h\\u1ecfi m\\u00ecnh c\\u00f2n th\\u1ea3m x\\u1ed1p Infantino 28 mi\\u1ebfng k nh\\u1ec9? T\\u1edb c\\u1ea3m \\u01a1n\", \"S\\u1ea3n ph\\u1ea9m  Th\\u1ea3m h\\u00e3ng s\\u1ea3n xu\\u1ea5t Infantino, ch\\u1ea5t li\\u1ec7u X\\u1ed1p 28 mi\\u1ebfng hi\\u1ec7n shop c\\u00f2n h\\u00e0ng, shop \\u0111ang c\\u00f3 gi\\u00e1: *99,000 VND (gi\\u00e1 g\\u1ed1c 99,000 VND), 279,000 VND (gi\\u00e1 g\\u1ed1c 349,000 VND), 179,000 VND (gi\\u00e1 g\\u1ed1c 179,000 VND)*.\\nB\\u1ea1n tham kh\\u1ea3o c\\u00e1c s\\u1ea3n ph\\u1ea9m sau nh\\u00e9 \\u1ea1:\", \"query_knowledge_base\", \"['object_type:tham', 'material:x\\u1ed1p', 'brand:infantino','number of pieces:28 mi\\u1ebfng']\", \"action_query_babe_kb\"], [\"Lo\\u1ea1i 28 mi\\u1ebfng c\\u00f3 nh\\u1eefng m\\u00e0u g\\u00ec h\\u1ea3 ad? Hay ch\\u1ec9 c\\u00f3 1 m\\u00e0u thui?\", \"S\\u1ea3n ph\\u1ea9m  Th\\u1ea3m h\\u00e3ng s\\u1ea3n xu\\u1ea5t Infantino, ch\\u1ea5t li\\u1ec7u X\\u1ed1p 28 mi\\u1ebfng hi\\u1ec7n shop \\u0111ang c\\u00f3 m\\u00e0u: *Xanh, H\\u1ed3ng*.\\nB\\u1ea1n tham kh\\u1ea3o c\\u00e1c s\\u1ea3n ph\\u1ea9m sau nh\\u00e9 \\u1ea1:\", \"query_knowledge_base\", \"['attribute:color', 'attribute:color']\", \"action_query_babe_kb\"], [\"Oki t\\u1edb c\\u1ea3m \\u01a1n nhi\\u1ec1u nh\\u00e9!\", \"C\\u1ea3m \\u01a1n b\\u1ea1n!\", \"thank\", \"[]\", \"utter_thank\"], [\"Shop \\u0111\\u00e3 v\\u1ec1 x\\u00edch \\u0111u & c\\u1ea7u tr\\u01b0\\u1ee3t holla ch\\u01b0a \\u1ea1\", \"S\\u1ea3n ph\\u1ea9m  C\\u1ea7u tr\\u01b0\\u1ee3t x\\u00edch \\u0111u Hola h\\u1ea3i c\\u1ea9u 2020 h\\u00e3ng s\\u1ea3n xu\\u1ea5t Holla hi\\u1ec7n shop \\u0111ang c\\u00f3 gi\\u00e1: *1,982,500 VND (gi\\u00e1 g\\u1ed1c 3,250,000 VND)*.\\nB\\u1ea1n tham kh\\u1ea3o c\\u00e1c s\\u1ea3n ph\\u1ea9m sau nh\\u00e9 \\u1ea1:\", \"query_knowledge_base\", \"['object_type:cau_truot', object_type:xich_du', 'brand:holla']\", \"action_query_babe_kb\"], [\"X\\u00edch \\u0111u shop c\\u00f2n m\\u00e0u g\\u00ec \\u1ea1\", \"S\\u1ea3n ph\\u1ea9m  C\\u1ea7u tr\\u01b0\\u1ee3t x\\u00edch \\u0111u Hola h\\u1ea3i c\\u1ea9u 2020 h\\u00e3ng s\\u1ea3n xu\\u1ea5t Holla hi\\u1ec7n shop \\u0111ang c\\u00f3 m\\u00e0u: *V\\u00e0ng, H\\u1ed3ng*.\\nB\\u1ea1n tham kh\\u1ea3o c\\u00e1c s\\u1ea3n ph\\u1ea9m sau nh\\u00e9 \\u1ea1:\", \"query_knowledge_base\", \"['object_type:xich_du','attribute:color']\", \"action_query_babe_kb\"], [\"Shop \\u0111\\u00e3 v\\u1ec1 x\\u00edch \\u0111u & c\\u1ea7u tr\\u01b0\\u1ee3t holla ch\\u01b0a \\u1ea1\", \"M\\u1eddi b\\u1ea1n tham kh\\u1ea3o c\\u00e1c s\\u1ea3n ph\\u1ea9m C\\u1ea7u tr\\u01b0\\u1ee3t, X\\u00edch \\u0111u, nh\\u00e3n hi\\u1ec7u Holla \\u0111ang c\\u00f3 t\\u1ea1i shop \\u1ea1:\\n<show card c\\u00e1c s\\u1ea3n ph\\u1ea9m C\\u1ea7u tr\\u01b0\\u1ee3t, X\\u00edch \\u0111u Holla>\", \"query_knowledge_base\", \"['object_type:cau_truot', object_type:xich_du', 'brand:holla']\", \"action_query_babe_kb\"], [\"X\\u00edch \\u0111u shop c\\u00f2n m\\u00e0u g\\u00ec \\u1ea1\", \"S\\u1ea3n ph\\u1ea9m X\\u00edch \\u0111u nh\\u00e3n hi\\u1ec7u Holla \\u0111ang c\\u00f3 c\\u00e1c m\\u00e0u sau: <show m\\u00e0u>\", \"query_knowledge_base\", \"['object_type:xich_du','attribute:color']\", \"action_query_babe_kb\"], [\"ok shop\", \"V\\u00e2ng \\u1ea1!\", \"agree\", null, \"utter_agree\"], [\"Ahop c\\u00f3 gi\\u01b0\\u1eddng n\\u00e0y ko shop\\nhttps://scontent.xx.fbcdn.net/v/t1.15752-9/94697811_243224110251372_4622459209449996288_n.jpg?_nc_cat=110&_nc_sid=b96e70&_nc_ohc=Z2trUQ5yFdkAX_aFlZ0&_nc_ad=z-m&_nc_cid=0&_nc_zor=9&_nc_ht=scontent.xx&oh=41b0cdfe72063f000ae97e6d2f27ea86&oe=5EC6F340\", \"S\\u1ea3n ph\\u1ea9m n\\u00e0y hi\\u1ec7n t\\u1ea1i Shop kh\\u00f4ng c\\u00f3, m\\u1eddi b\\u1ea1n tham kh\\u1ea3o c\\u00e1c Gi\\u01b0\\u1eddng \\u0111ang c\\u00f3 t\\u1ea1i shop \\u1ea1:\\n<Show card Gi\\u01b0\\u1eddng>\", \"query_knowledge_base\", \"[\\\"url:['https://scontent.xx.fbcdn.net/v/t1.15752-9/94697811_243224110251372_4622459209449996288_n.jpg?_nc_cat=110&_nc_sid=b96e70&_nc_ohc=Z2trUQ5yFdkAX_aFlZ0&_nc_ad=z-m&_nc_cid=0&_nc_zor=9&_nc_ht=scontent.xx&oh=41b0cdfe72063f000ae97e6d2f27ea86&oe=5EC6F340']\\\", 'object_type:giuong', 'mention:n\\u00e0y']\", \"action_query_babe_kb\"], [\"b\\u1ed9 bang lego thi bao nhieu\", \"M\\u00ecnh ch\\u01b0a x\\u00e1c \\u0111\\u1ecbnh \\u0111\\u01b0\\u1ee3c m\\u00f3n \\u0111\\u1ed3 b\\u1ea1n h\\u1ecfi, b\\u1ea1n m\\u00f4 t\\u1ea3 r\\u00f5 h\\u01a1n gi\\u00fap m\\u00ecnh nh\\u00e9!\", \"query_knowledge_base\", \"['attribute:price']\", \"action_query_babe_kb\"], [\"b\\u00e0n lego ah\", \"S\\u1ea3n ph\\u1ea9m B\\u00e0n Lego hi\\u1ec7n \\u0111ang c\\u00f3 gi\\u00e1: 1.035.000 VN\\u0110 (Gi\\u00e1 g\\u1ed1c: 1.750.000 VN\\u0110), 1.050.000VN\\u0110 (Gi\\u00e1 g\\u1ed1c: 1.890.000 VN\\u0110)\\n<Show card 2 b\\u00e0n lego \\u0111ang c\\u00f3>\", \"query_knowledge_base\", \"['object_type:ban_lego']\", \"action_query_babe_kb\"], [\"b\\u1ed9 b\\u00e0n lego thi bao nhieu\", \"S\\u1ea3n ph\\u1ea9m B\\u00e0n Lego hi\\u1ec7n \\u0111ang c\\u00f3 gi\\u00e1: 1.035.000 VN\\u0110 (Gi\\u00e1 g\\u1ed1c: 1.750.000 VN\\u0110), 1.050.000VN\\u0110 (Gi\\u00e1 g\\u1ed1c: 1.890.000 VN\\u0110)\\n<Show card 2 b\\u00e0n lego \\u0111ang c\\u00f3>\", \"query_knowledge_base\", \"['attribute:price', 'object_type:ban_lego']\", \"action_query_babe_kb\"], [\"thank b nh\\u00e9\", \"Shop c\\u1ea3m \\u01a1n b\\u1ea1n \\u1ea1\", \"thank\", \"[]\", \"utter thank\"], [\"shop \\u01a1i\", \"Ch\\u00e0o b\\u1ea1n, m\\u00ecnh l\\u00e0 tr\\u1ee3 l\\u00fd \\u1ea3o c\\u1ee7a Shop G\\u1ea5u & B\\u00ed Ng\\u00f4, m\\u00ecnh gi\\u00fap g\\u00ec \\u0111\\u01b0\\u1ee3c b\\u1ea1n \\u1ea1?\", \"greet\", null, \"utter_greet\"], [\"Shop c\\u00f3 m\\u00e1y ti\\u1ec7t tr\\u00f9ng uv fatz \\u0111\\u00fang ko \\u1ea1\", \"M\\u1eddi b\\u1ea1n tham kh\\u1ea3o c\\u00e1c s\\u1ea3n ph\\u1ea9m M\\u00e1y ti\\u1ec7t tr\\u00f9ng th\\u01b0\\u01a1ng hi\\u1ec7u Fatz \\u0111ang c\\u00f3 t\\u1ea1i shop \\u1ea1:\\n<card 1> <card 2> <card 3> ...\", \"query_knowledge_base\", \"['object_type:may_tiet_trung', 'brand:fatz']\", \"action_query_babe_kb\"], [\"shop \\u01a1i\", \"Ch\\u00e0o b\\u1ea1n, m\\u00ecnh l\\u00e0 tr\\u1ee3 l\\u00fd \\u1ea3o c\\u1ee7a Shop G\\u1ea5u & B\\u00ed Ng\\u00f4, m\\u00ecnh gi\\u00fap g\\u00ec \\u0111\\u01b0\\u1ee3c b\\u1ea1n \\u1ea1?\", \"greet\", null, \"utter_greet\"], [\"Shop c\\u00f3 m\\u00e1y ti\\u1ec7t tr\\u00f9ng uv fatz n\\u00e0y \\u0111\\u00fang ko \\u1ea1\\nhttps://scontent.xx.fbcdn.net/v/t1.15752-9/93890206_951879361908487_6660440411380645888_n.jpg?_nc_cat=101&_nc_sid=b96e70&_nc_ohc=qE3jk9gMoPkAX9QNKtO&_nc_ad=z-m&_nc_cid=0&_nc_zor=9&_nc_ht=scontent.xx&oh=34409ae90da130ed09ec60ff56ecf5aa&oe=5EC70431\\n\", \"S\\u1ea3n ph\\u1ea9m T\\u1eb6NG 02 b\\u00ecnh s\\u1eefa cao c\\u1ea5p - M\\u00e1y ti\\u1ec7t tr\\u00f9ng s\\u1ea5y kh\\u00f4 tia UV cao c\\u1ea5p Fatz Baby FB4702 hi\\u1ec7n c\\u00f3 gi\\u00e1: 2.390.000 VN\\u0110 (Gi\\u00e1 g\\u1ed1c: 2.750.000 VN\\u0110).\\n<show card>\", \"query_knowledge_base\", \"['object_type:may_tiet_trung', 'brand:fatz', 'url:https://scontent.xx.fbcdn.net/v/t1.15752-9/93890206_951879361908487_6660440411380645888_n.jpg?_nc_cat=101&_nc_sid=b96e70&_nc_ohc=qE3jk9gMoPkAX9QNKtO&_nc_ad=z-m&_nc_cid=0&_nc_zor=9&_nc_ht=scontent.xx&oh=34409ae90da130ed09ec60ff56ecf5aa&oe=5EC70431']\", \"action_query_babe_kb\"], [\"ok shop\", \"D\\u1ea1 v\\u00e2ng \\u1ea1!\", \"agree\", null, \"utter_agree\"], [\"shop \\u01a1i\", \"Ch\\u00e0o b\\u1ea1n, m\\u00ecnh l\\u00e0 tr\\u1ee3 l\\u00fd \\u1ea3o c\\u1ee7a Shop G\\u1ea5u & B\\u00ed Ng\\u00f4, m\\u00ecnh gi\\u00fap g\\u00ec \\u0111\\u01b0\\u1ee3c b\\u1ea1n \\u1ea1?\", \"greet\", null, \"utter_greet\"], [\"Shop c\\u00f3 m\\u00e1y ti\\u1ec7t tr\\u00f9ng uv fatz n\\u00e0y \\u0111\\u00fang ko \\u1ea1\\nhttps://scontent.xx.fbcdn.net/v/t1.15752-9/93890206_951879361908487_6660440411380645888_n.jpg?_nc_cat=101&_nc_sid=b96e70&_nc_ohc=qE3jk9gMoPkAX9QNKtO&_nc_ad=z-m&_nc_cid=0&_nc_zor=9&_nc_ht=scontent.xx&oh=34409ae90da130ed09ec60ff56ecf5aa&oe=5EC70431\\n\", \"D\\u1ea1, c\\u00f3 ph\\u1ea3i b\\u1ea1n mu\\u1ed1n h\\u1ecfi m\\u1ed9t trong c\\u00e1c s\\u1ea3n ph\\u1ea9m d\\u01b0\\u1edbi \\u0111\\u00e2y kh\\u00f4ng \\u1ea1?\\n (Vui l\\u00f2ng \\u1ea5n ch\\u1ecdn 1 s\\u1ea3n ph\\u1ea9m)\\n\\n<show 5 card s\\u1ea3n ph\\u1ea9m>\", \"query_knowledge_base\", \"['object_type:may_tiet_trung', 'brand:fatz', 'url:https://scontent.xx.fbcdn.net/v/t1.15752-9/93890206_951879361908487_6660440411380645888_n.jpg?_nc_cat=101&_nc_sid=b96e70&_nc_ohc=qE3jk9gMoPkAX9QNKtO&_nc_ad=z-m&_nc_cid=0&_nc_zor=9&_nc_ht=scontent.xx&oh=34409ae90da130ed09ec60ff56ecf5aa&oe=5EC70431']\", \"action_query_babe_kb\"], [\"/query_knowledge_base{\\\"url\\\": \\\"https://shopee.vn/product/36371562/3210697307\\\", \\\"product_id\\\": \\\"https://shopee.vn/product/36371562/3210697307\\\"}\", \"S\\u1ea3n ph\\u1ea9m T\\u1eb6NG 02 b\\u00ecnh s\\u1eefa cao c\\u1ea5p - M\\u00e1y ti\\u1ec7t tr\\u00f9ng s\\u1ea5y kh\\u00f4 tia UV cao c\\u1ea5p Fatz Baby FB4702 hi\\u1ec7n c\\u00f3 gi\\u00e1: 2.390.000 VN\\u0110 (Gi\\u00e1 g\\u1ed1c: 2.750.000 VN\\u0110).\\r\\n<show card>\", \"query_knowledge_base\", \"['url:https://shopee.vn/product/36371562/3210697307', 'product_id:https://shopee.vn/product/36371562/3210697307']\", \"action_query_babe_kb\"], [\"https://scontent.xx.fbcdn.net/v/t1.15752-9/93913289_670003413559736_245812939833999360_n.jpg?_nc_cat=105&_nc_sid=b96e70&_nc_ohc=IO8cH-ISUB4AX-tEq7O&_nc_ad=z-m&_nc_cid=0&_nc_zor=9&_nc_ht=scontent.xx&oh=70613ff7bf51b3e0c66e959468a12377&oe=5EC63EC6\", \"B\\u1ea1n \\u0111ang t\\u00ecm ki\\u1ebfm th\\u00f4ng tin g\\u00ec \\u1ea1?\", \"send_link\", \"[\\\"url:['https://scontent.xx.fbcdn.net/v/t1.15752-9/93913289_670003413559736_245812939833999360_n.jpg?_nc_cat=105&_nc_sid=b96e70&_nc_ohc=IO8cH-ISUB4AX-tEq7O&_nc_ad=z-m&_nc_cid=0&_nc_zor=9&_nc_ht=scontent.xx&oh=70613ff7bf51b3e0c66e959468a12377&oe=5EC63EC6']\\\"]\", \"action_handle_send_link_only\"], [\"B\\u1ea1n c\\u00f3 m\\u1eabu ntn ko\\nCho m\\u00ecnh xin th\\u00f4ng s\\u1ed1\", \"S\\u1ea3n ph\\u1ea9m Gh\\u1ebf \\u0111a n\\u0103ng cao c\\u1ea5p Mastela 1015 hi\\u1ec7n c\\u00f3 gi\\u00e1: 1.320.000 VN\\u0110 (Gi\\u00e1 g\\u1ed1c: 1.599.000 VN\\u0110).\\nM\\u1eddi b\\u1ea1n xem chi ti\\u1ebft th\\u00f4ng tin s\\u1ea3n ph\\u1ea9m t\\u1ea1i \\u0111\\u01b0\\u1eddng link:\\n<show card>\", \"query_knowledge_base\", \"[]\", \"action_query_babe_kb\"], [\"https://scontent.xx.fbcdn.net/v/t1.15752-9/93913289_670003413559736_245812939833999360_n.jpg?_nc_cat=105&_nc_sid=b96e70&_nc_ohc=IO8cH-ISUB4AX-tEq7O&_nc_ad=z-m&_nc_cid=0&_nc_zor=9&_nc_ht=scontent.xx&oh=70613ff7bf51b3e0c66e959468a12377&oe=5EC63EC6\", \"B\\u1ea1n \\u0111ang t\\u00ecm ki\\u1ebfm th\\u00f4ng tin g\\u00ec \\u1ea1?\", \"send_link\", \"[\\\"url:['https://scontent.xx.fbcdn.net/v/t1.15752-9/93913289_670003413559736_245812939833999360_n.jpg?_nc_cat=105&_nc_sid=b96e70&_nc_ohc=IO8cH-ISUB4AX-tEq7O&_nc_ad=z-m&_nc_cid=0&_nc_zor=9&_nc_ht=scontent.xx&oh=70613ff7bf51b3e0c66e959468a12377&oe=5EC63EC6']\\\"]\", \"action_handle_send_link_only\"], [\"B\\u1ea1n c\\u00f3 m\\u1eabu ntn ko\\nCho m\\u00ecnh xin th\\u00f4ng s\\u1ed1\", \"S\\u1ea3n ph\\u1ea9m Gh\\u1ebf \\u0111a n\\u0103ng cao c\\u1ea5p Mastela 1015 hi\\u1ec7n \\u0111ang h\\u1ebft h\\u00e0ng. M\\u1eddi b\\u1ea1n tham kh\\u1ea3o c\\u00e1c s\\u1ea3n ph\\u1ea9m Gh\\u1ebf \\u0103n kh\\u00e1c \\u0111ang c\\u00f3 t\\u1ea1i shop \\u1ea1.\\n<Show random 5 cards>\", \"query_knowledge_base\", \"[]\", \"action_query_babe_kb\"], [\"https://scontent.xx.fbcdn.net/v/t1.15752-9/93913289_670003413559736_245812939833999360_n.jpg?_nc_cat=105&_nc_sid=b96e70&_nc_ohc=IO8cH-ISUB4AX-tEq7O&_nc_ad=z-m&_nc_cid=0&_nc_zor=9&_nc_ht=scontent.xx&oh=70613ff7bf51b3e0c66e959468a12377&oe=5EC63EC6\", \"B\\u1ea1n \\u0111ang t\\u00ecm ki\\u1ebfm th\\u00f4ng tin g\\u00ec \\u1ea1?\", \"send_link\", \"[\\\"url:['https://scontent.xx.fbcdn.net/v/t1.15752-9/93913289_670003413559736_245812939833999360_n.jpg?_nc_cat=105&_nc_sid=b96e70&_nc_ohc=IO8cH-ISUB4AX-tEq7O&_nc_ad=z-m&_nc_cid=0&_nc_zor=9&_nc_ht=scontent.xx&oh=70613ff7bf51b3e0c66e959468a12377&oe=5EC63EC6']\\\"]\", \"action_handle_send_link_only\"], [\"B\\u1ea1n c\\u00f3 m\\u1eabu ntn ko\\nCho m\\u00ecnh xin th\\u00f4ng s\\u1ed1\", \"D\\u1ea1, c\\u00f3 ph\\u1ea3i b\\u1ea1n mu\\u1ed1n h\\u1ecfi m\\u1ed9t trong c\\u00e1c s\\u1ea3n ph\\u1ea9m d\\u01b0\\u1edbi \\u0111\\u00e2y kh\\u00f4ng \\u1ea1?\\n (Vui l\\u00f2ng \\u1ea5n ch\\u1ecdn 1 s\\u1ea3n ph\\u1ea9m)\\n\\n<show 5 card s\\u1ea3n ph\\u1ea9m>\", \"query_knowledge_base\", \"[]\", \"action_query_babe_kb\"], [\"Ch\\u00e0o shop\", \"Ch\\u00e0o b\\u1ea1n, m\\u00ecnh l\\u00e0 tr\\u1ee3 l\\u00fd \\u1ea3o c\\u1ee7a Shop G\\u1ea5u & B\\u00ed Ng\\u00f4, m\\u00ecnh gi\\u00fap g\\u00ec \\u0111\\u01b0\\u1ee3c b\\u1ea1n \\u1ea1?\", \"greet\", null, \"utter_greet\"], [\"Hi\\u1ec7n b\\u00ean m\\u00ecnh c\\u00f3 nh\\u1eefng m\\u1eabu th\\u00fa nh\\u00fan n\\u00e0o\", \"S\\u1ea3n ph\\u1ea9m Th\\u00fa nh\\u00fan Toys House hi\\u1ec7n c\\u00f3 gi\\u00e1 239.000 VN\\u0110 (Gi\\u00e1 g\\u1ed1c: 275.000 VN\\u0110).\\nM\\u1eddi b\\u1ea1n tham kh\\u1ea3o s\\u1ea3n ph\\u1ea9m t\\u1ea1i \\u0111\\u01b0\\u1eddng link:\\n<show card>\", \"query_knowledge_base\", \"['object_type:thu_nhun']\", \"action_query_babe_kb\"], [\"Ch\\u00e0o shop\", \"Ch\\u00e0o b\\u1ea1n, m\\u00ecnh l\\u00e0 tr\\u1ee3 l\\u00fd \\u1ea3o c\\u1ee7a Shop G\\u1ea5u & B\\u00ed Ng\\u00f4, m\\u00ecnh gi\\u00fap g\\u00ec \\u0111\\u01b0\\u1ee3c b\\u1ea1n \\u1ea1?\", \"greet\", null, \"utter_greet\"], [\"Hi\\u1ec7n b\\u00ean m\\u00ecnh c\\u00f3 nh\\u1eefng m\\u1eabu th\\u00fa nh\\u00fan n\\u00e0o\", \"S\\u1ea3n ph\\u1ea9m Th\\u00fa nh\\u00fan hi\\u1ec7n shop \\u0111ang c\\u00f3 c\\u00e1c s\\u1ea3n ph\\u1ea9m sau \\u1ea1:\\n<show card c\\u00e1c s\\u1ea3n ph\\u1ea9m object type thu_nhun>\", \"query_knowledge_base\", \"['object_type:thu_nhun']\", \"action_query_babe_kb\"], [\"ok shop\", \"V\\u00e2ng \\u1ea1!\", \"agree\", null, \"utter_agree\"], [\"\\u1ea4y \\u01a1i m\\u1ea5y th\\u1ee9 n\\u00e0y nh\\u00e0 \\u1ea5y bnhieu\\nhttps://scontent.xx.fbcdn.net/v/t1.15752-9/93831201_1146889219003227_7546191276316557312_n.jpg?_nc_cat=105&_nc_sid=b96e70&_nc_ohc=tLpSsYOv5b0AX-UBvhh&_nc_ad=z-m&_nc_cid=0&_nc_zor=9&_nc_ht=scontent.xx&oh=af8d419a2e841c371c922be98a8025dc&oe=5EC4E7BA\\nhttps://scontent.xx.fbcdn.net/v/t1.15752-9/94143660_227716808643426_4665045218939109376_n.jpg?_nc_cat=105&_nc_sid=b96e70&_nc_ohc=7GeN0-9CL-AAX9yVHBg&_nc_ad=z-m&_nc_cid=0&_nc_zor=9&_nc_ht=scontent.xx&oh=42ac8090663a783fb85c954a364fcf89&oe=5EC72B79\", \"S\\u1ea3n ph\\u1ea9m B\\u00e0n h\\u1ecdc, b\\u00e0n ch\\u01a1i l\\u1eafp gh\\u00e9p Lego cao c\\u1ea5p hi\\u1ec7n \\u0111ang c\\u00f3 gi\\u00e1: 1.035.000 VN\\u0110 (Gi\\u00e1 g\\u1ed1c: 1.750.000 VN\\u0110)\\n<Show card s\\u1ea3n ph\\u1ea9m 1>\\n\\nS\\u1ea3n ph\\u1ea9m Voi m\\u1eb9 phun n\\u01b0\\u1edbc hi\\u1ec7n \\u0111ang c\\u00f3 gi\\u00e1: 189.000 VN\\u0110 (Gi\\u00e1 g\\u1ed1c: 290.000 VN\\u0110).\\n<Show card s\\u1ea3n ph\\u1ea9m 2>\", \"query_knowledge_base\", \"[\\\"url:['https://scontent.xx.fbcdn.net/v/t1.15752-9/93831201_1146889219003227_7546191276316557312_n.jpg?_nc_cat=105&_nc_sid=b96e70&_nc_ohc=tLpSsYOv5b0AX-UBvhh&_nc_ad=z-m&_nc_cid=0&_nc_zor=9&_nc_ht=scontent.xx&oh=af8d419a2e841c371c922be98a8025dc&oe=5EC4E7BA', 'https://scontent.xx.fbcdn.net/v/t1.15752-9/94143660_227716808643426_4665045218939109376_n.jpg?_nc_cat=105&_nc_sid=b96e70&_nc_ohc=7GeN0-9CL-AAX9yVHBg&_nc_ad=z-m&_nc_cid=0&_nc_zor=9&_nc_ht=scontent.xx&oh=42ac8090663a783fb85c954a364fcf89&oe=5EC72B79']\\\", 'attribute:price']\", \"action_query_babe_kb\"], [\"https://scontent.xx.fbcdn.net/v/t1.15752-9/94570707_234412474285774_6361456205918896128_n.jpg?_nc_cat=106&_nc_sid=b96e70&_nc_ohc=5aKOFHkW5MwAX8P-5Cg&_nc_ad=z-m&_nc_cid=0&_nc_zor=9&_nc_ht=scontent.xx&oh=ab98b5d71300c2fac627d044b67b9d44&oe=5EC423FB\", \"B\\u1ea1n \\u0111ang t\\u00ecm ki\\u1ebfm th\\u00f4ng tin g\\u00ec \\u1ea1?\", \"send_link\", \"[\\\"url:['https://scontent.xx.fbcdn.net/v/t1.15752-9/94570707_234412474285774_6361456205918896128_n.jpg?_nc_cat=106&_nc_sid=b96e70&_nc_ohc=5aKOFHkW5MwAX8P-5Cg&_nc_ad=z-m&_nc_cid=0&_nc_zor=9&_nc_ht=scontent.xx&oh=ab98b5d71300c2fac627d044b67b9d44&oe=5EC423FB']\\\"]\", \"action_handle_send_link_only\"], [\"Bn v\\u1eady\\nhttps://scontent.xx.fbcdn.net/v/t1.15752-9/93558727_234412454285776_253028798423891968_n.jpg?_nc_cat=100&_nc_sid=b96e70&_nc_ohc=h9Y4J1MnK90AX-NWRjd&_nc_ad=z-m&_nc_cid=0&_nc_zor=9&_nc_ht=scontent.xx&oh=a2f97f6c39456cdc20c8536ecb51d23d&oe=5EC3BD1D\", \"S\\u1ea3n ph\\u1ea9m COMBO HOLLA FULL PHI\\u00caN B\\u1ea2N 2020 M\\u1eaaU V\\u01af\\u01a0NG MI\\u1ec6N \\u0111ang c\\u00f3 gi\\u00e1 4.100.000 VN\\u0110 (Gi\\u00e1 g\\u1ed1c: 5.000.000 VN\\u0110).\\n<Show card>\", \"query_knowledge_base\", \"[\\\"url:['https://scontent.xx.fbcdn.net/v/t1.15752-9/93558727_234412454285776_253028798423891968_n.jpg?_nc_cat=100&_nc_sid=b96e70&_nc_ohc=h9Y4J1MnK90AX-NWRjd&_nc_ad=z-m&_nc_cid=0&_nc_zor=9&_nc_ht=scontent.xx&oh=a2f97f6c39456cdc20c8536ecb51d23d&oe=5EC3BD1D']\\\", 'attribute:price']\", \"action_query_babe_kb\"], [\"ok shop\", \"V\\u00e2ng \\u1ea1!\", \"agree\", null, \"utter_agree\"], [\"Bn v\\u1eady\\nhttps://scontent.xx.fbcdn.net/v/t1.15752-9/93558727_234412454285776_253028798423891968_n.jpg?_nc_cat=100&_nc_sid=b96e70&_nc_ohc=h9Y4J1MnK90AX-NWRjd&_nc_ad=z-m&_nc_cid=0&_nc_zor=9&_nc_ht=scontent.xx&oh=a2f97f6c39456cdc20c8536ecb51d23d&oe=5EC3BD1D\", \"D\\u1ea1, c\\u00f3 ph\\u1ea3i b\\u1ea1n mu\\u1ed1n h\\u1ecfi m\\u1ed9t trong c\\u00e1c s\\u1ea3n ph\\u1ea9m d\\u01b0\\u1edbi \\u0111\\u00e2y kh\\u00f4ng \\u1ea1?\\n (Vui l\\u00f2ng \\u1ea5n ch\\u1ecdn 1 s\\u1ea3n ph\\u1ea9m)\\n\\n<show 5 card s\\u1ea3n ph\\u1ea9m>\", \"query_knowledge_base\", \"[\\\"url:['https://scontent.xx.fbcdn.net/v/t1.15752-9/93558727_234412454285776_253028798423891968_n.jpg?_nc_cat=100&_nc_sid=b96e70&_nc_ohc=h9Y4J1MnK90AX-NWRjd&_nc_ad=z-m&_nc_cid=0&_nc_zor=9&_nc_ht=scontent.xx&oh=a2f97f6c39456cdc20c8536ecb51d23d&oe=5EC3BD1D']\\\", 'attribute:price']\", \"action_query_babe_kb\"], [\"https://scontent.xx.fbcdn.net/v/t1.15752-9/94561499_543060359946538_2595608200518565888_n.jpg?_nc_cat=107&_nc_sid=b96e70&_nc_ohc=bSXx0Sekm_MAX_8eoFD&_nc_ad=z-m&_nc_cid=0&_nc_zor=9&_nc_ht=scontent.xx&oh=8f58096d3d249b1a54c759ddeeeba9f9&oe=5EC43219\\nB\\u1ed9 n\\u00e0y gi\\u00e1 tnao shop\", \"D\\u1ea1, c\\u00f3 ph\\u1ea3i b\\u1ea1n mu\\u1ed1n h\\u1ecfi m\\u1ed9t trong c\\u00e1c s\\u1ea3n ph\\u1ea9m d\\u01b0\\u1edbi \\u0111\\u00e2y kh\\u00f4ng \\u1ea1?\\n (Vui l\\u00f2ng \\u1ea5n ch\\u1ecdn 1 s\\u1ea3n ph\\u1ea9m)...\", \"query_knowledge_base\", \"[\\\"url:['https://scontent.xx.fbcdn.net/v/t1.15752-9/94561499_543060359946538_2595608200518565888_n.jpg?_nc_cat=107&_nc_sid=b96e70&_nc_ohc=bSXx0Sekm_MAX_8eoFD&_nc_ad=z-m&_nc_cid=0&_nc_zor=9&_nc_ht=scontent.xx&oh=8f58096d3d249b1a54c759ddeeeba9f9&oe=5EC43219']\\\", 'mention:b\\u1ed9 n\\u00e0y', 'attribute:price']\", \"action_query_babe_kb\"], [\"/query_knowledge_base{\\\"url\\\": \\\"https://shopee.vn/product/36371562/5307497099\\\", \\\"product_id\\\": \\\"https://shopee.vn/product/36371562/5307497099\\\"}\", \"S\\u1ea3n ph\\u1ea9m GH\\u1ebe NH\\u1ea2Y JUMPEROO KONIG KIDS CH\\u00cdNH H\\u00c3NG hi\\u1ec7n c\\u00f3 gi\\u00e1 1.190.000 VN\\u0110 (Gi\\u00e1 g\\u1ed1c: 1.900.000 VN\\u0110).\\nM\\u1eddi b\\u1ea1n tham kh\\u1ea3o s\\u1ea3n ph\\u1ea9m t\\u1ea1i \\u0111\\u01b0\\u1eddng link:\\n<show card>\", \"query_knowledge_base\", \"['url:https://shopee.vn/product/36371562/3210697307', 'product_id:https://shopee.vn/product/36371562/3210697307']\", \"action_query_babe_kb\"], [\"https://scontent.xx.fbcdn.net/v/t1.15752-9/94561499_543060359946538_2595608200518565888_n.jpg?_nc_cat=107&_nc_sid=b96e70&_nc_ohc=bSXx0Sekm_MAX_8eoFD&_nc_ad=z-m&_nc_cid=0&_nc_zor=9&_nc_ht=scontent.xx&oh=8f58096d3d249b1a54c759ddeeeba9f9&oe=5EC43219\\nB\\u1ed9 n\\u00e0y gi\\u00e1 tnao shop\", \"S\\u1ea3n ph\\u1ea9m GH\\u1ebe NH\\u1ea2Y JUMPEROO KONIG KIDS CH\\u00cdNH H\\u00c3NG hi\\u1ec7n c\\u00f3 gi\\u00e1 1.190.000 VN\\u0110 (Gi\\u00e1 g\\u1ed1c: 1.900.000 VN\\u0110).\\nM\\u1eddi b\\u1ea1n tham kh\\u1ea3o s\\u1ea3n ph\\u1ea9m t\\u1ea1i \\u0111\\u01b0\\u1eddng link:\\n<show card>\", \"query_knowledge_base\", \"[\\\"url:['https://scontent.xx.fbcdn.net/v/t1.15752-9/94561499_543060359946538_2595608200518565888_n.jpg?_nc_cat=107&_nc_sid=b96e70&_nc_ohc=bSXx0Sekm_MAX_8eoFD&_nc_ad=z-m&_nc_cid=0&_nc_zor=9&_nc_ht=scontent.xx&oh=8f58096d3d249b1a54c759ddeeeba9f9&oe=5EC43219']\\\", 'mention:b\\u1ed9 n\\u00e0y', 'attribute:price']\", \"action_query_babe_kb\"], [\"ok shop\", \"D\\u1ea1 v\\u00e2ng \\u1ea1!\", \"agree\", null, \"utter_agree\"], [\"https://scontent.xx.fbcdn.net/v/t1.15752-9/94038207_687798988709671_7037596126890950656_n.jpg?_nc_cat=108&_nc_sid=b96e70&_nc_ohc=4GBQnpA0-ScAX83d8VU&_nc_ad=z-m&_nc_cid=0&_nc_zor=9&_nc_ht=scontent.xx&oh=8afd05be65873d63fd7e0f02576cdead&oe=5EC747E3\\nShop oi\\nH\\u00f4m m\\u00ecnh h\\u1ecfi m\\u00e1y n\\u00e0y\\nCon k shop\\nBe nha minh chuan bi an d\\u1eb7m roi\", null, \"handover_to_inbox\", \"[\\\"url:['https://scontent.xx.fbcdn.net/v/t1.15752-9/94038207_687798988709671_7037596126890950656_n.jpg?_nc_cat=108&_nc_sid=b96e70&_nc_ohc=4GBQnpA0-ScAX83d8VU&_nc_ad=z-m&_nc_cid=0&_nc_zor=9&_nc_ht=scontent.xx&oh=8afd05be65873d63fd7e0f02576cdead&oe=5EC747E3']\\\", 'object_type:may', 'mention:n\\u00e0y']\", \"action_handover_to_inbox\"], [\"https://scontent.xx.fbcdn.net/v/t1.15752-9/94038207_687798988709671_7037596126890950656_n.jpg?_nc_cat=108&_nc_sid=b96e70&_nc_ohc=4GBQnpA0-ScAX83d8VU&_nc_ad=z-m&_nc_cid=0&_nc_zor=9&_nc_ht=scontent.xx&oh=8afd05be65873d63fd7e0f02576cdead&oe=5EC747E3\\nShop oi\\nH\\u00f4m m\\u00ecnh h\\u1ecfi m\\u00e1y n\\u00e0y\\nCon k shop\\nBe nha minh chuan bi an d\\u1eb7m roi\", \"S\\u1ea3n ph\\u1ea9m M\\u00c1Y XAY H\\u1ea4P \\u0110A N\\u0102NG NUTRIBABY PLUS 5IN1 (Ph\\u00e1p) hi\\u1ec7n c\\u00f3 gi\\u00e1: 3.979.000 VN\\u0110 (Gi\\u00e1 g\\u1ed1c: 4.890.000 VN\\u0110).\\n<Show card>\", \"query_knowledge_base\", \"[\\\"url:['https://scontent.xx.fbcdn.net/v/t1.15752-9/94038207_687798988709671_7037596126890950656_n.jpg?_nc_cat=108&_nc_sid=b96e70&_nc_ohc=4GBQnpA0-ScAX83d8VU&_nc_ad=z-m&_nc_cid=0&_nc_zor=9&_nc_ht=scontent.xx&oh=8afd05be65873d63fd7e0f02576cdead&oe=5EC747E3']\\\", 'object_type:may', 'mention:n\\u00e0y']\", \"action_query_babe_kb\"], [\"ok shop\", \"D\\u1ea1 v\\u00e2ng \\u1ea1!\", \"agree\", null, \"utter_agree\"], [\"Ch\\u00e0o shop\", \"Ch\\u00e0o b\\u1ea1n, m\\u00ecnh l\\u00e0 tr\\u1ee3 l\\u00fd \\u1ea3o c\\u1ee7a Shop G\\u1ea5u & B\\u00ed Ng\\u00f4, m\\u00ecnh gi\\u00fap g\\u00ec \\u0111\\u01b0\\u1ee3c b\\u1ea1n \\u1ea1?\", \"greet\", null, \"utter_greet\"], [\"https://scontent.xx.fbcdn.net/v/t1.15752-9/94316648_559560771648930_8586198601812672512_n.jpg?_nc_cat=104&_nc_sid=b96e70&_nc_ohc=nYoq7RRX3DMAX_k9-MH&_nc_ad=z-m&_nc_cid=0&_nc_zor=9&_nc_ht=scontent.xx&oh=3ab20e00abb8dea43ef7bf6865ff9dfe&oe=5EC6DAB7\\nB\\u1ed9 n\\u00e0y gi\\u00e1 bnhieu v\\u1eady s\", \"\\\"S\\u1ea3n ph\\u1ea9m  COMBO HOLLA LI\\u00caN HO\\u00c0N 2020 c\\u00f3 gi\\u00e1 4.100.000 (Gi\\u00e1 g\\u1ed1c: 5.000.000).\\n<Show card>\\\"\", \"query_knowledge_base\", \"[\\\"url:['https://scontent.xx.fbcdn.net/v/t1.15752-9/94316648_559560771648930_8586198601812672512_n.jpg?_nc_cat=104&_nc_sid=b96e70&_nc_ohc=nYoq7RRX3DMAX_k9-MH&_nc_ad=z-m&_nc_cid=0&_nc_zor=9&_nc_ht=scontent.xx&oh=3ab20e00abb8dea43ef7bf6865ff9dfe&oe=5EC6DAB7']\\\", 'mention:b\\u1ed9 n\\u00e0y', 'attribute:price']\", \"action_query_babe_kb\"], [\"Ch\\u00e0o shop\", \"Ch\\u00e0o b\\u1ea1n, m\\u00ecnh l\\u00e0 tr\\u1ee3 l\\u00fd \\u1ea3o c\\u1ee7a Shop G\\u1ea5u & B\\u00ed Ng\\u00f4, m\\u00ecnh gi\\u00fap g\\u00ec \\u0111\\u01b0\\u1ee3c b\\u1ea1n \\u1ea1?\", \"greet\", null, \"utter_greet\"], [\"https://scontent.xx.fbcdn.net/v/t1.15752-9/94316648_559560771648930_8586198601812672512_n.jpg?_nc_cat=104&_nc_sid=b96e70&_nc_ohc=nYoq7RRX3DMAX_k9-MH&_nc_ad=z-m&_nc_cid=0&_nc_zor=9&_nc_ht=scontent.xx&oh=3ab20e00abb8dea43ef7bf6865ff9dfe&oe=5EC6DAB7\\nB\\u1ed9 n\\u00e0y gi\\u00e1 bnhieu v\\u1eady s\", \"S\\u1ea3n ph\\u1ea9m  COMBO HOLLA LI\\u00caN HO\\u00c0N 2020 c\\u00f3 gi\\u00e1 4.100.000 (Gi\\u00e1 g\\u1ed1c: 5.000.000).\\n<Show card>\\\"\", \"query_knowledge_base\", \"[\\\"url:['https://scontent.xx.fbcdn.net/v/t1.15752-9/94316648_559560771648930_8586198601812672512_n.jpg?_nc_cat=104&_nc_sid=b96e70&_nc_ohc=nYoq7RRX3DMAX_k9-MH&_nc_ad=z-m&_nc_cid=0&_nc_zor=9&_nc_ht=scontent.xx&oh=3ab20e00abb8dea43ef7bf6865ff9dfe&oe=5EC6DAB7']\\\", 'mention:b\\u1ed9 n\\u00e0y', 'attribute:price']\", \"action_query_babe_kb\"], [\"c\\u00f3 nh\\u1eefng m\\u00e0u g\\u00ec shop nh\\u1ec9?\", \"S\\u1ea3n ph\\u1ea9m COMBO HOLLA LI\\u00caN HO\\u00c0N 2020 c\\u00f3 m\\u00e0u: Xanh, Cam \\u1ea1\", null, null, null], [\"ok, thank shop nh\\u00e9\", \"Shop c\\u1ea3m \\u01a1n b\\u1ea1n \\u1ea1.\", \"thank\", null, \"utter_thank\"], [\"m\\u00ecnh mu\\u1ed1n mua m\\u00e1y ti\\u1ec7t tr\\u00f9ng uv\\nt\\u01b0 v\\u1ea5n m\\u00ecnh v\\u1edbi\", \"\\\"Hi\\u1ec7n t\\u1ea1i s\\u1ea3n ph\\u1ea9m M\\u00e1y ti\\u1ec7t tr\\u00f9ng  shop \\u0111ang c\\u00f3 nh\\u1eefng gi\\u00e1 sau \\u1ea1:\\n<500-1M> <1M-2M> <T\\u1ea5t c\\u1ea3 gi\\u00e1>\\\"\", \"query_knowledge_base\", \"[]\", \"action_query_babe_kb\"], [\"Ok m \\u0111\\u1eb7t tr\\u00ean shopee nha\", \"D\\u1ea1 v\\u00e2ng \\u1ea1!\", \"just_inform\", null, null], [\"Shop ship cho minh ve d\\u1ecba chi nay c\\u00e1i nh\\u00e9 04 d\\u01b0\\u1eddng h\\u1ea1c th\\u00e0nh. Ph\\u01b0\\u1eddng t\\u00e2n s\\u01a1n. Th\\u00e0nh ph\\u1ed1 thanh h\\u00f3a 0968955567\", null, \"handover_to_inbox\", \"[]\", \"action_handover_to_inbox\"], [\"V\\u00e2ng \\u1ea1. Ph\\u00ed ship SG kho\\u1ea3ng bao nhi\\u00eau \\u1ea1\", \"Shop G\\u1ea5u v\\u00e0 B\\u00ed ng\\u00f4 s\\u1eb5n s\\u00e0ng ph\\u1ee5c v\\u1ee5, g\\u1eedi h\\u00e0ng tr\\u00ean to\\u00e0n qu\\u1ed1c. Chi ti\\u1ebft ch\\u00ednh s\\u00e1ch giao h\\u00e0ng b\\u1ea1n xem t\\u1ea1i \\u0111\\u1ecba ch\\u1ec9:\\n<link ch\\u00ednh s\\u00e1ch b\\u00e1n h\\u00e0ng>\", \"ask_ship\", \"['attribute:price']\", \"utter_ask_ship\"], [\"https://scontent.xx.fbcdn.net/v/t1.15752-9/94323038_1108008879555033_809681363421626368_n.jpg?_nc_cat=100&_nc_sid=b96e70&_nc_ohc=9Sd_i3IdtH4AX-pZB98&_nc_ad=z-m&_nc_cid=0&_nc_zor=9&_nc_ht=scontent.xx&oh=4332a43fb415a3a2f20ba28a8e52e1d7&oe=5EC48249\", \"B\\u1ea1n \\u0111ang t\\u00ecm ki\\u1ebfm th\\u00f4ng tin g\\u00ec \\u1ea1?\", \"send_link\", \"[\\\"url:['https://scontent.xx.fbcdn.net/v/t1.15752-9/94323038_1108008879555033_809681363421626368_n.jpg?_nc_cat=100&_nc_sid=b96e70&_nc_ohc=9Sd_i3IdtH4AX-pZB98&_nc_ad=z-m&_nc_cid=0&_nc_zor=9&_nc_ht=scontent.xx&oh=4332a43fb415a3a2f20ba28a8e52e1d7&oe=5EC48249']\\\"]\", \"action_handle_send_link_only\"], [\"E b\\u1ecb m\\u1ea5t kh\\u00f3a \\u1edf b\\u1ed9 ph\\u1eadn n\\u00e0y\\nB\\u00ean m\\u00ecnh c\\u00f3 b\\u00e1n l\\u1ebb k \\u1ea1\", null, \"handover_to_inbox\", \"['mention:b\\u1ed9 ph\\u1eadn n\\u00e0y']\", \"action_handover_to_inbox\"], [\"https://scontent.xx.fbcdn.net/v/t1.15752-9/94259393_892892491187558_7679210626836594688_n.jpg?_nc_cat=108&_nc_sid=b96e70&_nc_ohc=0rDEDeG8lA0AX-B0SQQ&_nc_ad=z-m&_nc_cid=0&_nc_zor=9&_nc_ht=scontent.xx&oh=a2ff5613ed551cd6dc4fe7cc6402ee5e&oe=5EC5CABA\\nhttps://scontent.xx.fbcdn.net/v/t1.15752-9/94243630_1102036203477446_4753051873383022592_n.jpg?_nc_cat=106&_nc_sid=b96e70&_nc_ohc=vnRAbnMtAQUAX_ep3zB&_nc_ad=z-m&_nc_cid=0&_nc_zor=9&_nc_ht=scontent.xx&oh=4898f46c66c29418b7233a70414f0ed4&oe=5EC4CCFA\\n2 n\\u00e0y nhiu shop\", \"S\\u1ea3n ph\\u1ea9m Xe \\u0111\\u1ea9y 2 chi\\u1ec1u cao c\\u1ea5p VOVO 2019 \\u0111ang c\\u00f3 gi\\u00e1: 1.620.000 VN\\u0110 (Gi\\u00e1 g\\u1ed1c: 2.500.000 VN\\u0110).\\nM\\u1eddi b\\u1ea1n xem chi ti\\u1ebft s\\u1ea3n ph\\u1ea9m t\\u1ea1i link:\\n<Show card>\", \"query_knowledge_base\", \"[\\\"url:['https://scontent.xx.fbcdn.net/v/t1.15752-9/94259393_892892491187558_7679210626836594688_n.jpg?_nc_cat=108&_nc_sid=b96e70&_nc_ohc=0rDEDeG8lA0AX-B0SQQ&_nc_ad=z-m&_nc_cid=0&_nc_zor=9&_nc_ht=scontent.xx&oh=a2ff5613ed551cd6dc4fe7cc6402ee5e&oe=5EC5CABA', 'https://scontent.xx.fbcdn.net/v/t1.15752-9/94243630_1102036203477446_4753051873383022592_n.jpg?_nc_cat=106&_nc_sid=b96e70&_nc_ohc=vnRAbnMtAQUAX_ep3zB&_nc_ad=z-m&_nc_cid=0&_nc_zor=9&_nc_ht=scontent.xx&oh=4898f46c66c29418b7233a70414f0ed4&oe=5EC4CCFA']\\\", 'attribute:price']\", \"action_query_babe_kb\"], [\"Xe \\u0111\\u1ea9y n\\u00e0y \\u0111ang gi\\u1ea3m gi\\u00e1 ph\\u1ea3i k\", \"S\\u1ea3n ph\\u1ea9m Xe \\u0111\\u1ea9y 2 chi\\u1ec1u cao c\\u1ea5p VOVO 2019 \\u0111ang c\\u00f3 khuy\\u1ebfn m\\u1ea1i: 35% \\u1ea1\", \"query_knowledge_base\", \"['object_type:xe_day', 'attribute:promotion']\", \"action_query_babe_kb\"], [\"https://scontent.xx.fbcdn.net/v/t1.15752-9/94259393_892892491187558_7679210626836594688_n.jpg?_nc_cat=108&_nc_sid=b96e70&_nc_ohc=0rDEDeG8lA0AX-B0SQQ&_nc_ad=z-m&_nc_cid=0&_nc_zor=9&_nc_ht=scontent.xx&oh=a2ff5613ed551cd6dc4fe7cc6402ee5e&oe=5EC5CABA\\nhttps://scontent.xx.fbcdn.net/v/t1.15752-9/94243630_1102036203477446_4753051873383022592_n.jpg?_nc_cat=106&_nc_sid=b96e70&_nc_ohc=vnRAbnMtAQUAX_ep3zB&_nc_ad=z-m&_nc_cid=0&_nc_zor=9&_nc_ht=scontent.xx&oh=4898f46c66c29418b7233a70414f0ed4&oe=5EC4CCFA\\n2 n\\u00e0y nhiu shop\", \"S\\u1ea3n ph\\u1ea9m Xe \\u0111\\u1ea9y 2 chi\\u1ec1u cao c\\u1ea5p VOVO 2019 \\u0111ang c\\u00f3 gi\\u00e1: 1.620.000 VN\\u0110 (Gi\\u00e1 g\\u1ed1c: 2.500.000 VN\\u0110).\\nM\\u1eddi b\\u1ea1n xem chi ti\\u1ebft s\\u1ea3n ph\\u1ea9m t\\u1ea1i link:\\n<Show card>\\n\\nS\\u1ea3n ph\\u1ea9m Thanh \\u0111\\u1ed3 ch\\u01a1i treo n\\u00f4i, c\\u0169i, xe \\u0111\\u1ea9y, gh\\u1ebf ng\\u1ed3i \\u00f4 t\\u00f4 h\\u00ecnh chim c\\u00f3 nh\\u1ea1c Infantino (M\\u1ef9) \\u0111ang c\\u00f3 gi\\u00e1: 279.000 VN\\u0110 (Gi\\u00e1 g\\u1ed1c: 399.000 VN\\u0110).\\nS\\u1ea3n ph\\u1ea9m Xe \\u0111\\u1ea9y 2 chi\\u1ec1u cao c\\u1ea5p VOVO 2019 \\u0111ang c\\u00f3 gi\\u00e1: 1.620.000 VN\\u0110 (Gi\\u00e1 g\\u1ed1c: 2.500.000 VN\\u0110).\\r\\nM\\u1eddi b\\u1ea1n xem chi ti\\u1ebft s\\u1ea3n ph\\u1ea9m t\\u1ea1i link:\\r\\n<Show card>\", \"query_knowledge_base\", \"[\\\"url:['https://scontent.xx.fbcdn.net/v/t1.15752-9/94259393_892892491187558_7679210626836594688_n.jpg?_nc_cat=108&_nc_sid=b96e70&_nc_ohc=0rDEDeG8lA0AX-B0SQQ&_nc_ad=z-m&_nc_cid=0&_nc_zor=9&_nc_ht=scontent.xx&oh=a2ff5613ed551cd6dc4fe7cc6402ee5e&oe=5EC5CABA', 'https://scontent.xx.fbcdn.net/v/t1.15752-9/94243630_1102036203477446_4753051873383022592_n.jpg?_nc_cat=106&_nc_sid=b96e70&_nc_ohc=vnRAbnMtAQUAX_ep3zB&_nc_ad=z-m&_nc_cid=0&_nc_zor=9&_nc_ht=scontent.xx&oh=4898f46c66c29418b7233a70414f0ed4&oe=5EC4CCFA']\\\", 'attribute:price']\", \"action_query_babe_kb\"], [\"Xe \\u0111\\u1ea9y n\\u00e0y \\u0111ang gi\\u1ea3m gi\\u00e1 ph\\u1ea3i k\", \"S\\u1ea3n ph\\u1ea9m Xe \\u0111\\u1ea9y 2 chi\\u1ec1u cao c\\u1ea5p VOVO 2019 \\u0111ang c\\u00f3 khuy\\u1ebfn m\\u1ea1i: 35% \\u1ea1\", \"query_knowledge_base\", \"['object_type:xe_day', 'attribute:promotion']\", \"action_query_babe_kb\"], [\"https://scontent.xx.fbcdn.net/v/t1.15752-9/94258066_3106456589367061_8404234375218069504_n.jpg?_nc_cat=108&_nc_sid=b96e70&_nc_ohc=SapTrP0sYnQAX8HDeMB&_nc_ad=z-m&_nc_cid=0&_nc_zor=9&_nc_ht=scontent.xx&oh=888da228f92bb60b1197f0943fe83fe6&oe=5EC73344\", \"B\\u1ea1n \\u0111ang t\\u00ecm ki\\u1ebfm th\\u00f4ng tin g\\u00ec \\u1ea1?\", \"send_link\", \"[\\\"url:['https://scontent.xx.fbcdn.net/v/t1.15752-9/94258066_3106456589367061_8404234375218069504_n.jpg?_nc_cat=108&_nc_sid=b96e70&_nc_ohc=SapTrP0sYnQAX8HDeMB&_nc_ad=z-m&_nc_cid=0&_nc_zor=9&_nc_ht=scontent.xx&oh=888da228f92bb60b1197f0943fe83fe6&oe=5EC73344']\\\"]\", \"action_handle_send_link_only\"], [\"M\\u00ecnh c\\u00f3 c\\u1ea7u tr\\u01b0\\u1ee3t n\\u00e0y c\\u1ee7a hola k c\", \"S\\u1ea3n ph\\u1ea9m C\\u1ea7u tr\\u01b0\\u1ee3t x\\u00edch \\u0111u Hola h\\u1ea3i c\\u1ea9u 2020 \\u0111ang c\\u00f3 gi\\u00e1: 1.990.000 VN\\u0110 (Gi\\u00e1 g\\u1ed1c: 3.250.000 VN\\u0110).\\nM\\u1eddi b\\u1ea1n xem chi ti\\u1ebft s\\u1ea3n ph\\u1ea9m t\\u1ea1i link:\\n<Show card>\", \"query_knowledge_base\", \"['object_type:cau_truot', 'mention:n\\u00e0y', 'brand:hola']\", \"action_query_babe_kb\"], [\"https://scontent.xx.fbcdn.net/v/t1.15752-9/94258066_3106456589367061_8404234375218069504_n.jpg?_nc_cat=108&_nc_sid=b96e70&_nc_ohc=SapTrP0sYnQAX8HDeMB&_nc_ad=z-m&_nc_cid=0&_nc_zor=9&_nc_ht=scontent.xx&oh=888da228f92bb60b1197f0943fe83fe6&oe=5EC73344\", \"B\\u1ea1n \\u0111ang t\\u00ecm ki\\u1ebfm th\\u00f4ng tin g\\u00ec \\u1ea1?\", \"send_link\", \"[\\\"url:['https://scontent.xx.fbcdn.net/v/t1.15752-9/94258066_3106456589367061_8404234375218069504_n.jpg?_nc_cat=108&_nc_sid=b96e70&_nc_ohc=SapTrP0sYnQAX8HDeMB&_nc_ad=z-m&_nc_cid=0&_nc_zor=9&_nc_ht=scontent.xx&oh=888da228f92bb60b1197f0943fe83fe6&oe=5EC73344']\\\"]\", \"action_handle_send_link_only\"], [\"M\\u00ecnh c\\u00f3 c\\u1ea7u tr\\u01b0\\u1ee3t n\\u00e0y c\\u1ee7a hola k c\", \"S\\u1ea3n ph\\u1ea9m C\\u1ea7u tr\\u01b0\\u1ee3t x\\u00edch \\u0111u Hola h\\u1ea3i c\\u1ea9u 2020 shop \\u0111ang t\\u1ea1m h\\u1ebft h\\u00e0ng. B\\u1ea1n tham kh\\u1ea3o c\\u00e1c s\\u1ea3n ph\\u1ea9m C\\u1ea7u tr\\u01b0\\u1ee3t, X\\u00edch du kh\\u00e1c \\u0111ang c\\u00f3 \\u1edf shop nh\\u00e9!\", \"query_knowledge_base\", \"['object_type:cau_truot', 'mention:n\\u00e0y', 'brand:hola']\", \"action_query_babe_kb\"], [\"Khi n\\u00e0o c\\u00f3 h\\u00e0ng l\\u1ea1i \\u1ea1\", null, \"handover_to_inbox\", \"[]\", \"action_handover_to_inbox\"], [\"B\\u1ea1n \\u01a1i\", \"Ch\\u00e0o b\\u1ea1n, m\\u00ecnh l\\u00e0 tr\\u1ee3 l\\u00fd \\u1ea3o c\\u1ee7a Shop G\\u1ea5u & B\\u00ed Ng\\u00f4, m\\u00ecnh gi\\u00fap g\\u00ec \\u0111\\u01b0\\u1ee3c b\\u1ea1n \\u1ea1?\", \"greet\", \"[]\", \"utter_greet\"], [\"Tiki giao h\\u00e0ng ch\\u1eadm qu\\u00e1 m\\u00ecnh h\\u1ee7y \\u0111\\u01a1n r\\u1ed3i\", null, \"handover_to_inbox\", \"[]\", \"action_handover_to_inbox\"], [\"B \\u01a1i\\nhttps://scontent.xx.fbcdn.net/v/t1.15752-9/94080363_366864304231193_6923640899247276032_n.jpg?_nc_cat=104&_nc_sid=b96e70&_nc_oc=AQnYjDUlyL9X-imLwYXvZ0dbzfwZzzYVzYigef-3OxNFH_DMmIWXM1cLs_yT6agKPNKI95IJz1OCpFOOphtU-1eO&_nc_ad=z-m&_nc_cid=0&_nc_zor=9&_nc_ht=scontent.xx&oh=5dba552f7208a17a094b507bc0e2384f&oe=5EC58419\\nM\\u00ecnh c\\u00f2n b\\u1ed9 n\\u00e0y ko\", \"D\\u1ea1, c\\u00f3 ph\\u1ea3i b\\u1ea1n mu\\u1ed1n h\\u1ecfi m\\u1ed9t trong c\\u00e1c s\\u1ea3n ph\\u1ea9m d\\u01b0\\u1edbi \\u0111\\u00e2y kh\\u00f4ng \\u1ea1?\\n (Vui l\\u00f2ng \\u1ea5n ch\\u1ecdn 1 s\\u1ea3n ph\\u1ea9m)...\", \"query_knowledge_base\", \"[\\\"url:['https://scontent.xx.fbcdn.net/v/t1.15752-9/94080363_366864304231193_6923640899247276032_n.jpg?_nc_cat=104&_nc_sid=b96e70&_nc_oc=AQnYjDUlyL9X-imLwYXvZ0dbzfwZzzYVzYigef-3OxNFH_DMmIWXM1cLs_yT6agKPNKI95IJz1OCpFOOphtU-1eO&_nc_ad=z-m&_nc_cid=0&_nc_zor=9&_nc_ht=scontent.xx&oh=5dba552f7208a17a094b507bc0e2384f&oe=5EC58419']\\\", 'mention:b\\u1ed9 n\\u00e0y']\", \"action_query_babe_kb\"], [\"/query_knowledge_base{\\\"url\\\": \\\"https://shopee.vn/product/36371562/3220636191\\\", \\\"product_id\\\": \\\"https://shopee.vn/product/36371562/3220636191\\\"}\", \"S\\u1ea3n ph\\u1ea9m  B\\u1ed9 \\u0111\\u1ed3 ch\\u01a1i \\u0111\\u00e0n Piano k\\u1ebft h\\u1ee3p 10 nh\\u1ea1c c\\u1ee5 BKIDS 003398  hi\\u1ec7n shop \\u0111ang c\\u00f3 gi\\u00e1: *880,000 VND (gi\\u00e1 g\\u1ed1c 1,200,000 VND)*.\\nB\\u1ea1n tham kh\\u1ea3o c\\u00e1c s\\u1ea3n ph\\u1ea9m sau nh\\u00e9 \\u1ea1:\", \"query_knowledge_base\", \"['url:https://shopee.vn/product/36371562/3220636191', 'product_id:https://shopee.vn/product/36371562/3220636191']\", \"action_query_babe_kb\"], [\"B \\u01a1i\\nhttps://scontent.xx.fbcdn.net/v/t1.15752-9/94080363_366864304231193_6923640899247276032_n.jpg?_nc_cat=104&_nc_sid=b96e70&_nc_oc=AQnYjDUlyL9X-imLwYXvZ0dbzfwZzzYVzYigef-3OxNFH_DMmIWXM1cLs_yT6agKPNKI95IJz1OCpFOOphtU-1eO&_nc_ad=z-m&_nc_cid=0&_nc_zor=9&_nc_ht=scontent.xx&oh=5dba552f7208a17a094b507bc0e2384f&oe=5EC58419\\nM\\u00ecnh c\\u00f2n b\\u1ed9 n\\u00e0y ko\", \"S\\u1ea3n ph\\u1ea9m  B\\u1ed9 \\u0111\\u1ed3 ch\\u01a1i \\u0111\\u00e0n Piano k\\u1ebft h\\u1ee3p 10 nh\\u1ea1c c\\u1ee5 BKIDS 003398  hi\\u1ec7n shop \\u0111ang c\\u00f3 gi\\u00e1: *880,000 VND (gi\\u00e1 g\\u1ed1c 1,200,000 VND)*.\\nB\\u1ea1n tham kh\\u1ea3o c\\u00e1c s\\u1ea3n ph\\u1ea9m sau nh\\u00e9 \\u1ea1:\", \"query_knowledge_base\", \"[\\\"url:['https://scontent.xx.fbcdn.net/v/t1.15752-9/94080363_366864304231193_6923640899247276032_n.jpg?_nc_cat=104&_nc_sid=b96e70&_nc_oc=AQnYjDUlyL9X-imLwYXvZ0dbzfwZzzYVzYigef-3OxNFH_DMmIWXM1cLs_yT6agKPNKI95IJz1OCpFOOphtU-1eO&_nc_ad=z-m&_nc_cid=0&_nc_zor=9&_nc_ht=scontent.xx&oh=5dba552f7208a17a094b507bc0e2384f&oe=5EC58419']\\\", 'mention:b\\u1ed9 n\\u00e0y']\", \"action_query_babe_kb\"], [\"C\\u00f2n xe m\\u00e0u xanh k b\\u1ea1n?\", \"S\\u1ea3n ph\\u1ea9m b\\u1ea1n \\u0111ang t\\u00ecm c\\u00f3 ph\\u1ea3i l\\u00e0?\", \"query_knowledge_base\", \"['color:m\\u00e0u xanh','object_type:xe']\", \"action_query_babe_kb\"], [\"https://scontent.xx.fbcdn.net/v/t1.15752-9/94102000_537890583596250_3175827341263765504_n.jpg?_nc_cat=101&_nc_sid=b96e70&_nc_ohc=5935ns4FSwQAX-_WOWm&_nc_ad=z-m&_nc_cid=0&_nc_zor=9&_nc_ht=scontent.xx&oh=15177bd0d58de1d81f7183e9a391dc86&oe=5EC3949F\", \"D\\u1ea1, c\\u00f3 ph\\u1ea3i b\\u1ea1n mu\\u1ed1n h\\u1ecfi m\\u1ed9t trong c\\u00e1c s\\u1ea3n ph\\u1ea9m d\\u01b0\\u1edbi \\u0111\\u00e2y kh\\u00f4ng \\u1ea1?\\n (Vui l\\u00f2ng \\u1ea5n ch\\u1ecdn 1 s\\u1ea3n ph\\u1ea9m)...\", \"send_link\", \"[\\\"url:['https://scontent.xx.fbcdn.net/v/t1.15752-9/94102000_537890583596250_3175827341263765504_n.jpg?_nc_cat=101&_nc_sid=b96e70&_nc_ohc=5935ns4FSwQAX-_WOWm&_nc_ad=z-m&_nc_cid=0&_nc_zor=9&_nc_ht=scontent.xx&oh=15177bd0d58de1d81f7183e9a391dc86&oe=5EC3949F']\\\"]\", \"action_handle_send_link_only\"], [\"/disagree{\\\"object_type\\\": null}\", \"B\\u1ea1n vui l\\u00f2ng m\\u00f4 t\\u1ea3 r\\u00f5 mong mu\\u1ed1n c\\u1ee7a b\\u1ea1n ho\\u1eb7c chat v\\u1edbi nh\\u00e2n vi\\u00ean t\\u01b0 v\\u1ea5n nh\\u00e9!\", \"disagree\", \"['object_type:None']\", \"utter_disagree\"], [\"M\\u00ecnh g\\u1eedi \\u1ea3nh \\u1edf tr\\u00ean b\\u1ea1n \\u01a1i\\nXem tin nh\\u1eafn \\u0111i\", null, \"handover_to_inbox\", \"['attribute:image']\", \"action_handover_to_inbox\"], [\"C\\u00f2n xe m\\u00e0u xanh k b\\u1ea1n?\", \"S\\u1ea3n ph\\u1ea9m b\\u1ea1n \\u0111ang t\\u00ecm c\\u00f3 ph\\u1ea3i l\\u00e0?\", \"query_knowledge_base\", \"['color:m\\u00e0u xanh','object_type:xe']\", \"action_query_babe_kb\"], [\"https://scontent.xx.fbcdn.net/v/t1.15752-9/94102000_537890583596250_3175827341263765504_n.jpg?_nc_cat=101&_nc_sid=b96e70&_nc_ohc=5935ns4FSwQAX-_WOWm&_nc_ad=z-m&_nc_cid=0&_nc_zor=9&_nc_ht=scontent.xx&oh=15177bd0d58de1d81f7183e9a391dc86&oe=5EC3949F\", \"D\\u1ea1, c\\u00f3 ph\\u1ea3i b\\u1ea1n mu\\u1ed1n h\\u1ecfi m\\u1ed9t trong c\\u00e1c s\\u1ea3n ph\\u1ea9m d\\u01b0\\u1edbi \\u0111\\u00e2y kh\\u00f4ng \\u1ea1?\\n (Vui l\\u00f2ng \\u1ea5n ch\\u1ecdn 1 s\\u1ea3n ph\\u1ea9m)...\", \"send_link\", \"[\\\"url:['https://scontent.xx.fbcdn.net/v/t1.15752-9/94102000_537890583596250_3175827341263765504_n.jpg?_nc_cat=101&_nc_sid=b96e70&_nc_ohc=5935ns4FSwQAX-_WOWm&_nc_ad=z-m&_nc_cid=0&_nc_zor=9&_nc_ht=scontent.xx&oh=15177bd0d58de1d81f7183e9a391dc86&oe=5EC3949F']\\\"]\", \"action_handle_send_link_only\"], [\"/query_knowledge_base{\\\"url\\\": \\\"https://www.facebook.com/shopgauvabingo/posts/2445777899065867\\\", \\\"product_id\\\": \\\"https://www.facebook.com/shopgauvabingo/posts/2445777899065867\\\"}\", \"S\\u1ea3n ph\\u1ea9m Xe ch\\u00f2i ch\\u00e2n ki\\u00eam xe l\\u1eafc cao c\\u1ea5p c\\u00f3 nh\\u1ea1c Holla hi\\u1ec7n shop \\u0111ang c\\u00f3 gi\\u00e1: *790,000 VND (gi\\u00e1 g\\u1ed1c 1,200,000 VND)*.\\nB\\u1ea1n tham kh\\u1ea3o c\\u00e1c s\\u1ea3n ph\\u1ea9m sau nh\\u00e9 \\u1ea1:\", \"query_knowledge_base\", null, \"action_query_babe_kb\"], [\"thank shop\", \"D\\u1ea1, c\\u1ea3m \\u01a1n b\\u1ea1n!\", \"thank\", null, \"utter_thank\"], [\"C\\u00f2n xe m\\u00e0u xanh k b\\u1ea1n?\", \"S\\u1ea3n ph\\u1ea9m b\\u1ea1n \\u0111ang t\\u00ecm c\\u00f3 ph\\u1ea3i l\\u00e0?\", \"query_knowledge_base\", \"['color:m\\u00e0u xanh','object_type:xe']\", \"action_query_babe_kb\"], [\"https://scontent.xx.fbcdn.net/v/t1.15752-9/94102000_537890583596250_3175827341263765504_n.jpg?_nc_cat=101&_nc_sid=b96e70&_nc_ohc=5935ns4FSwQAX-_WOWm&_nc_ad=z-m&_nc_cid=0&_nc_zor=9&_nc_ht=scontent.xx&oh=15177bd0d58de1d81f7183e9a391dc86&oe=5EC3949F\", \"S\\u1ea3n ph\\u1ea9m Xe ch\\u00f2i ch\\u00e2n ki\\u00eam xe l\\u1eafc cao c\\u1ea5p c\\u00f3 nh\\u1ea1c Holla hi\\u1ec7n shop \\u0111ang c\\u00f3 gi\\u00e1: *790,000 VND (gi\\u00e1 g\\u1ed1c 1,200,000 VND)*.\\nB\\u1ea1n tham kh\\u1ea3o c\\u00e1c s\\u1ea3n ph\\u1ea9m sau nh\\u00e9 \\u1ea1:\", \"send_link\", \"[\\\"url:['https://scontent.xx.fbcdn.net/v/t1.15752-9/94102000_537890583596250_3175827341263765504_n.jpg?_nc_cat=101&_nc_sid=b96e70&_nc_ohc=5935ns4FSwQAX-_WOWm&_nc_ad=z-m&_nc_cid=0&_nc_zor=9&_nc_ht=scontent.xx&oh=15177bd0d58de1d81f7183e9a391dc86&oe=5EC3949F']\\\"]\", \"action_handle_send_link_only\"], [\"thank shop\", \"D\\u1ea1, c\\u1ea3m \\u01a1n b\\u1ea1n!\", \"thank\", null, \"utter_thank\"], [\"C\\u00f2n xe m\\u00e0u xanh k b\\u1ea1n?\", \"S\\u1ea3n ph\\u1ea9m b\\u1ea1n \\u0111ang t\\u00ecm c\\u00f3 ph\\u1ea3i l\\u00e0?\", \"query_knowledge_base\", \"['color:m\\u00e0u xanh','object_type:xe']\", \"action_query_babe_kb\"], [\"https://scontent.xx.fbcdn.net/v/t1.15752-9/94102000_537890583596250_3175827341263765504_n.jpg?_nc_cat=101&_nc_sid=b96e70&_nc_ohc=5935ns4FSwQAX-_WOWm&_nc_ad=z-m&_nc_cid=0&_nc_zor=9&_nc_ht=scontent.xx&oh=15177bd0d58de1d81f7183e9a391dc86&oe=5EC3949F\", \"S\\u1ea3n ph\\u1ea9m Xe ch\\u00f2i ch\\u00e2n ki\\u00eam xe l\\u1eafc cao c\\u1ea5p c\\u00f3 nh\\u1ea1c Holla hi\\u1ec7n shop c\\u00f2n h\\u00e0ng v\\u00e0 \\u0111ang c\\u00f3 gi\\u00e1: *790,000 VND (gi\\u00e1 g\\u1ed1c 1,200,000 VND)*.\\r\\nB\\u1ea1n tham kh\\u1ea3o c\\u00e1c s\\u1ea3n ph\\u1ea9m sau nh\\u00e9 \\u1ea1:\", \"send_link\", \"[\\\"url:['https://scontent.xx.fbcdn.net/v/t1.15752-9/94102000_537890583596250_3175827341263765504_n.jpg?_nc_cat=101&_nc_sid=b96e70&_nc_ohc=5935ns4FSwQAX-_WOWm&_nc_ad=z-m&_nc_cid=0&_nc_zor=9&_nc_ht=scontent.xx&oh=15177bd0d58de1d81f7183e9a391dc86&oe=5EC3949F']\\\"]\", \"action_handle_send_link_only\"], [\"thank shop\", \"D\\u1ea1, c\\u1ea3m \\u01a1n b\\u1ea1n!\", \"thank\", null, \"utter_thank\"], [\"C\\u00f2n xe m\\u00e0u xanh k b\\u1ea1n?\", \"S\\u1ea3n ph\\u1ea9m b\\u1ea1n \\u0111ang t\\u00ecm c\\u00f3 ph\\u1ea3i l\\u00e0?\", \"query_knowledge_base\", \"['color:m\\u00e0u xanh','object_type:xe']\", \"action_query_babe_kb\"], [\"https://scontent.xx.fbcdn.net/v/t1.15752-9/94102000_537890583596250_3175827341263765504_n.jpg?_nc_cat=101&_nc_sid=b96e70&_nc_ohc=5935ns4FSwQAX-_WOWm&_nc_ad=z-m&_nc_cid=0&_nc_zor=9&_nc_ht=scontent.xx&oh=15177bd0d58de1d81f7183e9a391dc86&oe=5EC3949F\", \"S\\u1ea3n ph\\u1ea9m Xe ch\\u00f2i ch\\u00e2n ki\\u00eam xe l\\u1eafc cao c\\u1ea5p c\\u00f3 nh\\u1ea1c Holla hi\\u1ec7n shop h\\u1ebft h\\u00e0ng \\u1ea1\\nB\\u1ea1n tham kh\\u1ea3o c\\u00e1c s\\u1ea3n ph\\u1ea9m kh\\u00e1c nh\\u00e9 \\u1ea1:\", \"send_link\", \"[\\\"url:['https://scontent.xx.fbcdn.net/v/t1.15752-9/94102000_537890583596250_3175827341263765504_n.jpg?_nc_cat=101&_nc_sid=b96e70&_nc_ohc=5935ns4FSwQAX-_WOWm&_nc_ad=z-m&_nc_cid=0&_nc_zor=9&_nc_ht=scontent.xx&oh=15177bd0d58de1d81f7183e9a391dc86&oe=5EC3949F']\\\"]\", \"action_handle_send_link_only\"], [\"thank shop\", \"D\\u1ea1, c\\u1ea3m \\u01a1n b\\u1ea1n!\", \"thank\", null, \"utter_thank\"], [\"https://scontent.xx.fbcdn.net/v/t1.15752-9/93421060_694074408092001_3418794938278608896_n.jpg?_nc_cat=104&_nc_sid=b96e70&_nc_ohc=y8JBwsvgIzsAX8KRRtS&_nc_ad=z-m&_nc_cid=0&_nc_zor=9&_nc_ht=scontent.xx&oh=4b820252ad86bea6ddb057ddf4a2578f&oe=5EC53BA3\\nBn shop oi\", \"S\\u1ea3n ph\\u1ea9m Xe ch\\u00f2i ch\\u00e2n ki\\u00eam xe l\\u1eafc cao c\\u1ea5p c\\u00f3 nh\\u1ea1c Holla hi\\u1ec7n shop \\u0111ang c\\u00f3 gi\\u00e1: *790,000 VND (gi\\u00e1 g\\u1ed1c 1,200,000 VND)*.\\nB\\u1ea1n tham kh\\u1ea3o c\\u00e1c s\\u1ea3n ph\\u1ea9m sau nh\\u00e9 \\u1ea1:\", \"query_knowledge_base\", \"[\\\"url:['https://scontent.xx.fbcdn.net/v/t1.15752-9/93421060_694074408092001_3418794938278608896_n.jpg?_nc_cat=104&_nc_sid=b96e70&_nc_ohc=y8JBwsvgIzsAX8KRRtS&_nc_ad=z-m&_nc_cid=0&_nc_zor=9&_nc_ht=scontent.xx&oh=4b820252ad86bea6ddb057ddf4a2578f&oe=5EC53BA3']\\\", 'attribute:price']\", \"action_query_babe_kb\"], [\"https://scontent.xx.fbcdn.net/v/t1.15752-9/93839074_222006799220932_6191900088302829568_n.jpg?_nc_cat=100&_nc_sid=b96e70&_nc_ohc=2EZhPQDsst4AX--rHnR&_nc_ad=z-m&_nc_cid=0&_nc_zor=9&_nc_ht=scontent.xx&oh=b6a830ddbc618e8a4c318b6dab622f03&oe=5EC45074\", \"B\\u1ea1n \\u0111ang t\\u00ecm ki\\u1ebfm th\\u00f4ng tin g\\u00ec \\u1ea1?\", \"send_link\", \"[\\\"url:['https://scontent.xx.fbcdn.net/v/t1.15752-9/93839074_222006799220932_6191900088302829568_n.jpg?_nc_cat=100&_nc_sid=b96e70&_nc_ohc=2EZhPQDsst4AX--rHnR&_nc_ad=z-m&_nc_cid=0&_nc_zor=9&_nc_ht=scontent.xx&oh=b6a830ddbc618e8a4c318b6dab622f03&oe=5EC45074']\\\"]\", \"action_query_babe_kb\"], [\"xe n\\u00e0y bao nhi\\u00eau \\u1ea1\", \"S\\u1ea3n ph\\u1ea9m Xe NADLE 3 in 1: Xe \\u0111\\u1ea9y - Ch\\u00f2i ch\\u00e2n - Xe \\u0111\\u1ea1p hi\\u1ec7n shop \\u0111ang c\\u00f3 gi\\u00e1: *1,550,000 VND (gi\\u00e1 g\\u1ed1c 2,650,000 VND)*.\\nB\\u1ea1n tham kh\\u1ea3o c\\u00e1c s\\u1ea3n ph\\u1ea9m sau nh\\u00e9 \\u1ea1:\", \"query_knowledge_base\", \"['attribute:price','object_type:xe','mention:n\\u00e0y']\", \"action_query_babe_kb\"], [\"ok shop\", \"D\\u1ea1,v\\u00e2ng\", \"agree\", null, \"utter_agree\"], [\"https://scontent.xx.fbcdn.net/v/t1.15752-9/93421060_694074408092001_3418794938278608896_n.jpg?_nc_cat=104&_nc_sid=b96e70&_nc_ohc=y8JBwsvgIzsAX8KRRtS&_nc_ad=z-m&_nc_cid=0&_nc_zor=9&_nc_ht=scontent.xx&oh=4b820252ad86bea6ddb057ddf4a2578f&oe=5EC53BA3\\nBn shop oi\", \"S\\u1ea3n ph\\u1ea9m Xe ch\\u00f2i ch\\u00e2n ki\\u00eam xe l\\u1eafc cao c\\u1ea5p c\\u00f3 nh\\u1ea1c Holla hi\\u1ec7n shop \\u0111ang c\\u00f3 gi\\u00e1: *790,000 VND (gi\\u00e1 g\\u1ed1c 1,200,000 VND)*.\\nB\\u1ea1n tham kh\\u1ea3o c\\u00e1c s\\u1ea3n ph\\u1ea9m sau nh\\u00e9 \\u1ea1:\", \"query_knowledge_base\", \"[\\\"url:['https://scontent.xx.fbcdn.net/v/t1.15752-9/93421060_694074408092001_3418794938278608896_n.jpg?_nc_cat=104&_nc_sid=b96e70&_nc_ohc=y8JBwsvgIzsAX8KRRtS&_nc_ad=z-m&_nc_cid=0&_nc_zor=9&_nc_ht=scontent.xx&oh=4b820252ad86bea6ddb057ddf4a2578f&oe=5EC53BA3']\\\", 'attribute:price']\", \"action_query_babe_kb\"], [\"https://scontent.xx.fbcdn.net/v/t1.15752-9/93839074_222006799220932_6191900088302829568_n.jpg?_nc_cat=100&_nc_sid=b96e70&_nc_ohc=2EZhPQDsst4AX--rHnR&_nc_ad=z-m&_nc_cid=0&_nc_zor=9&_nc_ht=scontent.xx&oh=b6a830ddbc618e8a4c318b6dab622f03&oe=5EC45074\", \"S\\u1ea3n ph\\u1ea9m Xe NADLE 3 in 1: Xe \\u0111\\u1ea9y - Ch\\u00f2i ch\\u00e2n - Xe \\u0111\\u1ea1p hi\\u1ec7n shop \\u0111ang c\\u00f3 gi\\u00e1: *1,550,000 VND (gi\\u00e1 g\\u1ed1c 2,650,000 VND)*.\\r\\nB\\u1ea1n tham kh\\u1ea3o c\\u00e1c s\\u1ea3n ph\\u1ea9m sau nh\\u00e9 \\u1ea1:\", \"send_link\", \"[\\\"url:['https://scontent.xx.fbcdn.net/v/t1.15752-9/93839074_222006799220932_6191900088302829568_n.jpg?_nc_cat=100&_nc_sid=b96e70&_nc_ohc=2EZhPQDsst4AX--rHnR&_nc_ad=z-m&_nc_cid=0&_nc_zor=9&_nc_ht=scontent.xx&oh=b6a830ddbc618e8a4c318b6dab622f03&oe=5EC45074']\\\"]\", \"action_query_babe_kb\"], [\"ok shop\", \"D\\u1ea1,v\\u00e2ng\", \"agree\", null, \"utter_agree\"], [\"https://scontent.xx.fbcdn.net/v/t1.15752-9/94133156_4309719482387540_6121986675083051008_n.jpg?_nc_cat=104&_nc_sid=b96e70&_nc_ohc=2eJCKINpBwUAX-7rsiy&_nc_ad=z-m&_nc_cid=0&_nc_zor=9&_nc_ht=scontent.xx&oh=c69b59c6321d1ca5600690f45432f74f&oe=5EC4161F\\nXe l\\u1eafc bn b oi\", \"D\\u1ea1, c\\u00f3 ph\\u1ea3i b\\u1ea1n mu\\u1ed1n h\\u1ecfi m\\u1ed9t trong c\\u00e1c s\\u1ea3n ph\\u1ea9m d\\u01b0\\u1edbi \\u0111\\u00e2y kh\\u00f4ng \\u1ea1?\\n (Vui l\\u00f2ng \\u1ea5n ch\\u1ecdn 1 s\\u1ea3n ph\\u1ea9m)...\", \"query_knowledge_base\", \"[\\\"url:['https://scontent.xx.fbcdn.net/v/t1.15752-9/94133156_4309719482387540_6121986675083051008_n.jpg?_nc_cat=104&_nc_sid=b96e70&_nc_ohc=2eJCKINpBwUAX-7rsiy&_nc_ad=z-m&_nc_cid=0&_nc_zor=9&_nc_ht=scontent.xx&oh=c69b59c6321d1ca5600690f45432f74f&oe=5EC4161F']\\\",'object_type:xe', 'attribute:price']\", \"action_query_babe_kb\"], [\"/disagree{\\\"object_type\\\": null}\", \"B\\u1ea1n vui l\\u00f2ng m\\u00f4 t\\u1ea3 r\\u00f5 mong mu\\u1ed1n c\\u1ee7a b\\u1ea1n ho\\u1eb7c chat v\\u1edbi nh\\u00e2n vi\\u00ean t\\u01b0 v\\u1ea5n nh\\u00e9!\", \"disagree\", \"['object_type:None']\", \"utter_disagree\"], [\"/connect_employee\", null, \"connect_employee\", null, \"action_handover_to_inbox\"], [\"https://scontent.xx.fbcdn.net/v/t1.15752-9/94133156_4309719482387540_6121986675083051008_n.jpg?_nc_cat=104&_nc_sid=b96e70&_nc_ohc=2eJCKINpBwUAX-7rsiy&_nc_ad=z-m&_nc_cid=0&_nc_zor=9&_nc_ht=scontent.xx&oh=c69b59c6321d1ca5600690f45432f74f&oe=5EC4161F\\nXe l\\u1eafc bn b oi\", \"S\\u1ea3n ph\\u1ea9m Xe ch\\u00f2i ch\\u00e2n ki\\u00eam xe l\\u1eafc cao c\\u1ea5p c\\u00f3 nh\\u1ea1c Holla hi\\u1ec7n shop \\u0111ang c\\u00f3 gi\\u00e1: *790,000 VND (gi\\u00e1 g\\u1ed1c 1,200,000 VND)*.\\nB\\u1ea1n tham kh\\u1ea3o c\\u00e1c s\\u1ea3n ph\\u1ea9m sau nh\\u00e9 \\u1ea1:\", \"query_knowledge_base\", \"[\\\"url:['https://scontent.xx.fbcdn.net/v/t1.15752-9/94133156_4309719482387540_6121986675083051008_n.jpg?_nc_cat=104&_nc_sid=b96e70&_nc_ohc=2eJCKINpBwUAX-7rsiy&_nc_ad=z-m&_nc_cid=0&_nc_zor=9&_nc_ht=scontent.xx&oh=c69b59c6321d1ca5600690f45432f74f&oe=5EC4161F']\\\",'object_type:xe', 'attribute:price']\", \"action_query_babe_kb\"], [\"xe l\\u0103\\u0301c Holla co\\u0301 tr\\u00ean shopee ch\\u01b0a ba\\u0323n\", \"D\\u1ea1 m\\u1eddi b\\u1ea1n tham kh\\u1ea3o s\\u1ea3n ph\\u1ea9m Xe ch\\u00f2i ch\\u00e2n ki\\u00eam xe l\\u1eafc cao c\\u1ea5p c\\u00f3 nh\\u1ea1c Holla  hi\\u1ec7n c\\u00f3 t\\u1ea1i shop nh\\u00e9!\", \"query_knowledge_base\", \"['object_type:xe', 'attribute:link','brand:Holla']\", \"action_query_babe_kb\"], [\"https://scontent.xx.fbcdn.net/v/t1.15752-9/93376022_520238862196723_3877605347954786304_n.jpg?_nc_cat=103&_nc_sid=b96e70&_nc_ohc=BlxsEveDdc0AX_K0-TM&_nc_ad=z-m&_nc_cid=0&_nc_zor=9&_nc_ht=scontent.xx&oh=1f1b8bc5316b8af5ac78b77e0228670c&oe=5EC41FAA\\nXe bn s\", \"D\\u1ea1, c\\u00f3 ph\\u1ea3i b\\u1ea1n mu\\u1ed1n h\\u1ecfi m\\u1ed9t trong c\\u00e1c s\\u1ea3n ph\\u1ea9m d\\u01b0\\u1edbi \\u0111\\u00e2y kh\\u00f4ng \\u1ea1?\\n (Vui l\\u00f2ng \\u1ea5n ch\\u1ecdn 1 s\\u1ea3n ph\\u1ea9m)...\", \"query_knowledge_base\", \"[\\\"url:['https://scontent.xx.fbcdn.net/v/t1.15752-9/93376022_520238862196723_3877605347954786304_n.jpg?_nc_cat=103&_nc_sid=b96e70&_nc_ohc=BlxsEveDdc0AX_K0-TM&_nc_ad=z-m&_nc_cid=0&_nc_zor=9&_nc_ht=scontent.xx&oh=1f1b8bc5316b8af5ac78b77e0228670c&oe=5EC41FAA']\\\", 'attribute:price']\", \"action_query_babe_kb\"], [\"/query_knowledge_base{\\\"url\\\": \\\"https://www.facebook.com/shopgauvabingo/posts/2445777899065867\\\", \\\"product_id\\\": \\\"https://www.facebook.com/shopgauvabingo/posts/2445777899065867\\\"}\", \"S\\u1ea3n ph\\u1ea9m Xe ch\\u00f2i ch\\u00e2n ki\\u00eam xe l\\u1eafc cao c\\u1ea5p c\\u00f3 nh\\u1ea1c Holla hi\\u1ec7n shop \\u0111ang c\\u00f3 gi\\u00e1: *790,000 VND (gi\\u00e1 g\\u1ed1c 1,200,000 VND)*.\\nB\\u1ea1n tham kh\\u1ea3o c\\u00e1c s\\u1ea3n ph\\u1ea9m sau nh\\u00e9 \\u1ea1:\", \"query_knowledge_base\", null, \"action_query_babe_kb\"], [\"https://scontent.xx.fbcdn.net/v/t1.15752-9/94429646_846745625805486_6674380384869810176_n.jpg?_nc_cat=107&_nc_sid=b96e70&_nc_ohc=9qsNXrDTRA8AX-ZKlOL&_nc_ad=z-m&_nc_cid=0&_nc_zor=9&_nc_ht=scontent.xx&oh=dc51afecc770f419605e40f9847c2d5a&oe=5EC3D2A7\", \"S\\u1ea3n ph\\u1ea9m  C\\u1ea7u tr\\u01b0\\u1ee3t x\\u00edch \\u0111u Hola h\\u1ea3i c\\u1ea9u 2020  hi\\u1ec7n shop \\u0111ang c\\u00f3 gi\\u00e1: *1,982,500 VND (gi\\u00e1 g\\u1ed1c 3,250,000 VND)*.\\nB\\u1ea1n tham kh\\u1ea3o c\\u00e1c s\\u1ea3n ph\\u1ea9m sau nh\\u00e9 \\u1ea1:\", \"send_link\", \"[\\\"url:['https://scontent.xx.fbcdn.net/v/t1.15752-9/94429646_846745625805486_6674380384869810176_n.jpg?_nc_cat=107&_nc_sid=b96e70&_nc_ohc=9qsNXrDTRA8AX-ZKlOL&_nc_ad=z-m&_nc_cid=0&_nc_zor=9&_nc_ht=scontent.xx&oh=dc51afecc770f419605e40f9847c2d5a&oe=5EC3D2A7']\\\"]\", \"action_handle_send_link_only\"], [\"https://scontent.xx.fbcdn.net/v/t1.15752-9/93376022_520238862196723_3877605347954786304_n.jpg?_nc_cat=103&_nc_sid=b96e70&_nc_ohc=BlxsEveDdc0AX_K0-TM&_nc_ad=z-m&_nc_cid=0&_nc_zor=9&_nc_ht=scontent.xx&oh=1f1b8bc5316b8af5ac78b77e0228670c&oe=5EC41FAA\\nXe bn s\", \"S\\u1ea3n ph\\u1ea9m Xe ch\\u00f2i ch\\u00e2n ki\\u00eam xe l\\u1eafc cao c\\u1ea5p c\\u00f3 nh\\u1ea1c Holla hi\\u1ec7n shop \\u0111ang c\\u00f3 gi\\u00e1: *790,000 VND (gi\\u00e1 g\\u1ed1c 1,200,000 VND)*.\\nB\\u1ea1n tham kh\\u1ea3o c\\u00e1c s\\u1ea3n ph\\u1ea9m sau nh\\u00e9 \\u1ea1:\", \"query_knowledge_base\", \"[\\\"url:['https://scontent.xx.fbcdn.net/v/t1.15752-9/93376022_520238862196723_3877605347954786304_n.jpg?_nc_cat=103&_nc_sid=b96e70&_nc_ohc=BlxsEveDdc0AX_K0-TM&_nc_ad=z-m&_nc_cid=0&_nc_zor=9&_nc_ht=scontent.xx&oh=1f1b8bc5316b8af5ac78b77e0228670c&oe=5EC41FAA']\\\", 'attribute:price']\", \"action_query_babe_kb\"], [\"https://scontent.xx.fbcdn.net/v/t1.15752-9/94429646_846745625805486_6674380384869810176_n.jpg?_nc_cat=107&_nc_sid=b96e70&_nc_ohc=9qsNXrDTRA8AX-ZKlOL&_nc_ad=z-m&_nc_cid=0&_nc_zor=9&_nc_ht=scontent.xx&oh=dc51afecc770f419605e40f9847c2d5a&oe=5EC3D2A7\", \"S\\u1ea3n ph\\u1ea9m  C\\u1ea7u tr\\u01b0\\u1ee3t x\\u00edch \\u0111u Hola h\\u1ea3i c\\u1ea9u 2020  hi\\u1ec7n shop \\u0111ang c\\u00f3 gi\\u00e1: *1,982,500 VND (gi\\u00e1 g\\u1ed1c 3,250,000 VND)*.\\nB\\u1ea1n tham kh\\u1ea3o c\\u00e1c s\\u1ea3n ph\\u1ea9m sau nh\\u00e9 \\u1ea1:\", \"send_link\", \"[\\\"url:['https://scontent.xx.fbcdn.net/v/t1.15752-9/94429646_846745625805486_6674380384869810176_n.jpg?_nc_cat=107&_nc_sid=b96e70&_nc_ohc=9qsNXrDTRA8AX-ZKlOL&_nc_ad=z-m&_nc_cid=0&_nc_zor=9&_nc_ht=scontent.xx&oh=dc51afecc770f419605e40f9847c2d5a&oe=5EC3D2A7']\\\"]\", \"action_handle_send_link_only\"], [\"ok shop\", \"D\\u1ea1,v\\u00e2ng\", \"agree\", null, \"utter_agree\"], [\"https://scontent.xx.fbcdn.net/v/t1.15752-9/93840235_671253940372699_6078193114063831040_n.jpg?_nc_cat=102&_nc_sid=b96e70&_nc_ohc=D5YUEvNDHT0AX9Y6mFp&_nc_ad=z-m&_nc_cid=0&_nc_zor=9&_nc_ht=scontent.xx&oh=8e687d198cf4874f887a6dacdfc1c955&oe=5EC2A850\\nCho m\\u00ecnh gi\\u00e1 nh\\u00e9\", \"D\\u1ea1, c\\u00f3 ph\\u1ea3i b\\u1ea1n mu\\u1ed1n h\\u1ecfi m\\u1ed9t trong c\\u00e1c s\\u1ea3n ph\\u1ea9m d\\u01b0\\u1edbi \\u0111\\u00e2y kh\\u00f4ng \\u1ea1?\\n (Vui l\\u00f2ng \\u1ea5n ch\\u1ecdn 1 s\\u1ea3n ph\\u1ea9m)...\", \"query_knowledge_base\", \"[\\\"url:['https://scontent.xx.fbcdn.net/v/t1.15752-9/93840235_671253940372699_6078193114063831040_n.jpg?_nc_cat=102&_nc_sid=b96e70&_nc_ohc=D5YUEvNDHT0AX9Y6mFp&_nc_ad=z-m&_nc_cid=0&_nc_zor=9&_nc_ht=scontent.xx&oh=8e687d198cf4874f887a6dacdfc1c955&oe=5EC2A850']\\\", 'attribute:price']\", \"action_query_babe_kb\"], [\"/disagree{\\\"object_type\\\": null}\", \"B\\u1ea1n vui l\\u00f2ng m\\u00f4 t\\u1ea3 r\\u00f5 mong mu\\u1ed1n c\\u1ee7a b\\u1ea1n ho\\u1eb7c chat v\\u1edbi nh\\u00e2n vi\\u00ean t\\u01b0 v\\u1ea5n nh\\u00e9!\", \"disagree\", \"['object_type:None']\", \"utter_disagree\"], [\"/connect_employee\", null, \"connect_employee\", null, \"action_handover_to_inbox\"], [\"https://scontent.xx.fbcdn.net/v/t1.15752-9/93840235_671253940372699_6078193114063831040_n.jpg?_nc_cat=102&_nc_sid=b96e70&_nc_ohc=D5YUEvNDHT0AX9Y6mFp&_nc_ad=z-m&_nc_cid=0&_nc_zor=9&_nc_ht=scontent.xx&oh=8e687d198cf4874f887a6dacdfc1c955&oe=5EC2A850\\nCho m\\u00ecnh gi\\u00e1 nh\\u00e9\", \"S\\u1ea3n ph\\u1ea9m Xe ch\\u00f2i ch\\u00e2n ki\\u00eam xe l\\u1eafc cao c\\u1ea5p c\\u00f3 nh\\u1ea1c Holla hi\\u1ec7n shop \\u0111ang c\\u00f3 gi\\u00e1: *790,000 VND (gi\\u00e1 g\\u1ed1c 1,200,000 VND)*.\\nB\\u1ea1n tham kh\\u1ea3o c\\u00e1c s\\u1ea3n ph\\u1ea9m sau nh\\u00e9 \\u1ea1:\", \"query_knowledge_base\", \"[\\\"url:['https://scontent.xx.fbcdn.net/v/t1.15752-9/93840235_671253940372699_6078193114063831040_n.jpg?_nc_cat=102&_nc_sid=b96e70&_nc_ohc=D5YUEvNDHT0AX9Y6mFp&_nc_ad=z-m&_nc_cid=0&_nc_zor=9&_nc_ht=scontent.xx&oh=8e687d198cf4874f887a6dacdfc1c955&oe=5EC2A850']\\\", 'attribute:price']\", \"action_query_babe_kb\"], [\"Ok b\\u1ea1n th\\u1ebf \\u0111\\u1ec3 t xem l\\u1ea1i r\\u00f9i b\\u00e1o nha\", \"D\\u1ea1,v\\u00e2ng\", \"end_conversation\", null, \"action_end_conversation\"], [\"https://scontent.xx.fbcdn.net/v/t1.15752-9/93961206_796326287442487_728031685777555456_n.jpg?_nc_cat=105&_nc_sid=b96e70&_nc_ohc=3da0fC1ve2oAX8S6IbX&_nc_ad=z-m&_nc_cid=0&_nc_zor=9&_nc_ht=scontent.xx&oh=42d0e0506c5304eb15653717ac7c9999&oe=5EC3CDEE\\nInbox m\\u00ecnh nh\\u00e9\", \"D\\u1ea1, c\\u00f3 ph\\u1ea3i b\\u1ea1n mu\\u1ed1n h\\u1ecfi m\\u1ed9t trong c\\u00e1c s\\u1ea3n ph\\u1ea9m d\\u01b0\\u1edbi \\u0111\\u00e2y kh\\u00f4ng \\u1ea1?\\n (Vui l\\u00f2ng \\u1ea5n ch\\u1ecdn 1 s\\u1ea3n ph\\u1ea9m)...\", \"query_knowledge_base\", \"[\\\"url:['https://scontent.xx.fbcdn.net/v/t1.15752-9/93961206_796326287442487_728031685777555456_n.jpg?_nc_cat=105&_nc_sid=b96e70&_nc_ohc=3da0fC1ve2oAX8S6IbX&_nc_ad=z-m&_nc_cid=0&_nc_zor=9&_nc_ht=scontent.xx&oh=42d0e0506c5304eb15653717ac7c9999&oe=5EC3CDEE']\\\"]\", \"action_query_babe_kb\"], [\"/query_knowledge_base{\\\"url\\\": \\\"https://www.facebook.com/shopgauvabingo/posts/2445777899065867\\\", \\\"product_id\\\": \\\"https://www.facebook.com/shopgauvabingo/posts/2445777899065867\\\"}\", \"S\\u1ea3n ph\\u1ea9m Xe ch\\u00f2i ch\\u00e2n ki\\u00eam xe l\\u1eafc cao c\\u1ea5p c\\u00f3 nh\\u1ea1c Holla hi\\u1ec7n shop \\u0111ang c\\u00f3 gi\\u00e1: *790,000 VND (gi\\u00e1 g\\u1ed1c 1,200,000 VND)*.\\nB\\u1ea1n tham kh\\u1ea3o c\\u00e1c s\\u1ea3n ph\\u1ea9m sau nh\\u00e9 \\u1ea1:\", \"query_knowledge_base\", null, \"action_query_babe_kb\"], [\"b\\u00e9 13m \\u0111\\u00e3 d\\u00f9ng \\u0111c ch\\u01b0a b\\u1ea1n nh\\u1ec9?\", \"S\\u1ea3n ph\\u1ea9m  Xe ch\\u00f2i ch\\u00e2n ki\\u00eam xe l\\u1eafc cao c\\u1ea5p c\\u00f3 nh\\u1ea1c Holla hi\\u1ec7n shop \\u0111ang c\\u00f3 \\u0111\\u1ed9 tu\\u1ed5i s\\u1eed d\\u1ee5ng: 0 - 36 th\\u00e1ng.\\nB\\u1ea1n tham kh\\u1ea3o c\\u00e1c s\\u1ea3n ph\\u1ea9m sau nh\\u00e9 \\u1ea1\", \"query_knowledge_base\", \"['age_of_use:13m']\", \"action_query_babe_kb\"], [\"Ok b\\u1ea1n\", \"D\\u1ea1,v\\u00e2ng\", \"agree\", null, \"utter_agree\"], [\"https://scontent.xx.fbcdn.net/v/t1.15752-9/93961206_796326287442487_728031685777555456_n.jpg?_nc_cat=105&_nc_sid=b96e70&_nc_ohc=3da0fC1ve2oAX8S6IbX&_nc_ad=z-m&_nc_cid=0&_nc_zor=9&_nc_ht=scontent.xx&oh=42d0e0506c5304eb15653717ac7c9999&oe=5EC3CDEE\\nInbox m\\u00ecnh nh\\u00e9\", \"S\\u1ea3n ph\\u1ea9m Xe ch\\u00f2i ch\\u00e2n ki\\u00eam xe l\\u1eafc cao c\\u1ea5p c\\u00f3 nh\\u1ea1c Holla hi\\u1ec7n shop \\u0111ang c\\u00f3 gi\\u00e1: *790,000 VND (gi\\u00e1 g\\u1ed1c 1,200,000 VND)*.\\nB\\u1ea1n tham kh\\u1ea3o c\\u00e1c s\\u1ea3n ph\\u1ea9m sau nh\\u00e9 \\u1ea1:\", \"query_knowledge_base\", \"[\\\"url:['https://scontent.xx.fbcdn.net/v/t1.15752-9/93961206_796326287442487_728031685777555456_n.jpg?_nc_cat=105&_nc_sid=b96e70&_nc_ohc=3da0fC1ve2oAX8S6IbX&_nc_ad=z-m&_nc_cid=0&_nc_zor=9&_nc_ht=scontent.xx&oh=42d0e0506c5304eb15653717ac7c9999&oe=5EC3CDEE']\\\"]\", \"action_query_babe_kb\"], [\"c\\u00f3 nh\\u1eefng m\\u00e0u g\\u00ec sh\", \"S\\u1ea3n ph\\u1ea9m  Xe ch\\u00f2i ch\\u00e2n ki\\u00eam xe l\\u1eafc cao c\\u1ea5p c\\u00f3 nh\\u1ea1c Holla hi\\u1ec7n shop \\u0111ang c\\u00f3 m\\u00e0u: H\\u1ed3ng, Xanh.\\nB\\u1ea1n tham kh\\u1ea3o c\\u00e1c s\\u1ea3n ph\\u1ea9m sau nh\\u00e9 \\u1ea1:\", \"query_knowledge_base\", \"['attribute:color']\", \"action_query_babe_kb\"], [\"\\u0110\\u1ec3 m\\u00ecnh tham kh\\u1ea3o \", null, \"handover_to_inbox\", null, \"action_handover_to_inbox\"], [\"https://scontent.xx.fbcdn.net/v/t1.15752-9/93961206_796326287442487_728031685777555456_n.jpg?_nc_cat=105&_nc_sid=b96e70&_nc_ohc=3da0fC1ve2oAX8S6IbX&_nc_ad=z-m&_nc_cid=0&_nc_zor=9&_nc_ht=scontent.xx&oh=42d0e0506c5304eb15653717ac7c9999&oe=5EC3CDEE\\nInbox m\\u00ecnh nh\\u00e9\", \"S\\u1ea3n ph\\u1ea9m Xe ch\\u00f2i ch\\u00e2n ki\\u00eam xe l\\u1eafc cao c\\u1ea5p c\\u00f3 nh\\u1ea1c Holla hi\\u1ec7n shop \\u0111ang c\\u00f3 gi\\u00e1: *790,000 VND (gi\\u00e1 g\\u1ed1c 1,200,000 VND)*.\\nB\\u1ea1n tham kh\\u1ea3o c\\u00e1c s\\u1ea3n ph\\u1ea9m sau nh\\u00e9 \\u1ea1:\", \"query_knowledge_base\", \"[\\\"url:['https://scontent.xx.fbcdn.net/v/t1.15752-9/93961206_796326287442487_728031685777555456_n.jpg?_nc_cat=105&_nc_sid=b96e70&_nc_ohc=3da0fC1ve2oAX8S6IbX&_nc_ad=z-m&_nc_cid=0&_nc_zor=9&_nc_ht=scontent.xx&oh=42d0e0506c5304eb15653717ac7c9999&oe=5EC3CDEE']\\\"]\", \"action_query_babe_kb\"], [\"c\\u00f3 nh\\u1eefng m\\u00e0u g\\u00ec sh\", \"S\\u1ea3n ph\\u1ea9m  Xe ch\\u00f2i ch\\u00e2n ki\\u00eam xe l\\u1eafc cao c\\u1ea5p c\\u00f3 nh\\u1ea1c Holla hi\\u1ec7n shop \\u0111ang c\\u00f3 m\\u00e0u: H\\u1ed3ng, Xanh.\\nB\\u1ea1n tham kh\\u1ea3o c\\u00e1c s\\u1ea3n ph\\u1ea9m sau nh\\u00e9 \\u1ea1:\", \"query_knowledge_base\", \"['attribute:color']\", \"action_query_babe_kb\"], [\"\\u0110\\u1ec3 m\\u00ecnh tham kh\\u1ea3o \", \"D\\u1ea1, v\\u00e2ng \\u1ea1\", \"end_conversation\", null, \"action_end_conversation\"], [\"https://scontent.xx.fbcdn.net/v/t1.15752-9/94433981_1159306187745864_4562238742848339968_n.jpg?_nc_cat=101&_nc_sid=b96e70&_nc_ohc=VEWd1RjRUwEAX9VKrUQ&_nc_ad=z-m&_nc_cid=0&_nc_zor=9&_nc_ht=scontent.xx&oh=f9b2c664968877f5a68112d6d9919576&oe=5EC3E911\\nGia bao cho m nhe\", \"D\\u1ea1, c\\u00f3 ph\\u1ea3i b\\u1ea1n mu\\u1ed1n h\\u1ecfi m\\u1ed9t trong c\\u00e1c s\\u1ea3n ph\\u1ea9m d\\u01b0\\u1edbi \\u0111\\u00e2y kh\\u00f4ng \\u1ea1?\\n (Vui l\\u00f2ng \\u1ea5n ch\\u1ecdn 1 s\\u1ea3n ph\\u1ea9m)...\", \"query_knowledge_base\", \"[\\\"url:['https://scontent.xx.fbcdn.net/v/t1.15752-9/94433981_1159306187745864_4562238742848339968_n.jpg?_nc_cat=101&_nc_sid=b96e70&_nc_ohc=VEWd1RjRUwEAX9VKrUQ&_nc_ad=z-m&_nc_cid=0&_nc_zor=9&_nc_ht=scontent.xx&oh=f9b2c664968877f5a68112d6d9919576&oe=5EC3E911']\\\", 'attribute:price']\", \"action_query_babe_kb\"], [\"/query_knowledge_base{\\\"url\\\": \\\"https://www.facebook.com/shopgauvabingo/posts/2445777899065867\\\", \\\"product_id\\\": \\\"https://www.facebook.com/shopgauvabingo/posts/2445777899065867\\\"}\", \"S\\u1ea3n ph\\u1ea9m Xe ch\\u00f2i ch\\u00e2n ki\\u00eam xe l\\u1eafc cao c\\u1ea5p c\\u00f3 nh\\u1ea1c Holla hi\\u1ec7n shop \\u0111ang c\\u00f3 gi\\u00e1: *790,000 VND (gi\\u00e1 g\\u1ed1c 1,200,000 VND)*.\\nB\\u1ea1n tham kh\\u1ea3o c\\u00e1c s\\u1ea3n ph\\u1ea9m sau nh\\u00e9 \\u1ea1:\", \"query_knowledge_base\", null, \"action_query_babe_kb\"], [\"Ok b\\u1ea1n\", \"D\\u1ea1,v\\u00e2ng\", \"agree\", null, \"utter_agree\"], [\"https://scontent.xx.fbcdn.net/v/t1.15752-9/94433981_1159306187745864_4562238742848339968_n.jpg?_nc_cat=101&_nc_sid=b96e70&_nc_ohc=VEWd1RjRUwEAX9VKrUQ&_nc_ad=z-m&_nc_cid=0&_nc_zor=9&_nc_ht=scontent.xx&oh=f9b2c664968877f5a68112d6d9919576&oe=5EC3E911\\nGia bao cho m nhe\", \"S\\u1ea3n ph\\u1ea9m Xe ch\\u00f2i ch\\u00e2n ki\\u00eam xe l\\u1eafc cao c\\u1ea5p c\\u00f3 nh\\u1ea1c Holla hi\\u1ec7n shop \\u0111ang c\\u00f3 gi\\u00e1: *790,000 VND (gi\\u00e1 g\\u1ed1c 1,200,000 VND)*.\\nB\\u1ea1n tham kh\\u1ea3o c\\u00e1c s\\u1ea3n ph\\u1ea9m sau nh\\u00e9 \\u1ea1:\", \"query_knowledge_base\", \"[\\\"url:['https://scontent.xx.fbcdn.net/v/t1.15752-9/94433981_1159306187745864_4562238742848339968_n.jpg?_nc_cat=101&_nc_sid=b96e70&_nc_ohc=VEWd1RjRUwEAX9VKrUQ&_nc_ad=z-m&_nc_cid=0&_nc_zor=9&_nc_ht=scontent.xx&oh=f9b2c664968877f5a68112d6d9919576&oe=5EC3E911']\\\", 'attribute:price']\", \"action_query_babe_kb\"], [\"thank shop\", \"D\\u1ea1, c\\u1ea3m \\u01a1n b\\u1ea1n!\", \"thank\", null, \"utter_thank\"], [\"hi shop\", \"Ch\\u00e0o b\\u1ea1n, m\\u00ecnh l\\u00e0 tr\\u1ee3 l\\u00fd \\u1ea3o c\\u1ee7a Shop G\\u1ea5u & B\\u00ed Ng\\u00f4, m\\u00ecnh gi\\u00fap g\\u00ec \\u0111\\u01b0\\u1ee3c b\\u1ea1n \\u1ea1?\", \"greet\", null, \"utter_greet\"], [\"https://scontent.xx.fbcdn.net/v/t1.15752-9/93802318_233197931358906_2034310246138118144_n.jpg?_nc_cat=107&_nc_sid=b96e70&_nc_ohc=X6ceCV_5fm0AX-PA3RH&_nc_ad=z-m&_nc_cid=0&_nc_zor=9&_nc_ht=scontent.xx&oh=4ffdce6cf0b70ce56ff8dd99177c2e51&oe=5EC2E409\\nhttps://scontent.xx.fbcdn.net/v/t1.15752-9/67602042_302799497194173_8355364115610337280_n.jpg?_nc_cat=109&_nc_sid=b96e70&_nc_ohc=NpzSuwikljcAX_SqaKi&_nc_ad=z-m&_nc_cid=0&_nc_zor=9&_nc_ht=scontent.xx&oh=579e1eff47a88f97c894ea19ff974c8e&oe=5EC5986C\", \"B\\u1ea1n \\u0111ang t\\u00ecm ki\\u1ebfm th\\u00f4ng tin g\\u00ec \\u1ea1?\", \"query_knowledge_base\", \"[\\\"url:['https://scontent.xx.fbcdn.net/v/t1.15752-9/93802318_233197931358906_2034310246138118144_n.jpg?_nc_cat=107&_nc_sid=b96e70&_nc_ohc=X6ceCV_5fm0AX-PA3RH&_nc_ad=z-m&_nc_cid=0&_nc_zor=9&_nc_ht=scontent.xx&oh=4ffdce6cf0b70ce56ff8dd99177c2e51&oe=5EC2E409', 'https://scontent.xx.fbcdn.net/v/t1.15752-9/67602042_302799497194173_8355364115610337280_n.jpg?_nc_cat=109&_nc_sid=b96e70&_nc_ohc=NpzSuwikljcAX_SqaKi&_nc_ad=z-m&_nc_cid=0&_nc_zor=9&_nc_ht=scontent.xx&oh=579e1eff47a88f97c894ea19ff974c8e&oe=5EC5986C']\\\"]\", \"action_query_babe_kb\"], [\"Xe \\u0111\\u1ea9y lo\\u1ea1i n\\u00e0y c\\u00f2n k shop\", \"S\\u1ea3n ph\\u1ea9m Xe \\u0111\\u1ea9y si\\u00eau nh\\u1eb9 Umoo hi\\u1ec7n shop \\u0111ang c\\u00f3 gi\\u00e1: *749,000 VND (gi\\u00e1 g\\u1ed1c 1,200,000 VND)*.\\nB\\u1ea1n tham kh\\u1ea3o c\\u00e1c s\\u1ea3n ph\\u1ea9m sau nh\\u00e9 \\u1ea1:\", \"query_knowledge_base\", \"['object_type:xe_day', 'mention:lo\\u1ea1i n\\u00e0y']\", \"action_query_babe_kb\"], [\"Ok b\\u1ea1n\", \"D\\u1ea1,v\\u00e2ng\", \"agree\", null, \"utter_agree\"], [\"hi shop\", \"Ch\\u00e0o b\\u1ea1n, m\\u00ecnh l\\u00e0 tr\\u1ee3 l\\u00fd \\u1ea3o c\\u1ee7a Shop G\\u1ea5u & B\\u00ed Ng\\u00f4, m\\u00ecnh gi\\u00fap g\\u00ec \\u0111\\u01b0\\u1ee3c b\\u1ea1n \\u1ea1?\", \"greet\", null, \"utter_greet\"], [\"https://scontent.xx.fbcdn.net/v/t1.15752-9/93802318_233197931358906_2034310246138118144_n.jpg?_nc_cat=107&_nc_sid=b96e70&_nc_ohc=X6ceCV_5fm0AX-PA3RH&_nc_ad=z-m&_nc_cid=0&_nc_zor=9&_nc_ht=scontent.xx&oh=4ffdce6cf0b70ce56ff8dd99177c2e51&oe=5EC2E409\\nhttps://scontent.xx.fbcdn.net/v/t1.15752-9/67602042_302799497194173_8355364115610337280_n.jpg?_nc_cat=109&_nc_sid=b96e70&_nc_ohc=NpzSuwikljcAX_SqaKi&_nc_ad=z-m&_nc_cid=0&_nc_zor=9&_nc_ht=scontent.xx&oh=579e1eff47a88f97c894ea19ff974c8e&oe=5EC5986C\", \"B\\u1ea1n \\u0111ang t\\u00ecm ki\\u1ebfm th\\u00f4ng tin g\\u00ec \\u1ea1?\", \"query_knowledge_base\", \"[\\\"url:['https://scontent.xx.fbcdn.net/v/t1.15752-9/93802318_233197931358906_2034310246138118144_n.jpg?_nc_cat=107&_nc_sid=b96e70&_nc_ohc=X6ceCV_5fm0AX-PA3RH&_nc_ad=z-m&_nc_cid=0&_nc_zor=9&_nc_ht=scontent.xx&oh=4ffdce6cf0b70ce56ff8dd99177c2e51&oe=5EC2E409', 'https://scontent.xx.fbcdn.net/v/t1.15752-9/67602042_302799497194173_8355364115610337280_n.jpg?_nc_cat=109&_nc_sid=b96e70&_nc_ohc=NpzSuwikljcAX_SqaKi&_nc_ad=z-m&_nc_cid=0&_nc_zor=9&_nc_ht=scontent.xx&oh=579e1eff47a88f97c894ea19ff974c8e&oe=5EC5986C']\\\"]\", \"action_query_babe_kb\"], [\"Xe \\u0111\\u1ea9y lo\\u1ea1i n\\u00e0y c\\u00f2n k shop\", \"S\\u1ea3n ph\\u1ea9m Xe \\u0111\\u1ea9y si\\u00eau nh\\u1eb9 Umoo hi\\u1ec7n shop \\u0111ang h\\u1ebft h\\u00e0ng \\u1ea1.\\nB\\u1ea1n tham kh\\u1ea3o c\\u00e1c s\\u1ea3n ph\\u1ea9m kh\\u00e1c nh\\u00e9 \\u1ea1:\", \"query_knowledge_base\", \"['object_type:xe_day', 'mention:lo\\u1ea1i n\\u00e0y']\", \"action_query_babe_kb\"], [\"Ok b\\u1ea1n\", \"D\\u1ea1,v\\u00e2ng\", \"agree\", null, \"utter_agree\"], [\"https://scontent.xx.fbcdn.net/v/t1.15752-9/93838228_247081556436066_886875673921060864_n.jpg?_nc_cat=111&_nc_sid=b96e70&_nc_ohc=RVSbE5MO1C4AX9CWsL9&_nc_ad=z-m&_nc_cid=0&_nc_zor=9&_nc_ht=scontent.xx&oh=c524b14523d569610af325c716747b08&oe=5EC2BDC5\\nCai n\\u00e0y bao nhieu b\", \"D\\u1ea1, c\\u00f3 ph\\u1ea3i b\\u1ea1n mu\\u1ed1n h\\u1ecfi m\\u1ed9t trong c\\u00e1c s\\u1ea3n ph\\u1ea9m d\\u01b0\\u1edbi \\u0111\\u00e2y kh\\u00f4ng \\u1ea1?\\r\\n (Vui l\\u00f2ng \\u1ea5n ch\\u1ecdn 1 s\\u1ea3n ph\\u1ea9m)...\", \"query_knowledge_base\", \"[\\\"url:['https://scontent.xx.fbcdn.net/v/t1.15752-9/93838228_247081556436066_886875673921060864_n.jpg?_nc_cat=111&_nc_sid=b96e70&_nc_ohc=RVSbE5MO1C4AX9CWsL9&_nc_ad=z-m&_nc_cid=0&_nc_zor=9&_nc_ht=scontent.xx&oh=c524b14523d569610af325c716747b08&oe=5EC2BDC5']\\\", 'mention:cai n\\u00e0y', 'attribute:price']\", \"action_query_babe_kb\"], [\"/disagree{\\\"object_type\\\": null}\", \"B\\u1ea1n vui l\\u00f2ng m\\u00f4 t\\u1ea3 r\\u00f5 mong mu\\u1ed1n c\\u1ee7a b\\u1ea1n ho\\u1eb7c chat v\\u1edbi nh\\u00e2n vi\\u00ean t\\u01b0 v\\u1ea5n nh\\u00e9!\", \"disagree\", \"['object_type:None']\", \"utter_disagree\"], [\"/connect_employee\", null, \"connect_employee\", \"[]\", \"action_handover_to_inbox\"], [\"https://scontent.xx.fbcdn.net/v/t1.15752-9/93838228_247081556436066_886875673921060864_n.jpg?_nc_cat=111&_nc_sid=b96e70&_nc_ohc=RVSbE5MO1C4AX9CWsL9&_nc_ad=z-m&_nc_cid=0&_nc_zor=9&_nc_ht=scontent.xx&oh=c524b14523d569610af325c716747b08&oe=5EC2BDC5\\nCai n\\u00e0y bao nhieu b\", \"S\\u1ea3n ph\\u1ea9m b\\u1ea1n \\u0111ang t\\u00ecm c\\u00f3 ph\\u1ea3i l\\u00e0?\", \"query_knowledge_base\", \"[\\\"url:['https://scontent.xx.fbcdn.net/v/t1.15752-9/93838228_247081556436066_886875673921060864_n.jpg?_nc_cat=111&_nc_sid=b96e70&_nc_ohc=RVSbE5MO1C4AX9CWsL9&_nc_ad=z-m&_nc_cid=0&_nc_zor=9&_nc_ht=scontent.xx&oh=c524b14523d569610af325c716747b08&oe=5EC2BDC5']\\\", 'mention:cai n\\u00e0y', 'attribute:price']\", \"action_query_babe_kb\"], [\"/disagree{\\\"object_type\\\": null}\", \"B\\u1ea1n vui l\\u00f2ng m\\u00f4 t\\u1ea3 r\\u00f5 mong mu\\u1ed1n c\\u1ee7a b\\u1ea1n ho\\u1eb7c chat v\\u1edbi nh\\u00e2n vi\\u00ean t\\u01b0 v\\u1ea5n nh\\u00e9!\", \"disagree\", \"['object_type:None']\", \"utter_disagree\"], [\"/connect_employee\", null, \"connect_employee\", \"[]\", \"action_handover_to_inbox\"], [\"https://scontent.xx.fbcdn.net/v/t1.15752-9/93838228_247081556436066_886875673921060864_n.jpg?_nc_cat=111&_nc_sid=b96e70&_nc_ohc=RVSbE5MO1C4AX9CWsL9&_nc_ad=z-m&_nc_cid=0&_nc_zor=9&_nc_ht=scontent.xx&oh=c524b14523d569610af325c716747b08&oe=5EC2BDC5\\nCai n\\u00e0y bao nhieu b\", \"S\\u1ea3n ph\\u1ea9m B\\u1ed9 b\\u1ea3o v\\u1ec7 7 m\\u00f3n hi\\u1ec7n shop \\u0111ang c\\u00f3 gi\\u00e1: *749,000 VND (gi\\u00e1 g\\u1ed1c 1,200,000 VND)*.\\nB\\u1ea1n tham kh\\u1ea3o c\\u00e1c s\\u1ea3n ph\\u1ea9m sau nh\\u00e9 \\u1ea1:\", \"query_knowledge_base\", \"[\\\"url:['https://scontent.xx.fbcdn.net/v/t1.15752-9/93838228_247081556436066_886875673921060864_n.jpg?_nc_cat=111&_nc_sid=b96e70&_nc_ohc=RVSbE5MO1C4AX9CWsL9&_nc_ad=z-m&_nc_cid=0&_nc_zor=9&_nc_ht=scontent.xx&oh=c524b14523d569610af325c716747b08&oe=5EC2BDC5']\\\", 'mention:cai n\\u00e0y', 'attribute:price']\", \"action_query_babe_kb\"], [\"\\u0111\\u1ec3 m\\u00ecnh xem c\\u00f3 g\\u00ec minh b\\u00e1o\", null, \"handover_to_inbox\", null, \"action_handover_to_inbox\"], [\"https://scontent.xx.fbcdn.net/v/t1.15752-9/93640892_710305896457319_7085221636256825344_n.jpg?_nc_cat=111&_nc_sid=b96e70&_nc_ohc=9OUM8UhaLe0AX9f-sH6&_nc_ad=z-m&_nc_cid=0&_nc_zor=9&_nc_ht=scontent.xx&oh=0271467aa36e5b5d93e3cab034e401c5&oe=5EC3406E\", \"B\\u1ea1n \\u0111ang t\\u00ecm ki\\u1ebfm th\\u00f4ng tin g\\u00ec \\u1ea1?\", \"send_link\", \"[\\\"url:['https://scontent.xx.fbcdn.net/v/t1.15752-9/93640892_710305896457319_7085221636256825344_n.jpg?_nc_cat=111&_nc_sid=b96e70&_nc_ohc=9OUM8UhaLe0AX9f-sH6&_nc_ad=z-m&_nc_cid=0&_nc_zor=9&_nc_ht=scontent.xx&oh=0271467aa36e5b5d93e3cab034e401c5&oe=5EC3406E']\\\"]\", \"action_handle_send_link_only\"], [\"B\\u1ea1n \\u01a1i gi\\u01b0\\u1eddng \\u0111\\u1ec7m \\u0111i k\\u00e8m gi\\u00e1 nh\\u01b0 n\\u00e0o\", \"S\\u1ea3n ph\\u1ea9m b\\u1ea1n \\u0111ang t\\u00ecm c\\u00f3 ph\\u1ea3i l\\u00e0?\", \"query_knowledge_base\", \"['object_type:giuong', 'attribute:price']\", \"action_query_babe_kb\"], [\"/disagree{\\\"object_type\\\": null}\", \"B\\u1ea1n vui l\\u00f2ng m\\u00f4 t\\u1ea3 r\\u00f5 mong mu\\u1ed1n c\\u1ee7a b\\u1ea1n ho\\u1eb7c chat v\\u1edbi nh\\u00e2n vi\\u00ean t\\u01b0 v\\u1ea5n nh\\u00e9!\", \"disagree\", \"['object_type:None']\", \"utter_disagree\"], [\"/connect_employee\", null, \"connect_employee\", \"[]\", \"action_handover_to_inbox\"], [\"https://scontent.xx.fbcdn.net/v/t1.15752-9/93640892_710305896457319_7085221636256825344_n.jpg?_nc_cat=111&_nc_sid=b96e70&_nc_ohc=9OUM8UhaLe0AX9f-sH6&_nc_ad=z-m&_nc_cid=0&_nc_zor=9&_nc_ht=scontent.xx&oh=0271467aa36e5b5d93e3cab034e401c5&oe=5EC3406E\", \"B\\u1ea1n \\u0111ang t\\u00ecm ki\\u1ebfm th\\u00f4ng tin g\\u00ec \\u1ea1?\", \"send_link\", \"[\\\"url:['https://scontent.xx.fbcdn.net/v/t1.15752-9/93640892_710305896457319_7085221636256825344_n.jpg?_nc_cat=111&_nc_sid=b96e70&_nc_ohc=9OUM8UhaLe0AX9f-sH6&_nc_ad=z-m&_nc_cid=0&_nc_zor=9&_nc_ht=scontent.xx&oh=0271467aa36e5b5d93e3cab034e401c5&oe=5EC3406E']\\\"]\", \"action_handle_send_link_only\"], [\"B\\u1ea1n \\u01a1i gi\\u01b0\\u1eddng \\u0111\\u1ec7m \\u0111i k\\u00e8m gi\\u00e1 nh\\u01b0 n\\u00e0o\", \"D\\u1ea1, c\\u00f3 ph\\u1ea3i b\\u1ea1n mu\\u1ed1n h\\u1ecfi m\\u1ed9t trong c\\u00e1c s\\u1ea3n ph\\u1ea9m d\\u01b0\\u1edbi \\u0111\\u00e2y kh\\u00f4ng \\u1ea1?\\r\\n (Vui l\\u00f2ng \\u1ea5n ch\\u1ecdn 1 s\\u1ea3n ph\\u1ea9m)...\", \"query_knowledge_base\", \"['object_type:giuong', 'attribute:price']\", \"action_query_babe_kb\"], [\"/query_knowledge_base{\\\"url\\\": \\\"https://www.facebook.com/shopgauvabingo/posts/2445681652408825\\\", \\\"product_id\\\": \\\"https://www.facebook.com/shopgauvabingo/posts/2445681652408825\\\"}\", \"S\\u1ea3n ph\\u1ea9m Gi\\u01b0\\u1eddng nh\\u1ef1a Holla hi\\u1ec7n shop \\u0111ang c\\u00f3 gi\\u00e1: *749,000 VND (gi\\u00e1 g\\u1ed1c 1,200,000 VND)*.\\nB\\u1ea1n tham kh\\u1ea3o c\\u00e1c s\\u1ea3n ph\\u1ea9m sau nh\\u00e9 \\u1ea1:\", \"query_knowledge_base\", null, \"action_query_babe_kb\"], [\"Ok shop\", \"D\\u1ea1,v\\u00e2ng\", \"agree\", null, \"utter_agree\"], [\"https://scontent.xx.fbcdn.net/v/t1.15752-9/93640892_710305896457319_7085221636256825344_n.jpg?_nc_cat=111&_nc_sid=b96e70&_nc_ohc=9OUM8UhaLe0AX9f-sH6&_nc_ad=z-m&_nc_cid=0&_nc_zor=9&_nc_ht=scontent.xx&oh=0271467aa36e5b5d93e3cab034e401c5&oe=5EC3406E\", \"B\\u1ea1n \\u0111ang t\\u00ecm ki\\u1ebfm th\\u00f4ng tin g\\u00ec \\u1ea1?\", \"send_link\", \"[\\\"url:['https://scontent.xx.fbcdn.net/v/t1.15752-9/93640892_710305896457319_7085221636256825344_n.jpg?_nc_cat=111&_nc_sid=b96e70&_nc_ohc=9OUM8UhaLe0AX9f-sH6&_nc_ad=z-m&_nc_cid=0&_nc_zor=9&_nc_ht=scontent.xx&oh=0271467aa36e5b5d93e3cab034e401c5&oe=5EC3406E']\\\"]\", \"action_handle_send_link_only\"], [\"B\\u1ea1n \\u01a1i gi\\u01b0\\u1eddng \\u0111\\u1ec7m \\u0111i k\\u00e8m gi\\u00e1 nh\\u01b0 n\\u00e0o\", \"S\\u1ea3n ph\\u1ea9m Gi\\u01b0\\u1eddng nh\\u1ef1a Holla hi\\u1ec7n shop \\u0111ang c\\u00f3 gi\\u00e1: *749,000 VND (gi\\u00e1 g\\u1ed1c 1,200,000 VND)*.\\r\\nB\\u1ea1n tham kh\\u1ea3o c\\u00e1c s\\u1ea3n ph\\u1ea9m sau nh\\u00e9 \\u1ea1:\", \"query_knowledge_base\", \"['object_type:giuong', 'attribute:price']\", \"action_query_babe_kb\"], [\"thank shop\", \"D\\u1ea1, v\\u00e2ng \\u1ea1!\", \"thank\", null, \"utter_thank\"], [\"alo shop\", \"Ch\\u00e0o b\\u1ea1n, m\\u00ecnh l\\u00e0 tr\\u1ee3 l\\u00fd \\u1ea3o c\\u1ee7a Shop G\\u1ea5u & B\\u00ed Ng\\u00f4, m\\u00ecnh gi\\u00fap g\\u00ec \\u0111\\u01b0\\u1ee3c b\\u1ea1n \\u1ea1?\", \"greet\", null, \"utter_greet\"], [\"Shop c\\u00f3 xe scooter ko \\u1ea1?\", \"S\\u1ea3n ph\\u1ea9m b\\u1ea1n \\u0111ang t\\u00ecm c\\u00f3 ph\\u1ea3i l\\u00e0?\", \"query_knowledge_base\", \"['object_type:xe','brand:scooter']\", \"action_query_babe_kb\"], [\"/deny_object_type{\\\"object_type\\\": null}\", \"B\\u1ea1n vui l\\u00f2ng m\\u00f4 t\\u1ea3 r\\u00f5 mong mu\\u1ed1n c\\u1ee7a b\\u1ea1n ho\\u1eb7c chat v\\u1edbi nh\\u00e2n vi\\u00ean t\\u01b0 v\\u1ea5n nh\\u00e9!\", \"deny_object_type\", \"['object_type:None']\", \"utter_disagree\"], [\"/connect_employee\", null, \"connect_employee\", \"[]\", \"action_handover_to_inbox\"], [\"alo shop\", \"Ch\\u00e0o b\\u1ea1n, m\\u00ecnh l\\u00e0 tr\\u1ee3 l\\u00fd \\u1ea3o c\\u1ee7a Shop G\\u1ea5u & B\\u00ed Ng\\u00f4, m\\u00ecnh gi\\u00fap g\\u00ec \\u0111\\u01b0\\u1ee3c b\\u1ea1n \\u1ea1?\", \"greet\", null, \"utter_greet\"], [\"Shop c\\u00f3 xe scooter ko \\u1ea1?\", \"Hi\\u1ec7n t\\u1ea1i s\\u1ea3n ph\\u1ea9m xe scooter  shop \\u0111ang c\\u00f3 nh\\u1eefng gi\\u00e1 sau \\u1ea1:\", \"query_knowledge_base\", \"['object_type:xe_scooter']\", \"action_query_babe_kb\"], [\"/confirm_attribute_value{\\\"price\\\": \\\"500-1M\\\"}\", \"Hi\\u1ec7n t\\u1ea1i s\\u1ea3n ph\\u1ea9m xe scooter gi\\u00e1 500 - 1m shop \\u0111ang c\\u00f3 nh\\u1eefng h\\u00e3ng s\\u1ea3n xu\\u1ea5t sau \\u1ea1:\", \"query_knowledge_base\", null, \"action_query_babe_kb\"], [\"/confirm_attribute_value{\\\"brand\\\": \\\"Vinng\\\"}\", \"D\\u1ea1 m\\u1eddi b\\u1ea1n tham kh\\u1ea3o s\\u1ea3n ph\\u1ea9m hi\\u1ec7n c\\u00f3 t\\u1ea1i shop nh\\u00e9!\", \"query_knowledge_base\", null, \"action_query_babe_kb\"], [\"B\\u1ea1n \\u01a1i b\\u00ean b\\u1ea1n hi\\u1ec7n c\\u00f2n nh\\u1eefng lo\\u1ea1i c\\u1ea7u tr\\u01b0\\u1ee3t n\\u00e0o nh\\u1ec9\", \"S\\u1ea3n ph\\u1ea9m  C\\u1ea7u tr\\u01b0\\u1ee3t x\\u00edch \\u0111u Hola h\\u1ea3i c\\u1ea9u 2020  hi\\u1ec7n shop \\u0111ang c\\u00f3 gi\\u00e1: *1,982,500 VND (gi\\u00e1 g\\u1ed1c 3,250,000 VND)*.\\nB\\u1ea1n tham kh\\u1ea3o c\\u00e1c s\\u1ea3n ph\\u1ea9m sau nh\\u00e9 \\u1ea1:\", \"query_knowledge_base\", \"['object_type:cau_truot']\", \"action_query_babe_kb\"], [\"ok shop\", \"D\\u1ea1,v\\u00e2ng\", \"agree\", null, \"utter_agree\"], [\"B\\u1ea1n \\u01a1i b\\u00ean b\\u1ea1n hi\\u1ec7n c\\u00f2n nh\\u1eefng lo\\u1ea1i c\\u1ea7u tr\\u01b0\\u1ee3t n\\u00e0o nh\\u1ec9\", \"Hi\\u1ec7n t\\u1ea1i s\\u1ea3n ph\\u1ea9m c\\u1ea7u tr\\u01b0\\u1ee3t  shop \\u0111ang c\\u00f3 nh\\u1eefng gi\\u00e1 sau \\u1ea1:\", \"query_knowledge_base\", \"['object_type:cau_truot']\", \"action_query_babe_kb\"], [\"/confirm_attribute_value{\\\"price\\\": \\\"1M-2M\\\"}\", \"D\\u1ea1 m\\u1eddi b\\u1ea1n tham kh\\u1ea3o s\\u1ea3n ph\\u1ea9m hi\\u1ec7n c\\u00f3 t\\u1ea1i shop nh\\u00e9!\", \"query_knowledge_base\", null, \"action_query_babe_kb\"], [\"C\\u00f3 c\\u00e1i n\\u00e0o r\\u1ebb h\\u01a1n k b\\u1ea1n\\r\\nC\\u1ea7u tr\\u01b0\\u1ee3t ri\\u00eang th\\u00f4i\", null, \"handover_to_inbox\", \"['object_type:cau_truot']\", \"action_handover_to_inbox\"], [\"B\\u1ea1n \\u01a1i b\\u00ean b\\u1ea1n hi\\u1ec7n c\\u00f2n nh\\u1eefng lo\\u1ea1i c\\u1ea7u tr\\u01b0\\u1ee3t n\\u00e0o nh\\u1ec9\", \"S\\u1ea3n ph\\u1ea9m  C\\u1ea7u tr\\u01b0\\u1ee3t x\\u00edch \\u0111u Hola h\\u1ea3i c\\u1ea9u 2020  hi\\u1ec7n shop \\u0111ang c\\u00f3 gi\\u00e1: *1,982,500 VND (gi\\u00e1 g\\u1ed1c 3,250,000 VND)*.\\r\\nB\\u1ea1n tham kh\\u1ea3o c\\u00e1c s\\u1ea3n ph\\u1ea9m sau nh\\u00e9 \\u1ea1:\", \"query_knowledge_base\", \"['object_type:cau_truot']\", \"action_query_babe_kb\"], [\"C\\u00f3 c\\u00e1i n\\u00e0o r\\u1ebb h\\u01a1n k b\\u1ea1n\\r\\nC\\u1ea7u tr\\u01b0\\u1ee3t ri\\u00eang th\\u00f4i\", \"S\\u1ea3n ph\\u1ea9m  C\\u1ea7u tr\\u01b0\\u1ee3t c\\u00f3 gi\\u00e1 th\\u1ea5p h\\u01a1n: *1,982,500 VND (gi\\u00e1 g\\u1ed1c 3,250,000 VND)* shop c\\u00f3 m\\u1ed9t s\\u1ed1 s\\u1ea3n ph\\u1ea9m.\\nB\\u1ea1n tham kh\\u1ea3o c\\u00e1c s\\u1ea3n ph\\u1ea9m sau nh\\u00e9 \\u1ea1:\", \"query_knowledge_base\", \"['object_type:cau_truot']\", \"action_query_babe_kb\"], [\"B\\u1ea1n \\u01a1i b\\u00ean b\\u1ea1n hi\\u1ec7n c\\u00f2n nh\\u1eefng lo\\u1ea1i c\\u1ea7u tr\\u01b0\\u1ee3t n\\u00e0o nh\\u1ec9\", \"S\\u1ea3n ph\\u1ea9m  C\\u1ea7u tr\\u01b0\\u1ee3t x\\u00edch \\u0111u Hola h\\u1ea3i c\\u1ea9u 2020  hi\\u1ec7n shop \\u0111ang c\\u00f3 gi\\u00e1: *1,982,500 VND (gi\\u00e1 g\\u1ed1c 3,250,000 VND)*\\nB\\u1ea1n tham kh\\u1ea3o c\\u00e1c s\\u1ea3n ph\\u1ea9m sau nh\\u00e9 \\u1ea1:\", \"query_knowledge_base\", \"['object_type:cau_truot']\", \"action_query_babe_kb\"], [\"C\\u00f3 c\\u00e1i n\\u00e0o r\\u1ebb h\\u01a1n k b\\u1ea1n\\r\\nC\\u1ea7u tr\\u01b0\\u1ee3t ri\\u00eang th\\u00f4i\", \"S\\u1ea3n ph\\u1ea9m  C\\u1ea7u tr\\u01b0\\u1ee3t c\\u00f3 gi\\u00e1 th\\u1ea5p h\\u01a1n: *1,982,500 VND (gi\\u00e1 g\\u1ed1c 3,250,000 VND)* shop hi\\u1ec7n kh\\u00f4ng c\\u00f3.\\nB\\u1ea1n tham kh\\u1ea3o c\\u00e1c s\\u1ea3n ph\\u1ea9m sau nh\\u00e9 \\u1ea1:\", \"query_knowledge_base\", \"['object_type:cau_truot']\", \"action_query_babe_kb\"], [null, \"B\\u1ea1n \\u0111\\u00e3 t\\u00ecm \\u0111c s\\u1ea3n ph\\u1ea9m \\u01b0ng \\u00fd ch\\u01b0a \\u1ea1 ,c\\u00f3 c\\u1ea7n tr\\u1ee3 l\\u00fd c\\u1ee7a shop g\\u1ea5u v\\u00e0 b\\u00ed ng\\u00f4 gi\\u00fap g\\u00ec kh\\u00f4ng \\u1ea1\", \"reminder\", null, \"action_reminder\"], [\"Cho m stk t\\u1ed1i nh\\u1eadn h\\u00e0ng m ck nh\\u00e9\", \"D\\u1ea1 m\\u00ecnh g\\u1eedi b\\u1ea1n th\\u00f4ng tin t\\u00e0i kho\\u1ea3n c\\u1ee7a shop \\u1ea1:\\nTh\\u00f4ng tin chuy\\u1ec3n kho\\u1ea3n: \\n\\u2022 0611001928974 - VietcomBank chi nh\\u00e1nh Ba \\u0110\\u00ecnh. Nguy\\u1ec5n L\\u00ea Thu\\u1ef7\\n\\u2022 1500216756861 - Agribank chi nh\\u00e1nh H\\u00e0 N\\u1ed9i - Nguy\\u1ec5n L\\u00ea Th\\u1ee7y\\n\\u2022 19022876983383 - Techcombank chi nh\\u00e1nh H\\u00e0 N\\u1ed9i. Nguy\\u1ec5n Tu\\u1ea5n Quang! \\nN\\u1ed9i dung chuy\\u1ec3n kho\\u1ea3n b\\u1ea1n ghi r\\u00f5 T\\u00ean Facebook + s\\u1ed1 \\u0111i\\u1ec7n tho\\u1ea1i v\\u00e0 nh\\u1eafn l\\u1ea1i b\\u00ean m\\u00ecnh sau khi chuy\\u1ec3n kho\\u1ea3n nh\\u00e9.\", \"ask_account\", null, \"action_ask_account\"], [\"ok shop\", null, \"agree\", null, \"utter_agree\"], [\"https://scontent.xx.fbcdn.net/v/t1.15752-9/93983240_2821288317948752_842182115389865984_n.jpg?_nc_cat=110&_nc_sid=b96e70&_nc_oc=AQlu0Bd3QU0FS9YleaGD4xnvaMxDjJH1AaTvxpZAzM3XTfDDxP2pY23ZNSA3CghP0uZ8BknWoPUoMfQt5w9vtTsP&_nc_ad=z-m&_nc_cid=0&_nc_zor=9&_nc_ht=scontent.xx&oh=84195cc58455d4bf9cb6dc86a2f58333&oe=5EC16495\", \"B\\u1ea1n \\u0111ang t\\u00ecm ki\\u1ebfm th\\u00f4ng tin g\\u00ec \\u1ea1?\", \"send_link\", \"[\\\"url:['https://scontent.xx.fbcdn.net/v/t1.15752-9/93983240_2821288317948752_842182115389865984_n.jpg?_nc_cat=110&_nc_sid=b96e70&_nc_oc=AQlu0Bd3QU0FS9YleaGD4xnvaMxDjJH1AaTvxpZAzM3XTfDDxP2pY23ZNSA3CghP0uZ8BknWoPUoMfQt5w9vtTsP&_nc_ad=z-m&_nc_cid=0&_nc_zor=9&_nc_ht=scontent.xx&oh=84195cc58455d4bf9cb6dc86a2f58333&oe=5EC16495']\\\"]\", \"action_handle_send_link_only\"], [\"B\\u1ea1n \\u01a1i b\\u1ea1n c\\u00f3 c\\u1ea7u tr\\u01b0\\u1ee3t n\\u00e0y k?\", \"D\\u1ea1, c\\u00f3 ph\\u1ea3i b\\u1ea1n mu\\u1ed1n h\\u1ecfi m\\u1ed9t trong c\\u00e1c s\\u1ea3n ph\\u1ea9m d\\u01b0\\u1edbi \\u0111\\u00e2y kh\\u00f4ng \\u1ea1?\\r\\n (Vui l\\u00f2ng \\u1ea5n ch\\u1ecdn 1 s\\u1ea3n ph\\u1ea9m)\", \"query_knowledge_base\", \"['object_type:cau_truot', 'mention:n\\u00e0y']\", \"action_query_babe_kb\"], [\"/disagree{\\\"object_type\\\": null}\", \"B\\u1ea1n vui l\\u00f2ng m\\u00f4 t\\u1ea3 r\\u00f5 mong mu\\u1ed1n c\\u1ee7a b\\u1ea1n ho\\u1eb7c chat v\\u1edbi nh\\u00e2n vi\\u00ean t\\u01b0 v\\u1ea5n nh\\u00e9!\", \"disagree\", null, \"utter_disagree\"], [\"/connect_employee\", null, \"connect_employee\", \"[]\", \"action_handover_to_inbox\"], [\"https://scontent.xx.fbcdn.net/v/t1.15752-9/93983240_2821288317948752_842182115389865984_n.jpg?_nc_cat=110&_nc_sid=b96e70&_nc_oc=AQlu0Bd3QU0FS9YleaGD4xnvaMxDjJH1AaTvxpZAzM3XTfDDxP2pY23ZNSA3CghP0uZ8BknWoPUoMfQt5w9vtTsP&_nc_ad=z-m&_nc_cid=0&_nc_zor=9&_nc_ht=scontent.xx&oh=84195cc58455d4bf9cb6dc86a2f58333&oe=5EC16495\", \"B\\u1ea1n \\u0111ang t\\u00ecm ki\\u1ebfm th\\u00f4ng tin g\\u00ec \\u1ea1?\", \"send_link\", \"[\\\"url:['https://scontent.xx.fbcdn.net/v/t1.15752-9/93983240_2821288317948752_842182115389865984_n.jpg?_nc_cat=110&_nc_sid=b96e70&_nc_oc=AQlu0Bd3QU0FS9YleaGD4xnvaMxDjJH1AaTvxpZAzM3XTfDDxP2pY23ZNSA3CghP0uZ8BknWoPUoMfQt5w9vtTsP&_nc_ad=z-m&_nc_cid=0&_nc_zor=9&_nc_ht=scontent.xx&oh=84195cc58455d4bf9cb6dc86a2f58333&oe=5EC16495']\\\"]\", \"action_handle_send_link_only\"], [\"B\\u1ea1n \\u01a1i b\\u1ea1n c\\u00f3 c\\u1ea7u tr\\u01b0\\u1ee3t n\\u00e0y k?\", \"D\\u1ea1, c\\u00f3 ph\\u1ea3i b\\u1ea1n mu\\u1ed1n h\\u1ecfi m\\u1ed9t trong c\\u00e1c s\\u1ea3n ph\\u1ea9m d\\u01b0\\u1edbi \\u0111\\u00e2y kh\\u00f4ng \\u1ea1?\\r\\n (Vui l\\u00f2ng \\u1ea5n ch\\u1ecdn 1 s\\u1ea3n ph\\u1ea9m)\", \"query_knowledge_base\", \"['object_type:cau_truot', 'mention:n\\u00e0y']\", \"action_query_babe_kb\"], [\"C\\u00e1i nh\\u01b0 m\\u00ecnh g\\u1eedi \\u1ea3nh \\u1ea5y\", \"B\\u1ea1n vui l\\u00f2ng m\\u00f4 t\\u1ea3 r\\u00f5 mong mu\\u1ed1n c\\u1ee7a b\\u1ea1n ho\\u1eb7c chat v\\u1edbi nh\\u00e2n vi\\u00ean t\\u01b0 v\\u1ea5n nh\\u00e9!\", \"disagree\", null, \"utter_disagree\"], [null, \"B\\u1ea1n \\u0111\\u00e3 t\\u00ecm \\u0111c s\\u1ea3n ph\\u1ea9m \\u01b0ng \\u00fd ch\\u01b0a \\u1ea1 ,c\\u00f3 c\\u1ea7n tr\\u1ee3 l\\u00fd c\\u1ee7a shop g\\u1ea5u v\\u00e0 b\\u00ed ng\\u00f4 gi\\u00fap g\\u00ec kh\\u00f4ng \\u1ea1\", \"reminder\", null, \"action_reminder\"], [\"C l\\u1ea5y b\\u1ed9 lego th\\u1ecf nh\\u00e9\\nNh\\u1eafn c stk c ck\", \"D\\u1ea1 m\\u00ecnh g\\u1eedi b\\u1ea1n th\\u00f4ng tin t\\u00e0i kho\\u1ea3n c\\u1ee7a shop \\u1ea1:\\nTh\\u00f4ng tin chuy\\u1ec3n kho\\u1ea3n: \\n\\u2022 0611001928974 - VietcomBank chi nh\\u00e1nh Ba \\u0110\\u00ecnh. Nguy\\u1ec5n L\\u00ea Thu\\u1ef7\\n\\u2022 1500216756861 - Agribank chi nh\\u00e1nh H\\u00e0 N\\u1ed9i - Nguy\\u1ec5n L\\u00ea Th\\u1ee7y\\n\\u2022 19022876983383 - Techcombank chi nh\\u00e1nh H\\u00e0 N\\u1ed9i. Nguy\\u1ec5n Tu\\u1ea5n Quang! \\nN\\u1ed9i dung chuy\\u1ec3n kho\\u1ea3n b\\u1ea1n ghi r\\u00f5 T\\u00ean Facebook + s\\u1ed1 \\u0111i\\u1ec7n tho\\u1ea1i v\\u00e0 nh\\u1eafn l\\u1ea1i b\\u00ean m\\u00ecnh sau khi chuy\\u1ec3n kho\\u1ea3n nh\\u00e9.\", \"ask_account\", null, \"action_ask_account\"], [\"Ship v\\u1ec1 28 ng\\u00f5 48 ng\\u00f4 gia t\\u1ef1, long bi\\u00ean 0989067795\", \"\\\"C\\u1ea3m \\u01a1n b\\u1ea1n! B\\u1ea1n vui l\\u00f2ng ki\\u1ec3m tra l\\u1ea1i th\\u00f4ng tin \\u0111\\u1eb7t h\\u00e0ng gi\\u00fap shop nh\\u00e9!\\r\\n<Show ra c\\u00e1i b\\u1ea3ng m\\u1eabu \\u0111\\u1eb7t h\\u00e0ng: c\\u00f3 t\\u00ean s\\u1ea3n ph\\u1ea9m, cho kh\\u00e1ch t\\u00f9y ch\\u1ecdn s\\u1ed1 l\\u01b0\\u1ee3ng, m\\u00e0u s\\u1eafc...>\\\"\\r\\n<x\\u00e1c nh\\u1eadn> <h\\u1ee7y>\", \"order\", \"[]\", \"action_order\"], [\"<x\\u00e1c nh\\u1eadn>\", \"B\\u1ea1n \\u0111\\u00e3 \\u0111\\u1eb7t h\\u00e0ng th\\u00e0nh c\\u00f4ng , \\u0111\\u01a1n h\\u00e0ng s\\u1ebd \\u0111c giao \\u0111\\u1ebfn 28 ng\\u00f5 48 ng\\u00f4 gia t\\u1ef1, long bi\\u00ean trong kho\\u1ea3ng 24 h \\u1ea1\", \"confirm_order\", null, \"action_confirm_order\"], [\"alo shop\", \"Ch\\u00e0o b\\u1ea1n, m\\u00ecnh l\\u00e0 tr\\u1ee3 l\\u00fd \\u1ea3o c\\u1ee7a Shop G\\u1ea5u & B\\u00ed Ng\\u00f4, m\\u00ecnh gi\\u00fap g\\u00ec \\u0111\\u01b0\\u1ee3c b\\u1ea1n \\u1ea1?\", \"greet\", null, \"utter_greet\"], [\"https://scontent.xx.fbcdn.net/v/t1.15752-9/94187856_1428345610693079_2104702857449046016_n.jpg?_nc_cat=109&_nc_sid=b96e70&_nc_ohc=ITTHyLb5GbQAX8dQMXM&_nc_ad=z-m&_nc_cid=0&_nc_zor=9&_nc_ht=scontent.xx&oh=01542d8383a44dc3ca26de400c1cde2a&oe=5EC29798\\nIb gi\\u00e1 nh\\u00e9 shop\", \"S\\u1ea3n ph\\u1ea9m  Gh\\u1ebf \\u0111a n\\u0103ng Mastela Premium 1016  hi\\u1ec7n shop \\u0111ang c\\u00f3 gi\\u00e1: *1,590,000 VND (gi\\u00e1 g\\u1ed1c 2,000,000 VND)*.\\nB\\u1ea1n tham kh\\u1ea3o c\\u00e1c s\\u1ea3n ph\\u1ea9m sau nh\\u00e9 \\u1ea1:\", \"query_knowledge_base\", \"[\\\"url:['https://scontent.xx.fbcdn.net/v/t1.15752-9/94187856_1428345610693079_2104702857449046016_n.jpg?_nc_cat=109&_nc_sid=b96e70&_nc_ohc=ITTHyLb5GbQAX8dQMXM&_nc_ad=z-m&_nc_cid=0&_nc_zor=9&_nc_ht=scontent.xx&oh=01542d8383a44dc3ca26de400c1cde2a&oe=5EC29798']\\\", 'attribute:price']\", \"action_query_babe_kb\"], [\"chi\\u1ec1u nay ship \\u0111\\u01b0\\u1ee3c lu\\u00f4n cho m\\u00ecnh \\u0111\\u01b0\\u1ee3c kh\\u00f4ng\", null, \"handover_to_inbox\", null, \"action_handover_to_inbox\"], [\"alo shop\", \"Ch\\u00e0o b\\u1ea1n, m\\u00ecnh l\\u00e0 tr\\u1ee3 l\\u00fd \\u1ea3o c\\u1ee7a Shop G\\u1ea5u & B\\u00ed Ng\\u00f4, m\\u00ecnh gi\\u00fap g\\u00ec \\u0111\\u01b0\\u1ee3c b\\u1ea1n \\u1ea1?\", \"greet\", null, \"utter_greet\"], [\"https://scontent.xx.fbcdn.net/v/t1.15752-9/94187856_1428345610693079_2104702857449046016_n.jpg?_nc_cat=109&_nc_sid=b96e70&_nc_ohc=ITTHyLb5GbQAX8dQMXM&_nc_ad=z-m&_nc_cid=0&_nc_zor=9&_nc_ht=scontent.xx&oh=01542d8383a44dc3ca26de400c1cde2a&oe=5EC29798\\nIb gi\\u00e1 nh\\u00e9 shop\", \"S\\u1ea3n ph\\u1ea9m  Gh\\u1ebf \\u0111a n\\u0103ng Mastela Premium 1016  hi\\u1ec7n shop \\u0111ang c\\u00f3 gi\\u00e1: *1,590,000 VND (gi\\u00e1 g\\u1ed1c 2,000,000 VND)*.\\nB\\u1ea1n tham kh\\u1ea3o c\\u00e1c s\\u1ea3n ph\\u1ea9m sau nh\\u00e9 \\u1ea1:\", \"query_knowledge_base\", \"[\\\"url:['https://scontent.xx.fbcdn.net/v/t1.15752-9/94187856_1428345610693079_2104702857449046016_n.jpg?_nc_cat=109&_nc_sid=b96e70&_nc_ohc=ITTHyLb5GbQAX8dQMXM&_nc_ad=z-m&_nc_cid=0&_nc_zor=9&_nc_ht=scontent.xx&oh=01542d8383a44dc3ca26de400c1cde2a&oe=5EC29798']\\\", 'attribute:price']\", \"action_query_babe_kb\"], [\"chi\\u1ec1u nay ship \\u0111\\u01b0\\u1ee3c lu\\u00f4n cho m\\u00ecnh \\u0111\\u01b0\\u1ee3c kh\\u00f4ng\", \"B\\u1ea1n cho shop xin \\u0111\\u1ecba ch\\u1ec9 nh\\u1eadn h\\u00e0ng \\u1ea1.\", \"time_ship\", null, \"action_time_ship\"], [\"s\\u1ed1 7 tr\\u00e0ng thi\", \"V\\u1edbi \\u0111\\u1ecba ch\\u1ec9 s\\u1ed1 7 tr\\u00e0ng thi shop c\\u00f3 th\\u1ec3 ship h\\u00e0ng \\u0111\\u1ebfn trong 3 h \\u1ea1\", \"time_ship\", null, \"action_time_ship\"], [\"https://scontent.xx.fbcdn.net/v/t1.15752-9/94118026_244969926552693_3478019006827331584_n.jpg?_nc_cat=100&_nc_sid=b96e70&_nc_ohc=i5bWmj-23SAAX_LTB3d&_nc_ad=z-m&_nc_cid=0&_nc_zor=9&_nc_ht=scontent.xx&oh=55c8b90d7ec276eab8fc521cd69e0638&oe=5EC1A4ED\\nB\\u1ed9 n\\u00e0y gi\\u00e1 bn sho\", \"D\\u1ea1, c\\u00f3 ph\\u1ea3i b\\u1ea1n mu\\u1ed1n h\\u1ecfi m\\u1ed9t trong c\\u00e1c s\\u1ea3n ph\\u1ea9m d\\u01b0\\u1edbi \\u0111\\u00e2y kh\\u00f4ng \\u1ea1?\\n (Vui l\\u00f2ng \\u1ea5n ch\\u1ecdn 1 s\\u1ea3n ph\\u1ea9m)...\", \"query_knowledge_base\", \"[\\\"url:['https://scontent.xx.fbcdn.net/v/t1.15752-9/94118026_244969926552693_3478019006827331584_n.jpg?_nc_cat=100&_nc_sid=b96e70&_nc_ohc=i5bWmj-23SAAX_LTB3d&_nc_ad=z-m&_nc_cid=0&_nc_zor=9&_nc_ht=scontent.xx&oh=55c8b90d7ec276eab8fc521cd69e0638&oe=5EC1A4ED']\\\", 'mention:b\\u1ed9 n\\u00e0y', 'attribute:price']\", \"action_query_babe_kb\"], [\"/query_knowledge_base{\\\"url\\\": \\\"https://www.facebook.com/shopgauvabingo/posts/2435578706752453\\\", \\\"product_id\\\": \\\"https://www.facebook.com/shopgauvabingo/posts/2435578706752453\\\"}\", \"B\\u1ed9 \\u0111\\u1ed3 ch\\u01a1i nh\\u00e0 b\\u1ebfp th\\u00f4ng minh hi\\u1ec7n shop \\u0111ang c\\u00f3 gi\\u00e1: 790000 VND (gi\\u00e1 g\\u1ed1c 790000 VND). B\\u1ea1n tham kh\\u1ea3o c\\u00e1c s\\u1ea3n ph\\u1ea9m sau nh\\u00e9 \\u1ea1:\", \"query_knowledge_base\", null, \"action_query_babe_kb\"], [\"oki shop\", \"D\\u1ea1, v\\u00e2ng \\u1ea1\", \"agree\", null, \"utter_agree\"], [\"https://scontent.xx.fbcdn.net/v/t1.15752-9/94118026_244969926552693_3478019006827331584_n.jpg?_nc_cat=100&_nc_sid=b96e70&_nc_ohc=i5bWmj-23SAAX_LTB3d&_nc_ad=z-m&_nc_cid=0&_nc_zor=9&_nc_ht=scontent.xx&oh=55c8b90d7ec276eab8fc521cd69e0638&oe=5EC1A4ED\\nB\\u1ed9 n\\u00e0y gi\\u00e1 bn sho\", \"S\\u1ea3n ph\\u1ea9m b\\u1ea1n \\u0111ang t\\u00ecm c\\u00f3 ph\\u1ea3i l\\u00e0?\", \"query_knowledge_base\", \"[\\\"url:['https://scontent.xx.fbcdn.net/v/t1.15752-9/94118026_244969926552693_3478019006827331584_n.jpg?_nc_cat=100&_nc_sid=b96e70&_nc_ohc=i5bWmj-23SAAX_LTB3d&_nc_ad=z-m&_nc_cid=0&_nc_zor=9&_nc_ht=scontent.xx&oh=55c8b90d7ec276eab8fc521cd69e0638&oe=5EC1A4ED']\\\", 'mention:b\\u1ed9 n\\u00e0y', 'attribute:price']\", \"action_query_babe_kb\"], [\"/confirm_object_type{\\\"object_type\\\": \\\"bo_do_choi\\\"}\", \"B\\u1ed9 \\u0111\\u1ed3 ch\\u01a1i nh\\u00e0 b\\u1ebfp th\\u00f4ng minh hi\\u1ec7n shop \\u0111ang c\\u00f3 gi\\u00e1: 790000 VND (gi\\u00e1 g\\u1ed1c 790000 VND). B\\u1ea1n tham kh\\u1ea3o c\\u00e1c s\\u1ea3n ph\\u1ea9m sau nh\\u00e9 \\u1ea1:\", \"query_knowledge_base\", null, \"action_query_babe_kb\"], [\"oki shop\", \"D\\u1ea1, v\\u00e2ng \\u1ea1\", \"agree\", null, \"utter_agree\"], [\"https://scontent.xx.fbcdn.net/v/t1.15752-9/94118026_244969926552693_3478019006827331584_n.jpg?_nc_cat=100&_nc_sid=b96e70&_nc_ohc=i5bWmj-23SAAX_LTB3d&_nc_ad=z-m&_nc_cid=0&_nc_zor=9&_nc_ht=scontent.xx&oh=55c8b90d7ec276eab8fc521cd69e0638&oe=5EC1A4ED\\nB\\u1ed9 n\\u00e0y gi\\u00e1 bn sho\", \"B\\u1ed9 \\u0111\\u1ed3 ch\\u01a1i nh\\u00e0 b\\u1ebfp th\\u00f4ng minh hi\\u1ec7n shop \\u0111ang c\\u00f3 gi\\u00e1: 790000 VND (gi\\u00e1 g\\u1ed1c 790000 VND). B\\u1ea1n tham kh\\u1ea3o c\\u00e1c s\\u1ea3n ph\\u1ea9m sau nh\\u00e9 \\u1ea1:\", \"query_knowledge_base\", \"[\\\"url:['https://scontent.xx.fbcdn.net/v/t1.15752-9/94118026_244969926552693_3478019006827331584_n.jpg?_nc_cat=100&_nc_sid=b96e70&_nc_ohc=i5bWmj-23SAAX_LTB3d&_nc_ad=z-m&_nc_cid=0&_nc_zor=9&_nc_ht=scontent.xx&oh=55c8b90d7ec276eab8fc521cd69e0638&oe=5EC1A4ED']\\\", 'mention:b\\u1ed9 n\\u00e0y', 'attribute:price']\", \"action_query_babe_kb\"], [\"c\\u00f3 nh\\u1eefng k\\u00edch th\\u01b0\\u1edbc g\\u00ec \\u1ea1\", \"S\\u1ea3n ph\\u1ea9m  B\\u1ed9 \\u0111\\u1ed3 ch\\u01a1i nh\\u00e0 b\\u1ebfp th\\u00f4ng minh c\\u00f3 k\\u00edch th\\u01b0\\u1edbc: 57x30x77cm v\\u00e0 51x32x100cm\\nB\\u1ea1n tham kh\\u1ea3o c\\u00e1c s\\u1ea3n ph\\u1ea9m sau nh\\u00e9 \\u1ea1:\", \"query_knowledge_base\", \"['attribute:size']\", \"action_query_babe_kb\"], [null, \"B\\u1ea1n \\u0111\\u00e3 t\\u00ecm \\u0111c s\\u1ea3n ph\\u1ea9m \\u01b0ng \\u00fd ch\\u01b0a \\u1ea1 ,c\\u00f3 c\\u1ea7n tr\\u1ee3 l\\u00fd c\\u1ee7a shop g\\u1ea5u v\\u00e0 b\\u00ed ng\\u00f4 gi\\u00fap g\\u00ec kh\\u00f4ng \\u1ea1\", \"reminder\", null, \"action_reminder\"], [\"Th\\u1ebf c\\u00f2n lo\\u1ea1i n\\u00e0o n\\u1eefa ko c\\nXe ch\\u00f2i ch\\u00e2n \\u00fd\", \"S\\u1ea3n ph\\u1ea9m  Xe Ch\\u00f2i Ch\\u00e2n  hi\\u1ec7n shop \\u0111ang c\\u00f3 gi\\u00e1: *580,000 VND (gi\\u00e1 g\\u1ed1c 800,000 VND), 499,000 VND (gi\\u00e1 g\\u1ed1c 800,000 VND), 699,000 VND (gi\\u00e1 g\\u1ed1c 998,000 VND), 448,400 VND (gi\\u00e1 g\\u1ed1c 590,000 VND), 576,000 VND (gi\\u00e1 g\\u1ed1c 800,000 VND)*.\\nB\\u1ea1n tham kh\\u1ea3o c\\u00e1c s\\u1ea3n ph\\u1ea9m sau nh\\u00e9 \\u1ea1:\", \"query_knowledge_base\", \"['object_type:xe_choi_chan']\", \"action_query_babe_kb\"], [\"thank sop\", \"d\\u1ea1,v\\u00e2ng \\u1ea1\", \"thank\", null, \"utter_thank\"], [\"Shop cho e stk agribank \\u0111\\u1ec3 e ck \\u1ea1\", \"D\\u1ea1 m\\u00ecnh g\\u1eedi b\\u1ea1n th\\u00f4ng tin t\\u00e0i kho\\u1ea3n c\\u1ee7a shop \\u1ea1:\\nTh\\u00f4ng tin chuy\\u1ec3n kho\\u1ea3n: \\n\\u2022 0611001928974 - VietcomBank chi nh\\u00e1nh Ba \\u0110\\u00ecnh. Nguy\\u1ec5n L\\u00ea Thu\\u1ef7\\n\\u2022 1500216756861 - Agribank chi nh\\u00e1nh H\\u00e0 N\\u1ed9i - Nguy\\u1ec5n L\\u00ea Th\\u1ee7y\\n\\u2022 19022876983383 - Techcombank chi nh\\u00e1nh H\\u00e0 N\\u1ed9i. Nguy\\u1ec5n Tu\\u1ea5n Quang! \\nN\\u1ed9i dung chuy\\u1ec3n kho\\u1ea3n b\\u1ea1n ghi r\\u00f5 T\\u00ean Facebook + s\\u1ed1 \\u0111i\\u1ec7n tho\\u1ea1i v\\u00e0 nh\\u1eafn l\\u1ea1i b\\u00ean m\\u00ecnh sau khi chuy\\u1ec3n kho\\u1ea3n nh\\u00e9.\", \"ask_account\", null, \"action_ask_account\"], [\"M\\u00ecnh chuy\\u1ec3n kho\\u1ea3n r\\u1ed3i nh\\u00e9 \", null, \"handover_to_inbox\", null, \"action_handover_to_inbox\"], [\"Shop cho e stk agribank \\u0111\\u1ec3 e ck \\u1ea1\", \"D\\u1ea1 m\\u00ecnh g\\u1eedi b\\u1ea1n th\\u00f4ng tin t\\u00e0i kho\\u1ea3n c\\u1ee7a shop \\u1ea1:\\nTh\\u00f4ng tin chuy\\u1ec3n kho\\u1ea3n: \\n\\u2022 0611001928974 - VietcomBank chi nh\\u00e1nh Ba \\u0110\\u00ecnh. Nguy\\u1ec5n L\\u00ea Thu\\u1ef7\\n\\u2022 1500216756861 - Agribank chi nh\\u00e1nh H\\u00e0 N\\u1ed9i - Nguy\\u1ec5n L\\u00ea Th\\u1ee7y\\n\\u2022 19022876983383 - Techcombank chi nh\\u00e1nh H\\u00e0 N\\u1ed9i. Nguy\\u1ec5n Tu\\u1ea5n Quang! \\nN\\u1ed9i dung chuy\\u1ec3n kho\\u1ea3n b\\u1ea1n ghi r\\u00f5 T\\u00ean Facebook + s\\u1ed1 \\u0111i\\u1ec7n tho\\u1ea1i v\\u00e0 nh\\u1eafn l\\u1ea1i b\\u00ean m\\u00ecnh sau khi chuy\\u1ec3n kho\\u1ea3n nh\\u00e9.\", \"ask_account\", null, \"action_ask_account\"], [\"https://scontent.xx.fbcdn.net/v/t1.15752-9/93636148_581283165927177_1218583943880638464_n.jpg?_nc_cat=107&_nc_sid=b96e70&_nc_ohc=v18UutxNnwkAX8l0irW&_nc_ad=z-m&_nc_cid=0&_nc_zor=9&_nc_ht=scontent.xx&oh=7374a7a5bb108982137dd407f074cced&oe=5EBC3E04\\nM\\u00ecnh chuy\\u1ec3n kho\\u1ea3n r\\u1ed3i nh\\u00e9 \", \"C\\u1ea3m \\u01a1n b\\u1ea1n, nh\\u00e2n vi\\u00ean c\\u1ee7a shop s\\u1ebd x\\u00e1c nh\\u1eadn s\\u1edbm l\\u1ea1i \\u1ea1.\", \"confirm_transfer\", null, \"confirm_transfer\"], [\"https://scontent.xx.fbcdn.net/v/t1.15752-9/94342216_2472338469763544_5708094841569673216_n.jpg?_nc_cat=111&_nc_sid=b96e70&_nc_ohc=kg5-pAp7BTgAX-QEe_x&_nc_ad=z-m&_nc_cid=0&_nc_zor=9&_nc_ht=scontent.xx&oh=aeb84a7b6bfc81f1fdadcd81e0347482&oe=5EC8A82A\\nhttps://scontent.xx.fbcdn.net/v/t1.15752-9/94318161_887396588390390_8811840609993097216_n.jpg?_nc_cat=106&_nc_sid=b96e70&_nc_ohc=AWcLOmXmk3YAX-wKPHM&_nc_ad=z-m&_nc_cid=0&_nc_zor=9&_nc_ht=scontent.xx&oh=a19ee2c3acb264c574fb86ccd5539fac&oe=5EC6A253\\nhai m\\u00f3n n\\u00e0y gi\\u00e1 bnhieu \\u1ea1\", \"S\\u1ea3n ph\\u1ea9m Xe ch\\u00f2i ch\\u00e2n ki\\u00eam xe l\\u1eafc cao c\\u1ea5p c\\u00f3 nh\\u1ea1c Holla hi\\u1ec7n shop \\u0111ang c\\u00f3 gi\\u00e1: *790,000 VND (gi\\u00e1 g\\u1ed1c 1,200,000 VND)*.\\nB\\u1ea1n tham kh\\u1ea3o c\\u00e1c s\\u1ea3n ph\\u1ea9m sau nh\\u00e9 \\u1ea1:\\n<show card sp>\", \"query_knowledge_base\", \"[\\\"url:['https://scontent.xx.fbcdn.net/v/t1.15752-9/94318161_887396588390390_8811840609993097216_n.jpg?_nc_cat=106&_nc_sid=b96e70&_nc_ohc=AWcLOmXmk3YAX-wKPHM&_nc_ad=z-m&_nc_cid=0&_nc_zor=9&_nc_ht=scontent.xx&oh=a19ee2c3acb264c574fb86ccd5539fac&oe=5EC6A253', 'https://scontent.xx.fbcdn.net/v/t1.15752-9/94342216_2472338469763544_5708094841569673216_n.jpg?_nc_cat=111&_nc_sid=b96e70&_nc_ohc=kg5-pAp7BTgAX-QEe_x&_nc_ad=z-m&_nc_cid=0&_nc_zor=9&_nc_ht=scontent.xx&oh=aeb84a7b6bfc81f1fdadcd81e0347482&oe=5EC8A82A']\\\", 'mention:m\\u00f3n n\\u00e0y', 'attribute:price']\", \"action_query_babe_kb\"], [\"ok shop\", \"V\\u00e2ng \\u1ea1!\", \"agree\", null, \"utter_agree\"], [\"Ch\\u00e0o shop\", \"Ch\\u00e0o b\\u1ea1n, m\\u00ecnh l\\u00e0 tr\\u1ee3 l\\u00fd \\u1ea3o c\\u1ee7a Shop G\\u1ea5u & B\\u00ed Ng\\u00f4, m\\u00ecnh gi\\u00fap g\\u00ec \\u0111\\u01b0\\u1ee3c b\\u1ea1n \\u1ea1?\", \"greet\", \"[]\", \"utter_greet\"], [\"\\u0110\\u1ed3 eco c\\u00f2mybaby h\\u1ebft lo\\u1ea1i 6-9m h\\u1ea3 ch\\u1ecb\", \"S\\u1ea3n ph\\u1ea9m Eco Comfybaby \\u0111\\u1ed9 tu\\u1ed5i s\\u1eed d\\u1ee5ng 6 - 9 th\\u00e1ng hi\\u1ec7n \\u0111ang h\\u1ebft h\\u00e0ng. M\\u1eddi b\\u1ea1n tham kh\\u1ea3o c\\u00e1c s\\u1ea3n ph\\u1ea9m kh\\u00e1c \\u0111ang c\\u00f3 t\\u1ea1i shop \\u1ea1.\\n<Show random 5 cards>\", \"query_knowledge_base\", \"['object_type:quan_ao']['size:6-9m']\", \"action_query_babe_kb\"], [\"ok shop\", \"V\\u00e2ng \\u1ea1!\", \"agree\", null, \"utter_agree\"], [\"https://scontent.xx.fbcdn.net/v/t1.15752-9/94615022_254702325575851_8685774369143652352_n.jpg?_nc_cat=107&_nc_sid=b96e70&_nc_oc=AQkW5yJT2whJY3uM6d13-4XyKcKwwf8gHNd-ED41EzYfoVcxoq3ogMZuuTsWcwYdCVqvspJWtELLeP0qWdOz4xNP&_nc_ad=z-m&_nc_cid=0&_nc_zor=9&_nc_ht=scontent.xx&oh=39335ddc3e910c63c2f92a71bc0721a2&oe=5EC5D7A0\\nhttps://scontent.xx.fbcdn.net/v/t1.15752-9/94718995_656896051775135_4424984880991961088_n.jpg?_nc_cat=110&_nc_sid=b96e70&_nc_oc=AQmqj-ZwCy04a-EryIf2WLMm4Qvp9emjauY9QNfszWU48mpnGT7YnO-0OJhPHEpL8ykkfrGfYXp_1Pb3Q7FIuunG&_nc_ad=z-m&_nc_cid=0&_nc_zor=9&_nc_ht=scontent.xx&oh=eb24143022047722f3bba74d15534964&oe=5EC7896A\\nhttps://scontent.xx.fbcdn.net/v/t1.15752-9/94278563_315945652700875_3393720721636065280_n.jpg?_nc_cat=107&_nc_sid=b96e70&_nc_oc=AQlu_SI7QRtyKEdwncW1fzfBqKQXFLU24Siyz8e0Kl_AT5LA2F-ihNTPCzaoj0XyStIeQPeFqeHSDe3t7fLokib0&_nc_ad=z-m&_nc_cid=0&_nc_zor=9&_nc_ht=scontent.xx&oh=a8c6f18333cf9f2b558c8e4c26ff2765&oe=5EC7387D\\nShop b\\u00e1o gi\\u00e1 e 3 sp n\\u00e0y vs\", \"S\\u1ea3n ph\\u1ea9m  Xe t\\u1eadp \\u0111i \\u0111a n\\u0103ng cao c\\u1ea5p Holla hi\\u1ec7n shop \\u0111ang c\\u00f3 gi\\u00e1: *750,000 VND (gi\\u00e1 g\\u1ed1c 1,200,000 VND)*.\\nB\\u1ea1n tham kh\\u1ea3o c\\u00e1c s\\u1ea3n ph\\u1ea9m sau nh\\u00e9 \\u1ea1:\\n<show card sp>\", \"query_knowledge_base\", \"[\\\"url:['https://scontent.xx.fbcdn.net/v/t1.15752-9/94278563_315945652700875_3393720721636065280_n.jpg?_nc_cat=107&_nc_sid=b96e70&_nc_oc=AQlu_SI7QRtyKEdwncW1fzfBqKQXFLU24Siyz8e0Kl_AT5LA2F-ihNTPCzaoj0XyStIeQPeFqeHSDe3t7fLokib0&_nc_ad=z-m&_nc_cid=0&_nc_zor=9&_nc_ht=scontent.xx&oh=a8c6f18333cf9f2b558c8e4c26ff2765&oe=5EC7387D', 'https://scontent.xx.fbcdn.net/v/t1.15752-9/94718995_656896051775135_4424984880991961088_n.jpg?_nc_cat=110&_nc_sid=b96e70&_nc_oc=AQmqj-ZwCy04a-EryIf2WLMm4Qvp9emjauY9QNfszWU48mpnGT7YnO-0OJhPHEpL8ykkfrGfYXp_1Pb3Q7FIuunG&_nc_ad=z-m&_nc_cid=0&_nc_zor=9&_nc_ht=scontent.xx&oh=eb24143022047722f3bba74d15534964&oe=5EC7896A', 'https://scontent.xx.fbcdn.net/v/t1.15752-9/94615022_254702325575851_8685774369143652352_n.jpg?_nc_cat=107&_nc_sid=b96e70&_nc_oc=AQkW5yJT2whJY3uM6d13-4XyKcKwwf8gHNd-ED41EzYfoVcxoq3ogMZuuTsWcwYdCVqvspJWtELLeP0qWdOz4xNP&_nc_ad=z-m&_nc_cid=0&_nc_zor=9&_nc_ht=scontent.xx&oh=39335ddc3e910c63c2f92a71bc0721a2&oe=5EC5D7A0']\\\", 'attribute:price']\", \"action_query_babe_kb\"], [\"ok shop\", \"V\\u00e2ng \\u1ea1!\", \"agree\", null, \"utter_agree\"], [\"Cho m\\u00ecnh link shoppe\", \"M\\u00ecnh ch\\u01b0a x\\u00e1c \\u0111\\u1ecbnh \\u0111\\u01b0\\u1ee3c m\\u00f3n \\u0111\\u1ed3 b\\u1ea1n h\\u1ecfi, b\\u1ea1n m\\u00f4 t\\u1ea3 r\\u00f5 h\\u01a1n gi\\u00fap m\\u00ecnh nh\\u00e9!\", \"query_knowledge_base\", \"['attribute:link']\", \"action_query_babe_kb\"], [\"Xe l\\u1eafc \\u0111\\u00f3 b\", \"D\\u1ea1 m\\u1eddi b\\u1ea1n xem s\\u1ea3n ph\\u1ea9m t\\u1ea1i \\u0111\\u00e2y \\u1ea1:\\n<show card sp>\", \"query_knowledge_base\", \"['object_type: xe_tap_di','attribute:link']\", \"action_query_babe_kb\"]], \"hovertemplate\": \"x=%{x}<br>y=%{y}<br>input_text=%{customdata[0]}<br>bot_text=%{customdata[1]}<br>intent=%{customdata[2]}<br>entities=%{customdata[3]}<br>action=%{customdata[4]}<extra></extra>\", \"legendgroup\": \"\", \"marker\": {\"color\": \"#636efa\", \"symbol\": \"circle\"}, \"mode\": \"markers\", \"name\": \"\", \"showlegend\": false, \"type\": \"scatter\", \"x\": [-0.57273704, 20.1844, 6.8672414, -11.846641, -37.968113, 13.619651000000001, 23.676287, -37.96813, 16.988169, -37.096542, -14.559865, -9.572097, -37.098606, -14.559865, 21.579912, -38.05273, -14.854423, 1.5571964, -38.697933, -13.774496, 5.5764074, -0.21310079, 11.091239, 27.68143, -11.40242, 25.779638000000002, 14.106435999999999, -14.234392999999999, 20.882479, -14.646994, -5.250717, 10.9413595, -35.419277, -14.474891, -8.873274, 4.61916, 28.432096, -34.567806, -4.9433465, 11.641401, -35.345413, -14.177589999999999, -1.6340226, -11.679652, -36.758682, -14.122701000000001, 9.938599, -11.630403, -33.66831, -12.807307000000002, 9.891885, -37.29381, -13.323139000000001, 19.156538, 19.466595, -3.832783, 19.566702, 33.595215, -11.184619, 10.491036, -5.7084410000000005, 33.109608, 25.474297, 26.557014000000002, 11.335234, 25.448748000000002, -5.898643, 3.929738, -36.611835, -16.190596, 7.9738297000000005, -36.327778, -13.543517999999999, -7.678573599999999, -35.53601, -34.200275, -15.609716, 12.840836, -3.7628896000000003, -5.9654675, 8.557478, -14.328331, -4.9019547, -6.2168293, 23.001268, -1.2431159, 11.926373, -5.2233605, -4.902044999999999, -34.875698, -12.967487, 32.83185, 8.659913000000001, 19.515465, -11.087495, 17.596647, 11.055083999999999, -4.097247, -37.95626, 16.69667, -4.097247, 23.341885, 10.545016, 20.36831, -17.27976, 11.30103, -4.0187263, 9.165639, 25.669666, 24.230234, -11.462482000000001, -8.779777000000001, 26.339005, -0.8230685999999999, -2.2940187, 25.333824, 13.50247, 0.9269489, 26.467440000000003, -3.7905567000000002, 1.5187263, -6.630012, -8.798174000000001, -34.542953000000004, 16.858244, -8.297769, 0.19071397, 28.688786999999998, -10.424251, 0.19071397, -3.8578992, 33.761562, -10.653949, 17.144686, 11.254736, -36.3899, -0.05911973, 16.578716, 32.168507, -9.007936, -37.224125, 3.8417041, 5.525091000000001, 13.587422, -3.1965647, 8.158362, 6.152889, -5.0295568, 13.171607, 24.703575, -33.515232, -15.146463, 14.5849905, 0.07835889, -0.57573116, -6.528843, 28.673734999999997, -3.7452772000000003, -0.24756943, -6.528843, 3.8512309, 32.810375, 22.712229999999998, -15.041717000000002, -1.3811163999999998, -7.1825156, -3.3000972, 20.048132, 30.106176, -13.920619, -2.6360216, -37.953109999999995, -10.390091, -3.5075006, -38.99691, 2.1808395000000003, -3.5040050000000003, -0.951368, 3.0135586, -10.078408, 2.253525, 32.698692, -8.492653, -1.0169324, 4.4580755, 9.861092, -8.621575, -33.857624, -8.800427, 19.896535999999998, 27.587459999999997, -10.170079, -36.519455, 24.169923999999998, -11.027219, -33.831112, -11.834661, -7.1825156, -1.3138899, 33.26548, -7.1861143, -38.587715, 7.639908, 30.582762, -9.575272, -36.333659999999995, 17.868143, -7.790007000000001, 11.220152, -9.079896000000002, 22.889324, 8.075007000000001, -9.754038000000001, -36.473279999999995, 3.8003519, 34.020634, -8.139789, -36.473793, 3.8004214999999997, -8.306871000000001, 27.910999999999998, -4.2162833, -38.392998, -9.643094, 12.660631, -10.393865, -38.394993, -9.643104, 18.775297, 34.205653999999996, 24.83311, -8.038627, -36.234356, -2.6682498, 20.522497, -9.600502, -37.11704, -8.598958, -5.3862247000000005, -8.9586735, -37.117043, -7.216013, -4.441819000000001, 14.584992999999999, -8.005422, 3.0489889999999997, -7.459013499999999, 9.231086, 11.055375999999999, 30.498784999999998, -15.086342000000002, 3.3832437999999994, 0.9449869000000001, 7.185833000000001, 7.4271082999999996, -0.6495491999999999, 10.120971, 7.481992699999999, 8.154055, -10.594292, -8.293433, -9.466287, -8.293433, 24.208584, -0.63385403, 5.835139, 12.017497, -6.312059, 33.637188, -38.75035, -5.826953, -36.610268, -16.33718, 11.926406, 0.0846362, -17.279718, 11.301005, -4.0187263, -9.359862, -37.225605, 3.8420379999999996, 5.525057299999999, 33.75571, -37.514309999999995, -15.146463, -0.2959492, -0.05030777, 3.619481, -3.7754154000000004, -38.393, -9.643094, -9.163246000000001, -36.234885999999996, -9.77421, 25.566591, 29.944196999999996, 12.548441, 5.387796, 30.582762, 3.9397085, 10.951369999999999, 10.951348, 24.292213, -5.3944144, 19.223646, 27.156390000000002, 26.607601000000003, -7.182516000000001, -8.164508, 18.55039, 26.925728000000003, 29.908728000000004, -8.164508, 18.751087, 11.954445, 29.637753999999997, 10.668489, -6.451525, -4.606952, 24.209082000000002, -35.705032, -11.792664, -7.368839, 0.17463489999999998, 9.39264, 10.777944, 24.438538, -1.7443856, -6.777905499999999, 5.435518, 13.148123000000002, 9.398611, 19.606237, 13.148695000000002, 11.666226, 27.587597, 14.086785999999998, 5.5090650000000005, 29.361462, -5.889213, -5.8072333, 27.105125, -1.6015983, 10.508455999999999, 10.29807, 24.891742999999998, 11.847754, -1.3356261, 19.75124, 26.925533, -2.3849834999999997, 21.258923, 26.420204, -13.147379999999998, -2.1456869, -12.060249, -9.681221, -33.13467, -4.0051694, 14.155481, 23.885089999999998, -5.573157, 22.790464, -8.639096, -35.774105, 8.088419, -9.913561, -7.9544619999999995, -38.750065, -6.0460057, 23.086668, -40.209216999999995, -40.20916, 5.873888, 7.466612, -1.932498, -7.234843700000001, -34.816246, -5.0099487, 12.536792, 12.205679, 29.01983, -8.959184, -37.455154, -10.416825, 13.421576500000002, 4.9925737, 26.868679999999998, 27.135925, 10.856653, -10.058015, -35.776676, -3.4626949999999996, -35.7054, -9.5659895, 11.18852, -14.646994, -5.250717, 11.372539, -15.702860999999999, -11.5675125, 1.8234605, 26.637992999999998, -11.566908999999999, 0.5048060000000001, 26.637992999999998, 12.885157000000001, 1.3699473, -10.958108, -3.2724987999999997, -10.958177000000001, 5.245284, -6.248586, -2.5484686, -0.03318475, 33.217945, 21.279222, 12.410282, -12.457953999999999, 34.241446999999994, 20.387610000000002, -8.044742999999999, 21.078394, 13.062038000000001, -11.5675125, -2.5670075, 2.9437467999999996, -34.40547, -2.637635, 18.83609, -10.958108, 21.181433, 27.281206, 17.945816, -12.632188000000001, -6.5728664000000006, 26.637995, 11.913046000000001, 27.281214000000002, 19.660847, 2.0759976000000004, 0.32584995, -0.22664686, 25.878496, -6.904382000000001, -8.855689, 7.6790996, -2.2812989, 33.506714, -3.2907550000000003, 14.889248, 8.028349, 8.200274, 13.545223000000002, -8.980199, 9.898352000000001, -9.47136, 7.561311999999999, 31.977003000000003, -8.554721, -1.1542013999999998, 16.034660000000002, -36.783516, -7.635650599999999, -36.783398, -8.635218, -36.783325, -12.384504, -9.98683, 5.326859, -9.985294999999999, -5.433618, 33.178024, 11.560217999999999, -35.30316, 14.540188, 32.829353000000005, 1.4218881, 0.15966944, 15.9098625, 11.059346000000001, 32.163204, 24.853157, 23.14333, 31.976978000000003, -9.986832000000001, 9.907244, -9.986469999999999, 9.907237, -13.263697, 22.692116, 12.225427, 21.94511, 26.758234, 25.86316, -36.35318, 12.039698, 4.2701405999999995, -11.66727, 3.7685602, -11.667359, -34.517494, -6.5647216, -34.519215, -5.9064760000000005, -12.58041, -10.116653, 27.350222, -9.411892, -0.49206814, -4.2311735, -11.736877999999999, -1.0759444, 19.896534, 20.179707999999998, -12.157245, -1.0760299999999998, -16.249416, 25.320654, -12.157193, -17.315357000000002, 25.38478, -11.736877999999999, -17.196457000000002, 25.384544, -11.906896000000001, -14.426909, 25.384722, -13.745164, -34.885445000000004, -16.15561, 33.039024, -13.745164, -14.009992, 32.831590000000006, -1.4767622, 19.096135999999998, 26.928677, -15.277520999999998, -1.9189459999999998, -0.34478807, -16.249321, -8.565686, -15.405617999999999, -8.565686, 33.637188, -2.5725665, 19.387043, 27.587459999999997, -16.230736, 26.384746999999997, -0.20599589999999998, -16.20121, -8.969159, 27.211384000000002, -15.6040945, -15.843347, 10.857346000000001, -15.604139000000002, -15.843347, 8.526397, 1.7520806, -16.201233, 27.535584999999998, -13.255953, 25.32066, -3.1294842000000003, -32.601246, -16.238424, 27.535259999999997, -3.1893423, -32.601254, -13.235023499999999, 27.211382, 0.6340178000000001, 19.698128, 29.326803, 3.6515582, 19.094578, 29.326555, -4.665186, -5.9348364, -40.04708, 3.1198716, 19.589294, 29.326805, -40.048317, -0.54222286, -7.9470716, 31.167710999999997, -40.048313, -6.4374485, 30.064524, -3.775417, -16.001667, 19.512264000000002, 29.326560999999998, -4.233256, -15.852084, -9.137764, -7.4979366999999995, -13.930676, 33.109604, -13.134729, -7.631135499999999, 10.399121000000001, -13.930676, -9.390718, -13.416560999999998, -7.309951299999999, 12.456645, 20.888432, 28.651847999999998, -39.82592, -14.482707000000001, 15.455364000000001, 29.326555, -39.825171999999995, -14.482664999999999, 20.58066, 12.45665, 22.493105, 22.765620000000002, 25.684673, -4.233256, -4.9781947, 24.427965, -4.216285, -4.978117500000001, 19.166172, 23.220682, 0.5202287999999999, -4.845663500000001, 26.324959999999997, 3.6543300000000003, -6.1471386, 26.32511, -3.6001947, -10.836144, 12.456642, -7.298462, 27.299286, 20.276514000000002, 16.785288, 20.277067000000002, 23.901009, -9.391226, 32.682945000000004, -10.958177000000001, 15.158748999999998, 34.103146, -1.5221776000000002, 33.453697, 20.02082, 0.6166461999999999], \"xaxis\": \"x\", \"y\": [5.97708, -11.774917, 0.13783370000000003, 11.515901, 35.836075, -4.9750013, -1.1391346000000002, 35.829502000000005, -8.335233, 34.453854, 1.274365, 8.896509, 34.45471, 1.2744469999999999, -11.362496, 37.392952, 2.9338398, 8.538484, 35.363640000000004, 1.6690363000000001, -6.5602837, -7.008906, -1.8805859, 6.566936500000001, -50.729557, 6.717960000000001, -0.10498165, -1.3437278, -10.633318, -0.4714108, 9.851194, 9.892921000000001, 35.086937, 0.24416402, -4.7870636, -4.6076803, -8.505844999999999, 37.765614, -3.8737042, -3.2679145, 33.846385999999995, 3.272067, 1.0404860999999999, -50.47712, 36.78884, 2.7163048, 5.663725, -50.1612, 37.941593, 1.6125461, -4.952716000000001, 36.015003, -0.052251168, -4.104954, -3.6258428, -6.494326999999999, -9.894345, -0.8890190999999998, -50.708187, 6.543531400000001, -6.802157000000001, -0.7184968, -15.680007000000002, -12.970296000000001, -2.204445, -15.674948, -2.9230384999999997, 10.021825999999999, 33.91603, 7.722338000000001, -3.9954312000000005, 35.26166, 3.0668101, 11.015999, 37.43224, 35.43916, 4.273969999999999, 1.9540253, 2.112234, 9.942056, 5.8430014, -1.3270255, 4.056269, 5.311985, -13.786812, 3.8034387, 5.93955, 3.7508857000000004, 4.797294, 36.361397, 2.1866672, -1.4752468, 3.546385, -3.0508432, -50.207806, -6.324640799999999, -6.993570299999999, -44.619385, 34.95608, -8.565411, -44.619385, -13.71509, -3.5735989999999997, -6.7072389999999995, 5.340005000000001, 4.8830028, 0.73801917, 5.100901, -13.846217000000001, -11.052369, -50.071926, 6.469776, -0.4111808, -43.686863, -3.1223414000000003, -13.23618, 2.0459810000000003, -0.31467480000000003, 4.900603, -44.509212, 2.3717377, 6.2650514, 10.318876, 34.15152, -6.155025, -48.0736, 0.76924604, -8.227681, -47.682613, 0.76924604, 3.1226587, -3.7031095, -46.89994, -6.249479, 3.6241999, 36.49238, 7.9771220000000005, -9.04331, -0.72533643, -48.414359999999995, 32.58748, 1.5949235000000002, 0.46291494, 0.5263505999999999, -43.272529999999996, -5.620851, -5.107792400000001, -0.29388353, -6.498729, -11.819360000000001, 39.10913, 11.836089999999999, -5.578355, -43.490829999999995, 8.718287, -6.496096, -7.7700458, -42.53634, 8.445696, -6.496096, 4.466547, -3.918611, -13.734632999999999, 12.555268, -1.1436757, -44.826747999999995, 6.2703843, -7.151166, 6.1115894, 5.554717500000001, -43.00326, 37.121426, 5.0211879999999995, -42.570034, 36.8372, 1.345777, -42.57053, -8.012964, 0.75547135, -46.92821, -0.22310229, -3.294341, -46.718340000000005, -7.931720299999999, 3.3118505, 3.4486294, -48.277527, 35.854626, 12.907524, -1.1428296999999998, 5.7761793, -47.91348, 37.670322, -12.352197, -50.365738, 34.294727, 12.521925999999999, -44.826747999999995, -2.7443779999999998, -4.083986, -44.830166, 36.679790000000004, -0.64747137, -2.8830485, -46.289190000000005, 36.166779999999996, -10.376192, -7.3105283, 1.9866586, -46.59969, -10.659846, 3.8374230000000003, -47.240482, 38.735683, 4.6745977, -3.5543106, -46.742, 38.735134, 4.6746316, 11.808778, -9.922903999999999, -43.171665000000004, 33.605090000000004, 11.587446, -1.332006, -46.442966, 33.60606, 11.587472, -5.477204, -3.237651, -10.846959, -47.660126, 34.593346000000004, 4.7041287, -7.7416587, -48.19555, 31.898663, 13.048705, -5.8493695, -47.321056, 31.898663, 12.141041, -5.881261299999999, -5.578355999999999, -47.204487, 5.132683, 6.4792175, -5.391416, -5.2584105, -6.8081474, 10.211275, -0.6004276999999999, 1.8923421999999999, -5.2988873, -5.2171, -0.9102402, -6.515578700000001, -5.0124235, -6.8598247, -47.340286, 3.6626724999999998, -47.517002000000005, 3.6626724999999998, -0.05923347, -43.765316, 3.3098955, 1.770289, -0.9624455, -1.2621652, 37.627007, -2.9620632999999996, 33.915420000000005, 8.004012, 5.939559, 1.9776293000000003, 5.3400335, 4.8829709999999995, 0.73801917, -48.3426, 32.587456, 1.594441, 0.46334517, -2.6624978, 37.487286, 11.836089999999999, -43.53951, -3.0417127999999996, 10.483585, -43.702, 33.6051, 11.587446, -47.00822, 34.59368, 9.151284, 5.595805599999999, 6.1599054, 8.234524, 1.3046986, -2.8830485, 10.311436, -4.1240883, -4.124093, 0.56472915, 11.080119999999999, -1.1547666, 5.971275299999999, -11.310637, -44.826747999999995, 12.698705, -1.33302, 5.7614355, 6.19961, 12.698705, -1.963632, -6.011821299999999, -7.592931699999999, 7.009563000000001, -5.67494, -4.290707599999999, -0.30361667, 38.369125, 1.5474238, -7.3370156, -2.4036632, 3.2855086000000004, -1.2652828999999999, -12.08216, -43.844414, -7.827087, -5.4391136, -5.718948, 3.583593, -9.733709, -5.71922, 6.667525, 5.7761292, 3.4711057999999997, -4.9209127, -8.279357000000001, -4.325940599999999, 4.645528, -12.897088, -43.74605, -5.2626805, 2.9290202, -12.077047, 0.22056338, 9.913428999999999, -1.6578810000000002, 5.761132, -4.220599, -11.215748, 3.3467917000000003, 4.0824537, 7.826438400000001, 12.998039, -46.78908, 36.40478, -6.3190084, -6.436184, -12.418199000000001, 12.006966, -12.670272, -46.29293, 35.885063, -7.7894735, -48.0005, 11.783924, 38.39178, -3.5361192000000004, -12.146233, 37.721140000000005, 37.720946999999995, 2.8429356, -6.1068172, 10.828247, -6.3251934, 38.855740000000004, -2.6110916, -4.1796975, -7.0398436, 4.5341059999999995, -46.04396, 39.702553, 12.814014, 0.5307044, -4.8065157, -13.5724535, -14.409061, -0.6611016, -46.14852, 35.885426, 1.645212, 38.367816999999995, 12.307178500000001, 5.6065593, -0.47141078, 9.851194, 9.822649, 10.86245, -43.34163, 1.5423479, 7.5133657000000005, -43.342293, 1.9212706000000002, 7.5133657000000005, 5.5406512999999995, 2.975371, -42.395824, -2.6527388, -42.395992, 3.5541384, 6.460732, -5.737423400000001, 2.3246248, -2.7612517000000003, -9.85257, 3.8293673999999998, 0.43659929999999997, -2.808363, -10.5258465, 4.834185, 0.42460445, -4.8218603, -43.341633, 7.396484399999999, 3.0559056, 38.08313, -4.832394, -9.108286999999999, -42.395824, -9.01843, -0.9952907, -5.852581, -0.5401994000000001, -1.9425694, 7.513365299999999, 3.4529479, -0.9952764999999999, 1.1827290000000001, 5.0764623, -8.134333999999999, 1.6425296000000003, -12.422788, 2.3639338, 7.3591466, -0.51844335, 8.327781, -3.3110836000000003, 5.042199, 0.25467414, -6.252551599999999, -5.4879, 4.4555516, -47.68927, -6.870859599999999, -45.90663, -0.29037791, -1.1642818000000001, -47.414367999999996, 7.933122999999999, -8.207886, 40.190304, 9.628843, 40.19016, 9.056362, 40.190666, 12.657197, -42.791767, 1.2839562, -42.788746, 5.739895, -3.456514, -7.197715299999999, 35.49903, -7.716540299999999, -2.8476095, 6.5511017, 8.703948, -8.863352, -5.7380233, -0.73577434, -10.586292, -10.63482, -1.1634948, -42.79177, -2.9725025, -42.792652000000004, -2.9725137000000004, 11.136349000000001, -0.17472434, 2.8163953, -7.6837387, -14.080010000000001, -12.243489, 36.611256, 4.450832, 1.5648011, 13.319745999999999, 1.1507291000000002, 13.319698, 36.945415000000004, 10.61945, 36.943084999999996, 7.821234, 11.125842, -50.83343, -13.494223999999999, 12.811865, -7.772532000000001, -2.2875360000000002, 14.348997, 10.123866, -1.1429114, -6.582638, 14.308010999999999, 10.12397, 3.1154978, 0.48502854, 14.307476999999999, 3.0578453999999997, 0.2418674, 14.348997, 3.5515697, 0.24322587, 14.351642000000002, 7.0509996, 0.24191123, 0.40894267, 32.55088, 8.485874, -1.3867952, 0.40894267, 1.2950760000000001, -1.476788, 10.45922, -0.792899, 5.767355, 3.6459370000000004, 4.1498404, 9.788706, 3.1159557999999996, -4.482094, 2.9798775, -4.482094, -1.2621652, 10.788250999999999, -1.2574286, 5.776178, 4.095582, -13.338296, 7.842103, 3.3912226999999997, 8.280231, 4.916551999999999, 1.9234301999999999, 9.270676, 10.070211, 1.9233206999999999, 9.270676, -1.0417048, 6.759364, 3.391121, 4.950067, 1.2072996, 0.48502794, -43.618793, 39.598236, 7.595471000000001, 4.9500237, -43.30559, 39.598366, 12.654497000000001, 4.916551999999999, 8.429363, -0.75954574, -5.737495, 6.448726000000001, -0.79484755, -5.737775, -4.600058, 13.984058, 35.644997, 5.415177, -0.7022478, -5.737495, 35.644978, 8.34891, -4.8627709999999995, -3.0544443, 35.645035, -3.4154720000000003, -3.718438, -43.702, 12.362042, -2.292075, -5.737775, -43.539295, 11.948588, 9.457036, 6.4222470000000005, 4.407103, -0.7184986999999999, 12.099942, 7.516223399999999, 4.6486683, 4.407103, 5.731334700000001, 4.479097, 4.22802, 9.253222000000001, -9.904086999999999, 6.970814999999999, 33.075835999999995, 11.846597000000001, 3.2774517999999997, -5.737775, 33.075676, 11.846603, -0.47854167, 9.253222000000001, -11.272967999999999, -11.618756, -13.250548, -43.539295, -6.385228, 6.891507000000001, -43.171665000000004, -6.3852444, 0.073501006, -10.895316000000001, 8.840056, -5.962696599999999, 0.84499454, 6.5225816, -5.736658, 0.84440833, -4.946623000000001, 9.011883000000001, 9.253223, -7.253775999999999, -10.045964, -8.126694, -4.0488787, -8.126737, -9.855685000000001, 1.0505996000000002, -2.993775, -42.395992, -8.430639999999999, -2.5913181, -5.2947917, -2.7376025, 0.49614695, 7.748831699999999], \"yaxis\": \"y\"}],\n",
       "                        {\"legend\": {\"tracegroupgap\": 0}, \"margin\": {\"t\": 60}, \"template\": {\"data\": {\"bar\": [{\"error_x\": {\"color\": \"#2a3f5f\"}, \"error_y\": {\"color\": \"#2a3f5f\"}, \"marker\": {\"line\": {\"color\": \"#E5ECF6\", \"width\": 0.5}}, \"type\": \"bar\"}], \"barpolar\": [{\"marker\": {\"line\": {\"color\": \"#E5ECF6\", \"width\": 0.5}}, \"type\": \"barpolar\"}], \"carpet\": [{\"aaxis\": {\"endlinecolor\": \"#2a3f5f\", \"gridcolor\": \"white\", \"linecolor\": \"white\", \"minorgridcolor\": \"white\", \"startlinecolor\": \"#2a3f5f\"}, \"baxis\": {\"endlinecolor\": \"#2a3f5f\", \"gridcolor\": \"white\", \"linecolor\": \"white\", \"minorgridcolor\": \"white\", \"startlinecolor\": \"#2a3f5f\"}, \"type\": \"carpet\"}], \"choropleth\": [{\"colorbar\": {\"outlinewidth\": 0, \"ticks\": \"\"}, \"type\": \"choropleth\"}], \"contour\": [{\"colorbar\": {\"outlinewidth\": 0, \"ticks\": \"\"}, \"colorscale\": [[0.0, \"#0d0887\"], [0.1111111111111111, \"#46039f\"], [0.2222222222222222, \"#7201a8\"], [0.3333333333333333, \"#9c179e\"], [0.4444444444444444, \"#bd3786\"], [0.5555555555555556, \"#d8576b\"], [0.6666666666666666, \"#ed7953\"], [0.7777777777777778, \"#fb9f3a\"], [0.8888888888888888, \"#fdca26\"], [1.0, \"#f0f921\"]], \"type\": \"contour\"}], \"contourcarpet\": [{\"colorbar\": {\"outlinewidth\": 0, \"ticks\": \"\"}, \"type\": \"contourcarpet\"}], \"heatmap\": [{\"colorbar\": {\"outlinewidth\": 0, \"ticks\": \"\"}, \"colorscale\": [[0.0, \"#0d0887\"], [0.1111111111111111, \"#46039f\"], [0.2222222222222222, \"#7201a8\"], [0.3333333333333333, \"#9c179e\"], [0.4444444444444444, \"#bd3786\"], [0.5555555555555556, \"#d8576b\"], [0.6666666666666666, \"#ed7953\"], [0.7777777777777778, \"#fb9f3a\"], [0.8888888888888888, \"#fdca26\"], [1.0, \"#f0f921\"]], \"type\": \"heatmap\"}], \"heatmapgl\": [{\"colorbar\": {\"outlinewidth\": 0, \"ticks\": \"\"}, \"colorscale\": [[0.0, \"#0d0887\"], [0.1111111111111111, \"#46039f\"], [0.2222222222222222, \"#7201a8\"], [0.3333333333333333, \"#9c179e\"], [0.4444444444444444, \"#bd3786\"], [0.5555555555555556, \"#d8576b\"], [0.6666666666666666, \"#ed7953\"], [0.7777777777777778, \"#fb9f3a\"], [0.8888888888888888, \"#fdca26\"], [1.0, \"#f0f921\"]], \"type\": \"heatmapgl\"}], \"histogram\": [{\"marker\": {\"colorbar\": {\"outlinewidth\": 0, \"ticks\": \"\"}}, \"type\": \"histogram\"}], \"histogram2d\": [{\"colorbar\": {\"outlinewidth\": 0, \"ticks\": \"\"}, \"colorscale\": [[0.0, \"#0d0887\"], [0.1111111111111111, \"#46039f\"], [0.2222222222222222, \"#7201a8\"], [0.3333333333333333, \"#9c179e\"], [0.4444444444444444, \"#bd3786\"], [0.5555555555555556, \"#d8576b\"], [0.6666666666666666, \"#ed7953\"], [0.7777777777777778, \"#fb9f3a\"], [0.8888888888888888, \"#fdca26\"], [1.0, \"#f0f921\"]], \"type\": \"histogram2d\"}], \"histogram2dcontour\": [{\"colorbar\": {\"outlinewidth\": 0, \"ticks\": \"\"}, \"colorscale\": [[0.0, \"#0d0887\"], [0.1111111111111111, \"#46039f\"], [0.2222222222222222, \"#7201a8\"], [0.3333333333333333, \"#9c179e\"], [0.4444444444444444, \"#bd3786\"], [0.5555555555555556, \"#d8576b\"], [0.6666666666666666, \"#ed7953\"], [0.7777777777777778, \"#fb9f3a\"], [0.8888888888888888, \"#fdca26\"], [1.0, \"#f0f921\"]], \"type\": \"histogram2dcontour\"}], \"mesh3d\": [{\"colorbar\": {\"outlinewidth\": 0, \"ticks\": \"\"}, \"type\": \"mesh3d\"}], \"parcoords\": [{\"line\": {\"colorbar\": {\"outlinewidth\": 0, \"ticks\": \"\"}}, \"type\": \"parcoords\"}], \"pie\": [{\"automargin\": true, \"type\": \"pie\"}], \"scatter\": [{\"marker\": {\"colorbar\": {\"outlinewidth\": 0, \"ticks\": \"\"}}, \"type\": \"scatter\"}], \"scatter3d\": [{\"line\": {\"colorbar\": {\"outlinewidth\": 0, \"ticks\": \"\"}}, \"marker\": {\"colorbar\": {\"outlinewidth\": 0, \"ticks\": \"\"}}, \"type\": \"scatter3d\"}], \"scattercarpet\": [{\"marker\": {\"colorbar\": {\"outlinewidth\": 0, \"ticks\": \"\"}}, \"type\": \"scattercarpet\"}], \"scattergeo\": [{\"marker\": {\"colorbar\": {\"outlinewidth\": 0, \"ticks\": \"\"}}, \"type\": \"scattergeo\"}], \"scattergl\": [{\"marker\": {\"colorbar\": {\"outlinewidth\": 0, \"ticks\": \"\"}}, \"type\": \"scattergl\"}], \"scattermapbox\": [{\"marker\": {\"colorbar\": {\"outlinewidth\": 0, \"ticks\": \"\"}}, \"type\": \"scattermapbox\"}], \"scatterpolar\": [{\"marker\": {\"colorbar\": {\"outlinewidth\": 0, \"ticks\": \"\"}}, \"type\": \"scatterpolar\"}], \"scatterpolargl\": [{\"marker\": {\"colorbar\": {\"outlinewidth\": 0, \"ticks\": \"\"}}, \"type\": \"scatterpolargl\"}], \"scatterternary\": [{\"marker\": {\"colorbar\": {\"outlinewidth\": 0, \"ticks\": \"\"}}, \"type\": \"scatterternary\"}], \"surface\": [{\"colorbar\": {\"outlinewidth\": 0, \"ticks\": \"\"}, \"colorscale\": [[0.0, \"#0d0887\"], [0.1111111111111111, \"#46039f\"], [0.2222222222222222, \"#7201a8\"], [0.3333333333333333, \"#9c179e\"], [0.4444444444444444, \"#bd3786\"], [0.5555555555555556, \"#d8576b\"], [0.6666666666666666, \"#ed7953\"], [0.7777777777777778, \"#fb9f3a\"], [0.8888888888888888, \"#fdca26\"], [1.0, \"#f0f921\"]], \"type\": \"surface\"}], \"table\": [{\"cells\": {\"fill\": {\"color\": \"#EBF0F8\"}, \"line\": {\"color\": \"white\"}}, \"header\": {\"fill\": {\"color\": \"#C8D4E3\"}, \"line\": {\"color\": \"white\"}}, \"type\": \"table\"}]}, \"layout\": {\"annotationdefaults\": {\"arrowcolor\": \"#2a3f5f\", \"arrowhead\": 0, \"arrowwidth\": 1}, \"coloraxis\": {\"colorbar\": {\"outlinewidth\": 0, \"ticks\": \"\"}}, \"colorscale\": {\"diverging\": [[0, \"#8e0152\"], [0.1, \"#c51b7d\"], [0.2, \"#de77ae\"], [0.3, \"#f1b6da\"], [0.4, \"#fde0ef\"], [0.5, \"#f7f7f7\"], [0.6, \"#e6f5d0\"], [0.7, \"#b8e186\"], [0.8, \"#7fbc41\"], [0.9, \"#4d9221\"], [1, \"#276419\"]], \"sequential\": [[0.0, \"#0d0887\"], [0.1111111111111111, \"#46039f\"], [0.2222222222222222, \"#7201a8\"], [0.3333333333333333, \"#9c179e\"], [0.4444444444444444, \"#bd3786\"], [0.5555555555555556, \"#d8576b\"], [0.6666666666666666, \"#ed7953\"], [0.7777777777777778, \"#fb9f3a\"], [0.8888888888888888, \"#fdca26\"], [1.0, \"#f0f921\"]], \"sequentialminus\": [[0.0, \"#0d0887\"], [0.1111111111111111, \"#46039f\"], [0.2222222222222222, \"#7201a8\"], [0.3333333333333333, \"#9c179e\"], [0.4444444444444444, \"#bd3786\"], [0.5555555555555556, \"#d8576b\"], [0.6666666666666666, \"#ed7953\"], [0.7777777777777778, \"#fb9f3a\"], [0.8888888888888888, \"#fdca26\"], [1.0, \"#f0f921\"]]}, \"colorway\": [\"#636efa\", \"#EF553B\", \"#00cc96\", \"#ab63fa\", \"#FFA15A\", \"#19d3f3\", \"#FF6692\", \"#B6E880\", \"#FF97FF\", \"#FECB52\"], \"font\": {\"color\": \"#2a3f5f\"}, \"geo\": {\"bgcolor\": \"white\", \"lakecolor\": \"white\", \"landcolor\": \"#E5ECF6\", \"showlakes\": true, \"showland\": true, \"subunitcolor\": \"white\"}, \"hoverlabel\": {\"align\": \"left\"}, \"hovermode\": \"closest\", \"mapbox\": {\"style\": \"light\"}, \"paper_bgcolor\": \"white\", \"plot_bgcolor\": \"#E5ECF6\", \"polar\": {\"angularaxis\": {\"gridcolor\": \"white\", \"linecolor\": \"white\", \"ticks\": \"\"}, \"bgcolor\": \"#E5ECF6\", \"radialaxis\": {\"gridcolor\": \"white\", \"linecolor\": \"white\", \"ticks\": \"\"}}, \"scene\": {\"xaxis\": {\"backgroundcolor\": \"#E5ECF6\", \"gridcolor\": \"white\", \"gridwidth\": 2, \"linecolor\": \"white\", \"showbackground\": true, \"ticks\": \"\", \"zerolinecolor\": \"white\"}, \"yaxis\": {\"backgroundcolor\": \"#E5ECF6\", \"gridcolor\": \"white\", \"gridwidth\": 2, \"linecolor\": \"white\", \"showbackground\": true, \"ticks\": \"\", \"zerolinecolor\": \"white\"}, \"zaxis\": {\"backgroundcolor\": \"#E5ECF6\", \"gridcolor\": \"white\", \"gridwidth\": 2, \"linecolor\": \"white\", \"showbackground\": true, \"ticks\": \"\", \"zerolinecolor\": \"white\"}}, \"shapedefaults\": {\"line\": {\"color\": \"#2a3f5f\"}}, \"ternary\": {\"aaxis\": {\"gridcolor\": \"white\", \"linecolor\": \"white\", \"ticks\": \"\"}, \"baxis\": {\"gridcolor\": \"white\", \"linecolor\": \"white\", \"ticks\": \"\"}, \"bgcolor\": \"#E5ECF6\", \"caxis\": {\"gridcolor\": \"white\", \"linecolor\": \"white\", \"ticks\": \"\"}}, \"title\": {\"x\": 0.05}, \"xaxis\": {\"automargin\": true, \"gridcolor\": \"white\", \"linecolor\": \"white\", \"ticks\": \"\", \"title\": {\"standoff\": 15}, \"zerolinecolor\": \"white\", \"zerolinewidth\": 2}, \"yaxis\": {\"automargin\": true, \"gridcolor\": \"white\", \"linecolor\": \"white\", \"ticks\": \"\", \"title\": {\"standoff\": 15}, \"zerolinecolor\": \"white\", \"zerolinewidth\": 2}}}, \"xaxis\": {\"anchor\": \"y\", \"domain\": [0.0, 1.0], \"title\": {\"text\": \"x\"}}, \"yaxis\": {\"anchor\": \"x\", \"domain\": [0.0, 1.0], \"title\": {\"text\": \"y\"}}},\n",
       "                        {\"responsive\": true}\n",
       "                    ).then(function(){\n",
       "                            \n",
       "var gd = document.getElementById('2e69471c-79fc-4735-bb08-be80cb31ee2b');\n",
       "var x = new MutationObserver(function (mutations, observer) {{\n",
       "        var display = window.getComputedStyle(gd).display;\n",
       "        if (!display || display === 'none') {{\n",
       "            console.log([gd, 'removed!']);\n",
       "            Plotly.purge(gd);\n",
       "            observer.disconnect();\n",
       "        }}\n",
       "}});\n",
       "\n",
       "// Listen for the removal of the full notebook cells\n",
       "var notebookContainer = gd.closest('#notebook-container');\n",
       "if (notebookContainer) {{\n",
       "    x.observe(notebookContainer, {childList: true});\n",
       "}}\n",
       "\n",
       "// Listen for the clearing of the current output cell\n",
       "var outputEl = gd.closest('.output');\n",
       "if (outputEl) {{\n",
       "    x.observe(outputEl, {childList: true});\n",
       "}}\n",
       "\n",
       "                        })\n",
       "                };\n",
       "                });\n",
       "            </script>\n",
       "        </div>"
      ]
     },
     "metadata": {},
     "output_type": "display_data"
    }
   ],
   "source": [
    "import pandas as pd\n",
    "import chart_studio.plotly as py\n",
    "import plotly.graph_objects as go\n",
    "import plotly.express as px\n",
    "\n",
    "df = pd.read_csv(\"data/tsne_vectors5.csv\")\n",
    "\n",
    "# fig = px.scatter(df, x='x', y='y')\n",
    "\n",
    "fig = go.Figure()\n",
    "\n",
    "# fig.add_trace(go.Scatter(\n",
    "#     x=df['x'],\n",
    "#     y=df['y'],\n",
    "#     hovertext=df['text'],\n",
    "#     mode='markers'\n",
    "# #     hoverinfo=\"text\",\n",
    "# #     showlegend=False\n",
    "# ))\n",
    "\n",
    "# fig = go.Figure(data=go.Scatter(x=df['x'],\n",
    "#                                 y=df['y'],\n",
    "#                                 mode='markers',\n",
    "#                                 text=df['text'])) # hover text goes h\n",
    "\n",
    "fig = px.scatter(df, x='x', y='y',\n",
    "                 hover_data=[\"input_text\", \"bot_text\",\"intent\",\"entities\",\"action\"]\n",
    "                )\n",
    "\n",
    "fig.show()\n",
    "x = 0\n"
   ]
  },
  {
   "cell_type": "code",
   "execution_count": null,
   "metadata": {},
   "outputs": [],
   "source": []
  },
  {
   "cell_type": "code",
   "execution_count": null,
   "metadata": {},
   "outputs": [],
   "source": []
  },
  {
   "cell_type": "code",
   "execution_count": null,
   "metadata": {},
   "outputs": [],
   "source": []
  },
  {
   "cell_type": "code",
   "execution_count": null,
   "metadata": {},
   "outputs": [],
   "source": []
  }
 ],
 "metadata": {
  "kernelspec": {
   "display_name": "Python 3",
   "language": "python",
   "name": "python3"
  },
  "language_info": {
   "codemirror_mode": {
    "name": "ipython",
    "version": 3
   },
   "file_extension": ".py",
   "mimetype": "text/x-python",
   "name": "python",
   "nbconvert_exporter": "python",
   "pygments_lexer": "ipython3",
   "version": "3.7.6"
  }
 },
 "nbformat": 4,
 "nbformat_minor": 4
}
