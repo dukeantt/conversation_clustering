{
 "cells": [
  {
   "cell_type": "code",
   "execution_count": 2,
   "metadata": {},
   "outputs": [
    {
     "data": {
      "application/vnd.plotly.v1+json": {
       "config": {
        "plotlyServerURL": "https://plot.ly"
       },
       "data": [
        {
         "customdata": [
          [
           "máy tiệt trùng uv đã có chưa ạ",
           "Hiện tại sản phẩm Máy tiệt trùng  shop đang có nhữ-<br>",
           "query_knowledge_base",
           "['object_type:may_tiet_trung']",
           "action_query_babe_kb"
          ],
          [
           "/confirm_attribute_value{\"price\": \"500-1M\"}",
           "Mời bạn click vào \"Xem chi tiết\" để tham khảo sản -<br> phẩm hiện có tại shop nhé!\n<card sp 1> <card sp 2>-<br>",
           "confirm_attribute_value",
           "['price:500-1M']",
           "action_query_babe_kb"
          ],
          [
           "máy tiệt trùng uv đã có chưa ạ",
           "Máy tiệt trùng uv hiện hết hàng mời bạn tham khảo -<br> các sản phẩm khác của shop\nRecommend <sp1> <sp2> <-<br>",
           "query_knowledge_base",
           "['object_type:may_tiet_trung']",
           "action_query_babe_kb"
          ],
          [
           "Khi nào thì có hàng mới ạ",
           "Khoảng một tuần sau có hàng ạ",
           "query_knowledge_base",
           null,
           "action_query_babe_kb"
          ],
          [
           "url",
           "Bạn đang tìm kiếm thông tin gì ạ?",
           "send_link",
           "url",
           "action_handle_send_link_only"
          ],
          [
           "E ơi còn giấy khô này k?",
           "Khăn khô đa năng MIPBI 600gr hiện đang có giá là 6-<br> 1.000 (Giá gốc: 70.000) mời bạn tham khảo:\n<show c-<br>",
           "query_knowledge_base",
           "['object_type:khan','mention:này']",
           "action_query_babe_kb"
          ],
          [
           "Đúng r ạ",
           "Dạ, vâng ạ. ",
           "agree",
           null,
           "utter_agree"
          ],
          [
           "url",
           "Bạn đang tìm kiếm thông tin gì ạ?",
           "send_link",
           "url",
           "action_handle_send_link_only"
          ],
          [
           "E ơi còn giấy khô này k?",
           "Khăn khô đa năng MIPBI 600gr  hiện hết hàng mời bạ-<br> n tham khảo các sản phẩm khác của shop\nRecommend <-<br>",
           "query_knowledge_base",
           "['object_type:khan','mention:này']",
           "action_query_babe_kb"
          ],
          [
           "url",
           "Bạn đang tìm kiếm thông tin gì ạ?",
           "send_link",
           "url",
           "action_handle_send_link_only"
          ],
          [
           "Bn vậy shop ơi",
           "Sản phẩm  BẢNG VẼ HOLLA 2 in 1  hiện shop đang có -<br> giá: 830,000 VND (giá gốc 1,090,000 VND).\nBạn tham-<br>",
           "query_knowledge_base",
           "['attribute:price']",
           "action_query_babe_kb"
          ],
          [
           "Có trên shopee k shop",
           "Dạ mời bạn tham khảo sản phẩm BẢNG VẼ HOLLA 2 in 1-<br>",
           "query_knowledge_base",
           "['attribute:link']",
           "action_query_babe_kb"
          ],
          [
           "url",
           "Bạn đang tìm kiếm thông tin gì ạ?",
           "send_link",
           "url",
           "action_handle_send_link_only"
          ],
          [
           "Bn vậy shop ơi",
           "Sản phẩm  BẢNG VẼ HOLLA 2 in 1  hiện shop đang có -<br> giá: 830,000 VND (giá gốc 1,090,000 VND).\nBạn tham-<br>",
           "query_knowledge_base",
           "['attribute:price']",
           "action_query_babe_kb"
          ],
          [
           "Bảo hành bao lâu ạ",
           "\"Dạ BẢNG VẼ HOLLA 2 in 1 bảo hành 12 tháng ạ. {chí-<br>",
           "query_knowledge_base",
           "['attribute:guarantee']",
           "action_query_babe_kb"
          ],
          [
           "url",
           "Bạn đang tìm kiếm thông tin gì ạ?",
           "send_link",
           "url",
           "action_handle_send_link_only"
          ],
          [
           "Bộ này bn shop",
           "Sản phẩm  BẢNG VẼ HOLLA 2 in 1  hiện shop đang có -<br> giá: 830,000 VND (giá gốc 1,090,000 VND).\nBạn tham-<br>",
           "query_knowledge_base",
           "['mention:bộ này', 'attribute:price']",
           "action_query_babe_kb"
          ],
          [
           "Sản xuất ở đâu ạ",
           "Dạ BẢNG VẼ HOLLA 2 in 1 có xuất xứ từ Trung Quốc ạ-<br>",
           "query_knowledge_base",
           "['attribute:origin']",
           "action_query_babe_kb"
          ],
          [
           "url",
           "Bạn đang tìm kiếm thông tin gì ạ?",
           "send_link",
           "url",
           "action_handle_send_link_only"
          ],
          [
           "Cho t xin giá nhé",
           "Sản phẩm  BẢNG VẼ HOLLA 2 in 1  hiện shop đang có -<br> giá: 830,000 VND (giá gốc 1,090,000 VND).\nBạn tham-<br>",
           "query_knowledge_base",
           "['attribute:price']",
           "action_query_babe_kb"
          ],
          [
           "Làm bằng nhựa à ",
           "Dạ sản phẩm làm từ nhựa ạ\nBạn tham khảo các sản ph-<br>",
           "query_knowledge_base",
           "['material:bằng nhựa']",
           "action_query_babe_kb"
          ],
          [
           "Bộ holla vương miện giá tnao bạn",
           "Sản phẩm  COMBO HOLLA FULL PHIÊN BẢN 2020 MẪU VƯƠN-<br> G MIỆN  hiện shop đang có giá: 500,000 VND (giá gố-<br> c 500,000 VND).\nBạn tham khảo các sản phẩm sau nhé-<br>",
           "query_knowledge_base",
           "['brand:holla', 'attribute:price','type:vương miện']",
           "action_query_babe_kb"
          ],
          [
           "Nước nào sản xuất ạ ?",
           "Dạ COMBO HOLLA FULL PHIÊN BẢN 2020 MẪU VƯƠNG MIỆN -<br> có xuất xứ từ Trung Quốc ạ\n(xuất xứ trong phần mô -<br>",
           "query_knowledge_base",
           "['attribute:origin']",
           "action_query_babe_kb"
          ],
          [
           "ok shop",
           "Dạ,vâng ạ",
           "agree",
           null,
           "utter_agree"
          ],
          [
           "bạn ơi",
           "Chào bạn, mình là trợ lý ảo của Shop Gấu & Bí Ngô,-<br>",
           "greet",
           null,
           "utter_greet"
          ],
          [
           "cho mình hỏi",
           "Dạ,vâng",
           "want_to_query",
           null,
           "utter_want_to_query"
          ],
          [
           "mình muốn mua câu trượt cho bé thì m nên chọn loại-<br>",
           "(Bắt được ảnh gửi tiếp theo mới trả lời user)",
           "query_knowledge_base",
           "['object_type:cau_truot', 'attribute:price']",
           "query_knowledge_base"
          ],
          [
           "url",
           "Sản phẩm  cầu trượt  hiện shop đang có giá: 500,00-<br> 0 VND (giá gốc 500,000 VND).\r\nBạn tham khảo các sả-<br>",
           "send_link",
           "url",
           "action_handle_send_link_only"
          ],
          [
           "Loại này bn vậy bạn",
           "(Bắt được ảnh gửi tiếp theo mới trả lời user)",
           "query_knowledge_base",
           "['mention:loại này', 'attribute:price']",
           "action_query_babe_kb"
          ],
          [
           "url",
           "Sản phẩm  BẢNG VẼ HOLLA 2 in 1  hiện shop đang có -<br> giá: 830,000 VND (giá gốc 1,090,000 VND).\nBạn tham-<br>",
           "send_link",
           "url",
           "action_query_babe_kb"
          ],
          [
           "Có những màu gì ạ ?",
           "Dạ, BẢNG VẼ HOLLA 2 in 1 hiện có các màu: Hồng, Xa-<br>",
           "query_knowledge_base",
           "['attribute:color']",
           "action_query_babe_kb"
          ],
          [
           "Để mình tham khảo thêm , có gì mình báo sớm",
           "Dạ,vâng ạ",
           "finish_conv",
           null,
           "action_finish_conv"
          ],
          [
           "url",
           "Bạn đang tìm kiếm thông tin gì ạ?",
           "send_link",
           "url",
           "action_handle_send_link_only"
          ],
          [
           "Giá bnh shop",
           "Sản phẩm BẢNG VẼ HOLLA 2 in 1 hiện shop đang có gi-<br> á: *830,000 VND (giá gốc 1,090,000 VND)*.\r\nBạn tha-<br>",
           "query_knowledge_base",
           "['attribute:price']",
           "action_query_babe_kb"
          ],
          [
           "url",
           "Sản phẩm NGỰA BẬP BÊNH HOLLA 2020 hiện shop đang c-<br> ó giá: *580,000 VND (giá gốc 800,000 VND)*.\r\nBạn t-<br>",
           "send_link",
           "url",
           "action_handle_send_link_only"
          ],
          [
           "Ngựa này thì sao",
           "Dạ, sản phẩmNGỰA BẬP BÊNH HOLLA 2020hiện tại bên s-<br> hop đang tạm hết hàng ạ. Bạn tham khảo các sản phẩ-<br> m khác dành cho bé nhé!Dạ, sản phẩm Ngựa Bập Bệnh -<br> hiện tại bên shop đang tạm hết hàng ạ. Bạn tham kh-<br>",
           "query_knowledge_base",
           "['object_type:Ngựa',\n'mention:này']",
           "action_query_babe_kb"
          ],
          [
           "thank sh",
           "Dạ, cảm ơn ạ!",
           "thank",
           null,
           "utter_thank"
          ],
          [
           "url",
           "Bạn đang tìm kiếm thông tin gì ạ?",
           "send_link",
           "url",
           "action_handle_send_link_only"
          ],
          [
           "Bộ này bn vậy shop",
           "COMBO HOLLA FULL PHIÊN BẢN 2020 MẪU VƯƠNG MIỆN hiệ-<br> n shop đang có giá: 4100000 VND (giá gốc 5000000 V-<br> ND). Bạn tham khảo các sản phẩm sau nhé ạ: <show s-<br>",
           "query_knowledge_base",
           "['mention:bộ này', 'attribute:price']",
           "action_query_babe_kb"
          ],
          [
           "Nước nào sản xuất ",
           "Dạ COMBO HOLLA FULL PHIÊN BẢN 2020 MẪU VƯƠNG MIỆN -<br> có xuất xứ từ Trung Quốc ạ\n(xuất xứ trong phần mô -<br>",
           "query_knowledge_base",
           "['attribute:origin']",
           "action_query_babe_kb"
          ],
          [
           "url",
           "Bạn đang tìm kiếm thông tin gì ạ?",
           "send_link",
           "url",
           "action_handle_send_link_only"
          ],
          [
           "2 bộ này bn ạ",
           "Bộ đồ chơi nhà bếp thông minh hiện shop đang có gi-<br> á: 790000 VND (giá gốc 790000 VND). Bạn tham khảo -<br>",
           "query_knowledge_base",
           "['mention:bộ này', 'attribute:price']",
           "action_query_babe_kb"
          ],
          [
           "chất liệu gì thế",
           "Dạ sản phẩm làm từ nhựa ạ\r\nBạn tham khảo các sản p-<br>",
           "query_knowledge_base",
           "['attribute:material']",
           "action_query_babe_kb"
          ],
          [
           "bạn ơi",
           "Chào bạn, mình là trợ lý ảo của Shop Gấu & Bí Ngô,-<br>",
           "greet",
           null,
           "utter_greet"
          ],
          [
           "url",
           "Bạn đang tìm kiếm thông tin gì ạ?",
           "send_link",
           "url",
           "action_handle_send_link_only"
          ],
          [
           "Bn một bộ này vậy shop",
           "Sản phẩm  BẢNG VẼ HOLLA 2 in 1  hiện shop đang có -<br> giá: 830,000 VND (giá gốc 1,090,000 VND).\nBạn tham-<br>",
           "query_knowledge_base",
           "['attribute:price', 'mention:bộ này']",
           "action_query_babe_kb"
          ],
          [
           "Cả bộ hả b ?",
           "Dạ,vâng ạ",
           "query_knowledge_base",
           null,
           "action_query_babe_kb"
          ],
          [
           "bạn ơi",
           "Chào bạn, mình là trợ lý ảo của Shop Gấu & Bí Ngô,-<br>",
           "greet",
           null,
           "utter_greet"
          ],
          [
           "url",
           "Bạn đang tìm kiếm thông tin gì ạ?",
           "send_link",
           "url",
           "action_handle_send_link_only"
          ],
          [
           "Bộ nay bn b",
           "Sản phẩm  BẢNG VẼ HOLLA 2 in 1  hiện shop đang có -<br> giá: 830,000 VND (giá gốc 1,090,000 VND).\nBạn tham-<br>",
           "query_knowledge_base",
           "['mention:bộ nay', 'attribute:price']",
           "action_query_babe_kb"
          ],
          [
           "Mấy chữ trên bản\r\nLa co sẵn lun hay la k co ạ",
           "Sản phẩm  BẢNG VẼ HOLLA 2 in 1 bao gồm các phụ kiệ-<br> n sau: bộ chữ, bộ số và bút nước\nBạn tham khảo sản-<br>",
           "query_knowledge_base",
           "['attribute:accessories']",
           "action_query_babe_kb"
          ],
          [
           "url",
           "Bạn đang tìm kiếm thông tin gì ạ?",
           "send_link",
           "url",
           "action_handle_send_link_only"
          ],
          [
           "Bn shop oi",
           "Sản phẩm  BẢNG VẼ HOLLA 2 in 1  hiện shop đang có -<br> giá: 830,000 VND (giá gốc 1,090,000 VND).\nBạn tham-<br>",
           "query_knowledge_base",
           "['attribute:price']",
           "utter_greet"
          ],
          [
           "Chiều nay ship luôn cho mình được không",
           "Bạn cho shop xin địa chỉ nhận hàng ạ.",
           "time_ship",
           null,
           "action_time_ship"
          ],
          [
           "số 7 tràng thi",
           "Với địa chỉ số 7 tràng thi shop có thể ship hàng đ-<br>",
           null,
           null,
           null
          ],
          [
           "Thanh chắn cầu thang bn a",
           "Sản phẩm thanh chắn cầu thang hiện shop đang có gi-<br> á: 830,000 VND (giá gốc 1,090,000 VND).\nBạn tham k-<br>",
           "query_knowledge_base",
           "['attribute:price']['object_type:thanh_chan_cau_thang']",
           "action_query_babe_kb"
          ],
          [
           "kích thước tn shop",
           "Dạ, thanh chắn cầu thang có (các-nhiều kích thước)-<br>  kích thước: 74x83x 77cm ạ. \n<show card sản phẩm> -<br>",
           "query_knowledge_base",
           "['attribute:size']",
           "action_query_babe_kb"
          ],
          [
           "ok shop",
           "Dạ,vâng",
           "agree",
           null,
           "utter_agree"
          ],
          [
           "bạn ơi",
           "Chào bạn, mình là trợ lý ảo của Shop Gấu & Bí Ngô,-<br>",
           "greet",
           null,
           "utter_greet"
          ],
          [
           "Bộ đồ chơi nấu ăn giá bn ạ",
           "Mình chưa xác định được món đồ bạn hỏi, bạn mô tả -<br>",
           "query_knowledge_base",
           "['attribute:price']",
           "action_query_babe_kb"
          ],
          [
           "url",
           "Bộ đồ chơi nhà bếp thông minh hiện shop đang có gi-<br> á: 790000 VND (giá gốc 790000 VND). Bạn tham khảo -<br>",
           "send_link",
           "url",
           "action_handle_send_link_only"
          ],
          [
           "ok shop",
           "Dạ,vâng",
           "agree",
           null,
           "utter_agree"
          ],
          [
           "url",
           "action_handle_send_link_only",
           "send_link",
           "url",
           "action_handle_send_link_only"
          ],
          [
           "Thanh 36cm lắp thêm vào chỗ hẹp cũng đc phải ko a,-<br>",
           "Cho mình xin chiều rộng cầu thang nhà bạn ạ ?",
           "to_compare",
           "['size:36cm', 'size:12cm']",
           "action_to_compare"
          ],
          [
           "0,5m ạ",
           "Dạ sản phẩm thanh 36 cm và 12 cm lắp được với cầu -<br>",
           "query_knowledge_base",
           "['size:0,5m']",
           "action_query_babe_kb"
          ],
          [
           "url",
           "action_handle_send_link_only",
           "send_link",
           "url",
           "action_handle_send_link_only"
          ],
          [
           "Ngựa này hàng về hả shop?",
           "Sản phẩm  NGỰA BẬP BÊNH HOLLA 2020  hiện shop có h-<br> àng và đang có giá: 580000\n VND (giá gốc 800000 VN-<br> D).\nBạn tham khảo các sản phẩm sau nhé ạ:\n<show sp-<br>",
           "query_knowledge_base",
           "['object_type:ngua_bap_benh', 'mention:này']",
           "action_query_babe_kb"
          ],
          [
           "Bên mình có mã giảm giá shopee k shop?",
           "Hiện shop không có mã giảm giá shopee cho sản phẩm-<br>",
           "query_knowledge_base",
           "['attribute:promotion','attribute:codediscount']",
           "action_query_babe_kb"
          ],
          [
           "url",
           "Bạn đang tìm kiếm thông tin gì ạ?",
           "send_link",
           "url",
           "action_handle_send_link_only"
          ],
          [
           "Bạn ơi bộ này bao tiền ạ",
           "Sản phẩm  BẢNG VẼ HOLLA 2 in 1  hiện shop đang có -<br> giá: 830,000 VND (giá gốc 1,090,000 VND).\nBạn tham-<br>",
           "query_knowledge_base",
           "['mention:bộ này', 'attribute:price']",
           "action_query_babe_kb"
          ],
          [
           " bao gồm cả bộ chữ, số ở trên bảng + bút nước à b",
           "Sản phẩm  BẢNG VẼ HOLLA 2 in 1 bao gồm các phụ kiệ-<br> n sau: bộ chữ, bộ số và bút nước\nBạn tham khảo sản-<br>",
           "query_knowledge_base",
           "\n['accessories:bộ chữ']['accessories:bộ số']['accessories:bút nước']",
           "action_query_babe_kb"
          ],
          [
           "url",
           "Bạn đang tìm kiếm thông tin gì ạ?",
           "send_link",
           "url",
           "action_handle_send_link_only"
          ],
          [
           "Bộ này bao nhiêu vậy shop ơi",
           "Sản phẩm  BẢNG VẼ HOLLA 2 in 1  hiện shop đang có -<br> giá: 830,000 VND (giá gốc 1,090,000 VND).\nBạn tham-<br>",
           "query_knowledge_base",
           "['mention:bộ này', 'attribute:price']",
           "action_query_babe_kb"
          ],
          [
           "Mình có bảng vẽ đa năng cho bé mà k đi liền với bà-<br>",
           "Sản phẩm bảng vẽ mà không đi liền với bàn hiện sho-<br> p có những sản phẩm sau mời bạn tham khảo:\n<sp1><s-<br>",
           "query_knowledge_base",
           null,
           "action_query_babe_kb"
          ],
          [
           "url",
           "Bạn đang tìm kiếm thông tin gì ạ?",
           "send_link",
           "url",
           "action_handle_send_link_only"
          ],
          [
           "url",
           "Bạn đang tìm kiếm thông tin gì ạ?",
           "send_link",
           "url",
           "action_handle_send_link_only"
          ],
          [
           "Báo giá giúp mình",
           "Sản phẩm  BẢNG VẼ HOLLA 2 in 1  hiện shop đang có -<br> giá: 830,000 VND (giá gốc 1,090,000 VND).\nBạn tham-<br>",
           "query_knowledge_base",
           "['attribute:price']",
           "action_query_babe_kb"
          ],
          [
           "Gồm bảng, ghế và gì nữa ko shop",
           null,
           "query_knowledge_base",
           "['attribute:accessories']",
           "action_query_babe_kb"
          ],
          [
           "url",
           "Sản phẩm  BẢNG VẼ HOLLA 2 in 1 bao gồm các phụ kiệ-<br> n sau: bộ chữ, bộ số và bút nước ạ\nBạn tham khảo s-<br>",
           "send_link",
           "url",
           "action_handle_send_link_only"
          ],
          [
           "Mình có bảng vẽ đa năng cho bé mà k đi liền với gh-<br>",
           "Sản phẩm bảng vẽ mà không đi liền với ghế hiện sho-<br> p có những sản phẩm sau mời bạn tham khảo:\n<sp1><s-<br>",
           "query_knowledge_base",
           "['aobject_type:bang_ve']",
           "action_query_babe_kb"
          ],
          [
           "Mẫu cầu trượt này báo giá giúp e nhé",
           null,
           "query_knowledge_base",
           "['object_type:cau_truot', 'mention:này', 'attribute:price']",
           "action_query_babe_kb"
          ],
          [
           "url",
           "Sản phẩm  cầu trượt  hiện shop đang có giá: 830,00-<br> 0 VND (giá gốc 1,090,000 VND).\nBạn tham khảo sản p-<br>",
           "send_link",
           "url",
           "action_handle_send_link_only"
          ],
          [
           "Dùng cho bé bao tháng ạ",
           "Cầu trượt có độ tuổi sử dụng 0-36 tháng \nBạn tham -<br>",
           "query_knowledge_base",
           "['attribute:age_of_use']",
           "action_query_babe_kb"
          ],
          [
           "Báo giá giúp mình bảng vẽ Hola nhé\n1 bộ bao gồm nh-<br>",
           "Sản phẩm  BẢNG VẼ HOLLA 2 in 1  hiện shop đang có -<br> giá: 830,000 VND (giá gốc 1,090,000 VND).\nSản phẩm-<br>  BẢNG VẼ HOLLA 2 in 1 bao gồm các phụ kiện sau: bộ-<br>  chữ, bộ số và bút nước ạ Bạn tham khảo sản phẩm s-<br>",
           "query_knowledge_base",
           "['attribute:price','object_type:bang_ve','brand:hola','attribute:accessories']",
           "action_query_babe_kb"
          ],
          [
           "url",
           null,
           "send_link",
           "url",
           "action_handle_send_link_only"
          ],
          [
           "có trên shopee không shop",
           "Mời bạn tham khảo link shopee của sản phẩm:\n<show -<br>",
           "query_knowledge_base",
           "['attribute:link']",
           "action_query_babe_kb"
          ],
          [
           "Cho m xem màu",
           "Mình chưa xác định được món đồ bạn hỏi, bạn mô tả -<br>",
           "query_knowledge_base",
           "['attribute:color']",
           "action_query_babe_kb"
          ],
          [
           "Ghế ăn dặm newber ạ",
           "Dạ, sản phẩm Ghế Ăn hãng sản xuất Newber hiện tại -<br> đang có các màu sau ạ : hồng, xanh\nBạn tham khảo s-<br>",
           "query_knowledge_base",
           "['object_type:ghe_an', 'brand:newber']",
           "action_query_babe_kb"
          ],
          [
           "bé bao tuổi thì ngồi được ạ",
           "Ghế Ăn hãng sản xuất Newber có độ tuổi sử dụng 0-3-<br> 6 tháng \nBạn tham khảo sản phẩm sau nhé ạ:\n<show s-<br>",
           "query_knowledge_base",
           "['attribute:age_of_use']",
           "action_query_babe_kb"
          ],
          [
           "url",
           "Bạn đang tìm kiếm thông tin gì ạ?",
           "send_link",
           "url",
           "action_handle_send_link_only"
          ],
          [
           "Bản cho bé 2 tuoi bao nh ạ",
           "Sản phẩm BẢNG VẼ HOLLA 2 in 1 hiện shop đang có gi-<br> á: *830,000 VND (giá gốc 1,090,000 VND)*.\r\nBạn tha-<br>",
           "query_knowledge_base",
           "['age_of_use:2 tuoi', 'attribute:price']",
           "action_query_babe_kb"
          ],
          [
           "ok shop",
           "Dạ,vâng",
           "agree",
           null,
           "utter_agree"
          ],
          [
           "Bạn ơi ship cho mình 1 thanh chắn cửa và 1 thanh n-<br>",
           "\"Cảm ơn bạn! Bạn vui lòng điền thông tin vào Mẫu đ-<br> ặt hàng giúp shop nhé!\n<Show ra cái bảng mẫu đặt h-<br> àng: có tên sản phẩm, cho khách tùy chọn số lượng,-<br>",
           "query_knowledge_base",
           "['object_type:thanh_chan_cua','object_type:thanh_noi','attribute:ship'size:12cm]",
           null
          ],
          [
           null,
           "Bạn đã đặt hàng thành công , đơn hàng sẽ đc gioa đ-<br>",
           "agree",
           null,
           "action_query_babe_kb"
          ],
          [
           "bạn ơi",
           "Chào bạn, mình là trợ lý ảo của Shop Gấu & Bí Ngô,-<br>",
           "greet",
           null,
           "utter_greet"
          ],
          [
           "shop ơi mình cần mua váy vắt sửa\nsưa",
           "Hiện tại sản phẩm máy hút sữa shop đang có những g-<br>",
           "query_knowledge_base",
           "['object_type:may_hut_sua']",
           "action_query_babe_kb"
          ],
          [
           "/query_knowledge_base{\"price\": \"1M - 2M\"}\t",
           "Mời bạn click vào \"Xem chi tiết\" để tham khảo sản -<br> phẩm hiện có tại shop nhé!\r\n<card sp 1> <card sp 2-<br>",
           "query_knowledge_base",
           null,
           "action_query_babe_kb"
          ],
          [
           "Alo",
           "Chào bạn, mình là trợ lý ảo của Shop Gấu & Bí Ngô,-<br>",
           "greet",
           null,
           "utter_greet"
          ],
          [
           "url",
           "Bạn đang tìm kiếm thông tin gì ạ?",
           "send_link",
           "url",
           "action_handle_send_link_only"
          ],
          [
           "Đăng shopee chưa",
           "Mời bạn tham khảo link shopee của sản phẩm:\n<show -<br>",
           "action_query_babe_kb",
           "['attribute:link']",
           "action_query_babe_kb"
          ],
          [
           "Alo",
           "Chào bạn, mình là trợ lý ảo của Shop Gấu & Bí Ngô,-<br>",
           "greet",
           null,
           "utter_greet"
          ],
          [
           "url",
           null,
           "send_link",
           "url",
           "action_handle_send_link_only"
          ],
          [
           "Đăng shopee chưa",
           "Sản phẩm Bộ đồ chơi nhà bếp thông minh hiện chưa c-<br>",
           "query_knowledge_base",
           "['attribute:link']",
           "action_query_babe_kb"
          ],
          [
           "Bao giờ đăng lên thì thông báo mình nhé để mình đặ-<br>",
           "Dạ,vâng ạ",
           "query_knowledge_base",
           null,
           "action_query_babe_kb"
          ],
          [
           "b ơi cho mình hỏi chút\nbên mình có quây k k ạ",
           "Sản phẩm  Quây  hiện shop đang có giá: *1,440,000 -<br> VND (giá gốc 1,490,000 VND), 1,040,000 VND (giá gố-<br> c 1,290,000 VND), 1,340,000 VND (giá gốc 1,390,000-<br>",
           "query_knowledge_base",
           "['object_type:quay']",
           "action_query_babe_kb"
          ],
          [
           "mẫu này kt bn hả b",
           "Mình chưa xác định được món đồ bạn hỏi, bạn mô tả -<br>",
           "query_knowledge_base",
           "['mention:mẫu này', 'attribute:size']",
           "action_query_babe_kb"
          ],
          [
           "url",
           "Sản phẩm  COMBO HOLLA LIÊN HOÀN 2020 hiện shop đan-<br> g có kích thước: *1.8x2M*.\nBạn tham khảo sản phẩm -<br>",
           "send_link",
           "url",
           "action_handle_send_link_only"
          ],
          [
           "mai ship mình bộ này b nhé\n",
           "Cho shop xin thông tin ạ ( địa chỉ , số điện thoại-<br>",
           "query_knowledge_base",
           "['mention:bộ này']",
           "action_query_babe_kb"
          ],
          [
           "434 trần khát chân, hai bà trưng\nsđt:113",
           "Thông tin đơn hàng \n( ng nhận: tên fb, tên sản phẩ-<br> m, số lượng, thuộc tính, giá trị sản phẩm , phí sh-<br>",
           "query_knowledge_base",
           null,
           "action_query_babe_kb"
          ],
          [
           "<xác nhận>",
           "Cám ơn bạn đã mua hàng tại shop, đơn hàng sẽ được -<br> giao đến 434 trần khát chân, 2 bà trưng trong khoả-<br>",
           "agree",
           null,
           null
          ],
          [
           "bạn ơi",
           "Chào bạn, mình là trợ lý ảo của Shop Gấu & Bí Ngô,-<br>",
           "greet",
           null,
           "utter_greet"
          ],
          [
           "url",
           "Sản phẩm  Ghế cao đa năng Mastela 1015  hiện shop -<br> đang có giá: 1320000 VND (giá gốc 2000000 VND).\nBạ-<br>",
           "query_knowledge_base",
           "url",
           "action_query_babe_kb"
          ],
          [
           "thank shop",
           "Dạ vâng ạ.",
           "thank",
           null,
           "utter_thank"
          ],
          [
           "url",
           "Chào bạn, mình là trợ lý ảo của Shop Gấu & Bí Ngô,-<br>",
           "greet",
           "url",
           "utter_greet"
          ],
          [
           "Mua le dc k shop",
           "Quây góc vuông cánh nhỏ hình ngôi nhà toyhouse là -<br> sản phẩm bán lẻ hiện đang có giá 1.090.000 - ₫1.25-<br> 0.000\n (giá gốc 290.000 - ₫1.390.000)\nBạn tham khả-<br>",
           "query_knowledge_base",
           "[]",
           "action_query_babe_kb"
          ],
          [
           "Ship Thạch Bnaf, LB phí bnhieu b",
           "Ship thạch bàn , long biên trong nội thành hà nội -<br>",
           "query_knowledge_base",
           "[]",
           "action_handover_to_inbox"
          ],
          [
           "Shop cho e hỏi bộ đồ chơi cho bé này có to ko ạ. B-<br> é đứng với tới ko ạ. Do nhìn qua hình nên ko hình -<br>",
           "Mình chưa xác định được món đồ bạn hỏi, bạn mô tả -<br>",
           "query_knowledge_base",
           "['attribute:size']",
           "action_query_babe_kb"
          ],
          [
           "url",
           "Sản phẩm  Bộ đồ chơi nhà bếp thông minh có kích th-<br> ước: 57x30x77cm và 51x32x100cm\nBạn tham khảo các s-<br>",
           "send_link",
           "url",
           "action_handle_send_link_only\n"
          ],
          [
           "cám ơn shop",
           null,
           "thank",
           null,
           "utter_thank"
          ],
          [
           "hello",
           "Chào bạn, mình là trợ lý ảo của Shop Gấu & Bí Ngô,-<br>",
           "greet",
           null,
           "utter_greet"
          ],
          [
           "ghế ăn dặm",
           "Hiện tại sản phẩm Ghế Ăn  shop đang có những *giá*-<br>",
           "query_knowledge_base",
           "['object_type:ghe_an']",
           "action_query_babe_kb"
          ],
          [
           "/confirm_attribute_value{\"price\": \"500k - 1M\"}",
           "Dạ mời bạn tham khảo các loại sản phẩm hiện có tại-<br>",
           "confirm_attribute_value",
           "['price:500k - 1M']",
           "action_query_babe_kb"
          ],
          [
           "Vậy xe scotter còn k ạ\nLoại có ư bánh trc ạ",
           "Mời bạn tham khảo các Xe Scooter shop đang có ạ:\n<-<br>",
           "query_knowledge_base",
           "['object_type:xe', 'brand:scotter']",
           "action_query_babe_kb"
          ],
          [
           "url",
           "Bạn đang tìm kiếm thông tin gì ạ?",
           "send_link",
           "url",
           "action_handle_send_link_only"
          ],
          [
           "Shop co bán goi nay kg ạ?",
           "Sản phẩm bạn vừa gửi shop không có hàng, hiện tại -<br> shop có các loại Gối sau:\n<show random card 5 cái -<br>",
           "query_knowledge_base",
           "['object_type:goi', 'mention:nay']",
           "action_query_babe_kb"
          ],
          [
           "shop ơi",
           "Chào bạn, mình là trợ lý ảo của Shop Gấu & Bí Ngô,-<br>",
           "greet",
           null,
           "utter_greet"
          ],
          [
           "url",
           "Sản phẩm  Bộ đồ chơi nhà bếp thông minh  hiện shop-<br>  đang có giá: 490.000 - 790.000\nBạn tham khảo các -<br>",
           "query_knowledge_base",
           "url",
           "action_query_babe_kb"
          ],
          [
           "ok, thank shop!",
           "Shop cảm ơn bạn ạ.",
           "thank",
           null,
           "utter_thank"
          ],
          [
           "shop ơi",
           "Chào bạn, mình là trợ lý ảo của Shop Gấu & Bí Ngô,-<br>",
           "greet",
           null,
           "utter_greet"
          ],
          [
           "url",
           "Sản phẩm  Bộ đồ chơi nhà bếp thông minh  hiện shop-<br>  đang có giá: 490.000 - 790.000\nBạn tham khảo các -<br>",
           "query_knowledge_base",
           "url",
           "action_query_babe_kb"
          ],
          [
           "cái này có 2 size à shop?",
           "Sản phẩm  Bộ đồ chơi nhà bếp thông minh có kích th-<br> ước: 57x30x77cm và 51x32x100cm\nBạn tham khảo các s-<br>",
           "query_knowledge_base",
           "['mention:cái này', 'attribute:size']",
           "action_query_babe_kb"
          ],
          [
           "ok shop",
           "Vâng ạ!",
           "agree",
           null,
           "utter_agree"
          ],
          [
           "shop ơi",
           "Chào bạn, mình là trợ lý ảo của Shop Gấu & Bí Ngô,-<br>",
           "greet",
           null,
           "utter_greet"
          ],
          [
           "Chào shop, shop còn mẫu ghế mastela màu ghi, mã 73-<br>",
           "Sản phẩm Ghế ăn nâng hạ độ cao nhựa Mastela 07330/-<br> 07331 màu ghi hiện đang có giá: 490.000 (Giá gốc: -<br>",
           "query_knowledge_base",
           "['object_type:ghe', 'brand:mastela', 'color:màu ghi', 'attribute:price', 'code:7330']",
           "action_query_babe_kb"
          ],
          [
           "Mình cần gấp, shop ship luôn cho mình nhé.",
           "Cảm ơn bạn! Bạn vui lòng điền thông tin vào Mẫu đặ-<br> t hàng giúp shop nhé!\n<Show ra cái bảng mẫu đặt hà-<br> ng: có tên sản phẩm, cho khách tùy chọn số lượng, -<br>",
           "make_order",
           null,
           "action_make_order"
          ],
          [
           "url",
           "Bạn đang tìm kiếm thông tin gì ạ?",
           "send_link",
           "url",
           "action_handle_send_link_only"
          ],
          [
           "Bnhiu v shop",
           "Dạ, có phải bạn muốn hỏi một trong các sản phẩm dư-<br> ới đây không ạ?\n (Vui lòng ấn chọn 1 sản phẩm)\n\n<s-<br>",
           "query_knowledge_base",
           "['attribute:price']",
           "action_query_babe_kb"
          ],
          [
           "Cái thứ 2\n",
           "Mời bạn tham khảo sản phẩm Voi Jumbo thả hình khối-<br>",
           null,
           "['mention:2']",
           "action_query_babe_kb"
          ],
          [
           "ok shop",
           "Dạ vâng ạ!",
           "agree",
           null,
           "utter_agree"
          ],
          [
           "shop ơi",
           "Chào bạn, mình là trợ lý ảo của Shop Gấu & Bí Ngô,-<br>",
           "greet",
           null,
           "utter_greet"
          ],
          [
           "url",
           "Bạn đang tìm kiếm thông tin gì ạ?",
           "send_link",
           "url",
           "action_handle_send_link_only"
          ],
          [
           "B có sẵn thanh chắn giường này ko?",
           "Sản phẩm Thanh chắn giường cao cấp dạng trượt Umoo-<br>  chính hãng đang có giá: 500.000 (Giá gốc: 610.000-<br>",
           "query_knowledge_base",
           "['object_type:thanh_chan_giuong']",
           "action_query_babe_kb"
          ],
          [
           "loại này có những kích thước nào shop nhỉ?",
           "Sản phẩm Thanh chắn giường cao cấp dạng trượt Umoo-<br>",
           "query_knowledge_base",
           "['mention:loại này', 'attribute:size']",
           "action_query_babe_kb"
          ],
          [
           "ok shop, cho mình đặt thanh loại 2m2 nhé.",
           "Cảm ơn bạn! Bạn vui lòng điền thông tin vào Mẫu đặ-<br> t hàng giúp shop nhé!\n<Show ra cái bảng mẫu đặt hà-<br> ng: có tên sản phẩm, cho khách tùy chọn số lượng, -<br>",
           "make_order",
           "['size:loại 2m2']",
           "action_make_order"
          ],
          [
           "hi shop",
           "Chào bạn, mình là trợ lý ảo của Shop Gấu & Bí Ngô,-<br>",
           "greet",
           null,
           "utter_greet"
          ],
          [
           "chị muốn hỏi giá cũi vải greco\nvà jolie",
           "Dạ, sản phẩm Giuong hãng sản xuất Jolie, chất liệu-<br>  Vải bên shop hiện tại không có ạ. Bạn tham khảo c-<br>",
           "query_knowledge_base",
           "['attribute:price', 'object_type:giuong', 'material:vải', 'brand:greco', 'brand:jolie']",
           "action_query_babe_kb"
          ],
          [
           "/query_knowledge_base{\"brand\": \"Graco\"}",
           "Hiện tại sản phẩm Giuong hãng sản xuất Graco shop -<br>",
           "query_knowledge_base",
           "['brand:Graco']",
           "action_query_babe_kb"
          ],
          [
           "/query_knowledge_base{\"price\": \"2M - 5M\"}",
           "Sản phẩm  Giuong hãng sản xuất Graco, giá 2m - 5m -<br> hiện shop đang có giá: *5,000,000 VND, 2,900,000 V-<br>",
           "query_knowledge_base",
           "['price:2M - 5M']",
           "action_query_babe_kb"
          ],
          [
           "2 cái khác gì nhau",
           "Bạn có thể nói với tôi theo 1 cách khác được không-<br>",
           "handover_to_inbox",
           "[]",
           "utter_ask_rephrase"
          ],
          [
           "url",
           "Mời bạn tham khảo các sản phẩm:\n<Show 4 cards tươn-<br> g ứng 4 sản phẩm gửi ảnh>\n<Kỳ vọng gửi đi đc cả 4 -<br>",
           "greet\nquery_knowledge_base",
           "url",
           "action_query_babe_kb"
          ],
          [
           "url",
           "Bạn đang tìm kiếm thông tin gì ạ?",
           "send_link",
           "url",
           "action_handle_send_link_only"
          ],
          [
           "Shop còn bộ này k ạ",
           "Dạ mời bạn tham khảo sản phẩm hiện có tại shop nhé-<br>",
           "query_knowledge_base",
           "['mention:bộ này']",
           "action_query_babe_kb"
          ],
          [
           "<Đặt hàng>\n(trên card cuối show thêm nút đặt hàng)",
           "Cảm ơn bạn! Bạn vui lòng điền thông tin vào Mẫu đặ-<br> t hàng giúp shop nhé!\n<Show ra cái bảng mẫu đặt hà-<br> ng: có tên sản phẩm, cho khách tùy chọn số lượng, -<br>",
           "make_order",
           null,
           "action_make_order"
          ],
          [
           "alo shop ơi",
           "Chào bạn, mình là ...",
           "greet",
           "[]",
           "utter_greet"
          ],
          [
           "https://www.facebook.com/shopgauvabingo/photos/pcb-<br> .2425056854471305/2425056784471312/?type=3&theater-<br>",
           "Dạ, có phải bạn muốn hỏi một trong các sản phẩm dư-<br> ới đây không ạ?\n (Vui lòng ấn chọn 1 sản phẩm)\n<Sh-<br>",
           "send_link",
           "[\"url:['https://www.facebook.com/shopgauvabingo/photos/pcb.2425056854471305/2425056784471312/?type=3&theater']\", 'mention:này', 'attribute:price']",
           "action_handle_send_link_only"
          ],
          [
           "/query_knowledge_base{\"url\": \"https://shopee.vn/pr-<br> oduct/36371562/3103025341\", \"product_id\": \"https:/-<br>",
           "Sản phẩm  Xe NADLE 3 in 1: Xe đẩy - Chòi chân - Xe-<br>  đạp  hiện shop đang có giá: 2,650,000 VND (giá gố-<br> c 2,650,000 VND), 2,450,000 VND (giá gốc 2,450,000-<br>  VND), 1,550,000 VND (giá gốc 2,650,000 VND).\nBạn -<br> tham khảo các sản phẩm sau nhé ạ:\n<Show card cuối -<br>",
           "query_knowledge_base",
           "['url:https://shopee.vn/product/36371562/3103025341', 'product_id:https://shopee.vn/product/36371562/3103025341']",
           "action_query_babe_kb"
          ],
          [
           "Ok, thank shop",
           "Cảm ơn bạn!",
           "thank",
           null,
           "utter_thank"
          ],
          [
           "alo shop ơi",
           "Chào bạn, mình là trợ lý ảo của Shop Gấu & Bí Ngô,-<br>",
           "greet",
           null,
           "utter_greet"
          ],
          [
           "https://www.facebook.com/shopgauvabingo/photos/pcb-<br> .2425056854471305/2425056784471312/?type=3&theater-<br>",
           "Dạ, có phải bạn muốn hỏi một trong các sản phẩm dư-<br> ới đây không ạ?\n (Vui lòng ấn chọn 1 sản phẩm)\n<Sh-<br>",
           "query_knowledge_base",
           "[\"url:['https://www.facebook.com/shopgauvabingo/photos/pcb.2425056854471305/2425056784471312/?type=3&theater']\", 'object_type:xe', 'mention:này', 'attribute:price']",
           "action_query_babe_kb"
          ],
          [
           "/query_knowledge_base{\"url\": \"https://shopee.vn/pr-<br> oduct/36371562/3103025341\", \"product_id\": \"https:/-<br>",
           "Sản phẩm  Xe NADLE 3 in 1: Xe đẩy - Chòi chân - Xe-<br>  đạp  hiện shop đang có giá: 2,650,000 VND (giá gố-<br> c 2,650,000 VND), 2,450,000 VND (giá gốc 2,450,000-<br>  VND), 1,550,000 VND (giá gốc 2,650,000 VND).\nBạn -<br> tham khảo các sản phẩm sau nhé ạ:\n<Show card cuối -<br>",
           "query_knowledge_base",
           "['url:https://shopee.vn/product/36371562/3103025341', 'product_id:https://shopee.vn/product/36371562/3103025341']",
           "action_query_babe_kb"
          ],
          [
           "còn màu gì hả bạn?",
           "Sản phẩm  Xe NADLE 3 in 1: Xe đẩy - Chòi chân - Xe-<br>  đạp  hiện shop đang có các màu sau: Xanh (có đai)-<br>",
           "query_knowledge_base",
           "['attribute:color']",
           "action_query_babe_kb"
          ],
          [
           "ok shop",
           "Dạ!",
           "agree",
           null,
           "utter_agree"
          ],
          [
           "url",
           "Bạn đang tìm kiếm thông tin gì ạ?",
           "send_link",
           "url",
           "action_handle_send_link_only"
          ],
          [
           "Shop còn cầu trưowtn này k ạ",
           "Sản phẩm bạn đang tìm có phải là?",
           "query_knowledge_base",
           "['object_type:cầu trưowtn']",
           "action_query_babe_kb"
          ],
          [
           "/agree{\"object_type\": \"cau_truot\"}",
           "Dạ, sản phẩm Cầu Trượt  bên shop hiện tại không có-<br>  ạ. Bạn tham khảo các sản phẩm khác dành cho bé nh-<br>",
           "agree",
           "['object_type:cau_truot']",
           "action_query_babe_kb"
          ],
          [
           "shop ơi",
           "Chào bạn, mình là trợ lý ảo của Shop Gấu & Bí Ngô,-<br>",
           "greet",
           "[]",
           "utter_greet"
          ],
          [
           "Mình muốn mua bộ cầu trượt\nGiá tn b",
           "Dạ, sản phẩm Cầu Trượt hiện tại bên shop đang tạm -<br> hết hàng ạ. Bạn tham khảo các sản phẩm khác dành c-<br>",
           "query_knowledge_base",
           "['object_type:cau_truot', 'attribute:price']",
           "action_query_babe_kb"
          ],
          [
           "Thank b",
           "- Cảm ơn bạn. Chúc bạn một ngày vui vẻ.",
           "thank",
           "[]",
           "utter_thank"
          ],
          [
           "shop ơi",
           "Cảm ơn bạn!",
           "greet",
           "[]",
           "utter_greet"
          ],
          [
           "Nhà mình có bán cầu trượt riêng k ah",
           "Cầu trượt là sản phẩm bán lẻ hiện đang có giá 1.09-<br> 0.000 - ₫1.250.000\n (giá gốc 290.000 - ₫1.390.000)-<br>",
           "query_knowledge_base",
           "['object_type:cau_truot']",
           "action_query_babe_kb"
          ],
          [
           "alo shop ơi",
           "Chào bạn, mình là trợ lý ảo của Shop Gấu & Bí Ngô,-<br>",
           "greet",
           "[]",
           "utter_greet"
          ],
          [
           "url",
           "Bạn đang tìm kiếm thông tin gì ạ?",
           "send_link",
           "url",
           "action_handle_send_link_only"
          ],
          [
           "lều còn ko shop\ngiá bn\ncòn bóng bn",
           "Lều hiện đang có giá 1.090.000 - ₫1.250.000\n (giá -<br> gốc 290.000 - ₫1.390.000)\nBạn tham khảo các sản ph-<br> ẩm sau nhé ạ:\n<show sp>\nBóng hiện shop đáng có các-<br>",
           "query_knowledge_base",
           "['attribute:price']",
           "action_query_babe_kb"
          ],
          [
           "alo shop ơi",
           "Chào bạn, mình là trợ lý ảo của Shop Gấu & Bí Ngô,-<br>",
           "greet",
           null,
           "utter_greet"
          ],
          [
           "url",
           "Bạn đang tìm kiếm thông tin gì ạ?",
           "send_link",
           "url",
           "action_handle_send_link_only"
          ],
          [
           "Mình mua sản phẩm này nha\nGiá sao",
           "Sản phẩm Dàn âm thanh động vật có đèn nhạc Infanti-<br> no đang có giá 129.000 (giá gốc: 180.000).\n<Show c-<br>",
           "query_knowledge_base",
           "['mention:sản phẩm này', 'attribute:price']",
           "action_query_babe_kb"
          ],
          [
           "alo shop ơi",
           "Chào bạn, mình là trợ lý ảo của Shop Gấu & Bí Ngô,-<br>",
           "greet",
           null,
           "utter_greet"
          ],
          [
           "Báo giá mình quây thảm với",
           "Sản phẩm  Quây góc vuông cánh nhỏ hình ngôi nhà ch-<br> ất liệu Nhựa hiện shop đang có giá: 1,040,000 VND -<br> (giá gốc 1,290,000 VND), 1,340,000 VND (giá gốc 1,-<br> 390,000 VND), 1,440,000 VND (giá gốc 1,490,000 VND-<br> ).\nBạn tham khảo các sản phẩm sau nhé ạ:\n<Show car-<br>",
           "query_knowledge_base",
           "['attribute:price', 'object_type:quay', 'object_type:tham']",
           "action_query_babe_kb"
          ],
          [
           "Cái này có kèm thảm và bóng ko bạn",
           "Sản phẩm  Quây góc vuông cánh nhỏ hình ngôi nhà ch-<br> ất liệu Nhựa không có phụ kiện đi kèm\nBạn tham khả-<br>",
           "query_knowledge_base",
           "['mention:cái này', 'object_type:tham','object_type:bong']",
           "action_query_babe_kb"
          ],
          [
           "shop ơi",
           "Chào bạn, mình là trợ lý ảo của Shop Gấu & Bí Ngô,-<br>",
           "greet",
           null,
           "utter_greet"
          ],
          [
           "minh muốn tìm quây cũi nhựa",
           "Dạ, sản phẩm Quây chất liệu nhựa bên shop hiện tại-<br>  không có ạ. Bạn tham khảo các sản phẩm khác dành -<br>",
           "query_knowledge_base",
           "['object_type:quay', 'material:nhựa']",
           "action_query_babe_kb"
          ],
          [
           "ok shop",
           "Vâng ạ!",
           "agree",
           null,
           "utter_agree"
          ],
          [
           "shop ơi",
           "Chào bạn, mình là trợ lý ảo của Shop Gấu & Bí Ngô,-<br>",
           "greet",
           null,
           "utter_greet"
          ],
          [
           "minh muốn tìm quây cũi nhựa",
           "Sản phẩm  Quây góc vuông cánh nhỏ hình ngôi nhà ch-<br> ất liệu Nhựa hiện shop đang có giá: 1,040,000 VND -<br> (giá gốc 1,290,000 VND), 1,340,000 VND (giá gốc 1,-<br> 390,000 VND), 1,440,000 VND (giá gốc 1,490,000 VND-<br> ).\nBạn tham khảo các sản phẩm sau nhé ạ:\n<Show car-<br>",
           "query_knowledge_base",
           "['object_type:quay', 'material:nhựa']",
           "action_query_babe_kb"
          ],
          [
           "hàng có sẵn k shop?",
           "Sản phẩm Quây góc vuông cánh nhỏ hình ngôi nhà hiệ-<br>",
           "query_knowledge_base",
           "['availability:có sẵn']",
           "action_query_babe_kb"
          ],
          [
           "ok, cho mình đặt cái đấy nhé",
           "Cảm ơn bạn! Bạn vui lòng điền thông tin vào Mẫu đặ-<br> t hàng giúp shop nhé!\n<Show ra cái bảng mẫu đặt hà-<br> ng: có tên sản phẩm, cho khách tùy chọn số lượng, -<br> màu sắc...>\n<Các thông tin đã thu thập đc thì tự đ-<br>",
           "make_order",
           null,
           "action_make_order"
          ],
          [
           "shop ơi",
           "Chào bạn, mình là trợ lý ảo của Shop Gấu & Bí Ngô,-<br>",
           "greet",
           null,
           "utter_greet"
          ],
          [
           "url",
           "Bạn đang tìm kiếm thông tin gì ạ?\n",
           "send_link",
           "url",
           "action_handle_send_link_only"
          ],
          [
           "Shop bán ghế này ko",
           "Dạ, có phải bạn muốn hỏi một trong các sản phẩm dư-<br> ới đây không ạ?\r\n (Vui lòng ấn chọn 1 sản phẩm)...-<br>",
           "query_knowledge_base",
           "['object_type:ghe', 'mention:này']",
           "action_query_babe_kb"
          ],
          [
           "/disagree{\"object_type\": null}",
           "Bạn vui lòng mô tả rõ mong muốn của bạn hoặc chat -<br>",
           "disagree",
           "['object_type:None']",
           "utter_disagree"
          ],
          [
           "/connect_employee",
           null,
           "connect_employee",
           null,
           "action_handover_to_inbox"
          ],
          [
           "shop ơi",
           "Chào bạn, mình là trợ lý ảo của Shop Gấu & Bí Ngô,-<br>",
           "greet",
           null,
           "utter_greet"
          ],
          [
           "url",
           "Bạn đang tìm kiếm thông tin gì ạ?",
           "send_link",
           "url",
           "action_handle_send_link_only"
          ],
          [
           "Mình mún mua bộ voi này\nMà phí ship shoppe tới 300-<br>",
           null,
           "handover_to_inbox",
           "['price:300k']",
           "action_handover_to_inbox"
          ],
          [
           "bạn ơi",
           "Chào bạn, mình là trợ lý ảo của Shop Gấu & Bí Ngô,-<br>",
           "greet",
           null,
           "utter_greet"
          ],
          [
           "url",
           "Bạn đang tìm kiếm thông tin gì ạ?\r\n",
           "send_link",
           "url",
           "action_handle_send_link_only"
          ],
          [
           "Bộ này còn k ạ",
           "Sản phẩm Voi thả bóng tập đứng có đèn nhạc Bkids I-<br> nfantino hiện có giá 1.160.000 (Giá gốc: 1.298.000-<br>",
           "query_knowledge_base",
           "['mention:bộ này']",
           "action_query_babe_kb"
          ],
          [
           "shop ơi",
           "Chào bạn, mình là trợ lý ảo của Shop Gấu & Bí Ngô,-<br>",
           "greet",
           "[]",
           "utter_greet"
          ],
          [
           "Cho mình hỏi bên bạn có máy hút sữa Avent hoa tuyế-<br>",
           "Sản phẩm Máy hút sữa điện đôi Avent Snow (Chính hã-<br> ng - Cty Vạn An) hãng sản xuất Avent hiện shop đan-<br> g có giá: *4,990,000 VND (giá gốc 6,950,000 VND)*.-<br>",
           "query_knowledge_base",
           "['object_type:may_hut_sua', 'brand:avent']",
           "action_query_babe_kb"
          ],
          [
           "ok shop",
           "Dạ!",
           "agree",
           null,
           "utter_agree"
          ],
          [
           "shop ơi",
           "Chào bạn, mình là trợ lý ảo của Shop Gấu & Bí Ngô,-<br>",
           "greet",
           "[]",
           "utter_greet"
          ],
          [
           "url",
           "Bạn đang tìm kiếm thông tin gì ạ?",
           "send_link",
           "url",
           "action_handle_send_link_only"
          ],
          [
           "Bên mình có medela freestyle like new k ak",
           "Shop không có máy hút sữa thương hiệu Medela, mời -<br> bạn tham khảo các sản phẩm máy hút sữa hiện có tại-<br>",
           "query_knowledge_base",
           "['brand:medela freestyle']",
           "action_query_babe_kb"
          ],
          [
           "Ok shop",
           "Dạ vâng ạ!",
           "agree",
           null,
           "utter_agree"
          ],
          [
           "shop ơi",
           "Chào bạn, mình là trợ lý ảo của Shop Gấu & Bí Ngô,-<br>",
           "greet",
           null,
           "utter_greet"
          ],
          [
           "url",
           "Bạn đang tìm kiếm thông tin gì ạ?\r\n",
           "send_link",
           "url",
           "action_handle_send_link_only"
          ],
          [
           "Mẫu này giá bn ah",
           "Món đồ bạn cần tìm có phải là:\n<Xe chòi chân> <Xe -<br>",
           "query_knowledge_base",
           "['mention:mẫu này', 'attribute:price']",
           "action_query_babe_kb"
          ],
          [
           "/agree{\"object_type\": \"xe_choi_chan\"}",
           "Sản phẩm  Xe Chòi Chân  hiện shop đang có giá: 499-<br> ,000 VND (giá gốc 800,000 VND), 580,000 VND (giá g-<br> ốc 800,000 VND), 699,000 VND (giá gốc 998,000 VND)-<br> .\nBạn tham khảo các sản phẩm sau nhé ạ:\n<Show card-<br>",
           "confirm_object_type",
           null,
           "action_query_babe_kb"
          ],
          [
           "ok shop, cho mình lấy cái xe Luddy",
           "Cảm ơn bạn! Bạn vui lòng điền thông tin vào Mẫu đặ-<br> t hàng giúp shop nhé!\n<Show ra cái bảng mẫu đặt hà-<br> ng: có tên sản phẩm, cho khách tùy chọn số lượng, -<br> màu sắc...>\n<Các thông tin đã thu thập đc thì tự đ-<br>",
           "make_order",
           "['object_type:xe_choi_chan','brand:Luddy']",
           "action_make_order"
          ],
          [
           "shop ơi",
           "Chào bạn, mình là trợ lý ảo của Shop Gấu & Bí Ngô,-<br>",
           "greet",
           null,
           "utter_greet"
          ],
          [
           "Có ship hàng qua Nguyễn Tuân k shop",
           "Shop giao hàng toàn quốc, khách hàng có thể chuyển-<br>  khoản trước hoặc chọn hình thức thanh toán khi nh-<br>",
           "ask_ship",
           "['ship:ship', 'location:Nguyễn Tuân']",
           "utter_ship"
          ],
          [
           "vậy ship luôn cho mình Xe chòi chân có bàn đạp cao-<br>",
           "Cảm ơn bạn! Bạn vui lòng điền thông tin vào Mẫu đặ-<br> t hàng giúp shop nhé!\n<Show ra cái bảng mẫu đặt hà-<br> ng: có tên sản phẩm, cho khách tùy chọn số lượng, -<br> màu sắc...>\n<Các thông tin đã thu thập đc thì tự đ-<br>",
           "make_order",
           "['ship:ship', 'object_type:xe_choi_chan', 'brand:Motion', 'color:đỏ'",
           "action_make_order"
          ],
          [
           "shop ơi",
           "Chào bạn, mình là trợ lý ảo của Shop Gấu & Bí Ngô,-<br>",
           "greet",
           null,
           "utter_greet"
          ],
          [
           "url",
           "Bạn đang tìm kiếm thông tin gì ạ?\r\n",
           "send_link",
           "url",
           "action_handle_send_link_only"
          ],
          [
           "Gia bao Nhiu shop",
           "Sản phẩm  COMBO HOLLA LIÊN HOÀN 2020 có giá 4.100.-<br>",
           "query_knowledge_base",
           "['attribute:price']",
           "action_query_babe_kb"
          ],
          [
           "ok shop",
           "Vâng ạ!",
           "agree",
           null,
           "utter_agree"
          ],
          [
           "shop ơi",
           "Chào bạn, mình là trợ lý ảo của Shop Gấu & Bí Ngô,-<br>",
           "greet",
           null,
           "utter_greet"
          ],
          [
           "url",
           "Bạn đang tìm kiếm thông tin gì ạ?\r\n",
           "send_link",
           "url",
           "action_handle_send_link_only"
          ],
          [
           "Gia bao Nhiu shop",
           "Sản phẩm  COMBO HOLLA LIÊN HOÀN 2020 có giá 4.100.-<br>",
           "query_knowledge_base",
           "['attribute:price']",
           "action_query_babe_kb"
          ],
          [
           "có những màu gì bạn nhỉ?",
           "Sản phẩm  COMBO HOLLA LIÊN HOÀN 2020 có màu: Xanh -<br>",
           "query_knowledge_base",
           "['attribute:color']",
           "action_query_babe_kb"
          ],
          [
           "ok shop, để mình xem thêm chút nhé!",
           "Dạ vâng ạ!",
           "agree & check_more",
           "['check_more:xem thêm']",
           "utter_agree"
          ],
          [
           "alo shop",
           "Chào bạn, mình là trợ lý ảo của Shop Gấu & Bí Ngô,-<br>",
           "greet",
           null,
           "utter_greet"
          ],
          [
           "url",
           "Bạn đang tìm kiếm thông tin gì ạ?\r\n",
           "send_link",
           "url",
           "action_handle_send_link_only"
          ],
          [
           "Mình muón mua xe này",
           "Sản phẩm Xe tập đi cao cấp Tommorrow Sky - CHÍNH H-<br> ÃNG có giá 449.000 (Giá gốc: 850.000).\n<Show card -<br>",
           "query_knowledge_base",
           "['object_type:xe', 'mention:này']",
           "action_query_babe_kb"
          ],
          [
           "Shop ship luôn hàng k nhỉ\nMình Bắc Từ Liêm, HN",
           "Cảm ơn bạn! Bạn vui lòng điền thông tin vào Mẫu đặ-<br> t hàng giúp shop nhé!\n<Show ra cái bảng mẫu đặt hà-<br> ng: có tên sản phẩm, cho khách tùy chọn số lượng, -<br> màu sắc...>\n<Các thông tin đã thu thập đc thì tự đ-<br>",
           "make_order",
           "[]",
           "action_make_order"
          ],
          [
           "shop ơi",
           "Chào bạn, mình là trợ lý ảo của Shop Gấu & Bí Ngô,-<br>",
           "greet",
           null,
           "utter_greet"
          ],
          [
           "url",
           "Bạn đang tìm kiếm thông tin gì ạ?\r\n",
           "send_link",
           "url",
           "action_handle_send_link_only"
          ],
          [
           "Mình muón mua xe này",
           "Sản phẩm Xe tập đi cao cấp Tommorrow Sky - CHÍNH H-<br> ÃNG có giá 449.000 (Giá gốc: 850.000).\n<Show card -<br>",
           "query_knowledge_base",
           "['object_type:xe', 'mention:này']",
           "action_query_babe_kb"
          ],
          [
           "Bé nhà mình 8 tháng đã dùng được chưa shop nhỉ?",
           "Xe tập đi cao cấp Tommorrow Sky - CHÍNH HÃNG có độ-<br>",
           "query_knowledge_base",
           "['age_of_use:bé nhà mình 8 tháng']",
           "action_query_babe_kb"
          ],
          [
           "ok shop",
           "Vâng ạ!",
           "agree",
           null,
           "utter_agree"
          ],
          [
           "Mình vừa đặt trên shopee rồi nhé shop, giao hàng g-<br>",
           null,
           "handover_to_inbox",
           "['attribute:link']",
           "action_handover_to_inbox"
          ],
          [
           "shop ơi",
           "Chào bạn, mình là trợ lý ảo của Shop Gấu & Bí Ngô,-<br>",
           "greet",
           null,
           "utter_greet"
          ],
          [
           "url",
           "Bạn đang tìm kiếm thông tin gì ạ?\r\n",
           "send_link",
           "url",
           "action_handle_send_link_only"
          ],
          [
           "Mẫu này shop còn ko?",
           "Dạ mời bạn tham khảo sản phẩm hiện có tại shop nhé-<br> !\r\n\n<Show card sản phẩm Voi Jumbo thả hình khối Bk-<br>",
           "query_knowledge_base",
           "['mention:mẫu này']",
           "action_query_babe_kb"
          ],
          [
           "Mình ở Ngã Tư Sở thì phí ship hết bao nhiêu bạn, c-<br>",
           "Ship Ngã tư sở , Thanh Xuân trong nội thành hà nội-<br>",
           "ask_ship",
           "['attribute:fee_ship']",
           "action_ask_ship"
          ],
          [
           "shop ơi",
           "Chào bạn, mình là trợ lý ảo của Shop Gấu & Bí Ngô,-<br>",
           "greet",
           null,
           "utter_greet"
          ],
          [
           "url",
           "Bạn đang tìm kiếm thông tin gì ạ?",
           "send_link",
           "url",
           "action_handle_send_link_only"
          ],
          [
           "Báo giá cho mình cái shop",
           "Dạ, có phải bạn muốn hỏi một trong các sản phẩm dư-<br> ới đây không ạ?\r\n (Vui lòng ấn chọn 1 sản phẩm)...-<br>",
           "query_knowledge_base",
           "['attribute:price']",
           "action_query_babe_kb"
          ],
          [
           "/query_knowledge_base{\"url\": \"https://shopee.vn/pr-<br> oduct/36371562/619150769\", \"product_id\": \"https://-<br>",
           "Sản phẩm Ghế đa năng cao cấp Mastela 1015 hiện sho-<br> p đang có giá: *1,320,000 VND (giá gốc 1,599,000 V-<br>",
           "query_knowledge_base",
           "['url:https://shopee.vn/product/36371562/619150769', 'product_id:https://shopee.vn/product/36371562/619150769']",
           "action_query_babe_kb"
          ],
          [
           "shop ơi",
           "Chào bạn, mình là trợ lý ảo của Shop Gấu & Bí Ngô,-<br>",
           "greet",
           null,
           "utter_greet"
          ],
          [
           "url",
           "Bạn đang tìm kiếm thông tin gì ạ?\r\n",
           "send_link",
           "url",
           "action_handle_send_link_only"
          ],
          [
           "Báo giá cho mình cái shop",
           "Dạ, có phải bạn muốn hỏi một trong các sản phẩm dư-<br> ới đây không ạ?\n (Vui lòng ấn chọn 1 sản phẩm)\n<Sh-<br>",
           "query_knowledge_base",
           "['attribute:price']",
           "action_query_babe_kb"
          ],
          [
           "/query_knowledge_base{\"url\": \"https://shopee.vn/pr-<br> oduct/36371562/619150769\", \"product_id\": \"https://-<br>",
           "Sản phẩm  Ghế đa năng cao cấp Mastela 1015  hiện s-<br> hop đang có giá: 1,320,000 VND (giá gốc 1,599,000 -<br> VND).\r\nBạn tham khảo các sản phẩm sau nhé ạ:\n<show-<br>",
           "query_knowledge_base",
           "['url:https://shopee.vn/product/36371562/619150769', 'product_id:https://shopee.vn/product/36371562/619150769']",
           "action_query_babe_kb"
          ],
          [
           "<Đặt hàng>\n(trên card cuối show thêm nút đặt hàng)",
           "Cảm ơn bạn! Bạn vui lòng điền thông tin vào Mẫu đặ-<br> t hàng giúp shop nhé!\n<Show ra cái bảng mẫu đặt hà-<br> ng: có tên sản phẩm, cho khách tùy chọn số lượng, -<br>",
           "make_order",
           null,
           "action_make_order"
          ],
          [
           "shop ơi",
           "Chào bạn, mình là trợ lý ảo của Shop Gấu & Bí Ngô,-<br>",
           "greet",
           null,
           "utter_greet"
          ],
          [
           "mình cần tìm ghế ăn dặm",
           "Hiện tại sản phẩm Ghế Ăn  shop đang có những *giá*-<br>",
           "query_knowledge_base",
           "['object_type:ghe_an']",
           "action_query_babe_kb"
          ],
          [
           "/query_knowledge_base{\"price\": \"1M - 2M\"}",
           "Dạ mời bạn tham khảo sản phẩm hiện có tại shop nhé-<br>",
           "query_knowledge_base",
           "['price:1M - 2M']",
           "action_query_babe_kb"
          ],
          [
           "ghế mastela sản xuất ở đâu vậy shop?",
           "Sản phẩm Ghế Ăn hãng sản xuất Mastela hiện shop đa-<br>",
           "query_knowledge_base",
           "['object_type:ghe', 'brand:mastela', 'attribute:origin']",
           "action_query_babe_kb"
          ],
          [
           "bé bao nhiêu tháng thì dùng đc ghế này?",
           "Hiện tại sản phẩm Ghế Ăn shop đang có những *độ tu-<br>",
           "query_knowledge_base",
           "['attribute:age_of_use', 'object_type:ghe']",
           "action_query_babe_kb"
          ],
          [
           "ok shop",
           "Dạ vâng ạ!",
           "agree",
           "[]",
           "utter_agree"
          ],
          [
           "shop có xe đẩy k?",
           "Hiện tại sản phẩm Xe Đẩy shop đang có những *giá* -<br>",
           "query_knowledge_base",
           "['object_type:xe_day']",
           "action_query_babe_kb"
          ],
          [
           "/query_knowledge_base{\"age_of_use\": \"0 - 36 Tháng\"-<br>",
           "Hiện tại sản phẩm Xe Đẩy độ tuổi sử dụng 0 - 36 Th-<br>",
           "query_knowledge_base",
           "['age_of_use:0 - 36 Tháng']",
           "action_query_babe_kb"
          ],
          [
           "/query_knowledge_base{\"price\": \"2M - 5M\"}",
           "Hiện tại sản phẩm Xe Đẩy giá 2m - 5m, độ tuổi sử d-<br> ụng 0 - 36 Tháng shop đang có những *hãng sản xuất-<br>",
           "query_knowledge_base",
           "['price:2M - 5M']",
           "action_query_babe_kb"
          ],
          [
           "/confirm_attribute_value{\"brand\": \"NULL\"}",
           "Hiện tại sản phẩm Xe Đẩy giá 2m - 5m, độ tuổi sử d-<br>",
           "confirm_attribute_value",
           "['brand:NULL']",
           "action_query_babe_kb"
          ],
          [
           "/confirm_attribute_value{\"material\": \"NULL\"}",
           "Hiện tại sản phẩm Xe Đẩy giá 2m - 5m, độ tuổi sử d-<br>",
           "confirm_attribute_value",
           "['material:NULL']",
           "action_query_babe_kb"
          ],
          [
           "/query_knowledge_base{\"color\": \"Ghi\"}",
           "Dạ mời bạn tham khảo sản phẩm hiện có tại shop nhé-<br>",
           "query_knowledge_base",
           "['color:Ghi']",
           "action_query_babe_kb"
          ],
          [
           "shop có ghế đa năng cho bé 10 tháng k?",
           "Hiện tại sản phẩm Ghế Đa Năng độ tuổi sử dụng Bé 1-<br>",
           "query_knowledge_base",
           "['object_type:ghe_da_nang', 'age_of_use:bé 10 tháng']",
           "action_query_babe_kb"
          ],
          [
           "/query_knowledge_base{\"price\": \"1M - 2M\"}",
           "Hiện tại sản phẩm Ghế Đa Năng giá 1m - 2m, độ tuổi-<br>  sử dụng Bé 10 Tháng shop đang có những *hãng sản -<br>",
           "query_knowledge_base",
           "['price:1M - 2M']",
           "action_query_babe_kb"
          ],
          [
           "/query_knowledge_base{\"brand\": \"More Kiss\"}",
           "Dạ mời bạn tham khảo sản phẩm hiện có tại shop nhé-<br>",
           "query_knowledge_base",
           "['brand:More Kiss']",
           "action_query_babe_kb"
          ],
          [
           "shop ơi",
           "Chào bạn, mình là trợ lý ảo của Shop Gấu & Bí Ngô,-<br>",
           "greet",
           null,
           "utter_greet"
          ],
          [
           "url",
           "Sản phẩm Ghế ô tô cao cấp Joie Steadi Dark Pewte h-<br> iện shop đang có giá: *2,750,000 VND (giá gốc 3,20-<br> 0,000 VND)*.\r\nBạn tham khảo các sản phẩm sau nhé ạ-<br>",
           "query_knowledge_base",
           "url",
           "action_query_babe_kb"
          ],
          [
           "shop ơi",
           "Chào bạn, mình là trợ lý ảo của Shop Gấu & Bí Ngô,-<br>",
           "greet",
           null,
           "utter_greet"
          ],
          [
           "url",
           "Sản phẩm Ghế ô tô cao cấp Joie Steadi Dark Pewte h-<br> iện shop đang có giá: *2,750,000 VND (giá gốc 3,20-<br> 0,000 VND)*.\r\nBạn tham khảo các sản phẩm sau nhé ạ-<br>",
           "query_knowledge_base",
           "url",
           "action_query_babe_kb"
          ],
          [
           "ok, cảm ơn shop",
           "Dạ, cảm ơn bạn!",
           "thank",
           null,
           "utter_thank"
          ],
          [
           "/greet",
           "Chào Nguyễn Nhung, mình là trợ lý ảo của Shop Gấu -<br>",
           "greet",
           "[]",
           "utter_greet"
          ],
          [
           "url",
           "Sản phẩm Ghế ô tô cao cấp Ghế ô tô cao cấp Joie St-<br> eadi Dark Pewte đang có giá 2.750.000 (Giá gốc: 3.-<br> 200.000).\nMời bạn tham khảo chi tiết sản phẩm:\nhtt-<br>",
           "query_knowledge_base",
           "url",
           "action_query_babe_kb"
          ],
          [
           "mình đang cần gấp, bạn gửi ship luôn cho mình được-<br>",
           "Cảm ơn bạn! Bạn vui lòng điền thông tin vào Mẫu đặ-<br> t hàng giúp shop nhé!\n<Show ra cái bảng mẫu đặt hà-<br> ng: có tên sản phẩm, cho khách tùy chọn số lượng, -<br> màu sắc...>\n<Các thông tin đã thu thập đc thì tự đ-<br>",
           "make_order",
           "['ship:cần gấp', 'ship':'gửi ship']",
           "action_make_order"
          ],
          [
           "Bộ đồ chơi nấu ăn giá bn ạ",
           "Bộ đồ chơi nhà bếp thông minh hiện shop đang có gi-<br> á: 790000 VND (giá gốc 790000 VND). Bạn tham khảo -<br>",
           "query_knowledge_base",
           "['attribute:price']",
           "action_query_babe_kb"
          ],
          [
           "ok shop",
           "Dạ,vâng",
           "agree",
           null,
           "utter_agree"
          ],
          [
           "url",
           "Bạn đang tìm kiếm thông tin gì ạ?",
           "send_link",
           "url",
           "action_handle_send_link_only"
          ],
          [
           "Ngựa này hàng về hả shop?",
           "Sản phẩm  NGỰA BẬP BÊNH HOLLA 2020  hiện shop có h-<br> àng và đang có giá: 580000\n VND (giá gốc 800000 VN-<br> D).\nBạn tham khảo các sản phẩm sau nhé ạ:\n<show sp-<br>",
           "query_knowledge_base",
           "['object_type:ngựa', 'mention:này']",
           "action_query_babe_kb"
          ],
          [
           "url",
           "Bạn đang tìm kiếm thông tin gì ạ?",
           "send_link",
           "url",
           "action_handle_send_link_only"
          ],
          [
           "Bạn ơi bộ này bao tiền ạ",
           "Sản phẩm BẢNG VẼ HOLLA 2 in 1 hiện shop đang có gi-<br> á: *830,000 VND (giá gốc 1,090,000 VND)*.\r\nBạn tha-<br>",
           "query_knowledge_base",
           "['mention:bộ này', 'attribute:price']",
           "action_query_babe_kb"
          ],
          [
           "Cho m xem màu",
           "Mình chưa xác định được món đồ bạn hỏi, bạn mô tả -<br>",
           "query_knowledge_base",
           "['attribute:color']",
           "action_query_babe_kb"
          ],
          [
           "Ghế ăn dặm newber ạ",
           "Dạ, sản phẩm Ghế Ăn hãng sản xuất Newber hiện tại -<br> bên shop đang tạm hết hàng ạ. Bạn tham khảo các sả-<br>",
           "query_knowledge_base",
           "['object_type:ghe_an', 'brand:newber']",
           "action_query_babe_kb"
          ],
          [
           "b ơi cho mình hỏi chút\nbên mình có quây k k ạ",
           "Sản phẩm  Quây  hiện shop đang có giá: *1,440,000 -<br> VND (giá gốc 1,490,000 VND), 1,040,000 VND (giá gố-<br> c 1,290,000 VND), 1,340,000 VND (giá gốc 1,390,000-<br>",
           "query_knowledge_base",
           "['object_type:quay']",
           "action_query_babe_kb"
          ],
          [
           "mẫu này kt bn hả b",
           "Mình chưa xác định được món đồ bạn hỏi, bạn mô tả -<br>",
           "query_knowledge_base",
           "['mention:mẫu này', 'attribute:size']",
           "action_query_babe_kb"
          ],
          [
           "url",
           "Sản phẩm  COMBO HOLLA LIÊN HOÀN 2020 hiện shop đan-<br> g có kích thước: *1.8x2M*.\nBạn tham khảo sản phẩm -<br>",
           "send_link",
           "url",
           "action_handle_send_link_only"
          ],
          [
           "shop ơi",
           "Chào bạn, mình là trợ lý ảo của Shop Gấu & Bí Ngô,-<br>",
           "greet",
           null,
           "utter_greet"
          ],
          [
           "url",
           "Bạn đang tìm kiếm thông tin gì ạ?",
           "send_link",
           "url",
           "action_handle_send_link_only"
          ],
          [
           "B có sẵn thanh chắn giường này ko?",
           "Sản phẩm Thanh chắn giường cao cấp dạng trượt Umoo-<br>  chính hãng đang có giá: 500.000 (Giá gốc: 610.000-<br>",
           "query_knowledge_base",
           "['object_type:thanh_chan_giuong']",
           "action_query_babe_kb"
          ],
          [
           "loại này có những kích thước nào shop nhỉ?",
           "Sản phẩm Thanh chắn giường cao cấp dạng trượt Umoo-<br>",
           "query_knowledge_base",
           "['mention:loại này', 'attribute:size']",
           "action_query_babe_kb"
          ],
          [
           "ok shop",
           "Vâng ạ!",
           "agree",
           null,
           "utter_agree"
          ],
          [
           "url",
           "Bạn đang tìm kiếm thông tin gì ạ?",
           "send_link",
           "url",
           "action_handle_send_link_only"
          ],
          [
           "Shop còn bộ này k ạ",
           "Dạ mời bạn tham khảo sản phẩm hiện có tại shop nhé-<br>",
           "query_knowledge_base",
           "['mention:bộ này']",
           "action_query_babe_kb"
          ],
          [
           "shop ơi",
           "Chào bạn, mình là ...",
           "greet",
           "[]",
           "utter_greet"
          ],
          [
           "Cho mình hỏi bên bạn có máy hút sữa Avent hoa tuyế-<br>",
           "Sản phẩm  Máy hút sữa điện đôi Avent Snow (Chính h-<br> ãng - Cty Vạn An) hãng sản xuất Avent hiện shop đa-<br> ng có giá: 4,990,000 VND (giá gốc 6,950,000 VND).\n-<br>",
           "query_knowledge_base",
           "['object_type:may_hut_sua', 'brand:avent']",
           "action_query_babe_kb"
          ],
          [
           "loại này dùng có tốt không bạn nhỉ?",
           null,
           "handover_to_inbox",
           "['mention:loại này']",
           "action_handover_to_inbox"
          ],
          [
           "alo shop",
           "Chào bạn, mình là trợ lý ảo của Shop Gấu & Bí Ngô,-<br>",
           "greet",
           null,
           "utter_greet"
          ],
          [
           "url",
           "Bạn đang tìm kiếm thông tin gì ạ?\r\n",
           "send_link",
           "url",
           "action_handle_send_link_only"
          ],
          [
           "Mình muón mua xe này",
           "Sản phẩm Xe tập đi cao cấp Tommorrow Sky - CHÍNH H-<br> ÃNG có giá 449.000 (Giá gốc: 850.000).\n<Show card -<br>",
           "query_knowledge_base",
           "['object_type:xe', 'mention:này']",
           "action_query_babe_kb"
          ],
          [
           "shop ơi",
           "Chào bạn, mình là trợ lý ảo của Shop Gấu & Bí Ngô,-<br>",
           "greet",
           null,
           "utter_greet"
          ],
          [
           "url",
           "Bạn đang tìm kiếm thông tin gì ạ?\r\n",
           "send_link",
           "url",
           "action_handle_send_link_only"
          ],
          [
           "Mẫu này shop còn ko?",
           "Dạ mời bạn tham khảo sản phẩm hiện có tại shop nhé-<br>",
           "query_knowledge_base",
           "['mention:mẫu này']",
           "action_query_babe_kb"
          ],
          [
           "thank bạn",
           "Dạ, cảm ơn bạn!",
           "thank",
           null,
           "utter_thank"
          ],
          [
           "shop ơi",
           "Chào Trần Diệu Như, mình là trợ lý ảo của Shop Gấu-<br>  & Bí Ngô!\nĐể hỗ trợ bạn nhanh nhất có thể, vui lò-<br> ng mô tả ngắn gọn và rõ ràng sản phẩm muốn tìm kiế-<br>",
           "greet",
           "[]",
           "utter_greet"
          ],
          [
           "Cho mình hỏi",
           "Mình chưa xác định được món đồ bạn hỏi, bạn mô tả -<br>",
           "query_knowledge_base",
           "[]",
           "action_query_babe_kb"
          ],
          [
           "url",
           "Sản phẩm Máy tiệt trùng sấy khô tia UV cao cấp Fat-<br> z Baby FB4702 có giá: 2.350.000 (Giá gốc: 2.750.00-<br>",
           "query_knowledge_base",
           "url",
           "action_query_babe_kb"
          ],
          [
           "Ok shop",
           "Dạ vâng ạ!",
           "agree",
           null,
           "utter_agree"
          ],
          [
           "Shop ơi\nShop còn xe đạp 3 bánh cho bé ko",
           "Sản phẩm Xe ba bánh hiện tại shop đang có các hãng-<br>",
           "query_knowledge_base",
           "['object_type:xe_3_banh']",
           "action_query_babe_kb"
          ],
          [
           "url",
           "Sản phẩm  COMBO HOLLA LIÊN HOÀN 2020 giá 4.100.000-<br>",
           "query_knowledge_base",
           "url",
           "action_query_babe_kb"
          ],
          [
           "url",
           "Sản phẩm  COMBO HOLLA LIÊN HOÀN 2020 giá 4.100.000-<br>",
           "query_knowledge_base",
           "url",
           "action_query_babe_kb"
          ],
          [
           "ok, cảm ơn bạn",
           "Dạ vâng ạ!",
           "thank",
           null,
           "utter_thank"
          ],
          [
           "url",
           "Dạ, có phải bạn muốn hỏi một trong các sản phẩm dư-<br>",
           "query_knowledge_base",
           "url",
           "action_query_babe_kb"
          ],
          [
           "/disagree{\"object_type\": null}\r\n\r\n",
           "Bạn vui lòng mô tả rõ mong muốn của bạn hoặc chat -<br>",
           "disagree",
           "['object_type:None']",
           "utter_disagree"
          ],
          [
           "/connect_employee",
           null,
           "connect_employee",
           null,
           "action_handover_to_inbox"
          ],
          [
           "url",
           null,
           "handover_to_inbox",
           "url",
           "action_handover_to_inbox"
          ],
          [
           "shop ơi",
           "Chào bạn, mình là trợ lý ảo của Shop Gấu & Bí Ngô,-<br>",
           "greet",
           "[]",
           "utter_greet"
          ],
          [
           "url",
           "Dạ, có phải bạn muốn hỏi một trong các sản phẩm dư-<br>",
           "query_knowledge_base",
           "url",
           "action_query_babe_kb"
          ],
          [
           "K bàn gội đầu nữa bạn",
           "Bạn vui lòng mô tả rõ mong muốn của bạn hoặc chat -<br>",
           "disagree",
           "[]",
           "utter_disagree"
          ],
          [
           "/connect_employee",
           null,
           "connect_employee",
           null,
           "action_handover_to_inbox"
          ],
          [
           "shop ơi",
           "Chào Thu Anh, mình là trợ lý ảo của Shop Gấu & Bí -<br> Ngô!\nĐể hỗ trợ bạn nhanh nhất có thể, vui lòng mô -<br> tả ngắn gọn và rõ ràng sản phẩm muốn tìm kiếm nhé!-<br>",
           "greet",
           "[]",
           "utter_greet"
          ],
          [
           "url",
           "Dạ, có phải bạn muốn hỏi một trong các sản phẩm dư-<br>",
           "query_knowledge_base",
           "url",
           "action_query_babe_kb"
          ],
          [
           "K bàn gội đầu nữa bạn",
           "Bạn vui lòng mô tả rõ mong muốn của bạn hoặc chat -<br> với nhân viên tư vấn nhé!\n<Show button [Chat với n-<br>",
           "disagree",
           "[]",
           "utter_disagree"
          ],
          [
           "chị muốn mua thêm cái bàn gội đầu nữa",
           "Dạ hiện tại sản phẩm Bàn gội đầu shop đang hết hàn-<br>",
           "query_knowledge_base",
           "[object_type:ban_goi_dau]",
           "action_query_babe_kb"
          ],
          [
           "ok em",
           "Dạ vâng ạ!",
           "agree",
           null,
           "utter_agree"
          ],
          [
           "Bộ này bao nhiêu bạn",
           "Mình chưa xác định được món đồ bạn hỏi, bạn mô tả -<br>",
           "query_knowledge_base",
           "['mention:bộ này', 'attribute:price']",
           "action_query_babe_kb"
          ],
          [
           "url",
           "Sản phẩm  Bàn học, bản chơi lắp ghép Lego cao cấp -<br>  hiện shop đang có giá: *995,000 VND (giá gốc 1,75-<br> 0,000 VND)*.\nBạn tham khảo các sản phẩm sau nhé ạ:-<br>",
           "send_link",
           "url",
           "action_handle_send_link_only"
          ],
          [
           "url",
           "Sản phẩm  Bộ đồ chơi nhà bếp thông minh  hiện shop-<br>  đang có giá: *790,000 VND (giá gốc 790,000 VND)*.-<br>",
           "query_knowledge_base",
           "url",
           "action_query_babe_kb"
          ],
          [
           "Dạ vâng b",
           "Dạ vâng ạ!",
           "agree",
           "[]",
           "utter_agree"
          ],
          [
           "url",
           "Bạn đang tìm kiếm thông tin gì ạ?",
           "send_link",
           "url",
           "action_handle_send_link_only"
          ],
          [
           "Bộ này giâ bn ạ shop",
           "Sản phẩm  Bộ đồ chơi nhà bếp thông minh  hiện shop-<br>  đang có giá: *790,000 VND (giá gốc 790,000 VND)*.-<br>",
           "query_knowledge_base",
           "['mention:bộ này', 'attribute:price']",
           "action_query_babe_kb"
          ],
          [
           "Cho t một xe chòi chân luddy",
           "Sản phẩm  Xe Chòi Chân  hiện shop đang có giá: *69-<br> 9,000 VND (giá gốc 998,000 VND), 448,400 VND (giá -<br> gốc 590,000 VND), 499,000 VND (giá gốc 800,000 VND-<br> ), 580,000 VND (giá gốc 800,000 VND)*.\nBạn tham kh-<br>",
           "query_knowledge_base",
           "['object_type:xe_choi_chan', 'brand:luddy']",
           "action_query_babe_kb"
          ],
          [
           "mình muốn mua cái luddy",
           "Sản phẩm Xe chòi chân thương hiệu Luddy có giá: 49-<br> 9,000 VND (giá gốc 800,000 VND)\n<show card xe ludd-<br>",
           "query_knowledge_base",
           "['brand:luddy']",
           "action_query_babe_kb"
          ],
          [
           "ok, mình lấy cái này nhé",
           "\"Cảm ơn bạn! Bạn vui lòng điền thông tin vào Mẫu đ-<br> ặt hàng giúp shop nhé!\n<Show ra cái bảng mẫu đặt h-<br> àng: có tên sản phẩm, cho khách tùy chọn số lượng,-<br>  màu sắc...>\n<Các thông tin đã thu thập đc thì tự -<br>",
           "make_order",
           "['mention:cái này']",
           "action_make_order"
          ],
          [
           "ship cho m 1 xe tập đi sư tử nhé",
           "\"\"\"Cảm ơn bạn! Bạn vui lòng điền thông tin vào Mẫu-<br>  đặt hàng giúp shop nhé!\n<Show ra cái bảng mẫu đặt-<br>  hàng: có tên sản phẩm, cho khách tùy chọn số lượn-<br>",
           "query_knowledge_base",
           "['object_type:xe_tap_di,'type:sư tử'] ",
           "action_query_knowledge_base"
          ],
          [
           "<Xác nhận>",
           "Cám ơn bạn đã mua hàng tại shop, đơn hàng sẽ được -<br> giao đến 434 trần khát chân, 2 bà trưng trong khoả-<br>",
           "query_knowledge_base",
           null,
           "action_query_knowledge_base"
          ],
          [
           "hello",
           "Chào bạn, mình là trợ lý ảo của Shop Gấu & Bí Ngô,-<br>",
           "greet",
           "['brand:hello']",
           "utter_greet"
          ],
          [
           "Alo, Shop cho mình hỏi chắn cửa cho bé với",
           "Sản phẩm  thanh chắn cửa (thanh chắn cầu thang)  h-<br> iện shop đang có giá: *699,000 VND (giá gốc 998,00-<br> 0 VND), 448,400 VND (giá gốc 590,000 VND), 499,000-<br>  VND (giá gốc 800,000 VND), 580,000 VND (giá gốc 8-<br> 00,000 VND)*.\nBạn tham khảo các sản phẩm sau nhé ạ-<br>",
           "query_knowledge_base",
           "['object_type:thanh_chan_cua,']",
           "action_query_knowledge_base"
          ],
          [
           "Cái thứ 2 kích thước sao ạ",
           "Sản phẩm  thanh chắn cửa (thanh chắn cầu thang) gi-<br> á 448,400 VND (giá gốc 590,000 VND) hiện shop đang-<br>  có kích thước \n<74x85x77cm> \nMời bạn tham khảo sả-<br>",
           "query_knowledge_base",
           "['mention:2', 'attribute:size']",
           "action_query_babe_kb"
          ],
          [
           "url",
           "Có phải bạn đang muốn đặt hàng sản phẩm sau đúng k-<br> o ạ:\n< cardThảm gấp XPE> < card Thảm xốp ghép 28 t-<br>",
           "query_knowledge_base",
           "url",
           "action_query_babe_kb"
          ],
          [
           "<Đúng>",
           "\"\"\"Cảm ơn bạn! Bạn vui lòng điền thông tin vào Mẫu-<br>  đặt hàng giúp shop nhé!\n<Show ra cái bảng mẫu đặt-<br>  hàng: có tên sản phẩm, cho khách tùy chọn số lượn-<br>",
           "query_knowledge_base",
           null,
           "action_query_babe_kb"
          ],
          [
           "<Hủy>",
           "Bạn đã hủy đơn hàng thành công",
           "query_knowledge_base",
           null,
           "action_query_babe_kb"
          ],
          [
           "url",
           "Có phải bạn đang muốn đặt hàng sản phẩm sau đúng k-<br> o ạ:\n< cardThảm gấp XPE> < card Thảm xốp ghép 28 t-<br>",
           "query_knowledge_base",
           "url",
           "action_query_babe_kb"
          ],
          [
           "<Sai>",
           "- Bạn vui lòng mô tả rõ mong muốn của bạn hoặc cha-<br> t với nhân viên tư vấn nhé!\n<Show button [Chat với-<br>",
           "query_knowledge_base",
           null,
           "action_query_babe_kb"
          ],
          [
           "/connect_employee",
           null,
           "connect_employee",
           null,
           "action_handover_to_inbox"
          ],
          [
           "Bao nhiêu ạ?",
           "Mình chưa xác định được món đồ bạn hỏi, bạn mô tả -<br>",
           "query_knowledge_base",
           "['attribute:price']",
           "action_query_babe_kb"
          ],
          [
           "Thảm đàn umoo á b",
           "Dạ, sản phẩm Thảm hãng sản xuất Umoo hiện tại bên -<br> shop đang tạm hết hàng ạ. Bạn tham khảo các sản ph-<br>",
           "query_knowledge_base",
           "['object_type:tham', 'brand:umoo']",
           "action_query_babe_kb"
          ],
          [
           "ok sh",
           "Dạ vâng ạ!",
           "agree",
           null,
           "utter_agree"
          ],
          [
           "url",
           "Sản phẩm  Giá sách Hamitu  hiện shop đang có giá: -<br> *790,000 VND (giá gốc 790,000 VND)*.\nBạn tham khảo-<br>",
           "query_knowledge_base",
           "url",
           "action_query_babe_kb"
          ],
          [
           "Còn màu xanh ko shop",
           "Sản phẩm  Giá sách Hamitu  màu xanh hiện còn hàng -<br>",
           "query_knowledge_base",
           "['color:màu xanh']",
           "action_query_babe_kb"
          ],
          [
           "Ok thanks",
           "Dạ, cảm ơn ạ!",
           "thank",
           "[]",
           "utter_thank"
          ],
          [
           "hi em",
           "Chào bạn, mình là trợ lý ảo của Shop Gấu & Bí Ngô,-<br>",
           "greet",
           "[]",
           "utter_greet"
          ],
          [
           "url",
           "Có phải bạn đang muốn đặt hàng sản phẩm sau đúng k-<br>",
           "query_knowledge_base",
           "url",
           "action_query_babe_kb"
          ],
          [
           "<Đúng>",
           "\"\"\"Cảm ơn bạn! Bạn vui lòng điền thông tin vào Mẫu-<br>  đặt hàng giúp shop nhé!\n<Show ra cái bảng mẫu đặt-<br>  hàng: có tên sản phẩm, cho khách tùy chọn số lượn-<br>",
           "agree",
           null,
           "action_query_babe_kb"
          ],
          [
           "<Xác nhận>",
           "Bạn đã đặt hàng thành công, đơn hàng sẽ được giao -<br>",
           "agree",
           "[]",
           "utter_agree"
          ],
          [
           "shop oi báo giá e nhé",
           null,
           "query_knowledge_base",
           "['attribute:price']",
           "action_query_babe_kb"
          ],
          [
           "url",
           "Dạ, có phải bạn muốn hỏi một trong các sản phẩm dư-<br> ới đây không ạ?\r\n (Vui lòng ấn chọn 1 sản phẩm)...-<br>",
           "send_link",
           "url",
           "action_handle_send_link_only"
          ],
          [
           "/disagree{\"object_type\": null}\r\n\r\n",
           "Bạn vui lòng mô tả rõ mong muốn của bạn hoặc chat -<br>",
           "deny_object_type",
           "['object_type:None']",
           "utter_disagree"
          ],
          [
           "/connect_employee",
           null,
           "connect_employee",
           null,
           "action_handover_to_inbox"
          ],
          [
           "url",
           "Sản phẩm  Bộ đồ chơi nhà bếp thông minh màu xanh h-<br> iện shop đang có giá: *790,000 VND (giá gốc 790,00-<br> 0 VND)*.\nBạn tham khảo các sản phẩm sau nhé ạ:\n<sh-<br>",
           "query_knowledge_base",
           "url",
           "action_query_babe_kb"
          ],
          [
           "Làm bằng nhựa à bạn",
           "Sản phẩm  Bộ đồ chơi nhà bếp thông minh được làm t-<br>",
           "query_knowledge_base",
           "['material:bằng nhựa']",
           "action_query_babe_kb"
          ],
          [
           "thank shop",
           "Dạ,vâng ạ",
           "thank",
           null,
           "utter_thank"
          ],
          [
           "url",
           "Sản phẩm  Xe chòi chân có bàn đạp cao cấp Motion  -<br> hiện shop đang có giá: *389,400 VND (giá gốc 590,0-<br>",
           "query_knowledge_base",
           "url",
           "action_query_babe_kb"
          ],
          [
           "Xe này cho bé từ mấy tuổi ha b",
           "Sản phẩm  Xe chòi chân có bàn đạp cao cấp Motion  -<br> hiện shop đang có độ tuổi sử dụng: *0 - 36 tháng*.-<br>",
           "query_knowledge_base",
           "['object_type:xe', 'mention:này', 'attribute:age_of_use']",
           "action_query_babe_kb"
          ],
          [
           "Nước nào sản xuất vậy bạn",
           "Sản phẩm  Xe chòi chân có bàn đạp cao cấp Motion c-<br>",
           "query_knowledge_base",
           "['attribute:origin']",
           "action_query_babe_kb"
          ],
          [
           "shop ơi",
           "Chào bạn, mình là trợ lý ảo của Shop Gấu & Bí Ngô,-<br>",
           "greet",
           null,
           "utter_greet"
          ],
          [
           "url",
           "Bạn đang tìm kiếm thông tin gì ạ?",
           "send_link",
           "url",
           "action_handle_send_link_only"
          ],
          [
           "Bn vậy s",
           "Sản phẩm  XE ĐẠP CÓ MÁI CHE UMOO  hiện shop đang c-<br> ó giá: *1,148,000 VND (giá gốc 2,800,000 VND)*.\nBạ-<br> n tham khảo các sản phẩm sau nhé ạ:\n<show card sp>-<br>",
           "query_knowledge_base",
           "['attribute:price']",
           "action_query_babe_kb"
          ],
          [
           "trọng lượng xe bn ạ",
           "Sản phẩm  XE ĐẠP CÓ MÁI CHE UMOO có trọng lượng 3,-<br>",
           "query_knowledge_base",
           "['attribute:weight']",
           "action_query_babe_kb"
          ],
          [
           "Cho mình xin link shopee",
           "Sản phẩm  XE ĐẠP CÓ MÁI CHE UMOO có link shopee sa-<br>",
           "query_knowledge_base",
           "['attribute:link']",
           "action_query_babe_kb"
          ],
          [
           "Bộ này có gấp lại dc k shop",
           "Mình chưa xác định được món đồ bạn hỏi, bạn mô tả -<br>",
           "handover_to_inbox",
           "['mention:bộ này']",
           "action_handover_to_inbox"
          ],
          [
           "https://scontent.fhan1-1.fna.fbcdn.net/v/t1.15752--<br> 0/p280x280/94247169_518496298833739_47427858278037-<br> 58592_n.jpg?_nc_cat=106&_nc_sid=b96e70&_nc_ohc=tIQ-<br> pyBHqGKcAX_YGh_a&_nc_ht=scontent.fhan1-1.fna&_nc_t-<br> p=6&oh=3141a0925467d595ddf7cb2d28d75d28&oe=5EC24DB-<br> E\nhttps://scontent.fhan1-1.fna.fbcdn.net/v/t1.1575-<br> 2-0/p280x280/93419718_261010215057212_451887424476-<br> 7023104_n.jpg?_nc_cat=104&_nc_sid=b96e70&_nc_ohc=E-<br> VuxAqLJPbkAX-2BWJl&_nc_ht=scontent.fhan1-1.fna&_nc-<br> _tp=6&oh=08ddddefc4c435796d90f76c1ab9e8b3&oe=5EC58-<br>",
           "Sản phẩm abc_xyz có thể gấp gọn ạ!",
           "query_knowledge_base",
           "[\"url:['https://scontent.fhan1-1.fna.fbcdn.net/v/t1.15752-0/p280x280/94247169_518496298833739_4742785827803758592_n.jpg?_nc_cat=106&_nc_sid=b96e70&_nc_ohc=tIQpyBHqGKcAX_YGh_a&_nc_ht=scontent.fhan1-1.fna&_nc_tp=6&oh=3141a0925467d595ddf7cb2d28d75d28&oe=5EC24DBE', 'https://scontent.fhan1-1.fna.fbcdn.net/v/t1.15752-0/p280x280/93419718_261010215057212_4518874244767023104_n.jpg?_nc_cat=104&_nc_sid=b96e70&_nc_ohc=EVuxAqLJPbkAX-2BWJl&_nc_ht=scontent.fhan1-1.fna&_nc_tp=6&oh=08ddddefc4c435796d90f76c1ab9e8b3&oe=5EC5835B']\"]",
           "action_query_babe_kb"
          ],
          [
           "shop ơi",
           "Chào bạn, mình là trợ lý ảo của Shop Gấu & Bí Ngô,-<br>",
           "greet",
           null,
           "utter_greet"
          ],
          [
           "url",
           "Bạn đang tìm kiếm thông tin gì ạ?",
           "send_link",
           "url",
           "action_handle_send_link_only"
          ],
          [
           "Cho e giá nhé",
           "Sản phẩm Bộ đồ chơi nhà bếp thông minh gồm 2 size -<br> \nSize nhỏ kích thước  57x30x77cm giá KM chỉ 590,00-<br> 0 VND\nSize to kích thước 51x32x100cm Giá Km chỉ 79-<br> 0,000 VND\nBạn tham khảo các sản phẩm sau nhé ạ:\n<S-<br>",
           "query_knowledge_base",
           "['attribute:price']",
           "action_query_babe_kb"
          ],
          [
           "shop ơi",
           "Chào bạn, mình là trợ lý ảo của Shop Gấu & Bí Ngô,-<br>",
           "greet",
           null,
           "utter_greet"
          ],
          [
           "Shop còn bộ câu cá k",
           "Dạ mình còn ạ\nSản phẩm Bộ câu cá Toys House có đèn-<br> , nhạc chính hãng hiện shop có giá là 300,000 VND\n-<br> Bạn vui lòng xe thông tin sản phẩm tại đây ạ:\n<sho-<br>",
           "query_knowledge_base",
           "['object_type:bo_cau_ca']",
           "action_query_babe_kb"
          ],
          [
           "url",
           "Bạn đang tìm kiếm thông tin gì ạ?",
           "send_link",
           "url",
           "action_handle_send_link_only"
          ],
          [
           "Bnhieu z",
           "Sản phẩm Xe đạp có mái che Umoo hiện shop đang có -<br> giá: 2,800,000 VND (giá gốc 2,800,000 VND)\nBạn tha-<br>",
           "query_knowledge_base",
           "['attribute:price']",
           "action_query_babe_kb"
          ],
          [
           "Xe umoo tháo ra thanh xe đap 3 banh như nadle dc k-<br>",
           "Handover",
           "handover_to_inbox",
           "['brand:umoo', 'brand:nadle']",
           "action_handover_to_inbox"
          ],
          [
           "url",
           "Bạn đang tìm kiếm thông tin gì ạ?",
           "send_link",
           "url",
           "action_handle_send_link_only"
          ],
          [
           "url",
           "Bạn đang tìm kiếm thông tin gì ạ?",
           "send_link",
           "url",
           "action_handle_send_link_only"
          ],
          [
           "Mình muốn hỏi 2cái nôi này là 1 ah",
           "Dạ, hai sản phẩm trên khác nhau, bạn có thể tham k-<br> hảo 2 sản phẩm đó tại đây ạ:\n<show card sp 2 sp đó-<br>",
           "query_knowledge_base",
           "['object_type:noi', 'mention:này']",
           "action_query_babe_kb"
          ],
          [
           "/query_knowledge_base{\"url\": \"https://shopee.vn/pr-<br> oduct/36371562/6418671728\", \"product_id\": \"https:/-<br>",
           "Dạ mời bạn tham khảo sản phẩm hiện có tại shop nhé-<br>",
           "query_knowledge_base",
           "['url:https://shopee.vn/product/36371562/6418671728', 'product_id:https://shopee.vn/product/36371562/6418671728']",
           "action_query_babe_kb"
          ],
          [
           "url",
           "Dạ, có phải bạn muốn hỏi một trong các sản phẩm dư-<br>",
           "query_knowledge_base",
           "url",
           "action_query_babe_kb"
          ],
          [
           "/query_knowledge_base{\"url\": \"https://shopee.vn/pr-<br> oduct/36371562/3103025341\", \"product_id\": \"https:/-<br>",
           "Sản phẩm Xe NADLE 3 in 1: Xe đẩy - Chòi chân - Xe -<br> đạp hiện shop đang có giá: *2,450,000 VND (giá gốc-<br>  2,450,000 VND), 2,650,000 VND (giá gốc 2,650,000 -<br> VND), 1,550,000 VND (giá gốc 2,650,000 VND)*.\r\nBạn-<br>",
           "query_knowledge_base",
           "['url:https://shopee.vn/product/36371562/3103025341', 'product_id:https://shopee.vn/product/36371562/3103025341']",
           "action_query_babe_kb"
          ],
          [
           "url",
           "Bạn đang tìm kiếm thông tin gì ạ?",
           "send_link",
           "url",
           "action_handle_send_link_only"
          ],
          [
           "Bn em oi\nCó màu khác ko e",
           "Sản phẩm Bàn ghế đa năng Lego Holla hiện shop đang-<br>  có giá: *1,400,000 VND (giá gốc 1,400,000 VND)\nBạ-<br> n tham khảo các sản phẩm sau nhé ạ:\n<show card sp>-<br> \n\nSản phẩm Bàn ghế đa năng Lego Holla hiện shop đa-<br> ng có các mẫu: mẫu Gấu và mẫu Thỏ\nBạn tham khảo cá-<br>",
           "query_knowledge_base",
           "['attribute:price', 'attribute:color']",
           "action_query_babe_kb"
          ],
          [
           "B ơi kệ sắp về chưa b",
           "Dạ bạn muốn hỏi sản phẩm nào trong các sản phẩm dư-<br> ới đây ạ\n<show card tất cả các kệ mà shop bán kèm -<br> button bên dưới \"Cái này\">\n<button: Không có trong-<br>",
           "query_knowledge_base",
           "['object_type:ke']",
           "action_query_babe_kb"
          ],
          [
           "/query_knowledge_base{\"url\": \"https://shopee.vn/pr-<br> oduct/36371562/3103025341\", \"product_id\": \"https:/-<br>",
           "Dạ sản phẩm Kệ đa năng cao cấp Pie shop dự tính sẽ-<br>  về hàng vào ngày xx/xx ạ\nBạn vui lòng xem các sản-<br>  phẩm khác của shop nhé ạ:\n<show card các sp tương-<br>",
           "query_knowledge_base",
           "['url:https://shopee.vn/product/36371562/3103025341', 'product_id:https://shopee.vn/product/36371562/3103025341']",
           "action_query_babe_kb"
          ],
          [
           "ok shop",
           "Shop cảm ơn bạn!",
           "agree",
           null,
           "utter_agree"
          ],
          [
           "shop ơi",
           "Chào bạn, mình là trợ lý ảo của Shop Gấu & Bí Ngô,-<br>",
           "greet",
           null,
           "utter_greet"
          ],
          [
           "url",
           "Bạn đang tìm kiếm thông tin gì ạ?",
           "send_link",
           "url",
           "action_handle_send_link_only"
          ],
          [
           "Chó này này giá bao nhiêu vậy shop",
           "Dạ, có phải bạn muốn hỏi một trong các sản phẩm dư-<br>",
           "query_knowledge_base",
           "['attribute:price']",
           "action_query_babe_kb"
          ],
          [
           "Hết hàng rồi hả shop",
           "Mình chưa rõ món đồ bạn hỏi, nếu có trong danh sác-<br>",
           "query_knowledge_base",
           "[]",
           "action_query_babe_kb"
          ],
          [
           "/query_knowledge_base{\"url\": \"https://shopee.vn/pr-<br> oduct/36371562/3103025341\", \"product_id\": \"https:/-<br>",
           "Dạ, sản phẩm hiện tại bên shop đang tạm hết hàng ạ-<br> . Bạn tham khảo các sản phẩm khác dành cho bé nhé!-<br>",
           "query_knowledge_base",
           "['url:https://shopee.vn/product/36371562/3103025341', 'product_id:https://shopee.vn/product/36371562/3103025341']",
           "action_query_babe_kb"
          ],
          [
           "url",
           "Cảm ơn bạn, nhân viên của shop sẽ xác nhận sớm lại-<br>",
           "confirm_transfer",
           "url",
           "confirm_transfer"
          ],
          [
           "Shop em o dau",
           "Địa chỉ shop ở : số 16 ngõ 124 Âu Cơ, Tứ liên , Tâ-<br>",
           "ask_address",
           "[]",
           "action_ask_address"
          ],
          [
           "B ơi kệ sắp về chưa b",
           "Dạ bạn muốn hỏi sản phẩm nào trong các sản phẩm dư-<br>",
           "query_knowledge_base",
           "['object_type:ke']",
           "action_query_babe_kb"
          ],
          [
           "shop ơi",
           "Chào bạn, mình là trợ lý ảo của Shop Gấu & Bí Ngô,-<br>",
           "greet",
           null,
           "utter_greet"
          ],
          [
           "url",
           "Bạn đang tìm kiếm thông tin gì ạ?",
           "send_link",
           "url",
           "action_handle_send_link_only"
          ],
          [
           "Cho e giá nhé",
           "Sản phẩm Bộ đồ chơi nhà bếp thông minh có giá: 490-<br> .000 - 790.000 tùy mẫu mã (kích thước, màu sắc...)-<br> .\nBạn tham khảo các sản phẩm sau nhé ạ:\n<Show card-<br>",
           "query_knowledge_base",
           "['attribute:price']",
           "action_query_babe_kb"
          ],
          [
           "url",
           "Bạn đang tìm kiếm thông tin gì ạ?",
           "send_link",
           "url",
           "action_handle_send_link_only"
          ],
          [
           "Bộ này giâ bn ạ shop",
           "\"Dạ, có phải bạn muốn hỏi một trong các sản phẩm d-<br> ưới đây không ạ?\n (Vui lòng ấn chọn 1 sản phẩm)...-<br>",
           "query_knowledge_base",
           "['mention:bộ này', 'attribute:price']",
           "action_query_babe_kb"
          ],
          [
           "Loại này bn vậy bạn",
           "Mình chưa xác định được món đồ bạn hỏi, bạn mô tả -<br>",
           "query_knowledge_base",
           "['mention:loại này', 'attribute:price']",
           "action_query_babe_kb"
          ],
          [
           "url",
           "Sản phẩm  BẢNG VẼ HOLLA 2 in 1  hiện shop đang có -<br> giá: 830,000 VND (giá gốc 1,090,000 VND).\nBạn tham-<br>",
           "send_link",
           "url",
           "action_query_babe_kb"
          ],
          [
           "Có những màu gì ạ ?",
           "Dạ, BẢNG VẼ HOLLA 2 in 1 hiện có các màu: Hồng, Xa-<br>",
           "query_knowledge_base",
           "['attribute:color']",
           "action_query_babe_kb"
          ],
          [
           "Để mình tham khảo thêm , có gì mình báo sớm",
           null,
           "handover_to_inbox",
           null,
           "action_handover_to_inbox"
          ],
          [
           "Shop có ghế nhún k b",
           "Sản phẩm Ghế nhún hiện shop đang có các sản phẩm s-<br> au ạ:\r\n<show card các sản phẩm object_type ghe_nhu-<br>",
           "query_knowledge_base",
           "['object_type:ghe_nhun']",
           "action_query_babe_kb"
          ],
          [
           "Shop ơi",
           "Chào bạn, mình là trợ lý ảo của Shop Gấu & Bí Ngô,-<br>",
           "greet",
           "[]",
           "utter_greet"
          ],
          [
           "Mình mua bộ đồ chơi nấu ăn cho bé\nHappy little che-<br>",
           "Sản phẩm Đồ chơi nấu ăn hiện shop đang có các sản -<br> phẩm sau ạ:\n<show card các sản phẩm object_type do-<br>",
           "query_knowledge_base",
           "['object_type:do_choi_nau_an']",
           "action_query_babe_kb"
          ],
          [
           "ok ạ",
           "Vâng ạ!",
           "agree",
           null,
           "utter_agree"
          ],
          [
           "Shop ơi",
           "Chào bạn, mình là trợ lý ảo của Shop Gấu & Bí Ngô,-<br>",
           "greet",
           "[]",
           "utter_greet"
          ],
          [
           "Cái thanh chắn cầu thang giá bn vậy bạn",
           "Sản phẩm Thanh nối chặn hiện shop đang có các sản -<br> phẩm sau ạ:\n<show card các sản phẩm object_type th-<br>",
           "query_knowledge_base",
           "['object_type:thanh_noi_chan','attribute:price']",
           "action_query_babe_kb"
          ],
          [
           "ok ạ",
           "Vâng ạ!",
           "agree",
           null,
           "utter_agree"
          ],
          [
           "gửi ảnh giúp c đc ko",
           "Mình chưa xác định được món đồ bạn hỏi, bạn mô tả -<br>",
           "query_knowledge_base",
           "['attribute:image']",
           "action_query_babe_kb"
          ],
          [
           "m cần tìm ghế ăn cho bé",
           "Sản phẩm Ghế Ăn hiện shop đang có các mức giá sau -<br>",
           "query_knowledge_base",
           "['object_type:ghe_an']",
           "action_query_babe_kb"
          ],
          [
           "Chào shop",
           "Chào bạn, mình là trợ lý ảo của Shop Gấu & Bí Ngô,-<br>",
           "greet",
           "[]",
           "utter_greet"
          ],
          [
           "Cho  mình xin giá máy pha sữa bên shop nhé ạ",
           "Sản phẩm  Máy pha sữa cao cấp Tiny Baby Formula (N-<br> hật Bản)  hiện shop đang có giá: *3,530,000 VND (g-<br> iá gốc 3,850,000 VND)*.\nBạn tham khảo các sản phẩm-<br>",
           "query_knowledge_base",
           "['attribute:price', 'object_type:may_pha_sua']",
           "action_query_babe_kb"
          ],
          [
           "Chào shop",
           "Chào bạn, mình là trợ lý ảo của Shop Gấu & Bí Ngô,-<br>",
           "greet",
           "[]",
           "utter_greet"
          ],
          [
           "Shop cho hỏi có bán ghế ăn dặm cho trẻ con không",
           "Hiện tại sản phẩm Ghế Ăn  shop đang có những *giá*-<br>",
           "query_knowledge_base",
           "['object_type:ghe_an']",
           "action_query_babe_kb"
          ],
          [
           "/confirm_attribute_value{\"price\": \"500k - 1M\"}",
           "Dạ mời bạn tham khảo sản phẩm hiện có tại shop nhé-<br>",
           "confirm_attribute_value",
           "['price:500k - 1M']",
           "action_query_babe_kb"
          ],
          [
           "Tôi muốn mua loại 799k",
           "Sản phẩm  Ghế ăn đa năng kết hợp xe kéo MASTELA 10-<br> 18 CHÍNH HÃNG giá 799k hiện shop đang có giá: *799-<br> ,000 VND (giá gốc 1,300,000 VND)*.\nBạn tham khảo c-<br>",
           "query_knowledge_base",
           "['price:799k']",
           "action_query_babe_kb"
          ],
          [
           "Cái này 30kg có ngồi được ko",
           "Sản phẩm  Ghế ăn đa năng kết hợp xe kéo MASTELA 10-<br> 18 CHÍNH HÃNG có trọng tải: 13kg ạ\nBạn tham khảo c-<br>",
           "query_knowledge_base",
           "['mention:cái này', 'capacity:30kg']",
           "action_query_babe_kb"
          ],
          [
           "ok shop",
           "Vâng ạ!",
           "agree",
           null,
           "utter_agree"
          ],
          [
           "Có freeship k an\nẠ\nShip hcm",
           "Dạ bạn vui lòng chờ trong vài phút, nhân viên sẽ t-<br>",
           "handover_to_inbox",
           "[]",
           "action_handover_to_inbox"
          ],
          [
           "Dạ,bao lâu thì biết đc mình có đc nhận qà hay k ạ",
           "Dạ bạn vui lòng chờ trong vài phút, nhân viên sẽ t-<br>",
           "handover_to_inbox",
           "[]",
           "action_handover_to_inbox"
          ],
          [
           "url",
           "Sản phẩm Bộ đồ chơi nhà bếp thông minh hiện shop đ-<br> ang có giá: 790000 VND (giá gốc 790000 VND). Bạn t-<br> ham khảo các sản phẩm sau nhé ạ:\n<show card sp>\n\nS-<br> ản phẩm Xe chòi chân kiêm xe lắc cao cấp có nhạc H-<br> olla hiện shop đang có giá: *790,000 VND (giá gốc -<br> 1,200,000 VND)*.\nBạn tham khảo các sản phẩm sau nh-<br>",
           "query_knowledge_base",
           "url",
           "action_query_babe_kb"
          ],
          [
           "ok shop",
           "Vâng ạ!",
           "agree",
           null,
           "utter_agree"
          ],
          [
           "Bàn này gập gọn vào dc ko bạn?",
           "Dạ, bạn vui lòng xem hướng dẫn sử dụng sản phẩm tạ-<br> i đây ạ\n<show video hướng dẫn sử dụng trong shopee-<br>",
           "query_knowledge_base",
           "['mention:bàn này','attribute:video']",
           "action_query_babe_kb"
          ],
          [
           "url",
           "Sản phẩm  Xe tập đi đa năng cao cấp Holla hiện sho-<br> p đang có giá: 1200.000 VND\nBạn tham khảo các sản -<br>",
           "query_knowledge_base",
           "url",
           "action_query_babe_kb"
          ],
          [
           "Cảm ơn shop",
           "Cảm ơn bạn!",
           "thank",
           "[]",
           "utter_thank"
          ],
          [
           "Shop ship cho em 1 chiếc xe đẩy Holla màu xanh nhé-<br>",
           "{Các câu hỏi bot có thể hỏi để đủ thông tin:}\r\n- D-<br> ạ bạn muốn đặt sản phẩm nào ạ?\r\n- Bạn muốn đặt số -<br> lượng bao nhiêu? + 5 button từ 1 đến 5\r\n- Số điện -<br> thoại người nhận?\r\n- Địa chỉ nhận hàng? (Số nhà, p-<br> hường/xã, quận/huyện, tỉnh/thành phố)\r\n- Bạn có lư-<br> u ý gì cho bên vận chuyển không? (vd: cần gấp...)\r-<br> \n\r\n{Nếu đã đủ thông tin sẽ show ra} Đơn hàng của b-<br>",
           "query_knowledge_base",
           "['object_type:xe_day', 'brand:holla', 'color:màu xanh']",
           "action_query_babe_kb"
          ],
          [
           "Shop ơi",
           "Chào bạn, mình là trợ lý ảo của Shop Gấu & Bí Ngô,-<br>",
           "greet",
           "[]",
           "utter_greet"
          ],
          [
           "E chào shop\nE xin giá xe đẩy với ạ",
           "Hiện tại sản phẩm Xe Đẩy  shop đang có những *giá*-<br>",
           "query_knowledge_base",
           "['attribute:price', 'object_type:xe_day']",
           "action_query_babe_kb"
          ],
          [
           "E quên ạ\nXe tròn tập đi ấy ạ",
           "Hiện tại sản phẩm Xe Tập Đi  shop đang có những *g-<br>",
           "query_knowledge_base",
           "['object_type:xe_tap_di']",
           "action_query_babe_kb"
          ],
          [
           "url",
           "Bạn đang tìm kiếm thông tin gì ạ?",
           "send_link",
           "url",
           "action_handle_send_link_only"
          ],
          [
           "Giá tiền ban ơi",
           "Sản phẩm Quây HOLLA FULL PHIÊN BẢN 2020 MẪU VƯƠNG -<br> MIỆN hiện shop đang có giá: 4190.000 VND\nBạn tham -<br>",
           "query_knowledge_base",
           "['attribute:price']",
           "action_query_babe_kb"
          ],
          [
           "Thanks b nhé",
           "Cảm ơn bạn!",
           "thank",
           "[]",
           "utter_thank"
          ],
          [
           "Chào shop",
           "Chào bạn, mình là trợ lý ảo của Shop Gấu & Bí Ngô,-<br>",
           "greet",
           "[]",
           "utter_greet"
          ],
          [
           "Đồ eco còmybaby hết loại 6-9m hả chị",
           "Dạ, vấn đề này mình không hỗ trợ bạn được. Bạn vui-<br>  lòng bấm \"Chat với nhân viên\" và chờ trong giây l-<br> át, nhân viên sẽ trả lời bạn sớm nhất có thể ạ. \n(-<br>",
           "query_knowledge_base",
           "['object_type:quan_ao']['size:6-9m']",
           "action_query_babe_kb"
          ],
          [
           "/connect_employee",
           null,
           "handover_to_inbox",
           "[]",
           "action_handover_to_inbox"
          ],
          [
           "Okie bạn\nBạn cho tớ tổng tiền nhé",
           "Dạ, vấn đề này mình không hỗ trợ bạn được. Bạn vui-<br>  lòng bấm \"Chat với nhân viên\" và chờ trong giây l-<br> át, nhân viên sẽ trả lời bạn sớm nhất có thể ạ. \n(-<br>",
           "handover_to_inbox",
           "[]",
           "action_handover_to_inbox"
          ],
          [
           "url",
           "Sản phẩm Xe chòi chân kiêm xe lắc cao cấp có nhạc -<br> Holla hiện shop đang có giá: *790,000 VND (giá gốc-<br>  1,200,000 VND)*.\nBạn tham khảo các sản phẩm sau n-<br> hé ạ:\n<show card sp>\nSản phẩm Voi mẹ phun nước hiệ-<br> n shop đang có giá: *189,000 VND (giá gốc 290,000 -<br> VND)*.\nBạn tham khảo các sản phẩm sau nhé ạ:\n<show-<br>  card sp>\nSản phẩm  Xe tập đi đa năng cao cấp Holl-<br> a hiện shop đang có giá: *750,000 VND (giá gốc 1,2-<br> 00,000 VND)*.\nBạn tham khảo các sản phẩm sau nhé ạ-<br>",
           "query_knowledge_base",
           "url",
           "action_query_babe_kb"
          ],
          [
           "url",
           "Sản phẩm Xe chòi chân kiêm xe lắc cao cấp có nhạc -<br> Holla hiện shop đang có giá: *790,000 VND (giá gốc-<br>  1,200,000 VND)*.\r\nBạn tham khảo các sản phẩm sau -<br>",
           "query_knowledge_base",
           "url",
           "action_query_babe_kb"
          ],
          [
           "ok ạ",
           "Vâng ạ!",
           "agree",
           null,
           "utter_agree"
          ],
          [
           "Xe nadle có tay đẩy ko b",
           "Dạ, vấn đề này mình không hỗ trợ bạn được. Bạn vui-<br>  lòng bấm \"Chat với nhân viên\" và chờ trong giây l-<br> át, nhân viên sẽ trả lời bạn sớm nhất có thể ạ. \n(-<br>",
           "query_knowledge_base",
           "['brand:nadle','accessories:tay đẩy']",
           "action_query_babe_kb"
          ],
          [
           "/connect_employee",
           null,
           "handover_to_inbox",
           "[]",
           "action_handover_to_inbox"
          ],
          [
           "Cho mình link shoppe",
           "Dạ bạn cần xin link shopee của shop hay của sản ph-<br>",
           "query_knowledge_base",
           "['attribute:link']",
           "action_query_babe_kb"
          ],
          [
           "Xe lắc đó b",
           "Dạ mời bạn xem sản phẩm tại đây ạ:\n- Link Shopee: -<br>",
           "query_knowledge_base",
           "['object_type: xe_tap_di','attribute:link']",
           "action_query_babe_kb"
          ],
          [
           "Chào ad. Cho tớ hỏi mình còn thảm xốp Infantino 28-<br>",
           "Sản phẩm  Thảm hãng sản xuất Infantino, chất liệu -<br> Xốp 28 miếng hiện shop còn hàng, shop đang có giá:-<br>  *99,000 VND (giá gốc 99,000 VND), 279,000 VND (gi-<br> á gốc 349,000 VND), 179,000 VND (giá gốc 179,000 V-<br>",
           "query_knowledge_base",
           "['object_type:tham', 'material:xốp', 'brand:infantino','number of pieces:28 miếng']",
           "action_query_babe_kb"
          ],
          [
           "Loại 28 miếng có những màu gì hả ad? Hay chỉ có 1 -<br>",
           "Sản phẩm  Thảm hãng sản xuất Infantino, chất liệu -<br> Xốp 28 miếng hiện shop đang có màu: *Xanh, Hồng*.\n-<br>",
           "query_knowledge_base",
           "['attribute:color', 'attribute:color']",
           "action_query_babe_kb"
          ],
          [
           "Oki tớ cảm ơn nhiều nhé!",
           "Cảm ơn bạn!",
           "thank",
           "[]",
           "utter_thank"
          ],
          [
           "Shop đã về xích đu & cầu trượt holla chưa ạ",
           "Sản phẩm  Cầu trượt xích đu Hola hải cẩu 2020 hãng-<br>  sản xuất Holla hiện shop đang có giá: *1,982,500 -<br> VND (giá gốc 3,250,000 VND)*.\nBạn tham khảo các sả-<br>",
           "query_knowledge_base",
           "['object_type:cau_truot', object_type:xich_du', 'brand:holla']",
           "action_query_babe_kb"
          ],
          [
           "Xích đu shop còn màu gì ạ",
           "Sản phẩm  Cầu trượt xích đu Hola hải cẩu 2020 hãng-<br>  sản xuất Holla hiện shop đang có màu: *Vàng, Hồng-<br>",
           "query_knowledge_base",
           "['object_type:xich_du','attribute:color']",
           "action_query_babe_kb"
          ],
          [
           "Shop đã về xích đu & cầu trượt holla chưa ạ",
           "Mời bạn tham khảo các sản phẩm Cầu trượt, Xích đu,-<br>  nhãn hiệu Holla đang có tại shop ạ:\n<show card cá-<br>",
           "query_knowledge_base",
           "['object_type:cau_truot', object_type:xich_du', 'brand:holla']",
           "action_query_babe_kb"
          ],
          [
           "Xích đu shop còn màu gì ạ",
           "Sản phẩm Xích đu nhãn hiệu Holla đang có các màu s-<br>",
           "query_knowledge_base",
           "['object_type:xich_du','attribute:color']",
           "action_query_babe_kb"
          ],
          [
           "ok shop",
           "Vâng ạ!",
           "agree",
           null,
           "utter_agree"
          ],
          [
           "url",
           "Sản phẩm này hiện tại Shop không có, mời bạn tham -<br> khảo các Giường đang có tại shop ạ:\n<Show card Giư-<br>",
           "query_knowledge_base",
           "url",
           "action_query_babe_kb"
          ],
          [
           "bộ bang lego thi bao nhieu",
           "Mình chưa xác định được món đồ bạn hỏi, bạn mô tả -<br>",
           "query_knowledge_base",
           "['attribute:price']",
           "action_query_babe_kb"
          ],
          [
           "bàn lego ah",
           "Sản phẩm Bàn Lego hiện đang có giá: 1.035.000 VNĐ -<br> (Giá gốc: 1.750.000 VNĐ), 1.050.000VNĐ (Giá gốc: 1-<br>",
           "query_knowledge_base",
           "['object_type:ban_lego']",
           "action_query_babe_kb"
          ],
          [
           "bộ bàn lego thi bao nhieu",
           "Sản phẩm Bàn Lego hiện đang có giá: 1.035.000 VNĐ -<br> (Giá gốc: 1.750.000 VNĐ), 1.050.000VNĐ (Giá gốc: 1-<br>",
           "query_knowledge_base",
           "['attribute:price', 'object_type:ban_lego']",
           "action_query_babe_kb"
          ],
          [
           "thank b nhé",
           "Shop cảm ơn bạn ạ",
           "thank",
           "[]",
           "utter thank"
          ],
          [
           "shop ơi",
           "Chào bạn, mình là trợ lý ảo của Shop Gấu & Bí Ngô,-<br>",
           "greet",
           null,
           "utter_greet"
          ],
          [
           "Shop có máy tiệt trùng uv fatz đúng ko ạ",
           "Mời bạn tham khảo các sản phẩm Máy tiệt trùng thươ-<br> ng hiệu Fatz đang có tại shop ạ:\n<card 1> <card 2>-<br>",
           "query_knowledge_base",
           "['object_type:may_tiet_trung', 'brand:fatz']",
           "action_query_babe_kb"
          ],
          [
           "shop ơi",
           "Chào bạn, mình là trợ lý ảo của Shop Gấu & Bí Ngô,-<br>",
           "greet",
           null,
           "utter_greet"
          ],
          [
           "url",
           "Sản phẩm TẶNG 02 bình sữa cao cấp - Máy tiệt trùng-<br>  sấy khô tia UV cao cấp Fatz Baby FB4702 hiện có g-<br> iá: 2.390.000 VNĐ (Giá gốc: 2.750.000 VNĐ).\n<show -<br>",
           "query_knowledge_base",
           "url",
           "action_query_babe_kb"
          ],
          [
           "ok shop",
           "Dạ vâng ạ!",
           "agree",
           null,
           "utter_agree"
          ],
          [
           "shop ơi",
           "Chào bạn, mình là trợ lý ảo của Shop Gấu & Bí Ngô,-<br>",
           "greet",
           null,
           "utter_greet"
          ],
          [
           "url",
           "Dạ, có phải bạn muốn hỏi một trong các sản phẩm dư-<br> ới đây không ạ?\n (Vui lòng ấn chọn 1 sản phẩm)\n\n<s-<br>",
           "query_knowledge_base",
           "url",
           "action_query_babe_kb"
          ],
          [
           "/query_knowledge_base{\"url\": \"https://shopee.vn/pr-<br> oduct/36371562/3210697307\", \"product_id\": \"https:/-<br>",
           "Sản phẩm TẶNG 02 bình sữa cao cấp - Máy tiệt trùng-<br>  sấy khô tia UV cao cấp Fatz Baby FB4702 hiện có g-<br> iá: 2.390.000 VNĐ (Giá gốc: 2.750.000 VNĐ).\r\n<show-<br>",
           "query_knowledge_base",
           "['url:https://shopee.vn/product/36371562/3210697307', 'product_id:https://shopee.vn/product/36371562/3210697307']",
           "action_query_babe_kb"
          ],
          [
           "url",
           "Bạn đang tìm kiếm thông tin gì ạ?",
           "send_link",
           "url",
           "action_handle_send_link_only"
          ],
          [
           "Bạn có mẫu ntn ko\nCho mình xin thông số",
           "Sản phẩm Ghế đa năng cao cấp Mastela 1015 hiện có -<br> giá: 1.320.000 VNĐ (Giá gốc: 1.599.000 VNĐ).\nMời b-<br> ạn xem chi tiết thông tin sản phẩm tại đường link:-<br>",
           "query_knowledge_base",
           "[]",
           "action_query_babe_kb"
          ],
          [
           "url",
           "Bạn đang tìm kiếm thông tin gì ạ?",
           "send_link",
           "url",
           "action_handle_send_link_only"
          ],
          [
           "Bạn có mẫu ntn ko\nCho mình xin thông số",
           "Sản phẩm Ghế đa năng cao cấp Mastela 1015 hiện đan-<br> g hết hàng. Mời bạn tham khảo các sản phẩm Ghế ăn -<br>",
           "query_knowledge_base",
           "[]",
           "action_query_babe_kb"
          ],
          [
           "url",
           "Bạn đang tìm kiếm thông tin gì ạ?",
           "send_link",
           "url",
           "action_handle_send_link_only"
          ],
          [
           "Bạn có mẫu ntn ko\nCho mình xin thông số",
           "Dạ, có phải bạn muốn hỏi một trong các sản phẩm dư-<br> ới đây không ạ?\n (Vui lòng ấn chọn 1 sản phẩm)\n\n<s-<br>",
           "query_knowledge_base",
           "[]",
           "action_query_babe_kb"
          ],
          [
           "Chào shop",
           "Chào bạn, mình là trợ lý ảo của Shop Gấu & Bí Ngô,-<br>",
           "greet",
           null,
           "utter_greet"
          ],
          [
           "Hiện bên mình có những mẫu thú nhún nào",
           "Sản phẩm Thú nhún Toys House hiện có giá 239.000 V-<br> NĐ (Giá gốc: 275.000 VNĐ).\nMời bạn tham khảo sản p-<br>",
           "query_knowledge_base",
           "['object_type:thu_nhun']",
           "action_query_babe_kb"
          ],
          [
           "Chào shop",
           "Chào bạn, mình là trợ lý ảo của Shop Gấu & Bí Ngô,-<br>",
           "greet",
           null,
           "utter_greet"
          ],
          [
           "Hiện bên mình có những mẫu thú nhún nào",
           "Sản phẩm Thú nhún hiện shop đang có các sản phẩm s-<br> au ạ:\n<show card các sản phẩm object type thu_nhun-<br>",
           "query_knowledge_base",
           "['object_type:thu_nhun']",
           "action_query_babe_kb"
          ],
          [
           "ok shop",
           "Vâng ạ!",
           "agree",
           null,
           "utter_agree"
          ],
          [
           "url",
           "Sản phẩm Bàn học, bàn chơi lắp ghép Lego cao cấp h-<br> iện đang có giá: 1.035.000 VNĐ (Giá gốc: 1.750.000-<br>  VNĐ)\n<Show card sản phẩm 1>\n\nSản phẩm Voi mẹ phun-<br>  nước hiện đang có giá: 189.000 VNĐ (Giá gốc: 290.-<br>",
           "query_knowledge_base",
           "url",
           "action_query_babe_kb"
          ],
          [
           "url",
           "Bạn đang tìm kiếm thông tin gì ạ?",
           "send_link",
           "url",
           "action_handle_send_link_only"
          ],
          [
           "url",
           "Sản phẩm COMBO HOLLA FULL PHIÊN BẢN 2020 MẪU VƯƠNG-<br>  MIỆN đang có giá 4.100.000 VNĐ (Giá gốc: 5.000.00-<br>",
           "query_knowledge_base",
           "url",
           "action_query_babe_kb"
          ],
          [
           "ok shop",
           "Vâng ạ!",
           "agree",
           null,
           "utter_agree"
          ],
          [
           "url",
           "Dạ, có phải bạn muốn hỏi một trong các sản phẩm dư-<br> ới đây không ạ?\n (Vui lòng ấn chọn 1 sản phẩm)\n\n<s-<br>",
           "query_knowledge_base",
           "url",
           "action_query_babe_kb"
          ],
          [
           "url",
           "Dạ, có phải bạn muốn hỏi một trong các sản phẩm dư-<br>",
           "query_knowledge_base",
           "url",
           "action_query_babe_kb"
          ],
          [
           "/query_knowledge_base{\"url\": \"https://shopee.vn/pr-<br> oduct/36371562/5307497099\", \"product_id\": \"https:/-<br>",
           "Sản phẩm GHẾ NHẢY JUMPEROO KONIG KIDS CHÍNH HÃNG h-<br> iện có giá 1.190.000 VNĐ (Giá gốc: 1.900.000 VNĐ).-<br> \nMời bạn tham khảo sản phẩm tại đường link:\n<show -<br>",
           "query_knowledge_base",
           "['url:https://shopee.vn/product/36371562/3210697307', 'product_id:https://shopee.vn/product/36371562/3210697307']",
           "action_query_babe_kb"
          ],
          [
           "url",
           "Sản phẩm GHẾ NHẢY JUMPEROO KONIG KIDS CHÍNH HÃNG h-<br> iện có giá 1.190.000 VNĐ (Giá gốc: 1.900.000 VNĐ).-<br> \nMời bạn tham khảo sản phẩm tại đường link:\n<show -<br>",
           "query_knowledge_base",
           "url",
           "action_query_babe_kb"
          ],
          [
           "ok shop",
           "Dạ vâng ạ!",
           "agree",
           null,
           "utter_agree"
          ],
          [
           "url",
           null,
           "handover_to_inbox",
           "url",
           "action_handover_to_inbox"
          ],
          [
           "url",
           "Sản phẩm MÁY XAY HẤP ĐA NĂNG NUTRIBABY PLUS 5IN1 (-<br> Pháp) hiện có giá: 3.979.000 VNĐ (Giá gốc: 4.890.0-<br>",
           "query_knowledge_base",
           "url",
           "action_query_babe_kb"
          ],
          [
           "ok shop",
           "Dạ vâng ạ!",
           "agree",
           null,
           "utter_agree"
          ],
          [
           "Chào shop",
           "Chào bạn, mình là trợ lý ảo của Shop Gấu & Bí Ngô,-<br>",
           "greet",
           null,
           "utter_greet"
          ],
          [
           "url",
           "\"Sản phẩm  COMBO HOLLA LIÊN HOÀN 2020 có giá 4.100-<br>",
           "query_knowledge_base",
           "url",
           "action_query_babe_kb"
          ],
          [
           "Chào shop",
           "Chào bạn, mình là trợ lý ảo của Shop Gấu & Bí Ngô,-<br>",
           "greet",
           null,
           "utter_greet"
          ],
          [
           "url",
           "Sản phẩm  COMBO HOLLA LIÊN HOÀN 2020 có giá 4.100.-<br>",
           "query_knowledge_base",
           "url",
           "action_query_babe_kb"
          ],
          [
           "có những màu gì shop nhỉ?",
           "Sản phẩm COMBO HOLLA LIÊN HOÀN 2020 có màu: Xanh, -<br>",
           null,
           null,
           null
          ],
          [
           "ok, thank shop nhé",
           "Shop cảm ơn bạn ạ.",
           "thank",
           null,
           "utter_thank"
          ],
          [
           "mình muốn mua máy tiệt trùng uv\ntư vấn mình với",
           "\"Hiện tại sản phẩm Máy tiệt trùng  shop đang có nh-<br>",
           "query_knowledge_base",
           "[]",
           "action_query_babe_kb"
          ],
          [
           "Ok m đặt trên shopee nha",
           "Dạ vâng ạ!",
           "just_inform",
           null,
           null
          ],
          [
           "Shop ship cho minh ve dịa chi nay cái nhé 04 dường-<br>  hạc thành. Phường tân sơn. Thành phố thanh hóa 09-<br>",
           null,
           "handover_to_inbox",
           "[]",
           "action_handover_to_inbox"
          ],
          [
           "Vâng ạ. Phí ship SG khoảng bao nhiêu ạ",
           "Shop Gấu và Bí ngô sẵn sàng phục vụ, gửi hàng trên-<br>  toàn quốc. Chi tiết chính sách giao hàng bạn xem -<br>",
           "ask_ship",
           "['attribute:price']",
           "utter_ask_ship"
          ],
          [
           "url",
           "Bạn đang tìm kiếm thông tin gì ạ?",
           "send_link",
           "url",
           "action_handle_send_link_only"
          ],
          [
           "E bị mất khóa ở bộ phận này\nBên mình có bán lẻ k ạ",
           null,
           "handover_to_inbox",
           "['mention:bộ phận này']",
           "action_handover_to_inbox"
          ],
          [
           "url",
           "Sản phẩm Xe đẩy 2 chiều cao cấp VOVO 2019 đang có -<br> giá: 1.620.000 VNĐ (Giá gốc: 2.500.000 VNĐ).\nMời b-<br>",
           "query_knowledge_base",
           "url",
           "action_query_babe_kb"
          ],
          [
           "Xe đẩy này đang giảm giá phải k",
           "Sản phẩm Xe đẩy 2 chiều cao cấp VOVO 2019 đang có -<br>",
           "query_knowledge_base",
           "['object_type:xe_day', 'attribute:promotion']",
           "action_query_babe_kb"
          ],
          [
           "url",
           "Sản phẩm Xe đẩy 2 chiều cao cấp VOVO 2019 đang có -<br> giá: 1.620.000 VNĐ (Giá gốc: 2.500.000 VNĐ).\nMời b-<br> ạn xem chi tiết sản phẩm tại link:\n<Show card>\n\nSả-<br> n phẩm Thanh đồ chơi treo nôi, cũi, xe đẩy, ghế ng-<br> ồi ô tô hình chim có nhạc Infantino (Mỹ) đang có g-<br> iá: 279.000 VNĐ (Giá gốc: 399.000 VNĐ).\nSản phẩm X-<br> e đẩy 2 chiều cao cấp VOVO 2019 đang có giá: 1.620-<br> .000 VNĐ (Giá gốc: 2.500.000 VNĐ).\r\nMời bạn xem ch-<br>",
           "query_knowledge_base",
           "url",
           "action_query_babe_kb"
          ],
          [
           "Xe đẩy này đang giảm giá phải k",
           "Sản phẩm Xe đẩy 2 chiều cao cấp VOVO 2019 đang có -<br>",
           "query_knowledge_base",
           "['object_type:xe_day', 'attribute:promotion']",
           "action_query_babe_kb"
          ],
          [
           "url",
           "Bạn đang tìm kiếm thông tin gì ạ?",
           "send_link",
           "url",
           "action_handle_send_link_only"
          ],
          [
           "Mình có cầu trượt này của hola k c",
           "Sản phẩm Cầu trượt xích đu Hola hải cẩu 2020 đang -<br> có giá: 1.990.000 VNĐ (Giá gốc: 3.250.000 VNĐ).\nMờ-<br>",
           "query_knowledge_base",
           "['object_type:cau_truot', 'mention:này', 'brand:hola']",
           "action_query_babe_kb"
          ],
          [
           "url",
           "Bạn đang tìm kiếm thông tin gì ạ?",
           "send_link",
           "url",
           "action_handle_send_link_only"
          ],
          [
           "Mình có cầu trượt này của hola k c",
           "Sản phẩm Cầu trượt xích đu Hola hải cẩu 2020 shop -<br> đang tạm hết hàng. Bạn tham khảo các sản phẩm Cầu -<br>",
           "query_knowledge_base",
           "['object_type:cau_truot', 'mention:này', 'brand:hola']",
           "action_query_babe_kb"
          ],
          [
           "Khi nào có hàng lại ạ",
           null,
           "handover_to_inbox",
           "[]",
           "action_handover_to_inbox"
          ],
          [
           "Bạn ơi",
           "Chào bạn, mình là trợ lý ảo của Shop Gấu & Bí Ngô,-<br>",
           "greet",
           "[]",
           "utter_greet"
          ],
          [
           "Tiki giao hàng chậm quá mình hủy đơn rồi",
           null,
           "handover_to_inbox",
           "[]",
           "action_handover_to_inbox"
          ],
          [
           "url",
           "Dạ, có phải bạn muốn hỏi một trong các sản phẩm dư-<br>",
           "query_knowledge_base",
           "url",
           "action_query_babe_kb"
          ],
          [
           "/query_knowledge_base{\"url\": \"https://shopee.vn/pr-<br> oduct/36371562/3220636191\", \"product_id\": \"https:/-<br>",
           "Sản phẩm  Bộ đồ chơi đàn Piano kết hợp 10 nhạc cụ -<br> BKIDS 003398  hiện shop đang có giá: *880,000 VND -<br> (giá gốc 1,200,000 VND)*.\nBạn tham khảo các sản ph-<br>",
           "query_knowledge_base",
           "['url:https://shopee.vn/product/36371562/3220636191', 'product_id:https://shopee.vn/product/36371562/3220636191']",
           "action_query_babe_kb"
          ],
          [
           "url",
           "Sản phẩm  Bộ đồ chơi đàn Piano kết hợp 10 nhạc cụ -<br> BKIDS 003398  hiện shop đang có giá: *880,000 VND -<br> (giá gốc 1,200,000 VND)*.\nBạn tham khảo các sản ph-<br>",
           "query_knowledge_base",
           "url",
           "action_query_babe_kb"
          ],
          [
           "Còn xe màu xanh k bạn?",
           "Sản phẩm bạn đang tìm có phải là?",
           "query_knowledge_base",
           "['color:màu xanh','object_type:xe']",
           "action_query_babe_kb"
          ],
          [
           "url",
           "Dạ, có phải bạn muốn hỏi một trong các sản phẩm dư-<br>",
           "send_link",
           "url",
           "action_handle_send_link_only"
          ],
          [
           "/disagree{\"object_type\": null}",
           "Bạn vui lòng mô tả rõ mong muốn của bạn hoặc chat -<br>",
           "disagree",
           "['object_type:None']",
           "utter_disagree"
          ],
          [
           "Mình gửi ảnh ở trên bạn ơi\nXem tin nhắn đi",
           null,
           "handover_to_inbox",
           "['attribute:image']",
           "action_handover_to_inbox"
          ],
          [
           "Còn xe màu xanh k bạn?",
           "Sản phẩm bạn đang tìm có phải là?",
           "query_knowledge_base",
           "['color:màu xanh','object_type:xe']",
           "action_query_babe_kb"
          ],
          [
           "url",
           "Dạ, có phải bạn muốn hỏi một trong các sản phẩm dư-<br>",
           "send_link",
           "url",
           "action_handle_send_link_only"
          ],
          [
           "/query_knowledge_base{\"url\": \"https://www.facebook-<br> .com/shopgauvabingo/posts/2445777899065867\", \"prod-<br> uct_id\": \"https://www.facebook.com/shopgauvabingo/-<br>",
           "Sản phẩm Xe chòi chân kiêm xe lắc cao cấp có nhạc -<br> Holla hiện shop đang có giá: *790,000 VND (giá gốc-<br>  1,200,000 VND)*.\nBạn tham khảo các sản phẩm sau n-<br>",
           "query_knowledge_base",
           null,
           "action_query_babe_kb"
          ],
          [
           "thank shop",
           "Dạ, cảm ơn bạn!",
           "thank",
           null,
           "utter_thank"
          ],
          [
           "Còn xe màu xanh k bạn?",
           "Sản phẩm bạn đang tìm có phải là?",
           "query_knowledge_base",
           "['color:màu xanh','object_type:xe']",
           "action_query_babe_kb"
          ],
          [
           "url",
           "Sản phẩm Xe chòi chân kiêm xe lắc cao cấp có nhạc -<br> Holla hiện shop đang có giá: *790,000 VND (giá gốc-<br>  1,200,000 VND)*.\nBạn tham khảo các sản phẩm sau n-<br>",
           "send_link",
           "url",
           "action_handle_send_link_only"
          ],
          [
           "thank shop",
           "Dạ, cảm ơn bạn!",
           "thank",
           null,
           "utter_thank"
          ],
          [
           "Còn xe màu xanh k bạn?",
           "Sản phẩm bạn đang tìm có phải là?",
           "query_knowledge_base",
           "['color:màu xanh','object_type:xe']",
           "action_query_babe_kb"
          ],
          [
           "url",
           "Sản phẩm Xe chòi chân kiêm xe lắc cao cấp có nhạc -<br> Holla hiện shop còn hàng và đang có giá: *790,000 -<br> VND (giá gốc 1,200,000 VND)*.\r\nBạn tham khảo các s-<br>",
           "send_link",
           "url",
           "action_handle_send_link_only"
          ],
          [
           "thank shop",
           "Dạ, cảm ơn bạn!",
           "thank",
           null,
           "utter_thank"
          ],
          [
           "Còn xe màu xanh k bạn?",
           "Sản phẩm bạn đang tìm có phải là?",
           "query_knowledge_base",
           "['color:màu xanh','object_type:xe']",
           "action_query_babe_kb"
          ],
          [
           "url",
           "Sản phẩm Xe chòi chân kiêm xe lắc cao cấp có nhạc -<br> Holla hiện shop hết hàng ạ\nBạn tham khảo các sản p-<br>",
           "send_link",
           "url",
           "action_handle_send_link_only"
          ],
          [
           "thank shop",
           "Dạ, cảm ơn bạn!",
           "thank",
           null,
           "utter_thank"
          ],
          [
           "url",
           "Sản phẩm Xe chòi chân kiêm xe lắc cao cấp có nhạc -<br> Holla hiện shop đang có giá: *790,000 VND (giá gốc-<br>  1,200,000 VND)*.\nBạn tham khảo các sản phẩm sau n-<br>",
           "query_knowledge_base",
           "url",
           "action_query_babe_kb"
          ],
          [
           "url",
           "Bạn đang tìm kiếm thông tin gì ạ?",
           "send_link",
           "url",
           "action_query_babe_kb"
          ],
          [
           "xe này bao nhiêu ạ",
           "Sản phẩm Xe NADLE 3 in 1: Xe đẩy - Chòi chân - Xe -<br> đạp hiện shop đang có giá: *1,550,000 VND (giá gốc-<br>  2,650,000 VND)*.\nBạn tham khảo các sản phẩm sau n-<br>",
           "query_knowledge_base",
           "['attribute:price','object_type:xe','mention:này']",
           "action_query_babe_kb"
          ],
          [
           "ok shop",
           "Dạ,vâng",
           "agree",
           null,
           "utter_agree"
          ],
          [
           "url",
           "Sản phẩm Xe chòi chân kiêm xe lắc cao cấp có nhạc -<br> Holla hiện shop đang có giá: *790,000 VND (giá gốc-<br>  1,200,000 VND)*.\nBạn tham khảo các sản phẩm sau n-<br>",
           "query_knowledge_base",
           "url",
           "action_query_babe_kb"
          ],
          [
           "url",
           "Sản phẩm Xe NADLE 3 in 1: Xe đẩy - Chòi chân - Xe -<br> đạp hiện shop đang có giá: *1,550,000 VND (giá gốc-<br>  2,650,000 VND)*.\r\nBạn tham khảo các sản phẩm sau -<br>",
           "send_link",
           "url",
           "action_query_babe_kb"
          ],
          [
           "ok shop",
           "Dạ,vâng",
           "agree",
           null,
           "utter_agree"
          ],
          [
           "url",
           "Dạ, có phải bạn muốn hỏi một trong các sản phẩm dư-<br>",
           "query_knowledge_base",
           "url",
           "action_query_babe_kb"
          ],
          [
           "/disagree{\"object_type\": null}",
           "Bạn vui lòng mô tả rõ mong muốn của bạn hoặc chat -<br>",
           "disagree",
           "['object_type:None']",
           "utter_disagree"
          ],
          [
           "/connect_employee",
           null,
           "connect_employee",
           null,
           "action_handover_to_inbox"
          ],
          [
           "url",
           "Sản phẩm Xe chòi chân kiêm xe lắc cao cấp có nhạc -<br> Holla hiện shop đang có giá: *790,000 VND (giá gốc-<br>  1,200,000 VND)*.\nBạn tham khảo các sản phẩm sau n-<br>",
           "query_knowledge_base",
           "url",
           "action_query_babe_kb"
          ],
          [
           "xe lắc Holla có trên shopee chưa bạn",
           "Dạ mời bạn tham khảo sản phẩm Xe chòi chân kiêm xe-<br>",
           "query_knowledge_base",
           "['object_type:xe', 'attribute:link','brand:Holla']",
           "action_query_babe_kb"
          ],
          [
           "url",
           "Dạ, có phải bạn muốn hỏi một trong các sản phẩm dư-<br>",
           "query_knowledge_base",
           "url",
           "action_query_babe_kb"
          ],
          [
           "/query_knowledge_base{\"url\": \"https://www.facebook-<br> .com/shopgauvabingo/posts/2445777899065867\", \"prod-<br> uct_id\": \"https://www.facebook.com/shopgauvabingo/-<br>",
           "Sản phẩm Xe chòi chân kiêm xe lắc cao cấp có nhạc -<br> Holla hiện shop đang có giá: *790,000 VND (giá gốc-<br>  1,200,000 VND)*.\nBạn tham khảo các sản phẩm sau n-<br>",
           "query_knowledge_base",
           null,
           "action_query_babe_kb"
          ],
          [
           "url",
           "Sản phẩm  Cầu trượt xích đu Hola hải cẩu 2020  hiệ-<br> n shop đang có giá: *1,982,500 VND (giá gốc 3,250,-<br>",
           "send_link",
           "url",
           "action_handle_send_link_only"
          ],
          [
           "url",
           "Sản phẩm Xe chòi chân kiêm xe lắc cao cấp có nhạc -<br> Holla hiện shop đang có giá: *790,000 VND (giá gốc-<br>  1,200,000 VND)*.\nBạn tham khảo các sản phẩm sau n-<br>",
           "query_knowledge_base",
           "url",
           "action_query_babe_kb"
          ],
          [
           "url",
           "Sản phẩm  Cầu trượt xích đu Hola hải cẩu 2020  hiệ-<br> n shop đang có giá: *1,982,500 VND (giá gốc 3,250,-<br>",
           "send_link",
           "url",
           "action_handle_send_link_only"
          ],
          [
           "ok shop",
           "Dạ,vâng",
           "agree",
           null,
           "utter_agree"
          ],
          [
           "url",
           "Dạ, có phải bạn muốn hỏi một trong các sản phẩm dư-<br>",
           "query_knowledge_base",
           "url",
           "action_query_babe_kb"
          ],
          [
           "/disagree{\"object_type\": null}",
           "Bạn vui lòng mô tả rõ mong muốn của bạn hoặc chat -<br>",
           "disagree",
           "['object_type:None']",
           "utter_disagree"
          ],
          [
           "/connect_employee",
           null,
           "connect_employee",
           null,
           "action_handover_to_inbox"
          ],
          [
           "url",
           "Sản phẩm Xe chòi chân kiêm xe lắc cao cấp có nhạc -<br> Holla hiện shop đang có giá: *790,000 VND (giá gốc-<br>  1,200,000 VND)*.\nBạn tham khảo các sản phẩm sau n-<br>",
           "query_knowledge_base",
           "url",
           "action_query_babe_kb"
          ],
          [
           "Ok bạn thế để t xem lại rùi báo nha",
           "Dạ,vâng",
           "end_conversation",
           null,
           "action_end_conversation"
          ],
          [
           "url",
           "Dạ, có phải bạn muốn hỏi một trong các sản phẩm dư-<br>",
           "query_knowledge_base",
           "url",
           "action_query_babe_kb"
          ],
          [
           "/query_knowledge_base{\"url\": \"https://www.facebook-<br> .com/shopgauvabingo/posts/2445777899065867\", \"prod-<br> uct_id\": \"https://www.facebook.com/shopgauvabingo/-<br>",
           "Sản phẩm Xe chòi chân kiêm xe lắc cao cấp có nhạc -<br> Holla hiện shop đang có giá: *790,000 VND (giá gốc-<br>  1,200,000 VND)*.\nBạn tham khảo các sản phẩm sau n-<br>",
           "query_knowledge_base",
           null,
           "action_query_babe_kb"
          ],
          [
           "bé 13m đã dùng đc chưa bạn nhỉ?",
           "Sản phẩm  Xe chòi chân kiêm xe lắc cao cấp có nhạc-<br>  Holla hiện shop đang có độ tuổi sử dụng: 0 - 36 t-<br>",
           "query_knowledge_base",
           "['age_of_use:13m']",
           "action_query_babe_kb"
          ],
          [
           "Ok bạn",
           "Dạ,vâng",
           "agree",
           null,
           "utter_agree"
          ],
          [
           "url",
           "Sản phẩm Xe chòi chân kiêm xe lắc cao cấp có nhạc -<br> Holla hiện shop đang có giá: *790,000 VND (giá gốc-<br>  1,200,000 VND)*.\nBạn tham khảo các sản phẩm sau n-<br>",
           "query_knowledge_base",
           "url",
           "action_query_babe_kb"
          ],
          [
           "có những màu gì sh",
           "Sản phẩm  Xe chòi chân kiêm xe lắc cao cấp có nhạc-<br>  Holla hiện shop đang có màu: Hồng, Xanh.\nBạn tham-<br>",
           "query_knowledge_base",
           "['attribute:color']",
           "action_query_babe_kb"
          ],
          [
           "Để mình tham khảo ",
           null,
           "handover_to_inbox",
           null,
           "action_handover_to_inbox"
          ],
          [
           "url",
           "Sản phẩm Xe chòi chân kiêm xe lắc cao cấp có nhạc -<br> Holla hiện shop đang có giá: *790,000 VND (giá gốc-<br>  1,200,000 VND)*.\nBạn tham khảo các sản phẩm sau n-<br>",
           "query_knowledge_base",
           "url",
           "action_query_babe_kb"
          ],
          [
           "có những màu gì sh",
           "Sản phẩm  Xe chòi chân kiêm xe lắc cao cấp có nhạc-<br>  Holla hiện shop đang có màu: Hồng, Xanh.\nBạn tham-<br>",
           "query_knowledge_base",
           "['attribute:color']",
           "action_query_babe_kb"
          ],
          [
           "Để mình tham khảo ",
           "Dạ, vâng ạ",
           "end_conversation",
           null,
           "action_end_conversation"
          ],
          [
           "url",
           "Dạ, có phải bạn muốn hỏi một trong các sản phẩm dư-<br>",
           "query_knowledge_base",
           "url",
           "action_query_babe_kb"
          ],
          [
           "/query_knowledge_base{\"url\": \"https://www.facebook-<br> .com/shopgauvabingo/posts/2445777899065867\", \"prod-<br> uct_id\": \"https://www.facebook.com/shopgauvabingo/-<br>",
           "Sản phẩm Xe chòi chân kiêm xe lắc cao cấp có nhạc -<br> Holla hiện shop đang có giá: *790,000 VND (giá gốc-<br>  1,200,000 VND)*.\nBạn tham khảo các sản phẩm sau n-<br>",
           "query_knowledge_base",
           null,
           "action_query_babe_kb"
          ],
          [
           "Ok bạn",
           "Dạ,vâng",
           "agree",
           null,
           "utter_agree"
          ],
          [
           "url",
           "Sản phẩm Xe chòi chân kiêm xe lắc cao cấp có nhạc -<br> Holla hiện shop đang có giá: *790,000 VND (giá gốc-<br>  1,200,000 VND)*.\nBạn tham khảo các sản phẩm sau n-<br>",
           "query_knowledge_base",
           "url",
           "action_query_babe_kb"
          ],
          [
           "thank shop",
           "Dạ, cảm ơn bạn!",
           "thank",
           null,
           "utter_thank"
          ],
          [
           "hi shop",
           "Chào bạn, mình là trợ lý ảo của Shop Gấu & Bí Ngô,-<br>",
           "greet",
           null,
           "utter_greet"
          ],
          [
           "url",
           "Bạn đang tìm kiếm thông tin gì ạ?",
           "query_knowledge_base",
           "url",
           "action_query_babe_kb"
          ],
          [
           "Xe đẩy loại này còn k shop",
           "Sản phẩm Xe đẩy siêu nhẹ Umoo hiện shop đang có gi-<br> á: *749,000 VND (giá gốc 1,200,000 VND)*.\nBạn tham-<br>",
           "query_knowledge_base",
           "['object_type:xe_day', 'mention:loại này']",
           "action_query_babe_kb"
          ],
          [
           "Ok bạn",
           "Dạ,vâng",
           "agree",
           null,
           "utter_agree"
          ],
          [
           "hi shop",
           "Chào bạn, mình là trợ lý ảo của Shop Gấu & Bí Ngô,-<br>",
           "greet",
           null,
           "utter_greet"
          ],
          [
           "url",
           "Bạn đang tìm kiếm thông tin gì ạ?",
           "query_knowledge_base",
           "url",
           "action_query_babe_kb"
          ],
          [
           "Xe đẩy loại này còn k shop",
           "Sản phẩm Xe đẩy siêu nhẹ Umoo hiện shop đang hết h-<br>",
           "query_knowledge_base",
           "['object_type:xe_day', 'mention:loại này']",
           "action_query_babe_kb"
          ],
          [
           "Ok bạn",
           "Dạ,vâng",
           "agree",
           null,
           "utter_agree"
          ],
          [
           "url",
           "Dạ, có phải bạn muốn hỏi một trong các sản phẩm dư-<br> ới đây không ạ?\r\n (Vui lòng ấn chọn 1 sản phẩm)...-<br>",
           "query_knowledge_base",
           "url",
           "action_query_babe_kb"
          ],
          [
           "/disagree{\"object_type\": null}",
           "Bạn vui lòng mô tả rõ mong muốn của bạn hoặc chat -<br>",
           "disagree",
           "['object_type:None']",
           "utter_disagree"
          ],
          [
           "/connect_employee",
           null,
           "connect_employee",
           "[]",
           "action_handover_to_inbox"
          ],
          [
           "url",
           "Sản phẩm bạn đang tìm có phải là?",
           "query_knowledge_base",
           "url",
           "action_query_babe_kb"
          ],
          [
           "/disagree{\"object_type\": null}",
           "Bạn vui lòng mô tả rõ mong muốn của bạn hoặc chat -<br>",
           "disagree",
           "['object_type:None']",
           "utter_disagree"
          ],
          [
           "/connect_employee",
           null,
           "connect_employee",
           "[]",
           "action_handover_to_inbox"
          ],
          [
           "url",
           "Sản phẩm Bộ bảo vệ 7 món hiện shop đang có giá: *7-<br> 49,000 VND (giá gốc 1,200,000 VND)*.\nBạn tham khảo-<br>",
           "query_knowledge_base",
           "url",
           "action_query_babe_kb"
          ],
          [
           "để mình xem có gì minh báo",
           null,
           "handover_to_inbox",
           null,
           "action_handover_to_inbox"
          ],
          [
           "url",
           "Bạn đang tìm kiếm thông tin gì ạ?",
           "send_link",
           "url",
           "action_handle_send_link_only"
          ],
          [
           "Bạn ơi giường đệm đi kèm giá như nào",
           "Sản phẩm bạn đang tìm có phải là?",
           "query_knowledge_base",
           "['object_type:giuong', 'attribute:price']",
           "action_query_babe_kb"
          ],
          [
           "/disagree{\"object_type\": null}",
           "Bạn vui lòng mô tả rõ mong muốn của bạn hoặc chat -<br>",
           "disagree",
           "['object_type:None']",
           "utter_disagree"
          ],
          [
           "/connect_employee",
           null,
           "connect_employee",
           "[]",
           "action_handover_to_inbox"
          ],
          [
           "url",
           "Bạn đang tìm kiếm thông tin gì ạ?",
           "send_link",
           "url",
           "action_handle_send_link_only"
          ],
          [
           "Bạn ơi giường đệm đi kèm giá như nào",
           "Dạ, có phải bạn muốn hỏi một trong các sản phẩm dư-<br> ới đây không ạ?\r\n (Vui lòng ấn chọn 1 sản phẩm)...-<br>",
           "query_knowledge_base",
           "['object_type:giuong', 'attribute:price']",
           "action_query_babe_kb"
          ],
          [
           "/query_knowledge_base{\"url\": \"https://www.facebook-<br> .com/shopgauvabingo/posts/2445681652408825\", \"prod-<br> uct_id\": \"https://www.facebook.com/shopgauvabingo/-<br>",
           "Sản phẩm Giường nhựa Holla hiện shop đang có giá: -<br> *749,000 VND (giá gốc 1,200,000 VND)*.\nBạn tham kh-<br>",
           "query_knowledge_base",
           null,
           "action_query_babe_kb"
          ],
          [
           "Ok shop",
           "Dạ,vâng",
           "agree",
           null,
           "utter_agree"
          ],
          [
           "url",
           "Bạn đang tìm kiếm thông tin gì ạ?",
           "send_link",
           "url",
           "action_handle_send_link_only"
          ],
          [
           "Bạn ơi giường đệm đi kèm giá như nào",
           "Sản phẩm Giường nhựa Holla hiện shop đang có giá: -<br> *749,000 VND (giá gốc 1,200,000 VND)*.\r\nBạn tham k-<br>",
           "query_knowledge_base",
           "['object_type:giuong', 'attribute:price']",
           "action_query_babe_kb"
          ],
          [
           "thank shop",
           "Dạ, vâng ạ!",
           "thank",
           null,
           "utter_thank"
          ],
          [
           "alo shop",
           "Chào bạn, mình là trợ lý ảo của Shop Gấu & Bí Ngô,-<br>",
           "greet",
           null,
           "utter_greet"
          ],
          [
           "Shop có xe scooter ko ạ?",
           "Sản phẩm bạn đang tìm có phải là?",
           "query_knowledge_base",
           "['object_type:xe','brand:scooter']",
           "action_query_babe_kb"
          ],
          [
           "/deny_object_type{\"object_type\": null}",
           "Bạn vui lòng mô tả rõ mong muốn của bạn hoặc chat -<br>",
           "deny_object_type",
           "['object_type:None']",
           "utter_disagree"
          ],
          [
           "/connect_employee",
           null,
           "connect_employee",
           "[]",
           "action_handover_to_inbox"
          ],
          [
           "alo shop",
           "Chào bạn, mình là trợ lý ảo của Shop Gấu & Bí Ngô,-<br>",
           "greet",
           null,
           "utter_greet"
          ],
          [
           "Shop có xe scooter ko ạ?",
           "Hiện tại sản phẩm xe scooter  shop đang có những g-<br>",
           "query_knowledge_base",
           "['object_type:xe_scooter']",
           "action_query_babe_kb"
          ],
          [
           "/confirm_attribute_value{\"price\": \"500-1M\"}",
           "Hiện tại sản phẩm xe scooter giá 500 - 1m shop đan-<br>",
           "query_knowledge_base",
           null,
           "action_query_babe_kb"
          ],
          [
           "/confirm_attribute_value{\"brand\": \"Vinng\"}",
           "Dạ mời bạn tham khảo sản phẩm hiện có tại shop nhé-<br>",
           "query_knowledge_base",
           null,
           "action_query_babe_kb"
          ],
          [
           "Bạn ơi bên bạn hiện còn những loại cầu trượt nào n-<br>",
           "Sản phẩm  Cầu trượt xích đu Hola hải cẩu 2020  hiệ-<br> n shop đang có giá: *1,982,500 VND (giá gốc 3,250,-<br>",
           "query_knowledge_base",
           "['object_type:cau_truot']",
           "action_query_babe_kb"
          ],
          [
           "ok shop",
           "Dạ,vâng",
           "agree",
           null,
           "utter_agree"
          ],
          [
           "Bạn ơi bên bạn hiện còn những loại cầu trượt nào n-<br>",
           "Hiện tại sản phẩm cầu trượt  shop đang có những gi-<br>",
           "query_knowledge_base",
           "['object_type:cau_truot']",
           "action_query_babe_kb"
          ],
          [
           "/confirm_attribute_value{\"price\": \"1M-2M\"}",
           "Dạ mời bạn tham khảo sản phẩm hiện có tại shop nhé-<br>",
           "query_knowledge_base",
           null,
           "action_query_babe_kb"
          ],
          [
           "Có cái nào rẻ hơn k bạn\r\nCầu trượt riêng thôi",
           null,
           "handover_to_inbox",
           "['object_type:cau_truot']",
           "action_handover_to_inbox"
          ],
          [
           "Bạn ơi bên bạn hiện còn những loại cầu trượt nào n-<br>",
           "Sản phẩm  Cầu trượt xích đu Hola hải cẩu 2020  hiệ-<br> n shop đang có giá: *1,982,500 VND (giá gốc 3,250,-<br>",
           "query_knowledge_base",
           "['object_type:cau_truot']",
           "action_query_babe_kb"
          ],
          [
           "Có cái nào rẻ hơn k bạn\r\nCầu trượt riêng thôi",
           "Sản phẩm  Cầu trượt có giá thấp hơn: *1,982,500 VN-<br> D (giá gốc 3,250,000 VND)* shop có một số sản phẩm-<br>",
           "query_knowledge_base",
           "['object_type:cau_truot']",
           "action_query_babe_kb"
          ],
          [
           "Bạn ơi bên bạn hiện còn những loại cầu trượt nào n-<br>",
           "Sản phẩm  Cầu trượt xích đu Hola hải cẩu 2020  hiệ-<br> n shop đang có giá: *1,982,500 VND (giá gốc 3,250,-<br>",
           "query_knowledge_base",
           "['object_type:cau_truot']",
           "action_query_babe_kb"
          ],
          [
           "Có cái nào rẻ hơn k bạn\r\nCầu trượt riêng thôi",
           "Sản phẩm  Cầu trượt có giá thấp hơn: *1,982,500 VN-<br> D (giá gốc 3,250,000 VND)* shop hiện không có.\nBạn-<br>",
           "query_knowledge_base",
           "['object_type:cau_truot']",
           "action_query_babe_kb"
          ],
          [
           null,
           "Bạn đã tìm đc sản phẩm ưng ý chưa ạ ,có cần trợ lý-<br>",
           "reminder",
           null,
           "action_reminder"
          ],
          [
           "Cho m stk tối nhận hàng m ck nhé",
           "Dạ mình gửi bạn thông tin tài khoản của shop ạ:\nTh-<br> ông tin chuyển khoản: \n• 0611001928974 - VietcomBa-<br> nk chi nhánh Ba Đình. Nguyễn Lê Thuỷ\n• 15002167568-<br> 61 - Agribank chi nhánh Hà Nội - Nguyễn Lê Thủy\n• -<br> 19022876983383 - Techcombank chi nhánh Hà Nội. Ngu-<br> yễn Tuấn Quang! \nNội dung chuyển khoản bạn ghi rõ -<br> Tên Facebook + số điện thoại và nhắn lại bên mình -<br>",
           "ask_account",
           null,
           "action_ask_account"
          ],
          [
           "ok shop",
           null,
           "agree",
           null,
           "utter_agree"
          ],
          [
           "url",
           "Bạn đang tìm kiếm thông tin gì ạ?",
           "send_link",
           "url",
           "action_handle_send_link_only"
          ],
          [
           "Bạn ơi bạn có cầu trượt này k?",
           "Dạ, có phải bạn muốn hỏi một trong các sản phẩm dư-<br>",
           "query_knowledge_base",
           "['object_type:cau_truot', 'mention:này']",
           "action_query_babe_kb"
          ],
          [
           "/disagree{\"object_type\": null}",
           "Bạn vui lòng mô tả rõ mong muốn của bạn hoặc chat -<br>",
           "disagree",
           null,
           "utter_disagree"
          ],
          [
           "/connect_employee",
           null,
           "connect_employee",
           "[]",
           "action_handover_to_inbox"
          ],
          [
           "url",
           "Bạn đang tìm kiếm thông tin gì ạ?",
           "send_link",
           "url",
           "action_handle_send_link_only"
          ],
          [
           "Bạn ơi bạn có cầu trượt này k?",
           "Dạ, có phải bạn muốn hỏi một trong các sản phẩm dư-<br>",
           "query_knowledge_base",
           "['object_type:cau_truot', 'mention:này']",
           "action_query_babe_kb"
          ],
          [
           "Cái như mình gửi ảnh ấy",
           "Bạn vui lòng mô tả rõ mong muốn của bạn hoặc chat -<br>",
           "disagree",
           null,
           "utter_disagree"
          ],
          [
           null,
           "Bạn đã tìm đc sản phẩm ưng ý chưa ạ ,có cần trợ lý-<br>",
           "reminder",
           null,
           "action_reminder"
          ],
          [
           "C lấy bộ lego thỏ nhé\nNhắn c stk c ck",
           "Dạ mình gửi bạn thông tin tài khoản của shop ạ:\nTh-<br> ông tin chuyển khoản: \n• 0611001928974 - VietcomBa-<br> nk chi nhánh Ba Đình. Nguyễn Lê Thuỷ\n• 15002167568-<br> 61 - Agribank chi nhánh Hà Nội - Nguyễn Lê Thủy\n• -<br> 19022876983383 - Techcombank chi nhánh Hà Nội. Ngu-<br> yễn Tuấn Quang! \nNội dung chuyển khoản bạn ghi rõ -<br> Tên Facebook + số điện thoại và nhắn lại bên mình -<br>",
           "ask_account",
           null,
           "action_ask_account"
          ],
          [
           "Ship về 28 ngõ 48 ngô gia tự, long biên 0989067795",
           "\"Cảm ơn bạn! Bạn vui lòng kiểm tra lại thông tin đ-<br> ặt hàng giúp shop nhé!\r\n<Show ra cái bảng mẫu đặt -<br> hàng: có tên sản phẩm, cho khách tùy chọn số lượng-<br>",
           "order",
           "[]",
           "action_order"
          ],
          [
           "<xác nhận>",
           "Bạn đã đặt hàng thành công , đơn hàng sẽ đc giao đ-<br> ến 28 ngõ 48 ngô gia tự, long biên trong khoảng 24-<br>",
           "confirm_order",
           null,
           "action_confirm_order"
          ],
          [
           "alo shop",
           "Chào bạn, mình là trợ lý ảo của Shop Gấu & Bí Ngô,-<br>",
           "greet",
           null,
           "utter_greet"
          ],
          [
           "url",
           "Sản phẩm  Ghế đa năng Mastela Premium 1016  hiện s-<br> hop đang có giá: *1,590,000 VND (giá gốc 2,000,000-<br>",
           "query_knowledge_base",
           "url",
           "action_query_babe_kb"
          ],
          [
           "chiều nay ship được luôn cho mình được không",
           null,
           "handover_to_inbox",
           null,
           "action_handover_to_inbox"
          ],
          [
           "alo shop",
           "Chào bạn, mình là trợ lý ảo của Shop Gấu & Bí Ngô,-<br>",
           "greet",
           null,
           "utter_greet"
          ],
          [
           "url",
           "Sản phẩm  Ghế đa năng Mastela Premium 1016  hiện s-<br> hop đang có giá: *1,590,000 VND (giá gốc 2,000,000-<br>",
           "query_knowledge_base",
           "url",
           "action_query_babe_kb"
          ],
          [
           "chiều nay ship được luôn cho mình được không",
           "Bạn cho shop xin địa chỉ nhận hàng ạ.",
           "time_ship",
           null,
           "action_time_ship"
          ],
          [
           "số 7 tràng thi",
           "Với địa chỉ số 7 tràng thi shop có thể ship hàng đ-<br>",
           "time_ship",
           null,
           "action_time_ship"
          ],
          [
           "url",
           "Dạ, có phải bạn muốn hỏi một trong các sản phẩm dư-<br>",
           "query_knowledge_base",
           "url",
           "action_query_babe_kb"
          ],
          [
           "/query_knowledge_base{\"url\": \"https://www.facebook-<br> .com/shopgauvabingo/posts/2435578706752453\", \"prod-<br> uct_id\": \"https://www.facebook.com/shopgauvabingo/-<br>",
           "Bộ đồ chơi nhà bếp thông minh hiện shop đang có gi-<br> á: 790000 VND (giá gốc 790000 VND). Bạn tham khảo -<br>",
           "query_knowledge_base",
           null,
           "action_query_babe_kb"
          ],
          [
           "oki shop",
           "Dạ, vâng ạ",
           "agree",
           null,
           "utter_agree"
          ],
          [
           "url",
           "Sản phẩm bạn đang tìm có phải là?",
           "query_knowledge_base",
           "url",
           "action_query_babe_kb"
          ],
          [
           "/confirm_object_type{\"object_type\": \"bo_do_choi\"}",
           "Bộ đồ chơi nhà bếp thông minh hiện shop đang có gi-<br> á: 790000 VND (giá gốc 790000 VND). Bạn tham khảo -<br>",
           "query_knowledge_base",
           null,
           "action_query_babe_kb"
          ],
          [
           "oki shop",
           "Dạ, vâng ạ",
           "agree",
           null,
           "utter_agree"
          ],
          [
           "url",
           "Bộ đồ chơi nhà bếp thông minh hiện shop đang có gi-<br> á: 790000 VND (giá gốc 790000 VND). Bạn tham khảo -<br>",
           "query_knowledge_base",
           "url",
           "action_query_babe_kb"
          ],
          [
           "có những kích thước gì ạ",
           "Sản phẩm  Bộ đồ chơi nhà bếp thông minh có kích th-<br> ước: 57x30x77cm và 51x32x100cm\nBạn tham khảo các s-<br>",
           "query_knowledge_base",
           "['attribute:size']",
           "action_query_babe_kb"
          ],
          [
           null,
           "Bạn đã tìm đc sản phẩm ưng ý chưa ạ ,có cần trợ lý-<br>",
           "reminder",
           null,
           "action_reminder"
          ],
          [
           "Thế còn loại nào nữa ko c\nXe chòi chân ý",
           "Sản phẩm  Xe Chòi Chân  hiện shop đang có giá: *58-<br> 0,000 VND (giá gốc 800,000 VND), 499,000 VND (giá -<br> gốc 800,000 VND), 699,000 VND (giá gốc 998,000 VND-<br> ), 448,400 VND (giá gốc 590,000 VND), 576,000 VND -<br> (giá gốc 800,000 VND)*.\nBạn tham khảo các sản phẩm-<br>",
           "query_knowledge_base",
           "['object_type:xe_choi_chan']",
           "action_query_babe_kb"
          ],
          [
           "thank sop",
           "dạ,vâng ạ",
           "thank",
           null,
           "utter_thank"
          ],
          [
           "Shop cho e stk agribank để e ck ạ",
           "Dạ mình gửi bạn thông tin tài khoản của shop ạ:\nTh-<br> ông tin chuyển khoản: \n• 0611001928974 - VietcomBa-<br> nk chi nhánh Ba Đình. Nguyễn Lê Thuỷ\n• 15002167568-<br> 61 - Agribank chi nhánh Hà Nội - Nguyễn Lê Thủy\n• -<br> 19022876983383 - Techcombank chi nhánh Hà Nội. Ngu-<br> yễn Tuấn Quang! \nNội dung chuyển khoản bạn ghi rõ -<br> Tên Facebook + số điện thoại và nhắn lại bên mình -<br>",
           "ask_account",
           null,
           "action_ask_account"
          ],
          [
           "Mình chuyển khoản rồi nhé ",
           null,
           "handover_to_inbox",
           null,
           "action_handover_to_inbox"
          ],
          [
           "Shop cho e stk agribank để e ck ạ",
           "Dạ mình gửi bạn thông tin tài khoản của shop ạ:\nTh-<br> ông tin chuyển khoản: \n• 0611001928974 - VietcomBa-<br> nk chi nhánh Ba Đình. Nguyễn Lê Thuỷ\n• 15002167568-<br> 61 - Agribank chi nhánh Hà Nội - Nguyễn Lê Thủy\n• -<br> 19022876983383 - Techcombank chi nhánh Hà Nội. Ngu-<br> yễn Tuấn Quang! \nNội dung chuyển khoản bạn ghi rõ -<br> Tên Facebook + số điện thoại và nhắn lại bên mình -<br>",
           "ask_account",
           null,
           "action_ask_account"
          ],
          [
           "url",
           "Cảm ơn bạn, nhân viên của shop sẽ xác nhận sớm lại-<br>",
           "confirm_transfer",
           null,
           "confirm_transfer"
          ],
          [
           "url",
           "Sản phẩm Xe chòi chân kiêm xe lắc cao cấp có nhạc -<br> Holla hiện shop đang có giá: *790,000 VND (giá gốc-<br>  1,200,000 VND)*.\nBạn tham khảo các sản phẩm sau n-<br>",
           "query_knowledge_base",
           "url",
           "action_query_babe_kb"
          ],
          [
           "ok shop",
           "Vâng ạ!",
           "agree",
           null,
           "utter_agree"
          ],
          [
           "Chào shop",
           "Chào bạn, mình là trợ lý ảo của Shop Gấu & Bí Ngô,-<br>",
           "greet",
           "[]",
           "utter_greet"
          ],
          [
           "Đồ eco còmybaby hết loại 6-9m hả chị",
           "Sản phẩm Eco Comfybaby độ tuổi sử dụng 6 - 9 tháng-<br>  hiện đang hết hàng. Mời bạn tham khảo các sản phẩ-<br>",
           "query_knowledge_base",
           "['object_type:quan_ao']['size:6-9m']",
           "action_query_babe_kb"
          ],
          [
           "ok shop",
           "Vâng ạ!",
           "agree",
           null,
           "utter_agree"
          ],
          [
           "url",
           "Sản phẩm  Xe tập đi đa năng cao cấp Holla hiện sho-<br> p đang có giá: *750,000 VND (giá gốc 1,200,000 VND-<br> )*.\nBạn tham khảo các sản phẩm sau nhé ạ:\n<show ca-<br>",
           "query_knowledge_base",
           "url",
           "action_query_babe_kb"
          ],
          [
           "ok shop",
           "Vâng ạ!",
           "agree",
           null,
           "utter_agree"
          ],
          [
           "Cho mình link shoppe",
           "Mình chưa xác định được món đồ bạn hỏi, bạn mô tả -<br>",
           "query_knowledge_base",
           "['attribute:link']",
           "action_query_babe_kb"
          ],
          [
           "Xe lắc đó b",
           "Dạ mời bạn xem sản phẩm tại đây ạ:\n<show card sp>",
           "query_knowledge_base",
           "['object_type: xe_tap_di','attribute:link']",
           "action_query_babe_kb"
          ]
         ],
         "hovertemplate": "x=%{x}<br>y=%{y}<br>z=%{z}<br>short_input_texts=%{customdata[0]}<br>short_bot_texts=%{customdata[1]}<br>intent=%{customdata[2]}<br>short_entities=%{customdata[3]}<br>action_1=%{customdata[4]}<br>cluster=%{marker.color}<extra></extra>",
         "legendgroup": "",
         "marker": {
          "color": [
           5,
           1,
           5,
           3,
           0,
           5,
           1,
           0,
           1,
           0,
           3,
           3,
           0,
           3,
           1,
           0,
           3,
           5,
           0,
           3,
           5,
           5,
           5,
           1,
           4,
           1,
           5,
           3,
           1,
           3,
           3,
           5,
           0,
           3,
           3,
           5,
           1,
           0,
           3,
           5,
           0,
           3,
           5,
           4,
           0,
           3,
           5,
           4,
           0,
           3,
           5,
           0,
           3,
           1,
           1,
           5,
           1,
           1,
           4,
           5,
           3,
           1,
           1,
           1,
           5,
           1,
           3,
           3,
           0,
           3,
           5,
           0,
           3,
           3,
           0,
           0,
           3,
           5,
           3,
           3,
           5,
           3,
           3,
           3,
           1,
           5,
           5,
           3,
           3,
           0,
           3,
           1,
           5,
           1,
           4,
           1,
           5,
           4,
           0,
           1,
           4,
           1,
           5,
           1,
           3,
           5,
           3,
           5,
           1,
           1,
           4,
           3,
           1,
           4,
           5,
           1,
           5,
           5,
           1,
           4,
           5,
           3,
           3,
           0,
           1,
           4,
           5,
           1,
           4,
           5,
           3,
           1,
           4,
           1,
           5,
           0,
           3,
           1,
           1,
           4,
           0,
           5,
           5,
           5,
           4,
           5,
           5,
           3,
           5,
           1,
           0,
           3,
           5,
           4,
           3,
           3,
           1,
           4,
           3,
           3,
           5,
           1,
           1,
           3,
           5,
           4,
           3,
           1,
           1,
           3,
           4,
           0,
           3,
           4,
           0,
           5,
           4,
           5,
           5,
           4,
           5,
           1,
           4,
           5,
           5,
           5,
           4,
           0,
           3,
           1,
           1,
           4,
           0,
           1,
           4,
           0,
           3,
           4,
           5,
           1,
           4,
           0,
           5,
           1,
           4,
           0,
           1,
           3,
           5,
           4,
           1,
           5,
           4,
           0,
           5,
           1,
           4,
           0,
           5,
           3,
           1,
           4,
           0,
           3,
           5,
           4,
           0,
           3,
           1,
           1,
           1,
           4,
           2,
           3,
           1,
           4,
           0,
           3,
           3,
           4,
           0,
           3,
           3,
           5,
           4,
           5,
           3,
           5,
           5,
           1,
           3,
           5,
           5,
           5,
           5,
           5,
           5,
           5,
           5,
           4,
           3,
           4,
           3,
           1,
           4,
           5,
           5,
           3,
           1,
           0,
           3,
           0,
           3,
           5,
           5,
           3,
           5,
           3,
           4,
           0,
           5,
           5,
           1,
           0,
           3,
           4,
           5,
           3,
           4,
           0,
           3,
           4,
           0,
           3,
           1,
           1,
           5,
           5,
           1,
           3,
           5,
           5,
           1,
           3,
           1,
           1,
           1,
           4,
           3,
           1,
           1,
           1,
           3,
           1,
           5,
           1,
           5,
           3,
           3,
           7,
           0,
           3,
           3,
           5,
           5,
           5,
           1,
           4,
           3,
           5,
           5,
           5,
           1,
           5,
           5,
           1,
           5,
           5,
           1,
           3,
           3,
           1,
           4,
           5,
           5,
           1,
           5,
           3,
           1,
           1,
           5,
           1,
           1,
           3,
           3,
           3,
           4,
           0,
           5,
           5,
           1,
           3,
           1,
           4,
           0,
           5,
           4,
           3,
           0,
           3,
           1,
           0,
           0,
           5,
           5,
           3,
           3,
           0,
           3,
           5,
           5,
           1,
           4,
           0,
           3,
           5,
           5,
           1,
           1,
           5,
           4,
           0,
           3,
           0,
           3,
           5,
           3,
           3,
           5,
           3,
           4,
           5,
           1,
           4,
           5,
           1,
           5,
           5,
           4,
           3,
           4,
           5,
           3,
           5,
           5,
           1,
           1,
           5,
           3,
           1,
           1,
           3,
           1,
           5,
           4,
           3,
           5,
           0,
           5,
           1,
           4,
           1,
           1,
           1,
           3,
           3,
           1,
           5,
           1,
           1,
           5,
           5,
           5,
           1,
           3,
           3,
           5,
           3,
           1,
           3,
           5,
           5,
           5,
           5,
           4,
           5,
           4,
           5,
           1,
           4,
           3,
           1,
           0,
           3,
           0,
           3,
           0,
           3,
           4,
           5,
           4,
           3,
           1,
           5,
           0,
           5,
           1,
           5,
           3,
           1,
           5,
           1,
           1,
           1,
           1,
           4,
           5,
           4,
           5,
           3,
           1,
           5,
           1,
           1,
           1,
           0,
           5,
           5,
           3,
           5,
           3,
           0,
           3,
           0,
           3,
           3,
           4,
           1,
           3,
           5,
           3,
           3,
           3,
           1,
           1,
           3,
           3,
           3,
           1,
           3,
           3,
           1,
           3,
           3,
           1,
           3,
           3,
           1,
           3,
           0,
           3,
           1,
           3,
           3,
           1,
           3,
           1,
           1,
           3,
           3,
           3,
           3,
           3,
           3,
           3,
           1,
           3,
           1,
           6,
           3,
           1,
           3,
           3,
           3,
           1,
           3,
           3,
           5,
           3,
           3,
           5,
           5,
           3,
           1,
           3,
           1,
           4,
           0,
           3,
           1,
           4,
           0,
           3,
           1,
           3,
           1,
           1,
           5,
           1,
           1,
           3,
           5,
           0,
           5,
           1,
           1,
           0,
           3,
           3,
           1,
           0,
           3,
           1,
           4,
           3,
           1,
           1,
           4,
           3,
           3,
           3,
           3,
           1,
           3,
           3,
           5,
           3,
           3,
           3,
           3,
           5,
           1,
           1,
           0,
           3,
           5,
           1,
           0,
           3,
           1,
           5,
           1,
           1,
           1,
           4,
           3,
           1,
           4,
           3,
           1,
           1,
           3,
           3,
           1,
           5,
           3,
           1,
           5,
           3,
           5,
           3,
           1,
           1,
           1,
           1,
           1,
           3,
           1,
           4,
           5,
           1,
           5,
           1,
           1,
           3
          ],
          "coloraxis": "coloraxis",
          "symbol": "circle"
         },
         "mode": "markers",
         "name": "",
         "scene": "scene",
         "showlegend": false,
         "type": "scatter3d",
         "x": [
          -3.37285,
          7.987443400000001,
          -0.16473712,
          -10.315663,
          2.6469537999999995,
          3.8233269999999995,
          6.8430963,
          2.6469537999999995,
          6.1475077,
          0.62437534,
          -9.596494999999999,
          -9.170029,
          0.6235464,
          -9.596494,
          8.945139,
          0.9705600000000001,
          -10.749151,
          -3.8356292,
          2.9532077,
          -9.696203,
          0.4702412,
          -1.2488823999999998,
          1.9247453999999997,
          5.1783532999999995,
          4.264434,
          3.4905982000000004,
          3.0105392999999996,
          -8.878603,
          8.34256,
          -9.386837,
          -6.5032554000000005,
          0.43132433,
          1.0937465,
          -9.409965,
          -6.9505043,
          -1.1145301,
          11.239213000000001,
          0.5691058000000001,
          -4.713136,
          2.626733,
          1.7711689999999998,
          -10.473852,
          -4.349541,
          4.264434,
          1.7934377000000001,
          -10.031483999999999,
          -0.2205607,
          4.264434,
          0.13198,
          -9.228304,
          2.2142234,
          1.9860629,
          -8.595752000000001,
          5.6883864,
          5.8101587,
          -3.2239766,
          7.337254,
          10.617298,
          4.264434,
          -0.45888406,
          -4.439553,
          10.620822,
          12.595485,
          12.350641,
          2.132253,
          12.574451,
          -5.652677,
          -4.4939394,
          0.8065467,
          -12.046685,
          0.5413844,
          1.6741253,
          -9.745472,
          -8.120363000000001,
          0.25629377,
          0.9842468000000001,
          -10.51329,
          2.180976,
          -5.669674,
          -6.999653299999999,
          -1.1645603999999998,
          -8.936416,
          -6.641627000000001,
          -6.5210404,
          10.367321,
          -3.4976013,
          0.50277656,
          -6.751089599999999,
          -6.6385125999999985,
          0.9867125,
          -9.260003,
          10.621478999999999,
          -0.7313593,
          5.662775,
          4.264434,
          5.649280999999999,
          2.4599542999999997,
          1.7736591,
          2.7383627999999995,
          6.0592456,
          1.7738973999999998,
          10.60035,
          2.2062874,
          7.215963,
          -11.3987875,
          0.4527778,
          -5.492766400000001,
          -0.46755522,
          12.159742,
          10.213961999999999,
          4.264434,
          -8.444105,
          8.156456,
          2.9249065,
          -3.5637612,
          11.762205,
          2.1005623,
          -3.2351384,
          5.415469,
          1.8869619999999998,
          -3.0757797000000004,
          -7.57052,
          -8.918027,
          1.9981983,
          5.285437,
          2.7783346,
          -3.7725410000000004,
          11.303247,
          3.097081,
          -3.7725383999999997,
          -5.649441,
          11.90819,
          3.4601207,
          5.3032455,
          0.44749540000000004,
          1.7941300999999998,
          -4.662262,
          6.279812000000001,
          9.908889,
          3.8568572999999997,
          0.25893402,
          -2.029443,
          -0.67717147,
          2.4447970000000003,
          2.7556032999999998,
          1.012521,
          -0.14933866,
          -6.110681,
          4.138896,
          10.714097,
          -0.5465017,
          -11.99602,
          4.2853107,
          3.0674381,
          -5.191607,
          -5.057892,
          11.038160000000001,
          3.2999824999999996,
          -4.8739114,
          -5.0574102,
          -2.051657,
          11.848419,
          10.287136,
          -12.09722,
          -3.7724967000000005,
          2.292923,
          -5.844933999999999,
          6.93222,
          6.7249045,
          -9.987237,
          3.0711357999999995,
          1.1226888000000002,
          -8.9371,
          3.2999822999999995,
          1.5406117,
          -2.2267292000000003,
          3.2999828,
          -1.3469236,
          -1.9863076000000002,
          3.3380160000000005,
          -2.2588587,
          11.781469,
          3.2430668,
          -1.4762598,
          -2.4881713,
          -0.10912225,
          4.0311685,
          0.6534287,
          -9.278583,
          4.7395816,
          5.4494357,
          4.013827,
          0.6019649,
          10.620307,
          4.264434,
          1.8931308999999998,
          -10.850913,
          2.2929997,
          -3.2101357000000004,
          11.850166999999999,
          2.293001,
          0.7247218000000001,
          0.56545085,
          9.660233,
          2.9180669999999997,
          1.9267535,
          6.165830000000001,
          -5.5414900000000005,
          1.0078950999999998,
          3.7901818999999994,
          9.277973,
          -1.0927209999999998,
          3.7110958,
          -0.73100847,
          -2.1969626,
          11.398367,
          3.3734447999999997,
          -0.73100847,
          -2.1969652,
          -8.640036,
          11.629883,
          2.6717397999999997,
          0.54400265,
          -9.480971,
          2.435152,
          2.7953327,
          0.54400265,
          -9.480971,
          5.7918367,
          11.686022999999999,
          10.4309,
          3.6604946000000003,
          227.7722,
          -5.017799,
          7.164428999999999,
          3.4679620000000004,
          0.12771949999999999,
          -9.242426,
          -4.35283,
          3.9035773000000002,
          0.12729964,
          -8.11897,
          -3.8058512,
          4.2852,
          2.6502972000000002,
          -2.5583713,
          -8.016758,
          1.8873875,
          2.4803727,
          11.613133,
          -11.832248,
          -1.9259064,
          -3.9089396,
          0.25047579999999997,
          0.30964896,
          -3.4104349999999997,
          1.8838778999999999,
          0.20228592,
          1.1117264,
          3.3966477,
          -6.999910400000001,
          3.7316415000000003,
          -6.999910400000001,
          6.506945,
          2.9287236,
          -1.8860853,
          1.503998,
          -6.548882,
          10.617298,
          1.156412,
          -5.616686,
          0.805858,
          -12.108069,
          0.5027765000000001,
          -4.0214767,
          -11.3987875,
          0.45279148,
          -5.4927660000000005,
          2.7272912999999996,
          0.25892618,
          -2.0294944999999998,
          -0.67716855,
          11.770009,
          1.8652781999999999,
          -11.996032000000001,
          3.015127,
          -2.3660069999999997,
          -5.698532,
          2.6717274,
          0.5454176,
          -9.478955000000001,
          3.7630997,
          1.7301015,
          -9.444593,
          4.513927,
          6.697578999999999,
          0.9377154000000001,
          -1.0110468000000001,
          9.660922,
          -4.9399986,
          2.6415415,
          2.6413752999999995,
          6.240915,
          -6.9131227,
          4.698221,
          5.449435,
          11.600749,
          2.292997,
          -8.971717,
          4.345288,
          5.449163400000001,
          6.659762,
          -8.971717,
          4.7326239999999995,
          3.1713445,
          11.55068,
          -0.5341929,
          -5.054648,
          -4.603317700000001,
          16.292564000000002,
          -0.010402614000000001,
          -8.594669,
          -5.3322806,
          -2.352574,
          -0.24584508,
          1.2395216,
          10.715531,
          2.7415217999999997,
          -4.8829093,
          -0.38682163,
          3.838764,
          -0.37098348,
          7.4087190000000005,
          3.8387635,
          0.2250248,
          5.4493184,
          2.380634,
          -0.54030496,
          11.678014,
          -5.088841,
          -6.629598,
          12.554784,
          2.7993555,
          2.8367107000000003,
          0.19561791,
          10.837381,
          2.0596251,
          -6.326666400000001,
          5.0917616,
          5.449319,
          -3.0059153999999997,
          8.705473,
          6.158295,
          -9.29836,
          -5.615858,
          -11.058860000000001,
          3.4138477,
          -0.19545409,
          -3.2901684999999996,
          4.294956,
          10.643231,
          -6.575226299999999,
          10.2999735,
          2.941265,
          1.7912304000000001,
          1.7914466,
          2.7043326000000003,
          -8.51097,
          1.131268,
          -5.4433417,
          10.032632000000001,
          0.43107617,
          0.43107608,
          -1.8654213,
          0.7786469,
          -6.7606535,
          -5.549768,
          0.22167605,
          -5.002128599999999,
          2.8549109,
          3.9173079,
          7.138217999999999,
          2.5755172,
          -0.6763296,
          -10.284362,
          2.4457473999999997,
          -0.8273333,
          12.712183,
          13.206087,
          1.1771129999999999,
          3.2331727000000003,
          1.7895055,
          -5.399000599999999,
          -0.010485942,
          -9.709707,
          0.30507973,
          -9.386837,
          -6.5033007000000005,
          0.44588903,
          -12.152744,
          0.37188545,
          -2.605696,
          4.1515173999999995,
          0.37188527,
          -3.4141252,
          4.151489700000001,
          1.3697876,
          -3.273922,
          0.06315231,
          -4.009080399999999,
          0.063152224,
          -2.8994462000000003,
          -7.372453,
          -2.6466367,
          -3.8214037000000003,
          11.383203,
          8.311544,
          1.3378501,
          -8.249978,
          11.863441,
          7.8832197,
          -7.213509599999999,
          4.539184,
          3.3570662000000002,
          0.37188527,
          -5.4987807,
          -1.9645313999999998,
          0.75125146,
          -2.937643,
          6.851795,
          0.063152246,
          8.266747,
          8.565223,
          5.7144523000000005,
          -7.847316999999999,
          -6.203608,
          4.1515173999999995,
          1.3207885,
          8.565221000000001,
          4.0441837,
          -3.389743,
          -0.5475445,
          -3.5180504,
          11.589334,
          -5.3480300000000005,
          -8.499528,
          0.49574825,
          -5.4041357,
          11.624781,
          -5.4109169999999995,
          3.3488111000000003,
          1.4227465,
          1.4331633,
          1.8393034,
          2.8750417,
          1.9301088,
          3.0654826,
          0.5001445,
          9.910267,
          3.0007994,
          -4.722508400000001,
          5.712314599999999,
          -0.63205665,
          -7.934883599999999,
          -0.6320477,
          -8.65515,
          -0.63204896,
          -11.0888605,
          0.20656882,
          -0.8376459,
          0.20656884,
          -5.820188,
          11.385503,
          3.9124193,
          2.2033446,
          5.237906,
          11.420619,
          -3.7389977,
          -4.7511053,
          5.8904977,
          2.9991993999999997,
          9.908894,
          10.566314,
          9.638196,
          9.908894,
          0.20656757,
          1.7189837,
          0.20656753,
          1.7189837,
          -10.983572,
          6.1148489999999995,
          1.5607883,
          8.480071,
          12.958822,
          11.709793,
          2.4783173,
          0.82679206,
          -1.4855194999999999,
          -11.000579,
          -1.8267773,
          -11.000583,
          0.27521986,
          -7.2751546000000005,
          0.27488697,
          -6.6672053,
          -10.595028,
          5.0653440000000005,
          12.991805000000001,
          -9.718722999999999,
          -1.2053533,
          -4.910631700000001,
          -11.477881,
          -6.2870207,
          4.741050700000001,
          7.006977,
          -11.477881,
          -6.2870297,
          -11.073302,
          6.9268410000000005,
          -11.478069,
          -11.923468,
          6.9268410000000005,
          -11.478069,
          -11.885628,
          6.926840299999999,
          -11.477882000000001,
          -11.122455,
          6.9291663,
          -8.97841,
          3.2326367,
          -12.131673,
          10.616149,
          -8.97841,
          -9.85267,
          10.628341,
          -6.4488330000000005,
          4.7394176,
          5.4494214,
          -10.965353,
          -4.214399299999999,
          -5.793367,
          -11.072973,
          -6.852549000000001,
          -10.985832,
          -6.852549000000001,
          10.618508,
          -6.8782773,
          4.697553,
          -72.09360500000001,
          -11.070030000000001,
          12.413131,
          -4.6090029999999995,
          -11.073302,
          -8.822511,
          5.5365486,
          -10.291532,
          -12.061876,
          0.3700817,
          -10.290018,
          -12.062349000000001,
          1.0163440000000001,
          -3.708297,
          -11.073209,
          5.5365477,
          -9.040157,
          6.9268410000000005,
          2.7556,
          -1.1418827,
          -12.010036999999999,
          5.537832,
          2.7556,
          -1.141886,
          -11.322261,
          5.536663,
          -4.70787,
          4.739828,
          10.386762,
          -2.358014,
          4.698622,
          10.386817,
          -4.3702354,
          -0.22307625,
          1.6337128,
          -2.5203029999999997,
          4.741061,
          10.386927,
          1.6337126,
          -4.8874393,
          -6.2519083,
          10.057309,
          1.6337126,
          -5.629658999999999,
          9.619388,
          2.5539142999999997,
          -12.462143,
          5.289773,
          10.386818,
          2.5539138,
          -12.3281,
          -9.174588,
          -7.5293756,
          -9.884395,
          10.621469,
          -11.326267999999999,
          -7.8930087,
          -0.14226517,
          -9.884389,
          -8.529741,
          -9.63857,
          -6.812107000000001,
          0.704404,
          8.027866,
          5.577220400000001,
          1.975316,
          -11.92661,
          2.8870227,
          10.386774,
          1.9753653999999998,
          -11.926691,
          5.1870303,
          0.70440394,
          9.283864,
          9.6060095,
          11.935027,
          2.6717277000000004,
          -3.9545755,
          2.8203175,
          2.5541155,
          -3.9547303,
          4.208042,
          9.366494,
          -4.8013706,
          -4.0057583,
          7.059112,
          -2.3609576,
          -5.011464,
          7.059112,
          -3.6425137999999997,
          -10.298397999999999,
          0.704404,
          -5.328809,
          11.343663000000001,
          7.202038000000001,
          4.519811,
          7.201722599999999,
          9.347476,
          -6.926363,
          11.447676,
          0.063151784,
          4.954872,
          11.904942,
          -2.0494702,
          11.418196,
          4.3259907,
          -5.102382700000001
         ],
         "y": [
          1.7742930000000001,
          -2.0093422,
          -0.038244043,
          0.41496396,
          4.503409400000001,
          -0.39414293,
          0.4027897,
          4.503409400000001,
          -1.3499703,
          5.5243673,
          -3.0060906000000003,
          0.32487947,
          5.5243554,
          -3.0060909,
          -0.92101383,
          3.9800828,
          -2.2283682999999996,
          4.127543,
          5.096465599999999,
          -2.2980556,
          -0.10027465,
          -1.9906733,
          1.4350171999999999,
          3.026509,
          -10.863783999999999,
          2.615373,
          1.1227504,
          -3.5978477,
          -0.5139562,
          -3.4291150000000004,
          1.7812188000000002,
          1.0840076,
          5.3227887,
          -3.4122446,
          -3.5163642999999998,
          -0.10000552,
          -0.11795428,
          4.1656938,
          -1.860109,
          0.9576096,
          6.4489884,
          -1.6280683999999999,
          1.9623974999999998,
          -10.863783999999999,
          4.0473466,
          -2.1378918,
          3.6896142999999997,
          -10.863783999999999,
          4.3906574,
          -1.9766748,
          0.5481496,
          5.043725,
          -3.2928947999999996,
          -0.54938745,
          -0.10155677,
          -2.7335724999999997,
          -1.232826,
          2.3768857000000003,
          -10.863783999999999,
          3.3611627,
          -3.668718,
          1.8781543,
          -0.88053066,
          -1.114935,
          1.370861,
          -0.87641823,
          -1.6910558999999998,
          1.7868525000000002,
          6.050618,
          -1.9137828000000001,
          0.7769262,
          5.34668,
          -1.8514169999999999,
          1.3985319999999999,
          4.7803373,
          6.0037923,
          -2.9039562,
          1.8775243000000001,
          1.7646580000000003,
          1.6031007,
          3.2036189999999998,
          -3.602879,
          1.6290778000000001,
          0.6685161000000001,
          -0.29879162,
          -0.024203882000000003,
          2.7444034,
          1.5139439,
          1.6709486,
          5.0970635,
          -1.972789,
          1.8794756999999997,
          2.1996569999999998,
          0.19008012,
          -10.863783999999999,
          -0.9083184000000001,
          -1.0828593,
          -12.677906,
          5.615302,
          -1.4584266000000001,
          -12.678277,
          -0.36420518,
          1.5733294,
          -0.42271435,
          -3.6196723,
          2.9935419999999997,
          1.2313098,
          3.5090137,
          -1.3017781000000002,
          -1.0446889000000001,
          -10.863785,
          -0.12846664,
          0.99644583,
          -11.364632,
          -1.0507375,
          -1.2863524,
          1.5222461,
          1.8311661,
          1.9249246,
          -12.730528,
          2.6170206,
          0.58512044,
          1.3939030000000001,
          3.11742,
          -0.86391085,
          -10.737509,
          2.0418146,
          -0.09043451,
          -10.546853,
          2.0418143,
          1.7559031000000003,
          1.7193546000000002,
          -10.695647,
          -0.7780755,
          1.9498131,
          4.1539903,
          3.7405584000000003,
          -1.5547211,
          1.9358807,
          -11.354818,
          6.9718795,
          1.2311492,
          1.1146791999999999,
          1.4385635,
          -13.091776,
          -0.43722156,
          -0.10853459,
          0.0014131737,
          -0.79862845,
          -1.7228148,
          3.8904288,
          -0.78804666,
          0.26346020000000003,
          -10.913851,
          3.7671936,
          -3.454821,
          0.011188498,
          -13.193791000000001,
          3.7394587999999995,
          -3.4547248,
          3.1834927000000004,
          1.3218528999999999,
          -0.28816533,
          -0.60329497,
          0.09950956,
          -12.070883,
          1.9272764,
          -0.2741303,
          3.4599620000000004,
          -1.7972251000000001,
          -12.665273,
          4.1087584,
          -0.85737425,
          -13.19379,
          4.0366488,
          1.9878645000000001,
          -13.193791000000001,
          -2.8820817,
          1.3931559999999998,
          -11.759603,
          1.4081264,
          2.0124185000000003,
          -12.096741,
          -2.8649647000000003,
          2.0261104,
          2.4897132,
          -11.585637,
          5.870541,
          1.6399326,
          0.30959580000000003,
          2.3798287,
          -11.131347,
          3.7057521,
          -1.0467999,
          -10.863783999999999,
          2.7871987999999996,
          0.8850992,
          -12.070393,
          -0.87793005,
          1.3214483,
          -12.070392,
          4.5033417,
          -0.606176,
          1.203185,
          -11.899442,
          4.055739,
          0.19922997,
          -4.2092175,
          2.1124356,
          -11.333625999999999,
          -1.5295508,
          2.4433897,
          -11.776775,
          4.222553700000001,
          3.1001337,
          1.1808486,
          -11.876385,
          4.222553700000001,
          3.1001157999999998,
          1.6784674,
          -0.5139544,
          -12.946514,
          6.0008097000000005,
          1.7990595,
          1.2960535,
          -10.962603999999999,
          6.0008097000000005,
          1.7990595,
          -0.50084996,
          1.2190865,
          -1.1519886000000001,
          -12.029556,
          -41.691708,
          1.1472565000000001,
          -0.7844589,
          -11.098873,
          7.404946000000001,
          1.4504434,
          -2.8908088,
          -10.912180000000001,
          7.404903999999999,
          1.8450209,
          -2.6513033,
          0.26361063,
          -11.421289,
          3.6525419,
          0.37690175,
          0.031927817000000004,
          0.39918262,
          0.48432738,
          -0.72884893,
          1.4530743,
          1.592484,
          -0.00734395,
          0.017519866999999998,
          0.33096,
          -0.7951017,
          0.18588120000000002,
          -1.1083374,
          -10.5429325,
          -0.7663149,
          -11.744618,
          -0.766315,
          0.74759746,
          -11.248312,
          1.5682595,
          1.8649147000000001,
          -0.85854906,
          2.3768857000000003,
          3.5452223,
          -1.6857673,
          6.0506225,
          -1.9282025,
          2.7444034,
          1.557342,
          -3.619672,
          2.9935392999999997,
          1.2313098999999998,
          -11.64741,
          6.971856,
          1.2314091999999999,
          1.1146793,
          1.3121417,
          3.570118,
          -0.7880775,
          -11.116086,
          -0.8090204000000001,
          1.6667604,
          -12.946558,
          6.000774400000001,
          1.7990529999999998,
          -10.711426,
          5.8027034,
          0.33813542,
          3.1539855,
          3.4355981,
          2.6391807000000003,
          0.7208561,
          1.2031157,
          1.6522949,
          1.1486633,
          1.1486577,
          0.8971326999999999,
          2.043025,
          0.021184491,
          2.3798282000000004,
          -0.91337293,
          -12.070392,
          1.4852812,
          0.055724747000000005,
          2.3801353,
          3.444033,
          1.4852812,
          -0.1808317,
          -0.28408784,
          0.14686391,
          3.3849201,
          -3.3120019999999997,
          -1.695759,
          54.345380000000006,
          4.173319,
          -1.7480981,
          -4.098884,
          -0.6014263000000001,
          2.568437,
          1.6299508,
          -1.0992897,
          -11.920167,
          -3.9936707,
          -0.8576924000000001,
          -0.056568198,
          2.5342402,
          -0.8475942,
          -0.056567505,
          2.8404973,
          2.37983,
          2.3310356,
          -0.15359542,
          -0.042821835999999995,
          -2.414603,
          1.2551501,
          -0.84338826,
          -11.864367,
          0.39614502,
          2.3016248,
          -1.2885277,
          1.5491568000000002,
          4.342741999999999,
          -0.048440712999999996,
          2.3798296000000003,
          -1.4204121,
          -0.6234982,
          1.8212758000000002,
          -1.8661458,
          2.4756129000000002,
          1.1727893,
          -11.131765,
          6.025607599999999,
          -2.729953,
          0.6009573,
          -1.0523129999999998,
          1.6108971,
          -1.2910743,
          -10.997297999999999,
          4.512909400000001,
          -0.34469485,
          -10.8880415,
          1.3906976999999998,
          2.7773838,
          -2.0008678,
          -1.2283846,
          3.262711,
          3.262711,
          1.4826629999999998,
          -0.8337498999999999,
          4.265067,
          -3.6529589999999996,
          3.3755817,
          -1.4194314,
          0.55164665,
          -0.8770378000000001,
          2.699334,
          -11.377384,
          4.597036,
          1.8273448,
          1.3527627,
          -0.15632859,
          -1.3901681000000001,
          -1.308345,
          1.9107466,
          -10.784773,
          4.5127983,
          1.6786956000000002,
          4.1732583,
          2.2181318,
          3.1057533999999998,
          -3.4291150000000004,
          1.7812182,
          1.4148319,
          -1.1450071000000002,
          -11.617844999999999,
          2.1122615000000002,
          3.2664923999999997,
          -11.617844999999999,
          2.09249,
          3.2665582000000004,
          2.4468052000000005,
          2.8467968,
          -11.312742,
          -1.1318587,
          -11.312742,
          1.5588692,
          0.71133846,
          -1.9829111000000001,
          1.7493927,
          1.8028118999999998,
          -0.77514863,
          1.7643593999999998,
          -2.4752362,
          1.9211483,
          -0.62280804,
          -0.17641251,
          1.08988,
          0.27454809999999996,
          -11.617844999999999,
          2.5038254,
          2.7601492000000003,
          3.8854847,
          -1.5557435,
          -0.11340956,
          -11.312742,
          -0.8816337,
          1.1993328,
          -0.70277095,
          -3.0547032000000005,
          -1.5134940000000001,
          3.2664923999999997,
          2.0018700000000003,
          1.1993401000000001,
          0.75713277,
          3.8164403,
          -2.6585932,
          1.0930102,
          -0.85503066,
          -0.8901661,
          0.38444492,
          -0.61197543,
          2.5979322999999996,
          2.0424986,
          0.94183356,
          1.119312,
          -1.075674,
          -0.60742015,
          2.7848604,
          -11.969924,
          -1.0500231000000002,
          -11.505699,
          -0.38987926,
          1.942225,
          -11.3631735,
          2.8829522,
          -1.2799226000000001,
          5.180099,
          1.2991059,
          5.1801863,
          0.71702063,
          5.180186,
          0.7730855,
          -11.0359,
          0.4745464,
          -11.0359,
          1.1027418,
          1.7714536,
          -1.0470059999999999,
          5.0787787,
          -0.61115074,
          1.1677538,
          4.0073934,
          4.051675,
          -1.3970902,
          -0.14128773,
          1.9358746,
          -1.1562569999999999,
          -1.514675,
          1.9358746,
          -11.036027,
          1.5026871000000002,
          -11.036027,
          1.5026871000000002,
          -0.29481903,
          0.47514284,
          1.2396443000000001,
          -0.7150776999999999,
          -1.31426,
          -1.2383538,
          3.9438693999999996,
          1.7647095000000002,
          1.2105982,
          1.4932286,
          0.929485,
          1.4932138000000001,
          5.1200337,
          1.3451391000000001,
          5.1200333,
          1.042664,
          -0.028837414,
          -10.902047,
          -1.1954145,
          1.8947823000000001,
          -2.6165267999999995,
          -1.1168011,
          2.1610544,
          4.4206038,
          0.30989224,
          -0.39265117,
          2.1610544,
          4.420614700000001,
          -3.1758807,
          1.0076764999999999,
          2.1610754,
          -3.292017,
          1.0076764999999999,
          2.1610754,
          -3.119751,
          1.0076764999999999,
          2.1610553,
          -0.761147,
          1.0062387,
          -3.2600384,
          6.1154566,
          -1.7204694,
          2.3794792,
          -3.2600384,
          -2.7116485,
          1.89183,
          4.3065248,
          0.30974004,
          2.3798091,
          -2.4104322999999996,
          0.60766727,
          4.485069,
          -3.175359,
          -3.3506663,
          -2.6099794,
          -3.3506663,
          2.3786016,
          3.8452057999999996,
          0.024045952000000002,
          -6.512062,
          -3.011012,
          -1.2151928,
          3.6730042000000003,
          -3.1758807,
          0.56995773,
          2.6644025,
          -3.4097662000000004,
          -1.3583052,
          0.9709931,
          -3.4100599999999996,
          -1.3582594,
          -1.2028587,
          3.9813437000000005,
          -3.1767272999999996,
          2.6644075000000003,
          -2.5713553,
          1.0076764999999999,
          -13.091782,
          3.7860355,
          -1.9876965,
          2.6673732000000006,
          -13.091782,
          3.7861394999999995,
          0.17599322,
          2.6664689999999998,
          4.255762,
          0.30923763,
          0.39873093,
          4.605236,
          0.023438094,
          0.39892784,
          -1.9950796000000002,
          2.4283357000000003,
          4.8356156,
          3.7653190000000003,
          0.31006690000000003,
          0.3988345,
          4.835615,
          3.6072693,
          -3.2991699999999997,
          1.249382,
          4.835615,
          -2.1251152,
          0.95981276,
          -13.219523,
          -1.0711567,
          -0.30912295,
          0.39892784,
          -13.219524,
          -1.0563607,
          1.1183611999999998,
          0.29899183,
          -2.1408484,
          1.8794495,
          -0.012374331,
          0.5651385999999999,
          2.2920394,
          -2.1408384,
          -0.3867505,
          -1.9046805,
          -0.13886946,
          2.3212632999999996,
          -1.0195271000000001,
          3.4973023000000003,
          6.7874527,
          -0.51584435,
          1.4606282,
          0.39858654,
          6.787354,
          -0.5147463,
          0.32241282,
          2.321263,
          -1.1414726999999998,
          -1.2207243,
          -1.3379388,
          -12.946558,
          -3.0104732999999997,
          2.4907084,
          -13.219594,
          -3.0100176,
          0.05128810599999999,
          -1.3568791,
          4.3608613,
          -2.8017773999999998,
          1.6726358000000001,
          4.6572623,
          -3.1009874,
          1.6726358000000001,
          -1.8041976999999998,
          0.53633475,
          2.3212632999999996,
          -4.040076,
          -0.44949517,
          -0.7546608,
          0.55472016,
          -0.75427485,
          -1.0242707,
          -1.3009694,
          1.9166286,
          -11.312747,
          -1.2062046999999998,
          1.5625094,
          -1.6457732,
          1.1599238,
          0.61799824,
          4.2783155
         ],
         "z": [
          -0.7033798000000001,
          2.5978756,
          0.5703175,
          -3.7796123,
          14.96805,
          1.3547854,
          -2.2422426,
          14.96805,
          2.3760004,
          15.125329999999998,
          2.3008404,
          -1.2515174,
          15.124923,
          2.3008401000000003,
          2.6288974,
          14.966448000000002,
          1.7273942999999998,
          -1.3046135,
          14.696838,
          2.9040158,
          4.820682499999999,
          4.364735,
          1.2818583000000001,
          -7.052689,
          -11.829367,
          -6.251321,
          -0.66652775,
          3.9487593,
          2.5198784,
          3.5354288,
          -2.0285846999999997,
          -4.930415,
          15.959381,
          2.9574213,
          4.3452806,
          3.6315408,
          -1.2261354,
          17.02184,
          3.7645035000000004,
          1.8503066000000004,
          16.208285999999998,
          1.5343407,
          3.2881943999999996,
          -11.829367,
          15.722838000000001,
          1.7608911,
          -2.442303,
          -11.829367,
          17.483706,
          2.558452,
          3.4277577000000004,
          14.780035999999999,
          2.6640735,
          -0.87589973,
          -0.8956550999999999,
          4.697436,
          2.3938158,
          -5.9280105,
          -11.829367,
          -3.4773053999999997,
          4.4656587,
          -6.18762,
          3.6487114000000003,
          1.5705242,
          1.3552707,
          3.6575015,
          3.4799550000000004,
          -2.6761782000000003,
          15.308735999999998,
          -0.6874423000000001,
          3.0431263,
          15.737324,
          1.5408266000000002,
          -2.6159142999999996,
          16.074907,
          16.807869,
          0.6087537,
          -1.3270556,
          2.7611562999999997,
          -2.0406566,
          -2.1542527999999996,
          3.9563155,
          1.5476762,
          0.68542296,
          3.164312,
          -0.011595042,
          -3.551769,
          1.8192490000000001,
          1.0816499,
          16.803703,
          2.005307,
          -6.1878877,
          -1.2887573,
          -1.1450984,
          -11.829367,
          0.9184623,
          2.4286470000000002,
          -5.726525,
          15.447854000000001,
          2.5954278,
          -5.726428,
          3.0262947000000002,
          2.7013566000000004,
          0.120911345,
          -0.49159977,
          -2.6280867999999997,
          3.427332,
          -1.7046435000000002,
          2.4009945,
          1.1840629999999999,
          -11.829367,
          -0.12570697,
          -4.4272922999999995,
          -4.163066000000001,
          2.6091716,
          2.1873014,
          -1.9322936999999998,
          3.7771049,
          -6.334421599999999,
          -5.673553500000001,
          1.9731749,
          -0.19870074,
          -1.8012321,
          16.531862,
          1.0735575000000002,
          -9.2548685,
          3.0242422,
          -1.3325858,
          -9.637912,
          3.0242429,
          2.0219443,
          -5.293027400000001,
          -9.820859,
          1.0045838,
          -2.1830057999999997,
          15.879939000000002,
          -0.6902755,
          2.8610115,
          -5.7140699999999995,
          -9.8112135,
          14.806482999999998,
          1.0185134,
          1.0494211000000002,
          -0.96079075,
          -5.1386614,
          3.0677776000000003,
          3.6689300000000005,
          2.8221488,
          1.7876061,
          1.7378037,
          17.59076,
          -3.5046934999999997,
          1.5583293,
          -3.812007,
          -0.95373046,
          5.105109,
          -1.5895938,
          -5.4918656,
          -0.89455646,
          5.1055145,
          0.13049285,
          -4.5163145,
          3.1624775,
          -3.7145599999999996,
          2.0291959999999998,
          -7.6113663,
          0.16653113,
          0.13000764,
          -7.978356,
          -0.4195098,
          -4.9679103,
          14.9311495,
          0.79580003,
          -5.4918633,
          14.161458999999999,
          2.2523086,
          -5.4918656,
          4.8278055,
          1.9721456000000002,
          -8.914093,
          2.9019756,
          -5.0106773,
          -9.312828999999999,
          4.8664513,
          -0.24318939999999997,
          -1.3917563,
          -9.318569,
          17.179125,
          -3.6643339999999998,
          -2.0854046000000004,
          -6.896511,
          -9.512466,
          15.914793,
          1.9932983,
          -11.829367,
          16.221076999999998,
          -3.0597947,
          -7.611213,
          2.047295,
          -4.5176870000000005,
          -7.611212700000001,
          14.533560000000001,
          0.5539145000000001,
          -4.3470645,
          -9.872026,
          16.151987,
          3.1384733,
          5.682044,
          -0.97855103,
          -8.843355,
          1.6163338,
          -1.1444478,
          -8.972114999999999,
          16.094946,
          0.030988874,
          -5.024407,
          -9.97724,
          16.094946,
          0.03102189,
          -3.0293028,
          -0.4084647,
          -5.8046975,
          13.987232,
          -2.3244972,
          0.27245820000000004,
          -9.012049000000001,
          13.987232,
          -2.3244972,
          -0.11281980000000001,
          -5.3212447,
          0.8560117,
          -9.453842999999999,
          -191.43854,
          0.50982934,
          0.61102927,
          -8.726042,
          15.003054,
          -3.7747764999999998,
          4.7550473,
          -9.089001,
          15.003036499999999,
          -3.3751526,
          4.603061,
          1.5582204,
          -9.913454,
          0.46316713,
          -0.2911887,
          3.2179666,
          2.826384,
          -2.630199,
          -1.9497936000000002,
          2.3226763999999998,
          1.382412,
          3.4214873,
          3.34491,
          1.7367240000000002,
          2.6944065,
          3.2226167,
          3.633321,
          -9.187572,
          1.2911367,
          -9.843824,
          1.2911367,
          -3.8160403,
          -4.115805,
          -0.81494385,
          -1.1693873,
          2.8797085,
          -5.9280105,
          14.471480999999999,
          3.4838351999999997,
          15.308391,
          -0.8221430000000001,
          -3.551769,
          1.6201652,
          -0.49159977,
          -2.628091,
          3.427332,
          -9.2412,
          14.806587,
          1.0173304,
          1.0494193,
          -5.3586082,
          14.796213,
          -3.5046828000000003,
          -3.9791827000000004,
          1.6650686999999997,
          -2.9908912,
          -5.8047028,
          13.988094,
          -2.3244757999999996,
          -9.532175,
          15.655932,
          -1.3955582,
          -5.899789,
          -7.964055999999999,
          -5.410172,
          0.7201436,
          -4.3470163,
          -2.9373392999999997,
          2.7561584,
          2.7561502,
          -4.189886,
          -2.884254,
          -2.167668,
          -6.896511,
          0.55326647,
          -7.611214,
          -3.7268120000000002,
          -1.6029018,
          -6.896569,
          -7.964619,
          -3.7268120000000002,
          -1.3165206,
          2.542993,
          -1.8801497,
          -3.8104875,
          4.543749299999999,
          4.116635,
          5.9945817,
          15.931505,
          2.3258028,
          5.639115,
          1.3056823,
          -1.1065793,
          0.82855576,
          1.7653741000000003,
          -4.503086,
          5.9390545,
          3.743726,
          2.09151,
          -1.3103731,
          2.3741667,
          2.091509,
          -3.8117917,
          -6.896542,
          -2.6619706,
          3.6436625,
          -1.4466815,
          4.115394,
          1.384615,
          1.3982816,
          -4.454174500000001,
          3.5478635,
          -1.2670715,
          1.6478308000000002,
          0.0224669,
          -1.3179405,
          -1.9737372,
          -6.896542,
          3.5527212999999995,
          2.7248716,
          -5.5293884,
          0.719333,
          -1.0910289,
          -2.8408563,
          -10.035049,
          16.802542000000003,
          4.6879992,
          2.579483,
          2.1738763,
          -3.415807,
          2.9603040000000003,
          -10.037394,
          16.320957,
          4.6098886,
          -9.743686,
          -3.2033237999999997,
          15.160174,
          3.8572855,
          2.4654496,
          13.635951,
          13.635952,
          -0.7512633000000001,
          3.3186612,
          -1.7529113999999997,
          5.0823455,
          16.754717000000003,
          3.1978664,
          1.4688014999999999,
          2.9845650000000004,
          -6.8687925000000005,
          -9.408642,
          14.666012,
          -2.9316148999999996,
          -0.8388353999999999,
          3.688563,
          1.5979922,
          2.0217907,
          0.6098291,
          -8.841486,
          16.320278,
          2.9355029999999998,
          15.931508,
          -2.7580853,
          -3.0049021000000002,
          3.5354288,
          -2.0294852,
          -5.291150599999999,
          -2.5184425999999998,
          -8.085101,
          2.2593837000000003,
          -6.671264999999999,
          -8.085099000000001,
          2.2674127,
          -6.670385400000001,
          -3.6349087,
          1.8198193,
          -8.794511,
          2.5510516,
          -8.794512,
          -0.812234,
          -0.34298548,
          4.198066000000001,
          1.7390963,
          -4.687787,
          1.793465,
          -2.477827,
          2.9156709,
          -5.1376349999999995,
          2.5481746,
          1.0799889999999999,
          -3.5386983999999995,
          1.5232036,
          -8.085099000000001,
          -0.43084708,
          1.4132183999999999,
          17.245487,
          3.9067245,
          2.319096,
          -8.794511,
          1.2585713,
          -3.8143709,
          0.60009784,
          3.2970194999999998,
          3.2548953999999997,
          -6.671264999999999,
          -1.9145756999999999,
          -3.8143752,
          -3.335182,
          0.5141859000000001,
          4.547292700000001,
          1.8337873,
          1.4660413,
          0.8665754000000001,
          -0.18699142,
          0.38662759999999996,
          -1.2329860000000001,
          -4.8410015,
          0.31475386,
          -1.1888279,
          3.2681665,
          3.0561209,
          -2.9518256000000003,
          -9.431602999999999,
          1.8785036,
          -10.125937,
          0.51308936,
          -5.712118599999999,
          -8.866634,
          -1.6479308999999998,
          2.6641886,
          14.772905999999999,
          -1.6782009999999998,
          14.772926000000002,
          -1.3511083000000002,
          14.772920999999998,
          -2.9809937,
          -9.529269000000001,
          0.79182494,
          -9.529269000000001,
          0.41837254,
          -4.6915510000000005,
          3.1895377999999996,
          16.523395999999998,
          3.0613964,
          -5.052789,
          0.24075314,
          -0.9706476999999999,
          3.0413175,
          2.9974582,
          -5.7140699999999995,
          0.74418396,
          1.4927403000000001,
          -5.7140699999999995,
          -9.5289955,
          2.5398781,
          -9.528995,
          2.5398781,
          -4.050497,
          -3.2479079,
          -1.7531887,
          -0.011834178999999998,
          1.9906446,
          1.3883303,
          16.165998000000002,
          -2.7299466,
          1.1601503,
          -2.6435812000000003,
          1.2902744,
          -2.643237,
          16.691738,
          -2.5391334999999997,
          16.691751,
          -1.2431018,
          -4.0528483,
          -11.221200999999999,
          1.5056089,
          -3.3417332,
          4.7477818,
          2.6306002,
          -2.7858883999999997,
          -1.3237792,
          -2.0851393,
          0.07046778,
          -2.7858883999999997,
          -1.3237940000000001,
          1.1948484,
          -4.547462,
          -2.785793,
          1.3234489999999999,
          -4.547462,
          -2.785793,
          1.0412682,
          -4.547462,
          -2.7858883999999997,
          0.005212414,
          -4.5469317,
          2.5838566000000003,
          15.942212,
          -1.1249495,
          -5.9200506,
          2.5838566000000003,
          2.5254385,
          -6.1905913,
          -1.5906498,
          -2.0849373,
          -6.896495,
          1.1205307,
          0.3801948,
          -1.266708,
          1.1956341000000001,
          4.2083983,
          1.6110188,
          4.2083983,
          -5.9239239999999995,
          -1.9762473999999999,
          -2.1680740000000003,
          66.56488,
          0.71871287,
          1.7874348999999998,
          -1.241262,
          1.1948485,
          -0.77548635,
          -6.271408,
          1.8754072,
          -1.5082073999999999,
          -5.0583305,
          1.8748672999999998,
          -1.5076383,
          -0.13627653,
          -0.27409437,
          1.19394,
          -6.271412000000001,
          2.293988,
          -4.547462,
          -5.1386595,
          18.174587,
          -0.6696248,
          -6.2715760000000005,
          -5.13866,
          18.174595,
          -1.6994424,
          -6.2711368,
          -0.75925976,
          -2.0852234,
          -2.571229,
          0.90903634,
          -2.1677217,
          -2.5715072,
          4.079952,
          -6.5034113,
          13.3044815,
          0.54158926,
          -2.0850646,
          -2.5715742,
          13.3044815,
          -0.9834888,
          4.410461,
          -4.432699700000001,
          13.3044815,
          3.7523943999999996,
          -4.0843306,
          -5.7341027,
          -3.7601093999999997,
          -1.5052928,
          -2.5715072,
          -5.7341013,
          -3.5292711000000003,
          -1.1132926,
          -0.16310365,
          0.44573584,
          -6.1878815000000005,
          -2.5261781,
          -0.7462137,
          -2.4671557,
          0.44572797,
          0.38730790000000004,
          0.43010718,
          1.3073709,
          -5.742198999999999,
          1.9158636000000002,
          -7.6970887,
          14.006838,
          -3.1247306,
          -3.2244097999999997,
          -2.5712175,
          14.006714,
          -3.1247716,
          -2.8317577999999997,
          -5.7421985,
          2.0734618,
          2.2167926,
          2.0643785,
          -5.804703,
          4.780806500000001,
          -5.668352,
          -5.734051,
          4.780561,
          -2.7526352000000003,
          1.5635805,
          -0.8278274,
          4.678035700000001,
          -4.620340000000001,
          0.91273504,
          4.5886025,
          -4.620340000000001,
          4.1248446,
          -0.84355503,
          -5.7421985,
          5.637158400000001,
          -0.27395105,
          0.8730369,
          0.16692103,
          0.87526226,
          0.56510717,
          2.5837839,
          -4.70873,
          -8.7945175,
          3.0898882999999997,
          -5.341952,
          3.8969815000000003,
          -5.0622940000000005,
          -3.2217789,
          -0.0864386
         ]
        }
       ],
       "layout": {
        "coloraxis": {
         "colorbar": {
          "title": {
           "text": "cluster"
          }
         },
         "colorscale": [
          [
           0,
           "#0d0887"
          ],
          [
           0.1111111111111111,
           "#46039f"
          ],
          [
           0.2222222222222222,
           "#7201a8"
          ],
          [
           0.3333333333333333,
           "#9c179e"
          ],
          [
           0.4444444444444444,
           "#bd3786"
          ],
          [
           0.5555555555555556,
           "#d8576b"
          ],
          [
           0.6666666666666666,
           "#ed7953"
          ],
          [
           0.7777777777777778,
           "#fb9f3a"
          ],
          [
           0.8888888888888888,
           "#fdca26"
          ],
          [
           1,
           "#f0f921"
          ]
         ]
        },
        "legend": {
         "tracegroupgap": 0
        },
        "margin": {
         "t": 60
        },
        "scene": {
         "domain": {
          "x": [
           0,
           1
          ],
          "y": [
           0,
           1
          ]
         },
         "xaxis": {
          "title": {
           "text": "x"
          }
         },
         "yaxis": {
          "title": {
           "text": "y"
          }
         },
         "zaxis": {
          "title": {
           "text": "z"
          }
         }
        },
        "template": {
         "data": {
          "bar": [
           {
            "error_x": {
             "color": "#2a3f5f"
            },
            "error_y": {
             "color": "#2a3f5f"
            },
            "marker": {
             "line": {
              "color": "#E5ECF6",
              "width": 0.5
             }
            },
            "type": "bar"
           }
          ],
          "barpolar": [
           {
            "marker": {
             "line": {
              "color": "#E5ECF6",
              "width": 0.5
             }
            },
            "type": "barpolar"
           }
          ],
          "carpet": [
           {
            "aaxis": {
             "endlinecolor": "#2a3f5f",
             "gridcolor": "white",
             "linecolor": "white",
             "minorgridcolor": "white",
             "startlinecolor": "#2a3f5f"
            },
            "baxis": {
             "endlinecolor": "#2a3f5f",
             "gridcolor": "white",
             "linecolor": "white",
             "minorgridcolor": "white",
             "startlinecolor": "#2a3f5f"
            },
            "type": "carpet"
           }
          ],
          "choropleth": [
           {
            "colorbar": {
             "outlinewidth": 0,
             "ticks": ""
            },
            "type": "choropleth"
           }
          ],
          "contour": [
           {
            "colorbar": {
             "outlinewidth": 0,
             "ticks": ""
            },
            "colorscale": [
             [
              0,
              "#0d0887"
             ],
             [
              0.1111111111111111,
              "#46039f"
             ],
             [
              0.2222222222222222,
              "#7201a8"
             ],
             [
              0.3333333333333333,
              "#9c179e"
             ],
             [
              0.4444444444444444,
              "#bd3786"
             ],
             [
              0.5555555555555556,
              "#d8576b"
             ],
             [
              0.6666666666666666,
              "#ed7953"
             ],
             [
              0.7777777777777778,
              "#fb9f3a"
             ],
             [
              0.8888888888888888,
              "#fdca26"
             ],
             [
              1,
              "#f0f921"
             ]
            ],
            "type": "contour"
           }
          ],
          "contourcarpet": [
           {
            "colorbar": {
             "outlinewidth": 0,
             "ticks": ""
            },
            "type": "contourcarpet"
           }
          ],
          "heatmap": [
           {
            "colorbar": {
             "outlinewidth": 0,
             "ticks": ""
            },
            "colorscale": [
             [
              0,
              "#0d0887"
             ],
             [
              0.1111111111111111,
              "#46039f"
             ],
             [
              0.2222222222222222,
              "#7201a8"
             ],
             [
              0.3333333333333333,
              "#9c179e"
             ],
             [
              0.4444444444444444,
              "#bd3786"
             ],
             [
              0.5555555555555556,
              "#d8576b"
             ],
             [
              0.6666666666666666,
              "#ed7953"
             ],
             [
              0.7777777777777778,
              "#fb9f3a"
             ],
             [
              0.8888888888888888,
              "#fdca26"
             ],
             [
              1,
              "#f0f921"
             ]
            ],
            "type": "heatmap"
           }
          ],
          "heatmapgl": [
           {
            "colorbar": {
             "outlinewidth": 0,
             "ticks": ""
            },
            "colorscale": [
             [
              0,
              "#0d0887"
             ],
             [
              0.1111111111111111,
              "#46039f"
             ],
             [
              0.2222222222222222,
              "#7201a8"
             ],
             [
              0.3333333333333333,
              "#9c179e"
             ],
             [
              0.4444444444444444,
              "#bd3786"
             ],
             [
              0.5555555555555556,
              "#d8576b"
             ],
             [
              0.6666666666666666,
              "#ed7953"
             ],
             [
              0.7777777777777778,
              "#fb9f3a"
             ],
             [
              0.8888888888888888,
              "#fdca26"
             ],
             [
              1,
              "#f0f921"
             ]
            ],
            "type": "heatmapgl"
           }
          ],
          "histogram": [
           {
            "marker": {
             "colorbar": {
              "outlinewidth": 0,
              "ticks": ""
             }
            },
            "type": "histogram"
           }
          ],
          "histogram2d": [
           {
            "colorbar": {
             "outlinewidth": 0,
             "ticks": ""
            },
            "colorscale": [
             [
              0,
              "#0d0887"
             ],
             [
              0.1111111111111111,
              "#46039f"
             ],
             [
              0.2222222222222222,
              "#7201a8"
             ],
             [
              0.3333333333333333,
              "#9c179e"
             ],
             [
              0.4444444444444444,
              "#bd3786"
             ],
             [
              0.5555555555555556,
              "#d8576b"
             ],
             [
              0.6666666666666666,
              "#ed7953"
             ],
             [
              0.7777777777777778,
              "#fb9f3a"
             ],
             [
              0.8888888888888888,
              "#fdca26"
             ],
             [
              1,
              "#f0f921"
             ]
            ],
            "type": "histogram2d"
           }
          ],
          "histogram2dcontour": [
           {
            "colorbar": {
             "outlinewidth": 0,
             "ticks": ""
            },
            "colorscale": [
             [
              0,
              "#0d0887"
             ],
             [
              0.1111111111111111,
              "#46039f"
             ],
             [
              0.2222222222222222,
              "#7201a8"
             ],
             [
              0.3333333333333333,
              "#9c179e"
             ],
             [
              0.4444444444444444,
              "#bd3786"
             ],
             [
              0.5555555555555556,
              "#d8576b"
             ],
             [
              0.6666666666666666,
              "#ed7953"
             ],
             [
              0.7777777777777778,
              "#fb9f3a"
             ],
             [
              0.8888888888888888,
              "#fdca26"
             ],
             [
              1,
              "#f0f921"
             ]
            ],
            "type": "histogram2dcontour"
           }
          ],
          "mesh3d": [
           {
            "colorbar": {
             "outlinewidth": 0,
             "ticks": ""
            },
            "type": "mesh3d"
           }
          ],
          "parcoords": [
           {
            "line": {
             "colorbar": {
              "outlinewidth": 0,
              "ticks": ""
             }
            },
            "type": "parcoords"
           }
          ],
          "pie": [
           {
            "automargin": true,
            "type": "pie"
           }
          ],
          "scatter": [
           {
            "marker": {
             "colorbar": {
              "outlinewidth": 0,
              "ticks": ""
             }
            },
            "type": "scatter"
           }
          ],
          "scatter3d": [
           {
            "line": {
             "colorbar": {
              "outlinewidth": 0,
              "ticks": ""
             }
            },
            "marker": {
             "colorbar": {
              "outlinewidth": 0,
              "ticks": ""
             }
            },
            "type": "scatter3d"
           }
          ],
          "scattercarpet": [
           {
            "marker": {
             "colorbar": {
              "outlinewidth": 0,
              "ticks": ""
             }
            },
            "type": "scattercarpet"
           }
          ],
          "scattergeo": [
           {
            "marker": {
             "colorbar": {
              "outlinewidth": 0,
              "ticks": ""
             }
            },
            "type": "scattergeo"
           }
          ],
          "scattergl": [
           {
            "marker": {
             "colorbar": {
              "outlinewidth": 0,
              "ticks": ""
             }
            },
            "type": "scattergl"
           }
          ],
          "scattermapbox": [
           {
            "marker": {
             "colorbar": {
              "outlinewidth": 0,
              "ticks": ""
             }
            },
            "type": "scattermapbox"
           }
          ],
          "scatterpolar": [
           {
            "marker": {
             "colorbar": {
              "outlinewidth": 0,
              "ticks": ""
             }
            },
            "type": "scatterpolar"
           }
          ],
          "scatterpolargl": [
           {
            "marker": {
             "colorbar": {
              "outlinewidth": 0,
              "ticks": ""
             }
            },
            "type": "scatterpolargl"
           }
          ],
          "scatterternary": [
           {
            "marker": {
             "colorbar": {
              "outlinewidth": 0,
              "ticks": ""
             }
            },
            "type": "scatterternary"
           }
          ],
          "surface": [
           {
            "colorbar": {
             "outlinewidth": 0,
             "ticks": ""
            },
            "colorscale": [
             [
              0,
              "#0d0887"
             ],
             [
              0.1111111111111111,
              "#46039f"
             ],
             [
              0.2222222222222222,
              "#7201a8"
             ],
             [
              0.3333333333333333,
              "#9c179e"
             ],
             [
              0.4444444444444444,
              "#bd3786"
             ],
             [
              0.5555555555555556,
              "#d8576b"
             ],
             [
              0.6666666666666666,
              "#ed7953"
             ],
             [
              0.7777777777777778,
              "#fb9f3a"
             ],
             [
              0.8888888888888888,
              "#fdca26"
             ],
             [
              1,
              "#f0f921"
             ]
            ],
            "type": "surface"
           }
          ],
          "table": [
           {
            "cells": {
             "fill": {
              "color": "#EBF0F8"
             },
             "line": {
              "color": "white"
             }
            },
            "header": {
             "fill": {
              "color": "#C8D4E3"
             },
             "line": {
              "color": "white"
             }
            },
            "type": "table"
           }
          ]
         },
         "layout": {
          "annotationdefaults": {
           "arrowcolor": "#2a3f5f",
           "arrowhead": 0,
           "arrowwidth": 1
          },
          "coloraxis": {
           "colorbar": {
            "outlinewidth": 0,
            "ticks": ""
           }
          },
          "colorscale": {
           "diverging": [
            [
             0,
             "#8e0152"
            ],
            [
             0.1,
             "#c51b7d"
            ],
            [
             0.2,
             "#de77ae"
            ],
            [
             0.3,
             "#f1b6da"
            ],
            [
             0.4,
             "#fde0ef"
            ],
            [
             0.5,
             "#f7f7f7"
            ],
            [
             0.6,
             "#e6f5d0"
            ],
            [
             0.7,
             "#b8e186"
            ],
            [
             0.8,
             "#7fbc41"
            ],
            [
             0.9,
             "#4d9221"
            ],
            [
             1,
             "#276419"
            ]
           ],
           "sequential": [
            [
             0,
             "#0d0887"
            ],
            [
             0.1111111111111111,
             "#46039f"
            ],
            [
             0.2222222222222222,
             "#7201a8"
            ],
            [
             0.3333333333333333,
             "#9c179e"
            ],
            [
             0.4444444444444444,
             "#bd3786"
            ],
            [
             0.5555555555555556,
             "#d8576b"
            ],
            [
             0.6666666666666666,
             "#ed7953"
            ],
            [
             0.7777777777777778,
             "#fb9f3a"
            ],
            [
             0.8888888888888888,
             "#fdca26"
            ],
            [
             1,
             "#f0f921"
            ]
           ],
           "sequentialminus": [
            [
             0,
             "#0d0887"
            ],
            [
             0.1111111111111111,
             "#46039f"
            ],
            [
             0.2222222222222222,
             "#7201a8"
            ],
            [
             0.3333333333333333,
             "#9c179e"
            ],
            [
             0.4444444444444444,
             "#bd3786"
            ],
            [
             0.5555555555555556,
             "#d8576b"
            ],
            [
             0.6666666666666666,
             "#ed7953"
            ],
            [
             0.7777777777777778,
             "#fb9f3a"
            ],
            [
             0.8888888888888888,
             "#fdca26"
            ],
            [
             1,
             "#f0f921"
            ]
           ]
          },
          "colorway": [
           "#636efa",
           "#EF553B",
           "#00cc96",
           "#ab63fa",
           "#FFA15A",
           "#19d3f3",
           "#FF6692",
           "#B6E880",
           "#FF97FF",
           "#FECB52"
          ],
          "font": {
           "color": "#2a3f5f"
          },
          "geo": {
           "bgcolor": "white",
           "lakecolor": "white",
           "landcolor": "#E5ECF6",
           "showlakes": true,
           "showland": true,
           "subunitcolor": "white"
          },
          "hoverlabel": {
           "align": "left"
          },
          "hovermode": "closest",
          "mapbox": {
           "style": "light"
          },
          "paper_bgcolor": "white",
          "plot_bgcolor": "#E5ECF6",
          "polar": {
           "angularaxis": {
            "gridcolor": "white",
            "linecolor": "white",
            "ticks": ""
           },
           "bgcolor": "#E5ECF6",
           "radialaxis": {
            "gridcolor": "white",
            "linecolor": "white",
            "ticks": ""
           }
          },
          "scene": {
           "xaxis": {
            "backgroundcolor": "#E5ECF6",
            "gridcolor": "white",
            "gridwidth": 2,
            "linecolor": "white",
            "showbackground": true,
            "ticks": "",
            "zerolinecolor": "white"
           },
           "yaxis": {
            "backgroundcolor": "#E5ECF6",
            "gridcolor": "white",
            "gridwidth": 2,
            "linecolor": "white",
            "showbackground": true,
            "ticks": "",
            "zerolinecolor": "white"
           },
           "zaxis": {
            "backgroundcolor": "#E5ECF6",
            "gridcolor": "white",
            "gridwidth": 2,
            "linecolor": "white",
            "showbackground": true,
            "ticks": "",
            "zerolinecolor": "white"
           }
          },
          "shapedefaults": {
           "line": {
            "color": "#2a3f5f"
           }
          },
          "ternary": {
           "aaxis": {
            "gridcolor": "white",
            "linecolor": "white",
            "ticks": ""
           },
           "baxis": {
            "gridcolor": "white",
            "linecolor": "white",
            "ticks": ""
           },
           "bgcolor": "#E5ECF6",
           "caxis": {
            "gridcolor": "white",
            "linecolor": "white",
            "ticks": ""
           }
          },
          "title": {
           "x": 0.05
          },
          "xaxis": {
           "automargin": true,
           "gridcolor": "white",
           "linecolor": "white",
           "ticks": "",
           "title": {
            "standoff": 15
           },
           "zerolinecolor": "white",
           "zerolinewidth": 2
          },
          "yaxis": {
           "automargin": true,
           "gridcolor": "white",
           "linecolor": "white",
           "ticks": "",
           "title": {
            "standoff": 15
           },
           "zerolinecolor": "white",
           "zerolinewidth": 2
          }
         }
        }
       }
      },
      "text/html": [
       "<div>\n",
       "        \n",
       "        \n",
       "            <div id=\"5a5ea35c-5d4f-41aa-ad22-6153f1f07518\" class=\"plotly-graph-div\" style=\"height:525px; width:100%;\"></div>\n",
       "            <script type=\"text/javascript\">\n",
       "                require([\"plotly\"], function(Plotly) {\n",
       "                    window.PLOTLYENV=window.PLOTLYENV || {};\n",
       "                    \n",
       "                if (document.getElementById(\"5a5ea35c-5d4f-41aa-ad22-6153f1f07518\")) {\n",
       "                    Plotly.newPlot(\n",
       "                        '5a5ea35c-5d4f-41aa-ad22-6153f1f07518',\n",
       "                        [{\"customdata\": [[\"m\\u00e1y ti\\u1ec7t tr\\u00f9ng uv \\u0111\\u00e3 c\\u00f3 ch\\u01b0a \\u1ea1\", \"Hi\\u1ec7n t\\u1ea1i s\\u1ea3n ph\\u1ea9m M\\u00e1y ti\\u1ec7t tr\\u00f9ng  shop \\u0111ang c\\u00f3 nh\\u1eef-<br>\", \"query_knowledge_base\", \"['object_type:may_tiet_trung']\", \"action_query_babe_kb\"], [\"/confirm_attribute_value{\\\"price\\\": \\\"500-1M\\\"}\", \"M\\u1eddi b\\u1ea1n click v\\u00e0o \\\"Xem chi ti\\u1ebft\\\" \\u0111\\u1ec3 tham kh\\u1ea3o s\\u1ea3n -<br> ph\\u1ea9m hi\\u1ec7n c\\u00f3 t\\u1ea1i shop nh\\u00e9!\\n<card sp 1> <card sp 2>-<br>\", \"confirm_attribute_value\", \"['price:500-1M']\", \"action_query_babe_kb\"], [\"m\\u00e1y ti\\u1ec7t tr\\u00f9ng uv \\u0111\\u00e3 c\\u00f3 ch\\u01b0a \\u1ea1\", \"M\\u00e1y ti\\u1ec7t tr\\u00f9ng uv hi\\u1ec7n h\\u1ebft h\\u00e0ng m\\u1eddi b\\u1ea1n tham kh\\u1ea3o -<br> c\\u00e1c s\\u1ea3n ph\\u1ea9m kh\\u00e1c c\\u1ee7a shop\\nRecommend <sp1> <sp2> <-<br>\", \"query_knowledge_base\", \"['object_type:may_tiet_trung']\", \"action_query_babe_kb\"], [\"Khi n\\u00e0o th\\u00ec c\\u00f3 h\\u00e0ng m\\u1edbi \\u1ea1\", \"Kho\\u1ea3ng m\\u1ed9t tu\\u1ea7n sau c\\u00f3 h\\u00e0ng \\u1ea1\", \"query_knowledge_base\", null, \"action_query_babe_kb\"], [\"url\", \"B\\u1ea1n \\u0111ang t\\u00ecm ki\\u1ebfm th\\u00f4ng tin g\\u00ec \\u1ea1?\", \"send_link\", \"url\", \"action_handle_send_link_only\"], [\"E \\u01a1i c\\u00f2n gi\\u1ea5y kh\\u00f4 n\\u00e0y k?\", \"Kh\\u0103n kh\\u00f4 \\u0111a n\\u0103ng MIPBI 600gr hi\\u1ec7n \\u0111ang c\\u00f3 gi\\u00e1 l\\u00e0 6-<br> 1.000 (Gi\\u00e1 g\\u1ed1c: 70.000) m\\u1eddi b\\u1ea1n tham kh\\u1ea3o:\\n<show c-<br>\", \"query_knowledge_base\", \"['object_type:khan','mention:n\\u00e0y']\", \"action_query_babe_kb\"], [\"\\u0110\\u00fang r \\u1ea1\", \"D\\u1ea1, v\\u00e2ng \\u1ea1. \", \"agree\", null, \"utter_agree\"], [\"url\", \"B\\u1ea1n \\u0111ang t\\u00ecm ki\\u1ebfm th\\u00f4ng tin g\\u00ec \\u1ea1?\", \"send_link\", \"url\", \"action_handle_send_link_only\"], [\"E \\u01a1i c\\u00f2n gi\\u1ea5y kh\\u00f4 n\\u00e0y k?\", \"Kh\\u0103n kh\\u00f4 \\u0111a n\\u0103ng MIPBI 600gr  hi\\u1ec7n h\\u1ebft h\\u00e0ng m\\u1eddi b\\u1ea1-<br> n tham kh\\u1ea3o c\\u00e1c s\\u1ea3n ph\\u1ea9m kh\\u00e1c c\\u1ee7a shop\\nRecommend <-<br>\", \"query_knowledge_base\", \"['object_type:khan','mention:n\\u00e0y']\", \"action_query_babe_kb\"], [\"url\", \"B\\u1ea1n \\u0111ang t\\u00ecm ki\\u1ebfm th\\u00f4ng tin g\\u00ec \\u1ea1?\", \"send_link\", \"url\", \"action_handle_send_link_only\"], [\"Bn v\\u1eady shop \\u01a1i\", \"S\\u1ea3n ph\\u1ea9m  B\\u1ea2NG V\\u1ebc HOLLA 2 in 1  hi\\u1ec7n shop \\u0111ang c\\u00f3 -<br> gi\\u00e1: 830,000 VND (gi\\u00e1 g\\u1ed1c 1,090,000 VND).\\nB\\u1ea1n tham-<br>\", \"query_knowledge_base\", \"['attribute:price']\", \"action_query_babe_kb\"], [\"C\\u00f3 tr\\u00ean shopee k shop\", \"D\\u1ea1 m\\u1eddi b\\u1ea1n tham kh\\u1ea3o s\\u1ea3n ph\\u1ea9m B\\u1ea2NG V\\u1ebc HOLLA 2 in 1-<br>\", \"query_knowledge_base\", \"['attribute:link']\", \"action_query_babe_kb\"], [\"url\", \"B\\u1ea1n \\u0111ang t\\u00ecm ki\\u1ebfm th\\u00f4ng tin g\\u00ec \\u1ea1?\", \"send_link\", \"url\", \"action_handle_send_link_only\"], [\"Bn v\\u1eady shop \\u01a1i\", \"S\\u1ea3n ph\\u1ea9m  B\\u1ea2NG V\\u1ebc HOLLA 2 in 1  hi\\u1ec7n shop \\u0111ang c\\u00f3 -<br> gi\\u00e1: 830,000 VND (gi\\u00e1 g\\u1ed1c 1,090,000 VND).\\nB\\u1ea1n tham-<br>\", \"query_knowledge_base\", \"['attribute:price']\", \"action_query_babe_kb\"], [\"B\\u1ea3o h\\u00e0nh bao l\\u00e2u \\u1ea1\", \"\\\"D\\u1ea1 B\\u1ea2NG V\\u1ebc HOLLA 2 in 1 b\\u1ea3o h\\u00e0nh 12 th\\u00e1ng \\u1ea1. {ch\\u00ed-<br>\", \"query_knowledge_base\", \"['attribute:guarantee']\", \"action_query_babe_kb\"], [\"url\", \"B\\u1ea1n \\u0111ang t\\u00ecm ki\\u1ebfm th\\u00f4ng tin g\\u00ec \\u1ea1?\", \"send_link\", \"url\", \"action_handle_send_link_only\"], [\"B\\u1ed9 n\\u00e0y bn shop\", \"S\\u1ea3n ph\\u1ea9m  B\\u1ea2NG V\\u1ebc HOLLA 2 in 1  hi\\u1ec7n shop \\u0111ang c\\u00f3 -<br> gi\\u00e1: 830,000 VND (gi\\u00e1 g\\u1ed1c 1,090,000 VND).\\nB\\u1ea1n tham-<br>\", \"query_knowledge_base\", \"['mention:b\\u1ed9 n\\u00e0y', 'attribute:price']\", \"action_query_babe_kb\"], [\"S\\u1ea3n xu\\u1ea5t \\u1edf \\u0111\\u00e2u \\u1ea1\", \"D\\u1ea1 B\\u1ea2NG V\\u1ebc HOLLA 2 in 1 c\\u00f3 xu\\u1ea5t x\\u1ee9 t\\u1eeb Trung Qu\\u1ed1c \\u1ea1-<br>\", \"query_knowledge_base\", \"['attribute:origin']\", \"action_query_babe_kb\"], [\"url\", \"B\\u1ea1n \\u0111ang t\\u00ecm ki\\u1ebfm th\\u00f4ng tin g\\u00ec \\u1ea1?\", \"send_link\", \"url\", \"action_handle_send_link_only\"], [\"Cho t xin gi\\u00e1 nh\\u00e9\", \"S\\u1ea3n ph\\u1ea9m  B\\u1ea2NG V\\u1ebc HOLLA 2 in 1  hi\\u1ec7n shop \\u0111ang c\\u00f3 -<br> gi\\u00e1: 830,000 VND (gi\\u00e1 g\\u1ed1c 1,090,000 VND).\\nB\\u1ea1n tham-<br>\", \"query_knowledge_base\", \"['attribute:price']\", \"action_query_babe_kb\"], [\"L\\u00e0m b\\u1eb1ng nh\\u1ef1a \\u00e0 \", \"D\\u1ea1 s\\u1ea3n ph\\u1ea9m l\\u00e0m t\\u1eeb nh\\u1ef1a \\u1ea1\\nB\\u1ea1n tham kh\\u1ea3o c\\u00e1c s\\u1ea3n ph-<br>\", \"query_knowledge_base\", \"['material:b\\u1eb1ng nh\\u1ef1a']\", \"action_query_babe_kb\"], [\"B\\u1ed9 holla v\\u01b0\\u01a1ng mi\\u1ec7n gi\\u00e1 tnao b\\u1ea1n\", \"S\\u1ea3n ph\\u1ea9m  COMBO HOLLA FULL PHI\\u00caN B\\u1ea2N 2020 M\\u1eaaU V\\u01af\\u01a0N-<br> G MI\\u1ec6N  hi\\u1ec7n shop \\u0111ang c\\u00f3 gi\\u00e1: 500,000 VND (gi\\u00e1 g\\u1ed1-<br> c 500,000 VND).\\nB\\u1ea1n tham kh\\u1ea3o c\\u00e1c s\\u1ea3n ph\\u1ea9m sau nh\\u00e9-<br>\", \"query_knowledge_base\", \"['brand:holla', 'attribute:price','type:v\\u01b0\\u01a1ng mi\\u1ec7n']\", \"action_query_babe_kb\"], [\"N\\u01b0\\u1edbc n\\u00e0o s\\u1ea3n xu\\u1ea5t \\u1ea1 ?\", \"D\\u1ea1 COMBO HOLLA FULL PHI\\u00caN B\\u1ea2N 2020 M\\u1eaaU V\\u01af\\u01a0NG MI\\u1ec6N -<br> c\\u00f3 xu\\u1ea5t x\\u1ee9 t\\u1eeb Trung Qu\\u1ed1c \\u1ea1\\n(xu\\u1ea5t x\\u1ee9 trong ph\\u1ea7n m\\u00f4 -<br>\", \"query_knowledge_base\", \"['attribute:origin']\", \"action_query_babe_kb\"], [\"ok shop\", \"D\\u1ea1,v\\u00e2ng \\u1ea1\", \"agree\", null, \"utter_agree\"], [\"b\\u1ea1n \\u01a1i\", \"Ch\\u00e0o b\\u1ea1n, m\\u00ecnh l\\u00e0 tr\\u1ee3 l\\u00fd \\u1ea3o c\\u1ee7a Shop G\\u1ea5u & B\\u00ed Ng\\u00f4,-<br>\", \"greet\", null, \"utter_greet\"], [\"cho m\\u00ecnh h\\u1ecfi\", \"D\\u1ea1,v\\u00e2ng\", \"want_to_query\", null, \"utter_want_to_query\"], [\"m\\u00ecnh mu\\u1ed1n mua c\\u00e2u tr\\u01b0\\u1ee3t cho b\\u00e9 th\\u00ec m n\\u00ean ch\\u1ecdn lo\\u1ea1i-<br>\", \"(B\\u1eaft \\u0111\\u01b0\\u1ee3c \\u1ea3nh g\\u1eedi ti\\u1ebfp theo m\\u1edbi tr\\u1ea3 l\\u1eddi user)\", \"query_knowledge_base\", \"['object_type:cau_truot', 'attribute:price']\", \"query_knowledge_base\"], [\"url\", \"S\\u1ea3n ph\\u1ea9m  c\\u1ea7u tr\\u01b0\\u1ee3t  hi\\u1ec7n shop \\u0111ang c\\u00f3 gi\\u00e1: 500,00-<br> 0 VND (gi\\u00e1 g\\u1ed1c 500,000 VND).\\r\\nB\\u1ea1n tham kh\\u1ea3o c\\u00e1c s\\u1ea3-<br>\", \"send_link\", \"url\", \"action_handle_send_link_only\"], [\"Lo\\u1ea1i n\\u00e0y bn v\\u1eady b\\u1ea1n\", \"(B\\u1eaft \\u0111\\u01b0\\u1ee3c \\u1ea3nh g\\u1eedi ti\\u1ebfp theo m\\u1edbi tr\\u1ea3 l\\u1eddi user)\", \"query_knowledge_base\", \"['mention:lo\\u1ea1i n\\u00e0y', 'attribute:price']\", \"action_query_babe_kb\"], [\"url\", \"S\\u1ea3n ph\\u1ea9m  B\\u1ea2NG V\\u1ebc HOLLA 2 in 1  hi\\u1ec7n shop \\u0111ang c\\u00f3 -<br> gi\\u00e1: 830,000 VND (gi\\u00e1 g\\u1ed1c 1,090,000 VND).\\nB\\u1ea1n tham-<br>\", \"send_link\", \"url\", \"action_query_babe_kb\"], [\"C\\u00f3 nh\\u1eefng m\\u00e0u g\\u00ec \\u1ea1 ?\", \"D\\u1ea1, B\\u1ea2NG V\\u1ebc HOLLA 2 in 1 hi\\u1ec7n c\\u00f3 c\\u00e1c m\\u00e0u: H\\u1ed3ng, Xa-<br>\", \"query_knowledge_base\", \"['attribute:color']\", \"action_query_babe_kb\"], [\"\\u0110\\u1ec3 m\\u00ecnh tham kh\\u1ea3o th\\u00eam , c\\u00f3 g\\u00ec m\\u00ecnh b\\u00e1o s\\u1edbm\", \"D\\u1ea1,v\\u00e2ng \\u1ea1\", \"finish_conv\", null, \"action_finish_conv\"], [\"url\", \"B\\u1ea1n \\u0111ang t\\u00ecm ki\\u1ebfm th\\u00f4ng tin g\\u00ec \\u1ea1?\", \"send_link\", \"url\", \"action_handle_send_link_only\"], [\"Gi\\u00e1 bnh shop\", \"S\\u1ea3n ph\\u1ea9m B\\u1ea2NG V\\u1ebc HOLLA 2 in 1 hi\\u1ec7n shop \\u0111ang c\\u00f3 gi-<br> \\u00e1: *830,000 VND (gi\\u00e1 g\\u1ed1c 1,090,000 VND)*.\\r\\nB\\u1ea1n tha-<br>\", \"query_knowledge_base\", \"['attribute:price']\", \"action_query_babe_kb\"], [\"url\", \"S\\u1ea3n ph\\u1ea9m NG\\u1ef0A B\\u1eacP B\\u00caNH HOLLA 2020 hi\\u1ec7n shop \\u0111ang c-<br> \\u00f3 gi\\u00e1: *580,000 VND (gi\\u00e1 g\\u1ed1c 800,000 VND)*.\\r\\nB\\u1ea1n t-<br>\", \"send_link\", \"url\", \"action_handle_send_link_only\"], [\"Ng\\u1ef1a n\\u00e0y th\\u00ec sao\", \"D\\u1ea1, s\\u1ea3n ph\\u1ea9mNG\\u1ef0A B\\u1eacP B\\u00caNH HOLLA 2020hi\\u1ec7n t\\u1ea1i b\\u00ean s-<br> hop \\u0111ang t\\u1ea1m h\\u1ebft h\\u00e0ng \\u1ea1. B\\u1ea1n tham kh\\u1ea3o c\\u00e1c s\\u1ea3n ph\\u1ea9-<br> m kh\\u00e1c d\\u00e0nh cho b\\u00e9 nh\\u00e9!D\\u1ea1, s\\u1ea3n ph\\u1ea9m Ng\\u1ef1a B\\u1eadp B\\u1ec7nh -<br> hi\\u1ec7n t\\u1ea1i b\\u00ean shop \\u0111ang t\\u1ea1m h\\u1ebft h\\u00e0ng \\u1ea1. B\\u1ea1n tham kh-<br>\", \"query_knowledge_base\", \"['object_type:Ng\\u1ef1a',\\n'mention:n\\u00e0y']\", \"action_query_babe_kb\"], [\"thank sh\", \"D\\u1ea1, c\\u1ea3m \\u01a1n \\u1ea1!\", \"thank\", null, \"utter_thank\"], [\"url\", \"B\\u1ea1n \\u0111ang t\\u00ecm ki\\u1ebfm th\\u00f4ng tin g\\u00ec \\u1ea1?\", \"send_link\", \"url\", \"action_handle_send_link_only\"], [\"B\\u1ed9 n\\u00e0y bn v\\u1eady shop\", \"COMBO HOLLA FULL PHI\\u00caN B\\u1ea2N 2020 M\\u1eaaU V\\u01af\\u01a0NG MI\\u1ec6N hi\\u1ec7-<br> n shop \\u0111ang c\\u00f3 gi\\u00e1: 4100000 VND (gi\\u00e1 g\\u1ed1c 5000000 V-<br> ND). B\\u1ea1n tham kh\\u1ea3o c\\u00e1c s\\u1ea3n ph\\u1ea9m sau nh\\u00e9 \\u1ea1: <show s-<br>\", \"query_knowledge_base\", \"['mention:b\\u1ed9 n\\u00e0y', 'attribute:price']\", \"action_query_babe_kb\"], [\"N\\u01b0\\u1edbc n\\u00e0o s\\u1ea3n xu\\u1ea5t \", \"D\\u1ea1 COMBO HOLLA FULL PHI\\u00caN B\\u1ea2N 2020 M\\u1eaaU V\\u01af\\u01a0NG MI\\u1ec6N -<br> c\\u00f3 xu\\u1ea5t x\\u1ee9 t\\u1eeb Trung Qu\\u1ed1c \\u1ea1\\n(xu\\u1ea5t x\\u1ee9 trong ph\\u1ea7n m\\u00f4 -<br>\", \"query_knowledge_base\", \"['attribute:origin']\", \"action_query_babe_kb\"], [\"url\", \"B\\u1ea1n \\u0111ang t\\u00ecm ki\\u1ebfm th\\u00f4ng tin g\\u00ec \\u1ea1?\", \"send_link\", \"url\", \"action_handle_send_link_only\"], [\"2 b\\u1ed9 n\\u00e0y bn \\u1ea1\", \"B\\u1ed9 \\u0111\\u1ed3 ch\\u01a1i nh\\u00e0 b\\u1ebfp th\\u00f4ng minh hi\\u1ec7n shop \\u0111ang c\\u00f3 gi-<br> \\u00e1: 790000 VND (gi\\u00e1 g\\u1ed1c 790000 VND). B\\u1ea1n tham kh\\u1ea3o -<br>\", \"query_knowledge_base\", \"['mention:b\\u1ed9 n\\u00e0y', 'attribute:price']\", \"action_query_babe_kb\"], [\"ch\\u1ea5t li\\u1ec7u g\\u00ec th\\u1ebf\", \"D\\u1ea1 s\\u1ea3n ph\\u1ea9m l\\u00e0m t\\u1eeb nh\\u1ef1a \\u1ea1\\r\\nB\\u1ea1n tham kh\\u1ea3o c\\u00e1c s\\u1ea3n p-<br>\", \"query_knowledge_base\", \"['attribute:material']\", \"action_query_babe_kb\"], [\"b\\u1ea1n \\u01a1i\", \"Ch\\u00e0o b\\u1ea1n, m\\u00ecnh l\\u00e0 tr\\u1ee3 l\\u00fd \\u1ea3o c\\u1ee7a Shop G\\u1ea5u & B\\u00ed Ng\\u00f4,-<br>\", \"greet\", null, \"utter_greet\"], [\"url\", \"B\\u1ea1n \\u0111ang t\\u00ecm ki\\u1ebfm th\\u00f4ng tin g\\u00ec \\u1ea1?\", \"send_link\", \"url\", \"action_handle_send_link_only\"], [\"Bn m\\u1ed9t b\\u1ed9 n\\u00e0y v\\u1eady shop\", \"S\\u1ea3n ph\\u1ea9m  B\\u1ea2NG V\\u1ebc HOLLA 2 in 1  hi\\u1ec7n shop \\u0111ang c\\u00f3 -<br> gi\\u00e1: 830,000 VND (gi\\u00e1 g\\u1ed1c 1,090,000 VND).\\nB\\u1ea1n tham-<br>\", \"query_knowledge_base\", \"['attribute:price', 'mention:b\\u1ed9 n\\u00e0y']\", \"action_query_babe_kb\"], [\"C\\u1ea3 b\\u1ed9 h\\u1ea3 b ?\", \"D\\u1ea1,v\\u00e2ng \\u1ea1\", \"query_knowledge_base\", null, \"action_query_babe_kb\"], [\"b\\u1ea1n \\u01a1i\", \"Ch\\u00e0o b\\u1ea1n, m\\u00ecnh l\\u00e0 tr\\u1ee3 l\\u00fd \\u1ea3o c\\u1ee7a Shop G\\u1ea5u & B\\u00ed Ng\\u00f4,-<br>\", \"greet\", null, \"utter_greet\"], [\"url\", \"B\\u1ea1n \\u0111ang t\\u00ecm ki\\u1ebfm th\\u00f4ng tin g\\u00ec \\u1ea1?\", \"send_link\", \"url\", \"action_handle_send_link_only\"], [\"B\\u1ed9 nay bn b\", \"S\\u1ea3n ph\\u1ea9m  B\\u1ea2NG V\\u1ebc HOLLA 2 in 1  hi\\u1ec7n shop \\u0111ang c\\u00f3 -<br> gi\\u00e1: 830,000 VND (gi\\u00e1 g\\u1ed1c 1,090,000 VND).\\nB\\u1ea1n tham-<br>\", \"query_knowledge_base\", \"['mention:b\\u1ed9 nay', 'attribute:price']\", \"action_query_babe_kb\"], [\"M\\u1ea5y ch\\u1eef tr\\u00ean b\\u1ea3n\\r\\nLa co s\\u1eb5n lun hay la k co \\u1ea1\", \"S\\u1ea3n ph\\u1ea9m  B\\u1ea2NG V\\u1ebc HOLLA 2 in 1 bao g\\u1ed3m c\\u00e1c ph\\u1ee5 ki\\u1ec7-<br> n sau: b\\u1ed9 ch\\u1eef, b\\u1ed9 s\\u1ed1 v\\u00e0 b\\u00fat n\\u01b0\\u1edbc\\nB\\u1ea1n tham kh\\u1ea3o s\\u1ea3n-<br>\", \"query_knowledge_base\", \"['attribute:accessories']\", \"action_query_babe_kb\"], [\"url\", \"B\\u1ea1n \\u0111ang t\\u00ecm ki\\u1ebfm th\\u00f4ng tin g\\u00ec \\u1ea1?\", \"send_link\", \"url\", \"action_handle_send_link_only\"], [\"Bn shop oi\", \"S\\u1ea3n ph\\u1ea9m  B\\u1ea2NG V\\u1ebc HOLLA 2 in 1  hi\\u1ec7n shop \\u0111ang c\\u00f3 -<br> gi\\u00e1: 830,000 VND (gi\\u00e1 g\\u1ed1c 1,090,000 VND).\\nB\\u1ea1n tham-<br>\", \"query_knowledge_base\", \"['attribute:price']\", \"utter_greet\"], [\"Chi\\u1ec1u nay ship lu\\u00f4n cho m\\u00ecnh \\u0111\\u01b0\\u1ee3c kh\\u00f4ng\", \"B\\u1ea1n cho shop xin \\u0111\\u1ecba ch\\u1ec9 nh\\u1eadn h\\u00e0ng \\u1ea1.\", \"time_ship\", null, \"action_time_ship\"], [\"s\\u1ed1 7 tr\\u00e0ng thi\", \"V\\u1edbi \\u0111\\u1ecba ch\\u1ec9 s\\u1ed1 7 tr\\u00e0ng thi shop c\\u00f3 th\\u1ec3 ship h\\u00e0ng \\u0111-<br>\", null, null, null], [\"Thanh ch\\u1eafn c\\u1ea7u thang bn a\", \"S\\u1ea3n ph\\u1ea9m thanh ch\\u1eafn c\\u1ea7u thang hi\\u1ec7n shop \\u0111ang c\\u00f3 gi-<br> \\u00e1: 830,000 VND (gi\\u00e1 g\\u1ed1c 1,090,000 VND).\\nB\\u1ea1n tham k-<br>\", \"query_knowledge_base\", \"['attribute:price']['object_type:thanh_chan_cau_thang']\", \"action_query_babe_kb\"], [\"k\\u00edch th\\u01b0\\u1edbc tn shop\", \"D\\u1ea1, thanh ch\\u1eafn c\\u1ea7u thang c\\u00f3 (c\\u00e1c-nhi\\u1ec1u k\\u00edch th\\u01b0\\u1edbc)-<br>  k\\u00edch th\\u01b0\\u1edbc: 74x83x 77cm \\u1ea1. \\n<show card s\\u1ea3n ph\\u1ea9m> -<br>\", \"query_knowledge_base\", \"['attribute:size']\", \"action_query_babe_kb\"], [\"ok shop\", \"D\\u1ea1,v\\u00e2ng\", \"agree\", null, \"utter_agree\"], [\"b\\u1ea1n \\u01a1i\", \"Ch\\u00e0o b\\u1ea1n, m\\u00ecnh l\\u00e0 tr\\u1ee3 l\\u00fd \\u1ea3o c\\u1ee7a Shop G\\u1ea5u & B\\u00ed Ng\\u00f4,-<br>\", \"greet\", null, \"utter_greet\"], [\"B\\u1ed9 \\u0111\\u1ed3 ch\\u01a1i n\\u1ea5u \\u0103n gi\\u00e1 bn \\u1ea1\", \"M\\u00ecnh ch\\u01b0a x\\u00e1c \\u0111\\u1ecbnh \\u0111\\u01b0\\u1ee3c m\\u00f3n \\u0111\\u1ed3 b\\u1ea1n h\\u1ecfi, b\\u1ea1n m\\u00f4 t\\u1ea3 -<br>\", \"query_knowledge_base\", \"['attribute:price']\", \"action_query_babe_kb\"], [\"url\", \"B\\u1ed9 \\u0111\\u1ed3 ch\\u01a1i nh\\u00e0 b\\u1ebfp th\\u00f4ng minh hi\\u1ec7n shop \\u0111ang c\\u00f3 gi-<br> \\u00e1: 790000 VND (gi\\u00e1 g\\u1ed1c 790000 VND). B\\u1ea1n tham kh\\u1ea3o -<br>\", \"send_link\", \"url\", \"action_handle_send_link_only\"], [\"ok shop\", \"D\\u1ea1,v\\u00e2ng\", \"agree\", null, \"utter_agree\"], [\"url\", \"action_handle_send_link_only\", \"send_link\", \"url\", \"action_handle_send_link_only\"], [\"Thanh 36cm l\\u1eafp th\\u00eam v\\u00e0o ch\\u1ed7 h\\u1eb9p c\\u0169ng \\u0111c ph\\u1ea3i ko a,-<br>\", \"Cho m\\u00ecnh xin chi\\u1ec1u r\\u1ed9ng c\\u1ea7u thang nh\\u00e0 b\\u1ea1n \\u1ea1 ?\", \"to_compare\", \"['size:36cm', 'size:12cm']\", \"action_to_compare\"], [\"0,5m \\u1ea1\", \"D\\u1ea1 s\\u1ea3n ph\\u1ea9m thanh 36 cm v\\u00e0 12 cm l\\u1eafp \\u0111\\u01b0\\u1ee3c v\\u1edbi c\\u1ea7u -<br>\", \"query_knowledge_base\", \"['size:0,5m']\", \"action_query_babe_kb\"], [\"url\", \"action_handle_send_link_only\", \"send_link\", \"url\", \"action_handle_send_link_only\"], [\"Ng\\u1ef1a n\\u00e0y h\\u00e0ng v\\u1ec1 h\\u1ea3 shop?\", \"S\\u1ea3n ph\\u1ea9m  NG\\u1ef0A B\\u1eacP B\\u00caNH HOLLA 2020  hi\\u1ec7n shop c\\u00f3 h-<br> \\u00e0ng v\\u00e0 \\u0111ang c\\u00f3 gi\\u00e1: 580000\\n VND (gi\\u00e1 g\\u1ed1c 800000 VN-<br> D).\\nB\\u1ea1n tham kh\\u1ea3o c\\u00e1c s\\u1ea3n ph\\u1ea9m sau nh\\u00e9 \\u1ea1:\\n<show sp-<br>\", \"query_knowledge_base\", \"['object_type:ngua_bap_benh', 'mention:n\\u00e0y']\", \"action_query_babe_kb\"], [\"B\\u00ean m\\u00ecnh c\\u00f3 m\\u00e3 gi\\u1ea3m gi\\u00e1 shopee k shop?\", \"Hi\\u1ec7n shop kh\\u00f4ng c\\u00f3 m\\u00e3 gi\\u1ea3m gi\\u00e1 shopee cho s\\u1ea3n ph\\u1ea9m-<br>\", \"query_knowledge_base\", \"['attribute:promotion','attribute:codediscount']\", \"action_query_babe_kb\"], [\"url\", \"B\\u1ea1n \\u0111ang t\\u00ecm ki\\u1ebfm th\\u00f4ng tin g\\u00ec \\u1ea1?\", \"send_link\", \"url\", \"action_handle_send_link_only\"], [\"B\\u1ea1n \\u01a1i b\\u1ed9 n\\u00e0y bao ti\\u1ec1n \\u1ea1\", \"S\\u1ea3n ph\\u1ea9m  B\\u1ea2NG V\\u1ebc HOLLA 2 in 1  hi\\u1ec7n shop \\u0111ang c\\u00f3 -<br> gi\\u00e1: 830,000 VND (gi\\u00e1 g\\u1ed1c 1,090,000 VND).\\nB\\u1ea1n tham-<br>\", \"query_knowledge_base\", \"['mention:b\\u1ed9 n\\u00e0y', 'attribute:price']\", \"action_query_babe_kb\"], [\" bao g\\u1ed3m c\\u1ea3 b\\u1ed9 ch\\u1eef, s\\u1ed1 \\u1edf tr\\u00ean b\\u1ea3ng + b\\u00fat n\\u01b0\\u1edbc \\u00e0 b\", \"S\\u1ea3n ph\\u1ea9m  B\\u1ea2NG V\\u1ebc HOLLA 2 in 1 bao g\\u1ed3m c\\u00e1c ph\\u1ee5 ki\\u1ec7-<br> n sau: b\\u1ed9 ch\\u1eef, b\\u1ed9 s\\u1ed1 v\\u00e0 b\\u00fat n\\u01b0\\u1edbc\\nB\\u1ea1n tham kh\\u1ea3o s\\u1ea3n-<br>\", \"query_knowledge_base\", \"\\n['accessories:b\\u1ed9 ch\\u1eef']['accessories:b\\u1ed9 s\\u1ed1']['accessories:b\\u00fat n\\u01b0\\u1edbc']\", \"action_query_babe_kb\"], [\"url\", \"B\\u1ea1n \\u0111ang t\\u00ecm ki\\u1ebfm th\\u00f4ng tin g\\u00ec \\u1ea1?\", \"send_link\", \"url\", \"action_handle_send_link_only\"], [\"B\\u1ed9 n\\u00e0y bao nhi\\u00eau v\\u1eady shop \\u01a1i\", \"S\\u1ea3n ph\\u1ea9m  B\\u1ea2NG V\\u1ebc HOLLA 2 in 1  hi\\u1ec7n shop \\u0111ang c\\u00f3 -<br> gi\\u00e1: 830,000 VND (gi\\u00e1 g\\u1ed1c 1,090,000 VND).\\nB\\u1ea1n tham-<br>\", \"query_knowledge_base\", \"['mention:b\\u1ed9 n\\u00e0y', 'attribute:price']\", \"action_query_babe_kb\"], [\"M\\u00ecnh c\\u00f3 b\\u1ea3ng v\\u1ebd \\u0111a n\\u0103ng cho b\\u00e9 m\\u00e0 k \\u0111i li\\u1ec1n v\\u1edbi b\\u00e0-<br>\", \"S\\u1ea3n ph\\u1ea9m b\\u1ea3ng v\\u1ebd m\\u00e0 kh\\u00f4ng \\u0111i li\\u1ec1n v\\u1edbi b\\u00e0n hi\\u1ec7n sho-<br> p c\\u00f3 nh\\u1eefng s\\u1ea3n ph\\u1ea9m sau m\\u1eddi b\\u1ea1n tham kh\\u1ea3o:\\n<sp1><s-<br>\", \"query_knowledge_base\", null, \"action_query_babe_kb\"], [\"url\", \"B\\u1ea1n \\u0111ang t\\u00ecm ki\\u1ebfm th\\u00f4ng tin g\\u00ec \\u1ea1?\", \"send_link\", \"url\", \"action_handle_send_link_only\"], [\"url\", \"B\\u1ea1n \\u0111ang t\\u00ecm ki\\u1ebfm th\\u00f4ng tin g\\u00ec \\u1ea1?\", \"send_link\", \"url\", \"action_handle_send_link_only\"], [\"B\\u00e1o gi\\u00e1 gi\\u00fap m\\u00ecnh\", \"S\\u1ea3n ph\\u1ea9m  B\\u1ea2NG V\\u1ebc HOLLA 2 in 1  hi\\u1ec7n shop \\u0111ang c\\u00f3 -<br> gi\\u00e1: 830,000 VND (gi\\u00e1 g\\u1ed1c 1,090,000 VND).\\nB\\u1ea1n tham-<br>\", \"query_knowledge_base\", \"['attribute:price']\", \"action_query_babe_kb\"], [\"G\\u1ed3m b\\u1ea3ng, gh\\u1ebf v\\u00e0 g\\u00ec n\\u1eefa ko shop\", null, \"query_knowledge_base\", \"['attribute:accessories']\", \"action_query_babe_kb\"], [\"url\", \"S\\u1ea3n ph\\u1ea9m  B\\u1ea2NG V\\u1ebc HOLLA 2 in 1 bao g\\u1ed3m c\\u00e1c ph\\u1ee5 ki\\u1ec7-<br> n sau: b\\u1ed9 ch\\u1eef, b\\u1ed9 s\\u1ed1 v\\u00e0 b\\u00fat n\\u01b0\\u1edbc \\u1ea1\\nB\\u1ea1n tham kh\\u1ea3o s-<br>\", \"send_link\", \"url\", \"action_handle_send_link_only\"], [\"M\\u00ecnh c\\u00f3 b\\u1ea3ng v\\u1ebd \\u0111a n\\u0103ng cho b\\u00e9 m\\u00e0 k \\u0111i li\\u1ec1n v\\u1edbi gh-<br>\", \"S\\u1ea3n ph\\u1ea9m b\\u1ea3ng v\\u1ebd m\\u00e0 kh\\u00f4ng \\u0111i li\\u1ec1n v\\u1edbi gh\\u1ebf hi\\u1ec7n sho-<br> p c\\u00f3 nh\\u1eefng s\\u1ea3n ph\\u1ea9m sau m\\u1eddi b\\u1ea1n tham kh\\u1ea3o:\\n<sp1><s-<br>\", \"query_knowledge_base\", \"['aobject_type:bang_ve']\", \"action_query_babe_kb\"], [\"M\\u1eabu c\\u1ea7u tr\\u01b0\\u1ee3t n\\u00e0y b\\u00e1o gi\\u00e1 gi\\u00fap e nh\\u00e9\", null, \"query_knowledge_base\", \"['object_type:cau_truot', 'mention:n\\u00e0y', 'attribute:price']\", \"action_query_babe_kb\"], [\"url\", \"S\\u1ea3n ph\\u1ea9m  c\\u1ea7u tr\\u01b0\\u1ee3t  hi\\u1ec7n shop \\u0111ang c\\u00f3 gi\\u00e1: 830,00-<br> 0 VND (gi\\u00e1 g\\u1ed1c 1,090,000 VND).\\nB\\u1ea1n tham kh\\u1ea3o s\\u1ea3n p-<br>\", \"send_link\", \"url\", \"action_handle_send_link_only\"], [\"D\\u00f9ng cho b\\u00e9 bao th\\u00e1ng \\u1ea1\", \"C\\u1ea7u tr\\u01b0\\u1ee3t c\\u00f3 \\u0111\\u1ed9 tu\\u1ed5i s\\u1eed d\\u1ee5ng 0-36 th\\u00e1ng \\nB\\u1ea1n tham -<br>\", \"query_knowledge_base\", \"['attribute:age_of_use']\", \"action_query_babe_kb\"], [\"B\\u00e1o gi\\u00e1 gi\\u00fap m\\u00ecnh b\\u1ea3ng v\\u1ebd Hola nh\\u00e9\\n1 b\\u1ed9 bao g\\u1ed3m nh-<br>\", \"S\\u1ea3n ph\\u1ea9m  B\\u1ea2NG V\\u1ebc HOLLA 2 in 1  hi\\u1ec7n shop \\u0111ang c\\u00f3 -<br> gi\\u00e1: 830,000 VND (gi\\u00e1 g\\u1ed1c 1,090,000 VND).\\nS\\u1ea3n ph\\u1ea9m-<br>  B\\u1ea2NG V\\u1ebc HOLLA 2 in 1 bao g\\u1ed3m c\\u00e1c ph\\u1ee5 ki\\u1ec7n sau: b\\u1ed9-<br>  ch\\u1eef, b\\u1ed9 s\\u1ed1 v\\u00e0 b\\u00fat n\\u01b0\\u1edbc \\u1ea1 B\\u1ea1n tham kh\\u1ea3o s\\u1ea3n ph\\u1ea9m s-<br>\", \"query_knowledge_base\", \"['attribute:price','object_type:bang_ve','brand:hola','attribute:accessories']\", \"action_query_babe_kb\"], [\"url\", null, \"send_link\", \"url\", \"action_handle_send_link_only\"], [\"c\\u00f3 tr\\u00ean shopee kh\\u00f4ng shop\", \"M\\u1eddi b\\u1ea1n tham kh\\u1ea3o link shopee c\\u1ee7a s\\u1ea3n ph\\u1ea9m:\\n<show -<br>\", \"query_knowledge_base\", \"['attribute:link']\", \"action_query_babe_kb\"], [\"Cho m xem m\\u00e0u\", \"M\\u00ecnh ch\\u01b0a x\\u00e1c \\u0111\\u1ecbnh \\u0111\\u01b0\\u1ee3c m\\u00f3n \\u0111\\u1ed3 b\\u1ea1n h\\u1ecfi, b\\u1ea1n m\\u00f4 t\\u1ea3 -<br>\", \"query_knowledge_base\", \"['attribute:color']\", \"action_query_babe_kb\"], [\"Gh\\u1ebf \\u0103n d\\u1eb7m newber \\u1ea1\", \"D\\u1ea1, s\\u1ea3n ph\\u1ea9m Gh\\u1ebf \\u0102n h\\u00e3ng s\\u1ea3n xu\\u1ea5t Newber hi\\u1ec7n t\\u1ea1i -<br> \\u0111ang c\\u00f3 c\\u00e1c m\\u00e0u sau \\u1ea1 : h\\u1ed3ng, xanh\\nB\\u1ea1n tham kh\\u1ea3o s-<br>\", \"query_knowledge_base\", \"['object_type:ghe_an', 'brand:newber']\", \"action_query_babe_kb\"], [\"b\\u00e9 bao tu\\u1ed5i th\\u00ec ng\\u1ed3i \\u0111\\u01b0\\u1ee3c \\u1ea1\", \"Gh\\u1ebf \\u0102n h\\u00e3ng s\\u1ea3n xu\\u1ea5t Newber c\\u00f3 \\u0111\\u1ed9 tu\\u1ed5i s\\u1eed d\\u1ee5ng 0-3-<br> 6 th\\u00e1ng \\nB\\u1ea1n tham kh\\u1ea3o s\\u1ea3n ph\\u1ea9m sau nh\\u00e9 \\u1ea1:\\n<show s-<br>\", \"query_knowledge_base\", \"['attribute:age_of_use']\", \"action_query_babe_kb\"], [\"url\", \"B\\u1ea1n \\u0111ang t\\u00ecm ki\\u1ebfm th\\u00f4ng tin g\\u00ec \\u1ea1?\", \"send_link\", \"url\", \"action_handle_send_link_only\"], [\"B\\u1ea3n cho b\\u00e9 2 tuoi bao nh \\u1ea1\", \"S\\u1ea3n ph\\u1ea9m B\\u1ea2NG V\\u1ebc HOLLA 2 in 1 hi\\u1ec7n shop \\u0111ang c\\u00f3 gi-<br> \\u00e1: *830,000 VND (gi\\u00e1 g\\u1ed1c 1,090,000 VND)*.\\r\\nB\\u1ea1n tha-<br>\", \"query_knowledge_base\", \"['age_of_use:2 tuoi', 'attribute:price']\", \"action_query_babe_kb\"], [\"ok shop\", \"D\\u1ea1,v\\u00e2ng\", \"agree\", null, \"utter_agree\"], [\"B\\u1ea1n \\u01a1i ship cho m\\u00ecnh 1 thanh ch\\u1eafn c\\u1eeda v\\u00e0 1 thanh n-<br>\", \"\\\"C\\u1ea3m \\u01a1n b\\u1ea1n! B\\u1ea1n vui l\\u00f2ng \\u0111i\\u1ec1n th\\u00f4ng tin v\\u00e0o M\\u1eabu \\u0111-<br> \\u1eb7t h\\u00e0ng gi\\u00fap shop nh\\u00e9!\\n<Show ra c\\u00e1i b\\u1ea3ng m\\u1eabu \\u0111\\u1eb7t h-<br> \\u00e0ng: c\\u00f3 t\\u00ean s\\u1ea3n ph\\u1ea9m, cho kh\\u00e1ch t\\u00f9y ch\\u1ecdn s\\u1ed1 l\\u01b0\\u1ee3ng,-<br>\", \"query_knowledge_base\", \"['object_type:thanh_chan_cua','object_type:thanh_noi','attribute:ship'size:12cm]\", null], [null, \"B\\u1ea1n \\u0111\\u00e3 \\u0111\\u1eb7t h\\u00e0ng th\\u00e0nh c\\u00f4ng , \\u0111\\u01a1n h\\u00e0ng s\\u1ebd \\u0111c gioa \\u0111-<br>\", \"agree\", null, \"action_query_babe_kb\"], [\"b\\u1ea1n \\u01a1i\", \"Ch\\u00e0o b\\u1ea1n, m\\u00ecnh l\\u00e0 tr\\u1ee3 l\\u00fd \\u1ea3o c\\u1ee7a Shop G\\u1ea5u & B\\u00ed Ng\\u00f4,-<br>\", \"greet\", null, \"utter_greet\"], [\"shop \\u01a1i m\\u00ecnh c\\u1ea7n mua v\\u00e1y v\\u1eaft s\\u1eeda\\ns\\u01b0a\", \"Hi\\u1ec7n t\\u1ea1i s\\u1ea3n ph\\u1ea9m m\\u00e1y h\\u00fat s\\u1eefa shop \\u0111ang c\\u00f3 nh\\u1eefng g-<br>\", \"query_knowledge_base\", \"['object_type:may_hut_sua']\", \"action_query_babe_kb\"], [\"/query_knowledge_base{\\\"price\\\": \\\"1M - 2M\\\"}\\t\", \"M\\u1eddi b\\u1ea1n click v\\u00e0o \\\"Xem chi ti\\u1ebft\\\" \\u0111\\u1ec3 tham kh\\u1ea3o s\\u1ea3n -<br> ph\\u1ea9m hi\\u1ec7n c\\u00f3 t\\u1ea1i shop nh\\u00e9!\\r\\n<card sp 1> <card sp 2-<br>\", \"query_knowledge_base\", null, \"action_query_babe_kb\"], [\"Alo\", \"Ch\\u00e0o b\\u1ea1n, m\\u00ecnh l\\u00e0 tr\\u1ee3 l\\u00fd \\u1ea3o c\\u1ee7a Shop G\\u1ea5u & B\\u00ed Ng\\u00f4,-<br>\", \"greet\", null, \"utter_greet\"], [\"url\", \"B\\u1ea1n \\u0111ang t\\u00ecm ki\\u1ebfm th\\u00f4ng tin g\\u00ec \\u1ea1?\", \"send_link\", \"url\", \"action_handle_send_link_only\"], [\"\\u0110\\u0103ng shopee ch\\u01b0a\", \"M\\u1eddi b\\u1ea1n tham kh\\u1ea3o link shopee c\\u1ee7a s\\u1ea3n ph\\u1ea9m:\\n<show -<br>\", \"action_query_babe_kb\", \"['attribute:link']\", \"action_query_babe_kb\"], [\"Alo\", \"Ch\\u00e0o b\\u1ea1n, m\\u00ecnh l\\u00e0 tr\\u1ee3 l\\u00fd \\u1ea3o c\\u1ee7a Shop G\\u1ea5u & B\\u00ed Ng\\u00f4,-<br>\", \"greet\", null, \"utter_greet\"], [\"url\", null, \"send_link\", \"url\", \"action_handle_send_link_only\"], [\"\\u0110\\u0103ng shopee ch\\u01b0a\", \"S\\u1ea3n ph\\u1ea9m B\\u1ed9 \\u0111\\u1ed3 ch\\u01a1i nh\\u00e0 b\\u1ebfp th\\u00f4ng minh hi\\u1ec7n ch\\u01b0a c-<br>\", \"query_knowledge_base\", \"['attribute:link']\", \"action_query_babe_kb\"], [\"Bao gi\\u1edd \\u0111\\u0103ng l\\u00ean th\\u00ec th\\u00f4ng b\\u00e1o m\\u00ecnh nh\\u00e9 \\u0111\\u1ec3 m\\u00ecnh \\u0111\\u1eb7-<br>\", \"D\\u1ea1,v\\u00e2ng \\u1ea1\", \"query_knowledge_base\", null, \"action_query_babe_kb\"], [\"b \\u01a1i cho m\\u00ecnh h\\u1ecfi ch\\u00fat\\nb\\u00ean m\\u00ecnh c\\u00f3 qu\\u00e2y k k \\u1ea1\", \"S\\u1ea3n ph\\u1ea9m  Qu\\u00e2y  hi\\u1ec7n shop \\u0111ang c\\u00f3 gi\\u00e1: *1,440,000 -<br> VND (gi\\u00e1 g\\u1ed1c 1,490,000 VND), 1,040,000 VND (gi\\u00e1 g\\u1ed1-<br> c 1,290,000 VND), 1,340,000 VND (gi\\u00e1 g\\u1ed1c 1,390,000-<br>\", \"query_knowledge_base\", \"['object_type:quay']\", \"action_query_babe_kb\"], [\"m\\u1eabu n\\u00e0y kt bn h\\u1ea3 b\", \"M\\u00ecnh ch\\u01b0a x\\u00e1c \\u0111\\u1ecbnh \\u0111\\u01b0\\u1ee3c m\\u00f3n \\u0111\\u1ed3 b\\u1ea1n h\\u1ecfi, b\\u1ea1n m\\u00f4 t\\u1ea3 -<br>\", \"query_knowledge_base\", \"['mention:m\\u1eabu n\\u00e0y', 'attribute:size']\", \"action_query_babe_kb\"], [\"url\", \"S\\u1ea3n ph\\u1ea9m  COMBO HOLLA LI\\u00caN HO\\u00c0N 2020 hi\\u1ec7n shop \\u0111an-<br> g c\\u00f3 k\\u00edch th\\u01b0\\u1edbc: *1.8x2M*.\\nB\\u1ea1n tham kh\\u1ea3o s\\u1ea3n ph\\u1ea9m -<br>\", \"send_link\", \"url\", \"action_handle_send_link_only\"], [\"mai ship m\\u00ecnh b\\u1ed9 n\\u00e0y b nh\\u00e9\\n\", \"Cho shop xin th\\u00f4ng tin \\u1ea1 ( \\u0111\\u1ecba ch\\u1ec9 , s\\u1ed1 \\u0111i\\u1ec7n tho\\u1ea1i-<br>\", \"query_knowledge_base\", \"['mention:b\\u1ed9 n\\u00e0y']\", \"action_query_babe_kb\"], [\"434 tr\\u1ea7n kh\\u00e1t ch\\u00e2n, hai b\\u00e0 tr\\u01b0ng\\ns\\u0111t:113\", \"Th\\u00f4ng tin \\u0111\\u01a1n h\\u00e0ng \\n( ng nh\\u1eadn: t\\u00ean fb, t\\u00ean s\\u1ea3n ph\\u1ea9-<br> m, s\\u1ed1 l\\u01b0\\u1ee3ng, thu\\u1ed9c t\\u00ednh, gi\\u00e1 tr\\u1ecb s\\u1ea3n ph\\u1ea9m , ph\\u00ed sh-<br>\", \"query_knowledge_base\", null, \"action_query_babe_kb\"], [\"<x\\u00e1c nh\\u1eadn>\", \"C\\u00e1m \\u01a1n b\\u1ea1n \\u0111\\u00e3 mua h\\u00e0ng t\\u1ea1i shop, \\u0111\\u01a1n h\\u00e0ng s\\u1ebd \\u0111\\u01b0\\u1ee3c -<br> giao \\u0111\\u1ebfn 434 tr\\u1ea7n kh\\u00e1t ch\\u00e2n, 2 b\\u00e0 tr\\u01b0ng trong kho\\u1ea3-<br>\", \"agree\", null, null], [\"b\\u1ea1n \\u01a1i\", \"Ch\\u00e0o b\\u1ea1n, m\\u00ecnh l\\u00e0 tr\\u1ee3 l\\u00fd \\u1ea3o c\\u1ee7a Shop G\\u1ea5u & B\\u00ed Ng\\u00f4,-<br>\", \"greet\", null, \"utter_greet\"], [\"url\", \"S\\u1ea3n ph\\u1ea9m  Gh\\u1ebf cao \\u0111a n\\u0103ng Mastela 1015  hi\\u1ec7n shop -<br> \\u0111ang c\\u00f3 gi\\u00e1: 1320000 VND (gi\\u00e1 g\\u1ed1c 2000000 VND).\\nB\\u1ea1-<br>\", \"query_knowledge_base\", \"url\", \"action_query_babe_kb\"], [\"thank shop\", \"D\\u1ea1 v\\u00e2ng \\u1ea1.\", \"thank\", null, \"utter_thank\"], [\"url\", \"Ch\\u00e0o b\\u1ea1n, m\\u00ecnh l\\u00e0 tr\\u1ee3 l\\u00fd \\u1ea3o c\\u1ee7a Shop G\\u1ea5u & B\\u00ed Ng\\u00f4,-<br>\", \"greet\", \"url\", \"utter_greet\"], [\"Mua le dc k shop\", \"Qu\\u00e2y g\\u00f3c vu\\u00f4ng c\\u00e1nh nh\\u1ecf h\\u00ecnh ng\\u00f4i nh\\u00e0 toyhouse l\\u00e0 -<br> s\\u1ea3n ph\\u1ea9m b\\u00e1n l\\u1ebb hi\\u1ec7n \\u0111ang c\\u00f3 gi\\u00e1 1.090.000 - \\u20ab1.25-<br> 0.000\\n (gi\\u00e1 g\\u1ed1c 290.000 - \\u20ab1.390.000)\\nB\\u1ea1n tham kh\\u1ea3-<br>\", \"query_knowledge_base\", \"[]\", \"action_query_babe_kb\"], [\"Ship Th\\u1ea1ch Bnaf, LB ph\\u00ed bnhieu b\", \"Ship th\\u1ea1ch b\\u00e0n , long bi\\u00ean trong n\\u1ed9i th\\u00e0nh h\\u00e0 n\\u1ed9i -<br>\", \"query_knowledge_base\", \"[]\", \"action_handover_to_inbox\"], [\"Shop cho e h\\u1ecfi b\\u1ed9 \\u0111\\u1ed3 ch\\u01a1i cho b\\u00e9 n\\u00e0y c\\u00f3 to ko \\u1ea1. B-<br> \\u00e9 \\u0111\\u1ee9ng v\\u1edbi t\\u1edbi ko \\u1ea1. Do nh\\u00ecn qua h\\u00ecnh n\\u00ean ko h\\u00ecnh -<br>\", \"M\\u00ecnh ch\\u01b0a x\\u00e1c \\u0111\\u1ecbnh \\u0111\\u01b0\\u1ee3c m\\u00f3n \\u0111\\u1ed3 b\\u1ea1n h\\u1ecfi, b\\u1ea1n m\\u00f4 t\\u1ea3 -<br>\", \"query_knowledge_base\", \"['attribute:size']\", \"action_query_babe_kb\"], [\"url\", \"S\\u1ea3n ph\\u1ea9m  B\\u1ed9 \\u0111\\u1ed3 ch\\u01a1i nh\\u00e0 b\\u1ebfp th\\u00f4ng minh c\\u00f3 k\\u00edch th-<br> \\u01b0\\u1edbc: 57x30x77cm v\\u00e0 51x32x100cm\\nB\\u1ea1n tham kh\\u1ea3o c\\u00e1c s-<br>\", \"send_link\", \"url\", \"action_handle_send_link_only\\n\"], [\"c\\u00e1m \\u01a1n shop\", null, \"thank\", null, \"utter_thank\"], [\"hello\", \"Ch\\u00e0o b\\u1ea1n, m\\u00ecnh l\\u00e0 tr\\u1ee3 l\\u00fd \\u1ea3o c\\u1ee7a Shop G\\u1ea5u & B\\u00ed Ng\\u00f4,-<br>\", \"greet\", null, \"utter_greet\"], [\"gh\\u1ebf \\u0103n d\\u1eb7m\", \"Hi\\u1ec7n t\\u1ea1i s\\u1ea3n ph\\u1ea9m Gh\\u1ebf \\u0102n  shop \\u0111ang c\\u00f3 nh\\u1eefng *gi\\u00e1*-<br>\", \"query_knowledge_base\", \"['object_type:ghe_an']\", \"action_query_babe_kb\"], [\"/confirm_attribute_value{\\\"price\\\": \\\"500k - 1M\\\"}\", \"D\\u1ea1 m\\u1eddi b\\u1ea1n tham kh\\u1ea3o c\\u00e1c lo\\u1ea1i s\\u1ea3n ph\\u1ea9m hi\\u1ec7n c\\u00f3 t\\u1ea1i-<br>\", \"confirm_attribute_value\", \"['price:500k - 1M']\", \"action_query_babe_kb\"], [\"V\\u1eady xe scotter c\\u00f2n k \\u1ea1\\nLo\\u1ea1i c\\u00f3 \\u01b0 b\\u00e1nh trc \\u1ea1\", \"M\\u1eddi b\\u1ea1n tham kh\\u1ea3o c\\u00e1c Xe Scooter shop \\u0111ang c\\u00f3 \\u1ea1:\\n<-<br>\", \"query_knowledge_base\", \"['object_type:xe', 'brand:scotter']\", \"action_query_babe_kb\"], [\"url\", \"B\\u1ea1n \\u0111ang t\\u00ecm ki\\u1ebfm th\\u00f4ng tin g\\u00ec \\u1ea1?\", \"send_link\", \"url\", \"action_handle_send_link_only\"], [\"Shop co b\\u00e1n goi nay kg \\u1ea1?\", \"S\\u1ea3n ph\\u1ea9m b\\u1ea1n v\\u1eeba g\\u1eedi shop kh\\u00f4ng c\\u00f3 h\\u00e0ng, hi\\u1ec7n t\\u1ea1i -<br> shop c\\u00f3 c\\u00e1c lo\\u1ea1i G\\u1ed1i sau:\\n<show random card 5 c\\u00e1i -<br>\", \"query_knowledge_base\", \"['object_type:goi', 'mention:nay']\", \"action_query_babe_kb\"], [\"shop \\u01a1i\", \"Ch\\u00e0o b\\u1ea1n, m\\u00ecnh l\\u00e0 tr\\u1ee3 l\\u00fd \\u1ea3o c\\u1ee7a Shop G\\u1ea5u & B\\u00ed Ng\\u00f4,-<br>\", \"greet\", null, \"utter_greet\"], [\"url\", \"S\\u1ea3n ph\\u1ea9m  B\\u1ed9 \\u0111\\u1ed3 ch\\u01a1i nh\\u00e0 b\\u1ebfp th\\u00f4ng minh  hi\\u1ec7n shop-<br>  \\u0111ang c\\u00f3 gi\\u00e1: 490.000 - 790.000\\nB\\u1ea1n tham kh\\u1ea3o c\\u00e1c -<br>\", \"query_knowledge_base\", \"url\", \"action_query_babe_kb\"], [\"ok, thank shop!\", \"Shop c\\u1ea3m \\u01a1n b\\u1ea1n \\u1ea1.\", \"thank\", null, \"utter_thank\"], [\"shop \\u01a1i\", \"Ch\\u00e0o b\\u1ea1n, m\\u00ecnh l\\u00e0 tr\\u1ee3 l\\u00fd \\u1ea3o c\\u1ee7a Shop G\\u1ea5u & B\\u00ed Ng\\u00f4,-<br>\", \"greet\", null, \"utter_greet\"], [\"url\", \"S\\u1ea3n ph\\u1ea9m  B\\u1ed9 \\u0111\\u1ed3 ch\\u01a1i nh\\u00e0 b\\u1ebfp th\\u00f4ng minh  hi\\u1ec7n shop-<br>  \\u0111ang c\\u00f3 gi\\u00e1: 490.000 - 790.000\\nB\\u1ea1n tham kh\\u1ea3o c\\u00e1c -<br>\", \"query_knowledge_base\", \"url\", \"action_query_babe_kb\"], [\"c\\u00e1i n\\u00e0y c\\u00f3 2 size \\u00e0 shop?\", \"S\\u1ea3n ph\\u1ea9m  B\\u1ed9 \\u0111\\u1ed3 ch\\u01a1i nh\\u00e0 b\\u1ebfp th\\u00f4ng minh c\\u00f3 k\\u00edch th-<br> \\u01b0\\u1edbc: 57x30x77cm v\\u00e0 51x32x100cm\\nB\\u1ea1n tham kh\\u1ea3o c\\u00e1c s-<br>\", \"query_knowledge_base\", \"['mention:c\\u00e1i n\\u00e0y', 'attribute:size']\", \"action_query_babe_kb\"], [\"ok shop\", \"V\\u00e2ng \\u1ea1!\", \"agree\", null, \"utter_agree\"], [\"shop \\u01a1i\", \"Ch\\u00e0o b\\u1ea1n, m\\u00ecnh l\\u00e0 tr\\u1ee3 l\\u00fd \\u1ea3o c\\u1ee7a Shop G\\u1ea5u & B\\u00ed Ng\\u00f4,-<br>\", \"greet\", null, \"utter_greet\"], [\"Ch\\u00e0o shop, shop c\\u00f2n m\\u1eabu gh\\u1ebf mastela m\\u00e0u ghi, m\\u00e3 73-<br>\", \"S\\u1ea3n ph\\u1ea9m Gh\\u1ebf \\u0103n n\\u00e2ng h\\u1ea1 \\u0111\\u1ed9 cao nh\\u1ef1a Mastela 07330/-<br> 07331 m\\u00e0u ghi hi\\u1ec7n \\u0111ang c\\u00f3 gi\\u00e1: 490.000 (Gi\\u00e1 g\\u1ed1c: -<br>\", \"query_knowledge_base\", \"['object_type:ghe', 'brand:mastela', 'color:m\\u00e0u ghi', 'attribute:price', 'code:7330']\", \"action_query_babe_kb\"], [\"M\\u00ecnh c\\u1ea7n g\\u1ea5p, shop ship lu\\u00f4n cho m\\u00ecnh nh\\u00e9.\", \"C\\u1ea3m \\u01a1n b\\u1ea1n! B\\u1ea1n vui l\\u00f2ng \\u0111i\\u1ec1n th\\u00f4ng tin v\\u00e0o M\\u1eabu \\u0111\\u1eb7-<br> t h\\u00e0ng gi\\u00fap shop nh\\u00e9!\\n<Show ra c\\u00e1i b\\u1ea3ng m\\u1eabu \\u0111\\u1eb7t h\\u00e0-<br> ng: c\\u00f3 t\\u00ean s\\u1ea3n ph\\u1ea9m, cho kh\\u00e1ch t\\u00f9y ch\\u1ecdn s\\u1ed1 l\\u01b0\\u1ee3ng, -<br>\", \"make_order\", null, \"action_make_order\"], [\"url\", \"B\\u1ea1n \\u0111ang t\\u00ecm ki\\u1ebfm th\\u00f4ng tin g\\u00ec \\u1ea1?\", \"send_link\", \"url\", \"action_handle_send_link_only\"], [\"Bnhiu v shop\", \"D\\u1ea1, c\\u00f3 ph\\u1ea3i b\\u1ea1n mu\\u1ed1n h\\u1ecfi m\\u1ed9t trong c\\u00e1c s\\u1ea3n ph\\u1ea9m d\\u01b0-<br> \\u1edbi \\u0111\\u00e2y kh\\u00f4ng \\u1ea1?\\n (Vui l\\u00f2ng \\u1ea5n ch\\u1ecdn 1 s\\u1ea3n ph\\u1ea9m)\\n\\n<s-<br>\", \"query_knowledge_base\", \"['attribute:price']\", \"action_query_babe_kb\"], [\"C\\u00e1i th\\u1ee9 2\\n\", \"M\\u1eddi b\\u1ea1n tham kh\\u1ea3o s\\u1ea3n ph\\u1ea9m Voi Jumbo th\\u1ea3 h\\u00ecnh kh\\u1ed1i-<br>\", null, \"['mention:2']\", \"action_query_babe_kb\"], [\"ok shop\", \"D\\u1ea1 v\\u00e2ng \\u1ea1!\", \"agree\", null, \"utter_agree\"], [\"shop \\u01a1i\", \"Ch\\u00e0o b\\u1ea1n, m\\u00ecnh l\\u00e0 tr\\u1ee3 l\\u00fd \\u1ea3o c\\u1ee7a Shop G\\u1ea5u & B\\u00ed Ng\\u00f4,-<br>\", \"greet\", null, \"utter_greet\"], [\"url\", \"B\\u1ea1n \\u0111ang t\\u00ecm ki\\u1ebfm th\\u00f4ng tin g\\u00ec \\u1ea1?\", \"send_link\", \"url\", \"action_handle_send_link_only\"], [\"B c\\u00f3 s\\u1eb5n thanh ch\\u1eafn gi\\u01b0\\u1eddng n\\u00e0y ko?\", \"S\\u1ea3n ph\\u1ea9m Thanh ch\\u1eafn gi\\u01b0\\u1eddng cao c\\u1ea5p d\\u1ea1ng tr\\u01b0\\u1ee3t Umoo-<br>  ch\\u00ednh h\\u00e3ng \\u0111ang c\\u00f3 gi\\u00e1: 500.000 (Gi\\u00e1 g\\u1ed1c: 610.000-<br>\", \"query_knowledge_base\", \"['object_type:thanh_chan_giuong']\", \"action_query_babe_kb\"], [\"lo\\u1ea1i n\\u00e0y c\\u00f3 nh\\u1eefng k\\u00edch th\\u01b0\\u1edbc n\\u00e0o shop nh\\u1ec9?\", \"S\\u1ea3n ph\\u1ea9m Thanh ch\\u1eafn gi\\u01b0\\u1eddng cao c\\u1ea5p d\\u1ea1ng tr\\u01b0\\u1ee3t Umoo-<br>\", \"query_knowledge_base\", \"['mention:lo\\u1ea1i n\\u00e0y', 'attribute:size']\", \"action_query_babe_kb\"], [\"ok shop, cho m\\u00ecnh \\u0111\\u1eb7t thanh lo\\u1ea1i 2m2 nh\\u00e9.\", \"C\\u1ea3m \\u01a1n b\\u1ea1n! B\\u1ea1n vui l\\u00f2ng \\u0111i\\u1ec1n th\\u00f4ng tin v\\u00e0o M\\u1eabu \\u0111\\u1eb7-<br> t h\\u00e0ng gi\\u00fap shop nh\\u00e9!\\n<Show ra c\\u00e1i b\\u1ea3ng m\\u1eabu \\u0111\\u1eb7t h\\u00e0-<br> ng: c\\u00f3 t\\u00ean s\\u1ea3n ph\\u1ea9m, cho kh\\u00e1ch t\\u00f9y ch\\u1ecdn s\\u1ed1 l\\u01b0\\u1ee3ng, -<br>\", \"make_order\", \"['size:lo\\u1ea1i 2m2']\", \"action_make_order\"], [\"hi shop\", \"Ch\\u00e0o b\\u1ea1n, m\\u00ecnh l\\u00e0 tr\\u1ee3 l\\u00fd \\u1ea3o c\\u1ee7a Shop G\\u1ea5u & B\\u00ed Ng\\u00f4,-<br>\", \"greet\", null, \"utter_greet\"], [\"ch\\u1ecb mu\\u1ed1n h\\u1ecfi gi\\u00e1 c\\u0169i v\\u1ea3i greco\\nv\\u00e0 jolie\", \"D\\u1ea1, s\\u1ea3n ph\\u1ea9m Giuong h\\u00e3ng s\\u1ea3n xu\\u1ea5t Jolie, ch\\u1ea5t li\\u1ec7u-<br>  V\\u1ea3i b\\u00ean shop hi\\u1ec7n t\\u1ea1i kh\\u00f4ng c\\u00f3 \\u1ea1. B\\u1ea1n tham kh\\u1ea3o c-<br>\", \"query_knowledge_base\", \"['attribute:price', 'object_type:giuong', 'material:v\\u1ea3i', 'brand:greco', 'brand:jolie']\", \"action_query_babe_kb\"], [\"/query_knowledge_base{\\\"brand\\\": \\\"Graco\\\"}\", \"Hi\\u1ec7n t\\u1ea1i s\\u1ea3n ph\\u1ea9m Giuong h\\u00e3ng s\\u1ea3n xu\\u1ea5t Graco shop -<br>\", \"query_knowledge_base\", \"['brand:Graco']\", \"action_query_babe_kb\"], [\"/query_knowledge_base{\\\"price\\\": \\\"2M - 5M\\\"}\", \"S\\u1ea3n ph\\u1ea9m  Giuong h\\u00e3ng s\\u1ea3n xu\\u1ea5t Graco, gi\\u00e1 2m - 5m -<br> hi\\u1ec7n shop \\u0111ang c\\u00f3 gi\\u00e1: *5,000,000 VND, 2,900,000 V-<br>\", \"query_knowledge_base\", \"['price:2M - 5M']\", \"action_query_babe_kb\"], [\"2 c\\u00e1i kh\\u00e1c g\\u00ec nhau\", \"B\\u1ea1n c\\u00f3 th\\u1ec3 n\\u00f3i v\\u1edbi t\\u00f4i theo 1 c\\u00e1ch kh\\u00e1c \\u0111\\u01b0\\u1ee3c kh\\u00f4ng-<br>\", \"handover_to_inbox\", \"[]\", \"utter_ask_rephrase\"], [\"url\", \"M\\u1eddi b\\u1ea1n tham kh\\u1ea3o c\\u00e1c s\\u1ea3n ph\\u1ea9m:\\n<Show 4 cards t\\u01b0\\u01a1n-<br> g \\u1ee9ng 4 s\\u1ea3n ph\\u1ea9m g\\u1eedi \\u1ea3nh>\\n<K\\u1ef3 v\\u1ecdng g\\u1eedi \\u0111i \\u0111c c\\u1ea3 4 -<br>\", \"greet\\nquery_knowledge_base\", \"url\", \"action_query_babe_kb\"], [\"url\", \"B\\u1ea1n \\u0111ang t\\u00ecm ki\\u1ebfm th\\u00f4ng tin g\\u00ec \\u1ea1?\", \"send_link\", \"url\", \"action_handle_send_link_only\"], [\"Shop c\\u00f2n b\\u1ed9 n\\u00e0y k \\u1ea1\", \"D\\u1ea1 m\\u1eddi b\\u1ea1n tham kh\\u1ea3o s\\u1ea3n ph\\u1ea9m hi\\u1ec7n c\\u00f3 t\\u1ea1i shop nh\\u00e9-<br>\", \"query_knowledge_base\", \"['mention:b\\u1ed9 n\\u00e0y']\", \"action_query_babe_kb\"], [\"<\\u0110\\u1eb7t h\\u00e0ng>\\n(tr\\u00ean card cu\\u1ed1i show th\\u00eam n\\u00fat \\u0111\\u1eb7t h\\u00e0ng)\", \"C\\u1ea3m \\u01a1n b\\u1ea1n! B\\u1ea1n vui l\\u00f2ng \\u0111i\\u1ec1n th\\u00f4ng tin v\\u00e0o M\\u1eabu \\u0111\\u1eb7-<br> t h\\u00e0ng gi\\u00fap shop nh\\u00e9!\\n<Show ra c\\u00e1i b\\u1ea3ng m\\u1eabu \\u0111\\u1eb7t h\\u00e0-<br> ng: c\\u00f3 t\\u00ean s\\u1ea3n ph\\u1ea9m, cho kh\\u00e1ch t\\u00f9y ch\\u1ecdn s\\u1ed1 l\\u01b0\\u1ee3ng, -<br>\", \"make_order\", null, \"action_make_order\"], [\"alo shop \\u01a1i\", \"Ch\\u00e0o b\\u1ea1n, m\\u00ecnh l\\u00e0 ...\", \"greet\", \"[]\", \"utter_greet\"], [\"https://www.facebook.com/shopgauvabingo/photos/pcb-<br> .2425056854471305/2425056784471312/?type=3&theater-<br>\", \"D\\u1ea1, c\\u00f3 ph\\u1ea3i b\\u1ea1n mu\\u1ed1n h\\u1ecfi m\\u1ed9t trong c\\u00e1c s\\u1ea3n ph\\u1ea9m d\\u01b0-<br> \\u1edbi \\u0111\\u00e2y kh\\u00f4ng \\u1ea1?\\n (Vui l\\u00f2ng \\u1ea5n ch\\u1ecdn 1 s\\u1ea3n ph\\u1ea9m)\\n<Sh-<br>\", \"send_link\", \"[\\\"url:['https://www.facebook.com/shopgauvabingo/photos/pcb.2425056854471305/2425056784471312/?type=3&theater']\\\", 'mention:n\\u00e0y', 'attribute:price']\", \"action_handle_send_link_only\"], [\"/query_knowledge_base{\\\"url\\\": \\\"https://shopee.vn/pr-<br> oduct/36371562/3103025341\\\", \\\"product_id\\\": \\\"https:/-<br>\", \"S\\u1ea3n ph\\u1ea9m  Xe NADLE 3 in 1: Xe \\u0111\\u1ea9y - Ch\\u00f2i ch\\u00e2n - Xe-<br>  \\u0111\\u1ea1p  hi\\u1ec7n shop \\u0111ang c\\u00f3 gi\\u00e1: 2,650,000 VND (gi\\u00e1 g\\u1ed1-<br> c 2,650,000 VND), 2,450,000 VND (gi\\u00e1 g\\u1ed1c 2,450,000-<br>  VND), 1,550,000 VND (gi\\u00e1 g\\u1ed1c 2,650,000 VND).\\nB\\u1ea1n -<br> tham kh\\u1ea3o c\\u00e1c s\\u1ea3n ph\\u1ea9m sau nh\\u00e9 \\u1ea1:\\n<Show card cu\\u1ed1i -<br>\", \"query_knowledge_base\", \"['url:https://shopee.vn/product/36371562/3103025341', 'product_id:https://shopee.vn/product/36371562/3103025341']\", \"action_query_babe_kb\"], [\"Ok, thank shop\", \"C\\u1ea3m \\u01a1n b\\u1ea1n!\", \"thank\", null, \"utter_thank\"], [\"alo shop \\u01a1i\", \"Ch\\u00e0o b\\u1ea1n, m\\u00ecnh l\\u00e0 tr\\u1ee3 l\\u00fd \\u1ea3o c\\u1ee7a Shop G\\u1ea5u & B\\u00ed Ng\\u00f4,-<br>\", \"greet\", null, \"utter_greet\"], [\"https://www.facebook.com/shopgauvabingo/photos/pcb-<br> .2425056854471305/2425056784471312/?type=3&theater-<br>\", \"D\\u1ea1, c\\u00f3 ph\\u1ea3i b\\u1ea1n mu\\u1ed1n h\\u1ecfi m\\u1ed9t trong c\\u00e1c s\\u1ea3n ph\\u1ea9m d\\u01b0-<br> \\u1edbi \\u0111\\u00e2y kh\\u00f4ng \\u1ea1?\\n (Vui l\\u00f2ng \\u1ea5n ch\\u1ecdn 1 s\\u1ea3n ph\\u1ea9m)\\n<Sh-<br>\", \"query_knowledge_base\", \"[\\\"url:['https://www.facebook.com/shopgauvabingo/photos/pcb.2425056854471305/2425056784471312/?type=3&theater']\\\", 'object_type:xe', 'mention:n\\u00e0y', 'attribute:price']\", \"action_query_babe_kb\"], [\"/query_knowledge_base{\\\"url\\\": \\\"https://shopee.vn/pr-<br> oduct/36371562/3103025341\\\", \\\"product_id\\\": \\\"https:/-<br>\", \"S\\u1ea3n ph\\u1ea9m  Xe NADLE 3 in 1: Xe \\u0111\\u1ea9y - Ch\\u00f2i ch\\u00e2n - Xe-<br>  \\u0111\\u1ea1p  hi\\u1ec7n shop \\u0111ang c\\u00f3 gi\\u00e1: 2,650,000 VND (gi\\u00e1 g\\u1ed1-<br> c 2,650,000 VND), 2,450,000 VND (gi\\u00e1 g\\u1ed1c 2,450,000-<br>  VND), 1,550,000 VND (gi\\u00e1 g\\u1ed1c 2,650,000 VND).\\nB\\u1ea1n -<br> tham kh\\u1ea3o c\\u00e1c s\\u1ea3n ph\\u1ea9m sau nh\\u00e9 \\u1ea1:\\n<Show card cu\\u1ed1i -<br>\", \"query_knowledge_base\", \"['url:https://shopee.vn/product/36371562/3103025341', 'product_id:https://shopee.vn/product/36371562/3103025341']\", \"action_query_babe_kb\"], [\"c\\u00f2n m\\u00e0u g\\u00ec h\\u1ea3 b\\u1ea1n?\", \"S\\u1ea3n ph\\u1ea9m  Xe NADLE 3 in 1: Xe \\u0111\\u1ea9y - Ch\\u00f2i ch\\u00e2n - Xe-<br>  \\u0111\\u1ea1p  hi\\u1ec7n shop \\u0111ang c\\u00f3 c\\u00e1c m\\u00e0u sau: Xanh (c\\u00f3 \\u0111ai)-<br>\", \"query_knowledge_base\", \"['attribute:color']\", \"action_query_babe_kb\"], [\"ok shop\", \"D\\u1ea1!\", \"agree\", null, \"utter_agree\"], [\"url\", \"B\\u1ea1n \\u0111ang t\\u00ecm ki\\u1ebfm th\\u00f4ng tin g\\u00ec \\u1ea1?\", \"send_link\", \"url\", \"action_handle_send_link_only\"], [\"Shop c\\u00f2n c\\u1ea7u tr\\u01b0owtn n\\u00e0y k \\u1ea1\", \"S\\u1ea3n ph\\u1ea9m b\\u1ea1n \\u0111ang t\\u00ecm c\\u00f3 ph\\u1ea3i l\\u00e0?\", \"query_knowledge_base\", \"['object_type:c\\u1ea7u tr\\u01b0owtn']\", \"action_query_babe_kb\"], [\"/agree{\\\"object_type\\\": \\\"cau_truot\\\"}\", \"D\\u1ea1, s\\u1ea3n ph\\u1ea9m C\\u1ea7u Tr\\u01b0\\u1ee3t  b\\u00ean shop hi\\u1ec7n t\\u1ea1i kh\\u00f4ng c\\u00f3-<br>  \\u1ea1. B\\u1ea1n tham kh\\u1ea3o c\\u00e1c s\\u1ea3n ph\\u1ea9m kh\\u00e1c d\\u00e0nh cho b\\u00e9 nh-<br>\", \"agree\", \"['object_type:cau_truot']\", \"action_query_babe_kb\"], [\"shop \\u01a1i\", \"Ch\\u00e0o b\\u1ea1n, m\\u00ecnh l\\u00e0 tr\\u1ee3 l\\u00fd \\u1ea3o c\\u1ee7a Shop G\\u1ea5u & B\\u00ed Ng\\u00f4,-<br>\", \"greet\", \"[]\", \"utter_greet\"], [\"M\\u00ecnh mu\\u1ed1n mua b\\u1ed9 c\\u1ea7u tr\\u01b0\\u1ee3t\\nGi\\u00e1 tn b\", \"D\\u1ea1, s\\u1ea3n ph\\u1ea9m C\\u1ea7u Tr\\u01b0\\u1ee3t hi\\u1ec7n t\\u1ea1i b\\u00ean shop \\u0111ang t\\u1ea1m -<br> h\\u1ebft h\\u00e0ng \\u1ea1. B\\u1ea1n tham kh\\u1ea3o c\\u00e1c s\\u1ea3n ph\\u1ea9m kh\\u00e1c d\\u00e0nh c-<br>\", \"query_knowledge_base\", \"['object_type:cau_truot', 'attribute:price']\", \"action_query_babe_kb\"], [\"Thank b\", \"- C\\u1ea3m \\u01a1n b\\u1ea1n. Ch\\u00fac b\\u1ea1n m\\u1ed9t ng\\u00e0y vui v\\u1ebb.\", \"thank\", \"[]\", \"utter_thank\"], [\"shop \\u01a1i\", \"C\\u1ea3m \\u01a1n b\\u1ea1n!\", \"greet\", \"[]\", \"utter_greet\"], [\"Nh\\u00e0 m\\u00ecnh c\\u00f3 b\\u00e1n c\\u1ea7u tr\\u01b0\\u1ee3t ri\\u00eang k ah\", \"C\\u1ea7u tr\\u01b0\\u1ee3t l\\u00e0 s\\u1ea3n ph\\u1ea9m b\\u00e1n l\\u1ebb hi\\u1ec7n \\u0111ang c\\u00f3 gi\\u00e1 1.09-<br> 0.000 - \\u20ab1.250.000\\n (gi\\u00e1 g\\u1ed1c 290.000 - \\u20ab1.390.000)-<br>\", \"query_knowledge_base\", \"['object_type:cau_truot']\", \"action_query_babe_kb\"], [\"alo shop \\u01a1i\", \"Ch\\u00e0o b\\u1ea1n, m\\u00ecnh l\\u00e0 tr\\u1ee3 l\\u00fd \\u1ea3o c\\u1ee7a Shop G\\u1ea5u & B\\u00ed Ng\\u00f4,-<br>\", \"greet\", \"[]\", \"utter_greet\"], [\"url\", \"B\\u1ea1n \\u0111ang t\\u00ecm ki\\u1ebfm th\\u00f4ng tin g\\u00ec \\u1ea1?\", \"send_link\", \"url\", \"action_handle_send_link_only\"], [\"l\\u1ec1u c\\u00f2n ko shop\\ngi\\u00e1 bn\\nc\\u00f2n b\\u00f3ng bn\", \"L\\u1ec1u hi\\u1ec7n \\u0111ang c\\u00f3 gi\\u00e1 1.090.000 - \\u20ab1.250.000\\n (gi\\u00e1 -<br> g\\u1ed1c 290.000 - \\u20ab1.390.000)\\nB\\u1ea1n tham kh\\u1ea3o c\\u00e1c s\\u1ea3n ph-<br> \\u1ea9m sau nh\\u00e9 \\u1ea1:\\n<show sp>\\nB\\u00f3ng hi\\u1ec7n shop \\u0111\\u00e1ng c\\u00f3 c\\u00e1c-<br>\", \"query_knowledge_base\", \"['attribute:price']\", \"action_query_babe_kb\"], [\"alo shop \\u01a1i\", \"Ch\\u00e0o b\\u1ea1n, m\\u00ecnh l\\u00e0 tr\\u1ee3 l\\u00fd \\u1ea3o c\\u1ee7a Shop G\\u1ea5u & B\\u00ed Ng\\u00f4,-<br>\", \"greet\", null, \"utter_greet\"], [\"url\", \"B\\u1ea1n \\u0111ang t\\u00ecm ki\\u1ebfm th\\u00f4ng tin g\\u00ec \\u1ea1?\", \"send_link\", \"url\", \"action_handle_send_link_only\"], [\"M\\u00ecnh mua s\\u1ea3n ph\\u1ea9m n\\u00e0y nha\\nGi\\u00e1 sao\", \"S\\u1ea3n ph\\u1ea9m D\\u00e0n \\u00e2m thanh \\u0111\\u1ed9ng v\\u1eadt c\\u00f3 \\u0111\\u00e8n nh\\u1ea1c Infanti-<br> no \\u0111ang c\\u00f3 gi\\u00e1 129.000 (gi\\u00e1 g\\u1ed1c: 180.000).\\n<Show c-<br>\", \"query_knowledge_base\", \"['mention:s\\u1ea3n ph\\u1ea9m n\\u00e0y', 'attribute:price']\", \"action_query_babe_kb\"], [\"alo shop \\u01a1i\", \"Ch\\u00e0o b\\u1ea1n, m\\u00ecnh l\\u00e0 tr\\u1ee3 l\\u00fd \\u1ea3o c\\u1ee7a Shop G\\u1ea5u & B\\u00ed Ng\\u00f4,-<br>\", \"greet\", null, \"utter_greet\"], [\"B\\u00e1o gi\\u00e1 m\\u00ecnh qu\\u00e2y th\\u1ea3m v\\u1edbi\", \"S\\u1ea3n ph\\u1ea9m  Qu\\u00e2y g\\u00f3c vu\\u00f4ng c\\u00e1nh nh\\u1ecf h\\u00ecnh ng\\u00f4i nh\\u00e0 ch-<br> \\u1ea5t li\\u1ec7u Nh\\u1ef1a hi\\u1ec7n shop \\u0111ang c\\u00f3 gi\\u00e1: 1,040,000 VND -<br> (gi\\u00e1 g\\u1ed1c 1,290,000 VND), 1,340,000 VND (gi\\u00e1 g\\u1ed1c 1,-<br> 390,000 VND), 1,440,000 VND (gi\\u00e1 g\\u1ed1c 1,490,000 VND-<br> ).\\nB\\u1ea1n tham kh\\u1ea3o c\\u00e1c s\\u1ea3n ph\\u1ea9m sau nh\\u00e9 \\u1ea1:\\n<Show car-<br>\", \"query_knowledge_base\", \"['attribute:price', 'object_type:quay', 'object_type:tham']\", \"action_query_babe_kb\"], [\"C\\u00e1i n\\u00e0y c\\u00f3 k\\u00e8m th\\u1ea3m v\\u00e0 b\\u00f3ng ko b\\u1ea1n\", \"S\\u1ea3n ph\\u1ea9m  Qu\\u00e2y g\\u00f3c vu\\u00f4ng c\\u00e1nh nh\\u1ecf h\\u00ecnh ng\\u00f4i nh\\u00e0 ch-<br> \\u1ea5t li\\u1ec7u Nh\\u1ef1a kh\\u00f4ng c\\u00f3 ph\\u1ee5 ki\\u1ec7n \\u0111i k\\u00e8m\\nB\\u1ea1n tham kh\\u1ea3-<br>\", \"query_knowledge_base\", \"['mention:c\\u00e1i n\\u00e0y', 'object_type:tham','object_type:bong']\", \"action_query_babe_kb\"], [\"shop \\u01a1i\", \"Ch\\u00e0o b\\u1ea1n, m\\u00ecnh l\\u00e0 tr\\u1ee3 l\\u00fd \\u1ea3o c\\u1ee7a Shop G\\u1ea5u & B\\u00ed Ng\\u00f4,-<br>\", \"greet\", null, \"utter_greet\"], [\"minh mu\\u1ed1n t\\u00ecm qu\\u00e2y c\\u0169i nh\\u1ef1a\", \"D\\u1ea1, s\\u1ea3n ph\\u1ea9m Qu\\u00e2y ch\\u1ea5t li\\u1ec7u nh\\u1ef1a b\\u00ean shop hi\\u1ec7n t\\u1ea1i-<br>  kh\\u00f4ng c\\u00f3 \\u1ea1. B\\u1ea1n tham kh\\u1ea3o c\\u00e1c s\\u1ea3n ph\\u1ea9m kh\\u00e1c d\\u00e0nh -<br>\", \"query_knowledge_base\", \"['object_type:quay', 'material:nh\\u1ef1a']\", \"action_query_babe_kb\"], [\"ok shop\", \"V\\u00e2ng \\u1ea1!\", \"agree\", null, \"utter_agree\"], [\"shop \\u01a1i\", \"Ch\\u00e0o b\\u1ea1n, m\\u00ecnh l\\u00e0 tr\\u1ee3 l\\u00fd \\u1ea3o c\\u1ee7a Shop G\\u1ea5u & B\\u00ed Ng\\u00f4,-<br>\", \"greet\", null, \"utter_greet\"], [\"minh mu\\u1ed1n t\\u00ecm qu\\u00e2y c\\u0169i nh\\u1ef1a\", \"S\\u1ea3n ph\\u1ea9m  Qu\\u00e2y g\\u00f3c vu\\u00f4ng c\\u00e1nh nh\\u1ecf h\\u00ecnh ng\\u00f4i nh\\u00e0 ch-<br> \\u1ea5t li\\u1ec7u Nh\\u1ef1a hi\\u1ec7n shop \\u0111ang c\\u00f3 gi\\u00e1: 1,040,000 VND -<br> (gi\\u00e1 g\\u1ed1c 1,290,000 VND), 1,340,000 VND (gi\\u00e1 g\\u1ed1c 1,-<br> 390,000 VND), 1,440,000 VND (gi\\u00e1 g\\u1ed1c 1,490,000 VND-<br> ).\\nB\\u1ea1n tham kh\\u1ea3o c\\u00e1c s\\u1ea3n ph\\u1ea9m sau nh\\u00e9 \\u1ea1:\\n<Show car-<br>\", \"query_knowledge_base\", \"['object_type:quay', 'material:nh\\u1ef1a']\", \"action_query_babe_kb\"], [\"h\\u00e0ng c\\u00f3 s\\u1eb5n k shop?\", \"S\\u1ea3n ph\\u1ea9m Qu\\u00e2y g\\u00f3c vu\\u00f4ng c\\u00e1nh nh\\u1ecf h\\u00ecnh ng\\u00f4i nh\\u00e0 hi\\u1ec7-<br>\", \"query_knowledge_base\", \"['availability:c\\u00f3 s\\u1eb5n']\", \"action_query_babe_kb\"], [\"ok, cho m\\u00ecnh \\u0111\\u1eb7t c\\u00e1i \\u0111\\u1ea5y nh\\u00e9\", \"C\\u1ea3m \\u01a1n b\\u1ea1n! B\\u1ea1n vui l\\u00f2ng \\u0111i\\u1ec1n th\\u00f4ng tin v\\u00e0o M\\u1eabu \\u0111\\u1eb7-<br> t h\\u00e0ng gi\\u00fap shop nh\\u00e9!\\n<Show ra c\\u00e1i b\\u1ea3ng m\\u1eabu \\u0111\\u1eb7t h\\u00e0-<br> ng: c\\u00f3 t\\u00ean s\\u1ea3n ph\\u1ea9m, cho kh\\u00e1ch t\\u00f9y ch\\u1ecdn s\\u1ed1 l\\u01b0\\u1ee3ng, -<br> m\\u00e0u s\\u1eafc...>\\n<C\\u00e1c th\\u00f4ng tin \\u0111\\u00e3 thu th\\u1eadp \\u0111c th\\u00ec t\\u1ef1 \\u0111-<br>\", \"make_order\", null, \"action_make_order\"], [\"shop \\u01a1i\", \"Ch\\u00e0o b\\u1ea1n, m\\u00ecnh l\\u00e0 tr\\u1ee3 l\\u00fd \\u1ea3o c\\u1ee7a Shop G\\u1ea5u & B\\u00ed Ng\\u00f4,-<br>\", \"greet\", null, \"utter_greet\"], [\"url\", \"B\\u1ea1n \\u0111ang t\\u00ecm ki\\u1ebfm th\\u00f4ng tin g\\u00ec \\u1ea1?\\n\", \"send_link\", \"url\", \"action_handle_send_link_only\"], [\"Shop b\\u00e1n gh\\u1ebf n\\u00e0y ko\", \"D\\u1ea1, c\\u00f3 ph\\u1ea3i b\\u1ea1n mu\\u1ed1n h\\u1ecfi m\\u1ed9t trong c\\u00e1c s\\u1ea3n ph\\u1ea9m d\\u01b0-<br> \\u1edbi \\u0111\\u00e2y kh\\u00f4ng \\u1ea1?\\r\\n (Vui l\\u00f2ng \\u1ea5n ch\\u1ecdn 1 s\\u1ea3n ph\\u1ea9m)...-<br>\", \"query_knowledge_base\", \"['object_type:ghe', 'mention:n\\u00e0y']\", \"action_query_babe_kb\"], [\"/disagree{\\\"object_type\\\": null}\", \"B\\u1ea1n vui l\\u00f2ng m\\u00f4 t\\u1ea3 r\\u00f5 mong mu\\u1ed1n c\\u1ee7a b\\u1ea1n ho\\u1eb7c chat -<br>\", \"disagree\", \"['object_type:None']\", \"utter_disagree\"], [\"/connect_employee\", null, \"connect_employee\", null, \"action_handover_to_inbox\"], [\"shop \\u01a1i\", \"Ch\\u00e0o b\\u1ea1n, m\\u00ecnh l\\u00e0 tr\\u1ee3 l\\u00fd \\u1ea3o c\\u1ee7a Shop G\\u1ea5u & B\\u00ed Ng\\u00f4,-<br>\", \"greet\", null, \"utter_greet\"], [\"url\", \"B\\u1ea1n \\u0111ang t\\u00ecm ki\\u1ebfm th\\u00f4ng tin g\\u00ec \\u1ea1?\", \"send_link\", \"url\", \"action_handle_send_link_only\"], [\"M\\u00ecnh m\\u00fan mua b\\u1ed9 voi n\\u00e0y\\nM\\u00e0 ph\\u00ed ship shoppe t\\u1edbi 300-<br>\", null, \"handover_to_inbox\", \"['price:300k']\", \"action_handover_to_inbox\"], [\"b\\u1ea1n \\u01a1i\", \"Ch\\u00e0o b\\u1ea1n, m\\u00ecnh l\\u00e0 tr\\u1ee3 l\\u00fd \\u1ea3o c\\u1ee7a Shop G\\u1ea5u & B\\u00ed Ng\\u00f4,-<br>\", \"greet\", null, \"utter_greet\"], [\"url\", \"B\\u1ea1n \\u0111ang t\\u00ecm ki\\u1ebfm th\\u00f4ng tin g\\u00ec \\u1ea1?\\r\\n\", \"send_link\", \"url\", \"action_handle_send_link_only\"], [\"B\\u1ed9 n\\u00e0y c\\u00f2n k \\u1ea1\", \"S\\u1ea3n ph\\u1ea9m Voi th\\u1ea3 b\\u00f3ng t\\u1eadp \\u0111\\u1ee9ng c\\u00f3 \\u0111\\u00e8n nh\\u1ea1c Bkids I-<br> nfantino hi\\u1ec7n c\\u00f3 gi\\u00e1 1.160.000 (Gi\\u00e1 g\\u1ed1c: 1.298.000-<br>\", \"query_knowledge_base\", \"['mention:b\\u1ed9 n\\u00e0y']\", \"action_query_babe_kb\"], [\"shop \\u01a1i\", \"Ch\\u00e0o b\\u1ea1n, m\\u00ecnh l\\u00e0 tr\\u1ee3 l\\u00fd \\u1ea3o c\\u1ee7a Shop G\\u1ea5u & B\\u00ed Ng\\u00f4,-<br>\", \"greet\", \"[]\", \"utter_greet\"], [\"Cho m\\u00ecnh h\\u1ecfi b\\u00ean b\\u1ea1n c\\u00f3 m\\u00e1y h\\u00fat s\\u1eefa Avent hoa tuy\\u1ebf-<br>\", \"S\\u1ea3n ph\\u1ea9m M\\u00e1y h\\u00fat s\\u1eefa \\u0111i\\u1ec7n \\u0111\\u00f4i Avent Snow (Ch\\u00ednh h\\u00e3-<br> ng - Cty V\\u1ea1n An) h\\u00e3ng s\\u1ea3n xu\\u1ea5t Avent hi\\u1ec7n shop \\u0111an-<br> g c\\u00f3 gi\\u00e1: *4,990,000 VND (gi\\u00e1 g\\u1ed1c 6,950,000 VND)*.-<br>\", \"query_knowledge_base\", \"['object_type:may_hut_sua', 'brand:avent']\", \"action_query_babe_kb\"], [\"ok shop\", \"D\\u1ea1!\", \"agree\", null, \"utter_agree\"], [\"shop \\u01a1i\", \"Ch\\u00e0o b\\u1ea1n, m\\u00ecnh l\\u00e0 tr\\u1ee3 l\\u00fd \\u1ea3o c\\u1ee7a Shop G\\u1ea5u & B\\u00ed Ng\\u00f4,-<br>\", \"greet\", \"[]\", \"utter_greet\"], [\"url\", \"B\\u1ea1n \\u0111ang t\\u00ecm ki\\u1ebfm th\\u00f4ng tin g\\u00ec \\u1ea1?\", \"send_link\", \"url\", \"action_handle_send_link_only\"], [\"B\\u00ean m\\u00ecnh c\\u00f3 medela freestyle like new k ak\", \"Shop kh\\u00f4ng c\\u00f3 m\\u00e1y h\\u00fat s\\u1eefa th\\u01b0\\u01a1ng hi\\u1ec7u Medela, m\\u1eddi -<br> b\\u1ea1n tham kh\\u1ea3o c\\u00e1c s\\u1ea3n ph\\u1ea9m m\\u00e1y h\\u00fat s\\u1eefa hi\\u1ec7n c\\u00f3 t\\u1ea1i-<br>\", \"query_knowledge_base\", \"['brand:medela freestyle']\", \"action_query_babe_kb\"], [\"Ok shop\", \"D\\u1ea1 v\\u00e2ng \\u1ea1!\", \"agree\", null, \"utter_agree\"], [\"shop \\u01a1i\", \"Ch\\u00e0o b\\u1ea1n, m\\u00ecnh l\\u00e0 tr\\u1ee3 l\\u00fd \\u1ea3o c\\u1ee7a Shop G\\u1ea5u & B\\u00ed Ng\\u00f4,-<br>\", \"greet\", null, \"utter_greet\"], [\"url\", \"B\\u1ea1n \\u0111ang t\\u00ecm ki\\u1ebfm th\\u00f4ng tin g\\u00ec \\u1ea1?\\r\\n\", \"send_link\", \"url\", \"action_handle_send_link_only\"], [\"M\\u1eabu n\\u00e0y gi\\u00e1 bn ah\", \"M\\u00f3n \\u0111\\u1ed3 b\\u1ea1n c\\u1ea7n t\\u00ecm c\\u00f3 ph\\u1ea3i l\\u00e0:\\n<Xe ch\\u00f2i ch\\u00e2n> <Xe -<br>\", \"query_knowledge_base\", \"['mention:m\\u1eabu n\\u00e0y', 'attribute:price']\", \"action_query_babe_kb\"], [\"/agree{\\\"object_type\\\": \\\"xe_choi_chan\\\"}\", \"S\\u1ea3n ph\\u1ea9m  Xe Ch\\u00f2i Ch\\u00e2n  hi\\u1ec7n shop \\u0111ang c\\u00f3 gi\\u00e1: 499-<br> ,000 VND (gi\\u00e1 g\\u1ed1c 800,000 VND), 580,000 VND (gi\\u00e1 g-<br> \\u1ed1c 800,000 VND), 699,000 VND (gi\\u00e1 g\\u1ed1c 998,000 VND)-<br> .\\nB\\u1ea1n tham kh\\u1ea3o c\\u00e1c s\\u1ea3n ph\\u1ea9m sau nh\\u00e9 \\u1ea1:\\n<Show card-<br>\", \"confirm_object_type\", null, \"action_query_babe_kb\"], [\"ok shop, cho m\\u00ecnh l\\u1ea5y c\\u00e1i xe Luddy\", \"C\\u1ea3m \\u01a1n b\\u1ea1n! B\\u1ea1n vui l\\u00f2ng \\u0111i\\u1ec1n th\\u00f4ng tin v\\u00e0o M\\u1eabu \\u0111\\u1eb7-<br> t h\\u00e0ng gi\\u00fap shop nh\\u00e9!\\n<Show ra c\\u00e1i b\\u1ea3ng m\\u1eabu \\u0111\\u1eb7t h\\u00e0-<br> ng: c\\u00f3 t\\u00ean s\\u1ea3n ph\\u1ea9m, cho kh\\u00e1ch t\\u00f9y ch\\u1ecdn s\\u1ed1 l\\u01b0\\u1ee3ng, -<br> m\\u00e0u s\\u1eafc...>\\n<C\\u00e1c th\\u00f4ng tin \\u0111\\u00e3 thu th\\u1eadp \\u0111c th\\u00ec t\\u1ef1 \\u0111-<br>\", \"make_order\", \"['object_type:xe_choi_chan','brand:Luddy']\", \"action_make_order\"], [\"shop \\u01a1i\", \"Ch\\u00e0o b\\u1ea1n, m\\u00ecnh l\\u00e0 tr\\u1ee3 l\\u00fd \\u1ea3o c\\u1ee7a Shop G\\u1ea5u & B\\u00ed Ng\\u00f4,-<br>\", \"greet\", null, \"utter_greet\"], [\"C\\u00f3 ship h\\u00e0ng qua Nguy\\u1ec5n Tu\\u00e2n k shop\", \"Shop giao h\\u00e0ng to\\u00e0n qu\\u1ed1c, kh\\u00e1ch h\\u00e0ng c\\u00f3 th\\u1ec3 chuy\\u1ec3n-<br>  kho\\u1ea3n tr\\u01b0\\u1edbc ho\\u1eb7c ch\\u1ecdn h\\u00ecnh th\\u1ee9c thanh to\\u00e1n khi nh-<br>\", \"ask_ship\", \"['ship:ship', 'location:Nguy\\u1ec5n Tu\\u00e2n']\", \"utter_ship\"], [\"v\\u1eady ship lu\\u00f4n cho m\\u00ecnh Xe ch\\u00f2i ch\\u00e2n c\\u00f3 b\\u00e0n \\u0111\\u1ea1p cao-<br>\", \"C\\u1ea3m \\u01a1n b\\u1ea1n! B\\u1ea1n vui l\\u00f2ng \\u0111i\\u1ec1n th\\u00f4ng tin v\\u00e0o M\\u1eabu \\u0111\\u1eb7-<br> t h\\u00e0ng gi\\u00fap shop nh\\u00e9!\\n<Show ra c\\u00e1i b\\u1ea3ng m\\u1eabu \\u0111\\u1eb7t h\\u00e0-<br> ng: c\\u00f3 t\\u00ean s\\u1ea3n ph\\u1ea9m, cho kh\\u00e1ch t\\u00f9y ch\\u1ecdn s\\u1ed1 l\\u01b0\\u1ee3ng, -<br> m\\u00e0u s\\u1eafc...>\\n<C\\u00e1c th\\u00f4ng tin \\u0111\\u00e3 thu th\\u1eadp \\u0111c th\\u00ec t\\u1ef1 \\u0111-<br>\", \"make_order\", \"['ship:ship', 'object_type:xe_choi_chan', 'brand:Motion', 'color:\\u0111\\u1ecf'\", \"action_make_order\"], [\"shop \\u01a1i\", \"Ch\\u00e0o b\\u1ea1n, m\\u00ecnh l\\u00e0 tr\\u1ee3 l\\u00fd \\u1ea3o c\\u1ee7a Shop G\\u1ea5u & B\\u00ed Ng\\u00f4,-<br>\", \"greet\", null, \"utter_greet\"], [\"url\", \"B\\u1ea1n \\u0111ang t\\u00ecm ki\\u1ebfm th\\u00f4ng tin g\\u00ec \\u1ea1?\\r\\n\", \"send_link\", \"url\", \"action_handle_send_link_only\"], [\"Gia bao Nhiu shop\", \"S\\u1ea3n ph\\u1ea9m  COMBO HOLLA LI\\u00caN HO\\u00c0N 2020 c\\u00f3 gi\\u00e1 4.100.-<br>\", \"query_knowledge_base\", \"['attribute:price']\", \"action_query_babe_kb\"], [\"ok shop\", \"V\\u00e2ng \\u1ea1!\", \"agree\", null, \"utter_agree\"], [\"shop \\u01a1i\", \"Ch\\u00e0o b\\u1ea1n, m\\u00ecnh l\\u00e0 tr\\u1ee3 l\\u00fd \\u1ea3o c\\u1ee7a Shop G\\u1ea5u & B\\u00ed Ng\\u00f4,-<br>\", \"greet\", null, \"utter_greet\"], [\"url\", \"B\\u1ea1n \\u0111ang t\\u00ecm ki\\u1ebfm th\\u00f4ng tin g\\u00ec \\u1ea1?\\r\\n\", \"send_link\", \"url\", \"action_handle_send_link_only\"], [\"Gia bao Nhiu shop\", \"S\\u1ea3n ph\\u1ea9m  COMBO HOLLA LI\\u00caN HO\\u00c0N 2020 c\\u00f3 gi\\u00e1 4.100.-<br>\", \"query_knowledge_base\", \"['attribute:price']\", \"action_query_babe_kb\"], [\"c\\u00f3 nh\\u1eefng m\\u00e0u g\\u00ec b\\u1ea1n nh\\u1ec9?\", \"S\\u1ea3n ph\\u1ea9m  COMBO HOLLA LI\\u00caN HO\\u00c0N 2020 c\\u00f3 m\\u00e0u: Xanh -<br>\", \"query_knowledge_base\", \"['attribute:color']\", \"action_query_babe_kb\"], [\"ok shop, \\u0111\\u1ec3 m\\u00ecnh xem th\\u00eam ch\\u00fat nh\\u00e9!\", \"D\\u1ea1 v\\u00e2ng \\u1ea1!\", \"agree & check_more\", \"['check_more:xem th\\u00eam']\", \"utter_agree\"], [\"alo shop\", \"Ch\\u00e0o b\\u1ea1n, m\\u00ecnh l\\u00e0 tr\\u1ee3 l\\u00fd \\u1ea3o c\\u1ee7a Shop G\\u1ea5u & B\\u00ed Ng\\u00f4,-<br>\", \"greet\", null, \"utter_greet\"], [\"url\", \"B\\u1ea1n \\u0111ang t\\u00ecm ki\\u1ebfm th\\u00f4ng tin g\\u00ec \\u1ea1?\\r\\n\", \"send_link\", \"url\", \"action_handle_send_link_only\"], [\"M\\u00ecnh mu\\u00f3n mua xe n\\u00e0y\", \"S\\u1ea3n ph\\u1ea9m Xe t\\u1eadp \\u0111i cao c\\u1ea5p Tommorrow Sky - CH\\u00cdNH H-<br> \\u00c3NG c\\u00f3 gi\\u00e1 449.000 (Gi\\u00e1 g\\u1ed1c: 850.000).\\n<Show card -<br>\", \"query_knowledge_base\", \"['object_type:xe', 'mention:n\\u00e0y']\", \"action_query_babe_kb\"], [\"Shop ship lu\\u00f4n h\\u00e0ng k nh\\u1ec9\\nM\\u00ecnh B\\u1eafc T\\u1eeb Li\\u00eam, HN\", \"C\\u1ea3m \\u01a1n b\\u1ea1n! B\\u1ea1n vui l\\u00f2ng \\u0111i\\u1ec1n th\\u00f4ng tin v\\u00e0o M\\u1eabu \\u0111\\u1eb7-<br> t h\\u00e0ng gi\\u00fap shop nh\\u00e9!\\n<Show ra c\\u00e1i b\\u1ea3ng m\\u1eabu \\u0111\\u1eb7t h\\u00e0-<br> ng: c\\u00f3 t\\u00ean s\\u1ea3n ph\\u1ea9m, cho kh\\u00e1ch t\\u00f9y ch\\u1ecdn s\\u1ed1 l\\u01b0\\u1ee3ng, -<br> m\\u00e0u s\\u1eafc...>\\n<C\\u00e1c th\\u00f4ng tin \\u0111\\u00e3 thu th\\u1eadp \\u0111c th\\u00ec t\\u1ef1 \\u0111-<br>\", \"make_order\", \"[]\", \"action_make_order\"], [\"shop \\u01a1i\", \"Ch\\u00e0o b\\u1ea1n, m\\u00ecnh l\\u00e0 tr\\u1ee3 l\\u00fd \\u1ea3o c\\u1ee7a Shop G\\u1ea5u & B\\u00ed Ng\\u00f4,-<br>\", \"greet\", null, \"utter_greet\"], [\"url\", \"B\\u1ea1n \\u0111ang t\\u00ecm ki\\u1ebfm th\\u00f4ng tin g\\u00ec \\u1ea1?\\r\\n\", \"send_link\", \"url\", \"action_handle_send_link_only\"], [\"M\\u00ecnh mu\\u00f3n mua xe n\\u00e0y\", \"S\\u1ea3n ph\\u1ea9m Xe t\\u1eadp \\u0111i cao c\\u1ea5p Tommorrow Sky - CH\\u00cdNH H-<br> \\u00c3NG c\\u00f3 gi\\u00e1 449.000 (Gi\\u00e1 g\\u1ed1c: 850.000).\\n<Show card -<br>\", \"query_knowledge_base\", \"['object_type:xe', 'mention:n\\u00e0y']\", \"action_query_babe_kb\"], [\"B\\u00e9 nh\\u00e0 m\\u00ecnh 8 th\\u00e1ng \\u0111\\u00e3 d\\u00f9ng \\u0111\\u01b0\\u1ee3c ch\\u01b0a shop nh\\u1ec9?\", \"Xe t\\u1eadp \\u0111i cao c\\u1ea5p Tommorrow Sky - CH\\u00cdNH H\\u00c3NG c\\u00f3 \\u0111\\u1ed9-<br>\", \"query_knowledge_base\", \"['age_of_use:b\\u00e9 nh\\u00e0 m\\u00ecnh 8 th\\u00e1ng']\", \"action_query_babe_kb\"], [\"ok shop\", \"V\\u00e2ng \\u1ea1!\", \"agree\", null, \"utter_agree\"], [\"M\\u00ecnh v\\u1eeba \\u0111\\u1eb7t tr\\u00ean shopee r\\u1ed3i nh\\u00e9 shop, giao h\\u00e0ng g-<br>\", null, \"handover_to_inbox\", \"['attribute:link']\", \"action_handover_to_inbox\"], [\"shop \\u01a1i\", \"Ch\\u00e0o b\\u1ea1n, m\\u00ecnh l\\u00e0 tr\\u1ee3 l\\u00fd \\u1ea3o c\\u1ee7a Shop G\\u1ea5u & B\\u00ed Ng\\u00f4,-<br>\", \"greet\", null, \"utter_greet\"], [\"url\", \"B\\u1ea1n \\u0111ang t\\u00ecm ki\\u1ebfm th\\u00f4ng tin g\\u00ec \\u1ea1?\\r\\n\", \"send_link\", \"url\", \"action_handle_send_link_only\"], [\"M\\u1eabu n\\u00e0y shop c\\u00f2n ko?\", \"D\\u1ea1 m\\u1eddi b\\u1ea1n tham kh\\u1ea3o s\\u1ea3n ph\\u1ea9m hi\\u1ec7n c\\u00f3 t\\u1ea1i shop nh\\u00e9-<br> !\\r\\n\\n<Show card s\\u1ea3n ph\\u1ea9m Voi Jumbo th\\u1ea3 h\\u00ecnh kh\\u1ed1i Bk-<br>\", \"query_knowledge_base\", \"['mention:m\\u1eabu n\\u00e0y']\", \"action_query_babe_kb\"], [\"M\\u00ecnh \\u1edf Ng\\u00e3 T\\u01b0 S\\u1edf th\\u00ec ph\\u00ed ship h\\u1ebft bao nhi\\u00eau b\\u1ea1n, c-<br>\", \"Ship Ng\\u00e3 t\\u01b0 s\\u1edf , Thanh Xu\\u00e2n trong n\\u1ed9i th\\u00e0nh h\\u00e0 n\\u1ed9i-<br>\", \"ask_ship\", \"['attribute:fee_ship']\", \"action_ask_ship\"], [\"shop \\u01a1i\", \"Ch\\u00e0o b\\u1ea1n, m\\u00ecnh l\\u00e0 tr\\u1ee3 l\\u00fd \\u1ea3o c\\u1ee7a Shop G\\u1ea5u & B\\u00ed Ng\\u00f4,-<br>\", \"greet\", null, \"utter_greet\"], [\"url\", \"B\\u1ea1n \\u0111ang t\\u00ecm ki\\u1ebfm th\\u00f4ng tin g\\u00ec \\u1ea1?\", \"send_link\", \"url\", \"action_handle_send_link_only\"], [\"B\\u00e1o gi\\u00e1 cho m\\u00ecnh c\\u00e1i shop\", \"D\\u1ea1, c\\u00f3 ph\\u1ea3i b\\u1ea1n mu\\u1ed1n h\\u1ecfi m\\u1ed9t trong c\\u00e1c s\\u1ea3n ph\\u1ea9m d\\u01b0-<br> \\u1edbi \\u0111\\u00e2y kh\\u00f4ng \\u1ea1?\\r\\n (Vui l\\u00f2ng \\u1ea5n ch\\u1ecdn 1 s\\u1ea3n ph\\u1ea9m)...-<br>\", \"query_knowledge_base\", \"['attribute:price']\", \"action_query_babe_kb\"], [\"/query_knowledge_base{\\\"url\\\": \\\"https://shopee.vn/pr-<br> oduct/36371562/619150769\\\", \\\"product_id\\\": \\\"https://-<br>\", \"S\\u1ea3n ph\\u1ea9m Gh\\u1ebf \\u0111a n\\u0103ng cao c\\u1ea5p Mastela 1015 hi\\u1ec7n sho-<br> p \\u0111ang c\\u00f3 gi\\u00e1: *1,320,000 VND (gi\\u00e1 g\\u1ed1c 1,599,000 V-<br>\", \"query_knowledge_base\", \"['url:https://shopee.vn/product/36371562/619150769', 'product_id:https://shopee.vn/product/36371562/619150769']\", \"action_query_babe_kb\"], [\"shop \\u01a1i\", \"Ch\\u00e0o b\\u1ea1n, m\\u00ecnh l\\u00e0 tr\\u1ee3 l\\u00fd \\u1ea3o c\\u1ee7a Shop G\\u1ea5u & B\\u00ed Ng\\u00f4,-<br>\", \"greet\", null, \"utter_greet\"], [\"url\", \"B\\u1ea1n \\u0111ang t\\u00ecm ki\\u1ebfm th\\u00f4ng tin g\\u00ec \\u1ea1?\\r\\n\", \"send_link\", \"url\", \"action_handle_send_link_only\"], [\"B\\u00e1o gi\\u00e1 cho m\\u00ecnh c\\u00e1i shop\", \"D\\u1ea1, c\\u00f3 ph\\u1ea3i b\\u1ea1n mu\\u1ed1n h\\u1ecfi m\\u1ed9t trong c\\u00e1c s\\u1ea3n ph\\u1ea9m d\\u01b0-<br> \\u1edbi \\u0111\\u00e2y kh\\u00f4ng \\u1ea1?\\n (Vui l\\u00f2ng \\u1ea5n ch\\u1ecdn 1 s\\u1ea3n ph\\u1ea9m)\\n<Sh-<br>\", \"query_knowledge_base\", \"['attribute:price']\", \"action_query_babe_kb\"], [\"/query_knowledge_base{\\\"url\\\": \\\"https://shopee.vn/pr-<br> oduct/36371562/619150769\\\", \\\"product_id\\\": \\\"https://-<br>\", \"S\\u1ea3n ph\\u1ea9m  Gh\\u1ebf \\u0111a n\\u0103ng cao c\\u1ea5p Mastela 1015  hi\\u1ec7n s-<br> hop \\u0111ang c\\u00f3 gi\\u00e1: 1,320,000 VND (gi\\u00e1 g\\u1ed1c 1,599,000 -<br> VND).\\r\\nB\\u1ea1n tham kh\\u1ea3o c\\u00e1c s\\u1ea3n ph\\u1ea9m sau nh\\u00e9 \\u1ea1:\\n<show-<br>\", \"query_knowledge_base\", \"['url:https://shopee.vn/product/36371562/619150769', 'product_id:https://shopee.vn/product/36371562/619150769']\", \"action_query_babe_kb\"], [\"<\\u0110\\u1eb7t h\\u00e0ng>\\n(tr\\u00ean card cu\\u1ed1i show th\\u00eam n\\u00fat \\u0111\\u1eb7t h\\u00e0ng)\", \"C\\u1ea3m \\u01a1n b\\u1ea1n! B\\u1ea1n vui l\\u00f2ng \\u0111i\\u1ec1n th\\u00f4ng tin v\\u00e0o M\\u1eabu \\u0111\\u1eb7-<br> t h\\u00e0ng gi\\u00fap shop nh\\u00e9!\\n<Show ra c\\u00e1i b\\u1ea3ng m\\u1eabu \\u0111\\u1eb7t h\\u00e0-<br> ng: c\\u00f3 t\\u00ean s\\u1ea3n ph\\u1ea9m, cho kh\\u00e1ch t\\u00f9y ch\\u1ecdn s\\u1ed1 l\\u01b0\\u1ee3ng, -<br>\", \"make_order\", null, \"action_make_order\"], [\"shop \\u01a1i\", \"Ch\\u00e0o b\\u1ea1n, m\\u00ecnh l\\u00e0 tr\\u1ee3 l\\u00fd \\u1ea3o c\\u1ee7a Shop G\\u1ea5u & B\\u00ed Ng\\u00f4,-<br>\", \"greet\", null, \"utter_greet\"], [\"m\\u00ecnh c\\u1ea7n t\\u00ecm gh\\u1ebf \\u0103n d\\u1eb7m\", \"Hi\\u1ec7n t\\u1ea1i s\\u1ea3n ph\\u1ea9m Gh\\u1ebf \\u0102n  shop \\u0111ang c\\u00f3 nh\\u1eefng *gi\\u00e1*-<br>\", \"query_knowledge_base\", \"['object_type:ghe_an']\", \"action_query_babe_kb\"], [\"/query_knowledge_base{\\\"price\\\": \\\"1M - 2M\\\"}\", \"D\\u1ea1 m\\u1eddi b\\u1ea1n tham kh\\u1ea3o s\\u1ea3n ph\\u1ea9m hi\\u1ec7n c\\u00f3 t\\u1ea1i shop nh\\u00e9-<br>\", \"query_knowledge_base\", \"['price:1M - 2M']\", \"action_query_babe_kb\"], [\"gh\\u1ebf mastela s\\u1ea3n xu\\u1ea5t \\u1edf \\u0111\\u00e2u v\\u1eady shop?\", \"S\\u1ea3n ph\\u1ea9m Gh\\u1ebf \\u0102n h\\u00e3ng s\\u1ea3n xu\\u1ea5t Mastela hi\\u1ec7n shop \\u0111a-<br>\", \"query_knowledge_base\", \"['object_type:ghe', 'brand:mastela', 'attribute:origin']\", \"action_query_babe_kb\"], [\"b\\u00e9 bao nhi\\u00eau th\\u00e1ng th\\u00ec d\\u00f9ng \\u0111c gh\\u1ebf n\\u00e0y?\", \"Hi\\u1ec7n t\\u1ea1i s\\u1ea3n ph\\u1ea9m Gh\\u1ebf \\u0102n shop \\u0111ang c\\u00f3 nh\\u1eefng *\\u0111\\u1ed9 tu-<br>\", \"query_knowledge_base\", \"['attribute:age_of_use', 'object_type:ghe']\", \"action_query_babe_kb\"], [\"ok shop\", \"D\\u1ea1 v\\u00e2ng \\u1ea1!\", \"agree\", \"[]\", \"utter_agree\"], [\"shop c\\u00f3 xe \\u0111\\u1ea9y k?\", \"Hi\\u1ec7n t\\u1ea1i s\\u1ea3n ph\\u1ea9m Xe \\u0110\\u1ea9y shop \\u0111ang c\\u00f3 nh\\u1eefng *gi\\u00e1* -<br>\", \"query_knowledge_base\", \"['object_type:xe_day']\", \"action_query_babe_kb\"], [\"/query_knowledge_base{\\\"age_of_use\\\": \\\"0 - 36 Th\\u00e1ng\\\"-<br>\", \"Hi\\u1ec7n t\\u1ea1i s\\u1ea3n ph\\u1ea9m Xe \\u0110\\u1ea9y \\u0111\\u1ed9 tu\\u1ed5i s\\u1eed d\\u1ee5ng 0 - 36 Th-<br>\", \"query_knowledge_base\", \"['age_of_use:0 - 36 Th\\u00e1ng']\", \"action_query_babe_kb\"], [\"/query_knowledge_base{\\\"price\\\": \\\"2M - 5M\\\"}\", \"Hi\\u1ec7n t\\u1ea1i s\\u1ea3n ph\\u1ea9m Xe \\u0110\\u1ea9y gi\\u00e1 2m - 5m, \\u0111\\u1ed9 tu\\u1ed5i s\\u1eed d-<br> \\u1ee5ng 0 - 36 Th\\u00e1ng shop \\u0111ang c\\u00f3 nh\\u1eefng *h\\u00e3ng s\\u1ea3n xu\\u1ea5t-<br>\", \"query_knowledge_base\", \"['price:2M - 5M']\", \"action_query_babe_kb\"], [\"/confirm_attribute_value{\\\"brand\\\": \\\"NULL\\\"}\", \"Hi\\u1ec7n t\\u1ea1i s\\u1ea3n ph\\u1ea9m Xe \\u0110\\u1ea9y gi\\u00e1 2m - 5m, \\u0111\\u1ed9 tu\\u1ed5i s\\u1eed d-<br>\", \"confirm_attribute_value\", \"['brand:NULL']\", \"action_query_babe_kb\"], [\"/confirm_attribute_value{\\\"material\\\": \\\"NULL\\\"}\", \"Hi\\u1ec7n t\\u1ea1i s\\u1ea3n ph\\u1ea9m Xe \\u0110\\u1ea9y gi\\u00e1 2m - 5m, \\u0111\\u1ed9 tu\\u1ed5i s\\u1eed d-<br>\", \"confirm_attribute_value\", \"['material:NULL']\", \"action_query_babe_kb\"], [\"/query_knowledge_base{\\\"color\\\": \\\"Ghi\\\"}\", \"D\\u1ea1 m\\u1eddi b\\u1ea1n tham kh\\u1ea3o s\\u1ea3n ph\\u1ea9m hi\\u1ec7n c\\u00f3 t\\u1ea1i shop nh\\u00e9-<br>\", \"query_knowledge_base\", \"['color:Ghi']\", \"action_query_babe_kb\"], [\"shop c\\u00f3 gh\\u1ebf \\u0111a n\\u0103ng cho b\\u00e9 10 th\\u00e1ng k?\", \"Hi\\u1ec7n t\\u1ea1i s\\u1ea3n ph\\u1ea9m Gh\\u1ebf \\u0110a N\\u0103ng \\u0111\\u1ed9 tu\\u1ed5i s\\u1eed d\\u1ee5ng B\\u00e9 1-<br>\", \"query_knowledge_base\", \"['object_type:ghe_da_nang', 'age_of_use:b\\u00e9 10 th\\u00e1ng']\", \"action_query_babe_kb\"], [\"/query_knowledge_base{\\\"price\\\": \\\"1M - 2M\\\"}\", \"Hi\\u1ec7n t\\u1ea1i s\\u1ea3n ph\\u1ea9m Gh\\u1ebf \\u0110a N\\u0103ng gi\\u00e1 1m - 2m, \\u0111\\u1ed9 tu\\u1ed5i-<br>  s\\u1eed d\\u1ee5ng B\\u00e9 10 Th\\u00e1ng shop \\u0111ang c\\u00f3 nh\\u1eefng *h\\u00e3ng s\\u1ea3n -<br>\", \"query_knowledge_base\", \"['price:1M - 2M']\", \"action_query_babe_kb\"], [\"/query_knowledge_base{\\\"brand\\\": \\\"More Kiss\\\"}\", \"D\\u1ea1 m\\u1eddi b\\u1ea1n tham kh\\u1ea3o s\\u1ea3n ph\\u1ea9m hi\\u1ec7n c\\u00f3 t\\u1ea1i shop nh\\u00e9-<br>\", \"query_knowledge_base\", \"['brand:More Kiss']\", \"action_query_babe_kb\"], [\"shop \\u01a1i\", \"Ch\\u00e0o b\\u1ea1n, m\\u00ecnh l\\u00e0 tr\\u1ee3 l\\u00fd \\u1ea3o c\\u1ee7a Shop G\\u1ea5u & B\\u00ed Ng\\u00f4,-<br>\", \"greet\", null, \"utter_greet\"], [\"url\", \"S\\u1ea3n ph\\u1ea9m Gh\\u1ebf \\u00f4 t\\u00f4 cao c\\u1ea5p Joie Steadi Dark Pewte h-<br> i\\u1ec7n shop \\u0111ang c\\u00f3 gi\\u00e1: *2,750,000 VND (gi\\u00e1 g\\u1ed1c 3,20-<br> 0,000 VND)*.\\r\\nB\\u1ea1n tham kh\\u1ea3o c\\u00e1c s\\u1ea3n ph\\u1ea9m sau nh\\u00e9 \\u1ea1-<br>\", \"query_knowledge_base\", \"url\", \"action_query_babe_kb\"], [\"shop \\u01a1i\", \"Ch\\u00e0o b\\u1ea1n, m\\u00ecnh l\\u00e0 tr\\u1ee3 l\\u00fd \\u1ea3o c\\u1ee7a Shop G\\u1ea5u & B\\u00ed Ng\\u00f4,-<br>\", \"greet\", null, \"utter_greet\"], [\"url\", \"S\\u1ea3n ph\\u1ea9m Gh\\u1ebf \\u00f4 t\\u00f4 cao c\\u1ea5p Joie Steadi Dark Pewte h-<br> i\\u1ec7n shop \\u0111ang c\\u00f3 gi\\u00e1: *2,750,000 VND (gi\\u00e1 g\\u1ed1c 3,20-<br> 0,000 VND)*.\\r\\nB\\u1ea1n tham kh\\u1ea3o c\\u00e1c s\\u1ea3n ph\\u1ea9m sau nh\\u00e9 \\u1ea1-<br>\", \"query_knowledge_base\", \"url\", \"action_query_babe_kb\"], [\"ok, c\\u1ea3m \\u01a1n shop\", \"D\\u1ea1, c\\u1ea3m \\u01a1n b\\u1ea1n!\", \"thank\", null, \"utter_thank\"], [\"/greet\", \"Ch\\u00e0o Nguy\\u1ec5n Nhung, m\\u00ecnh l\\u00e0 tr\\u1ee3 l\\u00fd \\u1ea3o c\\u1ee7a Shop G\\u1ea5u -<br>\", \"greet\", \"[]\", \"utter_greet\"], [\"url\", \"S\\u1ea3n ph\\u1ea9m Gh\\u1ebf \\u00f4 t\\u00f4 cao c\\u1ea5p Gh\\u1ebf \\u00f4 t\\u00f4 cao c\\u1ea5p Joie St-<br> eadi Dark Pewte \\u0111ang c\\u00f3 gi\\u00e1 2.750.000 (Gi\\u00e1 g\\u1ed1c: 3.-<br> 200.000).\\nM\\u1eddi b\\u1ea1n tham kh\\u1ea3o chi ti\\u1ebft s\\u1ea3n ph\\u1ea9m:\\nhtt-<br>\", \"query_knowledge_base\", \"url\", \"action_query_babe_kb\"], [\"m\\u00ecnh \\u0111ang c\\u1ea7n g\\u1ea5p, b\\u1ea1n g\\u1eedi ship lu\\u00f4n cho m\\u00ecnh \\u0111\\u01b0\\u1ee3c-<br>\", \"C\\u1ea3m \\u01a1n b\\u1ea1n! B\\u1ea1n vui l\\u00f2ng \\u0111i\\u1ec1n th\\u00f4ng tin v\\u00e0o M\\u1eabu \\u0111\\u1eb7-<br> t h\\u00e0ng gi\\u00fap shop nh\\u00e9!\\n<Show ra c\\u00e1i b\\u1ea3ng m\\u1eabu \\u0111\\u1eb7t h\\u00e0-<br> ng: c\\u00f3 t\\u00ean s\\u1ea3n ph\\u1ea9m, cho kh\\u00e1ch t\\u00f9y ch\\u1ecdn s\\u1ed1 l\\u01b0\\u1ee3ng, -<br> m\\u00e0u s\\u1eafc...>\\n<C\\u00e1c th\\u00f4ng tin \\u0111\\u00e3 thu th\\u1eadp \\u0111c th\\u00ec t\\u1ef1 \\u0111-<br>\", \"make_order\", \"['ship:c\\u1ea7n g\\u1ea5p', 'ship':'g\\u1eedi ship']\", \"action_make_order\"], [\"B\\u1ed9 \\u0111\\u1ed3 ch\\u01a1i n\\u1ea5u \\u0103n gi\\u00e1 bn \\u1ea1\", \"B\\u1ed9 \\u0111\\u1ed3 ch\\u01a1i nh\\u00e0 b\\u1ebfp th\\u00f4ng minh hi\\u1ec7n shop \\u0111ang c\\u00f3 gi-<br> \\u00e1: 790000 VND (gi\\u00e1 g\\u1ed1c 790000 VND). B\\u1ea1n tham kh\\u1ea3o -<br>\", \"query_knowledge_base\", \"['attribute:price']\", \"action_query_babe_kb\"], [\"ok shop\", \"D\\u1ea1,v\\u00e2ng\", \"agree\", null, \"utter_agree\"], [\"url\", \"B\\u1ea1n \\u0111ang t\\u00ecm ki\\u1ebfm th\\u00f4ng tin g\\u00ec \\u1ea1?\", \"send_link\", \"url\", \"action_handle_send_link_only\"], [\"Ng\\u1ef1a n\\u00e0y h\\u00e0ng v\\u1ec1 h\\u1ea3 shop?\", \"S\\u1ea3n ph\\u1ea9m  NG\\u1ef0A B\\u1eacP B\\u00caNH HOLLA 2020  hi\\u1ec7n shop c\\u00f3 h-<br> \\u00e0ng v\\u00e0 \\u0111ang c\\u00f3 gi\\u00e1: 580000\\n VND (gi\\u00e1 g\\u1ed1c 800000 VN-<br> D).\\nB\\u1ea1n tham kh\\u1ea3o c\\u00e1c s\\u1ea3n ph\\u1ea9m sau nh\\u00e9 \\u1ea1:\\n<show sp-<br>\", \"query_knowledge_base\", \"['object_type:ng\\u1ef1a', 'mention:n\\u00e0y']\", \"action_query_babe_kb\"], [\"url\", \"B\\u1ea1n \\u0111ang t\\u00ecm ki\\u1ebfm th\\u00f4ng tin g\\u00ec \\u1ea1?\", \"send_link\", \"url\", \"action_handle_send_link_only\"], [\"B\\u1ea1n \\u01a1i b\\u1ed9 n\\u00e0y bao ti\\u1ec1n \\u1ea1\", \"S\\u1ea3n ph\\u1ea9m B\\u1ea2NG V\\u1ebc HOLLA 2 in 1 hi\\u1ec7n shop \\u0111ang c\\u00f3 gi-<br> \\u00e1: *830,000 VND (gi\\u00e1 g\\u1ed1c 1,090,000 VND)*.\\r\\nB\\u1ea1n tha-<br>\", \"query_knowledge_base\", \"['mention:b\\u1ed9 n\\u00e0y', 'attribute:price']\", \"action_query_babe_kb\"], [\"Cho m xem m\\u00e0u\", \"M\\u00ecnh ch\\u01b0a x\\u00e1c \\u0111\\u1ecbnh \\u0111\\u01b0\\u1ee3c m\\u00f3n \\u0111\\u1ed3 b\\u1ea1n h\\u1ecfi, b\\u1ea1n m\\u00f4 t\\u1ea3 -<br>\", \"query_knowledge_base\", \"['attribute:color']\", \"action_query_babe_kb\"], [\"Gh\\u1ebf \\u0103n d\\u1eb7m newber \\u1ea1\", \"D\\u1ea1, s\\u1ea3n ph\\u1ea9m Gh\\u1ebf \\u0102n h\\u00e3ng s\\u1ea3n xu\\u1ea5t Newber hi\\u1ec7n t\\u1ea1i -<br> b\\u00ean shop \\u0111ang t\\u1ea1m h\\u1ebft h\\u00e0ng \\u1ea1. B\\u1ea1n tham kh\\u1ea3o c\\u00e1c s\\u1ea3-<br>\", \"query_knowledge_base\", \"['object_type:ghe_an', 'brand:newber']\", \"action_query_babe_kb\"], [\"b \\u01a1i cho m\\u00ecnh h\\u1ecfi ch\\u00fat\\nb\\u00ean m\\u00ecnh c\\u00f3 qu\\u00e2y k k \\u1ea1\", \"S\\u1ea3n ph\\u1ea9m  Qu\\u00e2y  hi\\u1ec7n shop \\u0111ang c\\u00f3 gi\\u00e1: *1,440,000 -<br> VND (gi\\u00e1 g\\u1ed1c 1,490,000 VND), 1,040,000 VND (gi\\u00e1 g\\u1ed1-<br> c 1,290,000 VND), 1,340,000 VND (gi\\u00e1 g\\u1ed1c 1,390,000-<br>\", \"query_knowledge_base\", \"['object_type:quay']\", \"action_query_babe_kb\"], [\"m\\u1eabu n\\u00e0y kt bn h\\u1ea3 b\", \"M\\u00ecnh ch\\u01b0a x\\u00e1c \\u0111\\u1ecbnh \\u0111\\u01b0\\u1ee3c m\\u00f3n \\u0111\\u1ed3 b\\u1ea1n h\\u1ecfi, b\\u1ea1n m\\u00f4 t\\u1ea3 -<br>\", \"query_knowledge_base\", \"['mention:m\\u1eabu n\\u00e0y', 'attribute:size']\", \"action_query_babe_kb\"], [\"url\", \"S\\u1ea3n ph\\u1ea9m  COMBO HOLLA LI\\u00caN HO\\u00c0N 2020 hi\\u1ec7n shop \\u0111an-<br> g c\\u00f3 k\\u00edch th\\u01b0\\u1edbc: *1.8x2M*.\\nB\\u1ea1n tham kh\\u1ea3o s\\u1ea3n ph\\u1ea9m -<br>\", \"send_link\", \"url\", \"action_handle_send_link_only\"], [\"shop \\u01a1i\", \"Ch\\u00e0o b\\u1ea1n, m\\u00ecnh l\\u00e0 tr\\u1ee3 l\\u00fd \\u1ea3o c\\u1ee7a Shop G\\u1ea5u & B\\u00ed Ng\\u00f4,-<br>\", \"greet\", null, \"utter_greet\"], [\"url\", \"B\\u1ea1n \\u0111ang t\\u00ecm ki\\u1ebfm th\\u00f4ng tin g\\u00ec \\u1ea1?\", \"send_link\", \"url\", \"action_handle_send_link_only\"], [\"B c\\u00f3 s\\u1eb5n thanh ch\\u1eafn gi\\u01b0\\u1eddng n\\u00e0y ko?\", \"S\\u1ea3n ph\\u1ea9m Thanh ch\\u1eafn gi\\u01b0\\u1eddng cao c\\u1ea5p d\\u1ea1ng tr\\u01b0\\u1ee3t Umoo-<br>  ch\\u00ednh h\\u00e3ng \\u0111ang c\\u00f3 gi\\u00e1: 500.000 (Gi\\u00e1 g\\u1ed1c: 610.000-<br>\", \"query_knowledge_base\", \"['object_type:thanh_chan_giuong']\", \"action_query_babe_kb\"], [\"lo\\u1ea1i n\\u00e0y c\\u00f3 nh\\u1eefng k\\u00edch th\\u01b0\\u1edbc n\\u00e0o shop nh\\u1ec9?\", \"S\\u1ea3n ph\\u1ea9m Thanh ch\\u1eafn gi\\u01b0\\u1eddng cao c\\u1ea5p d\\u1ea1ng tr\\u01b0\\u1ee3t Umoo-<br>\", \"query_knowledge_base\", \"['mention:lo\\u1ea1i n\\u00e0y', 'attribute:size']\", \"action_query_babe_kb\"], [\"ok shop\", \"V\\u00e2ng \\u1ea1!\", \"agree\", null, \"utter_agree\"], [\"url\", \"B\\u1ea1n \\u0111ang t\\u00ecm ki\\u1ebfm th\\u00f4ng tin g\\u00ec \\u1ea1?\", \"send_link\", \"url\", \"action_handle_send_link_only\"], [\"Shop c\\u00f2n b\\u1ed9 n\\u00e0y k \\u1ea1\", \"D\\u1ea1 m\\u1eddi b\\u1ea1n tham kh\\u1ea3o s\\u1ea3n ph\\u1ea9m hi\\u1ec7n c\\u00f3 t\\u1ea1i shop nh\\u00e9-<br>\", \"query_knowledge_base\", \"['mention:b\\u1ed9 n\\u00e0y']\", \"action_query_babe_kb\"], [\"shop \\u01a1i\", \"Ch\\u00e0o b\\u1ea1n, m\\u00ecnh l\\u00e0 ...\", \"greet\", \"[]\", \"utter_greet\"], [\"Cho m\\u00ecnh h\\u1ecfi b\\u00ean b\\u1ea1n c\\u00f3 m\\u00e1y h\\u00fat s\\u1eefa Avent hoa tuy\\u1ebf-<br>\", \"S\\u1ea3n ph\\u1ea9m  M\\u00e1y h\\u00fat s\\u1eefa \\u0111i\\u1ec7n \\u0111\\u00f4i Avent Snow (Ch\\u00ednh h-<br> \\u00e3ng - Cty V\\u1ea1n An) h\\u00e3ng s\\u1ea3n xu\\u1ea5t Avent hi\\u1ec7n shop \\u0111a-<br> ng c\\u00f3 gi\\u00e1: 4,990,000 VND (gi\\u00e1 g\\u1ed1c 6,950,000 VND).\\n-<br>\", \"query_knowledge_base\", \"['object_type:may_hut_sua', 'brand:avent']\", \"action_query_babe_kb\"], [\"lo\\u1ea1i n\\u00e0y d\\u00f9ng c\\u00f3 t\\u1ed1t kh\\u00f4ng b\\u1ea1n nh\\u1ec9?\", null, \"handover_to_inbox\", \"['mention:lo\\u1ea1i n\\u00e0y']\", \"action_handover_to_inbox\"], [\"alo shop\", \"Ch\\u00e0o b\\u1ea1n, m\\u00ecnh l\\u00e0 tr\\u1ee3 l\\u00fd \\u1ea3o c\\u1ee7a Shop G\\u1ea5u & B\\u00ed Ng\\u00f4,-<br>\", \"greet\", null, \"utter_greet\"], [\"url\", \"B\\u1ea1n \\u0111ang t\\u00ecm ki\\u1ebfm th\\u00f4ng tin g\\u00ec \\u1ea1?\\r\\n\", \"send_link\", \"url\", \"action_handle_send_link_only\"], [\"M\\u00ecnh mu\\u00f3n mua xe n\\u00e0y\", \"S\\u1ea3n ph\\u1ea9m Xe t\\u1eadp \\u0111i cao c\\u1ea5p Tommorrow Sky - CH\\u00cdNH H-<br> \\u00c3NG c\\u00f3 gi\\u00e1 449.000 (Gi\\u00e1 g\\u1ed1c: 850.000).\\n<Show card -<br>\", \"query_knowledge_base\", \"['object_type:xe', 'mention:n\\u00e0y']\", \"action_query_babe_kb\"], [\"shop \\u01a1i\", \"Ch\\u00e0o b\\u1ea1n, m\\u00ecnh l\\u00e0 tr\\u1ee3 l\\u00fd \\u1ea3o c\\u1ee7a Shop G\\u1ea5u & B\\u00ed Ng\\u00f4,-<br>\", \"greet\", null, \"utter_greet\"], [\"url\", \"B\\u1ea1n \\u0111ang t\\u00ecm ki\\u1ebfm th\\u00f4ng tin g\\u00ec \\u1ea1?\\r\\n\", \"send_link\", \"url\", \"action_handle_send_link_only\"], [\"M\\u1eabu n\\u00e0y shop c\\u00f2n ko?\", \"D\\u1ea1 m\\u1eddi b\\u1ea1n tham kh\\u1ea3o s\\u1ea3n ph\\u1ea9m hi\\u1ec7n c\\u00f3 t\\u1ea1i shop nh\\u00e9-<br>\", \"query_knowledge_base\", \"['mention:m\\u1eabu n\\u00e0y']\", \"action_query_babe_kb\"], [\"thank b\\u1ea1n\", \"D\\u1ea1, c\\u1ea3m \\u01a1n b\\u1ea1n!\", \"thank\", null, \"utter_thank\"], [\"shop \\u01a1i\", \"Ch\\u00e0o Tr\\u1ea7n Di\\u1ec7u Nh\\u01b0, m\\u00ecnh l\\u00e0 tr\\u1ee3 l\\u00fd \\u1ea3o c\\u1ee7a Shop G\\u1ea5u-<br>  & B\\u00ed Ng\\u00f4!\\n\\u0110\\u1ec3 h\\u1ed7 tr\\u1ee3 b\\u1ea1n nhanh nh\\u1ea5t c\\u00f3 th\\u1ec3, vui l\\u00f2-<br> ng m\\u00f4 t\\u1ea3 ng\\u1eafn g\\u1ecdn v\\u00e0 r\\u00f5 r\\u00e0ng s\\u1ea3n ph\\u1ea9m mu\\u1ed1n t\\u00ecm ki\\u1ebf-<br>\", \"greet\", \"[]\", \"utter_greet\"], [\"Cho m\\u00ecnh h\\u1ecfi\", \"M\\u00ecnh ch\\u01b0a x\\u00e1c \\u0111\\u1ecbnh \\u0111\\u01b0\\u1ee3c m\\u00f3n \\u0111\\u1ed3 b\\u1ea1n h\\u1ecfi, b\\u1ea1n m\\u00f4 t\\u1ea3 -<br>\", \"query_knowledge_base\", \"[]\", \"action_query_babe_kb\"], [\"url\", \"S\\u1ea3n ph\\u1ea9m M\\u00e1y ti\\u1ec7t tr\\u00f9ng s\\u1ea5y kh\\u00f4 tia UV cao c\\u1ea5p Fat-<br> z Baby FB4702 c\\u00f3 gi\\u00e1: 2.350.000 (Gi\\u00e1 g\\u1ed1c: 2.750.00-<br>\", \"query_knowledge_base\", \"url\", \"action_query_babe_kb\"], [\"Ok shop\", \"D\\u1ea1 v\\u00e2ng \\u1ea1!\", \"agree\", null, \"utter_agree\"], [\"Shop \\u01a1i\\nShop c\\u00f2n xe \\u0111\\u1ea1p 3 b\\u00e1nh cho b\\u00e9 ko\", \"S\\u1ea3n ph\\u1ea9m Xe ba b\\u00e1nh hi\\u1ec7n t\\u1ea1i shop \\u0111ang c\\u00f3 c\\u00e1c h\\u00e3ng-<br>\", \"query_knowledge_base\", \"['object_type:xe_3_banh']\", \"action_query_babe_kb\"], [\"url\", \"S\\u1ea3n ph\\u1ea9m  COMBO HOLLA LI\\u00caN HO\\u00c0N 2020 gi\\u00e1 4.100.000-<br>\", \"query_knowledge_base\", \"url\", \"action_query_babe_kb\"], [\"url\", \"S\\u1ea3n ph\\u1ea9m  COMBO HOLLA LI\\u00caN HO\\u00c0N 2020 gi\\u00e1 4.100.000-<br>\", \"query_knowledge_base\", \"url\", \"action_query_babe_kb\"], [\"ok, c\\u1ea3m \\u01a1n b\\u1ea1n\", \"D\\u1ea1 v\\u00e2ng \\u1ea1!\", \"thank\", null, \"utter_thank\"], [\"url\", \"D\\u1ea1, c\\u00f3 ph\\u1ea3i b\\u1ea1n mu\\u1ed1n h\\u1ecfi m\\u1ed9t trong c\\u00e1c s\\u1ea3n ph\\u1ea9m d\\u01b0-<br>\", \"query_knowledge_base\", \"url\", \"action_query_babe_kb\"], [\"/disagree{\\\"object_type\\\": null}\\r\\n\\r\\n\", \"B\\u1ea1n vui l\\u00f2ng m\\u00f4 t\\u1ea3 r\\u00f5 mong mu\\u1ed1n c\\u1ee7a b\\u1ea1n ho\\u1eb7c chat -<br>\", \"disagree\", \"['object_type:None']\", \"utter_disagree\"], [\"/connect_employee\", null, \"connect_employee\", null, \"action_handover_to_inbox\"], [\"url\", null, \"handover_to_inbox\", \"url\", \"action_handover_to_inbox\"], [\"shop \\u01a1i\", \"Ch\\u00e0o b\\u1ea1n, m\\u00ecnh l\\u00e0 tr\\u1ee3 l\\u00fd \\u1ea3o c\\u1ee7a Shop G\\u1ea5u & B\\u00ed Ng\\u00f4,-<br>\", \"greet\", \"[]\", \"utter_greet\"], [\"url\", \"D\\u1ea1, c\\u00f3 ph\\u1ea3i b\\u1ea1n mu\\u1ed1n h\\u1ecfi m\\u1ed9t trong c\\u00e1c s\\u1ea3n ph\\u1ea9m d\\u01b0-<br>\", \"query_knowledge_base\", \"url\", \"action_query_babe_kb\"], [\"K b\\u00e0n g\\u1ed9i \\u0111\\u1ea7u n\\u1eefa b\\u1ea1n\", \"B\\u1ea1n vui l\\u00f2ng m\\u00f4 t\\u1ea3 r\\u00f5 mong mu\\u1ed1n c\\u1ee7a b\\u1ea1n ho\\u1eb7c chat -<br>\", \"disagree\", \"[]\", \"utter_disagree\"], [\"/connect_employee\", null, \"connect_employee\", null, \"action_handover_to_inbox\"], [\"shop \\u01a1i\", \"Ch\\u00e0o Thu Anh, m\\u00ecnh l\\u00e0 tr\\u1ee3 l\\u00fd \\u1ea3o c\\u1ee7a Shop G\\u1ea5u & B\\u00ed -<br> Ng\\u00f4!\\n\\u0110\\u1ec3 h\\u1ed7 tr\\u1ee3 b\\u1ea1n nhanh nh\\u1ea5t c\\u00f3 th\\u1ec3, vui l\\u00f2ng m\\u00f4 -<br> t\\u1ea3 ng\\u1eafn g\\u1ecdn v\\u00e0 r\\u00f5 r\\u00e0ng s\\u1ea3n ph\\u1ea9m mu\\u1ed1n t\\u00ecm ki\\u1ebfm nh\\u00e9!-<br>\", \"greet\", \"[]\", \"utter_greet\"], [\"url\", \"D\\u1ea1, c\\u00f3 ph\\u1ea3i b\\u1ea1n mu\\u1ed1n h\\u1ecfi m\\u1ed9t trong c\\u00e1c s\\u1ea3n ph\\u1ea9m d\\u01b0-<br>\", \"query_knowledge_base\", \"url\", \"action_query_babe_kb\"], [\"K b\\u00e0n g\\u1ed9i \\u0111\\u1ea7u n\\u1eefa b\\u1ea1n\", \"B\\u1ea1n vui l\\u00f2ng m\\u00f4 t\\u1ea3 r\\u00f5 mong mu\\u1ed1n c\\u1ee7a b\\u1ea1n ho\\u1eb7c chat -<br> v\\u1edbi nh\\u00e2n vi\\u00ean t\\u01b0 v\\u1ea5n nh\\u00e9!\\n<Show button [Chat v\\u1edbi n-<br>\", \"disagree\", \"[]\", \"utter_disagree\"], [\"ch\\u1ecb mu\\u1ed1n mua th\\u00eam c\\u00e1i b\\u00e0n g\\u1ed9i \\u0111\\u1ea7u n\\u1eefa\", \"D\\u1ea1 hi\\u1ec7n t\\u1ea1i s\\u1ea3n ph\\u1ea9m B\\u00e0n g\\u1ed9i \\u0111\\u1ea7u shop \\u0111ang h\\u1ebft h\\u00e0n-<br>\", \"query_knowledge_base\", \"[object_type:ban_goi_dau]\", \"action_query_babe_kb\"], [\"ok em\", \"D\\u1ea1 v\\u00e2ng \\u1ea1!\", \"agree\", null, \"utter_agree\"], [\"B\\u1ed9 n\\u00e0y bao nhi\\u00eau b\\u1ea1n\", \"M\\u00ecnh ch\\u01b0a x\\u00e1c \\u0111\\u1ecbnh \\u0111\\u01b0\\u1ee3c m\\u00f3n \\u0111\\u1ed3 b\\u1ea1n h\\u1ecfi, b\\u1ea1n m\\u00f4 t\\u1ea3 -<br>\", \"query_knowledge_base\", \"['mention:b\\u1ed9 n\\u00e0y', 'attribute:price']\", \"action_query_babe_kb\"], [\"url\", \"S\\u1ea3n ph\\u1ea9m  B\\u00e0n h\\u1ecdc, b\\u1ea3n ch\\u01a1i l\\u1eafp gh\\u00e9p Lego cao c\\u1ea5p -<br>  hi\\u1ec7n shop \\u0111ang c\\u00f3 gi\\u00e1: *995,000 VND (gi\\u00e1 g\\u1ed1c 1,75-<br> 0,000 VND)*.\\nB\\u1ea1n tham kh\\u1ea3o c\\u00e1c s\\u1ea3n ph\\u1ea9m sau nh\\u00e9 \\u1ea1:-<br>\", \"send_link\", \"url\", \"action_handle_send_link_only\"], [\"url\", \"S\\u1ea3n ph\\u1ea9m  B\\u1ed9 \\u0111\\u1ed3 ch\\u01a1i nh\\u00e0 b\\u1ebfp th\\u00f4ng minh  hi\\u1ec7n shop-<br>  \\u0111ang c\\u00f3 gi\\u00e1: *790,000 VND (gi\\u00e1 g\\u1ed1c 790,000 VND)*.-<br>\", \"query_knowledge_base\", \"url\", \"action_query_babe_kb\"], [\"D\\u1ea1 v\\u00e2ng b\", \"D\\u1ea1 v\\u00e2ng \\u1ea1!\", \"agree\", \"[]\", \"utter_agree\"], [\"url\", \"B\\u1ea1n \\u0111ang t\\u00ecm ki\\u1ebfm th\\u00f4ng tin g\\u00ec \\u1ea1?\", \"send_link\", \"url\", \"action_handle_send_link_only\"], [\"B\\u1ed9 n\\u00e0y gi\\u00e2 bn \\u1ea1 shop\", \"S\\u1ea3n ph\\u1ea9m  B\\u1ed9 \\u0111\\u1ed3 ch\\u01a1i nh\\u00e0 b\\u1ebfp th\\u00f4ng minh  hi\\u1ec7n shop-<br>  \\u0111ang c\\u00f3 gi\\u00e1: *790,000 VND (gi\\u00e1 g\\u1ed1c 790,000 VND)*.-<br>\", \"query_knowledge_base\", \"['mention:b\\u1ed9 n\\u00e0y', 'attribute:price']\", \"action_query_babe_kb\"], [\"Cho t m\\u1ed9t xe ch\\u00f2i ch\\u00e2n luddy\", \"S\\u1ea3n ph\\u1ea9m  Xe Ch\\u00f2i Ch\\u00e2n  hi\\u1ec7n shop \\u0111ang c\\u00f3 gi\\u00e1: *69-<br> 9,000 VND (gi\\u00e1 g\\u1ed1c 998,000 VND), 448,400 VND (gi\\u00e1 -<br> g\\u1ed1c 590,000 VND), 499,000 VND (gi\\u00e1 g\\u1ed1c 800,000 VND-<br> ), 580,000 VND (gi\\u00e1 g\\u1ed1c 800,000 VND)*.\\nB\\u1ea1n tham kh-<br>\", \"query_knowledge_base\", \"['object_type:xe_choi_chan', 'brand:luddy']\", \"action_query_babe_kb\"], [\"m\\u00ecnh mu\\u1ed1n mua c\\u00e1i luddy\", \"S\\u1ea3n ph\\u1ea9m Xe ch\\u00f2i ch\\u00e2n th\\u01b0\\u01a1ng hi\\u1ec7u Luddy c\\u00f3 gi\\u00e1: 49-<br> 9,000 VND (gi\\u00e1 g\\u1ed1c 800,000 VND)\\n<show card xe ludd-<br>\", \"query_knowledge_base\", \"['brand:luddy']\", \"action_query_babe_kb\"], [\"ok, m\\u00ecnh l\\u1ea5y c\\u00e1i n\\u00e0y nh\\u00e9\", \"\\\"C\\u1ea3m \\u01a1n b\\u1ea1n! B\\u1ea1n vui l\\u00f2ng \\u0111i\\u1ec1n th\\u00f4ng tin v\\u00e0o M\\u1eabu \\u0111-<br> \\u1eb7t h\\u00e0ng gi\\u00fap shop nh\\u00e9!\\n<Show ra c\\u00e1i b\\u1ea3ng m\\u1eabu \\u0111\\u1eb7t h-<br> \\u00e0ng: c\\u00f3 t\\u00ean s\\u1ea3n ph\\u1ea9m, cho kh\\u00e1ch t\\u00f9y ch\\u1ecdn s\\u1ed1 l\\u01b0\\u1ee3ng,-<br>  m\\u00e0u s\\u1eafc...>\\n<C\\u00e1c th\\u00f4ng tin \\u0111\\u00e3 thu th\\u1eadp \\u0111c th\\u00ec t\\u1ef1 -<br>\", \"make_order\", \"['mention:c\\u00e1i n\\u00e0y']\", \"action_make_order\"], [\"ship cho m 1 xe t\\u1eadp \\u0111i s\\u01b0 t\\u1eed nh\\u00e9\", \"\\\"\\\"\\\"C\\u1ea3m \\u01a1n b\\u1ea1n! B\\u1ea1n vui l\\u00f2ng \\u0111i\\u1ec1n th\\u00f4ng tin v\\u00e0o M\\u1eabu-<br>  \\u0111\\u1eb7t h\\u00e0ng gi\\u00fap shop nh\\u00e9!\\n<Show ra c\\u00e1i b\\u1ea3ng m\\u1eabu \\u0111\\u1eb7t-<br>  h\\u00e0ng: c\\u00f3 t\\u00ean s\\u1ea3n ph\\u1ea9m, cho kh\\u00e1ch t\\u00f9y ch\\u1ecdn s\\u1ed1 l\\u01b0\\u1ee3n-<br>\", \"query_knowledge_base\", \"['object_type:xe_tap_di,'type:s\\u01b0 t\\u1eed'] \", \"action_query_knowledge_base\"], [\"<X\\u00e1c nh\\u1eadn>\", \"C\\u00e1m \\u01a1n b\\u1ea1n \\u0111\\u00e3 mua h\\u00e0ng t\\u1ea1i shop, \\u0111\\u01a1n h\\u00e0ng s\\u1ebd \\u0111\\u01b0\\u1ee3c -<br> giao \\u0111\\u1ebfn 434 tr\\u1ea7n kh\\u00e1t ch\\u00e2n, 2 b\\u00e0 tr\\u01b0ng trong kho\\u1ea3-<br>\", \"query_knowledge_base\", null, \"action_query_knowledge_base\"], [\"hello\", \"Ch\\u00e0o b\\u1ea1n, m\\u00ecnh l\\u00e0 tr\\u1ee3 l\\u00fd \\u1ea3o c\\u1ee7a Shop G\\u1ea5u & B\\u00ed Ng\\u00f4,-<br>\", \"greet\", \"['brand:hello']\", \"utter_greet\"], [\"Alo, Shop cho m\\u00ecnh h\\u1ecfi ch\\u1eafn c\\u1eeda cho b\\u00e9 v\\u1edbi\", \"S\\u1ea3n ph\\u1ea9m  thanh ch\\u1eafn c\\u1eeda (thanh ch\\u1eafn c\\u1ea7u thang)  h-<br> i\\u1ec7n shop \\u0111ang c\\u00f3 gi\\u00e1: *699,000 VND (gi\\u00e1 g\\u1ed1c 998,00-<br> 0 VND), 448,400 VND (gi\\u00e1 g\\u1ed1c 590,000 VND), 499,000-<br>  VND (gi\\u00e1 g\\u1ed1c 800,000 VND), 580,000 VND (gi\\u00e1 g\\u1ed1c 8-<br> 00,000 VND)*.\\nB\\u1ea1n tham kh\\u1ea3o c\\u00e1c s\\u1ea3n ph\\u1ea9m sau nh\\u00e9 \\u1ea1-<br>\", \"query_knowledge_base\", \"['object_type:thanh_chan_cua,']\", \"action_query_knowledge_base\"], [\"C\\u00e1i th\\u1ee9 2 k\\u00edch th\\u01b0\\u1edbc sao \\u1ea1\", \"S\\u1ea3n ph\\u1ea9m  thanh ch\\u1eafn c\\u1eeda (thanh ch\\u1eafn c\\u1ea7u thang) gi-<br> \\u00e1 448,400 VND (gi\\u00e1 g\\u1ed1c 590,000 VND) hi\\u1ec7n shop \\u0111ang-<br>  c\\u00f3 k\\u00edch th\\u01b0\\u1edbc \\n<74x85x77cm> \\nM\\u1eddi b\\u1ea1n tham kh\\u1ea3o s\\u1ea3-<br>\", \"query_knowledge_base\", \"['mention:2', 'attribute:size']\", \"action_query_babe_kb\"], [\"url\", \"C\\u00f3 ph\\u1ea3i b\\u1ea1n \\u0111ang mu\\u1ed1n \\u0111\\u1eb7t h\\u00e0ng s\\u1ea3n ph\\u1ea9m sau \\u0111\\u00fang k-<br> o \\u1ea1:\\n< cardTh\\u1ea3m g\\u1ea5p XPE> < card Th\\u1ea3m x\\u1ed1p gh\\u00e9p 28 t-<br>\", \"query_knowledge_base\", \"url\", \"action_query_babe_kb\"], [\"<\\u0110\\u00fang>\", \"\\\"\\\"\\\"C\\u1ea3m \\u01a1n b\\u1ea1n! B\\u1ea1n vui l\\u00f2ng \\u0111i\\u1ec1n th\\u00f4ng tin v\\u00e0o M\\u1eabu-<br>  \\u0111\\u1eb7t h\\u00e0ng gi\\u00fap shop nh\\u00e9!\\n<Show ra c\\u00e1i b\\u1ea3ng m\\u1eabu \\u0111\\u1eb7t-<br>  h\\u00e0ng: c\\u00f3 t\\u00ean s\\u1ea3n ph\\u1ea9m, cho kh\\u00e1ch t\\u00f9y ch\\u1ecdn s\\u1ed1 l\\u01b0\\u1ee3n-<br>\", \"query_knowledge_base\", null, \"action_query_babe_kb\"], [\"<H\\u1ee7y>\", \"B\\u1ea1n \\u0111\\u00e3 h\\u1ee7y \\u0111\\u01a1n h\\u00e0ng th\\u00e0nh c\\u00f4ng\", \"query_knowledge_base\", null, \"action_query_babe_kb\"], [\"url\", \"C\\u00f3 ph\\u1ea3i b\\u1ea1n \\u0111ang mu\\u1ed1n \\u0111\\u1eb7t h\\u00e0ng s\\u1ea3n ph\\u1ea9m sau \\u0111\\u00fang k-<br> o \\u1ea1:\\n< cardTh\\u1ea3m g\\u1ea5p XPE> < card Th\\u1ea3m x\\u1ed1p gh\\u00e9p 28 t-<br>\", \"query_knowledge_base\", \"url\", \"action_query_babe_kb\"], [\"<Sai>\", \"- B\\u1ea1n vui l\\u00f2ng m\\u00f4 t\\u1ea3 r\\u00f5 mong mu\\u1ed1n c\\u1ee7a b\\u1ea1n ho\\u1eb7c cha-<br> t v\\u1edbi nh\\u00e2n vi\\u00ean t\\u01b0 v\\u1ea5n nh\\u00e9!\\n<Show button [Chat v\\u1edbi-<br>\", \"query_knowledge_base\", null, \"action_query_babe_kb\"], [\"/connect_employee\", null, \"connect_employee\", null, \"action_handover_to_inbox\"], [\"Bao nhi\\u00eau \\u1ea1?\", \"M\\u00ecnh ch\\u01b0a x\\u00e1c \\u0111\\u1ecbnh \\u0111\\u01b0\\u1ee3c m\\u00f3n \\u0111\\u1ed3 b\\u1ea1n h\\u1ecfi, b\\u1ea1n m\\u00f4 t\\u1ea3 -<br>\", \"query_knowledge_base\", \"['attribute:price']\", \"action_query_babe_kb\"], [\"Th\\u1ea3m \\u0111\\u00e0n umoo \\u00e1 b\", \"D\\u1ea1, s\\u1ea3n ph\\u1ea9m Th\\u1ea3m h\\u00e3ng s\\u1ea3n xu\\u1ea5t Umoo hi\\u1ec7n t\\u1ea1i b\\u00ean -<br> shop \\u0111ang t\\u1ea1m h\\u1ebft h\\u00e0ng \\u1ea1. B\\u1ea1n tham kh\\u1ea3o c\\u00e1c s\\u1ea3n ph-<br>\", \"query_knowledge_base\", \"['object_type:tham', 'brand:umoo']\", \"action_query_babe_kb\"], [\"ok sh\", \"D\\u1ea1 v\\u00e2ng \\u1ea1!\", \"agree\", null, \"utter_agree\"], [\"url\", \"S\\u1ea3n ph\\u1ea9m  Gi\\u00e1 s\\u00e1ch Hamitu  hi\\u1ec7n shop \\u0111ang c\\u00f3 gi\\u00e1: -<br> *790,000 VND (gi\\u00e1 g\\u1ed1c 790,000 VND)*.\\nB\\u1ea1n tham kh\\u1ea3o-<br>\", \"query_knowledge_base\", \"url\", \"action_query_babe_kb\"], [\"C\\u00f2n m\\u00e0u xanh ko shop\", \"S\\u1ea3n ph\\u1ea9m  Gi\\u00e1 s\\u00e1ch Hamitu  m\\u00e0u xanh hi\\u1ec7n c\\u00f2n h\\u00e0ng -<br>\", \"query_knowledge_base\", \"['color:m\\u00e0u xanh']\", \"action_query_babe_kb\"], [\"Ok thanks\", \"D\\u1ea1, c\\u1ea3m \\u01a1n \\u1ea1!\", \"thank\", \"[]\", \"utter_thank\"], [\"hi em\", \"Ch\\u00e0o b\\u1ea1n, m\\u00ecnh l\\u00e0 tr\\u1ee3 l\\u00fd \\u1ea3o c\\u1ee7a Shop G\\u1ea5u & B\\u00ed Ng\\u00f4,-<br>\", \"greet\", \"[]\", \"utter_greet\"], [\"url\", \"C\\u00f3 ph\\u1ea3i b\\u1ea1n \\u0111ang mu\\u1ed1n \\u0111\\u1eb7t h\\u00e0ng s\\u1ea3n ph\\u1ea9m sau \\u0111\\u00fang k-<br>\", \"query_knowledge_base\", \"url\", \"action_query_babe_kb\"], [\"<\\u0110\\u00fang>\", \"\\\"\\\"\\\"C\\u1ea3m \\u01a1n b\\u1ea1n! B\\u1ea1n vui l\\u00f2ng \\u0111i\\u1ec1n th\\u00f4ng tin v\\u00e0o M\\u1eabu-<br>  \\u0111\\u1eb7t h\\u00e0ng gi\\u00fap shop nh\\u00e9!\\n<Show ra c\\u00e1i b\\u1ea3ng m\\u1eabu \\u0111\\u1eb7t-<br>  h\\u00e0ng: c\\u00f3 t\\u00ean s\\u1ea3n ph\\u1ea9m, cho kh\\u00e1ch t\\u00f9y ch\\u1ecdn s\\u1ed1 l\\u01b0\\u1ee3n-<br>\", \"agree\", null, \"action_query_babe_kb\"], [\"<X\\u00e1c nh\\u1eadn>\", \"B\\u1ea1n \\u0111\\u00e3 \\u0111\\u1eb7t h\\u00e0ng th\\u00e0nh c\\u00f4ng, \\u0111\\u01a1n h\\u00e0ng s\\u1ebd \\u0111\\u01b0\\u1ee3c giao -<br>\", \"agree\", \"[]\", \"utter_agree\"], [\"shop oi b\\u00e1o gi\\u00e1 e nh\\u00e9\", null, \"query_knowledge_base\", \"['attribute:price']\", \"action_query_babe_kb\"], [\"url\", \"D\\u1ea1, c\\u00f3 ph\\u1ea3i b\\u1ea1n mu\\u1ed1n h\\u1ecfi m\\u1ed9t trong c\\u00e1c s\\u1ea3n ph\\u1ea9m d\\u01b0-<br> \\u1edbi \\u0111\\u00e2y kh\\u00f4ng \\u1ea1?\\r\\n (Vui l\\u00f2ng \\u1ea5n ch\\u1ecdn 1 s\\u1ea3n ph\\u1ea9m)...-<br>\", \"send_link\", \"url\", \"action_handle_send_link_only\"], [\"/disagree{\\\"object_type\\\": null}\\r\\n\\r\\n\", \"B\\u1ea1n vui l\\u00f2ng m\\u00f4 t\\u1ea3 r\\u00f5 mong mu\\u1ed1n c\\u1ee7a b\\u1ea1n ho\\u1eb7c chat -<br>\", \"deny_object_type\", \"['object_type:None']\", \"utter_disagree\"], [\"/connect_employee\", null, \"connect_employee\", null, \"action_handover_to_inbox\"], [\"url\", \"S\\u1ea3n ph\\u1ea9m  B\\u1ed9 \\u0111\\u1ed3 ch\\u01a1i nh\\u00e0 b\\u1ebfp th\\u00f4ng minh m\\u00e0u xanh h-<br> i\\u1ec7n shop \\u0111ang c\\u00f3 gi\\u00e1: *790,000 VND (gi\\u00e1 g\\u1ed1c 790,00-<br> 0 VND)*.\\nB\\u1ea1n tham kh\\u1ea3o c\\u00e1c s\\u1ea3n ph\\u1ea9m sau nh\\u00e9 \\u1ea1:\\n<sh-<br>\", \"query_knowledge_base\", \"url\", \"action_query_babe_kb\"], [\"L\\u00e0m b\\u1eb1ng nh\\u1ef1a \\u00e0 b\\u1ea1n\", \"S\\u1ea3n ph\\u1ea9m  B\\u1ed9 \\u0111\\u1ed3 ch\\u01a1i nh\\u00e0 b\\u1ebfp th\\u00f4ng minh \\u0111\\u01b0\\u1ee3c l\\u00e0m t-<br>\", \"query_knowledge_base\", \"['material:b\\u1eb1ng nh\\u1ef1a']\", \"action_query_babe_kb\"], [\"thank shop\", \"D\\u1ea1,v\\u00e2ng \\u1ea1\", \"thank\", null, \"utter_thank\"], [\"url\", \"S\\u1ea3n ph\\u1ea9m  Xe ch\\u00f2i ch\\u00e2n c\\u00f3 b\\u00e0n \\u0111\\u1ea1p cao c\\u1ea5p Motion  -<br> hi\\u1ec7n shop \\u0111ang c\\u00f3 gi\\u00e1: *389,400 VND (gi\\u00e1 g\\u1ed1c 590,0-<br>\", \"query_knowledge_base\", \"url\", \"action_query_babe_kb\"], [\"Xe n\\u00e0y cho b\\u00e9 t\\u1eeb m\\u1ea5y tu\\u1ed5i ha b\", \"S\\u1ea3n ph\\u1ea9m  Xe ch\\u00f2i ch\\u00e2n c\\u00f3 b\\u00e0n \\u0111\\u1ea1p cao c\\u1ea5p Motion  -<br> hi\\u1ec7n shop \\u0111ang c\\u00f3 \\u0111\\u1ed9 tu\\u1ed5i s\\u1eed d\\u1ee5ng: *0 - 36 th\\u00e1ng*.-<br>\", \"query_knowledge_base\", \"['object_type:xe', 'mention:n\\u00e0y', 'attribute:age_of_use']\", \"action_query_babe_kb\"], [\"N\\u01b0\\u1edbc n\\u00e0o s\\u1ea3n xu\\u1ea5t v\\u1eady b\\u1ea1n\", \"S\\u1ea3n ph\\u1ea9m  Xe ch\\u00f2i ch\\u00e2n c\\u00f3 b\\u00e0n \\u0111\\u1ea1p cao c\\u1ea5p Motion c-<br>\", \"query_knowledge_base\", \"['attribute:origin']\", \"action_query_babe_kb\"], [\"shop \\u01a1i\", \"Ch\\u00e0o b\\u1ea1n, m\\u00ecnh l\\u00e0 tr\\u1ee3 l\\u00fd \\u1ea3o c\\u1ee7a Shop G\\u1ea5u & B\\u00ed Ng\\u00f4,-<br>\", \"greet\", null, \"utter_greet\"], [\"url\", \"B\\u1ea1n \\u0111ang t\\u00ecm ki\\u1ebfm th\\u00f4ng tin g\\u00ec \\u1ea1?\", \"send_link\", \"url\", \"action_handle_send_link_only\"], [\"Bn v\\u1eady s\", \"S\\u1ea3n ph\\u1ea9m  XE \\u0110\\u1ea0P C\\u00d3 M\\u00c1I CHE UMOO  hi\\u1ec7n shop \\u0111ang c-<br> \\u00f3 gi\\u00e1: *1,148,000 VND (gi\\u00e1 g\\u1ed1c 2,800,000 VND)*.\\nB\\u1ea1-<br> n tham kh\\u1ea3o c\\u00e1c s\\u1ea3n ph\\u1ea9m sau nh\\u00e9 \\u1ea1:\\n<show card sp>-<br>\", \"query_knowledge_base\", \"['attribute:price']\", \"action_query_babe_kb\"], [\"tr\\u1ecdng l\\u01b0\\u1ee3ng xe bn \\u1ea1\", \"S\\u1ea3n ph\\u1ea9m  XE \\u0110\\u1ea0P C\\u00d3 M\\u00c1I CHE UMOO c\\u00f3 tr\\u1ecdng l\\u01b0\\u1ee3ng 3,-<br>\", \"query_knowledge_base\", \"['attribute:weight']\", \"action_query_babe_kb\"], [\"Cho m\\u00ecnh xin link shopee\", \"S\\u1ea3n ph\\u1ea9m  XE \\u0110\\u1ea0P C\\u00d3 M\\u00c1I CHE UMOO c\\u00f3 link shopee sa-<br>\", \"query_knowledge_base\", \"['attribute:link']\", \"action_query_babe_kb\"], [\"B\\u1ed9 n\\u00e0y c\\u00f3 g\\u1ea5p l\\u1ea1i dc k shop\", \"M\\u00ecnh ch\\u01b0a x\\u00e1c \\u0111\\u1ecbnh \\u0111\\u01b0\\u1ee3c m\\u00f3n \\u0111\\u1ed3 b\\u1ea1n h\\u1ecfi, b\\u1ea1n m\\u00f4 t\\u1ea3 -<br>\", \"handover_to_inbox\", \"['mention:b\\u1ed9 n\\u00e0y']\", \"action_handover_to_inbox\"], [\"https://scontent.fhan1-1.fna.fbcdn.net/v/t1.15752--<br> 0/p280x280/94247169_518496298833739_47427858278037-<br> 58592_n.jpg?_nc_cat=106&_nc_sid=b96e70&_nc_ohc=tIQ-<br> pyBHqGKcAX_YGh_a&_nc_ht=scontent.fhan1-1.fna&_nc_t-<br> p=6&oh=3141a0925467d595ddf7cb2d28d75d28&oe=5EC24DB-<br> E\\nhttps://scontent.fhan1-1.fna.fbcdn.net/v/t1.1575-<br> 2-0/p280x280/93419718_261010215057212_451887424476-<br> 7023104_n.jpg?_nc_cat=104&_nc_sid=b96e70&_nc_ohc=E-<br> VuxAqLJPbkAX-2BWJl&_nc_ht=scontent.fhan1-1.fna&_nc-<br> _tp=6&oh=08ddddefc4c435796d90f76c1ab9e8b3&oe=5EC58-<br>\", \"S\\u1ea3n ph\\u1ea9m abc_xyz c\\u00f3 th\\u1ec3 g\\u1ea5p g\\u1ecdn \\u1ea1!\", \"query_knowledge_base\", \"[\\\"url:['https://scontent.fhan1-1.fna.fbcdn.net/v/t1.15752-0/p280x280/94247169_518496298833739_4742785827803758592_n.jpg?_nc_cat=106&_nc_sid=b96e70&_nc_ohc=tIQpyBHqGKcAX_YGh_a&_nc_ht=scontent.fhan1-1.fna&_nc_tp=6&oh=3141a0925467d595ddf7cb2d28d75d28&oe=5EC24DBE', 'https://scontent.fhan1-1.fna.fbcdn.net/v/t1.15752-0/p280x280/93419718_261010215057212_4518874244767023104_n.jpg?_nc_cat=104&_nc_sid=b96e70&_nc_ohc=EVuxAqLJPbkAX-2BWJl&_nc_ht=scontent.fhan1-1.fna&_nc_tp=6&oh=08ddddefc4c435796d90f76c1ab9e8b3&oe=5EC5835B']\\\"]\", \"action_query_babe_kb\"], [\"shop \\u01a1i\", \"Ch\\u00e0o b\\u1ea1n, m\\u00ecnh l\\u00e0 tr\\u1ee3 l\\u00fd \\u1ea3o c\\u1ee7a Shop G\\u1ea5u & B\\u00ed Ng\\u00f4,-<br>\", \"greet\", null, \"utter_greet\"], [\"url\", \"B\\u1ea1n \\u0111ang t\\u00ecm ki\\u1ebfm th\\u00f4ng tin g\\u00ec \\u1ea1?\", \"send_link\", \"url\", \"action_handle_send_link_only\"], [\"Cho e gi\\u00e1 nh\\u00e9\", \"S\\u1ea3n ph\\u1ea9m B\\u1ed9 \\u0111\\u1ed3 ch\\u01a1i nh\\u00e0 b\\u1ebfp th\\u00f4ng minh g\\u1ed3m 2 size -<br> \\nSize nh\\u1ecf k\\u00edch th\\u01b0\\u1edbc  57x30x77cm gi\\u00e1 KM ch\\u1ec9 590,00-<br> 0 VND\\nSize to k\\u00edch th\\u01b0\\u1edbc 51x32x100cm Gi\\u00e1 Km ch\\u1ec9 79-<br> 0,000 VND\\nB\\u1ea1n tham kh\\u1ea3o c\\u00e1c s\\u1ea3n ph\\u1ea9m sau nh\\u00e9 \\u1ea1:\\n<S-<br>\", \"query_knowledge_base\", \"['attribute:price']\", \"action_query_babe_kb\"], [\"shop \\u01a1i\", \"Ch\\u00e0o b\\u1ea1n, m\\u00ecnh l\\u00e0 tr\\u1ee3 l\\u00fd \\u1ea3o c\\u1ee7a Shop G\\u1ea5u & B\\u00ed Ng\\u00f4,-<br>\", \"greet\", null, \"utter_greet\"], [\"Shop c\\u00f2n b\\u1ed9 c\\u00e2u c\\u00e1 k\", \"D\\u1ea1 m\\u00ecnh c\\u00f2n \\u1ea1\\nS\\u1ea3n ph\\u1ea9m B\\u1ed9 c\\u00e2u c\\u00e1 Toys House c\\u00f3 \\u0111\\u00e8n-<br> , nh\\u1ea1c ch\\u00ednh h\\u00e3ng hi\\u1ec7n shop c\\u00f3 gi\\u00e1 l\\u00e0 300,000 VND\\n-<br> B\\u1ea1n vui l\\u00f2ng xe th\\u00f4ng tin s\\u1ea3n ph\\u1ea9m t\\u1ea1i \\u0111\\u00e2y \\u1ea1:\\n<sho-<br>\", \"query_knowledge_base\", \"['object_type:bo_cau_ca']\", \"action_query_babe_kb\"], [\"url\", \"B\\u1ea1n \\u0111ang t\\u00ecm ki\\u1ebfm th\\u00f4ng tin g\\u00ec \\u1ea1?\", \"send_link\", \"url\", \"action_handle_send_link_only\"], [\"Bnhieu z\", \"S\\u1ea3n ph\\u1ea9m Xe \\u0111\\u1ea1p c\\u00f3 m\\u00e1i che Umoo hi\\u1ec7n shop \\u0111ang c\\u00f3 -<br> gi\\u00e1: 2,800,000 VND (gi\\u00e1 g\\u1ed1c 2,800,000 VND)\\nB\\u1ea1n tha-<br>\", \"query_knowledge_base\", \"['attribute:price']\", \"action_query_babe_kb\"], [\"Xe umoo th\\u00e1o ra thanh xe \\u0111ap 3 banh nh\\u01b0 nadle dc k-<br>\", \"Handover\", \"handover_to_inbox\", \"['brand:umoo', 'brand:nadle']\", \"action_handover_to_inbox\"], [\"url\", \"B\\u1ea1n \\u0111ang t\\u00ecm ki\\u1ebfm th\\u00f4ng tin g\\u00ec \\u1ea1?\", \"send_link\", \"url\", \"action_handle_send_link_only\"], [\"url\", \"B\\u1ea1n \\u0111ang t\\u00ecm ki\\u1ebfm th\\u00f4ng tin g\\u00ec \\u1ea1?\", \"send_link\", \"url\", \"action_handle_send_link_only\"], [\"M\\u00ecnh mu\\u1ed1n h\\u1ecfi 2c\\u00e1i n\\u00f4i n\\u00e0y l\\u00e0 1 ah\", \"D\\u1ea1, hai s\\u1ea3n ph\\u1ea9m tr\\u00ean kh\\u00e1c nhau, b\\u1ea1n c\\u00f3 th\\u1ec3 tham k-<br> h\\u1ea3o 2 s\\u1ea3n ph\\u1ea9m \\u0111\\u00f3 t\\u1ea1i \\u0111\\u00e2y \\u1ea1:\\n<show card sp 2 sp \\u0111\\u00f3-<br>\", \"query_knowledge_base\", \"['object_type:noi', 'mention:n\\u00e0y']\", \"action_query_babe_kb\"], [\"/query_knowledge_base{\\\"url\\\": \\\"https://shopee.vn/pr-<br> oduct/36371562/6418671728\\\", \\\"product_id\\\": \\\"https:/-<br>\", \"D\\u1ea1 m\\u1eddi b\\u1ea1n tham kh\\u1ea3o s\\u1ea3n ph\\u1ea9m hi\\u1ec7n c\\u00f3 t\\u1ea1i shop nh\\u00e9-<br>\", \"query_knowledge_base\", \"['url:https://shopee.vn/product/36371562/6418671728', 'product_id:https://shopee.vn/product/36371562/6418671728']\", \"action_query_babe_kb\"], [\"url\", \"D\\u1ea1, c\\u00f3 ph\\u1ea3i b\\u1ea1n mu\\u1ed1n h\\u1ecfi m\\u1ed9t trong c\\u00e1c s\\u1ea3n ph\\u1ea9m d\\u01b0-<br>\", \"query_knowledge_base\", \"url\", \"action_query_babe_kb\"], [\"/query_knowledge_base{\\\"url\\\": \\\"https://shopee.vn/pr-<br> oduct/36371562/3103025341\\\", \\\"product_id\\\": \\\"https:/-<br>\", \"S\\u1ea3n ph\\u1ea9m Xe NADLE 3 in 1: Xe \\u0111\\u1ea9y - Ch\\u00f2i ch\\u00e2n - Xe -<br> \\u0111\\u1ea1p hi\\u1ec7n shop \\u0111ang c\\u00f3 gi\\u00e1: *2,450,000 VND (gi\\u00e1 g\\u1ed1c-<br>  2,450,000 VND), 2,650,000 VND (gi\\u00e1 g\\u1ed1c 2,650,000 -<br> VND), 1,550,000 VND (gi\\u00e1 g\\u1ed1c 2,650,000 VND)*.\\r\\nB\\u1ea1n-<br>\", \"query_knowledge_base\", \"['url:https://shopee.vn/product/36371562/3103025341', 'product_id:https://shopee.vn/product/36371562/3103025341']\", \"action_query_babe_kb\"], [\"url\", \"B\\u1ea1n \\u0111ang t\\u00ecm ki\\u1ebfm th\\u00f4ng tin g\\u00ec \\u1ea1?\", \"send_link\", \"url\", \"action_handle_send_link_only\"], [\"Bn em oi\\nC\\u00f3 m\\u00e0u kh\\u00e1c ko e\", \"S\\u1ea3n ph\\u1ea9m B\\u00e0n gh\\u1ebf \\u0111a n\\u0103ng Lego Holla hi\\u1ec7n shop \\u0111ang-<br>  c\\u00f3 gi\\u00e1: *1,400,000 VND (gi\\u00e1 g\\u1ed1c 1,400,000 VND)\\nB\\u1ea1-<br> n tham kh\\u1ea3o c\\u00e1c s\\u1ea3n ph\\u1ea9m sau nh\\u00e9 \\u1ea1:\\n<show card sp>-<br> \\n\\nS\\u1ea3n ph\\u1ea9m B\\u00e0n gh\\u1ebf \\u0111a n\\u0103ng Lego Holla hi\\u1ec7n shop \\u0111a-<br> ng c\\u00f3 c\\u00e1c m\\u1eabu: m\\u1eabu G\\u1ea5u v\\u00e0 m\\u1eabu Th\\u1ecf\\nB\\u1ea1n tham kh\\u1ea3o c\\u00e1-<br>\", \"query_knowledge_base\", \"['attribute:price', 'attribute:color']\", \"action_query_babe_kb\"], [\"B \\u01a1i k\\u1ec7 s\\u1eafp v\\u1ec1 ch\\u01b0a b\", \"D\\u1ea1 b\\u1ea1n mu\\u1ed1n h\\u1ecfi s\\u1ea3n ph\\u1ea9m n\\u00e0o trong c\\u00e1c s\\u1ea3n ph\\u1ea9m d\\u01b0-<br> \\u1edbi \\u0111\\u00e2y \\u1ea1\\n<show card t\\u1ea5t c\\u1ea3 c\\u00e1c k\\u1ec7 m\\u00e0 shop b\\u00e1n k\\u00e8m -<br> button b\\u00ean d\\u01b0\\u1edbi \\\"C\\u00e1i n\\u00e0y\\\">\\n<button: Kh\\u00f4ng c\\u00f3 trong-<br>\", \"query_knowledge_base\", \"['object_type:ke']\", \"action_query_babe_kb\"], [\"/query_knowledge_base{\\\"url\\\": \\\"https://shopee.vn/pr-<br> oduct/36371562/3103025341\\\", \\\"product_id\\\": \\\"https:/-<br>\", \"D\\u1ea1 s\\u1ea3n ph\\u1ea9m K\\u1ec7 \\u0111a n\\u0103ng cao c\\u1ea5p Pie shop d\\u1ef1 t\\u00ednh s\\u1ebd-<br>  v\\u1ec1 h\\u00e0ng v\\u00e0o ng\\u00e0y xx/xx \\u1ea1\\nB\\u1ea1n vui l\\u00f2ng xem c\\u00e1c s\\u1ea3n-<br>  ph\\u1ea9m kh\\u00e1c c\\u1ee7a shop nh\\u00e9 \\u1ea1:\\n<show card c\\u00e1c sp t\\u01b0\\u01a1ng-<br>\", \"query_knowledge_base\", \"['url:https://shopee.vn/product/36371562/3103025341', 'product_id:https://shopee.vn/product/36371562/3103025341']\", \"action_query_babe_kb\"], [\"ok shop\", \"Shop c\\u1ea3m \\u01a1n b\\u1ea1n!\", \"agree\", null, \"utter_agree\"], [\"shop \\u01a1i\", \"Ch\\u00e0o b\\u1ea1n, m\\u00ecnh l\\u00e0 tr\\u1ee3 l\\u00fd \\u1ea3o c\\u1ee7a Shop G\\u1ea5u & B\\u00ed Ng\\u00f4,-<br>\", \"greet\", null, \"utter_greet\"], [\"url\", \"B\\u1ea1n \\u0111ang t\\u00ecm ki\\u1ebfm th\\u00f4ng tin g\\u00ec \\u1ea1?\", \"send_link\", \"url\", \"action_handle_send_link_only\"], [\"Ch\\u00f3 n\\u00e0y n\\u00e0y gi\\u00e1 bao nhi\\u00eau v\\u1eady shop\", \"D\\u1ea1, c\\u00f3 ph\\u1ea3i b\\u1ea1n mu\\u1ed1n h\\u1ecfi m\\u1ed9t trong c\\u00e1c s\\u1ea3n ph\\u1ea9m d\\u01b0-<br>\", \"query_knowledge_base\", \"['attribute:price']\", \"action_query_babe_kb\"], [\"H\\u1ebft h\\u00e0ng r\\u1ed3i h\\u1ea3 shop\", \"M\\u00ecnh ch\\u01b0a r\\u00f5 m\\u00f3n \\u0111\\u1ed3 b\\u1ea1n h\\u1ecfi, n\\u1ebfu c\\u00f3 trong danh s\\u00e1c-<br>\", \"query_knowledge_base\", \"[]\", \"action_query_babe_kb\"], [\"/query_knowledge_base{\\\"url\\\": \\\"https://shopee.vn/pr-<br> oduct/36371562/3103025341\\\", \\\"product_id\\\": \\\"https:/-<br>\", \"D\\u1ea1, s\\u1ea3n ph\\u1ea9m hi\\u1ec7n t\\u1ea1i b\\u00ean shop \\u0111ang t\\u1ea1m h\\u1ebft h\\u00e0ng \\u1ea1-<br> . B\\u1ea1n tham kh\\u1ea3o c\\u00e1c s\\u1ea3n ph\\u1ea9m kh\\u00e1c d\\u00e0nh cho b\\u00e9 nh\\u00e9!-<br>\", \"query_knowledge_base\", \"['url:https://shopee.vn/product/36371562/3103025341', 'product_id:https://shopee.vn/product/36371562/3103025341']\", \"action_query_babe_kb\"], [\"url\", \"C\\u1ea3m \\u01a1n b\\u1ea1n, nh\\u00e2n vi\\u00ean c\\u1ee7a shop s\\u1ebd x\\u00e1c nh\\u1eadn s\\u1edbm l\\u1ea1i-<br>\", \"confirm_transfer\", \"url\", \"confirm_transfer\"], [\"Shop em o dau\", \"\\u0110\\u1ecba ch\\u1ec9 shop \\u1edf : s\\u1ed1 16 ng\\u00f5 124 \\u00c2u C\\u01a1, T\\u1ee9 li\\u00ean , T\\u00e2-<br>\", \"ask_address\", \"[]\", \"action_ask_address\"], [\"B \\u01a1i k\\u1ec7 s\\u1eafp v\\u1ec1 ch\\u01b0a b\", \"D\\u1ea1 b\\u1ea1n mu\\u1ed1n h\\u1ecfi s\\u1ea3n ph\\u1ea9m n\\u00e0o trong c\\u00e1c s\\u1ea3n ph\\u1ea9m d\\u01b0-<br>\", \"query_knowledge_base\", \"['object_type:ke']\", \"action_query_babe_kb\"], [\"shop \\u01a1i\", \"Ch\\u00e0o b\\u1ea1n, m\\u00ecnh l\\u00e0 tr\\u1ee3 l\\u00fd \\u1ea3o c\\u1ee7a Shop G\\u1ea5u & B\\u00ed Ng\\u00f4,-<br>\", \"greet\", null, \"utter_greet\"], [\"url\", \"B\\u1ea1n \\u0111ang t\\u00ecm ki\\u1ebfm th\\u00f4ng tin g\\u00ec \\u1ea1?\", \"send_link\", \"url\", \"action_handle_send_link_only\"], [\"Cho e gi\\u00e1 nh\\u00e9\", \"S\\u1ea3n ph\\u1ea9m B\\u1ed9 \\u0111\\u1ed3 ch\\u01a1i nh\\u00e0 b\\u1ebfp th\\u00f4ng minh c\\u00f3 gi\\u00e1: 490-<br> .000 - 790.000 t\\u00f9y m\\u1eabu m\\u00e3 (k\\u00edch th\\u01b0\\u1edbc, m\\u00e0u s\\u1eafc...)-<br> .\\nB\\u1ea1n tham kh\\u1ea3o c\\u00e1c s\\u1ea3n ph\\u1ea9m sau nh\\u00e9 \\u1ea1:\\n<Show card-<br>\", \"query_knowledge_base\", \"['attribute:price']\", \"action_query_babe_kb\"], [\"url\", \"B\\u1ea1n \\u0111ang t\\u00ecm ki\\u1ebfm th\\u00f4ng tin g\\u00ec \\u1ea1?\", \"send_link\", \"url\", \"action_handle_send_link_only\"], [\"B\\u1ed9 n\\u00e0y gi\\u00e2 bn \\u1ea1 shop\", \"\\\"D\\u1ea1, c\\u00f3 ph\\u1ea3i b\\u1ea1n mu\\u1ed1n h\\u1ecfi m\\u1ed9t trong c\\u00e1c s\\u1ea3n ph\\u1ea9m d-<br> \\u01b0\\u1edbi \\u0111\\u00e2y kh\\u00f4ng \\u1ea1?\\n (Vui l\\u00f2ng \\u1ea5n ch\\u1ecdn 1 s\\u1ea3n ph\\u1ea9m)...-<br>\", \"query_knowledge_base\", \"['mention:b\\u1ed9 n\\u00e0y', 'attribute:price']\", \"action_query_babe_kb\"], [\"Lo\\u1ea1i n\\u00e0y bn v\\u1eady b\\u1ea1n\", \"M\\u00ecnh ch\\u01b0a x\\u00e1c \\u0111\\u1ecbnh \\u0111\\u01b0\\u1ee3c m\\u00f3n \\u0111\\u1ed3 b\\u1ea1n h\\u1ecfi, b\\u1ea1n m\\u00f4 t\\u1ea3 -<br>\", \"query_knowledge_base\", \"['mention:lo\\u1ea1i n\\u00e0y', 'attribute:price']\", \"action_query_babe_kb\"], [\"url\", \"S\\u1ea3n ph\\u1ea9m  B\\u1ea2NG V\\u1ebc HOLLA 2 in 1  hi\\u1ec7n shop \\u0111ang c\\u00f3 -<br> gi\\u00e1: 830,000 VND (gi\\u00e1 g\\u1ed1c 1,090,000 VND).\\nB\\u1ea1n tham-<br>\", \"send_link\", \"url\", \"action_query_babe_kb\"], [\"C\\u00f3 nh\\u1eefng m\\u00e0u g\\u00ec \\u1ea1 ?\", \"D\\u1ea1, B\\u1ea2NG V\\u1ebc HOLLA 2 in 1 hi\\u1ec7n c\\u00f3 c\\u00e1c m\\u00e0u: H\\u1ed3ng, Xa-<br>\", \"query_knowledge_base\", \"['attribute:color']\", \"action_query_babe_kb\"], [\"\\u0110\\u1ec3 m\\u00ecnh tham kh\\u1ea3o th\\u00eam , c\\u00f3 g\\u00ec m\\u00ecnh b\\u00e1o s\\u1edbm\", null, \"handover_to_inbox\", null, \"action_handover_to_inbox\"], [\"Shop c\\u00f3 gh\\u1ebf nh\\u00fan k b\", \"S\\u1ea3n ph\\u1ea9m Gh\\u1ebf nh\\u00fan hi\\u1ec7n shop \\u0111ang c\\u00f3 c\\u00e1c s\\u1ea3n ph\\u1ea9m s-<br> au \\u1ea1:\\r\\n<show card c\\u00e1c s\\u1ea3n ph\\u1ea9m object_type ghe_nhu-<br>\", \"query_knowledge_base\", \"['object_type:ghe_nhun']\", \"action_query_babe_kb\"], [\"Shop \\u01a1i\", \"Ch\\u00e0o b\\u1ea1n, m\\u00ecnh l\\u00e0 tr\\u1ee3 l\\u00fd \\u1ea3o c\\u1ee7a Shop G\\u1ea5u & B\\u00ed Ng\\u00f4,-<br>\", \"greet\", \"[]\", \"utter_greet\"], [\"M\\u00ecnh mua b\\u1ed9 \\u0111\\u1ed3 ch\\u01a1i n\\u1ea5u \\u0103n cho b\\u00e9\\nHappy little che-<br>\", \"S\\u1ea3n ph\\u1ea9m \\u0110\\u1ed3 ch\\u01a1i n\\u1ea5u \\u0103n hi\\u1ec7n shop \\u0111ang c\\u00f3 c\\u00e1c s\\u1ea3n -<br> ph\\u1ea9m sau \\u1ea1:\\n<show card c\\u00e1c s\\u1ea3n ph\\u1ea9m object_type do-<br>\", \"query_knowledge_base\", \"['object_type:do_choi_nau_an']\", \"action_query_babe_kb\"], [\"ok \\u1ea1\", \"V\\u00e2ng \\u1ea1!\", \"agree\", null, \"utter_agree\"], [\"Shop \\u01a1i\", \"Ch\\u00e0o b\\u1ea1n, m\\u00ecnh l\\u00e0 tr\\u1ee3 l\\u00fd \\u1ea3o c\\u1ee7a Shop G\\u1ea5u & B\\u00ed Ng\\u00f4,-<br>\", \"greet\", \"[]\", \"utter_greet\"], [\"C\\u00e1i thanh ch\\u1eafn c\\u1ea7u thang gi\\u00e1 bn v\\u1eady b\\u1ea1n\", \"S\\u1ea3n ph\\u1ea9m Thanh n\\u1ed1i ch\\u1eb7n hi\\u1ec7n shop \\u0111ang c\\u00f3 c\\u00e1c s\\u1ea3n -<br> ph\\u1ea9m sau \\u1ea1:\\n<show card c\\u00e1c s\\u1ea3n ph\\u1ea9m object_type th-<br>\", \"query_knowledge_base\", \"['object_type:thanh_noi_chan','attribute:price']\", \"action_query_babe_kb\"], [\"ok \\u1ea1\", \"V\\u00e2ng \\u1ea1!\", \"agree\", null, \"utter_agree\"], [\"g\\u1eedi \\u1ea3nh gi\\u00fap c \\u0111c ko\", \"M\\u00ecnh ch\\u01b0a x\\u00e1c \\u0111\\u1ecbnh \\u0111\\u01b0\\u1ee3c m\\u00f3n \\u0111\\u1ed3 b\\u1ea1n h\\u1ecfi, b\\u1ea1n m\\u00f4 t\\u1ea3 -<br>\", \"query_knowledge_base\", \"['attribute:image']\", \"action_query_babe_kb\"], [\"m c\\u1ea7n t\\u00ecm gh\\u1ebf \\u0103n cho b\\u00e9\", \"S\\u1ea3n ph\\u1ea9m Gh\\u1ebf \\u0102n hi\\u1ec7n shop \\u0111ang c\\u00f3 c\\u00e1c m\\u1ee9c gi\\u00e1 sau -<br>\", \"query_knowledge_base\", \"['object_type:ghe_an']\", \"action_query_babe_kb\"], [\"Ch\\u00e0o shop\", \"Ch\\u00e0o b\\u1ea1n, m\\u00ecnh l\\u00e0 tr\\u1ee3 l\\u00fd \\u1ea3o c\\u1ee7a Shop G\\u1ea5u & B\\u00ed Ng\\u00f4,-<br>\", \"greet\", \"[]\", \"utter_greet\"], [\"Cho  m\\u00ecnh xin gi\\u00e1 m\\u00e1y pha s\\u1eefa b\\u00ean shop nh\\u00e9 \\u1ea1\", \"S\\u1ea3n ph\\u1ea9m  M\\u00e1y pha s\\u1eefa cao c\\u1ea5p Tiny Baby Formula (N-<br> h\\u1eadt B\\u1ea3n)  hi\\u1ec7n shop \\u0111ang c\\u00f3 gi\\u00e1: *3,530,000 VND (g-<br> i\\u00e1 g\\u1ed1c 3,850,000 VND)*.\\nB\\u1ea1n tham kh\\u1ea3o c\\u00e1c s\\u1ea3n ph\\u1ea9m-<br>\", \"query_knowledge_base\", \"['attribute:price', 'object_type:may_pha_sua']\", \"action_query_babe_kb\"], [\"Ch\\u00e0o shop\", \"Ch\\u00e0o b\\u1ea1n, m\\u00ecnh l\\u00e0 tr\\u1ee3 l\\u00fd \\u1ea3o c\\u1ee7a Shop G\\u1ea5u & B\\u00ed Ng\\u00f4,-<br>\", \"greet\", \"[]\", \"utter_greet\"], [\"Shop cho h\\u1ecfi c\\u00f3 b\\u00e1n gh\\u1ebf \\u0103n d\\u1eb7m cho tr\\u1ebb con kh\\u00f4ng\", \"Hi\\u1ec7n t\\u1ea1i s\\u1ea3n ph\\u1ea9m Gh\\u1ebf \\u0102n  shop \\u0111ang c\\u00f3 nh\\u1eefng *gi\\u00e1*-<br>\", \"query_knowledge_base\", \"['object_type:ghe_an']\", \"action_query_babe_kb\"], [\"/confirm_attribute_value{\\\"price\\\": \\\"500k - 1M\\\"}\", \"D\\u1ea1 m\\u1eddi b\\u1ea1n tham kh\\u1ea3o s\\u1ea3n ph\\u1ea9m hi\\u1ec7n c\\u00f3 t\\u1ea1i shop nh\\u00e9-<br>\", \"confirm_attribute_value\", \"['price:500k - 1M']\", \"action_query_babe_kb\"], [\"T\\u00f4i mu\\u1ed1n mua lo\\u1ea1i 799k\", \"S\\u1ea3n ph\\u1ea9m  Gh\\u1ebf \\u0103n \\u0111a n\\u0103ng k\\u1ebft h\\u1ee3p xe k\\u00e9o MASTELA 10-<br> 18 CH\\u00cdNH H\\u00c3NG gi\\u00e1 799k hi\\u1ec7n shop \\u0111ang c\\u00f3 gi\\u00e1: *799-<br> ,000 VND (gi\\u00e1 g\\u1ed1c 1,300,000 VND)*.\\nB\\u1ea1n tham kh\\u1ea3o c-<br>\", \"query_knowledge_base\", \"['price:799k']\", \"action_query_babe_kb\"], [\"C\\u00e1i n\\u00e0y 30kg c\\u00f3 ng\\u1ed3i \\u0111\\u01b0\\u1ee3c ko\", \"S\\u1ea3n ph\\u1ea9m  Gh\\u1ebf \\u0103n \\u0111a n\\u0103ng k\\u1ebft h\\u1ee3p xe k\\u00e9o MASTELA 10-<br> 18 CH\\u00cdNH H\\u00c3NG c\\u00f3 tr\\u1ecdng t\\u1ea3i: 13kg \\u1ea1\\nB\\u1ea1n tham kh\\u1ea3o c-<br>\", \"query_knowledge_base\", \"['mention:c\\u00e1i n\\u00e0y', 'capacity:30kg']\", \"action_query_babe_kb\"], [\"ok shop\", \"V\\u00e2ng \\u1ea1!\", \"agree\", null, \"utter_agree\"], [\"C\\u00f3 freeship k an\\n\\u1ea0\\nShip hcm\", \"D\\u1ea1 b\\u1ea1n vui l\\u00f2ng ch\\u1edd trong v\\u00e0i ph\\u00fat, nh\\u00e2n vi\\u00ean s\\u1ebd t-<br>\", \"handover_to_inbox\", \"[]\", \"action_handover_to_inbox\"], [\"D\\u1ea1,bao l\\u00e2u th\\u00ec bi\\u1ebft \\u0111c m\\u00ecnh c\\u00f3 \\u0111c nh\\u1eadn q\\u00e0 hay k \\u1ea1\", \"D\\u1ea1 b\\u1ea1n vui l\\u00f2ng ch\\u1edd trong v\\u00e0i ph\\u00fat, nh\\u00e2n vi\\u00ean s\\u1ebd t-<br>\", \"handover_to_inbox\", \"[]\", \"action_handover_to_inbox\"], [\"url\", \"S\\u1ea3n ph\\u1ea9m B\\u1ed9 \\u0111\\u1ed3 ch\\u01a1i nh\\u00e0 b\\u1ebfp th\\u00f4ng minh hi\\u1ec7n shop \\u0111-<br> ang c\\u00f3 gi\\u00e1: 790000 VND (gi\\u00e1 g\\u1ed1c 790000 VND). B\\u1ea1n t-<br> ham kh\\u1ea3o c\\u00e1c s\\u1ea3n ph\\u1ea9m sau nh\\u00e9 \\u1ea1:\\n<show card sp>\\n\\nS-<br> \\u1ea3n ph\\u1ea9m Xe ch\\u00f2i ch\\u00e2n ki\\u00eam xe l\\u1eafc cao c\\u1ea5p c\\u00f3 nh\\u1ea1c H-<br> olla hi\\u1ec7n shop \\u0111ang c\\u00f3 gi\\u00e1: *790,000 VND (gi\\u00e1 g\\u1ed1c -<br> 1,200,000 VND)*.\\nB\\u1ea1n tham kh\\u1ea3o c\\u00e1c s\\u1ea3n ph\\u1ea9m sau nh-<br>\", \"query_knowledge_base\", \"url\", \"action_query_babe_kb\"], [\"ok shop\", \"V\\u00e2ng \\u1ea1!\", \"agree\", null, \"utter_agree\"], [\"B\\u00e0n n\\u00e0y g\\u1eadp g\\u1ecdn v\\u00e0o dc ko b\\u1ea1n?\", \"D\\u1ea1, b\\u1ea1n vui l\\u00f2ng xem h\\u01b0\\u1edbng d\\u1eabn s\\u1eed d\\u1ee5ng s\\u1ea3n ph\\u1ea9m t\\u1ea1-<br> i \\u0111\\u00e2y \\u1ea1\\n<show video h\\u01b0\\u1edbng d\\u1eabn s\\u1eed d\\u1ee5ng trong shopee-<br>\", \"query_knowledge_base\", \"['mention:b\\u00e0n n\\u00e0y','attribute:video']\", \"action_query_babe_kb\"], [\"url\", \"S\\u1ea3n ph\\u1ea9m  Xe t\\u1eadp \\u0111i \\u0111a n\\u0103ng cao c\\u1ea5p Holla hi\\u1ec7n sho-<br> p \\u0111ang c\\u00f3 gi\\u00e1: 1200.000 VND\\nB\\u1ea1n tham kh\\u1ea3o c\\u00e1c s\\u1ea3n -<br>\", \"query_knowledge_base\", \"url\", \"action_query_babe_kb\"], [\"C\\u1ea3m \\u01a1n shop\", \"C\\u1ea3m \\u01a1n b\\u1ea1n!\", \"thank\", \"[]\", \"utter_thank\"], [\"Shop ship cho em 1 chi\\u1ebfc xe \\u0111\\u1ea9y Holla m\\u00e0u xanh nh\\u00e9-<br>\", \"{C\\u00e1c c\\u00e2u h\\u1ecfi bot c\\u00f3 th\\u1ec3 h\\u1ecfi \\u0111\\u1ec3 \\u0111\\u1ee7 th\\u00f4ng tin:}\\r\\n- D-<br> \\u1ea1 b\\u1ea1n mu\\u1ed1n \\u0111\\u1eb7t s\\u1ea3n ph\\u1ea9m n\\u00e0o \\u1ea1?\\r\\n- B\\u1ea1n mu\\u1ed1n \\u0111\\u1eb7t s\\u1ed1 -<br> l\\u01b0\\u1ee3ng bao nhi\\u00eau? + 5 button t\\u1eeb 1 \\u0111\\u1ebfn 5\\r\\n- S\\u1ed1 \\u0111i\\u1ec7n -<br> tho\\u1ea1i ng\\u01b0\\u1eddi nh\\u1eadn?\\r\\n- \\u0110\\u1ecba ch\\u1ec9 nh\\u1eadn h\\u00e0ng? (S\\u1ed1 nh\\u00e0, p-<br> h\\u01b0\\u1eddng/x\\u00e3, qu\\u1eadn/huy\\u1ec7n, t\\u1ec9nh/th\\u00e0nh ph\\u1ed1)\\r\\n- B\\u1ea1n c\\u00f3 l\\u01b0-<br> u \\u00fd g\\u00ec cho b\\u00ean v\\u1eadn chuy\\u1ec3n kh\\u00f4ng? (vd: c\\u1ea7n g\\u1ea5p...)\\r-<br> \\n\\r\\n{N\\u1ebfu \\u0111\\u00e3 \\u0111\\u1ee7 th\\u00f4ng tin s\\u1ebd show ra} \\u0110\\u01a1n h\\u00e0ng c\\u1ee7a b-<br>\", \"query_knowledge_base\", \"['object_type:xe_day', 'brand:holla', 'color:m\\u00e0u xanh']\", \"action_query_babe_kb\"], [\"Shop \\u01a1i\", \"Ch\\u00e0o b\\u1ea1n, m\\u00ecnh l\\u00e0 tr\\u1ee3 l\\u00fd \\u1ea3o c\\u1ee7a Shop G\\u1ea5u & B\\u00ed Ng\\u00f4,-<br>\", \"greet\", \"[]\", \"utter_greet\"], [\"E ch\\u00e0o shop\\nE xin gi\\u00e1 xe \\u0111\\u1ea9y v\\u1edbi \\u1ea1\", \"Hi\\u1ec7n t\\u1ea1i s\\u1ea3n ph\\u1ea9m Xe \\u0110\\u1ea9y  shop \\u0111ang c\\u00f3 nh\\u1eefng *gi\\u00e1*-<br>\", \"query_knowledge_base\", \"['attribute:price', 'object_type:xe_day']\", \"action_query_babe_kb\"], [\"E qu\\u00ean \\u1ea1\\nXe tr\\u00f2n t\\u1eadp \\u0111i \\u1ea5y \\u1ea1\", \"Hi\\u1ec7n t\\u1ea1i s\\u1ea3n ph\\u1ea9m Xe T\\u1eadp \\u0110i  shop \\u0111ang c\\u00f3 nh\\u1eefng *g-<br>\", \"query_knowledge_base\", \"['object_type:xe_tap_di']\", \"action_query_babe_kb\"], [\"url\", \"B\\u1ea1n \\u0111ang t\\u00ecm ki\\u1ebfm th\\u00f4ng tin g\\u00ec \\u1ea1?\", \"send_link\", \"url\", \"action_handle_send_link_only\"], [\"Gi\\u00e1 ti\\u1ec1n ban \\u01a1i\", \"S\\u1ea3n ph\\u1ea9m Qu\\u00e2y HOLLA FULL PHI\\u00caN B\\u1ea2N 2020 M\\u1eaaU V\\u01af\\u01a0NG -<br> MI\\u1ec6N hi\\u1ec7n shop \\u0111ang c\\u00f3 gi\\u00e1: 4190.000 VND\\nB\\u1ea1n tham -<br>\", \"query_knowledge_base\", \"['attribute:price']\", \"action_query_babe_kb\"], [\"Thanks b nh\\u00e9\", \"C\\u1ea3m \\u01a1n b\\u1ea1n!\", \"thank\", \"[]\", \"utter_thank\"], [\"Ch\\u00e0o shop\", \"Ch\\u00e0o b\\u1ea1n, m\\u00ecnh l\\u00e0 tr\\u1ee3 l\\u00fd \\u1ea3o c\\u1ee7a Shop G\\u1ea5u & B\\u00ed Ng\\u00f4,-<br>\", \"greet\", \"[]\", \"utter_greet\"], [\"\\u0110\\u1ed3 eco c\\u00f2mybaby h\\u1ebft lo\\u1ea1i 6-9m h\\u1ea3 ch\\u1ecb\", \"D\\u1ea1, v\\u1ea5n \\u0111\\u1ec1 n\\u00e0y m\\u00ecnh kh\\u00f4ng h\\u1ed7 tr\\u1ee3 b\\u1ea1n \\u0111\\u01b0\\u1ee3c. B\\u1ea1n vui-<br>  l\\u00f2ng b\\u1ea5m \\\"Chat v\\u1edbi nh\\u00e2n vi\\u00ean\\\" v\\u00e0 ch\\u1edd trong gi\\u00e2y l-<br> \\u00e1t, nh\\u00e2n vi\\u00ean s\\u1ebd tr\\u1ea3 l\\u1eddi b\\u1ea1n s\\u1edbm nh\\u1ea5t c\\u00f3 th\\u1ec3 \\u1ea1. \\n(-<br>\", \"query_knowledge_base\", \"['object_type:quan_ao']['size:6-9m']\", \"action_query_babe_kb\"], [\"/connect_employee\", null, \"handover_to_inbox\", \"[]\", \"action_handover_to_inbox\"], [\"Okie b\\u1ea1n\\nB\\u1ea1n cho t\\u1edb t\\u1ed5ng ti\\u1ec1n nh\\u00e9\", \"D\\u1ea1, v\\u1ea5n \\u0111\\u1ec1 n\\u00e0y m\\u00ecnh kh\\u00f4ng h\\u1ed7 tr\\u1ee3 b\\u1ea1n \\u0111\\u01b0\\u1ee3c. B\\u1ea1n vui-<br>  l\\u00f2ng b\\u1ea5m \\\"Chat v\\u1edbi nh\\u00e2n vi\\u00ean\\\" v\\u00e0 ch\\u1edd trong gi\\u00e2y l-<br> \\u00e1t, nh\\u00e2n vi\\u00ean s\\u1ebd tr\\u1ea3 l\\u1eddi b\\u1ea1n s\\u1edbm nh\\u1ea5t c\\u00f3 th\\u1ec3 \\u1ea1. \\n(-<br>\", \"handover_to_inbox\", \"[]\", \"action_handover_to_inbox\"], [\"url\", \"S\\u1ea3n ph\\u1ea9m Xe ch\\u00f2i ch\\u00e2n ki\\u00eam xe l\\u1eafc cao c\\u1ea5p c\\u00f3 nh\\u1ea1c -<br> Holla hi\\u1ec7n shop \\u0111ang c\\u00f3 gi\\u00e1: *790,000 VND (gi\\u00e1 g\\u1ed1c-<br>  1,200,000 VND)*.\\nB\\u1ea1n tham kh\\u1ea3o c\\u00e1c s\\u1ea3n ph\\u1ea9m sau n-<br> h\\u00e9 \\u1ea1:\\n<show card sp>\\nS\\u1ea3n ph\\u1ea9m Voi m\\u1eb9 phun n\\u01b0\\u1edbc hi\\u1ec7-<br> n shop \\u0111ang c\\u00f3 gi\\u00e1: *189,000 VND (gi\\u00e1 g\\u1ed1c 290,000 -<br> VND)*.\\nB\\u1ea1n tham kh\\u1ea3o c\\u00e1c s\\u1ea3n ph\\u1ea9m sau nh\\u00e9 \\u1ea1:\\n<show-<br>  card sp>\\nS\\u1ea3n ph\\u1ea9m  Xe t\\u1eadp \\u0111i \\u0111a n\\u0103ng cao c\\u1ea5p Holl-<br> a hi\\u1ec7n shop \\u0111ang c\\u00f3 gi\\u00e1: *750,000 VND (gi\\u00e1 g\\u1ed1c 1,2-<br> 00,000 VND)*.\\nB\\u1ea1n tham kh\\u1ea3o c\\u00e1c s\\u1ea3n ph\\u1ea9m sau nh\\u00e9 \\u1ea1-<br>\", \"query_knowledge_base\", \"url\", \"action_query_babe_kb\"], [\"url\", \"S\\u1ea3n ph\\u1ea9m Xe ch\\u00f2i ch\\u00e2n ki\\u00eam xe l\\u1eafc cao c\\u1ea5p c\\u00f3 nh\\u1ea1c -<br> Holla hi\\u1ec7n shop \\u0111ang c\\u00f3 gi\\u00e1: *790,000 VND (gi\\u00e1 g\\u1ed1c-<br>  1,200,000 VND)*.\\r\\nB\\u1ea1n tham kh\\u1ea3o c\\u00e1c s\\u1ea3n ph\\u1ea9m sau -<br>\", \"query_knowledge_base\", \"url\", \"action_query_babe_kb\"], [\"ok \\u1ea1\", \"V\\u00e2ng \\u1ea1!\", \"agree\", null, \"utter_agree\"], [\"Xe nadle c\\u00f3 tay \\u0111\\u1ea9y ko b\", \"D\\u1ea1, v\\u1ea5n \\u0111\\u1ec1 n\\u00e0y m\\u00ecnh kh\\u00f4ng h\\u1ed7 tr\\u1ee3 b\\u1ea1n \\u0111\\u01b0\\u1ee3c. B\\u1ea1n vui-<br>  l\\u00f2ng b\\u1ea5m \\\"Chat v\\u1edbi nh\\u00e2n vi\\u00ean\\\" v\\u00e0 ch\\u1edd trong gi\\u00e2y l-<br> \\u00e1t, nh\\u00e2n vi\\u00ean s\\u1ebd tr\\u1ea3 l\\u1eddi b\\u1ea1n s\\u1edbm nh\\u1ea5t c\\u00f3 th\\u1ec3 \\u1ea1. \\n(-<br>\", \"query_knowledge_base\", \"['brand:nadle','accessories:tay \\u0111\\u1ea9y']\", \"action_query_babe_kb\"], [\"/connect_employee\", null, \"handover_to_inbox\", \"[]\", \"action_handover_to_inbox\"], [\"Cho m\\u00ecnh link shoppe\", \"D\\u1ea1 b\\u1ea1n c\\u1ea7n xin link shopee c\\u1ee7a shop hay c\\u1ee7a s\\u1ea3n ph-<br>\", \"query_knowledge_base\", \"['attribute:link']\", \"action_query_babe_kb\"], [\"Xe l\\u1eafc \\u0111\\u00f3 b\", \"D\\u1ea1 m\\u1eddi b\\u1ea1n xem s\\u1ea3n ph\\u1ea9m t\\u1ea1i \\u0111\\u00e2y \\u1ea1:\\n- Link Shopee: -<br>\", \"query_knowledge_base\", \"['object_type: xe_tap_di','attribute:link']\", \"action_query_babe_kb\"], [\"Ch\\u00e0o ad. Cho t\\u1edb h\\u1ecfi m\\u00ecnh c\\u00f2n th\\u1ea3m x\\u1ed1p Infantino 28-<br>\", \"S\\u1ea3n ph\\u1ea9m  Th\\u1ea3m h\\u00e3ng s\\u1ea3n xu\\u1ea5t Infantino, ch\\u1ea5t li\\u1ec7u -<br> X\\u1ed1p 28 mi\\u1ebfng hi\\u1ec7n shop c\\u00f2n h\\u00e0ng, shop \\u0111ang c\\u00f3 gi\\u00e1:-<br>  *99,000 VND (gi\\u00e1 g\\u1ed1c 99,000 VND), 279,000 VND (gi-<br> \\u00e1 g\\u1ed1c 349,000 VND), 179,000 VND (gi\\u00e1 g\\u1ed1c 179,000 V-<br>\", \"query_knowledge_base\", \"['object_type:tham', 'material:x\\u1ed1p', 'brand:infantino','number of pieces:28 mi\\u1ebfng']\", \"action_query_babe_kb\"], [\"Lo\\u1ea1i 28 mi\\u1ebfng c\\u00f3 nh\\u1eefng m\\u00e0u g\\u00ec h\\u1ea3 ad? Hay ch\\u1ec9 c\\u00f3 1 -<br>\", \"S\\u1ea3n ph\\u1ea9m  Th\\u1ea3m h\\u00e3ng s\\u1ea3n xu\\u1ea5t Infantino, ch\\u1ea5t li\\u1ec7u -<br> X\\u1ed1p 28 mi\\u1ebfng hi\\u1ec7n shop \\u0111ang c\\u00f3 m\\u00e0u: *Xanh, H\\u1ed3ng*.\\n-<br>\", \"query_knowledge_base\", \"['attribute:color', 'attribute:color']\", \"action_query_babe_kb\"], [\"Oki t\\u1edb c\\u1ea3m \\u01a1n nhi\\u1ec1u nh\\u00e9!\", \"C\\u1ea3m \\u01a1n b\\u1ea1n!\", \"thank\", \"[]\", \"utter_thank\"], [\"Shop \\u0111\\u00e3 v\\u1ec1 x\\u00edch \\u0111u & c\\u1ea7u tr\\u01b0\\u1ee3t holla ch\\u01b0a \\u1ea1\", \"S\\u1ea3n ph\\u1ea9m  C\\u1ea7u tr\\u01b0\\u1ee3t x\\u00edch \\u0111u Hola h\\u1ea3i c\\u1ea9u 2020 h\\u00e3ng-<br>  s\\u1ea3n xu\\u1ea5t Holla hi\\u1ec7n shop \\u0111ang c\\u00f3 gi\\u00e1: *1,982,500 -<br> VND (gi\\u00e1 g\\u1ed1c 3,250,000 VND)*.\\nB\\u1ea1n tham kh\\u1ea3o c\\u00e1c s\\u1ea3-<br>\", \"query_knowledge_base\", \"['object_type:cau_truot', object_type:xich_du', 'brand:holla']\", \"action_query_babe_kb\"], [\"X\\u00edch \\u0111u shop c\\u00f2n m\\u00e0u g\\u00ec \\u1ea1\", \"S\\u1ea3n ph\\u1ea9m  C\\u1ea7u tr\\u01b0\\u1ee3t x\\u00edch \\u0111u Hola h\\u1ea3i c\\u1ea9u 2020 h\\u00e3ng-<br>  s\\u1ea3n xu\\u1ea5t Holla hi\\u1ec7n shop \\u0111ang c\\u00f3 m\\u00e0u: *V\\u00e0ng, H\\u1ed3ng-<br>\", \"query_knowledge_base\", \"['object_type:xich_du','attribute:color']\", \"action_query_babe_kb\"], [\"Shop \\u0111\\u00e3 v\\u1ec1 x\\u00edch \\u0111u & c\\u1ea7u tr\\u01b0\\u1ee3t holla ch\\u01b0a \\u1ea1\", \"M\\u1eddi b\\u1ea1n tham kh\\u1ea3o c\\u00e1c s\\u1ea3n ph\\u1ea9m C\\u1ea7u tr\\u01b0\\u1ee3t, X\\u00edch \\u0111u,-<br>  nh\\u00e3n hi\\u1ec7u Holla \\u0111ang c\\u00f3 t\\u1ea1i shop \\u1ea1:\\n<show card c\\u00e1-<br>\", \"query_knowledge_base\", \"['object_type:cau_truot', object_type:xich_du', 'brand:holla']\", \"action_query_babe_kb\"], [\"X\\u00edch \\u0111u shop c\\u00f2n m\\u00e0u g\\u00ec \\u1ea1\", \"S\\u1ea3n ph\\u1ea9m X\\u00edch \\u0111u nh\\u00e3n hi\\u1ec7u Holla \\u0111ang c\\u00f3 c\\u00e1c m\\u00e0u s-<br>\", \"query_knowledge_base\", \"['object_type:xich_du','attribute:color']\", \"action_query_babe_kb\"], [\"ok shop\", \"V\\u00e2ng \\u1ea1!\", \"agree\", null, \"utter_agree\"], [\"url\", \"S\\u1ea3n ph\\u1ea9m n\\u00e0y hi\\u1ec7n t\\u1ea1i Shop kh\\u00f4ng c\\u00f3, m\\u1eddi b\\u1ea1n tham -<br> kh\\u1ea3o c\\u00e1c Gi\\u01b0\\u1eddng \\u0111ang c\\u00f3 t\\u1ea1i shop \\u1ea1:\\n<Show card Gi\\u01b0-<br>\", \"query_knowledge_base\", \"url\", \"action_query_babe_kb\"], [\"b\\u1ed9 bang lego thi bao nhieu\", \"M\\u00ecnh ch\\u01b0a x\\u00e1c \\u0111\\u1ecbnh \\u0111\\u01b0\\u1ee3c m\\u00f3n \\u0111\\u1ed3 b\\u1ea1n h\\u1ecfi, b\\u1ea1n m\\u00f4 t\\u1ea3 -<br>\", \"query_knowledge_base\", \"['attribute:price']\", \"action_query_babe_kb\"], [\"b\\u00e0n lego ah\", \"S\\u1ea3n ph\\u1ea9m B\\u00e0n Lego hi\\u1ec7n \\u0111ang c\\u00f3 gi\\u00e1: 1.035.000 VN\\u0110 -<br> (Gi\\u00e1 g\\u1ed1c: 1.750.000 VN\\u0110), 1.050.000VN\\u0110 (Gi\\u00e1 g\\u1ed1c: 1-<br>\", \"query_knowledge_base\", \"['object_type:ban_lego']\", \"action_query_babe_kb\"], [\"b\\u1ed9 b\\u00e0n lego thi bao nhieu\", \"S\\u1ea3n ph\\u1ea9m B\\u00e0n Lego hi\\u1ec7n \\u0111ang c\\u00f3 gi\\u00e1: 1.035.000 VN\\u0110 -<br> (Gi\\u00e1 g\\u1ed1c: 1.750.000 VN\\u0110), 1.050.000VN\\u0110 (Gi\\u00e1 g\\u1ed1c: 1-<br>\", \"query_knowledge_base\", \"['attribute:price', 'object_type:ban_lego']\", \"action_query_babe_kb\"], [\"thank b nh\\u00e9\", \"Shop c\\u1ea3m \\u01a1n b\\u1ea1n \\u1ea1\", \"thank\", \"[]\", \"utter thank\"], [\"shop \\u01a1i\", \"Ch\\u00e0o b\\u1ea1n, m\\u00ecnh l\\u00e0 tr\\u1ee3 l\\u00fd \\u1ea3o c\\u1ee7a Shop G\\u1ea5u & B\\u00ed Ng\\u00f4,-<br>\", \"greet\", null, \"utter_greet\"], [\"Shop c\\u00f3 m\\u00e1y ti\\u1ec7t tr\\u00f9ng uv fatz \\u0111\\u00fang ko \\u1ea1\", \"M\\u1eddi b\\u1ea1n tham kh\\u1ea3o c\\u00e1c s\\u1ea3n ph\\u1ea9m M\\u00e1y ti\\u1ec7t tr\\u00f9ng th\\u01b0\\u01a1-<br> ng hi\\u1ec7u Fatz \\u0111ang c\\u00f3 t\\u1ea1i shop \\u1ea1:\\n<card 1> <card 2>-<br>\", \"query_knowledge_base\", \"['object_type:may_tiet_trung', 'brand:fatz']\", \"action_query_babe_kb\"], [\"shop \\u01a1i\", \"Ch\\u00e0o b\\u1ea1n, m\\u00ecnh l\\u00e0 tr\\u1ee3 l\\u00fd \\u1ea3o c\\u1ee7a Shop G\\u1ea5u & B\\u00ed Ng\\u00f4,-<br>\", \"greet\", null, \"utter_greet\"], [\"url\", \"S\\u1ea3n ph\\u1ea9m T\\u1eb6NG 02 b\\u00ecnh s\\u1eefa cao c\\u1ea5p - M\\u00e1y ti\\u1ec7t tr\\u00f9ng-<br>  s\\u1ea5y kh\\u00f4 tia UV cao c\\u1ea5p Fatz Baby FB4702 hi\\u1ec7n c\\u00f3 g-<br> i\\u00e1: 2.390.000 VN\\u0110 (Gi\\u00e1 g\\u1ed1c: 2.750.000 VN\\u0110).\\n<show -<br>\", \"query_knowledge_base\", \"url\", \"action_query_babe_kb\"], [\"ok shop\", \"D\\u1ea1 v\\u00e2ng \\u1ea1!\", \"agree\", null, \"utter_agree\"], [\"shop \\u01a1i\", \"Ch\\u00e0o b\\u1ea1n, m\\u00ecnh l\\u00e0 tr\\u1ee3 l\\u00fd \\u1ea3o c\\u1ee7a Shop G\\u1ea5u & B\\u00ed Ng\\u00f4,-<br>\", \"greet\", null, \"utter_greet\"], [\"url\", \"D\\u1ea1, c\\u00f3 ph\\u1ea3i b\\u1ea1n mu\\u1ed1n h\\u1ecfi m\\u1ed9t trong c\\u00e1c s\\u1ea3n ph\\u1ea9m d\\u01b0-<br> \\u1edbi \\u0111\\u00e2y kh\\u00f4ng \\u1ea1?\\n (Vui l\\u00f2ng \\u1ea5n ch\\u1ecdn 1 s\\u1ea3n ph\\u1ea9m)\\n\\n<s-<br>\", \"query_knowledge_base\", \"url\", \"action_query_babe_kb\"], [\"/query_knowledge_base{\\\"url\\\": \\\"https://shopee.vn/pr-<br> oduct/36371562/3210697307\\\", \\\"product_id\\\": \\\"https:/-<br>\", \"S\\u1ea3n ph\\u1ea9m T\\u1eb6NG 02 b\\u00ecnh s\\u1eefa cao c\\u1ea5p - M\\u00e1y ti\\u1ec7t tr\\u00f9ng-<br>  s\\u1ea5y kh\\u00f4 tia UV cao c\\u1ea5p Fatz Baby FB4702 hi\\u1ec7n c\\u00f3 g-<br> i\\u00e1: 2.390.000 VN\\u0110 (Gi\\u00e1 g\\u1ed1c: 2.750.000 VN\\u0110).\\r\\n<show-<br>\", \"query_knowledge_base\", \"['url:https://shopee.vn/product/36371562/3210697307', 'product_id:https://shopee.vn/product/36371562/3210697307']\", \"action_query_babe_kb\"], [\"url\", \"B\\u1ea1n \\u0111ang t\\u00ecm ki\\u1ebfm th\\u00f4ng tin g\\u00ec \\u1ea1?\", \"send_link\", \"url\", \"action_handle_send_link_only\"], [\"B\\u1ea1n c\\u00f3 m\\u1eabu ntn ko\\nCho m\\u00ecnh xin th\\u00f4ng s\\u1ed1\", \"S\\u1ea3n ph\\u1ea9m Gh\\u1ebf \\u0111a n\\u0103ng cao c\\u1ea5p Mastela 1015 hi\\u1ec7n c\\u00f3 -<br> gi\\u00e1: 1.320.000 VN\\u0110 (Gi\\u00e1 g\\u1ed1c: 1.599.000 VN\\u0110).\\nM\\u1eddi b-<br> \\u1ea1n xem chi ti\\u1ebft th\\u00f4ng tin s\\u1ea3n ph\\u1ea9m t\\u1ea1i \\u0111\\u01b0\\u1eddng link:-<br>\", \"query_knowledge_base\", \"[]\", \"action_query_babe_kb\"], [\"url\", \"B\\u1ea1n \\u0111ang t\\u00ecm ki\\u1ebfm th\\u00f4ng tin g\\u00ec \\u1ea1?\", \"send_link\", \"url\", \"action_handle_send_link_only\"], [\"B\\u1ea1n c\\u00f3 m\\u1eabu ntn ko\\nCho m\\u00ecnh xin th\\u00f4ng s\\u1ed1\", \"S\\u1ea3n ph\\u1ea9m Gh\\u1ebf \\u0111a n\\u0103ng cao c\\u1ea5p Mastela 1015 hi\\u1ec7n \\u0111an-<br> g h\\u1ebft h\\u00e0ng. M\\u1eddi b\\u1ea1n tham kh\\u1ea3o c\\u00e1c s\\u1ea3n ph\\u1ea9m Gh\\u1ebf \\u0103n -<br>\", \"query_knowledge_base\", \"[]\", \"action_query_babe_kb\"], [\"url\", \"B\\u1ea1n \\u0111ang t\\u00ecm ki\\u1ebfm th\\u00f4ng tin g\\u00ec \\u1ea1?\", \"send_link\", \"url\", \"action_handle_send_link_only\"], [\"B\\u1ea1n c\\u00f3 m\\u1eabu ntn ko\\nCho m\\u00ecnh xin th\\u00f4ng s\\u1ed1\", \"D\\u1ea1, c\\u00f3 ph\\u1ea3i b\\u1ea1n mu\\u1ed1n h\\u1ecfi m\\u1ed9t trong c\\u00e1c s\\u1ea3n ph\\u1ea9m d\\u01b0-<br> \\u1edbi \\u0111\\u00e2y kh\\u00f4ng \\u1ea1?\\n (Vui l\\u00f2ng \\u1ea5n ch\\u1ecdn 1 s\\u1ea3n ph\\u1ea9m)\\n\\n<s-<br>\", \"query_knowledge_base\", \"[]\", \"action_query_babe_kb\"], [\"Ch\\u00e0o shop\", \"Ch\\u00e0o b\\u1ea1n, m\\u00ecnh l\\u00e0 tr\\u1ee3 l\\u00fd \\u1ea3o c\\u1ee7a Shop G\\u1ea5u & B\\u00ed Ng\\u00f4,-<br>\", \"greet\", null, \"utter_greet\"], [\"Hi\\u1ec7n b\\u00ean m\\u00ecnh c\\u00f3 nh\\u1eefng m\\u1eabu th\\u00fa nh\\u00fan n\\u00e0o\", \"S\\u1ea3n ph\\u1ea9m Th\\u00fa nh\\u00fan Toys House hi\\u1ec7n c\\u00f3 gi\\u00e1 239.000 V-<br> N\\u0110 (Gi\\u00e1 g\\u1ed1c: 275.000 VN\\u0110).\\nM\\u1eddi b\\u1ea1n tham kh\\u1ea3o s\\u1ea3n p-<br>\", \"query_knowledge_base\", \"['object_type:thu_nhun']\", \"action_query_babe_kb\"], [\"Ch\\u00e0o shop\", \"Ch\\u00e0o b\\u1ea1n, m\\u00ecnh l\\u00e0 tr\\u1ee3 l\\u00fd \\u1ea3o c\\u1ee7a Shop G\\u1ea5u & B\\u00ed Ng\\u00f4,-<br>\", \"greet\", null, \"utter_greet\"], [\"Hi\\u1ec7n b\\u00ean m\\u00ecnh c\\u00f3 nh\\u1eefng m\\u1eabu th\\u00fa nh\\u00fan n\\u00e0o\", \"S\\u1ea3n ph\\u1ea9m Th\\u00fa nh\\u00fan hi\\u1ec7n shop \\u0111ang c\\u00f3 c\\u00e1c s\\u1ea3n ph\\u1ea9m s-<br> au \\u1ea1:\\n<show card c\\u00e1c s\\u1ea3n ph\\u1ea9m object type thu_nhun-<br>\", \"query_knowledge_base\", \"['object_type:thu_nhun']\", \"action_query_babe_kb\"], [\"ok shop\", \"V\\u00e2ng \\u1ea1!\", \"agree\", null, \"utter_agree\"], [\"url\", \"S\\u1ea3n ph\\u1ea9m B\\u00e0n h\\u1ecdc, b\\u00e0n ch\\u01a1i l\\u1eafp gh\\u00e9p Lego cao c\\u1ea5p h-<br> i\\u1ec7n \\u0111ang c\\u00f3 gi\\u00e1: 1.035.000 VN\\u0110 (Gi\\u00e1 g\\u1ed1c: 1.750.000-<br>  VN\\u0110)\\n<Show card s\\u1ea3n ph\\u1ea9m 1>\\n\\nS\\u1ea3n ph\\u1ea9m Voi m\\u1eb9 phun-<br>  n\\u01b0\\u1edbc hi\\u1ec7n \\u0111ang c\\u00f3 gi\\u00e1: 189.000 VN\\u0110 (Gi\\u00e1 g\\u1ed1c: 290.-<br>\", \"query_knowledge_base\", \"url\", \"action_query_babe_kb\"], [\"url\", \"B\\u1ea1n \\u0111ang t\\u00ecm ki\\u1ebfm th\\u00f4ng tin g\\u00ec \\u1ea1?\", \"send_link\", \"url\", \"action_handle_send_link_only\"], [\"url\", \"S\\u1ea3n ph\\u1ea9m COMBO HOLLA FULL PHI\\u00caN B\\u1ea2N 2020 M\\u1eaaU V\\u01af\\u01a0NG-<br>  MI\\u1ec6N \\u0111ang c\\u00f3 gi\\u00e1 4.100.000 VN\\u0110 (Gi\\u00e1 g\\u1ed1c: 5.000.00-<br>\", \"query_knowledge_base\", \"url\", \"action_query_babe_kb\"], [\"ok shop\", \"V\\u00e2ng \\u1ea1!\", \"agree\", null, \"utter_agree\"], [\"url\", \"D\\u1ea1, c\\u00f3 ph\\u1ea3i b\\u1ea1n mu\\u1ed1n h\\u1ecfi m\\u1ed9t trong c\\u00e1c s\\u1ea3n ph\\u1ea9m d\\u01b0-<br> \\u1edbi \\u0111\\u00e2y kh\\u00f4ng \\u1ea1?\\n (Vui l\\u00f2ng \\u1ea5n ch\\u1ecdn 1 s\\u1ea3n ph\\u1ea9m)\\n\\n<s-<br>\", \"query_knowledge_base\", \"url\", \"action_query_babe_kb\"], [\"url\", \"D\\u1ea1, c\\u00f3 ph\\u1ea3i b\\u1ea1n mu\\u1ed1n h\\u1ecfi m\\u1ed9t trong c\\u00e1c s\\u1ea3n ph\\u1ea9m d\\u01b0-<br>\", \"query_knowledge_base\", \"url\", \"action_query_babe_kb\"], [\"/query_knowledge_base{\\\"url\\\": \\\"https://shopee.vn/pr-<br> oduct/36371562/5307497099\\\", \\\"product_id\\\": \\\"https:/-<br>\", \"S\\u1ea3n ph\\u1ea9m GH\\u1ebe NH\\u1ea2Y JUMPEROO KONIG KIDS CH\\u00cdNH H\\u00c3NG h-<br> i\\u1ec7n c\\u00f3 gi\\u00e1 1.190.000 VN\\u0110 (Gi\\u00e1 g\\u1ed1c: 1.900.000 VN\\u0110).-<br> \\nM\\u1eddi b\\u1ea1n tham kh\\u1ea3o s\\u1ea3n ph\\u1ea9m t\\u1ea1i \\u0111\\u01b0\\u1eddng link:\\n<show -<br>\", \"query_knowledge_base\", \"['url:https://shopee.vn/product/36371562/3210697307', 'product_id:https://shopee.vn/product/36371562/3210697307']\", \"action_query_babe_kb\"], [\"url\", \"S\\u1ea3n ph\\u1ea9m GH\\u1ebe NH\\u1ea2Y JUMPEROO KONIG KIDS CH\\u00cdNH H\\u00c3NG h-<br> i\\u1ec7n c\\u00f3 gi\\u00e1 1.190.000 VN\\u0110 (Gi\\u00e1 g\\u1ed1c: 1.900.000 VN\\u0110).-<br> \\nM\\u1eddi b\\u1ea1n tham kh\\u1ea3o s\\u1ea3n ph\\u1ea9m t\\u1ea1i \\u0111\\u01b0\\u1eddng link:\\n<show -<br>\", \"query_knowledge_base\", \"url\", \"action_query_babe_kb\"], [\"ok shop\", \"D\\u1ea1 v\\u00e2ng \\u1ea1!\", \"agree\", null, \"utter_agree\"], [\"url\", null, \"handover_to_inbox\", \"url\", \"action_handover_to_inbox\"], [\"url\", \"S\\u1ea3n ph\\u1ea9m M\\u00c1Y XAY H\\u1ea4P \\u0110A N\\u0102NG NUTRIBABY PLUS 5IN1 (-<br> Ph\\u00e1p) hi\\u1ec7n c\\u00f3 gi\\u00e1: 3.979.000 VN\\u0110 (Gi\\u00e1 g\\u1ed1c: 4.890.0-<br>\", \"query_knowledge_base\", \"url\", \"action_query_babe_kb\"], [\"ok shop\", \"D\\u1ea1 v\\u00e2ng \\u1ea1!\", \"agree\", null, \"utter_agree\"], [\"Ch\\u00e0o shop\", \"Ch\\u00e0o b\\u1ea1n, m\\u00ecnh l\\u00e0 tr\\u1ee3 l\\u00fd \\u1ea3o c\\u1ee7a Shop G\\u1ea5u & B\\u00ed Ng\\u00f4,-<br>\", \"greet\", null, \"utter_greet\"], [\"url\", \"\\\"S\\u1ea3n ph\\u1ea9m  COMBO HOLLA LI\\u00caN HO\\u00c0N 2020 c\\u00f3 gi\\u00e1 4.100-<br>\", \"query_knowledge_base\", \"url\", \"action_query_babe_kb\"], [\"Ch\\u00e0o shop\", \"Ch\\u00e0o b\\u1ea1n, m\\u00ecnh l\\u00e0 tr\\u1ee3 l\\u00fd \\u1ea3o c\\u1ee7a Shop G\\u1ea5u & B\\u00ed Ng\\u00f4,-<br>\", \"greet\", null, \"utter_greet\"], [\"url\", \"S\\u1ea3n ph\\u1ea9m  COMBO HOLLA LI\\u00caN HO\\u00c0N 2020 c\\u00f3 gi\\u00e1 4.100.-<br>\", \"query_knowledge_base\", \"url\", \"action_query_babe_kb\"], [\"c\\u00f3 nh\\u1eefng m\\u00e0u g\\u00ec shop nh\\u1ec9?\", \"S\\u1ea3n ph\\u1ea9m COMBO HOLLA LI\\u00caN HO\\u00c0N 2020 c\\u00f3 m\\u00e0u: Xanh, -<br>\", null, null, null], [\"ok, thank shop nh\\u00e9\", \"Shop c\\u1ea3m \\u01a1n b\\u1ea1n \\u1ea1.\", \"thank\", null, \"utter_thank\"], [\"m\\u00ecnh mu\\u1ed1n mua m\\u00e1y ti\\u1ec7t tr\\u00f9ng uv\\nt\\u01b0 v\\u1ea5n m\\u00ecnh v\\u1edbi\", \"\\\"Hi\\u1ec7n t\\u1ea1i s\\u1ea3n ph\\u1ea9m M\\u00e1y ti\\u1ec7t tr\\u00f9ng  shop \\u0111ang c\\u00f3 nh-<br>\", \"query_knowledge_base\", \"[]\", \"action_query_babe_kb\"], [\"Ok m \\u0111\\u1eb7t tr\\u00ean shopee nha\", \"D\\u1ea1 v\\u00e2ng \\u1ea1!\", \"just_inform\", null, null], [\"Shop ship cho minh ve d\\u1ecba chi nay c\\u00e1i nh\\u00e9 04 d\\u01b0\\u1eddng-<br>  h\\u1ea1c th\\u00e0nh. Ph\\u01b0\\u1eddng t\\u00e2n s\\u01a1n. Th\\u00e0nh ph\\u1ed1 thanh h\\u00f3a 09-<br>\", null, \"handover_to_inbox\", \"[]\", \"action_handover_to_inbox\"], [\"V\\u00e2ng \\u1ea1. Ph\\u00ed ship SG kho\\u1ea3ng bao nhi\\u00eau \\u1ea1\", \"Shop G\\u1ea5u v\\u00e0 B\\u00ed ng\\u00f4 s\\u1eb5n s\\u00e0ng ph\\u1ee5c v\\u1ee5, g\\u1eedi h\\u00e0ng tr\\u00ean-<br>  to\\u00e0n qu\\u1ed1c. Chi ti\\u1ebft ch\\u00ednh s\\u00e1ch giao h\\u00e0ng b\\u1ea1n xem -<br>\", \"ask_ship\", \"['attribute:price']\", \"utter_ask_ship\"], [\"url\", \"B\\u1ea1n \\u0111ang t\\u00ecm ki\\u1ebfm th\\u00f4ng tin g\\u00ec \\u1ea1?\", \"send_link\", \"url\", \"action_handle_send_link_only\"], [\"E b\\u1ecb m\\u1ea5t kh\\u00f3a \\u1edf b\\u1ed9 ph\\u1eadn n\\u00e0y\\nB\\u00ean m\\u00ecnh c\\u00f3 b\\u00e1n l\\u1ebb k \\u1ea1\", null, \"handover_to_inbox\", \"['mention:b\\u1ed9 ph\\u1eadn n\\u00e0y']\", \"action_handover_to_inbox\"], [\"url\", \"S\\u1ea3n ph\\u1ea9m Xe \\u0111\\u1ea9y 2 chi\\u1ec1u cao c\\u1ea5p VOVO 2019 \\u0111ang c\\u00f3 -<br> gi\\u00e1: 1.620.000 VN\\u0110 (Gi\\u00e1 g\\u1ed1c: 2.500.000 VN\\u0110).\\nM\\u1eddi b-<br>\", \"query_knowledge_base\", \"url\", \"action_query_babe_kb\"], [\"Xe \\u0111\\u1ea9y n\\u00e0y \\u0111ang gi\\u1ea3m gi\\u00e1 ph\\u1ea3i k\", \"S\\u1ea3n ph\\u1ea9m Xe \\u0111\\u1ea9y 2 chi\\u1ec1u cao c\\u1ea5p VOVO 2019 \\u0111ang c\\u00f3 -<br>\", \"query_knowledge_base\", \"['object_type:xe_day', 'attribute:promotion']\", \"action_query_babe_kb\"], [\"url\", \"S\\u1ea3n ph\\u1ea9m Xe \\u0111\\u1ea9y 2 chi\\u1ec1u cao c\\u1ea5p VOVO 2019 \\u0111ang c\\u00f3 -<br> gi\\u00e1: 1.620.000 VN\\u0110 (Gi\\u00e1 g\\u1ed1c: 2.500.000 VN\\u0110).\\nM\\u1eddi b-<br> \\u1ea1n xem chi ti\\u1ebft s\\u1ea3n ph\\u1ea9m t\\u1ea1i link:\\n<Show card>\\n\\nS\\u1ea3-<br> n ph\\u1ea9m Thanh \\u0111\\u1ed3 ch\\u01a1i treo n\\u00f4i, c\\u0169i, xe \\u0111\\u1ea9y, gh\\u1ebf ng-<br> \\u1ed3i \\u00f4 t\\u00f4 h\\u00ecnh chim c\\u00f3 nh\\u1ea1c Infantino (M\\u1ef9) \\u0111ang c\\u00f3 g-<br> i\\u00e1: 279.000 VN\\u0110 (Gi\\u00e1 g\\u1ed1c: 399.000 VN\\u0110).\\nS\\u1ea3n ph\\u1ea9m X-<br> e \\u0111\\u1ea9y 2 chi\\u1ec1u cao c\\u1ea5p VOVO 2019 \\u0111ang c\\u00f3 gi\\u00e1: 1.620-<br> .000 VN\\u0110 (Gi\\u00e1 g\\u1ed1c: 2.500.000 VN\\u0110).\\r\\nM\\u1eddi b\\u1ea1n xem ch-<br>\", \"query_knowledge_base\", \"url\", \"action_query_babe_kb\"], [\"Xe \\u0111\\u1ea9y n\\u00e0y \\u0111ang gi\\u1ea3m gi\\u00e1 ph\\u1ea3i k\", \"S\\u1ea3n ph\\u1ea9m Xe \\u0111\\u1ea9y 2 chi\\u1ec1u cao c\\u1ea5p VOVO 2019 \\u0111ang c\\u00f3 -<br>\", \"query_knowledge_base\", \"['object_type:xe_day', 'attribute:promotion']\", \"action_query_babe_kb\"], [\"url\", \"B\\u1ea1n \\u0111ang t\\u00ecm ki\\u1ebfm th\\u00f4ng tin g\\u00ec \\u1ea1?\", \"send_link\", \"url\", \"action_handle_send_link_only\"], [\"M\\u00ecnh c\\u00f3 c\\u1ea7u tr\\u01b0\\u1ee3t n\\u00e0y c\\u1ee7a hola k c\", \"S\\u1ea3n ph\\u1ea9m C\\u1ea7u tr\\u01b0\\u1ee3t x\\u00edch \\u0111u Hola h\\u1ea3i c\\u1ea9u 2020 \\u0111ang -<br> c\\u00f3 gi\\u00e1: 1.990.000 VN\\u0110 (Gi\\u00e1 g\\u1ed1c: 3.250.000 VN\\u0110).\\nM\\u1edd-<br>\", \"query_knowledge_base\", \"['object_type:cau_truot', 'mention:n\\u00e0y', 'brand:hola']\", \"action_query_babe_kb\"], [\"url\", \"B\\u1ea1n \\u0111ang t\\u00ecm ki\\u1ebfm th\\u00f4ng tin g\\u00ec \\u1ea1?\", \"send_link\", \"url\", \"action_handle_send_link_only\"], [\"M\\u00ecnh c\\u00f3 c\\u1ea7u tr\\u01b0\\u1ee3t n\\u00e0y c\\u1ee7a hola k c\", \"S\\u1ea3n ph\\u1ea9m C\\u1ea7u tr\\u01b0\\u1ee3t x\\u00edch \\u0111u Hola h\\u1ea3i c\\u1ea9u 2020 shop -<br> \\u0111ang t\\u1ea1m h\\u1ebft h\\u00e0ng. B\\u1ea1n tham kh\\u1ea3o c\\u00e1c s\\u1ea3n ph\\u1ea9m C\\u1ea7u -<br>\", \"query_knowledge_base\", \"['object_type:cau_truot', 'mention:n\\u00e0y', 'brand:hola']\", \"action_query_babe_kb\"], [\"Khi n\\u00e0o c\\u00f3 h\\u00e0ng l\\u1ea1i \\u1ea1\", null, \"handover_to_inbox\", \"[]\", \"action_handover_to_inbox\"], [\"B\\u1ea1n \\u01a1i\", \"Ch\\u00e0o b\\u1ea1n, m\\u00ecnh l\\u00e0 tr\\u1ee3 l\\u00fd \\u1ea3o c\\u1ee7a Shop G\\u1ea5u & B\\u00ed Ng\\u00f4,-<br>\", \"greet\", \"[]\", \"utter_greet\"], [\"Tiki giao h\\u00e0ng ch\\u1eadm qu\\u00e1 m\\u00ecnh h\\u1ee7y \\u0111\\u01a1n r\\u1ed3i\", null, \"handover_to_inbox\", \"[]\", \"action_handover_to_inbox\"], [\"url\", \"D\\u1ea1, c\\u00f3 ph\\u1ea3i b\\u1ea1n mu\\u1ed1n h\\u1ecfi m\\u1ed9t trong c\\u00e1c s\\u1ea3n ph\\u1ea9m d\\u01b0-<br>\", \"query_knowledge_base\", \"url\", \"action_query_babe_kb\"], [\"/query_knowledge_base{\\\"url\\\": \\\"https://shopee.vn/pr-<br> oduct/36371562/3220636191\\\", \\\"product_id\\\": \\\"https:/-<br>\", \"S\\u1ea3n ph\\u1ea9m  B\\u1ed9 \\u0111\\u1ed3 ch\\u01a1i \\u0111\\u00e0n Piano k\\u1ebft h\\u1ee3p 10 nh\\u1ea1c c\\u1ee5 -<br> BKIDS 003398  hi\\u1ec7n shop \\u0111ang c\\u00f3 gi\\u00e1: *880,000 VND -<br> (gi\\u00e1 g\\u1ed1c 1,200,000 VND)*.\\nB\\u1ea1n tham kh\\u1ea3o c\\u00e1c s\\u1ea3n ph-<br>\", \"query_knowledge_base\", \"['url:https://shopee.vn/product/36371562/3220636191', 'product_id:https://shopee.vn/product/36371562/3220636191']\", \"action_query_babe_kb\"], [\"url\", \"S\\u1ea3n ph\\u1ea9m  B\\u1ed9 \\u0111\\u1ed3 ch\\u01a1i \\u0111\\u00e0n Piano k\\u1ebft h\\u1ee3p 10 nh\\u1ea1c c\\u1ee5 -<br> BKIDS 003398  hi\\u1ec7n shop \\u0111ang c\\u00f3 gi\\u00e1: *880,000 VND -<br> (gi\\u00e1 g\\u1ed1c 1,200,000 VND)*.\\nB\\u1ea1n tham kh\\u1ea3o c\\u00e1c s\\u1ea3n ph-<br>\", \"query_knowledge_base\", \"url\", \"action_query_babe_kb\"], [\"C\\u00f2n xe m\\u00e0u xanh k b\\u1ea1n?\", \"S\\u1ea3n ph\\u1ea9m b\\u1ea1n \\u0111ang t\\u00ecm c\\u00f3 ph\\u1ea3i l\\u00e0?\", \"query_knowledge_base\", \"['color:m\\u00e0u xanh','object_type:xe']\", \"action_query_babe_kb\"], [\"url\", \"D\\u1ea1, c\\u00f3 ph\\u1ea3i b\\u1ea1n mu\\u1ed1n h\\u1ecfi m\\u1ed9t trong c\\u00e1c s\\u1ea3n ph\\u1ea9m d\\u01b0-<br>\", \"send_link\", \"url\", \"action_handle_send_link_only\"], [\"/disagree{\\\"object_type\\\": null}\", \"B\\u1ea1n vui l\\u00f2ng m\\u00f4 t\\u1ea3 r\\u00f5 mong mu\\u1ed1n c\\u1ee7a b\\u1ea1n ho\\u1eb7c chat -<br>\", \"disagree\", \"['object_type:None']\", \"utter_disagree\"], [\"M\\u00ecnh g\\u1eedi \\u1ea3nh \\u1edf tr\\u00ean b\\u1ea1n \\u01a1i\\nXem tin nh\\u1eafn \\u0111i\", null, \"handover_to_inbox\", \"['attribute:image']\", \"action_handover_to_inbox\"], [\"C\\u00f2n xe m\\u00e0u xanh k b\\u1ea1n?\", \"S\\u1ea3n ph\\u1ea9m b\\u1ea1n \\u0111ang t\\u00ecm c\\u00f3 ph\\u1ea3i l\\u00e0?\", \"query_knowledge_base\", \"['color:m\\u00e0u xanh','object_type:xe']\", \"action_query_babe_kb\"], [\"url\", \"D\\u1ea1, c\\u00f3 ph\\u1ea3i b\\u1ea1n mu\\u1ed1n h\\u1ecfi m\\u1ed9t trong c\\u00e1c s\\u1ea3n ph\\u1ea9m d\\u01b0-<br>\", \"send_link\", \"url\", \"action_handle_send_link_only\"], [\"/query_knowledge_base{\\\"url\\\": \\\"https://www.facebook-<br> .com/shopgauvabingo/posts/2445777899065867\\\", \\\"prod-<br> uct_id\\\": \\\"https://www.facebook.com/shopgauvabingo/-<br>\", \"S\\u1ea3n ph\\u1ea9m Xe ch\\u00f2i ch\\u00e2n ki\\u00eam xe l\\u1eafc cao c\\u1ea5p c\\u00f3 nh\\u1ea1c -<br> Holla hi\\u1ec7n shop \\u0111ang c\\u00f3 gi\\u00e1: *790,000 VND (gi\\u00e1 g\\u1ed1c-<br>  1,200,000 VND)*.\\nB\\u1ea1n tham kh\\u1ea3o c\\u00e1c s\\u1ea3n ph\\u1ea9m sau n-<br>\", \"query_knowledge_base\", null, \"action_query_babe_kb\"], [\"thank shop\", \"D\\u1ea1, c\\u1ea3m \\u01a1n b\\u1ea1n!\", \"thank\", null, \"utter_thank\"], [\"C\\u00f2n xe m\\u00e0u xanh k b\\u1ea1n?\", \"S\\u1ea3n ph\\u1ea9m b\\u1ea1n \\u0111ang t\\u00ecm c\\u00f3 ph\\u1ea3i l\\u00e0?\", \"query_knowledge_base\", \"['color:m\\u00e0u xanh','object_type:xe']\", \"action_query_babe_kb\"], [\"url\", \"S\\u1ea3n ph\\u1ea9m Xe ch\\u00f2i ch\\u00e2n ki\\u00eam xe l\\u1eafc cao c\\u1ea5p c\\u00f3 nh\\u1ea1c -<br> Holla hi\\u1ec7n shop \\u0111ang c\\u00f3 gi\\u00e1: *790,000 VND (gi\\u00e1 g\\u1ed1c-<br>  1,200,000 VND)*.\\nB\\u1ea1n tham kh\\u1ea3o c\\u00e1c s\\u1ea3n ph\\u1ea9m sau n-<br>\", \"send_link\", \"url\", \"action_handle_send_link_only\"], [\"thank shop\", \"D\\u1ea1, c\\u1ea3m \\u01a1n b\\u1ea1n!\", \"thank\", null, \"utter_thank\"], [\"C\\u00f2n xe m\\u00e0u xanh k b\\u1ea1n?\", \"S\\u1ea3n ph\\u1ea9m b\\u1ea1n \\u0111ang t\\u00ecm c\\u00f3 ph\\u1ea3i l\\u00e0?\", \"query_knowledge_base\", \"['color:m\\u00e0u xanh','object_type:xe']\", \"action_query_babe_kb\"], [\"url\", \"S\\u1ea3n ph\\u1ea9m Xe ch\\u00f2i ch\\u00e2n ki\\u00eam xe l\\u1eafc cao c\\u1ea5p c\\u00f3 nh\\u1ea1c -<br> Holla hi\\u1ec7n shop c\\u00f2n h\\u00e0ng v\\u00e0 \\u0111ang c\\u00f3 gi\\u00e1: *790,000 -<br> VND (gi\\u00e1 g\\u1ed1c 1,200,000 VND)*.\\r\\nB\\u1ea1n tham kh\\u1ea3o c\\u00e1c s-<br>\", \"send_link\", \"url\", \"action_handle_send_link_only\"], [\"thank shop\", \"D\\u1ea1, c\\u1ea3m \\u01a1n b\\u1ea1n!\", \"thank\", null, \"utter_thank\"], [\"C\\u00f2n xe m\\u00e0u xanh k b\\u1ea1n?\", \"S\\u1ea3n ph\\u1ea9m b\\u1ea1n \\u0111ang t\\u00ecm c\\u00f3 ph\\u1ea3i l\\u00e0?\", \"query_knowledge_base\", \"['color:m\\u00e0u xanh','object_type:xe']\", \"action_query_babe_kb\"], [\"url\", \"S\\u1ea3n ph\\u1ea9m Xe ch\\u00f2i ch\\u00e2n ki\\u00eam xe l\\u1eafc cao c\\u1ea5p c\\u00f3 nh\\u1ea1c -<br> Holla hi\\u1ec7n shop h\\u1ebft h\\u00e0ng \\u1ea1\\nB\\u1ea1n tham kh\\u1ea3o c\\u00e1c s\\u1ea3n p-<br>\", \"send_link\", \"url\", \"action_handle_send_link_only\"], [\"thank shop\", \"D\\u1ea1, c\\u1ea3m \\u01a1n b\\u1ea1n!\", \"thank\", null, \"utter_thank\"], [\"url\", \"S\\u1ea3n ph\\u1ea9m Xe ch\\u00f2i ch\\u00e2n ki\\u00eam xe l\\u1eafc cao c\\u1ea5p c\\u00f3 nh\\u1ea1c -<br> Holla hi\\u1ec7n shop \\u0111ang c\\u00f3 gi\\u00e1: *790,000 VND (gi\\u00e1 g\\u1ed1c-<br>  1,200,000 VND)*.\\nB\\u1ea1n tham kh\\u1ea3o c\\u00e1c s\\u1ea3n ph\\u1ea9m sau n-<br>\", \"query_knowledge_base\", \"url\", \"action_query_babe_kb\"], [\"url\", \"B\\u1ea1n \\u0111ang t\\u00ecm ki\\u1ebfm th\\u00f4ng tin g\\u00ec \\u1ea1?\", \"send_link\", \"url\", \"action_query_babe_kb\"], [\"xe n\\u00e0y bao nhi\\u00eau \\u1ea1\", \"S\\u1ea3n ph\\u1ea9m Xe NADLE 3 in 1: Xe \\u0111\\u1ea9y - Ch\\u00f2i ch\\u00e2n - Xe -<br> \\u0111\\u1ea1p hi\\u1ec7n shop \\u0111ang c\\u00f3 gi\\u00e1: *1,550,000 VND (gi\\u00e1 g\\u1ed1c-<br>  2,650,000 VND)*.\\nB\\u1ea1n tham kh\\u1ea3o c\\u00e1c s\\u1ea3n ph\\u1ea9m sau n-<br>\", \"query_knowledge_base\", \"['attribute:price','object_type:xe','mention:n\\u00e0y']\", \"action_query_babe_kb\"], [\"ok shop\", \"D\\u1ea1,v\\u00e2ng\", \"agree\", null, \"utter_agree\"], [\"url\", \"S\\u1ea3n ph\\u1ea9m Xe ch\\u00f2i ch\\u00e2n ki\\u00eam xe l\\u1eafc cao c\\u1ea5p c\\u00f3 nh\\u1ea1c -<br> Holla hi\\u1ec7n shop \\u0111ang c\\u00f3 gi\\u00e1: *790,000 VND (gi\\u00e1 g\\u1ed1c-<br>  1,200,000 VND)*.\\nB\\u1ea1n tham kh\\u1ea3o c\\u00e1c s\\u1ea3n ph\\u1ea9m sau n-<br>\", \"query_knowledge_base\", \"url\", \"action_query_babe_kb\"], [\"url\", \"S\\u1ea3n ph\\u1ea9m Xe NADLE 3 in 1: Xe \\u0111\\u1ea9y - Ch\\u00f2i ch\\u00e2n - Xe -<br> \\u0111\\u1ea1p hi\\u1ec7n shop \\u0111ang c\\u00f3 gi\\u00e1: *1,550,000 VND (gi\\u00e1 g\\u1ed1c-<br>  2,650,000 VND)*.\\r\\nB\\u1ea1n tham kh\\u1ea3o c\\u00e1c s\\u1ea3n ph\\u1ea9m sau -<br>\", \"send_link\", \"url\", \"action_query_babe_kb\"], [\"ok shop\", \"D\\u1ea1,v\\u00e2ng\", \"agree\", null, \"utter_agree\"], [\"url\", \"D\\u1ea1, c\\u00f3 ph\\u1ea3i b\\u1ea1n mu\\u1ed1n h\\u1ecfi m\\u1ed9t trong c\\u00e1c s\\u1ea3n ph\\u1ea9m d\\u01b0-<br>\", \"query_knowledge_base\", \"url\", \"action_query_babe_kb\"], [\"/disagree{\\\"object_type\\\": null}\", \"B\\u1ea1n vui l\\u00f2ng m\\u00f4 t\\u1ea3 r\\u00f5 mong mu\\u1ed1n c\\u1ee7a b\\u1ea1n ho\\u1eb7c chat -<br>\", \"disagree\", \"['object_type:None']\", \"utter_disagree\"], [\"/connect_employee\", null, \"connect_employee\", null, \"action_handover_to_inbox\"], [\"url\", \"S\\u1ea3n ph\\u1ea9m Xe ch\\u00f2i ch\\u00e2n ki\\u00eam xe l\\u1eafc cao c\\u1ea5p c\\u00f3 nh\\u1ea1c -<br> Holla hi\\u1ec7n shop \\u0111ang c\\u00f3 gi\\u00e1: *790,000 VND (gi\\u00e1 g\\u1ed1c-<br>  1,200,000 VND)*.\\nB\\u1ea1n tham kh\\u1ea3o c\\u00e1c s\\u1ea3n ph\\u1ea9m sau n-<br>\", \"query_knowledge_base\", \"url\", \"action_query_babe_kb\"], [\"xe l\\u0103\\u0301c Holla co\\u0301 tr\\u00ean shopee ch\\u01b0a ba\\u0323n\", \"D\\u1ea1 m\\u1eddi b\\u1ea1n tham kh\\u1ea3o s\\u1ea3n ph\\u1ea9m Xe ch\\u00f2i ch\\u00e2n ki\\u00eam xe-<br>\", \"query_knowledge_base\", \"['object_type:xe', 'attribute:link','brand:Holla']\", \"action_query_babe_kb\"], [\"url\", \"D\\u1ea1, c\\u00f3 ph\\u1ea3i b\\u1ea1n mu\\u1ed1n h\\u1ecfi m\\u1ed9t trong c\\u00e1c s\\u1ea3n ph\\u1ea9m d\\u01b0-<br>\", \"query_knowledge_base\", \"url\", \"action_query_babe_kb\"], [\"/query_knowledge_base{\\\"url\\\": \\\"https://www.facebook-<br> .com/shopgauvabingo/posts/2445777899065867\\\", \\\"prod-<br> uct_id\\\": \\\"https://www.facebook.com/shopgauvabingo/-<br>\", \"S\\u1ea3n ph\\u1ea9m Xe ch\\u00f2i ch\\u00e2n ki\\u00eam xe l\\u1eafc cao c\\u1ea5p c\\u00f3 nh\\u1ea1c -<br> Holla hi\\u1ec7n shop \\u0111ang c\\u00f3 gi\\u00e1: *790,000 VND (gi\\u00e1 g\\u1ed1c-<br>  1,200,000 VND)*.\\nB\\u1ea1n tham kh\\u1ea3o c\\u00e1c s\\u1ea3n ph\\u1ea9m sau n-<br>\", \"query_knowledge_base\", null, \"action_query_babe_kb\"], [\"url\", \"S\\u1ea3n ph\\u1ea9m  C\\u1ea7u tr\\u01b0\\u1ee3t x\\u00edch \\u0111u Hola h\\u1ea3i c\\u1ea9u 2020  hi\\u1ec7-<br> n shop \\u0111ang c\\u00f3 gi\\u00e1: *1,982,500 VND (gi\\u00e1 g\\u1ed1c 3,250,-<br>\", \"send_link\", \"url\", \"action_handle_send_link_only\"], [\"url\", \"S\\u1ea3n ph\\u1ea9m Xe ch\\u00f2i ch\\u00e2n ki\\u00eam xe l\\u1eafc cao c\\u1ea5p c\\u00f3 nh\\u1ea1c -<br> Holla hi\\u1ec7n shop \\u0111ang c\\u00f3 gi\\u00e1: *790,000 VND (gi\\u00e1 g\\u1ed1c-<br>  1,200,000 VND)*.\\nB\\u1ea1n tham kh\\u1ea3o c\\u00e1c s\\u1ea3n ph\\u1ea9m sau n-<br>\", \"query_knowledge_base\", \"url\", \"action_query_babe_kb\"], [\"url\", \"S\\u1ea3n ph\\u1ea9m  C\\u1ea7u tr\\u01b0\\u1ee3t x\\u00edch \\u0111u Hola h\\u1ea3i c\\u1ea9u 2020  hi\\u1ec7-<br> n shop \\u0111ang c\\u00f3 gi\\u00e1: *1,982,500 VND (gi\\u00e1 g\\u1ed1c 3,250,-<br>\", \"send_link\", \"url\", \"action_handle_send_link_only\"], [\"ok shop\", \"D\\u1ea1,v\\u00e2ng\", \"agree\", null, \"utter_agree\"], [\"url\", \"D\\u1ea1, c\\u00f3 ph\\u1ea3i b\\u1ea1n mu\\u1ed1n h\\u1ecfi m\\u1ed9t trong c\\u00e1c s\\u1ea3n ph\\u1ea9m d\\u01b0-<br>\", \"query_knowledge_base\", \"url\", \"action_query_babe_kb\"], [\"/disagree{\\\"object_type\\\": null}\", \"B\\u1ea1n vui l\\u00f2ng m\\u00f4 t\\u1ea3 r\\u00f5 mong mu\\u1ed1n c\\u1ee7a b\\u1ea1n ho\\u1eb7c chat -<br>\", \"disagree\", \"['object_type:None']\", \"utter_disagree\"], [\"/connect_employee\", null, \"connect_employee\", null, \"action_handover_to_inbox\"], [\"url\", \"S\\u1ea3n ph\\u1ea9m Xe ch\\u00f2i ch\\u00e2n ki\\u00eam xe l\\u1eafc cao c\\u1ea5p c\\u00f3 nh\\u1ea1c -<br> Holla hi\\u1ec7n shop \\u0111ang c\\u00f3 gi\\u00e1: *790,000 VND (gi\\u00e1 g\\u1ed1c-<br>  1,200,000 VND)*.\\nB\\u1ea1n tham kh\\u1ea3o c\\u00e1c s\\u1ea3n ph\\u1ea9m sau n-<br>\", \"query_knowledge_base\", \"url\", \"action_query_babe_kb\"], [\"Ok b\\u1ea1n th\\u1ebf \\u0111\\u1ec3 t xem l\\u1ea1i r\\u00f9i b\\u00e1o nha\", \"D\\u1ea1,v\\u00e2ng\", \"end_conversation\", null, \"action_end_conversation\"], [\"url\", \"D\\u1ea1, c\\u00f3 ph\\u1ea3i b\\u1ea1n mu\\u1ed1n h\\u1ecfi m\\u1ed9t trong c\\u00e1c s\\u1ea3n ph\\u1ea9m d\\u01b0-<br>\", \"query_knowledge_base\", \"url\", \"action_query_babe_kb\"], [\"/query_knowledge_base{\\\"url\\\": \\\"https://www.facebook-<br> .com/shopgauvabingo/posts/2445777899065867\\\", \\\"prod-<br> uct_id\\\": \\\"https://www.facebook.com/shopgauvabingo/-<br>\", \"S\\u1ea3n ph\\u1ea9m Xe ch\\u00f2i ch\\u00e2n ki\\u00eam xe l\\u1eafc cao c\\u1ea5p c\\u00f3 nh\\u1ea1c -<br> Holla hi\\u1ec7n shop \\u0111ang c\\u00f3 gi\\u00e1: *790,000 VND (gi\\u00e1 g\\u1ed1c-<br>  1,200,000 VND)*.\\nB\\u1ea1n tham kh\\u1ea3o c\\u00e1c s\\u1ea3n ph\\u1ea9m sau n-<br>\", \"query_knowledge_base\", null, \"action_query_babe_kb\"], [\"b\\u00e9 13m \\u0111\\u00e3 d\\u00f9ng \\u0111c ch\\u01b0a b\\u1ea1n nh\\u1ec9?\", \"S\\u1ea3n ph\\u1ea9m  Xe ch\\u00f2i ch\\u00e2n ki\\u00eam xe l\\u1eafc cao c\\u1ea5p c\\u00f3 nh\\u1ea1c-<br>  Holla hi\\u1ec7n shop \\u0111ang c\\u00f3 \\u0111\\u1ed9 tu\\u1ed5i s\\u1eed d\\u1ee5ng: 0 - 36 t-<br>\", \"query_knowledge_base\", \"['age_of_use:13m']\", \"action_query_babe_kb\"], [\"Ok b\\u1ea1n\", \"D\\u1ea1,v\\u00e2ng\", \"agree\", null, \"utter_agree\"], [\"url\", \"S\\u1ea3n ph\\u1ea9m Xe ch\\u00f2i ch\\u00e2n ki\\u00eam xe l\\u1eafc cao c\\u1ea5p c\\u00f3 nh\\u1ea1c -<br> Holla hi\\u1ec7n shop \\u0111ang c\\u00f3 gi\\u00e1: *790,000 VND (gi\\u00e1 g\\u1ed1c-<br>  1,200,000 VND)*.\\nB\\u1ea1n tham kh\\u1ea3o c\\u00e1c s\\u1ea3n ph\\u1ea9m sau n-<br>\", \"query_knowledge_base\", \"url\", \"action_query_babe_kb\"], [\"c\\u00f3 nh\\u1eefng m\\u00e0u g\\u00ec sh\", \"S\\u1ea3n ph\\u1ea9m  Xe ch\\u00f2i ch\\u00e2n ki\\u00eam xe l\\u1eafc cao c\\u1ea5p c\\u00f3 nh\\u1ea1c-<br>  Holla hi\\u1ec7n shop \\u0111ang c\\u00f3 m\\u00e0u: H\\u1ed3ng, Xanh.\\nB\\u1ea1n tham-<br>\", \"query_knowledge_base\", \"['attribute:color']\", \"action_query_babe_kb\"], [\"\\u0110\\u1ec3 m\\u00ecnh tham kh\\u1ea3o \", null, \"handover_to_inbox\", null, \"action_handover_to_inbox\"], [\"url\", \"S\\u1ea3n ph\\u1ea9m Xe ch\\u00f2i ch\\u00e2n ki\\u00eam xe l\\u1eafc cao c\\u1ea5p c\\u00f3 nh\\u1ea1c -<br> Holla hi\\u1ec7n shop \\u0111ang c\\u00f3 gi\\u00e1: *790,000 VND (gi\\u00e1 g\\u1ed1c-<br>  1,200,000 VND)*.\\nB\\u1ea1n tham kh\\u1ea3o c\\u00e1c s\\u1ea3n ph\\u1ea9m sau n-<br>\", \"query_knowledge_base\", \"url\", \"action_query_babe_kb\"], [\"c\\u00f3 nh\\u1eefng m\\u00e0u g\\u00ec sh\", \"S\\u1ea3n ph\\u1ea9m  Xe ch\\u00f2i ch\\u00e2n ki\\u00eam xe l\\u1eafc cao c\\u1ea5p c\\u00f3 nh\\u1ea1c-<br>  Holla hi\\u1ec7n shop \\u0111ang c\\u00f3 m\\u00e0u: H\\u1ed3ng, Xanh.\\nB\\u1ea1n tham-<br>\", \"query_knowledge_base\", \"['attribute:color']\", \"action_query_babe_kb\"], [\"\\u0110\\u1ec3 m\\u00ecnh tham kh\\u1ea3o \", \"D\\u1ea1, v\\u00e2ng \\u1ea1\", \"end_conversation\", null, \"action_end_conversation\"], [\"url\", \"D\\u1ea1, c\\u00f3 ph\\u1ea3i b\\u1ea1n mu\\u1ed1n h\\u1ecfi m\\u1ed9t trong c\\u00e1c s\\u1ea3n ph\\u1ea9m d\\u01b0-<br>\", \"query_knowledge_base\", \"url\", \"action_query_babe_kb\"], [\"/query_knowledge_base{\\\"url\\\": \\\"https://www.facebook-<br> .com/shopgauvabingo/posts/2445777899065867\\\", \\\"prod-<br> uct_id\\\": \\\"https://www.facebook.com/shopgauvabingo/-<br>\", \"S\\u1ea3n ph\\u1ea9m Xe ch\\u00f2i ch\\u00e2n ki\\u00eam xe l\\u1eafc cao c\\u1ea5p c\\u00f3 nh\\u1ea1c -<br> Holla hi\\u1ec7n shop \\u0111ang c\\u00f3 gi\\u00e1: *790,000 VND (gi\\u00e1 g\\u1ed1c-<br>  1,200,000 VND)*.\\nB\\u1ea1n tham kh\\u1ea3o c\\u00e1c s\\u1ea3n ph\\u1ea9m sau n-<br>\", \"query_knowledge_base\", null, \"action_query_babe_kb\"], [\"Ok b\\u1ea1n\", \"D\\u1ea1,v\\u00e2ng\", \"agree\", null, \"utter_agree\"], [\"url\", \"S\\u1ea3n ph\\u1ea9m Xe ch\\u00f2i ch\\u00e2n ki\\u00eam xe l\\u1eafc cao c\\u1ea5p c\\u00f3 nh\\u1ea1c -<br> Holla hi\\u1ec7n shop \\u0111ang c\\u00f3 gi\\u00e1: *790,000 VND (gi\\u00e1 g\\u1ed1c-<br>  1,200,000 VND)*.\\nB\\u1ea1n tham kh\\u1ea3o c\\u00e1c s\\u1ea3n ph\\u1ea9m sau n-<br>\", \"query_knowledge_base\", \"url\", \"action_query_babe_kb\"], [\"thank shop\", \"D\\u1ea1, c\\u1ea3m \\u01a1n b\\u1ea1n!\", \"thank\", null, \"utter_thank\"], [\"hi shop\", \"Ch\\u00e0o b\\u1ea1n, m\\u00ecnh l\\u00e0 tr\\u1ee3 l\\u00fd \\u1ea3o c\\u1ee7a Shop G\\u1ea5u & B\\u00ed Ng\\u00f4,-<br>\", \"greet\", null, \"utter_greet\"], [\"url\", \"B\\u1ea1n \\u0111ang t\\u00ecm ki\\u1ebfm th\\u00f4ng tin g\\u00ec \\u1ea1?\", \"query_knowledge_base\", \"url\", \"action_query_babe_kb\"], [\"Xe \\u0111\\u1ea9y lo\\u1ea1i n\\u00e0y c\\u00f2n k shop\", \"S\\u1ea3n ph\\u1ea9m Xe \\u0111\\u1ea9y si\\u00eau nh\\u1eb9 Umoo hi\\u1ec7n shop \\u0111ang c\\u00f3 gi-<br> \\u00e1: *749,000 VND (gi\\u00e1 g\\u1ed1c 1,200,000 VND)*.\\nB\\u1ea1n tham-<br>\", \"query_knowledge_base\", \"['object_type:xe_day', 'mention:lo\\u1ea1i n\\u00e0y']\", \"action_query_babe_kb\"], [\"Ok b\\u1ea1n\", \"D\\u1ea1,v\\u00e2ng\", \"agree\", null, \"utter_agree\"], [\"hi shop\", \"Ch\\u00e0o b\\u1ea1n, m\\u00ecnh l\\u00e0 tr\\u1ee3 l\\u00fd \\u1ea3o c\\u1ee7a Shop G\\u1ea5u & B\\u00ed Ng\\u00f4,-<br>\", \"greet\", null, \"utter_greet\"], [\"url\", \"B\\u1ea1n \\u0111ang t\\u00ecm ki\\u1ebfm th\\u00f4ng tin g\\u00ec \\u1ea1?\", \"query_knowledge_base\", \"url\", \"action_query_babe_kb\"], [\"Xe \\u0111\\u1ea9y lo\\u1ea1i n\\u00e0y c\\u00f2n k shop\", \"S\\u1ea3n ph\\u1ea9m Xe \\u0111\\u1ea9y si\\u00eau nh\\u1eb9 Umoo hi\\u1ec7n shop \\u0111ang h\\u1ebft h-<br>\", \"query_knowledge_base\", \"['object_type:xe_day', 'mention:lo\\u1ea1i n\\u00e0y']\", \"action_query_babe_kb\"], [\"Ok b\\u1ea1n\", \"D\\u1ea1,v\\u00e2ng\", \"agree\", null, \"utter_agree\"], [\"url\", \"D\\u1ea1, c\\u00f3 ph\\u1ea3i b\\u1ea1n mu\\u1ed1n h\\u1ecfi m\\u1ed9t trong c\\u00e1c s\\u1ea3n ph\\u1ea9m d\\u01b0-<br> \\u1edbi \\u0111\\u00e2y kh\\u00f4ng \\u1ea1?\\r\\n (Vui l\\u00f2ng \\u1ea5n ch\\u1ecdn 1 s\\u1ea3n ph\\u1ea9m)...-<br>\", \"query_knowledge_base\", \"url\", \"action_query_babe_kb\"], [\"/disagree{\\\"object_type\\\": null}\", \"B\\u1ea1n vui l\\u00f2ng m\\u00f4 t\\u1ea3 r\\u00f5 mong mu\\u1ed1n c\\u1ee7a b\\u1ea1n ho\\u1eb7c chat -<br>\", \"disagree\", \"['object_type:None']\", \"utter_disagree\"], [\"/connect_employee\", null, \"connect_employee\", \"[]\", \"action_handover_to_inbox\"], [\"url\", \"S\\u1ea3n ph\\u1ea9m b\\u1ea1n \\u0111ang t\\u00ecm c\\u00f3 ph\\u1ea3i l\\u00e0?\", \"query_knowledge_base\", \"url\", \"action_query_babe_kb\"], [\"/disagree{\\\"object_type\\\": null}\", \"B\\u1ea1n vui l\\u00f2ng m\\u00f4 t\\u1ea3 r\\u00f5 mong mu\\u1ed1n c\\u1ee7a b\\u1ea1n ho\\u1eb7c chat -<br>\", \"disagree\", \"['object_type:None']\", \"utter_disagree\"], [\"/connect_employee\", null, \"connect_employee\", \"[]\", \"action_handover_to_inbox\"], [\"url\", \"S\\u1ea3n ph\\u1ea9m B\\u1ed9 b\\u1ea3o v\\u1ec7 7 m\\u00f3n hi\\u1ec7n shop \\u0111ang c\\u00f3 gi\\u00e1: *7-<br> 49,000 VND (gi\\u00e1 g\\u1ed1c 1,200,000 VND)*.\\nB\\u1ea1n tham kh\\u1ea3o-<br>\", \"query_knowledge_base\", \"url\", \"action_query_babe_kb\"], [\"\\u0111\\u1ec3 m\\u00ecnh xem c\\u00f3 g\\u00ec minh b\\u00e1o\", null, \"handover_to_inbox\", null, \"action_handover_to_inbox\"], [\"url\", \"B\\u1ea1n \\u0111ang t\\u00ecm ki\\u1ebfm th\\u00f4ng tin g\\u00ec \\u1ea1?\", \"send_link\", \"url\", \"action_handle_send_link_only\"], [\"B\\u1ea1n \\u01a1i gi\\u01b0\\u1eddng \\u0111\\u1ec7m \\u0111i k\\u00e8m gi\\u00e1 nh\\u01b0 n\\u00e0o\", \"S\\u1ea3n ph\\u1ea9m b\\u1ea1n \\u0111ang t\\u00ecm c\\u00f3 ph\\u1ea3i l\\u00e0?\", \"query_knowledge_base\", \"['object_type:giuong', 'attribute:price']\", \"action_query_babe_kb\"], [\"/disagree{\\\"object_type\\\": null}\", \"B\\u1ea1n vui l\\u00f2ng m\\u00f4 t\\u1ea3 r\\u00f5 mong mu\\u1ed1n c\\u1ee7a b\\u1ea1n ho\\u1eb7c chat -<br>\", \"disagree\", \"['object_type:None']\", \"utter_disagree\"], [\"/connect_employee\", null, \"connect_employee\", \"[]\", \"action_handover_to_inbox\"], [\"url\", \"B\\u1ea1n \\u0111ang t\\u00ecm ki\\u1ebfm th\\u00f4ng tin g\\u00ec \\u1ea1?\", \"send_link\", \"url\", \"action_handle_send_link_only\"], [\"B\\u1ea1n \\u01a1i gi\\u01b0\\u1eddng \\u0111\\u1ec7m \\u0111i k\\u00e8m gi\\u00e1 nh\\u01b0 n\\u00e0o\", \"D\\u1ea1, c\\u00f3 ph\\u1ea3i b\\u1ea1n mu\\u1ed1n h\\u1ecfi m\\u1ed9t trong c\\u00e1c s\\u1ea3n ph\\u1ea9m d\\u01b0-<br> \\u1edbi \\u0111\\u00e2y kh\\u00f4ng \\u1ea1?\\r\\n (Vui l\\u00f2ng \\u1ea5n ch\\u1ecdn 1 s\\u1ea3n ph\\u1ea9m)...-<br>\", \"query_knowledge_base\", \"['object_type:giuong', 'attribute:price']\", \"action_query_babe_kb\"], [\"/query_knowledge_base{\\\"url\\\": \\\"https://www.facebook-<br> .com/shopgauvabingo/posts/2445681652408825\\\", \\\"prod-<br> uct_id\\\": \\\"https://www.facebook.com/shopgauvabingo/-<br>\", \"S\\u1ea3n ph\\u1ea9m Gi\\u01b0\\u1eddng nh\\u1ef1a Holla hi\\u1ec7n shop \\u0111ang c\\u00f3 gi\\u00e1: -<br> *749,000 VND (gi\\u00e1 g\\u1ed1c 1,200,000 VND)*.\\nB\\u1ea1n tham kh-<br>\", \"query_knowledge_base\", null, \"action_query_babe_kb\"], [\"Ok shop\", \"D\\u1ea1,v\\u00e2ng\", \"agree\", null, \"utter_agree\"], [\"url\", \"B\\u1ea1n \\u0111ang t\\u00ecm ki\\u1ebfm th\\u00f4ng tin g\\u00ec \\u1ea1?\", \"send_link\", \"url\", \"action_handle_send_link_only\"], [\"B\\u1ea1n \\u01a1i gi\\u01b0\\u1eddng \\u0111\\u1ec7m \\u0111i k\\u00e8m gi\\u00e1 nh\\u01b0 n\\u00e0o\", \"S\\u1ea3n ph\\u1ea9m Gi\\u01b0\\u1eddng nh\\u1ef1a Holla hi\\u1ec7n shop \\u0111ang c\\u00f3 gi\\u00e1: -<br> *749,000 VND (gi\\u00e1 g\\u1ed1c 1,200,000 VND)*.\\r\\nB\\u1ea1n tham k-<br>\", \"query_knowledge_base\", \"['object_type:giuong', 'attribute:price']\", \"action_query_babe_kb\"], [\"thank shop\", \"D\\u1ea1, v\\u00e2ng \\u1ea1!\", \"thank\", null, \"utter_thank\"], [\"alo shop\", \"Ch\\u00e0o b\\u1ea1n, m\\u00ecnh l\\u00e0 tr\\u1ee3 l\\u00fd \\u1ea3o c\\u1ee7a Shop G\\u1ea5u & B\\u00ed Ng\\u00f4,-<br>\", \"greet\", null, \"utter_greet\"], [\"Shop c\\u00f3 xe scooter ko \\u1ea1?\", \"S\\u1ea3n ph\\u1ea9m b\\u1ea1n \\u0111ang t\\u00ecm c\\u00f3 ph\\u1ea3i l\\u00e0?\", \"query_knowledge_base\", \"['object_type:xe','brand:scooter']\", \"action_query_babe_kb\"], [\"/deny_object_type{\\\"object_type\\\": null}\", \"B\\u1ea1n vui l\\u00f2ng m\\u00f4 t\\u1ea3 r\\u00f5 mong mu\\u1ed1n c\\u1ee7a b\\u1ea1n ho\\u1eb7c chat -<br>\", \"deny_object_type\", \"['object_type:None']\", \"utter_disagree\"], [\"/connect_employee\", null, \"connect_employee\", \"[]\", \"action_handover_to_inbox\"], [\"alo shop\", \"Ch\\u00e0o b\\u1ea1n, m\\u00ecnh l\\u00e0 tr\\u1ee3 l\\u00fd \\u1ea3o c\\u1ee7a Shop G\\u1ea5u & B\\u00ed Ng\\u00f4,-<br>\", \"greet\", null, \"utter_greet\"], [\"Shop c\\u00f3 xe scooter ko \\u1ea1?\", \"Hi\\u1ec7n t\\u1ea1i s\\u1ea3n ph\\u1ea9m xe scooter  shop \\u0111ang c\\u00f3 nh\\u1eefng g-<br>\", \"query_knowledge_base\", \"['object_type:xe_scooter']\", \"action_query_babe_kb\"], [\"/confirm_attribute_value{\\\"price\\\": \\\"500-1M\\\"}\", \"Hi\\u1ec7n t\\u1ea1i s\\u1ea3n ph\\u1ea9m xe scooter gi\\u00e1 500 - 1m shop \\u0111an-<br>\", \"query_knowledge_base\", null, \"action_query_babe_kb\"], [\"/confirm_attribute_value{\\\"brand\\\": \\\"Vinng\\\"}\", \"D\\u1ea1 m\\u1eddi b\\u1ea1n tham kh\\u1ea3o s\\u1ea3n ph\\u1ea9m hi\\u1ec7n c\\u00f3 t\\u1ea1i shop nh\\u00e9-<br>\", \"query_knowledge_base\", null, \"action_query_babe_kb\"], [\"B\\u1ea1n \\u01a1i b\\u00ean b\\u1ea1n hi\\u1ec7n c\\u00f2n nh\\u1eefng lo\\u1ea1i c\\u1ea7u tr\\u01b0\\u1ee3t n\\u00e0o n-<br>\", \"S\\u1ea3n ph\\u1ea9m  C\\u1ea7u tr\\u01b0\\u1ee3t x\\u00edch \\u0111u Hola h\\u1ea3i c\\u1ea9u 2020  hi\\u1ec7-<br> n shop \\u0111ang c\\u00f3 gi\\u00e1: *1,982,500 VND (gi\\u00e1 g\\u1ed1c 3,250,-<br>\", \"query_knowledge_base\", \"['object_type:cau_truot']\", \"action_query_babe_kb\"], [\"ok shop\", \"D\\u1ea1,v\\u00e2ng\", \"agree\", null, \"utter_agree\"], [\"B\\u1ea1n \\u01a1i b\\u00ean b\\u1ea1n hi\\u1ec7n c\\u00f2n nh\\u1eefng lo\\u1ea1i c\\u1ea7u tr\\u01b0\\u1ee3t n\\u00e0o n-<br>\", \"Hi\\u1ec7n t\\u1ea1i s\\u1ea3n ph\\u1ea9m c\\u1ea7u tr\\u01b0\\u1ee3t  shop \\u0111ang c\\u00f3 nh\\u1eefng gi-<br>\", \"query_knowledge_base\", \"['object_type:cau_truot']\", \"action_query_babe_kb\"], [\"/confirm_attribute_value{\\\"price\\\": \\\"1M-2M\\\"}\", \"D\\u1ea1 m\\u1eddi b\\u1ea1n tham kh\\u1ea3o s\\u1ea3n ph\\u1ea9m hi\\u1ec7n c\\u00f3 t\\u1ea1i shop nh\\u00e9-<br>\", \"query_knowledge_base\", null, \"action_query_babe_kb\"], [\"C\\u00f3 c\\u00e1i n\\u00e0o r\\u1ebb h\\u01a1n k b\\u1ea1n\\r\\nC\\u1ea7u tr\\u01b0\\u1ee3t ri\\u00eang th\\u00f4i\", null, \"handover_to_inbox\", \"['object_type:cau_truot']\", \"action_handover_to_inbox\"], [\"B\\u1ea1n \\u01a1i b\\u00ean b\\u1ea1n hi\\u1ec7n c\\u00f2n nh\\u1eefng lo\\u1ea1i c\\u1ea7u tr\\u01b0\\u1ee3t n\\u00e0o n-<br>\", \"S\\u1ea3n ph\\u1ea9m  C\\u1ea7u tr\\u01b0\\u1ee3t x\\u00edch \\u0111u Hola h\\u1ea3i c\\u1ea9u 2020  hi\\u1ec7-<br> n shop \\u0111ang c\\u00f3 gi\\u00e1: *1,982,500 VND (gi\\u00e1 g\\u1ed1c 3,250,-<br>\", \"query_knowledge_base\", \"['object_type:cau_truot']\", \"action_query_babe_kb\"], [\"C\\u00f3 c\\u00e1i n\\u00e0o r\\u1ebb h\\u01a1n k b\\u1ea1n\\r\\nC\\u1ea7u tr\\u01b0\\u1ee3t ri\\u00eang th\\u00f4i\", \"S\\u1ea3n ph\\u1ea9m  C\\u1ea7u tr\\u01b0\\u1ee3t c\\u00f3 gi\\u00e1 th\\u1ea5p h\\u01a1n: *1,982,500 VN-<br> D (gi\\u00e1 g\\u1ed1c 3,250,000 VND)* shop c\\u00f3 m\\u1ed9t s\\u1ed1 s\\u1ea3n ph\\u1ea9m-<br>\", \"query_knowledge_base\", \"['object_type:cau_truot']\", \"action_query_babe_kb\"], [\"B\\u1ea1n \\u01a1i b\\u00ean b\\u1ea1n hi\\u1ec7n c\\u00f2n nh\\u1eefng lo\\u1ea1i c\\u1ea7u tr\\u01b0\\u1ee3t n\\u00e0o n-<br>\", \"S\\u1ea3n ph\\u1ea9m  C\\u1ea7u tr\\u01b0\\u1ee3t x\\u00edch \\u0111u Hola h\\u1ea3i c\\u1ea9u 2020  hi\\u1ec7-<br> n shop \\u0111ang c\\u00f3 gi\\u00e1: *1,982,500 VND (gi\\u00e1 g\\u1ed1c 3,250,-<br>\", \"query_knowledge_base\", \"['object_type:cau_truot']\", \"action_query_babe_kb\"], [\"C\\u00f3 c\\u00e1i n\\u00e0o r\\u1ebb h\\u01a1n k b\\u1ea1n\\r\\nC\\u1ea7u tr\\u01b0\\u1ee3t ri\\u00eang th\\u00f4i\", \"S\\u1ea3n ph\\u1ea9m  C\\u1ea7u tr\\u01b0\\u1ee3t c\\u00f3 gi\\u00e1 th\\u1ea5p h\\u01a1n: *1,982,500 VN-<br> D (gi\\u00e1 g\\u1ed1c 3,250,000 VND)* shop hi\\u1ec7n kh\\u00f4ng c\\u00f3.\\nB\\u1ea1n-<br>\", \"query_knowledge_base\", \"['object_type:cau_truot']\", \"action_query_babe_kb\"], [null, \"B\\u1ea1n \\u0111\\u00e3 t\\u00ecm \\u0111c s\\u1ea3n ph\\u1ea9m \\u01b0ng \\u00fd ch\\u01b0a \\u1ea1 ,c\\u00f3 c\\u1ea7n tr\\u1ee3 l\\u00fd-<br>\", \"reminder\", null, \"action_reminder\"], [\"Cho m stk t\\u1ed1i nh\\u1eadn h\\u00e0ng m ck nh\\u00e9\", \"D\\u1ea1 m\\u00ecnh g\\u1eedi b\\u1ea1n th\\u00f4ng tin t\\u00e0i kho\\u1ea3n c\\u1ee7a shop \\u1ea1:\\nTh-<br> \\u00f4ng tin chuy\\u1ec3n kho\\u1ea3n: \\n\\u2022 0611001928974 - VietcomBa-<br> nk chi nh\\u00e1nh Ba \\u0110\\u00ecnh. Nguy\\u1ec5n L\\u00ea Thu\\u1ef7\\n\\u2022 15002167568-<br> 61 - Agribank chi nh\\u00e1nh H\\u00e0 N\\u1ed9i - Nguy\\u1ec5n L\\u00ea Th\\u1ee7y\\n\\u2022 -<br> 19022876983383 - Techcombank chi nh\\u00e1nh H\\u00e0 N\\u1ed9i. Ngu-<br> y\\u1ec5n Tu\\u1ea5n Quang! \\nN\\u1ed9i dung chuy\\u1ec3n kho\\u1ea3n b\\u1ea1n ghi r\\u00f5 -<br> T\\u00ean Facebook + s\\u1ed1 \\u0111i\\u1ec7n tho\\u1ea1i v\\u00e0 nh\\u1eafn l\\u1ea1i b\\u00ean m\\u00ecnh -<br>\", \"ask_account\", null, \"action_ask_account\"], [\"ok shop\", null, \"agree\", null, \"utter_agree\"], [\"url\", \"B\\u1ea1n \\u0111ang t\\u00ecm ki\\u1ebfm th\\u00f4ng tin g\\u00ec \\u1ea1?\", \"send_link\", \"url\", \"action_handle_send_link_only\"], [\"B\\u1ea1n \\u01a1i b\\u1ea1n c\\u00f3 c\\u1ea7u tr\\u01b0\\u1ee3t n\\u00e0y k?\", \"D\\u1ea1, c\\u00f3 ph\\u1ea3i b\\u1ea1n mu\\u1ed1n h\\u1ecfi m\\u1ed9t trong c\\u00e1c s\\u1ea3n ph\\u1ea9m d\\u01b0-<br>\", \"query_knowledge_base\", \"['object_type:cau_truot', 'mention:n\\u00e0y']\", \"action_query_babe_kb\"], [\"/disagree{\\\"object_type\\\": null}\", \"B\\u1ea1n vui l\\u00f2ng m\\u00f4 t\\u1ea3 r\\u00f5 mong mu\\u1ed1n c\\u1ee7a b\\u1ea1n ho\\u1eb7c chat -<br>\", \"disagree\", null, \"utter_disagree\"], [\"/connect_employee\", null, \"connect_employee\", \"[]\", \"action_handover_to_inbox\"], [\"url\", \"B\\u1ea1n \\u0111ang t\\u00ecm ki\\u1ebfm th\\u00f4ng tin g\\u00ec \\u1ea1?\", \"send_link\", \"url\", \"action_handle_send_link_only\"], [\"B\\u1ea1n \\u01a1i b\\u1ea1n c\\u00f3 c\\u1ea7u tr\\u01b0\\u1ee3t n\\u00e0y k?\", \"D\\u1ea1, c\\u00f3 ph\\u1ea3i b\\u1ea1n mu\\u1ed1n h\\u1ecfi m\\u1ed9t trong c\\u00e1c s\\u1ea3n ph\\u1ea9m d\\u01b0-<br>\", \"query_knowledge_base\", \"['object_type:cau_truot', 'mention:n\\u00e0y']\", \"action_query_babe_kb\"], [\"C\\u00e1i nh\\u01b0 m\\u00ecnh g\\u1eedi \\u1ea3nh \\u1ea5y\", \"B\\u1ea1n vui l\\u00f2ng m\\u00f4 t\\u1ea3 r\\u00f5 mong mu\\u1ed1n c\\u1ee7a b\\u1ea1n ho\\u1eb7c chat -<br>\", \"disagree\", null, \"utter_disagree\"], [null, \"B\\u1ea1n \\u0111\\u00e3 t\\u00ecm \\u0111c s\\u1ea3n ph\\u1ea9m \\u01b0ng \\u00fd ch\\u01b0a \\u1ea1 ,c\\u00f3 c\\u1ea7n tr\\u1ee3 l\\u00fd-<br>\", \"reminder\", null, \"action_reminder\"], [\"C l\\u1ea5y b\\u1ed9 lego th\\u1ecf nh\\u00e9\\nNh\\u1eafn c stk c ck\", \"D\\u1ea1 m\\u00ecnh g\\u1eedi b\\u1ea1n th\\u00f4ng tin t\\u00e0i kho\\u1ea3n c\\u1ee7a shop \\u1ea1:\\nTh-<br> \\u00f4ng tin chuy\\u1ec3n kho\\u1ea3n: \\n\\u2022 0611001928974 - VietcomBa-<br> nk chi nh\\u00e1nh Ba \\u0110\\u00ecnh. Nguy\\u1ec5n L\\u00ea Thu\\u1ef7\\n\\u2022 15002167568-<br> 61 - Agribank chi nh\\u00e1nh H\\u00e0 N\\u1ed9i - Nguy\\u1ec5n L\\u00ea Th\\u1ee7y\\n\\u2022 -<br> 19022876983383 - Techcombank chi nh\\u00e1nh H\\u00e0 N\\u1ed9i. Ngu-<br> y\\u1ec5n Tu\\u1ea5n Quang! \\nN\\u1ed9i dung chuy\\u1ec3n kho\\u1ea3n b\\u1ea1n ghi r\\u00f5 -<br> T\\u00ean Facebook + s\\u1ed1 \\u0111i\\u1ec7n tho\\u1ea1i v\\u00e0 nh\\u1eafn l\\u1ea1i b\\u00ean m\\u00ecnh -<br>\", \"ask_account\", null, \"action_ask_account\"], [\"Ship v\\u1ec1 28 ng\\u00f5 48 ng\\u00f4 gia t\\u1ef1, long bi\\u00ean 0989067795\", \"\\\"C\\u1ea3m \\u01a1n b\\u1ea1n! B\\u1ea1n vui l\\u00f2ng ki\\u1ec3m tra l\\u1ea1i th\\u00f4ng tin \\u0111-<br> \\u1eb7t h\\u00e0ng gi\\u00fap shop nh\\u00e9!\\r\\n<Show ra c\\u00e1i b\\u1ea3ng m\\u1eabu \\u0111\\u1eb7t -<br> h\\u00e0ng: c\\u00f3 t\\u00ean s\\u1ea3n ph\\u1ea9m, cho kh\\u00e1ch t\\u00f9y ch\\u1ecdn s\\u1ed1 l\\u01b0\\u1ee3ng-<br>\", \"order\", \"[]\", \"action_order\"], [\"<x\\u00e1c nh\\u1eadn>\", \"B\\u1ea1n \\u0111\\u00e3 \\u0111\\u1eb7t h\\u00e0ng th\\u00e0nh c\\u00f4ng , \\u0111\\u01a1n h\\u00e0ng s\\u1ebd \\u0111c giao \\u0111-<br> \\u1ebfn 28 ng\\u00f5 48 ng\\u00f4 gia t\\u1ef1, long bi\\u00ean trong kho\\u1ea3ng 24-<br>\", \"confirm_order\", null, \"action_confirm_order\"], [\"alo shop\", \"Ch\\u00e0o b\\u1ea1n, m\\u00ecnh l\\u00e0 tr\\u1ee3 l\\u00fd \\u1ea3o c\\u1ee7a Shop G\\u1ea5u & B\\u00ed Ng\\u00f4,-<br>\", \"greet\", null, \"utter_greet\"], [\"url\", \"S\\u1ea3n ph\\u1ea9m  Gh\\u1ebf \\u0111a n\\u0103ng Mastela Premium 1016  hi\\u1ec7n s-<br> hop \\u0111ang c\\u00f3 gi\\u00e1: *1,590,000 VND (gi\\u00e1 g\\u1ed1c 2,000,000-<br>\", \"query_knowledge_base\", \"url\", \"action_query_babe_kb\"], [\"chi\\u1ec1u nay ship \\u0111\\u01b0\\u1ee3c lu\\u00f4n cho m\\u00ecnh \\u0111\\u01b0\\u1ee3c kh\\u00f4ng\", null, \"handover_to_inbox\", null, \"action_handover_to_inbox\"], [\"alo shop\", \"Ch\\u00e0o b\\u1ea1n, m\\u00ecnh l\\u00e0 tr\\u1ee3 l\\u00fd \\u1ea3o c\\u1ee7a Shop G\\u1ea5u & B\\u00ed Ng\\u00f4,-<br>\", \"greet\", null, \"utter_greet\"], [\"url\", \"S\\u1ea3n ph\\u1ea9m  Gh\\u1ebf \\u0111a n\\u0103ng Mastela Premium 1016  hi\\u1ec7n s-<br> hop \\u0111ang c\\u00f3 gi\\u00e1: *1,590,000 VND (gi\\u00e1 g\\u1ed1c 2,000,000-<br>\", \"query_knowledge_base\", \"url\", \"action_query_babe_kb\"], [\"chi\\u1ec1u nay ship \\u0111\\u01b0\\u1ee3c lu\\u00f4n cho m\\u00ecnh \\u0111\\u01b0\\u1ee3c kh\\u00f4ng\", \"B\\u1ea1n cho shop xin \\u0111\\u1ecba ch\\u1ec9 nh\\u1eadn h\\u00e0ng \\u1ea1.\", \"time_ship\", null, \"action_time_ship\"], [\"s\\u1ed1 7 tr\\u00e0ng thi\", \"V\\u1edbi \\u0111\\u1ecba ch\\u1ec9 s\\u1ed1 7 tr\\u00e0ng thi shop c\\u00f3 th\\u1ec3 ship h\\u00e0ng \\u0111-<br>\", \"time_ship\", null, \"action_time_ship\"], [\"url\", \"D\\u1ea1, c\\u00f3 ph\\u1ea3i b\\u1ea1n mu\\u1ed1n h\\u1ecfi m\\u1ed9t trong c\\u00e1c s\\u1ea3n ph\\u1ea9m d\\u01b0-<br>\", \"query_knowledge_base\", \"url\", \"action_query_babe_kb\"], [\"/query_knowledge_base{\\\"url\\\": \\\"https://www.facebook-<br> .com/shopgauvabingo/posts/2435578706752453\\\", \\\"prod-<br> uct_id\\\": \\\"https://www.facebook.com/shopgauvabingo/-<br>\", \"B\\u1ed9 \\u0111\\u1ed3 ch\\u01a1i nh\\u00e0 b\\u1ebfp th\\u00f4ng minh hi\\u1ec7n shop \\u0111ang c\\u00f3 gi-<br> \\u00e1: 790000 VND (gi\\u00e1 g\\u1ed1c 790000 VND). B\\u1ea1n tham kh\\u1ea3o -<br>\", \"query_knowledge_base\", null, \"action_query_babe_kb\"], [\"oki shop\", \"D\\u1ea1, v\\u00e2ng \\u1ea1\", \"agree\", null, \"utter_agree\"], [\"url\", \"S\\u1ea3n ph\\u1ea9m b\\u1ea1n \\u0111ang t\\u00ecm c\\u00f3 ph\\u1ea3i l\\u00e0?\", \"query_knowledge_base\", \"url\", \"action_query_babe_kb\"], [\"/confirm_object_type{\\\"object_type\\\": \\\"bo_do_choi\\\"}\", \"B\\u1ed9 \\u0111\\u1ed3 ch\\u01a1i nh\\u00e0 b\\u1ebfp th\\u00f4ng minh hi\\u1ec7n shop \\u0111ang c\\u00f3 gi-<br> \\u00e1: 790000 VND (gi\\u00e1 g\\u1ed1c 790000 VND). B\\u1ea1n tham kh\\u1ea3o -<br>\", \"query_knowledge_base\", null, \"action_query_babe_kb\"], [\"oki shop\", \"D\\u1ea1, v\\u00e2ng \\u1ea1\", \"agree\", null, \"utter_agree\"], [\"url\", \"B\\u1ed9 \\u0111\\u1ed3 ch\\u01a1i nh\\u00e0 b\\u1ebfp th\\u00f4ng minh hi\\u1ec7n shop \\u0111ang c\\u00f3 gi-<br> \\u00e1: 790000 VND (gi\\u00e1 g\\u1ed1c 790000 VND). B\\u1ea1n tham kh\\u1ea3o -<br>\", \"query_knowledge_base\", \"url\", \"action_query_babe_kb\"], [\"c\\u00f3 nh\\u1eefng k\\u00edch th\\u01b0\\u1edbc g\\u00ec \\u1ea1\", \"S\\u1ea3n ph\\u1ea9m  B\\u1ed9 \\u0111\\u1ed3 ch\\u01a1i nh\\u00e0 b\\u1ebfp th\\u00f4ng minh c\\u00f3 k\\u00edch th-<br> \\u01b0\\u1edbc: 57x30x77cm v\\u00e0 51x32x100cm\\nB\\u1ea1n tham kh\\u1ea3o c\\u00e1c s-<br>\", \"query_knowledge_base\", \"['attribute:size']\", \"action_query_babe_kb\"], [null, \"B\\u1ea1n \\u0111\\u00e3 t\\u00ecm \\u0111c s\\u1ea3n ph\\u1ea9m \\u01b0ng \\u00fd ch\\u01b0a \\u1ea1 ,c\\u00f3 c\\u1ea7n tr\\u1ee3 l\\u00fd-<br>\", \"reminder\", null, \"action_reminder\"], [\"Th\\u1ebf c\\u00f2n lo\\u1ea1i n\\u00e0o n\\u1eefa ko c\\nXe ch\\u00f2i ch\\u00e2n \\u00fd\", \"S\\u1ea3n ph\\u1ea9m  Xe Ch\\u00f2i Ch\\u00e2n  hi\\u1ec7n shop \\u0111ang c\\u00f3 gi\\u00e1: *58-<br> 0,000 VND (gi\\u00e1 g\\u1ed1c 800,000 VND), 499,000 VND (gi\\u00e1 -<br> g\\u1ed1c 800,000 VND), 699,000 VND (gi\\u00e1 g\\u1ed1c 998,000 VND-<br> ), 448,400 VND (gi\\u00e1 g\\u1ed1c 590,000 VND), 576,000 VND -<br> (gi\\u00e1 g\\u1ed1c 800,000 VND)*.\\nB\\u1ea1n tham kh\\u1ea3o c\\u00e1c s\\u1ea3n ph\\u1ea9m-<br>\", \"query_knowledge_base\", \"['object_type:xe_choi_chan']\", \"action_query_babe_kb\"], [\"thank sop\", \"d\\u1ea1,v\\u00e2ng \\u1ea1\", \"thank\", null, \"utter_thank\"], [\"Shop cho e stk agribank \\u0111\\u1ec3 e ck \\u1ea1\", \"D\\u1ea1 m\\u00ecnh g\\u1eedi b\\u1ea1n th\\u00f4ng tin t\\u00e0i kho\\u1ea3n c\\u1ee7a shop \\u1ea1:\\nTh-<br> \\u00f4ng tin chuy\\u1ec3n kho\\u1ea3n: \\n\\u2022 0611001928974 - VietcomBa-<br> nk chi nh\\u00e1nh Ba \\u0110\\u00ecnh. Nguy\\u1ec5n L\\u00ea Thu\\u1ef7\\n\\u2022 15002167568-<br> 61 - Agribank chi nh\\u00e1nh H\\u00e0 N\\u1ed9i - Nguy\\u1ec5n L\\u00ea Th\\u1ee7y\\n\\u2022 -<br> 19022876983383 - Techcombank chi nh\\u00e1nh H\\u00e0 N\\u1ed9i. Ngu-<br> y\\u1ec5n Tu\\u1ea5n Quang! \\nN\\u1ed9i dung chuy\\u1ec3n kho\\u1ea3n b\\u1ea1n ghi r\\u00f5 -<br> T\\u00ean Facebook + s\\u1ed1 \\u0111i\\u1ec7n tho\\u1ea1i v\\u00e0 nh\\u1eafn l\\u1ea1i b\\u00ean m\\u00ecnh -<br>\", \"ask_account\", null, \"action_ask_account\"], [\"M\\u00ecnh chuy\\u1ec3n kho\\u1ea3n r\\u1ed3i nh\\u00e9 \", null, \"handover_to_inbox\", null, \"action_handover_to_inbox\"], [\"Shop cho e stk agribank \\u0111\\u1ec3 e ck \\u1ea1\", \"D\\u1ea1 m\\u00ecnh g\\u1eedi b\\u1ea1n th\\u00f4ng tin t\\u00e0i kho\\u1ea3n c\\u1ee7a shop \\u1ea1:\\nTh-<br> \\u00f4ng tin chuy\\u1ec3n kho\\u1ea3n: \\n\\u2022 0611001928974 - VietcomBa-<br> nk chi nh\\u00e1nh Ba \\u0110\\u00ecnh. Nguy\\u1ec5n L\\u00ea Thu\\u1ef7\\n\\u2022 15002167568-<br> 61 - Agribank chi nh\\u00e1nh H\\u00e0 N\\u1ed9i - Nguy\\u1ec5n L\\u00ea Th\\u1ee7y\\n\\u2022 -<br> 19022876983383 - Techcombank chi nh\\u00e1nh H\\u00e0 N\\u1ed9i. Ngu-<br> y\\u1ec5n Tu\\u1ea5n Quang! \\nN\\u1ed9i dung chuy\\u1ec3n kho\\u1ea3n b\\u1ea1n ghi r\\u00f5 -<br> T\\u00ean Facebook + s\\u1ed1 \\u0111i\\u1ec7n tho\\u1ea1i v\\u00e0 nh\\u1eafn l\\u1ea1i b\\u00ean m\\u00ecnh -<br>\", \"ask_account\", null, \"action_ask_account\"], [\"url\", \"C\\u1ea3m \\u01a1n b\\u1ea1n, nh\\u00e2n vi\\u00ean c\\u1ee7a shop s\\u1ebd x\\u00e1c nh\\u1eadn s\\u1edbm l\\u1ea1i-<br>\", \"confirm_transfer\", null, \"confirm_transfer\"], [\"url\", \"S\\u1ea3n ph\\u1ea9m Xe ch\\u00f2i ch\\u00e2n ki\\u00eam xe l\\u1eafc cao c\\u1ea5p c\\u00f3 nh\\u1ea1c -<br> Holla hi\\u1ec7n shop \\u0111ang c\\u00f3 gi\\u00e1: *790,000 VND (gi\\u00e1 g\\u1ed1c-<br>  1,200,000 VND)*.\\nB\\u1ea1n tham kh\\u1ea3o c\\u00e1c s\\u1ea3n ph\\u1ea9m sau n-<br>\", \"query_knowledge_base\", \"url\", \"action_query_babe_kb\"], [\"ok shop\", \"V\\u00e2ng \\u1ea1!\", \"agree\", null, \"utter_agree\"], [\"Ch\\u00e0o shop\", \"Ch\\u00e0o b\\u1ea1n, m\\u00ecnh l\\u00e0 tr\\u1ee3 l\\u00fd \\u1ea3o c\\u1ee7a Shop G\\u1ea5u & B\\u00ed Ng\\u00f4,-<br>\", \"greet\", \"[]\", \"utter_greet\"], [\"\\u0110\\u1ed3 eco c\\u00f2mybaby h\\u1ebft lo\\u1ea1i 6-9m h\\u1ea3 ch\\u1ecb\", \"S\\u1ea3n ph\\u1ea9m Eco Comfybaby \\u0111\\u1ed9 tu\\u1ed5i s\\u1eed d\\u1ee5ng 6 - 9 th\\u00e1ng-<br>  hi\\u1ec7n \\u0111ang h\\u1ebft h\\u00e0ng. M\\u1eddi b\\u1ea1n tham kh\\u1ea3o c\\u00e1c s\\u1ea3n ph\\u1ea9-<br>\", \"query_knowledge_base\", \"['object_type:quan_ao']['size:6-9m']\", \"action_query_babe_kb\"], [\"ok shop\", \"V\\u00e2ng \\u1ea1!\", \"agree\", null, \"utter_agree\"], [\"url\", \"S\\u1ea3n ph\\u1ea9m  Xe t\\u1eadp \\u0111i \\u0111a n\\u0103ng cao c\\u1ea5p Holla hi\\u1ec7n sho-<br> p \\u0111ang c\\u00f3 gi\\u00e1: *750,000 VND (gi\\u00e1 g\\u1ed1c 1,200,000 VND-<br> )*.\\nB\\u1ea1n tham kh\\u1ea3o c\\u00e1c s\\u1ea3n ph\\u1ea9m sau nh\\u00e9 \\u1ea1:\\n<show ca-<br>\", \"query_knowledge_base\", \"url\", \"action_query_babe_kb\"], [\"ok shop\", \"V\\u00e2ng \\u1ea1!\", \"agree\", null, \"utter_agree\"], [\"Cho m\\u00ecnh link shoppe\", \"M\\u00ecnh ch\\u01b0a x\\u00e1c \\u0111\\u1ecbnh \\u0111\\u01b0\\u1ee3c m\\u00f3n \\u0111\\u1ed3 b\\u1ea1n h\\u1ecfi, b\\u1ea1n m\\u00f4 t\\u1ea3 -<br>\", \"query_knowledge_base\", \"['attribute:link']\", \"action_query_babe_kb\"], [\"Xe l\\u1eafc \\u0111\\u00f3 b\", \"D\\u1ea1 m\\u1eddi b\\u1ea1n xem s\\u1ea3n ph\\u1ea9m t\\u1ea1i \\u0111\\u00e2y \\u1ea1:\\n<show card sp>\", \"query_knowledge_base\", \"['object_type: xe_tap_di','attribute:link']\", \"action_query_babe_kb\"]], \"hovertemplate\": \"x=%{x}<br>y=%{y}<br>z=%{z}<br>short_input_texts=%{customdata[0]}<br>short_bot_texts=%{customdata[1]}<br>intent=%{customdata[2]}<br>short_entities=%{customdata[3]}<br>action_1=%{customdata[4]}<br>cluster=%{marker.color}<extra></extra>\", \"legendgroup\": \"\", \"marker\": {\"color\": [5, 1, 5, 3, 0, 5, 1, 0, 1, 0, 3, 3, 0, 3, 1, 0, 3, 5, 0, 3, 5, 5, 5, 1, 4, 1, 5, 3, 1, 3, 3, 5, 0, 3, 3, 5, 1, 0, 3, 5, 0, 3, 5, 4, 0, 3, 5, 4, 0, 3, 5, 0, 3, 1, 1, 5, 1, 1, 4, 5, 3, 1, 1, 1, 5, 1, 3, 3, 0, 3, 5, 0, 3, 3, 0, 0, 3, 5, 3, 3, 5, 3, 3, 3, 1, 5, 5, 3, 3, 0, 3, 1, 5, 1, 4, 1, 5, 4, 0, 1, 4, 1, 5, 1, 3, 5, 3, 5, 1, 1, 4, 3, 1, 4, 5, 1, 5, 5, 1, 4, 5, 3, 3, 0, 1, 4, 5, 1, 4, 5, 3, 1, 4, 1, 5, 0, 3, 1, 1, 4, 0, 5, 5, 5, 4, 5, 5, 3, 5, 1, 0, 3, 5, 4, 3, 3, 1, 4, 3, 3, 5, 1, 1, 3, 5, 4, 3, 1, 1, 3, 4, 0, 3, 4, 0, 5, 4, 5, 5, 4, 5, 1, 4, 5, 5, 5, 4, 0, 3, 1, 1, 4, 0, 1, 4, 0, 3, 4, 5, 1, 4, 0, 5, 1, 4, 0, 1, 3, 5, 4, 1, 5, 4, 0, 5, 1, 4, 0, 5, 3, 1, 4, 0, 3, 5, 4, 0, 3, 1, 1, 1, 4, 2, 3, 1, 4, 0, 3, 3, 4, 0, 3, 3, 5, 4, 5, 3, 5, 5, 1, 3, 5, 5, 5, 5, 5, 5, 5, 5, 4, 3, 4, 3, 1, 4, 5, 5, 3, 1, 0, 3, 0, 3, 5, 5, 3, 5, 3, 4, 0, 5, 5, 1, 0, 3, 4, 5, 3, 4, 0, 3, 4, 0, 3, 1, 1, 5, 5, 1, 3, 5, 5, 1, 3, 1, 1, 1, 4, 3, 1, 1, 1, 3, 1, 5, 1, 5, 3, 3, 7, 0, 3, 3, 5, 5, 5, 1, 4, 3, 5, 5, 5, 1, 5, 5, 1, 5, 5, 1, 3, 3, 1, 4, 5, 5, 1, 5, 3, 1, 1, 5, 1, 1, 3, 3, 3, 4, 0, 5, 5, 1, 3, 1, 4, 0, 5, 4, 3, 0, 3, 1, 0, 0, 5, 5, 3, 3, 0, 3, 5, 5, 1, 4, 0, 3, 5, 5, 1, 1, 5, 4, 0, 3, 0, 3, 5, 3, 3, 5, 3, 4, 5, 1, 4, 5, 1, 5, 5, 4, 3, 4, 5, 3, 5, 5, 1, 1, 5, 3, 1, 1, 3, 1, 5, 4, 3, 5, 0, 5, 1, 4, 1, 1, 1, 3, 3, 1, 5, 1, 1, 5, 5, 5, 1, 3, 3, 5, 3, 1, 3, 5, 5, 5, 5, 4, 5, 4, 5, 1, 4, 3, 1, 0, 3, 0, 3, 0, 3, 4, 5, 4, 3, 1, 5, 0, 5, 1, 5, 3, 1, 5, 1, 1, 1, 1, 4, 5, 4, 5, 3, 1, 5, 1, 1, 1, 0, 5, 5, 3, 5, 3, 0, 3, 0, 3, 3, 4, 1, 3, 5, 3, 3, 3, 1, 1, 3, 3, 3, 1, 3, 3, 1, 3, 3, 1, 3, 3, 1, 3, 0, 3, 1, 3, 3, 1, 3, 1, 1, 3, 3, 3, 3, 3, 3, 3, 1, 3, 1, 6, 3, 1, 3, 3, 3, 1, 3, 3, 5, 3, 3, 5, 5, 3, 1, 3, 1, 4, 0, 3, 1, 4, 0, 3, 1, 3, 1, 1, 5, 1, 1, 3, 5, 0, 5, 1, 1, 0, 3, 3, 1, 0, 3, 1, 4, 3, 1, 1, 4, 3, 3, 3, 3, 1, 3, 3, 5, 3, 3, 3, 3, 5, 1, 1, 0, 3, 5, 1, 0, 3, 1, 5, 1, 1, 1, 4, 3, 1, 4, 3, 1, 1, 3, 3, 1, 5, 3, 1, 5, 3, 5, 3, 1, 1, 1, 1, 1, 3, 1, 4, 5, 1, 5, 1, 1, 3], \"coloraxis\": \"coloraxis\", \"symbol\": \"circle\"}, \"mode\": \"markers\", \"name\": \"\", \"scene\": \"scene\", \"showlegend\": false, \"type\": \"scatter3d\", \"x\": [-3.37285, 7.987443400000001, -0.16473712, -10.315663, 2.6469537999999995, 3.8233269999999995, 6.8430963, 2.6469537999999995, 6.1475077, 0.62437534, -9.596494999999999, -9.170029, 0.6235464, -9.596494, 8.945139, 0.9705600000000001, -10.749151, -3.8356292, 2.9532077, -9.696203, 0.4702412, -1.2488823999999998, 1.9247453999999997, 5.1783532999999995, 4.264434, 3.4905982000000004, 3.0105392999999996, -8.878603, 8.34256, -9.386837, -6.5032554000000005, 0.43132433, 1.0937465, -9.409965, -6.9505043, -1.1145301, 11.239213000000001, 0.5691058000000001, -4.713136, 2.626733, 1.7711689999999998, -10.473852, -4.349541, 4.264434, 1.7934377000000001, -10.031483999999999, -0.2205607, 4.264434, 0.13198, -9.228304, 2.2142234, 1.9860629, -8.595752000000001, 5.6883864, 5.8101587, -3.2239766, 7.337254, 10.617298, 4.264434, -0.45888406, -4.439553, 10.620822, 12.595485, 12.350641, 2.132253, 12.574451, -5.652677, -4.4939394, 0.8065467, -12.046685, 0.5413844, 1.6741253, -9.745472, -8.120363000000001, 0.25629377, 0.9842468000000001, -10.51329, 2.180976, -5.669674, -6.999653299999999, -1.1645603999999998, -8.936416, -6.641627000000001, -6.5210404, 10.367321, -3.4976013, 0.50277656, -6.751089599999999, -6.6385125999999985, 0.9867125, -9.260003, 10.621478999999999, -0.7313593, 5.662775, 4.264434, 5.649280999999999, 2.4599542999999997, 1.7736591, 2.7383627999999995, 6.0592456, 1.7738973999999998, 10.60035, 2.2062874, 7.215963, -11.3987875, 0.4527778, -5.492766400000001, -0.46755522, 12.159742, 10.213961999999999, 4.264434, -8.444105, 8.156456, 2.9249065, -3.5637612, 11.762205, 2.1005623, -3.2351384, 5.415469, 1.8869619999999998, -3.0757797000000004, -7.57052, -8.918027, 1.9981983, 5.285437, 2.7783346, -3.7725410000000004, 11.303247, 3.097081, -3.7725383999999997, -5.649441, 11.90819, 3.4601207, 5.3032455, 0.44749540000000004, 1.7941300999999998, -4.662262, 6.279812000000001, 9.908889, 3.8568572999999997, 0.25893402, -2.029443, -0.67717147, 2.4447970000000003, 2.7556032999999998, 1.012521, -0.14933866, -6.110681, 4.138896, 10.714097, -0.5465017, -11.99602, 4.2853107, 3.0674381, -5.191607, -5.057892, 11.038160000000001, 3.2999824999999996, -4.8739114, -5.0574102, -2.051657, 11.848419, 10.287136, -12.09722, -3.7724967000000005, 2.292923, -5.844933999999999, 6.93222, 6.7249045, -9.987237, 3.0711357999999995, 1.1226888000000002, -8.9371, 3.2999822999999995, 1.5406117, -2.2267292000000003, 3.2999828, -1.3469236, -1.9863076000000002, 3.3380160000000005, -2.2588587, 11.781469, 3.2430668, -1.4762598, -2.4881713, -0.10912225, 4.0311685, 0.6534287, -9.278583, 4.7395816, 5.4494357, 4.013827, 0.6019649, 10.620307, 4.264434, 1.8931308999999998, -10.850913, 2.2929997, -3.2101357000000004, 11.850166999999999, 2.293001, 0.7247218000000001, 0.56545085, 9.660233, 2.9180669999999997, 1.9267535, 6.165830000000001, -5.5414900000000005, 1.0078950999999998, 3.7901818999999994, 9.277973, -1.0927209999999998, 3.7110958, -0.73100847, -2.1969626, 11.398367, 3.3734447999999997, -0.73100847, -2.1969652, -8.640036, 11.629883, 2.6717397999999997, 0.54400265, -9.480971, 2.435152, 2.7953327, 0.54400265, -9.480971, 5.7918367, 11.686022999999999, 10.4309, 3.6604946000000003, 227.7722, -5.017799, 7.164428999999999, 3.4679620000000004, 0.12771949999999999, -9.242426, -4.35283, 3.9035773000000002, 0.12729964, -8.11897, -3.8058512, 4.2852, 2.6502972000000002, -2.5583713, -8.016758, 1.8873875, 2.4803727, 11.613133, -11.832248, -1.9259064, -3.9089396, 0.25047579999999997, 0.30964896, -3.4104349999999997, 1.8838778999999999, 0.20228592, 1.1117264, 3.3966477, -6.999910400000001, 3.7316415000000003, -6.999910400000001, 6.506945, 2.9287236, -1.8860853, 1.503998, -6.548882, 10.617298, 1.156412, -5.616686, 0.805858, -12.108069, 0.5027765000000001, -4.0214767, -11.3987875, 0.45279148, -5.4927660000000005, 2.7272912999999996, 0.25892618, -2.0294944999999998, -0.67716855, 11.770009, 1.8652781999999999, -11.996032000000001, 3.015127, -2.3660069999999997, -5.698532, 2.6717274, 0.5454176, -9.478955000000001, 3.7630997, 1.7301015, -9.444593, 4.513927, 6.697578999999999, 0.9377154000000001, -1.0110468000000001, 9.660922, -4.9399986, 2.6415415, 2.6413752999999995, 6.240915, -6.9131227, 4.698221, 5.449435, 11.600749, 2.292997, -8.971717, 4.345288, 5.449163400000001, 6.659762, -8.971717, 4.7326239999999995, 3.1713445, 11.55068, -0.5341929, -5.054648, -4.603317700000001, 16.292564000000002, -0.010402614000000001, -8.594669, -5.3322806, -2.352574, -0.24584508, 1.2395216, 10.715531, 2.7415217999999997, -4.8829093, -0.38682163, 3.838764, -0.37098348, 7.4087190000000005, 3.8387635, 0.2250248, 5.4493184, 2.380634, -0.54030496, 11.678014, -5.088841, -6.629598, 12.554784, 2.7993555, 2.8367107000000003, 0.19561791, 10.837381, 2.0596251, -6.326666400000001, 5.0917616, 5.449319, -3.0059153999999997, 8.705473, 6.158295, -9.29836, -5.615858, -11.058860000000001, 3.4138477, -0.19545409, -3.2901684999999996, 4.294956, 10.643231, -6.575226299999999, 10.2999735, 2.941265, 1.7912304000000001, 1.7914466, 2.7043326000000003, -8.51097, 1.131268, -5.4433417, 10.032632000000001, 0.43107617, 0.43107608, -1.8654213, 0.7786469, -6.7606535, -5.549768, 0.22167605, -5.002128599999999, 2.8549109, 3.9173079, 7.138217999999999, 2.5755172, -0.6763296, -10.284362, 2.4457473999999997, -0.8273333, 12.712183, 13.206087, 1.1771129999999999, 3.2331727000000003, 1.7895055, -5.399000599999999, -0.010485942, -9.709707, 0.30507973, -9.386837, -6.5033007000000005, 0.44588903, -12.152744, 0.37188545, -2.605696, 4.1515173999999995, 0.37188527, -3.4141252, 4.151489700000001, 1.3697876, -3.273922, 0.06315231, -4.009080399999999, 0.063152224, -2.8994462000000003, -7.372453, -2.6466367, -3.8214037000000003, 11.383203, 8.311544, 1.3378501, -8.249978, 11.863441, 7.8832197, -7.213509599999999, 4.539184, 3.3570662000000002, 0.37188527, -5.4987807, -1.9645313999999998, 0.75125146, -2.937643, 6.851795, 0.063152246, 8.266747, 8.565223, 5.7144523000000005, -7.847316999999999, -6.203608, 4.1515173999999995, 1.3207885, 8.565221000000001, 4.0441837, -3.389743, -0.5475445, -3.5180504, 11.589334, -5.3480300000000005, -8.499528, 0.49574825, -5.4041357, 11.624781, -5.4109169999999995, 3.3488111000000003, 1.4227465, 1.4331633, 1.8393034, 2.8750417, 1.9301088, 3.0654826, 0.5001445, 9.910267, 3.0007994, -4.722508400000001, 5.712314599999999, -0.63205665, -7.934883599999999, -0.6320477, -8.65515, -0.63204896, -11.0888605, 0.20656882, -0.8376459, 0.20656884, -5.820188, 11.385503, 3.9124193, 2.2033446, 5.237906, 11.420619, -3.7389977, -4.7511053, 5.8904977, 2.9991993999999997, 9.908894, 10.566314, 9.638196, 9.908894, 0.20656757, 1.7189837, 0.20656753, 1.7189837, -10.983572, 6.1148489999999995, 1.5607883, 8.480071, 12.958822, 11.709793, 2.4783173, 0.82679206, -1.4855194999999999, -11.000579, -1.8267773, -11.000583, 0.27521986, -7.2751546000000005, 0.27488697, -6.6672053, -10.595028, 5.0653440000000005, 12.991805000000001, -9.718722999999999, -1.2053533, -4.910631700000001, -11.477881, -6.2870207, 4.741050700000001, 7.006977, -11.477881, -6.2870297, -11.073302, 6.9268410000000005, -11.478069, -11.923468, 6.9268410000000005, -11.478069, -11.885628, 6.926840299999999, -11.477882000000001, -11.122455, 6.9291663, -8.97841, 3.2326367, -12.131673, 10.616149, -8.97841, -9.85267, 10.628341, -6.4488330000000005, 4.7394176, 5.4494214, -10.965353, -4.214399299999999, -5.793367, -11.072973, -6.852549000000001, -10.985832, -6.852549000000001, 10.618508, -6.8782773, 4.697553, -72.09360500000001, -11.070030000000001, 12.413131, -4.6090029999999995, -11.073302, -8.822511, 5.5365486, -10.291532, -12.061876, 0.3700817, -10.290018, -12.062349000000001, 1.0163440000000001, -3.708297, -11.073209, 5.5365477, -9.040157, 6.9268410000000005, 2.7556, -1.1418827, -12.010036999999999, 5.537832, 2.7556, -1.141886, -11.322261, 5.536663, -4.70787, 4.739828, 10.386762, -2.358014, 4.698622, 10.386817, -4.3702354, -0.22307625, 1.6337128, -2.5203029999999997, 4.741061, 10.386927, 1.6337126, -4.8874393, -6.2519083, 10.057309, 1.6337126, -5.629658999999999, 9.619388, 2.5539142999999997, -12.462143, 5.289773, 10.386818, 2.5539138, -12.3281, -9.174588, -7.5293756, -9.884395, 10.621469, -11.326267999999999, -7.8930087, -0.14226517, -9.884389, -8.529741, -9.63857, -6.812107000000001, 0.704404, 8.027866, 5.577220400000001, 1.975316, -11.92661, 2.8870227, 10.386774, 1.9753653999999998, -11.926691, 5.1870303, 0.70440394, 9.283864, 9.6060095, 11.935027, 2.6717277000000004, -3.9545755, 2.8203175, 2.5541155, -3.9547303, 4.208042, 9.366494, -4.8013706, -4.0057583, 7.059112, -2.3609576, -5.011464, 7.059112, -3.6425137999999997, -10.298397999999999, 0.704404, -5.328809, 11.343663000000001, 7.202038000000001, 4.519811, 7.201722599999999, 9.347476, -6.926363, 11.447676, 0.063151784, 4.954872, 11.904942, -2.0494702, 11.418196, 4.3259907, -5.102382700000001], \"y\": [1.7742930000000001, -2.0093422, -0.038244043, 0.41496396, 4.503409400000001, -0.39414293, 0.4027897, 4.503409400000001, -1.3499703, 5.5243673, -3.0060906000000003, 0.32487947, 5.5243554, -3.0060909, -0.92101383, 3.9800828, -2.2283682999999996, 4.127543, 5.096465599999999, -2.2980556, -0.10027465, -1.9906733, 1.4350171999999999, 3.026509, -10.863783999999999, 2.615373, 1.1227504, -3.5978477, -0.5139562, -3.4291150000000004, 1.7812188000000002, 1.0840076, 5.3227887, -3.4122446, -3.5163642999999998, -0.10000552, -0.11795428, 4.1656938, -1.860109, 0.9576096, 6.4489884, -1.6280683999999999, 1.9623974999999998, -10.863783999999999, 4.0473466, -2.1378918, 3.6896142999999997, -10.863783999999999, 4.3906574, -1.9766748, 0.5481496, 5.043725, -3.2928947999999996, -0.54938745, -0.10155677, -2.7335724999999997, -1.232826, 2.3768857000000003, -10.863783999999999, 3.3611627, -3.668718, 1.8781543, -0.88053066, -1.114935, 1.370861, -0.87641823, -1.6910558999999998, 1.7868525000000002, 6.050618, -1.9137828000000001, 0.7769262, 5.34668, -1.8514169999999999, 1.3985319999999999, 4.7803373, 6.0037923, -2.9039562, 1.8775243000000001, 1.7646580000000003, 1.6031007, 3.2036189999999998, -3.602879, 1.6290778000000001, 0.6685161000000001, -0.29879162, -0.024203882000000003, 2.7444034, 1.5139439, 1.6709486, 5.0970635, -1.972789, 1.8794756999999997, 2.1996569999999998, 0.19008012, -10.863783999999999, -0.9083184000000001, -1.0828593, -12.677906, 5.615302, -1.4584266000000001, -12.678277, -0.36420518, 1.5733294, -0.42271435, -3.6196723, 2.9935419999999997, 1.2313098, 3.5090137, -1.3017781000000002, -1.0446889000000001, -10.863785, -0.12846664, 0.99644583, -11.364632, -1.0507375, -1.2863524, 1.5222461, 1.8311661, 1.9249246, -12.730528, 2.6170206, 0.58512044, 1.3939030000000001, 3.11742, -0.86391085, -10.737509, 2.0418146, -0.09043451, -10.546853, 2.0418143, 1.7559031000000003, 1.7193546000000002, -10.695647, -0.7780755, 1.9498131, 4.1539903, 3.7405584000000003, -1.5547211, 1.9358807, -11.354818, 6.9718795, 1.2311492, 1.1146791999999999, 1.4385635, -13.091776, -0.43722156, -0.10853459, 0.0014131737, -0.79862845, -1.7228148, 3.8904288, -0.78804666, 0.26346020000000003, -10.913851, 3.7671936, -3.454821, 0.011188498, -13.193791000000001, 3.7394587999999995, -3.4547248, 3.1834927000000004, 1.3218528999999999, -0.28816533, -0.60329497, 0.09950956, -12.070883, 1.9272764, -0.2741303, 3.4599620000000004, -1.7972251000000001, -12.665273, 4.1087584, -0.85737425, -13.19379, 4.0366488, 1.9878645000000001, -13.193791000000001, -2.8820817, 1.3931559999999998, -11.759603, 1.4081264, 2.0124185000000003, -12.096741, -2.8649647000000003, 2.0261104, 2.4897132, -11.585637, 5.870541, 1.6399326, 0.30959580000000003, 2.3798287, -11.131347, 3.7057521, -1.0467999, -10.863783999999999, 2.7871987999999996, 0.8850992, -12.070393, -0.87793005, 1.3214483, -12.070392, 4.5033417, -0.606176, 1.203185, -11.899442, 4.055739, 0.19922997, -4.2092175, 2.1124356, -11.333625999999999, -1.5295508, 2.4433897, -11.776775, 4.222553700000001, 3.1001337, 1.1808486, -11.876385, 4.222553700000001, 3.1001157999999998, 1.6784674, -0.5139544, -12.946514, 6.0008097000000005, 1.7990595, 1.2960535, -10.962603999999999, 6.0008097000000005, 1.7990595, -0.50084996, 1.2190865, -1.1519886000000001, -12.029556, -41.691708, 1.1472565000000001, -0.7844589, -11.098873, 7.404946000000001, 1.4504434, -2.8908088, -10.912180000000001, 7.404903999999999, 1.8450209, -2.6513033, 0.26361063, -11.421289, 3.6525419, 0.37690175, 0.031927817000000004, 0.39918262, 0.48432738, -0.72884893, 1.4530743, 1.592484, -0.00734395, 0.017519866999999998, 0.33096, -0.7951017, 0.18588120000000002, -1.1083374, -10.5429325, -0.7663149, -11.744618, -0.766315, 0.74759746, -11.248312, 1.5682595, 1.8649147000000001, -0.85854906, 2.3768857000000003, 3.5452223, -1.6857673, 6.0506225, -1.9282025, 2.7444034, 1.557342, -3.619672, 2.9935392999999997, 1.2313098999999998, -11.64741, 6.971856, 1.2314091999999999, 1.1146793, 1.3121417, 3.570118, -0.7880775, -11.116086, -0.8090204000000001, 1.6667604, -12.946558, 6.000774400000001, 1.7990529999999998, -10.711426, 5.8027034, 0.33813542, 3.1539855, 3.4355981, 2.6391807000000003, 0.7208561, 1.2031157, 1.6522949, 1.1486633, 1.1486577, 0.8971326999999999, 2.043025, 0.021184491, 2.3798282000000004, -0.91337293, -12.070392, 1.4852812, 0.055724747000000005, 2.3801353, 3.444033, 1.4852812, -0.1808317, -0.28408784, 0.14686391, 3.3849201, -3.3120019999999997, -1.695759, 54.345380000000006, 4.173319, -1.7480981, -4.098884, -0.6014263000000001, 2.568437, 1.6299508, -1.0992897, -11.920167, -3.9936707, -0.8576924000000001, -0.056568198, 2.5342402, -0.8475942, -0.056567505, 2.8404973, 2.37983, 2.3310356, -0.15359542, -0.042821835999999995, -2.414603, 1.2551501, -0.84338826, -11.864367, 0.39614502, 2.3016248, -1.2885277, 1.5491568000000002, 4.342741999999999, -0.048440712999999996, 2.3798296000000003, -1.4204121, -0.6234982, 1.8212758000000002, -1.8661458, 2.4756129000000002, 1.1727893, -11.131765, 6.025607599999999, -2.729953, 0.6009573, -1.0523129999999998, 1.6108971, -1.2910743, -10.997297999999999, 4.512909400000001, -0.34469485, -10.8880415, 1.3906976999999998, 2.7773838, -2.0008678, -1.2283846, 3.262711, 3.262711, 1.4826629999999998, -0.8337498999999999, 4.265067, -3.6529589999999996, 3.3755817, -1.4194314, 0.55164665, -0.8770378000000001, 2.699334, -11.377384, 4.597036, 1.8273448, 1.3527627, -0.15632859, -1.3901681000000001, -1.308345, 1.9107466, -10.784773, 4.5127983, 1.6786956000000002, 4.1732583, 2.2181318, 3.1057533999999998, -3.4291150000000004, 1.7812182, 1.4148319, -1.1450071000000002, -11.617844999999999, 2.1122615000000002, 3.2664923999999997, -11.617844999999999, 2.09249, 3.2665582000000004, 2.4468052000000005, 2.8467968, -11.312742, -1.1318587, -11.312742, 1.5588692, 0.71133846, -1.9829111000000001, 1.7493927, 1.8028118999999998, -0.77514863, 1.7643593999999998, -2.4752362, 1.9211483, -0.62280804, -0.17641251, 1.08988, 0.27454809999999996, -11.617844999999999, 2.5038254, 2.7601492000000003, 3.8854847, -1.5557435, -0.11340956, -11.312742, -0.8816337, 1.1993328, -0.70277095, -3.0547032000000005, -1.5134940000000001, 3.2664923999999997, 2.0018700000000003, 1.1993401000000001, 0.75713277, 3.8164403, -2.6585932, 1.0930102, -0.85503066, -0.8901661, 0.38444492, -0.61197543, 2.5979322999999996, 2.0424986, 0.94183356, 1.119312, -1.075674, -0.60742015, 2.7848604, -11.969924, -1.0500231000000002, -11.505699, -0.38987926, 1.942225, -11.3631735, 2.8829522, -1.2799226000000001, 5.180099, 1.2991059, 5.1801863, 0.71702063, 5.180186, 0.7730855, -11.0359, 0.4745464, -11.0359, 1.1027418, 1.7714536, -1.0470059999999999, 5.0787787, -0.61115074, 1.1677538, 4.0073934, 4.051675, -1.3970902, -0.14128773, 1.9358746, -1.1562569999999999, -1.514675, 1.9358746, -11.036027, 1.5026871000000002, -11.036027, 1.5026871000000002, -0.29481903, 0.47514284, 1.2396443000000001, -0.7150776999999999, -1.31426, -1.2383538, 3.9438693999999996, 1.7647095000000002, 1.2105982, 1.4932286, 0.929485, 1.4932138000000001, 5.1200337, 1.3451391000000001, 5.1200333, 1.042664, -0.028837414, -10.902047, -1.1954145, 1.8947823000000001, -2.6165267999999995, -1.1168011, 2.1610544, 4.4206038, 0.30989224, -0.39265117, 2.1610544, 4.420614700000001, -3.1758807, 1.0076764999999999, 2.1610754, -3.292017, 1.0076764999999999, 2.1610754, -3.119751, 1.0076764999999999, 2.1610553, -0.761147, 1.0062387, -3.2600384, 6.1154566, -1.7204694, 2.3794792, -3.2600384, -2.7116485, 1.89183, 4.3065248, 0.30974004, 2.3798091, -2.4104322999999996, 0.60766727, 4.485069, -3.175359, -3.3506663, -2.6099794, -3.3506663, 2.3786016, 3.8452057999999996, 0.024045952000000002, -6.512062, -3.011012, -1.2151928, 3.6730042000000003, -3.1758807, 0.56995773, 2.6644025, -3.4097662000000004, -1.3583052, 0.9709931, -3.4100599999999996, -1.3582594, -1.2028587, 3.9813437000000005, -3.1767272999999996, 2.6644075000000003, -2.5713553, 1.0076764999999999, -13.091782, 3.7860355, -1.9876965, 2.6673732000000006, -13.091782, 3.7861394999999995, 0.17599322, 2.6664689999999998, 4.255762, 0.30923763, 0.39873093, 4.605236, 0.023438094, 0.39892784, -1.9950796000000002, 2.4283357000000003, 4.8356156, 3.7653190000000003, 0.31006690000000003, 0.3988345, 4.835615, 3.6072693, -3.2991699999999997, 1.249382, 4.835615, -2.1251152, 0.95981276, -13.219523, -1.0711567, -0.30912295, 0.39892784, -13.219524, -1.0563607, 1.1183611999999998, 0.29899183, -2.1408484, 1.8794495, -0.012374331, 0.5651385999999999, 2.2920394, -2.1408384, -0.3867505, -1.9046805, -0.13886946, 2.3212632999999996, -1.0195271000000001, 3.4973023000000003, 6.7874527, -0.51584435, 1.4606282, 0.39858654, 6.787354, -0.5147463, 0.32241282, 2.321263, -1.1414726999999998, -1.2207243, -1.3379388, -12.946558, -3.0104732999999997, 2.4907084, -13.219594, -3.0100176, 0.05128810599999999, -1.3568791, 4.3608613, -2.8017773999999998, 1.6726358000000001, 4.6572623, -3.1009874, 1.6726358000000001, -1.8041976999999998, 0.53633475, 2.3212632999999996, -4.040076, -0.44949517, -0.7546608, 0.55472016, -0.75427485, -1.0242707, -1.3009694, 1.9166286, -11.312747, -1.2062046999999998, 1.5625094, -1.6457732, 1.1599238, 0.61799824, 4.2783155], \"z\": [-0.7033798000000001, 2.5978756, 0.5703175, -3.7796123, 14.96805, 1.3547854, -2.2422426, 14.96805, 2.3760004, 15.125329999999998, 2.3008404, -1.2515174, 15.124923, 2.3008401000000003, 2.6288974, 14.966448000000002, 1.7273942999999998, -1.3046135, 14.696838, 2.9040158, 4.820682499999999, 4.364735, 1.2818583000000001, -7.052689, -11.829367, -6.251321, -0.66652775, 3.9487593, 2.5198784, 3.5354288, -2.0285846999999997, -4.930415, 15.959381, 2.9574213, 4.3452806, 3.6315408, -1.2261354, 17.02184, 3.7645035000000004, 1.8503066000000004, 16.208285999999998, 1.5343407, 3.2881943999999996, -11.829367, 15.722838000000001, 1.7608911, -2.442303, -11.829367, 17.483706, 2.558452, 3.4277577000000004, 14.780035999999999, 2.6640735, -0.87589973, -0.8956550999999999, 4.697436, 2.3938158, -5.9280105, -11.829367, -3.4773053999999997, 4.4656587, -6.18762, 3.6487114000000003, 1.5705242, 1.3552707, 3.6575015, 3.4799550000000004, -2.6761782000000003, 15.308735999999998, -0.6874423000000001, 3.0431263, 15.737324, 1.5408266000000002, -2.6159142999999996, 16.074907, 16.807869, 0.6087537, -1.3270556, 2.7611562999999997, -2.0406566, -2.1542527999999996, 3.9563155, 1.5476762, 0.68542296, 3.164312, -0.011595042, -3.551769, 1.8192490000000001, 1.0816499, 16.803703, 2.005307, -6.1878877, -1.2887573, -1.1450984, -11.829367, 0.9184623, 2.4286470000000002, -5.726525, 15.447854000000001, 2.5954278, -5.726428, 3.0262947000000002, 2.7013566000000004, 0.120911345, -0.49159977, -2.6280867999999997, 3.427332, -1.7046435000000002, 2.4009945, 1.1840629999999999, -11.829367, -0.12570697, -4.4272922999999995, -4.163066000000001, 2.6091716, 2.1873014, -1.9322936999999998, 3.7771049, -6.334421599999999, -5.673553500000001, 1.9731749, -0.19870074, -1.8012321, 16.531862, 1.0735575000000002, -9.2548685, 3.0242422, -1.3325858, -9.637912, 3.0242429, 2.0219443, -5.293027400000001, -9.820859, 1.0045838, -2.1830057999999997, 15.879939000000002, -0.6902755, 2.8610115, -5.7140699999999995, -9.8112135, 14.806482999999998, 1.0185134, 1.0494211000000002, -0.96079075, -5.1386614, 3.0677776000000003, 3.6689300000000005, 2.8221488, 1.7876061, 1.7378037, 17.59076, -3.5046934999999997, 1.5583293, -3.812007, -0.95373046, 5.105109, -1.5895938, -5.4918656, -0.89455646, 5.1055145, 0.13049285, -4.5163145, 3.1624775, -3.7145599999999996, 2.0291959999999998, -7.6113663, 0.16653113, 0.13000764, -7.978356, -0.4195098, -4.9679103, 14.9311495, 0.79580003, -5.4918633, 14.161458999999999, 2.2523086, -5.4918656, 4.8278055, 1.9721456000000002, -8.914093, 2.9019756, -5.0106773, -9.312828999999999, 4.8664513, -0.24318939999999997, -1.3917563, -9.318569, 17.179125, -3.6643339999999998, -2.0854046000000004, -6.896511, -9.512466, 15.914793, 1.9932983, -11.829367, 16.221076999999998, -3.0597947, -7.611213, 2.047295, -4.5176870000000005, -7.611212700000001, 14.533560000000001, 0.5539145000000001, -4.3470645, -9.872026, 16.151987, 3.1384733, 5.682044, -0.97855103, -8.843355, 1.6163338, -1.1444478, -8.972114999999999, 16.094946, 0.030988874, -5.024407, -9.97724, 16.094946, 0.03102189, -3.0293028, -0.4084647, -5.8046975, 13.987232, -2.3244972, 0.27245820000000004, -9.012049000000001, 13.987232, -2.3244972, -0.11281980000000001, -5.3212447, 0.8560117, -9.453842999999999, -191.43854, 0.50982934, 0.61102927, -8.726042, 15.003054, -3.7747764999999998, 4.7550473, -9.089001, 15.003036499999999, -3.3751526, 4.603061, 1.5582204, -9.913454, 0.46316713, -0.2911887, 3.2179666, 2.826384, -2.630199, -1.9497936000000002, 2.3226763999999998, 1.382412, 3.4214873, 3.34491, 1.7367240000000002, 2.6944065, 3.2226167, 3.633321, -9.187572, 1.2911367, -9.843824, 1.2911367, -3.8160403, -4.115805, -0.81494385, -1.1693873, 2.8797085, -5.9280105, 14.471480999999999, 3.4838351999999997, 15.308391, -0.8221430000000001, -3.551769, 1.6201652, -0.49159977, -2.628091, 3.427332, -9.2412, 14.806587, 1.0173304, 1.0494193, -5.3586082, 14.796213, -3.5046828000000003, -3.9791827000000004, 1.6650686999999997, -2.9908912, -5.8047028, 13.988094, -2.3244757999999996, -9.532175, 15.655932, -1.3955582, -5.899789, -7.964055999999999, -5.410172, 0.7201436, -4.3470163, -2.9373392999999997, 2.7561584, 2.7561502, -4.189886, -2.884254, -2.167668, -6.896511, 0.55326647, -7.611214, -3.7268120000000002, -1.6029018, -6.896569, -7.964619, -3.7268120000000002, -1.3165206, 2.542993, -1.8801497, -3.8104875, 4.543749299999999, 4.116635, 5.9945817, 15.931505, 2.3258028, 5.639115, 1.3056823, -1.1065793, 0.82855576, 1.7653741000000003, -4.503086, 5.9390545, 3.743726, 2.09151, -1.3103731, 2.3741667, 2.091509, -3.8117917, -6.896542, -2.6619706, 3.6436625, -1.4466815, 4.115394, 1.384615, 1.3982816, -4.454174500000001, 3.5478635, -1.2670715, 1.6478308000000002, 0.0224669, -1.3179405, -1.9737372, -6.896542, 3.5527212999999995, 2.7248716, -5.5293884, 0.719333, -1.0910289, -2.8408563, -10.035049, 16.802542000000003, 4.6879992, 2.579483, 2.1738763, -3.415807, 2.9603040000000003, -10.037394, 16.320957, 4.6098886, -9.743686, -3.2033237999999997, 15.160174, 3.8572855, 2.4654496, 13.635951, 13.635952, -0.7512633000000001, 3.3186612, -1.7529113999999997, 5.0823455, 16.754717000000003, 3.1978664, 1.4688014999999999, 2.9845650000000004, -6.8687925000000005, -9.408642, 14.666012, -2.9316148999999996, -0.8388353999999999, 3.688563, 1.5979922, 2.0217907, 0.6098291, -8.841486, 16.320278, 2.9355029999999998, 15.931508, -2.7580853, -3.0049021000000002, 3.5354288, -2.0294852, -5.291150599999999, -2.5184425999999998, -8.085101, 2.2593837000000003, -6.671264999999999, -8.085099000000001, 2.2674127, -6.670385400000001, -3.6349087, 1.8198193, -8.794511, 2.5510516, -8.794512, -0.812234, -0.34298548, 4.198066000000001, 1.7390963, -4.687787, 1.793465, -2.477827, 2.9156709, -5.1376349999999995, 2.5481746, 1.0799889999999999, -3.5386983999999995, 1.5232036, -8.085099000000001, -0.43084708, 1.4132183999999999, 17.245487, 3.9067245, 2.319096, -8.794511, 1.2585713, -3.8143709, 0.60009784, 3.2970194999999998, 3.2548953999999997, -6.671264999999999, -1.9145756999999999, -3.8143752, -3.335182, 0.5141859000000001, 4.547292700000001, 1.8337873, 1.4660413, 0.8665754000000001, -0.18699142, 0.38662759999999996, -1.2329860000000001, -4.8410015, 0.31475386, -1.1888279, 3.2681665, 3.0561209, -2.9518256000000003, -9.431602999999999, 1.8785036, -10.125937, 0.51308936, -5.712118599999999, -8.866634, -1.6479308999999998, 2.6641886, 14.772905999999999, -1.6782009999999998, 14.772926000000002, -1.3511083000000002, 14.772920999999998, -2.9809937, -9.529269000000001, 0.79182494, -9.529269000000001, 0.41837254, -4.6915510000000005, 3.1895377999999996, 16.523395999999998, 3.0613964, -5.052789, 0.24075314, -0.9706476999999999, 3.0413175, 2.9974582, -5.7140699999999995, 0.74418396, 1.4927403000000001, -5.7140699999999995, -9.5289955, 2.5398781, -9.528995, 2.5398781, -4.050497, -3.2479079, -1.7531887, -0.011834178999999998, 1.9906446, 1.3883303, 16.165998000000002, -2.7299466, 1.1601503, -2.6435812000000003, 1.2902744, -2.643237, 16.691738, -2.5391334999999997, 16.691751, -1.2431018, -4.0528483, -11.221200999999999, 1.5056089, -3.3417332, 4.7477818, 2.6306002, -2.7858883999999997, -1.3237792, -2.0851393, 0.07046778, -2.7858883999999997, -1.3237940000000001, 1.1948484, -4.547462, -2.785793, 1.3234489999999999, -4.547462, -2.785793, 1.0412682, -4.547462, -2.7858883999999997, 0.005212414, -4.5469317, 2.5838566000000003, 15.942212, -1.1249495, -5.9200506, 2.5838566000000003, 2.5254385, -6.1905913, -1.5906498, -2.0849373, -6.896495, 1.1205307, 0.3801948, -1.266708, 1.1956341000000001, 4.2083983, 1.6110188, 4.2083983, -5.9239239999999995, -1.9762473999999999, -2.1680740000000003, 66.56488, 0.71871287, 1.7874348999999998, -1.241262, 1.1948485, -0.77548635, -6.271408, 1.8754072, -1.5082073999999999, -5.0583305, 1.8748672999999998, -1.5076383, -0.13627653, -0.27409437, 1.19394, -6.271412000000001, 2.293988, -4.547462, -5.1386595, 18.174587, -0.6696248, -6.2715760000000005, -5.13866, 18.174595, -1.6994424, -6.2711368, -0.75925976, -2.0852234, -2.571229, 0.90903634, -2.1677217, -2.5715072, 4.079952, -6.5034113, 13.3044815, 0.54158926, -2.0850646, -2.5715742, 13.3044815, -0.9834888, 4.410461, -4.432699700000001, 13.3044815, 3.7523943999999996, -4.0843306, -5.7341027, -3.7601093999999997, -1.5052928, -2.5715072, -5.7341013, -3.5292711000000003, -1.1132926, -0.16310365, 0.44573584, -6.1878815000000005, -2.5261781, -0.7462137, -2.4671557, 0.44572797, 0.38730790000000004, 0.43010718, 1.3073709, -5.742198999999999, 1.9158636000000002, -7.6970887, 14.006838, -3.1247306, -3.2244097999999997, -2.5712175, 14.006714, -3.1247716, -2.8317577999999997, -5.7421985, 2.0734618, 2.2167926, 2.0643785, -5.804703, 4.780806500000001, -5.668352, -5.734051, 4.780561, -2.7526352000000003, 1.5635805, -0.8278274, 4.678035700000001, -4.620340000000001, 0.91273504, 4.5886025, -4.620340000000001, 4.1248446, -0.84355503, -5.7421985, 5.637158400000001, -0.27395105, 0.8730369, 0.16692103, 0.87526226, 0.56510717, 2.5837839, -4.70873, -8.7945175, 3.0898882999999997, -5.341952, 3.8969815000000003, -5.0622940000000005, -3.2217789, -0.0864386]}],\n",
       "                        {\"coloraxis\": {\"colorbar\": {\"title\": {\"text\": \"cluster\"}}, \"colorscale\": [[0.0, \"#0d0887\"], [0.1111111111111111, \"#46039f\"], [0.2222222222222222, \"#7201a8\"], [0.3333333333333333, \"#9c179e\"], [0.4444444444444444, \"#bd3786\"], [0.5555555555555556, \"#d8576b\"], [0.6666666666666666, \"#ed7953\"], [0.7777777777777778, \"#fb9f3a\"], [0.8888888888888888, \"#fdca26\"], [1.0, \"#f0f921\"]]}, \"legend\": {\"tracegroupgap\": 0}, \"margin\": {\"t\": 60}, \"scene\": {\"domain\": {\"x\": [0.0, 1.0], \"y\": [0.0, 1.0]}, \"xaxis\": {\"title\": {\"text\": \"x\"}}, \"yaxis\": {\"title\": {\"text\": \"y\"}}, \"zaxis\": {\"title\": {\"text\": \"z\"}}}, \"template\": {\"data\": {\"bar\": [{\"error_x\": {\"color\": \"#2a3f5f\"}, \"error_y\": {\"color\": \"#2a3f5f\"}, \"marker\": {\"line\": {\"color\": \"#E5ECF6\", \"width\": 0.5}}, \"type\": \"bar\"}], \"barpolar\": [{\"marker\": {\"line\": {\"color\": \"#E5ECF6\", \"width\": 0.5}}, \"type\": \"barpolar\"}], \"carpet\": [{\"aaxis\": {\"endlinecolor\": \"#2a3f5f\", \"gridcolor\": \"white\", \"linecolor\": \"white\", \"minorgridcolor\": \"white\", \"startlinecolor\": \"#2a3f5f\"}, \"baxis\": {\"endlinecolor\": \"#2a3f5f\", \"gridcolor\": \"white\", \"linecolor\": \"white\", \"minorgridcolor\": \"white\", \"startlinecolor\": \"#2a3f5f\"}, \"type\": \"carpet\"}], \"choropleth\": [{\"colorbar\": {\"outlinewidth\": 0, \"ticks\": \"\"}, \"type\": \"choropleth\"}], \"contour\": [{\"colorbar\": {\"outlinewidth\": 0, \"ticks\": \"\"}, \"colorscale\": [[0.0, \"#0d0887\"], [0.1111111111111111, \"#46039f\"], [0.2222222222222222, \"#7201a8\"], [0.3333333333333333, \"#9c179e\"], [0.4444444444444444, \"#bd3786\"], [0.5555555555555556, \"#d8576b\"], [0.6666666666666666, \"#ed7953\"], [0.7777777777777778, \"#fb9f3a\"], [0.8888888888888888, \"#fdca26\"], [1.0, \"#f0f921\"]], \"type\": \"contour\"}], \"contourcarpet\": [{\"colorbar\": {\"outlinewidth\": 0, \"ticks\": \"\"}, \"type\": \"contourcarpet\"}], \"heatmap\": [{\"colorbar\": {\"outlinewidth\": 0, \"ticks\": \"\"}, \"colorscale\": [[0.0, \"#0d0887\"], [0.1111111111111111, \"#46039f\"], [0.2222222222222222, \"#7201a8\"], [0.3333333333333333, \"#9c179e\"], [0.4444444444444444, \"#bd3786\"], [0.5555555555555556, \"#d8576b\"], [0.6666666666666666, \"#ed7953\"], [0.7777777777777778, \"#fb9f3a\"], [0.8888888888888888, \"#fdca26\"], [1.0, \"#f0f921\"]], \"type\": \"heatmap\"}], \"heatmapgl\": [{\"colorbar\": {\"outlinewidth\": 0, \"ticks\": \"\"}, \"colorscale\": [[0.0, \"#0d0887\"], [0.1111111111111111, \"#46039f\"], [0.2222222222222222, \"#7201a8\"], [0.3333333333333333, \"#9c179e\"], [0.4444444444444444, \"#bd3786\"], [0.5555555555555556, \"#d8576b\"], [0.6666666666666666, \"#ed7953\"], [0.7777777777777778, \"#fb9f3a\"], [0.8888888888888888, \"#fdca26\"], [1.0, \"#f0f921\"]], \"type\": \"heatmapgl\"}], \"histogram\": [{\"marker\": {\"colorbar\": {\"outlinewidth\": 0, \"ticks\": \"\"}}, \"type\": \"histogram\"}], \"histogram2d\": [{\"colorbar\": {\"outlinewidth\": 0, \"ticks\": \"\"}, \"colorscale\": [[0.0, \"#0d0887\"], [0.1111111111111111, \"#46039f\"], [0.2222222222222222, \"#7201a8\"], [0.3333333333333333, \"#9c179e\"], [0.4444444444444444, \"#bd3786\"], [0.5555555555555556, \"#d8576b\"], [0.6666666666666666, \"#ed7953\"], [0.7777777777777778, \"#fb9f3a\"], [0.8888888888888888, \"#fdca26\"], [1.0, \"#f0f921\"]], \"type\": \"histogram2d\"}], \"histogram2dcontour\": [{\"colorbar\": {\"outlinewidth\": 0, \"ticks\": \"\"}, \"colorscale\": [[0.0, \"#0d0887\"], [0.1111111111111111, \"#46039f\"], [0.2222222222222222, \"#7201a8\"], [0.3333333333333333, \"#9c179e\"], [0.4444444444444444, \"#bd3786\"], [0.5555555555555556, \"#d8576b\"], [0.6666666666666666, \"#ed7953\"], [0.7777777777777778, \"#fb9f3a\"], [0.8888888888888888, \"#fdca26\"], [1.0, \"#f0f921\"]], \"type\": \"histogram2dcontour\"}], \"mesh3d\": [{\"colorbar\": {\"outlinewidth\": 0, \"ticks\": \"\"}, \"type\": \"mesh3d\"}], \"parcoords\": [{\"line\": {\"colorbar\": {\"outlinewidth\": 0, \"ticks\": \"\"}}, \"type\": \"parcoords\"}], \"pie\": [{\"automargin\": true, \"type\": \"pie\"}], \"scatter\": [{\"marker\": {\"colorbar\": {\"outlinewidth\": 0, \"ticks\": \"\"}}, \"type\": \"scatter\"}], \"scatter3d\": [{\"line\": {\"colorbar\": {\"outlinewidth\": 0, \"ticks\": \"\"}}, \"marker\": {\"colorbar\": {\"outlinewidth\": 0, \"ticks\": \"\"}}, \"type\": \"scatter3d\"}], \"scattercarpet\": [{\"marker\": {\"colorbar\": {\"outlinewidth\": 0, \"ticks\": \"\"}}, \"type\": \"scattercarpet\"}], \"scattergeo\": [{\"marker\": {\"colorbar\": {\"outlinewidth\": 0, \"ticks\": \"\"}}, \"type\": \"scattergeo\"}], \"scattergl\": [{\"marker\": {\"colorbar\": {\"outlinewidth\": 0, \"ticks\": \"\"}}, \"type\": \"scattergl\"}], \"scattermapbox\": [{\"marker\": {\"colorbar\": {\"outlinewidth\": 0, \"ticks\": \"\"}}, \"type\": \"scattermapbox\"}], \"scatterpolar\": [{\"marker\": {\"colorbar\": {\"outlinewidth\": 0, \"ticks\": \"\"}}, \"type\": \"scatterpolar\"}], \"scatterpolargl\": [{\"marker\": {\"colorbar\": {\"outlinewidth\": 0, \"ticks\": \"\"}}, \"type\": \"scatterpolargl\"}], \"scatterternary\": [{\"marker\": {\"colorbar\": {\"outlinewidth\": 0, \"ticks\": \"\"}}, \"type\": \"scatterternary\"}], \"surface\": [{\"colorbar\": {\"outlinewidth\": 0, \"ticks\": \"\"}, \"colorscale\": [[0.0, \"#0d0887\"], [0.1111111111111111, \"#46039f\"], [0.2222222222222222, \"#7201a8\"], [0.3333333333333333, \"#9c179e\"], [0.4444444444444444, \"#bd3786\"], [0.5555555555555556, \"#d8576b\"], [0.6666666666666666, \"#ed7953\"], [0.7777777777777778, \"#fb9f3a\"], [0.8888888888888888, \"#fdca26\"], [1.0, \"#f0f921\"]], \"type\": \"surface\"}], \"table\": [{\"cells\": {\"fill\": {\"color\": \"#EBF0F8\"}, \"line\": {\"color\": \"white\"}}, \"header\": {\"fill\": {\"color\": \"#C8D4E3\"}, \"line\": {\"color\": \"white\"}}, \"type\": \"table\"}]}, \"layout\": {\"annotationdefaults\": {\"arrowcolor\": \"#2a3f5f\", \"arrowhead\": 0, \"arrowwidth\": 1}, \"coloraxis\": {\"colorbar\": {\"outlinewidth\": 0, \"ticks\": \"\"}}, \"colorscale\": {\"diverging\": [[0, \"#8e0152\"], [0.1, \"#c51b7d\"], [0.2, \"#de77ae\"], [0.3, \"#f1b6da\"], [0.4, \"#fde0ef\"], [0.5, \"#f7f7f7\"], [0.6, \"#e6f5d0\"], [0.7, \"#b8e186\"], [0.8, \"#7fbc41\"], [0.9, \"#4d9221\"], [1, \"#276419\"]], \"sequential\": [[0.0, \"#0d0887\"], [0.1111111111111111, \"#46039f\"], [0.2222222222222222, \"#7201a8\"], [0.3333333333333333, \"#9c179e\"], [0.4444444444444444, \"#bd3786\"], [0.5555555555555556, \"#d8576b\"], [0.6666666666666666, \"#ed7953\"], [0.7777777777777778, \"#fb9f3a\"], [0.8888888888888888, \"#fdca26\"], [1.0, \"#f0f921\"]], \"sequentialminus\": [[0.0, \"#0d0887\"], [0.1111111111111111, \"#46039f\"], [0.2222222222222222, \"#7201a8\"], [0.3333333333333333, \"#9c179e\"], [0.4444444444444444, \"#bd3786\"], [0.5555555555555556, \"#d8576b\"], [0.6666666666666666, \"#ed7953\"], [0.7777777777777778, \"#fb9f3a\"], [0.8888888888888888, \"#fdca26\"], [1.0, \"#f0f921\"]]}, \"colorway\": [\"#636efa\", \"#EF553B\", \"#00cc96\", \"#ab63fa\", \"#FFA15A\", \"#19d3f3\", \"#FF6692\", \"#B6E880\", \"#FF97FF\", \"#FECB52\"], \"font\": {\"color\": \"#2a3f5f\"}, \"geo\": {\"bgcolor\": \"white\", \"lakecolor\": \"white\", \"landcolor\": \"#E5ECF6\", \"showlakes\": true, \"showland\": true, \"subunitcolor\": \"white\"}, \"hoverlabel\": {\"align\": \"left\"}, \"hovermode\": \"closest\", \"mapbox\": {\"style\": \"light\"}, \"paper_bgcolor\": \"white\", \"plot_bgcolor\": \"#E5ECF6\", \"polar\": {\"angularaxis\": {\"gridcolor\": \"white\", \"linecolor\": \"white\", \"ticks\": \"\"}, \"bgcolor\": \"#E5ECF6\", \"radialaxis\": {\"gridcolor\": \"white\", \"linecolor\": \"white\", \"ticks\": \"\"}}, \"scene\": {\"xaxis\": {\"backgroundcolor\": \"#E5ECF6\", \"gridcolor\": \"white\", \"gridwidth\": 2, \"linecolor\": \"white\", \"showbackground\": true, \"ticks\": \"\", \"zerolinecolor\": \"white\"}, \"yaxis\": {\"backgroundcolor\": \"#E5ECF6\", \"gridcolor\": \"white\", \"gridwidth\": 2, \"linecolor\": \"white\", \"showbackground\": true, \"ticks\": \"\", \"zerolinecolor\": \"white\"}, \"zaxis\": {\"backgroundcolor\": \"#E5ECF6\", \"gridcolor\": \"white\", \"gridwidth\": 2, \"linecolor\": \"white\", \"showbackground\": true, \"ticks\": \"\", \"zerolinecolor\": \"white\"}}, \"shapedefaults\": {\"line\": {\"color\": \"#2a3f5f\"}}, \"ternary\": {\"aaxis\": {\"gridcolor\": \"white\", \"linecolor\": \"white\", \"ticks\": \"\"}, \"baxis\": {\"gridcolor\": \"white\", \"linecolor\": \"white\", \"ticks\": \"\"}, \"bgcolor\": \"#E5ECF6\", \"caxis\": {\"gridcolor\": \"white\", \"linecolor\": \"white\", \"ticks\": \"\"}}, \"title\": {\"x\": 0.05}, \"xaxis\": {\"automargin\": true, \"gridcolor\": \"white\", \"linecolor\": \"white\", \"ticks\": \"\", \"title\": {\"standoff\": 15}, \"zerolinecolor\": \"white\", \"zerolinewidth\": 2}, \"yaxis\": {\"automargin\": true, \"gridcolor\": \"white\", \"linecolor\": \"white\", \"ticks\": \"\", \"title\": {\"standoff\": 15}, \"zerolinecolor\": \"white\", \"zerolinewidth\": 2}}}},\n",
       "                        {\"responsive\": true}\n",
       "                    ).then(function(){\n",
       "                            \n",
       "var gd = document.getElementById('5a5ea35c-5d4f-41aa-ad22-6153f1f07518');\n",
       "var x = new MutationObserver(function (mutations, observer) {{\n",
       "        var display = window.getComputedStyle(gd).display;\n",
       "        if (!display || display === 'none') {{\n",
       "            console.log([gd, 'removed!']);\n",
       "            Plotly.purge(gd);\n",
       "            observer.disconnect();\n",
       "        }}\n",
       "}});\n",
       "\n",
       "// Listen for the removal of the full notebook cells\n",
       "var notebookContainer = gd.closest('#notebook-container');\n",
       "if (notebookContainer) {{\n",
       "    x.observe(notebookContainer, {childList: true});\n",
       "}}\n",
       "\n",
       "// Listen for the clearing of the current output cell\n",
       "var outputEl = gd.closest('.output');\n",
       "if (outputEl) {{\n",
       "    x.observe(outputEl, {childList: true});\n",
       "}}\n",
       "\n",
       "                        })\n",
       "                };\n",
       "                });\n",
       "            </script>\n",
       "        </div>"
      ]
     },
     "metadata": {},
     "output_type": "display_data"
    }
   ],
   "source": [
    "import plotly.graph_objects as go\n",
    "import plotly.express as px\n",
    "import pandas as pd\n",
    "\n",
    "df = pd.read_csv(\"data/tsne_vectors_3d.csv\")\n",
    "\n",
    "fig = px.scatter_3d(\n",
    "    df, \n",
    "    x='x',\n",
    "    y='y',\n",
    "    z='z',\n",
    "    color=\"cluster\",\n",
    "    hover_data=[\"short_input_texts\", \"short_bot_texts\",\"intent\",\"short_entities\",\"action_1\"],\n",
    "    )\n",
    "\n",
    "fig.show()\n",
    "\n",
    "x = 0\n"
   ]
  },
  {
   "cell_type": "code",
   "execution_count": null,
   "metadata": {},
   "outputs": [],
   "source": []
  },
  {
   "cell_type": "code",
   "execution_count": null,
   "metadata": {},
   "outputs": [],
   "source": []
  },
  {
   "cell_type": "code",
   "execution_count": null,
   "metadata": {},
   "outputs": [],
   "source": []
  },
  {
   "cell_type": "code",
   "execution_count": null,
   "metadata": {},
   "outputs": [],
   "source": []
  },
  {
   "cell_type": "code",
   "execution_count": null,
   "metadata": {},
   "outputs": [],
   "source": []
  },
  {
   "cell_type": "code",
   "execution_count": null,
   "metadata": {},
   "outputs": [],
   "source": []
  },
  {
   "cell_type": "code",
   "execution_count": null,
   "metadata": {},
   "outputs": [],
   "source": []
  }
 ],
 "metadata": {
  "kernelspec": {
   "display_name": "Python 3",
   "language": "python",
   "name": "python3"
  },
  "language_info": {
   "codemirror_mode": {
    "name": "ipython",
    "version": 3
   },
   "file_extension": ".py",
   "mimetype": "text/x-python",
   "name": "python",
   "nbconvert_exporter": "python",
   "pygments_lexer": "ipython3",
   "version": "3.7.6"
  }
 },
 "nbformat": 4,
 "nbformat_minor": 4
}
