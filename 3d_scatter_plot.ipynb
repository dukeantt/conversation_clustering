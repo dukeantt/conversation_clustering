{
 "cells": [
  {
   "cell_type": "code",
   "execution_count": 11,
   "metadata": {},
   "outputs": [
    {
     "data": {
      "application/vnd.plotly.v1+json": {
       "config": {
        "plotlyServerURL": "https://plot.ly"
       },
       "data": [
        {
         "customdata": [
          [
           "máy tiệt trùng uv đã có chưa ạ",
           "Hiện tại sản phẩm Máy tiệt trùng  shop đang có những giá sau ạ:\n<500-1M> <1M-2M> <Tất cả giá>",
           "query_knowledge_base",
           "['object_type:may_tiet_trung']",
           "action_query_babe_kb"
          ],
          [
           "/confirm_attribute_value{\"price\": \"500-1M\"}",
           "Mời bạn click vào \"Xem chi tiết\" để tham khảo sản phẩm hiện có tại shop nhé!\n<card sp 1> <card sp 2> <card sp 3>",
           "confirm_attribute_value",
           "['price:500-1M']",
           "action_query_babe_kb"
          ],
          [
           "máy tiệt trùng uv đã có chưa ạ",
           "Máy tiệt trùng uv hiện hết hàng mời bạn tham khảo các sản phẩm khác của shop\nRecommend <sp1> <sp2> <sp3> <sp4>",
           "query_knowledge_base",
           "['object_type:may_tiet_trung']",
           "action_query_babe_kb"
          ],
          [
           "Khi nào thì có hàng mới ạ",
           "Khoảng một tuần sau có hàng ạ",
           "query_knowledge_base",
           null,
           "action_query_babe_kb"
          ],
          [
           "https://scontent.xx.fbcdn.net/v/t1.15752-9/92827724_2847726851949741_1696232900455825408_n.jpg?_nc_cat=103&_nc_sid=b96e70&_nc_ohc=Vw1pHh8MnN0AX8aJw4t&_nc_ad=z-m&_nc_cid=0&_nc_zor=9&_nc_ht=scontent.xx&oh=12087dbec406fb17040323a417f4ea20&oe=5EB568F4",
           "Bạn đang tìm kiếm thông tin gì ạ?",
           "send_link",
           "[\"url:['https://scontent.xx.fbcdn.net/v/t1.15752-9/92827724_2847726851949741_1696232900455825408_n.jpg?_nc_cat=103&_nc_sid=b96e70&_nc_ohc=Vw1pHh8MnN0AX8aJw4t&_nc_ad=z-m&_nc_cid=0&_nc_zor=9&_nc_ht=scontent.xx&oh=12087dbec406fb17040323a417f4ea20&oe=5EB568F4']\"]",
           "action_handle_send_link_only"
          ],
          [
           "E ơi còn giấy khô này k?",
           "Khăn khô đa năng MIPBI 600gr hiện đang có giá là 61.000 (Giá gốc: 70.000) mời bạn tham khảo:\n<show card sp>",
           "query_knowledge_base",
           "['object_type:khan','mention:này']",
           "action_query_babe_kb"
          ],
          [
           "Đúng r ạ",
           "Dạ, vâng ạ. ",
           "agree",
           null,
           "utter_agree"
          ],
          [
           "https://scontent.xx.fbcdn.net/v/t1.15752-9/92827724_2847726851949741_1696232900455825408_n.jpg?_nc_cat=103&_nc_sid=b96e70&_nc_ohc=Vw1pHh8MnN0AX8aJw4t&_nc_ad=z-m&_nc_cid=0&_nc_zor=9&_nc_ht=scontent.xx&oh=12087dbec406fb17040323a417f4ea20&oe=5EB568F4",
           "Bạn đang tìm kiếm thông tin gì ạ?",
           "send_link",
           "[\"url:['https://scontent.xx.fbcdn.net/v/t1.15752-9/92827724_2847726851949741_1696232900455825408_n.jpg?_nc_cat=103&_nc_sid=b96e70&_nc_ohc=Vw1pHh8MnN0AX8aJw4t&_nc_ad=z-m&_nc_cid=0&_nc_zor=9&_nc_ht=scontent.xx&oh=12087dbec406fb17040323a417f4ea20&oe=5EB568F4']\"]",
           "action_handle_send_link_only"
          ],
          [
           "E ơi còn giấy khô này k?",
           "Khăn khô đa năng MIPBI 600gr  hiện hết hàng mời bạn tham khảo các sản phẩm khác của shop\nRecommend <sp1> <sp2> <sp3> <sp4>",
           "query_knowledge_base",
           "['object_type:khan','mention:này']",
           "action_query_babe_kb"
          ],
          [
           "https://scontent.xx.fbcdn.net/v/t1.15752-9/93088148_260667535096586_5162228618784407552_n.jpg?_nc_cat=103&_nc_sid=b96e70&_nc_ohc=x7wswdCvMn8AX8w1Gx1&_nc_ad=z-m&_nc_cid=0&_nc_zor=9&_nc_ht=scontent.xx&oh=6b66cfd67139987f2f1390eeb9aed46d&oe=5EB7E07A",
           "Bạn đang tìm kiếm thông tin gì ạ?",
           "send_link",
           "[\"url:['https://scontent.xx.fbcdn.net/v/t1.15752-9/93088148_260667535096586_5162228618784407552_n.jpg?_nc_cat=103&_nc_sid=b96e70&_nc_ohc=x7wswdCvMn8AX8w1Gx1&_nc_ad=z-m&_nc_cid=0&_nc_zor=9&_nc_ht=scontent.xx&oh=6b66cfd67139987f2f1390eeb9aed46d&oe=5EB7E07A']\"]",
           "action_handle_send_link_only"
          ],
          [
           "Bn vậy shop ơi",
           "Sản phẩm  BẢNG VẼ HOLLA 2 in 1  hiện shop đang có giá: 830,000 VND (giá gốc 1,090,000 VND).\nBạn tham khảo các sản phẩm sau nhé ạ:\n<show sp>",
           "query_knowledge_base",
           "['attribute:price']",
           "action_query_babe_kb"
          ],
          [
           "Có trên shopee k shop",
           "Dạ mời bạn tham khảo sản phẩm BẢNG VẼ HOLLA 2 in 1  hiện có tại shop nhé!\n<show sp>",
           "query_knowledge_base",
           "['attribute:link']",
           "action_query_babe_kb"
          ],
          [
           "https://scontent.xx.fbcdn.net/v/t1.15752-9/93088148_260667535096586_5162228618784407552_n.jpg?_nc_cat=103&_nc_sid=b96e70&_nc_ohc=x7wswdCvMn8AX8w1Gx1&_nc_ad=z-m&_nc_cid=0&_nc_zor=9&_nc_ht=scontent.xx&oh=6b66cfd67139987f2f1390eeb9aed46d&oe=5EB7E07A",
           "Bạn đang tìm kiếm thông tin gì ạ?",
           "send_link",
           "[\"url:['https://scontent.xx.fbcdn.net/v/t1.15752-9/93088148_260667535096586_5162228618784407552_n.jpg?_nc_cat=103&_nc_sid=b96e70&_nc_ohc=x7wswdCvMn8AX8w1Gx1&_nc_ad=z-m&_nc_cid=0&_nc_zor=9&_nc_ht=scontent.xx&oh=6b66cfd67139987f2f1390eeb9aed46d&oe=5EB7E07A']\"]",
           "action_handle_send_link_only"
          ],
          [
           "Bn vậy shop ơi",
           "Sản phẩm  BẢNG VẼ HOLLA 2 in 1  hiện shop đang có giá: 830,000 VND (giá gốc 1,090,000 VND).\nBạn tham khảo các sản phẩm sau nhé ạ:\n<show sp>",
           "query_knowledge_base",
           "['attribute:price']",
           "action_query_babe_kb"
          ],
          [
           "Bảo hành bao lâu ạ",
           "\"Dạ BẢNG VẼ HOLLA 2 in 1 bảo hành 12 tháng ạ. {chính sách bảo hành chung}\"",
           "query_knowledge_base",
           "['attribute:guarantee']",
           "action_query_babe_kb"
          ],
          [
           "https://scontent.xx.fbcdn.net/v/t1.15752-9/92758628_220638542371993_7339655662080622592_n.jpg?_nc_cat=103&_nc_sid=b96e70&_nc_ohc=SFj_QNZGVnIAX_ptxfv&_nc_ad=z-m&_nc_cid=0&_nc_zor=9&_nc_ht=scontent.xx&oh=db6c1a23b261d135143caa7ddc90103e&oe=5EB60853",
           "Bạn đang tìm kiếm thông tin gì ạ?",
           "send_link",
           "[\"url:['https://scontent.xx.fbcdn.net/v/t1.15752-9/92758628_220638542371993_7339655662080622592_n.jpg?_nc_cat=103&_nc_sid=b96e70&_nc_ohc=SFj_QNZGVnIAX_ptxfv&_nc_ad=z-m&_nc_cid=0&_nc_zor=9&_nc_ht=scontent.xx&oh=db6c1a23b261d135143caa7ddc90103e&oe=5EB60853']\"]",
           "action_handle_send_link_only"
          ],
          [
           "Bộ này bn shop",
           "Sản phẩm  BẢNG VẼ HOLLA 2 in 1  hiện shop đang có giá: 830,000 VND (giá gốc 1,090,000 VND).\nBạn tham khảo các sản phẩm sau nhé ạ:\n<show sp>",
           "query_knowledge_base",
           "['mention:bộ này', 'attribute:price']",
           "action_query_babe_kb"
          ],
          [
           "Sản xuất ở đâu ạ",
           "Dạ BẢNG VẼ HOLLA 2 in 1 có xuất xứ từ Trung Quốc ạ\n(xuất xứ trong phần mô tả sp trên Shopee)",
           "query_knowledge_base",
           "['attribute:origin']",
           "action_query_babe_kb"
          ],
          [
           "https://scontent.xx.fbcdn.net/v/t1.15752-9/92812185_1223309388006647_5070003679390597120_n.jpg?_nc_cat=102&_nc_sid=b96e70&_nc_oc=AQmYZbuIaGFzKqFSSGeVZqs-Bkq4ODR2LY2ON0_mUykpAz_1tUqt1pKa3RZClcUSF3KFtyyW1LGSfsFG-shSXEJz&_nc_ad=z-m&_nc_cid=0&_nc_zor=9&_nc_ht=scontent.xx&oh=5e9f9b680aa5c98417da25593daab682&oe=5EB812A1",
           "Bạn đang tìm kiếm thông tin gì ạ?",
           "send_link",
           "[\"url:['https://scontent.xx.fbcdn.net/v/t1.15752-9/92812185_1223309388006647_5070003679390597120_n.jpg?_nc_cat=102&_nc_sid=b96e70&_nc_oc=AQmYZbuIaGFzKqFSSGeVZqs-Bkq4ODR2LY2ON0_mUykpAz_1tUqt1pKa3RZClcUSF3KFtyyW1LGSfsFG-shSXEJz&_nc_ad=z-m&_nc_cid=0&_nc_zor=9&_nc_ht=scontent.xx&oh=5e9f9b680aa5c98417da25593daab682&oe=5EB812A1']\"]",
           "action_handle_send_link_only"
          ],
          [
           "Cho t xin giá nhé",
           "Sản phẩm  BẢNG VẼ HOLLA 2 in 1  hiện shop đang có giá: 830,000 VND (giá gốc 1,090,000 VND).\nBạn tham khảo các sản phẩm sau nhé ạ:\n<show sp>",
           "query_knowledge_base",
           "['attribute:price']",
           "action_query_babe_kb"
          ],
          [
           "Làm bằng nhựa à ",
           "Dạ sản phẩm làm từ nhựa ạ\nBạn tham khảo các sản phẩm sau nhé ạ:\n<show sp>",
           "query_knowledge_base",
           "['material:bằng nhựa']",
           "action_query_babe_kb"
          ],
          [
           "Bộ holla vương miện giá tnao bạn",
           "Sản phẩm  COMBO HOLLA FULL PHIÊN BẢN 2020 MẪU VƯƠNG MIỆN  hiện shop đang có giá: 500,000 VND (giá gốc 500,000 VND).\nBạn tham khảo các sản phẩm sau nhé ạ:\n<show sp>",
           "query_knowledge_base",
           "['brand:holla', 'attribute:price','type:vương miện']",
           "action_query_babe_kb"
          ],
          [
           "Nước nào sản xuất ạ ?",
           "Dạ COMBO HOLLA FULL PHIÊN BẢN 2020 MẪU VƯƠNG MIỆN có xuất xứ từ Trung Quốc ạ\n(xuất xứ trong phần mô tả sp trên Shopee)",
           "query_knowledge_base",
           "['attribute:origin']",
           "action_query_babe_kb"
          ],
          [
           "ok shop",
           "Dạ,vâng ạ",
           "agree",
           null,
           "utter_agree"
          ],
          [
           "bạn ơi",
           "Chào bạn, mình là trợ lý ảo của Shop Gấu & Bí Ngô, mình giúp gì được bạn ạ?",
           "greet",
           null,
           "utter_greet"
          ],
          [
           "cho mình hỏi",
           "Dạ,vâng",
           "want_to_query",
           null,
           "utter_want_to_query"
          ],
          [
           "mình muốn mua câu trượt cho bé thì m nên chọn loại nào sau đây ạ\nbạn cho m xin gia sp nhe",
           "(Bắt được ảnh gửi tiếp theo mới trả lời user)",
           "query_knowledge_base",
           "['object_type:cau_truot', 'attribute:price']",
           "query_knowledge_base"
          ],
          [
           "https://scontent.xx.fbcdn.net/v/t1.15752-9/93230357_869531593523363_508287694191722496_n.jpg?_nc_cat=104&_nc_sid=b96e70&_nc_ohc=I8CWOIpt__8AX-L7EDQ&_nc_ad=z-m&_nc_cid=0&_nc_zor=9&_nc_ht=scontent.xx&oh=676159323610b77282663ad8853a2b01&oe=5EB58771",
           "Sản phẩm  cầu trượt  hiện shop đang có giá: 500,000 VND (giá gốc 500,000 VND).\r\nBạn tham khảo các sản phẩm sau nhé ạ:\r\n<show sp>",
           "send_link",
           "[\"url:['https://scontent.xx.fbcdn.net/v/t1.15752-9/93230357_869531593523363_508287694191722496_n.jpg?_nc_cat=104&_nc_sid=b96e70&_nc_ohc=I8CWOIpt__8AX-L7EDQ&_nc_ad=z-m&_nc_cid=0&_nc_zor=9&_nc_ht=scontent.xx&oh=676159323610b77282663ad8853a2b01&oe=5EB58771']\"]",
           "action_handle_send_link_only"
          ],
          [
           "Loại này bn vậy bạn",
           "(Bắt được ảnh gửi tiếp theo mới trả lời user)",
           "query_knowledge_base",
           "['mention:loại này', 'attribute:price']",
           "action_query_babe_kb"
          ],
          [
           "https://scontent.xx.fbcdn.net/v/t1.15752-9/93049946_266000034415184_8022889009304829952_n.jpg?_nc_cat=107&_nc_sid=b96e70&_nc_ohc=6H5qmCrlsTMAX_UxJKR&_nc_ad=z-m&_nc_cid=0&_nc_zor=9&_nc_ht=scontent.xx&oh=56bc309e3fb8f432e5605d1e1fd4a8e2&oe=5EB6DC2D",
           "Sản phẩm  BẢNG VẼ HOLLA 2 in 1  hiện shop đang có giá: 830,000 VND (giá gốc 1,090,000 VND).\nBạn tham khảo sản phẩm sau nhé ạ:\n<show sp>",
           "send_link",
           "[\"url:['https://scontent.xx.fbcdn.net/v/t1.15752-9/93049946_266000034415184_8022889009304829952_n.jpg?_nc_cat=107&_nc_sid=b96e70&_nc_ohc=6H5qmCrlsTMAX_UxJKR&_nc_ad=z-m&_nc_cid=0&_nc_zor=9&_nc_ht=scontent.xx&oh=56bc309e3fb8f432e5605d1e1fd4a8e2&oe=5EB6DC2D']\"]",
           "action_query_babe_kb"
          ],
          [
           "Có những màu gì ạ ?",
           "Dạ, BẢNG VẼ HOLLA 2 in 1 hiện có các màu: Hồng, Xanh\n<Show card tương ứng với các màu của sản phẩm>",
           "query_knowledge_base",
           "['attribute:color']",
           "action_query_babe_kb"
          ],
          [
           "Để mình tham khảo thêm , có gì mình báo sớm",
           "Dạ,vâng ạ",
           "finish_conv",
           null,
           "action_finish_conv"
          ],
          [
           "https://scontent.xx.fbcdn.net/v/t1.15752-9/92948814_645194249654417_7858679713655422976_n.jpg?_nc_cat=105&_nc_sid=b96e70&_nc_ohc=wRI0MxBYCusAX8FbQ55&_nc_ad=z-m&_nc_cid=0&_nc_zor=9&_nc_ht=scontent.xx&oh=fd554b026b9a9ba54d252a6b9a2a549b&oe=5EB53E67",
           "Bạn đang tìm kiếm thông tin gì ạ?",
           "send_link",
           "[\"url:['https://scontent.xx.fbcdn.net/v/t1.15752-9/92948814_645194249654417_7858679713655422976_n.jpg?_nc_cat=105&_nc_sid=b96e70&_nc_ohc=wRI0MxBYCusAX8FbQ55&_nc_ad=z-m&_nc_cid=0&_nc_zor=9&_nc_ht=scontent.xx&oh=fd554b026b9a9ba54d252a6b9a2a549b&oe=5EB53E67']\"]",
           "action_handle_send_link_only"
          ],
          [
           "Giá bnh shop",
           "Sản phẩm BẢNG VẼ HOLLA 2 in 1 hiện shop đang có giá: *830,000 VND (giá gốc 1,090,000 VND)*.\r\nBạn tham khảo các sản phẩm sau nhé ạ:",
           "query_knowledge_base",
           "['attribute:price']",
           "action_query_babe_kb"
          ],
          [
           "https://scontent.xx.fbcdn.net/v/t1.15752-9/92577959_521713968748198_2028124277756133376_n.jpg?_nc_cat=110&_nc_sid=b96e70&_nc_ohc=JJLk80vJ4PIAX8tj8Ac&_nc_ad=z-m&_nc_cid=0&_nc_zor=9&_nc_ht=scontent.xx&oh=d7d18f49b9b79de714940f80c57e49e5&oe=5EB732D7",
           "Sản phẩm NGỰA BẬP BÊNH HOLLA 2020 hiện shop đang có giá: *580,000 VND (giá gốc 800,000 VND)*.\r\nBạn tham khảo các sản phẩm sau nhé ạ:",
           "send_link",
           "[\"url:['https://scontent.xx.fbcdn.net/v/t1.15752-9/92577959_521713968748198_2028124277756133376_n.jpg?_nc_cat=110&_nc_sid=b96e70&_nc_ohc=JJLk80vJ4PIAX8tj8Ac&_nc_ad=z-m&_nc_cid=0&_nc_zor=9&_nc_ht=scontent.xx&oh=d7d18f49b9b79de714940f80c57e49e5&oe=5EB732D7']\"]",
           "action_handle_send_link_only"
          ],
          [
           "Ngựa này thì sao",
           "Dạ, sản phẩmNGỰA BẬP BÊNH HOLLA 2020hiện tại bên shop đang tạm hết hàng ạ. Bạn tham khảo các sản phẩm khác dành cho bé nhé!Dạ, sản phẩm Ngựa Bập Bệnh hiện tại bên shop đang tạm hết hàng ạ. Bạn tham khảo các sản phẩm khác dành cho bé nhé!",
           "query_knowledge_base",
           "['object_type:Ngựa',\n'mention:này']",
           "action_query_babe_kb"
          ],
          [
           "thank sh",
           "Dạ, cảm ơn ạ!",
           "thank",
           null,
           "utter_thank"
          ],
          [
           "https://scontent.xx.fbcdn.net/v/t1.15752-9/92791014_2661430304077984_4670421710539849728_n.jpg?_nc_cat=105&_nc_sid=b96e70&_nc_ohc=XlQTCwj0czIAX_d_QhB&_nc_ad=z-m&_nc_cid=0&_nc_zor=9&_nc_ht=scontent.xx&oh=02079e567064603a748d9ce883d4b2f8&oe=5EB5485D",
           "Bạn đang tìm kiếm thông tin gì ạ?",
           "send_link",
           "[\"url:['https://scontent.xx.fbcdn.net/v/t1.15752-9/92791014_2661430304077984_4670421710539849728_n.jpg?_nc_cat=105&_nc_sid=b96e70&_nc_ohc=XlQTCwj0czIAX_d_QhB&_nc_ad=z-m&_nc_cid=0&_nc_zor=9&_nc_ht=scontent.xx&oh=02079e567064603a748d9ce883d4b2f8&oe=5EB5485D']\"]",
           "action_handle_send_link_only"
          ],
          [
           "Bộ này bn vậy shop",
           "COMBO HOLLA FULL PHIÊN BẢN 2020 MẪU VƯƠNG MIỆN hiện shop đang có giá: 4100000 VND (giá gốc 5000000 VND). Bạn tham khảo các sản phẩm sau nhé ạ: <show sp>",
           "query_knowledge_base",
           "['mention:bộ này', 'attribute:price']",
           "action_query_babe_kb"
          ],
          [
           "Nước nào sản xuất ",
           "Dạ COMBO HOLLA FULL PHIÊN BẢN 2020 MẪU VƯƠNG MIỆN có xuất xứ từ Trung Quốc ạ\n(xuất xứ trong phần mô tả sp trên Shopee)",
           "query_knowledge_base",
           "['attribute:origin']",
           "action_query_babe_kb"
          ],
          [
           "https://scontent.xx.fbcdn.net/v/t1.15752-9/93486370_1623328874472120_5014179051686854656_n.jpg?_nc_cat=108&_nc_sid=b96e70&_nc_ohc=fwdfBm4m4twAX_LaA9U&_nc_ad=z-m&_nc_cid=0&_nc_zor=9&_nc_ht=scontent.xx&oh=422b65b1b7ea124a5b622f219a0e2ab3&oe=5EB738D6",
           "Bạn đang tìm kiếm thông tin gì ạ?",
           "send_link",
           "[\"url:['https://scontent.xx.fbcdn.net/v/t1.15752-9/93486370_1623328874472120_5014179051686854656_n.jpg?_nc_cat=108&_nc_sid=b96e70&_nc_ohc=fwdfBm4m4twAX_LaA9U&_nc_ad=z-m&_nc_cid=0&_nc_zor=9&_nc_ht=scontent.xx&oh=422b65b1b7ea124a5b622f219a0e2ab3&oe=5EB738D6']\"]",
           "action_handle_send_link_only"
          ],
          [
           "2 bộ này bn ạ",
           "Bộ đồ chơi nhà bếp thông minh hiện shop đang có giá: 790000 VND (giá gốc 790000 VND). Bạn tham khảo các sản phẩm sau nhé ạ: <show sp>",
           "query_knowledge_base",
           "['mention:bộ này', 'attribute:price']",
           "action_query_babe_kb"
          ],
          [
           "chất liệu gì thế",
           "Dạ sản phẩm làm từ nhựa ạ\r\nBạn tham khảo các sản phẩm sau nhé ạ:\r\n<show sp>",
           "query_knowledge_base",
           "['attribute:material']",
           "action_query_babe_kb"
          ],
          [
           "bạn ơi",
           "Chào bạn, mình là trợ lý ảo của Shop Gấu & Bí Ngô, mình giúp gì được bạn ạ?",
           "greet",
           null,
           "utter_greet"
          ],
          [
           "https://scontent.xx.fbcdn.net/v/t1.15752-9/92571038_2584677681814761_3423627618300198912_n.jpg?_nc_cat=105&_nc_sid=b96e70&_nc_ohc=OZGf9Ro8NKQAX8umkh_&_nc_ad=z-m&_nc_cid=0&_nc_zor=9&_nc_ht=scontent.xx&oh=b60d1adb39de9f1c672de5ce7f9a6ae4&oe=5EB53FA2",
           "Bạn đang tìm kiếm thông tin gì ạ?",
           "send_link",
           "[\"url:['https://scontent.xx.fbcdn.net/v/t1.15752-9/92571038_2584677681814761_3423627618300198912_n.jpg?_nc_cat=105&_nc_sid=b96e70&_nc_ohc=OZGf9Ro8NKQAX8umkh_&_nc_ad=z-m&_nc_cid=0&_nc_zor=9&_nc_ht=scontent.xx&oh=b60d1adb39de9f1c672de5ce7f9a6ae4&oe=5EB53FA2']\"]",
           "action_handle_send_link_only"
          ],
          [
           "Bn một bộ này vậy shop",
           "Sản phẩm  BẢNG VẼ HOLLA 2 in 1  hiện shop đang có giá: 830,000 VND (giá gốc 1,090,000 VND).\nBạn tham khảo các sản phẩm sau nhé ạ:\n<show sp>",
           "query_knowledge_base",
           "['attribute:price', 'mention:bộ này']",
           "action_query_babe_kb"
          ],
          [
           "Cả bộ hả b ?",
           "Dạ,vâng ạ",
           "query_knowledge_base",
           null,
           "action_query_babe_kb"
          ],
          [
           "bạn ơi",
           "Chào bạn, mình là trợ lý ảo của Shop Gấu & Bí Ngô, mình giúp gì được bạn ạ?",
           "greet",
           null,
           "utter_greet"
          ],
          [
           "https://scontent.xx.fbcdn.net/v/t1.15752-9/92792231_225126888578248_4184814308414193664_n.jpg?_nc_cat=108&_nc_sid=b96e70&_nc_ohc=Cjd1ceq4pLEAX_2V4Ao&_nc_ad=z-m&_nc_cid=0&_nc_zor=9&_nc_ht=scontent.xx&oh=d921b0784b3703a7b02a586756b0e62a&oe=5EB57163",
           "Bạn đang tìm kiếm thông tin gì ạ?",
           "send_link",
           "[\"url:['https://scontent.xx.fbcdn.net/v/t1.15752-9/92792231_225126888578248_4184814308414193664_n.jpg?_nc_cat=108&_nc_sid=b96e70&_nc_ohc=Cjd1ceq4pLEAX_2V4Ao&_nc_ad=z-m&_nc_cid=0&_nc_zor=9&_nc_ht=scontent.xx&oh=d921b0784b3703a7b02a586756b0e62a&oe=5EB57163']\"]",
           "action_handle_send_link_only"
          ],
          [
           "Bộ nay bn b",
           "Sản phẩm  BẢNG VẼ HOLLA 2 in 1  hiện shop đang có giá: 830,000 VND (giá gốc 1,090,000 VND).\nBạn tham khảo các sản phẩm sau nhé ạ:\n<show sp>",
           "query_knowledge_base",
           "['mention:bộ nay', 'attribute:price']",
           "action_query_babe_kb"
          ],
          [
           "Mấy chữ trên bản\r\nLa co sẵn lun hay la k co ạ",
           "Sản phẩm  BẢNG VẼ HOLLA 2 in 1 bao gồm các phụ kiện sau: bộ chữ, bộ số và bút nước\nBạn tham khảo sản phẩm sau nhé ạ:\r\n<show sp>",
           "query_knowledge_base",
           "['attribute:accessories']",
           "action_query_babe_kb"
          ],
          [
           "https://scontent.xx.fbcdn.net/v/t1.15752-9/92574409_215108049717012_4974694287758327808_n.jpg?_nc_cat=111&_nc_sid=b96e70&_nc_ohc=od8F78G2U4oAX-kFk_g&_nc_ad=z-m&_nc_cid=0&_nc_zor=9&_nc_ht=scontent.xx&oh=a03f154b9cf70c6406c5041b2712d5f9&oe=5EB69163",
           "Bạn đang tìm kiếm thông tin gì ạ?",
           "send_link",
           "[\"url:['https://scontent.xx.fbcdn.net/v/t1.15752-9/92574409_215108049717012_4974694287758327808_n.jpg?_nc_cat=111&_nc_sid=b96e70&_nc_ohc=od8F78G2U4oAX-kFk_g&_nc_ad=z-m&_nc_cid=0&_nc_zor=9&_nc_ht=scontent.xx&oh=a03f154b9cf70c6406c5041b2712d5f9&oe=5EB69163']\"]",
           "action_handle_send_link_only"
          ],
          [
           "Bn shop oi",
           "Sản phẩm  BẢNG VẼ HOLLA 2 in 1  hiện shop đang có giá: 830,000 VND (giá gốc 1,090,000 VND).\nBạn tham khảo các sản phẩm sau nhé ạ:\n<show sp>",
           "query_knowledge_base",
           "['attribute:price']",
           "utter_greet"
          ],
          [
           "Chiều nay ship luôn cho mình được không",
           "Bạn cho shop xin địa chỉ nhận hàng ạ.",
           "time_ship",
           null,
           "action_time_ship"
          ],
          [
           "số 7 tràng thi",
           "Với địa chỉ số 7 tràng thi shop có thể ship hàng đến trong 3 h ạ",
           null,
           null,
           null
          ],
          [
           "Thanh chắn cầu thang bn a",
           "Sản phẩm thanh chắn cầu thang hiện shop đang có giá: 830,000 VND (giá gốc 1,090,000 VND).\nBạn tham khảo các sản phẩm sau nhé ạ:\n<show sp>",
           "query_knowledge_base",
           "['attribute:price']['object_type:thanh_chan_cau_thang']",
           "action_query_babe_kb"
          ],
          [
           "kích thước tn shop",
           "Dạ, thanh chắn cầu thang có (các-nhiều kích thước) kích thước: 74x83x 77cm ạ. \n<show card sản phẩm> \n",
           "query_knowledge_base",
           "['attribute:size']",
           "action_query_babe_kb"
          ],
          [
           "ok shop",
           "Dạ,vâng",
           "agree",
           null,
           "utter_agree"
          ],
          [
           "bạn ơi",
           "Chào bạn, mình là trợ lý ảo của Shop Gấu & Bí Ngô, mình giúp gì được bạn ạ?",
           "greet",
           null,
           "utter_greet"
          ],
          [
           "Bộ đồ chơi nấu ăn giá bn ạ",
           "Mình chưa xác định được món đồ bạn hỏi, bạn mô tả rõ hơn giúp mình nhé!",
           "query_knowledge_base",
           "['attribute:price']",
           "action_query_babe_kb"
          ],
          [
           "https://scontent.xx.fbcdn.net/v/t1.15752-9/92871920_244941433296679_4143720563837239296_n.jpg?_nc_cat=104&_nc_sid=b96e70&_nc_ohc=cfVDG58zjTsAX8JQE4Y&_nc_ad=z-m&_nc_cid=0&_nc_zor=9&_nc_ht=scontent.xx&oh=6d491d56656f2cdc59cdc013a65bc22b&oe=5EB56A38",
           "Bộ đồ chơi nhà bếp thông minh hiện shop đang có giá: 790000 VND (giá gốc 790000 VND). Bạn tham khảo các sản phẩm sau nhé ạ: <show sp>",
           "send_link",
           "[\"url:['https://scontent.xx.fbcdn.net/v/t1.15752-9/92871920_244941433296679_4143720563837239296_n.jpg?_nc_cat=104&_nc_sid=b96e70&_nc_ohc=cfVDG58zjTsAX8JQE4Y&_nc_ad=z-m&_nc_cid=0&_nc_zor=9&_nc_ht=scontent.xx&oh=6d491d56656f2cdc59cdc013a65bc22b&oe=5EB56A38']\"]",
           "action_handle_send_link_only"
          ],
          [
           "ok shop",
           "Dạ,vâng",
           "agree",
           null,
           "utter_agree"
          ],
          [
           "https://scontent.xx.fbcdn.net/v/t1.15752-9/93136917_667702917395987_8046983986288787456_n.jpg?_nc_cat=108&_nc_sid=b96e70&_nc_ohc=v_S4u4HxLpgAX-GM0OS&_nc_ad=z-m&_nc_cid=0&_nc_zor=9&_nc_ht=scontent.xx&oh=f9b70ca6c2535878f0b530141ee4a4ca&oe=5EB59BE8",
           "action_handle_send_link_only",
           "send_link",
           "[\"url:['https://scontent.xx.fbcdn.net/v/t1.15752-9/93136917_667702917395987_8046983986288787456_n.jpg?_nc_cat=108&_nc_sid=b96e70&_nc_ohc=v_S4u4HxLpgAX-GM0OS&_nc_ad=z-m&_nc_cid=0&_nc_zor=9&_nc_ht=scontent.xx&oh=f9b70ca6c2535878f0b530141ee4a4ca&oe=5EB59BE8']\"]",
           "action_handle_send_link_only"
          ],
          [
           "Thanh 36cm lắp thêm vào chỗ hẹp cũng đc phải ko a, tức là dùng như thanh 12cm cũng đc a?",
           "Cho mình xin chiều rộng cầu thang nhà bạn ạ ?",
           "to_compare",
           "['size:36cm', 'size:12cm']",
           "action_to_compare"
          ],
          [
           "0,5m ạ",
           "Dạ sản phẩm thanh 36 cm và 12 cm lắp được với cầu thang có chiều rộng 0,5 m ạ",
           "query_knowledge_base",
           "['size:0,5m']",
           "action_query_babe_kb"
          ],
          [
           "https://scontent.xx.fbcdn.net/v/t1.15752-9/93409445_248021096324605_3539204290587394048_n.jpg?_nc_cat=100&_nc_sid=b96e70&_nc_ohc=CDp2-oURkTkAX-ROtNE&_nc_ad=z-m&_nc_cid=0&_nc_zor=9&_nc_ht=scontent.xx&oh=a13cc949d1040f31f6f45300484c2189&oe=5EB5A872",
           "action_handle_send_link_only",
           "send_link",
           "[\"url:['https://scontent.xx.fbcdn.net/v/t1.15752-9/93409445_248021096324605_3539204290587394048_n.jpg?_nc_cat=100&_nc_sid=b96e70&_nc_ohc=CDp2-oURkTkAX-ROtNE&_nc_ad=z-m&_nc_cid=0&_nc_zor=9&_nc_ht=scontent.xx&oh=a13cc949d1040f31f6f45300484c2189&oe=5EB5A872']\"]",
           "action_handle_send_link_only"
          ],
          [
           "Ngựa này hàng về hả shop?",
           "Sản phẩm  NGỰA BẬP BÊNH HOLLA 2020  hiện shop có hàng và đang có giá: 580000\n VND (giá gốc 800000 VND).\nBạn tham khảo các sản phẩm sau nhé ạ:\n<show sp>",
           "query_knowledge_base",
           "['object_type:ngua_bap_benh', 'mention:này']",
           "action_query_babe_kb"
          ],
          [
           "Bên mình có mã giảm giá shopee k shop?",
           "Hiện shop không có mã giảm giá shopee cho sản phẩm NGỰA BẬP BÊNH HOLLA 2020 ạ",
           "query_knowledge_base",
           "['attribute:promotion','attribute:codediscount']",
           "action_query_babe_kb"
          ],
          [
           "https://scontent.xx.fbcdn.net/v/t1.15752-9/92812185_1223309388006647_5070003679390597120_n.jpg?_nc_cat=102&_nc_sid=b96e70&_nc_ohc=g_UDAFO7FMkAX8iFNTd&_nc_ad=z-m&_nc_cid=0&_nc_zor=9&_nc_ht=scontent.xx&oh=b4d34f75250bd20bb8adc6193f0b996b&oe=5EB812A1",
           "Bạn đang tìm kiếm thông tin gì ạ?",
           "send_link",
           "[\"url:['https://scontent.xx.fbcdn.net/v/t1.15752-9/92812185_1223309388006647_5070003679390597120_n.jpg?_nc_cat=102&_nc_sid=b96e70&_nc_ohc=g_UDAFO7FMkAX8iFNTd&_nc_ad=z-m&_nc_cid=0&_nc_zor=9&_nc_ht=scontent.xx&oh=b4d34f75250bd20bb8adc6193f0b996b&oe=5EB812A1']\"]",
           "action_handle_send_link_only"
          ],
          [
           "Bạn ơi bộ này bao tiền ạ",
           "Sản phẩm  BẢNG VẼ HOLLA 2 in 1  hiện shop đang có giá: 830,000 VND (giá gốc 1,090,000 VND).\nBạn tham khảo các sản phẩm sau nhé ạ:\n<show sp>",
           "query_knowledge_base",
           "['mention:bộ này', 'attribute:price']",
           "action_query_babe_kb"
          ],
          [
           " bao gồm cả bộ chữ, số ở trên bảng + bút nước à b",
           "Sản phẩm  BẢNG VẼ HOLLA 2 in 1 bao gồm các phụ kiện sau: bộ chữ, bộ số và bút nước\nBạn tham khảo sản phẩm sau nhé ạ:\r\n<show sp>",
           "query_knowledge_base",
           "\n['accessories:bộ chữ']['accessories:bộ số']['accessories:bút nước']",
           "action_query_babe_kb"
          ],
          [
           "https://scontent.xx.fbcdn.net/v/t1.15752-9/92706664_584769512134067_2916220439648796672_n.jpg?_nc_cat=105&_nc_sid=b96e70&_nc_ohc=LzoJrxXZEG4AX_1Y2tK&_nc_ad=z-m&_nc_cid=0&_nc_zor=9&_nc_ht=scontent.xx&oh=e2d594b1bfcd857449d797dbb2d02b61&oe=5EB6767E",
           "Bạn đang tìm kiếm thông tin gì ạ?",
           "send_link",
           "[\"url:['https://scontent.xx.fbcdn.net/v/t1.15752-9/92706664_584769512134067_2916220439648796672_n.jpg?_nc_cat=105&_nc_sid=b96e70&_nc_ohc=LzoJrxXZEG4AX_1Y2tK&_nc_ad=z-m&_nc_cid=0&_nc_zor=9&_nc_ht=scontent.xx&oh=e2d594b1bfcd857449d797dbb2d02b61&oe=5EB6767E']\"]",
           "action_handle_send_link_only"
          ],
          [
           "Bộ này bao nhiêu vậy shop ơi",
           "Sản phẩm  BẢNG VẼ HOLLA 2 in 1  hiện shop đang có giá: 830,000 VND (giá gốc 1,090,000 VND).\nBạn tham khảo các sản phẩm sau nhé ạ:\n<show sp>",
           "query_knowledge_base",
           "['mention:bộ này', 'attribute:price']",
           "action_query_babe_kb"
          ],
          [
           "Mình có bảng vẽ đa năng cho bé mà k đi liền với bàn k ạ?",
           "Sản phẩm bảng vẽ mà không đi liền với bàn hiện shop có những sản phẩm sau mời bạn tham khảo:\n<sp1><sp2><sp3>",
           "query_knowledge_base",
           null,
           "action_query_babe_kb"
          ],
          [
           "https://scontent.xx.fbcdn.net/v/t1.15752-9/92694192_2614716975469495_5572242217088581632_n.jpg?_nc_cat=106&_nc_sid=b96e70&_nc_oc=AQntyQWugJc3s4avU1VoQOdwpdKSmeEpUXN84Gn9ed96LljSbQoHAhs_paPwY7xWumhVOcDyJAO9oQajF5hRIFYb&_nc_ad=z-m&_nc_cid=0&_nc_zor=9&_nc_ht=scontent.xx&oh=1df67664b5e1a92b05b733613c5946f5&oe=5EB51340",
           "Bạn đang tìm kiếm thông tin gì ạ?",
           "send_link",
           "[\"url:['https://scontent.xx.fbcdn.net/v/t1.15752-9/92694192_2614716975469495_5572242217088581632_n.jpg?_nc_cat=106&_nc_sid=b96e70&_nc_oc=AQntyQWugJc3s4avU1VoQOdwpdKSmeEpUXN84Gn9ed96LljSbQoHAhs_paPwY7xWumhVOcDyJAO9oQajF5hRIFYb&_nc_ad=z-m&_nc_cid=0&_nc_zor=9&_nc_ht=scontent.xx&oh=1df67664b5e1a92b05b733613c5946f5&oe=5EB51340']\"]",
           "action_handle_send_link_only"
          ],
          [
           "https://scontent.xx.fbcdn.net/v/t1.15752-9/93031511_247828126399871_5237293488793452544_n.jpg?_nc_cat=111&_nc_sid=b96e70&_nc_oc=AQnsp_bzf3mOSZi9Jvn-4cnExabSMmyu1uTaZT-ba4f20zzkHcvRqyG3oZmSHEleonx4tRAZxwxXNF5mYJHQN2gE&_nc_ad=z-m&_nc_cid=0&_nc_zor=9&_nc_ht=scontent.xx&oh=b4e535c62864baaa6a3e975576d0dc24&oe=5EB75ABA",
           "Bạn đang tìm kiếm thông tin gì ạ?",
           "send_link",
           "[\"url:['https://scontent.xx.fbcdn.net/v/t1.15752-9/93031511_247828126399871_5237293488793452544_n.jpg?_nc_cat=111&_nc_sid=b96e70&_nc_oc=AQnsp_bzf3mOSZi9Jvn-4cnExabSMmyu1uTaZT-ba4f20zzkHcvRqyG3oZmSHEleonx4tRAZxwxXNF5mYJHQN2gE&_nc_ad=z-m&_nc_cid=0&_nc_zor=9&_nc_ht=scontent.xx&oh=b4e535c62864baaa6a3e975576d0dc24&oe=5EB75ABA']\"]",
           "action_handle_send_link_only"
          ],
          [
           "Báo giá giúp mình",
           "Sản phẩm  BẢNG VẼ HOLLA 2 in 1  hiện shop đang có giá: 830,000 VND (giá gốc 1,090,000 VND).\nBạn tham khảo các sản phẩm sau nhé ạ:\n<show sp>",
           "query_knowledge_base",
           "['attribute:price']",
           "action_query_babe_kb"
          ],
          [
           "Gồm bảng, ghế và gì nữa ko shop",
           null,
           "query_knowledge_base",
           "['attribute:accessories']",
           "action_query_babe_kb"
          ],
          [
           "https://scontent.xx.fbcdn.net/v/t1.15752-9/92871283_242693100205365_8753955467434131456_n.jpg?_nc_cat=109&_nc_sid=b96e70&_nc_ohc=W1Vc84SDPpoAX9EiTsC&_nc_ad=z-m&_nc_cid=0&_nc_zor=9&_nc_ht=scontent.xx&oh=81d08ed8c54590679c062ba3cf4be944&oe=5EB65EBB",
           "Sản phẩm  BẢNG VẼ HOLLA 2 in 1 bao gồm các phụ kiện sau: bộ chữ, bộ số và bút nước ạ\nBạn tham khảo sản phẩm sau nhé ạ:\n<show sp>",
           "send_link",
           "[\"url:['https://scontent.xx.fbcdn.net/v/t1.15752-9/92871283_242693100205365_8753955467434131456_n.jpg?_nc_cat=109&_nc_sid=b96e70&_nc_ohc=W1Vc84SDPpoAX9EiTsC&_nc_ad=z-m&_nc_cid=0&_nc_zor=9&_nc_ht=scontent.xx&oh=81d08ed8c54590679c062ba3cf4be944&oe=5EB65EBB']\"]",
           "action_handle_send_link_only"
          ],
          [
           "Mình có bảng vẽ đa năng cho bé mà k đi liền với ghế k ạ?",
           "Sản phẩm bảng vẽ mà không đi liền với ghế hiện shop có những sản phẩm sau mời bạn tham khảo:\n<sp1><sp2><sp3>",
           "query_knowledge_base",
           "['aobject_type:bang_ve']",
           "action_query_babe_kb"
          ],
          [
           "Mẫu cầu trượt này báo giá giúp e nhé",
           null,
           "query_knowledge_base",
           "['object_type:cau_truot', 'mention:này', 'attribute:price']",
           "action_query_babe_kb"
          ],
          [
           "https://scontent.xx.fbcdn.net/v/t1.15752-9/92989817_2941090232617285_7762728477815472128_n.jpg?_nc_cat=109&_nc_sid=b96e70&_nc_ohc=15xhgRV8HgAAX9q4suE&_nc_ad=z-m&_nc_cid=0&_nc_zor=9&_nc_ht=scontent.xx&oh=ba92c28af571898e3d200043dab41de7&oe=5EB61F06",
           "Sản phẩm  cầu trượt  hiện shop đang có giá: 830,000 VND (giá gốc 1,090,000 VND).\nBạn tham khảo sản phẩm sau nhé ạ:\n<show sp>",
           "send_link",
           "[\"url:['https://scontent.xx.fbcdn.net/v/t1.15752-9/92989817_2941090232617285_7762728477815472128_n.jpg?_nc_cat=109&_nc_sid=b96e70&_nc_ohc=15xhgRV8HgAAX9q4suE&_nc_ad=z-m&_nc_cid=0&_nc_zor=9&_nc_ht=scontent.xx&oh=ba92c28af571898e3d200043dab41de7&oe=5EB61F06']\"]",
           "action_handle_send_link_only"
          ],
          [
           "Dùng cho bé bao tháng ạ",
           "Cầu trượt có độ tuổi sử dụng 0-36 tháng \nBạn tham khảo sản phẩm sau nhé ạ:\n<show sp>",
           "query_knowledge_base",
           "['attribute:age_of_use']",
           "action_query_babe_kb"
          ],
          [
           "Báo giá giúp mình bảng vẽ Hola nhé\n1 bộ bao gồm những gì nhỉ",
           "Sản phẩm  BẢNG VẼ HOLLA 2 in 1  hiện shop đang có giá: 830,000 VND (giá gốc 1,090,000 VND).\nSản phẩm BẢNG VẼ HOLLA 2 in 1 bao gồm các phụ kiện sau: bộ chữ, bộ số và bút nước ạ Bạn tham khảo sản phẩm sau nhé ạ:\n <show sp>",
           "query_knowledge_base",
           "['attribute:price','object_type:bang_ve','brand:hola','attribute:accessories']",
           "action_query_babe_kb"
          ],
          [
           "https://scontent.xx.fbcdn.net/v/t1.15752-9/92548082_214955003273973_3799894782386372608_n.jpg?_nc_cat=106&_nc_sid=b96e70&_nc_ohc=ECkHH-pZ5eQAX9wxG23&_nc_ad=z-m&_nc_cid=0&_nc_zor=9&_nc_ht=scontent.xx&oh=26d86b32b83f4722329ebda411b1b8b7&oe=5EB87673",
           null,
           "send_link",
           "[\"url:['https://scontent.xx.fbcdn.net/v/t1.15752-9/92548082_214955003273973_3799894782386372608_n.jpg?_nc_cat=106&_nc_sid=b96e70&_nc_ohc=ECkHH-pZ5eQAX9wxG23&_nc_ad=z-m&_nc_cid=0&_nc_zor=9&_nc_ht=scontent.xx&oh=26d86b32b83f4722329ebda411b1b8b7&oe=5EB87673']\"]",
           "action_handle_send_link_only"
          ],
          [
           "có trên shopee không shop",
           "Mời bạn tham khảo link shopee của sản phẩm:\n<show card sp>",
           "query_knowledge_base",
           "['attribute:link']",
           "action_query_babe_kb"
          ],
          [
           "Cho m xem màu",
           "Mình chưa xác định được món đồ bạn hỏi, bạn mô tả rõ hơn giúp mình nhé!",
           "query_knowledge_base",
           "['attribute:color']",
           "action_query_babe_kb"
          ],
          [
           "Ghế ăn dặm newber ạ",
           "Dạ, sản phẩm Ghế Ăn hãng sản xuất Newber hiện tại đang có các màu sau ạ : hồng, xanh\nBạn tham khảo sản phẩm sau nhé ạ:\n <show sp>",
           "query_knowledge_base",
           "['object_type:ghe_an', 'brand:newber']",
           "action_query_babe_kb"
          ],
          [
           "bé bao tuổi thì ngồi được ạ",
           "Ghế Ăn hãng sản xuất Newber có độ tuổi sử dụng 0-36 tháng \nBạn tham khảo sản phẩm sau nhé ạ:\n<show sp>",
           "query_knowledge_base",
           "['attribute:age_of_use']",
           "action_query_babe_kb"
          ],
          [
           "https://scontent.xx.fbcdn.net/v/t1.15752-9/92131879_1387552388082877_713343700784119808_n.jpg?_nc_cat=104&_nc_sid=b96e70&_nc_ohc=kFnxhSTxRVAAX_9rX3-&_nc_ad=z-m&_nc_cid=0&_nc_zor=9&_nc_ht=scontent.xx&oh=40adffc887ec99df20f0b2a16bf88371&oe=5EB60C83",
           "Bạn đang tìm kiếm thông tin gì ạ?",
           "send_link",
           "[\"url:['https://scontent.xx.fbcdn.net/v/t1.15752-9/92131879_1387552388082877_713343700784119808_n.jpg?_nc_cat=104&_nc_sid=b96e70&_nc_ohc=kFnxhSTxRVAAX_9rX3-&_nc_ad=z-m&_nc_cid=0&_nc_zor=9&_nc_ht=scontent.xx&oh=40adffc887ec99df20f0b2a16bf88371&oe=5EB60C83']\"]",
           "action_handle_send_link_only"
          ],
          [
           "Bản cho bé 2 tuoi bao nh ạ",
           "Sản phẩm BẢNG VẼ HOLLA 2 in 1 hiện shop đang có giá: *830,000 VND (giá gốc 1,090,000 VND)*.\r\nBạn tham khảo các sản phẩm sau nhé ạ:",
           "query_knowledge_base",
           "['age_of_use:2 tuoi', 'attribute:price']",
           "action_query_babe_kb"
          ],
          [
           "ok shop",
           "Dạ,vâng",
           "agree",
           null,
           "utter_agree"
          ],
          [
           "Bạn ơi ship cho mình 1 thanh chắn cửa và 1 thanh nối 12cm nhé",
           "\"Cảm ơn bạn! Bạn vui lòng điền thông tin vào Mẫu đặt hàng giúp shop nhé!\n<Show ra cái bảng mẫu đặt hàng: có tên sản phẩm, cho khách tùy chọn số lượng, màu sắc...>\"\n<xác nhận> <hủy>",
           "query_knowledge_base",
           "['object_type:thanh_chan_cua','object_type:thanh_noi','attribute:ship'size:12cm]",
           null
          ],
          [
           null,
           "Bạn đã đặt hàng thành công , đơn hàng sẽ đc gioa đến 434 TKC trong khoảng 24 h ạ",
           "agree",
           null,
           "action_query_babe_kb"
          ],
          [
           "bạn ơi",
           "Chào bạn, mình là trợ lý ảo của Shop Gấu & Bí Ngô, mình giúp gì được bạn ạ?",
           "greet",
           null,
           "utter_greet"
          ],
          [
           "shop ơi mình cần mua váy vắt sửa\nsưa",
           "Hiện tại sản phẩm máy hút sữa shop đang có những giá sau ạ:\n<500-1M> <1M-2M> <Tất cả giá>",
           "query_knowledge_base",
           "['object_type:may_hut_sua']",
           "action_query_babe_kb"
          ],
          [
           "/query_knowledge_base{\"price\": \"1M - 2M\"}\t",
           "Mời bạn click vào \"Xem chi tiết\" để tham khảo sản phẩm hiện có tại shop nhé!\r\n<card sp 1> <card sp 2> <card sp 3>",
           "query_knowledge_base",
           null,
           "action_query_babe_kb"
          ],
          [
           "Alo",
           "Chào bạn, mình là trợ lý ảo của Shop Gấu & Bí Ngô, mình giúp gì được bạn ạ?",
           "greet",
           null,
           "utter_greet"
          ],
          [
           "https://scontent.xx.fbcdn.net/v/t1.15752-9/93049506_230567204722153_3091303153677631488_n.jpg?_nc_cat=101&_nc_sid=b96e70&_nc_ohc=U5aAIvE1cnoAX-OQDkx&_nc_ad=z-m&_nc_cid=0&_nc_zor=9&_nc_ht=scontent.xx&oh=f0e42a84100aba274a52478c37af6d52&oe=5EB6C3EE",
           "Bạn đang tìm kiếm thông tin gì ạ?",
           "send_link",
           "[\"url:['https://scontent.xx.fbcdn.net/v/t1.15752-9/93049506_230567204722153_3091303153677631488_n.jpg?_nc_cat=101&_nc_sid=b96e70&_nc_ohc=U5aAIvE1cnoAX-OQDkx&_nc_ad=z-m&_nc_cid=0&_nc_zor=9&_nc_ht=scontent.xx&oh=f0e42a84100aba274a52478c37af6d52&oe=5EB6C3EE']\"]",
           "action_handle_send_link_only"
          ],
          [
           "Đăng shopee chưa",
           "Mời bạn tham khảo link shopee của sản phẩm:\n<show card sp>",
           "action_query_babe_kb",
           "['attribute:link']",
           "action_query_babe_kb"
          ],
          [
           "Alo",
           "Chào bạn, mình là trợ lý ảo của Shop Gấu & Bí Ngô, mình giúp gì được bạn ạ?",
           "greet",
           null,
           "utter_greet"
          ],
          [
           "https://scontent.xx.fbcdn.net/v/t1.15752-9/93049506_230567204722153_3091303153677631488_n.jpg?_nc_cat=101&_nc_sid=b96e70&_nc_ohc=U5aAIvE1cnoAX-OQDkx&_nc_ad=z-m&_nc_cid=0&_nc_zor=9&_nc_ht=scontent.xx&oh=f0e42a84100aba274a52478c37af6d52&oe=5EB6C3EE",
           null,
           "send_link",
           "[\"url:['https://scontent.xx.fbcdn.net/v/t1.15752-9/93049506_230567204722153_3091303153677631488_n.jpg?_nc_cat=101&_nc_sid=b96e70&_nc_ohc=U5aAIvE1cnoAX-OQDkx&_nc_ad=z-m&_nc_cid=0&_nc_zor=9&_nc_ht=scontent.xx&oh=f0e42a84100aba274a52478c37af6d52&oe=5EB6C3EE']\"]",
           "action_handle_send_link_only"
          ],
          [
           "Đăng shopee chưa",
           "Sản phẩm Bộ đồ chơi nhà bếp thông minh hiện chưa có link shopee ạ",
           "query_knowledge_base",
           "['attribute:link']",
           "action_query_babe_kb"
          ],
          [
           "Bao giờ đăng lên thì thông báo mình nhé để mình đặt hàng",
           "Dạ,vâng ạ",
           "query_knowledge_base",
           null,
           "action_query_babe_kb"
          ],
          [
           "b ơi cho mình hỏi chút\nbên mình có quây k k ạ",
           "Sản phẩm  Quây  hiện shop đang có giá: *1,440,000 VND (giá gốc 1,490,000 VND), 1,040,000 VND (giá gốc 1,290,000 VND), 1,340,000 VND (giá gốc 1,390,000 VND)*.\nBạn tham khảo các sản phẩm sau nhé ạ:",
           "query_knowledge_base",
           "['object_type:quay']",
           "action_query_babe_kb"
          ],
          [
           "mẫu này kt bn hả b",
           "Mình chưa xác định được món đồ bạn hỏi, bạn mô tả rõ hơn giúp mình nhé!",
           "query_knowledge_base",
           "['mention:mẫu này', 'attribute:size']",
           "action_query_babe_kb"
          ],
          [
           "https://scontent.xx.fbcdn.net/v/t1.15752-9/92319989_243079400401587_6154261374332567552_n.jpg?_nc_cat=102&_nc_sid=b96e70&_nc_ohc=YkHJKwU8VpUAX-Gwl3X&_nc_ad=z-m&_nc_cid=0&_nc_zor=9&_nc_ht=scontent.xx&oh=80ff0124dbde1098c7a2bee69d87cac8&oe=5EB719F6",
           "Sản phẩm  COMBO HOLLA LIÊN HOÀN 2020 hiện shop đang có kích thước: *1.8x2M*.\nBạn tham khảo sản phẩm sau nhé ạ:\n<show card sp>",
           "send_link",
           "[\"url:['https://scontent.xx.fbcdn.net/v/t1.15752-9/92319989_243079400401587_6154261374332567552_n.jpg?_nc_cat=102&_nc_sid=b96e70&_nc_ohc=YkHJKwU8VpUAX-Gwl3X&_nc_ad=z-m&_nc_cid=0&_nc_zor=9&_nc_ht=scontent.xx&oh=80ff0124dbde1098c7a2bee69d87cac8&oe=5EB719F6']\"]",
           "action_handle_send_link_only"
          ],
          [
           "mai ship mình bộ này b nhé\n",
           "Cho shop xin thông tin ạ ( địa chỉ , số điện thoại)",
           "query_knowledge_base",
           "['mention:bộ này']",
           "action_query_babe_kb"
          ],
          [
           "434 trần khát chân, hai bà trưng\nsđt:113",
           "Thông tin đơn hàng \n( ng nhận: tên fb, tên sản phẩm, số lượng, thuộc tính, giá trị sản phẩm , phí ship và tổng giá trị  đơn hàng)\n<xác nhận><hủy bỏ>",
           "query_knowledge_base",
           null,
           "action_query_babe_kb"
          ],
          [
           "<xác nhận>",
           "Cám ơn bạn đã mua hàng tại shop, đơn hàng sẽ được giao đến 434 trần khát chân, 2 bà trưng trong khoảng 24 h ",
           "agree",
           null,
           null
          ],
          [
           "bạn ơi",
           "Chào bạn, mình là trợ lý ảo của Shop Gấu & Bí Ngô, mình giúp gì được bạn ạ?",
           "greet",
           null,
           "utter_greet"
          ],
          [
           "cho e hỏi shop mình còn ghế ăn dặm loại này k ạ\nhttps://scontent.xx.fbcdn.net/v/t1.15752-9/92664877_857284874739536_7878532899333472256_n.png?_nc_cat=100&_nc_sid=b96e70&_nc_ohc=8hyz8A1A7kIAX8Zqi8Z&_nc_ad=z-m&_nc_cid=0&_nc_zor=9&_nc_ht=scontent.xx&oh=bbbcb24217efa1a016291a04e3c6a380&oe=5EB66428",
           "Sản phẩm  Ghế cao đa năng Mastela 1015  hiện shop đang có giá: 1320000 VND (giá gốc 2000000 VND).\nBạn tham khảo các sản phẩm sau nhé ạ:\n<show sp>",
           "query_knowledge_base",
           "[\"url:['https://scontent.xx.fbcdn.net/v/t1.15752-9/92664877_857284874739536_7878532899333472256_n.png?_nc_cat=100&_nc_sid=b96e70&_nc_ohc=8hyz8A1A7kIAX8Zqi8Z&_nc_ad=z-m&_nc_cid=0&_nc_zor=9&_nc_ht=scontent.xx&oh=bbbcb24217efa1a016291a04e3c6a380&oe=5EB66428']\", 'object_type:ghe_an', 'mention:loại này']",
           "action_query_babe_kb"
          ],
          [
           "thank shop",
           "Dạ vâng ạ.",
           "thank",
           null,
           "utter_thank"
          ],
          [
           "Alo\nhttps://scontent.xx.fbcdn.net/v/t1.15752-9/93277960_579821402741160_1239001299282821120_n.jpg?_nc_cat=100&_nc_sid=b96e70&_nc_ohc=d8OxiZOFC3UAX9Yvec0&_nc_ad=z-m&_nc_cid=0&_nc_zor=9&_nc_ht=scontent.xx&oh=6602df45fb9482936f8daa0e6f2fe356&oe=5EB6D3C7",
           "Chào bạn, mình là trợ lý ảo của Shop Gấu & Bí Ngô, mình giúp gì được bạn ạ?",
           "greet",
           "[\"url:['https://scontent.xx.fbcdn.net/v/t1.15752-9/93277960_579821402741160_1239001299282821120_n.jpg?_nc_cat=100&_nc_sid=b96e70&_nc_ohc=d8OxiZOFC3UAX9Yvec0&_nc_ad=z-m&_nc_cid=0&_nc_zor=9&_nc_ht=scontent.xx&oh=6602df45fb9482936f8daa0e6f2fe356&oe=5EB6D3C7']\"]",
           "utter_greet"
          ],
          [
           "Mua le dc k shop",
           "Quây góc vuông cánh nhỏ hình ngôi nhà toyhouse là sản phẩm bán lẻ hiện đang có giá 1.090.000 - ₫1.250.000\n (giá gốc 290.000 - ₫1.390.000)\nBạn tham khảo các sản phẩm sau nhé ạ:\n<show sp>",
           "query_knowledge_base",
           "[]",
           "action_query_babe_kb"
          ],
          [
           "Ship Thạch Bnaf, LB phí bnhieu b",
           "Ship thạch bàn , long biên trong nội thành hà nội hết khoảng 30-40 k ạ",
           "query_knowledge_base",
           "[]",
           "action_handover_to_inbox"
          ],
          [
           "Shop cho e hỏi bộ đồ chơi cho bé này có to ko ạ. Bé đứng với tới ko ạ. Do nhìn qua hình nên ko hình dung dc kích cỡ thế nào",
           "Mình chưa xác định được món đồ bạn hỏi, bạn mô tả rõ hơn giúp mình nhé!",
           "query_knowledge_base",
           "['attribute:size']",
           "action_query_babe_kb"
          ],
          [
           "https://scontent.xx.fbcdn.net/v/t1.15752-9/92484517_1949098825215067_9094653464721489920_n.jpg?_nc_cat=107&_nc_sid=b96e70&_nc_ohc=vtrowuM_cxgAX9BfUVc&_nc_ad=z-m&_nc_cid=0&_nc_zor=9&_nc_ht=scontent.xx&oh=fb8bb0f890ad2e441ac229831652b030&oe=5EB3F743",
           "Sản phẩm  Bộ đồ chơi nhà bếp thông minh có kích thước: 57x30x77cm và 51x32x100cm\nBạn tham khảo các sản phẩm sau nhé ạ:\n<Show card cuối cùng>",
           "send_link",
           "[\"url:['https://scontent.xx.fbcdn.net/v/t1.15752-9/92484517_1949098825215067_9094653464721489920_n.jpg?_nc_cat=107&_nc_sid=b96e70&_nc_ohc=vtrowuM_cxgAX9BfUVc&_nc_ad=z-m&_nc_cid=0&_nc_zor=9&_nc_ht=scontent.xx&oh=fb8bb0f890ad2e441ac229831652b030&oe=5EB3F743']\"]",
           "action_handle_send_link_only\n"
          ],
          [
           "cám ơn shop",
           null,
           "thank",
           null,
           "utter_thank"
          ],
          [
           "hello",
           "Chào bạn, mình là trợ lý ảo của Shop Gấu & Bí Ngô, mình giúp gì được bạn ạ?",
           "greet",
           null,
           "utter_greet"
          ],
          [
           "ghế ăn dặm",
           "Hiện tại sản phẩm Ghế Ăn  shop đang có những *giá* sau ạ:",
           "query_knowledge_base",
           "['object_type:ghe_an']",
           "action_query_babe_kb"
          ],
          [
           "/confirm_attribute_value{\"price\": \"500k - 1M\"}",
           "Dạ mời bạn tham khảo các loại sản phẩm hiện có tại shop nhé!",
           "confirm_attribute_value",
           "['price:500k - 1M']",
           "action_query_babe_kb"
          ],
          [
           "Vậy xe scotter còn k ạ\nLoại có ư bánh trc ạ",
           "Mời bạn tham khảo các Xe Scooter shop đang có ạ:\n<Show card xe scooter>",
           "query_knowledge_base",
           "['object_type:xe', 'brand:scotter']",
           "action_query_babe_kb"
          ],
          [
           "https://scontent.xx.fbcdn.net/v/t1.15752-9/92430207_618936155615605_8144463878298796032_n.jpg?_nc_cat=111&_nc_sid=b96e70&_nc_ohc=uE0sZhyAuPYAX9fUicW&_nc_ad=z-m&_nc_cid=0&_nc_zor=9&_nc_ht=scontent.xx&oh=3b3036f8632df7eedeffd0fc87e64692&oe=5EB2C515",
           "Bạn đang tìm kiếm thông tin gì ạ?",
           "send_link",
           "[\"url:['https://scontent.xx.fbcdn.net/v/t1.15752-9/92430207_618936155615605_8144463878298796032_n.jpg?_nc_cat=111&_nc_sid=b96e70&_nc_ohc=uE0sZhyAuPYAX9fUicW&_nc_ad=z-m&_nc_cid=0&_nc_zor=9&_nc_ht=scontent.xx&oh=3b3036f8632df7eedeffd0fc87e64692&oe=5EB2C515']\"]",
           "action_handle_send_link_only"
          ],
          [
           "Shop co bán goi nay kg ạ?",
           "Sản phẩm bạn vừa gửi shop không có hàng, hiện tại shop có các loại Gối sau:\n<show random card 5 cái gối>",
           "query_knowledge_base",
           "['object_type:goi', 'mention:nay']",
           "action_query_babe_kb"
          ],
          [
           "shop ơi",
           "Chào bạn, mình là trợ lý ảo của Shop Gấu & Bí Ngô, mình giúp gì được bạn ạ?",
           "greet",
           null,
           "utter_greet"
          ],
          [
           "Bộ này bao nhiêu vậy bạn?\nhttps://scontent.xx.fbcdn.net/v/t1.15752-9/92392502_563581274279413_911273699502456832_n.jpg?_nc_cat=101&_nc_sid=b96e70&_nc_ohc=LK2HVorNH4kAX-hOqZU&_nc_ad=z-m&_nc_cid=0&_nc_zor=9&_nc_ht=scontent.xx&oh=6d0970e4a27ab409c251778d49de4648&oe=5EB66188",
           "Sản phẩm  Bộ đồ chơi nhà bếp thông minh  hiện shop đang có giá: 490.000 - 790.000\nBạn tham khảo các sản phẩm sau nhé ạ:\n<Show card cuối cùng>",
           "query_knowledge_base",
           "[\"url:['https://scontent.xx.fbcdn.net/v/t1.15752-9/92392502_563581274279413_911273699502456832_n.jpg?_nc_cat=101&_nc_sid=b96e70&_nc_ohc=LK2HVorNH4kAX-hOqZU&_nc_ad=z-m&_nc_cid=0&_nc_zor=9&_nc_ht=scontent.xx&oh=6d0970e4a27ab409c251778d49de4648&oe=5EB66188']\", 'mention:bộ này', 'attribute:price']",
           "action_query_babe_kb"
          ],
          [
           "ok, thank shop!",
           "Shop cảm ơn bạn ạ.",
           "thank",
           null,
           "utter_thank"
          ],
          [
           "shop ơi",
           "Chào bạn, mình là trợ lý ảo của Shop Gấu & Bí Ngô, mình giúp gì được bạn ạ?",
           "greet",
           null,
           "utter_greet"
          ],
          [
           "Bộ này bao nhiêu vậy bạn?\nhttps://scontent.xx.fbcdn.net/v/t1.15752-9/92392502_563581274279413_911273699502456832_n.jpg?_nc_cat=101&_nc_sid=b96e70&_nc_ohc=LK2HVorNH4kAX-hOqZU&_nc_ad=z-m&_nc_cid=0&_nc_zor=9&_nc_ht=scontent.xx&oh=6d0970e4a27ab409c251778d49de4648&oe=5EB66188",
           "Sản phẩm  Bộ đồ chơi nhà bếp thông minh  hiện shop đang có giá: 490.000 - 790.000\nBạn tham khảo các sản phẩm sau nhé ạ:\n<Show card cuối cùng>",
           "query_knowledge_base",
           "[\"url:['https://scontent.xx.fbcdn.net/v/t1.15752-9/92392502_563581274279413_911273699502456832_n.jpg?_nc_cat=101&_nc_sid=b96e70&_nc_ohc=LK2HVorNH4kAX-hOqZU&_nc_ad=z-m&_nc_cid=0&_nc_zor=9&_nc_ht=scontent.xx&oh=6d0970e4a27ab409c251778d49de4648&oe=5EB66188']\", 'mention:bộ này', 'attribute:price']",
           "action_query_babe_kb"
          ],
          [
           "cái này có 2 size à shop?",
           "Sản phẩm  Bộ đồ chơi nhà bếp thông minh có kích thước: 57x30x77cm và 51x32x100cm\nBạn tham khảo các sản phẩm sau nhé ạ:\n<Show card cuối cùng>",
           "query_knowledge_base",
           "['mention:cái này', 'attribute:size']",
           "action_query_babe_kb"
          ],
          [
           "ok shop",
           "Vâng ạ!",
           "agree",
           null,
           "utter_agree"
          ],
          [
           "shop ơi",
           "Chào bạn, mình là trợ lý ảo của Shop Gấu & Bí Ngô, mình giúp gì được bạn ạ?",
           "greet",
           null,
           "utter_greet"
          ],
          [
           "Chào shop, shop còn mẫu ghế mastela màu ghi, mã 7330 không\nGiá bao nhiêu",
           "Sản phẩm Ghế ăn nâng hạ độ cao nhựa Mastela 07330/07331 màu ghi hiện đang có giá: 490.000 (Giá gốc: 639.000).\n<Show card>",
           "query_knowledge_base",
           "['object_type:ghe', 'brand:mastela', 'color:màu ghi', 'attribute:price', 'code:7330']",
           "action_query_babe_kb"
          ],
          [
           "Mình cần gấp, shop ship luôn cho mình nhé.",
           "Cảm ơn bạn! Bạn vui lòng điền thông tin vào Mẫu đặt hàng giúp shop nhé!\n<Show ra cái bảng mẫu đặt hàng: có tên sản phẩm, cho khách tùy chọn số lượng, màu sắc...>",
           "make_order",
           null,
           "action_make_order"
          ],
          [
           "https://scontent.xx.fbcdn.net/v/t1.15752-9/91106339_504681633742206_788347577962594304_n.jpg?_nc_cat=101&_nc_sid=b96e70&_nc_oc=AQkpdwlzm_mTmrlmOvdESGIDOUEFrWujbD-83rE4K6ox1kluGcnfS6n-PsbADXsmCzsphR9NWY-7rsS1btzeL5vr&_nc_ad=z-m&_nc_cid=0&_nc_zor=9&_nc_ht=scontent.xx&oh=911eee54169aeab013d04631dc885161&oe=5EA68BE0",
           "Bạn đang tìm kiếm thông tin gì ạ?",
           "send_link",
           "[\"url:['https://scontent.xx.fbcdn.net/v/t1.15752-9/91106339_504681633742206_788347577962594304_n.jpg?_nc_cat=101&_nc_sid=b96e70&_nc_oc=AQkpdwlzm_mTmrlmOvdESGIDOUEFrWujbD-83rE4K6ox1kluGcnfS6n-PsbADXsmCzsphR9NWY-7rsS1btzeL5vr&_nc_ad=z-m&_nc_cid=0&_nc_zor=9&_nc_ht=scontent.xx&oh=911eee54169aeab013d04631dc885161&oe=5EA68BE0']\"]",
           "action_handle_send_link_only"
          ],
          [
           "Bnhiu v shop",
           "Dạ, có phải bạn muốn hỏi một trong các sản phẩm dưới đây không ạ?\n (Vui lòng ấn chọn 1 sản phẩm)\n\n<show 5 card sản phẩm>",
           "query_knowledge_base",
           "['attribute:price']",
           "action_query_babe_kb"
          ],
          [
           "Cái thứ 2\n",
           "Mời bạn tham khảo sản phẩm Voi Jumbo thả hình khối Bkids Infantino:\n<show card>",
           null,
           "['mention:2']",
           "action_query_babe_kb"
          ],
          [
           "ok shop",
           "Dạ vâng ạ!",
           "agree",
           null,
           "utter_agree"
          ],
          [
           "shop ơi",
           "Chào bạn, mình là trợ lý ảo của Shop Gấu & Bí Ngô, mình giúp gì được bạn ạ?",
           "greet",
           null,
           "utter_greet"
          ],
          [
           "https://scontent.xx.fbcdn.net/v/t1.15752-9/91195826_498480424370303_2420395967455952896_n.jpg?_nc_cat=106&_nc_sid=b96e70&_nc_ohc=xbapPlP7xmIAX_VXW-N&_nc_ad=z-m&_nc_cid=0&_nc_zor=9&_nc_ht=scontent.xx&oh=9659d65beb602c42382325bcb6359a57&oe=5EA77EEF",
           "Bạn đang tìm kiếm thông tin gì ạ?",
           "send_link",
           "[\"url:['https://scontent.xx.fbcdn.net/v/t1.15752-9/91195826_498480424370303_2420395967455952896_n.jpg?_nc_cat=106&_nc_sid=b96e70&_nc_ohc=xbapPlP7xmIAX_VXW-N&_nc_ad=z-m&_nc_cid=0&_nc_zor=9&_nc_ht=scontent.xx&oh=9659d65beb602c42382325bcb6359a57&oe=5EA77EEF']\"]",
           "action_handle_send_link_only"
          ],
          [
           "B có sẵn thanh chắn giường này ko?",
           "Sản phẩm Thanh chắn giường cao cấp dạng trượt Umoo chính hãng đang có giá: 500.000 (Giá gốc: 610.000).\nMời bạn xem sản phẩm tại link:\n<Show card>",
           "query_knowledge_base",
           "['object_type:thanh_chan_giuong']",
           "action_query_babe_kb"
          ],
          [
           "loại này có những kích thước nào shop nhỉ?",
           "Sản phẩm Thanh chắn giường cao cấp dạng trượt Umoo chính hãng có các kích thước: 1m6, 1m8, 2m, 2m2.",
           "query_knowledge_base",
           "['mention:loại này', 'attribute:size']",
           "action_query_babe_kb"
          ],
          [
           "ok shop, cho mình đặt thanh loại 2m2 nhé.",
           "Cảm ơn bạn! Bạn vui lòng điền thông tin vào Mẫu đặt hàng giúp shop nhé!\n<Show ra cái bảng mẫu đặt hàng: có tên sản phẩm, cho khách tùy chọn số lượng, màu sắc...>",
           "make_order",
           "['size:loại 2m2']",
           "action_make_order"
          ],
          [
           "hi shop",
           "Chào bạn, mình là trợ lý ảo của Shop Gấu & Bí Ngô, mình giúp gì được bạn ạ?",
           "greet",
           null,
           "utter_greet"
          ],
          [
           "chị muốn hỏi giá cũi vải greco\nvà jolie",
           "Dạ, sản phẩm Giuong hãng sản xuất Jolie, chất liệu Vải bên shop hiện tại không có ạ. Bạn tham khảo các sản phẩm khác dành cho bé nhé!",
           "query_knowledge_base",
           "['attribute:price', 'object_type:giuong', 'material:vải', 'brand:greco', 'brand:jolie']",
           "action_query_babe_kb"
          ],
          [
           "/query_knowledge_base{\"brand\": \"Graco\"}",
           "Hiện tại sản phẩm Giuong hãng sản xuất Graco shop đang có những *giá* sau ạ:",
           "query_knowledge_base",
           "['brand:Graco']",
           "action_query_babe_kb"
          ],
          [
           "/query_knowledge_base{\"price\": \"2M - 5M\"}",
           "Sản phẩm  Giuong hãng sản xuất Graco, giá 2m - 5m hiện shop đang có giá: *5,000,000 VND, 2,900,000 VND*.\nBạn tham khảo các sản phẩm sau nhé ạ:",
           "query_knowledge_base",
           "['price:2M - 5M']",
           "action_query_babe_kb"
          ],
          [
           "2 cái khác gì nhau",
           "Bạn có thể nói với tôi theo 1 cách khác được không?",
           "handover_to_inbox",
           "[]",
           "utter_ask_rephrase"
          ],
          [
           "Chào shop\nMình quan tâm tới các sp này\nhttps://scontent.xx.fbcdn.net/v/t1.15752-9/91466198_244084896638357_7080438687661555712_n.jpg?_nc_cat=105&_nc_sid=b96e70&_nc_ohc=wyoTyMF_RSAAX9EbI1K&_nc_ad=z-m&_nc_cid=0&_nc_zor=9&_nc_ht=scontent.xx&oh=8d9617825e55509c74ce414b631e8d2e&oe=5EA469BA\nhttps://scontent.xx.fbcdn.net/v/t1.15752-9/91129214_149488453070304_6848237731844194304_n.jpg?_nc_cat=104&_nc_sid=b96e70&_nc_ohc=tMwYM6FZaVgAX_t9wGA&_nc_ad=z-m&_nc_cid=0&_nc_zor=9&_nc_ht=scontent.xx&oh=c169a5f865873b3923ef31fb69aea543&oe=5EA66692\nhttps://scontent.xx.fbcdn.net/v/t1.15752-9/91613067_640564659835802_8379030837110243328_n.jpg?_nc_cat=109&_nc_sid=b96e70&_nc_ohc=xYnCKgjShPcAX-8TQ54&_nc_ad=z-m&_nc_cid=0&_nc_zor=9&_nc_ht=scontent.xx&oh=7e1dcf9d72a2a4ba315f7a04a51fd287&oe=5EA4BE04\nhttps://scontent.xx.fbcdn.net/v/t1.15752-9/91721715_152379149397342_2808027185510612992_n.jpg?_nc_cat=101&_nc_sid=b96e70&_nc_ohc=l2cBoqQ6R1cAX-2E99z&_nc_ad=z-m&_nc_cid=0&_nc_zor=9&_nc_ht=scontent.xx&oh=410bcc1db19f63270645d1e28ee6726e&oe=5EA7D330\nBạn báo giá nhé\nBé nhà mình 2tuổi",
           "Mời bạn tham khảo các sản phẩm:\n<Show 4 cards tương ứng 4 sản phẩm gửi ảnh>\n<Kỳ vọng gửi đi đc cả 4 ảnh, CV đọc 4 ảnh và trả về chuẩn 4 card>",
           "greet\nquery_knowledge_base",
           "[\"url:['https://scontent.xx.fbcdn.net/v/t1.15752-9/91721715_152379149397342_2808027185510612992_n.jpg?_nc_cat=101&_nc_sid=b96e70&_nc_ohc=l2cBoqQ6R1cAX-2E99z&_nc_ad=z-m&_nc_cid=0&_nc_zor=9&_nc_ht=scontent.xx&oh=410bcc1db19f63270645d1e28ee6726e&oe=5EA7D330', 'https://scontent.xx.fbcdn.net/v/t1.15752-9/91129214_149488453070304_6848237731844194304_n.jpg?_nc_cat=104&_nc_sid=b96e70&_nc_ohc=tMwYM6FZaVgAX_t9wGA&_nc_ad=z-m&_nc_cid=0&_nc_zor=9&_nc_ht=scontent.xx&oh=c169a5f865873b3923ef31fb69aea543&oe=5EA66692', 'https://scontent.xx.fbcdn.net/v/t1.15752-9/91466198_244084896638357_7080438687661555712_n.jpg?_nc_cat=105&_nc_sid=b96e70&_nc_ohc=wyoTyMF_RSAAX9EbI1K&_nc_ad=z-m&_nc_cid=0&_nc_zor=9&_nc_ht=scontent.xx&oh=8d9617825e55509c74ce414b631e8d2e&oe=5EA469BA', 'https://scontent.xx.fbcdn.net/v/t1.15752-9/91613067_640564659835802_8379030837110243328_n.jpg?_nc_cat=109&_nc_sid=b96e70&_nc_ohc=xYnCKgjShPcAX-8TQ54&_nc_ad=z-m&_nc_cid=0&_nc_zor=9&_nc_ht=scontent.xx&oh=7e1dcf9d72a2a4ba315f7a04a51fd287&oe=5EA4BE04']\", 'size:https://scontent.xx.fbcdn.net/v/t1.15752-9/91613067_640564659835802_8379030837110243328_n.jpg?_nc_cat=109&_nc_sid=b96e70&_nc_ohc=xYnCKgjShPcAX-8TQ54&_nc_ad=z-m&_nc_cid=0&_nc_zor=9&_nc_ht=scontent.xx&oh=7e1dcf9d72a2a4ba315f7a04a51fd287&oe=5EA4BE04 https://scontent.xx.fbcdn.net/v/t1.15752-9/91721715_152379149397342_2808027185510612992_n.jpg?_nc_cat=101&_nc_sid=b96e70&_nc_ohc=l2cBoqQ6R1cAX-2E99z&_nc_ad=z-m&_nc_cid=0&_nc_zor=9&_nc_ht=scontent.xx&oh=410bcc1db19f63270645d1e28ee6726e&oe=5EA7D330', 'attribute:price']",
           "action_query_babe_kb"
          ],
          [
           "https://scontent.xx.fbcdn.net/v/t1.15752-9/91116566_291171825206315_2457738113934426112_n.jpg?_nc_cat=111&_nc_sid=b96e70&_nc_oc=AQl0eJdwRKLYDOTb3-7GEEopWEg73tj53KuP5VxJRcvtdD9rcM6ZrFogw5sbRM9s7R-eYHilgr7XsDCjxJ5VauHq&_nc_ad=z-m&_nc_cid=0&_nc_zor=9&_nc_ht=scontent.xx&oh=21cbaa7a85cf4cbf2e946bbc78f7ca73&oe=5EA6F7BA",
           "Bạn đang tìm kiếm thông tin gì ạ?",
           "send_link",
           "[\"url:['https://scontent.xx.fbcdn.net/v/t1.15752-9/91116566_291171825206315_2457738113934426112_n.jpg?_nc_cat=111&_nc_sid=b96e70&_nc_oc=AQl0eJdwRKLYDOTb3-7GEEopWEg73tj53KuP5VxJRcvtdD9rcM6ZrFogw5sbRM9s7R-eYHilgr7XsDCjxJ5VauHq&_nc_ad=z-m&_nc_cid=0&_nc_zor=9&_nc_ht=scontent.xx&oh=21cbaa7a85cf4cbf2e946bbc78f7ca73&oe=5EA6F7BA']\", 'brand:https://scontent.xx.fbcdn.net/v/t1.15752-9/91116566_291171825206315_2457738113934426112_n.jpg?_nc_cat=111&_nc_sid=b96e70&_nc_oc=AQl0eJdwRKLYDOTb3-7GEEopWEg73tj53KuP5VxJRcvtdD9rcM6ZrFogw5sbRM9s7R-eYHilgr7XsDCjxJ5VauHq&_nc_ad=z-m&_nc_cid=0&_nc_zor=9&_nc_ht=scontent.xx&oh=21cbaa7a85cf4cbf2e946bbc78f7ca73&oe=5EA6F7BA']",
           "action_handle_send_link_only"
          ],
          [
           "Shop còn bộ này k ạ",
           "Dạ mời bạn tham khảo sản phẩm hiện có tại shop nhé!\r\n<Show card Bể dựng thành cao Doctor Dolphin>",
           "query_knowledge_base",
           "['mention:bộ này']",
           "action_query_babe_kb"
          ],
          [
           "<Đặt hàng>\n(trên card cuối show thêm nút đặt hàng)",
           "Cảm ơn bạn! Bạn vui lòng điền thông tin vào Mẫu đặt hàng giúp shop nhé!\n<Show ra cái bảng mẫu đặt hàng: có tên sản phẩm, cho khách tùy chọn số lượng, màu sắc...>",
           "make_order",
           null,
           "action_make_order"
          ],
          [
           "alo shop ơi",
           "Chào bạn, mình là ...",
           "greet",
           "[]",
           "utter_greet"
          ],
          [
           "https://www.facebook.com/shopgauvabingo/photos/pcb.2425056854471305/2425056784471312/?type=3&theater\ncon xe này giá bn à shop",
           "Dạ, có phải bạn muốn hỏi một trong các sản phẩm dưới đây không ạ?\n (Vui lòng ấn chọn 1 sản phẩm)\n<Show 5 cards sản phẩm>",
           "send_link",
           "[\"url:['https://www.facebook.com/shopgauvabingo/photos/pcb.2425056854471305/2425056784471312/?type=3&theater']\", 'mention:này', 'attribute:price']",
           "action_handle_send_link_only"
          ],
          [
           "/query_knowledge_base{\"url\": \"https://shopee.vn/product/36371562/3103025341\", \"product_id\": \"https://shopee.vn/product/36371562/3103025341\"}",
           "Sản phẩm  Xe NADLE 3 in 1: Xe đẩy - Chòi chân - Xe đạp  hiện shop đang có giá: 2,650,000 VND (giá gốc 2,650,000 VND), 2,450,000 VND (giá gốc 2,450,000 VND), 1,550,000 VND (giá gốc 2,650,000 VND).\nBạn tham khảo các sản phẩm sau nhé ạ:\n<Show card cuối cùng>",
           "query_knowledge_base",
           "['url:https://shopee.vn/product/36371562/3103025341', 'product_id:https://shopee.vn/product/36371562/3103025341']",
           "action_query_babe_kb"
          ],
          [
           "Ok, thank shop",
           "Cảm ơn bạn!",
           "thank",
           null,
           "utter_thank"
          ],
          [
           "alo shop ơi",
           "Chào bạn, mình là trợ lý ảo của Shop Gấu & Bí Ngô, mình giúp gì được bạn ạ?",
           "greet",
           null,
           "utter_greet"
          ],
          [
           "https://www.facebook.com/shopgauvabingo/photos/pcb.2425056854471305/2425056784471312/?type=3&theater\ncon xe này giá bn à shop",
           "Dạ, có phải bạn muốn hỏi một trong các sản phẩm dưới đây không ạ?\n (Vui lòng ấn chọn 1 sản phẩm)\n<Show 5 cards sản phẩm>",
           "query_knowledge_base",
           "[\"url:['https://www.facebook.com/shopgauvabingo/photos/pcb.2425056854471305/2425056784471312/?type=3&theater']\", 'object_type:xe', 'mention:này', 'attribute:price']",
           "action_query_babe_kb"
          ],
          [
           "/query_knowledge_base{\"url\": \"https://shopee.vn/product/36371562/3103025341\", \"product_id\": \"https://shopee.vn/product/36371562/3103025341\"}",
           "Sản phẩm  Xe NADLE 3 in 1: Xe đẩy - Chòi chân - Xe đạp  hiện shop đang có giá: 2,650,000 VND (giá gốc 2,650,000 VND), 2,450,000 VND (giá gốc 2,450,000 VND), 1,550,000 VND (giá gốc 2,650,000 VND).\nBạn tham khảo các sản phẩm sau nhé ạ:\n<Show card cuối cùng>",
           "query_knowledge_base",
           "['url:https://shopee.vn/product/36371562/3103025341', 'product_id:https://shopee.vn/product/36371562/3103025341']",
           "action_query_babe_kb"
          ],
          [
           "còn màu gì hả bạn?",
           "Sản phẩm  Xe NADLE 3 in 1: Xe đẩy - Chòi chân - Xe đạp  hiện shop đang có các màu sau: Xanh (có đai), Đỏ (có đai), Đỏ (không đai)",
           "query_knowledge_base",
           "['attribute:color']",
           "action_query_babe_kb"
          ],
          [
           "ok shop",
           "Dạ!",
           "agree",
           null,
           "utter_agree"
          ],
          [
           "Shop ơi\nhttps://scontent.xx.fbcdn.net/v/t1.15752-9/89773808_692489661490146_5339680591392538624_n.jpg?_nc_cat=105&_nc_sid=b96e70&_nc_ohc=ZvqAmbeNCDcAX_ojWSp&_nc_ad=z-m&_nc_cid=0&_nc_zor=9&_nc_ht=scontent.xx&oh=f259ba91474851457d3947e495079101&oe=5EA5D0E8\nhttps://scontent.xx.fbcdn.net/v/t1.15752-9/91067797_2528355717402046_3331051973351833600_n.jpg?_nc_cat=100&_nc_sid=b96e70&_nc_ohc=q0UUsoAg19UAX8qVHO-&_nc_ad=z-m&_nc_cid=0&_nc_zor=9&_nc_ht=scontent.xx&oh=4206a21e474b26453ff9330e40fc62f0&oe=5EA7AD1A\nhttps://scontent.xx.fbcdn.net/v/t1.15752-9/90954742_227239561665156_4442812104826683392_n.jpg?_nc_cat=100&_nc_sid=b96e70&_nc_ohc=vWH8Zqo-URUAX_HgG9r&_nc_ad=z-m&_nc_cid=0&_nc_zor=9&_nc_ht=scontent.xx&oh=e190cba193ba23452c3183773cd05f43&oe=5EA50846",
           "Bạn đang tìm kiếm thông tin gì ạ?",
           "send_link",
           "[\"url:['https://scontent.xx.fbcdn.net/v/t1.15752-9/89773808_692489661490146_5339680591392538624_n.jpg?_nc_cat=105&_nc_sid=b96e70&_nc_ohc=ZvqAmbeNCDcAX_ojWSp&_nc_ad=z-m&_nc_cid=0&_nc_zor=9&_nc_ht=scontent.xx&oh=f259ba91474851457d3947e495079101&oe=5EA5D0E8', 'https://scontent.xx.fbcdn.net/v/t1.15752-9/90954742_227239561665156_4442812104826683392_n.jpg?_nc_cat=100&_nc_sid=b96e70&_nc_ohc=vWH8Zqo-URUAX_HgG9r&_nc_ad=z-m&_nc_cid=0&_nc_zor=9&_nc_ht=scontent.xx&oh=e190cba193ba23452c3183773cd05f43&oe=5EA50846', 'https://scontent.xx.fbcdn.net/v/t1.15752-9/91067797_2528355717402046_3331051973351833600_n.jpg?_nc_cat=100&_nc_sid=b96e70&_nc_ohc=q0UUsoAg19UAX8qVHO-&_nc_ad=z-m&_nc_cid=0&_nc_zor=9&_nc_ht=scontent.xx&oh=4206a21e474b26453ff9330e40fc62f0&oe=5EA7AD1A']\"]",
           "action_handle_send_link_only"
          ],
          [
           "Shop còn cầu trưowtn này k ạ",
           "Sản phẩm bạn đang tìm có phải là?",
           "query_knowledge_base",
           "['object_type:cầu trưowtn']",
           "action_query_babe_kb"
          ],
          [
           "/agree{\"object_type\": \"cau_truot\"}",
           "Dạ, sản phẩm Cầu Trượt  bên shop hiện tại không có ạ. Bạn tham khảo các sản phẩm khác dành cho bé nhé!",
           "agree",
           "['object_type:cau_truot']",
           "action_query_babe_kb"
          ],
          [
           "shop ơi",
           "Chào bạn, mình là trợ lý ảo của Shop Gấu & Bí Ngô, mình giúp gì được bạn ạ?",
           "greet",
           "[]",
           "utter_greet"
          ],
          [
           "Mình muốn mua bộ cầu trượt\nGiá tn b",
           "Dạ, sản phẩm Cầu Trượt hiện tại bên shop đang tạm hết hàng ạ. Bạn tham khảo các sản phẩm khác dành cho bé nhé!",
           "query_knowledge_base",
           "['object_type:cau_truot', 'attribute:price']",
           "action_query_babe_kb"
          ],
          [
           "Thank b",
           "- Cảm ơn bạn. Chúc bạn một ngày vui vẻ.",
           "thank",
           "[]",
           "utter_thank"
          ],
          [
           "shop ơi",
           "Cảm ơn bạn!",
           "greet",
           "[]",
           "utter_greet"
          ],
          [
           "Nhà mình có bán cầu trượt riêng k ah",
           "Cầu trượt là sản phẩm bán lẻ hiện đang có giá 1.090.000 - ₫1.250.000\n (giá gốc 290.000 - ₫1.390.000)\nBạn tham khảo các sản phẩm sau nhé ạ:\n<show sp>",
           "query_knowledge_base",
           "['object_type:cau_truot']",
           "action_query_babe_kb"
          ],
          [
           "alo shop ơi",
           "Chào bạn, mình là trợ lý ảo của Shop Gấu & Bí Ngô, mình giúp gì được bạn ạ?",
           "greet",
           "[]",
           "utter_greet"
          ],
          [
           "https://scontent.xx.fbcdn.net/v/t1.15752-9/91593775_635925830596165_5565507927411785728_n.jpg?_nc_cat=104&_nc_sid=b96e70&_nc_ohc=wC7vTKnHo0cAX8Dg2Lo&_nc_ad=z-m&_nc_cid=0&_nc_zor=9&_nc_ht=scontent.xx&oh=910f7a202b2c19c7f15ec65edad7e0c4&oe=5EA4F642",
           "Bạn đang tìm kiếm thông tin gì ạ?",
           "send_link",
           "[\"url:['https://scontent.xx.fbcdn.net/v/t1.15752-9/91593775_635925830596165_5565507927411785728_n.jpg?_nc_cat=104&_nc_sid=b96e70&_nc_ohc=wC7vTKnHo0cAX8Dg2Lo&_nc_ad=z-m&_nc_cid=0&_nc_zor=9&_nc_ht=scontent.xx&oh=910f7a202b2c19c7f15ec65edad7e0c4&oe=5EA4F642']\"]",
           "action_handle_send_link_only"
          ],
          [
           "lều còn ko shop\ngiá bn\ncòn bóng bn",
           "Lều hiện đang có giá 1.090.000 - ₫1.250.000\n (giá gốc 290.000 - ₫1.390.000)\nBạn tham khảo các sản phẩm sau nhé ạ:\n<show sp>\nBóng hiện shop đáng có các sản phẩm sau mời bạn tham khao\n<show sp>",
           "query_knowledge_base",
           "['attribute:price']",
           "action_query_babe_kb"
          ],
          [
           "alo shop ơi",
           "Chào bạn, mình là trợ lý ảo của Shop Gấu & Bí Ngô, mình giúp gì được bạn ạ?",
           "greet",
           null,
           "utter_greet"
          ],
          [
           "https://scontent.xx.fbcdn.net/v/t1.15752-9/90589519_223989032035055_1808774924945326080_n.jpg?_nc_cat=101&_nc_sid=b96e70&_nc_ohc=CaDCGgBG1rEAX97Uw9s&_nc_ad=z-m&_nc_cid=0&_nc_zor=9&_nc_ht=scontent.xx&oh=9dfd4d8d9027dbf47a7e14e2cf5f510d&oe=5EA4D570",
           "Bạn đang tìm kiếm thông tin gì ạ?",
           "send_link",
           "[\"url:['https://scontent.xx.fbcdn.net/v/t1.15752-9/90589519_223989032035055_1808774924945326080_n.jpg?_nc_cat=101&_nc_sid=b96e70&_nc_ohc=CaDCGgBG1rEAX97Uw9s&_nc_ad=z-m&_nc_cid=0&_nc_zor=9&_nc_ht=scontent.xx&oh=9dfd4d8d9027dbf47a7e14e2cf5f510d&oe=5EA4D570']\"]",
           "action_handle_send_link_only"
          ],
          [
           "Mình mua sản phẩm này nha\nGiá sao",
           "Sản phẩm Dàn âm thanh động vật có đèn nhạc Infantino đang có giá 129.000 (giá gốc: 180.000).\n<Show card>",
           "query_knowledge_base",
           "['mention:sản phẩm này', 'attribute:price']",
           "action_query_babe_kb"
          ],
          [
           "alo shop ơi",
           "Chào bạn, mình là trợ lý ảo của Shop Gấu & Bí Ngô, mình giúp gì được bạn ạ?",
           "greet",
           null,
           "utter_greet"
          ],
          [
           "Báo giá mình quây thảm với",
           "Sản phẩm  Quây góc vuông cánh nhỏ hình ngôi nhà chất liệu Nhựa hiện shop đang có giá: 1,040,000 VND (giá gốc 1,290,000 VND), 1,340,000 VND (giá gốc 1,390,000 VND), 1,440,000 VND (giá gốc 1,490,000 VND).\nBạn tham khảo các sản phẩm sau nhé ạ:\n<Show card>",
           "query_knowledge_base",
           "['attribute:price', 'object_type:quay', 'object_type:tham']",
           "action_query_babe_kb"
          ],
          [
           "Cái này có kèm thảm và bóng ko bạn",
           "Sản phẩm  Quây góc vuông cánh nhỏ hình ngôi nhà chất liệu Nhựa không có phụ kiện đi kèm\nBạn tham khảo các sản phẩm sau nhé ạ:\r\n<Show card>",
           "query_knowledge_base",
           "['mention:cái này', 'object_type:tham','object_type:bong']",
           "action_query_babe_kb"
          ],
          [
           "shop ơi",
           "Chào bạn, mình là trợ lý ảo của Shop Gấu & Bí Ngô, mình giúp gì được bạn ạ?",
           "greet",
           null,
           "utter_greet"
          ],
          [
           "minh muốn tìm quây cũi nhựa",
           "Dạ, sản phẩm Quây chất liệu nhựa bên shop hiện tại không có ạ. Bạn tham khảo các sản phẩm khác dành cho bé nhé!",
           "query_knowledge_base",
           "['object_type:quay', 'material:nhựa']",
           "action_query_babe_kb"
          ],
          [
           "ok shop",
           "Vâng ạ!",
           "agree",
           null,
           "utter_agree"
          ],
          [
           "shop ơi",
           "Chào bạn, mình là trợ lý ảo của Shop Gấu & Bí Ngô, mình giúp gì được bạn ạ?",
           "greet",
           null,
           "utter_greet"
          ],
          [
           "minh muốn tìm quây cũi nhựa",
           "Sản phẩm  Quây góc vuông cánh nhỏ hình ngôi nhà chất liệu Nhựa hiện shop đang có giá: 1,040,000 VND (giá gốc 1,290,000 VND), 1,340,000 VND (giá gốc 1,390,000 VND), 1,440,000 VND (giá gốc 1,490,000 VND).\nBạn tham khảo các sản phẩm sau nhé ạ:\n<Show card>",
           "query_knowledge_base",
           "['object_type:quay', 'material:nhựa']",
           "action_query_babe_kb"
          ],
          [
           "hàng có sẵn k shop?",
           "Sản phẩm Quây góc vuông cánh nhỏ hình ngôi nhà hiện shop đang còn hàng ạ!",
           "query_knowledge_base",
           "['availability:có sẵn']",
           "action_query_babe_kb"
          ],
          [
           "ok, cho mình đặt cái đấy nhé",
           "Cảm ơn bạn! Bạn vui lòng điền thông tin vào Mẫu đặt hàng giúp shop nhé!\n<Show ra cái bảng mẫu đặt hàng: có tên sản phẩm, cho khách tùy chọn số lượng, màu sắc...>\n<Các thông tin đã thu thập đc thì tự điền luôn, khách k phải điền nữa>",
           "make_order",
           null,
           "action_make_order"
          ],
          [
           "shop ơi",
           "Chào bạn, mình là trợ lý ảo của Shop Gấu & Bí Ngô, mình giúp gì được bạn ạ?",
           "greet",
           null,
           "utter_greet"
          ],
          [
           "https://scontent.xx.fbcdn.net/v/t1.15752-9/90523406_1646570122151011_7560973767770374144_n.jpg?_nc_cat=111&_nc_sid=b96e70&_nc_ohc=wRDYR9HiDIIAX9EYgXF&_nc_ad=z-m&_nc_cid=0&_nc_zor=9&_nc_ht=scontent.xx&oh=f705d96efc4592690e416d68be5946b9&oe=5EA3003E",
           "Bạn đang tìm kiếm thông tin gì ạ?\n",
           "send_link",
           "[\"url:['https://scontent.xx.fbcdn.net/v/t1.15752-9/90523406_1646570122151011_7560973767770374144_n.jpg?_nc_cat=111&_nc_sid=b96e70&_nc_ohc=wRDYR9HiDIIAX9EYgXF&_nc_ad=z-m&_nc_cid=0&_nc_zor=9&_nc_ht=scontent.xx&oh=f705d96efc4592690e416d68be5946b9&oe=5EA3003E']\"]",
           "action_handle_send_link_only"
          ],
          [
           "Shop bán ghế này ko",
           "Dạ, có phải bạn muốn hỏi một trong các sản phẩm dưới đây không ạ?\r\n (Vui lòng ấn chọn 1 sản phẩm)...",
           "query_knowledge_base",
           "['object_type:ghe', 'mention:này']",
           "action_query_babe_kb"
          ],
          [
           "/disagree{\"object_type\": null}",
           "Bạn vui lòng mô tả rõ mong muốn của bạn hoặc chat với nhân viên tư vấn nhé!",
           "disagree",
           "['object_type:None']",
           "utter_disagree"
          ],
          [
           "/connect_employee",
           null,
           "connect_employee",
           null,
           "action_handover_to_inbox"
          ],
          [
           "shop ơi",
           "Chào bạn, mình là trợ lý ảo của Shop Gấu & Bí Ngô, mình giúp gì được bạn ạ?",
           "greet",
           null,
           "utter_greet"
          ],
          [
           "https://scontent.xx.fbcdn.net/v/t1.15752-9/91209133_2660946144150142_6722210450643091456_n.jpg?_nc_cat=106&_nc_sid=b96e70&_nc_ohc=GJvzldrIJEgAX_t9AzO&_nc_ad=z-m&_nc_cid=0&_nc_zor=9&_nc_ht=scontent.xx&oh=7a2eae7dece74478231f21fa9ca599a0&oe=5EA4DA04",
           "Bạn đang tìm kiếm thông tin gì ạ?",
           "send_link",
           "[\"url:['https://scontent.xx.fbcdn.net/v/t1.15752-9/91209133_2660946144150142_6722210450643091456_n.jpg?_nc_cat=106&_nc_sid=b96e70&_nc_ohc=GJvzldrIJEgAX_t9AzO&_nc_ad=z-m&_nc_cid=0&_nc_zor=9&_nc_ht=scontent.xx&oh=7a2eae7dece74478231f21fa9ca599a0&oe=5EA4DA04']\"]",
           "action_handle_send_link_only"
          ],
          [
           "Mình mún mua bộ voi này\nMà phí ship shoppe tới 300k\nMắc quá b\n:((",
           null,
           "handover_to_inbox",
           "['price:300k']",
           "action_handover_to_inbox"
          ],
          [
           "bạn ơi",
           "Chào bạn, mình là trợ lý ảo của Shop Gấu & Bí Ngô, mình giúp gì được bạn ạ?",
           "greet",
           null,
           "utter_greet"
          ],
          [
           "https://scontent.xx.fbcdn.net/v/t1.15752-9/91189736_2657083197752531_2978518111348588544_n.jpg?_nc_cat=101&_nc_sid=b96e70&_nc_ohc=wn0qcXdkJ20AX8SmfaB&_nc_ad=z-m&_nc_cid=0&_nc_zor=9&_nc_ht=scontent.xx&oh=9071fd4b91cbc296bd63cc7dc7c0c2b9&oe=5EA452A3",
           "Bạn đang tìm kiếm thông tin gì ạ?\r\n",
           "send_link",
           "[\"url:['https://scontent.xx.fbcdn.net/v/t1.15752-9/91189736_2657083197752531_2978518111348588544_n.jpg?_nc_cat=101&_nc_sid=b96e70&_nc_ohc=wn0qcXdkJ20AX8SmfaB&_nc_ad=z-m&_nc_cid=0&_nc_zor=9&_nc_ht=scontent.xx&oh=9071fd4b91cbc296bd63cc7dc7c0c2b9&oe=5EA452A3']\"]",
           "action_handle_send_link_only"
          ],
          [
           "Bộ này còn k ạ",
           "Sản phẩm Voi thả bóng tập đứng có đèn nhạc Bkids Infantino hiện có giá 1.160.000 (Giá gốc: 1.298.000).\n<Show card>",
           "query_knowledge_base",
           "['mention:bộ này']",
           "action_query_babe_kb"
          ],
          [
           "shop ơi",
           "Chào bạn, mình là trợ lý ảo của Shop Gấu & Bí Ngô, mình giúp gì được bạn ạ?",
           "greet",
           "[]",
           "utter_greet"
          ],
          [
           "Cho mình hỏi bên bạn có máy hút sữa Avent hoa tuyết không ạ?",
           "Sản phẩm Máy hút sữa điện đôi Avent Snow (Chính hãng - Cty Vạn An) hãng sản xuất Avent hiện shop đang có giá: *4,990,000 VND (giá gốc 6,950,000 VND)*.\r\nBạn tham khảo các sản phẩm sau nhé ạ:",
           "query_knowledge_base",
           "['object_type:may_hut_sua', 'brand:avent']",
           "action_query_babe_kb"
          ],
          [
           "ok shop",
           "Dạ!",
           "agree",
           null,
           "utter_agree"
          ],
          [
           "shop ơi",
           "Chào bạn, mình là trợ lý ảo của Shop Gấu & Bí Ngô, mình giúp gì được bạn ạ?",
           "greet",
           "[]",
           "utter_greet"
          ],
          [
           "https://scontent.xx.fbcdn.net/v/t1.15752-9/90958526_844348296084999_5556829233025646592_n.jpg?_nc_cat=111&_nc_sid=b96e70&_nc_ohc=nKnFFBK9x4kAX8KAC9k&_nc_ad=z-m&_nc_cid=0&_nc_zor=9&_nc_ht=scontent.xx&oh=aead6e9f0b6ca0e8cf7d7446022ad8a7&oe=5EA4C715",
           "Bạn đang tìm kiếm thông tin gì ạ?",
           "send_link",
           "[\"url:['https://scontent.xx.fbcdn.net/v/t1.15752-9/90958526_844348296084999_5556829233025646592_n.jpg?_nc_cat=111&_nc_sid=b96e70&_nc_ohc=nKnFFBK9x4kAX8KAC9k&_nc_ad=z-m&_nc_cid=0&_nc_zor=9&_nc_ht=scontent.xx&oh=aead6e9f0b6ca0e8cf7d7446022ad8a7&oe=5EA4C715']\"]",
           "action_handle_send_link_only"
          ],
          [
           "Bên mình có medela freestyle like new k ak",
           "Shop không có máy hút sữa thương hiệu Medela, mời bạn tham khảo các sản phẩm máy hút sữa hiện có tại shop nhé:\n<Show card list máy hút sữa đang có>",
           "query_knowledge_base",
           "['brand:medela freestyle']",
           "action_query_babe_kb"
          ],
          [
           "Ok shop",
           "Dạ vâng ạ!",
           "agree",
           null,
           "utter_agree"
          ],
          [
           "shop ơi",
           "Chào bạn, mình là trợ lý ảo của Shop Gấu & Bí Ngô, mình giúp gì được bạn ạ?",
           "greet",
           null,
           "utter_greet"
          ],
          [
           "https://scontent.xx.fbcdn.net/v/t1.15752-9/91397331_873232633088393_7516530623012405248_n.jpg?_nc_cat=102&_nc_sid=b96e70&_nc_ohc=7L9qejTvUzsAX9A87Nc&_nc_ad=z-m&_nc_cid=0&_nc_zor=9&_nc_ht=scontent.xx&oh=5a5f3a23fc9f73f05af3323e7e4d10c9&oe=5EA44E0F",
           "Bạn đang tìm kiếm thông tin gì ạ?\r\n",
           "send_link",
           "[\"url:['https://scontent.xx.fbcdn.net/v/t1.15752-9/91397331_873232633088393_7516530623012405248_n.jpg?_nc_cat=102&_nc_sid=b96e70&_nc_ohc=7L9qejTvUzsAX9A87Nc&_nc_ad=z-m&_nc_cid=0&_nc_zor=9&_nc_ht=scontent.xx&oh=5a5f3a23fc9f73f05af3323e7e4d10c9&oe=5EA44E0F']\"]",
           "action_handle_send_link_only"
          ],
          [
           "Mẫu này giá bn ah",
           "Món đồ bạn cần tìm có phải là:\n<Xe chòi chân> <Xe đẩy> <Không đúng!>",
           "query_knowledge_base",
           "['mention:mẫu này', 'attribute:price']",
           "action_query_babe_kb"
          ],
          [
           "/agree{\"object_type\": \"xe_choi_chan\"}",
           "Sản phẩm  Xe Chòi Chân  hiện shop đang có giá: 499,000 VND (giá gốc 800,000 VND), 580,000 VND (giá gốc 800,000 VND), 699,000 VND (giá gốc 998,000 VND).\nBạn tham khảo các sản phẩm sau nhé ạ:\n<Show card>",
           "confirm_object_type",
           null,
           "action_query_babe_kb"
          ],
          [
           "ok shop, cho mình lấy cái xe Luddy",
           "Cảm ơn bạn! Bạn vui lòng điền thông tin vào Mẫu đặt hàng giúp shop nhé!\n<Show ra cái bảng mẫu đặt hàng: có tên sản phẩm, cho khách tùy chọn số lượng, màu sắc...>\n<Các thông tin đã thu thập đc thì tự điền luôn, khách k phải điền nữa>",
           "make_order",
           "['object_type:xe_choi_chan','brand:Luddy']",
           "action_make_order"
          ],
          [
           "shop ơi",
           "Chào bạn, mình là trợ lý ảo của Shop Gấu & Bí Ngô, mình giúp gì được bạn ạ?",
           "greet",
           null,
           "utter_greet"
          ],
          [
           "Có ship hàng qua Nguyễn Tuân k shop",
           "Shop giao hàng toàn quốc, khách hàng có thể chuyển khoản trước hoặc chọn hình thức thanh toán khi nhận hàng ạ!",
           "ask_ship",
           "['ship:ship', 'location:Nguyễn Tuân']",
           "utter_ship"
          ],
          [
           "vậy ship luôn cho mình Xe chòi chân có bàn đạp cao cấp Motion màu đỏ nhé",
           "Cảm ơn bạn! Bạn vui lòng điền thông tin vào Mẫu đặt hàng giúp shop nhé!\n<Show ra cái bảng mẫu đặt hàng: có tên sản phẩm, cho khách tùy chọn số lượng, màu sắc...>\n<Các thông tin đã thu thập đc thì tự điền luôn, khách k phải điền nữa>",
           "make_order",
           "['ship:ship', 'object_type:xe_choi_chan', 'brand:Motion', 'color:đỏ'",
           "action_make_order"
          ],
          [
           "shop ơi",
           "Chào bạn, mình là trợ lý ảo của Shop Gấu & Bí Ngô, mình giúp gì được bạn ạ?",
           "greet",
           null,
           "utter_greet"
          ],
          [
           "https://scontent.xx.fbcdn.net/v/t1.15752-9/91237420_573063973314379_5752083759176351744_n.jpg?_nc_cat=111&_nc_sid=b96e70&_nc_ohc=awAgMEF9UTYAX-Q_cFX&_nc_ad=z-m&_nc_cid=0&_nc_zor=9&_nc_ht=scontent.xx&oh=fbfffeefdee0fcd2f0dd6ed4ea38d8e6&oe=5EA3382F",
           "Bạn đang tìm kiếm thông tin gì ạ?\r\n",
           "send_link",
           "[\"url:['https://scontent.xx.fbcdn.net/v/t1.15752-9/91237420_573063973314379_5752083759176351744_n.jpg?_nc_cat=111&_nc_sid=b96e70&_nc_ohc=awAgMEF9UTYAX-Q_cFX&_nc_ad=z-m&_nc_cid=0&_nc_zor=9&_nc_ht=scontent.xx&oh=fbfffeefdee0fcd2f0dd6ed4ea38d8e6&oe=5EA3382F']\"]",
           "action_handle_send_link_only"
          ],
          [
           "Gia bao Nhiu shop",
           "Sản phẩm  COMBO HOLLA LIÊN HOÀN 2020 có giá 4.100.000 (Giá gốc: 5.000.000).\n<Show card>",
           "query_knowledge_base",
           "['attribute:price']",
           "action_query_babe_kb"
          ],
          [
           "ok shop",
           "Vâng ạ!",
           "agree",
           null,
           "utter_agree"
          ],
          [
           "shop ơi",
           "Chào bạn, mình là trợ lý ảo của Shop Gấu & Bí Ngô, mình giúp gì được bạn ạ?",
           "greet",
           null,
           "utter_greet"
          ],
          [
           "https://scontent.xx.fbcdn.net/v/t1.15752-9/91237420_573063973314379_5752083759176351744_n.jpg?_nc_cat=111&_nc_sid=b96e70&_nc_ohc=awAgMEF9UTYAX-Q_cFX&_nc_ad=z-m&_nc_cid=0&_nc_zor=9&_nc_ht=scontent.xx&oh=fbfffeefdee0fcd2f0dd6ed4ea38d8e6&oe=5EA3382F",
           "Bạn đang tìm kiếm thông tin gì ạ?\r\n",
           "send_link",
           "[\"url:['https://scontent.xx.fbcdn.net/v/t1.15752-9/91237420_573063973314379_5752083759176351744_n.jpg?_nc_cat=111&_nc_sid=b96e70&_nc_ohc=awAgMEF9UTYAX-Q_cFX&_nc_ad=z-m&_nc_cid=0&_nc_zor=9&_nc_ht=scontent.xx&oh=fbfffeefdee0fcd2f0dd6ed4ea38d8e6&oe=5EA3382F']\"]",
           "action_handle_send_link_only"
          ],
          [
           "Gia bao Nhiu shop",
           "Sản phẩm  COMBO HOLLA LIÊN HOÀN 2020 có giá 4.100.000 (Giá gốc: 5.000.000).\n<Show card>",
           "query_knowledge_base",
           "['attribute:price']",
           "action_query_babe_kb"
          ],
          [
           "có những màu gì bạn nhỉ?",
           "Sản phẩm  COMBO HOLLA LIÊN HOÀN 2020 có màu: Xanh và Cam ạ!\n<Show card>",
           "query_knowledge_base",
           "['attribute:color']",
           "action_query_babe_kb"
          ],
          [
           "ok shop, để mình xem thêm chút nhé!",
           "Dạ vâng ạ!",
           "agree & check_more",
           "['check_more:xem thêm']",
           "utter_agree"
          ],
          [
           "alo shop",
           "Chào bạn, mình là trợ lý ảo của Shop Gấu & Bí Ngô, mình giúp gì được bạn ạ?",
           "greet",
           null,
           "utter_greet"
          ],
          [
           "https://scontent.xx.fbcdn.net/v/t1.15752-9/91179254_522333818714923_2603681931581194240_n.jpg?_nc_cat=106&_nc_sid=b96e70&_nc_ohc=vIHq163ac_kAX-MHxt8&_nc_ad=z-m&_nc_cid=0&_nc_zor=9&_nc_ht=scontent.xx&oh=19368d98471da439001ddf5dc8cab52d&oe=5EA2F89D",
           "Bạn đang tìm kiếm thông tin gì ạ?\r\n",
           "send_link",
           "[\"url:['https://scontent.xx.fbcdn.net/v/t1.15752-9/91179254_522333818714923_2603681931581194240_n.jpg?_nc_cat=106&_nc_sid=b96e70&_nc_ohc=vIHq163ac_kAX-MHxt8&_nc_ad=z-m&_nc_cid=0&_nc_zor=9&_nc_ht=scontent.xx&oh=19368d98471da439001ddf5dc8cab52d&oe=5EA2F89D']\"]",
           "action_handle_send_link_only"
          ],
          [
           "Mình muón mua xe này",
           "Sản phẩm Xe tập đi cao cấp Tommorrow Sky - CHÍNH HÃNG có giá 449.000 (Giá gốc: 850.000).\n<Show card sản phẩm>",
           "query_knowledge_base",
           "['object_type:xe', 'mention:này']",
           "action_query_babe_kb"
          ],
          [
           "Shop ship luôn hàng k nhỉ\nMình Bắc Từ Liêm, HN",
           "Cảm ơn bạn! Bạn vui lòng điền thông tin vào Mẫu đặt hàng giúp shop nhé!\n<Show ra cái bảng mẫu đặt hàng: có tên sản phẩm, cho khách tùy chọn số lượng, màu sắc...>\n<Các thông tin đã thu thập đc thì tự điền luôn, khách k phải điền nữa>",
           "make_order",
           "[]",
           "action_make_order"
          ],
          [
           "shop ơi",
           "Chào bạn, mình là trợ lý ảo của Shop Gấu & Bí Ngô, mình giúp gì được bạn ạ?",
           "greet",
           null,
           "utter_greet"
          ],
          [
           "https://scontent.xx.fbcdn.net/v/t1.15752-9/91179254_522333818714923_2603681931581194240_n.jpg?_nc_cat=106&_nc_sid=b96e70&_nc_ohc=vIHq163ac_kAX-MHxt8&_nc_ad=z-m&_nc_cid=0&_nc_zor=9&_nc_ht=scontent.xx&oh=19368d98471da439001ddf5dc8cab52d&oe=5EA2F89D",
           "Bạn đang tìm kiếm thông tin gì ạ?\r\n",
           "send_link",
           "[\"url:['https://scontent.xx.fbcdn.net/v/t1.15752-9/91179254_522333818714923_2603681931581194240_n.jpg?_nc_cat=106&_nc_sid=b96e70&_nc_ohc=vIHq163ac_kAX-MHxt8&_nc_ad=z-m&_nc_cid=0&_nc_zor=9&_nc_ht=scontent.xx&oh=19368d98471da439001ddf5dc8cab52d&oe=5EA2F89D']\"]",
           "action_handle_send_link_only"
          ],
          [
           "Mình muón mua xe này",
           "Sản phẩm Xe tập đi cao cấp Tommorrow Sky - CHÍNH HÃNG có giá 449.000 (Giá gốc: 850.000).\n<Show card sản phẩm>",
           "query_knowledge_base",
           "['object_type:xe', 'mention:này']",
           "action_query_babe_kb"
          ],
          [
           "Bé nhà mình 8 tháng đã dùng được chưa shop nhỉ?",
           "Xe tập đi cao cấp Tommorrow Sky - CHÍNH HÃNG có độ tuổi sử dụng từ: 0 - 36 tháng ạ.",
           "query_knowledge_base",
           "['age_of_use:bé nhà mình 8 tháng']",
           "action_query_babe_kb"
          ],
          [
           "ok shop",
           "Vâng ạ!",
           "agree",
           null,
           "utter_agree"
          ],
          [
           "Mình vừa đặt trên shopee rồi nhé shop, giao hàng giúp mình nha!",
           null,
           "handover_to_inbox",
           "['attribute:link']",
           "action_handover_to_inbox"
          ],
          [
           "shop ơi",
           "Chào bạn, mình là trợ lý ảo của Shop Gấu & Bí Ngô, mình giúp gì được bạn ạ?",
           "greet",
           null,
           "utter_greet"
          ],
          [
           "https://scontent.xx.fbcdn.net/v/t1.15752-9/91140590_169156024104970_9149727164638167040_n.jpg?_nc_cat=111&_nc_sid=b96e70&_nc_oc=AQksL3EPbJwb5vF7MiFB6VdXzCEmtSqg7QZRnHQamP5qwRCPthge2V2zCm6k7jX6oSw0tzFhj2tL2-yD0lgdlWzF&_nc_ad=z-m&_nc_cid=0&_nc_zor=9&_nc_ht=scontent.xx&oh=a3ace1f889939914cd91509c52946144&oe=5EA53CD3",
           "Bạn đang tìm kiếm thông tin gì ạ?\r\n",
           "send_link",
           "[\"url:['https://scontent.xx.fbcdn.net/v/t1.15752-9/91140590_169156024104970_9149727164638167040_n.jpg?_nc_cat=111&_nc_sid=b96e70&_nc_oc=AQksL3EPbJwb5vF7MiFB6VdXzCEmtSqg7QZRnHQamP5qwRCPthge2V2zCm6k7jX6oSw0tzFhj2tL2-yD0lgdlWzF&_nc_ad=z-m&_nc_cid=0&_nc_zor=9&_nc_ht=scontent.xx&oh=a3ace1f889939914cd91509c52946144&oe=5EA53CD3']\"]",
           "action_handle_send_link_only"
          ],
          [
           "Mẫu này shop còn ko?",
           "Dạ mời bạn tham khảo sản phẩm hiện có tại shop nhé!\r\n\n<Show card sản phẩm Voi Jumbo thả hình khối Bkids Infantino>",
           "query_knowledge_base",
           "['mention:mẫu này']",
           "action_query_babe_kb"
          ],
          [
           "Mình ở Ngã Tư Sở thì phí ship hết bao nhiêu bạn, có được freeship k nhỉ",
           "Ship Ngã tư sở , Thanh Xuân trong nội thành hà nội hết khoảng 30-40 k ạ",
           "ask_ship",
           "['attribute:fee_ship']",
           "action_ask_ship"
          ],
          [
           "shop ơi",
           "Chào bạn, mình là trợ lý ảo của Shop Gấu & Bí Ngô, mình giúp gì được bạn ạ?",
           "greet",
           null,
           "utter_greet"
          ],
          [
           "https://scontent.xx.fbcdn.net/v/t1.15752-9/91276500_3332850896743682_3518647967223382016_n.jpg?_nc_cat=100&_nc_sid=b96e70&_nc_ohc=nsA07gDazpcAX82MA2A&_nc_ad=z-m&_nc_cid=0&_nc_zor=9&_nc_ht=scontent.xx&oh=1ed797577e15b6d086fb91ceb49c5941&oe=5EA5843B",
           "Bạn đang tìm kiếm thông tin gì ạ?",
           "send_link",
           "[\"url:['https://scontent.xx.fbcdn.net/v/t1.15752-9/91276500_3332850896743682_3518647967223382016_n.jpg?_nc_cat=100&_nc_sid=b96e70&_nc_ohc=nsA07gDazpcAX82MA2A&_nc_ad=z-m&_nc_cid=0&_nc_zor=9&_nc_ht=scontent.xx&oh=1ed797577e15b6d086fb91ceb49c5941&oe=5EA5843B']\"]",
           "action_handle_send_link_only"
          ],
          [
           "Báo giá cho mình cái shop",
           "Dạ, có phải bạn muốn hỏi một trong các sản phẩm dưới đây không ạ?\r\n (Vui lòng ấn chọn 1 sản phẩm)...",
           "query_knowledge_base",
           "['attribute:price']",
           "action_query_babe_kb"
          ],
          [
           "/query_knowledge_base{\"url\": \"https://shopee.vn/product/36371562/619150769\", \"product_id\": \"https://shopee.vn/product/36371562/619150769\"}",
           "Sản phẩm Ghế đa năng cao cấp Mastela 1015 hiện shop đang có giá: *1,320,000 VND (giá gốc 1,599,000 VND)*.\r\nBạn tham khảo các sản phẩm sau nhé ạ:",
           "query_knowledge_base",
           "['url:https://shopee.vn/product/36371562/619150769', 'product_id:https://shopee.vn/product/36371562/619150769']",
           "action_query_babe_kb"
          ],
          [
           "shop ơi",
           "Chào bạn, mình là trợ lý ảo của Shop Gấu & Bí Ngô, mình giúp gì được bạn ạ?",
           "greet",
           null,
           "utter_greet"
          ],
          [
           "https://scontent.xx.fbcdn.net/v/t1.15752-9/91276500_3332850896743682_3518647967223382016_n.jpg?_nc_cat=100&_nc_sid=b96e70&_nc_ohc=nsA07gDazpcAX82MA2A&_nc_ad=z-m&_nc_cid=0&_nc_zor=9&_nc_ht=scontent.xx&oh=1ed797577e15b6d086fb91ceb49c5941&oe=5EA5843B",
           "Bạn đang tìm kiếm thông tin gì ạ?\r\n",
           "send_link",
           "[\"url:['https://scontent.xx.fbcdn.net/v/t1.15752-9/91276500_3332850896743682_3518647967223382016_n.jpg?_nc_cat=100&_nc_sid=b96e70&_nc_ohc=nsA07gDazpcAX82MA2A&_nc_ad=z-m&_nc_cid=0&_nc_zor=9&_nc_ht=scontent.xx&oh=1ed797577e15b6d086fb91ceb49c5941&oe=5EA5843B']\"]",
           "action_handle_send_link_only"
          ],
          [
           "Báo giá cho mình cái shop",
           "Dạ, có phải bạn muốn hỏi một trong các sản phẩm dưới đây không ạ?\n (Vui lòng ấn chọn 1 sản phẩm)\n<Show 5 cards>",
           "query_knowledge_base",
           "['attribute:price']",
           "action_query_babe_kb"
          ],
          [
           "/query_knowledge_base{\"url\": \"https://shopee.vn/product/36371562/619150769\", \"product_id\": \"https://shopee.vn/product/36371562/619150769\"}",
           "Sản phẩm  Ghế đa năng cao cấp Mastela 1015  hiện shop đang có giá: 1,320,000 VND (giá gốc 1,599,000 VND).\r\nBạn tham khảo các sản phẩm sau nhé ạ:\n<show card>",
           "query_knowledge_base",
           "['url:https://shopee.vn/product/36371562/619150769', 'product_id:https://shopee.vn/product/36371562/619150769']",
           "action_query_babe_kb"
          ],
          [
           "<Đặt hàng>\n(trên card cuối show thêm nút đặt hàng)",
           "Cảm ơn bạn! Bạn vui lòng điền thông tin vào Mẫu đặt hàng giúp shop nhé!\n<Show ra cái bảng mẫu đặt hàng: có tên sản phẩm, cho khách tùy chọn số lượng, màu sắc...>",
           "make_order",
           null,
           "action_make_order"
          ],
          [
           "shop ơi",
           "Chào bạn, mình là trợ lý ảo của Shop Gấu & Bí Ngô, mình giúp gì được bạn ạ?",
           "greet",
           null,
           "utter_greet"
          ],
          [
           "mình cần tìm ghế ăn dặm",
           "Hiện tại sản phẩm Ghế Ăn  shop đang có những *giá* sau ạ:",
           "query_knowledge_base",
           "['object_type:ghe_an']",
           "action_query_babe_kb"
          ],
          [
           "/query_knowledge_base{\"price\": \"1M - 2M\"}",
           "Dạ mời bạn tham khảo sản phẩm hiện có tại shop nhé!",
           "query_knowledge_base",
           "['price:1M - 2M']",
           "action_query_babe_kb"
          ],
          [
           "ghế mastela sản xuất ở đâu vậy shop?",
           "Sản phẩm Ghế Ăn hãng sản xuất Mastela hiện shop đang có nơi sản xuất: *Trung Quốc*.",
           "query_knowledge_base",
           "['object_type:ghe', 'brand:mastela', 'attribute:origin']",
           "action_query_babe_kb"
          ],
          [
           "bé bao nhiêu tháng thì dùng đc ghế này?",
           "Hiện tại sản phẩm Ghế Ăn shop đang có những *độ tuổi sử dụng* sau ạ:",
           "query_knowledge_base",
           "['attribute:age_of_use', 'object_type:ghe']",
           "action_query_babe_kb"
          ],
          [
           "ok shop",
           "Dạ vâng ạ!",
           "agree",
           "[]",
           "utter_agree"
          ],
          [
           "shop có xe đẩy k?",
           "Hiện tại sản phẩm Xe Đẩy shop đang có những *giá* sau ạ:",
           "query_knowledge_base",
           "['object_type:xe_day']",
           "action_query_babe_kb"
          ],
          [
           "/query_knowledge_base{\"age_of_use\": \"0 - 36 Tháng\"}",
           "Hiện tại sản phẩm Xe Đẩy độ tuổi sử dụng 0 - 36 Tháng shop đang có những *hãng sản xuất* sau ạ:",
           "query_knowledge_base",
           "['age_of_use:0 - 36 Tháng']",
           "action_query_babe_kb"
          ],
          [
           "/query_knowledge_base{\"price\": \"2M - 5M\"}",
           "Hiện tại sản phẩm Xe Đẩy giá 2m - 5m, độ tuổi sử dụng 0 - 36 Tháng shop đang có những *hãng sản xuất* sau ạ:",
           "query_knowledge_base",
           "['price:2M - 5M']",
           "action_query_babe_kb"
          ],
          [
           "/confirm_attribute_value{\"brand\": \"NULL\"}",
           "Hiện tại sản phẩm Xe Đẩy giá 2m - 5m, độ tuổi sử dụng 0 - 36 Tháng shop đang có những *màu* sau ạ:",
           "confirm_attribute_value",
           "['brand:NULL']",
           "action_query_babe_kb"
          ],
          [
           "/confirm_attribute_value{\"material\": \"NULL\"}",
           "Hiện tại sản phẩm Xe Đẩy giá 2m - 5m, độ tuổi sử dụng 0 - 36 Tháng shop đang có những *màu* sau ạ:",
           "confirm_attribute_value",
           "['material:NULL']",
           "action_query_babe_kb"
          ],
          [
           "/query_knowledge_base{\"color\": \"Ghi\"}",
           "Dạ mời bạn tham khảo sản phẩm hiện có tại shop nhé!",
           "query_knowledge_base",
           "['color:Ghi']",
           "action_query_babe_kb"
          ],
          [
           "shop có ghế đa năng cho bé 10 tháng k?",
           "Hiện tại sản phẩm Ghế Đa Năng độ tuổi sử dụng Bé 10 Tháng shop đang có những *giá* sau ạ:",
           "query_knowledge_base",
           "['object_type:ghe_da_nang', 'age_of_use:bé 10 tháng']",
           "action_query_babe_kb"
          ],
          [
           "/query_knowledge_base{\"price\": \"1M - 2M\"}",
           "Hiện tại sản phẩm Ghế Đa Năng giá 1m - 2m, độ tuổi sử dụng Bé 10 Tháng shop đang có những *hãng sản xuất* sau ạ:",
           "query_knowledge_base",
           "['price:1M - 2M']",
           "action_query_babe_kb"
          ],
          [
           "/query_knowledge_base{\"brand\": \"More Kiss\"}",
           "Dạ mời bạn tham khảo sản phẩm hiện có tại shop nhé!",
           "query_knowledge_base",
           "['brand:More Kiss']",
           "action_query_babe_kb"
          ],
          [
           "shop ơi",
           "Chào bạn, mình là trợ lý ảo của Shop Gấu & Bí Ngô, mình giúp gì được bạn ạ?",
           "greet",
           null,
           "utter_greet"
          ],
          [
           "cho mình xin giá cái này với\nhttps://scontent.xx.fbcdn.net/v/t1.15752-9/91082126_501675780499282_7670743575553900544_n.png?_nc_cat=105&_nc_sid=b96e70&_nc_ohc=cv9WjzyAq2EAX-2ijUk&_nc_ad=z-m&_nc_cid=0&_nc_zor=9&_nc_ht=scontent.xx&oh=4a383c676ad9b86a134219b8ec91bdb3&oe=5EA28021",
           "Sản phẩm Ghế ô tô cao cấp Joie Steadi Dark Pewte hiện shop đang có giá: *2,750,000 VND (giá gốc 3,200,000 VND)*.\r\nBạn tham khảo các sản phẩm sau nhé ạ:",
           "query_knowledge_base",
           "[\"url:['https://scontent.xx.fbcdn.net/v/t1.15752-9/91082126_501675780499282_7670743575553900544_n.png?_nc_cat=105&_nc_sid=b96e70&_nc_ohc=cv9WjzyAq2EAX-2ijUk&_nc_ad=z-m&_nc_cid=0&_nc_zor=9&_nc_ht=scontent.xx&oh=4a383c676ad9b86a134219b8ec91bdb3&oe=5EA28021']\", 'attribute:price', 'mention:cái này']",
           "action_query_babe_kb"
          ],
          [
           "shop ơi",
           "Chào bạn, mình là trợ lý ảo của Shop Gấu & Bí Ngô, mình giúp gì được bạn ạ?",
           "greet",
           null,
           "utter_greet"
          ],
          [
           "cho mình xin giá cái này với\nhttps://scontent.xx.fbcdn.net/v/t1.15752-9/91082126_501675780499282_7670743575553900544_n.png?_nc_cat=105&_nc_sid=b96e70&_nc_ohc=cv9WjzyAq2EAX-2ijUk&_nc_ad=z-m&_nc_cid=0&_nc_zor=9&_nc_ht=scontent.xx&oh=4a383c676ad9b86a134219b8ec91bdb3&oe=5EA28021",
           "Sản phẩm Ghế ô tô cao cấp Joie Steadi Dark Pewte hiện shop đang có giá: *2,750,000 VND (giá gốc 3,200,000 VND)*.\r\nBạn tham khảo các sản phẩm sau nhé ạ:",
           "query_knowledge_base",
           "[\"url:['https://scontent.xx.fbcdn.net/v/t1.15752-9/91082126_501675780499282_7670743575553900544_n.png?_nc_cat=105&_nc_sid=b96e70&_nc_ohc=cv9WjzyAq2EAX-2ijUk&_nc_ad=z-m&_nc_cid=0&_nc_zor=9&_nc_ht=scontent.xx&oh=4a383c676ad9b86a134219b8ec91bdb3&oe=5EA28021']\", 'attribute:price', 'mention:cái này']",
           "action_query_babe_kb"
          ],
          [
           "ok, cảm ơn shop",
           "Dạ, cảm ơn bạn!",
           "thank",
           null,
           "utter_thank"
          ],
          [
           "/greet",
           "Chào Nguyễn Nhung, mình là trợ lý ảo của Shop Gấu & Bí Ngô",
           "greet",
           "[]",
           "utter_greet"
          ],
          [
           "cho mình xin giá cái này với\nhttps://scontent.xx.fbcdn.net/v/t1.15752-9/91082126_501675780499282_7670743575553900544_n.png?_nc_cat=105&_nc_sid=b96e70&_nc_ohc=cv9WjzyAq2EAX-2ijUk&_nc_ad=z-m&_nc_cid=0&_nc_zor=9&_nc_ht=scontent.xx&oh=4a383c676ad9b86a134219b8ec91bdb3&oe=5EA28021",
           "Sản phẩm Ghế ô tô cao cấp Ghế ô tô cao cấp Joie Steadi Dark Pewte đang có giá 2.750.000 (Giá gốc: 3.200.000).\nMời bạn tham khảo chi tiết sản phẩm:\nhttps://shopee.vn/product/36371562/1287118215",
           "query_knowledge_base",
           "[\"url:['https://scontent.xx.fbcdn.net/v/t1.15752-9/91082126_501675780499282_7670743575553900544_n.png?_nc_cat=105&_nc_sid=b96e70&_nc_ohc=cv9WjzyAq2EAX-2ijUk&_nc_ad=z-m&_nc_cid=0&_nc_zor=9&_nc_ht=scontent.xx&oh=4a383c676ad9b86a134219b8ec91bdb3&oe=5EA28021']\", 'attribute:price', 'mention:cái này']",
           "action_query_babe_kb"
          ],
          [
           "mình đang cần gấp, bạn gửi ship luôn cho mình được không?",
           "Cảm ơn bạn! Bạn vui lòng điền thông tin vào Mẫu đặt hàng giúp shop nhé!\n<Show ra cái bảng mẫu đặt hàng: có tên sản phẩm, cho khách tùy chọn số lượng, màu sắc...>\n<Các thông tin đã thu thập đc thì tự điền luôn, khách k phải điền nữa>",
           "make_order",
           "['ship:cần gấp', 'ship':'gửi ship']",
           "action_make_order"
          ],
          [
           "Bộ đồ chơi nấu ăn giá bn ạ",
           "Bộ đồ chơi nhà bếp thông minh hiện shop đang có giá: 790000 VND (giá gốc 790000 VND). Bạn tham khảo các sản phẩm sau nhé ạ: <show sp>",
           "query_knowledge_base",
           "['attribute:price']",
           "action_query_babe_kb"
          ],
          [
           "ok shop",
           "Dạ,vâng",
           "agree",
           null,
           "utter_agree"
          ],
          [
           "https://scontent.xx.fbcdn.net/v/t1.15752-9/93409445_248021096324605_3539204290587394048_n.jpg?_nc_cat=100&_nc_sid=b96e70&_nc_ohc=CDp2-oURkTkAX-ROtNE&_nc_ad=z-m&_nc_cid=0&_nc_zor=9&_nc_ht=scontent.xx&oh=a13cc949d1040f31f6f45300484c2189&oe=5EB5A872",
           "Bạn đang tìm kiếm thông tin gì ạ?",
           "send_link",
           "[\"url:['https://scontent.xx.fbcdn.net/v/t1.15752-9/93409445_248021096324605_3539204290587394048_n.jpg?_nc_cat=100&_nc_sid=b96e70&_nc_ohc=CDp2-oURkTkAX-ROtNE&_nc_ad=z-m&_nc_cid=0&_nc_zor=9&_nc_ht=scontent.xx&oh=a13cc949d1040f31f6f45300484c2189&oe=5EB5A872']\"]",
           "action_handle_send_link_only"
          ],
          [
           "Ngựa này hàng về hả shop?",
           "Sản phẩm  NGỰA BẬP BÊNH HOLLA 2020  hiện shop có hàng và đang có giá: 580000\n VND (giá gốc 800000 VND).\nBạn tham khảo các sản phẩm sau nhé ạ:\n<show sp>",
           "query_knowledge_base",
           "['object_type:ngựa', 'mention:này']",
           "action_query_babe_kb"
          ],
          [
           "https://scontent.xx.fbcdn.net/v/t1.15752-9/92812185_1223309388006647_5070003679390597120_n.jpg?_nc_cat=102&_nc_sid=b96e70&_nc_ohc=g_UDAFO7FMkAX8iFNTd&_nc_ad=z-m&_nc_cid=0&_nc_zor=9&_nc_ht=scontent.xx&oh=b4d34f75250bd20bb8adc6193f0b996b&oe=5EB812A1",
           "Bạn đang tìm kiếm thông tin gì ạ?",
           "send_link",
           "[\"url:['https://scontent.xx.fbcdn.net/v/t1.15752-9/92812185_1223309388006647_5070003679390597120_n.jpg?_nc_cat=102&_nc_sid=b96e70&_nc_ohc=g_UDAFO7FMkAX8iFNTd&_nc_ad=z-m&_nc_cid=0&_nc_zor=9&_nc_ht=scontent.xx&oh=b4d34f75250bd20bb8adc6193f0b996b&oe=5EB812A1']\"]",
           "action_handle_send_link_only"
          ],
          [
           "Bạn ơi bộ này bao tiền ạ",
           "Sản phẩm BẢNG VẼ HOLLA 2 in 1 hiện shop đang có giá: *830,000 VND (giá gốc 1,090,000 VND)*.\r\nBạn tham khảo các sản phẩm sau nhé ạ:",
           "query_knowledge_base",
           "['mention:bộ này', 'attribute:price']",
           "action_query_babe_kb"
          ],
          [
           "Cho m xem màu",
           "Mình chưa xác định được món đồ bạn hỏi, bạn mô tả rõ hơn giúp mình nhé!",
           "query_knowledge_base",
           "['attribute:color']",
           "action_query_babe_kb"
          ],
          [
           "Ghế ăn dặm newber ạ",
           "Dạ, sản phẩm Ghế Ăn hãng sản xuất Newber hiện tại bên shop đang tạm hết hàng ạ. Bạn tham khảo các sản phẩm khác dành cho bé nhé!",
           "query_knowledge_base",
           "['object_type:ghe_an', 'brand:newber']",
           "action_query_babe_kb"
          ],
          [
           "b ơi cho mình hỏi chút\nbên mình có quây k k ạ",
           "Sản phẩm  Quây  hiện shop đang có giá: *1,440,000 VND (giá gốc 1,490,000 VND), 1,040,000 VND (giá gốc 1,290,000 VND), 1,340,000 VND (giá gốc 1,390,000 VND)*.\nBạn tham khảo các sản phẩm sau nhé ạ:",
           "query_knowledge_base",
           "['object_type:quay']",
           "action_query_babe_kb"
          ],
          [
           "mẫu này kt bn hả b",
           "Mình chưa xác định được món đồ bạn hỏi, bạn mô tả rõ hơn giúp mình nhé!",
           "query_knowledge_base",
           "['mention:mẫu này', 'attribute:size']",
           "action_query_babe_kb"
          ],
          [
           "https://scontent.xx.fbcdn.net/v/t1.15752-9/92319989_243079400401587_6154261374332567552_n.jpg?_nc_cat=102&_nc_sid=b96e70&_nc_ohc=YkHJKwU8VpUAX-Gwl3X&_nc_ad=z-m&_nc_cid=0&_nc_zor=9&_nc_ht=scontent.xx&oh=80ff0124dbde1098c7a2bee69d87cac8&oe=5EB719F6",
           "Sản phẩm  COMBO HOLLA LIÊN HOÀN 2020 hiện shop đang có kích thước: *1.8x2M*.\nBạn tham khảo sản phẩm sau nhé ạ:\n<show card sp>",
           "send_link",
           "[\"url:['https://scontent.xx.fbcdn.net/v/t1.15752-9/92319989_243079400401587_6154261374332567552_n.jpg?_nc_cat=102&_nc_sid=b96e70&_nc_ohc=YkHJKwU8VpUAX-Gwl3X&_nc_ad=z-m&_nc_cid=0&_nc_zor=9&_nc_ht=scontent.xx&oh=80ff0124dbde1098c7a2bee69d87cac8&oe=5EB719F6']\"]",
           "action_handle_send_link_only"
          ],
          [
           "shop ơi",
           "Chào bạn, mình là trợ lý ảo của Shop Gấu & Bí Ngô, mình giúp gì được bạn ạ?",
           "greet",
           null,
           "utter_greet"
          ],
          [
           "https://scontent.xx.fbcdn.net/v/t1.15752-9/91195826_498480424370303_2420395967455952896_n.jpg?_nc_cat=106&_nc_sid=b96e70&_nc_ohc=xbapPlP7xmIAX_VXW-N&_nc_ad=z-m&_nc_cid=0&_nc_zor=9&_nc_ht=scontent.xx&oh=9659d65beb602c42382325bcb6359a57&oe=5EA77EEF",
           "Bạn đang tìm kiếm thông tin gì ạ?",
           "send_link",
           "[\"url:['https://scontent.xx.fbcdn.net/v/t1.15752-9/91195826_498480424370303_2420395967455952896_n.jpg?_nc_cat=106&_nc_sid=b96e70&_nc_ohc=xbapPlP7xmIAX_VXW-N&_nc_ad=z-m&_nc_cid=0&_nc_zor=9&_nc_ht=scontent.xx&oh=9659d65beb602c42382325bcb6359a57&oe=5EA77EEF']\"]",
           "action_handle_send_link_only"
          ],
          [
           "B có sẵn thanh chắn giường này ko?",
           "Sản phẩm Thanh chắn giường cao cấp dạng trượt Umoo chính hãng đang có giá: 500.000 (Giá gốc: 610.000).\nMời bạn xem sản phẩm tại link:\n<Show card>",
           "query_knowledge_base",
           "['object_type:thanh_chan_giuong']",
           "action_query_babe_kb"
          ],
          [
           "loại này có những kích thước nào shop nhỉ?",
           "Sản phẩm Thanh chắn giường cao cấp dạng trượt Umoo chính hãng có các kích thước: 1m6, 1m8, 2m, 2m2.",
           "query_knowledge_base",
           "['mention:loại này', 'attribute:size']",
           "action_query_babe_kb"
          ],
          [
           "ok shop",
           "Vâng ạ!",
           "agree",
           null,
           "utter_agree"
          ],
          [
           "https://scontent.xx.fbcdn.net/v/t1.15752-9/91116566_291171825206315_2457738113934426112_n.jpg?_nc_cat=111&_nc_sid=b96e70&_nc_oc=AQl0eJdwRKLYDOTb3-7GEEopWEg73tj53KuP5VxJRcvtdD9rcM6ZrFogw5sbRM9s7R-eYHilgr7XsDCjxJ5VauHq&_nc_ad=z-m&_nc_cid=0&_nc_zor=9&_nc_ht=scontent.xx&oh=21cbaa7a85cf4cbf2e946bbc78f7ca73&oe=5EA6F7BA",
           "Bạn đang tìm kiếm thông tin gì ạ?",
           "send_link",
           "[\"url:['https://scontent.xx.fbcdn.net/v/t1.15752-9/91116566_291171825206315_2457738113934426112_n.jpg?_nc_cat=111&_nc_sid=b96e70&_nc_oc=AQl0eJdwRKLYDOTb3-7GEEopWEg73tj53KuP5VxJRcvtdD9rcM6ZrFogw5sbRM9s7R-eYHilgr7XsDCjxJ5VauHq&_nc_ad=z-m&_nc_cid=0&_nc_zor=9&_nc_ht=scontent.xx&oh=21cbaa7a85cf4cbf2e946bbc78f7ca73&oe=5EA6F7BA']\"]",
           "action_handle_send_link_only"
          ],
          [
           "Shop còn bộ này k ạ",
           "Dạ mời bạn tham khảo sản phẩm hiện có tại shop nhé!\r\n<Show card Bể dựng thành cao Doctor Dolphin>",
           "query_knowledge_base",
           "['mention:bộ này']",
           "action_query_babe_kb"
          ],
          [
           "shop ơi",
           "Chào bạn, mình là ...",
           "greet",
           "[]",
           "utter_greet"
          ],
          [
           "Cho mình hỏi bên bạn có máy hút sữa Avent hoa tuyết không ạ?",
           "Sản phẩm  Máy hút sữa điện đôi Avent Snow (Chính hãng - Cty Vạn An) hãng sản xuất Avent hiện shop đang có giá: 4,990,000 VND (giá gốc 6,950,000 VND).\nBạn tham khảo tại link sau ạ:\n<Show card>",
           "query_knowledge_base",
           "['object_type:may_hut_sua', 'brand:avent']",
           "action_query_babe_kb"
          ],
          [
           "loại này dùng có tốt không bạn nhỉ?",
           null,
           "handover_to_inbox",
           "['mention:loại này']",
           "action_handover_to_inbox"
          ],
          [
           "alo shop",
           "Chào bạn, mình là trợ lý ảo của Shop Gấu & Bí Ngô, mình giúp gì được bạn ạ?",
           "greet",
           null,
           "utter_greet"
          ],
          [
           "https://scontent.xx.fbcdn.net/v/t1.15752-9/91179254_522333818714923_2603681931581194240_n.jpg?_nc_cat=106&_nc_sid=b96e70&_nc_ohc=vIHq163ac_kAX-MHxt8&_nc_ad=z-m&_nc_cid=0&_nc_zor=9&_nc_ht=scontent.xx&oh=19368d98471da439001ddf5dc8cab52d&oe=5EA2F89D",
           "Bạn đang tìm kiếm thông tin gì ạ?\r\n",
           "send_link",
           "[\"url:['https://scontent.xx.fbcdn.net/v/t1.15752-9/91179254_522333818714923_2603681931581194240_n.jpg?_nc_cat=106&_nc_sid=b96e70&_nc_ohc=vIHq163ac_kAX-MHxt8&_nc_ad=z-m&_nc_cid=0&_nc_zor=9&_nc_ht=scontent.xx&oh=19368d98471da439001ddf5dc8cab52d&oe=5EA2F89D']\"]",
           "action_handle_send_link_only"
          ],
          [
           "Mình muón mua xe này",
           "Sản phẩm Xe tập đi cao cấp Tommorrow Sky - CHÍNH HÃNG có giá 449.000 (Giá gốc: 850.000).\n<Show card sản phẩm>",
           "query_knowledge_base",
           "['object_type:xe', 'mention:này']",
           "action_query_babe_kb"
          ],
          [
           "shop ơi",
           "Chào bạn, mình là trợ lý ảo của Shop Gấu & Bí Ngô, mình giúp gì được bạn ạ?",
           "greet",
           null,
           "utter_greet"
          ],
          [
           "https://scontent.xx.fbcdn.net/v/t1.15752-9/91140590_169156024104970_9149727164638167040_n.jpg?_nc_cat=111&_nc_sid=b96e70&_nc_oc=AQksL3EPbJwb5vF7MiFB6VdXzCEmtSqg7QZRnHQamP5qwRCPthge2V2zCm6k7jX6oSw0tzFhj2tL2-yD0lgdlWzF&_nc_ad=z-m&_nc_cid=0&_nc_zor=9&_nc_ht=scontent.xx&oh=a3ace1f889939914cd91509c52946144&oe=5EA53CD3",
           "Bạn đang tìm kiếm thông tin gì ạ?\r\n",
           "send_link",
           "[\"url:['https://scontent.xx.fbcdn.net/v/t1.15752-9/91140590_169156024104970_9149727164638167040_n.jpg?_nc_cat=111&_nc_sid=b96e70&_nc_oc=AQksL3EPbJwb5vF7MiFB6VdXzCEmtSqg7QZRnHQamP5qwRCPthge2V2zCm6k7jX6oSw0tzFhj2tL2-yD0lgdlWzF&_nc_ad=z-m&_nc_cid=0&_nc_zor=9&_nc_ht=scontent.xx&oh=a3ace1f889939914cd91509c52946144&oe=5EA53CD3']\"]",
           "action_handle_send_link_only"
          ],
          [
           "Mẫu này shop còn ko?",
           "Dạ mời bạn tham khảo sản phẩm hiện có tại shop nhé!",
           "query_knowledge_base",
           "['mention:mẫu này']",
           "action_query_babe_kb"
          ],
          [
           "thank bạn",
           "Dạ, cảm ơn bạn!",
           "thank",
           null,
           "utter_thank"
          ],
          [
           "shop ơi",
           "Chào Trần Diệu Như, mình là trợ lý ảo của Shop Gấu & Bí Ngô!\nĐể hỗ trợ bạn nhanh nhất có thể, vui lòng mô tả ngắn gọn và rõ ràng sản phẩm muốn tìm kiếm nhé!",
           "greet",
           "[]",
           "utter_greet"
          ],
          [
           "Cho mình hỏi",
           "Mình chưa xác định được món đồ bạn hỏi, bạn mô tả rõ hơn giúp mình nhé!",
           "query_knowledge_base",
           "[]",
           "action_query_babe_kb"
          ],
          [
           "https://scontent.xx.fbcdn.net/v/t1.15752-9/93509238_660084428139084_8562660888245436416_n.jpg?_nc_cat=108&_nc_sid=b96e70&_nc_ohc=yXSk9VsgmBAAX8H8g7O&_nc_ad=z-m&_nc_cid=0&_nc_zor=9&_nc_ht=scontent.xx&oh=4277506b3e5d45205734a572902dadcd&oe=5EBF8F12\nBên bạn có loại này hk",
           "Sản phẩm Máy tiệt trùng sấy khô tia UV cao cấp Fatz Baby FB4702 có giá: 2.350.000 (Giá gốc: 2.750.000).\n<Show card>",
           "query_knowledge_base",
           "[\"url:['https://scontent.xx.fbcdn.net/v/t1.15752-9/93509238_660084428139084_8562660888245436416_n.jpg?_nc_cat=108&_nc_sid=b96e70&_nc_ohc=yXSk9VsgmBAAX8H8g7O&_nc_ad=z-m&_nc_cid=0&_nc_zor=9&_nc_ht=scontent.xx&oh=4277506b3e5d45205734a572902dadcd&oe=5EBF8F12']\", 'mention:loại này']",
           "action_query_babe_kb"
          ],
          [
           "Ok shop",
           "Dạ vâng ạ!",
           "agree",
           null,
           "utter_agree"
          ],
          [
           "Shop ơi\nShop còn xe đạp 3 bánh cho bé ko",
           "Sản phẩm Xe ba bánh hiện tại shop đang có các hãng sản xuất sau:\n<Brand_1> <Brand_2> <Brand_3> ...",
           "query_knowledge_base",
           "['object_type:xe_3_banh']",
           "action_query_babe_kb"
          ],
          [
           "Bn mẫu này ah\nhttps://scontent.xx.fbcdn.net/v/t1.15752-9/93355558_787687925088945_3366661856440614912_n.jpg?_nc_cat=104&_nc_sid=b96e70&_nc_ohc=LuvI-yPqqx4AX90ZvOD&_nc_ad=z-m&_nc_cid=0&_nc_zor=9&_nc_ht=scontent.xx&oh=feb80fc822356b2b3b1bdd09e69d5f5f&oe=5EC1D7AD",
           "Sản phẩm  COMBO HOLLA LIÊN HOÀN 2020 giá 4.100.000 (Giá gốc: 5.000.000).\n<Show card>",
           "query_knowledge_base",
           "[\"url:['https://scontent.xx.fbcdn.net/v/t1.15752-9/93355558_787687925088945_3366661856440614912_n.jpg?_nc_cat=104&_nc_sid=b96e70&_nc_ohc=LuvI-yPqqx4AX90ZvOD&_nc_ad=z-m&_nc_cid=0&_nc_zor=9&_nc_ht=scontent.xx&oh=feb80fc822356b2b3b1bdd09e69d5f5f&oe=5EC1D7AD']\", 'attribute:price', 'mention:mẫu này']",
           "action_query_babe_kb"
          ],
          [
           "Bn mẫu này ah\nhttps://scontent.xx.fbcdn.net/v/t1.15752-9/93355558_787687925088945_3366661856440614912_n.jpg?_nc_cat=104&_nc_sid=b96e70&_nc_ohc=LuvI-yPqqx4AX90ZvOD&_nc_ad=z-m&_nc_cid=0&_nc_zor=9&_nc_ht=scontent.xx&oh=feb80fc822356b2b3b1bdd09e69d5f5f&oe=5EC1D7AD",
           "Sản phẩm  COMBO HOLLA LIÊN HOÀN 2020 giá 4.100.000 (Giá gốc: 5.000.000).\n<Show card>",
           "query_knowledge_base",
           "[\"url:['https://scontent.xx.fbcdn.net/v/t1.15752-9/93355558_787687925088945_3366661856440614912_n.jpg?_nc_cat=104&_nc_sid=b96e70&_nc_ohc=LuvI-yPqqx4AX90ZvOD&_nc_ad=z-m&_nc_cid=0&_nc_zor=9&_nc_ht=scontent.xx&oh=feb80fc822356b2b3b1bdd09e69d5f5f&oe=5EC1D7AD']\", 'attribute:price', 'mention:mẫu này']",
           "action_query_babe_kb"
          ],
          [
           "ok, cảm ơn bạn",
           "Dạ vâng ạ!",
           "thank",
           null,
           "utter_thank"
          ],
          [
           "https://scontent.xx.fbcdn.net/v/t1.15752-9/93372808_237505350937658_7849680219572011008_n.jpg?_nc_cat=106&_nc_sid=b96e70&_nc_ohc=HZIdsjJWIdEAX9Zcxf0&_nc_ad=z-m&_nc_cid=0&_nc_zor=9&_nc_ht=scontent.xx&oh=f23cf6dba930b2cdde6188b71ae0af6d&oe=5EBED982\nShop ơi có chậu tăm này ko ạ\nGiá bnhiu",
           "Dạ, có phải bạn muốn hỏi một trong các sản phẩm dưới đây không ạ?\n (Vui lòng ấn chọn 1 sản phẩm)...",
           "query_knowledge_base",
           "[\"url:['https://scontent.xx.fbcdn.net/v/t1.15752-9/93372808_237505350937658_7849680219572011008_n.jpg?_nc_cat=106&_nc_sid=b96e70&_nc_ohc=HZIdsjJWIdEAX9Zcxf0&_nc_ad=z-m&_nc_cid=0&_nc_zor=9&_nc_ht=scontent.xx&oh=f23cf6dba930b2cdde6188b71ae0af6d&oe=5EBED982']\", 'attribute:price']",
           "action_query_babe_kb"
          ],
          [
           "/disagree{\"object_type\": null}\r\n\r\n",
           "Bạn vui lòng mô tả rõ mong muốn của bạn hoặc chat với nhân viên tư vấn nhé!",
           "disagree",
           "['object_type:None']",
           "utter_disagree"
          ],
          [
           "/connect_employee",
           null,
           "connect_employee",
           null,
           "action_handover_to_inbox"
          ],
          [
           "https://scontent.xx.fbcdn.net/v/t1.15752-9/93282219_2955120164565617_1480656053644296192_n.jpg?_nc_cat=102&_nc_sid=b96e70&_nc_ohc=Hj-a7J7s9IsAX9_oiUQ&_nc_ad=z-m&_nc_cid=0&_nc_zor=9&_nc_ht=scontent.xx&oh=7a656828dcc017d90efbd1d6b28f922e&oe=5EC20392\nhttps://scontent.xx.fbcdn.net/v/t1.15752-9/92019276_227770161797062_3872006948278763520_n.jpg?_nc_cat=110&_nc_sid=b96e70&_nc_ohc=iunHKGP-YF4AX-GSloP&_nc_ad=z-m&_nc_cid=0&_nc_zor=9&_nc_ht=scontent.xx&oh=55a529977543f1bae2e200fff5c4a62d&oe=5EC0888D\nhttps://scontent.xx.fbcdn.net/v/t1.15752-9/92691038_549798449252080_714445944011096064_n.jpg?_nc_cat=107&_nc_sid=b96e70&_nc_ohc=tk3aaQnr2kEAX9TQPsM&_nc_ad=z-m&_nc_cid=0&_nc_zor=9&_nc_ht=scontent.xx&oh=acd989282b420cc45bd0dc478eb2f4cb&oe=5EBF2CBB\nĐều là 1 xe hả chị oi",
           null,
           "handover_to_inbox",
           "[\"url:['https://scontent.xx.fbcdn.net/v/t1.15752-9/92691038_549798449252080_714445944011096064_n.jpg?_nc_cat=107&_nc_sid=b96e70&_nc_ohc=tk3aaQnr2kEAX9TQPsM&_nc_ad=z-m&_nc_cid=0&_nc_zor=9&_nc_ht=scontent.xx&oh=acd989282b420cc45bd0dc478eb2f4cb&oe=5EBF2CBB', 'https://scontent.xx.fbcdn.net/v/t1.15752-9/92019276_227770161797062_3872006948278763520_n.jpg?_nc_cat=110&_nc_sid=b96e70&_nc_ohc=iunHKGP-YF4AX-GSloP&_nc_ad=z-m&_nc_cid=0&_nc_zor=9&_nc_ht=scontent.xx&oh=55a529977543f1bae2e200fff5c4a62d&oe=5EC0888D', 'https://scontent.xx.fbcdn.net/v/t1.15752-9/93282219_2955120164565617_1480656053644296192_n.jpg?_nc_cat=102&_nc_sid=b96e70&_nc_ohc=Hj-a7J7s9IsAX9_oiUQ&_nc_ad=z-m&_nc_cid=0&_nc_zor=9&_nc_ht=scontent.xx&oh=7a656828dcc017d90efbd1d6b28f922e&oe=5EC20392']\"]",
           "action_handover_to_inbox"
          ],
          [
           "shop ơi",
           "Chào bạn, mình là trợ lý ảo của Shop Gấu & Bí Ngô, mình giúp gì được bạn ạ?",
           "greet",
           "[]",
           "utter_greet"
          ],
          [
           "https://scontent.xx.fbcdn.net/v/t1.15752-9/93942919_236576060921353_8212294017631649792_n.jpg?_nc_cat=110&_nc_sid=b96e70&_nc_ohc=x7L3d8CsyC4AX9jTMxO&_nc_ad=z-m&_nc_cid=0&_nc_zor=9&_nc_ht=scontent.xx&oh=35be75d9220bfb0bd5b9d37949f56726&oe=5EBFCEBD\nBáo giá giúp mình\nVà bên b có bàn gội đàu cho bé k\nCó sẵn k bạn",
           "Dạ, có phải bạn muốn hỏi một trong các sản phẩm dưới đây không ạ?\n (Vui lòng ấn chọn 1 sản phẩm)...",
           "query_knowledge_base",
           "[\"url:['https://scontent.xx.fbcdn.net/v/t1.15752-9/93942919_236576060921353_8212294017631649792_n.jpg?_nc_cat=110&_nc_sid=b96e70&_nc_ohc=x7L3d8CsyC4AX9jTMxO&_nc_ad=z-m&_nc_cid=0&_nc_zor=9&_nc_ht=scontent.xx&oh=35be75d9220bfb0bd5b9d37949f56726&oe=5EBFCEBD']\", 'attribute:price']",
           "action_query_babe_kb"
          ],
          [
           "K bàn gội đầu nữa bạn",
           "Bạn vui lòng mô tả rõ mong muốn của bạn hoặc chat với nhân viên tư vấn nhé!",
           "disagree",
           "[]",
           "utter_disagree"
          ],
          [
           "/connect_employee",
           null,
           "connect_employee",
           null,
           "action_handover_to_inbox"
          ],
          [
           "shop ơi",
           "Chào Thu Anh, mình là trợ lý ảo của Shop Gấu & Bí Ngô!\nĐể hỗ trợ bạn nhanh nhất có thể, vui lòng mô tả ngắn gọn và rõ ràng sản phẩm muốn tìm kiếm nhé!",
           "greet",
           "[]",
           "utter_greet"
          ],
          [
           "https://scontent.xx.fbcdn.net/v/t1.15752-9/93942919_236576060921353_8212294017631649792_n.jpg?_nc_cat=110&_nc_sid=b96e70&_nc_ohc=x7L3d8CsyC4AX9jTMxO&_nc_ad=z-m&_nc_cid=0&_nc_zor=9&_nc_ht=scontent.xx&oh=35be75d9220bfb0bd5b9d37949f56726&oe=5EBFCEBD\nBáo giá giúp mình\nVà bên b có bàn gội đàu cho bé k\nCó sẵn k bạn",
           "Dạ, có phải bạn muốn hỏi một trong các sản phẩm dưới đây không ạ?\n (Vui lòng ấn chọn 1 sản phẩm)...",
           "query_knowledge_base",
           "[\"url:['https://scontent.xx.fbcdn.net/v/t1.15752-9/93942919_236576060921353_8212294017631649792_n.jpg?_nc_cat=110&_nc_sid=b96e70&_nc_ohc=x7L3d8CsyC4AX9jTMxO&_nc_ad=z-m&_nc_cid=0&_nc_zor=9&_nc_ht=scontent.xx&oh=35be75d9220bfb0bd5b9d37949f56726&oe=5EBFCEBD']\", 'attribute:price']",
           "action_query_babe_kb"
          ],
          [
           "K bàn gội đầu nữa bạn",
           "Bạn vui lòng mô tả rõ mong muốn của bạn hoặc chat với nhân viên tư vấn nhé!\n<Show button [Chat với nhân viên] >",
           "disagree",
           "[]",
           "utter_disagree"
          ],
          [
           "chị muốn mua thêm cái bàn gội đầu nữa",
           "Dạ hiện tại sản phẩm Bàn gội đầu shop đang hết hàng ạ.",
           "query_knowledge_base",
           "[object_type:ban_goi_dau]",
           "action_query_babe_kb"
          ],
          [
           "ok em",
           "Dạ vâng ạ!",
           "agree",
           null,
           "utter_agree"
          ],
          [
           "Bộ này bao nhiêu bạn",
           "Mình chưa xác định được món đồ bạn hỏi, bạn mô tả rõ hơn giúp mình nhé!",
           "query_knowledge_base",
           "['mention:bộ này', 'attribute:price']",
           "action_query_babe_kb"
          ],
          [
           "https://scontent.xx.fbcdn.net/v/t1.15752-9/93831201_1146889219003227_7546191276316557312_n.jpg?_nc_cat=105&_nc_sid=b96e70&_nc_oc=AQkuiFn2HKv0U6Hz-7RRHmrQAjUe-uffEK34qJgnFu6_ykFT-y29UT6dfe6Tv3zTmX6LSt07VktpDCc5axlV9PMD&_nc_ad=z-m&_nc_cid=0&_nc_zor=9&_nc_ht=scontent.xx&oh=407a378e86bd2e1221efec86158f3723&oe=5EC0F33A",
           "Sản phẩm  Bàn học, bản chơi lắp ghép Lego cao cấp  hiện shop đang có giá: *995,000 VND (giá gốc 1,750,000 VND)*.\nBạn tham khảo các sản phẩm sau nhé ạ:",
           "send_link",
           "[\"url:['https://scontent.xx.fbcdn.net/v/t1.15752-9/93831201_1146889219003227_7546191276316557312_n.jpg?_nc_cat=105&_nc_sid=b96e70&_nc_oc=AQkuiFn2HKv0U6Hz-7RRHmrQAjUe-uffEK34qJgnFu6_ykFT-y29UT6dfe6Tv3zTmX6LSt07VktpDCc5axlV9PMD&_nc_ad=z-m&_nc_cid=0&_nc_zor=9&_nc_ht=scontent.xx&oh=407a378e86bd2e1221efec86158f3723&oe=5EC0F33A']\"]",
           "action_handle_send_link_only"
          ],
          [
           "https://scontent.xx.fbcdn.net/v/t1.15752-9/93580519_538582043761954_1298513551547170816_n.jpg?_nc_cat=110&_nc_sid=b96e70&_nc_ohc=V-gNgxOgT4YAX91GbRA&_nc_ad=z-m&_nc_cid=0&_nc_zor=9&_nc_ht=scontent.xx&oh=37247cf249e08d7d0658803b3f22d363&oe=5EBED552\nBộ này bn ah",
           "Sản phẩm  Bộ đồ chơi nhà bếp thông minh  hiện shop đang có giá: *790,000 VND (giá gốc 790,000 VND)*.\nBạn tham khảo các sản phẩm sau nhé ạ:",
           "query_knowledge_base",
           "[\"url:['https://scontent.xx.fbcdn.net/v/t1.15752-9/93580519_538582043761954_1298513551547170816_n.jpg?_nc_cat=110&_nc_sid=b96e70&_nc_ohc=V-gNgxOgT4YAX91GbRA&_nc_ad=z-m&_nc_cid=0&_nc_zor=9&_nc_ht=scontent.xx&oh=37247cf249e08d7d0658803b3f22d363&oe=5EBED552']\", 'mention:bộ này', 'attribute:price']",
           "action_query_babe_kb"
          ],
          [
           "Dạ vâng b",
           "Dạ vâng ạ!",
           "agree",
           "[]",
           "utter_agree"
          ],
          [
           "https://scontent.xx.fbcdn.net/v/t1.15752-9/93888763_534820093897495_8873435174071697408_n.jpg?_nc_cat=106&_nc_sid=b96e70&_nc_ohc=FKWPkRS2YlUAX_Kn-nn&_nc_ad=z-m&_nc_cid=0&_nc_zor=9&_nc_ht=scontent.xx&oh=7e3aa2900cd80040c578cdc8cd99deef&oe=5EC130D5",
           "Bạn đang tìm kiếm thông tin gì ạ?",
           "send_link",
           "[\"url:['https://scontent.xx.fbcdn.net/v/t1.15752-9/93888763_534820093897495_8873435174071697408_n.jpg?_nc_cat=106&_nc_sid=b96e70&_nc_ohc=FKWPkRS2YlUAX_Kn-nn&_nc_ad=z-m&_nc_cid=0&_nc_zor=9&_nc_ht=scontent.xx&oh=7e3aa2900cd80040c578cdc8cd99deef&oe=5EC130D5']\"]",
           "action_handle_send_link_only"
          ],
          [
           "Bộ này giâ bn ạ shop",
           "Sản phẩm  Bộ đồ chơi nhà bếp thông minh  hiện shop đang có giá: *790,000 VND (giá gốc 790,000 VND)*.\nBạn tham khảo các sản phẩm sau nhé ạ:",
           "query_knowledge_base",
           "['mention:bộ này', 'attribute:price']",
           "action_query_babe_kb"
          ],
          [
           "Cho t một xe chòi chân luddy",
           "Sản phẩm  Xe Chòi Chân  hiện shop đang có giá: *699,000 VND (giá gốc 998,000 VND), 448,400 VND (giá gốc 590,000 VND), 499,000 VND (giá gốc 800,000 VND), 580,000 VND (giá gốc 800,000 VND)*.\nBạn tham khảo các sản phẩm sau nhé ạ:",
           "query_knowledge_base",
           "['object_type:xe_choi_chan', 'brand:luddy']",
           "action_query_babe_kb"
          ],
          [
           "mình muốn mua cái luddy",
           "Sản phẩm Xe chòi chân thương hiệu Luddy có giá: 499,000 VND (giá gốc 800,000 VND)\n<show card xe luddy>",
           "query_knowledge_base",
           "['brand:luddy']",
           "action_query_babe_kb"
          ],
          [
           "ok, mình lấy cái này nhé",
           "\"Cảm ơn bạn! Bạn vui lòng điền thông tin vào Mẫu đặt hàng giúp shop nhé!\n<Show ra cái bảng mẫu đặt hàng: có tên sản phẩm, cho khách tùy chọn số lượng, màu sắc...>\n<Các thông tin đã thu thập đc thì tự điền luôn, khách k phải điền nữa>\"",
           "make_order",
           "['mention:cái này']",
           "action_make_order"
          ],
          [
           "ship cho m 1 xe tập đi sư tử nhé",
           "\"\"\"Cảm ơn bạn! Bạn vui lòng điền thông tin vào Mẫu đặt hàng giúp shop nhé!\n<Show ra cái bảng mẫu đặt hàng: có tên sản phẩm, cho khách tùy chọn số lượng, màu sắc...>\"\"\"\n<Xác nhận> <Hủy>",
           "query_knowledge_base",
           "['object_type:xe_tap_di,'type:sư tử'] ",
           "action_query_knowledge_base"
          ],
          [
           "<Xác nhận>",
           "Cám ơn bạn đã mua hàng tại shop, đơn hàng sẽ được giao đến 434 trần khát chân, 2 bà trưng trong khoảng 24 h ",
           "query_knowledge_base",
           null,
           "action_query_knowledge_base"
          ],
          [
           "hello",
           "Chào bạn, mình là trợ lý ảo của Shop Gấu & Bí Ngô, mình giúp gì được bạn ạ?",
           "greet",
           "['brand:hello']",
           "utter_greet"
          ],
          [
           "Alo, Shop cho mình hỏi chắn cửa cho bé với",
           "Sản phẩm  thanh chắn cửa (thanh chắn cầu thang)  hiện shop đang có giá: *699,000 VND (giá gốc 998,000 VND), 448,400 VND (giá gốc 590,000 VND), 499,000 VND (giá gốc 800,000 VND), 580,000 VND (giá gốc 800,000 VND)*.\nBạn tham khảo các sản phẩm sau nhé ạ:\n<show card sản phẩm>",
           "query_knowledge_base",
           "['object_type:thanh_chan_cua,']",
           "action_query_knowledge_base"
          ],
          [
           "Cái thứ 2 kích thước sao ạ",
           "Sản phẩm  thanh chắn cửa (thanh chắn cầu thang) giá 448,400 VND (giá gốc 590,000 VND) hiện shop đang có kích thước \n<74x85x77cm> \nMời bạn tham khảo sản phẩm ạ:\n<show card sản phẩm>",
           "query_knowledge_base",
           "['mention:2', 'attribute:size']",
           "action_query_babe_kb"
          ],
          [
           "Shop cho e đặt 2 chiếc này nhé ạ\nhttps://scontent.xx.fbcdn.net/v/t1.15752-9/94119707_246999513317631_5493050639422324736_n.jpg?_nc_cat=102&_nc_sid=b96e70&_nc_ohc=Daeqj9YODcQAX-CFRwg&_nc_ad=z-m&_nc_cid=0&_nc_zor=9&_nc_ht=scontent.xx&oh=6f084e97b2a0525ba301c5e07ad4e1ca&oe=5EC0779C\nhttps://scontent.xx.fbcdn.net/v/t1.15752-9/93565662_1081483932226317_4632993179384152064_n.jpg?_nc_cat=111&_nc_sid=b96e70&_nc_ohc=d4nkume4GwAAX_ITaqO&_nc_ad=z-m&_nc_cid=0&_nc_zor=9&_nc_ht=scontent.xx&oh=b89362cb2f5e3af20fdf2d6ca8be9a1b&oe=5EC202B9",
           "Có phải bạn đang muốn đặt hàng sản phẩm sau đúng ko ạ:\n< cardThảm gấp XPE> < card Thảm xốp ghép 28 tấm INFANTINO>\n<Đúng><Sai>",
           "query_knowledge_base",
           "[\"url:['https://scontent.xx.fbcdn.net/v/t1.15752-9/94119707_246999513317631_5493050639422324736_n.jpg?_nc_cat=102&_nc_sid=b96e70&_nc_ohc=Daeqj9YODcQAX-CFRwg&_nc_ad=z-m&_nc_cid=0&_nc_zor=9&_nc_ht=scontent.xx&oh=6f084e97b2a0525ba301c5e07ad4e1ca&oe=5EC0779C', 'https://scontent.xx.fbcdn.net/v/t1.15752-9/93565662_1081483932226317_4632993179384152064_n.jpg?_nc_cat=111&_nc_sid=b96e70&_nc_ohc=d4nkume4GwAAX_ITaqO&_nc_ad=z-m&_nc_cid=0&_nc_zor=9&_nc_ht=scontent.xx&oh=b89362cb2f5e3af20fdf2d6ca8be9a1b&oe=5EC202B9']\", 'mention:chiếc này']",
           "action_query_babe_kb"
          ],
          [
           "<Đúng>",
           "\"\"\"Cảm ơn bạn! Bạn vui lòng điền thông tin vào Mẫu đặt hàng giúp shop nhé!\n<Show ra cái bảng mẫu đặt hàng: có tên sản phẩm, cho khách tùy chọn số lượng, màu sắc...>\"\"\"\n<Xác nhận> <Hủy>",
           "query_knowledge_base",
           null,
           "action_query_babe_kb"
          ],
          [
           "<Hủy>",
           "Bạn đã hủy đơn hàng thành công",
           "query_knowledge_base",
           null,
           "action_query_babe_kb"
          ],
          [
           "Shop cho e đặt 2 chiếc này nhé ạ\nhttps://scontent.xx.fbcdn.net/v/t1.15752-9/94119707_246999513317631_5493050639422324736_n.jpg?_nc_cat=102&_nc_sid=b96e70&_nc_ohc=Daeqj9YODcQAX-CFRwg&_nc_ad=z-m&_nc_cid=0&_nc_zor=9&_nc_ht=scontent.xx&oh=6f084e97b2a0525ba301c5e07ad4e1ca&oe=5EC0779C\nhttps://scontent.xx.fbcdn.net/v/t1.15752-9/93565662_1081483932226317_4632993179384152064_n.jpg?_nc_cat=111&_nc_sid=b96e70&_nc_ohc=d4nkume4GwAAX_ITaqO&_nc_ad=z-m&_nc_cid=0&_nc_zor=9&_nc_ht=scontent.xx&oh=b89362cb2f5e3af20fdf2d6ca8be9a1b&oe=5EC202B9",
           "Có phải bạn đang muốn đặt hàng sản phẩm sau đúng ko ạ:\n< cardThảm gấp XPE> < card Thảm xốp ghép 28 tấm INFANTINO>\n<Đúng><Sai>",
           "query_knowledge_base",
           "[\"url:['https://scontent.xx.fbcdn.net/v/t1.15752-9/94119707_246999513317631_5493050639422324736_n.jpg?_nc_cat=102&_nc_sid=b96e70&_nc_ohc=Daeqj9YODcQAX-CFRwg&_nc_ad=z-m&_nc_cid=0&_nc_zor=9&_nc_ht=scontent.xx&oh=6f084e97b2a0525ba301c5e07ad4e1ca&oe=5EC0779C', 'https://scontent.xx.fbcdn.net/v/t1.15752-9/93565662_1081483932226317_4632993179384152064_n.jpg?_nc_cat=111&_nc_sid=b96e70&_nc_ohc=d4nkume4GwAAX_ITaqO&_nc_ad=z-m&_nc_cid=0&_nc_zor=9&_nc_ht=scontent.xx&oh=b89362cb2f5e3af20fdf2d6ca8be9a1b&oe=5EC202B9']\", 'mention:chiếc này']",
           "action_query_babe_kb"
          ],
          [
           "<Sai>",
           "- Bạn vui lòng mô tả rõ mong muốn của bạn hoặc chat với nhân viên tư vấn nhé!\n<Show button [Chat với nhân viên] >",
           "query_knowledge_base",
           null,
           "action_query_babe_kb"
          ],
          [
           "/connect_employee",
           null,
           "connect_employee",
           null,
           "action_handover_to_inbox"
          ],
          [
           "Bao nhiêu ạ?",
           "Mình chưa xác định được món đồ bạn hỏi, bạn mô tả rõ hơn giúp mình nhé!",
           "query_knowledge_base",
           "['attribute:price']",
           "action_query_babe_kb"
          ],
          [
           "Thảm đàn umoo á b",
           "Dạ, sản phẩm Thảm hãng sản xuất Umoo hiện tại bên shop đang tạm hết hàng ạ. Bạn tham khảo các sản phẩm khác dành cho bé nhé!",
           "query_knowledge_base",
           "['object_type:tham', 'brand:umoo']",
           "action_query_babe_kb"
          ],
          [
           "ok sh",
           "Dạ vâng ạ!",
           "agree",
           null,
           "utter_agree"
          ],
          [
           "https://scontent.xx.fbcdn.net/v/t1.15752-9/93771510_235191447698204_240353022788501504_n.jpg?_nc_cat=105&_nc_sid=b96e70&_nc_oc=AQlx2pVp0r7_f0RjNPCWbwr9XV9j6QbdsFeRGn-dAOQKhtQDKWCKnzalfU5cNEXNX56-SC0B2WDVVA4_PNa0axDZ&_nc_ad=z-m&_nc_cid=0&_nc_zor=9&_nc_ht=scontent.xx&oh=45f391b8434f15864356ad9c7abb704f&oe=5EC0C3B0\nGiá sách này con ko shop",
           "Sản phẩm  Giá sách Hamitu  hiện shop đang có giá: *790,000 VND (giá gốc 790,000 VND)*.\nBạn tham khảo các sản phẩm sau nhé ạ:",
           "query_knowledge_base",
           "[\"url:['https://scontent.xx.fbcdn.net/v/t1.15752-9/93771510_235191447698204_240353022788501504_n.jpg?_nc_cat=105&_nc_sid=b96e70&_nc_oc=AQlx2pVp0r7_f0RjNPCWbwr9XV9j6QbdsFeRGn-dAOQKhtQDKWCKnzalfU5cNEXNX56-SC0B2WDVVA4_PNa0axDZ&_nc_ad=z-m&_nc_cid=0&_nc_zor=9&_nc_ht=scontent.xx&oh=45f391b8434f15864356ad9c7abb704f&oe=5EC0C3B0']\", 'attribute:price']",
           "action_query_babe_kb"
          ],
          [
           "Còn màu xanh ko shop",
           "Sản phẩm  Giá sách Hamitu  màu xanh hiện còn hàng ạ.\nBạn tham khảo các sản phẩm sau nhé ạ:",
           "query_knowledge_base",
           "['color:màu xanh']",
           "action_query_babe_kb"
          ],
          [
           "Ok thanks",
           "Dạ, cảm ơn ạ!",
           "thank",
           "[]",
           "utter_thank"
          ],
          [
           "hi em",
           "Chào bạn, mình là trợ lý ảo của Shop Gấu & Bí Ngô, mình giúp gì được bạn ạ?",
           "greet",
           "[]",
           "utter_greet"
          ],
          [
           "a đặt xe này luôn nhé\nhttps://scontent.xx.fbcdn.net/v/t1.15752-9/93426657_582665362349104_6117563872380452864_n.jpg?_nc_cat=111&_nc_sid=b96e70&_nc_ohc=9aDEp0XKqVoAX_rm0-p&_nc_ad=z-m&_nc_cid=0&_nc_zor=9&_nc_ht=scontent.xx&oh=a4d2c6178976a040c493e58775c20c02&oe=5EC02932\nmàu này luôn nhé",
           "Có phải bạn đang muốn đặt hàng sản phẩm sau đúng ko ạ:\n< card XE ĐẠP CÓ MÁI CHE UMOO> \n<Đúng><Sai>",
           "query_knowledge_base",
           "[\"url:['https://scontent.xx.fbcdn.net/v/t1.15752-9/93426657_582665362349104_6117563872380452864_n.jpg?_nc_cat=111&_nc_sid=b96e70&_nc_ohc=9aDEp0XKqVoAX_rm0-p&_nc_ad=z-m&_nc_cid=0&_nc_zor=9&_nc_ht=scontent.xx&oh=a4d2c6178976a040c493e58775c20c02&oe=5EC02932']\", 'object_type:xe', 'mention:này', 'attribute:color', 'mention:này']",
           "action_query_babe_kb"
          ],
          [
           "<Đúng>",
           "\"\"\"Cảm ơn bạn! Bạn vui lòng điền thông tin vào Mẫu đặt hàng giúp shop nhé!\n<Show ra cái bảng mẫu đặt hàng: có tên sản phẩm, cho khách tùy chọn số lượng, màu sắc...>\"\"\"\n<Xác nhận> <Hủy>",
           "agree",
           null,
           "action_query_babe_kb"
          ],
          [
           "<Xác nhận>",
           "Bạn đã đặt hàng thành công, đơn hàng sẽ được giao đến 434 tkc trong khoảng 24 h ạ",
           "agree",
           "[]",
           "utter_agree"
          ],
          [
           "shop oi báo giá e nhé",
           null,
           "query_knowledge_base",
           "['attribute:price']",
           "action_query_babe_kb"
          ],
          [
           "https://scontent.xx.fbcdn.net/v/t1.15752-9/93648340_253034409210291_8426945079947558912_n.jpg?_nc_cat=101&_nc_sid=b96e70&_nc_ohc=2G7vc-3J1KcAX-JFUES&_nc_ad=z-m&_nc_cid=0&_nc_zor=9&_nc_ht=scontent.xx&oh=874f23fb53a055d93df5efd471d8ca19&oe=5EC1E172",
           "Dạ, có phải bạn muốn hỏi một trong các sản phẩm dưới đây không ạ?\r\n (Vui lòng ấn chọn 1 sản phẩm)...",
           "send_link",
           "[\"url:['https://scontent.xx.fbcdn.net/v/t1.15752-9/93648340_253034409210291_8426945079947558912_n.jpg?_nc_cat=101&_nc_sid=b96e70&_nc_ohc=2G7vc-3J1KcAX-JFUES&_nc_ad=z-m&_nc_cid=0&_nc_zor=9&_nc_ht=scontent.xx&oh=874f23fb53a055d93df5efd471d8ca19&oe=5EC1E172']\"]",
           "action_handle_send_link_only"
          ],
          [
           "/disagree{\"object_type\": null}\r\n\r\n",
           "Bạn vui lòng mô tả rõ mong muốn của bạn hoặc chat với nhân viên tư vấn nhé!",
           "deny_object_type",
           "['object_type:None']",
           "utter_disagree"
          ],
          [
           "/connect_employee",
           null,
           "connect_employee",
           null,
           "action_handover_to_inbox"
          ],
          [
           "shop ơi\nhttps://scontent.xx.fbcdn.net/v/t1.15752-9/93255120_1079083369126985_2667434300114206720_n.jpg?_nc_cat=103&_nc_sid=b96e70&_nc_ohc=dk1p7EdIWjMAX_wg9sH&_nc_ad=z-m&_nc_cid=0&_nc_zor=9&_nc_ht=scontent.xx&oh=9e16ba685cbda443a28e7671ce23d47c&oe=5EC1B4BD\nset màu xanh nhiu ạ",
           "Sản phẩm  Bộ đồ chơi nhà bếp thông minh màu xanh hiện shop đang có giá: *790,000 VND (giá gốc 790,000 VND)*.\nBạn tham khảo các sản phẩm sau nhé ạ:\n<show card sp>",
           "query_knowledge_base",
           "[\"url:['https://scontent.xx.fbcdn.net/v/t1.15752-9/93255120_1079083369126985_2667434300114206720_n.jpg?_nc_cat=103&_nc_sid=b96e70&_nc_ohc=dk1p7EdIWjMAX_wg9sH&_nc_ad=z-m&_nc_cid=0&_nc_zor=9&_nc_ht=scontent.xx&oh=9e16ba685cbda443a28e7671ce23d47c&oe=5EC1B4BD']\", 'color:màu xanh', 'attribute:price']",
           "action_query_babe_kb"
          ],
          [
           "Làm bằng nhựa à bạn",
           "Sản phẩm  Bộ đồ chơi nhà bếp thông minh được làm từ chất liệu Nhựa ạ",
           "query_knowledge_base",
           "['material:bằng nhựa']",
           "action_query_babe_kb"
          ],
          [
           "thank shop",
           "Dạ,vâng ạ",
           "thank",
           null,
           "utter_thank"
          ],
          [
           "Báo giá giúp mình xe này nhé\nhttps://scontent.xx.fbcdn.net/v/t1.15752-9/94473738_228765461534907_3682761519461826560_n.jpg?_nc_cat=100&_nc_sid=b96e70&_nc_ohc=uDLcqJEOolcAX-GG_Tc&_nc_ad=z-m&_nc_cid=0&_nc_zor=9&_nc_ht=scontent.xx&oh=151f6463223d298d3adaa6a3806487c0&oe=5EC0F060",
           "Sản phẩm  Xe chòi chân có bàn đạp cao cấp Motion  hiện shop đang có giá: *389,400 VND (giá gốc 590,000 VND)*.\nBạn tham khảo các sản phẩm sau nhé ạ:",
           "query_knowledge_base",
           "[\"url:['https://scontent.xx.fbcdn.net/v/t1.15752-9/94473738_228765461534907_3682761519461826560_n.jpg?_nc_cat=100&_nc_sid=b96e70&_nc_ohc=uDLcqJEOolcAX-GG_Tc&_nc_ad=z-m&_nc_cid=0&_nc_zor=9&_nc_ht=scontent.xx&oh=151f6463223d298d3adaa6a3806487c0&oe=5EC0F060']\", 'attribute:price', 'object_type:xe', 'mention:này']",
           "action_query_babe_kb"
          ],
          [
           "Xe này cho bé từ mấy tuổi ha b",
           "Sản phẩm  Xe chòi chân có bàn đạp cao cấp Motion  hiện shop đang có độ tuổi sử dụng: *0 - 36 tháng*.\n",
           "query_knowledge_base",
           "['object_type:xe', 'mention:này', 'attribute:age_of_use']",
           "action_query_babe_kb"
          ],
          [
           "Nước nào sản xuất vậy bạn",
           "Sản phẩm  Xe chòi chân có bàn đạp cao cấp Motion có xuất xứ từ Trung Quốc ạ",
           "query_knowledge_base",
           "['attribute:origin']",
           "action_query_babe_kb"
          ],
          [
           "shop ơi",
           "Chào bạn, mình là trợ lý ảo của Shop Gấu & Bí Ngô, mình giúp gì được bạn ạ?",
           "greet",
           null,
           "utter_greet"
          ],
          [
           "https://scontent.xx.fbcdn.net/v/t1.15752-9/93422728_2617871585161789_4870721839715844096_n.jpg?_nc_cat=110&_nc_sid=b96e70&_nc_ohc=0zczYbPpRJAAX_ADWi8&_nc_ad=z-m&_nc_cid=0&_nc_zor=9&_nc_ht=scontent.xx&oh=582c071897ee02dc5d94c30d6e640cb9&oe=5EBEDA17",
           "Bạn đang tìm kiếm thông tin gì ạ?",
           "send_link",
           "[\"url:['https://scontent.xx.fbcdn.net/v/t1.15752-9/93422728_2617871585161789_4870721839715844096_n.jpg?_nc_cat=110&_nc_sid=b96e70&_nc_ohc=0zczYbPpRJAAX_ADWi8&_nc_ad=z-m&_nc_cid=0&_nc_zor=9&_nc_ht=scontent.xx&oh=582c071897ee02dc5d94c30d6e640cb9&oe=5EBEDA17']\"]",
           "action_handle_send_link_only"
          ],
          [
           "Bn vậy s",
           "Sản phẩm  XE ĐẠP CÓ MÁI CHE UMOO  hiện shop đang có giá: *1,148,000 VND (giá gốc 2,800,000 VND)*.\nBạn tham khảo các sản phẩm sau nhé ạ:\n<show card sp>",
           "query_knowledge_base",
           "['attribute:price']",
           "action_query_babe_kb"
          ],
          [
           "trọng lượng xe bn ạ",
           "Sản phẩm  XE ĐẠP CÓ MÁI CHE UMOO có trọng lượng 3,6 kg ạ",
           "query_knowledge_base",
           "['attribute:weight']",
           "action_query_babe_kb"
          ],
          [
           "Cho mình xin link shopee",
           "Sản phẩm  XE ĐẠP CÓ MÁI CHE UMOO có link shopee sau:\n<link shopee>",
           "query_knowledge_base",
           "['attribute:link']",
           "action_query_babe_kb"
          ],
          [
           "Bộ này có gấp lại dc k shop",
           "Mình chưa xác định được món đồ bạn hỏi, bạn mô tả rõ hơn giúp mình nhé!",
           "handover_to_inbox",
           "['mention:bộ này']",
           "action_handover_to_inbox"
          ],
          [
           "https://scontent.fhan1-1.fna.fbcdn.net/v/t1.15752-0/p280x280/94247169_518496298833739_4742785827803758592_n.jpg?_nc_cat=106&_nc_sid=b96e70&_nc_ohc=tIQpyBHqGKcAX_YGh_a&_nc_ht=scontent.fhan1-1.fna&_nc_tp=6&oh=3141a0925467d595ddf7cb2d28d75d28&oe=5EC24DBE\nhttps://scontent.fhan1-1.fna.fbcdn.net/v/t1.15752-0/p280x280/93419718_261010215057212_4518874244767023104_n.jpg?_nc_cat=104&_nc_sid=b96e70&_nc_ohc=EVuxAqLJPbkAX-2BWJl&_nc_ht=scontent.fhan1-1.fna&_nc_tp=6&oh=08ddddefc4c435796d90f76c1ab9e8b3&oe=5EC5835B",
           "Sản phẩm abc_xyz có thể gấp gọn ạ!",
           "query_knowledge_base",
           "[\"url:['https://scontent.fhan1-1.fna.fbcdn.net/v/t1.15752-0/p280x280/94247169_518496298833739_4742785827803758592_n.jpg?_nc_cat=106&_nc_sid=b96e70&_nc_ohc=tIQpyBHqGKcAX_YGh_a&_nc_ht=scontent.fhan1-1.fna&_nc_tp=6&oh=3141a0925467d595ddf7cb2d28d75d28&oe=5EC24DBE', 'https://scontent.fhan1-1.fna.fbcdn.net/v/t1.15752-0/p280x280/93419718_261010215057212_4518874244767023104_n.jpg?_nc_cat=104&_nc_sid=b96e70&_nc_ohc=EVuxAqLJPbkAX-2BWJl&_nc_ht=scontent.fhan1-1.fna&_nc_tp=6&oh=08ddddefc4c435796d90f76c1ab9e8b3&oe=5EC5835B']\"]",
           "action_query_babe_kb"
          ],
          [
           "shop ơi",
           "Chào bạn, mình là trợ lý ảo của Shop Gấu & Bí Ngô, mình giúp gì được bạn ạ?",
           "greet",
           null,
           "utter_greet"
          ],
          [
           "https://scontent.xx.fbcdn.net/v/t1.15752-9/93441614_838087866689750_1344649905557209088_n.jpg?_nc_cat=104&_nc_sid=b96e70&_nc_ohc=-Pf6gZpnxUgAX-Vpbkx&_nc_ad=z-m&_nc_cid=0&_nc_zor=9&_nc_ht=scontent.xx&oh=85b3f6a0e8f8a803032f798d945c239f&oe=5EBCD83B",
           "Bạn đang tìm kiếm thông tin gì ạ?",
           "send_link",
           "[\"url:['https://scontent.xx.fbcdn.net/v/t1.15752-9/93441614_838087866689750_1344649905557209088_n.jpg?_nc_cat=104&_nc_sid=b96e70&_nc_ohc=-Pf6gZpnxUgAX-Vpbkx&_nc_ad=z-m&_nc_cid=0&_nc_zor=9&_nc_ht=scontent.xx&oh=85b3f6a0e8f8a803032f798d945c239f&oe=5EBCD83B']\"]",
           "action_handle_send_link_only"
          ],
          [
           "Cho e giá nhé",
           "Sản phẩm Bộ đồ chơi nhà bếp thông minh gồm 2 size \nSize nhỏ kích thước  57x30x77cm giá KM chỉ 590,000 VND\nSize to kích thước 51x32x100cm Giá Km chỉ 790,000 VND\nBạn tham khảo các sản phẩm sau nhé ạ:\n<Show card sp>",
           "query_knowledge_base",
           "['attribute:price']",
           "action_query_babe_kb"
          ],
          [
           "shop ơi",
           "Chào bạn, mình là trợ lý ảo của Shop Gấu & Bí Ngô, mình giúp gì được bạn ạ?",
           "greet",
           null,
           "utter_greet"
          ],
          [
           "Shop còn bộ câu cá k",
           "Dạ mình còn ạ\nSản phẩm Bộ câu cá Toys House có đèn, nhạc chính hãng hiện shop có giá là 300,000 VND\nBạn vui lòng xe thông tin sản phẩm tại đây ạ:\n<show card sp>",
           "query_knowledge_base",
           "['object_type:bo_cau_ca']",
           "action_query_babe_kb"
          ],
          [
           "https://scontent.xx.fbcdn.net/v/t1.15752-9/93418428_2960774930681647_6163693023730335744_n.jpg?_nc_cat=106&_nc_sid=b96e70&_nc_ohc=JB_DiuoYI7oAX-7VvxC&_nc_ad=z-m&_nc_cid=0&_nc_zor=9&_nc_ht=scontent.xx&oh=0dbb7a6e70ca829a178c063d9fc8d1b9&oe=5EBEAFDC",
           "Bạn đang tìm kiếm thông tin gì ạ?",
           "send_link",
           "[\"url:['https://scontent.xx.fbcdn.net/v/t1.15752-9/93418428_2960774930681647_6163693023730335744_n.jpg?_nc_cat=106&_nc_sid=b96e70&_nc_ohc=JB_DiuoYI7oAX-7VvxC&_nc_ad=z-m&_nc_cid=0&_nc_zor=9&_nc_ht=scontent.xx&oh=0dbb7a6e70ca829a178c063d9fc8d1b9&oe=5EBEAFDC']\"]",
           "action_handle_send_link_only"
          ],
          [
           "Bnhieu z",
           "Sản phẩm Xe đạp có mái che Umoo hiện shop đang có giá: 2,800,000 VND (giá gốc 2,800,000 VND)\nBạn tham khảo sản phẩm sau nhé ạ:\n<show card sp>",
           "query_knowledge_base",
           "['attribute:price']",
           "action_query_babe_kb"
          ],
          [
           "Xe umoo tháo ra thanh xe đap 3 banh như nadle dc ko ạ",
           "Handover",
           "handover_to_inbox",
           "['brand:umoo', 'brand:nadle']",
           "action_handover_to_inbox"
          ],
          [
           "https://scontent.xx.fbcdn.net/v/t1.15752-9/93253452_2682930575263004_7855235270143115264_n.jpg?_nc_cat=105&_nc_sid=b96e70&_nc_ohc=7jkZ9XfKxBwAX_UAxjX&_nc_ad=z-m&_nc_cid=0&_nc_zor=9&_nc_ht=scontent.xx&oh=825bee90f4f292788d9a5972ee3450dd&oe=5EBBD6BC",
           "Bạn đang tìm kiếm thông tin gì ạ?",
           "send_link",
           "[\"url:['https://scontent.xx.fbcdn.net/v/t1.15752-9/93253452_2682930575263004_7855235270143115264_n.jpg?_nc_cat=105&_nc_sid=b96e70&_nc_ohc=7jkZ9XfKxBwAX_UAxjX&_nc_ad=z-m&_nc_cid=0&_nc_zor=9&_nc_ht=scontent.xx&oh=825bee90f4f292788d9a5972ee3450dd&oe=5EBBD6BC']\"]",
           "action_handle_send_link_only"
          ],
          [
           "https://scontent.xx.fbcdn.net/v/t1.15752-9/93253452_2682930575263004_7855235270143115264_n.jpg?_nc_cat=105&_nc_sid=b96e70&_nc_ohc=7jkZ9XfKxBwAX_UAxjX&_nc_ad=z-m&_nc_cid=0&_nc_zor=9&_nc_ht=scontent.xx&oh=825bee90f4f292788d9a5972ee3450dd&oe=5EBBD6BC",
           "Bạn đang tìm kiếm thông tin gì ạ?",
           "send_link",
           "[\"url:['https://scontent.xx.fbcdn.net/v/t1.15752-9/93253452_2682930575263004_7855235270143115264_n.jpg?_nc_cat=105&_nc_sid=b96e70&_nc_ohc=7jkZ9XfKxBwAX_UAxjX&_nc_ad=z-m&_nc_cid=0&_nc_zor=9&_nc_ht=scontent.xx&oh=825bee90f4f292788d9a5972ee3450dd&oe=5EBBD6BC']\"]",
           "action_handle_send_link_only"
          ],
          [
           "Mình muốn hỏi 2cái nôi này là 1 ah",
           "Dạ, hai sản phẩm trên khác nhau, bạn có thể tham khảo 2 sản phẩm đó tại đây ạ:\n<show card sp 2 sp đó>",
           "query_knowledge_base",
           "['object_type:noi', 'mention:này']",
           "action_query_babe_kb"
          ],
          [
           "/query_knowledge_base{\"url\": \"https://shopee.vn/product/36371562/6418671728\", \"product_id\": \"https://shopee.vn/product/36371562/6418671728\"}",
           "Dạ mời bạn tham khảo sản phẩm hiện có tại shop nhé!",
           "query_knowledge_base",
           "['url:https://shopee.vn/product/36371562/6418671728', 'product_id:https://shopee.vn/product/36371562/6418671728']",
           "action_query_babe_kb"
          ],
          [
           "Xe này thì bn ạ?\nhttps://scontent.xx.fbcdn.net/v/t1.15752-9/92663760_242313147139819_180836660240449536_n.jpg?_nc_cat=108&_nc_sid=b96e70&_nc_oc=AQlkEzFcevEZjlSfmMVghzOFCJ91RNxuLFmnj-LZ115MgaQQpCgvQftExyz9V3ToMt-zJcTykpcg-9VknQVe51f6&_nc_ad=z-m&_nc_cid=0&_nc_zor=9&_nc_ht=scontent.xx&oh=a2c61b4882879e5c266eff69947cb40d&oe=5EBD5657",
           "Dạ, có phải bạn muốn hỏi một trong các sản phẩm dưới đây không ạ?\n (Vui lòng ấn chọn 1 sản phẩm)...",
           "query_knowledge_base",
           "[\"url:['https://scontent.xx.fbcdn.net/v/t1.15752-9/92663760_242313147139819_180836660240449536_n.jpg?_nc_cat=108&_nc_sid=b96e70&_nc_oc=AQlkEzFcevEZjlSfmMVghzOFCJ91RNxuLFmnj-LZ115MgaQQpCgvQftExyz9V3ToMt-zJcTykpcg-9VknQVe51f6&_nc_ad=z-m&_nc_cid=0&_nc_zor=9&_nc_ht=scontent.xx&oh=a2c61b4882879e5c266eff69947cb40d&oe=5EBD5657']\", 'object_type:xe', 'mention:này', 'attribute:price']",
           "action_query_babe_kb"
          ],
          [
           "/query_knowledge_base{\"url\": \"https://shopee.vn/product/36371562/3103025341\", \"product_id\": \"https://shopee.vn/product/36371562/3103025341\"}",
           "Sản phẩm Xe NADLE 3 in 1: Xe đẩy - Chòi chân - Xe đạp hiện shop đang có giá: *2,450,000 VND (giá gốc 2,450,000 VND), 2,650,000 VND (giá gốc 2,650,000 VND), 1,550,000 VND (giá gốc 2,650,000 VND)*.\r\nBạn tham khảo các sản phẩm sau nhé ạ:",
           "query_knowledge_base",
           "['url:https://shopee.vn/product/36371562/3103025341', 'product_id:https://shopee.vn/product/36371562/3103025341']",
           "action_query_babe_kb"
          ],
          [
           "https://scontent.xx.fbcdn.net/v/t1.15752-9/94088606_259054638553614_1365453125116231680_n.jpg?_nc_cat=102&_nc_sid=b96e70&_nc_ohc=0UI6w3AAdH4AX-0aWZz&_nc_ad=z-m&_nc_cid=0&_nc_zor=9&_nc_ht=scontent.xx&oh=e45937d7e7c56fde3c8930b2dc0943ad&oe=5EBF6B41",
           "Bạn đang tìm kiếm thông tin gì ạ?",
           "send_link",
           "[\"url:['https://scontent.xx.fbcdn.net/v/t1.15752-9/94088606_259054638553614_1365453125116231680_n.jpg?_nc_cat=102&_nc_sid=b96e70&_nc_ohc=0UI6w3AAdH4AX-0aWZz&_nc_ad=z-m&_nc_cid=0&_nc_zor=9&_nc_ht=scontent.xx&oh=e45937d7e7c56fde3c8930b2dc0943ad&oe=5EBF6B41']\"]",
           "action_handle_send_link_only"
          ],
          [
           "Bn em oi\nCó màu khác ko e",
           "Sản phẩm Bàn ghế đa năng Lego Holla hiện shop đang có giá: *1,400,000 VND (giá gốc 1,400,000 VND)\nBạn tham khảo các sản phẩm sau nhé ạ:\n<show card sp>\n\nSản phẩm Bàn ghế đa năng Lego Holla hiện shop đang có các mẫu: mẫu Gấu và mẫu Thỏ\nBạn tham khảo các sản phẩm sau nhé ạ:\r\n<show card sp>",
           "query_knowledge_base",
           "['attribute:price', 'attribute:color']",
           "action_query_babe_kb"
          ],
          [
           "B ơi kệ sắp về chưa b",
           "Dạ bạn muốn hỏi sản phẩm nào trong các sản phẩm dưới đây ạ\n<show card tất cả các kệ mà shop bán kèm button bên dưới \"Cái này\">\n<button: Không có trong số này>",
           "query_knowledge_base",
           "['object_type:ke']",
           "action_query_babe_kb"
          ],
          [
           "/query_knowledge_base{\"url\": \"https://shopee.vn/product/36371562/3103025341\", \"product_id\": \"https://shopee.vn/product/36371562/3103025341\"}",
           "Dạ sản phẩm Kệ đa năng cao cấp Pie shop dự tính sẽ về hàng vào ngày xx/xx ạ\nBạn vui lòng xem các sản phẩm khác của shop nhé ạ:\n<show card các sp tương tự>",
           "query_knowledge_base",
           "['url:https://shopee.vn/product/36371562/3103025341', 'product_id:https://shopee.vn/product/36371562/3103025341']",
           "action_query_babe_kb"
          ],
          [
           "ok shop",
           "Shop cảm ơn bạn!",
           "agree",
           null,
           "utter_agree"
          ],
          [
           "shop ơi",
           "Chào bạn, mình là trợ lý ảo của Shop Gấu & Bí Ngô, mình giúp gì được bạn ạ?",
           "greet",
           null,
           "utter_greet"
          ],
          [
           "https://scontent.xx.fbcdn.net/v/t1.15752-9/93113313_1080458392352702_7732950842487078912_n.jpg?_nc_cat=110&_nc_sid=b96e70&_nc_ohc=VWiKd2ejLkwAX8ZSSsK&_nc_ad=z-m&_nc_cid=0&_nc_zor=9&_nc_ht=scontent.xx&oh=9f0283f10c9513441437fe7e7239b722&oe=5EBE3115",
           "Bạn đang tìm kiếm thông tin gì ạ?",
           "send_link",
           "[\"url:['https://scontent.xx.fbcdn.net/v/t1.15752-9/93113313_1080458392352702_7732950842487078912_n.jpg?_nc_cat=110&_nc_sid=b96e70&_nc_ohc=VWiKd2ejLkwAX8ZSSsK&_nc_ad=z-m&_nc_cid=0&_nc_zor=9&_nc_ht=scontent.xx&oh=9f0283f10c9513441437fe7e7239b722&oe=5EBE3115']\"]",
           "action_handle_send_link_only"
          ],
          [
           "Chó này này giá bao nhiêu vậy shop",
           "Dạ, có phải bạn muốn hỏi một trong các sản phẩm dưới đây không ạ?\n (Vui lòng ấn chọn 1 sản phẩm)...",
           "query_knowledge_base",
           "['attribute:price']",
           "action_query_babe_kb"
          ],
          [
           "Hết hàng rồi hả shop",
           "Mình chưa rõ món đồ bạn hỏi, nếu có trong danh sách trên, bạn vui lòng chọn sản phẩm giúp mình nhé.",
           "query_knowledge_base",
           "[]",
           "action_query_babe_kb"
          ],
          [
           "/query_knowledge_base{\"url\": \"https://shopee.vn/product/36371562/3103025341\", \"product_id\": \"https://shopee.vn/product/36371562/3103025341\"}",
           "Dạ, sản phẩm hiện tại bên shop đang tạm hết hàng ạ. Bạn tham khảo các sản phẩm khác dành cho bé nhé!",
           "query_knowledge_base",
           "['url:https://shopee.vn/product/36371562/3103025341', 'product_id:https://shopee.vn/product/36371562/3103025341']",
           "action_query_babe_kb"
          ],
          [
           "Mìh ck r nhé\nhttps://scontent.xx.fbcdn.net/v/t1.15752-9/93636148_581283165927177_1218583943880638464_n.jpg?_nc_cat=107&_nc_sid=b96e70&_nc_ohc=v18UutxNnwkAX8l0irW&_nc_ad=z-m&_nc_cid=0&_nc_zor=9&_nc_ht=scontent.xx&oh=7374a7a5bb108982137dd407f074cced&oe=5EBC3E04",
           "Cảm ơn bạn, nhân viên của shop sẽ xác nhận sớm lại ạ.",
           "confirm_transfer",
           "[\"url:['https://scontent.xx.fbcdn.net/v/t1.15752-9/93636148_581283165927177_1218583943880638464_n.jpg?_nc_cat=107&_nc_sid=b96e70&_nc_ohc=v18UutxNnwkAX8l0irW&_nc_ad=z-m&_nc_cid=0&_nc_zor=9&_nc_ht=scontent.xx&oh=7374a7a5bb108982137dd407f074cced&oe=5EBC3E04']\"]",
           "confirm_transfer"
          ],
          [
           "Shop em o dau",
           "Địa chỉ shop ở : số 16 ngõ 124 Âu Cơ, Tứ liên , Tây Hồ , Hà Nội ạ",
           "ask_address",
           "[]",
           "action_ask_address"
          ],
          [
           "B ơi kệ sắp về chưa b",
           "Dạ bạn muốn hỏi sản phẩm nào trong các sản phẩm dưới đây ạ\n<ke> <kệ đứng>",
           "query_knowledge_base",
           "['object_type:ke']",
           "action_query_babe_kb"
          ],
          [
           "shop ơi",
           "Chào bạn, mình là trợ lý ảo của Shop Gấu & Bí Ngô, mình giúp gì được bạn ạ?",
           "greet",
           null,
           "utter_greet"
          ],
          [
           "https://scontent.xx.fbcdn.net/v/t1.15752-9/93441614_838087866689750_1344649905557209088_n.jpg?_nc_cat=104&_nc_sid=b96e70&_nc_ohc=-Pf6gZpnxUgAX-Vpbkx&_nc_ad=z-m&_nc_cid=0&_nc_zor=9&_nc_ht=scontent.xx&oh=85b3f6a0e8f8a803032f798d945c239f&oe=5EBCD83B",
           "Bạn đang tìm kiếm thông tin gì ạ?",
           "send_link",
           "[\"url:['https://scontent.xx.fbcdn.net/v/t1.15752-9/93441614_838087866689750_1344649905557209088_n.jpg?_nc_cat=104&_nc_sid=b96e70&_nc_ohc=-Pf6gZpnxUgAX-Vpbkx&_nc_ad=z-m&_nc_cid=0&_nc_zor=9&_nc_ht=scontent.xx&oh=85b3f6a0e8f8a803032f798d945c239f&oe=5EBCD83B']\"]",
           "action_handle_send_link_only"
          ],
          [
           "Cho e giá nhé",
           "Sản phẩm Bộ đồ chơi nhà bếp thông minh có giá: 490.000 - 790.000 tùy mẫu mã (kích thước, màu sắc...).\nBạn tham khảo các sản phẩm sau nhé ạ:\n<Show card sp>",
           "query_knowledge_base",
           "['attribute:price']",
           "action_query_babe_kb"
          ],
          [
           "https://scontent.xx.fbcdn.net/v/t1.15752-9/93888763_534820093897495_8873435174071697408_n.jpg?_nc_cat=106&_nc_sid=b96e70&_nc_ohc=FKWPkRS2YlUAX_Kn-nn&_nc_ad=z-m&_nc_cid=0&_nc_zor=9&_nc_ht=scontent.xx&oh=7e3aa2900cd80040c578cdc8cd99deef&oe=5EC130D5",
           "Bạn đang tìm kiếm thông tin gì ạ?",
           "send_link",
           "[\"url:['https://scontent.xx.fbcdn.net/v/t1.15752-9/93888763_534820093897495_8873435174071697408_n.jpg?_nc_cat=106&_nc_sid=b96e70&_nc_ohc=FKWPkRS2YlUAX_Kn-nn&_nc_ad=z-m&_nc_cid=0&_nc_zor=9&_nc_ht=scontent.xx&oh=7e3aa2900cd80040c578cdc8cd99deef&oe=5EC130D5']\"]",
           "action_handle_send_link_only"
          ],
          [
           "Bộ này giâ bn ạ shop",
           "\"Dạ, có phải bạn muốn hỏi một trong các sản phẩm dưới đây không ạ?\n (Vui lòng ấn chọn 1 sản phẩm)...\"",
           "query_knowledge_base",
           "['mention:bộ này', 'attribute:price']",
           "action_query_babe_kb"
          ],
          [
           "Loại này bn vậy bạn",
           "Mình chưa xác định được món đồ bạn hỏi, bạn mô tả rõ hơn giúp mình nhé!",
           "query_knowledge_base",
           "['mention:loại này', 'attribute:price']",
           "action_query_babe_kb"
          ],
          [
           "https://scontent.xx.fbcdn.net/v/t1.15752-9/93049946_266000034415184_8022889009304829952_n.jpg?_nc_cat=107&_nc_sid=b96e70&_nc_ohc=6H5qmCrlsTMAX_UxJKR&_nc_ad=z-m&_nc_cid=0&_nc_zor=9&_nc_ht=scontent.xx&oh=56bc309e3fb8f432e5605d1e1fd4a8e2&oe=5EB6DC2D",
           "Sản phẩm  BẢNG VẼ HOLLA 2 in 1  hiện shop đang có giá: 830,000 VND (giá gốc 1,090,000 VND).\nBạn tham khảo sản phẩm sau nhé ạ:\n<show sp>",
           "send_link",
           "[\"url:['https://scontent.xx.fbcdn.net/v/t1.15752-9/93049946_266000034415184_8022889009304829952_n.jpg?_nc_cat=107&_nc_sid=b96e70&_nc_ohc=6H5qmCrlsTMAX_UxJKR&_nc_ad=z-m&_nc_cid=0&_nc_zor=9&_nc_ht=scontent.xx&oh=56bc309e3fb8f432e5605d1e1fd4a8e2&oe=5EB6DC2D']\"]",
           "action_query_babe_kb"
          ],
          [
           "Có những màu gì ạ ?",
           "Dạ, BẢNG VẼ HOLLA 2 in 1 hiện có các màu: Hồng, Xanh\n<Show card tương ứng với các màu của sản phẩm>",
           "query_knowledge_base",
           "['attribute:color']",
           "action_query_babe_kb"
          ],
          [
           "Để mình tham khảo thêm , có gì mình báo sớm",
           null,
           "handover_to_inbox",
           null,
           "action_handover_to_inbox"
          ],
          [
           "Shop có ghế nhún k b",
           "Sản phẩm Ghế nhún hiện shop đang có các sản phẩm sau ạ:\r\n<show card các sản phẩm object_type ghe_nhun>\n",
           "query_knowledge_base",
           "['object_type:ghe_nhun']",
           "action_query_babe_kb"
          ],
          [
           "Shop ơi",
           "Chào bạn, mình là trợ lý ảo của Shop Gấu & Bí Ngô, mình giúp gì được bạn ạ?",
           "greet",
           "[]",
           "utter_greet"
          ],
          [
           "Mình mua bộ đồ chơi nấu ăn cho bé\nHappy little chef",
           "Sản phẩm Đồ chơi nấu ăn hiện shop đang có các sản phẩm sau ạ:\n<show card các sản phẩm object_type do_choi_nau_an>\n",
           "query_knowledge_base",
           "['object_type:do_choi_nau_an']",
           "action_query_babe_kb"
          ],
          [
           "ok ạ",
           "Vâng ạ!",
           "agree",
           null,
           "utter_agree"
          ],
          [
           "Shop ơi",
           "Chào bạn, mình là trợ lý ảo của Shop Gấu & Bí Ngô, mình giúp gì được bạn ạ?",
           "greet",
           "[]",
           "utter_greet"
          ],
          [
           "Cái thanh chắn cầu thang giá bn vậy bạn",
           "Sản phẩm Thanh nối chặn hiện shop đang có các sản phẩm sau ạ:\n<show card các sản phẩm object_type thanh_noi_chan>\n",
           "query_knowledge_base",
           "['object_type:thanh_noi_chan','attribute:price']",
           "action_query_babe_kb"
          ],
          [
           "ok ạ",
           "Vâng ạ!",
           "agree",
           null,
           "utter_agree"
          ],
          [
           "gửi ảnh giúp c đc ko",
           "Mình chưa xác định được món đồ bạn hỏi, bạn mô tả rõ hơn giúp mình nhé!",
           "query_knowledge_base",
           "['attribute:image']",
           "action_query_babe_kb"
          ],
          [
           "m cần tìm ghế ăn cho bé",
           "Sản phẩm Ghế Ăn hiện shop đang có các mức giá sau ạ:\n<500-1M>....<Sao cũng được!>",
           "query_knowledge_base",
           "['object_type:ghe_an']",
           "action_query_babe_kb"
          ],
          [
           "Chào shop",
           "Chào bạn, mình là trợ lý ảo của Shop Gấu & Bí Ngô, mình giúp gì được bạn ạ?",
           "greet",
           "[]",
           "utter_greet"
          ],
          [
           "Cho  mình xin giá máy pha sữa bên shop nhé ạ",
           "Sản phẩm  Máy pha sữa cao cấp Tiny Baby Formula (Nhật Bản)  hiện shop đang có giá: *3,530,000 VND (giá gốc 3,850,000 VND)*.\nBạn tham khảo các sản phẩm sau nhé ạ:",
           "query_knowledge_base",
           "['attribute:price', 'object_type:may_pha_sua']",
           "action_query_babe_kb"
          ],
          [
           "Chào shop",
           "Chào bạn, mình là trợ lý ảo của Shop Gấu & Bí Ngô, mình giúp gì được bạn ạ?",
           "greet",
           "[]",
           "utter_greet"
          ],
          [
           "Shop cho hỏi có bán ghế ăn dặm cho trẻ con không",
           "Hiện tại sản phẩm Ghế Ăn  shop đang có những *giá* sau ạ:",
           "query_knowledge_base",
           "['object_type:ghe_an']",
           "action_query_babe_kb"
          ],
          [
           "/confirm_attribute_value{\"price\": \"500k - 1M\"}",
           "Dạ mời bạn tham khảo sản phẩm hiện có tại shop nhé!",
           "confirm_attribute_value",
           "['price:500k - 1M']",
           "action_query_babe_kb"
          ],
          [
           "Tôi muốn mua loại 799k",
           "Sản phẩm  Ghế ăn đa năng kết hợp xe kéo MASTELA 1018 CHÍNH HÃNG giá 799k hiện shop đang có giá: *799,000 VND (giá gốc 1,300,000 VND)*.\nBạn tham khảo các sản phẩm sau nhé ạ:",
           "query_knowledge_base",
           "['price:799k']",
           "action_query_babe_kb"
          ],
          [
           "Cái này 30kg có ngồi được ko",
           "Sản phẩm  Ghế ăn đa năng kết hợp xe kéo MASTELA 1018 CHÍNH HÃNG có trọng tải: 13kg ạ\nBạn tham khảo các sản phẩm sau nhé ạ:\n<show card sp>",
           "query_knowledge_base",
           "['mention:cái này', 'capacity:30kg']",
           "action_query_babe_kb"
          ],
          [
           "ok shop",
           "Vâng ạ!",
           "agree",
           null,
           "utter_agree"
          ],
          [
           "Có freeship k an\nẠ\nShip hcm",
           "Dạ bạn vui lòng chờ trong vài phút, nhân viên sẽ trả lời bạn sớm nhất ạ",
           "handover_to_inbox",
           "[]",
           "action_handover_to_inbox"
          ],
          [
           "Dạ,bao lâu thì biết đc mình có đc nhận qà hay k ạ",
           "Dạ bạn vui lòng chờ trong vài phút, nhân viên sẽ trả lời bạn sớm nhất ạ",
           "handover_to_inbox",
           "[]",
           "action_handover_to_inbox"
          ],
          [
           "https://scontent.xx.fbcdn.net/v/t1.15752-9/94342216_2472338469763544_5708094841569673216_n.jpg?_nc_cat=111&_nc_sid=b96e70&_nc_ohc=kg5-pAp7BTgAX-QEe_x&_nc_ad=z-m&_nc_cid=0&_nc_zor=9&_nc_ht=scontent.xx&oh=aeb84a7b6bfc81f1fdadcd81e0347482&oe=5EC8A82A\nhttps://scontent.xx.fbcdn.net/v/t1.15752-9/94318161_887396588390390_8811840609993097216_n.jpg?_nc_cat=106&_nc_sid=b96e70&_nc_ohc=AWcLOmXmk3YAX-wKPHM&_nc_ad=z-m&_nc_cid=0&_nc_zor=9&_nc_ht=scontent.xx&oh=a19ee2c3acb264c574fb86ccd5539fac&oe=5EC6A253\nhai món này giá bnhieu ạ",
           "Sản phẩm Bộ đồ chơi nhà bếp thông minh hiện shop đang có giá: 790000 VND (giá gốc 790000 VND). Bạn tham khảo các sản phẩm sau nhé ạ:\n<show card sp>\n\nSản phẩm Xe chòi chân kiêm xe lắc cao cấp có nhạc Holla hiện shop đang có giá: *790,000 VND (giá gốc 1,200,000 VND)*.\nBạn tham khảo các sản phẩm sau nhé ạ:\n<show card sp>",
           "query_knowledge_base",
           "[\"url:['https://scontent.xx.fbcdn.net/v/t1.15752-9/94318161_887396588390390_8811840609993097216_n.jpg?_nc_cat=106&_nc_sid=b96e70&_nc_ohc=AWcLOmXmk3YAX-wKPHM&_nc_ad=z-m&_nc_cid=0&_nc_zor=9&_nc_ht=scontent.xx&oh=a19ee2c3acb264c574fb86ccd5539fac&oe=5EC6A253', 'https://scontent.xx.fbcdn.net/v/t1.15752-9/94342216_2472338469763544_5708094841569673216_n.jpg?_nc_cat=111&_nc_sid=b96e70&_nc_ohc=kg5-pAp7BTgAX-QEe_x&_nc_ad=z-m&_nc_cid=0&_nc_zor=9&_nc_ht=scontent.xx&oh=aeb84a7b6bfc81f1fdadcd81e0347482&oe=5EC8A82A']\", 'mention:món này', 'attribute:price']",
           "action_query_babe_kb"
          ],
          [
           "ok shop",
           "Vâng ạ!",
           "agree",
           null,
           "utter_agree"
          ],
          [
           "Bàn này gập gọn vào dc ko bạn?",
           "Dạ, bạn vui lòng xem hướng dẫn sử dụng sản phẩm tại đây ạ\n<show video hướng dẫn sử dụng trong shopee>",
           "query_knowledge_base",
           "['mention:bàn này','attribute:video']",
           "action_query_babe_kb"
          ],
          [
           "https://scontent.xx.fbcdn.net/v/t1.15752-9/94181516_219655075983837_7369188505747980288_n.jpg?_nc_cat=110&_nc_sid=b96e70&_nc_oc=AQmgIzziHIsE2roCLl036R2GPDGy04e86wa1CzOt7ervW0gLWyk_em0o2mmJ3IgXqY_sUfwvGsa9c35xaciWrG3J&_nc_ad=z-m&_nc_cid=0&_nc_zor=9&_nc_ht=scontent.xx&oh=588db62d9dc34f7e68e7f6727ba95966&oe=5EC598CD\nEm xin giá xe này shop ơi",
           "Sản phẩm  Xe tập đi đa năng cao cấp Holla hiện shop đang có giá: 1200.000 VND\nBạn tham khảo các sản phẩm sau nhé ạ:\n<show card sp>",
           "query_knowledge_base",
           "[\"url:['https://scontent.xx.fbcdn.net/v/t1.15752-9/94181516_219655075983837_7369188505747980288_n.jpg?_nc_cat=110&_nc_sid=b96e70&_nc_oc=AQmgIzziHIsE2roCLl036R2GPDGy04e86wa1CzOt7ervW0gLWyk_em0o2mmJ3IgXqY_sUfwvGsa9c35xaciWrG3J&_nc_ad=z-m&_nc_cid=0&_nc_zor=9&_nc_ht=scontent.xx&oh=588db62d9dc34f7e68e7f6727ba95966&oe=5EC598CD']\", 'attribute:price', 'object_type:xe', 'mention:này']",
           "action_query_babe_kb"
          ],
          [
           "Cảm ơn shop",
           "Cảm ơn bạn!",
           "thank",
           "[]",
           "utter_thank"
          ],
          [
           "Shop ship cho em 1 chiếc xe đẩy Holla màu xanh nhé ạ",
           "{Các câu hỏi bot có thể hỏi để đủ thông tin:}\r\n- Dạ bạn muốn đặt sản phẩm nào ạ?\r\n- Bạn muốn đặt số lượng bao nhiêu? + 5 button từ 1 đến 5\r\n- Số điện thoại người nhận?\r\n- Địa chỉ nhận hàng? (Số nhà, phường/xã, quận/huyện, tỉnh/thành phố)\r\n- Bạn có lưu ý gì cho bên vận chuyển không? (vd: cần gấp...)\r\n\r\n{Nếu đã đủ thông tin sẽ show ra} Đơn hàng của bạn gồm:...",
           "query_knowledge_base",
           "['object_type:xe_day', 'brand:holla', 'color:màu xanh']",
           "action_query_babe_kb"
          ],
          [
           "Shop ơi",
           "Chào bạn, mình là trợ lý ảo của Shop Gấu & Bí Ngô, mình giúp gì được bạn ạ?",
           "greet",
           "[]",
           "utter_greet"
          ],
          [
           "E chào shop\nE xin giá xe đẩy với ạ",
           "Hiện tại sản phẩm Xe Đẩy  shop đang có những *giá* sau ạ:",
           "query_knowledge_base",
           "['attribute:price', 'object_type:xe_day']",
           "action_query_babe_kb"
          ],
          [
           "E quên ạ\nXe tròn tập đi ấy ạ",
           "Hiện tại sản phẩm Xe Tập Đi  shop đang có những *giá* sau ạ:",
           "query_knowledge_base",
           "['object_type:xe_tap_di']",
           "action_query_babe_kb"
          ],
          [
           "https://scontent.xx.fbcdn.net/v/t1.15752-9/93606905_299502284371603_116262917866782720_n.jpg?_nc_cat=104&_nc_sid=b96e70&_nc_ohc=0AUlKD2s0VYAX9ut48m&_nc_ad=z-m&_nc_cid=0&_nc_zor=9&_nc_ht=scontent.xx&oh=f4de749b147aef02435adc37b87d9235&oe=5EC5F7D5",
           "Bạn đang tìm kiếm thông tin gì ạ?",
           "send_link",
           "[\"url:['https://scontent.xx.fbcdn.net/v/t1.15752-9/93606905_299502284371603_116262917866782720_n.jpg?_nc_cat=104&_nc_sid=b96e70&_nc_ohc=0AUlKD2s0VYAX9ut48m&_nc_ad=z-m&_nc_cid=0&_nc_zor=9&_nc_ht=scontent.xx&oh=f4de749b147aef02435adc37b87d9235&oe=5EC5F7D5']\"]",
           "action_handle_send_link_only"
          ],
          [
           "Giá tiền ban ơi",
           "Sản phẩm Quây HOLLA FULL PHIÊN BẢN 2020 MẪU VƯƠNG MIỆN hiện shop đang có giá: 4190.000 VND\nBạn tham khảo các sản phẩm sau nhé ạ:",
           "query_knowledge_base",
           "['attribute:price']",
           "action_query_babe_kb"
          ],
          [
           "Thanks b nhé",
           "Cảm ơn bạn!",
           "thank",
           "[]",
           "utter_thank"
          ],
          [
           "Chào shop",
           "Chào bạn, mình là trợ lý ảo của Shop Gấu & Bí Ngô, mình giúp gì được bạn ạ?",
           "greet",
           "[]",
           "utter_greet"
          ],
          [
           "Đồ eco còmybaby hết loại 6-9m hả chị",
           "Dạ, vấn đề này mình không hỗ trợ bạn được. Bạn vui lòng bấm \"Chat với nhân viên\" và chờ trong giây lát, nhân viên sẽ trả lời bạn sớm nhất có thể ạ. \n(Button Chat với nhân viên)",
           "query_knowledge_base",
           "['object_type:quan_ao']['size:6-9m']",
           "action_query_babe_kb"
          ],
          [
           "/connect_employee",
           null,
           "handover_to_inbox",
           "[]",
           "action_handover_to_inbox"
          ],
          [
           "Okie bạn\nBạn cho tớ tổng tiền nhé",
           "Dạ, vấn đề này mình không hỗ trợ bạn được. Bạn vui lòng bấm \"Chat với nhân viên\" và chờ trong giây lát, nhân viên sẽ trả lời bạn sớm nhất có thể ạ. \n(Button Chat với nhân viên)",
           "handover_to_inbox",
           "[]",
           "action_handover_to_inbox"
          ],
          [
           "https://scontent.xx.fbcdn.net/v/t1.15752-9/94615022_254702325575851_8685774369143652352_n.jpg?_nc_cat=107&_nc_sid=b96e70&_nc_oc=AQkW5yJT2whJY3uM6d13-4XyKcKwwf8gHNd-ED41EzYfoVcxoq3ogMZuuTsWcwYdCVqvspJWtELLeP0qWdOz4xNP&_nc_ad=z-m&_nc_cid=0&_nc_zor=9&_nc_ht=scontent.xx&oh=39335ddc3e910c63c2f92a71bc0721a2&oe=5EC5D7A0\nhttps://scontent.xx.fbcdn.net/v/t1.15752-9/94718995_656896051775135_4424984880991961088_n.jpg?_nc_cat=110&_nc_sid=b96e70&_nc_oc=AQmqj-ZwCy04a-EryIf2WLMm4Qvp9emjauY9QNfszWU48mpnGT7YnO-0OJhPHEpL8ykkfrGfYXp_1Pb3Q7FIuunG&_nc_ad=z-m&_nc_cid=0&_nc_zor=9&_nc_ht=scontent.xx&oh=eb24143022047722f3bba74d15534964&oe=5EC7896A\nhttps://scontent.xx.fbcdn.net/v/t1.15752-9/94278563_315945652700875_3393720721636065280_n.jpg?_nc_cat=107&_nc_sid=b96e70&_nc_oc=AQlu_SI7QRtyKEdwncW1fzfBqKQXFLU24Siyz8e0Kl_AT5LA2F-ihNTPCzaoj0XyStIeQPeFqeHSDe3t7fLokib0&_nc_ad=z-m&_nc_cid=0&_nc_zor=9&_nc_ht=scontent.xx&oh=a8c6f18333cf9f2b558c8e4c26ff2765&oe=5EC7387D\nShop báo giá e 3 sp này vs",
           "Sản phẩm Xe chòi chân kiêm xe lắc cao cấp có nhạc Holla hiện shop đang có giá: *790,000 VND (giá gốc 1,200,000 VND)*.\nBạn tham khảo các sản phẩm sau nhé ạ:\n<show card sp>\nSản phẩm Voi mẹ phun nước hiện shop đang có giá: *189,000 VND (giá gốc 290,000 VND)*.\nBạn tham khảo các sản phẩm sau nhé ạ:\n<show card sp>\nSản phẩm  Xe tập đi đa năng cao cấp Holla hiện shop đang có giá: *750,000 VND (giá gốc 1,200,000 VND)*.\nBạn tham khảo các sản phẩm sau nhé ạ:\n<show card sp>",
           "query_knowledge_base",
           "[\"url:['https://scontent.xx.fbcdn.net/v/t1.15752-9/94278563_315945652700875_3393720721636065280_n.jpg?_nc_cat=107&_nc_sid=b96e70&_nc_oc=AQlu_SI7QRtyKEdwncW1fzfBqKQXFLU24Siyz8e0Kl_AT5LA2F-ihNTPCzaoj0XyStIeQPeFqeHSDe3t7fLokib0&_nc_ad=z-m&_nc_cid=0&_nc_zor=9&_nc_ht=scontent.xx&oh=a8c6f18333cf9f2b558c8e4c26ff2765&oe=5EC7387D', 'https://scontent.xx.fbcdn.net/v/t1.15752-9/94718995_656896051775135_4424984880991961088_n.jpg?_nc_cat=110&_nc_sid=b96e70&_nc_oc=AQmqj-ZwCy04a-EryIf2WLMm4Qvp9emjauY9QNfszWU48mpnGT7YnO-0OJhPHEpL8ykkfrGfYXp_1Pb3Q7FIuunG&_nc_ad=z-m&_nc_cid=0&_nc_zor=9&_nc_ht=scontent.xx&oh=eb24143022047722f3bba74d15534964&oe=5EC7896A', 'https://scontent.xx.fbcdn.net/v/t1.15752-9/94615022_254702325575851_8685774369143652352_n.jpg?_nc_cat=107&_nc_sid=b96e70&_nc_oc=AQkW5yJT2whJY3uM6d13-4XyKcKwwf8gHNd-ED41EzYfoVcxoq3ogMZuuTsWcwYdCVqvspJWtELLeP0qWdOz4xNP&_nc_ad=z-m&_nc_cid=0&_nc_zor=9&_nc_ht=scontent.xx&oh=39335ddc3e910c63c2f92a71bc0721a2&oe=5EC5D7A0']\", 'attribute:price']",
           "action_query_babe_kb"
          ],
          [
           "https://scontent.xx.fbcdn.net/v/t1.15752-9/93936800_2528999887362024_6985015496575811584_n.png?_nc_cat=106&_nc_sid=b96e70&_nc_ohc=8tGxj4NRcFgAX_OiTnm&_nc_ad=z-m&_nc_cid=0&_nc_zor=9&_nc_ht=scontent.xx&oh=a363ac91b870ae543a0a88dba3e37f0b&oe=5EC78195\nxe nay bn ban oi?",
           "Sản phẩm Xe chòi chân kiêm xe lắc cao cấp có nhạc Holla hiện shop đang có giá: *790,000 VND (giá gốc 1,200,000 VND)*.\r\nBạn tham khảo các sản phẩm sau nhé ạ:\r\n<show card sp>",
           "query_knowledge_base",
           "[\"url:['https://scontent.xx.fbcdn.net/v/t1.15752-9/93936800_2528999887362024_6985015496575811584_n.png?_nc_cat=106&_nc_sid=b96e70&_nc_ohc=8tGxj4NRcFgAX_OiTnm&_nc_ad=z-m&_nc_cid=0&_nc_zor=9&_nc_ht=scontent.xx&oh=a363ac91b870ae543a0a88dba3e37f0b&oe=5EC78195']\", 'object_type:xe', 'mention:nay', 'attribute:price']",
           "action_query_babe_kb"
          ],
          [
           "ok ạ",
           "Vâng ạ!",
           "agree",
           null,
           "utter_agree"
          ],
          [
           "Xe nadle có tay đẩy ko b",
           "Dạ, vấn đề này mình không hỗ trợ bạn được. Bạn vui lòng bấm \"Chat với nhân viên\" và chờ trong giây lát, nhân viên sẽ trả lời bạn sớm nhất có thể ạ. \n(Button Chat với nhân viên)",
           "query_knowledge_base",
           "['brand:nadle','accessories:tay đẩy']",
           "action_query_babe_kb"
          ],
          [
           "/connect_employee",
           null,
           "handover_to_inbox",
           "[]",
           "action_handover_to_inbox"
          ],
          [
           "Cho mình link shoppe",
           "Dạ bạn cần xin link shopee của shop hay của sản phẩm nào ạ?",
           "query_knowledge_base",
           "['attribute:link']",
           "action_query_babe_kb"
          ],
          [
           "Xe lắc đó b",
           "Dạ mời bạn xem sản phẩm tại đây ạ:\n- Link Shopee: https://shopee.vn/-Richell-i.36371562.544276829",
           "query_knowledge_base",
           "['object_type: xe_tap_di','attribute:link']",
           "action_query_babe_kb"
          ],
          [
           "Chào ad. Cho tớ hỏi mình còn thảm xốp Infantino 28 miếng k nhỉ? Tớ cảm ơn",
           "Sản phẩm  Thảm hãng sản xuất Infantino, chất liệu Xốp 28 miếng hiện shop còn hàng, shop đang có giá: *99,000 VND (giá gốc 99,000 VND), 279,000 VND (giá gốc 349,000 VND), 179,000 VND (giá gốc 179,000 VND)*.\nBạn tham khảo các sản phẩm sau nhé ạ:",
           "query_knowledge_base",
           "['object_type:tham', 'material:xốp', 'brand:infantino','number of pieces:28 miếng']",
           "action_query_babe_kb"
          ],
          [
           "Loại 28 miếng có những màu gì hả ad? Hay chỉ có 1 màu thui?",
           "Sản phẩm  Thảm hãng sản xuất Infantino, chất liệu Xốp 28 miếng hiện shop đang có màu: *Xanh, Hồng*.\nBạn tham khảo các sản phẩm sau nhé ạ:",
           "query_knowledge_base",
           "['attribute:color', 'attribute:color']",
           "action_query_babe_kb"
          ],
          [
           "Oki tớ cảm ơn nhiều nhé!",
           "Cảm ơn bạn!",
           "thank",
           "[]",
           "utter_thank"
          ],
          [
           "Shop đã về xích đu & cầu trượt holla chưa ạ",
           "Sản phẩm  Cầu trượt xích đu Hola hải cẩu 2020 hãng sản xuất Holla hiện shop đang có giá: *1,982,500 VND (giá gốc 3,250,000 VND)*.\nBạn tham khảo các sản phẩm sau nhé ạ:",
           "query_knowledge_base",
           "['object_type:cau_truot', object_type:xich_du', 'brand:holla']",
           "action_query_babe_kb"
          ],
          [
           "Xích đu shop còn màu gì ạ",
           "Sản phẩm  Cầu trượt xích đu Hola hải cẩu 2020 hãng sản xuất Holla hiện shop đang có màu: *Vàng, Hồng*.\nBạn tham khảo các sản phẩm sau nhé ạ:",
           "query_knowledge_base",
           "['object_type:xich_du','attribute:color']",
           "action_query_babe_kb"
          ],
          [
           "Shop đã về xích đu & cầu trượt holla chưa ạ",
           "Mời bạn tham khảo các sản phẩm Cầu trượt, Xích đu, nhãn hiệu Holla đang có tại shop ạ:\n<show card các sản phẩm Cầu trượt, Xích đu Holla>",
           "query_knowledge_base",
           "['object_type:cau_truot', object_type:xich_du', 'brand:holla']",
           "action_query_babe_kb"
          ],
          [
           "Xích đu shop còn màu gì ạ",
           "Sản phẩm Xích đu nhãn hiệu Holla đang có các màu sau: <show màu>",
           "query_knowledge_base",
           "['object_type:xich_du','attribute:color']",
           "action_query_babe_kb"
          ],
          [
           "ok shop",
           "Vâng ạ!",
           "agree",
           null,
           "utter_agree"
          ],
          [
           "Ahop có giường này ko shop\nhttps://scontent.xx.fbcdn.net/v/t1.15752-9/94697811_243224110251372_4622459209449996288_n.jpg?_nc_cat=110&_nc_sid=b96e70&_nc_ohc=Z2trUQ5yFdkAX_aFlZ0&_nc_ad=z-m&_nc_cid=0&_nc_zor=9&_nc_ht=scontent.xx&oh=41b0cdfe72063f000ae97e6d2f27ea86&oe=5EC6F340",
           "Sản phẩm này hiện tại Shop không có, mời bạn tham khảo các Giường đang có tại shop ạ:\n<Show card Giường>",
           "query_knowledge_base",
           "[\"url:['https://scontent.xx.fbcdn.net/v/t1.15752-9/94697811_243224110251372_4622459209449996288_n.jpg?_nc_cat=110&_nc_sid=b96e70&_nc_ohc=Z2trUQ5yFdkAX_aFlZ0&_nc_ad=z-m&_nc_cid=0&_nc_zor=9&_nc_ht=scontent.xx&oh=41b0cdfe72063f000ae97e6d2f27ea86&oe=5EC6F340']\", 'object_type:giuong', 'mention:này']",
           "action_query_babe_kb"
          ],
          [
           "bộ bang lego thi bao nhieu",
           "Mình chưa xác định được món đồ bạn hỏi, bạn mô tả rõ hơn giúp mình nhé!",
           "query_knowledge_base",
           "['attribute:price']",
           "action_query_babe_kb"
          ],
          [
           "bàn lego ah",
           "Sản phẩm Bàn Lego hiện đang có giá: 1.035.000 VNĐ (Giá gốc: 1.750.000 VNĐ), 1.050.000VNĐ (Giá gốc: 1.890.000 VNĐ)\n<Show card 2 bàn lego đang có>",
           "query_knowledge_base",
           "['object_type:ban_lego']",
           "action_query_babe_kb"
          ],
          [
           "bộ bàn lego thi bao nhieu",
           "Sản phẩm Bàn Lego hiện đang có giá: 1.035.000 VNĐ (Giá gốc: 1.750.000 VNĐ), 1.050.000VNĐ (Giá gốc: 1.890.000 VNĐ)\n<Show card 2 bàn lego đang có>",
           "query_knowledge_base",
           "['attribute:price', 'object_type:ban_lego']",
           "action_query_babe_kb"
          ],
          [
           "thank b nhé",
           "Shop cảm ơn bạn ạ",
           "thank",
           "[]",
           "utter thank"
          ],
          [
           "shop ơi",
           "Chào bạn, mình là trợ lý ảo của Shop Gấu & Bí Ngô, mình giúp gì được bạn ạ?",
           "greet",
           null,
           "utter_greet"
          ],
          [
           "Shop có máy tiệt trùng uv fatz đúng ko ạ",
           "Mời bạn tham khảo các sản phẩm Máy tiệt trùng thương hiệu Fatz đang có tại shop ạ:\n<card 1> <card 2> <card 3> ...",
           "query_knowledge_base",
           "['object_type:may_tiet_trung', 'brand:fatz']",
           "action_query_babe_kb"
          ],
          [
           "shop ơi",
           "Chào bạn, mình là trợ lý ảo của Shop Gấu & Bí Ngô, mình giúp gì được bạn ạ?",
           "greet",
           null,
           "utter_greet"
          ],
          [
           "Shop có máy tiệt trùng uv fatz này đúng ko ạ\nhttps://scontent.xx.fbcdn.net/v/t1.15752-9/93890206_951879361908487_6660440411380645888_n.jpg?_nc_cat=101&_nc_sid=b96e70&_nc_ohc=qE3jk9gMoPkAX9QNKtO&_nc_ad=z-m&_nc_cid=0&_nc_zor=9&_nc_ht=scontent.xx&oh=34409ae90da130ed09ec60ff56ecf5aa&oe=5EC70431\n",
           "Sản phẩm TẶNG 02 bình sữa cao cấp - Máy tiệt trùng sấy khô tia UV cao cấp Fatz Baby FB4702 hiện có giá: 2.390.000 VNĐ (Giá gốc: 2.750.000 VNĐ).\n<show card>",
           "query_knowledge_base",
           "['object_type:may_tiet_trung', 'brand:fatz', 'url:https://scontent.xx.fbcdn.net/v/t1.15752-9/93890206_951879361908487_6660440411380645888_n.jpg?_nc_cat=101&_nc_sid=b96e70&_nc_ohc=qE3jk9gMoPkAX9QNKtO&_nc_ad=z-m&_nc_cid=0&_nc_zor=9&_nc_ht=scontent.xx&oh=34409ae90da130ed09ec60ff56ecf5aa&oe=5EC70431']",
           "action_query_babe_kb"
          ],
          [
           "ok shop",
           "Dạ vâng ạ!",
           "agree",
           null,
           "utter_agree"
          ],
          [
           "shop ơi",
           "Chào bạn, mình là trợ lý ảo của Shop Gấu & Bí Ngô, mình giúp gì được bạn ạ?",
           "greet",
           null,
           "utter_greet"
          ],
          [
           "Shop có máy tiệt trùng uv fatz này đúng ko ạ\nhttps://scontent.xx.fbcdn.net/v/t1.15752-9/93890206_951879361908487_6660440411380645888_n.jpg?_nc_cat=101&_nc_sid=b96e70&_nc_ohc=qE3jk9gMoPkAX9QNKtO&_nc_ad=z-m&_nc_cid=0&_nc_zor=9&_nc_ht=scontent.xx&oh=34409ae90da130ed09ec60ff56ecf5aa&oe=5EC70431\n",
           "Dạ, có phải bạn muốn hỏi một trong các sản phẩm dưới đây không ạ?\n (Vui lòng ấn chọn 1 sản phẩm)\n\n<show 5 card sản phẩm>",
           "query_knowledge_base",
           "['object_type:may_tiet_trung', 'brand:fatz', 'url:https://scontent.xx.fbcdn.net/v/t1.15752-9/93890206_951879361908487_6660440411380645888_n.jpg?_nc_cat=101&_nc_sid=b96e70&_nc_ohc=qE3jk9gMoPkAX9QNKtO&_nc_ad=z-m&_nc_cid=0&_nc_zor=9&_nc_ht=scontent.xx&oh=34409ae90da130ed09ec60ff56ecf5aa&oe=5EC70431']",
           "action_query_babe_kb"
          ],
          [
           "/query_knowledge_base{\"url\": \"https://shopee.vn/product/36371562/3210697307\", \"product_id\": \"https://shopee.vn/product/36371562/3210697307\"}",
           "Sản phẩm TẶNG 02 bình sữa cao cấp - Máy tiệt trùng sấy khô tia UV cao cấp Fatz Baby FB4702 hiện có giá: 2.390.000 VNĐ (Giá gốc: 2.750.000 VNĐ).\r\n<show card>",
           "query_knowledge_base",
           "['url:https://shopee.vn/product/36371562/3210697307', 'product_id:https://shopee.vn/product/36371562/3210697307']",
           "action_query_babe_kb"
          ],
          [
           "https://scontent.xx.fbcdn.net/v/t1.15752-9/93913289_670003413559736_245812939833999360_n.jpg?_nc_cat=105&_nc_sid=b96e70&_nc_ohc=IO8cH-ISUB4AX-tEq7O&_nc_ad=z-m&_nc_cid=0&_nc_zor=9&_nc_ht=scontent.xx&oh=70613ff7bf51b3e0c66e959468a12377&oe=5EC63EC6",
           "Bạn đang tìm kiếm thông tin gì ạ?",
           "send_link",
           "[\"url:['https://scontent.xx.fbcdn.net/v/t1.15752-9/93913289_670003413559736_245812939833999360_n.jpg?_nc_cat=105&_nc_sid=b96e70&_nc_ohc=IO8cH-ISUB4AX-tEq7O&_nc_ad=z-m&_nc_cid=0&_nc_zor=9&_nc_ht=scontent.xx&oh=70613ff7bf51b3e0c66e959468a12377&oe=5EC63EC6']\"]",
           "action_handle_send_link_only"
          ],
          [
           "Bạn có mẫu ntn ko\nCho mình xin thông số",
           "Sản phẩm Ghế đa năng cao cấp Mastela 1015 hiện có giá: 1.320.000 VNĐ (Giá gốc: 1.599.000 VNĐ).\nMời bạn xem chi tiết thông tin sản phẩm tại đường link:\n<show card>",
           "query_knowledge_base",
           "[]",
           "action_query_babe_kb"
          ],
          [
           "https://scontent.xx.fbcdn.net/v/t1.15752-9/93913289_670003413559736_245812939833999360_n.jpg?_nc_cat=105&_nc_sid=b96e70&_nc_ohc=IO8cH-ISUB4AX-tEq7O&_nc_ad=z-m&_nc_cid=0&_nc_zor=9&_nc_ht=scontent.xx&oh=70613ff7bf51b3e0c66e959468a12377&oe=5EC63EC6",
           "Bạn đang tìm kiếm thông tin gì ạ?",
           "send_link",
           "[\"url:['https://scontent.xx.fbcdn.net/v/t1.15752-9/93913289_670003413559736_245812939833999360_n.jpg?_nc_cat=105&_nc_sid=b96e70&_nc_ohc=IO8cH-ISUB4AX-tEq7O&_nc_ad=z-m&_nc_cid=0&_nc_zor=9&_nc_ht=scontent.xx&oh=70613ff7bf51b3e0c66e959468a12377&oe=5EC63EC6']\"]",
           "action_handle_send_link_only"
          ],
          [
           "Bạn có mẫu ntn ko\nCho mình xin thông số",
           "Sản phẩm Ghế đa năng cao cấp Mastela 1015 hiện đang hết hàng. Mời bạn tham khảo các sản phẩm Ghế ăn khác đang có tại shop ạ.\n<Show random 5 cards>",
           "query_knowledge_base",
           "[]",
           "action_query_babe_kb"
          ],
          [
           "https://scontent.xx.fbcdn.net/v/t1.15752-9/93913289_670003413559736_245812939833999360_n.jpg?_nc_cat=105&_nc_sid=b96e70&_nc_ohc=IO8cH-ISUB4AX-tEq7O&_nc_ad=z-m&_nc_cid=0&_nc_zor=9&_nc_ht=scontent.xx&oh=70613ff7bf51b3e0c66e959468a12377&oe=5EC63EC6",
           "Bạn đang tìm kiếm thông tin gì ạ?",
           "send_link",
           "[\"url:['https://scontent.xx.fbcdn.net/v/t1.15752-9/93913289_670003413559736_245812939833999360_n.jpg?_nc_cat=105&_nc_sid=b96e70&_nc_ohc=IO8cH-ISUB4AX-tEq7O&_nc_ad=z-m&_nc_cid=0&_nc_zor=9&_nc_ht=scontent.xx&oh=70613ff7bf51b3e0c66e959468a12377&oe=5EC63EC6']\"]",
           "action_handle_send_link_only"
          ],
          [
           "Bạn có mẫu ntn ko\nCho mình xin thông số",
           "Dạ, có phải bạn muốn hỏi một trong các sản phẩm dưới đây không ạ?\n (Vui lòng ấn chọn 1 sản phẩm)\n\n<show 5 card sản phẩm>",
           "query_knowledge_base",
           "[]",
           "action_query_babe_kb"
          ],
          [
           "Chào shop",
           "Chào bạn, mình là trợ lý ảo của Shop Gấu & Bí Ngô, mình giúp gì được bạn ạ?",
           "greet",
           null,
           "utter_greet"
          ],
          [
           "Hiện bên mình có những mẫu thú nhún nào",
           "Sản phẩm Thú nhún Toys House hiện có giá 239.000 VNĐ (Giá gốc: 275.000 VNĐ).\nMời bạn tham khảo sản phẩm tại đường link:\n<show card>",
           "query_knowledge_base",
           "['object_type:thu_nhun']",
           "action_query_babe_kb"
          ],
          [
           "Chào shop",
           "Chào bạn, mình là trợ lý ảo của Shop Gấu & Bí Ngô, mình giúp gì được bạn ạ?",
           "greet",
           null,
           "utter_greet"
          ],
          [
           "Hiện bên mình có những mẫu thú nhún nào",
           "Sản phẩm Thú nhún hiện shop đang có các sản phẩm sau ạ:\n<show card các sản phẩm object type thu_nhun>",
           "query_knowledge_base",
           "['object_type:thu_nhun']",
           "action_query_babe_kb"
          ],
          [
           "ok shop",
           "Vâng ạ!",
           "agree",
           null,
           "utter_agree"
          ],
          [
           "Ấy ơi mấy thứ này nhà ấy bnhieu\nhttps://scontent.xx.fbcdn.net/v/t1.15752-9/93831201_1146889219003227_7546191276316557312_n.jpg?_nc_cat=105&_nc_sid=b96e70&_nc_ohc=tLpSsYOv5b0AX-UBvhh&_nc_ad=z-m&_nc_cid=0&_nc_zor=9&_nc_ht=scontent.xx&oh=af8d419a2e841c371c922be98a8025dc&oe=5EC4E7BA\nhttps://scontent.xx.fbcdn.net/v/t1.15752-9/94143660_227716808643426_4665045218939109376_n.jpg?_nc_cat=105&_nc_sid=b96e70&_nc_ohc=7GeN0-9CL-AAX9yVHBg&_nc_ad=z-m&_nc_cid=0&_nc_zor=9&_nc_ht=scontent.xx&oh=42ac8090663a783fb85c954a364fcf89&oe=5EC72B79",
           "Sản phẩm Bàn học, bàn chơi lắp ghép Lego cao cấp hiện đang có giá: 1.035.000 VNĐ (Giá gốc: 1.750.000 VNĐ)\n<Show card sản phẩm 1>\n\nSản phẩm Voi mẹ phun nước hiện đang có giá: 189.000 VNĐ (Giá gốc: 290.000 VNĐ).\n<Show card sản phẩm 2>",
           "query_knowledge_base",
           "[\"url:['https://scontent.xx.fbcdn.net/v/t1.15752-9/93831201_1146889219003227_7546191276316557312_n.jpg?_nc_cat=105&_nc_sid=b96e70&_nc_ohc=tLpSsYOv5b0AX-UBvhh&_nc_ad=z-m&_nc_cid=0&_nc_zor=9&_nc_ht=scontent.xx&oh=af8d419a2e841c371c922be98a8025dc&oe=5EC4E7BA', 'https://scontent.xx.fbcdn.net/v/t1.15752-9/94143660_227716808643426_4665045218939109376_n.jpg?_nc_cat=105&_nc_sid=b96e70&_nc_ohc=7GeN0-9CL-AAX9yVHBg&_nc_ad=z-m&_nc_cid=0&_nc_zor=9&_nc_ht=scontent.xx&oh=42ac8090663a783fb85c954a364fcf89&oe=5EC72B79']\", 'attribute:price']",
           "action_query_babe_kb"
          ],
          [
           "https://scontent.xx.fbcdn.net/v/t1.15752-9/94570707_234412474285774_6361456205918896128_n.jpg?_nc_cat=106&_nc_sid=b96e70&_nc_ohc=5aKOFHkW5MwAX8P-5Cg&_nc_ad=z-m&_nc_cid=0&_nc_zor=9&_nc_ht=scontent.xx&oh=ab98b5d71300c2fac627d044b67b9d44&oe=5EC423FB",
           "Bạn đang tìm kiếm thông tin gì ạ?",
           "send_link",
           "[\"url:['https://scontent.xx.fbcdn.net/v/t1.15752-9/94570707_234412474285774_6361456205918896128_n.jpg?_nc_cat=106&_nc_sid=b96e70&_nc_ohc=5aKOFHkW5MwAX8P-5Cg&_nc_ad=z-m&_nc_cid=0&_nc_zor=9&_nc_ht=scontent.xx&oh=ab98b5d71300c2fac627d044b67b9d44&oe=5EC423FB']\"]",
           "action_handle_send_link_only"
          ],
          [
           "Bn vậy\nhttps://scontent.xx.fbcdn.net/v/t1.15752-9/93558727_234412454285776_253028798423891968_n.jpg?_nc_cat=100&_nc_sid=b96e70&_nc_ohc=h9Y4J1MnK90AX-NWRjd&_nc_ad=z-m&_nc_cid=0&_nc_zor=9&_nc_ht=scontent.xx&oh=a2f97f6c39456cdc20c8536ecb51d23d&oe=5EC3BD1D",
           "Sản phẩm COMBO HOLLA FULL PHIÊN BẢN 2020 MẪU VƯƠNG MIỆN đang có giá 4.100.000 VNĐ (Giá gốc: 5.000.000 VNĐ).\n<Show card>",
           "query_knowledge_base",
           "[\"url:['https://scontent.xx.fbcdn.net/v/t1.15752-9/93558727_234412454285776_253028798423891968_n.jpg?_nc_cat=100&_nc_sid=b96e70&_nc_ohc=h9Y4J1MnK90AX-NWRjd&_nc_ad=z-m&_nc_cid=0&_nc_zor=9&_nc_ht=scontent.xx&oh=a2f97f6c39456cdc20c8536ecb51d23d&oe=5EC3BD1D']\", 'attribute:price']",
           "action_query_babe_kb"
          ],
          [
           "ok shop",
           "Vâng ạ!",
           "agree",
           null,
           "utter_agree"
          ],
          [
           "Bn vậy\nhttps://scontent.xx.fbcdn.net/v/t1.15752-9/93558727_234412454285776_253028798423891968_n.jpg?_nc_cat=100&_nc_sid=b96e70&_nc_ohc=h9Y4J1MnK90AX-NWRjd&_nc_ad=z-m&_nc_cid=0&_nc_zor=9&_nc_ht=scontent.xx&oh=a2f97f6c39456cdc20c8536ecb51d23d&oe=5EC3BD1D",
           "Dạ, có phải bạn muốn hỏi một trong các sản phẩm dưới đây không ạ?\n (Vui lòng ấn chọn 1 sản phẩm)\n\n<show 5 card sản phẩm>",
           "query_knowledge_base",
           "[\"url:['https://scontent.xx.fbcdn.net/v/t1.15752-9/93558727_234412454285776_253028798423891968_n.jpg?_nc_cat=100&_nc_sid=b96e70&_nc_ohc=h9Y4J1MnK90AX-NWRjd&_nc_ad=z-m&_nc_cid=0&_nc_zor=9&_nc_ht=scontent.xx&oh=a2f97f6c39456cdc20c8536ecb51d23d&oe=5EC3BD1D']\", 'attribute:price']",
           "action_query_babe_kb"
          ],
          [
           "https://scontent.xx.fbcdn.net/v/t1.15752-9/94561499_543060359946538_2595608200518565888_n.jpg?_nc_cat=107&_nc_sid=b96e70&_nc_ohc=bSXx0Sekm_MAX_8eoFD&_nc_ad=z-m&_nc_cid=0&_nc_zor=9&_nc_ht=scontent.xx&oh=8f58096d3d249b1a54c759ddeeeba9f9&oe=5EC43219\nBộ này giá tnao shop",
           "Dạ, có phải bạn muốn hỏi một trong các sản phẩm dưới đây không ạ?\n (Vui lòng ấn chọn 1 sản phẩm)...",
           "query_knowledge_base",
           "[\"url:['https://scontent.xx.fbcdn.net/v/t1.15752-9/94561499_543060359946538_2595608200518565888_n.jpg?_nc_cat=107&_nc_sid=b96e70&_nc_ohc=bSXx0Sekm_MAX_8eoFD&_nc_ad=z-m&_nc_cid=0&_nc_zor=9&_nc_ht=scontent.xx&oh=8f58096d3d249b1a54c759ddeeeba9f9&oe=5EC43219']\", 'mention:bộ này', 'attribute:price']",
           "action_query_babe_kb"
          ],
          [
           "/query_knowledge_base{\"url\": \"https://shopee.vn/product/36371562/5307497099\", \"product_id\": \"https://shopee.vn/product/36371562/5307497099\"}",
           "Sản phẩm GHẾ NHẢY JUMPEROO KONIG KIDS CHÍNH HÃNG hiện có giá 1.190.000 VNĐ (Giá gốc: 1.900.000 VNĐ).\nMời bạn tham khảo sản phẩm tại đường link:\n<show card>",
           "query_knowledge_base",
           "['url:https://shopee.vn/product/36371562/3210697307', 'product_id:https://shopee.vn/product/36371562/3210697307']",
           "action_query_babe_kb"
          ],
          [
           "https://scontent.xx.fbcdn.net/v/t1.15752-9/94561499_543060359946538_2595608200518565888_n.jpg?_nc_cat=107&_nc_sid=b96e70&_nc_ohc=bSXx0Sekm_MAX_8eoFD&_nc_ad=z-m&_nc_cid=0&_nc_zor=9&_nc_ht=scontent.xx&oh=8f58096d3d249b1a54c759ddeeeba9f9&oe=5EC43219\nBộ này giá tnao shop",
           "Sản phẩm GHẾ NHẢY JUMPEROO KONIG KIDS CHÍNH HÃNG hiện có giá 1.190.000 VNĐ (Giá gốc: 1.900.000 VNĐ).\nMời bạn tham khảo sản phẩm tại đường link:\n<show card>",
           "query_knowledge_base",
           "[\"url:['https://scontent.xx.fbcdn.net/v/t1.15752-9/94561499_543060359946538_2595608200518565888_n.jpg?_nc_cat=107&_nc_sid=b96e70&_nc_ohc=bSXx0Sekm_MAX_8eoFD&_nc_ad=z-m&_nc_cid=0&_nc_zor=9&_nc_ht=scontent.xx&oh=8f58096d3d249b1a54c759ddeeeba9f9&oe=5EC43219']\", 'mention:bộ này', 'attribute:price']",
           "action_query_babe_kb"
          ],
          [
           "ok shop",
           "Dạ vâng ạ!",
           "agree",
           null,
           "utter_agree"
          ],
          [
           "https://scontent.xx.fbcdn.net/v/t1.15752-9/94038207_687798988709671_7037596126890950656_n.jpg?_nc_cat=108&_nc_sid=b96e70&_nc_ohc=4GBQnpA0-ScAX83d8VU&_nc_ad=z-m&_nc_cid=0&_nc_zor=9&_nc_ht=scontent.xx&oh=8afd05be65873d63fd7e0f02576cdead&oe=5EC747E3\nShop oi\nHôm mình hỏi máy này\nCon k shop\nBe nha minh chuan bi an dặm roi",
           null,
           "handover_to_inbox",
           "[\"url:['https://scontent.xx.fbcdn.net/v/t1.15752-9/94038207_687798988709671_7037596126890950656_n.jpg?_nc_cat=108&_nc_sid=b96e70&_nc_ohc=4GBQnpA0-ScAX83d8VU&_nc_ad=z-m&_nc_cid=0&_nc_zor=9&_nc_ht=scontent.xx&oh=8afd05be65873d63fd7e0f02576cdead&oe=5EC747E3']\", 'object_type:may', 'mention:này']",
           "action_handover_to_inbox"
          ],
          [
           "https://scontent.xx.fbcdn.net/v/t1.15752-9/94038207_687798988709671_7037596126890950656_n.jpg?_nc_cat=108&_nc_sid=b96e70&_nc_ohc=4GBQnpA0-ScAX83d8VU&_nc_ad=z-m&_nc_cid=0&_nc_zor=9&_nc_ht=scontent.xx&oh=8afd05be65873d63fd7e0f02576cdead&oe=5EC747E3\nShop oi\nHôm mình hỏi máy này\nCon k shop\nBe nha minh chuan bi an dặm roi",
           "Sản phẩm MÁY XAY HẤP ĐA NĂNG NUTRIBABY PLUS 5IN1 (Pháp) hiện có giá: 3.979.000 VNĐ (Giá gốc: 4.890.000 VNĐ).\n<Show card>",
           "query_knowledge_base",
           "[\"url:['https://scontent.xx.fbcdn.net/v/t1.15752-9/94038207_687798988709671_7037596126890950656_n.jpg?_nc_cat=108&_nc_sid=b96e70&_nc_ohc=4GBQnpA0-ScAX83d8VU&_nc_ad=z-m&_nc_cid=0&_nc_zor=9&_nc_ht=scontent.xx&oh=8afd05be65873d63fd7e0f02576cdead&oe=5EC747E3']\", 'object_type:may', 'mention:này']",
           "action_query_babe_kb"
          ],
          [
           "ok shop",
           "Dạ vâng ạ!",
           "agree",
           null,
           "utter_agree"
          ],
          [
           "Chào shop",
           "Chào bạn, mình là trợ lý ảo của Shop Gấu & Bí Ngô, mình giúp gì được bạn ạ?",
           "greet",
           null,
           "utter_greet"
          ],
          [
           "https://scontent.xx.fbcdn.net/v/t1.15752-9/94316648_559560771648930_8586198601812672512_n.jpg?_nc_cat=104&_nc_sid=b96e70&_nc_ohc=nYoq7RRX3DMAX_k9-MH&_nc_ad=z-m&_nc_cid=0&_nc_zor=9&_nc_ht=scontent.xx&oh=3ab20e00abb8dea43ef7bf6865ff9dfe&oe=5EC6DAB7\nBộ này giá bnhieu vậy s",
           "\"Sản phẩm  COMBO HOLLA LIÊN HOÀN 2020 có giá 4.100.000 (Giá gốc: 5.000.000).\n<Show card>\"",
           "query_knowledge_base",
           "[\"url:['https://scontent.xx.fbcdn.net/v/t1.15752-9/94316648_559560771648930_8586198601812672512_n.jpg?_nc_cat=104&_nc_sid=b96e70&_nc_ohc=nYoq7RRX3DMAX_k9-MH&_nc_ad=z-m&_nc_cid=0&_nc_zor=9&_nc_ht=scontent.xx&oh=3ab20e00abb8dea43ef7bf6865ff9dfe&oe=5EC6DAB7']\", 'mention:bộ này', 'attribute:price']",
           "action_query_babe_kb"
          ],
          [
           "Chào shop",
           "Chào bạn, mình là trợ lý ảo của Shop Gấu & Bí Ngô, mình giúp gì được bạn ạ?",
           "greet",
           null,
           "utter_greet"
          ],
          [
           "https://scontent.xx.fbcdn.net/v/t1.15752-9/94316648_559560771648930_8586198601812672512_n.jpg?_nc_cat=104&_nc_sid=b96e70&_nc_ohc=nYoq7RRX3DMAX_k9-MH&_nc_ad=z-m&_nc_cid=0&_nc_zor=9&_nc_ht=scontent.xx&oh=3ab20e00abb8dea43ef7bf6865ff9dfe&oe=5EC6DAB7\nBộ này giá bnhieu vậy s",
           "Sản phẩm  COMBO HOLLA LIÊN HOÀN 2020 có giá 4.100.000 (Giá gốc: 5.000.000).\n<Show card>\"",
           "query_knowledge_base",
           "[\"url:['https://scontent.xx.fbcdn.net/v/t1.15752-9/94316648_559560771648930_8586198601812672512_n.jpg?_nc_cat=104&_nc_sid=b96e70&_nc_ohc=nYoq7RRX3DMAX_k9-MH&_nc_ad=z-m&_nc_cid=0&_nc_zor=9&_nc_ht=scontent.xx&oh=3ab20e00abb8dea43ef7bf6865ff9dfe&oe=5EC6DAB7']\", 'mention:bộ này', 'attribute:price']",
           "action_query_babe_kb"
          ],
          [
           "có những màu gì shop nhỉ?",
           "Sản phẩm COMBO HOLLA LIÊN HOÀN 2020 có màu: Xanh, Cam ạ",
           null,
           null,
           null
          ],
          [
           "ok, thank shop nhé",
           "Shop cảm ơn bạn ạ.",
           "thank",
           null,
           "utter_thank"
          ],
          [
           "mình muốn mua máy tiệt trùng uv\ntư vấn mình với",
           "\"Hiện tại sản phẩm Máy tiệt trùng  shop đang có những giá sau ạ:\n<500-1M> <1M-2M> <Tất cả giá>\"",
           "query_knowledge_base",
           "[]",
           "action_query_babe_kb"
          ],
          [
           "Ok m đặt trên shopee nha",
           "Dạ vâng ạ!",
           "just_inform",
           null,
           null
          ],
          [
           "Shop ship cho minh ve dịa chi nay cái nhé 04 dường hạc thành. Phường tân sơn. Thành phố thanh hóa 0968955567",
           null,
           "handover_to_inbox",
           "[]",
           "action_handover_to_inbox"
          ],
          [
           "Vâng ạ. Phí ship SG khoảng bao nhiêu ạ",
           "Shop Gấu và Bí ngô sẵn sàng phục vụ, gửi hàng trên toàn quốc. Chi tiết chính sách giao hàng bạn xem tại địa chỉ:\n<link chính sách bán hàng>",
           "ask_ship",
           "['attribute:price']",
           "utter_ask_ship"
          ],
          [
           "https://scontent.xx.fbcdn.net/v/t1.15752-9/94323038_1108008879555033_809681363421626368_n.jpg?_nc_cat=100&_nc_sid=b96e70&_nc_ohc=9Sd_i3IdtH4AX-pZB98&_nc_ad=z-m&_nc_cid=0&_nc_zor=9&_nc_ht=scontent.xx&oh=4332a43fb415a3a2f20ba28a8e52e1d7&oe=5EC48249",
           "Bạn đang tìm kiếm thông tin gì ạ?",
           "send_link",
           "[\"url:['https://scontent.xx.fbcdn.net/v/t1.15752-9/94323038_1108008879555033_809681363421626368_n.jpg?_nc_cat=100&_nc_sid=b96e70&_nc_ohc=9Sd_i3IdtH4AX-pZB98&_nc_ad=z-m&_nc_cid=0&_nc_zor=9&_nc_ht=scontent.xx&oh=4332a43fb415a3a2f20ba28a8e52e1d7&oe=5EC48249']\"]",
           "action_handle_send_link_only"
          ],
          [
           "E bị mất khóa ở bộ phận này\nBên mình có bán lẻ k ạ",
           null,
           "handover_to_inbox",
           "['mention:bộ phận này']",
           "action_handover_to_inbox"
          ],
          [
           "https://scontent.xx.fbcdn.net/v/t1.15752-9/94259393_892892491187558_7679210626836594688_n.jpg?_nc_cat=108&_nc_sid=b96e70&_nc_ohc=0rDEDeG8lA0AX-B0SQQ&_nc_ad=z-m&_nc_cid=0&_nc_zor=9&_nc_ht=scontent.xx&oh=a2ff5613ed551cd6dc4fe7cc6402ee5e&oe=5EC5CABA\nhttps://scontent.xx.fbcdn.net/v/t1.15752-9/94243630_1102036203477446_4753051873383022592_n.jpg?_nc_cat=106&_nc_sid=b96e70&_nc_ohc=vnRAbnMtAQUAX_ep3zB&_nc_ad=z-m&_nc_cid=0&_nc_zor=9&_nc_ht=scontent.xx&oh=4898f46c66c29418b7233a70414f0ed4&oe=5EC4CCFA\n2 này nhiu shop",
           "Sản phẩm Xe đẩy 2 chiều cao cấp VOVO 2019 đang có giá: 1.620.000 VNĐ (Giá gốc: 2.500.000 VNĐ).\nMời bạn xem chi tiết sản phẩm tại link:\n<Show card>",
           "query_knowledge_base",
           "[\"url:['https://scontent.xx.fbcdn.net/v/t1.15752-9/94259393_892892491187558_7679210626836594688_n.jpg?_nc_cat=108&_nc_sid=b96e70&_nc_ohc=0rDEDeG8lA0AX-B0SQQ&_nc_ad=z-m&_nc_cid=0&_nc_zor=9&_nc_ht=scontent.xx&oh=a2ff5613ed551cd6dc4fe7cc6402ee5e&oe=5EC5CABA', 'https://scontent.xx.fbcdn.net/v/t1.15752-9/94243630_1102036203477446_4753051873383022592_n.jpg?_nc_cat=106&_nc_sid=b96e70&_nc_ohc=vnRAbnMtAQUAX_ep3zB&_nc_ad=z-m&_nc_cid=0&_nc_zor=9&_nc_ht=scontent.xx&oh=4898f46c66c29418b7233a70414f0ed4&oe=5EC4CCFA']\", 'attribute:price']",
           "action_query_babe_kb"
          ],
          [
           "Xe đẩy này đang giảm giá phải k",
           "Sản phẩm Xe đẩy 2 chiều cao cấp VOVO 2019 đang có khuyến mại: 35% ạ",
           "query_knowledge_base",
           "['object_type:xe_day', 'attribute:promotion']",
           "action_query_babe_kb"
          ],
          [
           "https://scontent.xx.fbcdn.net/v/t1.15752-9/94259393_892892491187558_7679210626836594688_n.jpg?_nc_cat=108&_nc_sid=b96e70&_nc_ohc=0rDEDeG8lA0AX-B0SQQ&_nc_ad=z-m&_nc_cid=0&_nc_zor=9&_nc_ht=scontent.xx&oh=a2ff5613ed551cd6dc4fe7cc6402ee5e&oe=5EC5CABA\nhttps://scontent.xx.fbcdn.net/v/t1.15752-9/94243630_1102036203477446_4753051873383022592_n.jpg?_nc_cat=106&_nc_sid=b96e70&_nc_ohc=vnRAbnMtAQUAX_ep3zB&_nc_ad=z-m&_nc_cid=0&_nc_zor=9&_nc_ht=scontent.xx&oh=4898f46c66c29418b7233a70414f0ed4&oe=5EC4CCFA\n2 này nhiu shop",
           "Sản phẩm Xe đẩy 2 chiều cao cấp VOVO 2019 đang có giá: 1.620.000 VNĐ (Giá gốc: 2.500.000 VNĐ).\nMời bạn xem chi tiết sản phẩm tại link:\n<Show card>\n\nSản phẩm Thanh đồ chơi treo nôi, cũi, xe đẩy, ghế ngồi ô tô hình chim có nhạc Infantino (Mỹ) đang có giá: 279.000 VNĐ (Giá gốc: 399.000 VNĐ).\nSản phẩm Xe đẩy 2 chiều cao cấp VOVO 2019 đang có giá: 1.620.000 VNĐ (Giá gốc: 2.500.000 VNĐ).\r\nMời bạn xem chi tiết sản phẩm tại link:\r\n<Show card>",
           "query_knowledge_base",
           "[\"url:['https://scontent.xx.fbcdn.net/v/t1.15752-9/94259393_892892491187558_7679210626836594688_n.jpg?_nc_cat=108&_nc_sid=b96e70&_nc_ohc=0rDEDeG8lA0AX-B0SQQ&_nc_ad=z-m&_nc_cid=0&_nc_zor=9&_nc_ht=scontent.xx&oh=a2ff5613ed551cd6dc4fe7cc6402ee5e&oe=5EC5CABA', 'https://scontent.xx.fbcdn.net/v/t1.15752-9/94243630_1102036203477446_4753051873383022592_n.jpg?_nc_cat=106&_nc_sid=b96e70&_nc_ohc=vnRAbnMtAQUAX_ep3zB&_nc_ad=z-m&_nc_cid=0&_nc_zor=9&_nc_ht=scontent.xx&oh=4898f46c66c29418b7233a70414f0ed4&oe=5EC4CCFA']\", 'attribute:price']",
           "action_query_babe_kb"
          ],
          [
           "Xe đẩy này đang giảm giá phải k",
           "Sản phẩm Xe đẩy 2 chiều cao cấp VOVO 2019 đang có khuyến mại: 35% ạ",
           "query_knowledge_base",
           "['object_type:xe_day', 'attribute:promotion']",
           "action_query_babe_kb"
          ],
          [
           "https://scontent.xx.fbcdn.net/v/t1.15752-9/94258066_3106456589367061_8404234375218069504_n.jpg?_nc_cat=108&_nc_sid=b96e70&_nc_ohc=SapTrP0sYnQAX8HDeMB&_nc_ad=z-m&_nc_cid=0&_nc_zor=9&_nc_ht=scontent.xx&oh=888da228f92bb60b1197f0943fe83fe6&oe=5EC73344",
           "Bạn đang tìm kiếm thông tin gì ạ?",
           "send_link",
           "[\"url:['https://scontent.xx.fbcdn.net/v/t1.15752-9/94258066_3106456589367061_8404234375218069504_n.jpg?_nc_cat=108&_nc_sid=b96e70&_nc_ohc=SapTrP0sYnQAX8HDeMB&_nc_ad=z-m&_nc_cid=0&_nc_zor=9&_nc_ht=scontent.xx&oh=888da228f92bb60b1197f0943fe83fe6&oe=5EC73344']\"]",
           "action_handle_send_link_only"
          ],
          [
           "Mình có cầu trượt này của hola k c",
           "Sản phẩm Cầu trượt xích đu Hola hải cẩu 2020 đang có giá: 1.990.000 VNĐ (Giá gốc: 3.250.000 VNĐ).\nMời bạn xem chi tiết sản phẩm tại link:\n<Show card>",
           "query_knowledge_base",
           "['object_type:cau_truot', 'mention:này', 'brand:hola']",
           "action_query_babe_kb"
          ],
          [
           "https://scontent.xx.fbcdn.net/v/t1.15752-9/94258066_3106456589367061_8404234375218069504_n.jpg?_nc_cat=108&_nc_sid=b96e70&_nc_ohc=SapTrP0sYnQAX8HDeMB&_nc_ad=z-m&_nc_cid=0&_nc_zor=9&_nc_ht=scontent.xx&oh=888da228f92bb60b1197f0943fe83fe6&oe=5EC73344",
           "Bạn đang tìm kiếm thông tin gì ạ?",
           "send_link",
           "[\"url:['https://scontent.xx.fbcdn.net/v/t1.15752-9/94258066_3106456589367061_8404234375218069504_n.jpg?_nc_cat=108&_nc_sid=b96e70&_nc_ohc=SapTrP0sYnQAX8HDeMB&_nc_ad=z-m&_nc_cid=0&_nc_zor=9&_nc_ht=scontent.xx&oh=888da228f92bb60b1197f0943fe83fe6&oe=5EC73344']\"]",
           "action_handle_send_link_only"
          ],
          [
           "Mình có cầu trượt này của hola k c",
           "Sản phẩm Cầu trượt xích đu Hola hải cẩu 2020 shop đang tạm hết hàng. Bạn tham khảo các sản phẩm Cầu trượt, Xích du khác đang có ở shop nhé!",
           "query_knowledge_base",
           "['object_type:cau_truot', 'mention:này', 'brand:hola']",
           "action_query_babe_kb"
          ],
          [
           "Khi nào có hàng lại ạ",
           null,
           "handover_to_inbox",
           "[]",
           "action_handover_to_inbox"
          ],
          [
           "Bạn ơi",
           "Chào bạn, mình là trợ lý ảo của Shop Gấu & Bí Ngô, mình giúp gì được bạn ạ?",
           "greet",
           "[]",
           "utter_greet"
          ],
          [
           "Tiki giao hàng chậm quá mình hủy đơn rồi",
           null,
           "handover_to_inbox",
           "[]",
           "action_handover_to_inbox"
          ],
          [
           "B ơi\nhttps://scontent.xx.fbcdn.net/v/t1.15752-9/94080363_366864304231193_6923640899247276032_n.jpg?_nc_cat=104&_nc_sid=b96e70&_nc_oc=AQnYjDUlyL9X-imLwYXvZ0dbzfwZzzYVzYigef-3OxNFH_DMmIWXM1cLs_yT6agKPNKI95IJz1OCpFOOphtU-1eO&_nc_ad=z-m&_nc_cid=0&_nc_zor=9&_nc_ht=scontent.xx&oh=5dba552f7208a17a094b507bc0e2384f&oe=5EC58419\nMình còn bộ này ko",
           "Dạ, có phải bạn muốn hỏi một trong các sản phẩm dưới đây không ạ?\n (Vui lòng ấn chọn 1 sản phẩm)...",
           "query_knowledge_base",
           "[\"url:['https://scontent.xx.fbcdn.net/v/t1.15752-9/94080363_366864304231193_6923640899247276032_n.jpg?_nc_cat=104&_nc_sid=b96e70&_nc_oc=AQnYjDUlyL9X-imLwYXvZ0dbzfwZzzYVzYigef-3OxNFH_DMmIWXM1cLs_yT6agKPNKI95IJz1OCpFOOphtU-1eO&_nc_ad=z-m&_nc_cid=0&_nc_zor=9&_nc_ht=scontent.xx&oh=5dba552f7208a17a094b507bc0e2384f&oe=5EC58419']\", 'mention:bộ này']",
           "action_query_babe_kb"
          ],
          [
           "/query_knowledge_base{\"url\": \"https://shopee.vn/product/36371562/3220636191\", \"product_id\": \"https://shopee.vn/product/36371562/3220636191\"}",
           "Sản phẩm  Bộ đồ chơi đàn Piano kết hợp 10 nhạc cụ BKIDS 003398  hiện shop đang có giá: *880,000 VND (giá gốc 1,200,000 VND)*.\nBạn tham khảo các sản phẩm sau nhé ạ:",
           "query_knowledge_base",
           "['url:https://shopee.vn/product/36371562/3220636191', 'product_id:https://shopee.vn/product/36371562/3220636191']",
           "action_query_babe_kb"
          ],
          [
           "B ơi\nhttps://scontent.xx.fbcdn.net/v/t1.15752-9/94080363_366864304231193_6923640899247276032_n.jpg?_nc_cat=104&_nc_sid=b96e70&_nc_oc=AQnYjDUlyL9X-imLwYXvZ0dbzfwZzzYVzYigef-3OxNFH_DMmIWXM1cLs_yT6agKPNKI95IJz1OCpFOOphtU-1eO&_nc_ad=z-m&_nc_cid=0&_nc_zor=9&_nc_ht=scontent.xx&oh=5dba552f7208a17a094b507bc0e2384f&oe=5EC58419\nMình còn bộ này ko",
           "Sản phẩm  Bộ đồ chơi đàn Piano kết hợp 10 nhạc cụ BKIDS 003398  hiện shop đang có giá: *880,000 VND (giá gốc 1,200,000 VND)*.\nBạn tham khảo các sản phẩm sau nhé ạ:",
           "query_knowledge_base",
           "[\"url:['https://scontent.xx.fbcdn.net/v/t1.15752-9/94080363_366864304231193_6923640899247276032_n.jpg?_nc_cat=104&_nc_sid=b96e70&_nc_oc=AQnYjDUlyL9X-imLwYXvZ0dbzfwZzzYVzYigef-3OxNFH_DMmIWXM1cLs_yT6agKPNKI95IJz1OCpFOOphtU-1eO&_nc_ad=z-m&_nc_cid=0&_nc_zor=9&_nc_ht=scontent.xx&oh=5dba552f7208a17a094b507bc0e2384f&oe=5EC58419']\", 'mention:bộ này']",
           "action_query_babe_kb"
          ],
          [
           "Còn xe màu xanh k bạn?",
           "Sản phẩm bạn đang tìm có phải là?",
           "query_knowledge_base",
           "['color:màu xanh','object_type:xe']",
           "action_query_babe_kb"
          ],
          [
           "https://scontent.xx.fbcdn.net/v/t1.15752-9/94102000_537890583596250_3175827341263765504_n.jpg?_nc_cat=101&_nc_sid=b96e70&_nc_ohc=5935ns4FSwQAX-_WOWm&_nc_ad=z-m&_nc_cid=0&_nc_zor=9&_nc_ht=scontent.xx&oh=15177bd0d58de1d81f7183e9a391dc86&oe=5EC3949F",
           "Dạ, có phải bạn muốn hỏi một trong các sản phẩm dưới đây không ạ?\n (Vui lòng ấn chọn 1 sản phẩm)...",
           "send_link",
           "[\"url:['https://scontent.xx.fbcdn.net/v/t1.15752-9/94102000_537890583596250_3175827341263765504_n.jpg?_nc_cat=101&_nc_sid=b96e70&_nc_ohc=5935ns4FSwQAX-_WOWm&_nc_ad=z-m&_nc_cid=0&_nc_zor=9&_nc_ht=scontent.xx&oh=15177bd0d58de1d81f7183e9a391dc86&oe=5EC3949F']\"]",
           "action_handle_send_link_only"
          ],
          [
           "/disagree{\"object_type\": null}",
           "Bạn vui lòng mô tả rõ mong muốn của bạn hoặc chat với nhân viên tư vấn nhé!",
           "disagree",
           "['object_type:None']",
           "utter_disagree"
          ],
          [
           "Mình gửi ảnh ở trên bạn ơi\nXem tin nhắn đi",
           null,
           "handover_to_inbox",
           "['attribute:image']",
           "action_handover_to_inbox"
          ],
          [
           "Còn xe màu xanh k bạn?",
           "Sản phẩm bạn đang tìm có phải là?",
           "query_knowledge_base",
           "['color:màu xanh','object_type:xe']",
           "action_query_babe_kb"
          ],
          [
           "https://scontent.xx.fbcdn.net/v/t1.15752-9/94102000_537890583596250_3175827341263765504_n.jpg?_nc_cat=101&_nc_sid=b96e70&_nc_ohc=5935ns4FSwQAX-_WOWm&_nc_ad=z-m&_nc_cid=0&_nc_zor=9&_nc_ht=scontent.xx&oh=15177bd0d58de1d81f7183e9a391dc86&oe=5EC3949F",
           "Dạ, có phải bạn muốn hỏi một trong các sản phẩm dưới đây không ạ?\n (Vui lòng ấn chọn 1 sản phẩm)...",
           "send_link",
           "[\"url:['https://scontent.xx.fbcdn.net/v/t1.15752-9/94102000_537890583596250_3175827341263765504_n.jpg?_nc_cat=101&_nc_sid=b96e70&_nc_ohc=5935ns4FSwQAX-_WOWm&_nc_ad=z-m&_nc_cid=0&_nc_zor=9&_nc_ht=scontent.xx&oh=15177bd0d58de1d81f7183e9a391dc86&oe=5EC3949F']\"]",
           "action_handle_send_link_only"
          ],
          [
           "/query_knowledge_base{\"url\": \"https://www.facebook.com/shopgauvabingo/posts/2445777899065867\", \"product_id\": \"https://www.facebook.com/shopgauvabingo/posts/2445777899065867\"}",
           "Sản phẩm Xe chòi chân kiêm xe lắc cao cấp có nhạc Holla hiện shop đang có giá: *790,000 VND (giá gốc 1,200,000 VND)*.\nBạn tham khảo các sản phẩm sau nhé ạ:",
           "query_knowledge_base",
           null,
           "action_query_babe_kb"
          ],
          [
           "thank shop",
           "Dạ, cảm ơn bạn!",
           "thank",
           null,
           "utter_thank"
          ],
          [
           "Còn xe màu xanh k bạn?",
           "Sản phẩm bạn đang tìm có phải là?",
           "query_knowledge_base",
           "['color:màu xanh','object_type:xe']",
           "action_query_babe_kb"
          ],
          [
           "https://scontent.xx.fbcdn.net/v/t1.15752-9/94102000_537890583596250_3175827341263765504_n.jpg?_nc_cat=101&_nc_sid=b96e70&_nc_ohc=5935ns4FSwQAX-_WOWm&_nc_ad=z-m&_nc_cid=0&_nc_zor=9&_nc_ht=scontent.xx&oh=15177bd0d58de1d81f7183e9a391dc86&oe=5EC3949F",
           "Sản phẩm Xe chòi chân kiêm xe lắc cao cấp có nhạc Holla hiện shop đang có giá: *790,000 VND (giá gốc 1,200,000 VND)*.\nBạn tham khảo các sản phẩm sau nhé ạ:",
           "send_link",
           "[\"url:['https://scontent.xx.fbcdn.net/v/t1.15752-9/94102000_537890583596250_3175827341263765504_n.jpg?_nc_cat=101&_nc_sid=b96e70&_nc_ohc=5935ns4FSwQAX-_WOWm&_nc_ad=z-m&_nc_cid=0&_nc_zor=9&_nc_ht=scontent.xx&oh=15177bd0d58de1d81f7183e9a391dc86&oe=5EC3949F']\"]",
           "action_handle_send_link_only"
          ],
          [
           "thank shop",
           "Dạ, cảm ơn bạn!",
           "thank",
           null,
           "utter_thank"
          ],
          [
           "Còn xe màu xanh k bạn?",
           "Sản phẩm bạn đang tìm có phải là?",
           "query_knowledge_base",
           "['color:màu xanh','object_type:xe']",
           "action_query_babe_kb"
          ],
          [
           "https://scontent.xx.fbcdn.net/v/t1.15752-9/94102000_537890583596250_3175827341263765504_n.jpg?_nc_cat=101&_nc_sid=b96e70&_nc_ohc=5935ns4FSwQAX-_WOWm&_nc_ad=z-m&_nc_cid=0&_nc_zor=9&_nc_ht=scontent.xx&oh=15177bd0d58de1d81f7183e9a391dc86&oe=5EC3949F",
           "Sản phẩm Xe chòi chân kiêm xe lắc cao cấp có nhạc Holla hiện shop còn hàng và đang có giá: *790,000 VND (giá gốc 1,200,000 VND)*.\r\nBạn tham khảo các sản phẩm sau nhé ạ:",
           "send_link",
           "[\"url:['https://scontent.xx.fbcdn.net/v/t1.15752-9/94102000_537890583596250_3175827341263765504_n.jpg?_nc_cat=101&_nc_sid=b96e70&_nc_ohc=5935ns4FSwQAX-_WOWm&_nc_ad=z-m&_nc_cid=0&_nc_zor=9&_nc_ht=scontent.xx&oh=15177bd0d58de1d81f7183e9a391dc86&oe=5EC3949F']\"]",
           "action_handle_send_link_only"
          ],
          [
           "thank shop",
           "Dạ, cảm ơn bạn!",
           "thank",
           null,
           "utter_thank"
          ],
          [
           "Còn xe màu xanh k bạn?",
           "Sản phẩm bạn đang tìm có phải là?",
           "query_knowledge_base",
           "['color:màu xanh','object_type:xe']",
           "action_query_babe_kb"
          ],
          [
           "https://scontent.xx.fbcdn.net/v/t1.15752-9/94102000_537890583596250_3175827341263765504_n.jpg?_nc_cat=101&_nc_sid=b96e70&_nc_ohc=5935ns4FSwQAX-_WOWm&_nc_ad=z-m&_nc_cid=0&_nc_zor=9&_nc_ht=scontent.xx&oh=15177bd0d58de1d81f7183e9a391dc86&oe=5EC3949F",
           "Sản phẩm Xe chòi chân kiêm xe lắc cao cấp có nhạc Holla hiện shop hết hàng ạ\nBạn tham khảo các sản phẩm khác nhé ạ:",
           "send_link",
           "[\"url:['https://scontent.xx.fbcdn.net/v/t1.15752-9/94102000_537890583596250_3175827341263765504_n.jpg?_nc_cat=101&_nc_sid=b96e70&_nc_ohc=5935ns4FSwQAX-_WOWm&_nc_ad=z-m&_nc_cid=0&_nc_zor=9&_nc_ht=scontent.xx&oh=15177bd0d58de1d81f7183e9a391dc86&oe=5EC3949F']\"]",
           "action_handle_send_link_only"
          ],
          [
           "thank shop",
           "Dạ, cảm ơn bạn!",
           "thank",
           null,
           "utter_thank"
          ],
          [
           "https://scontent.xx.fbcdn.net/v/t1.15752-9/93421060_694074408092001_3418794938278608896_n.jpg?_nc_cat=104&_nc_sid=b96e70&_nc_ohc=y8JBwsvgIzsAX8KRRtS&_nc_ad=z-m&_nc_cid=0&_nc_zor=9&_nc_ht=scontent.xx&oh=4b820252ad86bea6ddb057ddf4a2578f&oe=5EC53BA3\nBn shop oi",
           "Sản phẩm Xe chòi chân kiêm xe lắc cao cấp có nhạc Holla hiện shop đang có giá: *790,000 VND (giá gốc 1,200,000 VND)*.\nBạn tham khảo các sản phẩm sau nhé ạ:",
           "query_knowledge_base",
           "[\"url:['https://scontent.xx.fbcdn.net/v/t1.15752-9/93421060_694074408092001_3418794938278608896_n.jpg?_nc_cat=104&_nc_sid=b96e70&_nc_ohc=y8JBwsvgIzsAX8KRRtS&_nc_ad=z-m&_nc_cid=0&_nc_zor=9&_nc_ht=scontent.xx&oh=4b820252ad86bea6ddb057ddf4a2578f&oe=5EC53BA3']\", 'attribute:price']",
           "action_query_babe_kb"
          ],
          [
           "https://scontent.xx.fbcdn.net/v/t1.15752-9/93839074_222006799220932_6191900088302829568_n.jpg?_nc_cat=100&_nc_sid=b96e70&_nc_ohc=2EZhPQDsst4AX--rHnR&_nc_ad=z-m&_nc_cid=0&_nc_zor=9&_nc_ht=scontent.xx&oh=b6a830ddbc618e8a4c318b6dab622f03&oe=5EC45074",
           "Bạn đang tìm kiếm thông tin gì ạ?",
           "send_link",
           "[\"url:['https://scontent.xx.fbcdn.net/v/t1.15752-9/93839074_222006799220932_6191900088302829568_n.jpg?_nc_cat=100&_nc_sid=b96e70&_nc_ohc=2EZhPQDsst4AX--rHnR&_nc_ad=z-m&_nc_cid=0&_nc_zor=9&_nc_ht=scontent.xx&oh=b6a830ddbc618e8a4c318b6dab622f03&oe=5EC45074']\"]",
           "action_query_babe_kb"
          ],
          [
           "xe này bao nhiêu ạ",
           "Sản phẩm Xe NADLE 3 in 1: Xe đẩy - Chòi chân - Xe đạp hiện shop đang có giá: *1,550,000 VND (giá gốc 2,650,000 VND)*.\nBạn tham khảo các sản phẩm sau nhé ạ:",
           "query_knowledge_base",
           "['attribute:price','object_type:xe','mention:này']",
           "action_query_babe_kb"
          ],
          [
           "ok shop",
           "Dạ,vâng",
           "agree",
           null,
           "utter_agree"
          ],
          [
           "https://scontent.xx.fbcdn.net/v/t1.15752-9/93421060_694074408092001_3418794938278608896_n.jpg?_nc_cat=104&_nc_sid=b96e70&_nc_ohc=y8JBwsvgIzsAX8KRRtS&_nc_ad=z-m&_nc_cid=0&_nc_zor=9&_nc_ht=scontent.xx&oh=4b820252ad86bea6ddb057ddf4a2578f&oe=5EC53BA3\nBn shop oi",
           "Sản phẩm Xe chòi chân kiêm xe lắc cao cấp có nhạc Holla hiện shop đang có giá: *790,000 VND (giá gốc 1,200,000 VND)*.\nBạn tham khảo các sản phẩm sau nhé ạ:",
           "query_knowledge_base",
           "[\"url:['https://scontent.xx.fbcdn.net/v/t1.15752-9/93421060_694074408092001_3418794938278608896_n.jpg?_nc_cat=104&_nc_sid=b96e70&_nc_ohc=y8JBwsvgIzsAX8KRRtS&_nc_ad=z-m&_nc_cid=0&_nc_zor=9&_nc_ht=scontent.xx&oh=4b820252ad86bea6ddb057ddf4a2578f&oe=5EC53BA3']\", 'attribute:price']",
           "action_query_babe_kb"
          ],
          [
           "https://scontent.xx.fbcdn.net/v/t1.15752-9/93839074_222006799220932_6191900088302829568_n.jpg?_nc_cat=100&_nc_sid=b96e70&_nc_ohc=2EZhPQDsst4AX--rHnR&_nc_ad=z-m&_nc_cid=0&_nc_zor=9&_nc_ht=scontent.xx&oh=b6a830ddbc618e8a4c318b6dab622f03&oe=5EC45074",
           "Sản phẩm Xe NADLE 3 in 1: Xe đẩy - Chòi chân - Xe đạp hiện shop đang có giá: *1,550,000 VND (giá gốc 2,650,000 VND)*.\r\nBạn tham khảo các sản phẩm sau nhé ạ:",
           "send_link",
           "[\"url:['https://scontent.xx.fbcdn.net/v/t1.15752-9/93839074_222006799220932_6191900088302829568_n.jpg?_nc_cat=100&_nc_sid=b96e70&_nc_ohc=2EZhPQDsst4AX--rHnR&_nc_ad=z-m&_nc_cid=0&_nc_zor=9&_nc_ht=scontent.xx&oh=b6a830ddbc618e8a4c318b6dab622f03&oe=5EC45074']\"]",
           "action_query_babe_kb"
          ],
          [
           "ok shop",
           "Dạ,vâng",
           "agree",
           null,
           "utter_agree"
          ],
          [
           "https://scontent.xx.fbcdn.net/v/t1.15752-9/94133156_4309719482387540_6121986675083051008_n.jpg?_nc_cat=104&_nc_sid=b96e70&_nc_ohc=2eJCKINpBwUAX-7rsiy&_nc_ad=z-m&_nc_cid=0&_nc_zor=9&_nc_ht=scontent.xx&oh=c69b59c6321d1ca5600690f45432f74f&oe=5EC4161F\nXe lắc bn b oi",
           "Dạ, có phải bạn muốn hỏi một trong các sản phẩm dưới đây không ạ?\n (Vui lòng ấn chọn 1 sản phẩm)...",
           "query_knowledge_base",
           "[\"url:['https://scontent.xx.fbcdn.net/v/t1.15752-9/94133156_4309719482387540_6121986675083051008_n.jpg?_nc_cat=104&_nc_sid=b96e70&_nc_ohc=2eJCKINpBwUAX-7rsiy&_nc_ad=z-m&_nc_cid=0&_nc_zor=9&_nc_ht=scontent.xx&oh=c69b59c6321d1ca5600690f45432f74f&oe=5EC4161F']\",'object_type:xe', 'attribute:price']",
           "action_query_babe_kb"
          ],
          [
           "/disagree{\"object_type\": null}",
           "Bạn vui lòng mô tả rõ mong muốn của bạn hoặc chat với nhân viên tư vấn nhé!",
           "disagree",
           "['object_type:None']",
           "utter_disagree"
          ],
          [
           "/connect_employee",
           null,
           "connect_employee",
           null,
           "action_handover_to_inbox"
          ],
          [
           "https://scontent.xx.fbcdn.net/v/t1.15752-9/94133156_4309719482387540_6121986675083051008_n.jpg?_nc_cat=104&_nc_sid=b96e70&_nc_ohc=2eJCKINpBwUAX-7rsiy&_nc_ad=z-m&_nc_cid=0&_nc_zor=9&_nc_ht=scontent.xx&oh=c69b59c6321d1ca5600690f45432f74f&oe=5EC4161F\nXe lắc bn b oi",
           "Sản phẩm Xe chòi chân kiêm xe lắc cao cấp có nhạc Holla hiện shop đang có giá: *790,000 VND (giá gốc 1,200,000 VND)*.\nBạn tham khảo các sản phẩm sau nhé ạ:",
           "query_knowledge_base",
           "[\"url:['https://scontent.xx.fbcdn.net/v/t1.15752-9/94133156_4309719482387540_6121986675083051008_n.jpg?_nc_cat=104&_nc_sid=b96e70&_nc_ohc=2eJCKINpBwUAX-7rsiy&_nc_ad=z-m&_nc_cid=0&_nc_zor=9&_nc_ht=scontent.xx&oh=c69b59c6321d1ca5600690f45432f74f&oe=5EC4161F']\",'object_type:xe', 'attribute:price']",
           "action_query_babe_kb"
          ],
          [
           "xe lắc Holla có trên shopee chưa bạn",
           "Dạ mời bạn tham khảo sản phẩm Xe chòi chân kiêm xe lắc cao cấp có nhạc Holla  hiện có tại shop nhé!",
           "query_knowledge_base",
           "['object_type:xe', 'attribute:link','brand:Holla']",
           "action_query_babe_kb"
          ],
          [
           "https://scontent.xx.fbcdn.net/v/t1.15752-9/93376022_520238862196723_3877605347954786304_n.jpg?_nc_cat=103&_nc_sid=b96e70&_nc_ohc=BlxsEveDdc0AX_K0-TM&_nc_ad=z-m&_nc_cid=0&_nc_zor=9&_nc_ht=scontent.xx&oh=1f1b8bc5316b8af5ac78b77e0228670c&oe=5EC41FAA\nXe bn s",
           "Dạ, có phải bạn muốn hỏi một trong các sản phẩm dưới đây không ạ?\n (Vui lòng ấn chọn 1 sản phẩm)...",
           "query_knowledge_base",
           "[\"url:['https://scontent.xx.fbcdn.net/v/t1.15752-9/93376022_520238862196723_3877605347954786304_n.jpg?_nc_cat=103&_nc_sid=b96e70&_nc_ohc=BlxsEveDdc0AX_K0-TM&_nc_ad=z-m&_nc_cid=0&_nc_zor=9&_nc_ht=scontent.xx&oh=1f1b8bc5316b8af5ac78b77e0228670c&oe=5EC41FAA']\", 'attribute:price']",
           "action_query_babe_kb"
          ],
          [
           "/query_knowledge_base{\"url\": \"https://www.facebook.com/shopgauvabingo/posts/2445777899065867\", \"product_id\": \"https://www.facebook.com/shopgauvabingo/posts/2445777899065867\"}",
           "Sản phẩm Xe chòi chân kiêm xe lắc cao cấp có nhạc Holla hiện shop đang có giá: *790,000 VND (giá gốc 1,200,000 VND)*.\nBạn tham khảo các sản phẩm sau nhé ạ:",
           "query_knowledge_base",
           null,
           "action_query_babe_kb"
          ],
          [
           "https://scontent.xx.fbcdn.net/v/t1.15752-9/94429646_846745625805486_6674380384869810176_n.jpg?_nc_cat=107&_nc_sid=b96e70&_nc_ohc=9qsNXrDTRA8AX-ZKlOL&_nc_ad=z-m&_nc_cid=0&_nc_zor=9&_nc_ht=scontent.xx&oh=dc51afecc770f419605e40f9847c2d5a&oe=5EC3D2A7",
           "Sản phẩm  Cầu trượt xích đu Hola hải cẩu 2020  hiện shop đang có giá: *1,982,500 VND (giá gốc 3,250,000 VND)*.\nBạn tham khảo các sản phẩm sau nhé ạ:",
           "send_link",
           "[\"url:['https://scontent.xx.fbcdn.net/v/t1.15752-9/94429646_846745625805486_6674380384869810176_n.jpg?_nc_cat=107&_nc_sid=b96e70&_nc_ohc=9qsNXrDTRA8AX-ZKlOL&_nc_ad=z-m&_nc_cid=0&_nc_zor=9&_nc_ht=scontent.xx&oh=dc51afecc770f419605e40f9847c2d5a&oe=5EC3D2A7']\"]",
           "action_handle_send_link_only"
          ],
          [
           "https://scontent.xx.fbcdn.net/v/t1.15752-9/93376022_520238862196723_3877605347954786304_n.jpg?_nc_cat=103&_nc_sid=b96e70&_nc_ohc=BlxsEveDdc0AX_K0-TM&_nc_ad=z-m&_nc_cid=0&_nc_zor=9&_nc_ht=scontent.xx&oh=1f1b8bc5316b8af5ac78b77e0228670c&oe=5EC41FAA\nXe bn s",
           "Sản phẩm Xe chòi chân kiêm xe lắc cao cấp có nhạc Holla hiện shop đang có giá: *790,000 VND (giá gốc 1,200,000 VND)*.\nBạn tham khảo các sản phẩm sau nhé ạ:",
           "query_knowledge_base",
           "[\"url:['https://scontent.xx.fbcdn.net/v/t1.15752-9/93376022_520238862196723_3877605347954786304_n.jpg?_nc_cat=103&_nc_sid=b96e70&_nc_ohc=BlxsEveDdc0AX_K0-TM&_nc_ad=z-m&_nc_cid=0&_nc_zor=9&_nc_ht=scontent.xx&oh=1f1b8bc5316b8af5ac78b77e0228670c&oe=5EC41FAA']\", 'attribute:price']",
           "action_query_babe_kb"
          ],
          [
           "https://scontent.xx.fbcdn.net/v/t1.15752-9/94429646_846745625805486_6674380384869810176_n.jpg?_nc_cat=107&_nc_sid=b96e70&_nc_ohc=9qsNXrDTRA8AX-ZKlOL&_nc_ad=z-m&_nc_cid=0&_nc_zor=9&_nc_ht=scontent.xx&oh=dc51afecc770f419605e40f9847c2d5a&oe=5EC3D2A7",
           "Sản phẩm  Cầu trượt xích đu Hola hải cẩu 2020  hiện shop đang có giá: *1,982,500 VND (giá gốc 3,250,000 VND)*.\nBạn tham khảo các sản phẩm sau nhé ạ:",
           "send_link",
           "[\"url:['https://scontent.xx.fbcdn.net/v/t1.15752-9/94429646_846745625805486_6674380384869810176_n.jpg?_nc_cat=107&_nc_sid=b96e70&_nc_ohc=9qsNXrDTRA8AX-ZKlOL&_nc_ad=z-m&_nc_cid=0&_nc_zor=9&_nc_ht=scontent.xx&oh=dc51afecc770f419605e40f9847c2d5a&oe=5EC3D2A7']\"]",
           "action_handle_send_link_only"
          ],
          [
           "ok shop",
           "Dạ,vâng",
           "agree",
           null,
           "utter_agree"
          ],
          [
           "https://scontent.xx.fbcdn.net/v/t1.15752-9/93840235_671253940372699_6078193114063831040_n.jpg?_nc_cat=102&_nc_sid=b96e70&_nc_ohc=D5YUEvNDHT0AX9Y6mFp&_nc_ad=z-m&_nc_cid=0&_nc_zor=9&_nc_ht=scontent.xx&oh=8e687d198cf4874f887a6dacdfc1c955&oe=5EC2A850\nCho mình giá nhé",
           "Dạ, có phải bạn muốn hỏi một trong các sản phẩm dưới đây không ạ?\n (Vui lòng ấn chọn 1 sản phẩm)...",
           "query_knowledge_base",
           "[\"url:['https://scontent.xx.fbcdn.net/v/t1.15752-9/93840235_671253940372699_6078193114063831040_n.jpg?_nc_cat=102&_nc_sid=b96e70&_nc_ohc=D5YUEvNDHT0AX9Y6mFp&_nc_ad=z-m&_nc_cid=0&_nc_zor=9&_nc_ht=scontent.xx&oh=8e687d198cf4874f887a6dacdfc1c955&oe=5EC2A850']\", 'attribute:price']",
           "action_query_babe_kb"
          ],
          [
           "/disagree{\"object_type\": null}",
           "Bạn vui lòng mô tả rõ mong muốn của bạn hoặc chat với nhân viên tư vấn nhé!",
           "disagree",
           "['object_type:None']",
           "utter_disagree"
          ],
          [
           "/connect_employee",
           null,
           "connect_employee",
           null,
           "action_handover_to_inbox"
          ],
          [
           "https://scontent.xx.fbcdn.net/v/t1.15752-9/93840235_671253940372699_6078193114063831040_n.jpg?_nc_cat=102&_nc_sid=b96e70&_nc_ohc=D5YUEvNDHT0AX9Y6mFp&_nc_ad=z-m&_nc_cid=0&_nc_zor=9&_nc_ht=scontent.xx&oh=8e687d198cf4874f887a6dacdfc1c955&oe=5EC2A850\nCho mình giá nhé",
           "Sản phẩm Xe chòi chân kiêm xe lắc cao cấp có nhạc Holla hiện shop đang có giá: *790,000 VND (giá gốc 1,200,000 VND)*.\nBạn tham khảo các sản phẩm sau nhé ạ:",
           "query_knowledge_base",
           "[\"url:['https://scontent.xx.fbcdn.net/v/t1.15752-9/93840235_671253940372699_6078193114063831040_n.jpg?_nc_cat=102&_nc_sid=b96e70&_nc_ohc=D5YUEvNDHT0AX9Y6mFp&_nc_ad=z-m&_nc_cid=0&_nc_zor=9&_nc_ht=scontent.xx&oh=8e687d198cf4874f887a6dacdfc1c955&oe=5EC2A850']\", 'attribute:price']",
           "action_query_babe_kb"
          ],
          [
           "Ok bạn thế để t xem lại rùi báo nha",
           "Dạ,vâng",
           "end_conversation",
           null,
           "action_end_conversation"
          ],
          [
           "https://scontent.xx.fbcdn.net/v/t1.15752-9/93961206_796326287442487_728031685777555456_n.jpg?_nc_cat=105&_nc_sid=b96e70&_nc_ohc=3da0fC1ve2oAX8S6IbX&_nc_ad=z-m&_nc_cid=0&_nc_zor=9&_nc_ht=scontent.xx&oh=42d0e0506c5304eb15653717ac7c9999&oe=5EC3CDEE\nInbox mình nhé",
           "Dạ, có phải bạn muốn hỏi một trong các sản phẩm dưới đây không ạ?\n (Vui lòng ấn chọn 1 sản phẩm)...",
           "query_knowledge_base",
           "[\"url:['https://scontent.xx.fbcdn.net/v/t1.15752-9/93961206_796326287442487_728031685777555456_n.jpg?_nc_cat=105&_nc_sid=b96e70&_nc_ohc=3da0fC1ve2oAX8S6IbX&_nc_ad=z-m&_nc_cid=0&_nc_zor=9&_nc_ht=scontent.xx&oh=42d0e0506c5304eb15653717ac7c9999&oe=5EC3CDEE']\"]",
           "action_query_babe_kb"
          ],
          [
           "/query_knowledge_base{\"url\": \"https://www.facebook.com/shopgauvabingo/posts/2445777899065867\", \"product_id\": \"https://www.facebook.com/shopgauvabingo/posts/2445777899065867\"}",
           "Sản phẩm Xe chòi chân kiêm xe lắc cao cấp có nhạc Holla hiện shop đang có giá: *790,000 VND (giá gốc 1,200,000 VND)*.\nBạn tham khảo các sản phẩm sau nhé ạ:",
           "query_knowledge_base",
           null,
           "action_query_babe_kb"
          ],
          [
           "bé 13m đã dùng đc chưa bạn nhỉ?",
           "Sản phẩm  Xe chòi chân kiêm xe lắc cao cấp có nhạc Holla hiện shop đang có độ tuổi sử dụng: 0 - 36 tháng.\nBạn tham khảo các sản phẩm sau nhé ạ",
           "query_knowledge_base",
           "['age_of_use:13m']",
           "action_query_babe_kb"
          ],
          [
           "Ok bạn",
           "Dạ,vâng",
           "agree",
           null,
           "utter_agree"
          ],
          [
           "https://scontent.xx.fbcdn.net/v/t1.15752-9/93961206_796326287442487_728031685777555456_n.jpg?_nc_cat=105&_nc_sid=b96e70&_nc_ohc=3da0fC1ve2oAX8S6IbX&_nc_ad=z-m&_nc_cid=0&_nc_zor=9&_nc_ht=scontent.xx&oh=42d0e0506c5304eb15653717ac7c9999&oe=5EC3CDEE\nInbox mình nhé",
           "Sản phẩm Xe chòi chân kiêm xe lắc cao cấp có nhạc Holla hiện shop đang có giá: *790,000 VND (giá gốc 1,200,000 VND)*.\nBạn tham khảo các sản phẩm sau nhé ạ:",
           "query_knowledge_base",
           "[\"url:['https://scontent.xx.fbcdn.net/v/t1.15752-9/93961206_796326287442487_728031685777555456_n.jpg?_nc_cat=105&_nc_sid=b96e70&_nc_ohc=3da0fC1ve2oAX8S6IbX&_nc_ad=z-m&_nc_cid=0&_nc_zor=9&_nc_ht=scontent.xx&oh=42d0e0506c5304eb15653717ac7c9999&oe=5EC3CDEE']\"]",
           "action_query_babe_kb"
          ],
          [
           "có những màu gì sh",
           "Sản phẩm  Xe chòi chân kiêm xe lắc cao cấp có nhạc Holla hiện shop đang có màu: Hồng, Xanh.\nBạn tham khảo các sản phẩm sau nhé ạ:",
           "query_knowledge_base",
           "['attribute:color']",
           "action_query_babe_kb"
          ],
          [
           "Để mình tham khảo ",
           null,
           "handover_to_inbox",
           null,
           "action_handover_to_inbox"
          ],
          [
           "https://scontent.xx.fbcdn.net/v/t1.15752-9/93961206_796326287442487_728031685777555456_n.jpg?_nc_cat=105&_nc_sid=b96e70&_nc_ohc=3da0fC1ve2oAX8S6IbX&_nc_ad=z-m&_nc_cid=0&_nc_zor=9&_nc_ht=scontent.xx&oh=42d0e0506c5304eb15653717ac7c9999&oe=5EC3CDEE\nInbox mình nhé",
           "Sản phẩm Xe chòi chân kiêm xe lắc cao cấp có nhạc Holla hiện shop đang có giá: *790,000 VND (giá gốc 1,200,000 VND)*.\nBạn tham khảo các sản phẩm sau nhé ạ:",
           "query_knowledge_base",
           "[\"url:['https://scontent.xx.fbcdn.net/v/t1.15752-9/93961206_796326287442487_728031685777555456_n.jpg?_nc_cat=105&_nc_sid=b96e70&_nc_ohc=3da0fC1ve2oAX8S6IbX&_nc_ad=z-m&_nc_cid=0&_nc_zor=9&_nc_ht=scontent.xx&oh=42d0e0506c5304eb15653717ac7c9999&oe=5EC3CDEE']\"]",
           "action_query_babe_kb"
          ],
          [
           "có những màu gì sh",
           "Sản phẩm  Xe chòi chân kiêm xe lắc cao cấp có nhạc Holla hiện shop đang có màu: Hồng, Xanh.\nBạn tham khảo các sản phẩm sau nhé ạ:",
           "query_knowledge_base",
           "['attribute:color']",
           "action_query_babe_kb"
          ],
          [
           "Để mình tham khảo ",
           "Dạ, vâng ạ",
           "end_conversation",
           null,
           "action_end_conversation"
          ],
          [
           "https://scontent.xx.fbcdn.net/v/t1.15752-9/94433981_1159306187745864_4562238742848339968_n.jpg?_nc_cat=101&_nc_sid=b96e70&_nc_ohc=VEWd1RjRUwEAX9VKrUQ&_nc_ad=z-m&_nc_cid=0&_nc_zor=9&_nc_ht=scontent.xx&oh=f9b2c664968877f5a68112d6d9919576&oe=5EC3E911\nGia bao cho m nhe",
           "Dạ, có phải bạn muốn hỏi một trong các sản phẩm dưới đây không ạ?\n (Vui lòng ấn chọn 1 sản phẩm)...",
           "query_knowledge_base",
           "[\"url:['https://scontent.xx.fbcdn.net/v/t1.15752-9/94433981_1159306187745864_4562238742848339968_n.jpg?_nc_cat=101&_nc_sid=b96e70&_nc_ohc=VEWd1RjRUwEAX9VKrUQ&_nc_ad=z-m&_nc_cid=0&_nc_zor=9&_nc_ht=scontent.xx&oh=f9b2c664968877f5a68112d6d9919576&oe=5EC3E911']\", 'attribute:price']",
           "action_query_babe_kb"
          ],
          [
           "/query_knowledge_base{\"url\": \"https://www.facebook.com/shopgauvabingo/posts/2445777899065867\", \"product_id\": \"https://www.facebook.com/shopgauvabingo/posts/2445777899065867\"}",
           "Sản phẩm Xe chòi chân kiêm xe lắc cao cấp có nhạc Holla hiện shop đang có giá: *790,000 VND (giá gốc 1,200,000 VND)*.\nBạn tham khảo các sản phẩm sau nhé ạ:",
           "query_knowledge_base",
           null,
           "action_query_babe_kb"
          ],
          [
           "Ok bạn",
           "Dạ,vâng",
           "agree",
           null,
           "utter_agree"
          ],
          [
           "https://scontent.xx.fbcdn.net/v/t1.15752-9/94433981_1159306187745864_4562238742848339968_n.jpg?_nc_cat=101&_nc_sid=b96e70&_nc_ohc=VEWd1RjRUwEAX9VKrUQ&_nc_ad=z-m&_nc_cid=0&_nc_zor=9&_nc_ht=scontent.xx&oh=f9b2c664968877f5a68112d6d9919576&oe=5EC3E911\nGia bao cho m nhe",
           "Sản phẩm Xe chòi chân kiêm xe lắc cao cấp có nhạc Holla hiện shop đang có giá: *790,000 VND (giá gốc 1,200,000 VND)*.\nBạn tham khảo các sản phẩm sau nhé ạ:",
           "query_knowledge_base",
           "[\"url:['https://scontent.xx.fbcdn.net/v/t1.15752-9/94433981_1159306187745864_4562238742848339968_n.jpg?_nc_cat=101&_nc_sid=b96e70&_nc_ohc=VEWd1RjRUwEAX9VKrUQ&_nc_ad=z-m&_nc_cid=0&_nc_zor=9&_nc_ht=scontent.xx&oh=f9b2c664968877f5a68112d6d9919576&oe=5EC3E911']\", 'attribute:price']",
           "action_query_babe_kb"
          ],
          [
           "thank shop",
           "Dạ, cảm ơn bạn!",
           "thank",
           null,
           "utter_thank"
          ],
          [
           "hi shop",
           "Chào bạn, mình là trợ lý ảo của Shop Gấu & Bí Ngô, mình giúp gì được bạn ạ?",
           "greet",
           null,
           "utter_greet"
          ],
          [
           "https://scontent.xx.fbcdn.net/v/t1.15752-9/93802318_233197931358906_2034310246138118144_n.jpg?_nc_cat=107&_nc_sid=b96e70&_nc_ohc=X6ceCV_5fm0AX-PA3RH&_nc_ad=z-m&_nc_cid=0&_nc_zor=9&_nc_ht=scontent.xx&oh=4ffdce6cf0b70ce56ff8dd99177c2e51&oe=5EC2E409\nhttps://scontent.xx.fbcdn.net/v/t1.15752-9/67602042_302799497194173_8355364115610337280_n.jpg?_nc_cat=109&_nc_sid=b96e70&_nc_ohc=NpzSuwikljcAX_SqaKi&_nc_ad=z-m&_nc_cid=0&_nc_zor=9&_nc_ht=scontent.xx&oh=579e1eff47a88f97c894ea19ff974c8e&oe=5EC5986C",
           "Bạn đang tìm kiếm thông tin gì ạ?",
           "query_knowledge_base",
           "[\"url:['https://scontent.xx.fbcdn.net/v/t1.15752-9/93802318_233197931358906_2034310246138118144_n.jpg?_nc_cat=107&_nc_sid=b96e70&_nc_ohc=X6ceCV_5fm0AX-PA3RH&_nc_ad=z-m&_nc_cid=0&_nc_zor=9&_nc_ht=scontent.xx&oh=4ffdce6cf0b70ce56ff8dd99177c2e51&oe=5EC2E409', 'https://scontent.xx.fbcdn.net/v/t1.15752-9/67602042_302799497194173_8355364115610337280_n.jpg?_nc_cat=109&_nc_sid=b96e70&_nc_ohc=NpzSuwikljcAX_SqaKi&_nc_ad=z-m&_nc_cid=0&_nc_zor=9&_nc_ht=scontent.xx&oh=579e1eff47a88f97c894ea19ff974c8e&oe=5EC5986C']\"]",
           "action_query_babe_kb"
          ],
          [
           "Xe đẩy loại này còn k shop",
           "Sản phẩm Xe đẩy siêu nhẹ Umoo hiện shop đang có giá: *749,000 VND (giá gốc 1,200,000 VND)*.\nBạn tham khảo các sản phẩm sau nhé ạ:",
           "query_knowledge_base",
           "['object_type:xe_day', 'mention:loại này']",
           "action_query_babe_kb"
          ],
          [
           "Ok bạn",
           "Dạ,vâng",
           "agree",
           null,
           "utter_agree"
          ],
          [
           "hi shop",
           "Chào bạn, mình là trợ lý ảo của Shop Gấu & Bí Ngô, mình giúp gì được bạn ạ?",
           "greet",
           null,
           "utter_greet"
          ],
          [
           "https://scontent.xx.fbcdn.net/v/t1.15752-9/93802318_233197931358906_2034310246138118144_n.jpg?_nc_cat=107&_nc_sid=b96e70&_nc_ohc=X6ceCV_5fm0AX-PA3RH&_nc_ad=z-m&_nc_cid=0&_nc_zor=9&_nc_ht=scontent.xx&oh=4ffdce6cf0b70ce56ff8dd99177c2e51&oe=5EC2E409\nhttps://scontent.xx.fbcdn.net/v/t1.15752-9/67602042_302799497194173_8355364115610337280_n.jpg?_nc_cat=109&_nc_sid=b96e70&_nc_ohc=NpzSuwikljcAX_SqaKi&_nc_ad=z-m&_nc_cid=0&_nc_zor=9&_nc_ht=scontent.xx&oh=579e1eff47a88f97c894ea19ff974c8e&oe=5EC5986C",
           "Bạn đang tìm kiếm thông tin gì ạ?",
           "query_knowledge_base",
           "[\"url:['https://scontent.xx.fbcdn.net/v/t1.15752-9/93802318_233197931358906_2034310246138118144_n.jpg?_nc_cat=107&_nc_sid=b96e70&_nc_ohc=X6ceCV_5fm0AX-PA3RH&_nc_ad=z-m&_nc_cid=0&_nc_zor=9&_nc_ht=scontent.xx&oh=4ffdce6cf0b70ce56ff8dd99177c2e51&oe=5EC2E409', 'https://scontent.xx.fbcdn.net/v/t1.15752-9/67602042_302799497194173_8355364115610337280_n.jpg?_nc_cat=109&_nc_sid=b96e70&_nc_ohc=NpzSuwikljcAX_SqaKi&_nc_ad=z-m&_nc_cid=0&_nc_zor=9&_nc_ht=scontent.xx&oh=579e1eff47a88f97c894ea19ff974c8e&oe=5EC5986C']\"]",
           "action_query_babe_kb"
          ],
          [
           "Xe đẩy loại này còn k shop",
           "Sản phẩm Xe đẩy siêu nhẹ Umoo hiện shop đang hết hàng ạ.\nBạn tham khảo các sản phẩm khác nhé ạ:",
           "query_knowledge_base",
           "['object_type:xe_day', 'mention:loại này']",
           "action_query_babe_kb"
          ],
          [
           "Ok bạn",
           "Dạ,vâng",
           "agree",
           null,
           "utter_agree"
          ],
          [
           "https://scontent.xx.fbcdn.net/v/t1.15752-9/93838228_247081556436066_886875673921060864_n.jpg?_nc_cat=111&_nc_sid=b96e70&_nc_ohc=RVSbE5MO1C4AX9CWsL9&_nc_ad=z-m&_nc_cid=0&_nc_zor=9&_nc_ht=scontent.xx&oh=c524b14523d569610af325c716747b08&oe=5EC2BDC5\nCai này bao nhieu b",
           "Dạ, có phải bạn muốn hỏi một trong các sản phẩm dưới đây không ạ?\r\n (Vui lòng ấn chọn 1 sản phẩm)...",
           "query_knowledge_base",
           "[\"url:['https://scontent.xx.fbcdn.net/v/t1.15752-9/93838228_247081556436066_886875673921060864_n.jpg?_nc_cat=111&_nc_sid=b96e70&_nc_ohc=RVSbE5MO1C4AX9CWsL9&_nc_ad=z-m&_nc_cid=0&_nc_zor=9&_nc_ht=scontent.xx&oh=c524b14523d569610af325c716747b08&oe=5EC2BDC5']\", 'mention:cai này', 'attribute:price']",
           "action_query_babe_kb"
          ],
          [
           "/disagree{\"object_type\": null}",
           "Bạn vui lòng mô tả rõ mong muốn của bạn hoặc chat với nhân viên tư vấn nhé!",
           "disagree",
           "['object_type:None']",
           "utter_disagree"
          ],
          [
           "/connect_employee",
           null,
           "connect_employee",
           "[]",
           "action_handover_to_inbox"
          ],
          [
           "https://scontent.xx.fbcdn.net/v/t1.15752-9/93838228_247081556436066_886875673921060864_n.jpg?_nc_cat=111&_nc_sid=b96e70&_nc_ohc=RVSbE5MO1C4AX9CWsL9&_nc_ad=z-m&_nc_cid=0&_nc_zor=9&_nc_ht=scontent.xx&oh=c524b14523d569610af325c716747b08&oe=5EC2BDC5\nCai này bao nhieu b",
           "Sản phẩm bạn đang tìm có phải là?",
           "query_knowledge_base",
           "[\"url:['https://scontent.xx.fbcdn.net/v/t1.15752-9/93838228_247081556436066_886875673921060864_n.jpg?_nc_cat=111&_nc_sid=b96e70&_nc_ohc=RVSbE5MO1C4AX9CWsL9&_nc_ad=z-m&_nc_cid=0&_nc_zor=9&_nc_ht=scontent.xx&oh=c524b14523d569610af325c716747b08&oe=5EC2BDC5']\", 'mention:cai này', 'attribute:price']",
           "action_query_babe_kb"
          ],
          [
           "/disagree{\"object_type\": null}",
           "Bạn vui lòng mô tả rõ mong muốn của bạn hoặc chat với nhân viên tư vấn nhé!",
           "disagree",
           "['object_type:None']",
           "utter_disagree"
          ],
          [
           "/connect_employee",
           null,
           "connect_employee",
           "[]",
           "action_handover_to_inbox"
          ],
          [
           "https://scontent.xx.fbcdn.net/v/t1.15752-9/93838228_247081556436066_886875673921060864_n.jpg?_nc_cat=111&_nc_sid=b96e70&_nc_ohc=RVSbE5MO1C4AX9CWsL9&_nc_ad=z-m&_nc_cid=0&_nc_zor=9&_nc_ht=scontent.xx&oh=c524b14523d569610af325c716747b08&oe=5EC2BDC5\nCai này bao nhieu b",
           "Sản phẩm Bộ bảo vệ 7 món hiện shop đang có giá: *749,000 VND (giá gốc 1,200,000 VND)*.\nBạn tham khảo các sản phẩm sau nhé ạ:",
           "query_knowledge_base",
           "[\"url:['https://scontent.xx.fbcdn.net/v/t1.15752-9/93838228_247081556436066_886875673921060864_n.jpg?_nc_cat=111&_nc_sid=b96e70&_nc_ohc=RVSbE5MO1C4AX9CWsL9&_nc_ad=z-m&_nc_cid=0&_nc_zor=9&_nc_ht=scontent.xx&oh=c524b14523d569610af325c716747b08&oe=5EC2BDC5']\", 'mention:cai này', 'attribute:price']",
           "action_query_babe_kb"
          ],
          [
           "để mình xem có gì minh báo",
           null,
           "handover_to_inbox",
           null,
           "action_handover_to_inbox"
          ],
          [
           "https://scontent.xx.fbcdn.net/v/t1.15752-9/93640892_710305896457319_7085221636256825344_n.jpg?_nc_cat=111&_nc_sid=b96e70&_nc_ohc=9OUM8UhaLe0AX9f-sH6&_nc_ad=z-m&_nc_cid=0&_nc_zor=9&_nc_ht=scontent.xx&oh=0271467aa36e5b5d93e3cab034e401c5&oe=5EC3406E",
           "Bạn đang tìm kiếm thông tin gì ạ?",
           "send_link",
           "[\"url:['https://scontent.xx.fbcdn.net/v/t1.15752-9/93640892_710305896457319_7085221636256825344_n.jpg?_nc_cat=111&_nc_sid=b96e70&_nc_ohc=9OUM8UhaLe0AX9f-sH6&_nc_ad=z-m&_nc_cid=0&_nc_zor=9&_nc_ht=scontent.xx&oh=0271467aa36e5b5d93e3cab034e401c5&oe=5EC3406E']\"]",
           "action_handle_send_link_only"
          ],
          [
           "Bạn ơi giường đệm đi kèm giá như nào",
           "Sản phẩm bạn đang tìm có phải là?",
           "query_knowledge_base",
           "['object_type:giuong', 'attribute:price']",
           "action_query_babe_kb"
          ],
          [
           "/disagree{\"object_type\": null}",
           "Bạn vui lòng mô tả rõ mong muốn của bạn hoặc chat với nhân viên tư vấn nhé!",
           "disagree",
           "['object_type:None']",
           "utter_disagree"
          ],
          [
           "/connect_employee",
           null,
           "connect_employee",
           "[]",
           "action_handover_to_inbox"
          ],
          [
           "https://scontent.xx.fbcdn.net/v/t1.15752-9/93640892_710305896457319_7085221636256825344_n.jpg?_nc_cat=111&_nc_sid=b96e70&_nc_ohc=9OUM8UhaLe0AX9f-sH6&_nc_ad=z-m&_nc_cid=0&_nc_zor=9&_nc_ht=scontent.xx&oh=0271467aa36e5b5d93e3cab034e401c5&oe=5EC3406E",
           "Bạn đang tìm kiếm thông tin gì ạ?",
           "send_link",
           "[\"url:['https://scontent.xx.fbcdn.net/v/t1.15752-9/93640892_710305896457319_7085221636256825344_n.jpg?_nc_cat=111&_nc_sid=b96e70&_nc_ohc=9OUM8UhaLe0AX9f-sH6&_nc_ad=z-m&_nc_cid=0&_nc_zor=9&_nc_ht=scontent.xx&oh=0271467aa36e5b5d93e3cab034e401c5&oe=5EC3406E']\"]",
           "action_handle_send_link_only"
          ],
          [
           "Bạn ơi giường đệm đi kèm giá như nào",
           "Dạ, có phải bạn muốn hỏi một trong các sản phẩm dưới đây không ạ?\r\n (Vui lòng ấn chọn 1 sản phẩm)...",
           "query_knowledge_base",
           "['object_type:giuong', 'attribute:price']",
           "action_query_babe_kb"
          ],
          [
           "/query_knowledge_base{\"url\": \"https://www.facebook.com/shopgauvabingo/posts/2445681652408825\", \"product_id\": \"https://www.facebook.com/shopgauvabingo/posts/2445681652408825\"}",
           "Sản phẩm Giường nhựa Holla hiện shop đang có giá: *749,000 VND (giá gốc 1,200,000 VND)*.\nBạn tham khảo các sản phẩm sau nhé ạ:",
           "query_knowledge_base",
           null,
           "action_query_babe_kb"
          ],
          [
           "Ok shop",
           "Dạ,vâng",
           "agree",
           null,
           "utter_agree"
          ],
          [
           "https://scontent.xx.fbcdn.net/v/t1.15752-9/93640892_710305896457319_7085221636256825344_n.jpg?_nc_cat=111&_nc_sid=b96e70&_nc_ohc=9OUM8UhaLe0AX9f-sH6&_nc_ad=z-m&_nc_cid=0&_nc_zor=9&_nc_ht=scontent.xx&oh=0271467aa36e5b5d93e3cab034e401c5&oe=5EC3406E",
           "Bạn đang tìm kiếm thông tin gì ạ?",
           "send_link",
           "[\"url:['https://scontent.xx.fbcdn.net/v/t1.15752-9/93640892_710305896457319_7085221636256825344_n.jpg?_nc_cat=111&_nc_sid=b96e70&_nc_ohc=9OUM8UhaLe0AX9f-sH6&_nc_ad=z-m&_nc_cid=0&_nc_zor=9&_nc_ht=scontent.xx&oh=0271467aa36e5b5d93e3cab034e401c5&oe=5EC3406E']\"]",
           "action_handle_send_link_only"
          ],
          [
           "Bạn ơi giường đệm đi kèm giá như nào",
           "Sản phẩm Giường nhựa Holla hiện shop đang có giá: *749,000 VND (giá gốc 1,200,000 VND)*.\r\nBạn tham khảo các sản phẩm sau nhé ạ:",
           "query_knowledge_base",
           "['object_type:giuong', 'attribute:price']",
           "action_query_babe_kb"
          ],
          [
           "thank shop",
           "Dạ, vâng ạ!",
           "thank",
           null,
           "utter_thank"
          ],
          [
           "alo shop",
           "Chào bạn, mình là trợ lý ảo của Shop Gấu & Bí Ngô, mình giúp gì được bạn ạ?",
           "greet",
           null,
           "utter_greet"
          ],
          [
           "Shop có xe scooter ko ạ?",
           "Sản phẩm bạn đang tìm có phải là?",
           "query_knowledge_base",
           "['object_type:xe','brand:scooter']",
           "action_query_babe_kb"
          ],
          [
           "/deny_object_type{\"object_type\": null}",
           "Bạn vui lòng mô tả rõ mong muốn của bạn hoặc chat với nhân viên tư vấn nhé!",
           "deny_object_type",
           "['object_type:None']",
           "utter_disagree"
          ],
          [
           "/connect_employee",
           null,
           "connect_employee",
           "[]",
           "action_handover_to_inbox"
          ],
          [
           "alo shop",
           "Chào bạn, mình là trợ lý ảo của Shop Gấu & Bí Ngô, mình giúp gì được bạn ạ?",
           "greet",
           null,
           "utter_greet"
          ],
          [
           "Shop có xe scooter ko ạ?",
           "Hiện tại sản phẩm xe scooter  shop đang có những giá sau ạ:",
           "query_knowledge_base",
           "['object_type:xe_scooter']",
           "action_query_babe_kb"
          ],
          [
           "/confirm_attribute_value{\"price\": \"500-1M\"}",
           "Hiện tại sản phẩm xe scooter giá 500 - 1m shop đang có những hãng sản xuất sau ạ:",
           "query_knowledge_base",
           null,
           "action_query_babe_kb"
          ],
          [
           "/confirm_attribute_value{\"brand\": \"Vinng\"}",
           "Dạ mời bạn tham khảo sản phẩm hiện có tại shop nhé!",
           "query_knowledge_base",
           null,
           "action_query_babe_kb"
          ],
          [
           "Bạn ơi bên bạn hiện còn những loại cầu trượt nào nhỉ",
           "Sản phẩm  Cầu trượt xích đu Hola hải cẩu 2020  hiện shop đang có giá: *1,982,500 VND (giá gốc 3,250,000 VND)*.\nBạn tham khảo các sản phẩm sau nhé ạ:",
           "query_knowledge_base",
           "['object_type:cau_truot']",
           "action_query_babe_kb"
          ],
          [
           "ok shop",
           "Dạ,vâng",
           "agree",
           null,
           "utter_agree"
          ],
          [
           "Bạn ơi bên bạn hiện còn những loại cầu trượt nào nhỉ",
           "Hiện tại sản phẩm cầu trượt  shop đang có những giá sau ạ:",
           "query_knowledge_base",
           "['object_type:cau_truot']",
           "action_query_babe_kb"
          ],
          [
           "/confirm_attribute_value{\"price\": \"1M-2M\"}",
           "Dạ mời bạn tham khảo sản phẩm hiện có tại shop nhé!",
           "query_knowledge_base",
           null,
           "action_query_babe_kb"
          ],
          [
           "Có cái nào rẻ hơn k bạn\r\nCầu trượt riêng thôi",
           null,
           "handover_to_inbox",
           "['object_type:cau_truot']",
           "action_handover_to_inbox"
          ],
          [
           "Bạn ơi bên bạn hiện còn những loại cầu trượt nào nhỉ",
           "Sản phẩm  Cầu trượt xích đu Hola hải cẩu 2020  hiện shop đang có giá: *1,982,500 VND (giá gốc 3,250,000 VND)*.\r\nBạn tham khảo các sản phẩm sau nhé ạ:",
           "query_knowledge_base",
           "['object_type:cau_truot']",
           "action_query_babe_kb"
          ],
          [
           "Có cái nào rẻ hơn k bạn\r\nCầu trượt riêng thôi",
           "Sản phẩm  Cầu trượt có giá thấp hơn: *1,982,500 VND (giá gốc 3,250,000 VND)* shop có một số sản phẩm.\nBạn tham khảo các sản phẩm sau nhé ạ:",
           "query_knowledge_base",
           "['object_type:cau_truot']",
           "action_query_babe_kb"
          ],
          [
           "Bạn ơi bên bạn hiện còn những loại cầu trượt nào nhỉ",
           "Sản phẩm  Cầu trượt xích đu Hola hải cẩu 2020  hiện shop đang có giá: *1,982,500 VND (giá gốc 3,250,000 VND)*\nBạn tham khảo các sản phẩm sau nhé ạ:",
           "query_knowledge_base",
           "['object_type:cau_truot']",
           "action_query_babe_kb"
          ],
          [
           "Có cái nào rẻ hơn k bạn\r\nCầu trượt riêng thôi",
           "Sản phẩm  Cầu trượt có giá thấp hơn: *1,982,500 VND (giá gốc 3,250,000 VND)* shop hiện không có.\nBạn tham khảo các sản phẩm sau nhé ạ:",
           "query_knowledge_base",
           "['object_type:cau_truot']",
           "action_query_babe_kb"
          ],
          [
           null,
           "Bạn đã tìm đc sản phẩm ưng ý chưa ạ ,có cần trợ lý của shop gấu và bí ngô giúp gì không ạ",
           "reminder",
           null,
           "action_reminder"
          ],
          [
           "Cho m stk tối nhận hàng m ck nhé",
           "Dạ mình gửi bạn thông tin tài khoản của shop ạ:\nThông tin chuyển khoản: \n• 0611001928974 - VietcomBank chi nhánh Ba Đình. Nguyễn Lê Thuỷ\n• 1500216756861 - Agribank chi nhánh Hà Nội - Nguyễn Lê Thủy\n• 19022876983383 - Techcombank chi nhánh Hà Nội. Nguyễn Tuấn Quang! \nNội dung chuyển khoản bạn ghi rõ Tên Facebook + số điện thoại và nhắn lại bên mình sau khi chuyển khoản nhé.",
           "ask_account",
           null,
           "action_ask_account"
          ],
          [
           "ok shop",
           null,
           "agree",
           null,
           "utter_agree"
          ],
          [
           "https://scontent.xx.fbcdn.net/v/t1.15752-9/93983240_2821288317948752_842182115389865984_n.jpg?_nc_cat=110&_nc_sid=b96e70&_nc_oc=AQlu0Bd3QU0FS9YleaGD4xnvaMxDjJH1AaTvxpZAzM3XTfDDxP2pY23ZNSA3CghP0uZ8BknWoPUoMfQt5w9vtTsP&_nc_ad=z-m&_nc_cid=0&_nc_zor=9&_nc_ht=scontent.xx&oh=84195cc58455d4bf9cb6dc86a2f58333&oe=5EC16495",
           "Bạn đang tìm kiếm thông tin gì ạ?",
           "send_link",
           "[\"url:['https://scontent.xx.fbcdn.net/v/t1.15752-9/93983240_2821288317948752_842182115389865984_n.jpg?_nc_cat=110&_nc_sid=b96e70&_nc_oc=AQlu0Bd3QU0FS9YleaGD4xnvaMxDjJH1AaTvxpZAzM3XTfDDxP2pY23ZNSA3CghP0uZ8BknWoPUoMfQt5w9vtTsP&_nc_ad=z-m&_nc_cid=0&_nc_zor=9&_nc_ht=scontent.xx&oh=84195cc58455d4bf9cb6dc86a2f58333&oe=5EC16495']\"]",
           "action_handle_send_link_only"
          ],
          [
           "Bạn ơi bạn có cầu trượt này k?",
           "Dạ, có phải bạn muốn hỏi một trong các sản phẩm dưới đây không ạ?\r\n (Vui lòng ấn chọn 1 sản phẩm)",
           "query_knowledge_base",
           "['object_type:cau_truot', 'mention:này']",
           "action_query_babe_kb"
          ],
          [
           "/disagree{\"object_type\": null}",
           "Bạn vui lòng mô tả rõ mong muốn của bạn hoặc chat với nhân viên tư vấn nhé!",
           "disagree",
           null,
           "utter_disagree"
          ],
          [
           "/connect_employee",
           null,
           "connect_employee",
           "[]",
           "action_handover_to_inbox"
          ],
          [
           "https://scontent.xx.fbcdn.net/v/t1.15752-9/93983240_2821288317948752_842182115389865984_n.jpg?_nc_cat=110&_nc_sid=b96e70&_nc_oc=AQlu0Bd3QU0FS9YleaGD4xnvaMxDjJH1AaTvxpZAzM3XTfDDxP2pY23ZNSA3CghP0uZ8BknWoPUoMfQt5w9vtTsP&_nc_ad=z-m&_nc_cid=0&_nc_zor=9&_nc_ht=scontent.xx&oh=84195cc58455d4bf9cb6dc86a2f58333&oe=5EC16495",
           "Bạn đang tìm kiếm thông tin gì ạ?",
           "send_link",
           "[\"url:['https://scontent.xx.fbcdn.net/v/t1.15752-9/93983240_2821288317948752_842182115389865984_n.jpg?_nc_cat=110&_nc_sid=b96e70&_nc_oc=AQlu0Bd3QU0FS9YleaGD4xnvaMxDjJH1AaTvxpZAzM3XTfDDxP2pY23ZNSA3CghP0uZ8BknWoPUoMfQt5w9vtTsP&_nc_ad=z-m&_nc_cid=0&_nc_zor=9&_nc_ht=scontent.xx&oh=84195cc58455d4bf9cb6dc86a2f58333&oe=5EC16495']\"]",
           "action_handle_send_link_only"
          ],
          [
           "Bạn ơi bạn có cầu trượt này k?",
           "Dạ, có phải bạn muốn hỏi một trong các sản phẩm dưới đây không ạ?\r\n (Vui lòng ấn chọn 1 sản phẩm)",
           "query_knowledge_base",
           "['object_type:cau_truot', 'mention:này']",
           "action_query_babe_kb"
          ],
          [
           "Cái như mình gửi ảnh ấy",
           "Bạn vui lòng mô tả rõ mong muốn của bạn hoặc chat với nhân viên tư vấn nhé!",
           "disagree",
           null,
           "utter_disagree"
          ],
          [
           null,
           "Bạn đã tìm đc sản phẩm ưng ý chưa ạ ,có cần trợ lý của shop gấu và bí ngô giúp gì không ạ",
           "reminder",
           null,
           "action_reminder"
          ],
          [
           "C lấy bộ lego thỏ nhé\nNhắn c stk c ck",
           "Dạ mình gửi bạn thông tin tài khoản của shop ạ:\nThông tin chuyển khoản: \n• 0611001928974 - VietcomBank chi nhánh Ba Đình. Nguyễn Lê Thuỷ\n• 1500216756861 - Agribank chi nhánh Hà Nội - Nguyễn Lê Thủy\n• 19022876983383 - Techcombank chi nhánh Hà Nội. Nguyễn Tuấn Quang! \nNội dung chuyển khoản bạn ghi rõ Tên Facebook + số điện thoại và nhắn lại bên mình sau khi chuyển khoản nhé.",
           "ask_account",
           null,
           "action_ask_account"
          ],
          [
           "Ship về 28 ngõ 48 ngô gia tự, long biên 0989067795",
           "\"Cảm ơn bạn! Bạn vui lòng kiểm tra lại thông tin đặt hàng giúp shop nhé!\r\n<Show ra cái bảng mẫu đặt hàng: có tên sản phẩm, cho khách tùy chọn số lượng, màu sắc...>\"\r\n<xác nhận> <hủy>",
           "order",
           "[]",
           "action_order"
          ],
          [
           "<xác nhận>",
           "Bạn đã đặt hàng thành công , đơn hàng sẽ đc giao đến 28 ngõ 48 ngô gia tự, long biên trong khoảng 24 h ạ",
           "confirm_order",
           null,
           "action_confirm_order"
          ],
          [
           "alo shop",
           "Chào bạn, mình là trợ lý ảo của Shop Gấu & Bí Ngô, mình giúp gì được bạn ạ?",
           "greet",
           null,
           "utter_greet"
          ],
          [
           "https://scontent.xx.fbcdn.net/v/t1.15752-9/94187856_1428345610693079_2104702857449046016_n.jpg?_nc_cat=109&_nc_sid=b96e70&_nc_ohc=ITTHyLb5GbQAX8dQMXM&_nc_ad=z-m&_nc_cid=0&_nc_zor=9&_nc_ht=scontent.xx&oh=01542d8383a44dc3ca26de400c1cde2a&oe=5EC29798\nIb giá nhé shop",
           "Sản phẩm  Ghế đa năng Mastela Premium 1016  hiện shop đang có giá: *1,590,000 VND (giá gốc 2,000,000 VND)*.\nBạn tham khảo các sản phẩm sau nhé ạ:",
           "query_knowledge_base",
           "[\"url:['https://scontent.xx.fbcdn.net/v/t1.15752-9/94187856_1428345610693079_2104702857449046016_n.jpg?_nc_cat=109&_nc_sid=b96e70&_nc_ohc=ITTHyLb5GbQAX8dQMXM&_nc_ad=z-m&_nc_cid=0&_nc_zor=9&_nc_ht=scontent.xx&oh=01542d8383a44dc3ca26de400c1cde2a&oe=5EC29798']\", 'attribute:price']",
           "action_query_babe_kb"
          ],
          [
           "chiều nay ship được luôn cho mình được không",
           null,
           "handover_to_inbox",
           null,
           "action_handover_to_inbox"
          ],
          [
           "alo shop",
           "Chào bạn, mình là trợ lý ảo của Shop Gấu & Bí Ngô, mình giúp gì được bạn ạ?",
           "greet",
           null,
           "utter_greet"
          ],
          [
           "https://scontent.xx.fbcdn.net/v/t1.15752-9/94187856_1428345610693079_2104702857449046016_n.jpg?_nc_cat=109&_nc_sid=b96e70&_nc_ohc=ITTHyLb5GbQAX8dQMXM&_nc_ad=z-m&_nc_cid=0&_nc_zor=9&_nc_ht=scontent.xx&oh=01542d8383a44dc3ca26de400c1cde2a&oe=5EC29798\nIb giá nhé shop",
           "Sản phẩm  Ghế đa năng Mastela Premium 1016  hiện shop đang có giá: *1,590,000 VND (giá gốc 2,000,000 VND)*.\nBạn tham khảo các sản phẩm sau nhé ạ:",
           "query_knowledge_base",
           "[\"url:['https://scontent.xx.fbcdn.net/v/t1.15752-9/94187856_1428345610693079_2104702857449046016_n.jpg?_nc_cat=109&_nc_sid=b96e70&_nc_ohc=ITTHyLb5GbQAX8dQMXM&_nc_ad=z-m&_nc_cid=0&_nc_zor=9&_nc_ht=scontent.xx&oh=01542d8383a44dc3ca26de400c1cde2a&oe=5EC29798']\", 'attribute:price']",
           "action_query_babe_kb"
          ],
          [
           "chiều nay ship được luôn cho mình được không",
           "Bạn cho shop xin địa chỉ nhận hàng ạ.",
           "time_ship",
           null,
           "action_time_ship"
          ],
          [
           "số 7 tràng thi",
           "Với địa chỉ số 7 tràng thi shop có thể ship hàng đến trong 3 h ạ",
           "time_ship",
           null,
           "action_time_ship"
          ],
          [
           "https://scontent.xx.fbcdn.net/v/t1.15752-9/94118026_244969926552693_3478019006827331584_n.jpg?_nc_cat=100&_nc_sid=b96e70&_nc_ohc=i5bWmj-23SAAX_LTB3d&_nc_ad=z-m&_nc_cid=0&_nc_zor=9&_nc_ht=scontent.xx&oh=55c8b90d7ec276eab8fc521cd69e0638&oe=5EC1A4ED\nBộ này giá bn sho",
           "Dạ, có phải bạn muốn hỏi một trong các sản phẩm dưới đây không ạ?\n (Vui lòng ấn chọn 1 sản phẩm)...",
           "query_knowledge_base",
           "[\"url:['https://scontent.xx.fbcdn.net/v/t1.15752-9/94118026_244969926552693_3478019006827331584_n.jpg?_nc_cat=100&_nc_sid=b96e70&_nc_ohc=i5bWmj-23SAAX_LTB3d&_nc_ad=z-m&_nc_cid=0&_nc_zor=9&_nc_ht=scontent.xx&oh=55c8b90d7ec276eab8fc521cd69e0638&oe=5EC1A4ED']\", 'mention:bộ này', 'attribute:price']",
           "action_query_babe_kb"
          ],
          [
           "/query_knowledge_base{\"url\": \"https://www.facebook.com/shopgauvabingo/posts/2435578706752453\", \"product_id\": \"https://www.facebook.com/shopgauvabingo/posts/2435578706752453\"}",
           "Bộ đồ chơi nhà bếp thông minh hiện shop đang có giá: 790000 VND (giá gốc 790000 VND). Bạn tham khảo các sản phẩm sau nhé ạ:",
           "query_knowledge_base",
           null,
           "action_query_babe_kb"
          ],
          [
           "oki shop",
           "Dạ, vâng ạ",
           "agree",
           null,
           "utter_agree"
          ],
          [
           "https://scontent.xx.fbcdn.net/v/t1.15752-9/94118026_244969926552693_3478019006827331584_n.jpg?_nc_cat=100&_nc_sid=b96e70&_nc_ohc=i5bWmj-23SAAX_LTB3d&_nc_ad=z-m&_nc_cid=0&_nc_zor=9&_nc_ht=scontent.xx&oh=55c8b90d7ec276eab8fc521cd69e0638&oe=5EC1A4ED\nBộ này giá bn sho",
           "Sản phẩm bạn đang tìm có phải là?",
           "query_knowledge_base",
           "[\"url:['https://scontent.xx.fbcdn.net/v/t1.15752-9/94118026_244969926552693_3478019006827331584_n.jpg?_nc_cat=100&_nc_sid=b96e70&_nc_ohc=i5bWmj-23SAAX_LTB3d&_nc_ad=z-m&_nc_cid=0&_nc_zor=9&_nc_ht=scontent.xx&oh=55c8b90d7ec276eab8fc521cd69e0638&oe=5EC1A4ED']\", 'mention:bộ này', 'attribute:price']",
           "action_query_babe_kb"
          ],
          [
           "/confirm_object_type{\"object_type\": \"bo_do_choi\"}",
           "Bộ đồ chơi nhà bếp thông minh hiện shop đang có giá: 790000 VND (giá gốc 790000 VND). Bạn tham khảo các sản phẩm sau nhé ạ:",
           "query_knowledge_base",
           null,
           "action_query_babe_kb"
          ],
          [
           "oki shop",
           "Dạ, vâng ạ",
           "agree",
           null,
           "utter_agree"
          ],
          [
           "https://scontent.xx.fbcdn.net/v/t1.15752-9/94118026_244969926552693_3478019006827331584_n.jpg?_nc_cat=100&_nc_sid=b96e70&_nc_ohc=i5bWmj-23SAAX_LTB3d&_nc_ad=z-m&_nc_cid=0&_nc_zor=9&_nc_ht=scontent.xx&oh=55c8b90d7ec276eab8fc521cd69e0638&oe=5EC1A4ED\nBộ này giá bn sho",
           "Bộ đồ chơi nhà bếp thông minh hiện shop đang có giá: 790000 VND (giá gốc 790000 VND). Bạn tham khảo các sản phẩm sau nhé ạ:",
           "query_knowledge_base",
           "[\"url:['https://scontent.xx.fbcdn.net/v/t1.15752-9/94118026_244969926552693_3478019006827331584_n.jpg?_nc_cat=100&_nc_sid=b96e70&_nc_ohc=i5bWmj-23SAAX_LTB3d&_nc_ad=z-m&_nc_cid=0&_nc_zor=9&_nc_ht=scontent.xx&oh=55c8b90d7ec276eab8fc521cd69e0638&oe=5EC1A4ED']\", 'mention:bộ này', 'attribute:price']",
           "action_query_babe_kb"
          ],
          [
           "có những kích thước gì ạ",
           "Sản phẩm  Bộ đồ chơi nhà bếp thông minh có kích thước: 57x30x77cm và 51x32x100cm\nBạn tham khảo các sản phẩm sau nhé ạ:",
           "query_knowledge_base",
           "['attribute:size']",
           "action_query_babe_kb"
          ],
          [
           null,
           "Bạn đã tìm đc sản phẩm ưng ý chưa ạ ,có cần trợ lý của shop gấu và bí ngô giúp gì không ạ",
           "reminder",
           null,
           "action_reminder"
          ],
          [
           "Thế còn loại nào nữa ko c\nXe chòi chân ý",
           "Sản phẩm  Xe Chòi Chân  hiện shop đang có giá: *580,000 VND (giá gốc 800,000 VND), 499,000 VND (giá gốc 800,000 VND), 699,000 VND (giá gốc 998,000 VND), 448,400 VND (giá gốc 590,000 VND), 576,000 VND (giá gốc 800,000 VND)*.\nBạn tham khảo các sản phẩm sau nhé ạ:",
           "query_knowledge_base",
           "['object_type:xe_choi_chan']",
           "action_query_babe_kb"
          ],
          [
           "thank sop",
           "dạ,vâng ạ",
           "thank",
           null,
           "utter_thank"
          ],
          [
           "Shop cho e stk agribank để e ck ạ",
           "Dạ mình gửi bạn thông tin tài khoản của shop ạ:\nThông tin chuyển khoản: \n• 0611001928974 - VietcomBank chi nhánh Ba Đình. Nguyễn Lê Thuỷ\n• 1500216756861 - Agribank chi nhánh Hà Nội - Nguyễn Lê Thủy\n• 19022876983383 - Techcombank chi nhánh Hà Nội. Nguyễn Tuấn Quang! \nNội dung chuyển khoản bạn ghi rõ Tên Facebook + số điện thoại và nhắn lại bên mình sau khi chuyển khoản nhé.",
           "ask_account",
           null,
           "action_ask_account"
          ],
          [
           "Mình chuyển khoản rồi nhé ",
           null,
           "handover_to_inbox",
           null,
           "action_handover_to_inbox"
          ],
          [
           "Shop cho e stk agribank để e ck ạ",
           "Dạ mình gửi bạn thông tin tài khoản của shop ạ:\nThông tin chuyển khoản: \n• 0611001928974 - VietcomBank chi nhánh Ba Đình. Nguyễn Lê Thuỷ\n• 1500216756861 - Agribank chi nhánh Hà Nội - Nguyễn Lê Thủy\n• 19022876983383 - Techcombank chi nhánh Hà Nội. Nguyễn Tuấn Quang! \nNội dung chuyển khoản bạn ghi rõ Tên Facebook + số điện thoại và nhắn lại bên mình sau khi chuyển khoản nhé.",
           "ask_account",
           null,
           "action_ask_account"
          ],
          [
           "https://scontent.xx.fbcdn.net/v/t1.15752-9/93636148_581283165927177_1218583943880638464_n.jpg?_nc_cat=107&_nc_sid=b96e70&_nc_ohc=v18UutxNnwkAX8l0irW&_nc_ad=z-m&_nc_cid=0&_nc_zor=9&_nc_ht=scontent.xx&oh=7374a7a5bb108982137dd407f074cced&oe=5EBC3E04\nMình chuyển khoản rồi nhé ",
           "Cảm ơn bạn, nhân viên của shop sẽ xác nhận sớm lại ạ.",
           "confirm_transfer",
           null,
           "confirm_transfer"
          ],
          [
           "https://scontent.xx.fbcdn.net/v/t1.15752-9/94342216_2472338469763544_5708094841569673216_n.jpg?_nc_cat=111&_nc_sid=b96e70&_nc_ohc=kg5-pAp7BTgAX-QEe_x&_nc_ad=z-m&_nc_cid=0&_nc_zor=9&_nc_ht=scontent.xx&oh=aeb84a7b6bfc81f1fdadcd81e0347482&oe=5EC8A82A\nhttps://scontent.xx.fbcdn.net/v/t1.15752-9/94318161_887396588390390_8811840609993097216_n.jpg?_nc_cat=106&_nc_sid=b96e70&_nc_ohc=AWcLOmXmk3YAX-wKPHM&_nc_ad=z-m&_nc_cid=0&_nc_zor=9&_nc_ht=scontent.xx&oh=a19ee2c3acb264c574fb86ccd5539fac&oe=5EC6A253\nhai món này giá bnhieu ạ",
           "Sản phẩm Xe chòi chân kiêm xe lắc cao cấp có nhạc Holla hiện shop đang có giá: *790,000 VND (giá gốc 1,200,000 VND)*.\nBạn tham khảo các sản phẩm sau nhé ạ:\n<show card sp>",
           "query_knowledge_base",
           "[\"url:['https://scontent.xx.fbcdn.net/v/t1.15752-9/94318161_887396588390390_8811840609993097216_n.jpg?_nc_cat=106&_nc_sid=b96e70&_nc_ohc=AWcLOmXmk3YAX-wKPHM&_nc_ad=z-m&_nc_cid=0&_nc_zor=9&_nc_ht=scontent.xx&oh=a19ee2c3acb264c574fb86ccd5539fac&oe=5EC6A253', 'https://scontent.xx.fbcdn.net/v/t1.15752-9/94342216_2472338469763544_5708094841569673216_n.jpg?_nc_cat=111&_nc_sid=b96e70&_nc_ohc=kg5-pAp7BTgAX-QEe_x&_nc_ad=z-m&_nc_cid=0&_nc_zor=9&_nc_ht=scontent.xx&oh=aeb84a7b6bfc81f1fdadcd81e0347482&oe=5EC8A82A']\", 'mention:món này', 'attribute:price']",
           "action_query_babe_kb"
          ],
          [
           "ok shop",
           "Vâng ạ!",
           "agree",
           null,
           "utter_agree"
          ],
          [
           "Chào shop",
           "Chào bạn, mình là trợ lý ảo của Shop Gấu & Bí Ngô, mình giúp gì được bạn ạ?",
           "greet",
           "[]",
           "utter_greet"
          ],
          [
           "Đồ eco còmybaby hết loại 6-9m hả chị",
           "Sản phẩm Eco Comfybaby độ tuổi sử dụng 6 - 9 tháng hiện đang hết hàng. Mời bạn tham khảo các sản phẩm khác đang có tại shop ạ.\n<Show random 5 cards>",
           "query_knowledge_base",
           "['object_type:quan_ao']['size:6-9m']",
           "action_query_babe_kb"
          ],
          [
           "ok shop",
           "Vâng ạ!",
           "agree",
           null,
           "utter_agree"
          ],
          [
           "https://scontent.xx.fbcdn.net/v/t1.15752-9/94615022_254702325575851_8685774369143652352_n.jpg?_nc_cat=107&_nc_sid=b96e70&_nc_oc=AQkW5yJT2whJY3uM6d13-4XyKcKwwf8gHNd-ED41EzYfoVcxoq3ogMZuuTsWcwYdCVqvspJWtELLeP0qWdOz4xNP&_nc_ad=z-m&_nc_cid=0&_nc_zor=9&_nc_ht=scontent.xx&oh=39335ddc3e910c63c2f92a71bc0721a2&oe=5EC5D7A0\nhttps://scontent.xx.fbcdn.net/v/t1.15752-9/94718995_656896051775135_4424984880991961088_n.jpg?_nc_cat=110&_nc_sid=b96e70&_nc_oc=AQmqj-ZwCy04a-EryIf2WLMm4Qvp9emjauY9QNfszWU48mpnGT7YnO-0OJhPHEpL8ykkfrGfYXp_1Pb3Q7FIuunG&_nc_ad=z-m&_nc_cid=0&_nc_zor=9&_nc_ht=scontent.xx&oh=eb24143022047722f3bba74d15534964&oe=5EC7896A\nhttps://scontent.xx.fbcdn.net/v/t1.15752-9/94278563_315945652700875_3393720721636065280_n.jpg?_nc_cat=107&_nc_sid=b96e70&_nc_oc=AQlu_SI7QRtyKEdwncW1fzfBqKQXFLU24Siyz8e0Kl_AT5LA2F-ihNTPCzaoj0XyStIeQPeFqeHSDe3t7fLokib0&_nc_ad=z-m&_nc_cid=0&_nc_zor=9&_nc_ht=scontent.xx&oh=a8c6f18333cf9f2b558c8e4c26ff2765&oe=5EC7387D\nShop báo giá e 3 sp này vs",
           "Sản phẩm  Xe tập đi đa năng cao cấp Holla hiện shop đang có giá: *750,000 VND (giá gốc 1,200,000 VND)*.\nBạn tham khảo các sản phẩm sau nhé ạ:\n<show card sp>",
           "query_knowledge_base",
           "[\"url:['https://scontent.xx.fbcdn.net/v/t1.15752-9/94278563_315945652700875_3393720721636065280_n.jpg?_nc_cat=107&_nc_sid=b96e70&_nc_oc=AQlu_SI7QRtyKEdwncW1fzfBqKQXFLU24Siyz8e0Kl_AT5LA2F-ihNTPCzaoj0XyStIeQPeFqeHSDe3t7fLokib0&_nc_ad=z-m&_nc_cid=0&_nc_zor=9&_nc_ht=scontent.xx&oh=a8c6f18333cf9f2b558c8e4c26ff2765&oe=5EC7387D', 'https://scontent.xx.fbcdn.net/v/t1.15752-9/94718995_656896051775135_4424984880991961088_n.jpg?_nc_cat=110&_nc_sid=b96e70&_nc_oc=AQmqj-ZwCy04a-EryIf2WLMm4Qvp9emjauY9QNfszWU48mpnGT7YnO-0OJhPHEpL8ykkfrGfYXp_1Pb3Q7FIuunG&_nc_ad=z-m&_nc_cid=0&_nc_zor=9&_nc_ht=scontent.xx&oh=eb24143022047722f3bba74d15534964&oe=5EC7896A', 'https://scontent.xx.fbcdn.net/v/t1.15752-9/94615022_254702325575851_8685774369143652352_n.jpg?_nc_cat=107&_nc_sid=b96e70&_nc_oc=AQkW5yJT2whJY3uM6d13-4XyKcKwwf8gHNd-ED41EzYfoVcxoq3ogMZuuTsWcwYdCVqvspJWtELLeP0qWdOz4xNP&_nc_ad=z-m&_nc_cid=0&_nc_zor=9&_nc_ht=scontent.xx&oh=39335ddc3e910c63c2f92a71bc0721a2&oe=5EC5D7A0']\", 'attribute:price']",
           "action_query_babe_kb"
          ],
          [
           "ok shop",
           "Vâng ạ!",
           "agree",
           null,
           "utter_agree"
          ],
          [
           "Cho mình link shoppe",
           "Mình chưa xác định được món đồ bạn hỏi, bạn mô tả rõ hơn giúp mình nhé!",
           "query_knowledge_base",
           "['attribute:link']",
           "action_query_babe_kb"
          ],
          [
           "Xe lắc đó b",
           "Dạ mời bạn xem sản phẩm tại đây ạ:\n<show card sp>",
           "query_knowledge_base",
           "['object_type: xe_tap_di','attribute:link']",
           "action_query_babe_kb"
          ]
         ],
         "hovertemplate": "x=%{x}<br>y=%{y}<br>z=%{z}<br>input_text=%{customdata[0]}<br>bot_text=%{customdata[1]}<br>intent=%{customdata[2]}<br>entities=%{customdata[3]}<br>action=%{customdata[4]}<br>cluster=%{marker.color}<extra></extra>",
         "legendgroup": "",
         "marker": {
          "color": [
           0,
           1,
           0,
           0,
           0,
           1,
           1,
           0,
           1,
           0,
           0,
           0,
           0,
           0,
           1,
           0,
           0,
           0,
           0,
           0,
           1,
           0,
           1,
           1,
           2,
           1,
           1,
           0,
           1,
           0,
           0,
           1,
           0,
           0,
           0,
           0,
           1,
           0,
           0,
           1,
           0,
           0,
           0,
           2,
           0,
           0,
           0,
           2,
           0,
           0,
           1,
           0,
           0,
           1,
           1,
           0,
           1,
           1,
           2,
           0,
           0,
           1,
           1,
           1,
           1,
           1,
           0,
           0,
           0,
           0,
           1,
           0,
           0,
           0,
           0,
           0,
           0,
           1,
           0,
           0,
           0,
           0,
           0,
           0,
           1,
           0,
           1,
           0,
           0,
           0,
           0,
           1,
           0,
           1,
           2,
           1,
           1,
           2,
           0,
           1,
           2,
           1,
           1,
           1,
           0,
           1,
           0,
           0,
           1,
           1,
           2,
           0,
           1,
           2,
           0,
           1,
           1,
           0,
           1,
           2,
           0,
           0,
           0,
           0,
           1,
           2,
           0,
           1,
           2,
           0,
           0,
           1,
           2,
           1,
           1,
           0,
           0,
           1,
           1,
           2,
           0,
           0,
           0,
           1,
           2,
           1,
           0,
           0,
           1,
           1,
           0,
           0,
           1,
           2,
           0,
           0,
           1,
           2,
           0,
           0,
           0,
           1,
           1,
           0,
           0,
           2,
           0,
           1,
           1,
           0,
           2,
           0,
           0,
           2,
           0,
           0,
           2,
           0,
           0,
           2,
           0,
           1,
           2,
           0,
           0,
           0,
           2,
           0,
           0,
           1,
           1,
           2,
           0,
           1,
           2,
           0,
           0,
           2,
           0,
           1,
           2,
           0,
           1,
           1,
           3,
           0,
           1,
           0,
           1,
           2,
           1,
           0,
           2,
           0,
           0,
           1,
           2,
           0,
           0,
           0,
           1,
           2,
           0,
           0,
           1,
           2,
           0,
           0,
           1,
           1,
           1,
           2,
           0,
           0,
           1,
           2,
           0,
           0,
           0,
           2,
           0,
           0,
           0,
           1,
           2,
           0,
           0,
           1,
           1,
           1,
           0,
           0,
           0,
           0,
           1,
           0,
           1,
           0,
           1,
           2,
           0,
           2,
           0,
           1,
           2,
           0,
           1,
           0,
           1,
           0,
           0,
           0,
           0,
           1,
           0,
           0,
           1,
           0,
           2,
           0,
           0,
           0,
           1,
           0,
           0,
           2,
           0,
           0,
           2,
           0,
           0,
           2,
           0,
           0,
           1,
           1,
           1,
           0,
           1,
           0,
           1,
           1,
           1,
           0,
           1,
           1,
           1,
           2,
           0,
           1,
           1,
           1,
           0,
           1,
           1,
           1,
           1,
           0,
           0,
           1,
           0,
           0,
           0,
           0,
           0,
           1,
           1,
           2,
           0,
           0,
           1,
           0,
           1,
           1,
           1,
           1,
           1,
           0,
           1,
           0,
           0,
           1,
           2,
           1,
           1,
           1,
           1,
           0,
           1,
           1,
           0,
           1,
           1,
           0,
           0,
           0,
           2,
           0,
           0,
           1,
           1,
           0,
           1,
           2,
           0,
           1,
           2,
           0,
           0,
           0,
           1,
           0,
           0,
           0,
           1,
           0,
           0,
           0,
           0,
           1,
           1,
           1,
           2,
           0,
           0,
           1,
           0,
           1,
           1,
           1,
           2,
           0,
           0,
           0,
           0,
           1,
           0,
           0,
           1,
           0,
           2,
           0,
           1,
           2,
           0,
           1,
           1,
           0,
           2,
           0,
           2,
           0,
           0,
           0,
           0,
           1,
           1,
           1,
           0,
           1,
           1,
           0,
           1,
           1,
           2,
           0,
           0,
           0,
           0,
           1,
           2,
           1,
           1,
           1,
           0,
           0,
           1,
           1,
           1,
           1,
           0,
           0,
           0,
           1,
           0,
           0,
           1,
           0,
           1,
           0,
           1,
           1,
           1,
           1,
           2,
           1,
           2,
           1,
           1,
           2,
           0,
           1,
           0,
           0,
           0,
           0,
           0,
           0,
           2,
           0,
           2,
           0,
           1,
           1,
           0,
           1,
           1,
           0,
           0,
           1,
           1,
           1,
           1,
           1,
           1,
           2,
           1,
           2,
           1,
           0,
           1,
           1,
           1,
           1,
           1,
           0,
           1,
           0,
           0,
           0,
           0,
           0,
           0,
           0,
           0,
           0,
           2,
           1,
           0,
           0,
           0,
           0,
           0,
           1,
           1,
           0,
           0,
           0,
           1,
           0,
           0,
           1,
           0,
           0,
           1,
           0,
           0,
           1,
           0,
           0,
           0,
           1,
           0,
           0,
           1,
           0,
           1,
           1,
           0,
           0,
           0,
           0,
           0,
           0,
           0,
           1,
           0,
           1,
           1,
           0,
           1,
           0,
           0,
           0,
           1,
           0,
           0,
           1,
           0,
           0,
           1,
           0,
           0,
           1,
           0,
           1,
           2,
           0,
           0,
           1,
           2,
           0,
           0,
           1,
           0,
           1,
           1,
           0,
           1,
           1,
           0,
           0,
           0,
           0,
           1,
           1,
           0,
           0,
           0,
           1,
           0,
           0,
           1,
           2,
           0,
           1,
           1,
           2,
           0,
           0,
           0,
           0,
           1,
           0,
           0,
           1,
           0,
           0,
           0,
           0,
           1,
           1,
           1,
           0,
           0,
           1,
           1,
           0,
           0,
           1,
           1,
           1,
           1,
           1,
           2,
           0,
           1,
           2,
           0,
           1,
           1,
           0,
           0,
           1,
           0,
           0,
           1,
           0,
           0,
           1,
           0,
           1,
           1,
           1,
           1,
           1,
           0,
           1,
           2,
           1,
           1,
           0,
           1,
           1,
           0
          ],
          "coloraxis": "coloraxis",
          "symbol": "circle"
         },
         "mode": "markers",
         "name": "",
         "scene": "scene",
         "showlegend": false,
         "type": "scatter3d",
         "x": [
          -0.05119122,
          -5.468654,
          -2.8832383,
          3.5861812000000004,
          13.328296,
          -3.3251245000000003,
          -3.1467384999999997,
          13.328334,
          -4.742239499999999,
          13.781819,
          -1.3292848999999998,
          1.1169873,
          13.781881,
          -1.3292796999999998,
          -6.5881232999999995,
          12.694653500000001,
          -0.07601909,
          2.2991639999999998,
          14.120871,
          -0.6222430999999999,
          -4.6280046,
          -3.9280665,
          -3.0200492999999997,
          -1.3944674,
          6.2497463,
          -1.2994101999999998,
          -2.21802,
          -2.0418828,
          -6.565815,
          -1.6598008000000002,
          1.529677,
          -1.8493271,
          13.477960999999999,
          -1.6597874,
          -2.9651525000000003,
          -2.8194191,
          -5.664377,
          11.978464,
          -2.7382364,
          -3.6164687000000004,
          13.942239,
          0.079675786,
          0.38915017,
          6.249747,
          12.376851,
          -0.50286275,
          0.92269737,
          6.249747,
          12.006949,
          -0.7943752,
          -4.582544,
          11.990811,
          -2.1504896000000002,
          -3.0648869999999997,
          -3.3432426,
          -3.7913069999999998,
          -5.5184336,
          -4.3532944,
          6.249747,
          0.6662085,
          -3.5313215,
          -3.7710502,
          -9.101099000000001,
          -7.507045,
          -3.145946,
          -9.099033,
          -2.1577806,
          0.9046554,
          14.296164000000001,
          1.4027326999999998,
          -3.2949078000000003,
          13.590141000000001,
          -0.47488105,
          1.9979738,
          12.633411,
          14.056218,
          -0.49350202,
          -1.3754354,
          0.7746513,
          1.5180354999999999,
          0.77220297,
          -2.0091221000000004,
          0.94027275,
          0.08404927,
          -7.987578999999999,
          -2.1092197999999995,
          -0.19208431,
          0.83939725,
          0.9428034,
          13.121474,
          -0.81825143,
          -3.7710502,
          -0.54632854,
          -3.2614071,
          6.249752,
          -3.845946,
          -3.3799667,
          -0.008793641,
          14.424417000000002,
          -4.844608,
          -0.008877401,
          -7.9933505,
          -4.737215,
          -4.233031700000001,
          -0.26340749999999996,
          0.06229301,
          0.07488550000000001,
          0.79649204,
          -7.833025500000001,
          -6.1514163,
          6.2497463,
          0.13294812,
          -2.9358428,
          -0.80877215,
          -2.6550324,
          -7.5356502999999995,
          -1.6836738999999998,
          -0.18060231,
          -2.1101892,
          -0.06587778,
          0.2803693,
          0.27617344,
          1.3731927,
          12.810031,
          -3.7891765,
          3.3803926,
          0.18871255,
          -5.541174400000001,
          4.358585400000001,
          0.18868722,
          0.7615331,
          -4.9311023,
          3.5455122,
          -3.8629086000000004,
          -1.097753,
          12.458949,
          2.1570818,
          -5.034455,
          -3.718119,
          3.8664095,
          15.243246,
          -1.2281166000000001,
          -1.8638073,
          -1.9038537,
          -0.7226731,
          -3.4267355999999998,
          -3.2403880000000003,
          -0.7249478,
          -3.7409735,
          -6.553461599999999,
          11.477753,
          3.6868239999999997,
          -3.8151681000000006,
          -0.966463,
          2.4491172000000003,
          -3.8319687999999994,
          -5.475733,
          -0.4763587,
          2.3348767999999995,
          -3.8319205999999997,
          0.74855304,
          -4.994905,
          -7.8493775999999995,
          3.8234894,
          -1.5790375,
          2.0675476,
          0.9311254000000001,
          -4.464282,
          -2.1216316,
          -0.30056986,
          -0.6462223000000001,
          12.815529,
          -0.27780659999999996,
          -0.47643536,
          12.317314999999999,
          -0.45484215,
          -0.47635925,
          -4.390016999999999,
          -1.0984539,
          4.2229779999999995,
          -1.0782218000000001,
          -5.1304492999999995,
          4.474694,
          -4.363221599999999,
          -0.6617619,
          -0.43699449999999995,
          3.337447,
          13.760206,
          3.0641084,
          -2.128052,
          -1.8323393,
          3.8702347,
          11.719592,
          -6.949039999999999,
          6.249747,
          12.694919,
          2.6681150000000002,
          2.0675943,
          -2.617543,
          -4.9949069999999995,
          2.0675476,
          13.155698000000001,
          -3.4614189,
          -3.9849536,
          -90.85027,
          12.511536,
          -6.331508599999999,
          -4.3445599999999995,
          -1.078001,
          4.5456667,
          -5.6605506,
          -0.21907564,
          4.634563,
          11.771971,
          0.9151974,
          -4.9617059999999995,
          4.5944294999999995,
          11.771931,
          0.9152135,
          2.5319083,
          -6.0901504,
          -0.08607291,
          14.347278,
          1.8345016,
          -2.5939688999999997,
          3.347833,
          14.347399,
          1.8345042,
          -3.5661987999999996,
          -4.312663,
          -5.914378599999999,
          3.937708,
          14.130710999999998,
          -0.07942300000000001,
          -4.429572599999999,
          3.5667806000000004,
          15.650282,
          3.2099764,
          -3.6645446,
          4.1571174,
          15.650198999999999,
          2.7160040000000003,
          -3.6333949999999997,
          -3.815096,
          3.8549328000000003,
          1.2618011999999998,
          0.22036803,
          -3.9980397000000005,
          -4.238338,
          -5.2864656,
          2.2560997000000005,
          -1.2264681,
          -0.35163796,
          -3.3584300000000002,
          -3.365542,
          -1.6590438000000003,
          -3.4636714,
          -3.2063339,
          -3.7998260999999998,
          3.8320038,
          -0.96901995,
          3.6794333,
          -0.96902066,
          -2.4954414000000003,
          -0.81394327,
          -0.99588764,
          -1.4330745,
          -1.2656178,
          -4.353957,
          12.647183,
          -2.1702816,
          14.296167,
          1.5097871,
          -0.19188209,
          -0.3276385,
          -0.26340735,
          0.06559731,
          0.07476593,
          4.413285299999999,
          15.242977,
          -1.2282903,
          -1.8637965,
          -4.3762636,
          11.811253,
          3.6868230000000004,
          -0.8878985999999999,
          -2.9069724,
          1.303608,
          -0.31114742,
          14.3474,
          1.8345015,
          3.9770138,
          14.130718,
          1.2608446000000002,
          -0.43069705,
          -2.1539757,
          -0.40471333,
          -1.7269883999999998,
          -3.9849707999999997,
          1.1136104,
          -4.7795385999999995,
          -4.779533,
          -2.1914232000000005,
          2.3007638,
          -1.8901917000000001,
          -1.8325984,
          -6.532143,
          2.0675476,
          3.2000117,
          -1.9658133999999998,
          -1.832602,
          -2.1326668,
          3.1996884,
          -2.2300475,
          -3.9130504,
          -5.449946,
          0.7295965,
          -3.437008,
          -2.612688,
          -2.5142453,
          12.0634775,
          -1.0449435,
          -4.325344,
          -2.5535164,
          -0.32841042,
          -2.4194279,
          -6.771172999999999,
          -0.72231454,
          -4.6896424,
          -3.3388057,
          -3.974739,
          -0.333502,
          -5.9566455000000005,
          -3.974739,
          0.07092396,
          -1.8326011999999998,
          -0.6871073000000001,
          -3.1006534,
          -5.631406,
          -2.8778725,
          0.723532,
          -7.6954694,
          -0.7447535,
          -4.812243,
          -0.77724063,
          -6.7104383,
          -2.3034282000000004,
          3.4042468,
          -2.1739142000000005,
          -1.8326018,
          -3.00293,
          -6.867047299999999,
          -2.1437732999999994,
          -0.6273224000000001,
          1.5956037,
          2.547498,
          3.5768873999999995,
          13.922939000000001,
          -3.7343297,
          -4.947605,
          -6.945544,
          1.6768319999999999,
          -7.3701024,
          4.111148,
          13.054397999999999,
          -4.894753,
          3.6148569999999998,
          2.6158147,
          12.269687,
          -2.425958,
          -6.8599820000000005,
          13.209154999999999,
          13.209067000000001,
          -1.2076688999999998,
          -3.3568977999999996,
          3.6461300000000003,
          -3.7698080000000003,
          11.209228,
          -2.1975515,
          -3.4011053999999996,
          -4.420313,
          -2.0298990000000003,
          4.313879,
          12.531602000000001,
          2.341032,
          -2.0540477999999998,
          -3.0086784,
          -7.584445,
          -8.180322,
          -2.4258978,
          4.3209976999999995,
          13.054397999999999,
          0.58698183,
          12.063495,
          2.1887232999999995,
          0.2643975,
          -1.6598008000000002,
          1.5297281999999999,
          -1.6311883999999999,
          2.9126494,
          3.008102,
          -0.31437367,
          -0.44296792,
          3.0078597,
          0.09043402,
          -0.44296807,
          -0.49874586,
          0.65700746,
          3.309043,
          -2.4566545,
          3.309043,
          -0.85236305,
          0.3293736,
          -3.5053287,
          -0.011776364,
          -5.0781627,
          -5.771135299999999,
          -1.3532621,
          -1.635332,
          -4.5451307,
          -6.3777365999999995,
          -0.24636501,
          -1.9360674999999998,
          -3.502318,
          3.008102,
          1.5002375,
          0.35170619999999997,
          11.708243,
          -3.1030362,
          -5.499425,
          3.309043,
          -5.271658,
          -3.5879726,
          -3.7428591,
          -2.2031188,
          -1.6855595,
          -0.44296798,
          -1.0778758999999998,
          -3.5880375,
          -1.4425834,
          1.7230463,
          -4.421311,
          -0.94015986,
          -7.179023,
          -1.8941002,
          0.44007340000000006,
          -3.4438095,
          1.6544860000000001,
          -5.00408,
          -0.17027645,
          -1.9983528999999998,
          -3.5405562000000006,
          -3.4748778,
          0.072144896,
          3.2611022000000003,
          -2.8354132,
          3.5508330000000004,
          -3.176069,
          -3.7182522000000002,
          4.194332599999999,
          1.6083406,
          -4.796067,
          12.682454,
          1.3110938,
          12.682344,
          1.0833168,
          12.682451,
          2.8049967000000002,
          4.0405416,
          -1.9855192,
          4.0405416,
          0.26986033,
          -4.2681913,
          -4.342979,
          13.499454,
          -5.238375,
          -4.3115625,
          2.0002773,
          2.5124388,
          -5.069810400000001,
          -4.4404845,
          -3.7181191,
          -5.9955099999999995,
          -5.829528,
          -3.7182522000000002,
          4.0405474,
          -4.561807,
          4.040548,
          -4.5617747,
          4.1834335,
          -2.3071662999999996,
          -1.8744133,
          -4.5089607,
          -7.978872999999999,
          -6.947686999999999,
          12.129932,
          -1.2342521,
          -1.344249,
          2.0256546,
          -1.4875486,
          2.0254765,
          26.502934999999997,
          1.5300856000000003,
          12.880306,
          0.55291444,
          4.065729,
          5.573538,
          -7.7088695000000005,
          2.689779,
          -4.315856,
          -2.2121816,
          2.1740972999999997,
          3.461153,
          -1.8883966,
          -4.208924,
          2.1740972999999997,
          3.4610991,
          -0.41868496,
          -2.4619906000000005,
          2.1740985,
          0.08618611,
          -2.46195,
          2.1740386000000003,
          0.1949984,
          -2.4619908,
          2.1740372000000003,
          0.9903511999999999,
          -2.4624113999999997,
          -1.8519084,
          14.945598,
          1.7591933000000002,
          -4.060665,
          -1.8521444999999999,
          -0.92431104,
          -4.1133385,
          3.5115206,
          -1.8887009999999997,
          -1.832336,
          0.03001514,
          -0.7064471,
          3.3458282999999995,
          -0.41822064,
          -2.9216583,
          -0.09134126,
          -2.9216132000000004,
          -4.35325,
          3.3301828,
          -2.1282997000000003,
          -1.8326012999999999,
          -0.17500736,
          -7.5709577,
          2.1782796,
          -0.41788919999999996,
          0.76791257,
          -1.5363414,
          -1.0087126,
          2.0173109,
          -1.9244511000000002,
          -1.0093851,
          2.0173109,
          -4.128334,
          1.9842351999999999,
          -0.41704682,
          -1.5363418,
          -1.3315887,
          -2.4624118999999998,
          -0.72267306,
          11.4191,
          1.2596056,
          -1.5363393,
          -0.72267306,
          11.419298,
          1.7538056,
          -1.5363414,
          2.6657722,
          -2.1280618,
          -4.5583477,
          2.1734888999999997,
          -2.1280452999999997,
          -4.558347,
          -2.9291227,
          4.7768616999999995,
          13.173777,
          1.5537288999999999,
          -1.8902710999999999,
          -4.5585127,
          13.173777,
          2.279431,
          -3.1332318999999997,
          -4.1990894999999995,
          13.173776,
          -2.380236,
          -4.0058722,
          -0.08607283,
          3.98086,
          -2.4190728999999997,
          -4.557867,
          -0.31114742,
          3.7833025,
          0.7804466999999999,
          0.09867387,
          -0.5132623,
          -3.7710502,
          2.6641276,
          0.47726774,
          -0.63715833,
          -0.5132632,
          -0.09877739,
          -0.5010089,
          -0.5319869,
          -0.671381,
          -5.588234,
          -1.3579625,
          15.142682999999998,
          3.3488758,
          -1.2076796,
          -4.5585113,
          15.142682,
          3.3488620000000004,
          -1.9590319999999999,
          -0.671381,
          -6.258182499999999,
          -6.4011545,
          -7.471537599999999,
          -0.31114814,
          -3.7153977999999994,
          -1.1164003999999998,
          -0.08607305,
          -3.7153977999999994,
          -1.3898556999999998,
          -5.968806,
          2.7878578,
          -3.7325356,
          -3.0263677,
          2.2371267999999995,
          -3.4904474999999997,
          -3.026441,
          -3.0947666000000003,
          0.9847974,
          -0.671381,
          -4.316211,
          -6.118587000000001,
          -4.6362343,
          -3.6471279,
          -4.636083599999999,
          -5.5136027,
          -1.3596492,
          -4.5112195,
          3.3090434,
          -4.787573,
          -4.7387385,
          -3.4334477999999997,
          -4.946396400000001,
          -1.5831903999999999,
          2.9732258
         ],
         "y": [
          -3.709161,
          7.4341946,
          -0.9584606,
          -10.208497,
          3.486925,
          3.300136,
          7.254457,
          3.4869132000000005,
          5.4949555,
          3.0690186,
          -10.527935000000001,
          -9.084532000000001,
          3.069054,
          -10.527942,
          7.5500355,
          2.7686615000000003,
          -10.930218,
          -2.7647145,
          3.5885794,
          -10.094602,
          -0.40929493,
          -2.1801376,
          1.4157511999999999,
          6.9503639999999995,
          0.8678519,
          5.1688747,
          3.0542853,
          -9.73685,
          7.0182023000000004,
          -10.1991415,
          -6.445696,
          1.0050849,
          3.5815141,
          -10.314046000000001,
          -8.02816,
          -1.4122865,
          10.778979,
          4.4922830000000005,
          -5.349492,
          1.9546758000000002,
          5.107256400000001,
          -10.459013,
          -3.7065792,
          0.86785185,
          3.9002578000000003,
          -10.422963000000001,
          0.7199734,
          0.86785185,
          4.7907057,
          -9.567611999999999,
          1.1686056,
          3.6143796000000004,
          -9.848761999999999,
          6.11454,
          6.0185122,
          -4.3808055,
          6.538779,
          11.4874525,
          0.8678520000000001,
          0.67893,
          -5.72452,
          11.795711,
          10.375678,
          10.947908,
          1.509931,
          10.351164,
          -6.338954,
          -4.85815,
          3.3436519999999996,
          -12.399913,
          -0.12601894,
          4.0188217,
          -10.119427,
          -7.956583500000001,
          3.598996,
          4.5122046,
          -11.8595085,
          2.5016703999999996,
          -5.2029166,
          -6.868436,
          -0.2446571,
          -9.797581,
          -5.956255400000001,
          -6.8307266,
          8.435699000000001,
          -3.9445373999999997,
          1.5382788,
          -6.0219398,
          -6.033014,
          4.489914,
          -9.739479,
          11.795711,
          -0.30999342,
          5.795372,
          0.8678657,
          5.444287999999999,
          2.3205152,
          -0.8510145,
          4.0892034,
          5.4272904,
          -0.85124797,
          8.687775,
          1.184735,
          6.6897225,
          -13.204557000000001,
          1.2927878000000002,
          -5.303074,
          0.32429314,
          10.519908000000001,
          9.30561,
          0.8678519,
          -8.462386,
          8.781867,
          1.1120832,
          -4.2482643,
          10.28857,
          2.4794862,
          -2.556022,
          6.755587599999999,
          -0.7778503000000001,
          -2.2628906000000004,
          -7.3545485,
          -8.896041,
          5.35536,
          5.045391599999999,
          0.52694094,
          -2.9604022999999997,
          10.783078999999999,
          -0.49313483,
          -2.9603975,
          -5.1656017,
          12.428092999999999,
          -0.30026802,
          5.1716137,
          0.9740266,
          4.293636,
          -3.4406357000000005,
          5.5229397,
          10.913594999999999,
          -0.14448944,
          2.8544877,
          -2.1290097,
          -0.7545033,
          2.555365,
          -0.11632747,
          0.7835946,
          -0.6899264,
          -6.1233525,
          3.853239,
          9.820814,
          4.2573833,
          -12.000694000000001,
          3.589083,
          1.566749,
          -3.9885106,
          -6.401279,
          10.721743,
          0.16832504,
          -3.6744692000000003,
          -6.4012995,
          -1.2153383,
          12.360961999999999,
          8.173675,
          -12.07262,
          -3.7259097000000003,
          -0.60875785,
          -5.1781607,
          6.4287944,
          7.790568400000001,
          -11.136839,
          0.39838237,
          2.840472,
          -9.235989,
          0.16827841,
          2.0767290000000003,
          -1.9118528000000001,
          0.1683245,
          -2.7725402999999997,
          -1.9055723000000002,
          0.7244967,
          -1.8623669999999999,
          12.042771,
          -0.5401944000000001,
          -2.8480365,
          -2.4340122,
          0.28355736,
          -0.08571054,
          4.672451000000001,
          -8.988934,
          5.1774059999999995,
          6.407377200000001,
          0.059777774000000006,
          3.5498629,
          9.3330345,
          0.86785185,
          5.2436404,
          -10.662411,
          -0.60845923,
          -4.077548999999999,
          12.3609495,
          -0.6087578,
          2.3242984,
          -0.69163084,
          10.32155,
          -20.268997,
          4.443071400000001,
          5.015503400000001,
          -7.0523229999999995,
          1.0414550999999999,
          0.34593132,
          8.569233,
          -0.66425353,
          -0.09883195,
          2.519765,
          -1.2701327,
          11.76795,
          -0.13366544,
          2.519861,
          -1.2701238000000001,
          -8.458362,
          10.838215,
          -0.28349048,
          2.0308740000000003,
          -9.483402,
          2.1803548,
          0.4196654,
          2.030879,
          -9.483410000000001,
          5.77221,
          12.124403,
          9.566398,
          -0.7268958999999999,
          4.107143,
          -4.7659139999999995,
          6.850103,
          -0.5893079999999999,
          2.9293782999999998,
          -8.852046000000001,
          -5.420165,
          0.22630437,
          2.9294198,
          -7.6180744,
          -4.83751,
          3.588798,
          -0.39941218,
          -1.4976029,
          -7.9940076,
          1.0874226999999999,
          1.7605017,
          11.618253999999999,
          -11.946862,
          -1.7341875,
          -3.4705732000000005,
          -0.1536399,
          -0.06792691,
          -3.4801245,
          1.7606026999999997,
          -0.22628729,
          0.6359199999999999,
          0.80595815,
          -7.497010700000001,
          0.6398515,
          -7.49701,
          7.3582134,
          1.1974828000000002,
          -1.9084922999999998,
          1.569626,
          -6.6863303,
          11.486212,
          2.4108157,
          -6.304759,
          3.3436852,
          -12.488286,
          1.5385711000000002,
          -3.4371457000000003,
          -13.204557999999999,
          1.2928853,
          -5.3030715,
          0.42331746,
          2.8531458,
          -2.1286325,
          -0.7545079,
          12.524416,
          3.0923990000000003,
          -12.000699000000001,
          1.3748391000000002,
          -3.4357982000000002,
          -5.8767467,
          -0.5114493,
          2.0308759999999997,
          -9.483402,
          0.61463326,
          4.1070914,
          -9.323203999999999,
          6.126493,
          7.7093678,
          2.168181,
          -1.495343,
          10.321562,
          -5.606471,
          1.5696691999999999,
          1.5697653,
          7.0801110000000005,
          -6.8144946,
          5.261924700000001,
          6.4075637,
          10.592328,
          -0.60875785,
          -8.706507,
          4.773281,
          6.4075675,
          7.6912,
          -8.706623,
          5.072525499999999,
          2.4721637000000003,
          11.308628,
          0.7627971,
          -6.1993337,
          -5.208180400000001,
          7.2702084000000005,
          3.301314,
          -8.725394999999999,
          -6.8461227,
          -3.4444551,
          0.062183466,
          0.84932184,
          9.485327,
          0.6482885,
          -6.4967445999999995,
          -1.2385656,
          2.986645,
          0.068603076,
          6.46399,
          2.986645,
          1.2805539,
          6.40757,
          3.010248,
          -0.8991271000000001,
          11.3219795,
          -5.938016,
          -6.2256956,
          11.132626,
          0.732082,
          1.4940058,
          0.56651145,
          9.776253,
          2.0718726999999997,
          -4.7994566,
          5.584547,
          6.4075665,
          -3.7927894999999996,
          7.396403,
          7.4036527,
          -10.327154,
          -4.9484572,
          -10.925471,
          0.24116632,
          4.172311,
          -4.4571867,
          2.7055013,
          9.118279,
          -6.421896,
          8.73902,
          -0.6226783,
          4.0685873,
          0.43757707,
          0.33358154,
          -8.446086,
          2.6065443,
          -6.338661699999999,
          8.535507,
          1.9995147,
          1.9995685,
          -1.7571846999999998,
          0.46115659999999997,
          -5.2899523,
          -6.883408500000001,
          4.041653,
          -5.747323000000001,
          2.5106895000000002,
          3.3264883000000003,
          7.993492,
          -0.05277215,
          2.2152605,
          -9.841673,
          2.720558,
          -1.1292992,
          11.373,
          11.567775,
          1.0866772,
          -0.22076917,
          4.0685873,
          -5.00427,
          3.3014019999999995,
          -9.279541,
          1.2673839,
          -10.1991415,
          -6.4456983,
          1.1814263,
          -12.3322525,
          -1.6152473999999999,
          -2.0381709999999997,
          6.010112,
          -1.6155415000000002,
          -2.9737966,
          6.010112,
          2.2892069999999998,
          -2.3765266,
          -2.5415657000000005,
          -4.81616,
          -2.5415657000000005,
          -2.7000827999999997,
          -7.158380999999999,
          -3.7424904999999997,
          -3.5100904,
          12.231397,
          7.4167333,
          1.6299002,
          -9.031614,
          12.582452,
          6.901697,
          -7.5259714,
          6.1703790000000005,
          2.7953694,
          -1.6152473999999999,
          -4.8626146,
          -1.4235291,
          4.632134,
          -3.7393126000000003,
          5.6238766,
          -2.5415657000000005,
          7.3929524,
          8.779974000000001,
          5.55089,
          -9.085853,
          -7.013907400000001,
          6.010112,
          1.5601971000000001,
          8.780232,
          4.790878299999999,
          -2.2084076,
          -1.9214168000000003,
          -3.6110160000000002,
          10.305887,
          -5.953862,
          -8.442084,
          -0.686461,
          -4.825680999999999,
          11.784492,
          -5.113589,
          3.6103389999999997,
          0.9177208,
          0.8160829,
          2.37332,
          0.037303473999999996,
          1.9147202,
          -0.48678464,
          -0.6778335999999999,
          10.913094000000001,
          0.49849849999999996,
          -4.383441400000001,
          4.8714814,
          2.4068935000000002,
          -7.903766,
          2.4068966,
          -8.592599,
          2.4068813,
          -10.909692,
          -2.4439955,
          -1.4952903,
          -2.4439952000000003,
          -6.1447883,
          12.321341499999999,
          2.7659526000000003,
          4.2604413,
          4.2350907,
          12.125995,
          -2.5115347000000003,
          -3.3013318,
          5.0618973,
          2.2332196,
          10.913594999999999,
          9.8000765,
          8.804418,
          10.913094000000001,
          -2.4440560000000002,
          0.90741724,
          -2.4440560000000002,
          0.9073773999999999,
          -10.680449000000001,
          6.879531399999999,
          1.4755399,
          7.919662,
          11.368198,
          10.512072,
          4.588204,
          1.1759639,
          -1.4164964,
          -10.727808,
          -2.0011623,
          -10.727791,
          -29.857233,
          -7.022498,
          4.2401114,
          -6.363181,
          -10.461162,
          1.4087132,
          11.518272,
          -9.253675999999999,
          -2.4376206000000002,
          -5.385269999999999,
          -11.299913,
          -4.725333,
          5.2602797,
          6.609977000000001,
          -11.299914,
          -4.7254734,
          -12.056474,
          7.930623,
          -11.29992,
          -12.671847999999999,
          7.9306674,
          -11.29998,
          -12.631621,
          7.930623,
          -11.2997875,
          -11.193647,
          7.9306808,
          -10.094130499999999,
          4.9435150000000005,
          -12.459622,
          11.814311,
          -10.094134,
          -10.374938,
          11.784395,
          -4.9286637,
          5.2605867,
          6.4073709999999995,
          -11.521719000000001,
          -4.545390599999999,
          -4.1136484,
          -12.056411,
          -7.8586674,
          -11.4418955,
          -7.85837,
          11.487558,
          -5.728962,
          5.177826400000001,
          6.407569400000001,
          -12.178014,
          10.957991,
          -3.6819366999999996,
          -12.056849,
          -8.873362,
          6.914051,
          -11.557111,
          -12.336261,
          0.95542145,
          -11.556872,
          -12.336261,
          -0.46166217,
          -2.436248,
          -12.056777,
          6.9140515,
          -9.898136000000001,
          7.9306808,
          -0.11632799,
          4.295674,
          -12.349842,
          6.914052000000001,
          -0.11632824,
          4.29568,
          -11.095591,
          6.914051,
          -3.2924330000000004,
          5.177411,
          10.002226,
          -1.0458872,
          5.1774035000000005,
          10.002218,
          -5.205254599999999,
          -9.506559,
          1.1536486000000001,
          -1.4075241000000003,
          5.2617364,
          10.001758,
          1.1536486000000001,
          -3.83244,
          -7.341639999999999,
          10.765049000000001,
          1.1536487,
          -6.4469970000000005,
          10.165212,
          -0.2834906,
          -12.5859995,
          5.704179,
          10.002303,
          -0.5114491,
          -12.459638,
          -9.066231,
          -7.565953299999999,
          -10.710099000000001,
          11.795711,
          -11.182775,
          -7.7591796,
          0.59038895,
          -10.710098,
          -8.742214,
          -10.408131,
          -7.096894,
          2.0585837,
          7.230847,
          7.1159669999999995,
          2.2917936,
          -11.845377000000001,
          3.6551147000000004,
          10.001759,
          2.2917937999999998,
          -11.843755999999999,
          5.751073,
          2.0585837,
          8.303107,
          8.372739,
          10.463688000000001,
          -0.5114494,
          -5.0576663,
          4.416237000000001,
          -0.28349122,
          -5.0576663,
          5.509824,
          8.753081,
          -3.2673006,
          -5.0955863,
          8.1179085,
          -1.0195351000000001,
          -6.089926,
          8.117687,
          -4.476387,
          -10.279382,
          2.0585837,
          -6.8425226,
          10.652159,
          6.710000999999999,
          4.941954,
          6.7102556,
          9.121117,
          -7.5757494,
          11.914636999999999,
          -2.5415653999999996,
          4.236137,
          12.546999000000001,
          -3.1384435,
          11.764296,
          5.258354,
          -3.5634725
         ],
         "z": [
          0.44235957,
          4.304721,
          0.7203267,
          -0.7151002,
          2.7585843,
          2.8395287999999996,
          -0.8578377,
          2.7585883,
          3.7289593,
          4.8826336999999995,
          4.241428,
          0.034494582999999995,
          4.882585,
          4.241423999999999,
          3.5213419999999998,
          3.8720295,
          3.8227309999999997,
          -0.75418556,
          2.7602408,
          4.5986724,
          4.7732663,
          5.6185765,
          1.4307616,
          -5.759417,
          -17.33156,
          -4.9597783,
          0.25390506,
          5.92941,
          3.2294655,
          5.6010857000000005,
          -0.93655556,
          -4.244805,
          5.059957499999999,
          4.9794297,
          6.125886,
          4.271113,
          0.34477141,
          5.284343700000001,
          4.8805629999999995,
          2.0456922,
          4.434561,
          3.5134287000000004,
          3.7374637,
          -17.33156,
          3.8759832000000003,
          3.5884106,
          -1.5074329,
          -17.33156,
          5.909606,
          4.163343,
          3.2942517,
          3.7291842000000006,
          4.544745400000001,
          1.1650311000000002,
          1.0111376,
          6.037228,
          3.5916580000000002,
          -4.3808489999999995,
          -17.33156,
          -2.384357,
          6.7922583,
          -4.1697125,
          4.1219044,
          2.9703255,
          1.5148492,
          4.125501,
          4.6253777000000005,
          -1.7737167,
          4.7575026,
          2.0382674,
          3.1478853,
          4.2640294999999995,
          3.2256622000000004,
          -1.1138451999999999,
          5.334011599999999,
          5.21359,
          2.9577916,
          -0.44835168,
          3.3244987,
          -0.8630914000000001,
          -1.6421961999999999,
          5.95783,
          2.3954146,
          1.5491371,
          3.3696352999999997,
          0.9993316999999999,
          -2.6246796000000003,
          2.7579540000000002,
          1.8571478,
          4.8737187,
          3.6597552,
          -4.1697125,
          -0.7263571,
          0.5091104999999999,
          -17.331572,
          2.5941405,
          4.137925,
          -14.989263000000001,
          3.3182745000000002,
          4.031004,
          -14.988838000000001,
          3.325829,
          2.1499667000000002,
          1.28884,
          2.4654446,
          -1.6708081999999997,
          4.1272917,
          -1.10022,
          3.6286833,
          2.67568,
          -17.33156,
          1.1075306999999999,
          -2.5232565,
          -13.945966,
          3.551428,
          3.4750023000000003,
          -0.8629157,
          4.286703599999999,
          -4.7390766,
          -15.062235000000001,
          2.6598437,
          0.91686887,
          -0.8091081,
          3.6837160000000004,
          2.7087789,
          -16.490988,
          3.6348739,
          0.16709991,
          -15.899645999999999,
          3.63459,
          2.8913572,
          -3.5730943999999996,
          -15.956863,
          2.6328096000000003,
          -1.5533878,
          4.0801,
          -0.041129947,
          4.217462,
          -4.163643,
          -17.041313,
          4.916960700000001,
          1.6461017,
          1.4836146000000001,
          -0.14006735,
          -15.449354000000001,
          4.1165037,
          4.359153,
          3.8853426,
          3.2374718,
          3.5391736000000003,
          6.452142,
          0.20294794,
          2.1759455,
          -13.428648999999998,
          -0.1975273,
          6.4288305999999995,
          0.10873324,
          -15.994913,
          -0.17780020000000002,
          6.428790599999999,
          0.55002457,
          -2.7720056,
          3.3660405,
          -0.08738757,
          2.8370721000000003,
          -15.383497,
          0.90378004,
          1.4555844,
          -6.8230023,
          1.7907316999999998,
          -15.299833,
          3.8742053999999997,
          2.1860838,
          -15.994906,
          3.9932363,
          2.787328,
          -15.994912,
          6.4427676,
          2.3297734,
          -16.13286,
          3.533981,
          -3.4900577000000004,
          -16.356503,
          6.4246154,
          0.43855125,
          -0.8256011999999999,
          -16.737894,
          5.638673000000001,
          -1.7749343999999998,
          -0.39759234,
          -5.3248057,
          -15.517067,
          4.3512319999999995,
          3.2189991,
          -17.33156,
          3.1106935,
          -1.1327869,
          -15.383322,
          2.9279506,
          -2.7719994,
          -15.383496,
          4.137819,
          0.51439595,
          -2.433859,
          173.38654,
          3.8595872000000004,
          3.2808952000000007,
          7.098273299999999,
          -0.43572882,
          -15.957987,
          3.270079,
          -0.52742976,
          -15.966818,
          5.080315000000001,
          0.51479983,
          -3.2235273999999996,
          -16.457035,
          5.0801635,
          0.5147938,
          -1.5088726000000001,
          1.1975013,
          -15.573412,
          4.6550746,
          -1.5721211000000002,
          0.8709796999999999,
          -16.086414,
          4.655075,
          -1.5721242,
          1.5859444,
          -2.990534,
          2.5149310000000002,
          -16.236567,
          4.047505999999999,
          1.1418813,
          2.15055,
          -16.35744,
          5.099811,
          -1.6285017,
          6.0431550000000005,
          -16.921235999999997,
          5.0999007,
          -1.6505451,
          5.892817,
          2.1762892999999996,
          -15.75805,
          0.9003549999999999,
          0.8317859000000001,
          3.8526722999999996,
          3.191507,
          -1.3210742,
          0.63160825,
          2.8430266,
          2.0872896,
          4.0857763,
          4.025323,
          2.5889292,
          4.108928,
          3.8854208,
          4.943792,
          -16.347839999999998,
          2.4662304,
          -15.825173000000001,
          2.4662313,
          -1.9084485,
          -13.824248999999998,
          0.08964049,
          -0.51792794,
          4.1867849999999995,
          -4.3806650000000005,
          3.166737,
          4.6249895,
          4.7575097,
          1.980691,
          -2.6246183,
          2.3488803,
          2.4654446,
          -1.6707145,
          4.127537,
          -16.462364,
          4.916964,
          1.6459898999999998,
          1.4836106000000002,
          -3.2613065,
          3.4211147000000004,
          0.20286734,
          -13.648689000000001,
          2.5865335,
          -1.9480282,
          -15.682178500000001,
          4.6550727,
          -1.5721203000000001,
          -16.73163,
          4.047547,
          -0.15797366,
          -4.9009089999999995,
          -6.809478299999999,
          -4.2540255,
          1.087461,
          -2.4338462000000005,
          -1.9727221999999998,
          2.3200345,
          2.32006,
          -2.3516220000000003,
          -1.5321171999999998,
          -0.26348048,
          -5.3241925000000005,
          2.201156,
          -15.383497,
          -1.5520066000000001,
          0.08900633,
          -5.32419,
          -6.813969,
          -1.5517696,
          0.42159197,
          3.3555517,
          -0.6154812,
          -2.9118805,
          6.2958099999999995,
          5.2409225,
          -1.8376781999999998,
          5.511367,
          3.7978283999999998,
          7.0276613,
          1.9550918000000002,
          -0.57730967,
          1.0950571000000002,
          3.087621,
          -14.459210999999998,
          6.9611472999999995,
          4.747003599999999,
          2.783894,
          -0.717755,
          3.2332394,
          2.783894,
          -2.9892964,
          -5.3242025,
          -1.3958396999999998,
          4.317817,
          -0.28303966,
          5.226204,
          2.0761533,
          2.6530720000000003,
          -14.409353,
          3.251293,
          -0.6693110999999999,
          3.1114118,
          0.5417204000000001,
          -0.32982385,
          -0.08320661,
          -5.3241906,
          4.388869000000001,
          3.4283322999999997,
          -3.7955065,
          2.426973,
          -0.11354535,
          -1.2252283000000002,
          -15.677548000000002,
          6.300911,
          6.026476000000001,
          2.3865237,
          3.3034352999999994,
          -2.172713,
          4.0212297,
          -16.714075,
          3.6116161,
          4.8005776,
          -16.925695,
          -1.2564341,
          2.7103596000000003,
          5.027775,
          3.6411989,
          2.3107330000000004,
          2.3107376,
          0.20197704,
          4.659404,
          -0.78001523,
          6.524838,
          5.1437406999999995,
          4.199582599999999,
          2.1801686,
          3.9683402,
          -5.5194735999999995,
          -15.57676,
          6.0454135,
          -1.9581400000000002,
          0.010871857,
          4.3552504,
          3.1695251,
          3.4296236000000007,
          0.9630692,
          -16.863766000000002,
          3.6116163999999995,
          3.5225232,
          5.511203,
          -2.1878135,
          -2.0965645,
          5.6010857000000005,
          -0.9365739,
          -4.4249015,
          0.85407877,
          -13.949603,
          2.7924361,
          -5.654928,
          -13.949677,
          2.7405787,
          -5.654928,
          -2.588109,
          2.5323818,
          -14.262675,
          3.4625885000000003,
          -14.262676,
          0.24050713,
          0.78272057,
          5.307745,
          2.3622735,
          -3.5589862,
          2.8977444,
          -1.7104768,
          4.5392212999999995,
          -3.4037319999999998,
          3.3575964,
          1.9106714,
          -1.7444009999999999,
          2.3390567000000004,
          -13.949603,
          0.33140308,
          1.8586078999999998,
          5.2380157,
          4.7979546,
          2.383797,
          -14.262676,
          2.5814366,
          -1.7491897,
          2.1034875,
          4.945443599999999,
          4.353258599999999,
          -5.654928,
          -1.1351917999999999,
          -1.7492318999999998,
          -1.7811129,
          1.0197201,
          6.321996700000001,
          2.446168,
          2.7357158999999998,
          1.9969058999999998,
          0.68891394,
          0.42265633,
          -0.4530344,
          -3.2641419999999997,
          1.0773184999999998,
          -0.022253167,
          4.658624,
          4.145421,
          -1.9928085,
          -16.398254,
          4.024628,
          -16.726276000000002,
          0.5922672,
          -4.162496,
          -15.66106,
          -0.93191326,
          3.9755833,
          6.384047499999999,
          -0.5835858,
          6.3839307000000005,
          -0.15790747,
          6.3840580000000005,
          -0.98494804,
          -14.479351999999999,
          1.1959449,
          -14.479351999999999,
          1.239316,
          -3.0766597,
          4.350639,
          3.5555835,
          3.797428,
          -2.991146,
          0.74569434,
          -0.18841939,
          4.296905000000001,
          3.5681171000000003,
          -4.163643,
          2.4786672999999997,
          3.2746177000000003,
          -4.162496,
          -14.479353,
          2.1709456,
          -14.479353,
          2.1708307000000002,
          -0.30164272,
          -1.6230878999999998,
          -1.2458841999999999,
          1.4253003999999998,
          3.3754972999999997,
          2.9349992,
          3.7792307999999997,
          -2.0710691999999997,
          1.6567005000000001,
          -1.585381,
          1.8334099999999998,
          -1.5852895,
          3.015234,
          -1.1250672,
          5.571377,
          -0.026288137000000003,
          -0.4206339,
          -17.697004,
          2.9546294,
          -2.037538,
          6.243753400000001,
          3.7260582,
          -2.1861873,
          -0.3644948,
          -0.2628384,
          1.3166904,
          -2.1861873,
          -0.36438107,
          3.7018428,
          -2.6144075,
          -2.1861877,
          4.068055,
          -2.6143503,
          -2.1860876,
          3.7724373,
          -2.6144075,
          -2.1863596000000003,
          1.2837206,
          -2.614316,
          4.5354867,
          3.5695345,
          1.720934,
          -4.4312677,
          4.5354886,
          4.4741077,
          -4.449624,
          -0.63549453,
          -0.26299176,
          -5.3247967,
          3.3430394999999997,
          1.0942466999999998,
          -0.39721584,
          3.7019641000000005,
          5.951192,
          3.857186,
          5.951202400000001,
          -4.380936599999999,
          -0.9266798,
          -0.3974934,
          -5.3242025,
          3.2149522,
          3.131151,
          -0.5645574999999999,
          3.7005748999999994,
          0.099151865,
          -4.979201,
          4.113955000000001,
          1.3586438,
          -4.319036,
          4.112988,
          1.3586438,
          -0.20800892,
          0.34541735,
          3.7016157999999995,
          -4.979201,
          4.1146317,
          -2.6143162,
          -15.449354999999999,
          7.3385880000000006,
          2.1150556000000003,
          -4.979205,
          -15.449354000000001,
          7.338475999999999,
          -0.4732978,
          -4.979201,
          -0.055905323,
          -0.3976126,
          -0.7306010000000001,
          1.3840754,
          -0.39759514,
          -0.7305961,
          5.249761,
          -0.54736096,
          4.001774,
          0.876027,
          -0.26356667,
          -0.73054385,
          4.001774,
          -0.2970415,
          6.034628400000001,
          -2.4887657,
          4.001774,
          4.8505254,
          -2.0770648,
          -15.573412,
          0.44892406,
          0.39443779999999995,
          -0.7305098000000001,
          -15.682178500000001,
          0.4952184,
          -0.28527513,
          0.9577723,
          2.3578342999999995,
          -4.1697125,
          -0.29552874,
          0.44412193,
          -1.9126279999999998,
          2.3578353,
          1.6246402,
          2.2258081,
          2.2273815,
          -4.6553260000000005,
          3.1256557000000003,
          -6.5602026,
          3.2596713999999998,
          -0.030778404,
          -2.0425036,
          -0.7305463000000001,
          3.2596713999999998,
          -0.030560471000000002,
          -0.96008396,
          -4.6553260000000005,
          3.3141632000000003,
          3.4724858,
          3.4104263999999995,
          -15.682178500000001,
          6.13109,
          -4.416824,
          -15.573413,
          6.13109,
          -0.67842585,
          3.1977427000000005,
          -0.05661391,
          6.106526000000001,
          -2.627641,
          1.4093738,
          6.1943502,
          -2.627574,
          5.2773232000000005,
          0.023889973999999998,
          -4.6553260000000005,
          6.957294,
          1.1443486,
          2.296594,
          0.9978039000000001,
          2.2965400000000002,
          2.3298445,
          3.8517725,
          -2.9863028999999996,
          -14.262676,
          4.2266307,
          -3.5145525999999996,
          4.869844400000001,
          -3.2101407,
          -1.4719478000000001,
          0.57246363
         ]
        }
       ],
       "layout": {
        "coloraxis": {
         "colorbar": {
          "title": {
           "text": "cluster"
          }
         },
         "colorscale": [
          [
           0,
           "#0d0887"
          ],
          [
           0.1111111111111111,
           "#46039f"
          ],
          [
           0.2222222222222222,
           "#7201a8"
          ],
          [
           0.3333333333333333,
           "#9c179e"
          ],
          [
           0.4444444444444444,
           "#bd3786"
          ],
          [
           0.5555555555555556,
           "#d8576b"
          ],
          [
           0.6666666666666666,
           "#ed7953"
          ],
          [
           0.7777777777777778,
           "#fb9f3a"
          ],
          [
           0.8888888888888888,
           "#fdca26"
          ],
          [
           1,
           "#f0f921"
          ]
         ]
        },
        "legend": {
         "tracegroupgap": 0
        },
        "margin": {
         "t": 60
        },
        "scene": {
         "domain": {
          "x": [
           0,
           1
          ],
          "y": [
           0,
           1
          ]
         },
         "xaxis": {
          "title": {
           "text": "x"
          }
         },
         "yaxis": {
          "title": {
           "text": "y"
          }
         },
         "zaxis": {
          "title": {
           "text": "z"
          }
         }
        },
        "template": {
         "data": {
          "bar": [
           {
            "error_x": {
             "color": "#2a3f5f"
            },
            "error_y": {
             "color": "#2a3f5f"
            },
            "marker": {
             "line": {
              "color": "#E5ECF6",
              "width": 0.5
             }
            },
            "type": "bar"
           }
          ],
          "barpolar": [
           {
            "marker": {
             "line": {
              "color": "#E5ECF6",
              "width": 0.5
             }
            },
            "type": "barpolar"
           }
          ],
          "carpet": [
           {
            "aaxis": {
             "endlinecolor": "#2a3f5f",
             "gridcolor": "white",
             "linecolor": "white",
             "minorgridcolor": "white",
             "startlinecolor": "#2a3f5f"
            },
            "baxis": {
             "endlinecolor": "#2a3f5f",
             "gridcolor": "white",
             "linecolor": "white",
             "minorgridcolor": "white",
             "startlinecolor": "#2a3f5f"
            },
            "type": "carpet"
           }
          ],
          "choropleth": [
           {
            "colorbar": {
             "outlinewidth": 0,
             "ticks": ""
            },
            "type": "choropleth"
           }
          ],
          "contour": [
           {
            "colorbar": {
             "outlinewidth": 0,
             "ticks": ""
            },
            "colorscale": [
             [
              0,
              "#0d0887"
             ],
             [
              0.1111111111111111,
              "#46039f"
             ],
             [
              0.2222222222222222,
              "#7201a8"
             ],
             [
              0.3333333333333333,
              "#9c179e"
             ],
             [
              0.4444444444444444,
              "#bd3786"
             ],
             [
              0.5555555555555556,
              "#d8576b"
             ],
             [
              0.6666666666666666,
              "#ed7953"
             ],
             [
              0.7777777777777778,
              "#fb9f3a"
             ],
             [
              0.8888888888888888,
              "#fdca26"
             ],
             [
              1,
              "#f0f921"
             ]
            ],
            "type": "contour"
           }
          ],
          "contourcarpet": [
           {
            "colorbar": {
             "outlinewidth": 0,
             "ticks": ""
            },
            "type": "contourcarpet"
           }
          ],
          "heatmap": [
           {
            "colorbar": {
             "outlinewidth": 0,
             "ticks": ""
            },
            "colorscale": [
             [
              0,
              "#0d0887"
             ],
             [
              0.1111111111111111,
              "#46039f"
             ],
             [
              0.2222222222222222,
              "#7201a8"
             ],
             [
              0.3333333333333333,
              "#9c179e"
             ],
             [
              0.4444444444444444,
              "#bd3786"
             ],
             [
              0.5555555555555556,
              "#d8576b"
             ],
             [
              0.6666666666666666,
              "#ed7953"
             ],
             [
              0.7777777777777778,
              "#fb9f3a"
             ],
             [
              0.8888888888888888,
              "#fdca26"
             ],
             [
              1,
              "#f0f921"
             ]
            ],
            "type": "heatmap"
           }
          ],
          "heatmapgl": [
           {
            "colorbar": {
             "outlinewidth": 0,
             "ticks": ""
            },
            "colorscale": [
             [
              0,
              "#0d0887"
             ],
             [
              0.1111111111111111,
              "#46039f"
             ],
             [
              0.2222222222222222,
              "#7201a8"
             ],
             [
              0.3333333333333333,
              "#9c179e"
             ],
             [
              0.4444444444444444,
              "#bd3786"
             ],
             [
              0.5555555555555556,
              "#d8576b"
             ],
             [
              0.6666666666666666,
              "#ed7953"
             ],
             [
              0.7777777777777778,
              "#fb9f3a"
             ],
             [
              0.8888888888888888,
              "#fdca26"
             ],
             [
              1,
              "#f0f921"
             ]
            ],
            "type": "heatmapgl"
           }
          ],
          "histogram": [
           {
            "marker": {
             "colorbar": {
              "outlinewidth": 0,
              "ticks": ""
             }
            },
            "type": "histogram"
           }
          ],
          "histogram2d": [
           {
            "colorbar": {
             "outlinewidth": 0,
             "ticks": ""
            },
            "colorscale": [
             [
              0,
              "#0d0887"
             ],
             [
              0.1111111111111111,
              "#46039f"
             ],
             [
              0.2222222222222222,
              "#7201a8"
             ],
             [
              0.3333333333333333,
              "#9c179e"
             ],
             [
              0.4444444444444444,
              "#bd3786"
             ],
             [
              0.5555555555555556,
              "#d8576b"
             ],
             [
              0.6666666666666666,
              "#ed7953"
             ],
             [
              0.7777777777777778,
              "#fb9f3a"
             ],
             [
              0.8888888888888888,
              "#fdca26"
             ],
             [
              1,
              "#f0f921"
             ]
            ],
            "type": "histogram2d"
           }
          ],
          "histogram2dcontour": [
           {
            "colorbar": {
             "outlinewidth": 0,
             "ticks": ""
            },
            "colorscale": [
             [
              0,
              "#0d0887"
             ],
             [
              0.1111111111111111,
              "#46039f"
             ],
             [
              0.2222222222222222,
              "#7201a8"
             ],
             [
              0.3333333333333333,
              "#9c179e"
             ],
             [
              0.4444444444444444,
              "#bd3786"
             ],
             [
              0.5555555555555556,
              "#d8576b"
             ],
             [
              0.6666666666666666,
              "#ed7953"
             ],
             [
              0.7777777777777778,
              "#fb9f3a"
             ],
             [
              0.8888888888888888,
              "#fdca26"
             ],
             [
              1,
              "#f0f921"
             ]
            ],
            "type": "histogram2dcontour"
           }
          ],
          "mesh3d": [
           {
            "colorbar": {
             "outlinewidth": 0,
             "ticks": ""
            },
            "type": "mesh3d"
           }
          ],
          "parcoords": [
           {
            "line": {
             "colorbar": {
              "outlinewidth": 0,
              "ticks": ""
             }
            },
            "type": "parcoords"
           }
          ],
          "pie": [
           {
            "automargin": true,
            "type": "pie"
           }
          ],
          "scatter": [
           {
            "marker": {
             "colorbar": {
              "outlinewidth": 0,
              "ticks": ""
             }
            },
            "type": "scatter"
           }
          ],
          "scatter3d": [
           {
            "line": {
             "colorbar": {
              "outlinewidth": 0,
              "ticks": ""
             }
            },
            "marker": {
             "colorbar": {
              "outlinewidth": 0,
              "ticks": ""
             }
            },
            "type": "scatter3d"
           }
          ],
          "scattercarpet": [
           {
            "marker": {
             "colorbar": {
              "outlinewidth": 0,
              "ticks": ""
             }
            },
            "type": "scattercarpet"
           }
          ],
          "scattergeo": [
           {
            "marker": {
             "colorbar": {
              "outlinewidth": 0,
              "ticks": ""
             }
            },
            "type": "scattergeo"
           }
          ],
          "scattergl": [
           {
            "marker": {
             "colorbar": {
              "outlinewidth": 0,
              "ticks": ""
             }
            },
            "type": "scattergl"
           }
          ],
          "scattermapbox": [
           {
            "marker": {
             "colorbar": {
              "outlinewidth": 0,
              "ticks": ""
             }
            },
            "type": "scattermapbox"
           }
          ],
          "scatterpolar": [
           {
            "marker": {
             "colorbar": {
              "outlinewidth": 0,
              "ticks": ""
             }
            },
            "type": "scatterpolar"
           }
          ],
          "scatterpolargl": [
           {
            "marker": {
             "colorbar": {
              "outlinewidth": 0,
              "ticks": ""
             }
            },
            "type": "scatterpolargl"
           }
          ],
          "scatterternary": [
           {
            "marker": {
             "colorbar": {
              "outlinewidth": 0,
              "ticks": ""
             }
            },
            "type": "scatterternary"
           }
          ],
          "surface": [
           {
            "colorbar": {
             "outlinewidth": 0,
             "ticks": ""
            },
            "colorscale": [
             [
              0,
              "#0d0887"
             ],
             [
              0.1111111111111111,
              "#46039f"
             ],
             [
              0.2222222222222222,
              "#7201a8"
             ],
             [
              0.3333333333333333,
              "#9c179e"
             ],
             [
              0.4444444444444444,
              "#bd3786"
             ],
             [
              0.5555555555555556,
              "#d8576b"
             ],
             [
              0.6666666666666666,
              "#ed7953"
             ],
             [
              0.7777777777777778,
              "#fb9f3a"
             ],
             [
              0.8888888888888888,
              "#fdca26"
             ],
             [
              1,
              "#f0f921"
             ]
            ],
            "type": "surface"
           }
          ],
          "table": [
           {
            "cells": {
             "fill": {
              "color": "#EBF0F8"
             },
             "line": {
              "color": "white"
             }
            },
            "header": {
             "fill": {
              "color": "#C8D4E3"
             },
             "line": {
              "color": "white"
             }
            },
            "type": "table"
           }
          ]
         },
         "layout": {
          "annotationdefaults": {
           "arrowcolor": "#2a3f5f",
           "arrowhead": 0,
           "arrowwidth": 1
          },
          "coloraxis": {
           "colorbar": {
            "outlinewidth": 0,
            "ticks": ""
           }
          },
          "colorscale": {
           "diverging": [
            [
             0,
             "#8e0152"
            ],
            [
             0.1,
             "#c51b7d"
            ],
            [
             0.2,
             "#de77ae"
            ],
            [
             0.3,
             "#f1b6da"
            ],
            [
             0.4,
             "#fde0ef"
            ],
            [
             0.5,
             "#f7f7f7"
            ],
            [
             0.6,
             "#e6f5d0"
            ],
            [
             0.7,
             "#b8e186"
            ],
            [
             0.8,
             "#7fbc41"
            ],
            [
             0.9,
             "#4d9221"
            ],
            [
             1,
             "#276419"
            ]
           ],
           "sequential": [
            [
             0,
             "#0d0887"
            ],
            [
             0.1111111111111111,
             "#46039f"
            ],
            [
             0.2222222222222222,
             "#7201a8"
            ],
            [
             0.3333333333333333,
             "#9c179e"
            ],
            [
             0.4444444444444444,
             "#bd3786"
            ],
            [
             0.5555555555555556,
             "#d8576b"
            ],
            [
             0.6666666666666666,
             "#ed7953"
            ],
            [
             0.7777777777777778,
             "#fb9f3a"
            ],
            [
             0.8888888888888888,
             "#fdca26"
            ],
            [
             1,
             "#f0f921"
            ]
           ],
           "sequentialminus": [
            [
             0,
             "#0d0887"
            ],
            [
             0.1111111111111111,
             "#46039f"
            ],
            [
             0.2222222222222222,
             "#7201a8"
            ],
            [
             0.3333333333333333,
             "#9c179e"
            ],
            [
             0.4444444444444444,
             "#bd3786"
            ],
            [
             0.5555555555555556,
             "#d8576b"
            ],
            [
             0.6666666666666666,
             "#ed7953"
            ],
            [
             0.7777777777777778,
             "#fb9f3a"
            ],
            [
             0.8888888888888888,
             "#fdca26"
            ],
            [
             1,
             "#f0f921"
            ]
           ]
          },
          "colorway": [
           "#636efa",
           "#EF553B",
           "#00cc96",
           "#ab63fa",
           "#FFA15A",
           "#19d3f3",
           "#FF6692",
           "#B6E880",
           "#FF97FF",
           "#FECB52"
          ],
          "font": {
           "color": "#2a3f5f"
          },
          "geo": {
           "bgcolor": "white",
           "lakecolor": "white",
           "landcolor": "#E5ECF6",
           "showlakes": true,
           "showland": true,
           "subunitcolor": "white"
          },
          "hoverlabel": {
           "align": "left"
          },
          "hovermode": "closest",
          "mapbox": {
           "style": "light"
          },
          "paper_bgcolor": "white",
          "plot_bgcolor": "#E5ECF6",
          "polar": {
           "angularaxis": {
            "gridcolor": "white",
            "linecolor": "white",
            "ticks": ""
           },
           "bgcolor": "#E5ECF6",
           "radialaxis": {
            "gridcolor": "white",
            "linecolor": "white",
            "ticks": ""
           }
          },
          "scene": {
           "xaxis": {
            "backgroundcolor": "#E5ECF6",
            "gridcolor": "white",
            "gridwidth": 2,
            "linecolor": "white",
            "showbackground": true,
            "ticks": "",
            "zerolinecolor": "white"
           },
           "yaxis": {
            "backgroundcolor": "#E5ECF6",
            "gridcolor": "white",
            "gridwidth": 2,
            "linecolor": "white",
            "showbackground": true,
            "ticks": "",
            "zerolinecolor": "white"
           },
           "zaxis": {
            "backgroundcolor": "#E5ECF6",
            "gridcolor": "white",
            "gridwidth": 2,
            "linecolor": "white",
            "showbackground": true,
            "ticks": "",
            "zerolinecolor": "white"
           }
          },
          "shapedefaults": {
           "line": {
            "color": "#2a3f5f"
           }
          },
          "ternary": {
           "aaxis": {
            "gridcolor": "white",
            "linecolor": "white",
            "ticks": ""
           },
           "baxis": {
            "gridcolor": "white",
            "linecolor": "white",
            "ticks": ""
           },
           "bgcolor": "#E5ECF6",
           "caxis": {
            "gridcolor": "white",
            "linecolor": "white",
            "ticks": ""
           }
          },
          "title": {
           "x": 0.05
          },
          "xaxis": {
           "automargin": true,
           "gridcolor": "white",
           "linecolor": "white",
           "ticks": "",
           "title": {
            "standoff": 15
           },
           "zerolinecolor": "white",
           "zerolinewidth": 2
          },
          "yaxis": {
           "automargin": true,
           "gridcolor": "white",
           "linecolor": "white",
           "ticks": "",
           "title": {
            "standoff": 15
           },
           "zerolinecolor": "white",
           "zerolinewidth": 2
          }
         }
        }
       }
      },
      "text/html": [
       "<div>\n",
       "        \n",
       "        \n",
       "            <div id=\"b004b076-5983-4b21-a615-a048694b06ee\" class=\"plotly-graph-div\" style=\"height:525px; width:100%;\"></div>\n",
       "            <script type=\"text/javascript\">\n",
       "                require([\"plotly\"], function(Plotly) {\n",
       "                    window.PLOTLYENV=window.PLOTLYENV || {};\n",
       "                    \n",
       "                if (document.getElementById(\"b004b076-5983-4b21-a615-a048694b06ee\")) {\n",
       "                    Plotly.newPlot(\n",
       "                        'b004b076-5983-4b21-a615-a048694b06ee',\n",
       "                        [{\"customdata\": [[\"m\\u00e1y ti\\u1ec7t tr\\u00f9ng uv \\u0111\\u00e3 c\\u00f3 ch\\u01b0a \\u1ea1\", \"Hi\\u1ec7n t\\u1ea1i s\\u1ea3n ph\\u1ea9m M\\u00e1y ti\\u1ec7t tr\\u00f9ng  shop \\u0111ang c\\u00f3 nh\\u1eefng gi\\u00e1 sau \\u1ea1:\\n<500-1M> <1M-2M> <T\\u1ea5t c\\u1ea3 gi\\u00e1>\", \"query_knowledge_base\", \"['object_type:may_tiet_trung']\", \"action_query_babe_kb\"], [\"/confirm_attribute_value{\\\"price\\\": \\\"500-1M\\\"}\", \"M\\u1eddi b\\u1ea1n click v\\u00e0o \\\"Xem chi ti\\u1ebft\\\" \\u0111\\u1ec3 tham kh\\u1ea3o s\\u1ea3n ph\\u1ea9m hi\\u1ec7n c\\u00f3 t\\u1ea1i shop nh\\u00e9!\\n<card sp 1> <card sp 2> <card sp 3>\", \"confirm_attribute_value\", \"['price:500-1M']\", \"action_query_babe_kb\"], [\"m\\u00e1y ti\\u1ec7t tr\\u00f9ng uv \\u0111\\u00e3 c\\u00f3 ch\\u01b0a \\u1ea1\", \"M\\u00e1y ti\\u1ec7t tr\\u00f9ng uv hi\\u1ec7n h\\u1ebft h\\u00e0ng m\\u1eddi b\\u1ea1n tham kh\\u1ea3o c\\u00e1c s\\u1ea3n ph\\u1ea9m kh\\u00e1c c\\u1ee7a shop\\nRecommend <sp1> <sp2> <sp3> <sp4>\", \"query_knowledge_base\", \"['object_type:may_tiet_trung']\", \"action_query_babe_kb\"], [\"Khi n\\u00e0o th\\u00ec c\\u00f3 h\\u00e0ng m\\u1edbi \\u1ea1\", \"Kho\\u1ea3ng m\\u1ed9t tu\\u1ea7n sau c\\u00f3 h\\u00e0ng \\u1ea1\", \"query_knowledge_base\", null, \"action_query_babe_kb\"], [\"https://scontent.xx.fbcdn.net/v/t1.15752-9/92827724_2847726851949741_1696232900455825408_n.jpg?_nc_cat=103&_nc_sid=b96e70&_nc_ohc=Vw1pHh8MnN0AX8aJw4t&_nc_ad=z-m&_nc_cid=0&_nc_zor=9&_nc_ht=scontent.xx&oh=12087dbec406fb17040323a417f4ea20&oe=5EB568F4\", \"B\\u1ea1n \\u0111ang t\\u00ecm ki\\u1ebfm th\\u00f4ng tin g\\u00ec \\u1ea1?\", \"send_link\", \"[\\\"url:['https://scontent.xx.fbcdn.net/v/t1.15752-9/92827724_2847726851949741_1696232900455825408_n.jpg?_nc_cat=103&_nc_sid=b96e70&_nc_ohc=Vw1pHh8MnN0AX8aJw4t&_nc_ad=z-m&_nc_cid=0&_nc_zor=9&_nc_ht=scontent.xx&oh=12087dbec406fb17040323a417f4ea20&oe=5EB568F4']\\\"]\", \"action_handle_send_link_only\"], [\"E \\u01a1i c\\u00f2n gi\\u1ea5y kh\\u00f4 n\\u00e0y k?\", \"Kh\\u0103n kh\\u00f4 \\u0111a n\\u0103ng MIPBI 600gr hi\\u1ec7n \\u0111ang c\\u00f3 gi\\u00e1 l\\u00e0 61.000 (Gi\\u00e1 g\\u1ed1c: 70.000) m\\u1eddi b\\u1ea1n tham kh\\u1ea3o:\\n<show card sp>\", \"query_knowledge_base\", \"['object_type:khan','mention:n\\u00e0y']\", \"action_query_babe_kb\"], [\"\\u0110\\u00fang r \\u1ea1\", \"D\\u1ea1, v\\u00e2ng \\u1ea1. \", \"agree\", null, \"utter_agree\"], [\"https://scontent.xx.fbcdn.net/v/t1.15752-9/92827724_2847726851949741_1696232900455825408_n.jpg?_nc_cat=103&_nc_sid=b96e70&_nc_ohc=Vw1pHh8MnN0AX8aJw4t&_nc_ad=z-m&_nc_cid=0&_nc_zor=9&_nc_ht=scontent.xx&oh=12087dbec406fb17040323a417f4ea20&oe=5EB568F4\", \"B\\u1ea1n \\u0111ang t\\u00ecm ki\\u1ebfm th\\u00f4ng tin g\\u00ec \\u1ea1?\", \"send_link\", \"[\\\"url:['https://scontent.xx.fbcdn.net/v/t1.15752-9/92827724_2847726851949741_1696232900455825408_n.jpg?_nc_cat=103&_nc_sid=b96e70&_nc_ohc=Vw1pHh8MnN0AX8aJw4t&_nc_ad=z-m&_nc_cid=0&_nc_zor=9&_nc_ht=scontent.xx&oh=12087dbec406fb17040323a417f4ea20&oe=5EB568F4']\\\"]\", \"action_handle_send_link_only\"], [\"E \\u01a1i c\\u00f2n gi\\u1ea5y kh\\u00f4 n\\u00e0y k?\", \"Kh\\u0103n kh\\u00f4 \\u0111a n\\u0103ng MIPBI 600gr  hi\\u1ec7n h\\u1ebft h\\u00e0ng m\\u1eddi b\\u1ea1n tham kh\\u1ea3o c\\u00e1c s\\u1ea3n ph\\u1ea9m kh\\u00e1c c\\u1ee7a shop\\nRecommend <sp1> <sp2> <sp3> <sp4>\", \"query_knowledge_base\", \"['object_type:khan','mention:n\\u00e0y']\", \"action_query_babe_kb\"], [\"https://scontent.xx.fbcdn.net/v/t1.15752-9/93088148_260667535096586_5162228618784407552_n.jpg?_nc_cat=103&_nc_sid=b96e70&_nc_ohc=x7wswdCvMn8AX8w1Gx1&_nc_ad=z-m&_nc_cid=0&_nc_zor=9&_nc_ht=scontent.xx&oh=6b66cfd67139987f2f1390eeb9aed46d&oe=5EB7E07A\", \"B\\u1ea1n \\u0111ang t\\u00ecm ki\\u1ebfm th\\u00f4ng tin g\\u00ec \\u1ea1?\", \"send_link\", \"[\\\"url:['https://scontent.xx.fbcdn.net/v/t1.15752-9/93088148_260667535096586_5162228618784407552_n.jpg?_nc_cat=103&_nc_sid=b96e70&_nc_ohc=x7wswdCvMn8AX8w1Gx1&_nc_ad=z-m&_nc_cid=0&_nc_zor=9&_nc_ht=scontent.xx&oh=6b66cfd67139987f2f1390eeb9aed46d&oe=5EB7E07A']\\\"]\", \"action_handle_send_link_only\"], [\"Bn v\\u1eady shop \\u01a1i\", \"S\\u1ea3n ph\\u1ea9m  B\\u1ea2NG V\\u1ebc HOLLA 2 in 1  hi\\u1ec7n shop \\u0111ang c\\u00f3 gi\\u00e1: 830,000 VND (gi\\u00e1 g\\u1ed1c 1,090,000 VND).\\nB\\u1ea1n tham kh\\u1ea3o c\\u00e1c s\\u1ea3n ph\\u1ea9m sau nh\\u00e9 \\u1ea1:\\n<show sp>\", \"query_knowledge_base\", \"['attribute:price']\", \"action_query_babe_kb\"], [\"C\\u00f3 tr\\u00ean shopee k shop\", \"D\\u1ea1 m\\u1eddi b\\u1ea1n tham kh\\u1ea3o s\\u1ea3n ph\\u1ea9m B\\u1ea2NG V\\u1ebc HOLLA 2 in 1  hi\\u1ec7n c\\u00f3 t\\u1ea1i shop nh\\u00e9!\\n<show sp>\", \"query_knowledge_base\", \"['attribute:link']\", \"action_query_babe_kb\"], [\"https://scontent.xx.fbcdn.net/v/t1.15752-9/93088148_260667535096586_5162228618784407552_n.jpg?_nc_cat=103&_nc_sid=b96e70&_nc_ohc=x7wswdCvMn8AX8w1Gx1&_nc_ad=z-m&_nc_cid=0&_nc_zor=9&_nc_ht=scontent.xx&oh=6b66cfd67139987f2f1390eeb9aed46d&oe=5EB7E07A\", \"B\\u1ea1n \\u0111ang t\\u00ecm ki\\u1ebfm th\\u00f4ng tin g\\u00ec \\u1ea1?\", \"send_link\", \"[\\\"url:['https://scontent.xx.fbcdn.net/v/t1.15752-9/93088148_260667535096586_5162228618784407552_n.jpg?_nc_cat=103&_nc_sid=b96e70&_nc_ohc=x7wswdCvMn8AX8w1Gx1&_nc_ad=z-m&_nc_cid=0&_nc_zor=9&_nc_ht=scontent.xx&oh=6b66cfd67139987f2f1390eeb9aed46d&oe=5EB7E07A']\\\"]\", \"action_handle_send_link_only\"], [\"Bn v\\u1eady shop \\u01a1i\", \"S\\u1ea3n ph\\u1ea9m  B\\u1ea2NG V\\u1ebc HOLLA 2 in 1  hi\\u1ec7n shop \\u0111ang c\\u00f3 gi\\u00e1: 830,000 VND (gi\\u00e1 g\\u1ed1c 1,090,000 VND).\\nB\\u1ea1n tham kh\\u1ea3o c\\u00e1c s\\u1ea3n ph\\u1ea9m sau nh\\u00e9 \\u1ea1:\\n<show sp>\", \"query_knowledge_base\", \"['attribute:price']\", \"action_query_babe_kb\"], [\"B\\u1ea3o h\\u00e0nh bao l\\u00e2u \\u1ea1\", \"\\\"D\\u1ea1 B\\u1ea2NG V\\u1ebc HOLLA 2 in 1 b\\u1ea3o h\\u00e0nh 12 th\\u00e1ng \\u1ea1. {ch\\u00ednh s\\u00e1ch b\\u1ea3o h\\u00e0nh chung}\\\"\", \"query_knowledge_base\", \"['attribute:guarantee']\", \"action_query_babe_kb\"], [\"https://scontent.xx.fbcdn.net/v/t1.15752-9/92758628_220638542371993_7339655662080622592_n.jpg?_nc_cat=103&_nc_sid=b96e70&_nc_ohc=SFj_QNZGVnIAX_ptxfv&_nc_ad=z-m&_nc_cid=0&_nc_zor=9&_nc_ht=scontent.xx&oh=db6c1a23b261d135143caa7ddc90103e&oe=5EB60853\", \"B\\u1ea1n \\u0111ang t\\u00ecm ki\\u1ebfm th\\u00f4ng tin g\\u00ec \\u1ea1?\", \"send_link\", \"[\\\"url:['https://scontent.xx.fbcdn.net/v/t1.15752-9/92758628_220638542371993_7339655662080622592_n.jpg?_nc_cat=103&_nc_sid=b96e70&_nc_ohc=SFj_QNZGVnIAX_ptxfv&_nc_ad=z-m&_nc_cid=0&_nc_zor=9&_nc_ht=scontent.xx&oh=db6c1a23b261d135143caa7ddc90103e&oe=5EB60853']\\\"]\", \"action_handle_send_link_only\"], [\"B\\u1ed9 n\\u00e0y bn shop\", \"S\\u1ea3n ph\\u1ea9m  B\\u1ea2NG V\\u1ebc HOLLA 2 in 1  hi\\u1ec7n shop \\u0111ang c\\u00f3 gi\\u00e1: 830,000 VND (gi\\u00e1 g\\u1ed1c 1,090,000 VND).\\nB\\u1ea1n tham kh\\u1ea3o c\\u00e1c s\\u1ea3n ph\\u1ea9m sau nh\\u00e9 \\u1ea1:\\n<show sp>\", \"query_knowledge_base\", \"['mention:b\\u1ed9 n\\u00e0y', 'attribute:price']\", \"action_query_babe_kb\"], [\"S\\u1ea3n xu\\u1ea5t \\u1edf \\u0111\\u00e2u \\u1ea1\", \"D\\u1ea1 B\\u1ea2NG V\\u1ebc HOLLA 2 in 1 c\\u00f3 xu\\u1ea5t x\\u1ee9 t\\u1eeb Trung Qu\\u1ed1c \\u1ea1\\n(xu\\u1ea5t x\\u1ee9 trong ph\\u1ea7n m\\u00f4 t\\u1ea3 sp tr\\u00ean Shopee)\", \"query_knowledge_base\", \"['attribute:origin']\", \"action_query_babe_kb\"], [\"https://scontent.xx.fbcdn.net/v/t1.15752-9/92812185_1223309388006647_5070003679390597120_n.jpg?_nc_cat=102&_nc_sid=b96e70&_nc_oc=AQmYZbuIaGFzKqFSSGeVZqs-Bkq4ODR2LY2ON0_mUykpAz_1tUqt1pKa3RZClcUSF3KFtyyW1LGSfsFG-shSXEJz&_nc_ad=z-m&_nc_cid=0&_nc_zor=9&_nc_ht=scontent.xx&oh=5e9f9b680aa5c98417da25593daab682&oe=5EB812A1\", \"B\\u1ea1n \\u0111ang t\\u00ecm ki\\u1ebfm th\\u00f4ng tin g\\u00ec \\u1ea1?\", \"send_link\", \"[\\\"url:['https://scontent.xx.fbcdn.net/v/t1.15752-9/92812185_1223309388006647_5070003679390597120_n.jpg?_nc_cat=102&_nc_sid=b96e70&_nc_oc=AQmYZbuIaGFzKqFSSGeVZqs-Bkq4ODR2LY2ON0_mUykpAz_1tUqt1pKa3RZClcUSF3KFtyyW1LGSfsFG-shSXEJz&_nc_ad=z-m&_nc_cid=0&_nc_zor=9&_nc_ht=scontent.xx&oh=5e9f9b680aa5c98417da25593daab682&oe=5EB812A1']\\\"]\", \"action_handle_send_link_only\"], [\"Cho t xin gi\\u00e1 nh\\u00e9\", \"S\\u1ea3n ph\\u1ea9m  B\\u1ea2NG V\\u1ebc HOLLA 2 in 1  hi\\u1ec7n shop \\u0111ang c\\u00f3 gi\\u00e1: 830,000 VND (gi\\u00e1 g\\u1ed1c 1,090,000 VND).\\nB\\u1ea1n tham kh\\u1ea3o c\\u00e1c s\\u1ea3n ph\\u1ea9m sau nh\\u00e9 \\u1ea1:\\n<show sp>\", \"query_knowledge_base\", \"['attribute:price']\", \"action_query_babe_kb\"], [\"L\\u00e0m b\\u1eb1ng nh\\u1ef1a \\u00e0 \", \"D\\u1ea1 s\\u1ea3n ph\\u1ea9m l\\u00e0m t\\u1eeb nh\\u1ef1a \\u1ea1\\nB\\u1ea1n tham kh\\u1ea3o c\\u00e1c s\\u1ea3n ph\\u1ea9m sau nh\\u00e9 \\u1ea1:\\n<show sp>\", \"query_knowledge_base\", \"['material:b\\u1eb1ng nh\\u1ef1a']\", \"action_query_babe_kb\"], [\"B\\u1ed9 holla v\\u01b0\\u01a1ng mi\\u1ec7n gi\\u00e1 tnao b\\u1ea1n\", \"S\\u1ea3n ph\\u1ea9m  COMBO HOLLA FULL PHI\\u00caN B\\u1ea2N 2020 M\\u1eaaU V\\u01af\\u01a0NG MI\\u1ec6N  hi\\u1ec7n shop \\u0111ang c\\u00f3 gi\\u00e1: 500,000 VND (gi\\u00e1 g\\u1ed1c 500,000 VND).\\nB\\u1ea1n tham kh\\u1ea3o c\\u00e1c s\\u1ea3n ph\\u1ea9m sau nh\\u00e9 \\u1ea1:\\n<show sp>\", \"query_knowledge_base\", \"['brand:holla', 'attribute:price','type:v\\u01b0\\u01a1ng mi\\u1ec7n']\", \"action_query_babe_kb\"], [\"N\\u01b0\\u1edbc n\\u00e0o s\\u1ea3n xu\\u1ea5t \\u1ea1 ?\", \"D\\u1ea1 COMBO HOLLA FULL PHI\\u00caN B\\u1ea2N 2020 M\\u1eaaU V\\u01af\\u01a0NG MI\\u1ec6N c\\u00f3 xu\\u1ea5t x\\u1ee9 t\\u1eeb Trung Qu\\u1ed1c \\u1ea1\\n(xu\\u1ea5t x\\u1ee9 trong ph\\u1ea7n m\\u00f4 t\\u1ea3 sp tr\\u00ean Shopee)\", \"query_knowledge_base\", \"['attribute:origin']\", \"action_query_babe_kb\"], [\"ok shop\", \"D\\u1ea1,v\\u00e2ng \\u1ea1\", \"agree\", null, \"utter_agree\"], [\"b\\u1ea1n \\u01a1i\", \"Ch\\u00e0o b\\u1ea1n, m\\u00ecnh l\\u00e0 tr\\u1ee3 l\\u00fd \\u1ea3o c\\u1ee7a Shop G\\u1ea5u & B\\u00ed Ng\\u00f4, m\\u00ecnh gi\\u00fap g\\u00ec \\u0111\\u01b0\\u1ee3c b\\u1ea1n \\u1ea1?\", \"greet\", null, \"utter_greet\"], [\"cho m\\u00ecnh h\\u1ecfi\", \"D\\u1ea1,v\\u00e2ng\", \"want_to_query\", null, \"utter_want_to_query\"], [\"m\\u00ecnh mu\\u1ed1n mua c\\u00e2u tr\\u01b0\\u1ee3t cho b\\u00e9 th\\u00ec m n\\u00ean ch\\u1ecdn lo\\u1ea1i n\\u00e0o sau \\u0111\\u00e2y \\u1ea1\\nb\\u1ea1n cho m xin gia sp nhe\", \"(B\\u1eaft \\u0111\\u01b0\\u1ee3c \\u1ea3nh g\\u1eedi ti\\u1ebfp theo m\\u1edbi tr\\u1ea3 l\\u1eddi user)\", \"query_knowledge_base\", \"['object_type:cau_truot', 'attribute:price']\", \"query_knowledge_base\"], [\"https://scontent.xx.fbcdn.net/v/t1.15752-9/93230357_869531593523363_508287694191722496_n.jpg?_nc_cat=104&_nc_sid=b96e70&_nc_ohc=I8CWOIpt__8AX-L7EDQ&_nc_ad=z-m&_nc_cid=0&_nc_zor=9&_nc_ht=scontent.xx&oh=676159323610b77282663ad8853a2b01&oe=5EB58771\", \"S\\u1ea3n ph\\u1ea9m  c\\u1ea7u tr\\u01b0\\u1ee3t  hi\\u1ec7n shop \\u0111ang c\\u00f3 gi\\u00e1: 500,000 VND (gi\\u00e1 g\\u1ed1c 500,000 VND).\\r\\nB\\u1ea1n tham kh\\u1ea3o c\\u00e1c s\\u1ea3n ph\\u1ea9m sau nh\\u00e9 \\u1ea1:\\r\\n<show sp>\", \"send_link\", \"[\\\"url:['https://scontent.xx.fbcdn.net/v/t1.15752-9/93230357_869531593523363_508287694191722496_n.jpg?_nc_cat=104&_nc_sid=b96e70&_nc_ohc=I8CWOIpt__8AX-L7EDQ&_nc_ad=z-m&_nc_cid=0&_nc_zor=9&_nc_ht=scontent.xx&oh=676159323610b77282663ad8853a2b01&oe=5EB58771']\\\"]\", \"action_handle_send_link_only\"], [\"Lo\\u1ea1i n\\u00e0y bn v\\u1eady b\\u1ea1n\", \"(B\\u1eaft \\u0111\\u01b0\\u1ee3c \\u1ea3nh g\\u1eedi ti\\u1ebfp theo m\\u1edbi tr\\u1ea3 l\\u1eddi user)\", \"query_knowledge_base\", \"['mention:lo\\u1ea1i n\\u00e0y', 'attribute:price']\", \"action_query_babe_kb\"], [\"https://scontent.xx.fbcdn.net/v/t1.15752-9/93049946_266000034415184_8022889009304829952_n.jpg?_nc_cat=107&_nc_sid=b96e70&_nc_ohc=6H5qmCrlsTMAX_UxJKR&_nc_ad=z-m&_nc_cid=0&_nc_zor=9&_nc_ht=scontent.xx&oh=56bc309e3fb8f432e5605d1e1fd4a8e2&oe=5EB6DC2D\", \"S\\u1ea3n ph\\u1ea9m  B\\u1ea2NG V\\u1ebc HOLLA 2 in 1  hi\\u1ec7n shop \\u0111ang c\\u00f3 gi\\u00e1: 830,000 VND (gi\\u00e1 g\\u1ed1c 1,090,000 VND).\\nB\\u1ea1n tham kh\\u1ea3o s\\u1ea3n ph\\u1ea9m sau nh\\u00e9 \\u1ea1:\\n<show sp>\", \"send_link\", \"[\\\"url:['https://scontent.xx.fbcdn.net/v/t1.15752-9/93049946_266000034415184_8022889009304829952_n.jpg?_nc_cat=107&_nc_sid=b96e70&_nc_ohc=6H5qmCrlsTMAX_UxJKR&_nc_ad=z-m&_nc_cid=0&_nc_zor=9&_nc_ht=scontent.xx&oh=56bc309e3fb8f432e5605d1e1fd4a8e2&oe=5EB6DC2D']\\\"]\", \"action_query_babe_kb\"], [\"C\\u00f3 nh\\u1eefng m\\u00e0u g\\u00ec \\u1ea1 ?\", \"D\\u1ea1, B\\u1ea2NG V\\u1ebc HOLLA 2 in 1 hi\\u1ec7n c\\u00f3 c\\u00e1c m\\u00e0u: H\\u1ed3ng, Xanh\\n<Show card t\\u01b0\\u01a1ng \\u1ee9ng v\\u1edbi c\\u00e1c m\\u00e0u c\\u1ee7a s\\u1ea3n ph\\u1ea9m>\", \"query_knowledge_base\", \"['attribute:color']\", \"action_query_babe_kb\"], [\"\\u0110\\u1ec3 m\\u00ecnh tham kh\\u1ea3o th\\u00eam , c\\u00f3 g\\u00ec m\\u00ecnh b\\u00e1o s\\u1edbm\", \"D\\u1ea1,v\\u00e2ng \\u1ea1\", \"finish_conv\", null, \"action_finish_conv\"], [\"https://scontent.xx.fbcdn.net/v/t1.15752-9/92948814_645194249654417_7858679713655422976_n.jpg?_nc_cat=105&_nc_sid=b96e70&_nc_ohc=wRI0MxBYCusAX8FbQ55&_nc_ad=z-m&_nc_cid=0&_nc_zor=9&_nc_ht=scontent.xx&oh=fd554b026b9a9ba54d252a6b9a2a549b&oe=5EB53E67\", \"B\\u1ea1n \\u0111ang t\\u00ecm ki\\u1ebfm th\\u00f4ng tin g\\u00ec \\u1ea1?\", \"send_link\", \"[\\\"url:['https://scontent.xx.fbcdn.net/v/t1.15752-9/92948814_645194249654417_7858679713655422976_n.jpg?_nc_cat=105&_nc_sid=b96e70&_nc_ohc=wRI0MxBYCusAX8FbQ55&_nc_ad=z-m&_nc_cid=0&_nc_zor=9&_nc_ht=scontent.xx&oh=fd554b026b9a9ba54d252a6b9a2a549b&oe=5EB53E67']\\\"]\", \"action_handle_send_link_only\"], [\"Gi\\u00e1 bnh shop\", \"S\\u1ea3n ph\\u1ea9m B\\u1ea2NG V\\u1ebc HOLLA 2 in 1 hi\\u1ec7n shop \\u0111ang c\\u00f3 gi\\u00e1: *830,000 VND (gi\\u00e1 g\\u1ed1c 1,090,000 VND)*.\\r\\nB\\u1ea1n tham kh\\u1ea3o c\\u00e1c s\\u1ea3n ph\\u1ea9m sau nh\\u00e9 \\u1ea1:\", \"query_knowledge_base\", \"['attribute:price']\", \"action_query_babe_kb\"], [\"https://scontent.xx.fbcdn.net/v/t1.15752-9/92577959_521713968748198_2028124277756133376_n.jpg?_nc_cat=110&_nc_sid=b96e70&_nc_ohc=JJLk80vJ4PIAX8tj8Ac&_nc_ad=z-m&_nc_cid=0&_nc_zor=9&_nc_ht=scontent.xx&oh=d7d18f49b9b79de714940f80c57e49e5&oe=5EB732D7\", \"S\\u1ea3n ph\\u1ea9m NG\\u1ef0A B\\u1eacP B\\u00caNH HOLLA 2020 hi\\u1ec7n shop \\u0111ang c\\u00f3 gi\\u00e1: *580,000 VND (gi\\u00e1 g\\u1ed1c 800,000 VND)*.\\r\\nB\\u1ea1n tham kh\\u1ea3o c\\u00e1c s\\u1ea3n ph\\u1ea9m sau nh\\u00e9 \\u1ea1:\", \"send_link\", \"[\\\"url:['https://scontent.xx.fbcdn.net/v/t1.15752-9/92577959_521713968748198_2028124277756133376_n.jpg?_nc_cat=110&_nc_sid=b96e70&_nc_ohc=JJLk80vJ4PIAX8tj8Ac&_nc_ad=z-m&_nc_cid=0&_nc_zor=9&_nc_ht=scontent.xx&oh=d7d18f49b9b79de714940f80c57e49e5&oe=5EB732D7']\\\"]\", \"action_handle_send_link_only\"], [\"Ng\\u1ef1a n\\u00e0y th\\u00ec sao\", \"D\\u1ea1, s\\u1ea3n ph\\u1ea9mNG\\u1ef0A B\\u1eacP B\\u00caNH HOLLA 2020hi\\u1ec7n t\\u1ea1i b\\u00ean shop \\u0111ang t\\u1ea1m h\\u1ebft h\\u00e0ng \\u1ea1. B\\u1ea1n tham kh\\u1ea3o c\\u00e1c s\\u1ea3n ph\\u1ea9m kh\\u00e1c d\\u00e0nh cho b\\u00e9 nh\\u00e9!D\\u1ea1, s\\u1ea3n ph\\u1ea9m Ng\\u1ef1a B\\u1eadp B\\u1ec7nh hi\\u1ec7n t\\u1ea1i b\\u00ean shop \\u0111ang t\\u1ea1m h\\u1ebft h\\u00e0ng \\u1ea1. B\\u1ea1n tham kh\\u1ea3o c\\u00e1c s\\u1ea3n ph\\u1ea9m kh\\u00e1c d\\u00e0nh cho b\\u00e9 nh\\u00e9!\", \"query_knowledge_base\", \"['object_type:Ng\\u1ef1a',\\n'mention:n\\u00e0y']\", \"action_query_babe_kb\"], [\"thank sh\", \"D\\u1ea1, c\\u1ea3m \\u01a1n \\u1ea1!\", \"thank\", null, \"utter_thank\"], [\"https://scontent.xx.fbcdn.net/v/t1.15752-9/92791014_2661430304077984_4670421710539849728_n.jpg?_nc_cat=105&_nc_sid=b96e70&_nc_ohc=XlQTCwj0czIAX_d_QhB&_nc_ad=z-m&_nc_cid=0&_nc_zor=9&_nc_ht=scontent.xx&oh=02079e567064603a748d9ce883d4b2f8&oe=5EB5485D\", \"B\\u1ea1n \\u0111ang t\\u00ecm ki\\u1ebfm th\\u00f4ng tin g\\u00ec \\u1ea1?\", \"send_link\", \"[\\\"url:['https://scontent.xx.fbcdn.net/v/t1.15752-9/92791014_2661430304077984_4670421710539849728_n.jpg?_nc_cat=105&_nc_sid=b96e70&_nc_ohc=XlQTCwj0czIAX_d_QhB&_nc_ad=z-m&_nc_cid=0&_nc_zor=9&_nc_ht=scontent.xx&oh=02079e567064603a748d9ce883d4b2f8&oe=5EB5485D']\\\"]\", \"action_handle_send_link_only\"], [\"B\\u1ed9 n\\u00e0y bn v\\u1eady shop\", \"COMBO HOLLA FULL PHI\\u00caN B\\u1ea2N 2020 M\\u1eaaU V\\u01af\\u01a0NG MI\\u1ec6N hi\\u1ec7n shop \\u0111ang c\\u00f3 gi\\u00e1: 4100000 VND (gi\\u00e1 g\\u1ed1c 5000000 VND). B\\u1ea1n tham kh\\u1ea3o c\\u00e1c s\\u1ea3n ph\\u1ea9m sau nh\\u00e9 \\u1ea1: <show sp>\", \"query_knowledge_base\", \"['mention:b\\u1ed9 n\\u00e0y', 'attribute:price']\", \"action_query_babe_kb\"], [\"N\\u01b0\\u1edbc n\\u00e0o s\\u1ea3n xu\\u1ea5t \", \"D\\u1ea1 COMBO HOLLA FULL PHI\\u00caN B\\u1ea2N 2020 M\\u1eaaU V\\u01af\\u01a0NG MI\\u1ec6N c\\u00f3 xu\\u1ea5t x\\u1ee9 t\\u1eeb Trung Qu\\u1ed1c \\u1ea1\\n(xu\\u1ea5t x\\u1ee9 trong ph\\u1ea7n m\\u00f4 t\\u1ea3 sp tr\\u00ean Shopee)\", \"query_knowledge_base\", \"['attribute:origin']\", \"action_query_babe_kb\"], [\"https://scontent.xx.fbcdn.net/v/t1.15752-9/93486370_1623328874472120_5014179051686854656_n.jpg?_nc_cat=108&_nc_sid=b96e70&_nc_ohc=fwdfBm4m4twAX_LaA9U&_nc_ad=z-m&_nc_cid=0&_nc_zor=9&_nc_ht=scontent.xx&oh=422b65b1b7ea124a5b622f219a0e2ab3&oe=5EB738D6\", \"B\\u1ea1n \\u0111ang t\\u00ecm ki\\u1ebfm th\\u00f4ng tin g\\u00ec \\u1ea1?\", \"send_link\", \"[\\\"url:['https://scontent.xx.fbcdn.net/v/t1.15752-9/93486370_1623328874472120_5014179051686854656_n.jpg?_nc_cat=108&_nc_sid=b96e70&_nc_ohc=fwdfBm4m4twAX_LaA9U&_nc_ad=z-m&_nc_cid=0&_nc_zor=9&_nc_ht=scontent.xx&oh=422b65b1b7ea124a5b622f219a0e2ab3&oe=5EB738D6']\\\"]\", \"action_handle_send_link_only\"], [\"2 b\\u1ed9 n\\u00e0y bn \\u1ea1\", \"B\\u1ed9 \\u0111\\u1ed3 ch\\u01a1i nh\\u00e0 b\\u1ebfp th\\u00f4ng minh hi\\u1ec7n shop \\u0111ang c\\u00f3 gi\\u00e1: 790000 VND (gi\\u00e1 g\\u1ed1c 790000 VND). B\\u1ea1n tham kh\\u1ea3o c\\u00e1c s\\u1ea3n ph\\u1ea9m sau nh\\u00e9 \\u1ea1: <show sp>\", \"query_knowledge_base\", \"['mention:b\\u1ed9 n\\u00e0y', 'attribute:price']\", \"action_query_babe_kb\"], [\"ch\\u1ea5t li\\u1ec7u g\\u00ec th\\u1ebf\", \"D\\u1ea1 s\\u1ea3n ph\\u1ea9m l\\u00e0m t\\u1eeb nh\\u1ef1a \\u1ea1\\r\\nB\\u1ea1n tham kh\\u1ea3o c\\u00e1c s\\u1ea3n ph\\u1ea9m sau nh\\u00e9 \\u1ea1:\\r\\n<show sp>\", \"query_knowledge_base\", \"['attribute:material']\", \"action_query_babe_kb\"], [\"b\\u1ea1n \\u01a1i\", \"Ch\\u00e0o b\\u1ea1n, m\\u00ecnh l\\u00e0 tr\\u1ee3 l\\u00fd \\u1ea3o c\\u1ee7a Shop G\\u1ea5u & B\\u00ed Ng\\u00f4, m\\u00ecnh gi\\u00fap g\\u00ec \\u0111\\u01b0\\u1ee3c b\\u1ea1n \\u1ea1?\", \"greet\", null, \"utter_greet\"], [\"https://scontent.xx.fbcdn.net/v/t1.15752-9/92571038_2584677681814761_3423627618300198912_n.jpg?_nc_cat=105&_nc_sid=b96e70&_nc_ohc=OZGf9Ro8NKQAX8umkh_&_nc_ad=z-m&_nc_cid=0&_nc_zor=9&_nc_ht=scontent.xx&oh=b60d1adb39de9f1c672de5ce7f9a6ae4&oe=5EB53FA2\", \"B\\u1ea1n \\u0111ang t\\u00ecm ki\\u1ebfm th\\u00f4ng tin g\\u00ec \\u1ea1?\", \"send_link\", \"[\\\"url:['https://scontent.xx.fbcdn.net/v/t1.15752-9/92571038_2584677681814761_3423627618300198912_n.jpg?_nc_cat=105&_nc_sid=b96e70&_nc_ohc=OZGf9Ro8NKQAX8umkh_&_nc_ad=z-m&_nc_cid=0&_nc_zor=9&_nc_ht=scontent.xx&oh=b60d1adb39de9f1c672de5ce7f9a6ae4&oe=5EB53FA2']\\\"]\", \"action_handle_send_link_only\"], [\"Bn m\\u1ed9t b\\u1ed9 n\\u00e0y v\\u1eady shop\", \"S\\u1ea3n ph\\u1ea9m  B\\u1ea2NG V\\u1ebc HOLLA 2 in 1  hi\\u1ec7n shop \\u0111ang c\\u00f3 gi\\u00e1: 830,000 VND (gi\\u00e1 g\\u1ed1c 1,090,000 VND).\\nB\\u1ea1n tham kh\\u1ea3o c\\u00e1c s\\u1ea3n ph\\u1ea9m sau nh\\u00e9 \\u1ea1:\\n<show sp>\", \"query_knowledge_base\", \"['attribute:price', 'mention:b\\u1ed9 n\\u00e0y']\", \"action_query_babe_kb\"], [\"C\\u1ea3 b\\u1ed9 h\\u1ea3 b ?\", \"D\\u1ea1,v\\u00e2ng \\u1ea1\", \"query_knowledge_base\", null, \"action_query_babe_kb\"], [\"b\\u1ea1n \\u01a1i\", \"Ch\\u00e0o b\\u1ea1n, m\\u00ecnh l\\u00e0 tr\\u1ee3 l\\u00fd \\u1ea3o c\\u1ee7a Shop G\\u1ea5u & B\\u00ed Ng\\u00f4, m\\u00ecnh gi\\u00fap g\\u00ec \\u0111\\u01b0\\u1ee3c b\\u1ea1n \\u1ea1?\", \"greet\", null, \"utter_greet\"], [\"https://scontent.xx.fbcdn.net/v/t1.15752-9/92792231_225126888578248_4184814308414193664_n.jpg?_nc_cat=108&_nc_sid=b96e70&_nc_ohc=Cjd1ceq4pLEAX_2V4Ao&_nc_ad=z-m&_nc_cid=0&_nc_zor=9&_nc_ht=scontent.xx&oh=d921b0784b3703a7b02a586756b0e62a&oe=5EB57163\", \"B\\u1ea1n \\u0111ang t\\u00ecm ki\\u1ebfm th\\u00f4ng tin g\\u00ec \\u1ea1?\", \"send_link\", \"[\\\"url:['https://scontent.xx.fbcdn.net/v/t1.15752-9/92792231_225126888578248_4184814308414193664_n.jpg?_nc_cat=108&_nc_sid=b96e70&_nc_ohc=Cjd1ceq4pLEAX_2V4Ao&_nc_ad=z-m&_nc_cid=0&_nc_zor=9&_nc_ht=scontent.xx&oh=d921b0784b3703a7b02a586756b0e62a&oe=5EB57163']\\\"]\", \"action_handle_send_link_only\"], [\"B\\u1ed9 nay bn b\", \"S\\u1ea3n ph\\u1ea9m  B\\u1ea2NG V\\u1ebc HOLLA 2 in 1  hi\\u1ec7n shop \\u0111ang c\\u00f3 gi\\u00e1: 830,000 VND (gi\\u00e1 g\\u1ed1c 1,090,000 VND).\\nB\\u1ea1n tham kh\\u1ea3o c\\u00e1c s\\u1ea3n ph\\u1ea9m sau nh\\u00e9 \\u1ea1:\\n<show sp>\", \"query_knowledge_base\", \"['mention:b\\u1ed9 nay', 'attribute:price']\", \"action_query_babe_kb\"], [\"M\\u1ea5y ch\\u1eef tr\\u00ean b\\u1ea3n\\r\\nLa co s\\u1eb5n lun hay la k co \\u1ea1\", \"S\\u1ea3n ph\\u1ea9m  B\\u1ea2NG V\\u1ebc HOLLA 2 in 1 bao g\\u1ed3m c\\u00e1c ph\\u1ee5 ki\\u1ec7n sau: b\\u1ed9 ch\\u1eef, b\\u1ed9 s\\u1ed1 v\\u00e0 b\\u00fat n\\u01b0\\u1edbc\\nB\\u1ea1n tham kh\\u1ea3o s\\u1ea3n ph\\u1ea9m sau nh\\u00e9 \\u1ea1:\\r\\n<show sp>\", \"query_knowledge_base\", \"['attribute:accessories']\", \"action_query_babe_kb\"], [\"https://scontent.xx.fbcdn.net/v/t1.15752-9/92574409_215108049717012_4974694287758327808_n.jpg?_nc_cat=111&_nc_sid=b96e70&_nc_ohc=od8F78G2U4oAX-kFk_g&_nc_ad=z-m&_nc_cid=0&_nc_zor=9&_nc_ht=scontent.xx&oh=a03f154b9cf70c6406c5041b2712d5f9&oe=5EB69163\", \"B\\u1ea1n \\u0111ang t\\u00ecm ki\\u1ebfm th\\u00f4ng tin g\\u00ec \\u1ea1?\", \"send_link\", \"[\\\"url:['https://scontent.xx.fbcdn.net/v/t1.15752-9/92574409_215108049717012_4974694287758327808_n.jpg?_nc_cat=111&_nc_sid=b96e70&_nc_ohc=od8F78G2U4oAX-kFk_g&_nc_ad=z-m&_nc_cid=0&_nc_zor=9&_nc_ht=scontent.xx&oh=a03f154b9cf70c6406c5041b2712d5f9&oe=5EB69163']\\\"]\", \"action_handle_send_link_only\"], [\"Bn shop oi\", \"S\\u1ea3n ph\\u1ea9m  B\\u1ea2NG V\\u1ebc HOLLA 2 in 1  hi\\u1ec7n shop \\u0111ang c\\u00f3 gi\\u00e1: 830,000 VND (gi\\u00e1 g\\u1ed1c 1,090,000 VND).\\nB\\u1ea1n tham kh\\u1ea3o c\\u00e1c s\\u1ea3n ph\\u1ea9m sau nh\\u00e9 \\u1ea1:\\n<show sp>\", \"query_knowledge_base\", \"['attribute:price']\", \"utter_greet\"], [\"Chi\\u1ec1u nay ship lu\\u00f4n cho m\\u00ecnh \\u0111\\u01b0\\u1ee3c kh\\u00f4ng\", \"B\\u1ea1n cho shop xin \\u0111\\u1ecba ch\\u1ec9 nh\\u1eadn h\\u00e0ng \\u1ea1.\", \"time_ship\", null, \"action_time_ship\"], [\"s\\u1ed1 7 tr\\u00e0ng thi\", \"V\\u1edbi \\u0111\\u1ecba ch\\u1ec9 s\\u1ed1 7 tr\\u00e0ng thi shop c\\u00f3 th\\u1ec3 ship h\\u00e0ng \\u0111\\u1ebfn trong 3 h \\u1ea1\", null, null, null], [\"Thanh ch\\u1eafn c\\u1ea7u thang bn a\", \"S\\u1ea3n ph\\u1ea9m thanh ch\\u1eafn c\\u1ea7u thang hi\\u1ec7n shop \\u0111ang c\\u00f3 gi\\u00e1: 830,000 VND (gi\\u00e1 g\\u1ed1c 1,090,000 VND).\\nB\\u1ea1n tham kh\\u1ea3o c\\u00e1c s\\u1ea3n ph\\u1ea9m sau nh\\u00e9 \\u1ea1:\\n<show sp>\", \"query_knowledge_base\", \"['attribute:price']['object_type:thanh_chan_cau_thang']\", \"action_query_babe_kb\"], [\"k\\u00edch th\\u01b0\\u1edbc tn shop\", \"D\\u1ea1, thanh ch\\u1eafn c\\u1ea7u thang c\\u00f3 (c\\u00e1c-nhi\\u1ec1u k\\u00edch th\\u01b0\\u1edbc) k\\u00edch th\\u01b0\\u1edbc: 74x83x 77cm \\u1ea1. \\n<show card s\\u1ea3n ph\\u1ea9m> \\n\", \"query_knowledge_base\", \"['attribute:size']\", \"action_query_babe_kb\"], [\"ok shop\", \"D\\u1ea1,v\\u00e2ng\", \"agree\", null, \"utter_agree\"], [\"b\\u1ea1n \\u01a1i\", \"Ch\\u00e0o b\\u1ea1n, m\\u00ecnh l\\u00e0 tr\\u1ee3 l\\u00fd \\u1ea3o c\\u1ee7a Shop G\\u1ea5u & B\\u00ed Ng\\u00f4, m\\u00ecnh gi\\u00fap g\\u00ec \\u0111\\u01b0\\u1ee3c b\\u1ea1n \\u1ea1?\", \"greet\", null, \"utter_greet\"], [\"B\\u1ed9 \\u0111\\u1ed3 ch\\u01a1i n\\u1ea5u \\u0103n gi\\u00e1 bn \\u1ea1\", \"M\\u00ecnh ch\\u01b0a x\\u00e1c \\u0111\\u1ecbnh \\u0111\\u01b0\\u1ee3c m\\u00f3n \\u0111\\u1ed3 b\\u1ea1n h\\u1ecfi, b\\u1ea1n m\\u00f4 t\\u1ea3 r\\u00f5 h\\u01a1n gi\\u00fap m\\u00ecnh nh\\u00e9!\", \"query_knowledge_base\", \"['attribute:price']\", \"action_query_babe_kb\"], [\"https://scontent.xx.fbcdn.net/v/t1.15752-9/92871920_244941433296679_4143720563837239296_n.jpg?_nc_cat=104&_nc_sid=b96e70&_nc_ohc=cfVDG58zjTsAX8JQE4Y&_nc_ad=z-m&_nc_cid=0&_nc_zor=9&_nc_ht=scontent.xx&oh=6d491d56656f2cdc59cdc013a65bc22b&oe=5EB56A38\", \"B\\u1ed9 \\u0111\\u1ed3 ch\\u01a1i nh\\u00e0 b\\u1ebfp th\\u00f4ng minh hi\\u1ec7n shop \\u0111ang c\\u00f3 gi\\u00e1: 790000 VND (gi\\u00e1 g\\u1ed1c 790000 VND). B\\u1ea1n tham kh\\u1ea3o c\\u00e1c s\\u1ea3n ph\\u1ea9m sau nh\\u00e9 \\u1ea1: <show sp>\", \"send_link\", \"[\\\"url:['https://scontent.xx.fbcdn.net/v/t1.15752-9/92871920_244941433296679_4143720563837239296_n.jpg?_nc_cat=104&_nc_sid=b96e70&_nc_ohc=cfVDG58zjTsAX8JQE4Y&_nc_ad=z-m&_nc_cid=0&_nc_zor=9&_nc_ht=scontent.xx&oh=6d491d56656f2cdc59cdc013a65bc22b&oe=5EB56A38']\\\"]\", \"action_handle_send_link_only\"], [\"ok shop\", \"D\\u1ea1,v\\u00e2ng\", \"agree\", null, \"utter_agree\"], [\"https://scontent.xx.fbcdn.net/v/t1.15752-9/93136917_667702917395987_8046983986288787456_n.jpg?_nc_cat=108&_nc_sid=b96e70&_nc_ohc=v_S4u4HxLpgAX-GM0OS&_nc_ad=z-m&_nc_cid=0&_nc_zor=9&_nc_ht=scontent.xx&oh=f9b70ca6c2535878f0b530141ee4a4ca&oe=5EB59BE8\", \"action_handle_send_link_only\", \"send_link\", \"[\\\"url:['https://scontent.xx.fbcdn.net/v/t1.15752-9/93136917_667702917395987_8046983986288787456_n.jpg?_nc_cat=108&_nc_sid=b96e70&_nc_ohc=v_S4u4HxLpgAX-GM0OS&_nc_ad=z-m&_nc_cid=0&_nc_zor=9&_nc_ht=scontent.xx&oh=f9b70ca6c2535878f0b530141ee4a4ca&oe=5EB59BE8']\\\"]\", \"action_handle_send_link_only\"], [\"Thanh 36cm l\\u1eafp th\\u00eam v\\u00e0o ch\\u1ed7 h\\u1eb9p c\\u0169ng \\u0111c ph\\u1ea3i ko a, t\\u1ee9c l\\u00e0 d\\u00f9ng nh\\u01b0 thanh 12cm c\\u0169ng \\u0111c a?\", \"Cho m\\u00ecnh xin chi\\u1ec1u r\\u1ed9ng c\\u1ea7u thang nh\\u00e0 b\\u1ea1n \\u1ea1 ?\", \"to_compare\", \"['size:36cm', 'size:12cm']\", \"action_to_compare\"], [\"0,5m \\u1ea1\", \"D\\u1ea1 s\\u1ea3n ph\\u1ea9m thanh 36 cm v\\u00e0 12 cm l\\u1eafp \\u0111\\u01b0\\u1ee3c v\\u1edbi c\\u1ea7u thang c\\u00f3 chi\\u1ec1u r\\u1ed9ng 0,5 m \\u1ea1\", \"query_knowledge_base\", \"['size:0,5m']\", \"action_query_babe_kb\"], [\"https://scontent.xx.fbcdn.net/v/t1.15752-9/93409445_248021096324605_3539204290587394048_n.jpg?_nc_cat=100&_nc_sid=b96e70&_nc_ohc=CDp2-oURkTkAX-ROtNE&_nc_ad=z-m&_nc_cid=0&_nc_zor=9&_nc_ht=scontent.xx&oh=a13cc949d1040f31f6f45300484c2189&oe=5EB5A872\", \"action_handle_send_link_only\", \"send_link\", \"[\\\"url:['https://scontent.xx.fbcdn.net/v/t1.15752-9/93409445_248021096324605_3539204290587394048_n.jpg?_nc_cat=100&_nc_sid=b96e70&_nc_ohc=CDp2-oURkTkAX-ROtNE&_nc_ad=z-m&_nc_cid=0&_nc_zor=9&_nc_ht=scontent.xx&oh=a13cc949d1040f31f6f45300484c2189&oe=5EB5A872']\\\"]\", \"action_handle_send_link_only\"], [\"Ng\\u1ef1a n\\u00e0y h\\u00e0ng v\\u1ec1 h\\u1ea3 shop?\", \"S\\u1ea3n ph\\u1ea9m  NG\\u1ef0A B\\u1eacP B\\u00caNH HOLLA 2020  hi\\u1ec7n shop c\\u00f3 h\\u00e0ng v\\u00e0 \\u0111ang c\\u00f3 gi\\u00e1: 580000\\n VND (gi\\u00e1 g\\u1ed1c 800000 VND).\\nB\\u1ea1n tham kh\\u1ea3o c\\u00e1c s\\u1ea3n ph\\u1ea9m sau nh\\u00e9 \\u1ea1:\\n<show sp>\", \"query_knowledge_base\", \"['object_type:ngua_bap_benh', 'mention:n\\u00e0y']\", \"action_query_babe_kb\"], [\"B\\u00ean m\\u00ecnh c\\u00f3 m\\u00e3 gi\\u1ea3m gi\\u00e1 shopee k shop?\", \"Hi\\u1ec7n shop kh\\u00f4ng c\\u00f3 m\\u00e3 gi\\u1ea3m gi\\u00e1 shopee cho s\\u1ea3n ph\\u1ea9m NG\\u1ef0A B\\u1eacP B\\u00caNH HOLLA 2020 \\u1ea1\", \"query_knowledge_base\", \"['attribute:promotion','attribute:codediscount']\", \"action_query_babe_kb\"], [\"https://scontent.xx.fbcdn.net/v/t1.15752-9/92812185_1223309388006647_5070003679390597120_n.jpg?_nc_cat=102&_nc_sid=b96e70&_nc_ohc=g_UDAFO7FMkAX8iFNTd&_nc_ad=z-m&_nc_cid=0&_nc_zor=9&_nc_ht=scontent.xx&oh=b4d34f75250bd20bb8adc6193f0b996b&oe=5EB812A1\", \"B\\u1ea1n \\u0111ang t\\u00ecm ki\\u1ebfm th\\u00f4ng tin g\\u00ec \\u1ea1?\", \"send_link\", \"[\\\"url:['https://scontent.xx.fbcdn.net/v/t1.15752-9/92812185_1223309388006647_5070003679390597120_n.jpg?_nc_cat=102&_nc_sid=b96e70&_nc_ohc=g_UDAFO7FMkAX8iFNTd&_nc_ad=z-m&_nc_cid=0&_nc_zor=9&_nc_ht=scontent.xx&oh=b4d34f75250bd20bb8adc6193f0b996b&oe=5EB812A1']\\\"]\", \"action_handle_send_link_only\"], [\"B\\u1ea1n \\u01a1i b\\u1ed9 n\\u00e0y bao ti\\u1ec1n \\u1ea1\", \"S\\u1ea3n ph\\u1ea9m  B\\u1ea2NG V\\u1ebc HOLLA 2 in 1  hi\\u1ec7n shop \\u0111ang c\\u00f3 gi\\u00e1: 830,000 VND (gi\\u00e1 g\\u1ed1c 1,090,000 VND).\\nB\\u1ea1n tham kh\\u1ea3o c\\u00e1c s\\u1ea3n ph\\u1ea9m sau nh\\u00e9 \\u1ea1:\\n<show sp>\", \"query_knowledge_base\", \"['mention:b\\u1ed9 n\\u00e0y', 'attribute:price']\", \"action_query_babe_kb\"], [\" bao g\\u1ed3m c\\u1ea3 b\\u1ed9 ch\\u1eef, s\\u1ed1 \\u1edf tr\\u00ean b\\u1ea3ng + b\\u00fat n\\u01b0\\u1edbc \\u00e0 b\", \"S\\u1ea3n ph\\u1ea9m  B\\u1ea2NG V\\u1ebc HOLLA 2 in 1 bao g\\u1ed3m c\\u00e1c ph\\u1ee5 ki\\u1ec7n sau: b\\u1ed9 ch\\u1eef, b\\u1ed9 s\\u1ed1 v\\u00e0 b\\u00fat n\\u01b0\\u1edbc\\nB\\u1ea1n tham kh\\u1ea3o s\\u1ea3n ph\\u1ea9m sau nh\\u00e9 \\u1ea1:\\r\\n<show sp>\", \"query_knowledge_base\", \"\\n['accessories:b\\u1ed9 ch\\u1eef']['accessories:b\\u1ed9 s\\u1ed1']['accessories:b\\u00fat n\\u01b0\\u1edbc']\", \"action_query_babe_kb\"], [\"https://scontent.xx.fbcdn.net/v/t1.15752-9/92706664_584769512134067_2916220439648796672_n.jpg?_nc_cat=105&_nc_sid=b96e70&_nc_ohc=LzoJrxXZEG4AX_1Y2tK&_nc_ad=z-m&_nc_cid=0&_nc_zor=9&_nc_ht=scontent.xx&oh=e2d594b1bfcd857449d797dbb2d02b61&oe=5EB6767E\", \"B\\u1ea1n \\u0111ang t\\u00ecm ki\\u1ebfm th\\u00f4ng tin g\\u00ec \\u1ea1?\", \"send_link\", \"[\\\"url:['https://scontent.xx.fbcdn.net/v/t1.15752-9/92706664_584769512134067_2916220439648796672_n.jpg?_nc_cat=105&_nc_sid=b96e70&_nc_ohc=LzoJrxXZEG4AX_1Y2tK&_nc_ad=z-m&_nc_cid=0&_nc_zor=9&_nc_ht=scontent.xx&oh=e2d594b1bfcd857449d797dbb2d02b61&oe=5EB6767E']\\\"]\", \"action_handle_send_link_only\"], [\"B\\u1ed9 n\\u00e0y bao nhi\\u00eau v\\u1eady shop \\u01a1i\", \"S\\u1ea3n ph\\u1ea9m  B\\u1ea2NG V\\u1ebc HOLLA 2 in 1  hi\\u1ec7n shop \\u0111ang c\\u00f3 gi\\u00e1: 830,000 VND (gi\\u00e1 g\\u1ed1c 1,090,000 VND).\\nB\\u1ea1n tham kh\\u1ea3o c\\u00e1c s\\u1ea3n ph\\u1ea9m sau nh\\u00e9 \\u1ea1:\\n<show sp>\", \"query_knowledge_base\", \"['mention:b\\u1ed9 n\\u00e0y', 'attribute:price']\", \"action_query_babe_kb\"], [\"M\\u00ecnh c\\u00f3 b\\u1ea3ng v\\u1ebd \\u0111a n\\u0103ng cho b\\u00e9 m\\u00e0 k \\u0111i li\\u1ec1n v\\u1edbi b\\u00e0n k \\u1ea1?\", \"S\\u1ea3n ph\\u1ea9m b\\u1ea3ng v\\u1ebd m\\u00e0 kh\\u00f4ng \\u0111i li\\u1ec1n v\\u1edbi b\\u00e0n hi\\u1ec7n shop c\\u00f3 nh\\u1eefng s\\u1ea3n ph\\u1ea9m sau m\\u1eddi b\\u1ea1n tham kh\\u1ea3o:\\n<sp1><sp2><sp3>\", \"query_knowledge_base\", null, \"action_query_babe_kb\"], [\"https://scontent.xx.fbcdn.net/v/t1.15752-9/92694192_2614716975469495_5572242217088581632_n.jpg?_nc_cat=106&_nc_sid=b96e70&_nc_oc=AQntyQWugJc3s4avU1VoQOdwpdKSmeEpUXN84Gn9ed96LljSbQoHAhs_paPwY7xWumhVOcDyJAO9oQajF5hRIFYb&_nc_ad=z-m&_nc_cid=0&_nc_zor=9&_nc_ht=scontent.xx&oh=1df67664b5e1a92b05b733613c5946f5&oe=5EB51340\", \"B\\u1ea1n \\u0111ang t\\u00ecm ki\\u1ebfm th\\u00f4ng tin g\\u00ec \\u1ea1?\", \"send_link\", \"[\\\"url:['https://scontent.xx.fbcdn.net/v/t1.15752-9/92694192_2614716975469495_5572242217088581632_n.jpg?_nc_cat=106&_nc_sid=b96e70&_nc_oc=AQntyQWugJc3s4avU1VoQOdwpdKSmeEpUXN84Gn9ed96LljSbQoHAhs_paPwY7xWumhVOcDyJAO9oQajF5hRIFYb&_nc_ad=z-m&_nc_cid=0&_nc_zor=9&_nc_ht=scontent.xx&oh=1df67664b5e1a92b05b733613c5946f5&oe=5EB51340']\\\"]\", \"action_handle_send_link_only\"], [\"https://scontent.xx.fbcdn.net/v/t1.15752-9/93031511_247828126399871_5237293488793452544_n.jpg?_nc_cat=111&_nc_sid=b96e70&_nc_oc=AQnsp_bzf3mOSZi9Jvn-4cnExabSMmyu1uTaZT-ba4f20zzkHcvRqyG3oZmSHEleonx4tRAZxwxXNF5mYJHQN2gE&_nc_ad=z-m&_nc_cid=0&_nc_zor=9&_nc_ht=scontent.xx&oh=b4e535c62864baaa6a3e975576d0dc24&oe=5EB75ABA\", \"B\\u1ea1n \\u0111ang t\\u00ecm ki\\u1ebfm th\\u00f4ng tin g\\u00ec \\u1ea1?\", \"send_link\", \"[\\\"url:['https://scontent.xx.fbcdn.net/v/t1.15752-9/93031511_247828126399871_5237293488793452544_n.jpg?_nc_cat=111&_nc_sid=b96e70&_nc_oc=AQnsp_bzf3mOSZi9Jvn-4cnExabSMmyu1uTaZT-ba4f20zzkHcvRqyG3oZmSHEleonx4tRAZxwxXNF5mYJHQN2gE&_nc_ad=z-m&_nc_cid=0&_nc_zor=9&_nc_ht=scontent.xx&oh=b4e535c62864baaa6a3e975576d0dc24&oe=5EB75ABA']\\\"]\", \"action_handle_send_link_only\"], [\"B\\u00e1o gi\\u00e1 gi\\u00fap m\\u00ecnh\", \"S\\u1ea3n ph\\u1ea9m  B\\u1ea2NG V\\u1ebc HOLLA 2 in 1  hi\\u1ec7n shop \\u0111ang c\\u00f3 gi\\u00e1: 830,000 VND (gi\\u00e1 g\\u1ed1c 1,090,000 VND).\\nB\\u1ea1n tham kh\\u1ea3o c\\u00e1c s\\u1ea3n ph\\u1ea9m sau nh\\u00e9 \\u1ea1:\\n<show sp>\", \"query_knowledge_base\", \"['attribute:price']\", \"action_query_babe_kb\"], [\"G\\u1ed3m b\\u1ea3ng, gh\\u1ebf v\\u00e0 g\\u00ec n\\u1eefa ko shop\", null, \"query_knowledge_base\", \"['attribute:accessories']\", \"action_query_babe_kb\"], [\"https://scontent.xx.fbcdn.net/v/t1.15752-9/92871283_242693100205365_8753955467434131456_n.jpg?_nc_cat=109&_nc_sid=b96e70&_nc_ohc=W1Vc84SDPpoAX9EiTsC&_nc_ad=z-m&_nc_cid=0&_nc_zor=9&_nc_ht=scontent.xx&oh=81d08ed8c54590679c062ba3cf4be944&oe=5EB65EBB\", \"S\\u1ea3n ph\\u1ea9m  B\\u1ea2NG V\\u1ebc HOLLA 2 in 1 bao g\\u1ed3m c\\u00e1c ph\\u1ee5 ki\\u1ec7n sau: b\\u1ed9 ch\\u1eef, b\\u1ed9 s\\u1ed1 v\\u00e0 b\\u00fat n\\u01b0\\u1edbc \\u1ea1\\nB\\u1ea1n tham kh\\u1ea3o s\\u1ea3n ph\\u1ea9m sau nh\\u00e9 \\u1ea1:\\n<show sp>\", \"send_link\", \"[\\\"url:['https://scontent.xx.fbcdn.net/v/t1.15752-9/92871283_242693100205365_8753955467434131456_n.jpg?_nc_cat=109&_nc_sid=b96e70&_nc_ohc=W1Vc84SDPpoAX9EiTsC&_nc_ad=z-m&_nc_cid=0&_nc_zor=9&_nc_ht=scontent.xx&oh=81d08ed8c54590679c062ba3cf4be944&oe=5EB65EBB']\\\"]\", \"action_handle_send_link_only\"], [\"M\\u00ecnh c\\u00f3 b\\u1ea3ng v\\u1ebd \\u0111a n\\u0103ng cho b\\u00e9 m\\u00e0 k \\u0111i li\\u1ec1n v\\u1edbi gh\\u1ebf k \\u1ea1?\", \"S\\u1ea3n ph\\u1ea9m b\\u1ea3ng v\\u1ebd m\\u00e0 kh\\u00f4ng \\u0111i li\\u1ec1n v\\u1edbi gh\\u1ebf hi\\u1ec7n shop c\\u00f3 nh\\u1eefng s\\u1ea3n ph\\u1ea9m sau m\\u1eddi b\\u1ea1n tham kh\\u1ea3o:\\n<sp1><sp2><sp3>\", \"query_knowledge_base\", \"['aobject_type:bang_ve']\", \"action_query_babe_kb\"], [\"M\\u1eabu c\\u1ea7u tr\\u01b0\\u1ee3t n\\u00e0y b\\u00e1o gi\\u00e1 gi\\u00fap e nh\\u00e9\", null, \"query_knowledge_base\", \"['object_type:cau_truot', 'mention:n\\u00e0y', 'attribute:price']\", \"action_query_babe_kb\"], [\"https://scontent.xx.fbcdn.net/v/t1.15752-9/92989817_2941090232617285_7762728477815472128_n.jpg?_nc_cat=109&_nc_sid=b96e70&_nc_ohc=15xhgRV8HgAAX9q4suE&_nc_ad=z-m&_nc_cid=0&_nc_zor=9&_nc_ht=scontent.xx&oh=ba92c28af571898e3d200043dab41de7&oe=5EB61F06\", \"S\\u1ea3n ph\\u1ea9m  c\\u1ea7u tr\\u01b0\\u1ee3t  hi\\u1ec7n shop \\u0111ang c\\u00f3 gi\\u00e1: 830,000 VND (gi\\u00e1 g\\u1ed1c 1,090,000 VND).\\nB\\u1ea1n tham kh\\u1ea3o s\\u1ea3n ph\\u1ea9m sau nh\\u00e9 \\u1ea1:\\n<show sp>\", \"send_link\", \"[\\\"url:['https://scontent.xx.fbcdn.net/v/t1.15752-9/92989817_2941090232617285_7762728477815472128_n.jpg?_nc_cat=109&_nc_sid=b96e70&_nc_ohc=15xhgRV8HgAAX9q4suE&_nc_ad=z-m&_nc_cid=0&_nc_zor=9&_nc_ht=scontent.xx&oh=ba92c28af571898e3d200043dab41de7&oe=5EB61F06']\\\"]\", \"action_handle_send_link_only\"], [\"D\\u00f9ng cho b\\u00e9 bao th\\u00e1ng \\u1ea1\", \"C\\u1ea7u tr\\u01b0\\u1ee3t c\\u00f3 \\u0111\\u1ed9 tu\\u1ed5i s\\u1eed d\\u1ee5ng 0-36 th\\u00e1ng \\nB\\u1ea1n tham kh\\u1ea3o s\\u1ea3n ph\\u1ea9m sau nh\\u00e9 \\u1ea1:\\n<show sp>\", \"query_knowledge_base\", \"['attribute:age_of_use']\", \"action_query_babe_kb\"], [\"B\\u00e1o gi\\u00e1 gi\\u00fap m\\u00ecnh b\\u1ea3ng v\\u1ebd Hola nh\\u00e9\\n1 b\\u1ed9 bao g\\u1ed3m nh\\u1eefng g\\u00ec nh\\u1ec9\", \"S\\u1ea3n ph\\u1ea9m  B\\u1ea2NG V\\u1ebc HOLLA 2 in 1  hi\\u1ec7n shop \\u0111ang c\\u00f3 gi\\u00e1: 830,000 VND (gi\\u00e1 g\\u1ed1c 1,090,000 VND).\\nS\\u1ea3n ph\\u1ea9m B\\u1ea2NG V\\u1ebc HOLLA 2 in 1 bao g\\u1ed3m c\\u00e1c ph\\u1ee5 ki\\u1ec7n sau: b\\u1ed9 ch\\u1eef, b\\u1ed9 s\\u1ed1 v\\u00e0 b\\u00fat n\\u01b0\\u1edbc \\u1ea1 B\\u1ea1n tham kh\\u1ea3o s\\u1ea3n ph\\u1ea9m sau nh\\u00e9 \\u1ea1:\\n <show sp>\", \"query_knowledge_base\", \"['attribute:price','object_type:bang_ve','brand:hola','attribute:accessories']\", \"action_query_babe_kb\"], [\"https://scontent.xx.fbcdn.net/v/t1.15752-9/92548082_214955003273973_3799894782386372608_n.jpg?_nc_cat=106&_nc_sid=b96e70&_nc_ohc=ECkHH-pZ5eQAX9wxG23&_nc_ad=z-m&_nc_cid=0&_nc_zor=9&_nc_ht=scontent.xx&oh=26d86b32b83f4722329ebda411b1b8b7&oe=5EB87673\", null, \"send_link\", \"[\\\"url:['https://scontent.xx.fbcdn.net/v/t1.15752-9/92548082_214955003273973_3799894782386372608_n.jpg?_nc_cat=106&_nc_sid=b96e70&_nc_ohc=ECkHH-pZ5eQAX9wxG23&_nc_ad=z-m&_nc_cid=0&_nc_zor=9&_nc_ht=scontent.xx&oh=26d86b32b83f4722329ebda411b1b8b7&oe=5EB87673']\\\"]\", \"action_handle_send_link_only\"], [\"c\\u00f3 tr\\u00ean shopee kh\\u00f4ng shop\", \"M\\u1eddi b\\u1ea1n tham kh\\u1ea3o link shopee c\\u1ee7a s\\u1ea3n ph\\u1ea9m:\\n<show card sp>\", \"query_knowledge_base\", \"['attribute:link']\", \"action_query_babe_kb\"], [\"Cho m xem m\\u00e0u\", \"M\\u00ecnh ch\\u01b0a x\\u00e1c \\u0111\\u1ecbnh \\u0111\\u01b0\\u1ee3c m\\u00f3n \\u0111\\u1ed3 b\\u1ea1n h\\u1ecfi, b\\u1ea1n m\\u00f4 t\\u1ea3 r\\u00f5 h\\u01a1n gi\\u00fap m\\u00ecnh nh\\u00e9!\", \"query_knowledge_base\", \"['attribute:color']\", \"action_query_babe_kb\"], [\"Gh\\u1ebf \\u0103n d\\u1eb7m newber \\u1ea1\", \"D\\u1ea1, s\\u1ea3n ph\\u1ea9m Gh\\u1ebf \\u0102n h\\u00e3ng s\\u1ea3n xu\\u1ea5t Newber hi\\u1ec7n t\\u1ea1i \\u0111ang c\\u00f3 c\\u00e1c m\\u00e0u sau \\u1ea1 : h\\u1ed3ng, xanh\\nB\\u1ea1n tham kh\\u1ea3o s\\u1ea3n ph\\u1ea9m sau nh\\u00e9 \\u1ea1:\\n <show sp>\", \"query_knowledge_base\", \"['object_type:ghe_an', 'brand:newber']\", \"action_query_babe_kb\"], [\"b\\u00e9 bao tu\\u1ed5i th\\u00ec ng\\u1ed3i \\u0111\\u01b0\\u1ee3c \\u1ea1\", \"Gh\\u1ebf \\u0102n h\\u00e3ng s\\u1ea3n xu\\u1ea5t Newber c\\u00f3 \\u0111\\u1ed9 tu\\u1ed5i s\\u1eed d\\u1ee5ng 0-36 th\\u00e1ng \\nB\\u1ea1n tham kh\\u1ea3o s\\u1ea3n ph\\u1ea9m sau nh\\u00e9 \\u1ea1:\\n<show sp>\", \"query_knowledge_base\", \"['attribute:age_of_use']\", \"action_query_babe_kb\"], [\"https://scontent.xx.fbcdn.net/v/t1.15752-9/92131879_1387552388082877_713343700784119808_n.jpg?_nc_cat=104&_nc_sid=b96e70&_nc_ohc=kFnxhSTxRVAAX_9rX3-&_nc_ad=z-m&_nc_cid=0&_nc_zor=9&_nc_ht=scontent.xx&oh=40adffc887ec99df20f0b2a16bf88371&oe=5EB60C83\", \"B\\u1ea1n \\u0111ang t\\u00ecm ki\\u1ebfm th\\u00f4ng tin g\\u00ec \\u1ea1?\", \"send_link\", \"[\\\"url:['https://scontent.xx.fbcdn.net/v/t1.15752-9/92131879_1387552388082877_713343700784119808_n.jpg?_nc_cat=104&_nc_sid=b96e70&_nc_ohc=kFnxhSTxRVAAX_9rX3-&_nc_ad=z-m&_nc_cid=0&_nc_zor=9&_nc_ht=scontent.xx&oh=40adffc887ec99df20f0b2a16bf88371&oe=5EB60C83']\\\"]\", \"action_handle_send_link_only\"], [\"B\\u1ea3n cho b\\u00e9 2 tuoi bao nh \\u1ea1\", \"S\\u1ea3n ph\\u1ea9m B\\u1ea2NG V\\u1ebc HOLLA 2 in 1 hi\\u1ec7n shop \\u0111ang c\\u00f3 gi\\u00e1: *830,000 VND (gi\\u00e1 g\\u1ed1c 1,090,000 VND)*.\\r\\nB\\u1ea1n tham kh\\u1ea3o c\\u00e1c s\\u1ea3n ph\\u1ea9m sau nh\\u00e9 \\u1ea1:\", \"query_knowledge_base\", \"['age_of_use:2 tuoi', 'attribute:price']\", \"action_query_babe_kb\"], [\"ok shop\", \"D\\u1ea1,v\\u00e2ng\", \"agree\", null, \"utter_agree\"], [\"B\\u1ea1n \\u01a1i ship cho m\\u00ecnh 1 thanh ch\\u1eafn c\\u1eeda v\\u00e0 1 thanh n\\u1ed1i 12cm nh\\u00e9\", \"\\\"C\\u1ea3m \\u01a1n b\\u1ea1n! B\\u1ea1n vui l\\u00f2ng \\u0111i\\u1ec1n th\\u00f4ng tin v\\u00e0o M\\u1eabu \\u0111\\u1eb7t h\\u00e0ng gi\\u00fap shop nh\\u00e9!\\n<Show ra c\\u00e1i b\\u1ea3ng m\\u1eabu \\u0111\\u1eb7t h\\u00e0ng: c\\u00f3 t\\u00ean s\\u1ea3n ph\\u1ea9m, cho kh\\u00e1ch t\\u00f9y ch\\u1ecdn s\\u1ed1 l\\u01b0\\u1ee3ng, m\\u00e0u s\\u1eafc...>\\\"\\n<x\\u00e1c nh\\u1eadn> <h\\u1ee7y>\", \"query_knowledge_base\", \"['object_type:thanh_chan_cua','object_type:thanh_noi','attribute:ship'size:12cm]\", null], [null, \"B\\u1ea1n \\u0111\\u00e3 \\u0111\\u1eb7t h\\u00e0ng th\\u00e0nh c\\u00f4ng , \\u0111\\u01a1n h\\u00e0ng s\\u1ebd \\u0111c gioa \\u0111\\u1ebfn 434 TKC trong kho\\u1ea3ng 24 h \\u1ea1\", \"agree\", null, \"action_query_babe_kb\"], [\"b\\u1ea1n \\u01a1i\", \"Ch\\u00e0o b\\u1ea1n, m\\u00ecnh l\\u00e0 tr\\u1ee3 l\\u00fd \\u1ea3o c\\u1ee7a Shop G\\u1ea5u & B\\u00ed Ng\\u00f4, m\\u00ecnh gi\\u00fap g\\u00ec \\u0111\\u01b0\\u1ee3c b\\u1ea1n \\u1ea1?\", \"greet\", null, \"utter_greet\"], [\"shop \\u01a1i m\\u00ecnh c\\u1ea7n mua v\\u00e1y v\\u1eaft s\\u1eeda\\ns\\u01b0a\", \"Hi\\u1ec7n t\\u1ea1i s\\u1ea3n ph\\u1ea9m m\\u00e1y h\\u00fat s\\u1eefa shop \\u0111ang c\\u00f3 nh\\u1eefng gi\\u00e1 sau \\u1ea1:\\n<500-1M> <1M-2M> <T\\u1ea5t c\\u1ea3 gi\\u00e1>\", \"query_knowledge_base\", \"['object_type:may_hut_sua']\", \"action_query_babe_kb\"], [\"/query_knowledge_base{\\\"price\\\": \\\"1M - 2M\\\"}\\t\", \"M\\u1eddi b\\u1ea1n click v\\u00e0o \\\"Xem chi ti\\u1ebft\\\" \\u0111\\u1ec3 tham kh\\u1ea3o s\\u1ea3n ph\\u1ea9m hi\\u1ec7n c\\u00f3 t\\u1ea1i shop nh\\u00e9!\\r\\n<card sp 1> <card sp 2> <card sp 3>\", \"query_knowledge_base\", null, \"action_query_babe_kb\"], [\"Alo\", \"Ch\\u00e0o b\\u1ea1n, m\\u00ecnh l\\u00e0 tr\\u1ee3 l\\u00fd \\u1ea3o c\\u1ee7a Shop G\\u1ea5u & B\\u00ed Ng\\u00f4, m\\u00ecnh gi\\u00fap g\\u00ec \\u0111\\u01b0\\u1ee3c b\\u1ea1n \\u1ea1?\", \"greet\", null, \"utter_greet\"], [\"https://scontent.xx.fbcdn.net/v/t1.15752-9/93049506_230567204722153_3091303153677631488_n.jpg?_nc_cat=101&_nc_sid=b96e70&_nc_ohc=U5aAIvE1cnoAX-OQDkx&_nc_ad=z-m&_nc_cid=0&_nc_zor=9&_nc_ht=scontent.xx&oh=f0e42a84100aba274a52478c37af6d52&oe=5EB6C3EE\", \"B\\u1ea1n \\u0111ang t\\u00ecm ki\\u1ebfm th\\u00f4ng tin g\\u00ec \\u1ea1?\", \"send_link\", \"[\\\"url:['https://scontent.xx.fbcdn.net/v/t1.15752-9/93049506_230567204722153_3091303153677631488_n.jpg?_nc_cat=101&_nc_sid=b96e70&_nc_ohc=U5aAIvE1cnoAX-OQDkx&_nc_ad=z-m&_nc_cid=0&_nc_zor=9&_nc_ht=scontent.xx&oh=f0e42a84100aba274a52478c37af6d52&oe=5EB6C3EE']\\\"]\", \"action_handle_send_link_only\"], [\"\\u0110\\u0103ng shopee ch\\u01b0a\", \"M\\u1eddi b\\u1ea1n tham kh\\u1ea3o link shopee c\\u1ee7a s\\u1ea3n ph\\u1ea9m:\\n<show card sp>\", \"action_query_babe_kb\", \"['attribute:link']\", \"action_query_babe_kb\"], [\"Alo\", \"Ch\\u00e0o b\\u1ea1n, m\\u00ecnh l\\u00e0 tr\\u1ee3 l\\u00fd \\u1ea3o c\\u1ee7a Shop G\\u1ea5u & B\\u00ed Ng\\u00f4, m\\u00ecnh gi\\u00fap g\\u00ec \\u0111\\u01b0\\u1ee3c b\\u1ea1n \\u1ea1?\", \"greet\", null, \"utter_greet\"], [\"https://scontent.xx.fbcdn.net/v/t1.15752-9/93049506_230567204722153_3091303153677631488_n.jpg?_nc_cat=101&_nc_sid=b96e70&_nc_ohc=U5aAIvE1cnoAX-OQDkx&_nc_ad=z-m&_nc_cid=0&_nc_zor=9&_nc_ht=scontent.xx&oh=f0e42a84100aba274a52478c37af6d52&oe=5EB6C3EE\", null, \"send_link\", \"[\\\"url:['https://scontent.xx.fbcdn.net/v/t1.15752-9/93049506_230567204722153_3091303153677631488_n.jpg?_nc_cat=101&_nc_sid=b96e70&_nc_ohc=U5aAIvE1cnoAX-OQDkx&_nc_ad=z-m&_nc_cid=0&_nc_zor=9&_nc_ht=scontent.xx&oh=f0e42a84100aba274a52478c37af6d52&oe=5EB6C3EE']\\\"]\", \"action_handle_send_link_only\"], [\"\\u0110\\u0103ng shopee ch\\u01b0a\", \"S\\u1ea3n ph\\u1ea9m B\\u1ed9 \\u0111\\u1ed3 ch\\u01a1i nh\\u00e0 b\\u1ebfp th\\u00f4ng minh hi\\u1ec7n ch\\u01b0a c\\u00f3 link shopee \\u1ea1\", \"query_knowledge_base\", \"['attribute:link']\", \"action_query_babe_kb\"], [\"Bao gi\\u1edd \\u0111\\u0103ng l\\u00ean th\\u00ec th\\u00f4ng b\\u00e1o m\\u00ecnh nh\\u00e9 \\u0111\\u1ec3 m\\u00ecnh \\u0111\\u1eb7t h\\u00e0ng\", \"D\\u1ea1,v\\u00e2ng \\u1ea1\", \"query_knowledge_base\", null, \"action_query_babe_kb\"], [\"b \\u01a1i cho m\\u00ecnh h\\u1ecfi ch\\u00fat\\nb\\u00ean m\\u00ecnh c\\u00f3 qu\\u00e2y k k \\u1ea1\", \"S\\u1ea3n ph\\u1ea9m  Qu\\u00e2y  hi\\u1ec7n shop \\u0111ang c\\u00f3 gi\\u00e1: *1,440,000 VND (gi\\u00e1 g\\u1ed1c 1,490,000 VND), 1,040,000 VND (gi\\u00e1 g\\u1ed1c 1,290,000 VND), 1,340,000 VND (gi\\u00e1 g\\u1ed1c 1,390,000 VND)*.\\nB\\u1ea1n tham kh\\u1ea3o c\\u00e1c s\\u1ea3n ph\\u1ea9m sau nh\\u00e9 \\u1ea1:\", \"query_knowledge_base\", \"['object_type:quay']\", \"action_query_babe_kb\"], [\"m\\u1eabu n\\u00e0y kt bn h\\u1ea3 b\", \"M\\u00ecnh ch\\u01b0a x\\u00e1c \\u0111\\u1ecbnh \\u0111\\u01b0\\u1ee3c m\\u00f3n \\u0111\\u1ed3 b\\u1ea1n h\\u1ecfi, b\\u1ea1n m\\u00f4 t\\u1ea3 r\\u00f5 h\\u01a1n gi\\u00fap m\\u00ecnh nh\\u00e9!\", \"query_knowledge_base\", \"['mention:m\\u1eabu n\\u00e0y', 'attribute:size']\", \"action_query_babe_kb\"], [\"https://scontent.xx.fbcdn.net/v/t1.15752-9/92319989_243079400401587_6154261374332567552_n.jpg?_nc_cat=102&_nc_sid=b96e70&_nc_ohc=YkHJKwU8VpUAX-Gwl3X&_nc_ad=z-m&_nc_cid=0&_nc_zor=9&_nc_ht=scontent.xx&oh=80ff0124dbde1098c7a2bee69d87cac8&oe=5EB719F6\", \"S\\u1ea3n ph\\u1ea9m  COMBO HOLLA LI\\u00caN HO\\u00c0N 2020 hi\\u1ec7n shop \\u0111ang c\\u00f3 k\\u00edch th\\u01b0\\u1edbc: *1.8x2M*.\\nB\\u1ea1n tham kh\\u1ea3o s\\u1ea3n ph\\u1ea9m sau nh\\u00e9 \\u1ea1:\\n<show card sp>\", \"send_link\", \"[\\\"url:['https://scontent.xx.fbcdn.net/v/t1.15752-9/92319989_243079400401587_6154261374332567552_n.jpg?_nc_cat=102&_nc_sid=b96e70&_nc_ohc=YkHJKwU8VpUAX-Gwl3X&_nc_ad=z-m&_nc_cid=0&_nc_zor=9&_nc_ht=scontent.xx&oh=80ff0124dbde1098c7a2bee69d87cac8&oe=5EB719F6']\\\"]\", \"action_handle_send_link_only\"], [\"mai ship m\\u00ecnh b\\u1ed9 n\\u00e0y b nh\\u00e9\\n\", \"Cho shop xin th\\u00f4ng tin \\u1ea1 ( \\u0111\\u1ecba ch\\u1ec9 , s\\u1ed1 \\u0111i\\u1ec7n tho\\u1ea1i)\", \"query_knowledge_base\", \"['mention:b\\u1ed9 n\\u00e0y']\", \"action_query_babe_kb\"], [\"434 tr\\u1ea7n kh\\u00e1t ch\\u00e2n, hai b\\u00e0 tr\\u01b0ng\\ns\\u0111t:113\", \"Th\\u00f4ng tin \\u0111\\u01a1n h\\u00e0ng \\n( ng nh\\u1eadn: t\\u00ean fb, t\\u00ean s\\u1ea3n ph\\u1ea9m, s\\u1ed1 l\\u01b0\\u1ee3ng, thu\\u1ed9c t\\u00ednh, gi\\u00e1 tr\\u1ecb s\\u1ea3n ph\\u1ea9m , ph\\u00ed ship v\\u00e0 t\\u1ed5ng gi\\u00e1 tr\\u1ecb  \\u0111\\u01a1n h\\u00e0ng)\\n<x\\u00e1c nh\\u1eadn><h\\u1ee7y b\\u1ecf>\", \"query_knowledge_base\", null, \"action_query_babe_kb\"], [\"<x\\u00e1c nh\\u1eadn>\", \"C\\u00e1m \\u01a1n b\\u1ea1n \\u0111\\u00e3 mua h\\u00e0ng t\\u1ea1i shop, \\u0111\\u01a1n h\\u00e0ng s\\u1ebd \\u0111\\u01b0\\u1ee3c giao \\u0111\\u1ebfn 434 tr\\u1ea7n kh\\u00e1t ch\\u00e2n, 2 b\\u00e0 tr\\u01b0ng trong kho\\u1ea3ng 24 h \", \"agree\", null, null], [\"b\\u1ea1n \\u01a1i\", \"Ch\\u00e0o b\\u1ea1n, m\\u00ecnh l\\u00e0 tr\\u1ee3 l\\u00fd \\u1ea3o c\\u1ee7a Shop G\\u1ea5u & B\\u00ed Ng\\u00f4, m\\u00ecnh gi\\u00fap g\\u00ec \\u0111\\u01b0\\u1ee3c b\\u1ea1n \\u1ea1?\", \"greet\", null, \"utter_greet\"], [\"cho e h\\u1ecfi shop m\\u00ecnh c\\u00f2n gh\\u1ebf \\u0103n d\\u1eb7m lo\\u1ea1i n\\u00e0y k \\u1ea1\\nhttps://scontent.xx.fbcdn.net/v/t1.15752-9/92664877_857284874739536_7878532899333472256_n.png?_nc_cat=100&_nc_sid=b96e70&_nc_ohc=8hyz8A1A7kIAX8Zqi8Z&_nc_ad=z-m&_nc_cid=0&_nc_zor=9&_nc_ht=scontent.xx&oh=bbbcb24217efa1a016291a04e3c6a380&oe=5EB66428\", \"S\\u1ea3n ph\\u1ea9m  Gh\\u1ebf cao \\u0111a n\\u0103ng Mastela 1015  hi\\u1ec7n shop \\u0111ang c\\u00f3 gi\\u00e1: 1320000 VND (gi\\u00e1 g\\u1ed1c 2000000 VND).\\nB\\u1ea1n tham kh\\u1ea3o c\\u00e1c s\\u1ea3n ph\\u1ea9m sau nh\\u00e9 \\u1ea1:\\n<show sp>\", \"query_knowledge_base\", \"[\\\"url:['https://scontent.xx.fbcdn.net/v/t1.15752-9/92664877_857284874739536_7878532899333472256_n.png?_nc_cat=100&_nc_sid=b96e70&_nc_ohc=8hyz8A1A7kIAX8Zqi8Z&_nc_ad=z-m&_nc_cid=0&_nc_zor=9&_nc_ht=scontent.xx&oh=bbbcb24217efa1a016291a04e3c6a380&oe=5EB66428']\\\", 'object_type:ghe_an', 'mention:lo\\u1ea1i n\\u00e0y']\", \"action_query_babe_kb\"], [\"thank shop\", \"D\\u1ea1 v\\u00e2ng \\u1ea1.\", \"thank\", null, \"utter_thank\"], [\"Alo\\nhttps://scontent.xx.fbcdn.net/v/t1.15752-9/93277960_579821402741160_1239001299282821120_n.jpg?_nc_cat=100&_nc_sid=b96e70&_nc_ohc=d8OxiZOFC3UAX9Yvec0&_nc_ad=z-m&_nc_cid=0&_nc_zor=9&_nc_ht=scontent.xx&oh=6602df45fb9482936f8daa0e6f2fe356&oe=5EB6D3C7\", \"Ch\\u00e0o b\\u1ea1n, m\\u00ecnh l\\u00e0 tr\\u1ee3 l\\u00fd \\u1ea3o c\\u1ee7a Shop G\\u1ea5u & B\\u00ed Ng\\u00f4, m\\u00ecnh gi\\u00fap g\\u00ec \\u0111\\u01b0\\u1ee3c b\\u1ea1n \\u1ea1?\", \"greet\", \"[\\\"url:['https://scontent.xx.fbcdn.net/v/t1.15752-9/93277960_579821402741160_1239001299282821120_n.jpg?_nc_cat=100&_nc_sid=b96e70&_nc_ohc=d8OxiZOFC3UAX9Yvec0&_nc_ad=z-m&_nc_cid=0&_nc_zor=9&_nc_ht=scontent.xx&oh=6602df45fb9482936f8daa0e6f2fe356&oe=5EB6D3C7']\\\"]\", \"utter_greet\"], [\"Mua le dc k shop\", \"Qu\\u00e2y g\\u00f3c vu\\u00f4ng c\\u00e1nh nh\\u1ecf h\\u00ecnh ng\\u00f4i nh\\u00e0 toyhouse l\\u00e0 s\\u1ea3n ph\\u1ea9m b\\u00e1n l\\u1ebb hi\\u1ec7n \\u0111ang c\\u00f3 gi\\u00e1 1.090.000 - \\u20ab1.250.000\\n (gi\\u00e1 g\\u1ed1c 290.000 - \\u20ab1.390.000)\\nB\\u1ea1n tham kh\\u1ea3o c\\u00e1c s\\u1ea3n ph\\u1ea9m sau nh\\u00e9 \\u1ea1:\\n<show sp>\", \"query_knowledge_base\", \"[]\", \"action_query_babe_kb\"], [\"Ship Th\\u1ea1ch Bnaf, LB ph\\u00ed bnhieu b\", \"Ship th\\u1ea1ch b\\u00e0n , long bi\\u00ean trong n\\u1ed9i th\\u00e0nh h\\u00e0 n\\u1ed9i h\\u1ebft kho\\u1ea3ng 30-40 k \\u1ea1\", \"query_knowledge_base\", \"[]\", \"action_handover_to_inbox\"], [\"Shop cho e h\\u1ecfi b\\u1ed9 \\u0111\\u1ed3 ch\\u01a1i cho b\\u00e9 n\\u00e0y c\\u00f3 to ko \\u1ea1. B\\u00e9 \\u0111\\u1ee9ng v\\u1edbi t\\u1edbi ko \\u1ea1. Do nh\\u00ecn qua h\\u00ecnh n\\u00ean ko h\\u00ecnh dung dc k\\u00edch c\\u1ee1 th\\u1ebf n\\u00e0o\", \"M\\u00ecnh ch\\u01b0a x\\u00e1c \\u0111\\u1ecbnh \\u0111\\u01b0\\u1ee3c m\\u00f3n \\u0111\\u1ed3 b\\u1ea1n h\\u1ecfi, b\\u1ea1n m\\u00f4 t\\u1ea3 r\\u00f5 h\\u01a1n gi\\u00fap m\\u00ecnh nh\\u00e9!\", \"query_knowledge_base\", \"['attribute:size']\", \"action_query_babe_kb\"], [\"https://scontent.xx.fbcdn.net/v/t1.15752-9/92484517_1949098825215067_9094653464721489920_n.jpg?_nc_cat=107&_nc_sid=b96e70&_nc_ohc=vtrowuM_cxgAX9BfUVc&_nc_ad=z-m&_nc_cid=0&_nc_zor=9&_nc_ht=scontent.xx&oh=fb8bb0f890ad2e441ac229831652b030&oe=5EB3F743\", \"S\\u1ea3n ph\\u1ea9m  B\\u1ed9 \\u0111\\u1ed3 ch\\u01a1i nh\\u00e0 b\\u1ebfp th\\u00f4ng minh c\\u00f3 k\\u00edch th\\u01b0\\u1edbc: 57x30x77cm v\\u00e0 51x32x100cm\\nB\\u1ea1n tham kh\\u1ea3o c\\u00e1c s\\u1ea3n ph\\u1ea9m sau nh\\u00e9 \\u1ea1:\\n<Show card cu\\u1ed1i c\\u00f9ng>\", \"send_link\", \"[\\\"url:['https://scontent.xx.fbcdn.net/v/t1.15752-9/92484517_1949098825215067_9094653464721489920_n.jpg?_nc_cat=107&_nc_sid=b96e70&_nc_ohc=vtrowuM_cxgAX9BfUVc&_nc_ad=z-m&_nc_cid=0&_nc_zor=9&_nc_ht=scontent.xx&oh=fb8bb0f890ad2e441ac229831652b030&oe=5EB3F743']\\\"]\", \"action_handle_send_link_only\\n\"], [\"c\\u00e1m \\u01a1n shop\", null, \"thank\", null, \"utter_thank\"], [\"hello\", \"Ch\\u00e0o b\\u1ea1n, m\\u00ecnh l\\u00e0 tr\\u1ee3 l\\u00fd \\u1ea3o c\\u1ee7a Shop G\\u1ea5u & B\\u00ed Ng\\u00f4, m\\u00ecnh gi\\u00fap g\\u00ec \\u0111\\u01b0\\u1ee3c b\\u1ea1n \\u1ea1?\", \"greet\", null, \"utter_greet\"], [\"gh\\u1ebf \\u0103n d\\u1eb7m\", \"Hi\\u1ec7n t\\u1ea1i s\\u1ea3n ph\\u1ea9m Gh\\u1ebf \\u0102n  shop \\u0111ang c\\u00f3 nh\\u1eefng *gi\\u00e1* sau \\u1ea1:\", \"query_knowledge_base\", \"['object_type:ghe_an']\", \"action_query_babe_kb\"], [\"/confirm_attribute_value{\\\"price\\\": \\\"500k - 1M\\\"}\", \"D\\u1ea1 m\\u1eddi b\\u1ea1n tham kh\\u1ea3o c\\u00e1c lo\\u1ea1i s\\u1ea3n ph\\u1ea9m hi\\u1ec7n c\\u00f3 t\\u1ea1i shop nh\\u00e9!\", \"confirm_attribute_value\", \"['price:500k - 1M']\", \"action_query_babe_kb\"], [\"V\\u1eady xe scotter c\\u00f2n k \\u1ea1\\nLo\\u1ea1i c\\u00f3 \\u01b0 b\\u00e1nh trc \\u1ea1\", \"M\\u1eddi b\\u1ea1n tham kh\\u1ea3o c\\u00e1c Xe Scooter shop \\u0111ang c\\u00f3 \\u1ea1:\\n<Show card xe scooter>\", \"query_knowledge_base\", \"['object_type:xe', 'brand:scotter']\", \"action_query_babe_kb\"], [\"https://scontent.xx.fbcdn.net/v/t1.15752-9/92430207_618936155615605_8144463878298796032_n.jpg?_nc_cat=111&_nc_sid=b96e70&_nc_ohc=uE0sZhyAuPYAX9fUicW&_nc_ad=z-m&_nc_cid=0&_nc_zor=9&_nc_ht=scontent.xx&oh=3b3036f8632df7eedeffd0fc87e64692&oe=5EB2C515\", \"B\\u1ea1n \\u0111ang t\\u00ecm ki\\u1ebfm th\\u00f4ng tin g\\u00ec \\u1ea1?\", \"send_link\", \"[\\\"url:['https://scontent.xx.fbcdn.net/v/t1.15752-9/92430207_618936155615605_8144463878298796032_n.jpg?_nc_cat=111&_nc_sid=b96e70&_nc_ohc=uE0sZhyAuPYAX9fUicW&_nc_ad=z-m&_nc_cid=0&_nc_zor=9&_nc_ht=scontent.xx&oh=3b3036f8632df7eedeffd0fc87e64692&oe=5EB2C515']\\\"]\", \"action_handle_send_link_only\"], [\"Shop co b\\u00e1n goi nay kg \\u1ea1?\", \"S\\u1ea3n ph\\u1ea9m b\\u1ea1n v\\u1eeba g\\u1eedi shop kh\\u00f4ng c\\u00f3 h\\u00e0ng, hi\\u1ec7n t\\u1ea1i shop c\\u00f3 c\\u00e1c lo\\u1ea1i G\\u1ed1i sau:\\n<show random card 5 c\\u00e1i g\\u1ed1i>\", \"query_knowledge_base\", \"['object_type:goi', 'mention:nay']\", \"action_query_babe_kb\"], [\"shop \\u01a1i\", \"Ch\\u00e0o b\\u1ea1n, m\\u00ecnh l\\u00e0 tr\\u1ee3 l\\u00fd \\u1ea3o c\\u1ee7a Shop G\\u1ea5u & B\\u00ed Ng\\u00f4, m\\u00ecnh gi\\u00fap g\\u00ec \\u0111\\u01b0\\u1ee3c b\\u1ea1n \\u1ea1?\", \"greet\", null, \"utter_greet\"], [\"B\\u1ed9 n\\u00e0y bao nhi\\u00eau v\\u1eady b\\u1ea1n?\\nhttps://scontent.xx.fbcdn.net/v/t1.15752-9/92392502_563581274279413_911273699502456832_n.jpg?_nc_cat=101&_nc_sid=b96e70&_nc_ohc=LK2HVorNH4kAX-hOqZU&_nc_ad=z-m&_nc_cid=0&_nc_zor=9&_nc_ht=scontent.xx&oh=6d0970e4a27ab409c251778d49de4648&oe=5EB66188\", \"S\\u1ea3n ph\\u1ea9m  B\\u1ed9 \\u0111\\u1ed3 ch\\u01a1i nh\\u00e0 b\\u1ebfp th\\u00f4ng minh  hi\\u1ec7n shop \\u0111ang c\\u00f3 gi\\u00e1: 490.000 - 790.000\\nB\\u1ea1n tham kh\\u1ea3o c\\u00e1c s\\u1ea3n ph\\u1ea9m sau nh\\u00e9 \\u1ea1:\\n<Show card cu\\u1ed1i c\\u00f9ng>\", \"query_knowledge_base\", \"[\\\"url:['https://scontent.xx.fbcdn.net/v/t1.15752-9/92392502_563581274279413_911273699502456832_n.jpg?_nc_cat=101&_nc_sid=b96e70&_nc_ohc=LK2HVorNH4kAX-hOqZU&_nc_ad=z-m&_nc_cid=0&_nc_zor=9&_nc_ht=scontent.xx&oh=6d0970e4a27ab409c251778d49de4648&oe=5EB66188']\\\", 'mention:b\\u1ed9 n\\u00e0y', 'attribute:price']\", \"action_query_babe_kb\"], [\"ok, thank shop!\", \"Shop c\\u1ea3m \\u01a1n b\\u1ea1n \\u1ea1.\", \"thank\", null, \"utter_thank\"], [\"shop \\u01a1i\", \"Ch\\u00e0o b\\u1ea1n, m\\u00ecnh l\\u00e0 tr\\u1ee3 l\\u00fd \\u1ea3o c\\u1ee7a Shop G\\u1ea5u & B\\u00ed Ng\\u00f4, m\\u00ecnh gi\\u00fap g\\u00ec \\u0111\\u01b0\\u1ee3c b\\u1ea1n \\u1ea1?\", \"greet\", null, \"utter_greet\"], [\"B\\u1ed9 n\\u00e0y bao nhi\\u00eau v\\u1eady b\\u1ea1n?\\nhttps://scontent.xx.fbcdn.net/v/t1.15752-9/92392502_563581274279413_911273699502456832_n.jpg?_nc_cat=101&_nc_sid=b96e70&_nc_ohc=LK2HVorNH4kAX-hOqZU&_nc_ad=z-m&_nc_cid=0&_nc_zor=9&_nc_ht=scontent.xx&oh=6d0970e4a27ab409c251778d49de4648&oe=5EB66188\", \"S\\u1ea3n ph\\u1ea9m  B\\u1ed9 \\u0111\\u1ed3 ch\\u01a1i nh\\u00e0 b\\u1ebfp th\\u00f4ng minh  hi\\u1ec7n shop \\u0111ang c\\u00f3 gi\\u00e1: 490.000 - 790.000\\nB\\u1ea1n tham kh\\u1ea3o c\\u00e1c s\\u1ea3n ph\\u1ea9m sau nh\\u00e9 \\u1ea1:\\n<Show card cu\\u1ed1i c\\u00f9ng>\", \"query_knowledge_base\", \"[\\\"url:['https://scontent.xx.fbcdn.net/v/t1.15752-9/92392502_563581274279413_911273699502456832_n.jpg?_nc_cat=101&_nc_sid=b96e70&_nc_ohc=LK2HVorNH4kAX-hOqZU&_nc_ad=z-m&_nc_cid=0&_nc_zor=9&_nc_ht=scontent.xx&oh=6d0970e4a27ab409c251778d49de4648&oe=5EB66188']\\\", 'mention:b\\u1ed9 n\\u00e0y', 'attribute:price']\", \"action_query_babe_kb\"], [\"c\\u00e1i n\\u00e0y c\\u00f3 2 size \\u00e0 shop?\", \"S\\u1ea3n ph\\u1ea9m  B\\u1ed9 \\u0111\\u1ed3 ch\\u01a1i nh\\u00e0 b\\u1ebfp th\\u00f4ng minh c\\u00f3 k\\u00edch th\\u01b0\\u1edbc: 57x30x77cm v\\u00e0 51x32x100cm\\nB\\u1ea1n tham kh\\u1ea3o c\\u00e1c s\\u1ea3n ph\\u1ea9m sau nh\\u00e9 \\u1ea1:\\n<Show card cu\\u1ed1i c\\u00f9ng>\", \"query_knowledge_base\", \"['mention:c\\u00e1i n\\u00e0y', 'attribute:size']\", \"action_query_babe_kb\"], [\"ok shop\", \"V\\u00e2ng \\u1ea1!\", \"agree\", null, \"utter_agree\"], [\"shop \\u01a1i\", \"Ch\\u00e0o b\\u1ea1n, m\\u00ecnh l\\u00e0 tr\\u1ee3 l\\u00fd \\u1ea3o c\\u1ee7a Shop G\\u1ea5u & B\\u00ed Ng\\u00f4, m\\u00ecnh gi\\u00fap g\\u00ec \\u0111\\u01b0\\u1ee3c b\\u1ea1n \\u1ea1?\", \"greet\", null, \"utter_greet\"], [\"Ch\\u00e0o shop, shop c\\u00f2n m\\u1eabu gh\\u1ebf mastela m\\u00e0u ghi, m\\u00e3 7330 kh\\u00f4ng\\nGi\\u00e1 bao nhi\\u00eau\", \"S\\u1ea3n ph\\u1ea9m Gh\\u1ebf \\u0103n n\\u00e2ng h\\u1ea1 \\u0111\\u1ed9 cao nh\\u1ef1a Mastela 07330/07331 m\\u00e0u ghi hi\\u1ec7n \\u0111ang c\\u00f3 gi\\u00e1: 490.000 (Gi\\u00e1 g\\u1ed1c: 639.000).\\n<Show card>\", \"query_knowledge_base\", \"['object_type:ghe', 'brand:mastela', 'color:m\\u00e0u ghi', 'attribute:price', 'code:7330']\", \"action_query_babe_kb\"], [\"M\\u00ecnh c\\u1ea7n g\\u1ea5p, shop ship lu\\u00f4n cho m\\u00ecnh nh\\u00e9.\", \"C\\u1ea3m \\u01a1n b\\u1ea1n! B\\u1ea1n vui l\\u00f2ng \\u0111i\\u1ec1n th\\u00f4ng tin v\\u00e0o M\\u1eabu \\u0111\\u1eb7t h\\u00e0ng gi\\u00fap shop nh\\u00e9!\\n<Show ra c\\u00e1i b\\u1ea3ng m\\u1eabu \\u0111\\u1eb7t h\\u00e0ng: c\\u00f3 t\\u00ean s\\u1ea3n ph\\u1ea9m, cho kh\\u00e1ch t\\u00f9y ch\\u1ecdn s\\u1ed1 l\\u01b0\\u1ee3ng, m\\u00e0u s\\u1eafc...>\", \"make_order\", null, \"action_make_order\"], [\"https://scontent.xx.fbcdn.net/v/t1.15752-9/91106339_504681633742206_788347577962594304_n.jpg?_nc_cat=101&_nc_sid=b96e70&_nc_oc=AQkpdwlzm_mTmrlmOvdESGIDOUEFrWujbD-83rE4K6ox1kluGcnfS6n-PsbADXsmCzsphR9NWY-7rsS1btzeL5vr&_nc_ad=z-m&_nc_cid=0&_nc_zor=9&_nc_ht=scontent.xx&oh=911eee54169aeab013d04631dc885161&oe=5EA68BE0\", \"B\\u1ea1n \\u0111ang t\\u00ecm ki\\u1ebfm th\\u00f4ng tin g\\u00ec \\u1ea1?\", \"send_link\", \"[\\\"url:['https://scontent.xx.fbcdn.net/v/t1.15752-9/91106339_504681633742206_788347577962594304_n.jpg?_nc_cat=101&_nc_sid=b96e70&_nc_oc=AQkpdwlzm_mTmrlmOvdESGIDOUEFrWujbD-83rE4K6ox1kluGcnfS6n-PsbADXsmCzsphR9NWY-7rsS1btzeL5vr&_nc_ad=z-m&_nc_cid=0&_nc_zor=9&_nc_ht=scontent.xx&oh=911eee54169aeab013d04631dc885161&oe=5EA68BE0']\\\"]\", \"action_handle_send_link_only\"], [\"Bnhiu v shop\", \"D\\u1ea1, c\\u00f3 ph\\u1ea3i b\\u1ea1n mu\\u1ed1n h\\u1ecfi m\\u1ed9t trong c\\u00e1c s\\u1ea3n ph\\u1ea9m d\\u01b0\\u1edbi \\u0111\\u00e2y kh\\u00f4ng \\u1ea1?\\n (Vui l\\u00f2ng \\u1ea5n ch\\u1ecdn 1 s\\u1ea3n ph\\u1ea9m)\\n\\n<show 5 card s\\u1ea3n ph\\u1ea9m>\", \"query_knowledge_base\", \"['attribute:price']\", \"action_query_babe_kb\"], [\"C\\u00e1i th\\u1ee9 2\\n\", \"M\\u1eddi b\\u1ea1n tham kh\\u1ea3o s\\u1ea3n ph\\u1ea9m Voi Jumbo th\\u1ea3 h\\u00ecnh kh\\u1ed1i Bkids Infantino:\\n<show card>\", null, \"['mention:2']\", \"action_query_babe_kb\"], [\"ok shop\", \"D\\u1ea1 v\\u00e2ng \\u1ea1!\", \"agree\", null, \"utter_agree\"], [\"shop \\u01a1i\", \"Ch\\u00e0o b\\u1ea1n, m\\u00ecnh l\\u00e0 tr\\u1ee3 l\\u00fd \\u1ea3o c\\u1ee7a Shop G\\u1ea5u & B\\u00ed Ng\\u00f4, m\\u00ecnh gi\\u00fap g\\u00ec \\u0111\\u01b0\\u1ee3c b\\u1ea1n \\u1ea1?\", \"greet\", null, \"utter_greet\"], [\"https://scontent.xx.fbcdn.net/v/t1.15752-9/91195826_498480424370303_2420395967455952896_n.jpg?_nc_cat=106&_nc_sid=b96e70&_nc_ohc=xbapPlP7xmIAX_VXW-N&_nc_ad=z-m&_nc_cid=0&_nc_zor=9&_nc_ht=scontent.xx&oh=9659d65beb602c42382325bcb6359a57&oe=5EA77EEF\", \"B\\u1ea1n \\u0111ang t\\u00ecm ki\\u1ebfm th\\u00f4ng tin g\\u00ec \\u1ea1?\", \"send_link\", \"[\\\"url:['https://scontent.xx.fbcdn.net/v/t1.15752-9/91195826_498480424370303_2420395967455952896_n.jpg?_nc_cat=106&_nc_sid=b96e70&_nc_ohc=xbapPlP7xmIAX_VXW-N&_nc_ad=z-m&_nc_cid=0&_nc_zor=9&_nc_ht=scontent.xx&oh=9659d65beb602c42382325bcb6359a57&oe=5EA77EEF']\\\"]\", \"action_handle_send_link_only\"], [\"B c\\u00f3 s\\u1eb5n thanh ch\\u1eafn gi\\u01b0\\u1eddng n\\u00e0y ko?\", \"S\\u1ea3n ph\\u1ea9m Thanh ch\\u1eafn gi\\u01b0\\u1eddng cao c\\u1ea5p d\\u1ea1ng tr\\u01b0\\u1ee3t Umoo ch\\u00ednh h\\u00e3ng \\u0111ang c\\u00f3 gi\\u00e1: 500.000 (Gi\\u00e1 g\\u1ed1c: 610.000).\\nM\\u1eddi b\\u1ea1n xem s\\u1ea3n ph\\u1ea9m t\\u1ea1i link:\\n<Show card>\", \"query_knowledge_base\", \"['object_type:thanh_chan_giuong']\", \"action_query_babe_kb\"], [\"lo\\u1ea1i n\\u00e0y c\\u00f3 nh\\u1eefng k\\u00edch th\\u01b0\\u1edbc n\\u00e0o shop nh\\u1ec9?\", \"S\\u1ea3n ph\\u1ea9m Thanh ch\\u1eafn gi\\u01b0\\u1eddng cao c\\u1ea5p d\\u1ea1ng tr\\u01b0\\u1ee3t Umoo ch\\u00ednh h\\u00e3ng c\\u00f3 c\\u00e1c k\\u00edch th\\u01b0\\u1edbc: 1m6, 1m8, 2m, 2m2.\", \"query_knowledge_base\", \"['mention:lo\\u1ea1i n\\u00e0y', 'attribute:size']\", \"action_query_babe_kb\"], [\"ok shop, cho m\\u00ecnh \\u0111\\u1eb7t thanh lo\\u1ea1i 2m2 nh\\u00e9.\", \"C\\u1ea3m \\u01a1n b\\u1ea1n! B\\u1ea1n vui l\\u00f2ng \\u0111i\\u1ec1n th\\u00f4ng tin v\\u00e0o M\\u1eabu \\u0111\\u1eb7t h\\u00e0ng gi\\u00fap shop nh\\u00e9!\\n<Show ra c\\u00e1i b\\u1ea3ng m\\u1eabu \\u0111\\u1eb7t h\\u00e0ng: c\\u00f3 t\\u00ean s\\u1ea3n ph\\u1ea9m, cho kh\\u00e1ch t\\u00f9y ch\\u1ecdn s\\u1ed1 l\\u01b0\\u1ee3ng, m\\u00e0u s\\u1eafc...>\", \"make_order\", \"['size:lo\\u1ea1i 2m2']\", \"action_make_order\"], [\"hi shop\", \"Ch\\u00e0o b\\u1ea1n, m\\u00ecnh l\\u00e0 tr\\u1ee3 l\\u00fd \\u1ea3o c\\u1ee7a Shop G\\u1ea5u & B\\u00ed Ng\\u00f4, m\\u00ecnh gi\\u00fap g\\u00ec \\u0111\\u01b0\\u1ee3c b\\u1ea1n \\u1ea1?\", \"greet\", null, \"utter_greet\"], [\"ch\\u1ecb mu\\u1ed1n h\\u1ecfi gi\\u00e1 c\\u0169i v\\u1ea3i greco\\nv\\u00e0 jolie\", \"D\\u1ea1, s\\u1ea3n ph\\u1ea9m Giuong h\\u00e3ng s\\u1ea3n xu\\u1ea5t Jolie, ch\\u1ea5t li\\u1ec7u V\\u1ea3i b\\u00ean shop hi\\u1ec7n t\\u1ea1i kh\\u00f4ng c\\u00f3 \\u1ea1. B\\u1ea1n tham kh\\u1ea3o c\\u00e1c s\\u1ea3n ph\\u1ea9m kh\\u00e1c d\\u00e0nh cho b\\u00e9 nh\\u00e9!\", \"query_knowledge_base\", \"['attribute:price', 'object_type:giuong', 'material:v\\u1ea3i', 'brand:greco', 'brand:jolie']\", \"action_query_babe_kb\"], [\"/query_knowledge_base{\\\"brand\\\": \\\"Graco\\\"}\", \"Hi\\u1ec7n t\\u1ea1i s\\u1ea3n ph\\u1ea9m Giuong h\\u00e3ng s\\u1ea3n xu\\u1ea5t Graco shop \\u0111ang c\\u00f3 nh\\u1eefng *gi\\u00e1* sau \\u1ea1:\", \"query_knowledge_base\", \"['brand:Graco']\", \"action_query_babe_kb\"], [\"/query_knowledge_base{\\\"price\\\": \\\"2M - 5M\\\"}\", \"S\\u1ea3n ph\\u1ea9m  Giuong h\\u00e3ng s\\u1ea3n xu\\u1ea5t Graco, gi\\u00e1 2m - 5m hi\\u1ec7n shop \\u0111ang c\\u00f3 gi\\u00e1: *5,000,000 VND, 2,900,000 VND*.\\nB\\u1ea1n tham kh\\u1ea3o c\\u00e1c s\\u1ea3n ph\\u1ea9m sau nh\\u00e9 \\u1ea1:\", \"query_knowledge_base\", \"['price:2M - 5M']\", \"action_query_babe_kb\"], [\"2 c\\u00e1i kh\\u00e1c g\\u00ec nhau\", \"B\\u1ea1n c\\u00f3 th\\u1ec3 n\\u00f3i v\\u1edbi t\\u00f4i theo 1 c\\u00e1ch kh\\u00e1c \\u0111\\u01b0\\u1ee3c kh\\u00f4ng?\", \"handover_to_inbox\", \"[]\", \"utter_ask_rephrase\"], [\"Ch\\u00e0o shop\\nM\\u00ecnh quan t\\u00e2m t\\u1edbi c\\u00e1c sp n\\u00e0y\\nhttps://scontent.xx.fbcdn.net/v/t1.15752-9/91466198_244084896638357_7080438687661555712_n.jpg?_nc_cat=105&_nc_sid=b96e70&_nc_ohc=wyoTyMF_RSAAX9EbI1K&_nc_ad=z-m&_nc_cid=0&_nc_zor=9&_nc_ht=scontent.xx&oh=8d9617825e55509c74ce414b631e8d2e&oe=5EA469BA\\nhttps://scontent.xx.fbcdn.net/v/t1.15752-9/91129214_149488453070304_6848237731844194304_n.jpg?_nc_cat=104&_nc_sid=b96e70&_nc_ohc=tMwYM6FZaVgAX_t9wGA&_nc_ad=z-m&_nc_cid=0&_nc_zor=9&_nc_ht=scontent.xx&oh=c169a5f865873b3923ef31fb69aea543&oe=5EA66692\\nhttps://scontent.xx.fbcdn.net/v/t1.15752-9/91613067_640564659835802_8379030837110243328_n.jpg?_nc_cat=109&_nc_sid=b96e70&_nc_ohc=xYnCKgjShPcAX-8TQ54&_nc_ad=z-m&_nc_cid=0&_nc_zor=9&_nc_ht=scontent.xx&oh=7e1dcf9d72a2a4ba315f7a04a51fd287&oe=5EA4BE04\\nhttps://scontent.xx.fbcdn.net/v/t1.15752-9/91721715_152379149397342_2808027185510612992_n.jpg?_nc_cat=101&_nc_sid=b96e70&_nc_ohc=l2cBoqQ6R1cAX-2E99z&_nc_ad=z-m&_nc_cid=0&_nc_zor=9&_nc_ht=scontent.xx&oh=410bcc1db19f63270645d1e28ee6726e&oe=5EA7D330\\nB\\u1ea1n b\\u00e1o gi\\u00e1 nh\\u00e9\\nB\\u00e9 nh\\u00e0 m\\u00ecnh 2tu\\u1ed5i\", \"M\\u1eddi b\\u1ea1n tham kh\\u1ea3o c\\u00e1c s\\u1ea3n ph\\u1ea9m:\\n<Show 4 cards t\\u01b0\\u01a1ng \\u1ee9ng 4 s\\u1ea3n ph\\u1ea9m g\\u1eedi \\u1ea3nh>\\n<K\\u1ef3 v\\u1ecdng g\\u1eedi \\u0111i \\u0111c c\\u1ea3 4 \\u1ea3nh, CV \\u0111\\u1ecdc 4 \\u1ea3nh v\\u00e0 tr\\u1ea3 v\\u1ec1 chu\\u1ea9n 4 card>\", \"greet\\nquery_knowledge_base\", \"[\\\"url:['https://scontent.xx.fbcdn.net/v/t1.15752-9/91721715_152379149397342_2808027185510612992_n.jpg?_nc_cat=101&_nc_sid=b96e70&_nc_ohc=l2cBoqQ6R1cAX-2E99z&_nc_ad=z-m&_nc_cid=0&_nc_zor=9&_nc_ht=scontent.xx&oh=410bcc1db19f63270645d1e28ee6726e&oe=5EA7D330', 'https://scontent.xx.fbcdn.net/v/t1.15752-9/91129214_149488453070304_6848237731844194304_n.jpg?_nc_cat=104&_nc_sid=b96e70&_nc_ohc=tMwYM6FZaVgAX_t9wGA&_nc_ad=z-m&_nc_cid=0&_nc_zor=9&_nc_ht=scontent.xx&oh=c169a5f865873b3923ef31fb69aea543&oe=5EA66692', 'https://scontent.xx.fbcdn.net/v/t1.15752-9/91466198_244084896638357_7080438687661555712_n.jpg?_nc_cat=105&_nc_sid=b96e70&_nc_ohc=wyoTyMF_RSAAX9EbI1K&_nc_ad=z-m&_nc_cid=0&_nc_zor=9&_nc_ht=scontent.xx&oh=8d9617825e55509c74ce414b631e8d2e&oe=5EA469BA', 'https://scontent.xx.fbcdn.net/v/t1.15752-9/91613067_640564659835802_8379030837110243328_n.jpg?_nc_cat=109&_nc_sid=b96e70&_nc_ohc=xYnCKgjShPcAX-8TQ54&_nc_ad=z-m&_nc_cid=0&_nc_zor=9&_nc_ht=scontent.xx&oh=7e1dcf9d72a2a4ba315f7a04a51fd287&oe=5EA4BE04']\\\", 'size:https://scontent.xx.fbcdn.net/v/t1.15752-9/91613067_640564659835802_8379030837110243328_n.jpg?_nc_cat=109&_nc_sid=b96e70&_nc_ohc=xYnCKgjShPcAX-8TQ54&_nc_ad=z-m&_nc_cid=0&_nc_zor=9&_nc_ht=scontent.xx&oh=7e1dcf9d72a2a4ba315f7a04a51fd287&oe=5EA4BE04 https://scontent.xx.fbcdn.net/v/t1.15752-9/91721715_152379149397342_2808027185510612992_n.jpg?_nc_cat=101&_nc_sid=b96e70&_nc_ohc=l2cBoqQ6R1cAX-2E99z&_nc_ad=z-m&_nc_cid=0&_nc_zor=9&_nc_ht=scontent.xx&oh=410bcc1db19f63270645d1e28ee6726e&oe=5EA7D330', 'attribute:price']\", \"action_query_babe_kb\"], [\"https://scontent.xx.fbcdn.net/v/t1.15752-9/91116566_291171825206315_2457738113934426112_n.jpg?_nc_cat=111&_nc_sid=b96e70&_nc_oc=AQl0eJdwRKLYDOTb3-7GEEopWEg73tj53KuP5VxJRcvtdD9rcM6ZrFogw5sbRM9s7R-eYHilgr7XsDCjxJ5VauHq&_nc_ad=z-m&_nc_cid=0&_nc_zor=9&_nc_ht=scontent.xx&oh=21cbaa7a85cf4cbf2e946bbc78f7ca73&oe=5EA6F7BA\", \"B\\u1ea1n \\u0111ang t\\u00ecm ki\\u1ebfm th\\u00f4ng tin g\\u00ec \\u1ea1?\", \"send_link\", \"[\\\"url:['https://scontent.xx.fbcdn.net/v/t1.15752-9/91116566_291171825206315_2457738113934426112_n.jpg?_nc_cat=111&_nc_sid=b96e70&_nc_oc=AQl0eJdwRKLYDOTb3-7GEEopWEg73tj53KuP5VxJRcvtdD9rcM6ZrFogw5sbRM9s7R-eYHilgr7XsDCjxJ5VauHq&_nc_ad=z-m&_nc_cid=0&_nc_zor=9&_nc_ht=scontent.xx&oh=21cbaa7a85cf4cbf2e946bbc78f7ca73&oe=5EA6F7BA']\\\", 'brand:https://scontent.xx.fbcdn.net/v/t1.15752-9/91116566_291171825206315_2457738113934426112_n.jpg?_nc_cat=111&_nc_sid=b96e70&_nc_oc=AQl0eJdwRKLYDOTb3-7GEEopWEg73tj53KuP5VxJRcvtdD9rcM6ZrFogw5sbRM9s7R-eYHilgr7XsDCjxJ5VauHq&_nc_ad=z-m&_nc_cid=0&_nc_zor=9&_nc_ht=scontent.xx&oh=21cbaa7a85cf4cbf2e946bbc78f7ca73&oe=5EA6F7BA']\", \"action_handle_send_link_only\"], [\"Shop c\\u00f2n b\\u1ed9 n\\u00e0y k \\u1ea1\", \"D\\u1ea1 m\\u1eddi b\\u1ea1n tham kh\\u1ea3o s\\u1ea3n ph\\u1ea9m hi\\u1ec7n c\\u00f3 t\\u1ea1i shop nh\\u00e9!\\r\\n<Show card B\\u1ec3 d\\u1ef1ng th\\u00e0nh cao Doctor Dolphin>\", \"query_knowledge_base\", \"['mention:b\\u1ed9 n\\u00e0y']\", \"action_query_babe_kb\"], [\"<\\u0110\\u1eb7t h\\u00e0ng>\\n(tr\\u00ean card cu\\u1ed1i show th\\u00eam n\\u00fat \\u0111\\u1eb7t h\\u00e0ng)\", \"C\\u1ea3m \\u01a1n b\\u1ea1n! B\\u1ea1n vui l\\u00f2ng \\u0111i\\u1ec1n th\\u00f4ng tin v\\u00e0o M\\u1eabu \\u0111\\u1eb7t h\\u00e0ng gi\\u00fap shop nh\\u00e9!\\n<Show ra c\\u00e1i b\\u1ea3ng m\\u1eabu \\u0111\\u1eb7t h\\u00e0ng: c\\u00f3 t\\u00ean s\\u1ea3n ph\\u1ea9m, cho kh\\u00e1ch t\\u00f9y ch\\u1ecdn s\\u1ed1 l\\u01b0\\u1ee3ng, m\\u00e0u s\\u1eafc...>\", \"make_order\", null, \"action_make_order\"], [\"alo shop \\u01a1i\", \"Ch\\u00e0o b\\u1ea1n, m\\u00ecnh l\\u00e0 ...\", \"greet\", \"[]\", \"utter_greet\"], [\"https://www.facebook.com/shopgauvabingo/photos/pcb.2425056854471305/2425056784471312/?type=3&theater\\ncon xe n\\u00e0y gi\\u00e1 bn \\u00e0 shop\", \"D\\u1ea1, c\\u00f3 ph\\u1ea3i b\\u1ea1n mu\\u1ed1n h\\u1ecfi m\\u1ed9t trong c\\u00e1c s\\u1ea3n ph\\u1ea9m d\\u01b0\\u1edbi \\u0111\\u00e2y kh\\u00f4ng \\u1ea1?\\n (Vui l\\u00f2ng \\u1ea5n ch\\u1ecdn 1 s\\u1ea3n ph\\u1ea9m)\\n<Show 5 cards s\\u1ea3n ph\\u1ea9m>\", \"send_link\", \"[\\\"url:['https://www.facebook.com/shopgauvabingo/photos/pcb.2425056854471305/2425056784471312/?type=3&theater']\\\", 'mention:n\\u00e0y', 'attribute:price']\", \"action_handle_send_link_only\"], [\"/query_knowledge_base{\\\"url\\\": \\\"https://shopee.vn/product/36371562/3103025341\\\", \\\"product_id\\\": \\\"https://shopee.vn/product/36371562/3103025341\\\"}\", \"S\\u1ea3n ph\\u1ea9m  Xe NADLE 3 in 1: Xe \\u0111\\u1ea9y - Ch\\u00f2i ch\\u00e2n - Xe \\u0111\\u1ea1p  hi\\u1ec7n shop \\u0111ang c\\u00f3 gi\\u00e1: 2,650,000 VND (gi\\u00e1 g\\u1ed1c 2,650,000 VND), 2,450,000 VND (gi\\u00e1 g\\u1ed1c 2,450,000 VND), 1,550,000 VND (gi\\u00e1 g\\u1ed1c 2,650,000 VND).\\nB\\u1ea1n tham kh\\u1ea3o c\\u00e1c s\\u1ea3n ph\\u1ea9m sau nh\\u00e9 \\u1ea1:\\n<Show card cu\\u1ed1i c\\u00f9ng>\", \"query_knowledge_base\", \"['url:https://shopee.vn/product/36371562/3103025341', 'product_id:https://shopee.vn/product/36371562/3103025341']\", \"action_query_babe_kb\"], [\"Ok, thank shop\", \"C\\u1ea3m \\u01a1n b\\u1ea1n!\", \"thank\", null, \"utter_thank\"], [\"alo shop \\u01a1i\", \"Ch\\u00e0o b\\u1ea1n, m\\u00ecnh l\\u00e0 tr\\u1ee3 l\\u00fd \\u1ea3o c\\u1ee7a Shop G\\u1ea5u & B\\u00ed Ng\\u00f4, m\\u00ecnh gi\\u00fap g\\u00ec \\u0111\\u01b0\\u1ee3c b\\u1ea1n \\u1ea1?\", \"greet\", null, \"utter_greet\"], [\"https://www.facebook.com/shopgauvabingo/photos/pcb.2425056854471305/2425056784471312/?type=3&theater\\ncon xe n\\u00e0y gi\\u00e1 bn \\u00e0 shop\", \"D\\u1ea1, c\\u00f3 ph\\u1ea3i b\\u1ea1n mu\\u1ed1n h\\u1ecfi m\\u1ed9t trong c\\u00e1c s\\u1ea3n ph\\u1ea9m d\\u01b0\\u1edbi \\u0111\\u00e2y kh\\u00f4ng \\u1ea1?\\n (Vui l\\u00f2ng \\u1ea5n ch\\u1ecdn 1 s\\u1ea3n ph\\u1ea9m)\\n<Show 5 cards s\\u1ea3n ph\\u1ea9m>\", \"query_knowledge_base\", \"[\\\"url:['https://www.facebook.com/shopgauvabingo/photos/pcb.2425056854471305/2425056784471312/?type=3&theater']\\\", 'object_type:xe', 'mention:n\\u00e0y', 'attribute:price']\", \"action_query_babe_kb\"], [\"/query_knowledge_base{\\\"url\\\": \\\"https://shopee.vn/product/36371562/3103025341\\\", \\\"product_id\\\": \\\"https://shopee.vn/product/36371562/3103025341\\\"}\", \"S\\u1ea3n ph\\u1ea9m  Xe NADLE 3 in 1: Xe \\u0111\\u1ea9y - Ch\\u00f2i ch\\u00e2n - Xe \\u0111\\u1ea1p  hi\\u1ec7n shop \\u0111ang c\\u00f3 gi\\u00e1: 2,650,000 VND (gi\\u00e1 g\\u1ed1c 2,650,000 VND), 2,450,000 VND (gi\\u00e1 g\\u1ed1c 2,450,000 VND), 1,550,000 VND (gi\\u00e1 g\\u1ed1c 2,650,000 VND).\\nB\\u1ea1n tham kh\\u1ea3o c\\u00e1c s\\u1ea3n ph\\u1ea9m sau nh\\u00e9 \\u1ea1:\\n<Show card cu\\u1ed1i c\\u00f9ng>\", \"query_knowledge_base\", \"['url:https://shopee.vn/product/36371562/3103025341', 'product_id:https://shopee.vn/product/36371562/3103025341']\", \"action_query_babe_kb\"], [\"c\\u00f2n m\\u00e0u g\\u00ec h\\u1ea3 b\\u1ea1n?\", \"S\\u1ea3n ph\\u1ea9m  Xe NADLE 3 in 1: Xe \\u0111\\u1ea9y - Ch\\u00f2i ch\\u00e2n - Xe \\u0111\\u1ea1p  hi\\u1ec7n shop \\u0111ang c\\u00f3 c\\u00e1c m\\u00e0u sau: Xanh (c\\u00f3 \\u0111ai), \\u0110\\u1ecf (c\\u00f3 \\u0111ai), \\u0110\\u1ecf (kh\\u00f4ng \\u0111ai)\", \"query_knowledge_base\", \"['attribute:color']\", \"action_query_babe_kb\"], [\"ok shop\", \"D\\u1ea1!\", \"agree\", null, \"utter_agree\"], [\"Shop \\u01a1i\\nhttps://scontent.xx.fbcdn.net/v/t1.15752-9/89773808_692489661490146_5339680591392538624_n.jpg?_nc_cat=105&_nc_sid=b96e70&_nc_ohc=ZvqAmbeNCDcAX_ojWSp&_nc_ad=z-m&_nc_cid=0&_nc_zor=9&_nc_ht=scontent.xx&oh=f259ba91474851457d3947e495079101&oe=5EA5D0E8\\nhttps://scontent.xx.fbcdn.net/v/t1.15752-9/91067797_2528355717402046_3331051973351833600_n.jpg?_nc_cat=100&_nc_sid=b96e70&_nc_ohc=q0UUsoAg19UAX8qVHO-&_nc_ad=z-m&_nc_cid=0&_nc_zor=9&_nc_ht=scontent.xx&oh=4206a21e474b26453ff9330e40fc62f0&oe=5EA7AD1A\\nhttps://scontent.xx.fbcdn.net/v/t1.15752-9/90954742_227239561665156_4442812104826683392_n.jpg?_nc_cat=100&_nc_sid=b96e70&_nc_ohc=vWH8Zqo-URUAX_HgG9r&_nc_ad=z-m&_nc_cid=0&_nc_zor=9&_nc_ht=scontent.xx&oh=e190cba193ba23452c3183773cd05f43&oe=5EA50846\", \"B\\u1ea1n \\u0111ang t\\u00ecm ki\\u1ebfm th\\u00f4ng tin g\\u00ec \\u1ea1?\", \"send_link\", \"[\\\"url:['https://scontent.xx.fbcdn.net/v/t1.15752-9/89773808_692489661490146_5339680591392538624_n.jpg?_nc_cat=105&_nc_sid=b96e70&_nc_ohc=ZvqAmbeNCDcAX_ojWSp&_nc_ad=z-m&_nc_cid=0&_nc_zor=9&_nc_ht=scontent.xx&oh=f259ba91474851457d3947e495079101&oe=5EA5D0E8', 'https://scontent.xx.fbcdn.net/v/t1.15752-9/90954742_227239561665156_4442812104826683392_n.jpg?_nc_cat=100&_nc_sid=b96e70&_nc_ohc=vWH8Zqo-URUAX_HgG9r&_nc_ad=z-m&_nc_cid=0&_nc_zor=9&_nc_ht=scontent.xx&oh=e190cba193ba23452c3183773cd05f43&oe=5EA50846', 'https://scontent.xx.fbcdn.net/v/t1.15752-9/91067797_2528355717402046_3331051973351833600_n.jpg?_nc_cat=100&_nc_sid=b96e70&_nc_ohc=q0UUsoAg19UAX8qVHO-&_nc_ad=z-m&_nc_cid=0&_nc_zor=9&_nc_ht=scontent.xx&oh=4206a21e474b26453ff9330e40fc62f0&oe=5EA7AD1A']\\\"]\", \"action_handle_send_link_only\"], [\"Shop c\\u00f2n c\\u1ea7u tr\\u01b0owtn n\\u00e0y k \\u1ea1\", \"S\\u1ea3n ph\\u1ea9m b\\u1ea1n \\u0111ang t\\u00ecm c\\u00f3 ph\\u1ea3i l\\u00e0?\", \"query_knowledge_base\", \"['object_type:c\\u1ea7u tr\\u01b0owtn']\", \"action_query_babe_kb\"], [\"/agree{\\\"object_type\\\": \\\"cau_truot\\\"}\", \"D\\u1ea1, s\\u1ea3n ph\\u1ea9m C\\u1ea7u Tr\\u01b0\\u1ee3t  b\\u00ean shop hi\\u1ec7n t\\u1ea1i kh\\u00f4ng c\\u00f3 \\u1ea1. B\\u1ea1n tham kh\\u1ea3o c\\u00e1c s\\u1ea3n ph\\u1ea9m kh\\u00e1c d\\u00e0nh cho b\\u00e9 nh\\u00e9!\", \"agree\", \"['object_type:cau_truot']\", \"action_query_babe_kb\"], [\"shop \\u01a1i\", \"Ch\\u00e0o b\\u1ea1n, m\\u00ecnh l\\u00e0 tr\\u1ee3 l\\u00fd \\u1ea3o c\\u1ee7a Shop G\\u1ea5u & B\\u00ed Ng\\u00f4, m\\u00ecnh gi\\u00fap g\\u00ec \\u0111\\u01b0\\u1ee3c b\\u1ea1n \\u1ea1?\", \"greet\", \"[]\", \"utter_greet\"], [\"M\\u00ecnh mu\\u1ed1n mua b\\u1ed9 c\\u1ea7u tr\\u01b0\\u1ee3t\\nGi\\u00e1 tn b\", \"D\\u1ea1, s\\u1ea3n ph\\u1ea9m C\\u1ea7u Tr\\u01b0\\u1ee3t hi\\u1ec7n t\\u1ea1i b\\u00ean shop \\u0111ang t\\u1ea1m h\\u1ebft h\\u00e0ng \\u1ea1. B\\u1ea1n tham kh\\u1ea3o c\\u00e1c s\\u1ea3n ph\\u1ea9m kh\\u00e1c d\\u00e0nh cho b\\u00e9 nh\\u00e9!\", \"query_knowledge_base\", \"['object_type:cau_truot', 'attribute:price']\", \"action_query_babe_kb\"], [\"Thank b\", \"- C\\u1ea3m \\u01a1n b\\u1ea1n. Ch\\u00fac b\\u1ea1n m\\u1ed9t ng\\u00e0y vui v\\u1ebb.\", \"thank\", \"[]\", \"utter_thank\"], [\"shop \\u01a1i\", \"C\\u1ea3m \\u01a1n b\\u1ea1n!\", \"greet\", \"[]\", \"utter_greet\"], [\"Nh\\u00e0 m\\u00ecnh c\\u00f3 b\\u00e1n c\\u1ea7u tr\\u01b0\\u1ee3t ri\\u00eang k ah\", \"C\\u1ea7u tr\\u01b0\\u1ee3t l\\u00e0 s\\u1ea3n ph\\u1ea9m b\\u00e1n l\\u1ebb hi\\u1ec7n \\u0111ang c\\u00f3 gi\\u00e1 1.090.000 - \\u20ab1.250.000\\n (gi\\u00e1 g\\u1ed1c 290.000 - \\u20ab1.390.000)\\nB\\u1ea1n tham kh\\u1ea3o c\\u00e1c s\\u1ea3n ph\\u1ea9m sau nh\\u00e9 \\u1ea1:\\n<show sp>\", \"query_knowledge_base\", \"['object_type:cau_truot']\", \"action_query_babe_kb\"], [\"alo shop \\u01a1i\", \"Ch\\u00e0o b\\u1ea1n, m\\u00ecnh l\\u00e0 tr\\u1ee3 l\\u00fd \\u1ea3o c\\u1ee7a Shop G\\u1ea5u & B\\u00ed Ng\\u00f4, m\\u00ecnh gi\\u00fap g\\u00ec \\u0111\\u01b0\\u1ee3c b\\u1ea1n \\u1ea1?\", \"greet\", \"[]\", \"utter_greet\"], [\"https://scontent.xx.fbcdn.net/v/t1.15752-9/91593775_635925830596165_5565507927411785728_n.jpg?_nc_cat=104&_nc_sid=b96e70&_nc_ohc=wC7vTKnHo0cAX8Dg2Lo&_nc_ad=z-m&_nc_cid=0&_nc_zor=9&_nc_ht=scontent.xx&oh=910f7a202b2c19c7f15ec65edad7e0c4&oe=5EA4F642\", \"B\\u1ea1n \\u0111ang t\\u00ecm ki\\u1ebfm th\\u00f4ng tin g\\u00ec \\u1ea1?\", \"send_link\", \"[\\\"url:['https://scontent.xx.fbcdn.net/v/t1.15752-9/91593775_635925830596165_5565507927411785728_n.jpg?_nc_cat=104&_nc_sid=b96e70&_nc_ohc=wC7vTKnHo0cAX8Dg2Lo&_nc_ad=z-m&_nc_cid=0&_nc_zor=9&_nc_ht=scontent.xx&oh=910f7a202b2c19c7f15ec65edad7e0c4&oe=5EA4F642']\\\"]\", \"action_handle_send_link_only\"], [\"l\\u1ec1u c\\u00f2n ko shop\\ngi\\u00e1 bn\\nc\\u00f2n b\\u00f3ng bn\", \"L\\u1ec1u hi\\u1ec7n \\u0111ang c\\u00f3 gi\\u00e1 1.090.000 - \\u20ab1.250.000\\n (gi\\u00e1 g\\u1ed1c 290.000 - \\u20ab1.390.000)\\nB\\u1ea1n tham kh\\u1ea3o c\\u00e1c s\\u1ea3n ph\\u1ea9m sau nh\\u00e9 \\u1ea1:\\n<show sp>\\nB\\u00f3ng hi\\u1ec7n shop \\u0111\\u00e1ng c\\u00f3 c\\u00e1c s\\u1ea3n ph\\u1ea9m sau m\\u1eddi b\\u1ea1n tham khao\\n<show sp>\", \"query_knowledge_base\", \"['attribute:price']\", \"action_query_babe_kb\"], [\"alo shop \\u01a1i\", \"Ch\\u00e0o b\\u1ea1n, m\\u00ecnh l\\u00e0 tr\\u1ee3 l\\u00fd \\u1ea3o c\\u1ee7a Shop G\\u1ea5u & B\\u00ed Ng\\u00f4, m\\u00ecnh gi\\u00fap g\\u00ec \\u0111\\u01b0\\u1ee3c b\\u1ea1n \\u1ea1?\", \"greet\", null, \"utter_greet\"], [\"https://scontent.xx.fbcdn.net/v/t1.15752-9/90589519_223989032035055_1808774924945326080_n.jpg?_nc_cat=101&_nc_sid=b96e70&_nc_ohc=CaDCGgBG1rEAX97Uw9s&_nc_ad=z-m&_nc_cid=0&_nc_zor=9&_nc_ht=scontent.xx&oh=9dfd4d8d9027dbf47a7e14e2cf5f510d&oe=5EA4D570\", \"B\\u1ea1n \\u0111ang t\\u00ecm ki\\u1ebfm th\\u00f4ng tin g\\u00ec \\u1ea1?\", \"send_link\", \"[\\\"url:['https://scontent.xx.fbcdn.net/v/t1.15752-9/90589519_223989032035055_1808774924945326080_n.jpg?_nc_cat=101&_nc_sid=b96e70&_nc_ohc=CaDCGgBG1rEAX97Uw9s&_nc_ad=z-m&_nc_cid=0&_nc_zor=9&_nc_ht=scontent.xx&oh=9dfd4d8d9027dbf47a7e14e2cf5f510d&oe=5EA4D570']\\\"]\", \"action_handle_send_link_only\"], [\"M\\u00ecnh mua s\\u1ea3n ph\\u1ea9m n\\u00e0y nha\\nGi\\u00e1 sao\", \"S\\u1ea3n ph\\u1ea9m D\\u00e0n \\u00e2m thanh \\u0111\\u1ed9ng v\\u1eadt c\\u00f3 \\u0111\\u00e8n nh\\u1ea1c Infantino \\u0111ang c\\u00f3 gi\\u00e1 129.000 (gi\\u00e1 g\\u1ed1c: 180.000).\\n<Show card>\", \"query_knowledge_base\", \"['mention:s\\u1ea3n ph\\u1ea9m n\\u00e0y', 'attribute:price']\", \"action_query_babe_kb\"], [\"alo shop \\u01a1i\", \"Ch\\u00e0o b\\u1ea1n, m\\u00ecnh l\\u00e0 tr\\u1ee3 l\\u00fd \\u1ea3o c\\u1ee7a Shop G\\u1ea5u & B\\u00ed Ng\\u00f4, m\\u00ecnh gi\\u00fap g\\u00ec \\u0111\\u01b0\\u1ee3c b\\u1ea1n \\u1ea1?\", \"greet\", null, \"utter_greet\"], [\"B\\u00e1o gi\\u00e1 m\\u00ecnh qu\\u00e2y th\\u1ea3m v\\u1edbi\", \"S\\u1ea3n ph\\u1ea9m  Qu\\u00e2y g\\u00f3c vu\\u00f4ng c\\u00e1nh nh\\u1ecf h\\u00ecnh ng\\u00f4i nh\\u00e0 ch\\u1ea5t li\\u1ec7u Nh\\u1ef1a hi\\u1ec7n shop \\u0111ang c\\u00f3 gi\\u00e1: 1,040,000 VND (gi\\u00e1 g\\u1ed1c 1,290,000 VND), 1,340,000 VND (gi\\u00e1 g\\u1ed1c 1,390,000 VND), 1,440,000 VND (gi\\u00e1 g\\u1ed1c 1,490,000 VND).\\nB\\u1ea1n tham kh\\u1ea3o c\\u00e1c s\\u1ea3n ph\\u1ea9m sau nh\\u00e9 \\u1ea1:\\n<Show card>\", \"query_knowledge_base\", \"['attribute:price', 'object_type:quay', 'object_type:tham']\", \"action_query_babe_kb\"], [\"C\\u00e1i n\\u00e0y c\\u00f3 k\\u00e8m th\\u1ea3m v\\u00e0 b\\u00f3ng ko b\\u1ea1n\", \"S\\u1ea3n ph\\u1ea9m  Qu\\u00e2y g\\u00f3c vu\\u00f4ng c\\u00e1nh nh\\u1ecf h\\u00ecnh ng\\u00f4i nh\\u00e0 ch\\u1ea5t li\\u1ec7u Nh\\u1ef1a kh\\u00f4ng c\\u00f3 ph\\u1ee5 ki\\u1ec7n \\u0111i k\\u00e8m\\nB\\u1ea1n tham kh\\u1ea3o c\\u00e1c s\\u1ea3n ph\\u1ea9m sau nh\\u00e9 \\u1ea1:\\r\\n<Show card>\", \"query_knowledge_base\", \"['mention:c\\u00e1i n\\u00e0y', 'object_type:tham','object_type:bong']\", \"action_query_babe_kb\"], [\"shop \\u01a1i\", \"Ch\\u00e0o b\\u1ea1n, m\\u00ecnh l\\u00e0 tr\\u1ee3 l\\u00fd \\u1ea3o c\\u1ee7a Shop G\\u1ea5u & B\\u00ed Ng\\u00f4, m\\u00ecnh gi\\u00fap g\\u00ec \\u0111\\u01b0\\u1ee3c b\\u1ea1n \\u1ea1?\", \"greet\", null, \"utter_greet\"], [\"minh mu\\u1ed1n t\\u00ecm qu\\u00e2y c\\u0169i nh\\u1ef1a\", \"D\\u1ea1, s\\u1ea3n ph\\u1ea9m Qu\\u00e2y ch\\u1ea5t li\\u1ec7u nh\\u1ef1a b\\u00ean shop hi\\u1ec7n t\\u1ea1i kh\\u00f4ng c\\u00f3 \\u1ea1. B\\u1ea1n tham kh\\u1ea3o c\\u00e1c s\\u1ea3n ph\\u1ea9m kh\\u00e1c d\\u00e0nh cho b\\u00e9 nh\\u00e9!\", \"query_knowledge_base\", \"['object_type:quay', 'material:nh\\u1ef1a']\", \"action_query_babe_kb\"], [\"ok shop\", \"V\\u00e2ng \\u1ea1!\", \"agree\", null, \"utter_agree\"], [\"shop \\u01a1i\", \"Ch\\u00e0o b\\u1ea1n, m\\u00ecnh l\\u00e0 tr\\u1ee3 l\\u00fd \\u1ea3o c\\u1ee7a Shop G\\u1ea5u & B\\u00ed Ng\\u00f4, m\\u00ecnh gi\\u00fap g\\u00ec \\u0111\\u01b0\\u1ee3c b\\u1ea1n \\u1ea1?\", \"greet\", null, \"utter_greet\"], [\"minh mu\\u1ed1n t\\u00ecm qu\\u00e2y c\\u0169i nh\\u1ef1a\", \"S\\u1ea3n ph\\u1ea9m  Qu\\u00e2y g\\u00f3c vu\\u00f4ng c\\u00e1nh nh\\u1ecf h\\u00ecnh ng\\u00f4i nh\\u00e0 ch\\u1ea5t li\\u1ec7u Nh\\u1ef1a hi\\u1ec7n shop \\u0111ang c\\u00f3 gi\\u00e1: 1,040,000 VND (gi\\u00e1 g\\u1ed1c 1,290,000 VND), 1,340,000 VND (gi\\u00e1 g\\u1ed1c 1,390,000 VND), 1,440,000 VND (gi\\u00e1 g\\u1ed1c 1,490,000 VND).\\nB\\u1ea1n tham kh\\u1ea3o c\\u00e1c s\\u1ea3n ph\\u1ea9m sau nh\\u00e9 \\u1ea1:\\n<Show card>\", \"query_knowledge_base\", \"['object_type:quay', 'material:nh\\u1ef1a']\", \"action_query_babe_kb\"], [\"h\\u00e0ng c\\u00f3 s\\u1eb5n k shop?\", \"S\\u1ea3n ph\\u1ea9m Qu\\u00e2y g\\u00f3c vu\\u00f4ng c\\u00e1nh nh\\u1ecf h\\u00ecnh ng\\u00f4i nh\\u00e0 hi\\u1ec7n shop \\u0111ang c\\u00f2n h\\u00e0ng \\u1ea1!\", \"query_knowledge_base\", \"['availability:c\\u00f3 s\\u1eb5n']\", \"action_query_babe_kb\"], [\"ok, cho m\\u00ecnh \\u0111\\u1eb7t c\\u00e1i \\u0111\\u1ea5y nh\\u00e9\", \"C\\u1ea3m \\u01a1n b\\u1ea1n! B\\u1ea1n vui l\\u00f2ng \\u0111i\\u1ec1n th\\u00f4ng tin v\\u00e0o M\\u1eabu \\u0111\\u1eb7t h\\u00e0ng gi\\u00fap shop nh\\u00e9!\\n<Show ra c\\u00e1i b\\u1ea3ng m\\u1eabu \\u0111\\u1eb7t h\\u00e0ng: c\\u00f3 t\\u00ean s\\u1ea3n ph\\u1ea9m, cho kh\\u00e1ch t\\u00f9y ch\\u1ecdn s\\u1ed1 l\\u01b0\\u1ee3ng, m\\u00e0u s\\u1eafc...>\\n<C\\u00e1c th\\u00f4ng tin \\u0111\\u00e3 thu th\\u1eadp \\u0111c th\\u00ec t\\u1ef1 \\u0111i\\u1ec1n lu\\u00f4n, kh\\u00e1ch k ph\\u1ea3i \\u0111i\\u1ec1n n\\u1eefa>\", \"make_order\", null, \"action_make_order\"], [\"shop \\u01a1i\", \"Ch\\u00e0o b\\u1ea1n, m\\u00ecnh l\\u00e0 tr\\u1ee3 l\\u00fd \\u1ea3o c\\u1ee7a Shop G\\u1ea5u & B\\u00ed Ng\\u00f4, m\\u00ecnh gi\\u00fap g\\u00ec \\u0111\\u01b0\\u1ee3c b\\u1ea1n \\u1ea1?\", \"greet\", null, \"utter_greet\"], [\"https://scontent.xx.fbcdn.net/v/t1.15752-9/90523406_1646570122151011_7560973767770374144_n.jpg?_nc_cat=111&_nc_sid=b96e70&_nc_ohc=wRDYR9HiDIIAX9EYgXF&_nc_ad=z-m&_nc_cid=0&_nc_zor=9&_nc_ht=scontent.xx&oh=f705d96efc4592690e416d68be5946b9&oe=5EA3003E\", \"B\\u1ea1n \\u0111ang t\\u00ecm ki\\u1ebfm th\\u00f4ng tin g\\u00ec \\u1ea1?\\n\", \"send_link\", \"[\\\"url:['https://scontent.xx.fbcdn.net/v/t1.15752-9/90523406_1646570122151011_7560973767770374144_n.jpg?_nc_cat=111&_nc_sid=b96e70&_nc_ohc=wRDYR9HiDIIAX9EYgXF&_nc_ad=z-m&_nc_cid=0&_nc_zor=9&_nc_ht=scontent.xx&oh=f705d96efc4592690e416d68be5946b9&oe=5EA3003E']\\\"]\", \"action_handle_send_link_only\"], [\"Shop b\\u00e1n gh\\u1ebf n\\u00e0y ko\", \"D\\u1ea1, c\\u00f3 ph\\u1ea3i b\\u1ea1n mu\\u1ed1n h\\u1ecfi m\\u1ed9t trong c\\u00e1c s\\u1ea3n ph\\u1ea9m d\\u01b0\\u1edbi \\u0111\\u00e2y kh\\u00f4ng \\u1ea1?\\r\\n (Vui l\\u00f2ng \\u1ea5n ch\\u1ecdn 1 s\\u1ea3n ph\\u1ea9m)...\", \"query_knowledge_base\", \"['object_type:ghe', 'mention:n\\u00e0y']\", \"action_query_babe_kb\"], [\"/disagree{\\\"object_type\\\": null}\", \"B\\u1ea1n vui l\\u00f2ng m\\u00f4 t\\u1ea3 r\\u00f5 mong mu\\u1ed1n c\\u1ee7a b\\u1ea1n ho\\u1eb7c chat v\\u1edbi nh\\u00e2n vi\\u00ean t\\u01b0 v\\u1ea5n nh\\u00e9!\", \"disagree\", \"['object_type:None']\", \"utter_disagree\"], [\"/connect_employee\", null, \"connect_employee\", null, \"action_handover_to_inbox\"], [\"shop \\u01a1i\", \"Ch\\u00e0o b\\u1ea1n, m\\u00ecnh l\\u00e0 tr\\u1ee3 l\\u00fd \\u1ea3o c\\u1ee7a Shop G\\u1ea5u & B\\u00ed Ng\\u00f4, m\\u00ecnh gi\\u00fap g\\u00ec \\u0111\\u01b0\\u1ee3c b\\u1ea1n \\u1ea1?\", \"greet\", null, \"utter_greet\"], [\"https://scontent.xx.fbcdn.net/v/t1.15752-9/91209133_2660946144150142_6722210450643091456_n.jpg?_nc_cat=106&_nc_sid=b96e70&_nc_ohc=GJvzldrIJEgAX_t9AzO&_nc_ad=z-m&_nc_cid=0&_nc_zor=9&_nc_ht=scontent.xx&oh=7a2eae7dece74478231f21fa9ca599a0&oe=5EA4DA04\", \"B\\u1ea1n \\u0111ang t\\u00ecm ki\\u1ebfm th\\u00f4ng tin g\\u00ec \\u1ea1?\", \"send_link\", \"[\\\"url:['https://scontent.xx.fbcdn.net/v/t1.15752-9/91209133_2660946144150142_6722210450643091456_n.jpg?_nc_cat=106&_nc_sid=b96e70&_nc_ohc=GJvzldrIJEgAX_t9AzO&_nc_ad=z-m&_nc_cid=0&_nc_zor=9&_nc_ht=scontent.xx&oh=7a2eae7dece74478231f21fa9ca599a0&oe=5EA4DA04']\\\"]\", \"action_handle_send_link_only\"], [\"M\\u00ecnh m\\u00fan mua b\\u1ed9 voi n\\u00e0y\\nM\\u00e0 ph\\u00ed ship shoppe t\\u1edbi 300k\\nM\\u1eafc qu\\u00e1 b\\n:((\", null, \"handover_to_inbox\", \"['price:300k']\", \"action_handover_to_inbox\"], [\"b\\u1ea1n \\u01a1i\", \"Ch\\u00e0o b\\u1ea1n, m\\u00ecnh l\\u00e0 tr\\u1ee3 l\\u00fd \\u1ea3o c\\u1ee7a Shop G\\u1ea5u & B\\u00ed Ng\\u00f4, m\\u00ecnh gi\\u00fap g\\u00ec \\u0111\\u01b0\\u1ee3c b\\u1ea1n \\u1ea1?\", \"greet\", null, \"utter_greet\"], [\"https://scontent.xx.fbcdn.net/v/t1.15752-9/91189736_2657083197752531_2978518111348588544_n.jpg?_nc_cat=101&_nc_sid=b96e70&_nc_ohc=wn0qcXdkJ20AX8SmfaB&_nc_ad=z-m&_nc_cid=0&_nc_zor=9&_nc_ht=scontent.xx&oh=9071fd4b91cbc296bd63cc7dc7c0c2b9&oe=5EA452A3\", \"B\\u1ea1n \\u0111ang t\\u00ecm ki\\u1ebfm th\\u00f4ng tin g\\u00ec \\u1ea1?\\r\\n\", \"send_link\", \"[\\\"url:['https://scontent.xx.fbcdn.net/v/t1.15752-9/91189736_2657083197752531_2978518111348588544_n.jpg?_nc_cat=101&_nc_sid=b96e70&_nc_ohc=wn0qcXdkJ20AX8SmfaB&_nc_ad=z-m&_nc_cid=0&_nc_zor=9&_nc_ht=scontent.xx&oh=9071fd4b91cbc296bd63cc7dc7c0c2b9&oe=5EA452A3']\\\"]\", \"action_handle_send_link_only\"], [\"B\\u1ed9 n\\u00e0y c\\u00f2n k \\u1ea1\", \"S\\u1ea3n ph\\u1ea9m Voi th\\u1ea3 b\\u00f3ng t\\u1eadp \\u0111\\u1ee9ng c\\u00f3 \\u0111\\u00e8n nh\\u1ea1c Bkids Infantino hi\\u1ec7n c\\u00f3 gi\\u00e1 1.160.000 (Gi\\u00e1 g\\u1ed1c: 1.298.000).\\n<Show card>\", \"query_knowledge_base\", \"['mention:b\\u1ed9 n\\u00e0y']\", \"action_query_babe_kb\"], [\"shop \\u01a1i\", \"Ch\\u00e0o b\\u1ea1n, m\\u00ecnh l\\u00e0 tr\\u1ee3 l\\u00fd \\u1ea3o c\\u1ee7a Shop G\\u1ea5u & B\\u00ed Ng\\u00f4, m\\u00ecnh gi\\u00fap g\\u00ec \\u0111\\u01b0\\u1ee3c b\\u1ea1n \\u1ea1?\", \"greet\", \"[]\", \"utter_greet\"], [\"Cho m\\u00ecnh h\\u1ecfi b\\u00ean b\\u1ea1n c\\u00f3 m\\u00e1y h\\u00fat s\\u1eefa Avent hoa tuy\\u1ebft kh\\u00f4ng \\u1ea1?\", \"S\\u1ea3n ph\\u1ea9m M\\u00e1y h\\u00fat s\\u1eefa \\u0111i\\u1ec7n \\u0111\\u00f4i Avent Snow (Ch\\u00ednh h\\u00e3ng - Cty V\\u1ea1n An) h\\u00e3ng s\\u1ea3n xu\\u1ea5t Avent hi\\u1ec7n shop \\u0111ang c\\u00f3 gi\\u00e1: *4,990,000 VND (gi\\u00e1 g\\u1ed1c 6,950,000 VND)*.\\r\\nB\\u1ea1n tham kh\\u1ea3o c\\u00e1c s\\u1ea3n ph\\u1ea9m sau nh\\u00e9 \\u1ea1:\", \"query_knowledge_base\", \"['object_type:may_hut_sua', 'brand:avent']\", \"action_query_babe_kb\"], [\"ok shop\", \"D\\u1ea1!\", \"agree\", null, \"utter_agree\"], [\"shop \\u01a1i\", \"Ch\\u00e0o b\\u1ea1n, m\\u00ecnh l\\u00e0 tr\\u1ee3 l\\u00fd \\u1ea3o c\\u1ee7a Shop G\\u1ea5u & B\\u00ed Ng\\u00f4, m\\u00ecnh gi\\u00fap g\\u00ec \\u0111\\u01b0\\u1ee3c b\\u1ea1n \\u1ea1?\", \"greet\", \"[]\", \"utter_greet\"], [\"https://scontent.xx.fbcdn.net/v/t1.15752-9/90958526_844348296084999_5556829233025646592_n.jpg?_nc_cat=111&_nc_sid=b96e70&_nc_ohc=nKnFFBK9x4kAX8KAC9k&_nc_ad=z-m&_nc_cid=0&_nc_zor=9&_nc_ht=scontent.xx&oh=aead6e9f0b6ca0e8cf7d7446022ad8a7&oe=5EA4C715\", \"B\\u1ea1n \\u0111ang t\\u00ecm ki\\u1ebfm th\\u00f4ng tin g\\u00ec \\u1ea1?\", \"send_link\", \"[\\\"url:['https://scontent.xx.fbcdn.net/v/t1.15752-9/90958526_844348296084999_5556829233025646592_n.jpg?_nc_cat=111&_nc_sid=b96e70&_nc_ohc=nKnFFBK9x4kAX8KAC9k&_nc_ad=z-m&_nc_cid=0&_nc_zor=9&_nc_ht=scontent.xx&oh=aead6e9f0b6ca0e8cf7d7446022ad8a7&oe=5EA4C715']\\\"]\", \"action_handle_send_link_only\"], [\"B\\u00ean m\\u00ecnh c\\u00f3 medela freestyle like new k ak\", \"Shop kh\\u00f4ng c\\u00f3 m\\u00e1y h\\u00fat s\\u1eefa th\\u01b0\\u01a1ng hi\\u1ec7u Medela, m\\u1eddi b\\u1ea1n tham kh\\u1ea3o c\\u00e1c s\\u1ea3n ph\\u1ea9m m\\u00e1y h\\u00fat s\\u1eefa hi\\u1ec7n c\\u00f3 t\\u1ea1i shop nh\\u00e9:\\n<Show card list m\\u00e1y h\\u00fat s\\u1eefa \\u0111ang c\\u00f3>\", \"query_knowledge_base\", \"['brand:medela freestyle']\", \"action_query_babe_kb\"], [\"Ok shop\", \"D\\u1ea1 v\\u00e2ng \\u1ea1!\", \"agree\", null, \"utter_agree\"], [\"shop \\u01a1i\", \"Ch\\u00e0o b\\u1ea1n, m\\u00ecnh l\\u00e0 tr\\u1ee3 l\\u00fd \\u1ea3o c\\u1ee7a Shop G\\u1ea5u & B\\u00ed Ng\\u00f4, m\\u00ecnh gi\\u00fap g\\u00ec \\u0111\\u01b0\\u1ee3c b\\u1ea1n \\u1ea1?\", \"greet\", null, \"utter_greet\"], [\"https://scontent.xx.fbcdn.net/v/t1.15752-9/91397331_873232633088393_7516530623012405248_n.jpg?_nc_cat=102&_nc_sid=b96e70&_nc_ohc=7L9qejTvUzsAX9A87Nc&_nc_ad=z-m&_nc_cid=0&_nc_zor=9&_nc_ht=scontent.xx&oh=5a5f3a23fc9f73f05af3323e7e4d10c9&oe=5EA44E0F\", \"B\\u1ea1n \\u0111ang t\\u00ecm ki\\u1ebfm th\\u00f4ng tin g\\u00ec \\u1ea1?\\r\\n\", \"send_link\", \"[\\\"url:['https://scontent.xx.fbcdn.net/v/t1.15752-9/91397331_873232633088393_7516530623012405248_n.jpg?_nc_cat=102&_nc_sid=b96e70&_nc_ohc=7L9qejTvUzsAX9A87Nc&_nc_ad=z-m&_nc_cid=0&_nc_zor=9&_nc_ht=scontent.xx&oh=5a5f3a23fc9f73f05af3323e7e4d10c9&oe=5EA44E0F']\\\"]\", \"action_handle_send_link_only\"], [\"M\\u1eabu n\\u00e0y gi\\u00e1 bn ah\", \"M\\u00f3n \\u0111\\u1ed3 b\\u1ea1n c\\u1ea7n t\\u00ecm c\\u00f3 ph\\u1ea3i l\\u00e0:\\n<Xe ch\\u00f2i ch\\u00e2n> <Xe \\u0111\\u1ea9y> <Kh\\u00f4ng \\u0111\\u00fang!>\", \"query_knowledge_base\", \"['mention:m\\u1eabu n\\u00e0y', 'attribute:price']\", \"action_query_babe_kb\"], [\"/agree{\\\"object_type\\\": \\\"xe_choi_chan\\\"}\", \"S\\u1ea3n ph\\u1ea9m  Xe Ch\\u00f2i Ch\\u00e2n  hi\\u1ec7n shop \\u0111ang c\\u00f3 gi\\u00e1: 499,000 VND (gi\\u00e1 g\\u1ed1c 800,000 VND), 580,000 VND (gi\\u00e1 g\\u1ed1c 800,000 VND), 699,000 VND (gi\\u00e1 g\\u1ed1c 998,000 VND).\\nB\\u1ea1n tham kh\\u1ea3o c\\u00e1c s\\u1ea3n ph\\u1ea9m sau nh\\u00e9 \\u1ea1:\\n<Show card>\", \"confirm_object_type\", null, \"action_query_babe_kb\"], [\"ok shop, cho m\\u00ecnh l\\u1ea5y c\\u00e1i xe Luddy\", \"C\\u1ea3m \\u01a1n b\\u1ea1n! B\\u1ea1n vui l\\u00f2ng \\u0111i\\u1ec1n th\\u00f4ng tin v\\u00e0o M\\u1eabu \\u0111\\u1eb7t h\\u00e0ng gi\\u00fap shop nh\\u00e9!\\n<Show ra c\\u00e1i b\\u1ea3ng m\\u1eabu \\u0111\\u1eb7t h\\u00e0ng: c\\u00f3 t\\u00ean s\\u1ea3n ph\\u1ea9m, cho kh\\u00e1ch t\\u00f9y ch\\u1ecdn s\\u1ed1 l\\u01b0\\u1ee3ng, m\\u00e0u s\\u1eafc...>\\n<C\\u00e1c th\\u00f4ng tin \\u0111\\u00e3 thu th\\u1eadp \\u0111c th\\u00ec t\\u1ef1 \\u0111i\\u1ec1n lu\\u00f4n, kh\\u00e1ch k ph\\u1ea3i \\u0111i\\u1ec1n n\\u1eefa>\", \"make_order\", \"['object_type:xe_choi_chan','brand:Luddy']\", \"action_make_order\"], [\"shop \\u01a1i\", \"Ch\\u00e0o b\\u1ea1n, m\\u00ecnh l\\u00e0 tr\\u1ee3 l\\u00fd \\u1ea3o c\\u1ee7a Shop G\\u1ea5u & B\\u00ed Ng\\u00f4, m\\u00ecnh gi\\u00fap g\\u00ec \\u0111\\u01b0\\u1ee3c b\\u1ea1n \\u1ea1?\", \"greet\", null, \"utter_greet\"], [\"C\\u00f3 ship h\\u00e0ng qua Nguy\\u1ec5n Tu\\u00e2n k shop\", \"Shop giao h\\u00e0ng to\\u00e0n qu\\u1ed1c, kh\\u00e1ch h\\u00e0ng c\\u00f3 th\\u1ec3 chuy\\u1ec3n kho\\u1ea3n tr\\u01b0\\u1edbc ho\\u1eb7c ch\\u1ecdn h\\u00ecnh th\\u1ee9c thanh to\\u00e1n khi nh\\u1eadn h\\u00e0ng \\u1ea1!\", \"ask_ship\", \"['ship:ship', 'location:Nguy\\u1ec5n Tu\\u00e2n']\", \"utter_ship\"], [\"v\\u1eady ship lu\\u00f4n cho m\\u00ecnh Xe ch\\u00f2i ch\\u00e2n c\\u00f3 b\\u00e0n \\u0111\\u1ea1p cao c\\u1ea5p Motion m\\u00e0u \\u0111\\u1ecf nh\\u00e9\", \"C\\u1ea3m \\u01a1n b\\u1ea1n! B\\u1ea1n vui l\\u00f2ng \\u0111i\\u1ec1n th\\u00f4ng tin v\\u00e0o M\\u1eabu \\u0111\\u1eb7t h\\u00e0ng gi\\u00fap shop nh\\u00e9!\\n<Show ra c\\u00e1i b\\u1ea3ng m\\u1eabu \\u0111\\u1eb7t h\\u00e0ng: c\\u00f3 t\\u00ean s\\u1ea3n ph\\u1ea9m, cho kh\\u00e1ch t\\u00f9y ch\\u1ecdn s\\u1ed1 l\\u01b0\\u1ee3ng, m\\u00e0u s\\u1eafc...>\\n<C\\u00e1c th\\u00f4ng tin \\u0111\\u00e3 thu th\\u1eadp \\u0111c th\\u00ec t\\u1ef1 \\u0111i\\u1ec1n lu\\u00f4n, kh\\u00e1ch k ph\\u1ea3i \\u0111i\\u1ec1n n\\u1eefa>\", \"make_order\", \"['ship:ship', 'object_type:xe_choi_chan', 'brand:Motion', 'color:\\u0111\\u1ecf'\", \"action_make_order\"], [\"shop \\u01a1i\", \"Ch\\u00e0o b\\u1ea1n, m\\u00ecnh l\\u00e0 tr\\u1ee3 l\\u00fd \\u1ea3o c\\u1ee7a Shop G\\u1ea5u & B\\u00ed Ng\\u00f4, m\\u00ecnh gi\\u00fap g\\u00ec \\u0111\\u01b0\\u1ee3c b\\u1ea1n \\u1ea1?\", \"greet\", null, \"utter_greet\"], [\"https://scontent.xx.fbcdn.net/v/t1.15752-9/91237420_573063973314379_5752083759176351744_n.jpg?_nc_cat=111&_nc_sid=b96e70&_nc_ohc=awAgMEF9UTYAX-Q_cFX&_nc_ad=z-m&_nc_cid=0&_nc_zor=9&_nc_ht=scontent.xx&oh=fbfffeefdee0fcd2f0dd6ed4ea38d8e6&oe=5EA3382F\", \"B\\u1ea1n \\u0111ang t\\u00ecm ki\\u1ebfm th\\u00f4ng tin g\\u00ec \\u1ea1?\\r\\n\", \"send_link\", \"[\\\"url:['https://scontent.xx.fbcdn.net/v/t1.15752-9/91237420_573063973314379_5752083759176351744_n.jpg?_nc_cat=111&_nc_sid=b96e70&_nc_ohc=awAgMEF9UTYAX-Q_cFX&_nc_ad=z-m&_nc_cid=0&_nc_zor=9&_nc_ht=scontent.xx&oh=fbfffeefdee0fcd2f0dd6ed4ea38d8e6&oe=5EA3382F']\\\"]\", \"action_handle_send_link_only\"], [\"Gia bao Nhiu shop\", \"S\\u1ea3n ph\\u1ea9m  COMBO HOLLA LI\\u00caN HO\\u00c0N 2020 c\\u00f3 gi\\u00e1 4.100.000 (Gi\\u00e1 g\\u1ed1c: 5.000.000).\\n<Show card>\", \"query_knowledge_base\", \"['attribute:price']\", \"action_query_babe_kb\"], [\"ok shop\", \"V\\u00e2ng \\u1ea1!\", \"agree\", null, \"utter_agree\"], [\"shop \\u01a1i\", \"Ch\\u00e0o b\\u1ea1n, m\\u00ecnh l\\u00e0 tr\\u1ee3 l\\u00fd \\u1ea3o c\\u1ee7a Shop G\\u1ea5u & B\\u00ed Ng\\u00f4, m\\u00ecnh gi\\u00fap g\\u00ec \\u0111\\u01b0\\u1ee3c b\\u1ea1n \\u1ea1?\", \"greet\", null, \"utter_greet\"], [\"https://scontent.xx.fbcdn.net/v/t1.15752-9/91237420_573063973314379_5752083759176351744_n.jpg?_nc_cat=111&_nc_sid=b96e70&_nc_ohc=awAgMEF9UTYAX-Q_cFX&_nc_ad=z-m&_nc_cid=0&_nc_zor=9&_nc_ht=scontent.xx&oh=fbfffeefdee0fcd2f0dd6ed4ea38d8e6&oe=5EA3382F\", \"B\\u1ea1n \\u0111ang t\\u00ecm ki\\u1ebfm th\\u00f4ng tin g\\u00ec \\u1ea1?\\r\\n\", \"send_link\", \"[\\\"url:['https://scontent.xx.fbcdn.net/v/t1.15752-9/91237420_573063973314379_5752083759176351744_n.jpg?_nc_cat=111&_nc_sid=b96e70&_nc_ohc=awAgMEF9UTYAX-Q_cFX&_nc_ad=z-m&_nc_cid=0&_nc_zor=9&_nc_ht=scontent.xx&oh=fbfffeefdee0fcd2f0dd6ed4ea38d8e6&oe=5EA3382F']\\\"]\", \"action_handle_send_link_only\"], [\"Gia bao Nhiu shop\", \"S\\u1ea3n ph\\u1ea9m  COMBO HOLLA LI\\u00caN HO\\u00c0N 2020 c\\u00f3 gi\\u00e1 4.100.000 (Gi\\u00e1 g\\u1ed1c: 5.000.000).\\n<Show card>\", \"query_knowledge_base\", \"['attribute:price']\", \"action_query_babe_kb\"], [\"c\\u00f3 nh\\u1eefng m\\u00e0u g\\u00ec b\\u1ea1n nh\\u1ec9?\", \"S\\u1ea3n ph\\u1ea9m  COMBO HOLLA LI\\u00caN HO\\u00c0N 2020 c\\u00f3 m\\u00e0u: Xanh v\\u00e0 Cam \\u1ea1!\\n<Show card>\", \"query_knowledge_base\", \"['attribute:color']\", \"action_query_babe_kb\"], [\"ok shop, \\u0111\\u1ec3 m\\u00ecnh xem th\\u00eam ch\\u00fat nh\\u00e9!\", \"D\\u1ea1 v\\u00e2ng \\u1ea1!\", \"agree & check_more\", \"['check_more:xem th\\u00eam']\", \"utter_agree\"], [\"alo shop\", \"Ch\\u00e0o b\\u1ea1n, m\\u00ecnh l\\u00e0 tr\\u1ee3 l\\u00fd \\u1ea3o c\\u1ee7a Shop G\\u1ea5u & B\\u00ed Ng\\u00f4, m\\u00ecnh gi\\u00fap g\\u00ec \\u0111\\u01b0\\u1ee3c b\\u1ea1n \\u1ea1?\", \"greet\", null, \"utter_greet\"], [\"https://scontent.xx.fbcdn.net/v/t1.15752-9/91179254_522333818714923_2603681931581194240_n.jpg?_nc_cat=106&_nc_sid=b96e70&_nc_ohc=vIHq163ac_kAX-MHxt8&_nc_ad=z-m&_nc_cid=0&_nc_zor=9&_nc_ht=scontent.xx&oh=19368d98471da439001ddf5dc8cab52d&oe=5EA2F89D\", \"B\\u1ea1n \\u0111ang t\\u00ecm ki\\u1ebfm th\\u00f4ng tin g\\u00ec \\u1ea1?\\r\\n\", \"send_link\", \"[\\\"url:['https://scontent.xx.fbcdn.net/v/t1.15752-9/91179254_522333818714923_2603681931581194240_n.jpg?_nc_cat=106&_nc_sid=b96e70&_nc_ohc=vIHq163ac_kAX-MHxt8&_nc_ad=z-m&_nc_cid=0&_nc_zor=9&_nc_ht=scontent.xx&oh=19368d98471da439001ddf5dc8cab52d&oe=5EA2F89D']\\\"]\", \"action_handle_send_link_only\"], [\"M\\u00ecnh mu\\u00f3n mua xe n\\u00e0y\", \"S\\u1ea3n ph\\u1ea9m Xe t\\u1eadp \\u0111i cao c\\u1ea5p Tommorrow Sky - CH\\u00cdNH H\\u00c3NG c\\u00f3 gi\\u00e1 449.000 (Gi\\u00e1 g\\u1ed1c: 850.000).\\n<Show card s\\u1ea3n ph\\u1ea9m>\", \"query_knowledge_base\", \"['object_type:xe', 'mention:n\\u00e0y']\", \"action_query_babe_kb\"], [\"Shop ship lu\\u00f4n h\\u00e0ng k nh\\u1ec9\\nM\\u00ecnh B\\u1eafc T\\u1eeb Li\\u00eam, HN\", \"C\\u1ea3m \\u01a1n b\\u1ea1n! B\\u1ea1n vui l\\u00f2ng \\u0111i\\u1ec1n th\\u00f4ng tin v\\u00e0o M\\u1eabu \\u0111\\u1eb7t h\\u00e0ng gi\\u00fap shop nh\\u00e9!\\n<Show ra c\\u00e1i b\\u1ea3ng m\\u1eabu \\u0111\\u1eb7t h\\u00e0ng: c\\u00f3 t\\u00ean s\\u1ea3n ph\\u1ea9m, cho kh\\u00e1ch t\\u00f9y ch\\u1ecdn s\\u1ed1 l\\u01b0\\u1ee3ng, m\\u00e0u s\\u1eafc...>\\n<C\\u00e1c th\\u00f4ng tin \\u0111\\u00e3 thu th\\u1eadp \\u0111c th\\u00ec t\\u1ef1 \\u0111i\\u1ec1n lu\\u00f4n, kh\\u00e1ch k ph\\u1ea3i \\u0111i\\u1ec1n n\\u1eefa>\", \"make_order\", \"[]\", \"action_make_order\"], [\"shop \\u01a1i\", \"Ch\\u00e0o b\\u1ea1n, m\\u00ecnh l\\u00e0 tr\\u1ee3 l\\u00fd \\u1ea3o c\\u1ee7a Shop G\\u1ea5u & B\\u00ed Ng\\u00f4, m\\u00ecnh gi\\u00fap g\\u00ec \\u0111\\u01b0\\u1ee3c b\\u1ea1n \\u1ea1?\", \"greet\", null, \"utter_greet\"], [\"https://scontent.xx.fbcdn.net/v/t1.15752-9/91179254_522333818714923_2603681931581194240_n.jpg?_nc_cat=106&_nc_sid=b96e70&_nc_ohc=vIHq163ac_kAX-MHxt8&_nc_ad=z-m&_nc_cid=0&_nc_zor=9&_nc_ht=scontent.xx&oh=19368d98471da439001ddf5dc8cab52d&oe=5EA2F89D\", \"B\\u1ea1n \\u0111ang t\\u00ecm ki\\u1ebfm th\\u00f4ng tin g\\u00ec \\u1ea1?\\r\\n\", \"send_link\", \"[\\\"url:['https://scontent.xx.fbcdn.net/v/t1.15752-9/91179254_522333818714923_2603681931581194240_n.jpg?_nc_cat=106&_nc_sid=b96e70&_nc_ohc=vIHq163ac_kAX-MHxt8&_nc_ad=z-m&_nc_cid=0&_nc_zor=9&_nc_ht=scontent.xx&oh=19368d98471da439001ddf5dc8cab52d&oe=5EA2F89D']\\\"]\", \"action_handle_send_link_only\"], [\"M\\u00ecnh mu\\u00f3n mua xe n\\u00e0y\", \"S\\u1ea3n ph\\u1ea9m Xe t\\u1eadp \\u0111i cao c\\u1ea5p Tommorrow Sky - CH\\u00cdNH H\\u00c3NG c\\u00f3 gi\\u00e1 449.000 (Gi\\u00e1 g\\u1ed1c: 850.000).\\n<Show card s\\u1ea3n ph\\u1ea9m>\", \"query_knowledge_base\", \"['object_type:xe', 'mention:n\\u00e0y']\", \"action_query_babe_kb\"], [\"B\\u00e9 nh\\u00e0 m\\u00ecnh 8 th\\u00e1ng \\u0111\\u00e3 d\\u00f9ng \\u0111\\u01b0\\u1ee3c ch\\u01b0a shop nh\\u1ec9?\", \"Xe t\\u1eadp \\u0111i cao c\\u1ea5p Tommorrow Sky - CH\\u00cdNH H\\u00c3NG c\\u00f3 \\u0111\\u1ed9 tu\\u1ed5i s\\u1eed d\\u1ee5ng t\\u1eeb: 0 - 36 th\\u00e1ng \\u1ea1.\", \"query_knowledge_base\", \"['age_of_use:b\\u00e9 nh\\u00e0 m\\u00ecnh 8 th\\u00e1ng']\", \"action_query_babe_kb\"], [\"ok shop\", \"V\\u00e2ng \\u1ea1!\", \"agree\", null, \"utter_agree\"], [\"M\\u00ecnh v\\u1eeba \\u0111\\u1eb7t tr\\u00ean shopee r\\u1ed3i nh\\u00e9 shop, giao h\\u00e0ng gi\\u00fap m\\u00ecnh nha!\", null, \"handover_to_inbox\", \"['attribute:link']\", \"action_handover_to_inbox\"], [\"shop \\u01a1i\", \"Ch\\u00e0o b\\u1ea1n, m\\u00ecnh l\\u00e0 tr\\u1ee3 l\\u00fd \\u1ea3o c\\u1ee7a Shop G\\u1ea5u & B\\u00ed Ng\\u00f4, m\\u00ecnh gi\\u00fap g\\u00ec \\u0111\\u01b0\\u1ee3c b\\u1ea1n \\u1ea1?\", \"greet\", null, \"utter_greet\"], [\"https://scontent.xx.fbcdn.net/v/t1.15752-9/91140590_169156024104970_9149727164638167040_n.jpg?_nc_cat=111&_nc_sid=b96e70&_nc_oc=AQksL3EPbJwb5vF7MiFB6VdXzCEmtSqg7QZRnHQamP5qwRCPthge2V2zCm6k7jX6oSw0tzFhj2tL2-yD0lgdlWzF&_nc_ad=z-m&_nc_cid=0&_nc_zor=9&_nc_ht=scontent.xx&oh=a3ace1f889939914cd91509c52946144&oe=5EA53CD3\", \"B\\u1ea1n \\u0111ang t\\u00ecm ki\\u1ebfm th\\u00f4ng tin g\\u00ec \\u1ea1?\\r\\n\", \"send_link\", \"[\\\"url:['https://scontent.xx.fbcdn.net/v/t1.15752-9/91140590_169156024104970_9149727164638167040_n.jpg?_nc_cat=111&_nc_sid=b96e70&_nc_oc=AQksL3EPbJwb5vF7MiFB6VdXzCEmtSqg7QZRnHQamP5qwRCPthge2V2zCm6k7jX6oSw0tzFhj2tL2-yD0lgdlWzF&_nc_ad=z-m&_nc_cid=0&_nc_zor=9&_nc_ht=scontent.xx&oh=a3ace1f889939914cd91509c52946144&oe=5EA53CD3']\\\"]\", \"action_handle_send_link_only\"], [\"M\\u1eabu n\\u00e0y shop c\\u00f2n ko?\", \"D\\u1ea1 m\\u1eddi b\\u1ea1n tham kh\\u1ea3o s\\u1ea3n ph\\u1ea9m hi\\u1ec7n c\\u00f3 t\\u1ea1i shop nh\\u00e9!\\r\\n\\n<Show card s\\u1ea3n ph\\u1ea9m Voi Jumbo th\\u1ea3 h\\u00ecnh kh\\u1ed1i Bkids Infantino>\", \"query_knowledge_base\", \"['mention:m\\u1eabu n\\u00e0y']\", \"action_query_babe_kb\"], [\"M\\u00ecnh \\u1edf Ng\\u00e3 T\\u01b0 S\\u1edf th\\u00ec ph\\u00ed ship h\\u1ebft bao nhi\\u00eau b\\u1ea1n, c\\u00f3 \\u0111\\u01b0\\u1ee3c freeship k nh\\u1ec9\", \"Ship Ng\\u00e3 t\\u01b0 s\\u1edf , Thanh Xu\\u00e2n trong n\\u1ed9i th\\u00e0nh h\\u00e0 n\\u1ed9i h\\u1ebft kho\\u1ea3ng 30-40 k \\u1ea1\", \"ask_ship\", \"['attribute:fee_ship']\", \"action_ask_ship\"], [\"shop \\u01a1i\", \"Ch\\u00e0o b\\u1ea1n, m\\u00ecnh l\\u00e0 tr\\u1ee3 l\\u00fd \\u1ea3o c\\u1ee7a Shop G\\u1ea5u & B\\u00ed Ng\\u00f4, m\\u00ecnh gi\\u00fap g\\u00ec \\u0111\\u01b0\\u1ee3c b\\u1ea1n \\u1ea1?\", \"greet\", null, \"utter_greet\"], [\"https://scontent.xx.fbcdn.net/v/t1.15752-9/91276500_3332850896743682_3518647967223382016_n.jpg?_nc_cat=100&_nc_sid=b96e70&_nc_ohc=nsA07gDazpcAX82MA2A&_nc_ad=z-m&_nc_cid=0&_nc_zor=9&_nc_ht=scontent.xx&oh=1ed797577e15b6d086fb91ceb49c5941&oe=5EA5843B\", \"B\\u1ea1n \\u0111ang t\\u00ecm ki\\u1ebfm th\\u00f4ng tin g\\u00ec \\u1ea1?\", \"send_link\", \"[\\\"url:['https://scontent.xx.fbcdn.net/v/t1.15752-9/91276500_3332850896743682_3518647967223382016_n.jpg?_nc_cat=100&_nc_sid=b96e70&_nc_ohc=nsA07gDazpcAX82MA2A&_nc_ad=z-m&_nc_cid=0&_nc_zor=9&_nc_ht=scontent.xx&oh=1ed797577e15b6d086fb91ceb49c5941&oe=5EA5843B']\\\"]\", \"action_handle_send_link_only\"], [\"B\\u00e1o gi\\u00e1 cho m\\u00ecnh c\\u00e1i shop\", \"D\\u1ea1, c\\u00f3 ph\\u1ea3i b\\u1ea1n mu\\u1ed1n h\\u1ecfi m\\u1ed9t trong c\\u00e1c s\\u1ea3n ph\\u1ea9m d\\u01b0\\u1edbi \\u0111\\u00e2y kh\\u00f4ng \\u1ea1?\\r\\n (Vui l\\u00f2ng \\u1ea5n ch\\u1ecdn 1 s\\u1ea3n ph\\u1ea9m)...\", \"query_knowledge_base\", \"['attribute:price']\", \"action_query_babe_kb\"], [\"/query_knowledge_base{\\\"url\\\": \\\"https://shopee.vn/product/36371562/619150769\\\", \\\"product_id\\\": \\\"https://shopee.vn/product/36371562/619150769\\\"}\", \"S\\u1ea3n ph\\u1ea9m Gh\\u1ebf \\u0111a n\\u0103ng cao c\\u1ea5p Mastela 1015 hi\\u1ec7n shop \\u0111ang c\\u00f3 gi\\u00e1: *1,320,000 VND (gi\\u00e1 g\\u1ed1c 1,599,000 VND)*.\\r\\nB\\u1ea1n tham kh\\u1ea3o c\\u00e1c s\\u1ea3n ph\\u1ea9m sau nh\\u00e9 \\u1ea1:\", \"query_knowledge_base\", \"['url:https://shopee.vn/product/36371562/619150769', 'product_id:https://shopee.vn/product/36371562/619150769']\", \"action_query_babe_kb\"], [\"shop \\u01a1i\", \"Ch\\u00e0o b\\u1ea1n, m\\u00ecnh l\\u00e0 tr\\u1ee3 l\\u00fd \\u1ea3o c\\u1ee7a Shop G\\u1ea5u & B\\u00ed Ng\\u00f4, m\\u00ecnh gi\\u00fap g\\u00ec \\u0111\\u01b0\\u1ee3c b\\u1ea1n \\u1ea1?\", \"greet\", null, \"utter_greet\"], [\"https://scontent.xx.fbcdn.net/v/t1.15752-9/91276500_3332850896743682_3518647967223382016_n.jpg?_nc_cat=100&_nc_sid=b96e70&_nc_ohc=nsA07gDazpcAX82MA2A&_nc_ad=z-m&_nc_cid=0&_nc_zor=9&_nc_ht=scontent.xx&oh=1ed797577e15b6d086fb91ceb49c5941&oe=5EA5843B\", \"B\\u1ea1n \\u0111ang t\\u00ecm ki\\u1ebfm th\\u00f4ng tin g\\u00ec \\u1ea1?\\r\\n\", \"send_link\", \"[\\\"url:['https://scontent.xx.fbcdn.net/v/t1.15752-9/91276500_3332850896743682_3518647967223382016_n.jpg?_nc_cat=100&_nc_sid=b96e70&_nc_ohc=nsA07gDazpcAX82MA2A&_nc_ad=z-m&_nc_cid=0&_nc_zor=9&_nc_ht=scontent.xx&oh=1ed797577e15b6d086fb91ceb49c5941&oe=5EA5843B']\\\"]\", \"action_handle_send_link_only\"], [\"B\\u00e1o gi\\u00e1 cho m\\u00ecnh c\\u00e1i shop\", \"D\\u1ea1, c\\u00f3 ph\\u1ea3i b\\u1ea1n mu\\u1ed1n h\\u1ecfi m\\u1ed9t trong c\\u00e1c s\\u1ea3n ph\\u1ea9m d\\u01b0\\u1edbi \\u0111\\u00e2y kh\\u00f4ng \\u1ea1?\\n (Vui l\\u00f2ng \\u1ea5n ch\\u1ecdn 1 s\\u1ea3n ph\\u1ea9m)\\n<Show 5 cards>\", \"query_knowledge_base\", \"['attribute:price']\", \"action_query_babe_kb\"], [\"/query_knowledge_base{\\\"url\\\": \\\"https://shopee.vn/product/36371562/619150769\\\", \\\"product_id\\\": \\\"https://shopee.vn/product/36371562/619150769\\\"}\", \"S\\u1ea3n ph\\u1ea9m  Gh\\u1ebf \\u0111a n\\u0103ng cao c\\u1ea5p Mastela 1015  hi\\u1ec7n shop \\u0111ang c\\u00f3 gi\\u00e1: 1,320,000 VND (gi\\u00e1 g\\u1ed1c 1,599,000 VND).\\r\\nB\\u1ea1n tham kh\\u1ea3o c\\u00e1c s\\u1ea3n ph\\u1ea9m sau nh\\u00e9 \\u1ea1:\\n<show card>\", \"query_knowledge_base\", \"['url:https://shopee.vn/product/36371562/619150769', 'product_id:https://shopee.vn/product/36371562/619150769']\", \"action_query_babe_kb\"], [\"<\\u0110\\u1eb7t h\\u00e0ng>\\n(tr\\u00ean card cu\\u1ed1i show th\\u00eam n\\u00fat \\u0111\\u1eb7t h\\u00e0ng)\", \"C\\u1ea3m \\u01a1n b\\u1ea1n! B\\u1ea1n vui l\\u00f2ng \\u0111i\\u1ec1n th\\u00f4ng tin v\\u00e0o M\\u1eabu \\u0111\\u1eb7t h\\u00e0ng gi\\u00fap shop nh\\u00e9!\\n<Show ra c\\u00e1i b\\u1ea3ng m\\u1eabu \\u0111\\u1eb7t h\\u00e0ng: c\\u00f3 t\\u00ean s\\u1ea3n ph\\u1ea9m, cho kh\\u00e1ch t\\u00f9y ch\\u1ecdn s\\u1ed1 l\\u01b0\\u1ee3ng, m\\u00e0u s\\u1eafc...>\", \"make_order\", null, \"action_make_order\"], [\"shop \\u01a1i\", \"Ch\\u00e0o b\\u1ea1n, m\\u00ecnh l\\u00e0 tr\\u1ee3 l\\u00fd \\u1ea3o c\\u1ee7a Shop G\\u1ea5u & B\\u00ed Ng\\u00f4, m\\u00ecnh gi\\u00fap g\\u00ec \\u0111\\u01b0\\u1ee3c b\\u1ea1n \\u1ea1?\", \"greet\", null, \"utter_greet\"], [\"m\\u00ecnh c\\u1ea7n t\\u00ecm gh\\u1ebf \\u0103n d\\u1eb7m\", \"Hi\\u1ec7n t\\u1ea1i s\\u1ea3n ph\\u1ea9m Gh\\u1ebf \\u0102n  shop \\u0111ang c\\u00f3 nh\\u1eefng *gi\\u00e1* sau \\u1ea1:\", \"query_knowledge_base\", \"['object_type:ghe_an']\", \"action_query_babe_kb\"], [\"/query_knowledge_base{\\\"price\\\": \\\"1M - 2M\\\"}\", \"D\\u1ea1 m\\u1eddi b\\u1ea1n tham kh\\u1ea3o s\\u1ea3n ph\\u1ea9m hi\\u1ec7n c\\u00f3 t\\u1ea1i shop nh\\u00e9!\", \"query_knowledge_base\", \"['price:1M - 2M']\", \"action_query_babe_kb\"], [\"gh\\u1ebf mastela s\\u1ea3n xu\\u1ea5t \\u1edf \\u0111\\u00e2u v\\u1eady shop?\", \"S\\u1ea3n ph\\u1ea9m Gh\\u1ebf \\u0102n h\\u00e3ng s\\u1ea3n xu\\u1ea5t Mastela hi\\u1ec7n shop \\u0111ang c\\u00f3 n\\u01a1i s\\u1ea3n xu\\u1ea5t: *Trung Qu\\u1ed1c*.\", \"query_knowledge_base\", \"['object_type:ghe', 'brand:mastela', 'attribute:origin']\", \"action_query_babe_kb\"], [\"b\\u00e9 bao nhi\\u00eau th\\u00e1ng th\\u00ec d\\u00f9ng \\u0111c gh\\u1ebf n\\u00e0y?\", \"Hi\\u1ec7n t\\u1ea1i s\\u1ea3n ph\\u1ea9m Gh\\u1ebf \\u0102n shop \\u0111ang c\\u00f3 nh\\u1eefng *\\u0111\\u1ed9 tu\\u1ed5i s\\u1eed d\\u1ee5ng* sau \\u1ea1:\", \"query_knowledge_base\", \"['attribute:age_of_use', 'object_type:ghe']\", \"action_query_babe_kb\"], [\"ok shop\", \"D\\u1ea1 v\\u00e2ng \\u1ea1!\", \"agree\", \"[]\", \"utter_agree\"], [\"shop c\\u00f3 xe \\u0111\\u1ea9y k?\", \"Hi\\u1ec7n t\\u1ea1i s\\u1ea3n ph\\u1ea9m Xe \\u0110\\u1ea9y shop \\u0111ang c\\u00f3 nh\\u1eefng *gi\\u00e1* sau \\u1ea1:\", \"query_knowledge_base\", \"['object_type:xe_day']\", \"action_query_babe_kb\"], [\"/query_knowledge_base{\\\"age_of_use\\\": \\\"0 - 36 Th\\u00e1ng\\\"}\", \"Hi\\u1ec7n t\\u1ea1i s\\u1ea3n ph\\u1ea9m Xe \\u0110\\u1ea9y \\u0111\\u1ed9 tu\\u1ed5i s\\u1eed d\\u1ee5ng 0 - 36 Th\\u00e1ng shop \\u0111ang c\\u00f3 nh\\u1eefng *h\\u00e3ng s\\u1ea3n xu\\u1ea5t* sau \\u1ea1:\", \"query_knowledge_base\", \"['age_of_use:0 - 36 Th\\u00e1ng']\", \"action_query_babe_kb\"], [\"/query_knowledge_base{\\\"price\\\": \\\"2M - 5M\\\"}\", \"Hi\\u1ec7n t\\u1ea1i s\\u1ea3n ph\\u1ea9m Xe \\u0110\\u1ea9y gi\\u00e1 2m - 5m, \\u0111\\u1ed9 tu\\u1ed5i s\\u1eed d\\u1ee5ng 0 - 36 Th\\u00e1ng shop \\u0111ang c\\u00f3 nh\\u1eefng *h\\u00e3ng s\\u1ea3n xu\\u1ea5t* sau \\u1ea1:\", \"query_knowledge_base\", \"['price:2M - 5M']\", \"action_query_babe_kb\"], [\"/confirm_attribute_value{\\\"brand\\\": \\\"NULL\\\"}\", \"Hi\\u1ec7n t\\u1ea1i s\\u1ea3n ph\\u1ea9m Xe \\u0110\\u1ea9y gi\\u00e1 2m - 5m, \\u0111\\u1ed9 tu\\u1ed5i s\\u1eed d\\u1ee5ng 0 - 36 Th\\u00e1ng shop \\u0111ang c\\u00f3 nh\\u1eefng *m\\u00e0u* sau \\u1ea1:\", \"confirm_attribute_value\", \"['brand:NULL']\", \"action_query_babe_kb\"], [\"/confirm_attribute_value{\\\"material\\\": \\\"NULL\\\"}\", \"Hi\\u1ec7n t\\u1ea1i s\\u1ea3n ph\\u1ea9m Xe \\u0110\\u1ea9y gi\\u00e1 2m - 5m, \\u0111\\u1ed9 tu\\u1ed5i s\\u1eed d\\u1ee5ng 0 - 36 Th\\u00e1ng shop \\u0111ang c\\u00f3 nh\\u1eefng *m\\u00e0u* sau \\u1ea1:\", \"confirm_attribute_value\", \"['material:NULL']\", \"action_query_babe_kb\"], [\"/query_knowledge_base{\\\"color\\\": \\\"Ghi\\\"}\", \"D\\u1ea1 m\\u1eddi b\\u1ea1n tham kh\\u1ea3o s\\u1ea3n ph\\u1ea9m hi\\u1ec7n c\\u00f3 t\\u1ea1i shop nh\\u00e9!\", \"query_knowledge_base\", \"['color:Ghi']\", \"action_query_babe_kb\"], [\"shop c\\u00f3 gh\\u1ebf \\u0111a n\\u0103ng cho b\\u00e9 10 th\\u00e1ng k?\", \"Hi\\u1ec7n t\\u1ea1i s\\u1ea3n ph\\u1ea9m Gh\\u1ebf \\u0110a N\\u0103ng \\u0111\\u1ed9 tu\\u1ed5i s\\u1eed d\\u1ee5ng B\\u00e9 10 Th\\u00e1ng shop \\u0111ang c\\u00f3 nh\\u1eefng *gi\\u00e1* sau \\u1ea1:\", \"query_knowledge_base\", \"['object_type:ghe_da_nang', 'age_of_use:b\\u00e9 10 th\\u00e1ng']\", \"action_query_babe_kb\"], [\"/query_knowledge_base{\\\"price\\\": \\\"1M - 2M\\\"}\", \"Hi\\u1ec7n t\\u1ea1i s\\u1ea3n ph\\u1ea9m Gh\\u1ebf \\u0110a N\\u0103ng gi\\u00e1 1m - 2m, \\u0111\\u1ed9 tu\\u1ed5i s\\u1eed d\\u1ee5ng B\\u00e9 10 Th\\u00e1ng shop \\u0111ang c\\u00f3 nh\\u1eefng *h\\u00e3ng s\\u1ea3n xu\\u1ea5t* sau \\u1ea1:\", \"query_knowledge_base\", \"['price:1M - 2M']\", \"action_query_babe_kb\"], [\"/query_knowledge_base{\\\"brand\\\": \\\"More Kiss\\\"}\", \"D\\u1ea1 m\\u1eddi b\\u1ea1n tham kh\\u1ea3o s\\u1ea3n ph\\u1ea9m hi\\u1ec7n c\\u00f3 t\\u1ea1i shop nh\\u00e9!\", \"query_knowledge_base\", \"['brand:More Kiss']\", \"action_query_babe_kb\"], [\"shop \\u01a1i\", \"Ch\\u00e0o b\\u1ea1n, m\\u00ecnh l\\u00e0 tr\\u1ee3 l\\u00fd \\u1ea3o c\\u1ee7a Shop G\\u1ea5u & B\\u00ed Ng\\u00f4, m\\u00ecnh gi\\u00fap g\\u00ec \\u0111\\u01b0\\u1ee3c b\\u1ea1n \\u1ea1?\", \"greet\", null, \"utter_greet\"], [\"cho m\\u00ecnh xin gi\\u00e1 c\\u00e1i n\\u00e0y v\\u1edbi\\nhttps://scontent.xx.fbcdn.net/v/t1.15752-9/91082126_501675780499282_7670743575553900544_n.png?_nc_cat=105&_nc_sid=b96e70&_nc_ohc=cv9WjzyAq2EAX-2ijUk&_nc_ad=z-m&_nc_cid=0&_nc_zor=9&_nc_ht=scontent.xx&oh=4a383c676ad9b86a134219b8ec91bdb3&oe=5EA28021\", \"S\\u1ea3n ph\\u1ea9m Gh\\u1ebf \\u00f4 t\\u00f4 cao c\\u1ea5p Joie Steadi Dark Pewte hi\\u1ec7n shop \\u0111ang c\\u00f3 gi\\u00e1: *2,750,000 VND (gi\\u00e1 g\\u1ed1c 3,200,000 VND)*.\\r\\nB\\u1ea1n tham kh\\u1ea3o c\\u00e1c s\\u1ea3n ph\\u1ea9m sau nh\\u00e9 \\u1ea1:\", \"query_knowledge_base\", \"[\\\"url:['https://scontent.xx.fbcdn.net/v/t1.15752-9/91082126_501675780499282_7670743575553900544_n.png?_nc_cat=105&_nc_sid=b96e70&_nc_ohc=cv9WjzyAq2EAX-2ijUk&_nc_ad=z-m&_nc_cid=0&_nc_zor=9&_nc_ht=scontent.xx&oh=4a383c676ad9b86a134219b8ec91bdb3&oe=5EA28021']\\\", 'attribute:price', 'mention:c\\u00e1i n\\u00e0y']\", \"action_query_babe_kb\"], [\"shop \\u01a1i\", \"Ch\\u00e0o b\\u1ea1n, m\\u00ecnh l\\u00e0 tr\\u1ee3 l\\u00fd \\u1ea3o c\\u1ee7a Shop G\\u1ea5u & B\\u00ed Ng\\u00f4, m\\u00ecnh gi\\u00fap g\\u00ec \\u0111\\u01b0\\u1ee3c b\\u1ea1n \\u1ea1?\", \"greet\", null, \"utter_greet\"], [\"cho m\\u00ecnh xin gi\\u00e1 c\\u00e1i n\\u00e0y v\\u1edbi\\nhttps://scontent.xx.fbcdn.net/v/t1.15752-9/91082126_501675780499282_7670743575553900544_n.png?_nc_cat=105&_nc_sid=b96e70&_nc_ohc=cv9WjzyAq2EAX-2ijUk&_nc_ad=z-m&_nc_cid=0&_nc_zor=9&_nc_ht=scontent.xx&oh=4a383c676ad9b86a134219b8ec91bdb3&oe=5EA28021\", \"S\\u1ea3n ph\\u1ea9m Gh\\u1ebf \\u00f4 t\\u00f4 cao c\\u1ea5p Joie Steadi Dark Pewte hi\\u1ec7n shop \\u0111ang c\\u00f3 gi\\u00e1: *2,750,000 VND (gi\\u00e1 g\\u1ed1c 3,200,000 VND)*.\\r\\nB\\u1ea1n tham kh\\u1ea3o c\\u00e1c s\\u1ea3n ph\\u1ea9m sau nh\\u00e9 \\u1ea1:\", \"query_knowledge_base\", \"[\\\"url:['https://scontent.xx.fbcdn.net/v/t1.15752-9/91082126_501675780499282_7670743575553900544_n.png?_nc_cat=105&_nc_sid=b96e70&_nc_ohc=cv9WjzyAq2EAX-2ijUk&_nc_ad=z-m&_nc_cid=0&_nc_zor=9&_nc_ht=scontent.xx&oh=4a383c676ad9b86a134219b8ec91bdb3&oe=5EA28021']\\\", 'attribute:price', 'mention:c\\u00e1i n\\u00e0y']\", \"action_query_babe_kb\"], [\"ok, c\\u1ea3m \\u01a1n shop\", \"D\\u1ea1, c\\u1ea3m \\u01a1n b\\u1ea1n!\", \"thank\", null, \"utter_thank\"], [\"/greet\", \"Ch\\u00e0o Nguy\\u1ec5n Nhung, m\\u00ecnh l\\u00e0 tr\\u1ee3 l\\u00fd \\u1ea3o c\\u1ee7a Shop G\\u1ea5u & B\\u00ed Ng\\u00f4\", \"greet\", \"[]\", \"utter_greet\"], [\"cho m\\u00ecnh xin gi\\u00e1 c\\u00e1i n\\u00e0y v\\u1edbi\\nhttps://scontent.xx.fbcdn.net/v/t1.15752-9/91082126_501675780499282_7670743575553900544_n.png?_nc_cat=105&_nc_sid=b96e70&_nc_ohc=cv9WjzyAq2EAX-2ijUk&_nc_ad=z-m&_nc_cid=0&_nc_zor=9&_nc_ht=scontent.xx&oh=4a383c676ad9b86a134219b8ec91bdb3&oe=5EA28021\", \"S\\u1ea3n ph\\u1ea9m Gh\\u1ebf \\u00f4 t\\u00f4 cao c\\u1ea5p Gh\\u1ebf \\u00f4 t\\u00f4 cao c\\u1ea5p Joie Steadi Dark Pewte \\u0111ang c\\u00f3 gi\\u00e1 2.750.000 (Gi\\u00e1 g\\u1ed1c: 3.200.000).\\nM\\u1eddi b\\u1ea1n tham kh\\u1ea3o chi ti\\u1ebft s\\u1ea3n ph\\u1ea9m:\\nhttps://shopee.vn/product/36371562/1287118215\", \"query_knowledge_base\", \"[\\\"url:['https://scontent.xx.fbcdn.net/v/t1.15752-9/91082126_501675780499282_7670743575553900544_n.png?_nc_cat=105&_nc_sid=b96e70&_nc_ohc=cv9WjzyAq2EAX-2ijUk&_nc_ad=z-m&_nc_cid=0&_nc_zor=9&_nc_ht=scontent.xx&oh=4a383c676ad9b86a134219b8ec91bdb3&oe=5EA28021']\\\", 'attribute:price', 'mention:c\\u00e1i n\\u00e0y']\", \"action_query_babe_kb\"], [\"m\\u00ecnh \\u0111ang c\\u1ea7n g\\u1ea5p, b\\u1ea1n g\\u1eedi ship lu\\u00f4n cho m\\u00ecnh \\u0111\\u01b0\\u1ee3c kh\\u00f4ng?\", \"C\\u1ea3m \\u01a1n b\\u1ea1n! B\\u1ea1n vui l\\u00f2ng \\u0111i\\u1ec1n th\\u00f4ng tin v\\u00e0o M\\u1eabu \\u0111\\u1eb7t h\\u00e0ng gi\\u00fap shop nh\\u00e9!\\n<Show ra c\\u00e1i b\\u1ea3ng m\\u1eabu \\u0111\\u1eb7t h\\u00e0ng: c\\u00f3 t\\u00ean s\\u1ea3n ph\\u1ea9m, cho kh\\u00e1ch t\\u00f9y ch\\u1ecdn s\\u1ed1 l\\u01b0\\u1ee3ng, m\\u00e0u s\\u1eafc...>\\n<C\\u00e1c th\\u00f4ng tin \\u0111\\u00e3 thu th\\u1eadp \\u0111c th\\u00ec t\\u1ef1 \\u0111i\\u1ec1n lu\\u00f4n, kh\\u00e1ch k ph\\u1ea3i \\u0111i\\u1ec1n n\\u1eefa>\", \"make_order\", \"['ship:c\\u1ea7n g\\u1ea5p', 'ship':'g\\u1eedi ship']\", \"action_make_order\"], [\"B\\u1ed9 \\u0111\\u1ed3 ch\\u01a1i n\\u1ea5u \\u0103n gi\\u00e1 bn \\u1ea1\", \"B\\u1ed9 \\u0111\\u1ed3 ch\\u01a1i nh\\u00e0 b\\u1ebfp th\\u00f4ng minh hi\\u1ec7n shop \\u0111ang c\\u00f3 gi\\u00e1: 790000 VND (gi\\u00e1 g\\u1ed1c 790000 VND). B\\u1ea1n tham kh\\u1ea3o c\\u00e1c s\\u1ea3n ph\\u1ea9m sau nh\\u00e9 \\u1ea1: <show sp>\", \"query_knowledge_base\", \"['attribute:price']\", \"action_query_babe_kb\"], [\"ok shop\", \"D\\u1ea1,v\\u00e2ng\", \"agree\", null, \"utter_agree\"], [\"https://scontent.xx.fbcdn.net/v/t1.15752-9/93409445_248021096324605_3539204290587394048_n.jpg?_nc_cat=100&_nc_sid=b96e70&_nc_ohc=CDp2-oURkTkAX-ROtNE&_nc_ad=z-m&_nc_cid=0&_nc_zor=9&_nc_ht=scontent.xx&oh=a13cc949d1040f31f6f45300484c2189&oe=5EB5A872\", \"B\\u1ea1n \\u0111ang t\\u00ecm ki\\u1ebfm th\\u00f4ng tin g\\u00ec \\u1ea1?\", \"send_link\", \"[\\\"url:['https://scontent.xx.fbcdn.net/v/t1.15752-9/93409445_248021096324605_3539204290587394048_n.jpg?_nc_cat=100&_nc_sid=b96e70&_nc_ohc=CDp2-oURkTkAX-ROtNE&_nc_ad=z-m&_nc_cid=0&_nc_zor=9&_nc_ht=scontent.xx&oh=a13cc949d1040f31f6f45300484c2189&oe=5EB5A872']\\\"]\", \"action_handle_send_link_only\"], [\"Ng\\u1ef1a n\\u00e0y h\\u00e0ng v\\u1ec1 h\\u1ea3 shop?\", \"S\\u1ea3n ph\\u1ea9m  NG\\u1ef0A B\\u1eacP B\\u00caNH HOLLA 2020  hi\\u1ec7n shop c\\u00f3 h\\u00e0ng v\\u00e0 \\u0111ang c\\u00f3 gi\\u00e1: 580000\\n VND (gi\\u00e1 g\\u1ed1c 800000 VND).\\nB\\u1ea1n tham kh\\u1ea3o c\\u00e1c s\\u1ea3n ph\\u1ea9m sau nh\\u00e9 \\u1ea1:\\n<show sp>\", \"query_knowledge_base\", \"['object_type:ng\\u1ef1a', 'mention:n\\u00e0y']\", \"action_query_babe_kb\"], [\"https://scontent.xx.fbcdn.net/v/t1.15752-9/92812185_1223309388006647_5070003679390597120_n.jpg?_nc_cat=102&_nc_sid=b96e70&_nc_ohc=g_UDAFO7FMkAX8iFNTd&_nc_ad=z-m&_nc_cid=0&_nc_zor=9&_nc_ht=scontent.xx&oh=b4d34f75250bd20bb8adc6193f0b996b&oe=5EB812A1\", \"B\\u1ea1n \\u0111ang t\\u00ecm ki\\u1ebfm th\\u00f4ng tin g\\u00ec \\u1ea1?\", \"send_link\", \"[\\\"url:['https://scontent.xx.fbcdn.net/v/t1.15752-9/92812185_1223309388006647_5070003679390597120_n.jpg?_nc_cat=102&_nc_sid=b96e70&_nc_ohc=g_UDAFO7FMkAX8iFNTd&_nc_ad=z-m&_nc_cid=0&_nc_zor=9&_nc_ht=scontent.xx&oh=b4d34f75250bd20bb8adc6193f0b996b&oe=5EB812A1']\\\"]\", \"action_handle_send_link_only\"], [\"B\\u1ea1n \\u01a1i b\\u1ed9 n\\u00e0y bao ti\\u1ec1n \\u1ea1\", \"S\\u1ea3n ph\\u1ea9m B\\u1ea2NG V\\u1ebc HOLLA 2 in 1 hi\\u1ec7n shop \\u0111ang c\\u00f3 gi\\u00e1: *830,000 VND (gi\\u00e1 g\\u1ed1c 1,090,000 VND)*.\\r\\nB\\u1ea1n tham kh\\u1ea3o c\\u00e1c s\\u1ea3n ph\\u1ea9m sau nh\\u00e9 \\u1ea1:\", \"query_knowledge_base\", \"['mention:b\\u1ed9 n\\u00e0y', 'attribute:price']\", \"action_query_babe_kb\"], [\"Cho m xem m\\u00e0u\", \"M\\u00ecnh ch\\u01b0a x\\u00e1c \\u0111\\u1ecbnh \\u0111\\u01b0\\u1ee3c m\\u00f3n \\u0111\\u1ed3 b\\u1ea1n h\\u1ecfi, b\\u1ea1n m\\u00f4 t\\u1ea3 r\\u00f5 h\\u01a1n gi\\u00fap m\\u00ecnh nh\\u00e9!\", \"query_knowledge_base\", \"['attribute:color']\", \"action_query_babe_kb\"], [\"Gh\\u1ebf \\u0103n d\\u1eb7m newber \\u1ea1\", \"D\\u1ea1, s\\u1ea3n ph\\u1ea9m Gh\\u1ebf \\u0102n h\\u00e3ng s\\u1ea3n xu\\u1ea5t Newber hi\\u1ec7n t\\u1ea1i b\\u00ean shop \\u0111ang t\\u1ea1m h\\u1ebft h\\u00e0ng \\u1ea1. B\\u1ea1n tham kh\\u1ea3o c\\u00e1c s\\u1ea3n ph\\u1ea9m kh\\u00e1c d\\u00e0nh cho b\\u00e9 nh\\u00e9!\", \"query_knowledge_base\", \"['object_type:ghe_an', 'brand:newber']\", \"action_query_babe_kb\"], [\"b \\u01a1i cho m\\u00ecnh h\\u1ecfi ch\\u00fat\\nb\\u00ean m\\u00ecnh c\\u00f3 qu\\u00e2y k k \\u1ea1\", \"S\\u1ea3n ph\\u1ea9m  Qu\\u00e2y  hi\\u1ec7n shop \\u0111ang c\\u00f3 gi\\u00e1: *1,440,000 VND (gi\\u00e1 g\\u1ed1c 1,490,000 VND), 1,040,000 VND (gi\\u00e1 g\\u1ed1c 1,290,000 VND), 1,340,000 VND (gi\\u00e1 g\\u1ed1c 1,390,000 VND)*.\\nB\\u1ea1n tham kh\\u1ea3o c\\u00e1c s\\u1ea3n ph\\u1ea9m sau nh\\u00e9 \\u1ea1:\", \"query_knowledge_base\", \"['object_type:quay']\", \"action_query_babe_kb\"], [\"m\\u1eabu n\\u00e0y kt bn h\\u1ea3 b\", \"M\\u00ecnh ch\\u01b0a x\\u00e1c \\u0111\\u1ecbnh \\u0111\\u01b0\\u1ee3c m\\u00f3n \\u0111\\u1ed3 b\\u1ea1n h\\u1ecfi, b\\u1ea1n m\\u00f4 t\\u1ea3 r\\u00f5 h\\u01a1n gi\\u00fap m\\u00ecnh nh\\u00e9!\", \"query_knowledge_base\", \"['mention:m\\u1eabu n\\u00e0y', 'attribute:size']\", \"action_query_babe_kb\"], [\"https://scontent.xx.fbcdn.net/v/t1.15752-9/92319989_243079400401587_6154261374332567552_n.jpg?_nc_cat=102&_nc_sid=b96e70&_nc_ohc=YkHJKwU8VpUAX-Gwl3X&_nc_ad=z-m&_nc_cid=0&_nc_zor=9&_nc_ht=scontent.xx&oh=80ff0124dbde1098c7a2bee69d87cac8&oe=5EB719F6\", \"S\\u1ea3n ph\\u1ea9m  COMBO HOLLA LI\\u00caN HO\\u00c0N 2020 hi\\u1ec7n shop \\u0111ang c\\u00f3 k\\u00edch th\\u01b0\\u1edbc: *1.8x2M*.\\nB\\u1ea1n tham kh\\u1ea3o s\\u1ea3n ph\\u1ea9m sau nh\\u00e9 \\u1ea1:\\n<show card sp>\", \"send_link\", \"[\\\"url:['https://scontent.xx.fbcdn.net/v/t1.15752-9/92319989_243079400401587_6154261374332567552_n.jpg?_nc_cat=102&_nc_sid=b96e70&_nc_ohc=YkHJKwU8VpUAX-Gwl3X&_nc_ad=z-m&_nc_cid=0&_nc_zor=9&_nc_ht=scontent.xx&oh=80ff0124dbde1098c7a2bee69d87cac8&oe=5EB719F6']\\\"]\", \"action_handle_send_link_only\"], [\"shop \\u01a1i\", \"Ch\\u00e0o b\\u1ea1n, m\\u00ecnh l\\u00e0 tr\\u1ee3 l\\u00fd \\u1ea3o c\\u1ee7a Shop G\\u1ea5u & B\\u00ed Ng\\u00f4, m\\u00ecnh gi\\u00fap g\\u00ec \\u0111\\u01b0\\u1ee3c b\\u1ea1n \\u1ea1?\", \"greet\", null, \"utter_greet\"], [\"https://scontent.xx.fbcdn.net/v/t1.15752-9/91195826_498480424370303_2420395967455952896_n.jpg?_nc_cat=106&_nc_sid=b96e70&_nc_ohc=xbapPlP7xmIAX_VXW-N&_nc_ad=z-m&_nc_cid=0&_nc_zor=9&_nc_ht=scontent.xx&oh=9659d65beb602c42382325bcb6359a57&oe=5EA77EEF\", \"B\\u1ea1n \\u0111ang t\\u00ecm ki\\u1ebfm th\\u00f4ng tin g\\u00ec \\u1ea1?\", \"send_link\", \"[\\\"url:['https://scontent.xx.fbcdn.net/v/t1.15752-9/91195826_498480424370303_2420395967455952896_n.jpg?_nc_cat=106&_nc_sid=b96e70&_nc_ohc=xbapPlP7xmIAX_VXW-N&_nc_ad=z-m&_nc_cid=0&_nc_zor=9&_nc_ht=scontent.xx&oh=9659d65beb602c42382325bcb6359a57&oe=5EA77EEF']\\\"]\", \"action_handle_send_link_only\"], [\"B c\\u00f3 s\\u1eb5n thanh ch\\u1eafn gi\\u01b0\\u1eddng n\\u00e0y ko?\", \"S\\u1ea3n ph\\u1ea9m Thanh ch\\u1eafn gi\\u01b0\\u1eddng cao c\\u1ea5p d\\u1ea1ng tr\\u01b0\\u1ee3t Umoo ch\\u00ednh h\\u00e3ng \\u0111ang c\\u00f3 gi\\u00e1: 500.000 (Gi\\u00e1 g\\u1ed1c: 610.000).\\nM\\u1eddi b\\u1ea1n xem s\\u1ea3n ph\\u1ea9m t\\u1ea1i link:\\n<Show card>\", \"query_knowledge_base\", \"['object_type:thanh_chan_giuong']\", \"action_query_babe_kb\"], [\"lo\\u1ea1i n\\u00e0y c\\u00f3 nh\\u1eefng k\\u00edch th\\u01b0\\u1edbc n\\u00e0o shop nh\\u1ec9?\", \"S\\u1ea3n ph\\u1ea9m Thanh ch\\u1eafn gi\\u01b0\\u1eddng cao c\\u1ea5p d\\u1ea1ng tr\\u01b0\\u1ee3t Umoo ch\\u00ednh h\\u00e3ng c\\u00f3 c\\u00e1c k\\u00edch th\\u01b0\\u1edbc: 1m6, 1m8, 2m, 2m2.\", \"query_knowledge_base\", \"['mention:lo\\u1ea1i n\\u00e0y', 'attribute:size']\", \"action_query_babe_kb\"], [\"ok shop\", \"V\\u00e2ng \\u1ea1!\", \"agree\", null, \"utter_agree\"], [\"https://scontent.xx.fbcdn.net/v/t1.15752-9/91116566_291171825206315_2457738113934426112_n.jpg?_nc_cat=111&_nc_sid=b96e70&_nc_oc=AQl0eJdwRKLYDOTb3-7GEEopWEg73tj53KuP5VxJRcvtdD9rcM6ZrFogw5sbRM9s7R-eYHilgr7XsDCjxJ5VauHq&_nc_ad=z-m&_nc_cid=0&_nc_zor=9&_nc_ht=scontent.xx&oh=21cbaa7a85cf4cbf2e946bbc78f7ca73&oe=5EA6F7BA\", \"B\\u1ea1n \\u0111ang t\\u00ecm ki\\u1ebfm th\\u00f4ng tin g\\u00ec \\u1ea1?\", \"send_link\", \"[\\\"url:['https://scontent.xx.fbcdn.net/v/t1.15752-9/91116566_291171825206315_2457738113934426112_n.jpg?_nc_cat=111&_nc_sid=b96e70&_nc_oc=AQl0eJdwRKLYDOTb3-7GEEopWEg73tj53KuP5VxJRcvtdD9rcM6ZrFogw5sbRM9s7R-eYHilgr7XsDCjxJ5VauHq&_nc_ad=z-m&_nc_cid=0&_nc_zor=9&_nc_ht=scontent.xx&oh=21cbaa7a85cf4cbf2e946bbc78f7ca73&oe=5EA6F7BA']\\\"]\", \"action_handle_send_link_only\"], [\"Shop c\\u00f2n b\\u1ed9 n\\u00e0y k \\u1ea1\", \"D\\u1ea1 m\\u1eddi b\\u1ea1n tham kh\\u1ea3o s\\u1ea3n ph\\u1ea9m hi\\u1ec7n c\\u00f3 t\\u1ea1i shop nh\\u00e9!\\r\\n<Show card B\\u1ec3 d\\u1ef1ng th\\u00e0nh cao Doctor Dolphin>\", \"query_knowledge_base\", \"['mention:b\\u1ed9 n\\u00e0y']\", \"action_query_babe_kb\"], [\"shop \\u01a1i\", \"Ch\\u00e0o b\\u1ea1n, m\\u00ecnh l\\u00e0 ...\", \"greet\", \"[]\", \"utter_greet\"], [\"Cho m\\u00ecnh h\\u1ecfi b\\u00ean b\\u1ea1n c\\u00f3 m\\u00e1y h\\u00fat s\\u1eefa Avent hoa tuy\\u1ebft kh\\u00f4ng \\u1ea1?\", \"S\\u1ea3n ph\\u1ea9m  M\\u00e1y h\\u00fat s\\u1eefa \\u0111i\\u1ec7n \\u0111\\u00f4i Avent Snow (Ch\\u00ednh h\\u00e3ng - Cty V\\u1ea1n An) h\\u00e3ng s\\u1ea3n xu\\u1ea5t Avent hi\\u1ec7n shop \\u0111ang c\\u00f3 gi\\u00e1: 4,990,000 VND (gi\\u00e1 g\\u1ed1c 6,950,000 VND).\\nB\\u1ea1n tham kh\\u1ea3o t\\u1ea1i link sau \\u1ea1:\\n<Show card>\", \"query_knowledge_base\", \"['object_type:may_hut_sua', 'brand:avent']\", \"action_query_babe_kb\"], [\"lo\\u1ea1i n\\u00e0y d\\u00f9ng c\\u00f3 t\\u1ed1t kh\\u00f4ng b\\u1ea1n nh\\u1ec9?\", null, \"handover_to_inbox\", \"['mention:lo\\u1ea1i n\\u00e0y']\", \"action_handover_to_inbox\"], [\"alo shop\", \"Ch\\u00e0o b\\u1ea1n, m\\u00ecnh l\\u00e0 tr\\u1ee3 l\\u00fd \\u1ea3o c\\u1ee7a Shop G\\u1ea5u & B\\u00ed Ng\\u00f4, m\\u00ecnh gi\\u00fap g\\u00ec \\u0111\\u01b0\\u1ee3c b\\u1ea1n \\u1ea1?\", \"greet\", null, \"utter_greet\"], [\"https://scontent.xx.fbcdn.net/v/t1.15752-9/91179254_522333818714923_2603681931581194240_n.jpg?_nc_cat=106&_nc_sid=b96e70&_nc_ohc=vIHq163ac_kAX-MHxt8&_nc_ad=z-m&_nc_cid=0&_nc_zor=9&_nc_ht=scontent.xx&oh=19368d98471da439001ddf5dc8cab52d&oe=5EA2F89D\", \"B\\u1ea1n \\u0111ang t\\u00ecm ki\\u1ebfm th\\u00f4ng tin g\\u00ec \\u1ea1?\\r\\n\", \"send_link\", \"[\\\"url:['https://scontent.xx.fbcdn.net/v/t1.15752-9/91179254_522333818714923_2603681931581194240_n.jpg?_nc_cat=106&_nc_sid=b96e70&_nc_ohc=vIHq163ac_kAX-MHxt8&_nc_ad=z-m&_nc_cid=0&_nc_zor=9&_nc_ht=scontent.xx&oh=19368d98471da439001ddf5dc8cab52d&oe=5EA2F89D']\\\"]\", \"action_handle_send_link_only\"], [\"M\\u00ecnh mu\\u00f3n mua xe n\\u00e0y\", \"S\\u1ea3n ph\\u1ea9m Xe t\\u1eadp \\u0111i cao c\\u1ea5p Tommorrow Sky - CH\\u00cdNH H\\u00c3NG c\\u00f3 gi\\u00e1 449.000 (Gi\\u00e1 g\\u1ed1c: 850.000).\\n<Show card s\\u1ea3n ph\\u1ea9m>\", \"query_knowledge_base\", \"['object_type:xe', 'mention:n\\u00e0y']\", \"action_query_babe_kb\"], [\"shop \\u01a1i\", \"Ch\\u00e0o b\\u1ea1n, m\\u00ecnh l\\u00e0 tr\\u1ee3 l\\u00fd \\u1ea3o c\\u1ee7a Shop G\\u1ea5u & B\\u00ed Ng\\u00f4, m\\u00ecnh gi\\u00fap g\\u00ec \\u0111\\u01b0\\u1ee3c b\\u1ea1n \\u1ea1?\", \"greet\", null, \"utter_greet\"], [\"https://scontent.xx.fbcdn.net/v/t1.15752-9/91140590_169156024104970_9149727164638167040_n.jpg?_nc_cat=111&_nc_sid=b96e70&_nc_oc=AQksL3EPbJwb5vF7MiFB6VdXzCEmtSqg7QZRnHQamP5qwRCPthge2V2zCm6k7jX6oSw0tzFhj2tL2-yD0lgdlWzF&_nc_ad=z-m&_nc_cid=0&_nc_zor=9&_nc_ht=scontent.xx&oh=a3ace1f889939914cd91509c52946144&oe=5EA53CD3\", \"B\\u1ea1n \\u0111ang t\\u00ecm ki\\u1ebfm th\\u00f4ng tin g\\u00ec \\u1ea1?\\r\\n\", \"send_link\", \"[\\\"url:['https://scontent.xx.fbcdn.net/v/t1.15752-9/91140590_169156024104970_9149727164638167040_n.jpg?_nc_cat=111&_nc_sid=b96e70&_nc_oc=AQksL3EPbJwb5vF7MiFB6VdXzCEmtSqg7QZRnHQamP5qwRCPthge2V2zCm6k7jX6oSw0tzFhj2tL2-yD0lgdlWzF&_nc_ad=z-m&_nc_cid=0&_nc_zor=9&_nc_ht=scontent.xx&oh=a3ace1f889939914cd91509c52946144&oe=5EA53CD3']\\\"]\", \"action_handle_send_link_only\"], [\"M\\u1eabu n\\u00e0y shop c\\u00f2n ko?\", \"D\\u1ea1 m\\u1eddi b\\u1ea1n tham kh\\u1ea3o s\\u1ea3n ph\\u1ea9m hi\\u1ec7n c\\u00f3 t\\u1ea1i shop nh\\u00e9!\", \"query_knowledge_base\", \"['mention:m\\u1eabu n\\u00e0y']\", \"action_query_babe_kb\"], [\"thank b\\u1ea1n\", \"D\\u1ea1, c\\u1ea3m \\u01a1n b\\u1ea1n!\", \"thank\", null, \"utter_thank\"], [\"shop \\u01a1i\", \"Ch\\u00e0o Tr\\u1ea7n Di\\u1ec7u Nh\\u01b0, m\\u00ecnh l\\u00e0 tr\\u1ee3 l\\u00fd \\u1ea3o c\\u1ee7a Shop G\\u1ea5u & B\\u00ed Ng\\u00f4!\\n\\u0110\\u1ec3 h\\u1ed7 tr\\u1ee3 b\\u1ea1n nhanh nh\\u1ea5t c\\u00f3 th\\u1ec3, vui l\\u00f2ng m\\u00f4 t\\u1ea3 ng\\u1eafn g\\u1ecdn v\\u00e0 r\\u00f5 r\\u00e0ng s\\u1ea3n ph\\u1ea9m mu\\u1ed1n t\\u00ecm ki\\u1ebfm nh\\u00e9!\", \"greet\", \"[]\", \"utter_greet\"], [\"Cho m\\u00ecnh h\\u1ecfi\", \"M\\u00ecnh ch\\u01b0a x\\u00e1c \\u0111\\u1ecbnh \\u0111\\u01b0\\u1ee3c m\\u00f3n \\u0111\\u1ed3 b\\u1ea1n h\\u1ecfi, b\\u1ea1n m\\u00f4 t\\u1ea3 r\\u00f5 h\\u01a1n gi\\u00fap m\\u00ecnh nh\\u00e9!\", \"query_knowledge_base\", \"[]\", \"action_query_babe_kb\"], [\"https://scontent.xx.fbcdn.net/v/t1.15752-9/93509238_660084428139084_8562660888245436416_n.jpg?_nc_cat=108&_nc_sid=b96e70&_nc_ohc=yXSk9VsgmBAAX8H8g7O&_nc_ad=z-m&_nc_cid=0&_nc_zor=9&_nc_ht=scontent.xx&oh=4277506b3e5d45205734a572902dadcd&oe=5EBF8F12\\nB\\u00ean b\\u1ea1n c\\u00f3 lo\\u1ea1i n\\u00e0y hk\", \"S\\u1ea3n ph\\u1ea9m M\\u00e1y ti\\u1ec7t tr\\u00f9ng s\\u1ea5y kh\\u00f4 tia UV cao c\\u1ea5p Fatz Baby FB4702 c\\u00f3 gi\\u00e1: 2.350.000 (Gi\\u00e1 g\\u1ed1c: 2.750.000).\\n<Show card>\", \"query_knowledge_base\", \"[\\\"url:['https://scontent.xx.fbcdn.net/v/t1.15752-9/93509238_660084428139084_8562660888245436416_n.jpg?_nc_cat=108&_nc_sid=b96e70&_nc_ohc=yXSk9VsgmBAAX8H8g7O&_nc_ad=z-m&_nc_cid=0&_nc_zor=9&_nc_ht=scontent.xx&oh=4277506b3e5d45205734a572902dadcd&oe=5EBF8F12']\\\", 'mention:lo\\u1ea1i n\\u00e0y']\", \"action_query_babe_kb\"], [\"Ok shop\", \"D\\u1ea1 v\\u00e2ng \\u1ea1!\", \"agree\", null, \"utter_agree\"], [\"Shop \\u01a1i\\nShop c\\u00f2n xe \\u0111\\u1ea1p 3 b\\u00e1nh cho b\\u00e9 ko\", \"S\\u1ea3n ph\\u1ea9m Xe ba b\\u00e1nh hi\\u1ec7n t\\u1ea1i shop \\u0111ang c\\u00f3 c\\u00e1c h\\u00e3ng s\\u1ea3n xu\\u1ea5t sau:\\n<Brand_1> <Brand_2> <Brand_3> ...\", \"query_knowledge_base\", \"['object_type:xe_3_banh']\", \"action_query_babe_kb\"], [\"Bn m\\u1eabu n\\u00e0y ah\\nhttps://scontent.xx.fbcdn.net/v/t1.15752-9/93355558_787687925088945_3366661856440614912_n.jpg?_nc_cat=104&_nc_sid=b96e70&_nc_ohc=LuvI-yPqqx4AX90ZvOD&_nc_ad=z-m&_nc_cid=0&_nc_zor=9&_nc_ht=scontent.xx&oh=feb80fc822356b2b3b1bdd09e69d5f5f&oe=5EC1D7AD\", \"S\\u1ea3n ph\\u1ea9m  COMBO HOLLA LI\\u00caN HO\\u00c0N 2020 gi\\u00e1 4.100.000 (Gi\\u00e1 g\\u1ed1c: 5.000.000).\\n<Show card>\", \"query_knowledge_base\", \"[\\\"url:['https://scontent.xx.fbcdn.net/v/t1.15752-9/93355558_787687925088945_3366661856440614912_n.jpg?_nc_cat=104&_nc_sid=b96e70&_nc_ohc=LuvI-yPqqx4AX90ZvOD&_nc_ad=z-m&_nc_cid=0&_nc_zor=9&_nc_ht=scontent.xx&oh=feb80fc822356b2b3b1bdd09e69d5f5f&oe=5EC1D7AD']\\\", 'attribute:price', 'mention:m\\u1eabu n\\u00e0y']\", \"action_query_babe_kb\"], [\"Bn m\\u1eabu n\\u00e0y ah\\nhttps://scontent.xx.fbcdn.net/v/t1.15752-9/93355558_787687925088945_3366661856440614912_n.jpg?_nc_cat=104&_nc_sid=b96e70&_nc_ohc=LuvI-yPqqx4AX90ZvOD&_nc_ad=z-m&_nc_cid=0&_nc_zor=9&_nc_ht=scontent.xx&oh=feb80fc822356b2b3b1bdd09e69d5f5f&oe=5EC1D7AD\", \"S\\u1ea3n ph\\u1ea9m  COMBO HOLLA LI\\u00caN HO\\u00c0N 2020 gi\\u00e1 4.100.000 (Gi\\u00e1 g\\u1ed1c: 5.000.000).\\n<Show card>\", \"query_knowledge_base\", \"[\\\"url:['https://scontent.xx.fbcdn.net/v/t1.15752-9/93355558_787687925088945_3366661856440614912_n.jpg?_nc_cat=104&_nc_sid=b96e70&_nc_ohc=LuvI-yPqqx4AX90ZvOD&_nc_ad=z-m&_nc_cid=0&_nc_zor=9&_nc_ht=scontent.xx&oh=feb80fc822356b2b3b1bdd09e69d5f5f&oe=5EC1D7AD']\\\", 'attribute:price', 'mention:m\\u1eabu n\\u00e0y']\", \"action_query_babe_kb\"], [\"ok, c\\u1ea3m \\u01a1n b\\u1ea1n\", \"D\\u1ea1 v\\u00e2ng \\u1ea1!\", \"thank\", null, \"utter_thank\"], [\"https://scontent.xx.fbcdn.net/v/t1.15752-9/93372808_237505350937658_7849680219572011008_n.jpg?_nc_cat=106&_nc_sid=b96e70&_nc_ohc=HZIdsjJWIdEAX9Zcxf0&_nc_ad=z-m&_nc_cid=0&_nc_zor=9&_nc_ht=scontent.xx&oh=f23cf6dba930b2cdde6188b71ae0af6d&oe=5EBED982\\nShop \\u01a1i c\\u00f3 ch\\u1eadu t\\u0103m n\\u00e0y ko \\u1ea1\\nGi\\u00e1 bnhiu\", \"D\\u1ea1, c\\u00f3 ph\\u1ea3i b\\u1ea1n mu\\u1ed1n h\\u1ecfi m\\u1ed9t trong c\\u00e1c s\\u1ea3n ph\\u1ea9m d\\u01b0\\u1edbi \\u0111\\u00e2y kh\\u00f4ng \\u1ea1?\\n (Vui l\\u00f2ng \\u1ea5n ch\\u1ecdn 1 s\\u1ea3n ph\\u1ea9m)...\", \"query_knowledge_base\", \"[\\\"url:['https://scontent.xx.fbcdn.net/v/t1.15752-9/93372808_237505350937658_7849680219572011008_n.jpg?_nc_cat=106&_nc_sid=b96e70&_nc_ohc=HZIdsjJWIdEAX9Zcxf0&_nc_ad=z-m&_nc_cid=0&_nc_zor=9&_nc_ht=scontent.xx&oh=f23cf6dba930b2cdde6188b71ae0af6d&oe=5EBED982']\\\", 'attribute:price']\", \"action_query_babe_kb\"], [\"/disagree{\\\"object_type\\\": null}\\r\\n\\r\\n\", \"B\\u1ea1n vui l\\u00f2ng m\\u00f4 t\\u1ea3 r\\u00f5 mong mu\\u1ed1n c\\u1ee7a b\\u1ea1n ho\\u1eb7c chat v\\u1edbi nh\\u00e2n vi\\u00ean t\\u01b0 v\\u1ea5n nh\\u00e9!\", \"disagree\", \"['object_type:None']\", \"utter_disagree\"], [\"/connect_employee\", null, \"connect_employee\", null, \"action_handover_to_inbox\"], [\"https://scontent.xx.fbcdn.net/v/t1.15752-9/93282219_2955120164565617_1480656053644296192_n.jpg?_nc_cat=102&_nc_sid=b96e70&_nc_ohc=Hj-a7J7s9IsAX9_oiUQ&_nc_ad=z-m&_nc_cid=0&_nc_zor=9&_nc_ht=scontent.xx&oh=7a656828dcc017d90efbd1d6b28f922e&oe=5EC20392\\nhttps://scontent.xx.fbcdn.net/v/t1.15752-9/92019276_227770161797062_3872006948278763520_n.jpg?_nc_cat=110&_nc_sid=b96e70&_nc_ohc=iunHKGP-YF4AX-GSloP&_nc_ad=z-m&_nc_cid=0&_nc_zor=9&_nc_ht=scontent.xx&oh=55a529977543f1bae2e200fff5c4a62d&oe=5EC0888D\\nhttps://scontent.xx.fbcdn.net/v/t1.15752-9/92691038_549798449252080_714445944011096064_n.jpg?_nc_cat=107&_nc_sid=b96e70&_nc_ohc=tk3aaQnr2kEAX9TQPsM&_nc_ad=z-m&_nc_cid=0&_nc_zor=9&_nc_ht=scontent.xx&oh=acd989282b420cc45bd0dc478eb2f4cb&oe=5EBF2CBB\\n\\u0110\\u1ec1u l\\u00e0 1 xe h\\u1ea3 ch\\u1ecb oi\", null, \"handover_to_inbox\", \"[\\\"url:['https://scontent.xx.fbcdn.net/v/t1.15752-9/92691038_549798449252080_714445944011096064_n.jpg?_nc_cat=107&_nc_sid=b96e70&_nc_ohc=tk3aaQnr2kEAX9TQPsM&_nc_ad=z-m&_nc_cid=0&_nc_zor=9&_nc_ht=scontent.xx&oh=acd989282b420cc45bd0dc478eb2f4cb&oe=5EBF2CBB', 'https://scontent.xx.fbcdn.net/v/t1.15752-9/92019276_227770161797062_3872006948278763520_n.jpg?_nc_cat=110&_nc_sid=b96e70&_nc_ohc=iunHKGP-YF4AX-GSloP&_nc_ad=z-m&_nc_cid=0&_nc_zor=9&_nc_ht=scontent.xx&oh=55a529977543f1bae2e200fff5c4a62d&oe=5EC0888D', 'https://scontent.xx.fbcdn.net/v/t1.15752-9/93282219_2955120164565617_1480656053644296192_n.jpg?_nc_cat=102&_nc_sid=b96e70&_nc_ohc=Hj-a7J7s9IsAX9_oiUQ&_nc_ad=z-m&_nc_cid=0&_nc_zor=9&_nc_ht=scontent.xx&oh=7a656828dcc017d90efbd1d6b28f922e&oe=5EC20392']\\\"]\", \"action_handover_to_inbox\"], [\"shop \\u01a1i\", \"Ch\\u00e0o b\\u1ea1n, m\\u00ecnh l\\u00e0 tr\\u1ee3 l\\u00fd \\u1ea3o c\\u1ee7a Shop G\\u1ea5u & B\\u00ed Ng\\u00f4, m\\u00ecnh gi\\u00fap g\\u00ec \\u0111\\u01b0\\u1ee3c b\\u1ea1n \\u1ea1?\", \"greet\", \"[]\", \"utter_greet\"], [\"https://scontent.xx.fbcdn.net/v/t1.15752-9/93942919_236576060921353_8212294017631649792_n.jpg?_nc_cat=110&_nc_sid=b96e70&_nc_ohc=x7L3d8CsyC4AX9jTMxO&_nc_ad=z-m&_nc_cid=0&_nc_zor=9&_nc_ht=scontent.xx&oh=35be75d9220bfb0bd5b9d37949f56726&oe=5EBFCEBD\\nB\\u00e1o gi\\u00e1 gi\\u00fap m\\u00ecnh\\nV\\u00e0 b\\u00ean b c\\u00f3 b\\u00e0n g\\u1ed9i \\u0111\\u00e0u cho b\\u00e9 k\\nC\\u00f3 s\\u1eb5n k b\\u1ea1n\", \"D\\u1ea1, c\\u00f3 ph\\u1ea3i b\\u1ea1n mu\\u1ed1n h\\u1ecfi m\\u1ed9t trong c\\u00e1c s\\u1ea3n ph\\u1ea9m d\\u01b0\\u1edbi \\u0111\\u00e2y kh\\u00f4ng \\u1ea1?\\n (Vui l\\u00f2ng \\u1ea5n ch\\u1ecdn 1 s\\u1ea3n ph\\u1ea9m)...\", \"query_knowledge_base\", \"[\\\"url:['https://scontent.xx.fbcdn.net/v/t1.15752-9/93942919_236576060921353_8212294017631649792_n.jpg?_nc_cat=110&_nc_sid=b96e70&_nc_ohc=x7L3d8CsyC4AX9jTMxO&_nc_ad=z-m&_nc_cid=0&_nc_zor=9&_nc_ht=scontent.xx&oh=35be75d9220bfb0bd5b9d37949f56726&oe=5EBFCEBD']\\\", 'attribute:price']\", \"action_query_babe_kb\"], [\"K b\\u00e0n g\\u1ed9i \\u0111\\u1ea7u n\\u1eefa b\\u1ea1n\", \"B\\u1ea1n vui l\\u00f2ng m\\u00f4 t\\u1ea3 r\\u00f5 mong mu\\u1ed1n c\\u1ee7a b\\u1ea1n ho\\u1eb7c chat v\\u1edbi nh\\u00e2n vi\\u00ean t\\u01b0 v\\u1ea5n nh\\u00e9!\", \"disagree\", \"[]\", \"utter_disagree\"], [\"/connect_employee\", null, \"connect_employee\", null, \"action_handover_to_inbox\"], [\"shop \\u01a1i\", \"Ch\\u00e0o Thu Anh, m\\u00ecnh l\\u00e0 tr\\u1ee3 l\\u00fd \\u1ea3o c\\u1ee7a Shop G\\u1ea5u & B\\u00ed Ng\\u00f4!\\n\\u0110\\u1ec3 h\\u1ed7 tr\\u1ee3 b\\u1ea1n nhanh nh\\u1ea5t c\\u00f3 th\\u1ec3, vui l\\u00f2ng m\\u00f4 t\\u1ea3 ng\\u1eafn g\\u1ecdn v\\u00e0 r\\u00f5 r\\u00e0ng s\\u1ea3n ph\\u1ea9m mu\\u1ed1n t\\u00ecm ki\\u1ebfm nh\\u00e9!\", \"greet\", \"[]\", \"utter_greet\"], [\"https://scontent.xx.fbcdn.net/v/t1.15752-9/93942919_236576060921353_8212294017631649792_n.jpg?_nc_cat=110&_nc_sid=b96e70&_nc_ohc=x7L3d8CsyC4AX9jTMxO&_nc_ad=z-m&_nc_cid=0&_nc_zor=9&_nc_ht=scontent.xx&oh=35be75d9220bfb0bd5b9d37949f56726&oe=5EBFCEBD\\nB\\u00e1o gi\\u00e1 gi\\u00fap m\\u00ecnh\\nV\\u00e0 b\\u00ean b c\\u00f3 b\\u00e0n g\\u1ed9i \\u0111\\u00e0u cho b\\u00e9 k\\nC\\u00f3 s\\u1eb5n k b\\u1ea1n\", \"D\\u1ea1, c\\u00f3 ph\\u1ea3i b\\u1ea1n mu\\u1ed1n h\\u1ecfi m\\u1ed9t trong c\\u00e1c s\\u1ea3n ph\\u1ea9m d\\u01b0\\u1edbi \\u0111\\u00e2y kh\\u00f4ng \\u1ea1?\\n (Vui l\\u00f2ng \\u1ea5n ch\\u1ecdn 1 s\\u1ea3n ph\\u1ea9m)...\", \"query_knowledge_base\", \"[\\\"url:['https://scontent.xx.fbcdn.net/v/t1.15752-9/93942919_236576060921353_8212294017631649792_n.jpg?_nc_cat=110&_nc_sid=b96e70&_nc_ohc=x7L3d8CsyC4AX9jTMxO&_nc_ad=z-m&_nc_cid=0&_nc_zor=9&_nc_ht=scontent.xx&oh=35be75d9220bfb0bd5b9d37949f56726&oe=5EBFCEBD']\\\", 'attribute:price']\", \"action_query_babe_kb\"], [\"K b\\u00e0n g\\u1ed9i \\u0111\\u1ea7u n\\u1eefa b\\u1ea1n\", \"B\\u1ea1n vui l\\u00f2ng m\\u00f4 t\\u1ea3 r\\u00f5 mong mu\\u1ed1n c\\u1ee7a b\\u1ea1n ho\\u1eb7c chat v\\u1edbi nh\\u00e2n vi\\u00ean t\\u01b0 v\\u1ea5n nh\\u00e9!\\n<Show button [Chat v\\u1edbi nh\\u00e2n vi\\u00ean] >\", \"disagree\", \"[]\", \"utter_disagree\"], [\"ch\\u1ecb mu\\u1ed1n mua th\\u00eam c\\u00e1i b\\u00e0n g\\u1ed9i \\u0111\\u1ea7u n\\u1eefa\", \"D\\u1ea1 hi\\u1ec7n t\\u1ea1i s\\u1ea3n ph\\u1ea9m B\\u00e0n g\\u1ed9i \\u0111\\u1ea7u shop \\u0111ang h\\u1ebft h\\u00e0ng \\u1ea1.\", \"query_knowledge_base\", \"[object_type:ban_goi_dau]\", \"action_query_babe_kb\"], [\"ok em\", \"D\\u1ea1 v\\u00e2ng \\u1ea1!\", \"agree\", null, \"utter_agree\"], [\"B\\u1ed9 n\\u00e0y bao nhi\\u00eau b\\u1ea1n\", \"M\\u00ecnh ch\\u01b0a x\\u00e1c \\u0111\\u1ecbnh \\u0111\\u01b0\\u1ee3c m\\u00f3n \\u0111\\u1ed3 b\\u1ea1n h\\u1ecfi, b\\u1ea1n m\\u00f4 t\\u1ea3 r\\u00f5 h\\u01a1n gi\\u00fap m\\u00ecnh nh\\u00e9!\", \"query_knowledge_base\", \"['mention:b\\u1ed9 n\\u00e0y', 'attribute:price']\", \"action_query_babe_kb\"], [\"https://scontent.xx.fbcdn.net/v/t1.15752-9/93831201_1146889219003227_7546191276316557312_n.jpg?_nc_cat=105&_nc_sid=b96e70&_nc_oc=AQkuiFn2HKv0U6Hz-7RRHmrQAjUe-uffEK34qJgnFu6_ykFT-y29UT6dfe6Tv3zTmX6LSt07VktpDCc5axlV9PMD&_nc_ad=z-m&_nc_cid=0&_nc_zor=9&_nc_ht=scontent.xx&oh=407a378e86bd2e1221efec86158f3723&oe=5EC0F33A\", \"S\\u1ea3n ph\\u1ea9m  B\\u00e0n h\\u1ecdc, b\\u1ea3n ch\\u01a1i l\\u1eafp gh\\u00e9p Lego cao c\\u1ea5p  hi\\u1ec7n shop \\u0111ang c\\u00f3 gi\\u00e1: *995,000 VND (gi\\u00e1 g\\u1ed1c 1,750,000 VND)*.\\nB\\u1ea1n tham kh\\u1ea3o c\\u00e1c s\\u1ea3n ph\\u1ea9m sau nh\\u00e9 \\u1ea1:\", \"send_link\", \"[\\\"url:['https://scontent.xx.fbcdn.net/v/t1.15752-9/93831201_1146889219003227_7546191276316557312_n.jpg?_nc_cat=105&_nc_sid=b96e70&_nc_oc=AQkuiFn2HKv0U6Hz-7RRHmrQAjUe-uffEK34qJgnFu6_ykFT-y29UT6dfe6Tv3zTmX6LSt07VktpDCc5axlV9PMD&_nc_ad=z-m&_nc_cid=0&_nc_zor=9&_nc_ht=scontent.xx&oh=407a378e86bd2e1221efec86158f3723&oe=5EC0F33A']\\\"]\", \"action_handle_send_link_only\"], [\"https://scontent.xx.fbcdn.net/v/t1.15752-9/93580519_538582043761954_1298513551547170816_n.jpg?_nc_cat=110&_nc_sid=b96e70&_nc_ohc=V-gNgxOgT4YAX91GbRA&_nc_ad=z-m&_nc_cid=0&_nc_zor=9&_nc_ht=scontent.xx&oh=37247cf249e08d7d0658803b3f22d363&oe=5EBED552\\nB\\u1ed9 n\\u00e0y bn ah\", \"S\\u1ea3n ph\\u1ea9m  B\\u1ed9 \\u0111\\u1ed3 ch\\u01a1i nh\\u00e0 b\\u1ebfp th\\u00f4ng minh  hi\\u1ec7n shop \\u0111ang c\\u00f3 gi\\u00e1: *790,000 VND (gi\\u00e1 g\\u1ed1c 790,000 VND)*.\\nB\\u1ea1n tham kh\\u1ea3o c\\u00e1c s\\u1ea3n ph\\u1ea9m sau nh\\u00e9 \\u1ea1:\", \"query_knowledge_base\", \"[\\\"url:['https://scontent.xx.fbcdn.net/v/t1.15752-9/93580519_538582043761954_1298513551547170816_n.jpg?_nc_cat=110&_nc_sid=b96e70&_nc_ohc=V-gNgxOgT4YAX91GbRA&_nc_ad=z-m&_nc_cid=0&_nc_zor=9&_nc_ht=scontent.xx&oh=37247cf249e08d7d0658803b3f22d363&oe=5EBED552']\\\", 'mention:b\\u1ed9 n\\u00e0y', 'attribute:price']\", \"action_query_babe_kb\"], [\"D\\u1ea1 v\\u00e2ng b\", \"D\\u1ea1 v\\u00e2ng \\u1ea1!\", \"agree\", \"[]\", \"utter_agree\"], [\"https://scontent.xx.fbcdn.net/v/t1.15752-9/93888763_534820093897495_8873435174071697408_n.jpg?_nc_cat=106&_nc_sid=b96e70&_nc_ohc=FKWPkRS2YlUAX_Kn-nn&_nc_ad=z-m&_nc_cid=0&_nc_zor=9&_nc_ht=scontent.xx&oh=7e3aa2900cd80040c578cdc8cd99deef&oe=5EC130D5\", \"B\\u1ea1n \\u0111ang t\\u00ecm ki\\u1ebfm th\\u00f4ng tin g\\u00ec \\u1ea1?\", \"send_link\", \"[\\\"url:['https://scontent.xx.fbcdn.net/v/t1.15752-9/93888763_534820093897495_8873435174071697408_n.jpg?_nc_cat=106&_nc_sid=b96e70&_nc_ohc=FKWPkRS2YlUAX_Kn-nn&_nc_ad=z-m&_nc_cid=0&_nc_zor=9&_nc_ht=scontent.xx&oh=7e3aa2900cd80040c578cdc8cd99deef&oe=5EC130D5']\\\"]\", \"action_handle_send_link_only\"], [\"B\\u1ed9 n\\u00e0y gi\\u00e2 bn \\u1ea1 shop\", \"S\\u1ea3n ph\\u1ea9m  B\\u1ed9 \\u0111\\u1ed3 ch\\u01a1i nh\\u00e0 b\\u1ebfp th\\u00f4ng minh  hi\\u1ec7n shop \\u0111ang c\\u00f3 gi\\u00e1: *790,000 VND (gi\\u00e1 g\\u1ed1c 790,000 VND)*.\\nB\\u1ea1n tham kh\\u1ea3o c\\u00e1c s\\u1ea3n ph\\u1ea9m sau nh\\u00e9 \\u1ea1:\", \"query_knowledge_base\", \"['mention:b\\u1ed9 n\\u00e0y', 'attribute:price']\", \"action_query_babe_kb\"], [\"Cho t m\\u1ed9t xe ch\\u00f2i ch\\u00e2n luddy\", \"S\\u1ea3n ph\\u1ea9m  Xe Ch\\u00f2i Ch\\u00e2n  hi\\u1ec7n shop \\u0111ang c\\u00f3 gi\\u00e1: *699,000 VND (gi\\u00e1 g\\u1ed1c 998,000 VND), 448,400 VND (gi\\u00e1 g\\u1ed1c 590,000 VND), 499,000 VND (gi\\u00e1 g\\u1ed1c 800,000 VND), 580,000 VND (gi\\u00e1 g\\u1ed1c 800,000 VND)*.\\nB\\u1ea1n tham kh\\u1ea3o c\\u00e1c s\\u1ea3n ph\\u1ea9m sau nh\\u00e9 \\u1ea1:\", \"query_knowledge_base\", \"['object_type:xe_choi_chan', 'brand:luddy']\", \"action_query_babe_kb\"], [\"m\\u00ecnh mu\\u1ed1n mua c\\u00e1i luddy\", \"S\\u1ea3n ph\\u1ea9m Xe ch\\u00f2i ch\\u00e2n th\\u01b0\\u01a1ng hi\\u1ec7u Luddy c\\u00f3 gi\\u00e1: 499,000 VND (gi\\u00e1 g\\u1ed1c 800,000 VND)\\n<show card xe luddy>\", \"query_knowledge_base\", \"['brand:luddy']\", \"action_query_babe_kb\"], [\"ok, m\\u00ecnh l\\u1ea5y c\\u00e1i n\\u00e0y nh\\u00e9\", \"\\\"C\\u1ea3m \\u01a1n b\\u1ea1n! B\\u1ea1n vui l\\u00f2ng \\u0111i\\u1ec1n th\\u00f4ng tin v\\u00e0o M\\u1eabu \\u0111\\u1eb7t h\\u00e0ng gi\\u00fap shop nh\\u00e9!\\n<Show ra c\\u00e1i b\\u1ea3ng m\\u1eabu \\u0111\\u1eb7t h\\u00e0ng: c\\u00f3 t\\u00ean s\\u1ea3n ph\\u1ea9m, cho kh\\u00e1ch t\\u00f9y ch\\u1ecdn s\\u1ed1 l\\u01b0\\u1ee3ng, m\\u00e0u s\\u1eafc...>\\n<C\\u00e1c th\\u00f4ng tin \\u0111\\u00e3 thu th\\u1eadp \\u0111c th\\u00ec t\\u1ef1 \\u0111i\\u1ec1n lu\\u00f4n, kh\\u00e1ch k ph\\u1ea3i \\u0111i\\u1ec1n n\\u1eefa>\\\"\", \"make_order\", \"['mention:c\\u00e1i n\\u00e0y']\", \"action_make_order\"], [\"ship cho m 1 xe t\\u1eadp \\u0111i s\\u01b0 t\\u1eed nh\\u00e9\", \"\\\"\\\"\\\"C\\u1ea3m \\u01a1n b\\u1ea1n! B\\u1ea1n vui l\\u00f2ng \\u0111i\\u1ec1n th\\u00f4ng tin v\\u00e0o M\\u1eabu \\u0111\\u1eb7t h\\u00e0ng gi\\u00fap shop nh\\u00e9!\\n<Show ra c\\u00e1i b\\u1ea3ng m\\u1eabu \\u0111\\u1eb7t h\\u00e0ng: c\\u00f3 t\\u00ean s\\u1ea3n ph\\u1ea9m, cho kh\\u00e1ch t\\u00f9y ch\\u1ecdn s\\u1ed1 l\\u01b0\\u1ee3ng, m\\u00e0u s\\u1eafc...>\\\"\\\"\\\"\\n<X\\u00e1c nh\\u1eadn> <H\\u1ee7y>\", \"query_knowledge_base\", \"['object_type:xe_tap_di,'type:s\\u01b0 t\\u1eed'] \", \"action_query_knowledge_base\"], [\"<X\\u00e1c nh\\u1eadn>\", \"C\\u00e1m \\u01a1n b\\u1ea1n \\u0111\\u00e3 mua h\\u00e0ng t\\u1ea1i shop, \\u0111\\u01a1n h\\u00e0ng s\\u1ebd \\u0111\\u01b0\\u1ee3c giao \\u0111\\u1ebfn 434 tr\\u1ea7n kh\\u00e1t ch\\u00e2n, 2 b\\u00e0 tr\\u01b0ng trong kho\\u1ea3ng 24 h \", \"query_knowledge_base\", null, \"action_query_knowledge_base\"], [\"hello\", \"Ch\\u00e0o b\\u1ea1n, m\\u00ecnh l\\u00e0 tr\\u1ee3 l\\u00fd \\u1ea3o c\\u1ee7a Shop G\\u1ea5u & B\\u00ed Ng\\u00f4, m\\u00ecnh gi\\u00fap g\\u00ec \\u0111\\u01b0\\u1ee3c b\\u1ea1n \\u1ea1?\", \"greet\", \"['brand:hello']\", \"utter_greet\"], [\"Alo, Shop cho m\\u00ecnh h\\u1ecfi ch\\u1eafn c\\u1eeda cho b\\u00e9 v\\u1edbi\", \"S\\u1ea3n ph\\u1ea9m  thanh ch\\u1eafn c\\u1eeda (thanh ch\\u1eafn c\\u1ea7u thang)  hi\\u1ec7n shop \\u0111ang c\\u00f3 gi\\u00e1: *699,000 VND (gi\\u00e1 g\\u1ed1c 998,000 VND), 448,400 VND (gi\\u00e1 g\\u1ed1c 590,000 VND), 499,000 VND (gi\\u00e1 g\\u1ed1c 800,000 VND), 580,000 VND (gi\\u00e1 g\\u1ed1c 800,000 VND)*.\\nB\\u1ea1n tham kh\\u1ea3o c\\u00e1c s\\u1ea3n ph\\u1ea9m sau nh\\u00e9 \\u1ea1:\\n<show card s\\u1ea3n ph\\u1ea9m>\", \"query_knowledge_base\", \"['object_type:thanh_chan_cua,']\", \"action_query_knowledge_base\"], [\"C\\u00e1i th\\u1ee9 2 k\\u00edch th\\u01b0\\u1edbc sao \\u1ea1\", \"S\\u1ea3n ph\\u1ea9m  thanh ch\\u1eafn c\\u1eeda (thanh ch\\u1eafn c\\u1ea7u thang) gi\\u00e1 448,400 VND (gi\\u00e1 g\\u1ed1c 590,000 VND) hi\\u1ec7n shop \\u0111ang c\\u00f3 k\\u00edch th\\u01b0\\u1edbc \\n<74x85x77cm> \\nM\\u1eddi b\\u1ea1n tham kh\\u1ea3o s\\u1ea3n ph\\u1ea9m \\u1ea1:\\n<show card s\\u1ea3n ph\\u1ea9m>\", \"query_knowledge_base\", \"['mention:2', 'attribute:size']\", \"action_query_babe_kb\"], [\"Shop cho e \\u0111\\u1eb7t 2 chi\\u1ebfc n\\u00e0y nh\\u00e9 \\u1ea1\\nhttps://scontent.xx.fbcdn.net/v/t1.15752-9/94119707_246999513317631_5493050639422324736_n.jpg?_nc_cat=102&_nc_sid=b96e70&_nc_ohc=Daeqj9YODcQAX-CFRwg&_nc_ad=z-m&_nc_cid=0&_nc_zor=9&_nc_ht=scontent.xx&oh=6f084e97b2a0525ba301c5e07ad4e1ca&oe=5EC0779C\\nhttps://scontent.xx.fbcdn.net/v/t1.15752-9/93565662_1081483932226317_4632993179384152064_n.jpg?_nc_cat=111&_nc_sid=b96e70&_nc_ohc=d4nkume4GwAAX_ITaqO&_nc_ad=z-m&_nc_cid=0&_nc_zor=9&_nc_ht=scontent.xx&oh=b89362cb2f5e3af20fdf2d6ca8be9a1b&oe=5EC202B9\", \"C\\u00f3 ph\\u1ea3i b\\u1ea1n \\u0111ang mu\\u1ed1n \\u0111\\u1eb7t h\\u00e0ng s\\u1ea3n ph\\u1ea9m sau \\u0111\\u00fang ko \\u1ea1:\\n< cardTh\\u1ea3m g\\u1ea5p XPE> < card Th\\u1ea3m x\\u1ed1p gh\\u00e9p 28 t\\u1ea5m INFANTINO>\\n<\\u0110\\u00fang><Sai>\", \"query_knowledge_base\", \"[\\\"url:['https://scontent.xx.fbcdn.net/v/t1.15752-9/94119707_246999513317631_5493050639422324736_n.jpg?_nc_cat=102&_nc_sid=b96e70&_nc_ohc=Daeqj9YODcQAX-CFRwg&_nc_ad=z-m&_nc_cid=0&_nc_zor=9&_nc_ht=scontent.xx&oh=6f084e97b2a0525ba301c5e07ad4e1ca&oe=5EC0779C', 'https://scontent.xx.fbcdn.net/v/t1.15752-9/93565662_1081483932226317_4632993179384152064_n.jpg?_nc_cat=111&_nc_sid=b96e70&_nc_ohc=d4nkume4GwAAX_ITaqO&_nc_ad=z-m&_nc_cid=0&_nc_zor=9&_nc_ht=scontent.xx&oh=b89362cb2f5e3af20fdf2d6ca8be9a1b&oe=5EC202B9']\\\", 'mention:chi\\u1ebfc n\\u00e0y']\", \"action_query_babe_kb\"], [\"<\\u0110\\u00fang>\", \"\\\"\\\"\\\"C\\u1ea3m \\u01a1n b\\u1ea1n! B\\u1ea1n vui l\\u00f2ng \\u0111i\\u1ec1n th\\u00f4ng tin v\\u00e0o M\\u1eabu \\u0111\\u1eb7t h\\u00e0ng gi\\u00fap shop nh\\u00e9!\\n<Show ra c\\u00e1i b\\u1ea3ng m\\u1eabu \\u0111\\u1eb7t h\\u00e0ng: c\\u00f3 t\\u00ean s\\u1ea3n ph\\u1ea9m, cho kh\\u00e1ch t\\u00f9y ch\\u1ecdn s\\u1ed1 l\\u01b0\\u1ee3ng, m\\u00e0u s\\u1eafc...>\\\"\\\"\\\"\\n<X\\u00e1c nh\\u1eadn> <H\\u1ee7y>\", \"query_knowledge_base\", null, \"action_query_babe_kb\"], [\"<H\\u1ee7y>\", \"B\\u1ea1n \\u0111\\u00e3 h\\u1ee7y \\u0111\\u01a1n h\\u00e0ng th\\u00e0nh c\\u00f4ng\", \"query_knowledge_base\", null, \"action_query_babe_kb\"], [\"Shop cho e \\u0111\\u1eb7t 2 chi\\u1ebfc n\\u00e0y nh\\u00e9 \\u1ea1\\nhttps://scontent.xx.fbcdn.net/v/t1.15752-9/94119707_246999513317631_5493050639422324736_n.jpg?_nc_cat=102&_nc_sid=b96e70&_nc_ohc=Daeqj9YODcQAX-CFRwg&_nc_ad=z-m&_nc_cid=0&_nc_zor=9&_nc_ht=scontent.xx&oh=6f084e97b2a0525ba301c5e07ad4e1ca&oe=5EC0779C\\nhttps://scontent.xx.fbcdn.net/v/t1.15752-9/93565662_1081483932226317_4632993179384152064_n.jpg?_nc_cat=111&_nc_sid=b96e70&_nc_ohc=d4nkume4GwAAX_ITaqO&_nc_ad=z-m&_nc_cid=0&_nc_zor=9&_nc_ht=scontent.xx&oh=b89362cb2f5e3af20fdf2d6ca8be9a1b&oe=5EC202B9\", \"C\\u00f3 ph\\u1ea3i b\\u1ea1n \\u0111ang mu\\u1ed1n \\u0111\\u1eb7t h\\u00e0ng s\\u1ea3n ph\\u1ea9m sau \\u0111\\u00fang ko \\u1ea1:\\n< cardTh\\u1ea3m g\\u1ea5p XPE> < card Th\\u1ea3m x\\u1ed1p gh\\u00e9p 28 t\\u1ea5m INFANTINO>\\n<\\u0110\\u00fang><Sai>\", \"query_knowledge_base\", \"[\\\"url:['https://scontent.xx.fbcdn.net/v/t1.15752-9/94119707_246999513317631_5493050639422324736_n.jpg?_nc_cat=102&_nc_sid=b96e70&_nc_ohc=Daeqj9YODcQAX-CFRwg&_nc_ad=z-m&_nc_cid=0&_nc_zor=9&_nc_ht=scontent.xx&oh=6f084e97b2a0525ba301c5e07ad4e1ca&oe=5EC0779C', 'https://scontent.xx.fbcdn.net/v/t1.15752-9/93565662_1081483932226317_4632993179384152064_n.jpg?_nc_cat=111&_nc_sid=b96e70&_nc_ohc=d4nkume4GwAAX_ITaqO&_nc_ad=z-m&_nc_cid=0&_nc_zor=9&_nc_ht=scontent.xx&oh=b89362cb2f5e3af20fdf2d6ca8be9a1b&oe=5EC202B9']\\\", 'mention:chi\\u1ebfc n\\u00e0y']\", \"action_query_babe_kb\"], [\"<Sai>\", \"- B\\u1ea1n vui l\\u00f2ng m\\u00f4 t\\u1ea3 r\\u00f5 mong mu\\u1ed1n c\\u1ee7a b\\u1ea1n ho\\u1eb7c chat v\\u1edbi nh\\u00e2n vi\\u00ean t\\u01b0 v\\u1ea5n nh\\u00e9!\\n<Show button [Chat v\\u1edbi nh\\u00e2n vi\\u00ean] >\", \"query_knowledge_base\", null, \"action_query_babe_kb\"], [\"/connect_employee\", null, \"connect_employee\", null, \"action_handover_to_inbox\"], [\"Bao nhi\\u00eau \\u1ea1?\", \"M\\u00ecnh ch\\u01b0a x\\u00e1c \\u0111\\u1ecbnh \\u0111\\u01b0\\u1ee3c m\\u00f3n \\u0111\\u1ed3 b\\u1ea1n h\\u1ecfi, b\\u1ea1n m\\u00f4 t\\u1ea3 r\\u00f5 h\\u01a1n gi\\u00fap m\\u00ecnh nh\\u00e9!\", \"query_knowledge_base\", \"['attribute:price']\", \"action_query_babe_kb\"], [\"Th\\u1ea3m \\u0111\\u00e0n umoo \\u00e1 b\", \"D\\u1ea1, s\\u1ea3n ph\\u1ea9m Th\\u1ea3m h\\u00e3ng s\\u1ea3n xu\\u1ea5t Umoo hi\\u1ec7n t\\u1ea1i b\\u00ean shop \\u0111ang t\\u1ea1m h\\u1ebft h\\u00e0ng \\u1ea1. B\\u1ea1n tham kh\\u1ea3o c\\u00e1c s\\u1ea3n ph\\u1ea9m kh\\u00e1c d\\u00e0nh cho b\\u00e9 nh\\u00e9!\", \"query_knowledge_base\", \"['object_type:tham', 'brand:umoo']\", \"action_query_babe_kb\"], [\"ok sh\", \"D\\u1ea1 v\\u00e2ng \\u1ea1!\", \"agree\", null, \"utter_agree\"], [\"https://scontent.xx.fbcdn.net/v/t1.15752-9/93771510_235191447698204_240353022788501504_n.jpg?_nc_cat=105&_nc_sid=b96e70&_nc_oc=AQlx2pVp0r7_f0RjNPCWbwr9XV9j6QbdsFeRGn-dAOQKhtQDKWCKnzalfU5cNEXNX56-SC0B2WDVVA4_PNa0axDZ&_nc_ad=z-m&_nc_cid=0&_nc_zor=9&_nc_ht=scontent.xx&oh=45f391b8434f15864356ad9c7abb704f&oe=5EC0C3B0\\nGi\\u00e1 s\\u00e1ch n\\u00e0y con ko shop\", \"S\\u1ea3n ph\\u1ea9m  Gi\\u00e1 s\\u00e1ch Hamitu  hi\\u1ec7n shop \\u0111ang c\\u00f3 gi\\u00e1: *790,000 VND (gi\\u00e1 g\\u1ed1c 790,000 VND)*.\\nB\\u1ea1n tham kh\\u1ea3o c\\u00e1c s\\u1ea3n ph\\u1ea9m sau nh\\u00e9 \\u1ea1:\", \"query_knowledge_base\", \"[\\\"url:['https://scontent.xx.fbcdn.net/v/t1.15752-9/93771510_235191447698204_240353022788501504_n.jpg?_nc_cat=105&_nc_sid=b96e70&_nc_oc=AQlx2pVp0r7_f0RjNPCWbwr9XV9j6QbdsFeRGn-dAOQKhtQDKWCKnzalfU5cNEXNX56-SC0B2WDVVA4_PNa0axDZ&_nc_ad=z-m&_nc_cid=0&_nc_zor=9&_nc_ht=scontent.xx&oh=45f391b8434f15864356ad9c7abb704f&oe=5EC0C3B0']\\\", 'attribute:price']\", \"action_query_babe_kb\"], [\"C\\u00f2n m\\u00e0u xanh ko shop\", \"S\\u1ea3n ph\\u1ea9m  Gi\\u00e1 s\\u00e1ch Hamitu  m\\u00e0u xanh hi\\u1ec7n c\\u00f2n h\\u00e0ng \\u1ea1.\\nB\\u1ea1n tham kh\\u1ea3o c\\u00e1c s\\u1ea3n ph\\u1ea9m sau nh\\u00e9 \\u1ea1:\", \"query_knowledge_base\", \"['color:m\\u00e0u xanh']\", \"action_query_babe_kb\"], [\"Ok thanks\", \"D\\u1ea1, c\\u1ea3m \\u01a1n \\u1ea1!\", \"thank\", \"[]\", \"utter_thank\"], [\"hi em\", \"Ch\\u00e0o b\\u1ea1n, m\\u00ecnh l\\u00e0 tr\\u1ee3 l\\u00fd \\u1ea3o c\\u1ee7a Shop G\\u1ea5u & B\\u00ed Ng\\u00f4, m\\u00ecnh gi\\u00fap g\\u00ec \\u0111\\u01b0\\u1ee3c b\\u1ea1n \\u1ea1?\", \"greet\", \"[]\", \"utter_greet\"], [\"a \\u0111\\u1eb7t xe n\\u00e0y lu\\u00f4n nh\\u00e9\\nhttps://scontent.xx.fbcdn.net/v/t1.15752-9/93426657_582665362349104_6117563872380452864_n.jpg?_nc_cat=111&_nc_sid=b96e70&_nc_ohc=9aDEp0XKqVoAX_rm0-p&_nc_ad=z-m&_nc_cid=0&_nc_zor=9&_nc_ht=scontent.xx&oh=a4d2c6178976a040c493e58775c20c02&oe=5EC02932\\nm\\u00e0u n\\u00e0y lu\\u00f4n nh\\u00e9\", \"C\\u00f3 ph\\u1ea3i b\\u1ea1n \\u0111ang mu\\u1ed1n \\u0111\\u1eb7t h\\u00e0ng s\\u1ea3n ph\\u1ea9m sau \\u0111\\u00fang ko \\u1ea1:\\n< card XE \\u0110\\u1ea0P C\\u00d3 M\\u00c1I CHE UMOO> \\n<\\u0110\\u00fang><Sai>\", \"query_knowledge_base\", \"[\\\"url:['https://scontent.xx.fbcdn.net/v/t1.15752-9/93426657_582665362349104_6117563872380452864_n.jpg?_nc_cat=111&_nc_sid=b96e70&_nc_ohc=9aDEp0XKqVoAX_rm0-p&_nc_ad=z-m&_nc_cid=0&_nc_zor=9&_nc_ht=scontent.xx&oh=a4d2c6178976a040c493e58775c20c02&oe=5EC02932']\\\", 'object_type:xe', 'mention:n\\u00e0y', 'attribute:color', 'mention:n\\u00e0y']\", \"action_query_babe_kb\"], [\"<\\u0110\\u00fang>\", \"\\\"\\\"\\\"C\\u1ea3m \\u01a1n b\\u1ea1n! B\\u1ea1n vui l\\u00f2ng \\u0111i\\u1ec1n th\\u00f4ng tin v\\u00e0o M\\u1eabu \\u0111\\u1eb7t h\\u00e0ng gi\\u00fap shop nh\\u00e9!\\n<Show ra c\\u00e1i b\\u1ea3ng m\\u1eabu \\u0111\\u1eb7t h\\u00e0ng: c\\u00f3 t\\u00ean s\\u1ea3n ph\\u1ea9m, cho kh\\u00e1ch t\\u00f9y ch\\u1ecdn s\\u1ed1 l\\u01b0\\u1ee3ng, m\\u00e0u s\\u1eafc...>\\\"\\\"\\\"\\n<X\\u00e1c nh\\u1eadn> <H\\u1ee7y>\", \"agree\", null, \"action_query_babe_kb\"], [\"<X\\u00e1c nh\\u1eadn>\", \"B\\u1ea1n \\u0111\\u00e3 \\u0111\\u1eb7t h\\u00e0ng th\\u00e0nh c\\u00f4ng, \\u0111\\u01a1n h\\u00e0ng s\\u1ebd \\u0111\\u01b0\\u1ee3c giao \\u0111\\u1ebfn 434 tkc trong kho\\u1ea3ng 24 h \\u1ea1\", \"agree\", \"[]\", \"utter_agree\"], [\"shop oi b\\u00e1o gi\\u00e1 e nh\\u00e9\", null, \"query_knowledge_base\", \"['attribute:price']\", \"action_query_babe_kb\"], [\"https://scontent.xx.fbcdn.net/v/t1.15752-9/93648340_253034409210291_8426945079947558912_n.jpg?_nc_cat=101&_nc_sid=b96e70&_nc_ohc=2G7vc-3J1KcAX-JFUES&_nc_ad=z-m&_nc_cid=0&_nc_zor=9&_nc_ht=scontent.xx&oh=874f23fb53a055d93df5efd471d8ca19&oe=5EC1E172\", \"D\\u1ea1, c\\u00f3 ph\\u1ea3i b\\u1ea1n mu\\u1ed1n h\\u1ecfi m\\u1ed9t trong c\\u00e1c s\\u1ea3n ph\\u1ea9m d\\u01b0\\u1edbi \\u0111\\u00e2y kh\\u00f4ng \\u1ea1?\\r\\n (Vui l\\u00f2ng \\u1ea5n ch\\u1ecdn 1 s\\u1ea3n ph\\u1ea9m)...\", \"send_link\", \"[\\\"url:['https://scontent.xx.fbcdn.net/v/t1.15752-9/93648340_253034409210291_8426945079947558912_n.jpg?_nc_cat=101&_nc_sid=b96e70&_nc_ohc=2G7vc-3J1KcAX-JFUES&_nc_ad=z-m&_nc_cid=0&_nc_zor=9&_nc_ht=scontent.xx&oh=874f23fb53a055d93df5efd471d8ca19&oe=5EC1E172']\\\"]\", \"action_handle_send_link_only\"], [\"/disagree{\\\"object_type\\\": null}\\r\\n\\r\\n\", \"B\\u1ea1n vui l\\u00f2ng m\\u00f4 t\\u1ea3 r\\u00f5 mong mu\\u1ed1n c\\u1ee7a b\\u1ea1n ho\\u1eb7c chat v\\u1edbi nh\\u00e2n vi\\u00ean t\\u01b0 v\\u1ea5n nh\\u00e9!\", \"deny_object_type\", \"['object_type:None']\", \"utter_disagree\"], [\"/connect_employee\", null, \"connect_employee\", null, \"action_handover_to_inbox\"], [\"shop \\u01a1i\\nhttps://scontent.xx.fbcdn.net/v/t1.15752-9/93255120_1079083369126985_2667434300114206720_n.jpg?_nc_cat=103&_nc_sid=b96e70&_nc_ohc=dk1p7EdIWjMAX_wg9sH&_nc_ad=z-m&_nc_cid=0&_nc_zor=9&_nc_ht=scontent.xx&oh=9e16ba685cbda443a28e7671ce23d47c&oe=5EC1B4BD\\nset m\\u00e0u xanh nhiu \\u1ea1\", \"S\\u1ea3n ph\\u1ea9m  B\\u1ed9 \\u0111\\u1ed3 ch\\u01a1i nh\\u00e0 b\\u1ebfp th\\u00f4ng minh m\\u00e0u xanh hi\\u1ec7n shop \\u0111ang c\\u00f3 gi\\u00e1: *790,000 VND (gi\\u00e1 g\\u1ed1c 790,000 VND)*.\\nB\\u1ea1n tham kh\\u1ea3o c\\u00e1c s\\u1ea3n ph\\u1ea9m sau nh\\u00e9 \\u1ea1:\\n<show card sp>\", \"query_knowledge_base\", \"[\\\"url:['https://scontent.xx.fbcdn.net/v/t1.15752-9/93255120_1079083369126985_2667434300114206720_n.jpg?_nc_cat=103&_nc_sid=b96e70&_nc_ohc=dk1p7EdIWjMAX_wg9sH&_nc_ad=z-m&_nc_cid=0&_nc_zor=9&_nc_ht=scontent.xx&oh=9e16ba685cbda443a28e7671ce23d47c&oe=5EC1B4BD']\\\", 'color:m\\u00e0u xanh', 'attribute:price']\", \"action_query_babe_kb\"], [\"L\\u00e0m b\\u1eb1ng nh\\u1ef1a \\u00e0 b\\u1ea1n\", \"S\\u1ea3n ph\\u1ea9m  B\\u1ed9 \\u0111\\u1ed3 ch\\u01a1i nh\\u00e0 b\\u1ebfp th\\u00f4ng minh \\u0111\\u01b0\\u1ee3c l\\u00e0m t\\u1eeb ch\\u1ea5t li\\u1ec7u Nh\\u1ef1a \\u1ea1\", \"query_knowledge_base\", \"['material:b\\u1eb1ng nh\\u1ef1a']\", \"action_query_babe_kb\"], [\"thank shop\", \"D\\u1ea1,v\\u00e2ng \\u1ea1\", \"thank\", null, \"utter_thank\"], [\"B\\u00e1o gi\\u00e1 gi\\u00fap m\\u00ecnh xe n\\u00e0y nh\\u00e9\\nhttps://scontent.xx.fbcdn.net/v/t1.15752-9/94473738_228765461534907_3682761519461826560_n.jpg?_nc_cat=100&_nc_sid=b96e70&_nc_ohc=uDLcqJEOolcAX-GG_Tc&_nc_ad=z-m&_nc_cid=0&_nc_zor=9&_nc_ht=scontent.xx&oh=151f6463223d298d3adaa6a3806487c0&oe=5EC0F060\", \"S\\u1ea3n ph\\u1ea9m  Xe ch\\u00f2i ch\\u00e2n c\\u00f3 b\\u00e0n \\u0111\\u1ea1p cao c\\u1ea5p Motion  hi\\u1ec7n shop \\u0111ang c\\u00f3 gi\\u00e1: *389,400 VND (gi\\u00e1 g\\u1ed1c 590,000 VND)*.\\nB\\u1ea1n tham kh\\u1ea3o c\\u00e1c s\\u1ea3n ph\\u1ea9m sau nh\\u00e9 \\u1ea1:\", \"query_knowledge_base\", \"[\\\"url:['https://scontent.xx.fbcdn.net/v/t1.15752-9/94473738_228765461534907_3682761519461826560_n.jpg?_nc_cat=100&_nc_sid=b96e70&_nc_ohc=uDLcqJEOolcAX-GG_Tc&_nc_ad=z-m&_nc_cid=0&_nc_zor=9&_nc_ht=scontent.xx&oh=151f6463223d298d3adaa6a3806487c0&oe=5EC0F060']\\\", 'attribute:price', 'object_type:xe', 'mention:n\\u00e0y']\", \"action_query_babe_kb\"], [\"Xe n\\u00e0y cho b\\u00e9 t\\u1eeb m\\u1ea5y tu\\u1ed5i ha b\", \"S\\u1ea3n ph\\u1ea9m  Xe ch\\u00f2i ch\\u00e2n c\\u00f3 b\\u00e0n \\u0111\\u1ea1p cao c\\u1ea5p Motion  hi\\u1ec7n shop \\u0111ang c\\u00f3 \\u0111\\u1ed9 tu\\u1ed5i s\\u1eed d\\u1ee5ng: *0 - 36 th\\u00e1ng*.\\n\", \"query_knowledge_base\", \"['object_type:xe', 'mention:n\\u00e0y', 'attribute:age_of_use']\", \"action_query_babe_kb\"], [\"N\\u01b0\\u1edbc n\\u00e0o s\\u1ea3n xu\\u1ea5t v\\u1eady b\\u1ea1n\", \"S\\u1ea3n ph\\u1ea9m  Xe ch\\u00f2i ch\\u00e2n c\\u00f3 b\\u00e0n \\u0111\\u1ea1p cao c\\u1ea5p Motion c\\u00f3 xu\\u1ea5t x\\u1ee9 t\\u1eeb Trung Qu\\u1ed1c \\u1ea1\", \"query_knowledge_base\", \"['attribute:origin']\", \"action_query_babe_kb\"], [\"shop \\u01a1i\", \"Ch\\u00e0o b\\u1ea1n, m\\u00ecnh l\\u00e0 tr\\u1ee3 l\\u00fd \\u1ea3o c\\u1ee7a Shop G\\u1ea5u & B\\u00ed Ng\\u00f4, m\\u00ecnh gi\\u00fap g\\u00ec \\u0111\\u01b0\\u1ee3c b\\u1ea1n \\u1ea1?\", \"greet\", null, \"utter_greet\"], [\"https://scontent.xx.fbcdn.net/v/t1.15752-9/93422728_2617871585161789_4870721839715844096_n.jpg?_nc_cat=110&_nc_sid=b96e70&_nc_ohc=0zczYbPpRJAAX_ADWi8&_nc_ad=z-m&_nc_cid=0&_nc_zor=9&_nc_ht=scontent.xx&oh=582c071897ee02dc5d94c30d6e640cb9&oe=5EBEDA17\", \"B\\u1ea1n \\u0111ang t\\u00ecm ki\\u1ebfm th\\u00f4ng tin g\\u00ec \\u1ea1?\", \"send_link\", \"[\\\"url:['https://scontent.xx.fbcdn.net/v/t1.15752-9/93422728_2617871585161789_4870721839715844096_n.jpg?_nc_cat=110&_nc_sid=b96e70&_nc_ohc=0zczYbPpRJAAX_ADWi8&_nc_ad=z-m&_nc_cid=0&_nc_zor=9&_nc_ht=scontent.xx&oh=582c071897ee02dc5d94c30d6e640cb9&oe=5EBEDA17']\\\"]\", \"action_handle_send_link_only\"], [\"Bn v\\u1eady s\", \"S\\u1ea3n ph\\u1ea9m  XE \\u0110\\u1ea0P C\\u00d3 M\\u00c1I CHE UMOO  hi\\u1ec7n shop \\u0111ang c\\u00f3 gi\\u00e1: *1,148,000 VND (gi\\u00e1 g\\u1ed1c 2,800,000 VND)*.\\nB\\u1ea1n tham kh\\u1ea3o c\\u00e1c s\\u1ea3n ph\\u1ea9m sau nh\\u00e9 \\u1ea1:\\n<show card sp>\", \"query_knowledge_base\", \"['attribute:price']\", \"action_query_babe_kb\"], [\"tr\\u1ecdng l\\u01b0\\u1ee3ng xe bn \\u1ea1\", \"S\\u1ea3n ph\\u1ea9m  XE \\u0110\\u1ea0P C\\u00d3 M\\u00c1I CHE UMOO c\\u00f3 tr\\u1ecdng l\\u01b0\\u1ee3ng 3,6 kg \\u1ea1\", \"query_knowledge_base\", \"['attribute:weight']\", \"action_query_babe_kb\"], [\"Cho m\\u00ecnh xin link shopee\", \"S\\u1ea3n ph\\u1ea9m  XE \\u0110\\u1ea0P C\\u00d3 M\\u00c1I CHE UMOO c\\u00f3 link shopee sau:\\n<link shopee>\", \"query_knowledge_base\", \"['attribute:link']\", \"action_query_babe_kb\"], [\"B\\u1ed9 n\\u00e0y c\\u00f3 g\\u1ea5p l\\u1ea1i dc k shop\", \"M\\u00ecnh ch\\u01b0a x\\u00e1c \\u0111\\u1ecbnh \\u0111\\u01b0\\u1ee3c m\\u00f3n \\u0111\\u1ed3 b\\u1ea1n h\\u1ecfi, b\\u1ea1n m\\u00f4 t\\u1ea3 r\\u00f5 h\\u01a1n gi\\u00fap m\\u00ecnh nh\\u00e9!\", \"handover_to_inbox\", \"['mention:b\\u1ed9 n\\u00e0y']\", \"action_handover_to_inbox\"], [\"https://scontent.fhan1-1.fna.fbcdn.net/v/t1.15752-0/p280x280/94247169_518496298833739_4742785827803758592_n.jpg?_nc_cat=106&_nc_sid=b96e70&_nc_ohc=tIQpyBHqGKcAX_YGh_a&_nc_ht=scontent.fhan1-1.fna&_nc_tp=6&oh=3141a0925467d595ddf7cb2d28d75d28&oe=5EC24DBE\\nhttps://scontent.fhan1-1.fna.fbcdn.net/v/t1.15752-0/p280x280/93419718_261010215057212_4518874244767023104_n.jpg?_nc_cat=104&_nc_sid=b96e70&_nc_ohc=EVuxAqLJPbkAX-2BWJl&_nc_ht=scontent.fhan1-1.fna&_nc_tp=6&oh=08ddddefc4c435796d90f76c1ab9e8b3&oe=5EC5835B\", \"S\\u1ea3n ph\\u1ea9m abc_xyz c\\u00f3 th\\u1ec3 g\\u1ea5p g\\u1ecdn \\u1ea1!\", \"query_knowledge_base\", \"[\\\"url:['https://scontent.fhan1-1.fna.fbcdn.net/v/t1.15752-0/p280x280/94247169_518496298833739_4742785827803758592_n.jpg?_nc_cat=106&_nc_sid=b96e70&_nc_ohc=tIQpyBHqGKcAX_YGh_a&_nc_ht=scontent.fhan1-1.fna&_nc_tp=6&oh=3141a0925467d595ddf7cb2d28d75d28&oe=5EC24DBE', 'https://scontent.fhan1-1.fna.fbcdn.net/v/t1.15752-0/p280x280/93419718_261010215057212_4518874244767023104_n.jpg?_nc_cat=104&_nc_sid=b96e70&_nc_ohc=EVuxAqLJPbkAX-2BWJl&_nc_ht=scontent.fhan1-1.fna&_nc_tp=6&oh=08ddddefc4c435796d90f76c1ab9e8b3&oe=5EC5835B']\\\"]\", \"action_query_babe_kb\"], [\"shop \\u01a1i\", \"Ch\\u00e0o b\\u1ea1n, m\\u00ecnh l\\u00e0 tr\\u1ee3 l\\u00fd \\u1ea3o c\\u1ee7a Shop G\\u1ea5u & B\\u00ed Ng\\u00f4, m\\u00ecnh gi\\u00fap g\\u00ec \\u0111\\u01b0\\u1ee3c b\\u1ea1n \\u1ea1?\", \"greet\", null, \"utter_greet\"], [\"https://scontent.xx.fbcdn.net/v/t1.15752-9/93441614_838087866689750_1344649905557209088_n.jpg?_nc_cat=104&_nc_sid=b96e70&_nc_ohc=-Pf6gZpnxUgAX-Vpbkx&_nc_ad=z-m&_nc_cid=0&_nc_zor=9&_nc_ht=scontent.xx&oh=85b3f6a0e8f8a803032f798d945c239f&oe=5EBCD83B\", \"B\\u1ea1n \\u0111ang t\\u00ecm ki\\u1ebfm th\\u00f4ng tin g\\u00ec \\u1ea1?\", \"send_link\", \"[\\\"url:['https://scontent.xx.fbcdn.net/v/t1.15752-9/93441614_838087866689750_1344649905557209088_n.jpg?_nc_cat=104&_nc_sid=b96e70&_nc_ohc=-Pf6gZpnxUgAX-Vpbkx&_nc_ad=z-m&_nc_cid=0&_nc_zor=9&_nc_ht=scontent.xx&oh=85b3f6a0e8f8a803032f798d945c239f&oe=5EBCD83B']\\\"]\", \"action_handle_send_link_only\"], [\"Cho e gi\\u00e1 nh\\u00e9\", \"S\\u1ea3n ph\\u1ea9m B\\u1ed9 \\u0111\\u1ed3 ch\\u01a1i nh\\u00e0 b\\u1ebfp th\\u00f4ng minh g\\u1ed3m 2 size \\nSize nh\\u1ecf k\\u00edch th\\u01b0\\u1edbc  57x30x77cm gi\\u00e1 KM ch\\u1ec9 590,000 VND\\nSize to k\\u00edch th\\u01b0\\u1edbc 51x32x100cm Gi\\u00e1 Km ch\\u1ec9 790,000 VND\\nB\\u1ea1n tham kh\\u1ea3o c\\u00e1c s\\u1ea3n ph\\u1ea9m sau nh\\u00e9 \\u1ea1:\\n<Show card sp>\", \"query_knowledge_base\", \"['attribute:price']\", \"action_query_babe_kb\"], [\"shop \\u01a1i\", \"Ch\\u00e0o b\\u1ea1n, m\\u00ecnh l\\u00e0 tr\\u1ee3 l\\u00fd \\u1ea3o c\\u1ee7a Shop G\\u1ea5u & B\\u00ed Ng\\u00f4, m\\u00ecnh gi\\u00fap g\\u00ec \\u0111\\u01b0\\u1ee3c b\\u1ea1n \\u1ea1?\", \"greet\", null, \"utter_greet\"], [\"Shop c\\u00f2n b\\u1ed9 c\\u00e2u c\\u00e1 k\", \"D\\u1ea1 m\\u00ecnh c\\u00f2n \\u1ea1\\nS\\u1ea3n ph\\u1ea9m B\\u1ed9 c\\u00e2u c\\u00e1 Toys House c\\u00f3 \\u0111\\u00e8n, nh\\u1ea1c ch\\u00ednh h\\u00e3ng hi\\u1ec7n shop c\\u00f3 gi\\u00e1 l\\u00e0 300,000 VND\\nB\\u1ea1n vui l\\u00f2ng xe th\\u00f4ng tin s\\u1ea3n ph\\u1ea9m t\\u1ea1i \\u0111\\u00e2y \\u1ea1:\\n<show card sp>\", \"query_knowledge_base\", \"['object_type:bo_cau_ca']\", \"action_query_babe_kb\"], [\"https://scontent.xx.fbcdn.net/v/t1.15752-9/93418428_2960774930681647_6163693023730335744_n.jpg?_nc_cat=106&_nc_sid=b96e70&_nc_ohc=JB_DiuoYI7oAX-7VvxC&_nc_ad=z-m&_nc_cid=0&_nc_zor=9&_nc_ht=scontent.xx&oh=0dbb7a6e70ca829a178c063d9fc8d1b9&oe=5EBEAFDC\", \"B\\u1ea1n \\u0111ang t\\u00ecm ki\\u1ebfm th\\u00f4ng tin g\\u00ec \\u1ea1?\", \"send_link\", \"[\\\"url:['https://scontent.xx.fbcdn.net/v/t1.15752-9/93418428_2960774930681647_6163693023730335744_n.jpg?_nc_cat=106&_nc_sid=b96e70&_nc_ohc=JB_DiuoYI7oAX-7VvxC&_nc_ad=z-m&_nc_cid=0&_nc_zor=9&_nc_ht=scontent.xx&oh=0dbb7a6e70ca829a178c063d9fc8d1b9&oe=5EBEAFDC']\\\"]\", \"action_handle_send_link_only\"], [\"Bnhieu z\", \"S\\u1ea3n ph\\u1ea9m Xe \\u0111\\u1ea1p c\\u00f3 m\\u00e1i che Umoo hi\\u1ec7n shop \\u0111ang c\\u00f3 gi\\u00e1: 2,800,000 VND (gi\\u00e1 g\\u1ed1c 2,800,000 VND)\\nB\\u1ea1n tham kh\\u1ea3o s\\u1ea3n ph\\u1ea9m sau nh\\u00e9 \\u1ea1:\\n<show card sp>\", \"query_knowledge_base\", \"['attribute:price']\", \"action_query_babe_kb\"], [\"Xe umoo th\\u00e1o ra thanh xe \\u0111ap 3 banh nh\\u01b0 nadle dc ko \\u1ea1\", \"Handover\", \"handover_to_inbox\", \"['brand:umoo', 'brand:nadle']\", \"action_handover_to_inbox\"], [\"https://scontent.xx.fbcdn.net/v/t1.15752-9/93253452_2682930575263004_7855235270143115264_n.jpg?_nc_cat=105&_nc_sid=b96e70&_nc_ohc=7jkZ9XfKxBwAX_UAxjX&_nc_ad=z-m&_nc_cid=0&_nc_zor=9&_nc_ht=scontent.xx&oh=825bee90f4f292788d9a5972ee3450dd&oe=5EBBD6BC\", \"B\\u1ea1n \\u0111ang t\\u00ecm ki\\u1ebfm th\\u00f4ng tin g\\u00ec \\u1ea1?\", \"send_link\", \"[\\\"url:['https://scontent.xx.fbcdn.net/v/t1.15752-9/93253452_2682930575263004_7855235270143115264_n.jpg?_nc_cat=105&_nc_sid=b96e70&_nc_ohc=7jkZ9XfKxBwAX_UAxjX&_nc_ad=z-m&_nc_cid=0&_nc_zor=9&_nc_ht=scontent.xx&oh=825bee90f4f292788d9a5972ee3450dd&oe=5EBBD6BC']\\\"]\", \"action_handle_send_link_only\"], [\"https://scontent.xx.fbcdn.net/v/t1.15752-9/93253452_2682930575263004_7855235270143115264_n.jpg?_nc_cat=105&_nc_sid=b96e70&_nc_ohc=7jkZ9XfKxBwAX_UAxjX&_nc_ad=z-m&_nc_cid=0&_nc_zor=9&_nc_ht=scontent.xx&oh=825bee90f4f292788d9a5972ee3450dd&oe=5EBBD6BC\", \"B\\u1ea1n \\u0111ang t\\u00ecm ki\\u1ebfm th\\u00f4ng tin g\\u00ec \\u1ea1?\", \"send_link\", \"[\\\"url:['https://scontent.xx.fbcdn.net/v/t1.15752-9/93253452_2682930575263004_7855235270143115264_n.jpg?_nc_cat=105&_nc_sid=b96e70&_nc_ohc=7jkZ9XfKxBwAX_UAxjX&_nc_ad=z-m&_nc_cid=0&_nc_zor=9&_nc_ht=scontent.xx&oh=825bee90f4f292788d9a5972ee3450dd&oe=5EBBD6BC']\\\"]\", \"action_handle_send_link_only\"], [\"M\\u00ecnh mu\\u1ed1n h\\u1ecfi 2c\\u00e1i n\\u00f4i n\\u00e0y l\\u00e0 1 ah\", \"D\\u1ea1, hai s\\u1ea3n ph\\u1ea9m tr\\u00ean kh\\u00e1c nhau, b\\u1ea1n c\\u00f3 th\\u1ec3 tham kh\\u1ea3o 2 s\\u1ea3n ph\\u1ea9m \\u0111\\u00f3 t\\u1ea1i \\u0111\\u00e2y \\u1ea1:\\n<show card sp 2 sp \\u0111\\u00f3>\", \"query_knowledge_base\", \"['object_type:noi', 'mention:n\\u00e0y']\", \"action_query_babe_kb\"], [\"/query_knowledge_base{\\\"url\\\": \\\"https://shopee.vn/product/36371562/6418671728\\\", \\\"product_id\\\": \\\"https://shopee.vn/product/36371562/6418671728\\\"}\", \"D\\u1ea1 m\\u1eddi b\\u1ea1n tham kh\\u1ea3o s\\u1ea3n ph\\u1ea9m hi\\u1ec7n c\\u00f3 t\\u1ea1i shop nh\\u00e9!\", \"query_knowledge_base\", \"['url:https://shopee.vn/product/36371562/6418671728', 'product_id:https://shopee.vn/product/36371562/6418671728']\", \"action_query_babe_kb\"], [\"Xe n\\u00e0y th\\u00ec bn \\u1ea1?\\nhttps://scontent.xx.fbcdn.net/v/t1.15752-9/92663760_242313147139819_180836660240449536_n.jpg?_nc_cat=108&_nc_sid=b96e70&_nc_oc=AQlkEzFcevEZjlSfmMVghzOFCJ91RNxuLFmnj-LZ115MgaQQpCgvQftExyz9V3ToMt-zJcTykpcg-9VknQVe51f6&_nc_ad=z-m&_nc_cid=0&_nc_zor=9&_nc_ht=scontent.xx&oh=a2c61b4882879e5c266eff69947cb40d&oe=5EBD5657\", \"D\\u1ea1, c\\u00f3 ph\\u1ea3i b\\u1ea1n mu\\u1ed1n h\\u1ecfi m\\u1ed9t trong c\\u00e1c s\\u1ea3n ph\\u1ea9m d\\u01b0\\u1edbi \\u0111\\u00e2y kh\\u00f4ng \\u1ea1?\\n (Vui l\\u00f2ng \\u1ea5n ch\\u1ecdn 1 s\\u1ea3n ph\\u1ea9m)...\", \"query_knowledge_base\", \"[\\\"url:['https://scontent.xx.fbcdn.net/v/t1.15752-9/92663760_242313147139819_180836660240449536_n.jpg?_nc_cat=108&_nc_sid=b96e70&_nc_oc=AQlkEzFcevEZjlSfmMVghzOFCJ91RNxuLFmnj-LZ115MgaQQpCgvQftExyz9V3ToMt-zJcTykpcg-9VknQVe51f6&_nc_ad=z-m&_nc_cid=0&_nc_zor=9&_nc_ht=scontent.xx&oh=a2c61b4882879e5c266eff69947cb40d&oe=5EBD5657']\\\", 'object_type:xe', 'mention:n\\u00e0y', 'attribute:price']\", \"action_query_babe_kb\"], [\"/query_knowledge_base{\\\"url\\\": \\\"https://shopee.vn/product/36371562/3103025341\\\", \\\"product_id\\\": \\\"https://shopee.vn/product/36371562/3103025341\\\"}\", \"S\\u1ea3n ph\\u1ea9m Xe NADLE 3 in 1: Xe \\u0111\\u1ea9y - Ch\\u00f2i ch\\u00e2n - Xe \\u0111\\u1ea1p hi\\u1ec7n shop \\u0111ang c\\u00f3 gi\\u00e1: *2,450,000 VND (gi\\u00e1 g\\u1ed1c 2,450,000 VND), 2,650,000 VND (gi\\u00e1 g\\u1ed1c 2,650,000 VND), 1,550,000 VND (gi\\u00e1 g\\u1ed1c 2,650,000 VND)*.\\r\\nB\\u1ea1n tham kh\\u1ea3o c\\u00e1c s\\u1ea3n ph\\u1ea9m sau nh\\u00e9 \\u1ea1:\", \"query_knowledge_base\", \"['url:https://shopee.vn/product/36371562/3103025341', 'product_id:https://shopee.vn/product/36371562/3103025341']\", \"action_query_babe_kb\"], [\"https://scontent.xx.fbcdn.net/v/t1.15752-9/94088606_259054638553614_1365453125116231680_n.jpg?_nc_cat=102&_nc_sid=b96e70&_nc_ohc=0UI6w3AAdH4AX-0aWZz&_nc_ad=z-m&_nc_cid=0&_nc_zor=9&_nc_ht=scontent.xx&oh=e45937d7e7c56fde3c8930b2dc0943ad&oe=5EBF6B41\", \"B\\u1ea1n \\u0111ang t\\u00ecm ki\\u1ebfm th\\u00f4ng tin g\\u00ec \\u1ea1?\", \"send_link\", \"[\\\"url:['https://scontent.xx.fbcdn.net/v/t1.15752-9/94088606_259054638553614_1365453125116231680_n.jpg?_nc_cat=102&_nc_sid=b96e70&_nc_ohc=0UI6w3AAdH4AX-0aWZz&_nc_ad=z-m&_nc_cid=0&_nc_zor=9&_nc_ht=scontent.xx&oh=e45937d7e7c56fde3c8930b2dc0943ad&oe=5EBF6B41']\\\"]\", \"action_handle_send_link_only\"], [\"Bn em oi\\nC\\u00f3 m\\u00e0u kh\\u00e1c ko e\", \"S\\u1ea3n ph\\u1ea9m B\\u00e0n gh\\u1ebf \\u0111a n\\u0103ng Lego Holla hi\\u1ec7n shop \\u0111ang c\\u00f3 gi\\u00e1: *1,400,000 VND (gi\\u00e1 g\\u1ed1c 1,400,000 VND)\\nB\\u1ea1n tham kh\\u1ea3o c\\u00e1c s\\u1ea3n ph\\u1ea9m sau nh\\u00e9 \\u1ea1:\\n<show card sp>\\n\\nS\\u1ea3n ph\\u1ea9m B\\u00e0n gh\\u1ebf \\u0111a n\\u0103ng Lego Holla hi\\u1ec7n shop \\u0111ang c\\u00f3 c\\u00e1c m\\u1eabu: m\\u1eabu G\\u1ea5u v\\u00e0 m\\u1eabu Th\\u1ecf\\nB\\u1ea1n tham kh\\u1ea3o c\\u00e1c s\\u1ea3n ph\\u1ea9m sau nh\\u00e9 \\u1ea1:\\r\\n<show card sp>\", \"query_knowledge_base\", \"['attribute:price', 'attribute:color']\", \"action_query_babe_kb\"], [\"B \\u01a1i k\\u1ec7 s\\u1eafp v\\u1ec1 ch\\u01b0a b\", \"D\\u1ea1 b\\u1ea1n mu\\u1ed1n h\\u1ecfi s\\u1ea3n ph\\u1ea9m n\\u00e0o trong c\\u00e1c s\\u1ea3n ph\\u1ea9m d\\u01b0\\u1edbi \\u0111\\u00e2y \\u1ea1\\n<show card t\\u1ea5t c\\u1ea3 c\\u00e1c k\\u1ec7 m\\u00e0 shop b\\u00e1n k\\u00e8m button b\\u00ean d\\u01b0\\u1edbi \\\"C\\u00e1i n\\u00e0y\\\">\\n<button: Kh\\u00f4ng c\\u00f3 trong s\\u1ed1 n\\u00e0y>\", \"query_knowledge_base\", \"['object_type:ke']\", \"action_query_babe_kb\"], [\"/query_knowledge_base{\\\"url\\\": \\\"https://shopee.vn/product/36371562/3103025341\\\", \\\"product_id\\\": \\\"https://shopee.vn/product/36371562/3103025341\\\"}\", \"D\\u1ea1 s\\u1ea3n ph\\u1ea9m K\\u1ec7 \\u0111a n\\u0103ng cao c\\u1ea5p Pie shop d\\u1ef1 t\\u00ednh s\\u1ebd v\\u1ec1 h\\u00e0ng v\\u00e0o ng\\u00e0y xx/xx \\u1ea1\\nB\\u1ea1n vui l\\u00f2ng xem c\\u00e1c s\\u1ea3n ph\\u1ea9m kh\\u00e1c c\\u1ee7a shop nh\\u00e9 \\u1ea1:\\n<show card c\\u00e1c sp t\\u01b0\\u01a1ng t\\u1ef1>\", \"query_knowledge_base\", \"['url:https://shopee.vn/product/36371562/3103025341', 'product_id:https://shopee.vn/product/36371562/3103025341']\", \"action_query_babe_kb\"], [\"ok shop\", \"Shop c\\u1ea3m \\u01a1n b\\u1ea1n!\", \"agree\", null, \"utter_agree\"], [\"shop \\u01a1i\", \"Ch\\u00e0o b\\u1ea1n, m\\u00ecnh l\\u00e0 tr\\u1ee3 l\\u00fd \\u1ea3o c\\u1ee7a Shop G\\u1ea5u & B\\u00ed Ng\\u00f4, m\\u00ecnh gi\\u00fap g\\u00ec \\u0111\\u01b0\\u1ee3c b\\u1ea1n \\u1ea1?\", \"greet\", null, \"utter_greet\"], [\"https://scontent.xx.fbcdn.net/v/t1.15752-9/93113313_1080458392352702_7732950842487078912_n.jpg?_nc_cat=110&_nc_sid=b96e70&_nc_ohc=VWiKd2ejLkwAX8ZSSsK&_nc_ad=z-m&_nc_cid=0&_nc_zor=9&_nc_ht=scontent.xx&oh=9f0283f10c9513441437fe7e7239b722&oe=5EBE3115\", \"B\\u1ea1n \\u0111ang t\\u00ecm ki\\u1ebfm th\\u00f4ng tin g\\u00ec \\u1ea1?\", \"send_link\", \"[\\\"url:['https://scontent.xx.fbcdn.net/v/t1.15752-9/93113313_1080458392352702_7732950842487078912_n.jpg?_nc_cat=110&_nc_sid=b96e70&_nc_ohc=VWiKd2ejLkwAX8ZSSsK&_nc_ad=z-m&_nc_cid=0&_nc_zor=9&_nc_ht=scontent.xx&oh=9f0283f10c9513441437fe7e7239b722&oe=5EBE3115']\\\"]\", \"action_handle_send_link_only\"], [\"Ch\\u00f3 n\\u00e0y n\\u00e0y gi\\u00e1 bao nhi\\u00eau v\\u1eady shop\", \"D\\u1ea1, c\\u00f3 ph\\u1ea3i b\\u1ea1n mu\\u1ed1n h\\u1ecfi m\\u1ed9t trong c\\u00e1c s\\u1ea3n ph\\u1ea9m d\\u01b0\\u1edbi \\u0111\\u00e2y kh\\u00f4ng \\u1ea1?\\n (Vui l\\u00f2ng \\u1ea5n ch\\u1ecdn 1 s\\u1ea3n ph\\u1ea9m)...\", \"query_knowledge_base\", \"['attribute:price']\", \"action_query_babe_kb\"], [\"H\\u1ebft h\\u00e0ng r\\u1ed3i h\\u1ea3 shop\", \"M\\u00ecnh ch\\u01b0a r\\u00f5 m\\u00f3n \\u0111\\u1ed3 b\\u1ea1n h\\u1ecfi, n\\u1ebfu c\\u00f3 trong danh s\\u00e1ch tr\\u00ean, b\\u1ea1n vui l\\u00f2ng ch\\u1ecdn s\\u1ea3n ph\\u1ea9m gi\\u00fap m\\u00ecnh nh\\u00e9.\", \"query_knowledge_base\", \"[]\", \"action_query_babe_kb\"], [\"/query_knowledge_base{\\\"url\\\": \\\"https://shopee.vn/product/36371562/3103025341\\\", \\\"product_id\\\": \\\"https://shopee.vn/product/36371562/3103025341\\\"}\", \"D\\u1ea1, s\\u1ea3n ph\\u1ea9m hi\\u1ec7n t\\u1ea1i b\\u00ean shop \\u0111ang t\\u1ea1m h\\u1ebft h\\u00e0ng \\u1ea1. B\\u1ea1n tham kh\\u1ea3o c\\u00e1c s\\u1ea3n ph\\u1ea9m kh\\u00e1c d\\u00e0nh cho b\\u00e9 nh\\u00e9!\", \"query_knowledge_base\", \"['url:https://shopee.vn/product/36371562/3103025341', 'product_id:https://shopee.vn/product/36371562/3103025341']\", \"action_query_babe_kb\"], [\"M\\u00ech ck r nh\\u00e9\\nhttps://scontent.xx.fbcdn.net/v/t1.15752-9/93636148_581283165927177_1218583943880638464_n.jpg?_nc_cat=107&_nc_sid=b96e70&_nc_ohc=v18UutxNnwkAX8l0irW&_nc_ad=z-m&_nc_cid=0&_nc_zor=9&_nc_ht=scontent.xx&oh=7374a7a5bb108982137dd407f074cced&oe=5EBC3E04\", \"C\\u1ea3m \\u01a1n b\\u1ea1n, nh\\u00e2n vi\\u00ean c\\u1ee7a shop s\\u1ebd x\\u00e1c nh\\u1eadn s\\u1edbm l\\u1ea1i \\u1ea1.\", \"confirm_transfer\", \"[\\\"url:['https://scontent.xx.fbcdn.net/v/t1.15752-9/93636148_581283165927177_1218583943880638464_n.jpg?_nc_cat=107&_nc_sid=b96e70&_nc_ohc=v18UutxNnwkAX8l0irW&_nc_ad=z-m&_nc_cid=0&_nc_zor=9&_nc_ht=scontent.xx&oh=7374a7a5bb108982137dd407f074cced&oe=5EBC3E04']\\\"]\", \"confirm_transfer\"], [\"Shop em o dau\", \"\\u0110\\u1ecba ch\\u1ec9 shop \\u1edf : s\\u1ed1 16 ng\\u00f5 124 \\u00c2u C\\u01a1, T\\u1ee9 li\\u00ean , T\\u00e2y H\\u1ed3 , H\\u00e0 N\\u1ed9i \\u1ea1\", \"ask_address\", \"[]\", \"action_ask_address\"], [\"B \\u01a1i k\\u1ec7 s\\u1eafp v\\u1ec1 ch\\u01b0a b\", \"D\\u1ea1 b\\u1ea1n mu\\u1ed1n h\\u1ecfi s\\u1ea3n ph\\u1ea9m n\\u00e0o trong c\\u00e1c s\\u1ea3n ph\\u1ea9m d\\u01b0\\u1edbi \\u0111\\u00e2y \\u1ea1\\n<ke> <k\\u1ec7 \\u0111\\u1ee9ng>\", \"query_knowledge_base\", \"['object_type:ke']\", \"action_query_babe_kb\"], [\"shop \\u01a1i\", \"Ch\\u00e0o b\\u1ea1n, m\\u00ecnh l\\u00e0 tr\\u1ee3 l\\u00fd \\u1ea3o c\\u1ee7a Shop G\\u1ea5u & B\\u00ed Ng\\u00f4, m\\u00ecnh gi\\u00fap g\\u00ec \\u0111\\u01b0\\u1ee3c b\\u1ea1n \\u1ea1?\", \"greet\", null, \"utter_greet\"], [\"https://scontent.xx.fbcdn.net/v/t1.15752-9/93441614_838087866689750_1344649905557209088_n.jpg?_nc_cat=104&_nc_sid=b96e70&_nc_ohc=-Pf6gZpnxUgAX-Vpbkx&_nc_ad=z-m&_nc_cid=0&_nc_zor=9&_nc_ht=scontent.xx&oh=85b3f6a0e8f8a803032f798d945c239f&oe=5EBCD83B\", \"B\\u1ea1n \\u0111ang t\\u00ecm ki\\u1ebfm th\\u00f4ng tin g\\u00ec \\u1ea1?\", \"send_link\", \"[\\\"url:['https://scontent.xx.fbcdn.net/v/t1.15752-9/93441614_838087866689750_1344649905557209088_n.jpg?_nc_cat=104&_nc_sid=b96e70&_nc_ohc=-Pf6gZpnxUgAX-Vpbkx&_nc_ad=z-m&_nc_cid=0&_nc_zor=9&_nc_ht=scontent.xx&oh=85b3f6a0e8f8a803032f798d945c239f&oe=5EBCD83B']\\\"]\", \"action_handle_send_link_only\"], [\"Cho e gi\\u00e1 nh\\u00e9\", \"S\\u1ea3n ph\\u1ea9m B\\u1ed9 \\u0111\\u1ed3 ch\\u01a1i nh\\u00e0 b\\u1ebfp th\\u00f4ng minh c\\u00f3 gi\\u00e1: 490.000 - 790.000 t\\u00f9y m\\u1eabu m\\u00e3 (k\\u00edch th\\u01b0\\u1edbc, m\\u00e0u s\\u1eafc...).\\nB\\u1ea1n tham kh\\u1ea3o c\\u00e1c s\\u1ea3n ph\\u1ea9m sau nh\\u00e9 \\u1ea1:\\n<Show card sp>\", \"query_knowledge_base\", \"['attribute:price']\", \"action_query_babe_kb\"], [\"https://scontent.xx.fbcdn.net/v/t1.15752-9/93888763_534820093897495_8873435174071697408_n.jpg?_nc_cat=106&_nc_sid=b96e70&_nc_ohc=FKWPkRS2YlUAX_Kn-nn&_nc_ad=z-m&_nc_cid=0&_nc_zor=9&_nc_ht=scontent.xx&oh=7e3aa2900cd80040c578cdc8cd99deef&oe=5EC130D5\", \"B\\u1ea1n \\u0111ang t\\u00ecm ki\\u1ebfm th\\u00f4ng tin g\\u00ec \\u1ea1?\", \"send_link\", \"[\\\"url:['https://scontent.xx.fbcdn.net/v/t1.15752-9/93888763_534820093897495_8873435174071697408_n.jpg?_nc_cat=106&_nc_sid=b96e70&_nc_ohc=FKWPkRS2YlUAX_Kn-nn&_nc_ad=z-m&_nc_cid=0&_nc_zor=9&_nc_ht=scontent.xx&oh=7e3aa2900cd80040c578cdc8cd99deef&oe=5EC130D5']\\\"]\", \"action_handle_send_link_only\"], [\"B\\u1ed9 n\\u00e0y gi\\u00e2 bn \\u1ea1 shop\", \"\\\"D\\u1ea1, c\\u00f3 ph\\u1ea3i b\\u1ea1n mu\\u1ed1n h\\u1ecfi m\\u1ed9t trong c\\u00e1c s\\u1ea3n ph\\u1ea9m d\\u01b0\\u1edbi \\u0111\\u00e2y kh\\u00f4ng \\u1ea1?\\n (Vui l\\u00f2ng \\u1ea5n ch\\u1ecdn 1 s\\u1ea3n ph\\u1ea9m)...\\\"\", \"query_knowledge_base\", \"['mention:b\\u1ed9 n\\u00e0y', 'attribute:price']\", \"action_query_babe_kb\"], [\"Lo\\u1ea1i n\\u00e0y bn v\\u1eady b\\u1ea1n\", \"M\\u00ecnh ch\\u01b0a x\\u00e1c \\u0111\\u1ecbnh \\u0111\\u01b0\\u1ee3c m\\u00f3n \\u0111\\u1ed3 b\\u1ea1n h\\u1ecfi, b\\u1ea1n m\\u00f4 t\\u1ea3 r\\u00f5 h\\u01a1n gi\\u00fap m\\u00ecnh nh\\u00e9!\", \"query_knowledge_base\", \"['mention:lo\\u1ea1i n\\u00e0y', 'attribute:price']\", \"action_query_babe_kb\"], [\"https://scontent.xx.fbcdn.net/v/t1.15752-9/93049946_266000034415184_8022889009304829952_n.jpg?_nc_cat=107&_nc_sid=b96e70&_nc_ohc=6H5qmCrlsTMAX_UxJKR&_nc_ad=z-m&_nc_cid=0&_nc_zor=9&_nc_ht=scontent.xx&oh=56bc309e3fb8f432e5605d1e1fd4a8e2&oe=5EB6DC2D\", \"S\\u1ea3n ph\\u1ea9m  B\\u1ea2NG V\\u1ebc HOLLA 2 in 1  hi\\u1ec7n shop \\u0111ang c\\u00f3 gi\\u00e1: 830,000 VND (gi\\u00e1 g\\u1ed1c 1,090,000 VND).\\nB\\u1ea1n tham kh\\u1ea3o s\\u1ea3n ph\\u1ea9m sau nh\\u00e9 \\u1ea1:\\n<show sp>\", \"send_link\", \"[\\\"url:['https://scontent.xx.fbcdn.net/v/t1.15752-9/93049946_266000034415184_8022889009304829952_n.jpg?_nc_cat=107&_nc_sid=b96e70&_nc_ohc=6H5qmCrlsTMAX_UxJKR&_nc_ad=z-m&_nc_cid=0&_nc_zor=9&_nc_ht=scontent.xx&oh=56bc309e3fb8f432e5605d1e1fd4a8e2&oe=5EB6DC2D']\\\"]\", \"action_query_babe_kb\"], [\"C\\u00f3 nh\\u1eefng m\\u00e0u g\\u00ec \\u1ea1 ?\", \"D\\u1ea1, B\\u1ea2NG V\\u1ebc HOLLA 2 in 1 hi\\u1ec7n c\\u00f3 c\\u00e1c m\\u00e0u: H\\u1ed3ng, Xanh\\n<Show card t\\u01b0\\u01a1ng \\u1ee9ng v\\u1edbi c\\u00e1c m\\u00e0u c\\u1ee7a s\\u1ea3n ph\\u1ea9m>\", \"query_knowledge_base\", \"['attribute:color']\", \"action_query_babe_kb\"], [\"\\u0110\\u1ec3 m\\u00ecnh tham kh\\u1ea3o th\\u00eam , c\\u00f3 g\\u00ec m\\u00ecnh b\\u00e1o s\\u1edbm\", null, \"handover_to_inbox\", null, \"action_handover_to_inbox\"], [\"Shop c\\u00f3 gh\\u1ebf nh\\u00fan k b\", \"S\\u1ea3n ph\\u1ea9m Gh\\u1ebf nh\\u00fan hi\\u1ec7n shop \\u0111ang c\\u00f3 c\\u00e1c s\\u1ea3n ph\\u1ea9m sau \\u1ea1:\\r\\n<show card c\\u00e1c s\\u1ea3n ph\\u1ea9m object_type ghe_nhun>\\n\", \"query_knowledge_base\", \"['object_type:ghe_nhun']\", \"action_query_babe_kb\"], [\"Shop \\u01a1i\", \"Ch\\u00e0o b\\u1ea1n, m\\u00ecnh l\\u00e0 tr\\u1ee3 l\\u00fd \\u1ea3o c\\u1ee7a Shop G\\u1ea5u & B\\u00ed Ng\\u00f4, m\\u00ecnh gi\\u00fap g\\u00ec \\u0111\\u01b0\\u1ee3c b\\u1ea1n \\u1ea1?\", \"greet\", \"[]\", \"utter_greet\"], [\"M\\u00ecnh mua b\\u1ed9 \\u0111\\u1ed3 ch\\u01a1i n\\u1ea5u \\u0103n cho b\\u00e9\\nHappy little chef\", \"S\\u1ea3n ph\\u1ea9m \\u0110\\u1ed3 ch\\u01a1i n\\u1ea5u \\u0103n hi\\u1ec7n shop \\u0111ang c\\u00f3 c\\u00e1c s\\u1ea3n ph\\u1ea9m sau \\u1ea1:\\n<show card c\\u00e1c s\\u1ea3n ph\\u1ea9m object_type do_choi_nau_an>\\n\", \"query_knowledge_base\", \"['object_type:do_choi_nau_an']\", \"action_query_babe_kb\"], [\"ok \\u1ea1\", \"V\\u00e2ng \\u1ea1!\", \"agree\", null, \"utter_agree\"], [\"Shop \\u01a1i\", \"Ch\\u00e0o b\\u1ea1n, m\\u00ecnh l\\u00e0 tr\\u1ee3 l\\u00fd \\u1ea3o c\\u1ee7a Shop G\\u1ea5u & B\\u00ed Ng\\u00f4, m\\u00ecnh gi\\u00fap g\\u00ec \\u0111\\u01b0\\u1ee3c b\\u1ea1n \\u1ea1?\", \"greet\", \"[]\", \"utter_greet\"], [\"C\\u00e1i thanh ch\\u1eafn c\\u1ea7u thang gi\\u00e1 bn v\\u1eady b\\u1ea1n\", \"S\\u1ea3n ph\\u1ea9m Thanh n\\u1ed1i ch\\u1eb7n hi\\u1ec7n shop \\u0111ang c\\u00f3 c\\u00e1c s\\u1ea3n ph\\u1ea9m sau \\u1ea1:\\n<show card c\\u00e1c s\\u1ea3n ph\\u1ea9m object_type thanh_noi_chan>\\n\", \"query_knowledge_base\", \"['object_type:thanh_noi_chan','attribute:price']\", \"action_query_babe_kb\"], [\"ok \\u1ea1\", \"V\\u00e2ng \\u1ea1!\", \"agree\", null, \"utter_agree\"], [\"g\\u1eedi \\u1ea3nh gi\\u00fap c \\u0111c ko\", \"M\\u00ecnh ch\\u01b0a x\\u00e1c \\u0111\\u1ecbnh \\u0111\\u01b0\\u1ee3c m\\u00f3n \\u0111\\u1ed3 b\\u1ea1n h\\u1ecfi, b\\u1ea1n m\\u00f4 t\\u1ea3 r\\u00f5 h\\u01a1n gi\\u00fap m\\u00ecnh nh\\u00e9!\", \"query_knowledge_base\", \"['attribute:image']\", \"action_query_babe_kb\"], [\"m c\\u1ea7n t\\u00ecm gh\\u1ebf \\u0103n cho b\\u00e9\", \"S\\u1ea3n ph\\u1ea9m Gh\\u1ebf \\u0102n hi\\u1ec7n shop \\u0111ang c\\u00f3 c\\u00e1c m\\u1ee9c gi\\u00e1 sau \\u1ea1:\\n<500-1M>....<Sao c\\u0169ng \\u0111\\u01b0\\u1ee3c!>\", \"query_knowledge_base\", \"['object_type:ghe_an']\", \"action_query_babe_kb\"], [\"Ch\\u00e0o shop\", \"Ch\\u00e0o b\\u1ea1n, m\\u00ecnh l\\u00e0 tr\\u1ee3 l\\u00fd \\u1ea3o c\\u1ee7a Shop G\\u1ea5u & B\\u00ed Ng\\u00f4, m\\u00ecnh gi\\u00fap g\\u00ec \\u0111\\u01b0\\u1ee3c b\\u1ea1n \\u1ea1?\", \"greet\", \"[]\", \"utter_greet\"], [\"Cho  m\\u00ecnh xin gi\\u00e1 m\\u00e1y pha s\\u1eefa b\\u00ean shop nh\\u00e9 \\u1ea1\", \"S\\u1ea3n ph\\u1ea9m  M\\u00e1y pha s\\u1eefa cao c\\u1ea5p Tiny Baby Formula (Nh\\u1eadt B\\u1ea3n)  hi\\u1ec7n shop \\u0111ang c\\u00f3 gi\\u00e1: *3,530,000 VND (gi\\u00e1 g\\u1ed1c 3,850,000 VND)*.\\nB\\u1ea1n tham kh\\u1ea3o c\\u00e1c s\\u1ea3n ph\\u1ea9m sau nh\\u00e9 \\u1ea1:\", \"query_knowledge_base\", \"['attribute:price', 'object_type:may_pha_sua']\", \"action_query_babe_kb\"], [\"Ch\\u00e0o shop\", \"Ch\\u00e0o b\\u1ea1n, m\\u00ecnh l\\u00e0 tr\\u1ee3 l\\u00fd \\u1ea3o c\\u1ee7a Shop G\\u1ea5u & B\\u00ed Ng\\u00f4, m\\u00ecnh gi\\u00fap g\\u00ec \\u0111\\u01b0\\u1ee3c b\\u1ea1n \\u1ea1?\", \"greet\", \"[]\", \"utter_greet\"], [\"Shop cho h\\u1ecfi c\\u00f3 b\\u00e1n gh\\u1ebf \\u0103n d\\u1eb7m cho tr\\u1ebb con kh\\u00f4ng\", \"Hi\\u1ec7n t\\u1ea1i s\\u1ea3n ph\\u1ea9m Gh\\u1ebf \\u0102n  shop \\u0111ang c\\u00f3 nh\\u1eefng *gi\\u00e1* sau \\u1ea1:\", \"query_knowledge_base\", \"['object_type:ghe_an']\", \"action_query_babe_kb\"], [\"/confirm_attribute_value{\\\"price\\\": \\\"500k - 1M\\\"}\", \"D\\u1ea1 m\\u1eddi b\\u1ea1n tham kh\\u1ea3o s\\u1ea3n ph\\u1ea9m hi\\u1ec7n c\\u00f3 t\\u1ea1i shop nh\\u00e9!\", \"confirm_attribute_value\", \"['price:500k - 1M']\", \"action_query_babe_kb\"], [\"T\\u00f4i mu\\u1ed1n mua lo\\u1ea1i 799k\", \"S\\u1ea3n ph\\u1ea9m  Gh\\u1ebf \\u0103n \\u0111a n\\u0103ng k\\u1ebft h\\u1ee3p xe k\\u00e9o MASTELA 1018 CH\\u00cdNH H\\u00c3NG gi\\u00e1 799k hi\\u1ec7n shop \\u0111ang c\\u00f3 gi\\u00e1: *799,000 VND (gi\\u00e1 g\\u1ed1c 1,300,000 VND)*.\\nB\\u1ea1n tham kh\\u1ea3o c\\u00e1c s\\u1ea3n ph\\u1ea9m sau nh\\u00e9 \\u1ea1:\", \"query_knowledge_base\", \"['price:799k']\", \"action_query_babe_kb\"], [\"C\\u00e1i n\\u00e0y 30kg c\\u00f3 ng\\u1ed3i \\u0111\\u01b0\\u1ee3c ko\", \"S\\u1ea3n ph\\u1ea9m  Gh\\u1ebf \\u0103n \\u0111a n\\u0103ng k\\u1ebft h\\u1ee3p xe k\\u00e9o MASTELA 1018 CH\\u00cdNH H\\u00c3NG c\\u00f3 tr\\u1ecdng t\\u1ea3i: 13kg \\u1ea1\\nB\\u1ea1n tham kh\\u1ea3o c\\u00e1c s\\u1ea3n ph\\u1ea9m sau nh\\u00e9 \\u1ea1:\\n<show card sp>\", \"query_knowledge_base\", \"['mention:c\\u00e1i n\\u00e0y', 'capacity:30kg']\", \"action_query_babe_kb\"], [\"ok shop\", \"V\\u00e2ng \\u1ea1!\", \"agree\", null, \"utter_agree\"], [\"C\\u00f3 freeship k an\\n\\u1ea0\\nShip hcm\", \"D\\u1ea1 b\\u1ea1n vui l\\u00f2ng ch\\u1edd trong v\\u00e0i ph\\u00fat, nh\\u00e2n vi\\u00ean s\\u1ebd tr\\u1ea3 l\\u1eddi b\\u1ea1n s\\u1edbm nh\\u1ea5t \\u1ea1\", \"handover_to_inbox\", \"[]\", \"action_handover_to_inbox\"], [\"D\\u1ea1,bao l\\u00e2u th\\u00ec bi\\u1ebft \\u0111c m\\u00ecnh c\\u00f3 \\u0111c nh\\u1eadn q\\u00e0 hay k \\u1ea1\", \"D\\u1ea1 b\\u1ea1n vui l\\u00f2ng ch\\u1edd trong v\\u00e0i ph\\u00fat, nh\\u00e2n vi\\u00ean s\\u1ebd tr\\u1ea3 l\\u1eddi b\\u1ea1n s\\u1edbm nh\\u1ea5t \\u1ea1\", \"handover_to_inbox\", \"[]\", \"action_handover_to_inbox\"], [\"https://scontent.xx.fbcdn.net/v/t1.15752-9/94342216_2472338469763544_5708094841569673216_n.jpg?_nc_cat=111&_nc_sid=b96e70&_nc_ohc=kg5-pAp7BTgAX-QEe_x&_nc_ad=z-m&_nc_cid=0&_nc_zor=9&_nc_ht=scontent.xx&oh=aeb84a7b6bfc81f1fdadcd81e0347482&oe=5EC8A82A\\nhttps://scontent.xx.fbcdn.net/v/t1.15752-9/94318161_887396588390390_8811840609993097216_n.jpg?_nc_cat=106&_nc_sid=b96e70&_nc_ohc=AWcLOmXmk3YAX-wKPHM&_nc_ad=z-m&_nc_cid=0&_nc_zor=9&_nc_ht=scontent.xx&oh=a19ee2c3acb264c574fb86ccd5539fac&oe=5EC6A253\\nhai m\\u00f3n n\\u00e0y gi\\u00e1 bnhieu \\u1ea1\", \"S\\u1ea3n ph\\u1ea9m B\\u1ed9 \\u0111\\u1ed3 ch\\u01a1i nh\\u00e0 b\\u1ebfp th\\u00f4ng minh hi\\u1ec7n shop \\u0111ang c\\u00f3 gi\\u00e1: 790000 VND (gi\\u00e1 g\\u1ed1c 790000 VND). B\\u1ea1n tham kh\\u1ea3o c\\u00e1c s\\u1ea3n ph\\u1ea9m sau nh\\u00e9 \\u1ea1:\\n<show card sp>\\n\\nS\\u1ea3n ph\\u1ea9m Xe ch\\u00f2i ch\\u00e2n ki\\u00eam xe l\\u1eafc cao c\\u1ea5p c\\u00f3 nh\\u1ea1c Holla hi\\u1ec7n shop \\u0111ang c\\u00f3 gi\\u00e1: *790,000 VND (gi\\u00e1 g\\u1ed1c 1,200,000 VND)*.\\nB\\u1ea1n tham kh\\u1ea3o c\\u00e1c s\\u1ea3n ph\\u1ea9m sau nh\\u00e9 \\u1ea1:\\n<show card sp>\", \"query_knowledge_base\", \"[\\\"url:['https://scontent.xx.fbcdn.net/v/t1.15752-9/94318161_887396588390390_8811840609993097216_n.jpg?_nc_cat=106&_nc_sid=b96e70&_nc_ohc=AWcLOmXmk3YAX-wKPHM&_nc_ad=z-m&_nc_cid=0&_nc_zor=9&_nc_ht=scontent.xx&oh=a19ee2c3acb264c574fb86ccd5539fac&oe=5EC6A253', 'https://scontent.xx.fbcdn.net/v/t1.15752-9/94342216_2472338469763544_5708094841569673216_n.jpg?_nc_cat=111&_nc_sid=b96e70&_nc_ohc=kg5-pAp7BTgAX-QEe_x&_nc_ad=z-m&_nc_cid=0&_nc_zor=9&_nc_ht=scontent.xx&oh=aeb84a7b6bfc81f1fdadcd81e0347482&oe=5EC8A82A']\\\", 'mention:m\\u00f3n n\\u00e0y', 'attribute:price']\", \"action_query_babe_kb\"], [\"ok shop\", \"V\\u00e2ng \\u1ea1!\", \"agree\", null, \"utter_agree\"], [\"B\\u00e0n n\\u00e0y g\\u1eadp g\\u1ecdn v\\u00e0o dc ko b\\u1ea1n?\", \"D\\u1ea1, b\\u1ea1n vui l\\u00f2ng xem h\\u01b0\\u1edbng d\\u1eabn s\\u1eed d\\u1ee5ng s\\u1ea3n ph\\u1ea9m t\\u1ea1i \\u0111\\u00e2y \\u1ea1\\n<show video h\\u01b0\\u1edbng d\\u1eabn s\\u1eed d\\u1ee5ng trong shopee>\", \"query_knowledge_base\", \"['mention:b\\u00e0n n\\u00e0y','attribute:video']\", \"action_query_babe_kb\"], [\"https://scontent.xx.fbcdn.net/v/t1.15752-9/94181516_219655075983837_7369188505747980288_n.jpg?_nc_cat=110&_nc_sid=b96e70&_nc_oc=AQmgIzziHIsE2roCLl036R2GPDGy04e86wa1CzOt7ervW0gLWyk_em0o2mmJ3IgXqY_sUfwvGsa9c35xaciWrG3J&_nc_ad=z-m&_nc_cid=0&_nc_zor=9&_nc_ht=scontent.xx&oh=588db62d9dc34f7e68e7f6727ba95966&oe=5EC598CD\\nEm xin gi\\u00e1 xe n\\u00e0y shop \\u01a1i\", \"S\\u1ea3n ph\\u1ea9m  Xe t\\u1eadp \\u0111i \\u0111a n\\u0103ng cao c\\u1ea5p Holla hi\\u1ec7n shop \\u0111ang c\\u00f3 gi\\u00e1: 1200.000 VND\\nB\\u1ea1n tham kh\\u1ea3o c\\u00e1c s\\u1ea3n ph\\u1ea9m sau nh\\u00e9 \\u1ea1:\\n<show card sp>\", \"query_knowledge_base\", \"[\\\"url:['https://scontent.xx.fbcdn.net/v/t1.15752-9/94181516_219655075983837_7369188505747980288_n.jpg?_nc_cat=110&_nc_sid=b96e70&_nc_oc=AQmgIzziHIsE2roCLl036R2GPDGy04e86wa1CzOt7ervW0gLWyk_em0o2mmJ3IgXqY_sUfwvGsa9c35xaciWrG3J&_nc_ad=z-m&_nc_cid=0&_nc_zor=9&_nc_ht=scontent.xx&oh=588db62d9dc34f7e68e7f6727ba95966&oe=5EC598CD']\\\", 'attribute:price', 'object_type:xe', 'mention:n\\u00e0y']\", \"action_query_babe_kb\"], [\"C\\u1ea3m \\u01a1n shop\", \"C\\u1ea3m \\u01a1n b\\u1ea1n!\", \"thank\", \"[]\", \"utter_thank\"], [\"Shop ship cho em 1 chi\\u1ebfc xe \\u0111\\u1ea9y Holla m\\u00e0u xanh nh\\u00e9 \\u1ea1\", \"{C\\u00e1c c\\u00e2u h\\u1ecfi bot c\\u00f3 th\\u1ec3 h\\u1ecfi \\u0111\\u1ec3 \\u0111\\u1ee7 th\\u00f4ng tin:}\\r\\n- D\\u1ea1 b\\u1ea1n mu\\u1ed1n \\u0111\\u1eb7t s\\u1ea3n ph\\u1ea9m n\\u00e0o \\u1ea1?\\r\\n- B\\u1ea1n mu\\u1ed1n \\u0111\\u1eb7t s\\u1ed1 l\\u01b0\\u1ee3ng bao nhi\\u00eau? + 5 button t\\u1eeb 1 \\u0111\\u1ebfn 5\\r\\n- S\\u1ed1 \\u0111i\\u1ec7n tho\\u1ea1i ng\\u01b0\\u1eddi nh\\u1eadn?\\r\\n- \\u0110\\u1ecba ch\\u1ec9 nh\\u1eadn h\\u00e0ng? (S\\u1ed1 nh\\u00e0, ph\\u01b0\\u1eddng/x\\u00e3, qu\\u1eadn/huy\\u1ec7n, t\\u1ec9nh/th\\u00e0nh ph\\u1ed1)\\r\\n- B\\u1ea1n c\\u00f3 l\\u01b0u \\u00fd g\\u00ec cho b\\u00ean v\\u1eadn chuy\\u1ec3n kh\\u00f4ng? (vd: c\\u1ea7n g\\u1ea5p...)\\r\\n\\r\\n{N\\u1ebfu \\u0111\\u00e3 \\u0111\\u1ee7 th\\u00f4ng tin s\\u1ebd show ra} \\u0110\\u01a1n h\\u00e0ng c\\u1ee7a b\\u1ea1n g\\u1ed3m:...\", \"query_knowledge_base\", \"['object_type:xe_day', 'brand:holla', 'color:m\\u00e0u xanh']\", \"action_query_babe_kb\"], [\"Shop \\u01a1i\", \"Ch\\u00e0o b\\u1ea1n, m\\u00ecnh l\\u00e0 tr\\u1ee3 l\\u00fd \\u1ea3o c\\u1ee7a Shop G\\u1ea5u & B\\u00ed Ng\\u00f4, m\\u00ecnh gi\\u00fap g\\u00ec \\u0111\\u01b0\\u1ee3c b\\u1ea1n \\u1ea1?\", \"greet\", \"[]\", \"utter_greet\"], [\"E ch\\u00e0o shop\\nE xin gi\\u00e1 xe \\u0111\\u1ea9y v\\u1edbi \\u1ea1\", \"Hi\\u1ec7n t\\u1ea1i s\\u1ea3n ph\\u1ea9m Xe \\u0110\\u1ea9y  shop \\u0111ang c\\u00f3 nh\\u1eefng *gi\\u00e1* sau \\u1ea1:\", \"query_knowledge_base\", \"['attribute:price', 'object_type:xe_day']\", \"action_query_babe_kb\"], [\"E qu\\u00ean \\u1ea1\\nXe tr\\u00f2n t\\u1eadp \\u0111i \\u1ea5y \\u1ea1\", \"Hi\\u1ec7n t\\u1ea1i s\\u1ea3n ph\\u1ea9m Xe T\\u1eadp \\u0110i  shop \\u0111ang c\\u00f3 nh\\u1eefng *gi\\u00e1* sau \\u1ea1:\", \"query_knowledge_base\", \"['object_type:xe_tap_di']\", \"action_query_babe_kb\"], [\"https://scontent.xx.fbcdn.net/v/t1.15752-9/93606905_299502284371603_116262917866782720_n.jpg?_nc_cat=104&_nc_sid=b96e70&_nc_ohc=0AUlKD2s0VYAX9ut48m&_nc_ad=z-m&_nc_cid=0&_nc_zor=9&_nc_ht=scontent.xx&oh=f4de749b147aef02435adc37b87d9235&oe=5EC5F7D5\", \"B\\u1ea1n \\u0111ang t\\u00ecm ki\\u1ebfm th\\u00f4ng tin g\\u00ec \\u1ea1?\", \"send_link\", \"[\\\"url:['https://scontent.xx.fbcdn.net/v/t1.15752-9/93606905_299502284371603_116262917866782720_n.jpg?_nc_cat=104&_nc_sid=b96e70&_nc_ohc=0AUlKD2s0VYAX9ut48m&_nc_ad=z-m&_nc_cid=0&_nc_zor=9&_nc_ht=scontent.xx&oh=f4de749b147aef02435adc37b87d9235&oe=5EC5F7D5']\\\"]\", \"action_handle_send_link_only\"], [\"Gi\\u00e1 ti\\u1ec1n ban \\u01a1i\", \"S\\u1ea3n ph\\u1ea9m Qu\\u00e2y HOLLA FULL PHI\\u00caN B\\u1ea2N 2020 M\\u1eaaU V\\u01af\\u01a0NG MI\\u1ec6N hi\\u1ec7n shop \\u0111ang c\\u00f3 gi\\u00e1: 4190.000 VND\\nB\\u1ea1n tham kh\\u1ea3o c\\u00e1c s\\u1ea3n ph\\u1ea9m sau nh\\u00e9 \\u1ea1:\", \"query_knowledge_base\", \"['attribute:price']\", \"action_query_babe_kb\"], [\"Thanks b nh\\u00e9\", \"C\\u1ea3m \\u01a1n b\\u1ea1n!\", \"thank\", \"[]\", \"utter_thank\"], [\"Ch\\u00e0o shop\", \"Ch\\u00e0o b\\u1ea1n, m\\u00ecnh l\\u00e0 tr\\u1ee3 l\\u00fd \\u1ea3o c\\u1ee7a Shop G\\u1ea5u & B\\u00ed Ng\\u00f4, m\\u00ecnh gi\\u00fap g\\u00ec \\u0111\\u01b0\\u1ee3c b\\u1ea1n \\u1ea1?\", \"greet\", \"[]\", \"utter_greet\"], [\"\\u0110\\u1ed3 eco c\\u00f2mybaby h\\u1ebft lo\\u1ea1i 6-9m h\\u1ea3 ch\\u1ecb\", \"D\\u1ea1, v\\u1ea5n \\u0111\\u1ec1 n\\u00e0y m\\u00ecnh kh\\u00f4ng h\\u1ed7 tr\\u1ee3 b\\u1ea1n \\u0111\\u01b0\\u1ee3c. B\\u1ea1n vui l\\u00f2ng b\\u1ea5m \\\"Chat v\\u1edbi nh\\u00e2n vi\\u00ean\\\" v\\u00e0 ch\\u1edd trong gi\\u00e2y l\\u00e1t, nh\\u00e2n vi\\u00ean s\\u1ebd tr\\u1ea3 l\\u1eddi b\\u1ea1n s\\u1edbm nh\\u1ea5t c\\u00f3 th\\u1ec3 \\u1ea1. \\n(Button Chat v\\u1edbi nh\\u00e2n vi\\u00ean)\", \"query_knowledge_base\", \"['object_type:quan_ao']['size:6-9m']\", \"action_query_babe_kb\"], [\"/connect_employee\", null, \"handover_to_inbox\", \"[]\", \"action_handover_to_inbox\"], [\"Okie b\\u1ea1n\\nB\\u1ea1n cho t\\u1edb t\\u1ed5ng ti\\u1ec1n nh\\u00e9\", \"D\\u1ea1, v\\u1ea5n \\u0111\\u1ec1 n\\u00e0y m\\u00ecnh kh\\u00f4ng h\\u1ed7 tr\\u1ee3 b\\u1ea1n \\u0111\\u01b0\\u1ee3c. B\\u1ea1n vui l\\u00f2ng b\\u1ea5m \\\"Chat v\\u1edbi nh\\u00e2n vi\\u00ean\\\" v\\u00e0 ch\\u1edd trong gi\\u00e2y l\\u00e1t, nh\\u00e2n vi\\u00ean s\\u1ebd tr\\u1ea3 l\\u1eddi b\\u1ea1n s\\u1edbm nh\\u1ea5t c\\u00f3 th\\u1ec3 \\u1ea1. \\n(Button Chat v\\u1edbi nh\\u00e2n vi\\u00ean)\", \"handover_to_inbox\", \"[]\", \"action_handover_to_inbox\"], [\"https://scontent.xx.fbcdn.net/v/t1.15752-9/94615022_254702325575851_8685774369143652352_n.jpg?_nc_cat=107&_nc_sid=b96e70&_nc_oc=AQkW5yJT2whJY3uM6d13-4XyKcKwwf8gHNd-ED41EzYfoVcxoq3ogMZuuTsWcwYdCVqvspJWtELLeP0qWdOz4xNP&_nc_ad=z-m&_nc_cid=0&_nc_zor=9&_nc_ht=scontent.xx&oh=39335ddc3e910c63c2f92a71bc0721a2&oe=5EC5D7A0\\nhttps://scontent.xx.fbcdn.net/v/t1.15752-9/94718995_656896051775135_4424984880991961088_n.jpg?_nc_cat=110&_nc_sid=b96e70&_nc_oc=AQmqj-ZwCy04a-EryIf2WLMm4Qvp9emjauY9QNfszWU48mpnGT7YnO-0OJhPHEpL8ykkfrGfYXp_1Pb3Q7FIuunG&_nc_ad=z-m&_nc_cid=0&_nc_zor=9&_nc_ht=scontent.xx&oh=eb24143022047722f3bba74d15534964&oe=5EC7896A\\nhttps://scontent.xx.fbcdn.net/v/t1.15752-9/94278563_315945652700875_3393720721636065280_n.jpg?_nc_cat=107&_nc_sid=b96e70&_nc_oc=AQlu_SI7QRtyKEdwncW1fzfBqKQXFLU24Siyz8e0Kl_AT5LA2F-ihNTPCzaoj0XyStIeQPeFqeHSDe3t7fLokib0&_nc_ad=z-m&_nc_cid=0&_nc_zor=9&_nc_ht=scontent.xx&oh=a8c6f18333cf9f2b558c8e4c26ff2765&oe=5EC7387D\\nShop b\\u00e1o gi\\u00e1 e 3 sp n\\u00e0y vs\", \"S\\u1ea3n ph\\u1ea9m Xe ch\\u00f2i ch\\u00e2n ki\\u00eam xe l\\u1eafc cao c\\u1ea5p c\\u00f3 nh\\u1ea1c Holla hi\\u1ec7n shop \\u0111ang c\\u00f3 gi\\u00e1: *790,000 VND (gi\\u00e1 g\\u1ed1c 1,200,000 VND)*.\\nB\\u1ea1n tham kh\\u1ea3o c\\u00e1c s\\u1ea3n ph\\u1ea9m sau nh\\u00e9 \\u1ea1:\\n<show card sp>\\nS\\u1ea3n ph\\u1ea9m Voi m\\u1eb9 phun n\\u01b0\\u1edbc hi\\u1ec7n shop \\u0111ang c\\u00f3 gi\\u00e1: *189,000 VND (gi\\u00e1 g\\u1ed1c 290,000 VND)*.\\nB\\u1ea1n tham kh\\u1ea3o c\\u00e1c s\\u1ea3n ph\\u1ea9m sau nh\\u00e9 \\u1ea1:\\n<show card sp>\\nS\\u1ea3n ph\\u1ea9m  Xe t\\u1eadp \\u0111i \\u0111a n\\u0103ng cao c\\u1ea5p Holla hi\\u1ec7n shop \\u0111ang c\\u00f3 gi\\u00e1: *750,000 VND (gi\\u00e1 g\\u1ed1c 1,200,000 VND)*.\\nB\\u1ea1n tham kh\\u1ea3o c\\u00e1c s\\u1ea3n ph\\u1ea9m sau nh\\u00e9 \\u1ea1:\\n<show card sp>\", \"query_knowledge_base\", \"[\\\"url:['https://scontent.xx.fbcdn.net/v/t1.15752-9/94278563_315945652700875_3393720721636065280_n.jpg?_nc_cat=107&_nc_sid=b96e70&_nc_oc=AQlu_SI7QRtyKEdwncW1fzfBqKQXFLU24Siyz8e0Kl_AT5LA2F-ihNTPCzaoj0XyStIeQPeFqeHSDe3t7fLokib0&_nc_ad=z-m&_nc_cid=0&_nc_zor=9&_nc_ht=scontent.xx&oh=a8c6f18333cf9f2b558c8e4c26ff2765&oe=5EC7387D', 'https://scontent.xx.fbcdn.net/v/t1.15752-9/94718995_656896051775135_4424984880991961088_n.jpg?_nc_cat=110&_nc_sid=b96e70&_nc_oc=AQmqj-ZwCy04a-EryIf2WLMm4Qvp9emjauY9QNfszWU48mpnGT7YnO-0OJhPHEpL8ykkfrGfYXp_1Pb3Q7FIuunG&_nc_ad=z-m&_nc_cid=0&_nc_zor=9&_nc_ht=scontent.xx&oh=eb24143022047722f3bba74d15534964&oe=5EC7896A', 'https://scontent.xx.fbcdn.net/v/t1.15752-9/94615022_254702325575851_8685774369143652352_n.jpg?_nc_cat=107&_nc_sid=b96e70&_nc_oc=AQkW5yJT2whJY3uM6d13-4XyKcKwwf8gHNd-ED41EzYfoVcxoq3ogMZuuTsWcwYdCVqvspJWtELLeP0qWdOz4xNP&_nc_ad=z-m&_nc_cid=0&_nc_zor=9&_nc_ht=scontent.xx&oh=39335ddc3e910c63c2f92a71bc0721a2&oe=5EC5D7A0']\\\", 'attribute:price']\", \"action_query_babe_kb\"], [\"https://scontent.xx.fbcdn.net/v/t1.15752-9/93936800_2528999887362024_6985015496575811584_n.png?_nc_cat=106&_nc_sid=b96e70&_nc_ohc=8tGxj4NRcFgAX_OiTnm&_nc_ad=z-m&_nc_cid=0&_nc_zor=9&_nc_ht=scontent.xx&oh=a363ac91b870ae543a0a88dba3e37f0b&oe=5EC78195\\nxe nay bn ban oi?\", \"S\\u1ea3n ph\\u1ea9m Xe ch\\u00f2i ch\\u00e2n ki\\u00eam xe l\\u1eafc cao c\\u1ea5p c\\u00f3 nh\\u1ea1c Holla hi\\u1ec7n shop \\u0111ang c\\u00f3 gi\\u00e1: *790,000 VND (gi\\u00e1 g\\u1ed1c 1,200,000 VND)*.\\r\\nB\\u1ea1n tham kh\\u1ea3o c\\u00e1c s\\u1ea3n ph\\u1ea9m sau nh\\u00e9 \\u1ea1:\\r\\n<show card sp>\", \"query_knowledge_base\", \"[\\\"url:['https://scontent.xx.fbcdn.net/v/t1.15752-9/93936800_2528999887362024_6985015496575811584_n.png?_nc_cat=106&_nc_sid=b96e70&_nc_ohc=8tGxj4NRcFgAX_OiTnm&_nc_ad=z-m&_nc_cid=0&_nc_zor=9&_nc_ht=scontent.xx&oh=a363ac91b870ae543a0a88dba3e37f0b&oe=5EC78195']\\\", 'object_type:xe', 'mention:nay', 'attribute:price']\", \"action_query_babe_kb\"], [\"ok \\u1ea1\", \"V\\u00e2ng \\u1ea1!\", \"agree\", null, \"utter_agree\"], [\"Xe nadle c\\u00f3 tay \\u0111\\u1ea9y ko b\", \"D\\u1ea1, v\\u1ea5n \\u0111\\u1ec1 n\\u00e0y m\\u00ecnh kh\\u00f4ng h\\u1ed7 tr\\u1ee3 b\\u1ea1n \\u0111\\u01b0\\u1ee3c. B\\u1ea1n vui l\\u00f2ng b\\u1ea5m \\\"Chat v\\u1edbi nh\\u00e2n vi\\u00ean\\\" v\\u00e0 ch\\u1edd trong gi\\u00e2y l\\u00e1t, nh\\u00e2n vi\\u00ean s\\u1ebd tr\\u1ea3 l\\u1eddi b\\u1ea1n s\\u1edbm nh\\u1ea5t c\\u00f3 th\\u1ec3 \\u1ea1. \\n(Button Chat v\\u1edbi nh\\u00e2n vi\\u00ean)\", \"query_knowledge_base\", \"['brand:nadle','accessories:tay \\u0111\\u1ea9y']\", \"action_query_babe_kb\"], [\"/connect_employee\", null, \"handover_to_inbox\", \"[]\", \"action_handover_to_inbox\"], [\"Cho m\\u00ecnh link shoppe\", \"D\\u1ea1 b\\u1ea1n c\\u1ea7n xin link shopee c\\u1ee7a shop hay c\\u1ee7a s\\u1ea3n ph\\u1ea9m n\\u00e0o \\u1ea1?\", \"query_knowledge_base\", \"['attribute:link']\", \"action_query_babe_kb\"], [\"Xe l\\u1eafc \\u0111\\u00f3 b\", \"D\\u1ea1 m\\u1eddi b\\u1ea1n xem s\\u1ea3n ph\\u1ea9m t\\u1ea1i \\u0111\\u00e2y \\u1ea1:\\n- Link Shopee: https://shopee.vn/-Richell-i.36371562.544276829\", \"query_knowledge_base\", \"['object_type: xe_tap_di','attribute:link']\", \"action_query_babe_kb\"], [\"Ch\\u00e0o ad. Cho t\\u1edb h\\u1ecfi m\\u00ecnh c\\u00f2n th\\u1ea3m x\\u1ed1p Infantino 28 mi\\u1ebfng k nh\\u1ec9? T\\u1edb c\\u1ea3m \\u01a1n\", \"S\\u1ea3n ph\\u1ea9m  Th\\u1ea3m h\\u00e3ng s\\u1ea3n xu\\u1ea5t Infantino, ch\\u1ea5t li\\u1ec7u X\\u1ed1p 28 mi\\u1ebfng hi\\u1ec7n shop c\\u00f2n h\\u00e0ng, shop \\u0111ang c\\u00f3 gi\\u00e1: *99,000 VND (gi\\u00e1 g\\u1ed1c 99,000 VND), 279,000 VND (gi\\u00e1 g\\u1ed1c 349,000 VND), 179,000 VND (gi\\u00e1 g\\u1ed1c 179,000 VND)*.\\nB\\u1ea1n tham kh\\u1ea3o c\\u00e1c s\\u1ea3n ph\\u1ea9m sau nh\\u00e9 \\u1ea1:\", \"query_knowledge_base\", \"['object_type:tham', 'material:x\\u1ed1p', 'brand:infantino','number of pieces:28 mi\\u1ebfng']\", \"action_query_babe_kb\"], [\"Lo\\u1ea1i 28 mi\\u1ebfng c\\u00f3 nh\\u1eefng m\\u00e0u g\\u00ec h\\u1ea3 ad? Hay ch\\u1ec9 c\\u00f3 1 m\\u00e0u thui?\", \"S\\u1ea3n ph\\u1ea9m  Th\\u1ea3m h\\u00e3ng s\\u1ea3n xu\\u1ea5t Infantino, ch\\u1ea5t li\\u1ec7u X\\u1ed1p 28 mi\\u1ebfng hi\\u1ec7n shop \\u0111ang c\\u00f3 m\\u00e0u: *Xanh, H\\u1ed3ng*.\\nB\\u1ea1n tham kh\\u1ea3o c\\u00e1c s\\u1ea3n ph\\u1ea9m sau nh\\u00e9 \\u1ea1:\", \"query_knowledge_base\", \"['attribute:color', 'attribute:color']\", \"action_query_babe_kb\"], [\"Oki t\\u1edb c\\u1ea3m \\u01a1n nhi\\u1ec1u nh\\u00e9!\", \"C\\u1ea3m \\u01a1n b\\u1ea1n!\", \"thank\", \"[]\", \"utter_thank\"], [\"Shop \\u0111\\u00e3 v\\u1ec1 x\\u00edch \\u0111u & c\\u1ea7u tr\\u01b0\\u1ee3t holla ch\\u01b0a \\u1ea1\", \"S\\u1ea3n ph\\u1ea9m  C\\u1ea7u tr\\u01b0\\u1ee3t x\\u00edch \\u0111u Hola h\\u1ea3i c\\u1ea9u 2020 h\\u00e3ng s\\u1ea3n xu\\u1ea5t Holla hi\\u1ec7n shop \\u0111ang c\\u00f3 gi\\u00e1: *1,982,500 VND (gi\\u00e1 g\\u1ed1c 3,250,000 VND)*.\\nB\\u1ea1n tham kh\\u1ea3o c\\u00e1c s\\u1ea3n ph\\u1ea9m sau nh\\u00e9 \\u1ea1:\", \"query_knowledge_base\", \"['object_type:cau_truot', object_type:xich_du', 'brand:holla']\", \"action_query_babe_kb\"], [\"X\\u00edch \\u0111u shop c\\u00f2n m\\u00e0u g\\u00ec \\u1ea1\", \"S\\u1ea3n ph\\u1ea9m  C\\u1ea7u tr\\u01b0\\u1ee3t x\\u00edch \\u0111u Hola h\\u1ea3i c\\u1ea9u 2020 h\\u00e3ng s\\u1ea3n xu\\u1ea5t Holla hi\\u1ec7n shop \\u0111ang c\\u00f3 m\\u00e0u: *V\\u00e0ng, H\\u1ed3ng*.\\nB\\u1ea1n tham kh\\u1ea3o c\\u00e1c s\\u1ea3n ph\\u1ea9m sau nh\\u00e9 \\u1ea1:\", \"query_knowledge_base\", \"['object_type:xich_du','attribute:color']\", \"action_query_babe_kb\"], [\"Shop \\u0111\\u00e3 v\\u1ec1 x\\u00edch \\u0111u & c\\u1ea7u tr\\u01b0\\u1ee3t holla ch\\u01b0a \\u1ea1\", \"M\\u1eddi b\\u1ea1n tham kh\\u1ea3o c\\u00e1c s\\u1ea3n ph\\u1ea9m C\\u1ea7u tr\\u01b0\\u1ee3t, X\\u00edch \\u0111u, nh\\u00e3n hi\\u1ec7u Holla \\u0111ang c\\u00f3 t\\u1ea1i shop \\u1ea1:\\n<show card c\\u00e1c s\\u1ea3n ph\\u1ea9m C\\u1ea7u tr\\u01b0\\u1ee3t, X\\u00edch \\u0111u Holla>\", \"query_knowledge_base\", \"['object_type:cau_truot', object_type:xich_du', 'brand:holla']\", \"action_query_babe_kb\"], [\"X\\u00edch \\u0111u shop c\\u00f2n m\\u00e0u g\\u00ec \\u1ea1\", \"S\\u1ea3n ph\\u1ea9m X\\u00edch \\u0111u nh\\u00e3n hi\\u1ec7u Holla \\u0111ang c\\u00f3 c\\u00e1c m\\u00e0u sau: <show m\\u00e0u>\", \"query_knowledge_base\", \"['object_type:xich_du','attribute:color']\", \"action_query_babe_kb\"], [\"ok shop\", \"V\\u00e2ng \\u1ea1!\", \"agree\", null, \"utter_agree\"], [\"Ahop c\\u00f3 gi\\u01b0\\u1eddng n\\u00e0y ko shop\\nhttps://scontent.xx.fbcdn.net/v/t1.15752-9/94697811_243224110251372_4622459209449996288_n.jpg?_nc_cat=110&_nc_sid=b96e70&_nc_ohc=Z2trUQ5yFdkAX_aFlZ0&_nc_ad=z-m&_nc_cid=0&_nc_zor=9&_nc_ht=scontent.xx&oh=41b0cdfe72063f000ae97e6d2f27ea86&oe=5EC6F340\", \"S\\u1ea3n ph\\u1ea9m n\\u00e0y hi\\u1ec7n t\\u1ea1i Shop kh\\u00f4ng c\\u00f3, m\\u1eddi b\\u1ea1n tham kh\\u1ea3o c\\u00e1c Gi\\u01b0\\u1eddng \\u0111ang c\\u00f3 t\\u1ea1i shop \\u1ea1:\\n<Show card Gi\\u01b0\\u1eddng>\", \"query_knowledge_base\", \"[\\\"url:['https://scontent.xx.fbcdn.net/v/t1.15752-9/94697811_243224110251372_4622459209449996288_n.jpg?_nc_cat=110&_nc_sid=b96e70&_nc_ohc=Z2trUQ5yFdkAX_aFlZ0&_nc_ad=z-m&_nc_cid=0&_nc_zor=9&_nc_ht=scontent.xx&oh=41b0cdfe72063f000ae97e6d2f27ea86&oe=5EC6F340']\\\", 'object_type:giuong', 'mention:n\\u00e0y']\", \"action_query_babe_kb\"], [\"b\\u1ed9 bang lego thi bao nhieu\", \"M\\u00ecnh ch\\u01b0a x\\u00e1c \\u0111\\u1ecbnh \\u0111\\u01b0\\u1ee3c m\\u00f3n \\u0111\\u1ed3 b\\u1ea1n h\\u1ecfi, b\\u1ea1n m\\u00f4 t\\u1ea3 r\\u00f5 h\\u01a1n gi\\u00fap m\\u00ecnh nh\\u00e9!\", \"query_knowledge_base\", \"['attribute:price']\", \"action_query_babe_kb\"], [\"b\\u00e0n lego ah\", \"S\\u1ea3n ph\\u1ea9m B\\u00e0n Lego hi\\u1ec7n \\u0111ang c\\u00f3 gi\\u00e1: 1.035.000 VN\\u0110 (Gi\\u00e1 g\\u1ed1c: 1.750.000 VN\\u0110), 1.050.000VN\\u0110 (Gi\\u00e1 g\\u1ed1c: 1.890.000 VN\\u0110)\\n<Show card 2 b\\u00e0n lego \\u0111ang c\\u00f3>\", \"query_knowledge_base\", \"['object_type:ban_lego']\", \"action_query_babe_kb\"], [\"b\\u1ed9 b\\u00e0n lego thi bao nhieu\", \"S\\u1ea3n ph\\u1ea9m B\\u00e0n Lego hi\\u1ec7n \\u0111ang c\\u00f3 gi\\u00e1: 1.035.000 VN\\u0110 (Gi\\u00e1 g\\u1ed1c: 1.750.000 VN\\u0110), 1.050.000VN\\u0110 (Gi\\u00e1 g\\u1ed1c: 1.890.000 VN\\u0110)\\n<Show card 2 b\\u00e0n lego \\u0111ang c\\u00f3>\", \"query_knowledge_base\", \"['attribute:price', 'object_type:ban_lego']\", \"action_query_babe_kb\"], [\"thank b nh\\u00e9\", \"Shop c\\u1ea3m \\u01a1n b\\u1ea1n \\u1ea1\", \"thank\", \"[]\", \"utter thank\"], [\"shop \\u01a1i\", \"Ch\\u00e0o b\\u1ea1n, m\\u00ecnh l\\u00e0 tr\\u1ee3 l\\u00fd \\u1ea3o c\\u1ee7a Shop G\\u1ea5u & B\\u00ed Ng\\u00f4, m\\u00ecnh gi\\u00fap g\\u00ec \\u0111\\u01b0\\u1ee3c b\\u1ea1n \\u1ea1?\", \"greet\", null, \"utter_greet\"], [\"Shop c\\u00f3 m\\u00e1y ti\\u1ec7t tr\\u00f9ng uv fatz \\u0111\\u00fang ko \\u1ea1\", \"M\\u1eddi b\\u1ea1n tham kh\\u1ea3o c\\u00e1c s\\u1ea3n ph\\u1ea9m M\\u00e1y ti\\u1ec7t tr\\u00f9ng th\\u01b0\\u01a1ng hi\\u1ec7u Fatz \\u0111ang c\\u00f3 t\\u1ea1i shop \\u1ea1:\\n<card 1> <card 2> <card 3> ...\", \"query_knowledge_base\", \"['object_type:may_tiet_trung', 'brand:fatz']\", \"action_query_babe_kb\"], [\"shop \\u01a1i\", \"Ch\\u00e0o b\\u1ea1n, m\\u00ecnh l\\u00e0 tr\\u1ee3 l\\u00fd \\u1ea3o c\\u1ee7a Shop G\\u1ea5u & B\\u00ed Ng\\u00f4, m\\u00ecnh gi\\u00fap g\\u00ec \\u0111\\u01b0\\u1ee3c b\\u1ea1n \\u1ea1?\", \"greet\", null, \"utter_greet\"], [\"Shop c\\u00f3 m\\u00e1y ti\\u1ec7t tr\\u00f9ng uv fatz n\\u00e0y \\u0111\\u00fang ko \\u1ea1\\nhttps://scontent.xx.fbcdn.net/v/t1.15752-9/93890206_951879361908487_6660440411380645888_n.jpg?_nc_cat=101&_nc_sid=b96e70&_nc_ohc=qE3jk9gMoPkAX9QNKtO&_nc_ad=z-m&_nc_cid=0&_nc_zor=9&_nc_ht=scontent.xx&oh=34409ae90da130ed09ec60ff56ecf5aa&oe=5EC70431\\n\", \"S\\u1ea3n ph\\u1ea9m T\\u1eb6NG 02 b\\u00ecnh s\\u1eefa cao c\\u1ea5p - M\\u00e1y ti\\u1ec7t tr\\u00f9ng s\\u1ea5y kh\\u00f4 tia UV cao c\\u1ea5p Fatz Baby FB4702 hi\\u1ec7n c\\u00f3 gi\\u00e1: 2.390.000 VN\\u0110 (Gi\\u00e1 g\\u1ed1c: 2.750.000 VN\\u0110).\\n<show card>\", \"query_knowledge_base\", \"['object_type:may_tiet_trung', 'brand:fatz', 'url:https://scontent.xx.fbcdn.net/v/t1.15752-9/93890206_951879361908487_6660440411380645888_n.jpg?_nc_cat=101&_nc_sid=b96e70&_nc_ohc=qE3jk9gMoPkAX9QNKtO&_nc_ad=z-m&_nc_cid=0&_nc_zor=9&_nc_ht=scontent.xx&oh=34409ae90da130ed09ec60ff56ecf5aa&oe=5EC70431']\", \"action_query_babe_kb\"], [\"ok shop\", \"D\\u1ea1 v\\u00e2ng \\u1ea1!\", \"agree\", null, \"utter_agree\"], [\"shop \\u01a1i\", \"Ch\\u00e0o b\\u1ea1n, m\\u00ecnh l\\u00e0 tr\\u1ee3 l\\u00fd \\u1ea3o c\\u1ee7a Shop G\\u1ea5u & B\\u00ed Ng\\u00f4, m\\u00ecnh gi\\u00fap g\\u00ec \\u0111\\u01b0\\u1ee3c b\\u1ea1n \\u1ea1?\", \"greet\", null, \"utter_greet\"], [\"Shop c\\u00f3 m\\u00e1y ti\\u1ec7t tr\\u00f9ng uv fatz n\\u00e0y \\u0111\\u00fang ko \\u1ea1\\nhttps://scontent.xx.fbcdn.net/v/t1.15752-9/93890206_951879361908487_6660440411380645888_n.jpg?_nc_cat=101&_nc_sid=b96e70&_nc_ohc=qE3jk9gMoPkAX9QNKtO&_nc_ad=z-m&_nc_cid=0&_nc_zor=9&_nc_ht=scontent.xx&oh=34409ae90da130ed09ec60ff56ecf5aa&oe=5EC70431\\n\", \"D\\u1ea1, c\\u00f3 ph\\u1ea3i b\\u1ea1n mu\\u1ed1n h\\u1ecfi m\\u1ed9t trong c\\u00e1c s\\u1ea3n ph\\u1ea9m d\\u01b0\\u1edbi \\u0111\\u00e2y kh\\u00f4ng \\u1ea1?\\n (Vui l\\u00f2ng \\u1ea5n ch\\u1ecdn 1 s\\u1ea3n ph\\u1ea9m)\\n\\n<show 5 card s\\u1ea3n ph\\u1ea9m>\", \"query_knowledge_base\", \"['object_type:may_tiet_trung', 'brand:fatz', 'url:https://scontent.xx.fbcdn.net/v/t1.15752-9/93890206_951879361908487_6660440411380645888_n.jpg?_nc_cat=101&_nc_sid=b96e70&_nc_ohc=qE3jk9gMoPkAX9QNKtO&_nc_ad=z-m&_nc_cid=0&_nc_zor=9&_nc_ht=scontent.xx&oh=34409ae90da130ed09ec60ff56ecf5aa&oe=5EC70431']\", \"action_query_babe_kb\"], [\"/query_knowledge_base{\\\"url\\\": \\\"https://shopee.vn/product/36371562/3210697307\\\", \\\"product_id\\\": \\\"https://shopee.vn/product/36371562/3210697307\\\"}\", \"S\\u1ea3n ph\\u1ea9m T\\u1eb6NG 02 b\\u00ecnh s\\u1eefa cao c\\u1ea5p - M\\u00e1y ti\\u1ec7t tr\\u00f9ng s\\u1ea5y kh\\u00f4 tia UV cao c\\u1ea5p Fatz Baby FB4702 hi\\u1ec7n c\\u00f3 gi\\u00e1: 2.390.000 VN\\u0110 (Gi\\u00e1 g\\u1ed1c: 2.750.000 VN\\u0110).\\r\\n<show card>\", \"query_knowledge_base\", \"['url:https://shopee.vn/product/36371562/3210697307', 'product_id:https://shopee.vn/product/36371562/3210697307']\", \"action_query_babe_kb\"], [\"https://scontent.xx.fbcdn.net/v/t1.15752-9/93913289_670003413559736_245812939833999360_n.jpg?_nc_cat=105&_nc_sid=b96e70&_nc_ohc=IO8cH-ISUB4AX-tEq7O&_nc_ad=z-m&_nc_cid=0&_nc_zor=9&_nc_ht=scontent.xx&oh=70613ff7bf51b3e0c66e959468a12377&oe=5EC63EC6\", \"B\\u1ea1n \\u0111ang t\\u00ecm ki\\u1ebfm th\\u00f4ng tin g\\u00ec \\u1ea1?\", \"send_link\", \"[\\\"url:['https://scontent.xx.fbcdn.net/v/t1.15752-9/93913289_670003413559736_245812939833999360_n.jpg?_nc_cat=105&_nc_sid=b96e70&_nc_ohc=IO8cH-ISUB4AX-tEq7O&_nc_ad=z-m&_nc_cid=0&_nc_zor=9&_nc_ht=scontent.xx&oh=70613ff7bf51b3e0c66e959468a12377&oe=5EC63EC6']\\\"]\", \"action_handle_send_link_only\"], [\"B\\u1ea1n c\\u00f3 m\\u1eabu ntn ko\\nCho m\\u00ecnh xin th\\u00f4ng s\\u1ed1\", \"S\\u1ea3n ph\\u1ea9m Gh\\u1ebf \\u0111a n\\u0103ng cao c\\u1ea5p Mastela 1015 hi\\u1ec7n c\\u00f3 gi\\u00e1: 1.320.000 VN\\u0110 (Gi\\u00e1 g\\u1ed1c: 1.599.000 VN\\u0110).\\nM\\u1eddi b\\u1ea1n xem chi ti\\u1ebft th\\u00f4ng tin s\\u1ea3n ph\\u1ea9m t\\u1ea1i \\u0111\\u01b0\\u1eddng link:\\n<show card>\", \"query_knowledge_base\", \"[]\", \"action_query_babe_kb\"], [\"https://scontent.xx.fbcdn.net/v/t1.15752-9/93913289_670003413559736_245812939833999360_n.jpg?_nc_cat=105&_nc_sid=b96e70&_nc_ohc=IO8cH-ISUB4AX-tEq7O&_nc_ad=z-m&_nc_cid=0&_nc_zor=9&_nc_ht=scontent.xx&oh=70613ff7bf51b3e0c66e959468a12377&oe=5EC63EC6\", \"B\\u1ea1n \\u0111ang t\\u00ecm ki\\u1ebfm th\\u00f4ng tin g\\u00ec \\u1ea1?\", \"send_link\", \"[\\\"url:['https://scontent.xx.fbcdn.net/v/t1.15752-9/93913289_670003413559736_245812939833999360_n.jpg?_nc_cat=105&_nc_sid=b96e70&_nc_ohc=IO8cH-ISUB4AX-tEq7O&_nc_ad=z-m&_nc_cid=0&_nc_zor=9&_nc_ht=scontent.xx&oh=70613ff7bf51b3e0c66e959468a12377&oe=5EC63EC6']\\\"]\", \"action_handle_send_link_only\"], [\"B\\u1ea1n c\\u00f3 m\\u1eabu ntn ko\\nCho m\\u00ecnh xin th\\u00f4ng s\\u1ed1\", \"S\\u1ea3n ph\\u1ea9m Gh\\u1ebf \\u0111a n\\u0103ng cao c\\u1ea5p Mastela 1015 hi\\u1ec7n \\u0111ang h\\u1ebft h\\u00e0ng. M\\u1eddi b\\u1ea1n tham kh\\u1ea3o c\\u00e1c s\\u1ea3n ph\\u1ea9m Gh\\u1ebf \\u0103n kh\\u00e1c \\u0111ang c\\u00f3 t\\u1ea1i shop \\u1ea1.\\n<Show random 5 cards>\", \"query_knowledge_base\", \"[]\", \"action_query_babe_kb\"], [\"https://scontent.xx.fbcdn.net/v/t1.15752-9/93913289_670003413559736_245812939833999360_n.jpg?_nc_cat=105&_nc_sid=b96e70&_nc_ohc=IO8cH-ISUB4AX-tEq7O&_nc_ad=z-m&_nc_cid=0&_nc_zor=9&_nc_ht=scontent.xx&oh=70613ff7bf51b3e0c66e959468a12377&oe=5EC63EC6\", \"B\\u1ea1n \\u0111ang t\\u00ecm ki\\u1ebfm th\\u00f4ng tin g\\u00ec \\u1ea1?\", \"send_link\", \"[\\\"url:['https://scontent.xx.fbcdn.net/v/t1.15752-9/93913289_670003413559736_245812939833999360_n.jpg?_nc_cat=105&_nc_sid=b96e70&_nc_ohc=IO8cH-ISUB4AX-tEq7O&_nc_ad=z-m&_nc_cid=0&_nc_zor=9&_nc_ht=scontent.xx&oh=70613ff7bf51b3e0c66e959468a12377&oe=5EC63EC6']\\\"]\", \"action_handle_send_link_only\"], [\"B\\u1ea1n c\\u00f3 m\\u1eabu ntn ko\\nCho m\\u00ecnh xin th\\u00f4ng s\\u1ed1\", \"D\\u1ea1, c\\u00f3 ph\\u1ea3i b\\u1ea1n mu\\u1ed1n h\\u1ecfi m\\u1ed9t trong c\\u00e1c s\\u1ea3n ph\\u1ea9m d\\u01b0\\u1edbi \\u0111\\u00e2y kh\\u00f4ng \\u1ea1?\\n (Vui l\\u00f2ng \\u1ea5n ch\\u1ecdn 1 s\\u1ea3n ph\\u1ea9m)\\n\\n<show 5 card s\\u1ea3n ph\\u1ea9m>\", \"query_knowledge_base\", \"[]\", \"action_query_babe_kb\"], [\"Ch\\u00e0o shop\", \"Ch\\u00e0o b\\u1ea1n, m\\u00ecnh l\\u00e0 tr\\u1ee3 l\\u00fd \\u1ea3o c\\u1ee7a Shop G\\u1ea5u & B\\u00ed Ng\\u00f4, m\\u00ecnh gi\\u00fap g\\u00ec \\u0111\\u01b0\\u1ee3c b\\u1ea1n \\u1ea1?\", \"greet\", null, \"utter_greet\"], [\"Hi\\u1ec7n b\\u00ean m\\u00ecnh c\\u00f3 nh\\u1eefng m\\u1eabu th\\u00fa nh\\u00fan n\\u00e0o\", \"S\\u1ea3n ph\\u1ea9m Th\\u00fa nh\\u00fan Toys House hi\\u1ec7n c\\u00f3 gi\\u00e1 239.000 VN\\u0110 (Gi\\u00e1 g\\u1ed1c: 275.000 VN\\u0110).\\nM\\u1eddi b\\u1ea1n tham kh\\u1ea3o s\\u1ea3n ph\\u1ea9m t\\u1ea1i \\u0111\\u01b0\\u1eddng link:\\n<show card>\", \"query_knowledge_base\", \"['object_type:thu_nhun']\", \"action_query_babe_kb\"], [\"Ch\\u00e0o shop\", \"Ch\\u00e0o b\\u1ea1n, m\\u00ecnh l\\u00e0 tr\\u1ee3 l\\u00fd \\u1ea3o c\\u1ee7a Shop G\\u1ea5u & B\\u00ed Ng\\u00f4, m\\u00ecnh gi\\u00fap g\\u00ec \\u0111\\u01b0\\u1ee3c b\\u1ea1n \\u1ea1?\", \"greet\", null, \"utter_greet\"], [\"Hi\\u1ec7n b\\u00ean m\\u00ecnh c\\u00f3 nh\\u1eefng m\\u1eabu th\\u00fa nh\\u00fan n\\u00e0o\", \"S\\u1ea3n ph\\u1ea9m Th\\u00fa nh\\u00fan hi\\u1ec7n shop \\u0111ang c\\u00f3 c\\u00e1c s\\u1ea3n ph\\u1ea9m sau \\u1ea1:\\n<show card c\\u00e1c s\\u1ea3n ph\\u1ea9m object type thu_nhun>\", \"query_knowledge_base\", \"['object_type:thu_nhun']\", \"action_query_babe_kb\"], [\"ok shop\", \"V\\u00e2ng \\u1ea1!\", \"agree\", null, \"utter_agree\"], [\"\\u1ea4y \\u01a1i m\\u1ea5y th\\u1ee9 n\\u00e0y nh\\u00e0 \\u1ea5y bnhieu\\nhttps://scontent.xx.fbcdn.net/v/t1.15752-9/93831201_1146889219003227_7546191276316557312_n.jpg?_nc_cat=105&_nc_sid=b96e70&_nc_ohc=tLpSsYOv5b0AX-UBvhh&_nc_ad=z-m&_nc_cid=0&_nc_zor=9&_nc_ht=scontent.xx&oh=af8d419a2e841c371c922be98a8025dc&oe=5EC4E7BA\\nhttps://scontent.xx.fbcdn.net/v/t1.15752-9/94143660_227716808643426_4665045218939109376_n.jpg?_nc_cat=105&_nc_sid=b96e70&_nc_ohc=7GeN0-9CL-AAX9yVHBg&_nc_ad=z-m&_nc_cid=0&_nc_zor=9&_nc_ht=scontent.xx&oh=42ac8090663a783fb85c954a364fcf89&oe=5EC72B79\", \"S\\u1ea3n ph\\u1ea9m B\\u00e0n h\\u1ecdc, b\\u00e0n ch\\u01a1i l\\u1eafp gh\\u00e9p Lego cao c\\u1ea5p hi\\u1ec7n \\u0111ang c\\u00f3 gi\\u00e1: 1.035.000 VN\\u0110 (Gi\\u00e1 g\\u1ed1c: 1.750.000 VN\\u0110)\\n<Show card s\\u1ea3n ph\\u1ea9m 1>\\n\\nS\\u1ea3n ph\\u1ea9m Voi m\\u1eb9 phun n\\u01b0\\u1edbc hi\\u1ec7n \\u0111ang c\\u00f3 gi\\u00e1: 189.000 VN\\u0110 (Gi\\u00e1 g\\u1ed1c: 290.000 VN\\u0110).\\n<Show card s\\u1ea3n ph\\u1ea9m 2>\", \"query_knowledge_base\", \"[\\\"url:['https://scontent.xx.fbcdn.net/v/t1.15752-9/93831201_1146889219003227_7546191276316557312_n.jpg?_nc_cat=105&_nc_sid=b96e70&_nc_ohc=tLpSsYOv5b0AX-UBvhh&_nc_ad=z-m&_nc_cid=0&_nc_zor=9&_nc_ht=scontent.xx&oh=af8d419a2e841c371c922be98a8025dc&oe=5EC4E7BA', 'https://scontent.xx.fbcdn.net/v/t1.15752-9/94143660_227716808643426_4665045218939109376_n.jpg?_nc_cat=105&_nc_sid=b96e70&_nc_ohc=7GeN0-9CL-AAX9yVHBg&_nc_ad=z-m&_nc_cid=0&_nc_zor=9&_nc_ht=scontent.xx&oh=42ac8090663a783fb85c954a364fcf89&oe=5EC72B79']\\\", 'attribute:price']\", \"action_query_babe_kb\"], [\"https://scontent.xx.fbcdn.net/v/t1.15752-9/94570707_234412474285774_6361456205918896128_n.jpg?_nc_cat=106&_nc_sid=b96e70&_nc_ohc=5aKOFHkW5MwAX8P-5Cg&_nc_ad=z-m&_nc_cid=0&_nc_zor=9&_nc_ht=scontent.xx&oh=ab98b5d71300c2fac627d044b67b9d44&oe=5EC423FB\", \"B\\u1ea1n \\u0111ang t\\u00ecm ki\\u1ebfm th\\u00f4ng tin g\\u00ec \\u1ea1?\", \"send_link\", \"[\\\"url:['https://scontent.xx.fbcdn.net/v/t1.15752-9/94570707_234412474285774_6361456205918896128_n.jpg?_nc_cat=106&_nc_sid=b96e70&_nc_ohc=5aKOFHkW5MwAX8P-5Cg&_nc_ad=z-m&_nc_cid=0&_nc_zor=9&_nc_ht=scontent.xx&oh=ab98b5d71300c2fac627d044b67b9d44&oe=5EC423FB']\\\"]\", \"action_handle_send_link_only\"], [\"Bn v\\u1eady\\nhttps://scontent.xx.fbcdn.net/v/t1.15752-9/93558727_234412454285776_253028798423891968_n.jpg?_nc_cat=100&_nc_sid=b96e70&_nc_ohc=h9Y4J1MnK90AX-NWRjd&_nc_ad=z-m&_nc_cid=0&_nc_zor=9&_nc_ht=scontent.xx&oh=a2f97f6c39456cdc20c8536ecb51d23d&oe=5EC3BD1D\", \"S\\u1ea3n ph\\u1ea9m COMBO HOLLA FULL PHI\\u00caN B\\u1ea2N 2020 M\\u1eaaU V\\u01af\\u01a0NG MI\\u1ec6N \\u0111ang c\\u00f3 gi\\u00e1 4.100.000 VN\\u0110 (Gi\\u00e1 g\\u1ed1c: 5.000.000 VN\\u0110).\\n<Show card>\", \"query_knowledge_base\", \"[\\\"url:['https://scontent.xx.fbcdn.net/v/t1.15752-9/93558727_234412454285776_253028798423891968_n.jpg?_nc_cat=100&_nc_sid=b96e70&_nc_ohc=h9Y4J1MnK90AX-NWRjd&_nc_ad=z-m&_nc_cid=0&_nc_zor=9&_nc_ht=scontent.xx&oh=a2f97f6c39456cdc20c8536ecb51d23d&oe=5EC3BD1D']\\\", 'attribute:price']\", \"action_query_babe_kb\"], [\"ok shop\", \"V\\u00e2ng \\u1ea1!\", \"agree\", null, \"utter_agree\"], [\"Bn v\\u1eady\\nhttps://scontent.xx.fbcdn.net/v/t1.15752-9/93558727_234412454285776_253028798423891968_n.jpg?_nc_cat=100&_nc_sid=b96e70&_nc_ohc=h9Y4J1MnK90AX-NWRjd&_nc_ad=z-m&_nc_cid=0&_nc_zor=9&_nc_ht=scontent.xx&oh=a2f97f6c39456cdc20c8536ecb51d23d&oe=5EC3BD1D\", \"D\\u1ea1, c\\u00f3 ph\\u1ea3i b\\u1ea1n mu\\u1ed1n h\\u1ecfi m\\u1ed9t trong c\\u00e1c s\\u1ea3n ph\\u1ea9m d\\u01b0\\u1edbi \\u0111\\u00e2y kh\\u00f4ng \\u1ea1?\\n (Vui l\\u00f2ng \\u1ea5n ch\\u1ecdn 1 s\\u1ea3n ph\\u1ea9m)\\n\\n<show 5 card s\\u1ea3n ph\\u1ea9m>\", \"query_knowledge_base\", \"[\\\"url:['https://scontent.xx.fbcdn.net/v/t1.15752-9/93558727_234412454285776_253028798423891968_n.jpg?_nc_cat=100&_nc_sid=b96e70&_nc_ohc=h9Y4J1MnK90AX-NWRjd&_nc_ad=z-m&_nc_cid=0&_nc_zor=9&_nc_ht=scontent.xx&oh=a2f97f6c39456cdc20c8536ecb51d23d&oe=5EC3BD1D']\\\", 'attribute:price']\", \"action_query_babe_kb\"], [\"https://scontent.xx.fbcdn.net/v/t1.15752-9/94561499_543060359946538_2595608200518565888_n.jpg?_nc_cat=107&_nc_sid=b96e70&_nc_ohc=bSXx0Sekm_MAX_8eoFD&_nc_ad=z-m&_nc_cid=0&_nc_zor=9&_nc_ht=scontent.xx&oh=8f58096d3d249b1a54c759ddeeeba9f9&oe=5EC43219\\nB\\u1ed9 n\\u00e0y gi\\u00e1 tnao shop\", \"D\\u1ea1, c\\u00f3 ph\\u1ea3i b\\u1ea1n mu\\u1ed1n h\\u1ecfi m\\u1ed9t trong c\\u00e1c s\\u1ea3n ph\\u1ea9m d\\u01b0\\u1edbi \\u0111\\u00e2y kh\\u00f4ng \\u1ea1?\\n (Vui l\\u00f2ng \\u1ea5n ch\\u1ecdn 1 s\\u1ea3n ph\\u1ea9m)...\", \"query_knowledge_base\", \"[\\\"url:['https://scontent.xx.fbcdn.net/v/t1.15752-9/94561499_543060359946538_2595608200518565888_n.jpg?_nc_cat=107&_nc_sid=b96e70&_nc_ohc=bSXx0Sekm_MAX_8eoFD&_nc_ad=z-m&_nc_cid=0&_nc_zor=9&_nc_ht=scontent.xx&oh=8f58096d3d249b1a54c759ddeeeba9f9&oe=5EC43219']\\\", 'mention:b\\u1ed9 n\\u00e0y', 'attribute:price']\", \"action_query_babe_kb\"], [\"/query_knowledge_base{\\\"url\\\": \\\"https://shopee.vn/product/36371562/5307497099\\\", \\\"product_id\\\": \\\"https://shopee.vn/product/36371562/5307497099\\\"}\", \"S\\u1ea3n ph\\u1ea9m GH\\u1ebe NH\\u1ea2Y JUMPEROO KONIG KIDS CH\\u00cdNH H\\u00c3NG hi\\u1ec7n c\\u00f3 gi\\u00e1 1.190.000 VN\\u0110 (Gi\\u00e1 g\\u1ed1c: 1.900.000 VN\\u0110).\\nM\\u1eddi b\\u1ea1n tham kh\\u1ea3o s\\u1ea3n ph\\u1ea9m t\\u1ea1i \\u0111\\u01b0\\u1eddng link:\\n<show card>\", \"query_knowledge_base\", \"['url:https://shopee.vn/product/36371562/3210697307', 'product_id:https://shopee.vn/product/36371562/3210697307']\", \"action_query_babe_kb\"], [\"https://scontent.xx.fbcdn.net/v/t1.15752-9/94561499_543060359946538_2595608200518565888_n.jpg?_nc_cat=107&_nc_sid=b96e70&_nc_ohc=bSXx0Sekm_MAX_8eoFD&_nc_ad=z-m&_nc_cid=0&_nc_zor=9&_nc_ht=scontent.xx&oh=8f58096d3d249b1a54c759ddeeeba9f9&oe=5EC43219\\nB\\u1ed9 n\\u00e0y gi\\u00e1 tnao shop\", \"S\\u1ea3n ph\\u1ea9m GH\\u1ebe NH\\u1ea2Y JUMPEROO KONIG KIDS CH\\u00cdNH H\\u00c3NG hi\\u1ec7n c\\u00f3 gi\\u00e1 1.190.000 VN\\u0110 (Gi\\u00e1 g\\u1ed1c: 1.900.000 VN\\u0110).\\nM\\u1eddi b\\u1ea1n tham kh\\u1ea3o s\\u1ea3n ph\\u1ea9m t\\u1ea1i \\u0111\\u01b0\\u1eddng link:\\n<show card>\", \"query_knowledge_base\", \"[\\\"url:['https://scontent.xx.fbcdn.net/v/t1.15752-9/94561499_543060359946538_2595608200518565888_n.jpg?_nc_cat=107&_nc_sid=b96e70&_nc_ohc=bSXx0Sekm_MAX_8eoFD&_nc_ad=z-m&_nc_cid=0&_nc_zor=9&_nc_ht=scontent.xx&oh=8f58096d3d249b1a54c759ddeeeba9f9&oe=5EC43219']\\\", 'mention:b\\u1ed9 n\\u00e0y', 'attribute:price']\", \"action_query_babe_kb\"], [\"ok shop\", \"D\\u1ea1 v\\u00e2ng \\u1ea1!\", \"agree\", null, \"utter_agree\"], [\"https://scontent.xx.fbcdn.net/v/t1.15752-9/94038207_687798988709671_7037596126890950656_n.jpg?_nc_cat=108&_nc_sid=b96e70&_nc_ohc=4GBQnpA0-ScAX83d8VU&_nc_ad=z-m&_nc_cid=0&_nc_zor=9&_nc_ht=scontent.xx&oh=8afd05be65873d63fd7e0f02576cdead&oe=5EC747E3\\nShop oi\\nH\\u00f4m m\\u00ecnh h\\u1ecfi m\\u00e1y n\\u00e0y\\nCon k shop\\nBe nha minh chuan bi an d\\u1eb7m roi\", null, \"handover_to_inbox\", \"[\\\"url:['https://scontent.xx.fbcdn.net/v/t1.15752-9/94038207_687798988709671_7037596126890950656_n.jpg?_nc_cat=108&_nc_sid=b96e70&_nc_ohc=4GBQnpA0-ScAX83d8VU&_nc_ad=z-m&_nc_cid=0&_nc_zor=9&_nc_ht=scontent.xx&oh=8afd05be65873d63fd7e0f02576cdead&oe=5EC747E3']\\\", 'object_type:may', 'mention:n\\u00e0y']\", \"action_handover_to_inbox\"], [\"https://scontent.xx.fbcdn.net/v/t1.15752-9/94038207_687798988709671_7037596126890950656_n.jpg?_nc_cat=108&_nc_sid=b96e70&_nc_ohc=4GBQnpA0-ScAX83d8VU&_nc_ad=z-m&_nc_cid=0&_nc_zor=9&_nc_ht=scontent.xx&oh=8afd05be65873d63fd7e0f02576cdead&oe=5EC747E3\\nShop oi\\nH\\u00f4m m\\u00ecnh h\\u1ecfi m\\u00e1y n\\u00e0y\\nCon k shop\\nBe nha minh chuan bi an d\\u1eb7m roi\", \"S\\u1ea3n ph\\u1ea9m M\\u00c1Y XAY H\\u1ea4P \\u0110A N\\u0102NG NUTRIBABY PLUS 5IN1 (Ph\\u00e1p) hi\\u1ec7n c\\u00f3 gi\\u00e1: 3.979.000 VN\\u0110 (Gi\\u00e1 g\\u1ed1c: 4.890.000 VN\\u0110).\\n<Show card>\", \"query_knowledge_base\", \"[\\\"url:['https://scontent.xx.fbcdn.net/v/t1.15752-9/94038207_687798988709671_7037596126890950656_n.jpg?_nc_cat=108&_nc_sid=b96e70&_nc_ohc=4GBQnpA0-ScAX83d8VU&_nc_ad=z-m&_nc_cid=0&_nc_zor=9&_nc_ht=scontent.xx&oh=8afd05be65873d63fd7e0f02576cdead&oe=5EC747E3']\\\", 'object_type:may', 'mention:n\\u00e0y']\", \"action_query_babe_kb\"], [\"ok shop\", \"D\\u1ea1 v\\u00e2ng \\u1ea1!\", \"agree\", null, \"utter_agree\"], [\"Ch\\u00e0o shop\", \"Ch\\u00e0o b\\u1ea1n, m\\u00ecnh l\\u00e0 tr\\u1ee3 l\\u00fd \\u1ea3o c\\u1ee7a Shop G\\u1ea5u & B\\u00ed Ng\\u00f4, m\\u00ecnh gi\\u00fap g\\u00ec \\u0111\\u01b0\\u1ee3c b\\u1ea1n \\u1ea1?\", \"greet\", null, \"utter_greet\"], [\"https://scontent.xx.fbcdn.net/v/t1.15752-9/94316648_559560771648930_8586198601812672512_n.jpg?_nc_cat=104&_nc_sid=b96e70&_nc_ohc=nYoq7RRX3DMAX_k9-MH&_nc_ad=z-m&_nc_cid=0&_nc_zor=9&_nc_ht=scontent.xx&oh=3ab20e00abb8dea43ef7bf6865ff9dfe&oe=5EC6DAB7\\nB\\u1ed9 n\\u00e0y gi\\u00e1 bnhieu v\\u1eady s\", \"\\\"S\\u1ea3n ph\\u1ea9m  COMBO HOLLA LI\\u00caN HO\\u00c0N 2020 c\\u00f3 gi\\u00e1 4.100.000 (Gi\\u00e1 g\\u1ed1c: 5.000.000).\\n<Show card>\\\"\", \"query_knowledge_base\", \"[\\\"url:['https://scontent.xx.fbcdn.net/v/t1.15752-9/94316648_559560771648930_8586198601812672512_n.jpg?_nc_cat=104&_nc_sid=b96e70&_nc_ohc=nYoq7RRX3DMAX_k9-MH&_nc_ad=z-m&_nc_cid=0&_nc_zor=9&_nc_ht=scontent.xx&oh=3ab20e00abb8dea43ef7bf6865ff9dfe&oe=5EC6DAB7']\\\", 'mention:b\\u1ed9 n\\u00e0y', 'attribute:price']\", \"action_query_babe_kb\"], [\"Ch\\u00e0o shop\", \"Ch\\u00e0o b\\u1ea1n, m\\u00ecnh l\\u00e0 tr\\u1ee3 l\\u00fd \\u1ea3o c\\u1ee7a Shop G\\u1ea5u & B\\u00ed Ng\\u00f4, m\\u00ecnh gi\\u00fap g\\u00ec \\u0111\\u01b0\\u1ee3c b\\u1ea1n \\u1ea1?\", \"greet\", null, \"utter_greet\"], [\"https://scontent.xx.fbcdn.net/v/t1.15752-9/94316648_559560771648930_8586198601812672512_n.jpg?_nc_cat=104&_nc_sid=b96e70&_nc_ohc=nYoq7RRX3DMAX_k9-MH&_nc_ad=z-m&_nc_cid=0&_nc_zor=9&_nc_ht=scontent.xx&oh=3ab20e00abb8dea43ef7bf6865ff9dfe&oe=5EC6DAB7\\nB\\u1ed9 n\\u00e0y gi\\u00e1 bnhieu v\\u1eady s\", \"S\\u1ea3n ph\\u1ea9m  COMBO HOLLA LI\\u00caN HO\\u00c0N 2020 c\\u00f3 gi\\u00e1 4.100.000 (Gi\\u00e1 g\\u1ed1c: 5.000.000).\\n<Show card>\\\"\", \"query_knowledge_base\", \"[\\\"url:['https://scontent.xx.fbcdn.net/v/t1.15752-9/94316648_559560771648930_8586198601812672512_n.jpg?_nc_cat=104&_nc_sid=b96e70&_nc_ohc=nYoq7RRX3DMAX_k9-MH&_nc_ad=z-m&_nc_cid=0&_nc_zor=9&_nc_ht=scontent.xx&oh=3ab20e00abb8dea43ef7bf6865ff9dfe&oe=5EC6DAB7']\\\", 'mention:b\\u1ed9 n\\u00e0y', 'attribute:price']\", \"action_query_babe_kb\"], [\"c\\u00f3 nh\\u1eefng m\\u00e0u g\\u00ec shop nh\\u1ec9?\", \"S\\u1ea3n ph\\u1ea9m COMBO HOLLA LI\\u00caN HO\\u00c0N 2020 c\\u00f3 m\\u00e0u: Xanh, Cam \\u1ea1\", null, null, null], [\"ok, thank shop nh\\u00e9\", \"Shop c\\u1ea3m \\u01a1n b\\u1ea1n \\u1ea1.\", \"thank\", null, \"utter_thank\"], [\"m\\u00ecnh mu\\u1ed1n mua m\\u00e1y ti\\u1ec7t tr\\u00f9ng uv\\nt\\u01b0 v\\u1ea5n m\\u00ecnh v\\u1edbi\", \"\\\"Hi\\u1ec7n t\\u1ea1i s\\u1ea3n ph\\u1ea9m M\\u00e1y ti\\u1ec7t tr\\u00f9ng  shop \\u0111ang c\\u00f3 nh\\u1eefng gi\\u00e1 sau \\u1ea1:\\n<500-1M> <1M-2M> <T\\u1ea5t c\\u1ea3 gi\\u00e1>\\\"\", \"query_knowledge_base\", \"[]\", \"action_query_babe_kb\"], [\"Ok m \\u0111\\u1eb7t tr\\u00ean shopee nha\", \"D\\u1ea1 v\\u00e2ng \\u1ea1!\", \"just_inform\", null, null], [\"Shop ship cho minh ve d\\u1ecba chi nay c\\u00e1i nh\\u00e9 04 d\\u01b0\\u1eddng h\\u1ea1c th\\u00e0nh. Ph\\u01b0\\u1eddng t\\u00e2n s\\u01a1n. Th\\u00e0nh ph\\u1ed1 thanh h\\u00f3a 0968955567\", null, \"handover_to_inbox\", \"[]\", \"action_handover_to_inbox\"], [\"V\\u00e2ng \\u1ea1. Ph\\u00ed ship SG kho\\u1ea3ng bao nhi\\u00eau \\u1ea1\", \"Shop G\\u1ea5u v\\u00e0 B\\u00ed ng\\u00f4 s\\u1eb5n s\\u00e0ng ph\\u1ee5c v\\u1ee5, g\\u1eedi h\\u00e0ng tr\\u00ean to\\u00e0n qu\\u1ed1c. Chi ti\\u1ebft ch\\u00ednh s\\u00e1ch giao h\\u00e0ng b\\u1ea1n xem t\\u1ea1i \\u0111\\u1ecba ch\\u1ec9:\\n<link ch\\u00ednh s\\u00e1ch b\\u00e1n h\\u00e0ng>\", \"ask_ship\", \"['attribute:price']\", \"utter_ask_ship\"], [\"https://scontent.xx.fbcdn.net/v/t1.15752-9/94323038_1108008879555033_809681363421626368_n.jpg?_nc_cat=100&_nc_sid=b96e70&_nc_ohc=9Sd_i3IdtH4AX-pZB98&_nc_ad=z-m&_nc_cid=0&_nc_zor=9&_nc_ht=scontent.xx&oh=4332a43fb415a3a2f20ba28a8e52e1d7&oe=5EC48249\", \"B\\u1ea1n \\u0111ang t\\u00ecm ki\\u1ebfm th\\u00f4ng tin g\\u00ec \\u1ea1?\", \"send_link\", \"[\\\"url:['https://scontent.xx.fbcdn.net/v/t1.15752-9/94323038_1108008879555033_809681363421626368_n.jpg?_nc_cat=100&_nc_sid=b96e70&_nc_ohc=9Sd_i3IdtH4AX-pZB98&_nc_ad=z-m&_nc_cid=0&_nc_zor=9&_nc_ht=scontent.xx&oh=4332a43fb415a3a2f20ba28a8e52e1d7&oe=5EC48249']\\\"]\", \"action_handle_send_link_only\"], [\"E b\\u1ecb m\\u1ea5t kh\\u00f3a \\u1edf b\\u1ed9 ph\\u1eadn n\\u00e0y\\nB\\u00ean m\\u00ecnh c\\u00f3 b\\u00e1n l\\u1ebb k \\u1ea1\", null, \"handover_to_inbox\", \"['mention:b\\u1ed9 ph\\u1eadn n\\u00e0y']\", \"action_handover_to_inbox\"], [\"https://scontent.xx.fbcdn.net/v/t1.15752-9/94259393_892892491187558_7679210626836594688_n.jpg?_nc_cat=108&_nc_sid=b96e70&_nc_ohc=0rDEDeG8lA0AX-B0SQQ&_nc_ad=z-m&_nc_cid=0&_nc_zor=9&_nc_ht=scontent.xx&oh=a2ff5613ed551cd6dc4fe7cc6402ee5e&oe=5EC5CABA\\nhttps://scontent.xx.fbcdn.net/v/t1.15752-9/94243630_1102036203477446_4753051873383022592_n.jpg?_nc_cat=106&_nc_sid=b96e70&_nc_ohc=vnRAbnMtAQUAX_ep3zB&_nc_ad=z-m&_nc_cid=0&_nc_zor=9&_nc_ht=scontent.xx&oh=4898f46c66c29418b7233a70414f0ed4&oe=5EC4CCFA\\n2 n\\u00e0y nhiu shop\", \"S\\u1ea3n ph\\u1ea9m Xe \\u0111\\u1ea9y 2 chi\\u1ec1u cao c\\u1ea5p VOVO 2019 \\u0111ang c\\u00f3 gi\\u00e1: 1.620.000 VN\\u0110 (Gi\\u00e1 g\\u1ed1c: 2.500.000 VN\\u0110).\\nM\\u1eddi b\\u1ea1n xem chi ti\\u1ebft s\\u1ea3n ph\\u1ea9m t\\u1ea1i link:\\n<Show card>\", \"query_knowledge_base\", \"[\\\"url:['https://scontent.xx.fbcdn.net/v/t1.15752-9/94259393_892892491187558_7679210626836594688_n.jpg?_nc_cat=108&_nc_sid=b96e70&_nc_ohc=0rDEDeG8lA0AX-B0SQQ&_nc_ad=z-m&_nc_cid=0&_nc_zor=9&_nc_ht=scontent.xx&oh=a2ff5613ed551cd6dc4fe7cc6402ee5e&oe=5EC5CABA', 'https://scontent.xx.fbcdn.net/v/t1.15752-9/94243630_1102036203477446_4753051873383022592_n.jpg?_nc_cat=106&_nc_sid=b96e70&_nc_ohc=vnRAbnMtAQUAX_ep3zB&_nc_ad=z-m&_nc_cid=0&_nc_zor=9&_nc_ht=scontent.xx&oh=4898f46c66c29418b7233a70414f0ed4&oe=5EC4CCFA']\\\", 'attribute:price']\", \"action_query_babe_kb\"], [\"Xe \\u0111\\u1ea9y n\\u00e0y \\u0111ang gi\\u1ea3m gi\\u00e1 ph\\u1ea3i k\", \"S\\u1ea3n ph\\u1ea9m Xe \\u0111\\u1ea9y 2 chi\\u1ec1u cao c\\u1ea5p VOVO 2019 \\u0111ang c\\u00f3 khuy\\u1ebfn m\\u1ea1i: 35% \\u1ea1\", \"query_knowledge_base\", \"['object_type:xe_day', 'attribute:promotion']\", \"action_query_babe_kb\"], [\"https://scontent.xx.fbcdn.net/v/t1.15752-9/94259393_892892491187558_7679210626836594688_n.jpg?_nc_cat=108&_nc_sid=b96e70&_nc_ohc=0rDEDeG8lA0AX-B0SQQ&_nc_ad=z-m&_nc_cid=0&_nc_zor=9&_nc_ht=scontent.xx&oh=a2ff5613ed551cd6dc4fe7cc6402ee5e&oe=5EC5CABA\\nhttps://scontent.xx.fbcdn.net/v/t1.15752-9/94243630_1102036203477446_4753051873383022592_n.jpg?_nc_cat=106&_nc_sid=b96e70&_nc_ohc=vnRAbnMtAQUAX_ep3zB&_nc_ad=z-m&_nc_cid=0&_nc_zor=9&_nc_ht=scontent.xx&oh=4898f46c66c29418b7233a70414f0ed4&oe=5EC4CCFA\\n2 n\\u00e0y nhiu shop\", \"S\\u1ea3n ph\\u1ea9m Xe \\u0111\\u1ea9y 2 chi\\u1ec1u cao c\\u1ea5p VOVO 2019 \\u0111ang c\\u00f3 gi\\u00e1: 1.620.000 VN\\u0110 (Gi\\u00e1 g\\u1ed1c: 2.500.000 VN\\u0110).\\nM\\u1eddi b\\u1ea1n xem chi ti\\u1ebft s\\u1ea3n ph\\u1ea9m t\\u1ea1i link:\\n<Show card>\\n\\nS\\u1ea3n ph\\u1ea9m Thanh \\u0111\\u1ed3 ch\\u01a1i treo n\\u00f4i, c\\u0169i, xe \\u0111\\u1ea9y, gh\\u1ebf ng\\u1ed3i \\u00f4 t\\u00f4 h\\u00ecnh chim c\\u00f3 nh\\u1ea1c Infantino (M\\u1ef9) \\u0111ang c\\u00f3 gi\\u00e1: 279.000 VN\\u0110 (Gi\\u00e1 g\\u1ed1c: 399.000 VN\\u0110).\\nS\\u1ea3n ph\\u1ea9m Xe \\u0111\\u1ea9y 2 chi\\u1ec1u cao c\\u1ea5p VOVO 2019 \\u0111ang c\\u00f3 gi\\u00e1: 1.620.000 VN\\u0110 (Gi\\u00e1 g\\u1ed1c: 2.500.000 VN\\u0110).\\r\\nM\\u1eddi b\\u1ea1n xem chi ti\\u1ebft s\\u1ea3n ph\\u1ea9m t\\u1ea1i link:\\r\\n<Show card>\", \"query_knowledge_base\", \"[\\\"url:['https://scontent.xx.fbcdn.net/v/t1.15752-9/94259393_892892491187558_7679210626836594688_n.jpg?_nc_cat=108&_nc_sid=b96e70&_nc_ohc=0rDEDeG8lA0AX-B0SQQ&_nc_ad=z-m&_nc_cid=0&_nc_zor=9&_nc_ht=scontent.xx&oh=a2ff5613ed551cd6dc4fe7cc6402ee5e&oe=5EC5CABA', 'https://scontent.xx.fbcdn.net/v/t1.15752-9/94243630_1102036203477446_4753051873383022592_n.jpg?_nc_cat=106&_nc_sid=b96e70&_nc_ohc=vnRAbnMtAQUAX_ep3zB&_nc_ad=z-m&_nc_cid=0&_nc_zor=9&_nc_ht=scontent.xx&oh=4898f46c66c29418b7233a70414f0ed4&oe=5EC4CCFA']\\\", 'attribute:price']\", \"action_query_babe_kb\"], [\"Xe \\u0111\\u1ea9y n\\u00e0y \\u0111ang gi\\u1ea3m gi\\u00e1 ph\\u1ea3i k\", \"S\\u1ea3n ph\\u1ea9m Xe \\u0111\\u1ea9y 2 chi\\u1ec1u cao c\\u1ea5p VOVO 2019 \\u0111ang c\\u00f3 khuy\\u1ebfn m\\u1ea1i: 35% \\u1ea1\", \"query_knowledge_base\", \"['object_type:xe_day', 'attribute:promotion']\", \"action_query_babe_kb\"], [\"https://scontent.xx.fbcdn.net/v/t1.15752-9/94258066_3106456589367061_8404234375218069504_n.jpg?_nc_cat=108&_nc_sid=b96e70&_nc_ohc=SapTrP0sYnQAX8HDeMB&_nc_ad=z-m&_nc_cid=0&_nc_zor=9&_nc_ht=scontent.xx&oh=888da228f92bb60b1197f0943fe83fe6&oe=5EC73344\", \"B\\u1ea1n \\u0111ang t\\u00ecm ki\\u1ebfm th\\u00f4ng tin g\\u00ec \\u1ea1?\", \"send_link\", \"[\\\"url:['https://scontent.xx.fbcdn.net/v/t1.15752-9/94258066_3106456589367061_8404234375218069504_n.jpg?_nc_cat=108&_nc_sid=b96e70&_nc_ohc=SapTrP0sYnQAX8HDeMB&_nc_ad=z-m&_nc_cid=0&_nc_zor=9&_nc_ht=scontent.xx&oh=888da228f92bb60b1197f0943fe83fe6&oe=5EC73344']\\\"]\", \"action_handle_send_link_only\"], [\"M\\u00ecnh c\\u00f3 c\\u1ea7u tr\\u01b0\\u1ee3t n\\u00e0y c\\u1ee7a hola k c\", \"S\\u1ea3n ph\\u1ea9m C\\u1ea7u tr\\u01b0\\u1ee3t x\\u00edch \\u0111u Hola h\\u1ea3i c\\u1ea9u 2020 \\u0111ang c\\u00f3 gi\\u00e1: 1.990.000 VN\\u0110 (Gi\\u00e1 g\\u1ed1c: 3.250.000 VN\\u0110).\\nM\\u1eddi b\\u1ea1n xem chi ti\\u1ebft s\\u1ea3n ph\\u1ea9m t\\u1ea1i link:\\n<Show card>\", \"query_knowledge_base\", \"['object_type:cau_truot', 'mention:n\\u00e0y', 'brand:hola']\", \"action_query_babe_kb\"], [\"https://scontent.xx.fbcdn.net/v/t1.15752-9/94258066_3106456589367061_8404234375218069504_n.jpg?_nc_cat=108&_nc_sid=b96e70&_nc_ohc=SapTrP0sYnQAX8HDeMB&_nc_ad=z-m&_nc_cid=0&_nc_zor=9&_nc_ht=scontent.xx&oh=888da228f92bb60b1197f0943fe83fe6&oe=5EC73344\", \"B\\u1ea1n \\u0111ang t\\u00ecm ki\\u1ebfm th\\u00f4ng tin g\\u00ec \\u1ea1?\", \"send_link\", \"[\\\"url:['https://scontent.xx.fbcdn.net/v/t1.15752-9/94258066_3106456589367061_8404234375218069504_n.jpg?_nc_cat=108&_nc_sid=b96e70&_nc_ohc=SapTrP0sYnQAX8HDeMB&_nc_ad=z-m&_nc_cid=0&_nc_zor=9&_nc_ht=scontent.xx&oh=888da228f92bb60b1197f0943fe83fe6&oe=5EC73344']\\\"]\", \"action_handle_send_link_only\"], [\"M\\u00ecnh c\\u00f3 c\\u1ea7u tr\\u01b0\\u1ee3t n\\u00e0y c\\u1ee7a hola k c\", \"S\\u1ea3n ph\\u1ea9m C\\u1ea7u tr\\u01b0\\u1ee3t x\\u00edch \\u0111u Hola h\\u1ea3i c\\u1ea9u 2020 shop \\u0111ang t\\u1ea1m h\\u1ebft h\\u00e0ng. B\\u1ea1n tham kh\\u1ea3o c\\u00e1c s\\u1ea3n ph\\u1ea9m C\\u1ea7u tr\\u01b0\\u1ee3t, X\\u00edch du kh\\u00e1c \\u0111ang c\\u00f3 \\u1edf shop nh\\u00e9!\", \"query_knowledge_base\", \"['object_type:cau_truot', 'mention:n\\u00e0y', 'brand:hola']\", \"action_query_babe_kb\"], [\"Khi n\\u00e0o c\\u00f3 h\\u00e0ng l\\u1ea1i \\u1ea1\", null, \"handover_to_inbox\", \"[]\", \"action_handover_to_inbox\"], [\"B\\u1ea1n \\u01a1i\", \"Ch\\u00e0o b\\u1ea1n, m\\u00ecnh l\\u00e0 tr\\u1ee3 l\\u00fd \\u1ea3o c\\u1ee7a Shop G\\u1ea5u & B\\u00ed Ng\\u00f4, m\\u00ecnh gi\\u00fap g\\u00ec \\u0111\\u01b0\\u1ee3c b\\u1ea1n \\u1ea1?\", \"greet\", \"[]\", \"utter_greet\"], [\"Tiki giao h\\u00e0ng ch\\u1eadm qu\\u00e1 m\\u00ecnh h\\u1ee7y \\u0111\\u01a1n r\\u1ed3i\", null, \"handover_to_inbox\", \"[]\", \"action_handover_to_inbox\"], [\"B \\u01a1i\\nhttps://scontent.xx.fbcdn.net/v/t1.15752-9/94080363_366864304231193_6923640899247276032_n.jpg?_nc_cat=104&_nc_sid=b96e70&_nc_oc=AQnYjDUlyL9X-imLwYXvZ0dbzfwZzzYVzYigef-3OxNFH_DMmIWXM1cLs_yT6agKPNKI95IJz1OCpFOOphtU-1eO&_nc_ad=z-m&_nc_cid=0&_nc_zor=9&_nc_ht=scontent.xx&oh=5dba552f7208a17a094b507bc0e2384f&oe=5EC58419\\nM\\u00ecnh c\\u00f2n b\\u1ed9 n\\u00e0y ko\", \"D\\u1ea1, c\\u00f3 ph\\u1ea3i b\\u1ea1n mu\\u1ed1n h\\u1ecfi m\\u1ed9t trong c\\u00e1c s\\u1ea3n ph\\u1ea9m d\\u01b0\\u1edbi \\u0111\\u00e2y kh\\u00f4ng \\u1ea1?\\n (Vui l\\u00f2ng \\u1ea5n ch\\u1ecdn 1 s\\u1ea3n ph\\u1ea9m)...\", \"query_knowledge_base\", \"[\\\"url:['https://scontent.xx.fbcdn.net/v/t1.15752-9/94080363_366864304231193_6923640899247276032_n.jpg?_nc_cat=104&_nc_sid=b96e70&_nc_oc=AQnYjDUlyL9X-imLwYXvZ0dbzfwZzzYVzYigef-3OxNFH_DMmIWXM1cLs_yT6agKPNKI95IJz1OCpFOOphtU-1eO&_nc_ad=z-m&_nc_cid=0&_nc_zor=9&_nc_ht=scontent.xx&oh=5dba552f7208a17a094b507bc0e2384f&oe=5EC58419']\\\", 'mention:b\\u1ed9 n\\u00e0y']\", \"action_query_babe_kb\"], [\"/query_knowledge_base{\\\"url\\\": \\\"https://shopee.vn/product/36371562/3220636191\\\", \\\"product_id\\\": \\\"https://shopee.vn/product/36371562/3220636191\\\"}\", \"S\\u1ea3n ph\\u1ea9m  B\\u1ed9 \\u0111\\u1ed3 ch\\u01a1i \\u0111\\u00e0n Piano k\\u1ebft h\\u1ee3p 10 nh\\u1ea1c c\\u1ee5 BKIDS 003398  hi\\u1ec7n shop \\u0111ang c\\u00f3 gi\\u00e1: *880,000 VND (gi\\u00e1 g\\u1ed1c 1,200,000 VND)*.\\nB\\u1ea1n tham kh\\u1ea3o c\\u00e1c s\\u1ea3n ph\\u1ea9m sau nh\\u00e9 \\u1ea1:\", \"query_knowledge_base\", \"['url:https://shopee.vn/product/36371562/3220636191', 'product_id:https://shopee.vn/product/36371562/3220636191']\", \"action_query_babe_kb\"], [\"B \\u01a1i\\nhttps://scontent.xx.fbcdn.net/v/t1.15752-9/94080363_366864304231193_6923640899247276032_n.jpg?_nc_cat=104&_nc_sid=b96e70&_nc_oc=AQnYjDUlyL9X-imLwYXvZ0dbzfwZzzYVzYigef-3OxNFH_DMmIWXM1cLs_yT6agKPNKI95IJz1OCpFOOphtU-1eO&_nc_ad=z-m&_nc_cid=0&_nc_zor=9&_nc_ht=scontent.xx&oh=5dba552f7208a17a094b507bc0e2384f&oe=5EC58419\\nM\\u00ecnh c\\u00f2n b\\u1ed9 n\\u00e0y ko\", \"S\\u1ea3n ph\\u1ea9m  B\\u1ed9 \\u0111\\u1ed3 ch\\u01a1i \\u0111\\u00e0n Piano k\\u1ebft h\\u1ee3p 10 nh\\u1ea1c c\\u1ee5 BKIDS 003398  hi\\u1ec7n shop \\u0111ang c\\u00f3 gi\\u00e1: *880,000 VND (gi\\u00e1 g\\u1ed1c 1,200,000 VND)*.\\nB\\u1ea1n tham kh\\u1ea3o c\\u00e1c s\\u1ea3n ph\\u1ea9m sau nh\\u00e9 \\u1ea1:\", \"query_knowledge_base\", \"[\\\"url:['https://scontent.xx.fbcdn.net/v/t1.15752-9/94080363_366864304231193_6923640899247276032_n.jpg?_nc_cat=104&_nc_sid=b96e70&_nc_oc=AQnYjDUlyL9X-imLwYXvZ0dbzfwZzzYVzYigef-3OxNFH_DMmIWXM1cLs_yT6agKPNKI95IJz1OCpFOOphtU-1eO&_nc_ad=z-m&_nc_cid=0&_nc_zor=9&_nc_ht=scontent.xx&oh=5dba552f7208a17a094b507bc0e2384f&oe=5EC58419']\\\", 'mention:b\\u1ed9 n\\u00e0y']\", \"action_query_babe_kb\"], [\"C\\u00f2n xe m\\u00e0u xanh k b\\u1ea1n?\", \"S\\u1ea3n ph\\u1ea9m b\\u1ea1n \\u0111ang t\\u00ecm c\\u00f3 ph\\u1ea3i l\\u00e0?\", \"query_knowledge_base\", \"['color:m\\u00e0u xanh','object_type:xe']\", \"action_query_babe_kb\"], [\"https://scontent.xx.fbcdn.net/v/t1.15752-9/94102000_537890583596250_3175827341263765504_n.jpg?_nc_cat=101&_nc_sid=b96e70&_nc_ohc=5935ns4FSwQAX-_WOWm&_nc_ad=z-m&_nc_cid=0&_nc_zor=9&_nc_ht=scontent.xx&oh=15177bd0d58de1d81f7183e9a391dc86&oe=5EC3949F\", \"D\\u1ea1, c\\u00f3 ph\\u1ea3i b\\u1ea1n mu\\u1ed1n h\\u1ecfi m\\u1ed9t trong c\\u00e1c s\\u1ea3n ph\\u1ea9m d\\u01b0\\u1edbi \\u0111\\u00e2y kh\\u00f4ng \\u1ea1?\\n (Vui l\\u00f2ng \\u1ea5n ch\\u1ecdn 1 s\\u1ea3n ph\\u1ea9m)...\", \"send_link\", \"[\\\"url:['https://scontent.xx.fbcdn.net/v/t1.15752-9/94102000_537890583596250_3175827341263765504_n.jpg?_nc_cat=101&_nc_sid=b96e70&_nc_ohc=5935ns4FSwQAX-_WOWm&_nc_ad=z-m&_nc_cid=0&_nc_zor=9&_nc_ht=scontent.xx&oh=15177bd0d58de1d81f7183e9a391dc86&oe=5EC3949F']\\\"]\", \"action_handle_send_link_only\"], [\"/disagree{\\\"object_type\\\": null}\", \"B\\u1ea1n vui l\\u00f2ng m\\u00f4 t\\u1ea3 r\\u00f5 mong mu\\u1ed1n c\\u1ee7a b\\u1ea1n ho\\u1eb7c chat v\\u1edbi nh\\u00e2n vi\\u00ean t\\u01b0 v\\u1ea5n nh\\u00e9!\", \"disagree\", \"['object_type:None']\", \"utter_disagree\"], [\"M\\u00ecnh g\\u1eedi \\u1ea3nh \\u1edf tr\\u00ean b\\u1ea1n \\u01a1i\\nXem tin nh\\u1eafn \\u0111i\", null, \"handover_to_inbox\", \"['attribute:image']\", \"action_handover_to_inbox\"], [\"C\\u00f2n xe m\\u00e0u xanh k b\\u1ea1n?\", \"S\\u1ea3n ph\\u1ea9m b\\u1ea1n \\u0111ang t\\u00ecm c\\u00f3 ph\\u1ea3i l\\u00e0?\", \"query_knowledge_base\", \"['color:m\\u00e0u xanh','object_type:xe']\", \"action_query_babe_kb\"], [\"https://scontent.xx.fbcdn.net/v/t1.15752-9/94102000_537890583596250_3175827341263765504_n.jpg?_nc_cat=101&_nc_sid=b96e70&_nc_ohc=5935ns4FSwQAX-_WOWm&_nc_ad=z-m&_nc_cid=0&_nc_zor=9&_nc_ht=scontent.xx&oh=15177bd0d58de1d81f7183e9a391dc86&oe=5EC3949F\", \"D\\u1ea1, c\\u00f3 ph\\u1ea3i b\\u1ea1n mu\\u1ed1n h\\u1ecfi m\\u1ed9t trong c\\u00e1c s\\u1ea3n ph\\u1ea9m d\\u01b0\\u1edbi \\u0111\\u00e2y kh\\u00f4ng \\u1ea1?\\n (Vui l\\u00f2ng \\u1ea5n ch\\u1ecdn 1 s\\u1ea3n ph\\u1ea9m)...\", \"send_link\", \"[\\\"url:['https://scontent.xx.fbcdn.net/v/t1.15752-9/94102000_537890583596250_3175827341263765504_n.jpg?_nc_cat=101&_nc_sid=b96e70&_nc_ohc=5935ns4FSwQAX-_WOWm&_nc_ad=z-m&_nc_cid=0&_nc_zor=9&_nc_ht=scontent.xx&oh=15177bd0d58de1d81f7183e9a391dc86&oe=5EC3949F']\\\"]\", \"action_handle_send_link_only\"], [\"/query_knowledge_base{\\\"url\\\": \\\"https://www.facebook.com/shopgauvabingo/posts/2445777899065867\\\", \\\"product_id\\\": \\\"https://www.facebook.com/shopgauvabingo/posts/2445777899065867\\\"}\", \"S\\u1ea3n ph\\u1ea9m Xe ch\\u00f2i ch\\u00e2n ki\\u00eam xe l\\u1eafc cao c\\u1ea5p c\\u00f3 nh\\u1ea1c Holla hi\\u1ec7n shop \\u0111ang c\\u00f3 gi\\u00e1: *790,000 VND (gi\\u00e1 g\\u1ed1c 1,200,000 VND)*.\\nB\\u1ea1n tham kh\\u1ea3o c\\u00e1c s\\u1ea3n ph\\u1ea9m sau nh\\u00e9 \\u1ea1:\", \"query_knowledge_base\", null, \"action_query_babe_kb\"], [\"thank shop\", \"D\\u1ea1, c\\u1ea3m \\u01a1n b\\u1ea1n!\", \"thank\", null, \"utter_thank\"], [\"C\\u00f2n xe m\\u00e0u xanh k b\\u1ea1n?\", \"S\\u1ea3n ph\\u1ea9m b\\u1ea1n \\u0111ang t\\u00ecm c\\u00f3 ph\\u1ea3i l\\u00e0?\", \"query_knowledge_base\", \"['color:m\\u00e0u xanh','object_type:xe']\", \"action_query_babe_kb\"], [\"https://scontent.xx.fbcdn.net/v/t1.15752-9/94102000_537890583596250_3175827341263765504_n.jpg?_nc_cat=101&_nc_sid=b96e70&_nc_ohc=5935ns4FSwQAX-_WOWm&_nc_ad=z-m&_nc_cid=0&_nc_zor=9&_nc_ht=scontent.xx&oh=15177bd0d58de1d81f7183e9a391dc86&oe=5EC3949F\", \"S\\u1ea3n ph\\u1ea9m Xe ch\\u00f2i ch\\u00e2n ki\\u00eam xe l\\u1eafc cao c\\u1ea5p c\\u00f3 nh\\u1ea1c Holla hi\\u1ec7n shop \\u0111ang c\\u00f3 gi\\u00e1: *790,000 VND (gi\\u00e1 g\\u1ed1c 1,200,000 VND)*.\\nB\\u1ea1n tham kh\\u1ea3o c\\u00e1c s\\u1ea3n ph\\u1ea9m sau nh\\u00e9 \\u1ea1:\", \"send_link\", \"[\\\"url:['https://scontent.xx.fbcdn.net/v/t1.15752-9/94102000_537890583596250_3175827341263765504_n.jpg?_nc_cat=101&_nc_sid=b96e70&_nc_ohc=5935ns4FSwQAX-_WOWm&_nc_ad=z-m&_nc_cid=0&_nc_zor=9&_nc_ht=scontent.xx&oh=15177bd0d58de1d81f7183e9a391dc86&oe=5EC3949F']\\\"]\", \"action_handle_send_link_only\"], [\"thank shop\", \"D\\u1ea1, c\\u1ea3m \\u01a1n b\\u1ea1n!\", \"thank\", null, \"utter_thank\"], [\"C\\u00f2n xe m\\u00e0u xanh k b\\u1ea1n?\", \"S\\u1ea3n ph\\u1ea9m b\\u1ea1n \\u0111ang t\\u00ecm c\\u00f3 ph\\u1ea3i l\\u00e0?\", \"query_knowledge_base\", \"['color:m\\u00e0u xanh','object_type:xe']\", \"action_query_babe_kb\"], [\"https://scontent.xx.fbcdn.net/v/t1.15752-9/94102000_537890583596250_3175827341263765504_n.jpg?_nc_cat=101&_nc_sid=b96e70&_nc_ohc=5935ns4FSwQAX-_WOWm&_nc_ad=z-m&_nc_cid=0&_nc_zor=9&_nc_ht=scontent.xx&oh=15177bd0d58de1d81f7183e9a391dc86&oe=5EC3949F\", \"S\\u1ea3n ph\\u1ea9m Xe ch\\u00f2i ch\\u00e2n ki\\u00eam xe l\\u1eafc cao c\\u1ea5p c\\u00f3 nh\\u1ea1c Holla hi\\u1ec7n shop c\\u00f2n h\\u00e0ng v\\u00e0 \\u0111ang c\\u00f3 gi\\u00e1: *790,000 VND (gi\\u00e1 g\\u1ed1c 1,200,000 VND)*.\\r\\nB\\u1ea1n tham kh\\u1ea3o c\\u00e1c s\\u1ea3n ph\\u1ea9m sau nh\\u00e9 \\u1ea1:\", \"send_link\", \"[\\\"url:['https://scontent.xx.fbcdn.net/v/t1.15752-9/94102000_537890583596250_3175827341263765504_n.jpg?_nc_cat=101&_nc_sid=b96e70&_nc_ohc=5935ns4FSwQAX-_WOWm&_nc_ad=z-m&_nc_cid=0&_nc_zor=9&_nc_ht=scontent.xx&oh=15177bd0d58de1d81f7183e9a391dc86&oe=5EC3949F']\\\"]\", \"action_handle_send_link_only\"], [\"thank shop\", \"D\\u1ea1, c\\u1ea3m \\u01a1n b\\u1ea1n!\", \"thank\", null, \"utter_thank\"], [\"C\\u00f2n xe m\\u00e0u xanh k b\\u1ea1n?\", \"S\\u1ea3n ph\\u1ea9m b\\u1ea1n \\u0111ang t\\u00ecm c\\u00f3 ph\\u1ea3i l\\u00e0?\", \"query_knowledge_base\", \"['color:m\\u00e0u xanh','object_type:xe']\", \"action_query_babe_kb\"], [\"https://scontent.xx.fbcdn.net/v/t1.15752-9/94102000_537890583596250_3175827341263765504_n.jpg?_nc_cat=101&_nc_sid=b96e70&_nc_ohc=5935ns4FSwQAX-_WOWm&_nc_ad=z-m&_nc_cid=0&_nc_zor=9&_nc_ht=scontent.xx&oh=15177bd0d58de1d81f7183e9a391dc86&oe=5EC3949F\", \"S\\u1ea3n ph\\u1ea9m Xe ch\\u00f2i ch\\u00e2n ki\\u00eam xe l\\u1eafc cao c\\u1ea5p c\\u00f3 nh\\u1ea1c Holla hi\\u1ec7n shop h\\u1ebft h\\u00e0ng \\u1ea1\\nB\\u1ea1n tham kh\\u1ea3o c\\u00e1c s\\u1ea3n ph\\u1ea9m kh\\u00e1c nh\\u00e9 \\u1ea1:\", \"send_link\", \"[\\\"url:['https://scontent.xx.fbcdn.net/v/t1.15752-9/94102000_537890583596250_3175827341263765504_n.jpg?_nc_cat=101&_nc_sid=b96e70&_nc_ohc=5935ns4FSwQAX-_WOWm&_nc_ad=z-m&_nc_cid=0&_nc_zor=9&_nc_ht=scontent.xx&oh=15177bd0d58de1d81f7183e9a391dc86&oe=5EC3949F']\\\"]\", \"action_handle_send_link_only\"], [\"thank shop\", \"D\\u1ea1, c\\u1ea3m \\u01a1n b\\u1ea1n!\", \"thank\", null, \"utter_thank\"], [\"https://scontent.xx.fbcdn.net/v/t1.15752-9/93421060_694074408092001_3418794938278608896_n.jpg?_nc_cat=104&_nc_sid=b96e70&_nc_ohc=y8JBwsvgIzsAX8KRRtS&_nc_ad=z-m&_nc_cid=0&_nc_zor=9&_nc_ht=scontent.xx&oh=4b820252ad86bea6ddb057ddf4a2578f&oe=5EC53BA3\\nBn shop oi\", \"S\\u1ea3n ph\\u1ea9m Xe ch\\u00f2i ch\\u00e2n ki\\u00eam xe l\\u1eafc cao c\\u1ea5p c\\u00f3 nh\\u1ea1c Holla hi\\u1ec7n shop \\u0111ang c\\u00f3 gi\\u00e1: *790,000 VND (gi\\u00e1 g\\u1ed1c 1,200,000 VND)*.\\nB\\u1ea1n tham kh\\u1ea3o c\\u00e1c s\\u1ea3n ph\\u1ea9m sau nh\\u00e9 \\u1ea1:\", \"query_knowledge_base\", \"[\\\"url:['https://scontent.xx.fbcdn.net/v/t1.15752-9/93421060_694074408092001_3418794938278608896_n.jpg?_nc_cat=104&_nc_sid=b96e70&_nc_ohc=y8JBwsvgIzsAX8KRRtS&_nc_ad=z-m&_nc_cid=0&_nc_zor=9&_nc_ht=scontent.xx&oh=4b820252ad86bea6ddb057ddf4a2578f&oe=5EC53BA3']\\\", 'attribute:price']\", \"action_query_babe_kb\"], [\"https://scontent.xx.fbcdn.net/v/t1.15752-9/93839074_222006799220932_6191900088302829568_n.jpg?_nc_cat=100&_nc_sid=b96e70&_nc_ohc=2EZhPQDsst4AX--rHnR&_nc_ad=z-m&_nc_cid=0&_nc_zor=9&_nc_ht=scontent.xx&oh=b6a830ddbc618e8a4c318b6dab622f03&oe=5EC45074\", \"B\\u1ea1n \\u0111ang t\\u00ecm ki\\u1ebfm th\\u00f4ng tin g\\u00ec \\u1ea1?\", \"send_link\", \"[\\\"url:['https://scontent.xx.fbcdn.net/v/t1.15752-9/93839074_222006799220932_6191900088302829568_n.jpg?_nc_cat=100&_nc_sid=b96e70&_nc_ohc=2EZhPQDsst4AX--rHnR&_nc_ad=z-m&_nc_cid=0&_nc_zor=9&_nc_ht=scontent.xx&oh=b6a830ddbc618e8a4c318b6dab622f03&oe=5EC45074']\\\"]\", \"action_query_babe_kb\"], [\"xe n\\u00e0y bao nhi\\u00eau \\u1ea1\", \"S\\u1ea3n ph\\u1ea9m Xe NADLE 3 in 1: Xe \\u0111\\u1ea9y - Ch\\u00f2i ch\\u00e2n - Xe \\u0111\\u1ea1p hi\\u1ec7n shop \\u0111ang c\\u00f3 gi\\u00e1: *1,550,000 VND (gi\\u00e1 g\\u1ed1c 2,650,000 VND)*.\\nB\\u1ea1n tham kh\\u1ea3o c\\u00e1c s\\u1ea3n ph\\u1ea9m sau nh\\u00e9 \\u1ea1:\", \"query_knowledge_base\", \"['attribute:price','object_type:xe','mention:n\\u00e0y']\", \"action_query_babe_kb\"], [\"ok shop\", \"D\\u1ea1,v\\u00e2ng\", \"agree\", null, \"utter_agree\"], [\"https://scontent.xx.fbcdn.net/v/t1.15752-9/93421060_694074408092001_3418794938278608896_n.jpg?_nc_cat=104&_nc_sid=b96e70&_nc_ohc=y8JBwsvgIzsAX8KRRtS&_nc_ad=z-m&_nc_cid=0&_nc_zor=9&_nc_ht=scontent.xx&oh=4b820252ad86bea6ddb057ddf4a2578f&oe=5EC53BA3\\nBn shop oi\", \"S\\u1ea3n ph\\u1ea9m Xe ch\\u00f2i ch\\u00e2n ki\\u00eam xe l\\u1eafc cao c\\u1ea5p c\\u00f3 nh\\u1ea1c Holla hi\\u1ec7n shop \\u0111ang c\\u00f3 gi\\u00e1: *790,000 VND (gi\\u00e1 g\\u1ed1c 1,200,000 VND)*.\\nB\\u1ea1n tham kh\\u1ea3o c\\u00e1c s\\u1ea3n ph\\u1ea9m sau nh\\u00e9 \\u1ea1:\", \"query_knowledge_base\", \"[\\\"url:['https://scontent.xx.fbcdn.net/v/t1.15752-9/93421060_694074408092001_3418794938278608896_n.jpg?_nc_cat=104&_nc_sid=b96e70&_nc_ohc=y8JBwsvgIzsAX8KRRtS&_nc_ad=z-m&_nc_cid=0&_nc_zor=9&_nc_ht=scontent.xx&oh=4b820252ad86bea6ddb057ddf4a2578f&oe=5EC53BA3']\\\", 'attribute:price']\", \"action_query_babe_kb\"], [\"https://scontent.xx.fbcdn.net/v/t1.15752-9/93839074_222006799220932_6191900088302829568_n.jpg?_nc_cat=100&_nc_sid=b96e70&_nc_ohc=2EZhPQDsst4AX--rHnR&_nc_ad=z-m&_nc_cid=0&_nc_zor=9&_nc_ht=scontent.xx&oh=b6a830ddbc618e8a4c318b6dab622f03&oe=5EC45074\", \"S\\u1ea3n ph\\u1ea9m Xe NADLE 3 in 1: Xe \\u0111\\u1ea9y - Ch\\u00f2i ch\\u00e2n - Xe \\u0111\\u1ea1p hi\\u1ec7n shop \\u0111ang c\\u00f3 gi\\u00e1: *1,550,000 VND (gi\\u00e1 g\\u1ed1c 2,650,000 VND)*.\\r\\nB\\u1ea1n tham kh\\u1ea3o c\\u00e1c s\\u1ea3n ph\\u1ea9m sau nh\\u00e9 \\u1ea1:\", \"send_link\", \"[\\\"url:['https://scontent.xx.fbcdn.net/v/t1.15752-9/93839074_222006799220932_6191900088302829568_n.jpg?_nc_cat=100&_nc_sid=b96e70&_nc_ohc=2EZhPQDsst4AX--rHnR&_nc_ad=z-m&_nc_cid=0&_nc_zor=9&_nc_ht=scontent.xx&oh=b6a830ddbc618e8a4c318b6dab622f03&oe=5EC45074']\\\"]\", \"action_query_babe_kb\"], [\"ok shop\", \"D\\u1ea1,v\\u00e2ng\", \"agree\", null, \"utter_agree\"], [\"https://scontent.xx.fbcdn.net/v/t1.15752-9/94133156_4309719482387540_6121986675083051008_n.jpg?_nc_cat=104&_nc_sid=b96e70&_nc_ohc=2eJCKINpBwUAX-7rsiy&_nc_ad=z-m&_nc_cid=0&_nc_zor=9&_nc_ht=scontent.xx&oh=c69b59c6321d1ca5600690f45432f74f&oe=5EC4161F\\nXe l\\u1eafc bn b oi\", \"D\\u1ea1, c\\u00f3 ph\\u1ea3i b\\u1ea1n mu\\u1ed1n h\\u1ecfi m\\u1ed9t trong c\\u00e1c s\\u1ea3n ph\\u1ea9m d\\u01b0\\u1edbi \\u0111\\u00e2y kh\\u00f4ng \\u1ea1?\\n (Vui l\\u00f2ng \\u1ea5n ch\\u1ecdn 1 s\\u1ea3n ph\\u1ea9m)...\", \"query_knowledge_base\", \"[\\\"url:['https://scontent.xx.fbcdn.net/v/t1.15752-9/94133156_4309719482387540_6121986675083051008_n.jpg?_nc_cat=104&_nc_sid=b96e70&_nc_ohc=2eJCKINpBwUAX-7rsiy&_nc_ad=z-m&_nc_cid=0&_nc_zor=9&_nc_ht=scontent.xx&oh=c69b59c6321d1ca5600690f45432f74f&oe=5EC4161F']\\\",'object_type:xe', 'attribute:price']\", \"action_query_babe_kb\"], [\"/disagree{\\\"object_type\\\": null}\", \"B\\u1ea1n vui l\\u00f2ng m\\u00f4 t\\u1ea3 r\\u00f5 mong mu\\u1ed1n c\\u1ee7a b\\u1ea1n ho\\u1eb7c chat v\\u1edbi nh\\u00e2n vi\\u00ean t\\u01b0 v\\u1ea5n nh\\u00e9!\", \"disagree\", \"['object_type:None']\", \"utter_disagree\"], [\"/connect_employee\", null, \"connect_employee\", null, \"action_handover_to_inbox\"], [\"https://scontent.xx.fbcdn.net/v/t1.15752-9/94133156_4309719482387540_6121986675083051008_n.jpg?_nc_cat=104&_nc_sid=b96e70&_nc_ohc=2eJCKINpBwUAX-7rsiy&_nc_ad=z-m&_nc_cid=0&_nc_zor=9&_nc_ht=scontent.xx&oh=c69b59c6321d1ca5600690f45432f74f&oe=5EC4161F\\nXe l\\u1eafc bn b oi\", \"S\\u1ea3n ph\\u1ea9m Xe ch\\u00f2i ch\\u00e2n ki\\u00eam xe l\\u1eafc cao c\\u1ea5p c\\u00f3 nh\\u1ea1c Holla hi\\u1ec7n shop \\u0111ang c\\u00f3 gi\\u00e1: *790,000 VND (gi\\u00e1 g\\u1ed1c 1,200,000 VND)*.\\nB\\u1ea1n tham kh\\u1ea3o c\\u00e1c s\\u1ea3n ph\\u1ea9m sau nh\\u00e9 \\u1ea1:\", \"query_knowledge_base\", \"[\\\"url:['https://scontent.xx.fbcdn.net/v/t1.15752-9/94133156_4309719482387540_6121986675083051008_n.jpg?_nc_cat=104&_nc_sid=b96e70&_nc_ohc=2eJCKINpBwUAX-7rsiy&_nc_ad=z-m&_nc_cid=0&_nc_zor=9&_nc_ht=scontent.xx&oh=c69b59c6321d1ca5600690f45432f74f&oe=5EC4161F']\\\",'object_type:xe', 'attribute:price']\", \"action_query_babe_kb\"], [\"xe l\\u0103\\u0301c Holla co\\u0301 tr\\u00ean shopee ch\\u01b0a ba\\u0323n\", \"D\\u1ea1 m\\u1eddi b\\u1ea1n tham kh\\u1ea3o s\\u1ea3n ph\\u1ea9m Xe ch\\u00f2i ch\\u00e2n ki\\u00eam xe l\\u1eafc cao c\\u1ea5p c\\u00f3 nh\\u1ea1c Holla  hi\\u1ec7n c\\u00f3 t\\u1ea1i shop nh\\u00e9!\", \"query_knowledge_base\", \"['object_type:xe', 'attribute:link','brand:Holla']\", \"action_query_babe_kb\"], [\"https://scontent.xx.fbcdn.net/v/t1.15752-9/93376022_520238862196723_3877605347954786304_n.jpg?_nc_cat=103&_nc_sid=b96e70&_nc_ohc=BlxsEveDdc0AX_K0-TM&_nc_ad=z-m&_nc_cid=0&_nc_zor=9&_nc_ht=scontent.xx&oh=1f1b8bc5316b8af5ac78b77e0228670c&oe=5EC41FAA\\nXe bn s\", \"D\\u1ea1, c\\u00f3 ph\\u1ea3i b\\u1ea1n mu\\u1ed1n h\\u1ecfi m\\u1ed9t trong c\\u00e1c s\\u1ea3n ph\\u1ea9m d\\u01b0\\u1edbi \\u0111\\u00e2y kh\\u00f4ng \\u1ea1?\\n (Vui l\\u00f2ng \\u1ea5n ch\\u1ecdn 1 s\\u1ea3n ph\\u1ea9m)...\", \"query_knowledge_base\", \"[\\\"url:['https://scontent.xx.fbcdn.net/v/t1.15752-9/93376022_520238862196723_3877605347954786304_n.jpg?_nc_cat=103&_nc_sid=b96e70&_nc_ohc=BlxsEveDdc0AX_K0-TM&_nc_ad=z-m&_nc_cid=0&_nc_zor=9&_nc_ht=scontent.xx&oh=1f1b8bc5316b8af5ac78b77e0228670c&oe=5EC41FAA']\\\", 'attribute:price']\", \"action_query_babe_kb\"], [\"/query_knowledge_base{\\\"url\\\": \\\"https://www.facebook.com/shopgauvabingo/posts/2445777899065867\\\", \\\"product_id\\\": \\\"https://www.facebook.com/shopgauvabingo/posts/2445777899065867\\\"}\", \"S\\u1ea3n ph\\u1ea9m Xe ch\\u00f2i ch\\u00e2n ki\\u00eam xe l\\u1eafc cao c\\u1ea5p c\\u00f3 nh\\u1ea1c Holla hi\\u1ec7n shop \\u0111ang c\\u00f3 gi\\u00e1: *790,000 VND (gi\\u00e1 g\\u1ed1c 1,200,000 VND)*.\\nB\\u1ea1n tham kh\\u1ea3o c\\u00e1c s\\u1ea3n ph\\u1ea9m sau nh\\u00e9 \\u1ea1:\", \"query_knowledge_base\", null, \"action_query_babe_kb\"], [\"https://scontent.xx.fbcdn.net/v/t1.15752-9/94429646_846745625805486_6674380384869810176_n.jpg?_nc_cat=107&_nc_sid=b96e70&_nc_ohc=9qsNXrDTRA8AX-ZKlOL&_nc_ad=z-m&_nc_cid=0&_nc_zor=9&_nc_ht=scontent.xx&oh=dc51afecc770f419605e40f9847c2d5a&oe=5EC3D2A7\", \"S\\u1ea3n ph\\u1ea9m  C\\u1ea7u tr\\u01b0\\u1ee3t x\\u00edch \\u0111u Hola h\\u1ea3i c\\u1ea9u 2020  hi\\u1ec7n shop \\u0111ang c\\u00f3 gi\\u00e1: *1,982,500 VND (gi\\u00e1 g\\u1ed1c 3,250,000 VND)*.\\nB\\u1ea1n tham kh\\u1ea3o c\\u00e1c s\\u1ea3n ph\\u1ea9m sau nh\\u00e9 \\u1ea1:\", \"send_link\", \"[\\\"url:['https://scontent.xx.fbcdn.net/v/t1.15752-9/94429646_846745625805486_6674380384869810176_n.jpg?_nc_cat=107&_nc_sid=b96e70&_nc_ohc=9qsNXrDTRA8AX-ZKlOL&_nc_ad=z-m&_nc_cid=0&_nc_zor=9&_nc_ht=scontent.xx&oh=dc51afecc770f419605e40f9847c2d5a&oe=5EC3D2A7']\\\"]\", \"action_handle_send_link_only\"], [\"https://scontent.xx.fbcdn.net/v/t1.15752-9/93376022_520238862196723_3877605347954786304_n.jpg?_nc_cat=103&_nc_sid=b96e70&_nc_ohc=BlxsEveDdc0AX_K0-TM&_nc_ad=z-m&_nc_cid=0&_nc_zor=9&_nc_ht=scontent.xx&oh=1f1b8bc5316b8af5ac78b77e0228670c&oe=5EC41FAA\\nXe bn s\", \"S\\u1ea3n ph\\u1ea9m Xe ch\\u00f2i ch\\u00e2n ki\\u00eam xe l\\u1eafc cao c\\u1ea5p c\\u00f3 nh\\u1ea1c Holla hi\\u1ec7n shop \\u0111ang c\\u00f3 gi\\u00e1: *790,000 VND (gi\\u00e1 g\\u1ed1c 1,200,000 VND)*.\\nB\\u1ea1n tham kh\\u1ea3o c\\u00e1c s\\u1ea3n ph\\u1ea9m sau nh\\u00e9 \\u1ea1:\", \"query_knowledge_base\", \"[\\\"url:['https://scontent.xx.fbcdn.net/v/t1.15752-9/93376022_520238862196723_3877605347954786304_n.jpg?_nc_cat=103&_nc_sid=b96e70&_nc_ohc=BlxsEveDdc0AX_K0-TM&_nc_ad=z-m&_nc_cid=0&_nc_zor=9&_nc_ht=scontent.xx&oh=1f1b8bc5316b8af5ac78b77e0228670c&oe=5EC41FAA']\\\", 'attribute:price']\", \"action_query_babe_kb\"], [\"https://scontent.xx.fbcdn.net/v/t1.15752-9/94429646_846745625805486_6674380384869810176_n.jpg?_nc_cat=107&_nc_sid=b96e70&_nc_ohc=9qsNXrDTRA8AX-ZKlOL&_nc_ad=z-m&_nc_cid=0&_nc_zor=9&_nc_ht=scontent.xx&oh=dc51afecc770f419605e40f9847c2d5a&oe=5EC3D2A7\", \"S\\u1ea3n ph\\u1ea9m  C\\u1ea7u tr\\u01b0\\u1ee3t x\\u00edch \\u0111u Hola h\\u1ea3i c\\u1ea9u 2020  hi\\u1ec7n shop \\u0111ang c\\u00f3 gi\\u00e1: *1,982,500 VND (gi\\u00e1 g\\u1ed1c 3,250,000 VND)*.\\nB\\u1ea1n tham kh\\u1ea3o c\\u00e1c s\\u1ea3n ph\\u1ea9m sau nh\\u00e9 \\u1ea1:\", \"send_link\", \"[\\\"url:['https://scontent.xx.fbcdn.net/v/t1.15752-9/94429646_846745625805486_6674380384869810176_n.jpg?_nc_cat=107&_nc_sid=b96e70&_nc_ohc=9qsNXrDTRA8AX-ZKlOL&_nc_ad=z-m&_nc_cid=0&_nc_zor=9&_nc_ht=scontent.xx&oh=dc51afecc770f419605e40f9847c2d5a&oe=5EC3D2A7']\\\"]\", \"action_handle_send_link_only\"], [\"ok shop\", \"D\\u1ea1,v\\u00e2ng\", \"agree\", null, \"utter_agree\"], [\"https://scontent.xx.fbcdn.net/v/t1.15752-9/93840235_671253940372699_6078193114063831040_n.jpg?_nc_cat=102&_nc_sid=b96e70&_nc_ohc=D5YUEvNDHT0AX9Y6mFp&_nc_ad=z-m&_nc_cid=0&_nc_zor=9&_nc_ht=scontent.xx&oh=8e687d198cf4874f887a6dacdfc1c955&oe=5EC2A850\\nCho m\\u00ecnh gi\\u00e1 nh\\u00e9\", \"D\\u1ea1, c\\u00f3 ph\\u1ea3i b\\u1ea1n mu\\u1ed1n h\\u1ecfi m\\u1ed9t trong c\\u00e1c s\\u1ea3n ph\\u1ea9m d\\u01b0\\u1edbi \\u0111\\u00e2y kh\\u00f4ng \\u1ea1?\\n (Vui l\\u00f2ng \\u1ea5n ch\\u1ecdn 1 s\\u1ea3n ph\\u1ea9m)...\", \"query_knowledge_base\", \"[\\\"url:['https://scontent.xx.fbcdn.net/v/t1.15752-9/93840235_671253940372699_6078193114063831040_n.jpg?_nc_cat=102&_nc_sid=b96e70&_nc_ohc=D5YUEvNDHT0AX9Y6mFp&_nc_ad=z-m&_nc_cid=0&_nc_zor=9&_nc_ht=scontent.xx&oh=8e687d198cf4874f887a6dacdfc1c955&oe=5EC2A850']\\\", 'attribute:price']\", \"action_query_babe_kb\"], [\"/disagree{\\\"object_type\\\": null}\", \"B\\u1ea1n vui l\\u00f2ng m\\u00f4 t\\u1ea3 r\\u00f5 mong mu\\u1ed1n c\\u1ee7a b\\u1ea1n ho\\u1eb7c chat v\\u1edbi nh\\u00e2n vi\\u00ean t\\u01b0 v\\u1ea5n nh\\u00e9!\", \"disagree\", \"['object_type:None']\", \"utter_disagree\"], [\"/connect_employee\", null, \"connect_employee\", null, \"action_handover_to_inbox\"], [\"https://scontent.xx.fbcdn.net/v/t1.15752-9/93840235_671253940372699_6078193114063831040_n.jpg?_nc_cat=102&_nc_sid=b96e70&_nc_ohc=D5YUEvNDHT0AX9Y6mFp&_nc_ad=z-m&_nc_cid=0&_nc_zor=9&_nc_ht=scontent.xx&oh=8e687d198cf4874f887a6dacdfc1c955&oe=5EC2A850\\nCho m\\u00ecnh gi\\u00e1 nh\\u00e9\", \"S\\u1ea3n ph\\u1ea9m Xe ch\\u00f2i ch\\u00e2n ki\\u00eam xe l\\u1eafc cao c\\u1ea5p c\\u00f3 nh\\u1ea1c Holla hi\\u1ec7n shop \\u0111ang c\\u00f3 gi\\u00e1: *790,000 VND (gi\\u00e1 g\\u1ed1c 1,200,000 VND)*.\\nB\\u1ea1n tham kh\\u1ea3o c\\u00e1c s\\u1ea3n ph\\u1ea9m sau nh\\u00e9 \\u1ea1:\", \"query_knowledge_base\", \"[\\\"url:['https://scontent.xx.fbcdn.net/v/t1.15752-9/93840235_671253940372699_6078193114063831040_n.jpg?_nc_cat=102&_nc_sid=b96e70&_nc_ohc=D5YUEvNDHT0AX9Y6mFp&_nc_ad=z-m&_nc_cid=0&_nc_zor=9&_nc_ht=scontent.xx&oh=8e687d198cf4874f887a6dacdfc1c955&oe=5EC2A850']\\\", 'attribute:price']\", \"action_query_babe_kb\"], [\"Ok b\\u1ea1n th\\u1ebf \\u0111\\u1ec3 t xem l\\u1ea1i r\\u00f9i b\\u00e1o nha\", \"D\\u1ea1,v\\u00e2ng\", \"end_conversation\", null, \"action_end_conversation\"], [\"https://scontent.xx.fbcdn.net/v/t1.15752-9/93961206_796326287442487_728031685777555456_n.jpg?_nc_cat=105&_nc_sid=b96e70&_nc_ohc=3da0fC1ve2oAX8S6IbX&_nc_ad=z-m&_nc_cid=0&_nc_zor=9&_nc_ht=scontent.xx&oh=42d0e0506c5304eb15653717ac7c9999&oe=5EC3CDEE\\nInbox m\\u00ecnh nh\\u00e9\", \"D\\u1ea1, c\\u00f3 ph\\u1ea3i b\\u1ea1n mu\\u1ed1n h\\u1ecfi m\\u1ed9t trong c\\u00e1c s\\u1ea3n ph\\u1ea9m d\\u01b0\\u1edbi \\u0111\\u00e2y kh\\u00f4ng \\u1ea1?\\n (Vui l\\u00f2ng \\u1ea5n ch\\u1ecdn 1 s\\u1ea3n ph\\u1ea9m)...\", \"query_knowledge_base\", \"[\\\"url:['https://scontent.xx.fbcdn.net/v/t1.15752-9/93961206_796326287442487_728031685777555456_n.jpg?_nc_cat=105&_nc_sid=b96e70&_nc_ohc=3da0fC1ve2oAX8S6IbX&_nc_ad=z-m&_nc_cid=0&_nc_zor=9&_nc_ht=scontent.xx&oh=42d0e0506c5304eb15653717ac7c9999&oe=5EC3CDEE']\\\"]\", \"action_query_babe_kb\"], [\"/query_knowledge_base{\\\"url\\\": \\\"https://www.facebook.com/shopgauvabingo/posts/2445777899065867\\\", \\\"product_id\\\": \\\"https://www.facebook.com/shopgauvabingo/posts/2445777899065867\\\"}\", \"S\\u1ea3n ph\\u1ea9m Xe ch\\u00f2i ch\\u00e2n ki\\u00eam xe l\\u1eafc cao c\\u1ea5p c\\u00f3 nh\\u1ea1c Holla hi\\u1ec7n shop \\u0111ang c\\u00f3 gi\\u00e1: *790,000 VND (gi\\u00e1 g\\u1ed1c 1,200,000 VND)*.\\nB\\u1ea1n tham kh\\u1ea3o c\\u00e1c s\\u1ea3n ph\\u1ea9m sau nh\\u00e9 \\u1ea1:\", \"query_knowledge_base\", null, \"action_query_babe_kb\"], [\"b\\u00e9 13m \\u0111\\u00e3 d\\u00f9ng \\u0111c ch\\u01b0a b\\u1ea1n nh\\u1ec9?\", \"S\\u1ea3n ph\\u1ea9m  Xe ch\\u00f2i ch\\u00e2n ki\\u00eam xe l\\u1eafc cao c\\u1ea5p c\\u00f3 nh\\u1ea1c Holla hi\\u1ec7n shop \\u0111ang c\\u00f3 \\u0111\\u1ed9 tu\\u1ed5i s\\u1eed d\\u1ee5ng: 0 - 36 th\\u00e1ng.\\nB\\u1ea1n tham kh\\u1ea3o c\\u00e1c s\\u1ea3n ph\\u1ea9m sau nh\\u00e9 \\u1ea1\", \"query_knowledge_base\", \"['age_of_use:13m']\", \"action_query_babe_kb\"], [\"Ok b\\u1ea1n\", \"D\\u1ea1,v\\u00e2ng\", \"agree\", null, \"utter_agree\"], [\"https://scontent.xx.fbcdn.net/v/t1.15752-9/93961206_796326287442487_728031685777555456_n.jpg?_nc_cat=105&_nc_sid=b96e70&_nc_ohc=3da0fC1ve2oAX8S6IbX&_nc_ad=z-m&_nc_cid=0&_nc_zor=9&_nc_ht=scontent.xx&oh=42d0e0506c5304eb15653717ac7c9999&oe=5EC3CDEE\\nInbox m\\u00ecnh nh\\u00e9\", \"S\\u1ea3n ph\\u1ea9m Xe ch\\u00f2i ch\\u00e2n ki\\u00eam xe l\\u1eafc cao c\\u1ea5p c\\u00f3 nh\\u1ea1c Holla hi\\u1ec7n shop \\u0111ang c\\u00f3 gi\\u00e1: *790,000 VND (gi\\u00e1 g\\u1ed1c 1,200,000 VND)*.\\nB\\u1ea1n tham kh\\u1ea3o c\\u00e1c s\\u1ea3n ph\\u1ea9m sau nh\\u00e9 \\u1ea1:\", \"query_knowledge_base\", \"[\\\"url:['https://scontent.xx.fbcdn.net/v/t1.15752-9/93961206_796326287442487_728031685777555456_n.jpg?_nc_cat=105&_nc_sid=b96e70&_nc_ohc=3da0fC1ve2oAX8S6IbX&_nc_ad=z-m&_nc_cid=0&_nc_zor=9&_nc_ht=scontent.xx&oh=42d0e0506c5304eb15653717ac7c9999&oe=5EC3CDEE']\\\"]\", \"action_query_babe_kb\"], [\"c\\u00f3 nh\\u1eefng m\\u00e0u g\\u00ec sh\", \"S\\u1ea3n ph\\u1ea9m  Xe ch\\u00f2i ch\\u00e2n ki\\u00eam xe l\\u1eafc cao c\\u1ea5p c\\u00f3 nh\\u1ea1c Holla hi\\u1ec7n shop \\u0111ang c\\u00f3 m\\u00e0u: H\\u1ed3ng, Xanh.\\nB\\u1ea1n tham kh\\u1ea3o c\\u00e1c s\\u1ea3n ph\\u1ea9m sau nh\\u00e9 \\u1ea1:\", \"query_knowledge_base\", \"['attribute:color']\", \"action_query_babe_kb\"], [\"\\u0110\\u1ec3 m\\u00ecnh tham kh\\u1ea3o \", null, \"handover_to_inbox\", null, \"action_handover_to_inbox\"], [\"https://scontent.xx.fbcdn.net/v/t1.15752-9/93961206_796326287442487_728031685777555456_n.jpg?_nc_cat=105&_nc_sid=b96e70&_nc_ohc=3da0fC1ve2oAX8S6IbX&_nc_ad=z-m&_nc_cid=0&_nc_zor=9&_nc_ht=scontent.xx&oh=42d0e0506c5304eb15653717ac7c9999&oe=5EC3CDEE\\nInbox m\\u00ecnh nh\\u00e9\", \"S\\u1ea3n ph\\u1ea9m Xe ch\\u00f2i ch\\u00e2n ki\\u00eam xe l\\u1eafc cao c\\u1ea5p c\\u00f3 nh\\u1ea1c Holla hi\\u1ec7n shop \\u0111ang c\\u00f3 gi\\u00e1: *790,000 VND (gi\\u00e1 g\\u1ed1c 1,200,000 VND)*.\\nB\\u1ea1n tham kh\\u1ea3o c\\u00e1c s\\u1ea3n ph\\u1ea9m sau nh\\u00e9 \\u1ea1:\", \"query_knowledge_base\", \"[\\\"url:['https://scontent.xx.fbcdn.net/v/t1.15752-9/93961206_796326287442487_728031685777555456_n.jpg?_nc_cat=105&_nc_sid=b96e70&_nc_ohc=3da0fC1ve2oAX8S6IbX&_nc_ad=z-m&_nc_cid=0&_nc_zor=9&_nc_ht=scontent.xx&oh=42d0e0506c5304eb15653717ac7c9999&oe=5EC3CDEE']\\\"]\", \"action_query_babe_kb\"], [\"c\\u00f3 nh\\u1eefng m\\u00e0u g\\u00ec sh\", \"S\\u1ea3n ph\\u1ea9m  Xe ch\\u00f2i ch\\u00e2n ki\\u00eam xe l\\u1eafc cao c\\u1ea5p c\\u00f3 nh\\u1ea1c Holla hi\\u1ec7n shop \\u0111ang c\\u00f3 m\\u00e0u: H\\u1ed3ng, Xanh.\\nB\\u1ea1n tham kh\\u1ea3o c\\u00e1c s\\u1ea3n ph\\u1ea9m sau nh\\u00e9 \\u1ea1:\", \"query_knowledge_base\", \"['attribute:color']\", \"action_query_babe_kb\"], [\"\\u0110\\u1ec3 m\\u00ecnh tham kh\\u1ea3o \", \"D\\u1ea1, v\\u00e2ng \\u1ea1\", \"end_conversation\", null, \"action_end_conversation\"], [\"https://scontent.xx.fbcdn.net/v/t1.15752-9/94433981_1159306187745864_4562238742848339968_n.jpg?_nc_cat=101&_nc_sid=b96e70&_nc_ohc=VEWd1RjRUwEAX9VKrUQ&_nc_ad=z-m&_nc_cid=0&_nc_zor=9&_nc_ht=scontent.xx&oh=f9b2c664968877f5a68112d6d9919576&oe=5EC3E911\\nGia bao cho m nhe\", \"D\\u1ea1, c\\u00f3 ph\\u1ea3i b\\u1ea1n mu\\u1ed1n h\\u1ecfi m\\u1ed9t trong c\\u00e1c s\\u1ea3n ph\\u1ea9m d\\u01b0\\u1edbi \\u0111\\u00e2y kh\\u00f4ng \\u1ea1?\\n (Vui l\\u00f2ng \\u1ea5n ch\\u1ecdn 1 s\\u1ea3n ph\\u1ea9m)...\", \"query_knowledge_base\", \"[\\\"url:['https://scontent.xx.fbcdn.net/v/t1.15752-9/94433981_1159306187745864_4562238742848339968_n.jpg?_nc_cat=101&_nc_sid=b96e70&_nc_ohc=VEWd1RjRUwEAX9VKrUQ&_nc_ad=z-m&_nc_cid=0&_nc_zor=9&_nc_ht=scontent.xx&oh=f9b2c664968877f5a68112d6d9919576&oe=5EC3E911']\\\", 'attribute:price']\", \"action_query_babe_kb\"], [\"/query_knowledge_base{\\\"url\\\": \\\"https://www.facebook.com/shopgauvabingo/posts/2445777899065867\\\", \\\"product_id\\\": \\\"https://www.facebook.com/shopgauvabingo/posts/2445777899065867\\\"}\", \"S\\u1ea3n ph\\u1ea9m Xe ch\\u00f2i ch\\u00e2n ki\\u00eam xe l\\u1eafc cao c\\u1ea5p c\\u00f3 nh\\u1ea1c Holla hi\\u1ec7n shop \\u0111ang c\\u00f3 gi\\u00e1: *790,000 VND (gi\\u00e1 g\\u1ed1c 1,200,000 VND)*.\\nB\\u1ea1n tham kh\\u1ea3o c\\u00e1c s\\u1ea3n ph\\u1ea9m sau nh\\u00e9 \\u1ea1:\", \"query_knowledge_base\", null, \"action_query_babe_kb\"], [\"Ok b\\u1ea1n\", \"D\\u1ea1,v\\u00e2ng\", \"agree\", null, \"utter_agree\"], [\"https://scontent.xx.fbcdn.net/v/t1.15752-9/94433981_1159306187745864_4562238742848339968_n.jpg?_nc_cat=101&_nc_sid=b96e70&_nc_ohc=VEWd1RjRUwEAX9VKrUQ&_nc_ad=z-m&_nc_cid=0&_nc_zor=9&_nc_ht=scontent.xx&oh=f9b2c664968877f5a68112d6d9919576&oe=5EC3E911\\nGia bao cho m nhe\", \"S\\u1ea3n ph\\u1ea9m Xe ch\\u00f2i ch\\u00e2n ki\\u00eam xe l\\u1eafc cao c\\u1ea5p c\\u00f3 nh\\u1ea1c Holla hi\\u1ec7n shop \\u0111ang c\\u00f3 gi\\u00e1: *790,000 VND (gi\\u00e1 g\\u1ed1c 1,200,000 VND)*.\\nB\\u1ea1n tham kh\\u1ea3o c\\u00e1c s\\u1ea3n ph\\u1ea9m sau nh\\u00e9 \\u1ea1:\", \"query_knowledge_base\", \"[\\\"url:['https://scontent.xx.fbcdn.net/v/t1.15752-9/94433981_1159306187745864_4562238742848339968_n.jpg?_nc_cat=101&_nc_sid=b96e70&_nc_ohc=VEWd1RjRUwEAX9VKrUQ&_nc_ad=z-m&_nc_cid=0&_nc_zor=9&_nc_ht=scontent.xx&oh=f9b2c664968877f5a68112d6d9919576&oe=5EC3E911']\\\", 'attribute:price']\", \"action_query_babe_kb\"], [\"thank shop\", \"D\\u1ea1, c\\u1ea3m \\u01a1n b\\u1ea1n!\", \"thank\", null, \"utter_thank\"], [\"hi shop\", \"Ch\\u00e0o b\\u1ea1n, m\\u00ecnh l\\u00e0 tr\\u1ee3 l\\u00fd \\u1ea3o c\\u1ee7a Shop G\\u1ea5u & B\\u00ed Ng\\u00f4, m\\u00ecnh gi\\u00fap g\\u00ec \\u0111\\u01b0\\u1ee3c b\\u1ea1n \\u1ea1?\", \"greet\", null, \"utter_greet\"], [\"https://scontent.xx.fbcdn.net/v/t1.15752-9/93802318_233197931358906_2034310246138118144_n.jpg?_nc_cat=107&_nc_sid=b96e70&_nc_ohc=X6ceCV_5fm0AX-PA3RH&_nc_ad=z-m&_nc_cid=0&_nc_zor=9&_nc_ht=scontent.xx&oh=4ffdce6cf0b70ce56ff8dd99177c2e51&oe=5EC2E409\\nhttps://scontent.xx.fbcdn.net/v/t1.15752-9/67602042_302799497194173_8355364115610337280_n.jpg?_nc_cat=109&_nc_sid=b96e70&_nc_ohc=NpzSuwikljcAX_SqaKi&_nc_ad=z-m&_nc_cid=0&_nc_zor=9&_nc_ht=scontent.xx&oh=579e1eff47a88f97c894ea19ff974c8e&oe=5EC5986C\", \"B\\u1ea1n \\u0111ang t\\u00ecm ki\\u1ebfm th\\u00f4ng tin g\\u00ec \\u1ea1?\", \"query_knowledge_base\", \"[\\\"url:['https://scontent.xx.fbcdn.net/v/t1.15752-9/93802318_233197931358906_2034310246138118144_n.jpg?_nc_cat=107&_nc_sid=b96e70&_nc_ohc=X6ceCV_5fm0AX-PA3RH&_nc_ad=z-m&_nc_cid=0&_nc_zor=9&_nc_ht=scontent.xx&oh=4ffdce6cf0b70ce56ff8dd99177c2e51&oe=5EC2E409', 'https://scontent.xx.fbcdn.net/v/t1.15752-9/67602042_302799497194173_8355364115610337280_n.jpg?_nc_cat=109&_nc_sid=b96e70&_nc_ohc=NpzSuwikljcAX_SqaKi&_nc_ad=z-m&_nc_cid=0&_nc_zor=9&_nc_ht=scontent.xx&oh=579e1eff47a88f97c894ea19ff974c8e&oe=5EC5986C']\\\"]\", \"action_query_babe_kb\"], [\"Xe \\u0111\\u1ea9y lo\\u1ea1i n\\u00e0y c\\u00f2n k shop\", \"S\\u1ea3n ph\\u1ea9m Xe \\u0111\\u1ea9y si\\u00eau nh\\u1eb9 Umoo hi\\u1ec7n shop \\u0111ang c\\u00f3 gi\\u00e1: *749,000 VND (gi\\u00e1 g\\u1ed1c 1,200,000 VND)*.\\nB\\u1ea1n tham kh\\u1ea3o c\\u00e1c s\\u1ea3n ph\\u1ea9m sau nh\\u00e9 \\u1ea1:\", \"query_knowledge_base\", \"['object_type:xe_day', 'mention:lo\\u1ea1i n\\u00e0y']\", \"action_query_babe_kb\"], [\"Ok b\\u1ea1n\", \"D\\u1ea1,v\\u00e2ng\", \"agree\", null, \"utter_agree\"], [\"hi shop\", \"Ch\\u00e0o b\\u1ea1n, m\\u00ecnh l\\u00e0 tr\\u1ee3 l\\u00fd \\u1ea3o c\\u1ee7a Shop G\\u1ea5u & B\\u00ed Ng\\u00f4, m\\u00ecnh gi\\u00fap g\\u00ec \\u0111\\u01b0\\u1ee3c b\\u1ea1n \\u1ea1?\", \"greet\", null, \"utter_greet\"], [\"https://scontent.xx.fbcdn.net/v/t1.15752-9/93802318_233197931358906_2034310246138118144_n.jpg?_nc_cat=107&_nc_sid=b96e70&_nc_ohc=X6ceCV_5fm0AX-PA3RH&_nc_ad=z-m&_nc_cid=0&_nc_zor=9&_nc_ht=scontent.xx&oh=4ffdce6cf0b70ce56ff8dd99177c2e51&oe=5EC2E409\\nhttps://scontent.xx.fbcdn.net/v/t1.15752-9/67602042_302799497194173_8355364115610337280_n.jpg?_nc_cat=109&_nc_sid=b96e70&_nc_ohc=NpzSuwikljcAX_SqaKi&_nc_ad=z-m&_nc_cid=0&_nc_zor=9&_nc_ht=scontent.xx&oh=579e1eff47a88f97c894ea19ff974c8e&oe=5EC5986C\", \"B\\u1ea1n \\u0111ang t\\u00ecm ki\\u1ebfm th\\u00f4ng tin g\\u00ec \\u1ea1?\", \"query_knowledge_base\", \"[\\\"url:['https://scontent.xx.fbcdn.net/v/t1.15752-9/93802318_233197931358906_2034310246138118144_n.jpg?_nc_cat=107&_nc_sid=b96e70&_nc_ohc=X6ceCV_5fm0AX-PA3RH&_nc_ad=z-m&_nc_cid=0&_nc_zor=9&_nc_ht=scontent.xx&oh=4ffdce6cf0b70ce56ff8dd99177c2e51&oe=5EC2E409', 'https://scontent.xx.fbcdn.net/v/t1.15752-9/67602042_302799497194173_8355364115610337280_n.jpg?_nc_cat=109&_nc_sid=b96e70&_nc_ohc=NpzSuwikljcAX_SqaKi&_nc_ad=z-m&_nc_cid=0&_nc_zor=9&_nc_ht=scontent.xx&oh=579e1eff47a88f97c894ea19ff974c8e&oe=5EC5986C']\\\"]\", \"action_query_babe_kb\"], [\"Xe \\u0111\\u1ea9y lo\\u1ea1i n\\u00e0y c\\u00f2n k shop\", \"S\\u1ea3n ph\\u1ea9m Xe \\u0111\\u1ea9y si\\u00eau nh\\u1eb9 Umoo hi\\u1ec7n shop \\u0111ang h\\u1ebft h\\u00e0ng \\u1ea1.\\nB\\u1ea1n tham kh\\u1ea3o c\\u00e1c s\\u1ea3n ph\\u1ea9m kh\\u00e1c nh\\u00e9 \\u1ea1:\", \"query_knowledge_base\", \"['object_type:xe_day', 'mention:lo\\u1ea1i n\\u00e0y']\", \"action_query_babe_kb\"], [\"Ok b\\u1ea1n\", \"D\\u1ea1,v\\u00e2ng\", \"agree\", null, \"utter_agree\"], [\"https://scontent.xx.fbcdn.net/v/t1.15752-9/93838228_247081556436066_886875673921060864_n.jpg?_nc_cat=111&_nc_sid=b96e70&_nc_ohc=RVSbE5MO1C4AX9CWsL9&_nc_ad=z-m&_nc_cid=0&_nc_zor=9&_nc_ht=scontent.xx&oh=c524b14523d569610af325c716747b08&oe=5EC2BDC5\\nCai n\\u00e0y bao nhieu b\", \"D\\u1ea1, c\\u00f3 ph\\u1ea3i b\\u1ea1n mu\\u1ed1n h\\u1ecfi m\\u1ed9t trong c\\u00e1c s\\u1ea3n ph\\u1ea9m d\\u01b0\\u1edbi \\u0111\\u00e2y kh\\u00f4ng \\u1ea1?\\r\\n (Vui l\\u00f2ng \\u1ea5n ch\\u1ecdn 1 s\\u1ea3n ph\\u1ea9m)...\", \"query_knowledge_base\", \"[\\\"url:['https://scontent.xx.fbcdn.net/v/t1.15752-9/93838228_247081556436066_886875673921060864_n.jpg?_nc_cat=111&_nc_sid=b96e70&_nc_ohc=RVSbE5MO1C4AX9CWsL9&_nc_ad=z-m&_nc_cid=0&_nc_zor=9&_nc_ht=scontent.xx&oh=c524b14523d569610af325c716747b08&oe=5EC2BDC5']\\\", 'mention:cai n\\u00e0y', 'attribute:price']\", \"action_query_babe_kb\"], [\"/disagree{\\\"object_type\\\": null}\", \"B\\u1ea1n vui l\\u00f2ng m\\u00f4 t\\u1ea3 r\\u00f5 mong mu\\u1ed1n c\\u1ee7a b\\u1ea1n ho\\u1eb7c chat v\\u1edbi nh\\u00e2n vi\\u00ean t\\u01b0 v\\u1ea5n nh\\u00e9!\", \"disagree\", \"['object_type:None']\", \"utter_disagree\"], [\"/connect_employee\", null, \"connect_employee\", \"[]\", \"action_handover_to_inbox\"], [\"https://scontent.xx.fbcdn.net/v/t1.15752-9/93838228_247081556436066_886875673921060864_n.jpg?_nc_cat=111&_nc_sid=b96e70&_nc_ohc=RVSbE5MO1C4AX9CWsL9&_nc_ad=z-m&_nc_cid=0&_nc_zor=9&_nc_ht=scontent.xx&oh=c524b14523d569610af325c716747b08&oe=5EC2BDC5\\nCai n\\u00e0y bao nhieu b\", \"S\\u1ea3n ph\\u1ea9m b\\u1ea1n \\u0111ang t\\u00ecm c\\u00f3 ph\\u1ea3i l\\u00e0?\", \"query_knowledge_base\", \"[\\\"url:['https://scontent.xx.fbcdn.net/v/t1.15752-9/93838228_247081556436066_886875673921060864_n.jpg?_nc_cat=111&_nc_sid=b96e70&_nc_ohc=RVSbE5MO1C4AX9CWsL9&_nc_ad=z-m&_nc_cid=0&_nc_zor=9&_nc_ht=scontent.xx&oh=c524b14523d569610af325c716747b08&oe=5EC2BDC5']\\\", 'mention:cai n\\u00e0y', 'attribute:price']\", \"action_query_babe_kb\"], [\"/disagree{\\\"object_type\\\": null}\", \"B\\u1ea1n vui l\\u00f2ng m\\u00f4 t\\u1ea3 r\\u00f5 mong mu\\u1ed1n c\\u1ee7a b\\u1ea1n ho\\u1eb7c chat v\\u1edbi nh\\u00e2n vi\\u00ean t\\u01b0 v\\u1ea5n nh\\u00e9!\", \"disagree\", \"['object_type:None']\", \"utter_disagree\"], [\"/connect_employee\", null, \"connect_employee\", \"[]\", \"action_handover_to_inbox\"], [\"https://scontent.xx.fbcdn.net/v/t1.15752-9/93838228_247081556436066_886875673921060864_n.jpg?_nc_cat=111&_nc_sid=b96e70&_nc_ohc=RVSbE5MO1C4AX9CWsL9&_nc_ad=z-m&_nc_cid=0&_nc_zor=9&_nc_ht=scontent.xx&oh=c524b14523d569610af325c716747b08&oe=5EC2BDC5\\nCai n\\u00e0y bao nhieu b\", \"S\\u1ea3n ph\\u1ea9m B\\u1ed9 b\\u1ea3o v\\u1ec7 7 m\\u00f3n hi\\u1ec7n shop \\u0111ang c\\u00f3 gi\\u00e1: *749,000 VND (gi\\u00e1 g\\u1ed1c 1,200,000 VND)*.\\nB\\u1ea1n tham kh\\u1ea3o c\\u00e1c s\\u1ea3n ph\\u1ea9m sau nh\\u00e9 \\u1ea1:\", \"query_knowledge_base\", \"[\\\"url:['https://scontent.xx.fbcdn.net/v/t1.15752-9/93838228_247081556436066_886875673921060864_n.jpg?_nc_cat=111&_nc_sid=b96e70&_nc_ohc=RVSbE5MO1C4AX9CWsL9&_nc_ad=z-m&_nc_cid=0&_nc_zor=9&_nc_ht=scontent.xx&oh=c524b14523d569610af325c716747b08&oe=5EC2BDC5']\\\", 'mention:cai n\\u00e0y', 'attribute:price']\", \"action_query_babe_kb\"], [\"\\u0111\\u1ec3 m\\u00ecnh xem c\\u00f3 g\\u00ec minh b\\u00e1o\", null, \"handover_to_inbox\", null, \"action_handover_to_inbox\"], [\"https://scontent.xx.fbcdn.net/v/t1.15752-9/93640892_710305896457319_7085221636256825344_n.jpg?_nc_cat=111&_nc_sid=b96e70&_nc_ohc=9OUM8UhaLe0AX9f-sH6&_nc_ad=z-m&_nc_cid=0&_nc_zor=9&_nc_ht=scontent.xx&oh=0271467aa36e5b5d93e3cab034e401c5&oe=5EC3406E\", \"B\\u1ea1n \\u0111ang t\\u00ecm ki\\u1ebfm th\\u00f4ng tin g\\u00ec \\u1ea1?\", \"send_link\", \"[\\\"url:['https://scontent.xx.fbcdn.net/v/t1.15752-9/93640892_710305896457319_7085221636256825344_n.jpg?_nc_cat=111&_nc_sid=b96e70&_nc_ohc=9OUM8UhaLe0AX9f-sH6&_nc_ad=z-m&_nc_cid=0&_nc_zor=9&_nc_ht=scontent.xx&oh=0271467aa36e5b5d93e3cab034e401c5&oe=5EC3406E']\\\"]\", \"action_handle_send_link_only\"], [\"B\\u1ea1n \\u01a1i gi\\u01b0\\u1eddng \\u0111\\u1ec7m \\u0111i k\\u00e8m gi\\u00e1 nh\\u01b0 n\\u00e0o\", \"S\\u1ea3n ph\\u1ea9m b\\u1ea1n \\u0111ang t\\u00ecm c\\u00f3 ph\\u1ea3i l\\u00e0?\", \"query_knowledge_base\", \"['object_type:giuong', 'attribute:price']\", \"action_query_babe_kb\"], [\"/disagree{\\\"object_type\\\": null}\", \"B\\u1ea1n vui l\\u00f2ng m\\u00f4 t\\u1ea3 r\\u00f5 mong mu\\u1ed1n c\\u1ee7a b\\u1ea1n ho\\u1eb7c chat v\\u1edbi nh\\u00e2n vi\\u00ean t\\u01b0 v\\u1ea5n nh\\u00e9!\", \"disagree\", \"['object_type:None']\", \"utter_disagree\"], [\"/connect_employee\", null, \"connect_employee\", \"[]\", \"action_handover_to_inbox\"], [\"https://scontent.xx.fbcdn.net/v/t1.15752-9/93640892_710305896457319_7085221636256825344_n.jpg?_nc_cat=111&_nc_sid=b96e70&_nc_ohc=9OUM8UhaLe0AX9f-sH6&_nc_ad=z-m&_nc_cid=0&_nc_zor=9&_nc_ht=scontent.xx&oh=0271467aa36e5b5d93e3cab034e401c5&oe=5EC3406E\", \"B\\u1ea1n \\u0111ang t\\u00ecm ki\\u1ebfm th\\u00f4ng tin g\\u00ec \\u1ea1?\", \"send_link\", \"[\\\"url:['https://scontent.xx.fbcdn.net/v/t1.15752-9/93640892_710305896457319_7085221636256825344_n.jpg?_nc_cat=111&_nc_sid=b96e70&_nc_ohc=9OUM8UhaLe0AX9f-sH6&_nc_ad=z-m&_nc_cid=0&_nc_zor=9&_nc_ht=scontent.xx&oh=0271467aa36e5b5d93e3cab034e401c5&oe=5EC3406E']\\\"]\", \"action_handle_send_link_only\"], [\"B\\u1ea1n \\u01a1i gi\\u01b0\\u1eddng \\u0111\\u1ec7m \\u0111i k\\u00e8m gi\\u00e1 nh\\u01b0 n\\u00e0o\", \"D\\u1ea1, c\\u00f3 ph\\u1ea3i b\\u1ea1n mu\\u1ed1n h\\u1ecfi m\\u1ed9t trong c\\u00e1c s\\u1ea3n ph\\u1ea9m d\\u01b0\\u1edbi \\u0111\\u00e2y kh\\u00f4ng \\u1ea1?\\r\\n (Vui l\\u00f2ng \\u1ea5n ch\\u1ecdn 1 s\\u1ea3n ph\\u1ea9m)...\", \"query_knowledge_base\", \"['object_type:giuong', 'attribute:price']\", \"action_query_babe_kb\"], [\"/query_knowledge_base{\\\"url\\\": \\\"https://www.facebook.com/shopgauvabingo/posts/2445681652408825\\\", \\\"product_id\\\": \\\"https://www.facebook.com/shopgauvabingo/posts/2445681652408825\\\"}\", \"S\\u1ea3n ph\\u1ea9m Gi\\u01b0\\u1eddng nh\\u1ef1a Holla hi\\u1ec7n shop \\u0111ang c\\u00f3 gi\\u00e1: *749,000 VND (gi\\u00e1 g\\u1ed1c 1,200,000 VND)*.\\nB\\u1ea1n tham kh\\u1ea3o c\\u00e1c s\\u1ea3n ph\\u1ea9m sau nh\\u00e9 \\u1ea1:\", \"query_knowledge_base\", null, \"action_query_babe_kb\"], [\"Ok shop\", \"D\\u1ea1,v\\u00e2ng\", \"agree\", null, \"utter_agree\"], [\"https://scontent.xx.fbcdn.net/v/t1.15752-9/93640892_710305896457319_7085221636256825344_n.jpg?_nc_cat=111&_nc_sid=b96e70&_nc_ohc=9OUM8UhaLe0AX9f-sH6&_nc_ad=z-m&_nc_cid=0&_nc_zor=9&_nc_ht=scontent.xx&oh=0271467aa36e5b5d93e3cab034e401c5&oe=5EC3406E\", \"B\\u1ea1n \\u0111ang t\\u00ecm ki\\u1ebfm th\\u00f4ng tin g\\u00ec \\u1ea1?\", \"send_link\", \"[\\\"url:['https://scontent.xx.fbcdn.net/v/t1.15752-9/93640892_710305896457319_7085221636256825344_n.jpg?_nc_cat=111&_nc_sid=b96e70&_nc_ohc=9OUM8UhaLe0AX9f-sH6&_nc_ad=z-m&_nc_cid=0&_nc_zor=9&_nc_ht=scontent.xx&oh=0271467aa36e5b5d93e3cab034e401c5&oe=5EC3406E']\\\"]\", \"action_handle_send_link_only\"], [\"B\\u1ea1n \\u01a1i gi\\u01b0\\u1eddng \\u0111\\u1ec7m \\u0111i k\\u00e8m gi\\u00e1 nh\\u01b0 n\\u00e0o\", \"S\\u1ea3n ph\\u1ea9m Gi\\u01b0\\u1eddng nh\\u1ef1a Holla hi\\u1ec7n shop \\u0111ang c\\u00f3 gi\\u00e1: *749,000 VND (gi\\u00e1 g\\u1ed1c 1,200,000 VND)*.\\r\\nB\\u1ea1n tham kh\\u1ea3o c\\u00e1c s\\u1ea3n ph\\u1ea9m sau nh\\u00e9 \\u1ea1:\", \"query_knowledge_base\", \"['object_type:giuong', 'attribute:price']\", \"action_query_babe_kb\"], [\"thank shop\", \"D\\u1ea1, v\\u00e2ng \\u1ea1!\", \"thank\", null, \"utter_thank\"], [\"alo shop\", \"Ch\\u00e0o b\\u1ea1n, m\\u00ecnh l\\u00e0 tr\\u1ee3 l\\u00fd \\u1ea3o c\\u1ee7a Shop G\\u1ea5u & B\\u00ed Ng\\u00f4, m\\u00ecnh gi\\u00fap g\\u00ec \\u0111\\u01b0\\u1ee3c b\\u1ea1n \\u1ea1?\", \"greet\", null, \"utter_greet\"], [\"Shop c\\u00f3 xe scooter ko \\u1ea1?\", \"S\\u1ea3n ph\\u1ea9m b\\u1ea1n \\u0111ang t\\u00ecm c\\u00f3 ph\\u1ea3i l\\u00e0?\", \"query_knowledge_base\", \"['object_type:xe','brand:scooter']\", \"action_query_babe_kb\"], [\"/deny_object_type{\\\"object_type\\\": null}\", \"B\\u1ea1n vui l\\u00f2ng m\\u00f4 t\\u1ea3 r\\u00f5 mong mu\\u1ed1n c\\u1ee7a b\\u1ea1n ho\\u1eb7c chat v\\u1edbi nh\\u00e2n vi\\u00ean t\\u01b0 v\\u1ea5n nh\\u00e9!\", \"deny_object_type\", \"['object_type:None']\", \"utter_disagree\"], [\"/connect_employee\", null, \"connect_employee\", \"[]\", \"action_handover_to_inbox\"], [\"alo shop\", \"Ch\\u00e0o b\\u1ea1n, m\\u00ecnh l\\u00e0 tr\\u1ee3 l\\u00fd \\u1ea3o c\\u1ee7a Shop G\\u1ea5u & B\\u00ed Ng\\u00f4, m\\u00ecnh gi\\u00fap g\\u00ec \\u0111\\u01b0\\u1ee3c b\\u1ea1n \\u1ea1?\", \"greet\", null, \"utter_greet\"], [\"Shop c\\u00f3 xe scooter ko \\u1ea1?\", \"Hi\\u1ec7n t\\u1ea1i s\\u1ea3n ph\\u1ea9m xe scooter  shop \\u0111ang c\\u00f3 nh\\u1eefng gi\\u00e1 sau \\u1ea1:\", \"query_knowledge_base\", \"['object_type:xe_scooter']\", \"action_query_babe_kb\"], [\"/confirm_attribute_value{\\\"price\\\": \\\"500-1M\\\"}\", \"Hi\\u1ec7n t\\u1ea1i s\\u1ea3n ph\\u1ea9m xe scooter gi\\u00e1 500 - 1m shop \\u0111ang c\\u00f3 nh\\u1eefng h\\u00e3ng s\\u1ea3n xu\\u1ea5t sau \\u1ea1:\", \"query_knowledge_base\", null, \"action_query_babe_kb\"], [\"/confirm_attribute_value{\\\"brand\\\": \\\"Vinng\\\"}\", \"D\\u1ea1 m\\u1eddi b\\u1ea1n tham kh\\u1ea3o s\\u1ea3n ph\\u1ea9m hi\\u1ec7n c\\u00f3 t\\u1ea1i shop nh\\u00e9!\", \"query_knowledge_base\", null, \"action_query_babe_kb\"], [\"B\\u1ea1n \\u01a1i b\\u00ean b\\u1ea1n hi\\u1ec7n c\\u00f2n nh\\u1eefng lo\\u1ea1i c\\u1ea7u tr\\u01b0\\u1ee3t n\\u00e0o nh\\u1ec9\", \"S\\u1ea3n ph\\u1ea9m  C\\u1ea7u tr\\u01b0\\u1ee3t x\\u00edch \\u0111u Hola h\\u1ea3i c\\u1ea9u 2020  hi\\u1ec7n shop \\u0111ang c\\u00f3 gi\\u00e1: *1,982,500 VND (gi\\u00e1 g\\u1ed1c 3,250,000 VND)*.\\nB\\u1ea1n tham kh\\u1ea3o c\\u00e1c s\\u1ea3n ph\\u1ea9m sau nh\\u00e9 \\u1ea1:\", \"query_knowledge_base\", \"['object_type:cau_truot']\", \"action_query_babe_kb\"], [\"ok shop\", \"D\\u1ea1,v\\u00e2ng\", \"agree\", null, \"utter_agree\"], [\"B\\u1ea1n \\u01a1i b\\u00ean b\\u1ea1n hi\\u1ec7n c\\u00f2n nh\\u1eefng lo\\u1ea1i c\\u1ea7u tr\\u01b0\\u1ee3t n\\u00e0o nh\\u1ec9\", \"Hi\\u1ec7n t\\u1ea1i s\\u1ea3n ph\\u1ea9m c\\u1ea7u tr\\u01b0\\u1ee3t  shop \\u0111ang c\\u00f3 nh\\u1eefng gi\\u00e1 sau \\u1ea1:\", \"query_knowledge_base\", \"['object_type:cau_truot']\", \"action_query_babe_kb\"], [\"/confirm_attribute_value{\\\"price\\\": \\\"1M-2M\\\"}\", \"D\\u1ea1 m\\u1eddi b\\u1ea1n tham kh\\u1ea3o s\\u1ea3n ph\\u1ea9m hi\\u1ec7n c\\u00f3 t\\u1ea1i shop nh\\u00e9!\", \"query_knowledge_base\", null, \"action_query_babe_kb\"], [\"C\\u00f3 c\\u00e1i n\\u00e0o r\\u1ebb h\\u01a1n k b\\u1ea1n\\r\\nC\\u1ea7u tr\\u01b0\\u1ee3t ri\\u00eang th\\u00f4i\", null, \"handover_to_inbox\", \"['object_type:cau_truot']\", \"action_handover_to_inbox\"], [\"B\\u1ea1n \\u01a1i b\\u00ean b\\u1ea1n hi\\u1ec7n c\\u00f2n nh\\u1eefng lo\\u1ea1i c\\u1ea7u tr\\u01b0\\u1ee3t n\\u00e0o nh\\u1ec9\", \"S\\u1ea3n ph\\u1ea9m  C\\u1ea7u tr\\u01b0\\u1ee3t x\\u00edch \\u0111u Hola h\\u1ea3i c\\u1ea9u 2020  hi\\u1ec7n shop \\u0111ang c\\u00f3 gi\\u00e1: *1,982,500 VND (gi\\u00e1 g\\u1ed1c 3,250,000 VND)*.\\r\\nB\\u1ea1n tham kh\\u1ea3o c\\u00e1c s\\u1ea3n ph\\u1ea9m sau nh\\u00e9 \\u1ea1:\", \"query_knowledge_base\", \"['object_type:cau_truot']\", \"action_query_babe_kb\"], [\"C\\u00f3 c\\u00e1i n\\u00e0o r\\u1ebb h\\u01a1n k b\\u1ea1n\\r\\nC\\u1ea7u tr\\u01b0\\u1ee3t ri\\u00eang th\\u00f4i\", \"S\\u1ea3n ph\\u1ea9m  C\\u1ea7u tr\\u01b0\\u1ee3t c\\u00f3 gi\\u00e1 th\\u1ea5p h\\u01a1n: *1,982,500 VND (gi\\u00e1 g\\u1ed1c 3,250,000 VND)* shop c\\u00f3 m\\u1ed9t s\\u1ed1 s\\u1ea3n ph\\u1ea9m.\\nB\\u1ea1n tham kh\\u1ea3o c\\u00e1c s\\u1ea3n ph\\u1ea9m sau nh\\u00e9 \\u1ea1:\", \"query_knowledge_base\", \"['object_type:cau_truot']\", \"action_query_babe_kb\"], [\"B\\u1ea1n \\u01a1i b\\u00ean b\\u1ea1n hi\\u1ec7n c\\u00f2n nh\\u1eefng lo\\u1ea1i c\\u1ea7u tr\\u01b0\\u1ee3t n\\u00e0o nh\\u1ec9\", \"S\\u1ea3n ph\\u1ea9m  C\\u1ea7u tr\\u01b0\\u1ee3t x\\u00edch \\u0111u Hola h\\u1ea3i c\\u1ea9u 2020  hi\\u1ec7n shop \\u0111ang c\\u00f3 gi\\u00e1: *1,982,500 VND (gi\\u00e1 g\\u1ed1c 3,250,000 VND)*\\nB\\u1ea1n tham kh\\u1ea3o c\\u00e1c s\\u1ea3n ph\\u1ea9m sau nh\\u00e9 \\u1ea1:\", \"query_knowledge_base\", \"['object_type:cau_truot']\", \"action_query_babe_kb\"], [\"C\\u00f3 c\\u00e1i n\\u00e0o r\\u1ebb h\\u01a1n k b\\u1ea1n\\r\\nC\\u1ea7u tr\\u01b0\\u1ee3t ri\\u00eang th\\u00f4i\", \"S\\u1ea3n ph\\u1ea9m  C\\u1ea7u tr\\u01b0\\u1ee3t c\\u00f3 gi\\u00e1 th\\u1ea5p h\\u01a1n: *1,982,500 VND (gi\\u00e1 g\\u1ed1c 3,250,000 VND)* shop hi\\u1ec7n kh\\u00f4ng c\\u00f3.\\nB\\u1ea1n tham kh\\u1ea3o c\\u00e1c s\\u1ea3n ph\\u1ea9m sau nh\\u00e9 \\u1ea1:\", \"query_knowledge_base\", \"['object_type:cau_truot']\", \"action_query_babe_kb\"], [null, \"B\\u1ea1n \\u0111\\u00e3 t\\u00ecm \\u0111c s\\u1ea3n ph\\u1ea9m \\u01b0ng \\u00fd ch\\u01b0a \\u1ea1 ,c\\u00f3 c\\u1ea7n tr\\u1ee3 l\\u00fd c\\u1ee7a shop g\\u1ea5u v\\u00e0 b\\u00ed ng\\u00f4 gi\\u00fap g\\u00ec kh\\u00f4ng \\u1ea1\", \"reminder\", null, \"action_reminder\"], [\"Cho m stk t\\u1ed1i nh\\u1eadn h\\u00e0ng m ck nh\\u00e9\", \"D\\u1ea1 m\\u00ecnh g\\u1eedi b\\u1ea1n th\\u00f4ng tin t\\u00e0i kho\\u1ea3n c\\u1ee7a shop \\u1ea1:\\nTh\\u00f4ng tin chuy\\u1ec3n kho\\u1ea3n: \\n\\u2022 0611001928974 - VietcomBank chi nh\\u00e1nh Ba \\u0110\\u00ecnh. Nguy\\u1ec5n L\\u00ea Thu\\u1ef7\\n\\u2022 1500216756861 - Agribank chi nh\\u00e1nh H\\u00e0 N\\u1ed9i - Nguy\\u1ec5n L\\u00ea Th\\u1ee7y\\n\\u2022 19022876983383 - Techcombank chi nh\\u00e1nh H\\u00e0 N\\u1ed9i. Nguy\\u1ec5n Tu\\u1ea5n Quang! \\nN\\u1ed9i dung chuy\\u1ec3n kho\\u1ea3n b\\u1ea1n ghi r\\u00f5 T\\u00ean Facebook + s\\u1ed1 \\u0111i\\u1ec7n tho\\u1ea1i v\\u00e0 nh\\u1eafn l\\u1ea1i b\\u00ean m\\u00ecnh sau khi chuy\\u1ec3n kho\\u1ea3n nh\\u00e9.\", \"ask_account\", null, \"action_ask_account\"], [\"ok shop\", null, \"agree\", null, \"utter_agree\"], [\"https://scontent.xx.fbcdn.net/v/t1.15752-9/93983240_2821288317948752_842182115389865984_n.jpg?_nc_cat=110&_nc_sid=b96e70&_nc_oc=AQlu0Bd3QU0FS9YleaGD4xnvaMxDjJH1AaTvxpZAzM3XTfDDxP2pY23ZNSA3CghP0uZ8BknWoPUoMfQt5w9vtTsP&_nc_ad=z-m&_nc_cid=0&_nc_zor=9&_nc_ht=scontent.xx&oh=84195cc58455d4bf9cb6dc86a2f58333&oe=5EC16495\", \"B\\u1ea1n \\u0111ang t\\u00ecm ki\\u1ebfm th\\u00f4ng tin g\\u00ec \\u1ea1?\", \"send_link\", \"[\\\"url:['https://scontent.xx.fbcdn.net/v/t1.15752-9/93983240_2821288317948752_842182115389865984_n.jpg?_nc_cat=110&_nc_sid=b96e70&_nc_oc=AQlu0Bd3QU0FS9YleaGD4xnvaMxDjJH1AaTvxpZAzM3XTfDDxP2pY23ZNSA3CghP0uZ8BknWoPUoMfQt5w9vtTsP&_nc_ad=z-m&_nc_cid=0&_nc_zor=9&_nc_ht=scontent.xx&oh=84195cc58455d4bf9cb6dc86a2f58333&oe=5EC16495']\\\"]\", \"action_handle_send_link_only\"], [\"B\\u1ea1n \\u01a1i b\\u1ea1n c\\u00f3 c\\u1ea7u tr\\u01b0\\u1ee3t n\\u00e0y k?\", \"D\\u1ea1, c\\u00f3 ph\\u1ea3i b\\u1ea1n mu\\u1ed1n h\\u1ecfi m\\u1ed9t trong c\\u00e1c s\\u1ea3n ph\\u1ea9m d\\u01b0\\u1edbi \\u0111\\u00e2y kh\\u00f4ng \\u1ea1?\\r\\n (Vui l\\u00f2ng \\u1ea5n ch\\u1ecdn 1 s\\u1ea3n ph\\u1ea9m)\", \"query_knowledge_base\", \"['object_type:cau_truot', 'mention:n\\u00e0y']\", \"action_query_babe_kb\"], [\"/disagree{\\\"object_type\\\": null}\", \"B\\u1ea1n vui l\\u00f2ng m\\u00f4 t\\u1ea3 r\\u00f5 mong mu\\u1ed1n c\\u1ee7a b\\u1ea1n ho\\u1eb7c chat v\\u1edbi nh\\u00e2n vi\\u00ean t\\u01b0 v\\u1ea5n nh\\u00e9!\", \"disagree\", null, \"utter_disagree\"], [\"/connect_employee\", null, \"connect_employee\", \"[]\", \"action_handover_to_inbox\"], [\"https://scontent.xx.fbcdn.net/v/t1.15752-9/93983240_2821288317948752_842182115389865984_n.jpg?_nc_cat=110&_nc_sid=b96e70&_nc_oc=AQlu0Bd3QU0FS9YleaGD4xnvaMxDjJH1AaTvxpZAzM3XTfDDxP2pY23ZNSA3CghP0uZ8BknWoPUoMfQt5w9vtTsP&_nc_ad=z-m&_nc_cid=0&_nc_zor=9&_nc_ht=scontent.xx&oh=84195cc58455d4bf9cb6dc86a2f58333&oe=5EC16495\", \"B\\u1ea1n \\u0111ang t\\u00ecm ki\\u1ebfm th\\u00f4ng tin g\\u00ec \\u1ea1?\", \"send_link\", \"[\\\"url:['https://scontent.xx.fbcdn.net/v/t1.15752-9/93983240_2821288317948752_842182115389865984_n.jpg?_nc_cat=110&_nc_sid=b96e70&_nc_oc=AQlu0Bd3QU0FS9YleaGD4xnvaMxDjJH1AaTvxpZAzM3XTfDDxP2pY23ZNSA3CghP0uZ8BknWoPUoMfQt5w9vtTsP&_nc_ad=z-m&_nc_cid=0&_nc_zor=9&_nc_ht=scontent.xx&oh=84195cc58455d4bf9cb6dc86a2f58333&oe=5EC16495']\\\"]\", \"action_handle_send_link_only\"], [\"B\\u1ea1n \\u01a1i b\\u1ea1n c\\u00f3 c\\u1ea7u tr\\u01b0\\u1ee3t n\\u00e0y k?\", \"D\\u1ea1, c\\u00f3 ph\\u1ea3i b\\u1ea1n mu\\u1ed1n h\\u1ecfi m\\u1ed9t trong c\\u00e1c s\\u1ea3n ph\\u1ea9m d\\u01b0\\u1edbi \\u0111\\u00e2y kh\\u00f4ng \\u1ea1?\\r\\n (Vui l\\u00f2ng \\u1ea5n ch\\u1ecdn 1 s\\u1ea3n ph\\u1ea9m)\", \"query_knowledge_base\", \"['object_type:cau_truot', 'mention:n\\u00e0y']\", \"action_query_babe_kb\"], [\"C\\u00e1i nh\\u01b0 m\\u00ecnh g\\u1eedi \\u1ea3nh \\u1ea5y\", \"B\\u1ea1n vui l\\u00f2ng m\\u00f4 t\\u1ea3 r\\u00f5 mong mu\\u1ed1n c\\u1ee7a b\\u1ea1n ho\\u1eb7c chat v\\u1edbi nh\\u00e2n vi\\u00ean t\\u01b0 v\\u1ea5n nh\\u00e9!\", \"disagree\", null, \"utter_disagree\"], [null, \"B\\u1ea1n \\u0111\\u00e3 t\\u00ecm \\u0111c s\\u1ea3n ph\\u1ea9m \\u01b0ng \\u00fd ch\\u01b0a \\u1ea1 ,c\\u00f3 c\\u1ea7n tr\\u1ee3 l\\u00fd c\\u1ee7a shop g\\u1ea5u v\\u00e0 b\\u00ed ng\\u00f4 gi\\u00fap g\\u00ec kh\\u00f4ng \\u1ea1\", \"reminder\", null, \"action_reminder\"], [\"C l\\u1ea5y b\\u1ed9 lego th\\u1ecf nh\\u00e9\\nNh\\u1eafn c stk c ck\", \"D\\u1ea1 m\\u00ecnh g\\u1eedi b\\u1ea1n th\\u00f4ng tin t\\u00e0i kho\\u1ea3n c\\u1ee7a shop \\u1ea1:\\nTh\\u00f4ng tin chuy\\u1ec3n kho\\u1ea3n: \\n\\u2022 0611001928974 - VietcomBank chi nh\\u00e1nh Ba \\u0110\\u00ecnh. Nguy\\u1ec5n L\\u00ea Thu\\u1ef7\\n\\u2022 1500216756861 - Agribank chi nh\\u00e1nh H\\u00e0 N\\u1ed9i - Nguy\\u1ec5n L\\u00ea Th\\u1ee7y\\n\\u2022 19022876983383 - Techcombank chi nh\\u00e1nh H\\u00e0 N\\u1ed9i. Nguy\\u1ec5n Tu\\u1ea5n Quang! \\nN\\u1ed9i dung chuy\\u1ec3n kho\\u1ea3n b\\u1ea1n ghi r\\u00f5 T\\u00ean Facebook + s\\u1ed1 \\u0111i\\u1ec7n tho\\u1ea1i v\\u00e0 nh\\u1eafn l\\u1ea1i b\\u00ean m\\u00ecnh sau khi chuy\\u1ec3n kho\\u1ea3n nh\\u00e9.\", \"ask_account\", null, \"action_ask_account\"], [\"Ship v\\u1ec1 28 ng\\u00f5 48 ng\\u00f4 gia t\\u1ef1, long bi\\u00ean 0989067795\", \"\\\"C\\u1ea3m \\u01a1n b\\u1ea1n! B\\u1ea1n vui l\\u00f2ng ki\\u1ec3m tra l\\u1ea1i th\\u00f4ng tin \\u0111\\u1eb7t h\\u00e0ng gi\\u00fap shop nh\\u00e9!\\r\\n<Show ra c\\u00e1i b\\u1ea3ng m\\u1eabu \\u0111\\u1eb7t h\\u00e0ng: c\\u00f3 t\\u00ean s\\u1ea3n ph\\u1ea9m, cho kh\\u00e1ch t\\u00f9y ch\\u1ecdn s\\u1ed1 l\\u01b0\\u1ee3ng, m\\u00e0u s\\u1eafc...>\\\"\\r\\n<x\\u00e1c nh\\u1eadn> <h\\u1ee7y>\", \"order\", \"[]\", \"action_order\"], [\"<x\\u00e1c nh\\u1eadn>\", \"B\\u1ea1n \\u0111\\u00e3 \\u0111\\u1eb7t h\\u00e0ng th\\u00e0nh c\\u00f4ng , \\u0111\\u01a1n h\\u00e0ng s\\u1ebd \\u0111c giao \\u0111\\u1ebfn 28 ng\\u00f5 48 ng\\u00f4 gia t\\u1ef1, long bi\\u00ean trong kho\\u1ea3ng 24 h \\u1ea1\", \"confirm_order\", null, \"action_confirm_order\"], [\"alo shop\", \"Ch\\u00e0o b\\u1ea1n, m\\u00ecnh l\\u00e0 tr\\u1ee3 l\\u00fd \\u1ea3o c\\u1ee7a Shop G\\u1ea5u & B\\u00ed Ng\\u00f4, m\\u00ecnh gi\\u00fap g\\u00ec \\u0111\\u01b0\\u1ee3c b\\u1ea1n \\u1ea1?\", \"greet\", null, \"utter_greet\"], [\"https://scontent.xx.fbcdn.net/v/t1.15752-9/94187856_1428345610693079_2104702857449046016_n.jpg?_nc_cat=109&_nc_sid=b96e70&_nc_ohc=ITTHyLb5GbQAX8dQMXM&_nc_ad=z-m&_nc_cid=0&_nc_zor=9&_nc_ht=scontent.xx&oh=01542d8383a44dc3ca26de400c1cde2a&oe=5EC29798\\nIb gi\\u00e1 nh\\u00e9 shop\", \"S\\u1ea3n ph\\u1ea9m  Gh\\u1ebf \\u0111a n\\u0103ng Mastela Premium 1016  hi\\u1ec7n shop \\u0111ang c\\u00f3 gi\\u00e1: *1,590,000 VND (gi\\u00e1 g\\u1ed1c 2,000,000 VND)*.\\nB\\u1ea1n tham kh\\u1ea3o c\\u00e1c s\\u1ea3n ph\\u1ea9m sau nh\\u00e9 \\u1ea1:\", \"query_knowledge_base\", \"[\\\"url:['https://scontent.xx.fbcdn.net/v/t1.15752-9/94187856_1428345610693079_2104702857449046016_n.jpg?_nc_cat=109&_nc_sid=b96e70&_nc_ohc=ITTHyLb5GbQAX8dQMXM&_nc_ad=z-m&_nc_cid=0&_nc_zor=9&_nc_ht=scontent.xx&oh=01542d8383a44dc3ca26de400c1cde2a&oe=5EC29798']\\\", 'attribute:price']\", \"action_query_babe_kb\"], [\"chi\\u1ec1u nay ship \\u0111\\u01b0\\u1ee3c lu\\u00f4n cho m\\u00ecnh \\u0111\\u01b0\\u1ee3c kh\\u00f4ng\", null, \"handover_to_inbox\", null, \"action_handover_to_inbox\"], [\"alo shop\", \"Ch\\u00e0o b\\u1ea1n, m\\u00ecnh l\\u00e0 tr\\u1ee3 l\\u00fd \\u1ea3o c\\u1ee7a Shop G\\u1ea5u & B\\u00ed Ng\\u00f4, m\\u00ecnh gi\\u00fap g\\u00ec \\u0111\\u01b0\\u1ee3c b\\u1ea1n \\u1ea1?\", \"greet\", null, \"utter_greet\"], [\"https://scontent.xx.fbcdn.net/v/t1.15752-9/94187856_1428345610693079_2104702857449046016_n.jpg?_nc_cat=109&_nc_sid=b96e70&_nc_ohc=ITTHyLb5GbQAX8dQMXM&_nc_ad=z-m&_nc_cid=0&_nc_zor=9&_nc_ht=scontent.xx&oh=01542d8383a44dc3ca26de400c1cde2a&oe=5EC29798\\nIb gi\\u00e1 nh\\u00e9 shop\", \"S\\u1ea3n ph\\u1ea9m  Gh\\u1ebf \\u0111a n\\u0103ng Mastela Premium 1016  hi\\u1ec7n shop \\u0111ang c\\u00f3 gi\\u00e1: *1,590,000 VND (gi\\u00e1 g\\u1ed1c 2,000,000 VND)*.\\nB\\u1ea1n tham kh\\u1ea3o c\\u00e1c s\\u1ea3n ph\\u1ea9m sau nh\\u00e9 \\u1ea1:\", \"query_knowledge_base\", \"[\\\"url:['https://scontent.xx.fbcdn.net/v/t1.15752-9/94187856_1428345610693079_2104702857449046016_n.jpg?_nc_cat=109&_nc_sid=b96e70&_nc_ohc=ITTHyLb5GbQAX8dQMXM&_nc_ad=z-m&_nc_cid=0&_nc_zor=9&_nc_ht=scontent.xx&oh=01542d8383a44dc3ca26de400c1cde2a&oe=5EC29798']\\\", 'attribute:price']\", \"action_query_babe_kb\"], [\"chi\\u1ec1u nay ship \\u0111\\u01b0\\u1ee3c lu\\u00f4n cho m\\u00ecnh \\u0111\\u01b0\\u1ee3c kh\\u00f4ng\", \"B\\u1ea1n cho shop xin \\u0111\\u1ecba ch\\u1ec9 nh\\u1eadn h\\u00e0ng \\u1ea1.\", \"time_ship\", null, \"action_time_ship\"], [\"s\\u1ed1 7 tr\\u00e0ng thi\", \"V\\u1edbi \\u0111\\u1ecba ch\\u1ec9 s\\u1ed1 7 tr\\u00e0ng thi shop c\\u00f3 th\\u1ec3 ship h\\u00e0ng \\u0111\\u1ebfn trong 3 h \\u1ea1\", \"time_ship\", null, \"action_time_ship\"], [\"https://scontent.xx.fbcdn.net/v/t1.15752-9/94118026_244969926552693_3478019006827331584_n.jpg?_nc_cat=100&_nc_sid=b96e70&_nc_ohc=i5bWmj-23SAAX_LTB3d&_nc_ad=z-m&_nc_cid=0&_nc_zor=9&_nc_ht=scontent.xx&oh=55c8b90d7ec276eab8fc521cd69e0638&oe=5EC1A4ED\\nB\\u1ed9 n\\u00e0y gi\\u00e1 bn sho\", \"D\\u1ea1, c\\u00f3 ph\\u1ea3i b\\u1ea1n mu\\u1ed1n h\\u1ecfi m\\u1ed9t trong c\\u00e1c s\\u1ea3n ph\\u1ea9m d\\u01b0\\u1edbi \\u0111\\u00e2y kh\\u00f4ng \\u1ea1?\\n (Vui l\\u00f2ng \\u1ea5n ch\\u1ecdn 1 s\\u1ea3n ph\\u1ea9m)...\", \"query_knowledge_base\", \"[\\\"url:['https://scontent.xx.fbcdn.net/v/t1.15752-9/94118026_244969926552693_3478019006827331584_n.jpg?_nc_cat=100&_nc_sid=b96e70&_nc_ohc=i5bWmj-23SAAX_LTB3d&_nc_ad=z-m&_nc_cid=0&_nc_zor=9&_nc_ht=scontent.xx&oh=55c8b90d7ec276eab8fc521cd69e0638&oe=5EC1A4ED']\\\", 'mention:b\\u1ed9 n\\u00e0y', 'attribute:price']\", \"action_query_babe_kb\"], [\"/query_knowledge_base{\\\"url\\\": \\\"https://www.facebook.com/shopgauvabingo/posts/2435578706752453\\\", \\\"product_id\\\": \\\"https://www.facebook.com/shopgauvabingo/posts/2435578706752453\\\"}\", \"B\\u1ed9 \\u0111\\u1ed3 ch\\u01a1i nh\\u00e0 b\\u1ebfp th\\u00f4ng minh hi\\u1ec7n shop \\u0111ang c\\u00f3 gi\\u00e1: 790000 VND (gi\\u00e1 g\\u1ed1c 790000 VND). B\\u1ea1n tham kh\\u1ea3o c\\u00e1c s\\u1ea3n ph\\u1ea9m sau nh\\u00e9 \\u1ea1:\", \"query_knowledge_base\", null, \"action_query_babe_kb\"], [\"oki shop\", \"D\\u1ea1, v\\u00e2ng \\u1ea1\", \"agree\", null, \"utter_agree\"], [\"https://scontent.xx.fbcdn.net/v/t1.15752-9/94118026_244969926552693_3478019006827331584_n.jpg?_nc_cat=100&_nc_sid=b96e70&_nc_ohc=i5bWmj-23SAAX_LTB3d&_nc_ad=z-m&_nc_cid=0&_nc_zor=9&_nc_ht=scontent.xx&oh=55c8b90d7ec276eab8fc521cd69e0638&oe=5EC1A4ED\\nB\\u1ed9 n\\u00e0y gi\\u00e1 bn sho\", \"S\\u1ea3n ph\\u1ea9m b\\u1ea1n \\u0111ang t\\u00ecm c\\u00f3 ph\\u1ea3i l\\u00e0?\", \"query_knowledge_base\", \"[\\\"url:['https://scontent.xx.fbcdn.net/v/t1.15752-9/94118026_244969926552693_3478019006827331584_n.jpg?_nc_cat=100&_nc_sid=b96e70&_nc_ohc=i5bWmj-23SAAX_LTB3d&_nc_ad=z-m&_nc_cid=0&_nc_zor=9&_nc_ht=scontent.xx&oh=55c8b90d7ec276eab8fc521cd69e0638&oe=5EC1A4ED']\\\", 'mention:b\\u1ed9 n\\u00e0y', 'attribute:price']\", \"action_query_babe_kb\"], [\"/confirm_object_type{\\\"object_type\\\": \\\"bo_do_choi\\\"}\", \"B\\u1ed9 \\u0111\\u1ed3 ch\\u01a1i nh\\u00e0 b\\u1ebfp th\\u00f4ng minh hi\\u1ec7n shop \\u0111ang c\\u00f3 gi\\u00e1: 790000 VND (gi\\u00e1 g\\u1ed1c 790000 VND). B\\u1ea1n tham kh\\u1ea3o c\\u00e1c s\\u1ea3n ph\\u1ea9m sau nh\\u00e9 \\u1ea1:\", \"query_knowledge_base\", null, \"action_query_babe_kb\"], [\"oki shop\", \"D\\u1ea1, v\\u00e2ng \\u1ea1\", \"agree\", null, \"utter_agree\"], [\"https://scontent.xx.fbcdn.net/v/t1.15752-9/94118026_244969926552693_3478019006827331584_n.jpg?_nc_cat=100&_nc_sid=b96e70&_nc_ohc=i5bWmj-23SAAX_LTB3d&_nc_ad=z-m&_nc_cid=0&_nc_zor=9&_nc_ht=scontent.xx&oh=55c8b90d7ec276eab8fc521cd69e0638&oe=5EC1A4ED\\nB\\u1ed9 n\\u00e0y gi\\u00e1 bn sho\", \"B\\u1ed9 \\u0111\\u1ed3 ch\\u01a1i nh\\u00e0 b\\u1ebfp th\\u00f4ng minh hi\\u1ec7n shop \\u0111ang c\\u00f3 gi\\u00e1: 790000 VND (gi\\u00e1 g\\u1ed1c 790000 VND). B\\u1ea1n tham kh\\u1ea3o c\\u00e1c s\\u1ea3n ph\\u1ea9m sau nh\\u00e9 \\u1ea1:\", \"query_knowledge_base\", \"[\\\"url:['https://scontent.xx.fbcdn.net/v/t1.15752-9/94118026_244969926552693_3478019006827331584_n.jpg?_nc_cat=100&_nc_sid=b96e70&_nc_ohc=i5bWmj-23SAAX_LTB3d&_nc_ad=z-m&_nc_cid=0&_nc_zor=9&_nc_ht=scontent.xx&oh=55c8b90d7ec276eab8fc521cd69e0638&oe=5EC1A4ED']\\\", 'mention:b\\u1ed9 n\\u00e0y', 'attribute:price']\", \"action_query_babe_kb\"], [\"c\\u00f3 nh\\u1eefng k\\u00edch th\\u01b0\\u1edbc g\\u00ec \\u1ea1\", \"S\\u1ea3n ph\\u1ea9m  B\\u1ed9 \\u0111\\u1ed3 ch\\u01a1i nh\\u00e0 b\\u1ebfp th\\u00f4ng minh c\\u00f3 k\\u00edch th\\u01b0\\u1edbc: 57x30x77cm v\\u00e0 51x32x100cm\\nB\\u1ea1n tham kh\\u1ea3o c\\u00e1c s\\u1ea3n ph\\u1ea9m sau nh\\u00e9 \\u1ea1:\", \"query_knowledge_base\", \"['attribute:size']\", \"action_query_babe_kb\"], [null, \"B\\u1ea1n \\u0111\\u00e3 t\\u00ecm \\u0111c s\\u1ea3n ph\\u1ea9m \\u01b0ng \\u00fd ch\\u01b0a \\u1ea1 ,c\\u00f3 c\\u1ea7n tr\\u1ee3 l\\u00fd c\\u1ee7a shop g\\u1ea5u v\\u00e0 b\\u00ed ng\\u00f4 gi\\u00fap g\\u00ec kh\\u00f4ng \\u1ea1\", \"reminder\", null, \"action_reminder\"], [\"Th\\u1ebf c\\u00f2n lo\\u1ea1i n\\u00e0o n\\u1eefa ko c\\nXe ch\\u00f2i ch\\u00e2n \\u00fd\", \"S\\u1ea3n ph\\u1ea9m  Xe Ch\\u00f2i Ch\\u00e2n  hi\\u1ec7n shop \\u0111ang c\\u00f3 gi\\u00e1: *580,000 VND (gi\\u00e1 g\\u1ed1c 800,000 VND), 499,000 VND (gi\\u00e1 g\\u1ed1c 800,000 VND), 699,000 VND (gi\\u00e1 g\\u1ed1c 998,000 VND), 448,400 VND (gi\\u00e1 g\\u1ed1c 590,000 VND), 576,000 VND (gi\\u00e1 g\\u1ed1c 800,000 VND)*.\\nB\\u1ea1n tham kh\\u1ea3o c\\u00e1c s\\u1ea3n ph\\u1ea9m sau nh\\u00e9 \\u1ea1:\", \"query_knowledge_base\", \"['object_type:xe_choi_chan']\", \"action_query_babe_kb\"], [\"thank sop\", \"d\\u1ea1,v\\u00e2ng \\u1ea1\", \"thank\", null, \"utter_thank\"], [\"Shop cho e stk agribank \\u0111\\u1ec3 e ck \\u1ea1\", \"D\\u1ea1 m\\u00ecnh g\\u1eedi b\\u1ea1n th\\u00f4ng tin t\\u00e0i kho\\u1ea3n c\\u1ee7a shop \\u1ea1:\\nTh\\u00f4ng tin chuy\\u1ec3n kho\\u1ea3n: \\n\\u2022 0611001928974 - VietcomBank chi nh\\u00e1nh Ba \\u0110\\u00ecnh. Nguy\\u1ec5n L\\u00ea Thu\\u1ef7\\n\\u2022 1500216756861 - Agribank chi nh\\u00e1nh H\\u00e0 N\\u1ed9i - Nguy\\u1ec5n L\\u00ea Th\\u1ee7y\\n\\u2022 19022876983383 - Techcombank chi nh\\u00e1nh H\\u00e0 N\\u1ed9i. Nguy\\u1ec5n Tu\\u1ea5n Quang! \\nN\\u1ed9i dung chuy\\u1ec3n kho\\u1ea3n b\\u1ea1n ghi r\\u00f5 T\\u00ean Facebook + s\\u1ed1 \\u0111i\\u1ec7n tho\\u1ea1i v\\u00e0 nh\\u1eafn l\\u1ea1i b\\u00ean m\\u00ecnh sau khi chuy\\u1ec3n kho\\u1ea3n nh\\u00e9.\", \"ask_account\", null, \"action_ask_account\"], [\"M\\u00ecnh chuy\\u1ec3n kho\\u1ea3n r\\u1ed3i nh\\u00e9 \", null, \"handover_to_inbox\", null, \"action_handover_to_inbox\"], [\"Shop cho e stk agribank \\u0111\\u1ec3 e ck \\u1ea1\", \"D\\u1ea1 m\\u00ecnh g\\u1eedi b\\u1ea1n th\\u00f4ng tin t\\u00e0i kho\\u1ea3n c\\u1ee7a shop \\u1ea1:\\nTh\\u00f4ng tin chuy\\u1ec3n kho\\u1ea3n: \\n\\u2022 0611001928974 - VietcomBank chi nh\\u00e1nh Ba \\u0110\\u00ecnh. Nguy\\u1ec5n L\\u00ea Thu\\u1ef7\\n\\u2022 1500216756861 - Agribank chi nh\\u00e1nh H\\u00e0 N\\u1ed9i - Nguy\\u1ec5n L\\u00ea Th\\u1ee7y\\n\\u2022 19022876983383 - Techcombank chi nh\\u00e1nh H\\u00e0 N\\u1ed9i. Nguy\\u1ec5n Tu\\u1ea5n Quang! \\nN\\u1ed9i dung chuy\\u1ec3n kho\\u1ea3n b\\u1ea1n ghi r\\u00f5 T\\u00ean Facebook + s\\u1ed1 \\u0111i\\u1ec7n tho\\u1ea1i v\\u00e0 nh\\u1eafn l\\u1ea1i b\\u00ean m\\u00ecnh sau khi chuy\\u1ec3n kho\\u1ea3n nh\\u00e9.\", \"ask_account\", null, \"action_ask_account\"], [\"https://scontent.xx.fbcdn.net/v/t1.15752-9/93636148_581283165927177_1218583943880638464_n.jpg?_nc_cat=107&_nc_sid=b96e70&_nc_ohc=v18UutxNnwkAX8l0irW&_nc_ad=z-m&_nc_cid=0&_nc_zor=9&_nc_ht=scontent.xx&oh=7374a7a5bb108982137dd407f074cced&oe=5EBC3E04\\nM\\u00ecnh chuy\\u1ec3n kho\\u1ea3n r\\u1ed3i nh\\u00e9 \", \"C\\u1ea3m \\u01a1n b\\u1ea1n, nh\\u00e2n vi\\u00ean c\\u1ee7a shop s\\u1ebd x\\u00e1c nh\\u1eadn s\\u1edbm l\\u1ea1i \\u1ea1.\", \"confirm_transfer\", null, \"confirm_transfer\"], [\"https://scontent.xx.fbcdn.net/v/t1.15752-9/94342216_2472338469763544_5708094841569673216_n.jpg?_nc_cat=111&_nc_sid=b96e70&_nc_ohc=kg5-pAp7BTgAX-QEe_x&_nc_ad=z-m&_nc_cid=0&_nc_zor=9&_nc_ht=scontent.xx&oh=aeb84a7b6bfc81f1fdadcd81e0347482&oe=5EC8A82A\\nhttps://scontent.xx.fbcdn.net/v/t1.15752-9/94318161_887396588390390_8811840609993097216_n.jpg?_nc_cat=106&_nc_sid=b96e70&_nc_ohc=AWcLOmXmk3YAX-wKPHM&_nc_ad=z-m&_nc_cid=0&_nc_zor=9&_nc_ht=scontent.xx&oh=a19ee2c3acb264c574fb86ccd5539fac&oe=5EC6A253\\nhai m\\u00f3n n\\u00e0y gi\\u00e1 bnhieu \\u1ea1\", \"S\\u1ea3n ph\\u1ea9m Xe ch\\u00f2i ch\\u00e2n ki\\u00eam xe l\\u1eafc cao c\\u1ea5p c\\u00f3 nh\\u1ea1c Holla hi\\u1ec7n shop \\u0111ang c\\u00f3 gi\\u00e1: *790,000 VND (gi\\u00e1 g\\u1ed1c 1,200,000 VND)*.\\nB\\u1ea1n tham kh\\u1ea3o c\\u00e1c s\\u1ea3n ph\\u1ea9m sau nh\\u00e9 \\u1ea1:\\n<show card sp>\", \"query_knowledge_base\", \"[\\\"url:['https://scontent.xx.fbcdn.net/v/t1.15752-9/94318161_887396588390390_8811840609993097216_n.jpg?_nc_cat=106&_nc_sid=b96e70&_nc_ohc=AWcLOmXmk3YAX-wKPHM&_nc_ad=z-m&_nc_cid=0&_nc_zor=9&_nc_ht=scontent.xx&oh=a19ee2c3acb264c574fb86ccd5539fac&oe=5EC6A253', 'https://scontent.xx.fbcdn.net/v/t1.15752-9/94342216_2472338469763544_5708094841569673216_n.jpg?_nc_cat=111&_nc_sid=b96e70&_nc_ohc=kg5-pAp7BTgAX-QEe_x&_nc_ad=z-m&_nc_cid=0&_nc_zor=9&_nc_ht=scontent.xx&oh=aeb84a7b6bfc81f1fdadcd81e0347482&oe=5EC8A82A']\\\", 'mention:m\\u00f3n n\\u00e0y', 'attribute:price']\", \"action_query_babe_kb\"], [\"ok shop\", \"V\\u00e2ng \\u1ea1!\", \"agree\", null, \"utter_agree\"], [\"Ch\\u00e0o shop\", \"Ch\\u00e0o b\\u1ea1n, m\\u00ecnh l\\u00e0 tr\\u1ee3 l\\u00fd \\u1ea3o c\\u1ee7a Shop G\\u1ea5u & B\\u00ed Ng\\u00f4, m\\u00ecnh gi\\u00fap g\\u00ec \\u0111\\u01b0\\u1ee3c b\\u1ea1n \\u1ea1?\", \"greet\", \"[]\", \"utter_greet\"], [\"\\u0110\\u1ed3 eco c\\u00f2mybaby h\\u1ebft lo\\u1ea1i 6-9m h\\u1ea3 ch\\u1ecb\", \"S\\u1ea3n ph\\u1ea9m Eco Comfybaby \\u0111\\u1ed9 tu\\u1ed5i s\\u1eed d\\u1ee5ng 6 - 9 th\\u00e1ng hi\\u1ec7n \\u0111ang h\\u1ebft h\\u00e0ng. M\\u1eddi b\\u1ea1n tham kh\\u1ea3o c\\u00e1c s\\u1ea3n ph\\u1ea9m kh\\u00e1c \\u0111ang c\\u00f3 t\\u1ea1i shop \\u1ea1.\\n<Show random 5 cards>\", \"query_knowledge_base\", \"['object_type:quan_ao']['size:6-9m']\", \"action_query_babe_kb\"], [\"ok shop\", \"V\\u00e2ng \\u1ea1!\", \"agree\", null, \"utter_agree\"], [\"https://scontent.xx.fbcdn.net/v/t1.15752-9/94615022_254702325575851_8685774369143652352_n.jpg?_nc_cat=107&_nc_sid=b96e70&_nc_oc=AQkW5yJT2whJY3uM6d13-4XyKcKwwf8gHNd-ED41EzYfoVcxoq3ogMZuuTsWcwYdCVqvspJWtELLeP0qWdOz4xNP&_nc_ad=z-m&_nc_cid=0&_nc_zor=9&_nc_ht=scontent.xx&oh=39335ddc3e910c63c2f92a71bc0721a2&oe=5EC5D7A0\\nhttps://scontent.xx.fbcdn.net/v/t1.15752-9/94718995_656896051775135_4424984880991961088_n.jpg?_nc_cat=110&_nc_sid=b96e70&_nc_oc=AQmqj-ZwCy04a-EryIf2WLMm4Qvp9emjauY9QNfszWU48mpnGT7YnO-0OJhPHEpL8ykkfrGfYXp_1Pb3Q7FIuunG&_nc_ad=z-m&_nc_cid=0&_nc_zor=9&_nc_ht=scontent.xx&oh=eb24143022047722f3bba74d15534964&oe=5EC7896A\\nhttps://scontent.xx.fbcdn.net/v/t1.15752-9/94278563_315945652700875_3393720721636065280_n.jpg?_nc_cat=107&_nc_sid=b96e70&_nc_oc=AQlu_SI7QRtyKEdwncW1fzfBqKQXFLU24Siyz8e0Kl_AT5LA2F-ihNTPCzaoj0XyStIeQPeFqeHSDe3t7fLokib0&_nc_ad=z-m&_nc_cid=0&_nc_zor=9&_nc_ht=scontent.xx&oh=a8c6f18333cf9f2b558c8e4c26ff2765&oe=5EC7387D\\nShop b\\u00e1o gi\\u00e1 e 3 sp n\\u00e0y vs\", \"S\\u1ea3n ph\\u1ea9m  Xe t\\u1eadp \\u0111i \\u0111a n\\u0103ng cao c\\u1ea5p Holla hi\\u1ec7n shop \\u0111ang c\\u00f3 gi\\u00e1: *750,000 VND (gi\\u00e1 g\\u1ed1c 1,200,000 VND)*.\\nB\\u1ea1n tham kh\\u1ea3o c\\u00e1c s\\u1ea3n ph\\u1ea9m sau nh\\u00e9 \\u1ea1:\\n<show card sp>\", \"query_knowledge_base\", \"[\\\"url:['https://scontent.xx.fbcdn.net/v/t1.15752-9/94278563_315945652700875_3393720721636065280_n.jpg?_nc_cat=107&_nc_sid=b96e70&_nc_oc=AQlu_SI7QRtyKEdwncW1fzfBqKQXFLU24Siyz8e0Kl_AT5LA2F-ihNTPCzaoj0XyStIeQPeFqeHSDe3t7fLokib0&_nc_ad=z-m&_nc_cid=0&_nc_zor=9&_nc_ht=scontent.xx&oh=a8c6f18333cf9f2b558c8e4c26ff2765&oe=5EC7387D', 'https://scontent.xx.fbcdn.net/v/t1.15752-9/94718995_656896051775135_4424984880991961088_n.jpg?_nc_cat=110&_nc_sid=b96e70&_nc_oc=AQmqj-ZwCy04a-EryIf2WLMm4Qvp9emjauY9QNfszWU48mpnGT7YnO-0OJhPHEpL8ykkfrGfYXp_1Pb3Q7FIuunG&_nc_ad=z-m&_nc_cid=0&_nc_zor=9&_nc_ht=scontent.xx&oh=eb24143022047722f3bba74d15534964&oe=5EC7896A', 'https://scontent.xx.fbcdn.net/v/t1.15752-9/94615022_254702325575851_8685774369143652352_n.jpg?_nc_cat=107&_nc_sid=b96e70&_nc_oc=AQkW5yJT2whJY3uM6d13-4XyKcKwwf8gHNd-ED41EzYfoVcxoq3ogMZuuTsWcwYdCVqvspJWtELLeP0qWdOz4xNP&_nc_ad=z-m&_nc_cid=0&_nc_zor=9&_nc_ht=scontent.xx&oh=39335ddc3e910c63c2f92a71bc0721a2&oe=5EC5D7A0']\\\", 'attribute:price']\", \"action_query_babe_kb\"], [\"ok shop\", \"V\\u00e2ng \\u1ea1!\", \"agree\", null, \"utter_agree\"], [\"Cho m\\u00ecnh link shoppe\", \"M\\u00ecnh ch\\u01b0a x\\u00e1c \\u0111\\u1ecbnh \\u0111\\u01b0\\u1ee3c m\\u00f3n \\u0111\\u1ed3 b\\u1ea1n h\\u1ecfi, b\\u1ea1n m\\u00f4 t\\u1ea3 r\\u00f5 h\\u01a1n gi\\u00fap m\\u00ecnh nh\\u00e9!\", \"query_knowledge_base\", \"['attribute:link']\", \"action_query_babe_kb\"], [\"Xe l\\u1eafc \\u0111\\u00f3 b\", \"D\\u1ea1 m\\u1eddi b\\u1ea1n xem s\\u1ea3n ph\\u1ea9m t\\u1ea1i \\u0111\\u00e2y \\u1ea1:\\n<show card sp>\", \"query_knowledge_base\", \"['object_type: xe_tap_di','attribute:link']\", \"action_query_babe_kb\"]], \"hovertemplate\": \"x=%{x}<br>y=%{y}<br>z=%{z}<br>input_text=%{customdata[0]}<br>bot_text=%{customdata[1]}<br>intent=%{customdata[2]}<br>entities=%{customdata[3]}<br>action=%{customdata[4]}<br>cluster=%{marker.color}<extra></extra>\", \"legendgroup\": \"\", \"marker\": {\"color\": [0, 1, 0, 0, 0, 1, 1, 0, 1, 0, 0, 0, 0, 0, 1, 0, 0, 0, 0, 0, 1, 0, 1, 1, 2, 1, 1, 0, 1, 0, 0, 1, 0, 0, 0, 0, 1, 0, 0, 1, 0, 0, 0, 2, 0, 0, 0, 2, 0, 0, 1, 0, 0, 1, 1, 0, 1, 1, 2, 0, 0, 1, 1, 1, 1, 1, 0, 0, 0, 0, 1, 0, 0, 0, 0, 0, 0, 1, 0, 0, 0, 0, 0, 0, 1, 0, 1, 0, 0, 0, 0, 1, 0, 1, 2, 1, 1, 2, 0, 1, 2, 1, 1, 1, 0, 1, 0, 0, 1, 1, 2, 0, 1, 2, 0, 1, 1, 0, 1, 2, 0, 0, 0, 0, 1, 2, 0, 1, 2, 0, 0, 1, 2, 1, 1, 0, 0, 1, 1, 2, 0, 0, 0, 1, 2, 1, 0, 0, 1, 1, 0, 0, 1, 2, 0, 0, 1, 2, 0, 0, 0, 1, 1, 0, 0, 2, 0, 1, 1, 0, 2, 0, 0, 2, 0, 0, 2, 0, 0, 2, 0, 1, 2, 0, 0, 0, 2, 0, 0, 1, 1, 2, 0, 1, 2, 0, 0, 2, 0, 1, 2, 0, 1, 1, 3, 0, 1, 0, 1, 2, 1, 0, 2, 0, 0, 1, 2, 0, 0, 0, 1, 2, 0, 0, 1, 2, 0, 0, 1, 1, 1, 2, 0, 0, 1, 2, 0, 0, 0, 2, 0, 0, 0, 1, 2, 0, 0, 1, 1, 1, 0, 0, 0, 0, 1, 0, 1, 0, 1, 2, 0, 2, 0, 1, 2, 0, 1, 0, 1, 0, 0, 0, 0, 1, 0, 0, 1, 0, 2, 0, 0, 0, 1, 0, 0, 2, 0, 0, 2, 0, 0, 2, 0, 0, 1, 1, 1, 0, 1, 0, 1, 1, 1, 0, 1, 1, 1, 2, 0, 1, 1, 1, 0, 1, 1, 1, 1, 0, 0, 1, 0, 0, 0, 0, 0, 1, 1, 2, 0, 0, 1, 0, 1, 1, 1, 1, 1, 0, 1, 0, 0, 1, 2, 1, 1, 1, 1, 0, 1, 1, 0, 1, 1, 0, 0, 0, 2, 0, 0, 1, 1, 0, 1, 2, 0, 1, 2, 0, 0, 0, 1, 0, 0, 0, 1, 0, 0, 0, 0, 1, 1, 1, 2, 0, 0, 1, 0, 1, 1, 1, 2, 0, 0, 0, 0, 1, 0, 0, 1, 0, 2, 0, 1, 2, 0, 1, 1, 0, 2, 0, 2, 0, 0, 0, 0, 1, 1, 1, 0, 1, 1, 0, 1, 1, 2, 0, 0, 0, 0, 1, 2, 1, 1, 1, 0, 0, 1, 1, 1, 1, 0, 0, 0, 1, 0, 0, 1, 0, 1, 0, 1, 1, 1, 1, 2, 1, 2, 1, 1, 2, 0, 1, 0, 0, 0, 0, 0, 0, 2, 0, 2, 0, 1, 1, 0, 1, 1, 0, 0, 1, 1, 1, 1, 1, 1, 2, 1, 2, 1, 0, 1, 1, 1, 1, 1, 0, 1, 0, 0, 0, 0, 0, 0, 0, 0, 0, 2, 1, 0, 0, 0, 0, 0, 1, 1, 0, 0, 0, 1, 0, 0, 1, 0, 0, 1, 0, 0, 1, 0, 0, 0, 1, 0, 0, 1, 0, 1, 1, 0, 0, 0, 0, 0, 0, 0, 1, 0, 1, 1, 0, 1, 0, 0, 0, 1, 0, 0, 1, 0, 0, 1, 0, 0, 1, 0, 1, 2, 0, 0, 1, 2, 0, 0, 1, 0, 1, 1, 0, 1, 1, 0, 0, 0, 0, 1, 1, 0, 0, 0, 1, 0, 0, 1, 2, 0, 1, 1, 2, 0, 0, 0, 0, 1, 0, 0, 1, 0, 0, 0, 0, 1, 1, 1, 0, 0, 1, 1, 0, 0, 1, 1, 1, 1, 1, 2, 0, 1, 2, 0, 1, 1, 0, 0, 1, 0, 0, 1, 0, 0, 1, 0, 1, 1, 1, 1, 1, 0, 1, 2, 1, 1, 0, 1, 1, 0], \"coloraxis\": \"coloraxis\", \"symbol\": \"circle\"}, \"mode\": \"markers\", \"name\": \"\", \"scene\": \"scene\", \"showlegend\": false, \"type\": \"scatter3d\", \"x\": [-0.05119122, -5.468654, -2.8832383, 3.5861812000000004, 13.328296, -3.3251245000000003, -3.1467384999999997, 13.328334, -4.742239499999999, 13.781819, -1.3292848999999998, 1.1169873, 13.781881, -1.3292796999999998, -6.5881232999999995, 12.694653500000001, -0.07601909, 2.2991639999999998, 14.120871, -0.6222430999999999, -4.6280046, -3.9280665, -3.0200492999999997, -1.3944674, 6.2497463, -1.2994101999999998, -2.21802, -2.0418828, -6.565815, -1.6598008000000002, 1.529677, -1.8493271, 13.477960999999999, -1.6597874, -2.9651525000000003, -2.8194191, -5.664377, 11.978464, -2.7382364, -3.6164687000000004, 13.942239, 0.079675786, 0.38915017, 6.249747, 12.376851, -0.50286275, 0.92269737, 6.249747, 12.006949, -0.7943752, -4.582544, 11.990811, -2.1504896000000002, -3.0648869999999997, -3.3432426, -3.7913069999999998, -5.5184336, -4.3532944, 6.249747, 0.6662085, -3.5313215, -3.7710502, -9.101099000000001, -7.507045, -3.145946, -9.099033, -2.1577806, 0.9046554, 14.296164000000001, 1.4027326999999998, -3.2949078000000003, 13.590141000000001, -0.47488105, 1.9979738, 12.633411, 14.056218, -0.49350202, -1.3754354, 0.7746513, 1.5180354999999999, 0.77220297, -2.0091221000000004, 0.94027275, 0.08404927, -7.987578999999999, -2.1092197999999995, -0.19208431, 0.83939725, 0.9428034, 13.121474, -0.81825143, -3.7710502, -0.54632854, -3.2614071, 6.249752, -3.845946, -3.3799667, -0.008793641, 14.424417000000002, -4.844608, -0.008877401, -7.9933505, -4.737215, -4.233031700000001, -0.26340749999999996, 0.06229301, 0.07488550000000001, 0.79649204, -7.833025500000001, -6.1514163, 6.2497463, 0.13294812, -2.9358428, -0.80877215, -2.6550324, -7.5356502999999995, -1.6836738999999998, -0.18060231, -2.1101892, -0.06587778, 0.2803693, 0.27617344, 1.3731927, 12.810031, -3.7891765, 3.3803926, 0.18871255, -5.541174400000001, 4.358585400000001, 0.18868722, 0.7615331, -4.9311023, 3.5455122, -3.8629086000000004, -1.097753, 12.458949, 2.1570818, -5.034455, -3.718119, 3.8664095, 15.243246, -1.2281166000000001, -1.8638073, -1.9038537, -0.7226731, -3.4267355999999998, -3.2403880000000003, -0.7249478, -3.7409735, -6.553461599999999, 11.477753, 3.6868239999999997, -3.8151681000000006, -0.966463, 2.4491172000000003, -3.8319687999999994, -5.475733, -0.4763587, 2.3348767999999995, -3.8319205999999997, 0.74855304, -4.994905, -7.8493775999999995, 3.8234894, -1.5790375, 2.0675476, 0.9311254000000001, -4.464282, -2.1216316, -0.30056986, -0.6462223000000001, 12.815529, -0.27780659999999996, -0.47643536, 12.317314999999999, -0.45484215, -0.47635925, -4.390016999999999, -1.0984539, 4.2229779999999995, -1.0782218000000001, -5.1304492999999995, 4.474694, -4.363221599999999, -0.6617619, -0.43699449999999995, 3.337447, 13.760206, 3.0641084, -2.128052, -1.8323393, 3.8702347, 11.719592, -6.949039999999999, 6.249747, 12.694919, 2.6681150000000002, 2.0675943, -2.617543, -4.9949069999999995, 2.0675476, 13.155698000000001, -3.4614189, -3.9849536, -90.85027, 12.511536, -6.331508599999999, -4.3445599999999995, -1.078001, 4.5456667, -5.6605506, -0.21907564, 4.634563, 11.771971, 0.9151974, -4.9617059999999995, 4.5944294999999995, 11.771931, 0.9152135, 2.5319083, -6.0901504, -0.08607291, 14.347278, 1.8345016, -2.5939688999999997, 3.347833, 14.347399, 1.8345042, -3.5661987999999996, -4.312663, -5.914378599999999, 3.937708, 14.130710999999998, -0.07942300000000001, -4.429572599999999, 3.5667806000000004, 15.650282, 3.2099764, -3.6645446, 4.1571174, 15.650198999999999, 2.7160040000000003, -3.6333949999999997, -3.815096, 3.8549328000000003, 1.2618011999999998, 0.22036803, -3.9980397000000005, -4.238338, -5.2864656, 2.2560997000000005, -1.2264681, -0.35163796, -3.3584300000000002, -3.365542, -1.6590438000000003, -3.4636714, -3.2063339, -3.7998260999999998, 3.8320038, -0.96901995, 3.6794333, -0.96902066, -2.4954414000000003, -0.81394327, -0.99588764, -1.4330745, -1.2656178, -4.353957, 12.647183, -2.1702816, 14.296167, 1.5097871, -0.19188209, -0.3276385, -0.26340735, 0.06559731, 0.07476593, 4.413285299999999, 15.242977, -1.2282903, -1.8637965, -4.3762636, 11.811253, 3.6868230000000004, -0.8878985999999999, -2.9069724, 1.303608, -0.31114742, 14.3474, 1.8345015, 3.9770138, 14.130718, 1.2608446000000002, -0.43069705, -2.1539757, -0.40471333, -1.7269883999999998, -3.9849707999999997, 1.1136104, -4.7795385999999995, -4.779533, -2.1914232000000005, 2.3007638, -1.8901917000000001, -1.8325984, -6.532143, 2.0675476, 3.2000117, -1.9658133999999998, -1.832602, -2.1326668, 3.1996884, -2.2300475, -3.9130504, -5.449946, 0.7295965, -3.437008, -2.612688, -2.5142453, 12.0634775, -1.0449435, -4.325344, -2.5535164, -0.32841042, -2.4194279, -6.771172999999999, -0.72231454, -4.6896424, -3.3388057, -3.974739, -0.333502, -5.9566455000000005, -3.974739, 0.07092396, -1.8326011999999998, -0.6871073000000001, -3.1006534, -5.631406, -2.8778725, 0.723532, -7.6954694, -0.7447535, -4.812243, -0.77724063, -6.7104383, -2.3034282000000004, 3.4042468, -2.1739142000000005, -1.8326018, -3.00293, -6.867047299999999, -2.1437732999999994, -0.6273224000000001, 1.5956037, 2.547498, 3.5768873999999995, 13.922939000000001, -3.7343297, -4.947605, -6.945544, 1.6768319999999999, -7.3701024, 4.111148, 13.054397999999999, -4.894753, 3.6148569999999998, 2.6158147, 12.269687, -2.425958, -6.8599820000000005, 13.209154999999999, 13.209067000000001, -1.2076688999999998, -3.3568977999999996, 3.6461300000000003, -3.7698080000000003, 11.209228, -2.1975515, -3.4011053999999996, -4.420313, -2.0298990000000003, 4.313879, 12.531602000000001, 2.341032, -2.0540477999999998, -3.0086784, -7.584445, -8.180322, -2.4258978, 4.3209976999999995, 13.054397999999999, 0.58698183, 12.063495, 2.1887232999999995, 0.2643975, -1.6598008000000002, 1.5297281999999999, -1.6311883999999999, 2.9126494, 3.008102, -0.31437367, -0.44296792, 3.0078597, 0.09043402, -0.44296807, -0.49874586, 0.65700746, 3.309043, -2.4566545, 3.309043, -0.85236305, 0.3293736, -3.5053287, -0.011776364, -5.0781627, -5.771135299999999, -1.3532621, -1.635332, -4.5451307, -6.3777365999999995, -0.24636501, -1.9360674999999998, -3.502318, 3.008102, 1.5002375, 0.35170619999999997, 11.708243, -3.1030362, -5.499425, 3.309043, -5.271658, -3.5879726, -3.7428591, -2.2031188, -1.6855595, -0.44296798, -1.0778758999999998, -3.5880375, -1.4425834, 1.7230463, -4.421311, -0.94015986, -7.179023, -1.8941002, 0.44007340000000006, -3.4438095, 1.6544860000000001, -5.00408, -0.17027645, -1.9983528999999998, -3.5405562000000006, -3.4748778, 0.072144896, 3.2611022000000003, -2.8354132, 3.5508330000000004, -3.176069, -3.7182522000000002, 4.194332599999999, 1.6083406, -4.796067, 12.682454, 1.3110938, 12.682344, 1.0833168, 12.682451, 2.8049967000000002, 4.0405416, -1.9855192, 4.0405416, 0.26986033, -4.2681913, -4.342979, 13.499454, -5.238375, -4.3115625, 2.0002773, 2.5124388, -5.069810400000001, -4.4404845, -3.7181191, -5.9955099999999995, -5.829528, -3.7182522000000002, 4.0405474, -4.561807, 4.040548, -4.5617747, 4.1834335, -2.3071662999999996, -1.8744133, -4.5089607, -7.978872999999999, -6.947686999999999, 12.129932, -1.2342521, -1.344249, 2.0256546, -1.4875486, 2.0254765, 26.502934999999997, 1.5300856000000003, 12.880306, 0.55291444, 4.065729, 5.573538, -7.7088695000000005, 2.689779, -4.315856, -2.2121816, 2.1740972999999997, 3.461153, -1.8883966, -4.208924, 2.1740972999999997, 3.4610991, -0.41868496, -2.4619906000000005, 2.1740985, 0.08618611, -2.46195, 2.1740386000000003, 0.1949984, -2.4619908, 2.1740372000000003, 0.9903511999999999, -2.4624113999999997, -1.8519084, 14.945598, 1.7591933000000002, -4.060665, -1.8521444999999999, -0.92431104, -4.1133385, 3.5115206, -1.8887009999999997, -1.832336, 0.03001514, -0.7064471, 3.3458282999999995, -0.41822064, -2.9216583, -0.09134126, -2.9216132000000004, -4.35325, 3.3301828, -2.1282997000000003, -1.8326012999999999, -0.17500736, -7.5709577, 2.1782796, -0.41788919999999996, 0.76791257, -1.5363414, -1.0087126, 2.0173109, -1.9244511000000002, -1.0093851, 2.0173109, -4.128334, 1.9842351999999999, -0.41704682, -1.5363418, -1.3315887, -2.4624118999999998, -0.72267306, 11.4191, 1.2596056, -1.5363393, -0.72267306, 11.419298, 1.7538056, -1.5363414, 2.6657722, -2.1280618, -4.5583477, 2.1734888999999997, -2.1280452999999997, -4.558347, -2.9291227, 4.7768616999999995, 13.173777, 1.5537288999999999, -1.8902710999999999, -4.5585127, 13.173777, 2.279431, -3.1332318999999997, -4.1990894999999995, 13.173776, -2.380236, -4.0058722, -0.08607283, 3.98086, -2.4190728999999997, -4.557867, -0.31114742, 3.7833025, 0.7804466999999999, 0.09867387, -0.5132623, -3.7710502, 2.6641276, 0.47726774, -0.63715833, -0.5132632, -0.09877739, -0.5010089, -0.5319869, -0.671381, -5.588234, -1.3579625, 15.142682999999998, 3.3488758, -1.2076796, -4.5585113, 15.142682, 3.3488620000000004, -1.9590319999999999, -0.671381, -6.258182499999999, -6.4011545, -7.471537599999999, -0.31114814, -3.7153977999999994, -1.1164003999999998, -0.08607305, -3.7153977999999994, -1.3898556999999998, -5.968806, 2.7878578, -3.7325356, -3.0263677, 2.2371267999999995, -3.4904474999999997, -3.026441, -3.0947666000000003, 0.9847974, -0.671381, -4.316211, -6.118587000000001, -4.6362343, -3.6471279, -4.636083599999999, -5.5136027, -1.3596492, -4.5112195, 3.3090434, -4.787573, -4.7387385, -3.4334477999999997, -4.946396400000001, -1.5831903999999999, 2.9732258], \"y\": [-3.709161, 7.4341946, -0.9584606, -10.208497, 3.486925, 3.300136, 7.254457, 3.4869132000000005, 5.4949555, 3.0690186, -10.527935000000001, -9.084532000000001, 3.069054, -10.527942, 7.5500355, 2.7686615000000003, -10.930218, -2.7647145, 3.5885794, -10.094602, -0.40929493, -2.1801376, 1.4157511999999999, 6.9503639999999995, 0.8678519, 5.1688747, 3.0542853, -9.73685, 7.0182023000000004, -10.1991415, -6.445696, 1.0050849, 3.5815141, -10.314046000000001, -8.02816, -1.4122865, 10.778979, 4.4922830000000005, -5.349492, 1.9546758000000002, 5.107256400000001, -10.459013, -3.7065792, 0.86785185, 3.9002578000000003, -10.422963000000001, 0.7199734, 0.86785185, 4.7907057, -9.567611999999999, 1.1686056, 3.6143796000000004, -9.848761999999999, 6.11454, 6.0185122, -4.3808055, 6.538779, 11.4874525, 0.8678520000000001, 0.67893, -5.72452, 11.795711, 10.375678, 10.947908, 1.509931, 10.351164, -6.338954, -4.85815, 3.3436519999999996, -12.399913, -0.12601894, 4.0188217, -10.119427, -7.956583500000001, 3.598996, 4.5122046, -11.8595085, 2.5016703999999996, -5.2029166, -6.868436, -0.2446571, -9.797581, -5.956255400000001, -6.8307266, 8.435699000000001, -3.9445373999999997, 1.5382788, -6.0219398, -6.033014, 4.489914, -9.739479, 11.795711, -0.30999342, 5.795372, 0.8678657, 5.444287999999999, 2.3205152, -0.8510145, 4.0892034, 5.4272904, -0.85124797, 8.687775, 1.184735, 6.6897225, -13.204557000000001, 1.2927878000000002, -5.303074, 0.32429314, 10.519908000000001, 9.30561, 0.8678519, -8.462386, 8.781867, 1.1120832, -4.2482643, 10.28857, 2.4794862, -2.556022, 6.755587599999999, -0.7778503000000001, -2.2628906000000004, -7.3545485, -8.896041, 5.35536, 5.045391599999999, 0.52694094, -2.9604022999999997, 10.783078999999999, -0.49313483, -2.9603975, -5.1656017, 12.428092999999999, -0.30026802, 5.1716137, 0.9740266, 4.293636, -3.4406357000000005, 5.5229397, 10.913594999999999, -0.14448944, 2.8544877, -2.1290097, -0.7545033, 2.555365, -0.11632747, 0.7835946, -0.6899264, -6.1233525, 3.853239, 9.820814, 4.2573833, -12.000694000000001, 3.589083, 1.566749, -3.9885106, -6.401279, 10.721743, 0.16832504, -3.6744692000000003, -6.4012995, -1.2153383, 12.360961999999999, 8.173675, -12.07262, -3.7259097000000003, -0.60875785, -5.1781607, 6.4287944, 7.790568400000001, -11.136839, 0.39838237, 2.840472, -9.235989, 0.16827841, 2.0767290000000003, -1.9118528000000001, 0.1683245, -2.7725402999999997, -1.9055723000000002, 0.7244967, -1.8623669999999999, 12.042771, -0.5401944000000001, -2.8480365, -2.4340122, 0.28355736, -0.08571054, 4.672451000000001, -8.988934, 5.1774059999999995, 6.407377200000001, 0.059777774000000006, 3.5498629, 9.3330345, 0.86785185, 5.2436404, -10.662411, -0.60845923, -4.077548999999999, 12.3609495, -0.6087578, 2.3242984, -0.69163084, 10.32155, -20.268997, 4.443071400000001, 5.015503400000001, -7.0523229999999995, 1.0414550999999999, 0.34593132, 8.569233, -0.66425353, -0.09883195, 2.519765, -1.2701327, 11.76795, -0.13366544, 2.519861, -1.2701238000000001, -8.458362, 10.838215, -0.28349048, 2.0308740000000003, -9.483402, 2.1803548, 0.4196654, 2.030879, -9.483410000000001, 5.77221, 12.124403, 9.566398, -0.7268958999999999, 4.107143, -4.7659139999999995, 6.850103, -0.5893079999999999, 2.9293782999999998, -8.852046000000001, -5.420165, 0.22630437, 2.9294198, -7.6180744, -4.83751, 3.588798, -0.39941218, -1.4976029, -7.9940076, 1.0874226999999999, 1.7605017, 11.618253999999999, -11.946862, -1.7341875, -3.4705732000000005, -0.1536399, -0.06792691, -3.4801245, 1.7606026999999997, -0.22628729, 0.6359199999999999, 0.80595815, -7.497010700000001, 0.6398515, -7.49701, 7.3582134, 1.1974828000000002, -1.9084922999999998, 1.569626, -6.6863303, 11.486212, 2.4108157, -6.304759, 3.3436852, -12.488286, 1.5385711000000002, -3.4371457000000003, -13.204557999999999, 1.2928853, -5.3030715, 0.42331746, 2.8531458, -2.1286325, -0.7545079, 12.524416, 3.0923990000000003, -12.000699000000001, 1.3748391000000002, -3.4357982000000002, -5.8767467, -0.5114493, 2.0308759999999997, -9.483402, 0.61463326, 4.1070914, -9.323203999999999, 6.126493, 7.7093678, 2.168181, -1.495343, 10.321562, -5.606471, 1.5696691999999999, 1.5697653, 7.0801110000000005, -6.8144946, 5.261924700000001, 6.4075637, 10.592328, -0.60875785, -8.706507, 4.773281, 6.4075675, 7.6912, -8.706623, 5.072525499999999, 2.4721637000000003, 11.308628, 0.7627971, -6.1993337, -5.208180400000001, 7.2702084000000005, 3.301314, -8.725394999999999, -6.8461227, -3.4444551, 0.062183466, 0.84932184, 9.485327, 0.6482885, -6.4967445999999995, -1.2385656, 2.986645, 0.068603076, 6.46399, 2.986645, 1.2805539, 6.40757, 3.010248, -0.8991271000000001, 11.3219795, -5.938016, -6.2256956, 11.132626, 0.732082, 1.4940058, 0.56651145, 9.776253, 2.0718726999999997, -4.7994566, 5.584547, 6.4075665, -3.7927894999999996, 7.396403, 7.4036527, -10.327154, -4.9484572, -10.925471, 0.24116632, 4.172311, -4.4571867, 2.7055013, 9.118279, -6.421896, 8.73902, -0.6226783, 4.0685873, 0.43757707, 0.33358154, -8.446086, 2.6065443, -6.338661699999999, 8.535507, 1.9995147, 1.9995685, -1.7571846999999998, 0.46115659999999997, -5.2899523, -6.883408500000001, 4.041653, -5.747323000000001, 2.5106895000000002, 3.3264883000000003, 7.993492, -0.05277215, 2.2152605, -9.841673, 2.720558, -1.1292992, 11.373, 11.567775, 1.0866772, -0.22076917, 4.0685873, -5.00427, 3.3014019999999995, -9.279541, 1.2673839, -10.1991415, -6.4456983, 1.1814263, -12.3322525, -1.6152473999999999, -2.0381709999999997, 6.010112, -1.6155415000000002, -2.9737966, 6.010112, 2.2892069999999998, -2.3765266, -2.5415657000000005, -4.81616, -2.5415657000000005, -2.7000827999999997, -7.158380999999999, -3.7424904999999997, -3.5100904, 12.231397, 7.4167333, 1.6299002, -9.031614, 12.582452, 6.901697, -7.5259714, 6.1703790000000005, 2.7953694, -1.6152473999999999, -4.8626146, -1.4235291, 4.632134, -3.7393126000000003, 5.6238766, -2.5415657000000005, 7.3929524, 8.779974000000001, 5.55089, -9.085853, -7.013907400000001, 6.010112, 1.5601971000000001, 8.780232, 4.790878299999999, -2.2084076, -1.9214168000000003, -3.6110160000000002, 10.305887, -5.953862, -8.442084, -0.686461, -4.825680999999999, 11.784492, -5.113589, 3.6103389999999997, 0.9177208, 0.8160829, 2.37332, 0.037303473999999996, 1.9147202, -0.48678464, -0.6778335999999999, 10.913094000000001, 0.49849849999999996, -4.383441400000001, 4.8714814, 2.4068935000000002, -7.903766, 2.4068966, -8.592599, 2.4068813, -10.909692, -2.4439955, -1.4952903, -2.4439952000000003, -6.1447883, 12.321341499999999, 2.7659526000000003, 4.2604413, 4.2350907, 12.125995, -2.5115347000000003, -3.3013318, 5.0618973, 2.2332196, 10.913594999999999, 9.8000765, 8.804418, 10.913094000000001, -2.4440560000000002, 0.90741724, -2.4440560000000002, 0.9073773999999999, -10.680449000000001, 6.879531399999999, 1.4755399, 7.919662, 11.368198, 10.512072, 4.588204, 1.1759639, -1.4164964, -10.727808, -2.0011623, -10.727791, -29.857233, -7.022498, 4.2401114, -6.363181, -10.461162, 1.4087132, 11.518272, -9.253675999999999, -2.4376206000000002, -5.385269999999999, -11.299913, -4.725333, 5.2602797, 6.609977000000001, -11.299914, -4.7254734, -12.056474, 7.930623, -11.29992, -12.671847999999999, 7.9306674, -11.29998, -12.631621, 7.930623, -11.2997875, -11.193647, 7.9306808, -10.094130499999999, 4.9435150000000005, -12.459622, 11.814311, -10.094134, -10.374938, 11.784395, -4.9286637, 5.2605867, 6.4073709999999995, -11.521719000000001, -4.545390599999999, -4.1136484, -12.056411, -7.8586674, -11.4418955, -7.85837, 11.487558, -5.728962, 5.177826400000001, 6.407569400000001, -12.178014, 10.957991, -3.6819366999999996, -12.056849, -8.873362, 6.914051, -11.557111, -12.336261, 0.95542145, -11.556872, -12.336261, -0.46166217, -2.436248, -12.056777, 6.9140515, -9.898136000000001, 7.9306808, -0.11632799, 4.295674, -12.349842, 6.914052000000001, -0.11632824, 4.29568, -11.095591, 6.914051, -3.2924330000000004, 5.177411, 10.002226, -1.0458872, 5.1774035000000005, 10.002218, -5.205254599999999, -9.506559, 1.1536486000000001, -1.4075241000000003, 5.2617364, 10.001758, 1.1536486000000001, -3.83244, -7.341639999999999, 10.765049000000001, 1.1536487, -6.4469970000000005, 10.165212, -0.2834906, -12.5859995, 5.704179, 10.002303, -0.5114491, -12.459638, -9.066231, -7.565953299999999, -10.710099000000001, 11.795711, -11.182775, -7.7591796, 0.59038895, -10.710098, -8.742214, -10.408131, -7.096894, 2.0585837, 7.230847, 7.1159669999999995, 2.2917936, -11.845377000000001, 3.6551147000000004, 10.001759, 2.2917937999999998, -11.843755999999999, 5.751073, 2.0585837, 8.303107, 8.372739, 10.463688000000001, -0.5114494, -5.0576663, 4.416237000000001, -0.28349122, -5.0576663, 5.509824, 8.753081, -3.2673006, -5.0955863, 8.1179085, -1.0195351000000001, -6.089926, 8.117687, -4.476387, -10.279382, 2.0585837, -6.8425226, 10.652159, 6.710000999999999, 4.941954, 6.7102556, 9.121117, -7.5757494, 11.914636999999999, -2.5415653999999996, 4.236137, 12.546999000000001, -3.1384435, 11.764296, 5.258354, -3.5634725], \"z\": [0.44235957, 4.304721, 0.7203267, -0.7151002, 2.7585843, 2.8395287999999996, -0.8578377, 2.7585883, 3.7289593, 4.8826336999999995, 4.241428, 0.034494582999999995, 4.882585, 4.241423999999999, 3.5213419999999998, 3.8720295, 3.8227309999999997, -0.75418556, 2.7602408, 4.5986724, 4.7732663, 5.6185765, 1.4307616, -5.759417, -17.33156, -4.9597783, 0.25390506, 5.92941, 3.2294655, 5.6010857000000005, -0.93655556, -4.244805, 5.059957499999999, 4.9794297, 6.125886, 4.271113, 0.34477141, 5.284343700000001, 4.8805629999999995, 2.0456922, 4.434561, 3.5134287000000004, 3.7374637, -17.33156, 3.8759832000000003, 3.5884106, -1.5074329, -17.33156, 5.909606, 4.163343, 3.2942517, 3.7291842000000006, 4.544745400000001, 1.1650311000000002, 1.0111376, 6.037228, 3.5916580000000002, -4.3808489999999995, -17.33156, -2.384357, 6.7922583, -4.1697125, 4.1219044, 2.9703255, 1.5148492, 4.125501, 4.6253777000000005, -1.7737167, 4.7575026, 2.0382674, 3.1478853, 4.2640294999999995, 3.2256622000000004, -1.1138451999999999, 5.334011599999999, 5.21359, 2.9577916, -0.44835168, 3.3244987, -0.8630914000000001, -1.6421961999999999, 5.95783, 2.3954146, 1.5491371, 3.3696352999999997, 0.9993316999999999, -2.6246796000000003, 2.7579540000000002, 1.8571478, 4.8737187, 3.6597552, -4.1697125, -0.7263571, 0.5091104999999999, -17.331572, 2.5941405, 4.137925, -14.989263000000001, 3.3182745000000002, 4.031004, -14.988838000000001, 3.325829, 2.1499667000000002, 1.28884, 2.4654446, -1.6708081999999997, 4.1272917, -1.10022, 3.6286833, 2.67568, -17.33156, 1.1075306999999999, -2.5232565, -13.945966, 3.551428, 3.4750023000000003, -0.8629157, 4.286703599999999, -4.7390766, -15.062235000000001, 2.6598437, 0.91686887, -0.8091081, 3.6837160000000004, 2.7087789, -16.490988, 3.6348739, 0.16709991, -15.899645999999999, 3.63459, 2.8913572, -3.5730943999999996, -15.956863, 2.6328096000000003, -1.5533878, 4.0801, -0.041129947, 4.217462, -4.163643, -17.041313, 4.916960700000001, 1.6461017, 1.4836146000000001, -0.14006735, -15.449354000000001, 4.1165037, 4.359153, 3.8853426, 3.2374718, 3.5391736000000003, 6.452142, 0.20294794, 2.1759455, -13.428648999999998, -0.1975273, 6.4288305999999995, 0.10873324, -15.994913, -0.17780020000000002, 6.428790599999999, 0.55002457, -2.7720056, 3.3660405, -0.08738757, 2.8370721000000003, -15.383497, 0.90378004, 1.4555844, -6.8230023, 1.7907316999999998, -15.299833, 3.8742053999999997, 2.1860838, -15.994906, 3.9932363, 2.787328, -15.994912, 6.4427676, 2.3297734, -16.13286, 3.533981, -3.4900577000000004, -16.356503, 6.4246154, 0.43855125, -0.8256011999999999, -16.737894, 5.638673000000001, -1.7749343999999998, -0.39759234, -5.3248057, -15.517067, 4.3512319999999995, 3.2189991, -17.33156, 3.1106935, -1.1327869, -15.383322, 2.9279506, -2.7719994, -15.383496, 4.137819, 0.51439595, -2.433859, 173.38654, 3.8595872000000004, 3.2808952000000007, 7.098273299999999, -0.43572882, -15.957987, 3.270079, -0.52742976, -15.966818, 5.080315000000001, 0.51479983, -3.2235273999999996, -16.457035, 5.0801635, 0.5147938, -1.5088726000000001, 1.1975013, -15.573412, 4.6550746, -1.5721211000000002, 0.8709796999999999, -16.086414, 4.655075, -1.5721242, 1.5859444, -2.990534, 2.5149310000000002, -16.236567, 4.047505999999999, 1.1418813, 2.15055, -16.35744, 5.099811, -1.6285017, 6.0431550000000005, -16.921235999999997, 5.0999007, -1.6505451, 5.892817, 2.1762892999999996, -15.75805, 0.9003549999999999, 0.8317859000000001, 3.8526722999999996, 3.191507, -1.3210742, 0.63160825, 2.8430266, 2.0872896, 4.0857763, 4.025323, 2.5889292, 4.108928, 3.8854208, 4.943792, -16.347839999999998, 2.4662304, -15.825173000000001, 2.4662313, -1.9084485, -13.824248999999998, 0.08964049, -0.51792794, 4.1867849999999995, -4.3806650000000005, 3.166737, 4.6249895, 4.7575097, 1.980691, -2.6246183, 2.3488803, 2.4654446, -1.6707145, 4.127537, -16.462364, 4.916964, 1.6459898999999998, 1.4836106000000002, -3.2613065, 3.4211147000000004, 0.20286734, -13.648689000000001, 2.5865335, -1.9480282, -15.682178500000001, 4.6550727, -1.5721203000000001, -16.73163, 4.047547, -0.15797366, -4.9009089999999995, -6.809478299999999, -4.2540255, 1.087461, -2.4338462000000005, -1.9727221999999998, 2.3200345, 2.32006, -2.3516220000000003, -1.5321171999999998, -0.26348048, -5.3241925000000005, 2.201156, -15.383497, -1.5520066000000001, 0.08900633, -5.32419, -6.813969, -1.5517696, 0.42159197, 3.3555517, -0.6154812, -2.9118805, 6.2958099999999995, 5.2409225, -1.8376781999999998, 5.511367, 3.7978283999999998, 7.0276613, 1.9550918000000002, -0.57730967, 1.0950571000000002, 3.087621, -14.459210999999998, 6.9611472999999995, 4.747003599999999, 2.783894, -0.717755, 3.2332394, 2.783894, -2.9892964, -5.3242025, -1.3958396999999998, 4.317817, -0.28303966, 5.226204, 2.0761533, 2.6530720000000003, -14.409353, 3.251293, -0.6693110999999999, 3.1114118, 0.5417204000000001, -0.32982385, -0.08320661, -5.3241906, 4.388869000000001, 3.4283322999999997, -3.7955065, 2.426973, -0.11354535, -1.2252283000000002, -15.677548000000002, 6.300911, 6.026476000000001, 2.3865237, 3.3034352999999994, -2.172713, 4.0212297, -16.714075, 3.6116161, 4.8005776, -16.925695, -1.2564341, 2.7103596000000003, 5.027775, 3.6411989, 2.3107330000000004, 2.3107376, 0.20197704, 4.659404, -0.78001523, 6.524838, 5.1437406999999995, 4.199582599999999, 2.1801686, 3.9683402, -5.5194735999999995, -15.57676, 6.0454135, -1.9581400000000002, 0.010871857, 4.3552504, 3.1695251, 3.4296236000000007, 0.9630692, -16.863766000000002, 3.6116163999999995, 3.5225232, 5.511203, -2.1878135, -2.0965645, 5.6010857000000005, -0.9365739, -4.4249015, 0.85407877, -13.949603, 2.7924361, -5.654928, -13.949677, 2.7405787, -5.654928, -2.588109, 2.5323818, -14.262675, 3.4625885000000003, -14.262676, 0.24050713, 0.78272057, 5.307745, 2.3622735, -3.5589862, 2.8977444, -1.7104768, 4.5392212999999995, -3.4037319999999998, 3.3575964, 1.9106714, -1.7444009999999999, 2.3390567000000004, -13.949603, 0.33140308, 1.8586078999999998, 5.2380157, 4.7979546, 2.383797, -14.262676, 2.5814366, -1.7491897, 2.1034875, 4.945443599999999, 4.353258599999999, -5.654928, -1.1351917999999999, -1.7492318999999998, -1.7811129, 1.0197201, 6.321996700000001, 2.446168, 2.7357158999999998, 1.9969058999999998, 0.68891394, 0.42265633, -0.4530344, -3.2641419999999997, 1.0773184999999998, -0.022253167, 4.658624, 4.145421, -1.9928085, -16.398254, 4.024628, -16.726276000000002, 0.5922672, -4.162496, -15.66106, -0.93191326, 3.9755833, 6.384047499999999, -0.5835858, 6.3839307000000005, -0.15790747, 6.3840580000000005, -0.98494804, -14.479351999999999, 1.1959449, -14.479351999999999, 1.239316, -3.0766597, 4.350639, 3.5555835, 3.797428, -2.991146, 0.74569434, -0.18841939, 4.296905000000001, 3.5681171000000003, -4.163643, 2.4786672999999997, 3.2746177000000003, -4.162496, -14.479353, 2.1709456, -14.479353, 2.1708307000000002, -0.30164272, -1.6230878999999998, -1.2458841999999999, 1.4253003999999998, 3.3754972999999997, 2.9349992, 3.7792307999999997, -2.0710691999999997, 1.6567005000000001, -1.585381, 1.8334099999999998, -1.5852895, 3.015234, -1.1250672, 5.571377, -0.026288137000000003, -0.4206339, -17.697004, 2.9546294, -2.037538, 6.243753400000001, 3.7260582, -2.1861873, -0.3644948, -0.2628384, 1.3166904, -2.1861873, -0.36438107, 3.7018428, -2.6144075, -2.1861877, 4.068055, -2.6143503, -2.1860876, 3.7724373, -2.6144075, -2.1863596000000003, 1.2837206, -2.614316, 4.5354867, 3.5695345, 1.720934, -4.4312677, 4.5354886, 4.4741077, -4.449624, -0.63549453, -0.26299176, -5.3247967, 3.3430394999999997, 1.0942466999999998, -0.39721584, 3.7019641000000005, 5.951192, 3.857186, 5.951202400000001, -4.380936599999999, -0.9266798, -0.3974934, -5.3242025, 3.2149522, 3.131151, -0.5645574999999999, 3.7005748999999994, 0.099151865, -4.979201, 4.113955000000001, 1.3586438, -4.319036, 4.112988, 1.3586438, -0.20800892, 0.34541735, 3.7016157999999995, -4.979201, 4.1146317, -2.6143162, -15.449354999999999, 7.3385880000000006, 2.1150556000000003, -4.979205, -15.449354000000001, 7.338475999999999, -0.4732978, -4.979201, -0.055905323, -0.3976126, -0.7306010000000001, 1.3840754, -0.39759514, -0.7305961, 5.249761, -0.54736096, 4.001774, 0.876027, -0.26356667, -0.73054385, 4.001774, -0.2970415, 6.034628400000001, -2.4887657, 4.001774, 4.8505254, -2.0770648, -15.573412, 0.44892406, 0.39443779999999995, -0.7305098000000001, -15.682178500000001, 0.4952184, -0.28527513, 0.9577723, 2.3578342999999995, -4.1697125, -0.29552874, 0.44412193, -1.9126279999999998, 2.3578353, 1.6246402, 2.2258081, 2.2273815, -4.6553260000000005, 3.1256557000000003, -6.5602026, 3.2596713999999998, -0.030778404, -2.0425036, -0.7305463000000001, 3.2596713999999998, -0.030560471000000002, -0.96008396, -4.6553260000000005, 3.3141632000000003, 3.4724858, 3.4104263999999995, -15.682178500000001, 6.13109, -4.416824, -15.573413, 6.13109, -0.67842585, 3.1977427000000005, -0.05661391, 6.106526000000001, -2.627641, 1.4093738, 6.1943502, -2.627574, 5.2773232000000005, 0.023889973999999998, -4.6553260000000005, 6.957294, 1.1443486, 2.296594, 0.9978039000000001, 2.2965400000000002, 2.3298445, 3.8517725, -2.9863028999999996, -14.262676, 4.2266307, -3.5145525999999996, 4.869844400000001, -3.2101407, -1.4719478000000001, 0.57246363]}],\n",
       "                        {\"coloraxis\": {\"colorbar\": {\"title\": {\"text\": \"cluster\"}}, \"colorscale\": [[0.0, \"#0d0887\"], [0.1111111111111111, \"#46039f\"], [0.2222222222222222, \"#7201a8\"], [0.3333333333333333, \"#9c179e\"], [0.4444444444444444, \"#bd3786\"], [0.5555555555555556, \"#d8576b\"], [0.6666666666666666, \"#ed7953\"], [0.7777777777777778, \"#fb9f3a\"], [0.8888888888888888, \"#fdca26\"], [1.0, \"#f0f921\"]]}, \"legend\": {\"tracegroupgap\": 0}, \"margin\": {\"t\": 60}, \"scene\": {\"domain\": {\"x\": [0.0, 1.0], \"y\": [0.0, 1.0]}, \"xaxis\": {\"title\": {\"text\": \"x\"}}, \"yaxis\": {\"title\": {\"text\": \"y\"}}, \"zaxis\": {\"title\": {\"text\": \"z\"}}}, \"template\": {\"data\": {\"bar\": [{\"error_x\": {\"color\": \"#2a3f5f\"}, \"error_y\": {\"color\": \"#2a3f5f\"}, \"marker\": {\"line\": {\"color\": \"#E5ECF6\", \"width\": 0.5}}, \"type\": \"bar\"}], \"barpolar\": [{\"marker\": {\"line\": {\"color\": \"#E5ECF6\", \"width\": 0.5}}, \"type\": \"barpolar\"}], \"carpet\": [{\"aaxis\": {\"endlinecolor\": \"#2a3f5f\", \"gridcolor\": \"white\", \"linecolor\": \"white\", \"minorgridcolor\": \"white\", \"startlinecolor\": \"#2a3f5f\"}, \"baxis\": {\"endlinecolor\": \"#2a3f5f\", \"gridcolor\": \"white\", \"linecolor\": \"white\", \"minorgridcolor\": \"white\", \"startlinecolor\": \"#2a3f5f\"}, \"type\": \"carpet\"}], \"choropleth\": [{\"colorbar\": {\"outlinewidth\": 0, \"ticks\": \"\"}, \"type\": \"choropleth\"}], \"contour\": [{\"colorbar\": {\"outlinewidth\": 0, \"ticks\": \"\"}, \"colorscale\": [[0.0, \"#0d0887\"], [0.1111111111111111, \"#46039f\"], [0.2222222222222222, \"#7201a8\"], [0.3333333333333333, \"#9c179e\"], [0.4444444444444444, \"#bd3786\"], [0.5555555555555556, \"#d8576b\"], [0.6666666666666666, \"#ed7953\"], [0.7777777777777778, \"#fb9f3a\"], [0.8888888888888888, \"#fdca26\"], [1.0, \"#f0f921\"]], \"type\": \"contour\"}], \"contourcarpet\": [{\"colorbar\": {\"outlinewidth\": 0, \"ticks\": \"\"}, \"type\": \"contourcarpet\"}], \"heatmap\": [{\"colorbar\": {\"outlinewidth\": 0, \"ticks\": \"\"}, \"colorscale\": [[0.0, \"#0d0887\"], [0.1111111111111111, \"#46039f\"], [0.2222222222222222, \"#7201a8\"], [0.3333333333333333, \"#9c179e\"], [0.4444444444444444, \"#bd3786\"], [0.5555555555555556, \"#d8576b\"], [0.6666666666666666, \"#ed7953\"], [0.7777777777777778, \"#fb9f3a\"], [0.8888888888888888, \"#fdca26\"], [1.0, \"#f0f921\"]], \"type\": \"heatmap\"}], \"heatmapgl\": [{\"colorbar\": {\"outlinewidth\": 0, \"ticks\": \"\"}, \"colorscale\": [[0.0, \"#0d0887\"], [0.1111111111111111, \"#46039f\"], [0.2222222222222222, \"#7201a8\"], [0.3333333333333333, \"#9c179e\"], [0.4444444444444444, \"#bd3786\"], [0.5555555555555556, \"#d8576b\"], [0.6666666666666666, \"#ed7953\"], [0.7777777777777778, \"#fb9f3a\"], [0.8888888888888888, \"#fdca26\"], [1.0, \"#f0f921\"]], \"type\": \"heatmapgl\"}], \"histogram\": [{\"marker\": {\"colorbar\": {\"outlinewidth\": 0, \"ticks\": \"\"}}, \"type\": \"histogram\"}], \"histogram2d\": [{\"colorbar\": {\"outlinewidth\": 0, \"ticks\": \"\"}, \"colorscale\": [[0.0, \"#0d0887\"], [0.1111111111111111, \"#46039f\"], [0.2222222222222222, \"#7201a8\"], [0.3333333333333333, \"#9c179e\"], [0.4444444444444444, \"#bd3786\"], [0.5555555555555556, \"#d8576b\"], [0.6666666666666666, \"#ed7953\"], [0.7777777777777778, \"#fb9f3a\"], [0.8888888888888888, \"#fdca26\"], [1.0, \"#f0f921\"]], \"type\": \"histogram2d\"}], \"histogram2dcontour\": [{\"colorbar\": {\"outlinewidth\": 0, \"ticks\": \"\"}, \"colorscale\": [[0.0, \"#0d0887\"], [0.1111111111111111, \"#46039f\"], [0.2222222222222222, \"#7201a8\"], [0.3333333333333333, \"#9c179e\"], [0.4444444444444444, \"#bd3786\"], [0.5555555555555556, \"#d8576b\"], [0.6666666666666666, \"#ed7953\"], [0.7777777777777778, \"#fb9f3a\"], [0.8888888888888888, \"#fdca26\"], [1.0, \"#f0f921\"]], \"type\": \"histogram2dcontour\"}], \"mesh3d\": [{\"colorbar\": {\"outlinewidth\": 0, \"ticks\": \"\"}, \"type\": \"mesh3d\"}], \"parcoords\": [{\"line\": {\"colorbar\": {\"outlinewidth\": 0, \"ticks\": \"\"}}, \"type\": \"parcoords\"}], \"pie\": [{\"automargin\": true, \"type\": \"pie\"}], \"scatter\": [{\"marker\": {\"colorbar\": {\"outlinewidth\": 0, \"ticks\": \"\"}}, \"type\": \"scatter\"}], \"scatter3d\": [{\"line\": {\"colorbar\": {\"outlinewidth\": 0, \"ticks\": \"\"}}, \"marker\": {\"colorbar\": {\"outlinewidth\": 0, \"ticks\": \"\"}}, \"type\": \"scatter3d\"}], \"scattercarpet\": [{\"marker\": {\"colorbar\": {\"outlinewidth\": 0, \"ticks\": \"\"}}, \"type\": \"scattercarpet\"}], \"scattergeo\": [{\"marker\": {\"colorbar\": {\"outlinewidth\": 0, \"ticks\": \"\"}}, \"type\": \"scattergeo\"}], \"scattergl\": [{\"marker\": {\"colorbar\": {\"outlinewidth\": 0, \"ticks\": \"\"}}, \"type\": \"scattergl\"}], \"scattermapbox\": [{\"marker\": {\"colorbar\": {\"outlinewidth\": 0, \"ticks\": \"\"}}, \"type\": \"scattermapbox\"}], \"scatterpolar\": [{\"marker\": {\"colorbar\": {\"outlinewidth\": 0, \"ticks\": \"\"}}, \"type\": \"scatterpolar\"}], \"scatterpolargl\": [{\"marker\": {\"colorbar\": {\"outlinewidth\": 0, \"ticks\": \"\"}}, \"type\": \"scatterpolargl\"}], \"scatterternary\": [{\"marker\": {\"colorbar\": {\"outlinewidth\": 0, \"ticks\": \"\"}}, \"type\": \"scatterternary\"}], \"surface\": [{\"colorbar\": {\"outlinewidth\": 0, \"ticks\": \"\"}, \"colorscale\": [[0.0, \"#0d0887\"], [0.1111111111111111, \"#46039f\"], [0.2222222222222222, \"#7201a8\"], [0.3333333333333333, \"#9c179e\"], [0.4444444444444444, \"#bd3786\"], [0.5555555555555556, \"#d8576b\"], [0.6666666666666666, \"#ed7953\"], [0.7777777777777778, \"#fb9f3a\"], [0.8888888888888888, \"#fdca26\"], [1.0, \"#f0f921\"]], \"type\": \"surface\"}], \"table\": [{\"cells\": {\"fill\": {\"color\": \"#EBF0F8\"}, \"line\": {\"color\": \"white\"}}, \"header\": {\"fill\": {\"color\": \"#C8D4E3\"}, \"line\": {\"color\": \"white\"}}, \"type\": \"table\"}]}, \"layout\": {\"annotationdefaults\": {\"arrowcolor\": \"#2a3f5f\", \"arrowhead\": 0, \"arrowwidth\": 1}, \"coloraxis\": {\"colorbar\": {\"outlinewidth\": 0, \"ticks\": \"\"}}, \"colorscale\": {\"diverging\": [[0, \"#8e0152\"], [0.1, \"#c51b7d\"], [0.2, \"#de77ae\"], [0.3, \"#f1b6da\"], [0.4, \"#fde0ef\"], [0.5, \"#f7f7f7\"], [0.6, \"#e6f5d0\"], [0.7, \"#b8e186\"], [0.8, \"#7fbc41\"], [0.9, \"#4d9221\"], [1, \"#276419\"]], \"sequential\": [[0.0, \"#0d0887\"], [0.1111111111111111, \"#46039f\"], [0.2222222222222222, \"#7201a8\"], [0.3333333333333333, \"#9c179e\"], [0.4444444444444444, \"#bd3786\"], [0.5555555555555556, \"#d8576b\"], [0.6666666666666666, \"#ed7953\"], [0.7777777777777778, \"#fb9f3a\"], [0.8888888888888888, \"#fdca26\"], [1.0, \"#f0f921\"]], \"sequentialminus\": [[0.0, \"#0d0887\"], [0.1111111111111111, \"#46039f\"], [0.2222222222222222, \"#7201a8\"], [0.3333333333333333, \"#9c179e\"], [0.4444444444444444, \"#bd3786\"], [0.5555555555555556, \"#d8576b\"], [0.6666666666666666, \"#ed7953\"], [0.7777777777777778, \"#fb9f3a\"], [0.8888888888888888, \"#fdca26\"], [1.0, \"#f0f921\"]]}, \"colorway\": [\"#636efa\", \"#EF553B\", \"#00cc96\", \"#ab63fa\", \"#FFA15A\", \"#19d3f3\", \"#FF6692\", \"#B6E880\", \"#FF97FF\", \"#FECB52\"], \"font\": {\"color\": \"#2a3f5f\"}, \"geo\": {\"bgcolor\": \"white\", \"lakecolor\": \"white\", \"landcolor\": \"#E5ECF6\", \"showlakes\": true, \"showland\": true, \"subunitcolor\": \"white\"}, \"hoverlabel\": {\"align\": \"left\"}, \"hovermode\": \"closest\", \"mapbox\": {\"style\": \"light\"}, \"paper_bgcolor\": \"white\", \"plot_bgcolor\": \"#E5ECF6\", \"polar\": {\"angularaxis\": {\"gridcolor\": \"white\", \"linecolor\": \"white\", \"ticks\": \"\"}, \"bgcolor\": \"#E5ECF6\", \"radialaxis\": {\"gridcolor\": \"white\", \"linecolor\": \"white\", \"ticks\": \"\"}}, \"scene\": {\"xaxis\": {\"backgroundcolor\": \"#E5ECF6\", \"gridcolor\": \"white\", \"gridwidth\": 2, \"linecolor\": \"white\", \"showbackground\": true, \"ticks\": \"\", \"zerolinecolor\": \"white\"}, \"yaxis\": {\"backgroundcolor\": \"#E5ECF6\", \"gridcolor\": \"white\", \"gridwidth\": 2, \"linecolor\": \"white\", \"showbackground\": true, \"ticks\": \"\", \"zerolinecolor\": \"white\"}, \"zaxis\": {\"backgroundcolor\": \"#E5ECF6\", \"gridcolor\": \"white\", \"gridwidth\": 2, \"linecolor\": \"white\", \"showbackground\": true, \"ticks\": \"\", \"zerolinecolor\": \"white\"}}, \"shapedefaults\": {\"line\": {\"color\": \"#2a3f5f\"}}, \"ternary\": {\"aaxis\": {\"gridcolor\": \"white\", \"linecolor\": \"white\", \"ticks\": \"\"}, \"baxis\": {\"gridcolor\": \"white\", \"linecolor\": \"white\", \"ticks\": \"\"}, \"bgcolor\": \"#E5ECF6\", \"caxis\": {\"gridcolor\": \"white\", \"linecolor\": \"white\", \"ticks\": \"\"}}, \"title\": {\"x\": 0.05}, \"xaxis\": {\"automargin\": true, \"gridcolor\": \"white\", \"linecolor\": \"white\", \"ticks\": \"\", \"title\": {\"standoff\": 15}, \"zerolinecolor\": \"white\", \"zerolinewidth\": 2}, \"yaxis\": {\"automargin\": true, \"gridcolor\": \"white\", \"linecolor\": \"white\", \"ticks\": \"\", \"title\": {\"standoff\": 15}, \"zerolinecolor\": \"white\", \"zerolinewidth\": 2}}}},\n",
       "                        {\"responsive\": true}\n",
       "                    ).then(function(){\n",
       "                            \n",
       "var gd = document.getElementById('b004b076-5983-4b21-a615-a048694b06ee');\n",
       "var x = new MutationObserver(function (mutations, observer) {{\n",
       "        var display = window.getComputedStyle(gd).display;\n",
       "        if (!display || display === 'none') {{\n",
       "            console.log([gd, 'removed!']);\n",
       "            Plotly.purge(gd);\n",
       "            observer.disconnect();\n",
       "        }}\n",
       "}});\n",
       "\n",
       "// Listen for the removal of the full notebook cells\n",
       "var notebookContainer = gd.closest('#notebook-container');\n",
       "if (notebookContainer) {{\n",
       "    x.observe(notebookContainer, {childList: true});\n",
       "}}\n",
       "\n",
       "// Listen for the clearing of the current output cell\n",
       "var outputEl = gd.closest('.output');\n",
       "if (outputEl) {{\n",
       "    x.observe(outputEl, {childList: true});\n",
       "}}\n",
       "\n",
       "                        })\n",
       "                };\n",
       "                });\n",
       "            </script>\n",
       "        </div>"
      ]
     },
     "metadata": {},
     "output_type": "display_data"
    }
   ],
   "source": [
    "import pandas as pd\n",
    "import chart_studio.plotly as py\n",
    "import plotly.graph_objects as go\n",
    "import plotly.express as px\n",
    "\n",
    "df = pd.read_csv(\"data/tsne_vectors6.csv\")\n",
    "\n",
    "fig = px.scatter_3d(df, x='x', y='y', z='z',color=\"cluster\",\n",
    "                    hover_data=[\"input_text\", \"bot_text\",\"intent\",\"entities\",\"action\"]\n",
    "                   )\n",
    "fig.show()\n",
    "\n",
    "x = 0\n"
   ]
  },
  {
   "cell_type": "code",
   "execution_count": null,
   "metadata": {},
   "outputs": [],
   "source": [
    "fig = px.scatter(df, x='x', y='y', z='z')\n",
    "fig.show()"
   ]
  },
  {
   "cell_type": "code",
   "execution_count": null,
   "metadata": {},
   "outputs": [],
   "source": []
  },
  {
   "cell_type": "code",
   "execution_count": null,
   "metadata": {},
   "outputs": [],
   "source": []
  },
  {
   "cell_type": "code",
   "execution_count": null,
   "metadata": {},
   "outputs": [],
   "source": []
  },
  {
   "cell_type": "code",
   "execution_count": null,
   "metadata": {},
   "outputs": [],
   "source": []
  },
  {
   "cell_type": "code",
   "execution_count": null,
   "metadata": {},
   "outputs": [],
   "source": []
  },
  {
   "cell_type": "code",
   "execution_count": null,
   "metadata": {},
   "outputs": [],
   "source": []
  }
 ],
 "metadata": {
  "kernelspec": {
   "display_name": "Python 3",
   "language": "python",
   "name": "python3"
  }
 },
 "nbformat": 4,
 "nbformat_minor": 4
}
