{
 "cells": [
  {
   "cell_type": "code",
   "execution_count": 30,
   "metadata": {},
   "outputs": [
    {
     "data": {
      "application/vnd.plotly.v1+json": {
       "config": {
        "plotlyServerURL": "https://plot.ly"
       },
       "data": [
        {
         "customdata": [
          [
           "máy tiệt trùng uv đã có chưa ạ",
           "Hiện tại sản phẩm Máy tiệt trùng  shop đang có nhữ-<br>",
           "query_knowledge_base",
           "['object_type:may_tiet_trung']",
           "action_query_babe_kb"
          ],
          [
           "/confirm_attribute_value{\"price\": \"500-1M\"}",
           "Mời bạn click vào \"Xem chi tiết\" để tham khảo sản -<br> phẩm hiện có tại shop nhé!\n<card sp 1> <card sp 2>-<br>",
           "confirm_attribute_value",
           "['price:500-1M']",
           "action_query_babe_kb"
          ],
          [
           "máy tiệt trùng uv đã có chưa ạ",
           "Máy tiệt trùng uv hiện hết hàng mời bạn tham khảo -<br> các sản phẩm khác của shop\nRecommend <sp1> <sp2> <-<br>",
           "query_knowledge_base",
           "['object_type:may_tiet_trung']",
           "action_query_babe_kb"
          ],
          [
           "Khi nào thì có hàng mới ạ",
           "Khoảng một tuần sau có hàng ạ",
           "query_knowledge_base",
           null,
           "action_query_babe_kb"
          ],
          [
           "url",
           "Bạn đang tìm kiếm thông tin gì ạ?",
           "send_link",
           "url",
           "action_handle_send_link_only"
          ],
          [
           "E ơi còn giấy khô này k?",
           "Khăn khô đa năng MIPBI 600gr hiện đang có giá là 6-<br> 1.000 (Giá gốc: 70.000) mời bạn tham khảo:\n<show c-<br>",
           "query_knowledge_base",
           "['object_type:khan','mention:này']",
           "action_query_babe_kb"
          ],
          [
           "Đúng r ạ",
           "Dạ, vâng ạ. ",
           "agree",
           null,
           "utter_agree"
          ],
          [
           "url",
           "Bạn đang tìm kiếm thông tin gì ạ?",
           "send_link",
           "url",
           "action_handle_send_link_only"
          ],
          [
           "E ơi còn giấy khô này k?",
           "Khăn khô đa năng MIPBI 600gr  hiện hết hàng mời bạ-<br> n tham khảo các sản phẩm khác của shop\nRecommend <-<br>",
           "query_knowledge_base",
           "['object_type:khan','mention:này']",
           "action_query_babe_kb"
          ],
          [
           "url",
           "Bạn đang tìm kiếm thông tin gì ạ?",
           "send_link",
           "url",
           "action_handle_send_link_only"
          ],
          [
           "Bn vậy shop ơi",
           "Sản phẩm  BẢNG VẼ HOLLA 2 in 1  hiện shop đang có -<br> giá: 830,000 VND (giá gốc 1,090,000 VND).\nBạn tham-<br>",
           "query_knowledge_base",
           "['attribute:price']",
           "action_query_babe_kb"
          ],
          [
           "Có trên shopee k shop",
           "Dạ mời bạn tham khảo sản phẩm BẢNG VẼ HOLLA 2 in 1-<br>",
           "query_knowledge_base",
           "['attribute:link']",
           "action_query_babe_kb"
          ],
          [
           "url",
           "Bạn đang tìm kiếm thông tin gì ạ?",
           "send_link",
           "url",
           "action_handle_send_link_only"
          ],
          [
           "Bn vậy shop ơi",
           "Sản phẩm  BẢNG VẼ HOLLA 2 in 1  hiện shop đang có -<br> giá: 830,000 VND (giá gốc 1,090,000 VND).\nBạn tham-<br>",
           "query_knowledge_base",
           "['attribute:price']",
           "action_query_babe_kb"
          ],
          [
           "Bảo hành bao lâu ạ",
           "\"Dạ BẢNG VẼ HOLLA 2 in 1 bảo hành 12 tháng ạ. {chí-<br>",
           "query_knowledge_base",
           "['attribute:guarantee']",
           "action_query_babe_kb"
          ],
          [
           "url",
           "Bạn đang tìm kiếm thông tin gì ạ?",
           "send_link",
           "url",
           "action_handle_send_link_only"
          ],
          [
           "Bộ này bn shop",
           "Sản phẩm  BẢNG VẼ HOLLA 2 in 1  hiện shop đang có -<br> giá: 830,000 VND (giá gốc 1,090,000 VND).\nBạn tham-<br>",
           "query_knowledge_base",
           "['mention:bộ này', 'attribute:price']",
           "action_query_babe_kb"
          ],
          [
           "Sản xuất ở đâu ạ",
           "Dạ BẢNG VẼ HOLLA 2 in 1 có xuất xứ từ Trung Quốc ạ-<br>",
           "query_knowledge_base",
           "['attribute:origin']",
           "action_query_babe_kb"
          ],
          [
           "url",
           "Bạn đang tìm kiếm thông tin gì ạ?",
           "send_link",
           "url",
           "action_handle_send_link_only"
          ],
          [
           "Cho t xin giá nhé",
           "Sản phẩm  BẢNG VẼ HOLLA 2 in 1  hiện shop đang có -<br> giá: 830,000 VND (giá gốc 1,090,000 VND).\nBạn tham-<br>",
           "query_knowledge_base",
           "['attribute:price']",
           "action_query_babe_kb"
          ],
          [
           "Làm bằng nhựa à ",
           "Dạ sản phẩm làm từ nhựa ạ\nBạn tham khảo các sản ph-<br>",
           "query_knowledge_base",
           "['material:bằng nhựa']",
           "action_query_babe_kb"
          ],
          [
           "Bộ holla vương miện giá tnao bạn",
           "Sản phẩm  COMBO HOLLA FULL PHIÊN BẢN 2020 MẪU VƯƠN-<br> G MIỆN  hiện shop đang có giá: 500,000 VND (giá gố-<br> c 500,000 VND).\nBạn tham khảo các sản phẩm sau nhé-<br>",
           "query_knowledge_base",
           "['brand:holla', 'attribute:price','type:vương miện']",
           "action_query_babe_kb"
          ],
          [
           "Nước nào sản xuất ạ ?",
           "Dạ COMBO HOLLA FULL PHIÊN BẢN 2020 MẪU VƯƠNG MIỆN -<br> có xuất xứ từ Trung Quốc ạ\n(xuất xứ trong phần mô -<br>",
           "query_knowledge_base",
           "['attribute:origin']",
           "action_query_babe_kb"
          ],
          [
           "ok shop",
           "Dạ,vâng ạ",
           "agree",
           null,
           "utter_agree"
          ],
          [
           "bạn ơi",
           "Chào bạn, mình là trợ lý ảo của Shop Gấu & Bí Ngô,-<br>",
           "greet",
           null,
           "utter_greet"
          ],
          [
           "cho mình hỏi",
           "Dạ,vâng",
           "want_to_query",
           null,
           "utter_want_to_query"
          ],
          [
           "mình muốn mua câu trượt cho bé thì m nên chọn loại-<br>",
           "(Bắt được ảnh gửi tiếp theo mới trả lời user)",
           "query_knowledge_base",
           "['object_type:cau_truot', 'attribute:price']",
           "query_knowledge_base"
          ],
          [
           "url",
           "Sản phẩm  cầu trượt  hiện shop đang có giá: 500,00-<br> 0 VND (giá gốc 500,000 VND).\r\nBạn tham khảo các sả-<br>",
           "send_link",
           "url",
           "action_handle_send_link_only"
          ],
          [
           "Loại này bn vậy bạn",
           "(Bắt được ảnh gửi tiếp theo mới trả lời user)",
           "query_knowledge_base",
           "['mention:loại này', 'attribute:price']",
           "action_query_babe_kb"
          ],
          [
           "url",
           "Sản phẩm  BẢNG VẼ HOLLA 2 in 1  hiện shop đang có -<br> giá: 830,000 VND (giá gốc 1,090,000 VND).\nBạn tham-<br>",
           "send_link",
           "url",
           "action_query_babe_kb"
          ],
          [
           "Có những màu gì ạ ?",
           "Dạ, BẢNG VẼ HOLLA 2 in 1 hiện có các màu: Hồng, Xa-<br>",
           "query_knowledge_base",
           "['attribute:color']",
           "action_query_babe_kb"
          ],
          [
           "Để mình tham khảo thêm , có gì mình báo sớm",
           "Dạ,vâng ạ",
           "finish_conv",
           null,
           "action_finish_conv"
          ],
          [
           "url",
           "Bạn đang tìm kiếm thông tin gì ạ?",
           "send_link",
           "url",
           "action_handle_send_link_only"
          ],
          [
           "Giá bnh shop",
           "Sản phẩm BẢNG VẼ HOLLA 2 in 1 hiện shop đang có gi-<br> á: *830,000 VND (giá gốc 1,090,000 VND)*.\r\nBạn tha-<br>",
           "query_knowledge_base",
           "['attribute:price']",
           "action_query_babe_kb"
          ],
          [
           "url",
           "Sản phẩm NGỰA BẬP BÊNH HOLLA 2020 hiện shop đang c-<br> ó giá: *580,000 VND (giá gốc 800,000 VND)*.\r\nBạn t-<br>",
           "send_link",
           "url",
           "action_handle_send_link_only"
          ],
          [
           "Ngựa này thì sao",
           "Dạ, sản phẩmNGỰA BẬP BÊNH HOLLA 2020hiện tại bên s-<br> hop đang tạm hết hàng ạ. Bạn tham khảo các sản phẩ-<br> m khác dành cho bé nhé!Dạ, sản phẩm Ngựa Bập Bệnh -<br> hiện tại bên shop đang tạm hết hàng ạ. Bạn tham kh-<br>",
           "query_knowledge_base",
           "['object_type:Ngựa',\n'mention:này']",
           "action_query_babe_kb"
          ],
          [
           "thank sh",
           "Dạ, cảm ơn ạ!",
           "thank",
           null,
           "utter_thank"
          ],
          [
           "url",
           "Bạn đang tìm kiếm thông tin gì ạ?",
           "send_link",
           "url",
           "action_handle_send_link_only"
          ],
          [
           "Bộ này bn vậy shop",
           "COMBO HOLLA FULL PHIÊN BẢN 2020 MẪU VƯƠNG MIỆN hiệ-<br> n shop đang có giá: 4100000 VND (giá gốc 5000000 V-<br> ND). Bạn tham khảo các sản phẩm sau nhé ạ: <show s-<br>",
           "query_knowledge_base",
           "['mention:bộ này', 'attribute:price']",
           "action_query_babe_kb"
          ],
          [
           "Nước nào sản xuất ",
           "Dạ COMBO HOLLA FULL PHIÊN BẢN 2020 MẪU VƯƠNG MIỆN -<br> có xuất xứ từ Trung Quốc ạ\n(xuất xứ trong phần mô -<br>",
           "query_knowledge_base",
           "['attribute:origin']",
           "action_query_babe_kb"
          ],
          [
           "url",
           "Bạn đang tìm kiếm thông tin gì ạ?",
           "send_link",
           "url",
           "action_handle_send_link_only"
          ],
          [
           "2 bộ này bn ạ",
           "Bộ đồ chơi nhà bếp thông minh hiện shop đang có gi-<br> á: 790000 VND (giá gốc 790000 VND). Bạn tham khảo -<br>",
           "query_knowledge_base",
           "['mention:bộ này', 'attribute:price']",
           "action_query_babe_kb"
          ],
          [
           "chất liệu gì thế",
           "Dạ sản phẩm làm từ nhựa ạ\r\nBạn tham khảo các sản p-<br>",
           "query_knowledge_base",
           "['attribute:material']",
           "action_query_babe_kb"
          ],
          [
           "bạn ơi",
           "Chào bạn, mình là trợ lý ảo của Shop Gấu & Bí Ngô,-<br>",
           "greet",
           null,
           "utter_greet"
          ],
          [
           "url",
           "Bạn đang tìm kiếm thông tin gì ạ?",
           "send_link",
           "url",
           "action_handle_send_link_only"
          ],
          [
           "Bn một bộ này vậy shop",
           "Sản phẩm  BẢNG VẼ HOLLA 2 in 1  hiện shop đang có -<br> giá: 830,000 VND (giá gốc 1,090,000 VND).\nBạn tham-<br>",
           "query_knowledge_base",
           "['attribute:price', 'mention:bộ này']",
           "action_query_babe_kb"
          ],
          [
           "Cả bộ hả b ?",
           "Dạ,vâng ạ",
           "query_knowledge_base",
           null,
           "action_query_babe_kb"
          ],
          [
           "bạn ơi",
           "Chào bạn, mình là trợ lý ảo của Shop Gấu & Bí Ngô,-<br>",
           "greet",
           null,
           "utter_greet"
          ],
          [
           "url",
           "Bạn đang tìm kiếm thông tin gì ạ?",
           "send_link",
           "url",
           "action_handle_send_link_only"
          ],
          [
           "Bộ nay bn b",
           "Sản phẩm  BẢNG VẼ HOLLA 2 in 1  hiện shop đang có -<br> giá: 830,000 VND (giá gốc 1,090,000 VND).\nBạn tham-<br>",
           "query_knowledge_base",
           "['mention:bộ nay', 'attribute:price']",
           "action_query_babe_kb"
          ],
          [
           "Mấy chữ trên bản\r\nLa co sẵn lun hay la k co ạ",
           "Sản phẩm  BẢNG VẼ HOLLA 2 in 1 bao gồm các phụ kiệ-<br> n sau: bộ chữ, bộ số và bút nước\nBạn tham khảo sản-<br>",
           "query_knowledge_base",
           "['attribute:accessories']",
           "action_query_babe_kb"
          ],
          [
           "url",
           "Bạn đang tìm kiếm thông tin gì ạ?",
           "send_link",
           "url",
           "action_handle_send_link_only"
          ],
          [
           "Bn shop oi",
           "Sản phẩm  BẢNG VẼ HOLLA 2 in 1  hiện shop đang có -<br> giá: 830,000 VND (giá gốc 1,090,000 VND).\nBạn tham-<br>",
           "query_knowledge_base",
           "['attribute:price']",
           "utter_greet"
          ],
          [
           "Chiều nay ship luôn cho mình được không",
           "Bạn cho shop xin địa chỉ nhận hàng ạ.",
           "time_ship",
           null,
           "action_time_ship"
          ],
          [
           "số 7 tràng thi",
           "Với địa chỉ số 7 tràng thi shop có thể ship hàng đ-<br>",
           null,
           null,
           null
          ],
          [
           "Thanh chắn cầu thang bn a",
           "Sản phẩm thanh chắn cầu thang hiện shop đang có gi-<br> á: 830,000 VND (giá gốc 1,090,000 VND).\nBạn tham k-<br>",
           "query_knowledge_base",
           "['attribute:price']['object_type:thanh_chan_cau_thang']",
           "action_query_babe_kb"
          ],
          [
           "kích thước tn shop",
           "Dạ, thanh chắn cầu thang có (các-nhiều kích thước)-<br>  kích thước: 74x83x 77cm ạ. \n<show card sản phẩm> -<br>",
           "query_knowledge_base",
           "['attribute:size']",
           "action_query_babe_kb"
          ],
          [
           "ok shop",
           "Dạ,vâng",
           "agree",
           null,
           "utter_agree"
          ],
          [
           "bạn ơi",
           "Chào bạn, mình là trợ lý ảo của Shop Gấu & Bí Ngô,-<br>",
           "greet",
           null,
           "utter_greet"
          ],
          [
           "Bộ đồ chơi nấu ăn giá bn ạ",
           "Mình chưa xác định được món đồ bạn hỏi, bạn mô tả -<br>",
           "query_knowledge_base",
           "['attribute:price']",
           "action_query_babe_kb"
          ],
          [
           "url",
           "Bộ đồ chơi nhà bếp thông minh hiện shop đang có gi-<br> á: 790000 VND (giá gốc 790000 VND). Bạn tham khảo -<br>",
           "send_link",
           "url",
           "action_handle_send_link_only"
          ],
          [
           "ok shop",
           "Dạ,vâng",
           "agree",
           null,
           "utter_agree"
          ],
          [
           "url",
           "action_handle_send_link_only",
           "send_link",
           "url",
           "action_handle_send_link_only"
          ],
          [
           "Thanh 36cm lắp thêm vào chỗ hẹp cũng đc phải ko a,-<br>",
           "Cho mình xin chiều rộng cầu thang nhà bạn ạ ?",
           "to_compare",
           "['size:36cm', 'size:12cm']",
           "action_to_compare"
          ],
          [
           "0,5m ạ",
           "Dạ sản phẩm thanh 36 cm và 12 cm lắp được với cầu -<br>",
           "query_knowledge_base",
           "['size:0,5m']",
           "action_query_babe_kb"
          ],
          [
           "url",
           "action_handle_send_link_only",
           "send_link",
           "url",
           "action_handle_send_link_only"
          ],
          [
           "Ngựa này hàng về hả shop?",
           "Sản phẩm  NGỰA BẬP BÊNH HOLLA 2020  hiện shop có h-<br> àng và đang có giá: 580000\n VND (giá gốc 800000 VN-<br> D).\nBạn tham khảo các sản phẩm sau nhé ạ:\n<show sp-<br>",
           "query_knowledge_base",
           "['object_type:ngua_bap_benh', 'mention:này']",
           "action_query_babe_kb"
          ],
          [
           "Bên mình có mã giảm giá shopee k shop?",
           "Hiện shop không có mã giảm giá shopee cho sản phẩm-<br>",
           "query_knowledge_base",
           "['attribute:promotion','attribute:codediscount']",
           "action_query_babe_kb"
          ],
          [
           "url",
           "Bạn đang tìm kiếm thông tin gì ạ?",
           "send_link",
           "url",
           "action_handle_send_link_only"
          ],
          [
           "Bạn ơi bộ này bao tiền ạ",
           "Sản phẩm  BẢNG VẼ HOLLA 2 in 1  hiện shop đang có -<br> giá: 830,000 VND (giá gốc 1,090,000 VND).\nBạn tham-<br>",
           "query_knowledge_base",
           "['mention:bộ này', 'attribute:price']",
           "action_query_babe_kb"
          ],
          [
           " bao gồm cả bộ chữ, số ở trên bảng + bút nước à b",
           "Sản phẩm  BẢNG VẼ HOLLA 2 in 1 bao gồm các phụ kiệ-<br> n sau: bộ chữ, bộ số và bút nước\nBạn tham khảo sản-<br>",
           "query_knowledge_base",
           "\n['accessories:bộ chữ']['accessories:bộ số']['accessories:bút nước']",
           "action_query_babe_kb"
          ],
          [
           "url",
           "Bạn đang tìm kiếm thông tin gì ạ?",
           "send_link",
           "url",
           "action_handle_send_link_only"
          ],
          [
           "Bộ này bao nhiêu vậy shop ơi",
           "Sản phẩm  BẢNG VẼ HOLLA 2 in 1  hiện shop đang có -<br> giá: 830,000 VND (giá gốc 1,090,000 VND).\nBạn tham-<br>",
           "query_knowledge_base",
           "['mention:bộ này', 'attribute:price']",
           "action_query_babe_kb"
          ],
          [
           "Mình có bảng vẽ đa năng cho bé mà k đi liền với bà-<br>",
           "Sản phẩm bảng vẽ mà không đi liền với bàn hiện sho-<br> p có những sản phẩm sau mời bạn tham khảo:\n<sp1><s-<br>",
           "query_knowledge_base",
           null,
           "action_query_babe_kb"
          ],
          [
           "url",
           "Bạn đang tìm kiếm thông tin gì ạ?",
           "send_link",
           "url",
           "action_handle_send_link_only"
          ],
          [
           "url",
           "Bạn đang tìm kiếm thông tin gì ạ?",
           "send_link",
           "url",
           "action_handle_send_link_only"
          ],
          [
           "Báo giá giúp mình",
           "Sản phẩm  BẢNG VẼ HOLLA 2 in 1  hiện shop đang có -<br> giá: 830,000 VND (giá gốc 1,090,000 VND).\nBạn tham-<br>",
           "query_knowledge_base",
           "['attribute:price']",
           "action_query_babe_kb"
          ],
          [
           "Gồm bảng, ghế và gì nữa ko shop",
           null,
           "query_knowledge_base",
           "['attribute:accessories']",
           "action_query_babe_kb"
          ],
          [
           "url",
           "Sản phẩm  BẢNG VẼ HOLLA 2 in 1 bao gồm các phụ kiệ-<br> n sau: bộ chữ, bộ số và bút nước ạ\nBạn tham khảo s-<br>",
           "send_link",
           "url",
           "action_handle_send_link_only"
          ],
          [
           "Mình có bảng vẽ đa năng cho bé mà k đi liền với gh-<br>",
           "Sản phẩm bảng vẽ mà không đi liền với ghế hiện sho-<br> p có những sản phẩm sau mời bạn tham khảo:\n<sp1><s-<br>",
           "query_knowledge_base",
           "['aobject_type:bang_ve']",
           "action_query_babe_kb"
          ],
          [
           "Mẫu cầu trượt này báo giá giúp e nhé",
           null,
           "query_knowledge_base",
           "['object_type:cau_truot', 'mention:này', 'attribute:price']",
           "action_query_babe_kb"
          ],
          [
           "url",
           "Sản phẩm  cầu trượt  hiện shop đang có giá: 830,00-<br> 0 VND (giá gốc 1,090,000 VND).\nBạn tham khảo sản p-<br>",
           "send_link",
           "url",
           "action_handle_send_link_only"
          ],
          [
           "Dùng cho bé bao tháng ạ",
           "Cầu trượt có độ tuổi sử dụng 0-36 tháng \nBạn tham -<br>",
           "query_knowledge_base",
           "['attribute:age_of_use']",
           "action_query_babe_kb"
          ],
          [
           "Báo giá giúp mình bảng vẽ Hola nhé\n1 bộ bao gồm nh-<br>",
           "Sản phẩm  BẢNG VẼ HOLLA 2 in 1  hiện shop đang có -<br> giá: 830,000 VND (giá gốc 1,090,000 VND).\nSản phẩm-<br>  BẢNG VẼ HOLLA 2 in 1 bao gồm các phụ kiện sau: bộ-<br>  chữ, bộ số và bút nước ạ Bạn tham khảo sản phẩm s-<br>",
           "query_knowledge_base",
           "['attribute:price','object_type:bang_ve','brand:hola','attribute:accessories']",
           "action_query_babe_kb"
          ],
          [
           "url",
           null,
           "send_link",
           "url",
           "action_handle_send_link_only"
          ],
          [
           "có trên shopee không shop",
           "Mời bạn tham khảo link shopee của sản phẩm:\n<show -<br>",
           "query_knowledge_base",
           "['attribute:link']",
           "action_query_babe_kb"
          ],
          [
           "Cho m xem màu",
           "Mình chưa xác định được món đồ bạn hỏi, bạn mô tả -<br>",
           "query_knowledge_base",
           "['attribute:color']",
           "action_query_babe_kb"
          ],
          [
           "Ghế ăn dặm newber ạ",
           "Dạ, sản phẩm Ghế Ăn hãng sản xuất Newber hiện tại -<br> đang có các màu sau ạ : hồng, xanh\nBạn tham khảo s-<br>",
           "query_knowledge_base",
           "['object_type:ghe_an', 'brand:newber']",
           "action_query_babe_kb"
          ],
          [
           "bé bao tuổi thì ngồi được ạ",
           "Ghế Ăn hãng sản xuất Newber có độ tuổi sử dụng 0-3-<br> 6 tháng \nBạn tham khảo sản phẩm sau nhé ạ:\n<show s-<br>",
           "query_knowledge_base",
           "['attribute:age_of_use']",
           "action_query_babe_kb"
          ],
          [
           "url",
           "Bạn đang tìm kiếm thông tin gì ạ?",
           "send_link",
           "url",
           "action_handle_send_link_only"
          ],
          [
           "Bản cho bé 2 tuoi bao nh ạ",
           "Sản phẩm BẢNG VẼ HOLLA 2 in 1 hiện shop đang có gi-<br> á: *830,000 VND (giá gốc 1,090,000 VND)*.\r\nBạn tha-<br>",
           "query_knowledge_base",
           "['age_of_use:2 tuoi', 'attribute:price']",
           "action_query_babe_kb"
          ],
          [
           "ok shop",
           "Dạ,vâng",
           "agree",
           null,
           "utter_agree"
          ],
          [
           "Bạn ơi ship cho mình 1 thanh chắn cửa và 1 thanh n-<br>",
           "\"Cảm ơn bạn! Bạn vui lòng điền thông tin vào Mẫu đ-<br> ặt hàng giúp shop nhé!\n<Show ra cái bảng mẫu đặt h-<br> àng: có tên sản phẩm, cho khách tùy chọn số lượng,-<br>",
           "query_knowledge_base",
           "['object_type:thanh_chan_cua','object_type:thanh_noi','attribute:ship'size:12cm]",
           null
          ],
          [
           null,
           "Bạn đã đặt hàng thành công , đơn hàng sẽ đc gioa đ-<br>",
           "agree",
           null,
           "action_query_babe_kb"
          ],
          [
           "bạn ơi",
           "Chào bạn, mình là trợ lý ảo của Shop Gấu & Bí Ngô,-<br>",
           "greet",
           null,
           "utter_greet"
          ],
          [
           "shop ơi mình cần mua váy vắt sửa\nsưa",
           "Hiện tại sản phẩm máy hút sữa shop đang có những g-<br>",
           "query_knowledge_base",
           "['object_type:may_hut_sua']",
           "action_query_babe_kb"
          ],
          [
           "/query_knowledge_base{\"price\": \"1M - 2M\"}\t",
           "Mời bạn click vào \"Xem chi tiết\" để tham khảo sản -<br> phẩm hiện có tại shop nhé!\r\n<card sp 1> <card sp 2-<br>",
           "query_knowledge_base",
           null,
           "action_query_babe_kb"
          ],
          [
           "Alo",
           "Chào bạn, mình là trợ lý ảo của Shop Gấu & Bí Ngô,-<br>",
           "greet",
           null,
           "utter_greet"
          ],
          [
           "url",
           "Bạn đang tìm kiếm thông tin gì ạ?",
           "send_link",
           "url",
           "action_handle_send_link_only"
          ],
          [
           "Đăng shopee chưa",
           "Mời bạn tham khảo link shopee của sản phẩm:\n<show -<br>",
           "action_query_babe_kb",
           "['attribute:link']",
           "action_query_babe_kb"
          ],
          [
           "Alo",
           "Chào bạn, mình là trợ lý ảo của Shop Gấu & Bí Ngô,-<br>",
           "greet",
           null,
           "utter_greet"
          ],
          [
           "url",
           null,
           "send_link",
           "url",
           "action_handle_send_link_only"
          ],
          [
           "Đăng shopee chưa",
           "Sản phẩm Bộ đồ chơi nhà bếp thông minh hiện chưa c-<br>",
           "query_knowledge_base",
           "['attribute:link']",
           "action_query_babe_kb"
          ],
          [
           "Bao giờ đăng lên thì thông báo mình nhé để mình đặ-<br>",
           "Dạ,vâng ạ",
           "query_knowledge_base",
           null,
           "action_query_babe_kb"
          ],
          [
           "b ơi cho mình hỏi chút\nbên mình có quây k k ạ",
           "Sản phẩm  Quây  hiện shop đang có giá: *1,440,000 -<br> VND (giá gốc 1,490,000 VND), 1,040,000 VND (giá gố-<br> c 1,290,000 VND), 1,340,000 VND (giá gốc 1,390,000-<br>",
           "query_knowledge_base",
           "['object_type:quay']",
           "action_query_babe_kb"
          ],
          [
           "mẫu này kt bn hả b",
           "Mình chưa xác định được món đồ bạn hỏi, bạn mô tả -<br>",
           "query_knowledge_base",
           "['mention:mẫu này', 'attribute:size']",
           "action_query_babe_kb"
          ],
          [
           "url",
           "Sản phẩm  COMBO HOLLA LIÊN HOÀN 2020 hiện shop đan-<br> g có kích thước: *1.8x2M*.\nBạn tham khảo sản phẩm -<br>",
           "send_link",
           "url",
           "action_handle_send_link_only"
          ],
          [
           "mai ship mình bộ này b nhé\n",
           "Cho shop xin thông tin ạ ( địa chỉ , số điện thoại-<br>",
           "query_knowledge_base",
           "['mention:bộ này']",
           "action_query_babe_kb"
          ],
          [
           "434 trần khát chân, hai bà trưng\nsđt:113",
           "Thông tin đơn hàng \n( ng nhận: tên fb, tên sản phẩ-<br> m, số lượng, thuộc tính, giá trị sản phẩm , phí sh-<br>",
           "query_knowledge_base",
           null,
           "action_query_babe_kb"
          ],
          [
           "<xác nhận>",
           "Cám ơn bạn đã mua hàng tại shop, đơn hàng sẽ được -<br> giao đến 434 trần khát chân, 2 bà trưng trong khoả-<br>",
           "agree",
           null,
           null
          ],
          [
           "bạn ơi",
           "Chào bạn, mình là trợ lý ảo của Shop Gấu & Bí Ngô,-<br>",
           "greet",
           null,
           "utter_greet"
          ],
          [
           "url",
           "Sản phẩm  Ghế cao đa năng Mastela 1015  hiện shop -<br> đang có giá: 1320000 VND (giá gốc 2000000 VND).\nBạ-<br>",
           "query_knowledge_base",
           "url",
           "action_query_babe_kb"
          ],
          [
           "thank shop",
           "Dạ vâng ạ.",
           "thank",
           null,
           "utter_thank"
          ],
          [
           "url",
           "Chào bạn, mình là trợ lý ảo của Shop Gấu & Bí Ngô,-<br>",
           "greet",
           "url",
           "utter_greet"
          ],
          [
           "Mua le dc k shop",
           "Quây góc vuông cánh nhỏ hình ngôi nhà toyhouse là -<br> sản phẩm bán lẻ hiện đang có giá 1.090.000 - ₫1.25-<br> 0.000\n (giá gốc 290.000 - ₫1.390.000)\nBạn tham khả-<br>",
           "query_knowledge_base",
           "[]",
           "action_query_babe_kb"
          ],
          [
           "Ship Thạch Bnaf, LB phí bnhieu b",
           "Ship thạch bàn , long biên trong nội thành hà nội -<br>",
           "query_knowledge_base",
           "[]",
           "action_handover_to_inbox"
          ],
          [
           "Shop cho e hỏi bộ đồ chơi cho bé này có to ko ạ. B-<br> é đứng với tới ko ạ. Do nhìn qua hình nên ko hình -<br>",
           "Mình chưa xác định được món đồ bạn hỏi, bạn mô tả -<br>",
           "query_knowledge_base",
           "['attribute:size']",
           "action_query_babe_kb"
          ],
          [
           "url",
           "Sản phẩm  Bộ đồ chơi nhà bếp thông minh có kích th-<br> ước: 57x30x77cm và 51x32x100cm\nBạn tham khảo các s-<br>",
           "send_link",
           "url",
           "action_handle_send_link_only\n"
          ],
          [
           "cám ơn shop",
           null,
           "thank",
           null,
           "utter_thank"
          ],
          [
           "hello",
           "Chào bạn, mình là trợ lý ảo của Shop Gấu & Bí Ngô,-<br>",
           "greet",
           null,
           "utter_greet"
          ],
          [
           "ghế ăn dặm",
           "Hiện tại sản phẩm Ghế Ăn  shop đang có những *giá*-<br>",
           "query_knowledge_base",
           "['object_type:ghe_an']",
           "action_query_babe_kb"
          ],
          [
           "/confirm_attribute_value{\"price\": \"500k - 1M\"}",
           "Dạ mời bạn tham khảo các loại sản phẩm hiện có tại-<br>",
           "confirm_attribute_value",
           "['price:500k - 1M']",
           "action_query_babe_kb"
          ],
          [
           "Vậy xe scotter còn k ạ\nLoại có ư bánh trc ạ",
           "Mời bạn tham khảo các Xe Scooter shop đang có ạ:\n<-<br>",
           "query_knowledge_base",
           "['object_type:xe', 'brand:scotter']",
           "action_query_babe_kb"
          ],
          [
           "url",
           "Bạn đang tìm kiếm thông tin gì ạ?",
           "send_link",
           "url",
           "action_handle_send_link_only"
          ],
          [
           "Shop co bán goi nay kg ạ?",
           "Sản phẩm bạn vừa gửi shop không có hàng, hiện tại -<br> shop có các loại Gối sau:\n<show random card 5 cái -<br>",
           "query_knowledge_base",
           "['object_type:goi', 'mention:nay']",
           "action_query_babe_kb"
          ],
          [
           "shop ơi",
           "Chào bạn, mình là trợ lý ảo của Shop Gấu & Bí Ngô,-<br>",
           "greet",
           null,
           "utter_greet"
          ],
          [
           "url",
           "Sản phẩm  Bộ đồ chơi nhà bếp thông minh  hiện shop-<br>  đang có giá: 490.000 - 790.000\nBạn tham khảo các -<br>",
           "query_knowledge_base",
           "url",
           "action_query_babe_kb"
          ],
          [
           "ok, thank shop!",
           "Shop cảm ơn bạn ạ.",
           "thank",
           null,
           "utter_thank"
          ],
          [
           "shop ơi",
           "Chào bạn, mình là trợ lý ảo của Shop Gấu & Bí Ngô,-<br>",
           "greet",
           null,
           "utter_greet"
          ],
          [
           "url",
           "Sản phẩm  Bộ đồ chơi nhà bếp thông minh  hiện shop-<br>  đang có giá: 490.000 - 790.000\nBạn tham khảo các -<br>",
           "query_knowledge_base",
           "url",
           "action_query_babe_kb"
          ],
          [
           "cái này có 2 size à shop?",
           "Sản phẩm  Bộ đồ chơi nhà bếp thông minh có kích th-<br> ước: 57x30x77cm và 51x32x100cm\nBạn tham khảo các s-<br>",
           "query_knowledge_base",
           "['mention:cái này', 'attribute:size']",
           "action_query_babe_kb"
          ],
          [
           "ok shop",
           "Vâng ạ!",
           "agree",
           null,
           "utter_agree"
          ],
          [
           "shop ơi",
           "Chào bạn, mình là trợ lý ảo của Shop Gấu & Bí Ngô,-<br>",
           "greet",
           null,
           "utter_greet"
          ],
          [
           "Chào shop, shop còn mẫu ghế mastela màu ghi, mã 73-<br>",
           "Sản phẩm Ghế ăn nâng hạ độ cao nhựa Mastela 07330/-<br> 07331 màu ghi hiện đang có giá: 490.000 (Giá gốc: -<br>",
           "query_knowledge_base",
           "['object_type:ghe', 'brand:mastela', 'color:màu ghi', 'attribute:price', 'code:7330']",
           "action_query_babe_kb"
          ],
          [
           "Mình cần gấp, shop ship luôn cho mình nhé.",
           "Cảm ơn bạn! Bạn vui lòng điền thông tin vào Mẫu đặ-<br> t hàng giúp shop nhé!\n<Show ra cái bảng mẫu đặt hà-<br> ng: có tên sản phẩm, cho khách tùy chọn số lượng, -<br>",
           "make_order",
           null,
           "action_make_order"
          ],
          [
           "url",
           "Bạn đang tìm kiếm thông tin gì ạ?",
           "send_link",
           "url",
           "action_handle_send_link_only"
          ],
          [
           "Bnhiu v shop",
           "Dạ, có phải bạn muốn hỏi một trong các sản phẩm dư-<br> ới đây không ạ?\n (Vui lòng ấn chọn 1 sản phẩm)\n\n<s-<br>",
           "query_knowledge_base",
           "['attribute:price']",
           "action_query_babe_kb"
          ],
          [
           "Cái thứ 2\n",
           "Mời bạn tham khảo sản phẩm Voi Jumbo thả hình khối-<br>",
           null,
           "['mention:2']",
           "action_query_babe_kb"
          ],
          [
           "ok shop",
           "Dạ vâng ạ!",
           "agree",
           null,
           "utter_agree"
          ],
          [
           "shop ơi",
           "Chào bạn, mình là trợ lý ảo của Shop Gấu & Bí Ngô,-<br>",
           "greet",
           null,
           "utter_greet"
          ],
          [
           "url",
           "Bạn đang tìm kiếm thông tin gì ạ?",
           "send_link",
           "url",
           "action_handle_send_link_only"
          ],
          [
           "B có sẵn thanh chắn giường này ko?",
           "Sản phẩm Thanh chắn giường cao cấp dạng trượt Umoo-<br>  chính hãng đang có giá: 500.000 (Giá gốc: 610.000-<br>",
           "query_knowledge_base",
           "['object_type:thanh_chan_giuong']",
           "action_query_babe_kb"
          ],
          [
           "loại này có những kích thước nào shop nhỉ?",
           "Sản phẩm Thanh chắn giường cao cấp dạng trượt Umoo-<br>",
           "query_knowledge_base",
           "['mention:loại này', 'attribute:size']",
           "action_query_babe_kb"
          ],
          [
           "ok shop, cho mình đặt thanh loại 2m2 nhé.",
           "Cảm ơn bạn! Bạn vui lòng điền thông tin vào Mẫu đặ-<br> t hàng giúp shop nhé!\n<Show ra cái bảng mẫu đặt hà-<br> ng: có tên sản phẩm, cho khách tùy chọn số lượng, -<br>",
           "make_order",
           "['size:loại 2m2']",
           "action_make_order"
          ],
          [
           "hi shop",
           "Chào bạn, mình là trợ lý ảo của Shop Gấu & Bí Ngô,-<br>",
           "greet",
           null,
           "utter_greet"
          ],
          [
           "chị muốn hỏi giá cũi vải greco\nvà jolie",
           "Dạ, sản phẩm Giuong hãng sản xuất Jolie, chất liệu-<br>  Vải bên shop hiện tại không có ạ. Bạn tham khảo c-<br>",
           "query_knowledge_base",
           "['attribute:price', 'object_type:giuong', 'material:vải', 'brand:greco', 'brand:jolie']",
           "action_query_babe_kb"
          ],
          [
           "/query_knowledge_base{\"brand\": \"Graco\"}",
           "Hiện tại sản phẩm Giuong hãng sản xuất Graco shop -<br>",
           "query_knowledge_base",
           "['brand:Graco']",
           "action_query_babe_kb"
          ],
          [
           "/query_knowledge_base{\"price\": \"2M - 5M\"}",
           "Sản phẩm  Giuong hãng sản xuất Graco, giá 2m - 5m -<br> hiện shop đang có giá: *5,000,000 VND, 2,900,000 V-<br>",
           "query_knowledge_base",
           "['price:2M - 5M']",
           "action_query_babe_kb"
          ],
          [
           "2 cái khác gì nhau",
           "Bạn có thể nói với tôi theo 1 cách khác được không-<br>",
           "handover_to_inbox",
           "[]",
           "utter_ask_rephrase"
          ],
          [
           "url",
           "Mời bạn tham khảo các sản phẩm:\n<Show 4 cards tươn-<br> g ứng 4 sản phẩm gửi ảnh>\n<Kỳ vọng gửi đi đc cả 4 -<br>",
           "greet\nquery_knowledge_base",
           "url",
           "action_query_babe_kb"
          ],
          [
           "url",
           "Bạn đang tìm kiếm thông tin gì ạ?",
           "send_link",
           "url",
           "action_handle_send_link_only"
          ],
          [
           "Shop còn bộ này k ạ",
           "Dạ mời bạn tham khảo sản phẩm hiện có tại shop nhé-<br>",
           "query_knowledge_base",
           "['mention:bộ này']",
           "action_query_babe_kb"
          ],
          [
           "<Đặt hàng>\n(trên card cuối show thêm nút đặt hàng)",
           "Cảm ơn bạn! Bạn vui lòng điền thông tin vào Mẫu đặ-<br> t hàng giúp shop nhé!\n<Show ra cái bảng mẫu đặt hà-<br> ng: có tên sản phẩm, cho khách tùy chọn số lượng, -<br>",
           "make_order",
           null,
           "action_make_order"
          ],
          [
           "alo shop ơi",
           "Chào bạn, mình là ...",
           "greet",
           "[]",
           "utter_greet"
          ],
          [
           "https://www.facebook.com/shopgauvabingo/photos/pcb-<br> .2425056854471305/2425056784471312/?type=3&theater-<br>",
           "Dạ, có phải bạn muốn hỏi một trong các sản phẩm dư-<br> ới đây không ạ?\n (Vui lòng ấn chọn 1 sản phẩm)\n<Sh-<br>",
           "send_link",
           "[\"url:['https://www.facebook.com/shopgauvabingo/photos/pcb.2425056854471305/2425056784471312/?type=3&theater']\", 'mention:này', 'attribute:price']",
           "action_handle_send_link_only"
          ],
          [
           "/query_knowledge_base{\"url\": \"https://shopee.vn/pr-<br> oduct/36371562/3103025341\", \"product_id\": \"https:/-<br>",
           "Sản phẩm  Xe NADLE 3 in 1: Xe đẩy - Chòi chân - Xe-<br>  đạp  hiện shop đang có giá: 2,650,000 VND (giá gố-<br> c 2,650,000 VND), 2,450,000 VND (giá gốc 2,450,000-<br>  VND), 1,550,000 VND (giá gốc 2,650,000 VND).\nBạn -<br> tham khảo các sản phẩm sau nhé ạ:\n<Show card cuối -<br>",
           "query_knowledge_base",
           "['url:https://shopee.vn/product/36371562/3103025341', 'product_id:https://shopee.vn/product/36371562/3103025341']",
           "action_query_babe_kb"
          ],
          [
           "Ok, thank shop",
           "Cảm ơn bạn!",
           "thank",
           null,
           "utter_thank"
          ],
          [
           "alo shop ơi",
           "Chào bạn, mình là trợ lý ảo của Shop Gấu & Bí Ngô,-<br>",
           "greet",
           null,
           "utter_greet"
          ],
          [
           "https://www.facebook.com/shopgauvabingo/photos/pcb-<br> .2425056854471305/2425056784471312/?type=3&theater-<br>",
           "Dạ, có phải bạn muốn hỏi một trong các sản phẩm dư-<br> ới đây không ạ?\n (Vui lòng ấn chọn 1 sản phẩm)\n<Sh-<br>",
           "query_knowledge_base",
           "[\"url:['https://www.facebook.com/shopgauvabingo/photos/pcb.2425056854471305/2425056784471312/?type=3&theater']\", 'object_type:xe', 'mention:này', 'attribute:price']",
           "action_query_babe_kb"
          ],
          [
           "/query_knowledge_base{\"url\": \"https://shopee.vn/pr-<br> oduct/36371562/3103025341\", \"product_id\": \"https:/-<br>",
           "Sản phẩm  Xe NADLE 3 in 1: Xe đẩy - Chòi chân - Xe-<br>  đạp  hiện shop đang có giá: 2,650,000 VND (giá gố-<br> c 2,650,000 VND), 2,450,000 VND (giá gốc 2,450,000-<br>  VND), 1,550,000 VND (giá gốc 2,650,000 VND).\nBạn -<br> tham khảo các sản phẩm sau nhé ạ:\n<Show card cuối -<br>",
           "query_knowledge_base",
           "['url:https://shopee.vn/product/36371562/3103025341', 'product_id:https://shopee.vn/product/36371562/3103025341']",
           "action_query_babe_kb"
          ],
          [
           "còn màu gì hả bạn?",
           "Sản phẩm  Xe NADLE 3 in 1: Xe đẩy - Chòi chân - Xe-<br>  đạp  hiện shop đang có các màu sau: Xanh (có đai)-<br>",
           "query_knowledge_base",
           "['attribute:color']",
           "action_query_babe_kb"
          ],
          [
           "ok shop",
           "Dạ!",
           "agree",
           null,
           "utter_agree"
          ],
          [
           "url",
           "Bạn đang tìm kiếm thông tin gì ạ?",
           "send_link",
           "url",
           "action_handle_send_link_only"
          ],
          [
           "Shop còn cầu trưowtn này k ạ",
           "Sản phẩm bạn đang tìm có phải là?",
           "query_knowledge_base",
           "['object_type:cầu trưowtn']",
           "action_query_babe_kb"
          ],
          [
           "/agree{\"object_type\": \"cau_truot\"}",
           "Dạ, sản phẩm Cầu Trượt  bên shop hiện tại không có-<br>  ạ. Bạn tham khảo các sản phẩm khác dành cho bé nh-<br>",
           "agree",
           "['object_type:cau_truot']",
           "action_query_babe_kb"
          ],
          [
           "shop ơi",
           "Chào bạn, mình là trợ lý ảo của Shop Gấu & Bí Ngô,-<br>",
           "greet",
           "[]",
           "utter_greet"
          ],
          [
           "Mình muốn mua bộ cầu trượt\nGiá tn b",
           "Dạ, sản phẩm Cầu Trượt hiện tại bên shop đang tạm -<br> hết hàng ạ. Bạn tham khảo các sản phẩm khác dành c-<br>",
           "query_knowledge_base",
           "['object_type:cau_truot', 'attribute:price']",
           "action_query_babe_kb"
          ],
          [
           "Thank b",
           "- Cảm ơn bạn. Chúc bạn một ngày vui vẻ.",
           "thank",
           "[]",
           "utter_thank"
          ],
          [
           "shop ơi",
           "Cảm ơn bạn!",
           "greet",
           "[]",
           "utter_greet"
          ],
          [
           "Nhà mình có bán cầu trượt riêng k ah",
           "Cầu trượt là sản phẩm bán lẻ hiện đang có giá 1.09-<br> 0.000 - ₫1.250.000\n (giá gốc 290.000 - ₫1.390.000)-<br>",
           "query_knowledge_base",
           "['object_type:cau_truot']",
           "action_query_babe_kb"
          ],
          [
           "alo shop ơi",
           "Chào bạn, mình là trợ lý ảo của Shop Gấu & Bí Ngô,-<br>",
           "greet",
           "[]",
           "utter_greet"
          ],
          [
           "url",
           "Bạn đang tìm kiếm thông tin gì ạ?",
           "send_link",
           "url",
           "action_handle_send_link_only"
          ],
          [
           "lều còn ko shop\ngiá bn\ncòn bóng bn",
           "Lều hiện đang có giá 1.090.000 - ₫1.250.000\n (giá -<br> gốc 290.000 - ₫1.390.000)\nBạn tham khảo các sản ph-<br> ẩm sau nhé ạ:\n<show sp>\nBóng hiện shop đáng có các-<br>",
           "query_knowledge_base",
           "['attribute:price']",
           "action_query_babe_kb"
          ],
          [
           "alo shop ơi",
           "Chào bạn, mình là trợ lý ảo của Shop Gấu & Bí Ngô,-<br>",
           "greet",
           null,
           "utter_greet"
          ],
          [
           "url",
           "Bạn đang tìm kiếm thông tin gì ạ?",
           "send_link",
           "url",
           "action_handle_send_link_only"
          ],
          [
           "Mình mua sản phẩm này nha\nGiá sao",
           "Sản phẩm Dàn âm thanh động vật có đèn nhạc Infanti-<br> no đang có giá 129.000 (giá gốc: 180.000).\n<Show c-<br>",
           "query_knowledge_base",
           "['mention:sản phẩm này', 'attribute:price']",
           "action_query_babe_kb"
          ],
          [
           "alo shop ơi",
           "Chào bạn, mình là trợ lý ảo của Shop Gấu & Bí Ngô,-<br>",
           "greet",
           null,
           "utter_greet"
          ],
          [
           "Báo giá mình quây thảm với",
           "Sản phẩm  Quây góc vuông cánh nhỏ hình ngôi nhà ch-<br> ất liệu Nhựa hiện shop đang có giá: 1,040,000 VND -<br> (giá gốc 1,290,000 VND), 1,340,000 VND (giá gốc 1,-<br> 390,000 VND), 1,440,000 VND (giá gốc 1,490,000 VND-<br> ).\nBạn tham khảo các sản phẩm sau nhé ạ:\n<Show car-<br>",
           "query_knowledge_base",
           "['attribute:price', 'object_type:quay', 'object_type:tham']",
           "action_query_babe_kb"
          ],
          [
           "Cái này có kèm thảm và bóng ko bạn",
           "Sản phẩm  Quây góc vuông cánh nhỏ hình ngôi nhà ch-<br> ất liệu Nhựa không có phụ kiện đi kèm\nBạn tham khả-<br>",
           "query_knowledge_base",
           "['mention:cái này', 'object_type:tham','object_type:bong']",
           "action_query_babe_kb"
          ],
          [
           "shop ơi",
           "Chào bạn, mình là trợ lý ảo của Shop Gấu & Bí Ngô,-<br>",
           "greet",
           null,
           "utter_greet"
          ],
          [
           "minh muốn tìm quây cũi nhựa",
           "Dạ, sản phẩm Quây chất liệu nhựa bên shop hiện tại-<br>  không có ạ. Bạn tham khảo các sản phẩm khác dành -<br>",
           "query_knowledge_base",
           "['object_type:quay', 'material:nhựa']",
           "action_query_babe_kb"
          ],
          [
           "ok shop",
           "Vâng ạ!",
           "agree",
           null,
           "utter_agree"
          ],
          [
           "shop ơi",
           "Chào bạn, mình là trợ lý ảo của Shop Gấu & Bí Ngô,-<br>",
           "greet",
           null,
           "utter_greet"
          ],
          [
           "minh muốn tìm quây cũi nhựa",
           "Sản phẩm  Quây góc vuông cánh nhỏ hình ngôi nhà ch-<br> ất liệu Nhựa hiện shop đang có giá: 1,040,000 VND -<br> (giá gốc 1,290,000 VND), 1,340,000 VND (giá gốc 1,-<br> 390,000 VND), 1,440,000 VND (giá gốc 1,490,000 VND-<br> ).\nBạn tham khảo các sản phẩm sau nhé ạ:\n<Show car-<br>",
           "query_knowledge_base",
           "['object_type:quay', 'material:nhựa']",
           "action_query_babe_kb"
          ],
          [
           "hàng có sẵn k shop?",
           "Sản phẩm Quây góc vuông cánh nhỏ hình ngôi nhà hiệ-<br>",
           "query_knowledge_base",
           "['availability:có sẵn']",
           "action_query_babe_kb"
          ],
          [
           "ok, cho mình đặt cái đấy nhé",
           "Cảm ơn bạn! Bạn vui lòng điền thông tin vào Mẫu đặ-<br> t hàng giúp shop nhé!\n<Show ra cái bảng mẫu đặt hà-<br> ng: có tên sản phẩm, cho khách tùy chọn số lượng, -<br> màu sắc...>\n<Các thông tin đã thu thập đc thì tự đ-<br>",
           "make_order",
           null,
           "action_make_order"
          ],
          [
           "shop ơi",
           "Chào bạn, mình là trợ lý ảo của Shop Gấu & Bí Ngô,-<br>",
           "greet",
           null,
           "utter_greet"
          ],
          [
           "url",
           "Bạn đang tìm kiếm thông tin gì ạ?\n",
           "send_link",
           "url",
           "action_handle_send_link_only"
          ],
          [
           "Shop bán ghế này ko",
           "Dạ, có phải bạn muốn hỏi một trong các sản phẩm dư-<br> ới đây không ạ?\r\n (Vui lòng ấn chọn 1 sản phẩm)...-<br>",
           "query_knowledge_base",
           "['object_type:ghe', 'mention:này']",
           "action_query_babe_kb"
          ],
          [
           "/disagree{\"object_type\": null}",
           "Bạn vui lòng mô tả rõ mong muốn của bạn hoặc chat -<br>",
           "disagree",
           "['object_type:None']",
           "utter_disagree"
          ],
          [
           "/connect_employee",
           null,
           "connect_employee",
           null,
           "action_handover_to_inbox"
          ],
          [
           "shop ơi",
           "Chào bạn, mình là trợ lý ảo của Shop Gấu & Bí Ngô,-<br>",
           "greet",
           null,
           "utter_greet"
          ],
          [
           "url",
           "Bạn đang tìm kiếm thông tin gì ạ?",
           "send_link",
           "url",
           "action_handle_send_link_only"
          ],
          [
           "Mình mún mua bộ voi này\nMà phí ship shoppe tới 300-<br>",
           null,
           "handover_to_inbox",
           "['price:300k']",
           "action_handover_to_inbox"
          ],
          [
           "bạn ơi",
           "Chào bạn, mình là trợ lý ảo của Shop Gấu & Bí Ngô,-<br>",
           "greet",
           null,
           "utter_greet"
          ],
          [
           "url",
           "Bạn đang tìm kiếm thông tin gì ạ?\r\n",
           "send_link",
           "url",
           "action_handle_send_link_only"
          ],
          [
           "Bộ này còn k ạ",
           "Sản phẩm Voi thả bóng tập đứng có đèn nhạc Bkids I-<br> nfantino hiện có giá 1.160.000 (Giá gốc: 1.298.000-<br>",
           "query_knowledge_base",
           "['mention:bộ này']",
           "action_query_babe_kb"
          ],
          [
           "shop ơi",
           "Chào bạn, mình là trợ lý ảo của Shop Gấu & Bí Ngô,-<br>",
           "greet",
           "[]",
           "utter_greet"
          ],
          [
           "Cho mình hỏi bên bạn có máy hút sữa Avent hoa tuyế-<br>",
           "Sản phẩm Máy hút sữa điện đôi Avent Snow (Chính hã-<br> ng - Cty Vạn An) hãng sản xuất Avent hiện shop đan-<br> g có giá: *4,990,000 VND (giá gốc 6,950,000 VND)*.-<br>",
           "query_knowledge_base",
           "['object_type:may_hut_sua', 'brand:avent']",
           "action_query_babe_kb"
          ],
          [
           "ok shop",
           "Dạ!",
           "agree",
           null,
           "utter_agree"
          ],
          [
           "shop ơi",
           "Chào bạn, mình là trợ lý ảo của Shop Gấu & Bí Ngô,-<br>",
           "greet",
           "[]",
           "utter_greet"
          ],
          [
           "url",
           "Bạn đang tìm kiếm thông tin gì ạ?",
           "send_link",
           "url",
           "action_handle_send_link_only"
          ],
          [
           "Bên mình có medela freestyle like new k ak",
           "Shop không có máy hút sữa thương hiệu Medela, mời -<br> bạn tham khảo các sản phẩm máy hút sữa hiện có tại-<br>",
           "query_knowledge_base",
           "['brand:medela freestyle']",
           "action_query_babe_kb"
          ],
          [
           "Ok shop",
           "Dạ vâng ạ!",
           "agree",
           null,
           "utter_agree"
          ],
          [
           "shop ơi",
           "Chào bạn, mình là trợ lý ảo của Shop Gấu & Bí Ngô,-<br>",
           "greet",
           null,
           "utter_greet"
          ],
          [
           "url",
           "Bạn đang tìm kiếm thông tin gì ạ?\r\n",
           "send_link",
           "url",
           "action_handle_send_link_only"
          ],
          [
           "Mẫu này giá bn ah",
           "Món đồ bạn cần tìm có phải là:\n<Xe chòi chân> <Xe -<br>",
           "query_knowledge_base",
           "['mention:mẫu này', 'attribute:price']",
           "action_query_babe_kb"
          ],
          [
           "/agree{\"object_type\": \"xe_choi_chan\"}",
           "Sản phẩm  Xe Chòi Chân  hiện shop đang có giá: 499-<br> ,000 VND (giá gốc 800,000 VND), 580,000 VND (giá g-<br> ốc 800,000 VND), 699,000 VND (giá gốc 998,000 VND)-<br> .\nBạn tham khảo các sản phẩm sau nhé ạ:\n<Show card-<br>",
           "confirm_object_type",
           null,
           "action_query_babe_kb"
          ],
          [
           "ok shop, cho mình lấy cái xe Luddy",
           "Cảm ơn bạn! Bạn vui lòng điền thông tin vào Mẫu đặ-<br> t hàng giúp shop nhé!\n<Show ra cái bảng mẫu đặt hà-<br> ng: có tên sản phẩm, cho khách tùy chọn số lượng, -<br> màu sắc...>\n<Các thông tin đã thu thập đc thì tự đ-<br>",
           "make_order",
           "['object_type:xe_choi_chan','brand:Luddy']",
           "action_make_order"
          ],
          [
           "shop ơi",
           "Chào bạn, mình là trợ lý ảo của Shop Gấu & Bí Ngô,-<br>",
           "greet",
           null,
           "utter_greet"
          ],
          [
           "Có ship hàng qua Nguyễn Tuân k shop",
           "Shop giao hàng toàn quốc, khách hàng có thể chuyển-<br>  khoản trước hoặc chọn hình thức thanh toán khi nh-<br>",
           "ask_ship",
           "['ship:ship', 'location:Nguyễn Tuân']",
           "utter_ship"
          ],
          [
           "vậy ship luôn cho mình Xe chòi chân có bàn đạp cao-<br>",
           "Cảm ơn bạn! Bạn vui lòng điền thông tin vào Mẫu đặ-<br> t hàng giúp shop nhé!\n<Show ra cái bảng mẫu đặt hà-<br> ng: có tên sản phẩm, cho khách tùy chọn số lượng, -<br> màu sắc...>\n<Các thông tin đã thu thập đc thì tự đ-<br>",
           "make_order",
           "['ship:ship', 'object_type:xe_choi_chan', 'brand:Motion', 'color:đỏ'",
           "action_make_order"
          ],
          [
           "shop ơi",
           "Chào bạn, mình là trợ lý ảo của Shop Gấu & Bí Ngô,-<br>",
           "greet",
           null,
           "utter_greet"
          ],
          [
           "url",
           "Bạn đang tìm kiếm thông tin gì ạ?\r\n",
           "send_link",
           "url",
           "action_handle_send_link_only"
          ],
          [
           "Gia bao Nhiu shop",
           "Sản phẩm  COMBO HOLLA LIÊN HOÀN 2020 có giá 4.100.-<br>",
           "query_knowledge_base",
           "['attribute:price']",
           "action_query_babe_kb"
          ],
          [
           "ok shop",
           "Vâng ạ!",
           "agree",
           null,
           "utter_agree"
          ],
          [
           "shop ơi",
           "Chào bạn, mình là trợ lý ảo của Shop Gấu & Bí Ngô,-<br>",
           "greet",
           null,
           "utter_greet"
          ],
          [
           "url",
           "Bạn đang tìm kiếm thông tin gì ạ?\r\n",
           "send_link",
           "url",
           "action_handle_send_link_only"
          ],
          [
           "Gia bao Nhiu shop",
           "Sản phẩm  COMBO HOLLA LIÊN HOÀN 2020 có giá 4.100.-<br>",
           "query_knowledge_base",
           "['attribute:price']",
           "action_query_babe_kb"
          ],
          [
           "có những màu gì bạn nhỉ?",
           "Sản phẩm  COMBO HOLLA LIÊN HOÀN 2020 có màu: Xanh -<br>",
           "query_knowledge_base",
           "['attribute:color']",
           "action_query_babe_kb"
          ],
          [
           "ok shop, để mình xem thêm chút nhé!",
           "Dạ vâng ạ!",
           "agree & check_more",
           "['check_more:xem thêm']",
           "utter_agree"
          ],
          [
           "alo shop",
           "Chào bạn, mình là trợ lý ảo của Shop Gấu & Bí Ngô,-<br>",
           "greet",
           null,
           "utter_greet"
          ],
          [
           "url",
           "Bạn đang tìm kiếm thông tin gì ạ?\r\n",
           "send_link",
           "url",
           "action_handle_send_link_only"
          ],
          [
           "Mình muón mua xe này",
           "Sản phẩm Xe tập đi cao cấp Tommorrow Sky - CHÍNH H-<br> ÃNG có giá 449.000 (Giá gốc: 850.000).\n<Show card -<br>",
           "query_knowledge_base",
           "['object_type:xe', 'mention:này']",
           "action_query_babe_kb"
          ],
          [
           "Shop ship luôn hàng k nhỉ\nMình Bắc Từ Liêm, HN",
           "Cảm ơn bạn! Bạn vui lòng điền thông tin vào Mẫu đặ-<br> t hàng giúp shop nhé!\n<Show ra cái bảng mẫu đặt hà-<br> ng: có tên sản phẩm, cho khách tùy chọn số lượng, -<br> màu sắc...>\n<Các thông tin đã thu thập đc thì tự đ-<br>",
           "make_order",
           "[]",
           "action_make_order"
          ],
          [
           "shop ơi",
           "Chào bạn, mình là trợ lý ảo của Shop Gấu & Bí Ngô,-<br>",
           "greet",
           null,
           "utter_greet"
          ],
          [
           "url",
           "Bạn đang tìm kiếm thông tin gì ạ?\r\n",
           "send_link",
           "url",
           "action_handle_send_link_only"
          ],
          [
           "Mình muón mua xe này",
           "Sản phẩm Xe tập đi cao cấp Tommorrow Sky - CHÍNH H-<br> ÃNG có giá 449.000 (Giá gốc: 850.000).\n<Show card -<br>",
           "query_knowledge_base",
           "['object_type:xe', 'mention:này']",
           "action_query_babe_kb"
          ],
          [
           "Bé nhà mình 8 tháng đã dùng được chưa shop nhỉ?",
           "Xe tập đi cao cấp Tommorrow Sky - CHÍNH HÃNG có độ-<br>",
           "query_knowledge_base",
           "['age_of_use:bé nhà mình 8 tháng']",
           "action_query_babe_kb"
          ],
          [
           "ok shop",
           "Vâng ạ!",
           "agree",
           null,
           "utter_agree"
          ],
          [
           "Mình vừa đặt trên shopee rồi nhé shop, giao hàng g-<br>",
           null,
           "handover_to_inbox",
           "['attribute:link']",
           "action_handover_to_inbox"
          ],
          [
           "shop ơi",
           "Chào bạn, mình là trợ lý ảo của Shop Gấu & Bí Ngô,-<br>",
           "greet",
           null,
           "utter_greet"
          ],
          [
           "url",
           "Bạn đang tìm kiếm thông tin gì ạ?\r\n",
           "send_link",
           "url",
           "action_handle_send_link_only"
          ],
          [
           "Mẫu này shop còn ko?",
           "Dạ mời bạn tham khảo sản phẩm hiện có tại shop nhé-<br> !\r\n\n<Show card sản phẩm Voi Jumbo thả hình khối Bk-<br>",
           "query_knowledge_base",
           "['mention:mẫu này']",
           "action_query_babe_kb"
          ],
          [
           "Mình ở Ngã Tư Sở thì phí ship hết bao nhiêu bạn, c-<br>",
           "Ship Ngã tư sở , Thanh Xuân trong nội thành hà nội-<br>",
           "ask_ship",
           "['attribute:fee_ship']",
           "action_ask_ship"
          ],
          [
           "shop ơi",
           "Chào bạn, mình là trợ lý ảo của Shop Gấu & Bí Ngô,-<br>",
           "greet",
           null,
           "utter_greet"
          ],
          [
           "url",
           "Bạn đang tìm kiếm thông tin gì ạ?",
           "send_link",
           "url",
           "action_handle_send_link_only"
          ],
          [
           "Báo giá cho mình cái shop",
           "Dạ, có phải bạn muốn hỏi một trong các sản phẩm dư-<br> ới đây không ạ?\r\n (Vui lòng ấn chọn 1 sản phẩm)...-<br>",
           "query_knowledge_base",
           "['attribute:price']",
           "action_query_babe_kb"
          ],
          [
           "/query_knowledge_base{\"url\": \"https://shopee.vn/pr-<br> oduct/36371562/619150769\", \"product_id\": \"https://-<br>",
           "Sản phẩm Ghế đa năng cao cấp Mastela 1015 hiện sho-<br> p đang có giá: *1,320,000 VND (giá gốc 1,599,000 V-<br>",
           "query_knowledge_base",
           "['url:https://shopee.vn/product/36371562/619150769', 'product_id:https://shopee.vn/product/36371562/619150769']",
           "action_query_babe_kb"
          ],
          [
           "shop ơi",
           "Chào bạn, mình là trợ lý ảo của Shop Gấu & Bí Ngô,-<br>",
           "greet",
           null,
           "utter_greet"
          ],
          [
           "url",
           "Bạn đang tìm kiếm thông tin gì ạ?\r\n",
           "send_link",
           "url",
           "action_handle_send_link_only"
          ],
          [
           "Báo giá cho mình cái shop",
           "Dạ, có phải bạn muốn hỏi một trong các sản phẩm dư-<br> ới đây không ạ?\n (Vui lòng ấn chọn 1 sản phẩm)\n<Sh-<br>",
           "query_knowledge_base",
           "['attribute:price']",
           "action_query_babe_kb"
          ],
          [
           "/query_knowledge_base{\"url\": \"https://shopee.vn/pr-<br> oduct/36371562/619150769\", \"product_id\": \"https://-<br>",
           "Sản phẩm  Ghế đa năng cao cấp Mastela 1015  hiện s-<br> hop đang có giá: 1,320,000 VND (giá gốc 1,599,000 -<br> VND).\r\nBạn tham khảo các sản phẩm sau nhé ạ:\n<show-<br>",
           "query_knowledge_base",
           "['url:https://shopee.vn/product/36371562/619150769', 'product_id:https://shopee.vn/product/36371562/619150769']",
           "action_query_babe_kb"
          ],
          [
           "<Đặt hàng>\n(trên card cuối show thêm nút đặt hàng)",
           "Cảm ơn bạn! Bạn vui lòng điền thông tin vào Mẫu đặ-<br> t hàng giúp shop nhé!\n<Show ra cái bảng mẫu đặt hà-<br> ng: có tên sản phẩm, cho khách tùy chọn số lượng, -<br>",
           "make_order",
           null,
           "action_make_order"
          ],
          [
           "shop ơi",
           "Chào bạn, mình là trợ lý ảo của Shop Gấu & Bí Ngô,-<br>",
           "greet",
           null,
           "utter_greet"
          ],
          [
           "mình cần tìm ghế ăn dặm",
           "Hiện tại sản phẩm Ghế Ăn  shop đang có những *giá*-<br>",
           "query_knowledge_base",
           "['object_type:ghe_an']",
           "action_query_babe_kb"
          ],
          [
           "/query_knowledge_base{\"price\": \"1M - 2M\"}",
           "Dạ mời bạn tham khảo sản phẩm hiện có tại shop nhé-<br>",
           "query_knowledge_base",
           "['price:1M - 2M']",
           "action_query_babe_kb"
          ],
          [
           "ghế mastela sản xuất ở đâu vậy shop?",
           "Sản phẩm Ghế Ăn hãng sản xuất Mastela hiện shop đa-<br>",
           "query_knowledge_base",
           "['object_type:ghe', 'brand:mastela', 'attribute:origin']",
           "action_query_babe_kb"
          ],
          [
           "bé bao nhiêu tháng thì dùng đc ghế này?",
           "Hiện tại sản phẩm Ghế Ăn shop đang có những *độ tu-<br>",
           "query_knowledge_base",
           "['attribute:age_of_use', 'object_type:ghe']",
           "action_query_babe_kb"
          ],
          [
           "ok shop",
           "Dạ vâng ạ!",
           "agree",
           "[]",
           "utter_agree"
          ],
          [
           "shop có xe đẩy k?",
           "Hiện tại sản phẩm Xe Đẩy shop đang có những *giá* -<br>",
           "query_knowledge_base",
           "['object_type:xe_day']",
           "action_query_babe_kb"
          ],
          [
           "/query_knowledge_base{\"age_of_use\": \"0 - 36 Tháng\"-<br>",
           "Hiện tại sản phẩm Xe Đẩy độ tuổi sử dụng 0 - 36 Th-<br>",
           "query_knowledge_base",
           "['age_of_use:0 - 36 Tháng']",
           "action_query_babe_kb"
          ],
          [
           "/query_knowledge_base{\"price\": \"2M - 5M\"}",
           "Hiện tại sản phẩm Xe Đẩy giá 2m - 5m, độ tuổi sử d-<br> ụng 0 - 36 Tháng shop đang có những *hãng sản xuất-<br>",
           "query_knowledge_base",
           "['price:2M - 5M']",
           "action_query_babe_kb"
          ],
          [
           "/confirm_attribute_value{\"brand\": \"NULL\"}",
           "Hiện tại sản phẩm Xe Đẩy giá 2m - 5m, độ tuổi sử d-<br>",
           "confirm_attribute_value",
           "['brand:NULL']",
           "action_query_babe_kb"
          ],
          [
           "/confirm_attribute_value{\"material\": \"NULL\"}",
           "Hiện tại sản phẩm Xe Đẩy giá 2m - 5m, độ tuổi sử d-<br>",
           "confirm_attribute_value",
           "['material:NULL']",
           "action_query_babe_kb"
          ],
          [
           "/query_knowledge_base{\"color\": \"Ghi\"}",
           "Dạ mời bạn tham khảo sản phẩm hiện có tại shop nhé-<br>",
           "query_knowledge_base",
           "['color:Ghi']",
           "action_query_babe_kb"
          ],
          [
           "shop có ghế đa năng cho bé 10 tháng k?",
           "Hiện tại sản phẩm Ghế Đa Năng độ tuổi sử dụng Bé 1-<br>",
           "query_knowledge_base",
           "['object_type:ghe_da_nang', 'age_of_use:bé 10 tháng']",
           "action_query_babe_kb"
          ],
          [
           "/query_knowledge_base{\"price\": \"1M - 2M\"}",
           "Hiện tại sản phẩm Ghế Đa Năng giá 1m - 2m, độ tuổi-<br>  sử dụng Bé 10 Tháng shop đang có những *hãng sản -<br>",
           "query_knowledge_base",
           "['price:1M - 2M']",
           "action_query_babe_kb"
          ],
          [
           "/query_knowledge_base{\"brand\": \"More Kiss\"}",
           "Dạ mời bạn tham khảo sản phẩm hiện có tại shop nhé-<br>",
           "query_knowledge_base",
           "['brand:More Kiss']",
           "action_query_babe_kb"
          ],
          [
           "shop ơi",
           "Chào bạn, mình là trợ lý ảo của Shop Gấu & Bí Ngô,-<br>",
           "greet",
           null,
           "utter_greet"
          ],
          [
           "url",
           "Sản phẩm Ghế ô tô cao cấp Joie Steadi Dark Pewte h-<br> iện shop đang có giá: *2,750,000 VND (giá gốc 3,20-<br> 0,000 VND)*.\r\nBạn tham khảo các sản phẩm sau nhé ạ-<br>",
           "query_knowledge_base",
           "url",
           "action_query_babe_kb"
          ],
          [
           "shop ơi",
           "Chào bạn, mình là trợ lý ảo của Shop Gấu & Bí Ngô,-<br>",
           "greet",
           null,
           "utter_greet"
          ],
          [
           "url",
           "Sản phẩm Ghế ô tô cao cấp Joie Steadi Dark Pewte h-<br> iện shop đang có giá: *2,750,000 VND (giá gốc 3,20-<br> 0,000 VND)*.\r\nBạn tham khảo các sản phẩm sau nhé ạ-<br>",
           "query_knowledge_base",
           "url",
           "action_query_babe_kb"
          ],
          [
           "ok, cảm ơn shop",
           "Dạ, cảm ơn bạn!",
           "thank",
           null,
           "utter_thank"
          ],
          [
           "/greet",
           "Chào Nguyễn Nhung, mình là trợ lý ảo của Shop Gấu -<br>",
           "greet",
           "[]",
           "utter_greet"
          ],
          [
           "url",
           "Sản phẩm Ghế ô tô cao cấp Ghế ô tô cao cấp Joie St-<br> eadi Dark Pewte đang có giá 2.750.000 (Giá gốc: 3.-<br> 200.000).\nMời bạn tham khảo chi tiết sản phẩm:\nhtt-<br>",
           "query_knowledge_base",
           "url",
           "action_query_babe_kb"
          ],
          [
           "mình đang cần gấp, bạn gửi ship luôn cho mình được-<br>",
           "Cảm ơn bạn! Bạn vui lòng điền thông tin vào Mẫu đặ-<br> t hàng giúp shop nhé!\n<Show ra cái bảng mẫu đặt hà-<br> ng: có tên sản phẩm, cho khách tùy chọn số lượng, -<br> màu sắc...>\n<Các thông tin đã thu thập đc thì tự đ-<br>",
           "make_order",
           "['ship:cần gấp', 'ship':'gửi ship']",
           "action_make_order"
          ],
          [
           "Bộ đồ chơi nấu ăn giá bn ạ",
           "Bộ đồ chơi nhà bếp thông minh hiện shop đang có gi-<br> á: 790000 VND (giá gốc 790000 VND). Bạn tham khảo -<br>",
           "query_knowledge_base",
           "['attribute:price']",
           "action_query_babe_kb"
          ],
          [
           "ok shop",
           "Dạ,vâng",
           "agree",
           null,
           "utter_agree"
          ],
          [
           "url",
           "Bạn đang tìm kiếm thông tin gì ạ?",
           "send_link",
           "url",
           "action_handle_send_link_only"
          ],
          [
           "Ngựa này hàng về hả shop?",
           "Sản phẩm  NGỰA BẬP BÊNH HOLLA 2020  hiện shop có h-<br> àng và đang có giá: 580000\n VND (giá gốc 800000 VN-<br> D).\nBạn tham khảo các sản phẩm sau nhé ạ:\n<show sp-<br>",
           "query_knowledge_base",
           "['object_type:ngựa', 'mention:này']",
           "action_query_babe_kb"
          ],
          [
           "url",
           "Bạn đang tìm kiếm thông tin gì ạ?",
           "send_link",
           "url",
           "action_handle_send_link_only"
          ],
          [
           "Bạn ơi bộ này bao tiền ạ",
           "Sản phẩm BẢNG VẼ HOLLA 2 in 1 hiện shop đang có gi-<br> á: *830,000 VND (giá gốc 1,090,000 VND)*.\r\nBạn tha-<br>",
           "query_knowledge_base",
           "['mention:bộ này', 'attribute:price']",
           "action_query_babe_kb"
          ],
          [
           "Cho m xem màu",
           "Mình chưa xác định được món đồ bạn hỏi, bạn mô tả -<br>",
           "query_knowledge_base",
           "['attribute:color']",
           "action_query_babe_kb"
          ],
          [
           "Ghế ăn dặm newber ạ",
           "Dạ, sản phẩm Ghế Ăn hãng sản xuất Newber hiện tại -<br> bên shop đang tạm hết hàng ạ. Bạn tham khảo các sả-<br>",
           "query_knowledge_base",
           "['object_type:ghe_an', 'brand:newber']",
           "action_query_babe_kb"
          ],
          [
           "b ơi cho mình hỏi chút\nbên mình có quây k k ạ",
           "Sản phẩm  Quây  hiện shop đang có giá: *1,440,000 -<br> VND (giá gốc 1,490,000 VND), 1,040,000 VND (giá gố-<br> c 1,290,000 VND), 1,340,000 VND (giá gốc 1,390,000-<br>",
           "query_knowledge_base",
           "['object_type:quay']",
           "action_query_babe_kb"
          ],
          [
           "mẫu này kt bn hả b",
           "Mình chưa xác định được món đồ bạn hỏi, bạn mô tả -<br>",
           "query_knowledge_base",
           "['mention:mẫu này', 'attribute:size']",
           "action_query_babe_kb"
          ],
          [
           "url",
           "Sản phẩm  COMBO HOLLA LIÊN HOÀN 2020 hiện shop đan-<br> g có kích thước: *1.8x2M*.\nBạn tham khảo sản phẩm -<br>",
           "send_link",
           "url",
           "action_handle_send_link_only"
          ],
          [
           "shop ơi",
           "Chào bạn, mình là trợ lý ảo của Shop Gấu & Bí Ngô,-<br>",
           "greet",
           null,
           "utter_greet"
          ],
          [
           "url",
           "Bạn đang tìm kiếm thông tin gì ạ?",
           "send_link",
           "url",
           "action_handle_send_link_only"
          ],
          [
           "B có sẵn thanh chắn giường này ko?",
           "Sản phẩm Thanh chắn giường cao cấp dạng trượt Umoo-<br>  chính hãng đang có giá: 500.000 (Giá gốc: 610.000-<br>",
           "query_knowledge_base",
           "['object_type:thanh_chan_giuong']",
           "action_query_babe_kb"
          ],
          [
           "loại này có những kích thước nào shop nhỉ?",
           "Sản phẩm Thanh chắn giường cao cấp dạng trượt Umoo-<br>",
           "query_knowledge_base",
           "['mention:loại này', 'attribute:size']",
           "action_query_babe_kb"
          ],
          [
           "ok shop",
           "Vâng ạ!",
           "agree",
           null,
           "utter_agree"
          ],
          [
           "url",
           "Bạn đang tìm kiếm thông tin gì ạ?",
           "send_link",
           "url",
           "action_handle_send_link_only"
          ],
          [
           "Shop còn bộ này k ạ",
           "Dạ mời bạn tham khảo sản phẩm hiện có tại shop nhé-<br>",
           "query_knowledge_base",
           "['mention:bộ này']",
           "action_query_babe_kb"
          ],
          [
           "shop ơi",
           "Chào bạn, mình là ...",
           "greet",
           "[]",
           "utter_greet"
          ],
          [
           "Cho mình hỏi bên bạn có máy hút sữa Avent hoa tuyế-<br>",
           "Sản phẩm  Máy hút sữa điện đôi Avent Snow (Chính h-<br> ãng - Cty Vạn An) hãng sản xuất Avent hiện shop đa-<br> ng có giá: 4,990,000 VND (giá gốc 6,950,000 VND).\n-<br>",
           "query_knowledge_base",
           "['object_type:may_hut_sua', 'brand:avent']",
           "action_query_babe_kb"
          ],
          [
           "loại này dùng có tốt không bạn nhỉ?",
           null,
           "handover_to_inbox",
           "['mention:loại này']",
           "action_handover_to_inbox"
          ],
          [
           "alo shop",
           "Chào bạn, mình là trợ lý ảo của Shop Gấu & Bí Ngô,-<br>",
           "greet",
           null,
           "utter_greet"
          ],
          [
           "url",
           "Bạn đang tìm kiếm thông tin gì ạ?\r\n",
           "send_link",
           "url",
           "action_handle_send_link_only"
          ],
          [
           "Mình muón mua xe này",
           "Sản phẩm Xe tập đi cao cấp Tommorrow Sky - CHÍNH H-<br> ÃNG có giá 449.000 (Giá gốc: 850.000).\n<Show card -<br>",
           "query_knowledge_base",
           "['object_type:xe', 'mention:này']",
           "action_query_babe_kb"
          ],
          [
           "shop ơi",
           "Chào bạn, mình là trợ lý ảo của Shop Gấu & Bí Ngô,-<br>",
           "greet",
           null,
           "utter_greet"
          ],
          [
           "url",
           "Bạn đang tìm kiếm thông tin gì ạ?\r\n",
           "send_link",
           "url",
           "action_handle_send_link_only"
          ],
          [
           "Mẫu này shop còn ko?",
           "Dạ mời bạn tham khảo sản phẩm hiện có tại shop nhé-<br>",
           "query_knowledge_base",
           "['mention:mẫu này']",
           "action_query_babe_kb"
          ],
          [
           "thank bạn",
           "Dạ, cảm ơn bạn!",
           "thank",
           null,
           "utter_thank"
          ],
          [
           "shop ơi",
           "Chào Trần Diệu Như, mình là trợ lý ảo của Shop Gấu-<br>  & Bí Ngô!\nĐể hỗ trợ bạn nhanh nhất có thể, vui lò-<br> ng mô tả ngắn gọn và rõ ràng sản phẩm muốn tìm kiế-<br>",
           "greet",
           "[]",
           "utter_greet"
          ],
          [
           "Cho mình hỏi",
           "Mình chưa xác định được món đồ bạn hỏi, bạn mô tả -<br>",
           "query_knowledge_base",
           "[]",
           "action_query_babe_kb"
          ],
          [
           "url",
           "Sản phẩm Máy tiệt trùng sấy khô tia UV cao cấp Fat-<br> z Baby FB4702 có giá: 2.350.000 (Giá gốc: 2.750.00-<br>",
           "query_knowledge_base",
           "url",
           "action_query_babe_kb"
          ],
          [
           "Ok shop",
           "Dạ vâng ạ!",
           "agree",
           null,
           "utter_agree"
          ],
          [
           "Shop ơi\nShop còn xe đạp 3 bánh cho bé ko",
           "Sản phẩm Xe ba bánh hiện tại shop đang có các hãng-<br>",
           "query_knowledge_base",
           "['object_type:xe_3_banh']",
           "action_query_babe_kb"
          ],
          [
           "url",
           "Sản phẩm  COMBO HOLLA LIÊN HOÀN 2020 giá 4.100.000-<br>",
           "query_knowledge_base",
           "url",
           "action_query_babe_kb"
          ],
          [
           "url",
           "Sản phẩm  COMBO HOLLA LIÊN HOÀN 2020 giá 4.100.000-<br>",
           "query_knowledge_base",
           "url",
           "action_query_babe_kb"
          ],
          [
           "ok, cảm ơn bạn",
           "Dạ vâng ạ!",
           "thank",
           null,
           "utter_thank"
          ],
          [
           "url",
           "Dạ, có phải bạn muốn hỏi một trong các sản phẩm dư-<br>",
           "query_knowledge_base",
           "url",
           "action_query_babe_kb"
          ],
          [
           "/disagree{\"object_type\": null}\r\n\r\n",
           "Bạn vui lòng mô tả rõ mong muốn của bạn hoặc chat -<br>",
           "disagree",
           "['object_type:None']",
           "utter_disagree"
          ],
          [
           "/connect_employee",
           null,
           "connect_employee",
           null,
           "action_handover_to_inbox"
          ],
          [
           "url",
           null,
           "handover_to_inbox",
           "url",
           "action_handover_to_inbox"
          ],
          [
           "shop ơi",
           "Chào bạn, mình là trợ lý ảo của Shop Gấu & Bí Ngô,-<br>",
           "greet",
           "[]",
           "utter_greet"
          ],
          [
           "url",
           "Dạ, có phải bạn muốn hỏi một trong các sản phẩm dư-<br>",
           "query_knowledge_base",
           "url",
           "action_query_babe_kb"
          ],
          [
           "K bàn gội đầu nữa bạn",
           "Bạn vui lòng mô tả rõ mong muốn của bạn hoặc chat -<br>",
           "disagree",
           "[]",
           "utter_disagree"
          ],
          [
           "/connect_employee",
           null,
           "connect_employee",
           null,
           "action_handover_to_inbox"
          ],
          [
           "shop ơi",
           "Chào Thu Anh, mình là trợ lý ảo của Shop Gấu & Bí -<br> Ngô!\nĐể hỗ trợ bạn nhanh nhất có thể, vui lòng mô -<br> tả ngắn gọn và rõ ràng sản phẩm muốn tìm kiếm nhé!-<br>",
           "greet",
           "[]",
           "utter_greet"
          ],
          [
           "url",
           "Dạ, có phải bạn muốn hỏi một trong các sản phẩm dư-<br>",
           "query_knowledge_base",
           "url",
           "action_query_babe_kb"
          ],
          [
           "K bàn gội đầu nữa bạn",
           "Bạn vui lòng mô tả rõ mong muốn của bạn hoặc chat -<br> với nhân viên tư vấn nhé!\n<Show button [Chat với n-<br>",
           "disagree",
           "[]",
           "utter_disagree"
          ],
          [
           "chị muốn mua thêm cái bàn gội đầu nữa",
           "Dạ hiện tại sản phẩm Bàn gội đầu shop đang hết hàn-<br>",
           "query_knowledge_base",
           "[object_type:ban_goi_dau]",
           "action_query_babe_kb"
          ],
          [
           "ok em",
           "Dạ vâng ạ!",
           "agree",
           null,
           "utter_agree"
          ],
          [
           "Bộ này bao nhiêu bạn",
           "Mình chưa xác định được món đồ bạn hỏi, bạn mô tả -<br>",
           "query_knowledge_base",
           "['mention:bộ này', 'attribute:price']",
           "action_query_babe_kb"
          ],
          [
           "url",
           "Sản phẩm  Bàn học, bản chơi lắp ghép Lego cao cấp -<br>  hiện shop đang có giá: *995,000 VND (giá gốc 1,75-<br> 0,000 VND)*.\nBạn tham khảo các sản phẩm sau nhé ạ:-<br>",
           "send_link",
           "url",
           "action_handle_send_link_only"
          ],
          [
           "url",
           "Sản phẩm  Bộ đồ chơi nhà bếp thông minh  hiện shop-<br>  đang có giá: *790,000 VND (giá gốc 790,000 VND)*.-<br>",
           "query_knowledge_base",
           "url",
           "action_query_babe_kb"
          ],
          [
           "Dạ vâng b",
           "Dạ vâng ạ!",
           "agree",
           "[]",
           "utter_agree"
          ],
          [
           "url",
           "Bạn đang tìm kiếm thông tin gì ạ?",
           "send_link",
           "url",
           "action_handle_send_link_only"
          ],
          [
           "Bộ này giâ bn ạ shop",
           "Sản phẩm  Bộ đồ chơi nhà bếp thông minh  hiện shop-<br>  đang có giá: *790,000 VND (giá gốc 790,000 VND)*.-<br>",
           "query_knowledge_base",
           "['mention:bộ này', 'attribute:price']",
           "action_query_babe_kb"
          ],
          [
           "Cho t một xe chòi chân luddy",
           "Sản phẩm  Xe Chòi Chân  hiện shop đang có giá: *69-<br> 9,000 VND (giá gốc 998,000 VND), 448,400 VND (giá -<br> gốc 590,000 VND), 499,000 VND (giá gốc 800,000 VND-<br> ), 580,000 VND (giá gốc 800,000 VND)*.\nBạn tham kh-<br>",
           "query_knowledge_base",
           "['object_type:xe_choi_chan', 'brand:luddy']",
           "action_query_babe_kb"
          ],
          [
           "mình muốn mua cái luddy",
           "Sản phẩm Xe chòi chân thương hiệu Luddy có giá: 49-<br> 9,000 VND (giá gốc 800,000 VND)\n<show card xe ludd-<br>",
           "query_knowledge_base",
           "['brand:luddy']",
           "action_query_babe_kb"
          ],
          [
           "ok, mình lấy cái này nhé",
           "\"Cảm ơn bạn! Bạn vui lòng điền thông tin vào Mẫu đ-<br> ặt hàng giúp shop nhé!\n<Show ra cái bảng mẫu đặt h-<br> àng: có tên sản phẩm, cho khách tùy chọn số lượng,-<br>  màu sắc...>\n<Các thông tin đã thu thập đc thì tự -<br>",
           "make_order",
           "['mention:cái này']",
           "action_make_order"
          ],
          [
           "ship cho m 1 xe tập đi sư tử nhé",
           "\"\"\"Cảm ơn bạn! Bạn vui lòng điền thông tin vào Mẫu-<br>  đặt hàng giúp shop nhé!\n<Show ra cái bảng mẫu đặt-<br>  hàng: có tên sản phẩm, cho khách tùy chọn số lượn-<br>",
           "query_knowledge_base",
           "['object_type:xe_tap_di,'type:sư tử'] ",
           "action_query_knowledge_base"
          ],
          [
           "<Xác nhận>",
           "Cám ơn bạn đã mua hàng tại shop, đơn hàng sẽ được -<br> giao đến 434 trần khát chân, 2 bà trưng trong khoả-<br>",
           "query_knowledge_base",
           null,
           "action_query_knowledge_base"
          ],
          [
           "hello",
           "Chào bạn, mình là trợ lý ảo của Shop Gấu & Bí Ngô,-<br>",
           "greet",
           "['brand:hello']",
           "utter_greet"
          ],
          [
           "Alo, Shop cho mình hỏi chắn cửa cho bé với",
           "Sản phẩm  thanh chắn cửa (thanh chắn cầu thang)  h-<br> iện shop đang có giá: *699,000 VND (giá gốc 998,00-<br> 0 VND), 448,400 VND (giá gốc 590,000 VND), 499,000-<br>  VND (giá gốc 800,000 VND), 580,000 VND (giá gốc 8-<br> 00,000 VND)*.\nBạn tham khảo các sản phẩm sau nhé ạ-<br>",
           "query_knowledge_base",
           "['object_type:thanh_chan_cua,']",
           "action_query_knowledge_base"
          ],
          [
           "Cái thứ 2 kích thước sao ạ",
           "Sản phẩm  thanh chắn cửa (thanh chắn cầu thang) gi-<br> á 448,400 VND (giá gốc 590,000 VND) hiện shop đang-<br>  có kích thước \n<74x85x77cm> \nMời bạn tham khảo sả-<br>",
           "query_knowledge_base",
           "['mention:2', 'attribute:size']",
           "action_query_babe_kb"
          ],
          [
           "url",
           "Có phải bạn đang muốn đặt hàng sản phẩm sau đúng k-<br> o ạ:\n< cardThảm gấp XPE> < card Thảm xốp ghép 28 t-<br>",
           "query_knowledge_base",
           "url",
           "action_query_babe_kb"
          ],
          [
           "<Đúng>",
           "\"\"\"Cảm ơn bạn! Bạn vui lòng điền thông tin vào Mẫu-<br>  đặt hàng giúp shop nhé!\n<Show ra cái bảng mẫu đặt-<br>  hàng: có tên sản phẩm, cho khách tùy chọn số lượn-<br>",
           "query_knowledge_base",
           null,
           "action_query_babe_kb"
          ],
          [
           "<Hủy>",
           "Bạn đã hủy đơn hàng thành công",
           "query_knowledge_base",
           null,
           "action_query_babe_kb"
          ],
          [
           "url",
           "Có phải bạn đang muốn đặt hàng sản phẩm sau đúng k-<br> o ạ:\n< cardThảm gấp XPE> < card Thảm xốp ghép 28 t-<br>",
           "query_knowledge_base",
           "url",
           "action_query_babe_kb"
          ],
          [
           "<Sai>",
           "- Bạn vui lòng mô tả rõ mong muốn của bạn hoặc cha-<br> t với nhân viên tư vấn nhé!\n<Show button [Chat với-<br>",
           "query_knowledge_base",
           null,
           "action_query_babe_kb"
          ],
          [
           "/connect_employee",
           null,
           "connect_employee",
           null,
           "action_handover_to_inbox"
          ],
          [
           "Bao nhiêu ạ?",
           "Mình chưa xác định được món đồ bạn hỏi, bạn mô tả -<br>",
           "query_knowledge_base",
           "['attribute:price']",
           "action_query_babe_kb"
          ],
          [
           "Thảm đàn umoo á b",
           "Dạ, sản phẩm Thảm hãng sản xuất Umoo hiện tại bên -<br> shop đang tạm hết hàng ạ. Bạn tham khảo các sản ph-<br>",
           "query_knowledge_base",
           "['object_type:tham', 'brand:umoo']",
           "action_query_babe_kb"
          ],
          [
           "ok sh",
           "Dạ vâng ạ!",
           "agree",
           null,
           "utter_agree"
          ],
          [
           "url",
           "Sản phẩm  Giá sách Hamitu  hiện shop đang có giá: -<br> *790,000 VND (giá gốc 790,000 VND)*.\nBạn tham khảo-<br>",
           "query_knowledge_base",
           "url",
           "action_query_babe_kb"
          ],
          [
           "Còn màu xanh ko shop",
           "Sản phẩm  Giá sách Hamitu  màu xanh hiện còn hàng -<br>",
           "query_knowledge_base",
           "['color:màu xanh']",
           "action_query_babe_kb"
          ],
          [
           "Ok thanks",
           "Dạ, cảm ơn ạ!",
           "thank",
           "[]",
           "utter_thank"
          ],
          [
           "hi em",
           "Chào bạn, mình là trợ lý ảo của Shop Gấu & Bí Ngô,-<br>",
           "greet",
           "[]",
           "utter_greet"
          ],
          [
           "url",
           "Có phải bạn đang muốn đặt hàng sản phẩm sau đúng k-<br>",
           "query_knowledge_base",
           "url",
           "action_query_babe_kb"
          ],
          [
           "<Đúng>",
           "\"\"\"Cảm ơn bạn! Bạn vui lòng điền thông tin vào Mẫu-<br>  đặt hàng giúp shop nhé!\n<Show ra cái bảng mẫu đặt-<br>  hàng: có tên sản phẩm, cho khách tùy chọn số lượn-<br>",
           "agree",
           null,
           "action_query_babe_kb"
          ],
          [
           "<Xác nhận>",
           "Bạn đã đặt hàng thành công, đơn hàng sẽ được giao -<br>",
           "agree",
           "[]",
           "utter_agree"
          ],
          [
           "shop oi báo giá e nhé",
           null,
           "query_knowledge_base",
           "['attribute:price']",
           "action_query_babe_kb"
          ],
          [
           "url",
           "Dạ, có phải bạn muốn hỏi một trong các sản phẩm dư-<br> ới đây không ạ?\r\n (Vui lòng ấn chọn 1 sản phẩm)...-<br>",
           "send_link",
           "url",
           "action_handle_send_link_only"
          ],
          [
           "/disagree{\"object_type\": null}\r\n\r\n",
           "Bạn vui lòng mô tả rõ mong muốn của bạn hoặc chat -<br>",
           "deny_object_type",
           "['object_type:None']",
           "utter_disagree"
          ],
          [
           "/connect_employee",
           null,
           "connect_employee",
           null,
           "action_handover_to_inbox"
          ],
          [
           "url",
           "Sản phẩm  Bộ đồ chơi nhà bếp thông minh màu xanh h-<br> iện shop đang có giá: *790,000 VND (giá gốc 790,00-<br> 0 VND)*.\nBạn tham khảo các sản phẩm sau nhé ạ:\n<sh-<br>",
           "query_knowledge_base",
           "url",
           "action_query_babe_kb"
          ],
          [
           "Làm bằng nhựa à bạn",
           "Sản phẩm  Bộ đồ chơi nhà bếp thông minh được làm t-<br>",
           "query_knowledge_base",
           "['material:bằng nhựa']",
           "action_query_babe_kb"
          ],
          [
           "thank shop",
           "Dạ,vâng ạ",
           "thank",
           null,
           "utter_thank"
          ],
          [
           "url",
           "Sản phẩm  Xe chòi chân có bàn đạp cao cấp Motion  -<br> hiện shop đang có giá: *389,400 VND (giá gốc 590,0-<br>",
           "query_knowledge_base",
           "url",
           "action_query_babe_kb"
          ],
          [
           "Xe này cho bé từ mấy tuổi ha b",
           "Sản phẩm  Xe chòi chân có bàn đạp cao cấp Motion  -<br> hiện shop đang có độ tuổi sử dụng: *0 - 36 tháng*.-<br>",
           "query_knowledge_base",
           "['object_type:xe', 'mention:này', 'attribute:age_of_use']",
           "action_query_babe_kb"
          ],
          [
           "Nước nào sản xuất vậy bạn",
           "Sản phẩm  Xe chòi chân có bàn đạp cao cấp Motion c-<br>",
           "query_knowledge_base",
           "['attribute:origin']",
           "action_query_babe_kb"
          ],
          [
           "shop ơi",
           "Chào bạn, mình là trợ lý ảo của Shop Gấu & Bí Ngô,-<br>",
           "greet",
           null,
           "utter_greet"
          ],
          [
           "url",
           "Bạn đang tìm kiếm thông tin gì ạ?",
           "send_link",
           "url",
           "action_handle_send_link_only"
          ],
          [
           "Bn vậy s",
           "Sản phẩm  XE ĐẠP CÓ MÁI CHE UMOO  hiện shop đang c-<br> ó giá: *1,148,000 VND (giá gốc 2,800,000 VND)*.\nBạ-<br> n tham khảo các sản phẩm sau nhé ạ:\n<show card sp>-<br>",
           "query_knowledge_base",
           "['attribute:price']",
           "action_query_babe_kb"
          ],
          [
           "trọng lượng xe bn ạ",
           "Sản phẩm  XE ĐẠP CÓ MÁI CHE UMOO có trọng lượng 3,-<br>",
           "query_knowledge_base",
           "['attribute:weight']",
           "action_query_babe_kb"
          ],
          [
           "Cho mình xin link shopee",
           "Sản phẩm  XE ĐẠP CÓ MÁI CHE UMOO có link shopee sa-<br>",
           "query_knowledge_base",
           "['attribute:link']",
           "action_query_babe_kb"
          ],
          [
           "Bộ này có gấp lại dc k shop",
           "Mình chưa xác định được món đồ bạn hỏi, bạn mô tả -<br>",
           "handover_to_inbox",
           "['mention:bộ này']",
           "action_handover_to_inbox"
          ],
          [
           "https://scontent.fhan1-1.fna.fbcdn.net/v/t1.15752--<br> 0/p280x280/94247169_518496298833739_47427858278037-<br> 58592_n.jpg?_nc_cat=106&_nc_sid=b96e70&_nc_ohc=tIQ-<br> pyBHqGKcAX_YGh_a&_nc_ht=scontent.fhan1-1.fna&_nc_t-<br> p=6&oh=3141a0925467d595ddf7cb2d28d75d28&oe=5EC24DB-<br> E\nhttps://scontent.fhan1-1.fna.fbcdn.net/v/t1.1575-<br> 2-0/p280x280/93419718_261010215057212_451887424476-<br> 7023104_n.jpg?_nc_cat=104&_nc_sid=b96e70&_nc_ohc=E-<br> VuxAqLJPbkAX-2BWJl&_nc_ht=scontent.fhan1-1.fna&_nc-<br> _tp=6&oh=08ddddefc4c435796d90f76c1ab9e8b3&oe=5EC58-<br>",
           "Sản phẩm abc_xyz có thể gấp gọn ạ!",
           "query_knowledge_base",
           "[\"url:['https://scontent.fhan1-1.fna.fbcdn.net/v/t1.15752-0/p280x280/94247169_518496298833739_4742785827803758592_n.jpg?_nc_cat=106&_nc_sid=b96e70&_nc_ohc=tIQpyBHqGKcAX_YGh_a&_nc_ht=scontent.fhan1-1.fna&_nc_tp=6&oh=3141a0925467d595ddf7cb2d28d75d28&oe=5EC24DBE', 'https://scontent.fhan1-1.fna.fbcdn.net/v/t1.15752-0/p280x280/93419718_261010215057212_4518874244767023104_n.jpg?_nc_cat=104&_nc_sid=b96e70&_nc_ohc=EVuxAqLJPbkAX-2BWJl&_nc_ht=scontent.fhan1-1.fna&_nc_tp=6&oh=08ddddefc4c435796d90f76c1ab9e8b3&oe=5EC5835B']\"]",
           "action_query_babe_kb"
          ],
          [
           "shop ơi",
           "Chào bạn, mình là trợ lý ảo của Shop Gấu & Bí Ngô,-<br>",
           "greet",
           null,
           "utter_greet"
          ],
          [
           "url",
           "Bạn đang tìm kiếm thông tin gì ạ?",
           "send_link",
           "url",
           "action_handle_send_link_only"
          ],
          [
           "Cho e giá nhé",
           "Sản phẩm Bộ đồ chơi nhà bếp thông minh gồm 2 size -<br> \nSize nhỏ kích thước  57x30x77cm giá KM chỉ 590,00-<br> 0 VND\nSize to kích thước 51x32x100cm Giá Km chỉ 79-<br> 0,000 VND\nBạn tham khảo các sản phẩm sau nhé ạ:\n<S-<br>",
           "query_knowledge_base",
           "['attribute:price']",
           "action_query_babe_kb"
          ],
          [
           "shop ơi",
           "Chào bạn, mình là trợ lý ảo của Shop Gấu & Bí Ngô,-<br>",
           "greet",
           null,
           "utter_greet"
          ],
          [
           "Shop còn bộ câu cá k",
           "Dạ mình còn ạ\nSản phẩm Bộ câu cá Toys House có đèn-<br> , nhạc chính hãng hiện shop có giá là 300,000 VND\n-<br> Bạn vui lòng xe thông tin sản phẩm tại đây ạ:\n<sho-<br>",
           "query_knowledge_base",
           "['object_type:bo_cau_ca']",
           "action_query_babe_kb"
          ],
          [
           "url",
           "Bạn đang tìm kiếm thông tin gì ạ?",
           "send_link",
           "url",
           "action_handle_send_link_only"
          ],
          [
           "Bnhieu z",
           "Sản phẩm Xe đạp có mái che Umoo hiện shop đang có -<br> giá: 2,800,000 VND (giá gốc 2,800,000 VND)\nBạn tha-<br>",
           "query_knowledge_base",
           "['attribute:price']",
           "action_query_babe_kb"
          ],
          [
           "Xe umoo tháo ra thanh xe đap 3 banh như nadle dc k-<br>",
           "Handover",
           "handover_to_inbox",
           "['brand:umoo', 'brand:nadle']",
           "action_handover_to_inbox"
          ],
          [
           "url",
           "Bạn đang tìm kiếm thông tin gì ạ?",
           "send_link",
           "url",
           "action_handle_send_link_only"
          ],
          [
           "url",
           "Bạn đang tìm kiếm thông tin gì ạ?",
           "send_link",
           "url",
           "action_handle_send_link_only"
          ],
          [
           "Mình muốn hỏi 2cái nôi này là 1 ah",
           "Dạ, hai sản phẩm trên khác nhau, bạn có thể tham k-<br> hảo 2 sản phẩm đó tại đây ạ:\n<show card sp 2 sp đó-<br>",
           "query_knowledge_base",
           "['object_type:noi', 'mention:này']",
           "action_query_babe_kb"
          ],
          [
           "/query_knowledge_base{\"url\": \"https://shopee.vn/pr-<br> oduct/36371562/6418671728\", \"product_id\": \"https:/-<br>",
           "Dạ mời bạn tham khảo sản phẩm hiện có tại shop nhé-<br>",
           "query_knowledge_base",
           "['url:https://shopee.vn/product/36371562/6418671728', 'product_id:https://shopee.vn/product/36371562/6418671728']",
           "action_query_babe_kb"
          ],
          [
           "url",
           "Dạ, có phải bạn muốn hỏi một trong các sản phẩm dư-<br>",
           "query_knowledge_base",
           "url",
           "action_query_babe_kb"
          ],
          [
           "/query_knowledge_base{\"url\": \"https://shopee.vn/pr-<br> oduct/36371562/3103025341\", \"product_id\": \"https:/-<br>",
           "Sản phẩm Xe NADLE 3 in 1: Xe đẩy - Chòi chân - Xe -<br> đạp hiện shop đang có giá: *2,450,000 VND (giá gốc-<br>  2,450,000 VND), 2,650,000 VND (giá gốc 2,650,000 -<br> VND), 1,550,000 VND (giá gốc 2,650,000 VND)*.\r\nBạn-<br>",
           "query_knowledge_base",
           "['url:https://shopee.vn/product/36371562/3103025341', 'product_id:https://shopee.vn/product/36371562/3103025341']",
           "action_query_babe_kb"
          ],
          [
           "url",
           "Bạn đang tìm kiếm thông tin gì ạ?",
           "send_link",
           "url",
           "action_handle_send_link_only"
          ],
          [
           "Bn em oi\nCó màu khác ko e",
           "Sản phẩm Bàn ghế đa năng Lego Holla hiện shop đang-<br>  có giá: *1,400,000 VND (giá gốc 1,400,000 VND)\nBạ-<br> n tham khảo các sản phẩm sau nhé ạ:\n<show card sp>-<br> \n\nSản phẩm Bàn ghế đa năng Lego Holla hiện shop đa-<br> ng có các mẫu: mẫu Gấu và mẫu Thỏ\nBạn tham khảo cá-<br>",
           "query_knowledge_base",
           "['attribute:price', 'attribute:color']",
           "action_query_babe_kb"
          ],
          [
           "B ơi kệ sắp về chưa b",
           "Dạ bạn muốn hỏi sản phẩm nào trong các sản phẩm dư-<br> ới đây ạ\n<show card tất cả các kệ mà shop bán kèm -<br> button bên dưới \"Cái này\">\n<button: Không có trong-<br>",
           "query_knowledge_base",
           "['object_type:ke']",
           "action_query_babe_kb"
          ],
          [
           "/query_knowledge_base{\"url\": \"https://shopee.vn/pr-<br> oduct/36371562/3103025341\", \"product_id\": \"https:/-<br>",
           "Dạ sản phẩm Kệ đa năng cao cấp Pie shop dự tính sẽ-<br>  về hàng vào ngày xx/xx ạ\nBạn vui lòng xem các sản-<br>  phẩm khác của shop nhé ạ:\n<show card các sp tương-<br>",
           "query_knowledge_base",
           "['url:https://shopee.vn/product/36371562/3103025341', 'product_id:https://shopee.vn/product/36371562/3103025341']",
           "action_query_babe_kb"
          ],
          [
           "ok shop",
           "Shop cảm ơn bạn!",
           "agree",
           null,
           "utter_agree"
          ],
          [
           "shop ơi",
           "Chào bạn, mình là trợ lý ảo của Shop Gấu & Bí Ngô,-<br>",
           "greet",
           null,
           "utter_greet"
          ],
          [
           "url",
           "Bạn đang tìm kiếm thông tin gì ạ?",
           "send_link",
           "url",
           "action_handle_send_link_only"
          ],
          [
           "Chó này này giá bao nhiêu vậy shop",
           "Dạ, có phải bạn muốn hỏi một trong các sản phẩm dư-<br>",
           "query_knowledge_base",
           "['attribute:price']",
           "action_query_babe_kb"
          ],
          [
           "Hết hàng rồi hả shop",
           "Mình chưa rõ món đồ bạn hỏi, nếu có trong danh sác-<br>",
           "query_knowledge_base",
           "[]",
           "action_query_babe_kb"
          ],
          [
           "/query_knowledge_base{\"url\": \"https://shopee.vn/pr-<br> oduct/36371562/3103025341\", \"product_id\": \"https:/-<br>",
           "Dạ, sản phẩm hiện tại bên shop đang tạm hết hàng ạ-<br> . Bạn tham khảo các sản phẩm khác dành cho bé nhé!-<br>",
           "query_knowledge_base",
           "['url:https://shopee.vn/product/36371562/3103025341', 'product_id:https://shopee.vn/product/36371562/3103025341']",
           "action_query_babe_kb"
          ],
          [
           "url",
           "Cảm ơn bạn, nhân viên của shop sẽ xác nhận sớm lại-<br>",
           "confirm_transfer",
           "url",
           "confirm_transfer"
          ],
          [
           "Shop em o dau",
           "Địa chỉ shop ở : số 16 ngõ 124 Âu Cơ, Tứ liên , Tâ-<br>",
           "ask_address",
           "[]",
           "action_ask_address"
          ],
          [
           "B ơi kệ sắp về chưa b",
           "Dạ bạn muốn hỏi sản phẩm nào trong các sản phẩm dư-<br>",
           "query_knowledge_base",
           "['object_type:ke']",
           "action_query_babe_kb"
          ],
          [
           "shop ơi",
           "Chào bạn, mình là trợ lý ảo của Shop Gấu & Bí Ngô,-<br>",
           "greet",
           null,
           "utter_greet"
          ],
          [
           "url",
           "Bạn đang tìm kiếm thông tin gì ạ?",
           "send_link",
           "url",
           "action_handle_send_link_only"
          ],
          [
           "Cho e giá nhé",
           "Sản phẩm Bộ đồ chơi nhà bếp thông minh có giá: 490-<br> .000 - 790.000 tùy mẫu mã (kích thước, màu sắc...)-<br> .\nBạn tham khảo các sản phẩm sau nhé ạ:\n<Show card-<br>",
           "query_knowledge_base",
           "['attribute:price']",
           "action_query_babe_kb"
          ],
          [
           "url",
           "Bạn đang tìm kiếm thông tin gì ạ?",
           "send_link",
           "url",
           "action_handle_send_link_only"
          ],
          [
           "Bộ này giâ bn ạ shop",
           "\"Dạ, có phải bạn muốn hỏi một trong các sản phẩm d-<br> ưới đây không ạ?\n (Vui lòng ấn chọn 1 sản phẩm)...-<br>",
           "query_knowledge_base",
           "['mention:bộ này', 'attribute:price']",
           "action_query_babe_kb"
          ],
          [
           "Loại này bn vậy bạn",
           "Mình chưa xác định được món đồ bạn hỏi, bạn mô tả -<br>",
           "query_knowledge_base",
           "['mention:loại này', 'attribute:price']",
           "action_query_babe_kb"
          ],
          [
           "url",
           "Sản phẩm  BẢNG VẼ HOLLA 2 in 1  hiện shop đang có -<br> giá: 830,000 VND (giá gốc 1,090,000 VND).\nBạn tham-<br>",
           "send_link",
           "url",
           "action_query_babe_kb"
          ],
          [
           "Có những màu gì ạ ?",
           "Dạ, BẢNG VẼ HOLLA 2 in 1 hiện có các màu: Hồng, Xa-<br>",
           "query_knowledge_base",
           "['attribute:color']",
           "action_query_babe_kb"
          ],
          [
           "Để mình tham khảo thêm , có gì mình báo sớm",
           null,
           "handover_to_inbox",
           null,
           "action_handover_to_inbox"
          ],
          [
           "Shop có ghế nhún k b",
           "Sản phẩm Ghế nhún hiện shop đang có các sản phẩm s-<br> au ạ:\r\n<show card các sản phẩm object_type ghe_nhu-<br>",
           "query_knowledge_base",
           "['object_type:ghe_nhun']",
           "action_query_babe_kb"
          ],
          [
           "Shop ơi",
           "Chào bạn, mình là trợ lý ảo của Shop Gấu & Bí Ngô,-<br>",
           "greet",
           "[]",
           "utter_greet"
          ],
          [
           "Mình mua bộ đồ chơi nấu ăn cho bé\nHappy little che-<br>",
           "Sản phẩm Đồ chơi nấu ăn hiện shop đang có các sản -<br> phẩm sau ạ:\n<show card các sản phẩm object_type do-<br>",
           "query_knowledge_base",
           "['object_type:do_choi_nau_an']",
           "action_query_babe_kb"
          ],
          [
           "ok ạ",
           "Vâng ạ!",
           "agree",
           null,
           "utter_agree"
          ],
          [
           "Shop ơi",
           "Chào bạn, mình là trợ lý ảo của Shop Gấu & Bí Ngô,-<br>",
           "greet",
           "[]",
           "utter_greet"
          ],
          [
           "Cái thanh chắn cầu thang giá bn vậy bạn",
           "Sản phẩm Thanh nối chặn hiện shop đang có các sản -<br> phẩm sau ạ:\n<show card các sản phẩm object_type th-<br>",
           "query_knowledge_base",
           "['object_type:thanh_noi_chan','attribute:price']",
           "action_query_babe_kb"
          ],
          [
           "ok ạ",
           "Vâng ạ!",
           "agree",
           null,
           "utter_agree"
          ],
          [
           "gửi ảnh giúp c đc ko",
           "Mình chưa xác định được món đồ bạn hỏi, bạn mô tả -<br>",
           "query_knowledge_base",
           "['attribute:image']",
           "action_query_babe_kb"
          ],
          [
           "m cần tìm ghế ăn cho bé",
           "Sản phẩm Ghế Ăn hiện shop đang có các mức giá sau -<br>",
           "query_knowledge_base",
           "['object_type:ghe_an']",
           "action_query_babe_kb"
          ],
          [
           "Chào shop",
           "Chào bạn, mình là trợ lý ảo của Shop Gấu & Bí Ngô,-<br>",
           "greet",
           "[]",
           "utter_greet"
          ],
          [
           "Cho  mình xin giá máy pha sữa bên shop nhé ạ",
           "Sản phẩm  Máy pha sữa cao cấp Tiny Baby Formula (N-<br> hật Bản)  hiện shop đang có giá: *3,530,000 VND (g-<br> iá gốc 3,850,000 VND)*.\nBạn tham khảo các sản phẩm-<br>",
           "query_knowledge_base",
           "['attribute:price', 'object_type:may_pha_sua']",
           "action_query_babe_kb"
          ],
          [
           "Chào shop",
           "Chào bạn, mình là trợ lý ảo của Shop Gấu & Bí Ngô,-<br>",
           "greet",
           "[]",
           "utter_greet"
          ],
          [
           "Shop cho hỏi có bán ghế ăn dặm cho trẻ con không",
           "Hiện tại sản phẩm Ghế Ăn  shop đang có những *giá*-<br>",
           "query_knowledge_base",
           "['object_type:ghe_an']",
           "action_query_babe_kb"
          ],
          [
           "/confirm_attribute_value{\"price\": \"500k - 1M\"}",
           "Dạ mời bạn tham khảo sản phẩm hiện có tại shop nhé-<br>",
           "confirm_attribute_value",
           "['price:500k - 1M']",
           "action_query_babe_kb"
          ],
          [
           "Tôi muốn mua loại 799k",
           "Sản phẩm  Ghế ăn đa năng kết hợp xe kéo MASTELA 10-<br> 18 CHÍNH HÃNG giá 799k hiện shop đang có giá: *799-<br> ,000 VND (giá gốc 1,300,000 VND)*.\nBạn tham khảo c-<br>",
           "query_knowledge_base",
           "['price:799k']",
           "action_query_babe_kb"
          ],
          [
           "Cái này 30kg có ngồi được ko",
           "Sản phẩm  Ghế ăn đa năng kết hợp xe kéo MASTELA 10-<br> 18 CHÍNH HÃNG có trọng tải: 13kg ạ\nBạn tham khảo c-<br>",
           "query_knowledge_base",
           "['mention:cái này', 'capacity:30kg']",
           "action_query_babe_kb"
          ],
          [
           "ok shop",
           "Vâng ạ!",
           "agree",
           null,
           "utter_agree"
          ],
          [
           "Có freeship k an\nẠ\nShip hcm",
           "Dạ bạn vui lòng chờ trong vài phút, nhân viên sẽ t-<br>",
           "handover_to_inbox",
           "[]",
           "action_handover_to_inbox"
          ],
          [
           "Dạ,bao lâu thì biết đc mình có đc nhận qà hay k ạ",
           "Dạ bạn vui lòng chờ trong vài phút, nhân viên sẽ t-<br>",
           "handover_to_inbox",
           "[]",
           "action_handover_to_inbox"
          ],
          [
           "url",
           "Sản phẩm Bộ đồ chơi nhà bếp thông minh hiện shop đ-<br> ang có giá: 790000 VND (giá gốc 790000 VND). Bạn t-<br> ham khảo các sản phẩm sau nhé ạ:\n<show card sp>\n\nS-<br> ản phẩm Xe chòi chân kiêm xe lắc cao cấp có nhạc H-<br> olla hiện shop đang có giá: *790,000 VND (giá gốc -<br> 1,200,000 VND)*.\nBạn tham khảo các sản phẩm sau nh-<br>",
           "query_knowledge_base",
           "url",
           "action_query_babe_kb"
          ],
          [
           "ok shop",
           "Vâng ạ!",
           "agree",
           null,
           "utter_agree"
          ],
          [
           "Bàn này gập gọn vào dc ko bạn?",
           "Dạ, bạn vui lòng xem hướng dẫn sử dụng sản phẩm tạ-<br> i đây ạ\n<show video hướng dẫn sử dụng trong shopee-<br>",
           "query_knowledge_base",
           "['mention:bàn này','attribute:video']",
           "action_query_babe_kb"
          ],
          [
           "url",
           "Sản phẩm  Xe tập đi đa năng cao cấp Holla hiện sho-<br> p đang có giá: 1200.000 VND\nBạn tham khảo các sản -<br>",
           "query_knowledge_base",
           "url",
           "action_query_babe_kb"
          ],
          [
           "Cảm ơn shop",
           "Cảm ơn bạn!",
           "thank",
           "[]",
           "utter_thank"
          ],
          [
           "Shop ship cho em 1 chiếc xe đẩy Holla màu xanh nhé-<br>",
           "{Các câu hỏi bot có thể hỏi để đủ thông tin:}\r\n- D-<br> ạ bạn muốn đặt sản phẩm nào ạ?\r\n- Bạn muốn đặt số -<br> lượng bao nhiêu? + 5 button từ 1 đến 5\r\n- Số điện -<br> thoại người nhận?\r\n- Địa chỉ nhận hàng? (Số nhà, p-<br> hường/xã, quận/huyện, tỉnh/thành phố)\r\n- Bạn có lư-<br> u ý gì cho bên vận chuyển không? (vd: cần gấp...)\r-<br> \n\r\n{Nếu đã đủ thông tin sẽ show ra} Đơn hàng của b-<br>",
           "query_knowledge_base",
           "['object_type:xe_day', 'brand:holla', 'color:màu xanh']",
           "action_query_babe_kb"
          ],
          [
           "Shop ơi",
           "Chào bạn, mình là trợ lý ảo của Shop Gấu & Bí Ngô,-<br>",
           "greet",
           "[]",
           "utter_greet"
          ],
          [
           "E chào shop\nE xin giá xe đẩy với ạ",
           "Hiện tại sản phẩm Xe Đẩy  shop đang có những *giá*-<br>",
           "query_knowledge_base",
           "['attribute:price', 'object_type:xe_day']",
           "action_query_babe_kb"
          ],
          [
           "E quên ạ\nXe tròn tập đi ấy ạ",
           "Hiện tại sản phẩm Xe Tập Đi  shop đang có những *g-<br>",
           "query_knowledge_base",
           "['object_type:xe_tap_di']",
           "action_query_babe_kb"
          ],
          [
           "url",
           "Bạn đang tìm kiếm thông tin gì ạ?",
           "send_link",
           "url",
           "action_handle_send_link_only"
          ],
          [
           "Giá tiền ban ơi",
           "Sản phẩm Quây HOLLA FULL PHIÊN BẢN 2020 MẪU VƯƠNG -<br> MIỆN hiện shop đang có giá: 4190.000 VND\nBạn tham -<br>",
           "query_knowledge_base",
           "['attribute:price']",
           "action_query_babe_kb"
          ],
          [
           "Thanks b nhé",
           "Cảm ơn bạn!",
           "thank",
           "[]",
           "utter_thank"
          ],
          [
           "Chào shop",
           "Chào bạn, mình là trợ lý ảo của Shop Gấu & Bí Ngô,-<br>",
           "greet",
           "[]",
           "utter_greet"
          ],
          [
           "Đồ eco còmybaby hết loại 6-9m hả chị",
           "Dạ, vấn đề này mình không hỗ trợ bạn được. Bạn vui-<br>  lòng bấm \"Chat với nhân viên\" và chờ trong giây l-<br> át, nhân viên sẽ trả lời bạn sớm nhất có thể ạ. \n(-<br>",
           "query_knowledge_base",
           "['object_type:quan_ao']['size:6-9m']",
           "action_query_babe_kb"
          ],
          [
           "/connect_employee",
           null,
           "handover_to_inbox",
           "[]",
           "action_handover_to_inbox"
          ],
          [
           "Okie bạn\nBạn cho tớ tổng tiền nhé",
           "Dạ, vấn đề này mình không hỗ trợ bạn được. Bạn vui-<br>  lòng bấm \"Chat với nhân viên\" và chờ trong giây l-<br> át, nhân viên sẽ trả lời bạn sớm nhất có thể ạ. \n(-<br>",
           "handover_to_inbox",
           "[]",
           "action_handover_to_inbox"
          ],
          [
           "url",
           "Sản phẩm Xe chòi chân kiêm xe lắc cao cấp có nhạc -<br> Holla hiện shop đang có giá: *790,000 VND (giá gốc-<br>  1,200,000 VND)*.\nBạn tham khảo các sản phẩm sau n-<br> hé ạ:\n<show card sp>\nSản phẩm Voi mẹ phun nước hiệ-<br> n shop đang có giá: *189,000 VND (giá gốc 290,000 -<br> VND)*.\nBạn tham khảo các sản phẩm sau nhé ạ:\n<show-<br>  card sp>\nSản phẩm  Xe tập đi đa năng cao cấp Holl-<br> a hiện shop đang có giá: *750,000 VND (giá gốc 1,2-<br> 00,000 VND)*.\nBạn tham khảo các sản phẩm sau nhé ạ-<br>",
           "query_knowledge_base",
           "url",
           "action_query_babe_kb"
          ],
          [
           "url",
           "Sản phẩm Xe chòi chân kiêm xe lắc cao cấp có nhạc -<br> Holla hiện shop đang có giá: *790,000 VND (giá gốc-<br>  1,200,000 VND)*.\r\nBạn tham khảo các sản phẩm sau -<br>",
           "query_knowledge_base",
           "url",
           "action_query_babe_kb"
          ],
          [
           "ok ạ",
           "Vâng ạ!",
           "agree",
           null,
           "utter_agree"
          ],
          [
           "Xe nadle có tay đẩy ko b",
           "Dạ, vấn đề này mình không hỗ trợ bạn được. Bạn vui-<br>  lòng bấm \"Chat với nhân viên\" và chờ trong giây l-<br> át, nhân viên sẽ trả lời bạn sớm nhất có thể ạ. \n(-<br>",
           "query_knowledge_base",
           "['brand:nadle','accessories:tay đẩy']",
           "action_query_babe_kb"
          ],
          [
           "/connect_employee",
           null,
           "handover_to_inbox",
           "[]",
           "action_handover_to_inbox"
          ],
          [
           "Cho mình link shoppe",
           "Dạ bạn cần xin link shopee của shop hay của sản ph-<br>",
           "query_knowledge_base",
           "['attribute:link']",
           "action_query_babe_kb"
          ],
          [
           "Xe lắc đó b",
           "Dạ mời bạn xem sản phẩm tại đây ạ:\n- Link Shopee: -<br>",
           "query_knowledge_base",
           "['object_type: xe_tap_di','attribute:link']",
           "action_query_babe_kb"
          ],
          [
           "Chào ad. Cho tớ hỏi mình còn thảm xốp Infantino 28-<br>",
           "Sản phẩm  Thảm hãng sản xuất Infantino, chất liệu -<br> Xốp 28 miếng hiện shop còn hàng, shop đang có giá:-<br>  *99,000 VND (giá gốc 99,000 VND), 279,000 VND (gi-<br> á gốc 349,000 VND), 179,000 VND (giá gốc 179,000 V-<br>",
           "query_knowledge_base",
           "['object_type:tham', 'material:xốp', 'brand:infantino','number of pieces:28 miếng']",
           "action_query_babe_kb"
          ],
          [
           "Loại 28 miếng có những màu gì hả ad? Hay chỉ có 1 -<br>",
           "Sản phẩm  Thảm hãng sản xuất Infantino, chất liệu -<br> Xốp 28 miếng hiện shop đang có màu: *Xanh, Hồng*.\n-<br>",
           "query_knowledge_base",
           "['attribute:color', 'attribute:color']",
           "action_query_babe_kb"
          ],
          [
           "Oki tớ cảm ơn nhiều nhé!",
           "Cảm ơn bạn!",
           "thank",
           "[]",
           "utter_thank"
          ],
          [
           "Shop đã về xích đu & cầu trượt holla chưa ạ",
           "Sản phẩm  Cầu trượt xích đu Hola hải cẩu 2020 hãng-<br>  sản xuất Holla hiện shop đang có giá: *1,982,500 -<br> VND (giá gốc 3,250,000 VND)*.\nBạn tham khảo các sả-<br>",
           "query_knowledge_base",
           "['object_type:cau_truot', object_type:xich_du', 'brand:holla']",
           "action_query_babe_kb"
          ],
          [
           "Xích đu shop còn màu gì ạ",
           "Sản phẩm  Cầu trượt xích đu Hola hải cẩu 2020 hãng-<br>  sản xuất Holla hiện shop đang có màu: *Vàng, Hồng-<br>",
           "query_knowledge_base",
           "['object_type:xich_du','attribute:color']",
           "action_query_babe_kb"
          ],
          [
           "Shop đã về xích đu & cầu trượt holla chưa ạ",
           "Mời bạn tham khảo các sản phẩm Cầu trượt, Xích đu,-<br>  nhãn hiệu Holla đang có tại shop ạ:\n<show card cá-<br>",
           "query_knowledge_base",
           "['object_type:cau_truot', object_type:xich_du', 'brand:holla']",
           "action_query_babe_kb"
          ],
          [
           "Xích đu shop còn màu gì ạ",
           "Sản phẩm Xích đu nhãn hiệu Holla đang có các màu s-<br>",
           "query_knowledge_base",
           "['object_type:xich_du','attribute:color']",
           "action_query_babe_kb"
          ],
          [
           "ok shop",
           "Vâng ạ!",
           "agree",
           null,
           "utter_agree"
          ],
          [
           "url",
           "Sản phẩm này hiện tại Shop không có, mời bạn tham -<br> khảo các Giường đang có tại shop ạ:\n<Show card Giư-<br>",
           "query_knowledge_base",
           "url",
           "action_query_babe_kb"
          ],
          [
           "bộ bang lego thi bao nhieu",
           "Mình chưa xác định được món đồ bạn hỏi, bạn mô tả -<br>",
           "query_knowledge_base",
           "['attribute:price']",
           "action_query_babe_kb"
          ],
          [
           "bàn lego ah",
           "Sản phẩm Bàn Lego hiện đang có giá: 1.035.000 VNĐ -<br> (Giá gốc: 1.750.000 VNĐ), 1.050.000VNĐ (Giá gốc: 1-<br>",
           "query_knowledge_base",
           "['object_type:ban_lego']",
           "action_query_babe_kb"
          ],
          [
           "bộ bàn lego thi bao nhieu",
           "Sản phẩm Bàn Lego hiện đang có giá: 1.035.000 VNĐ -<br> (Giá gốc: 1.750.000 VNĐ), 1.050.000VNĐ (Giá gốc: 1-<br>",
           "query_knowledge_base",
           "['attribute:price', 'object_type:ban_lego']",
           "action_query_babe_kb"
          ],
          [
           "thank b nhé",
           "Shop cảm ơn bạn ạ",
           "thank",
           "[]",
           "utter thank"
          ],
          [
           "shop ơi",
           "Chào bạn, mình là trợ lý ảo của Shop Gấu & Bí Ngô,-<br>",
           "greet",
           null,
           "utter_greet"
          ],
          [
           "Shop có máy tiệt trùng uv fatz đúng ko ạ",
           "Mời bạn tham khảo các sản phẩm Máy tiệt trùng thươ-<br> ng hiệu Fatz đang có tại shop ạ:\n<card 1> <card 2>-<br>",
           "query_knowledge_base",
           "['object_type:may_tiet_trung', 'brand:fatz']",
           "action_query_babe_kb"
          ],
          [
           "shop ơi",
           "Chào bạn, mình là trợ lý ảo của Shop Gấu & Bí Ngô,-<br>",
           "greet",
           null,
           "utter_greet"
          ],
          [
           "url",
           "Sản phẩm TẶNG 02 bình sữa cao cấp - Máy tiệt trùng-<br>  sấy khô tia UV cao cấp Fatz Baby FB4702 hiện có g-<br> iá: 2.390.000 VNĐ (Giá gốc: 2.750.000 VNĐ).\n<show -<br>",
           "query_knowledge_base",
           "url",
           "action_query_babe_kb"
          ],
          [
           "ok shop",
           "Dạ vâng ạ!",
           "agree",
           null,
           "utter_agree"
          ],
          [
           "shop ơi",
           "Chào bạn, mình là trợ lý ảo của Shop Gấu & Bí Ngô,-<br>",
           "greet",
           null,
           "utter_greet"
          ],
          [
           "url",
           "Dạ, có phải bạn muốn hỏi một trong các sản phẩm dư-<br> ới đây không ạ?\n (Vui lòng ấn chọn 1 sản phẩm)\n\n<s-<br>",
           "query_knowledge_base",
           "url",
           "action_query_babe_kb"
          ],
          [
           "/query_knowledge_base{\"url\": \"https://shopee.vn/pr-<br> oduct/36371562/3210697307\", \"product_id\": \"https:/-<br>",
           "Sản phẩm TẶNG 02 bình sữa cao cấp - Máy tiệt trùng-<br>  sấy khô tia UV cao cấp Fatz Baby FB4702 hiện có g-<br> iá: 2.390.000 VNĐ (Giá gốc: 2.750.000 VNĐ).\r\n<show-<br>",
           "query_knowledge_base",
           "['url:https://shopee.vn/product/36371562/3210697307', 'product_id:https://shopee.vn/product/36371562/3210697307']",
           "action_query_babe_kb"
          ],
          [
           "url",
           "Bạn đang tìm kiếm thông tin gì ạ?",
           "send_link",
           "url",
           "action_handle_send_link_only"
          ],
          [
           "Bạn có mẫu ntn ko\nCho mình xin thông số",
           "Sản phẩm Ghế đa năng cao cấp Mastela 1015 hiện có -<br> giá: 1.320.000 VNĐ (Giá gốc: 1.599.000 VNĐ).\nMời b-<br> ạn xem chi tiết thông tin sản phẩm tại đường link:-<br>",
           "query_knowledge_base",
           "[]",
           "action_query_babe_kb"
          ],
          [
           "url",
           "Bạn đang tìm kiếm thông tin gì ạ?",
           "send_link",
           "url",
           "action_handle_send_link_only"
          ],
          [
           "Bạn có mẫu ntn ko\nCho mình xin thông số",
           "Sản phẩm Ghế đa năng cao cấp Mastela 1015 hiện đan-<br> g hết hàng. Mời bạn tham khảo các sản phẩm Ghế ăn -<br>",
           "query_knowledge_base",
           "[]",
           "action_query_babe_kb"
          ],
          [
           "url",
           "Bạn đang tìm kiếm thông tin gì ạ?",
           "send_link",
           "url",
           "action_handle_send_link_only"
          ],
          [
           "Bạn có mẫu ntn ko\nCho mình xin thông số",
           "Dạ, có phải bạn muốn hỏi một trong các sản phẩm dư-<br> ới đây không ạ?\n (Vui lòng ấn chọn 1 sản phẩm)\n\n<s-<br>",
           "query_knowledge_base",
           "[]",
           "action_query_babe_kb"
          ],
          [
           "Chào shop",
           "Chào bạn, mình là trợ lý ảo của Shop Gấu & Bí Ngô,-<br>",
           "greet",
           null,
           "utter_greet"
          ],
          [
           "Hiện bên mình có những mẫu thú nhún nào",
           "Sản phẩm Thú nhún Toys House hiện có giá 239.000 V-<br> NĐ (Giá gốc: 275.000 VNĐ).\nMời bạn tham khảo sản p-<br>",
           "query_knowledge_base",
           "['object_type:thu_nhun']",
           "action_query_babe_kb"
          ],
          [
           "Chào shop",
           "Chào bạn, mình là trợ lý ảo của Shop Gấu & Bí Ngô,-<br>",
           "greet",
           null,
           "utter_greet"
          ],
          [
           "Hiện bên mình có những mẫu thú nhún nào",
           "Sản phẩm Thú nhún hiện shop đang có các sản phẩm s-<br> au ạ:\n<show card các sản phẩm object type thu_nhun-<br>",
           "query_knowledge_base",
           "['object_type:thu_nhun']",
           "action_query_babe_kb"
          ],
          [
           "ok shop",
           "Vâng ạ!",
           "agree",
           null,
           "utter_agree"
          ],
          [
           "url",
           "Sản phẩm Bàn học, bàn chơi lắp ghép Lego cao cấp h-<br> iện đang có giá: 1.035.000 VNĐ (Giá gốc: 1.750.000-<br>  VNĐ)\n<Show card sản phẩm 1>\n\nSản phẩm Voi mẹ phun-<br>  nước hiện đang có giá: 189.000 VNĐ (Giá gốc: 290.-<br>",
           "query_knowledge_base",
           "url",
           "action_query_babe_kb"
          ],
          [
           "url",
           "Bạn đang tìm kiếm thông tin gì ạ?",
           "send_link",
           "url",
           "action_handle_send_link_only"
          ],
          [
           "url",
           "Sản phẩm COMBO HOLLA FULL PHIÊN BẢN 2020 MẪU VƯƠNG-<br>  MIỆN đang có giá 4.100.000 VNĐ (Giá gốc: 5.000.00-<br>",
           "query_knowledge_base",
           "url",
           "action_query_babe_kb"
          ],
          [
           "ok shop",
           "Vâng ạ!",
           "agree",
           null,
           "utter_agree"
          ],
          [
           "url",
           "Dạ, có phải bạn muốn hỏi một trong các sản phẩm dư-<br> ới đây không ạ?\n (Vui lòng ấn chọn 1 sản phẩm)\n\n<s-<br>",
           "query_knowledge_base",
           "url",
           "action_query_babe_kb"
          ],
          [
           "url",
           "Dạ, có phải bạn muốn hỏi một trong các sản phẩm dư-<br>",
           "query_knowledge_base",
           "url",
           "action_query_babe_kb"
          ],
          [
           "/query_knowledge_base{\"url\": \"https://shopee.vn/pr-<br> oduct/36371562/5307497099\", \"product_id\": \"https:/-<br>",
           "Sản phẩm GHẾ NHẢY JUMPEROO KONIG KIDS CHÍNH HÃNG h-<br> iện có giá 1.190.000 VNĐ (Giá gốc: 1.900.000 VNĐ).-<br> \nMời bạn tham khảo sản phẩm tại đường link:\n<show -<br>",
           "query_knowledge_base",
           "['url:https://shopee.vn/product/36371562/3210697307', 'product_id:https://shopee.vn/product/36371562/3210697307']",
           "action_query_babe_kb"
          ],
          [
           "url",
           "Sản phẩm GHẾ NHẢY JUMPEROO KONIG KIDS CHÍNH HÃNG h-<br> iện có giá 1.190.000 VNĐ (Giá gốc: 1.900.000 VNĐ).-<br> \nMời bạn tham khảo sản phẩm tại đường link:\n<show -<br>",
           "query_knowledge_base",
           "url",
           "action_query_babe_kb"
          ],
          [
           "ok shop",
           "Dạ vâng ạ!",
           "agree",
           null,
           "utter_agree"
          ],
          [
           "url",
           null,
           "handover_to_inbox",
           "url",
           "action_handover_to_inbox"
          ],
          [
           "url",
           "Sản phẩm MÁY XAY HẤP ĐA NĂNG NUTRIBABY PLUS 5IN1 (-<br> Pháp) hiện có giá: 3.979.000 VNĐ (Giá gốc: 4.890.0-<br>",
           "query_knowledge_base",
           "url",
           "action_query_babe_kb"
          ],
          [
           "ok shop",
           "Dạ vâng ạ!",
           "agree",
           null,
           "utter_agree"
          ],
          [
           "Chào shop",
           "Chào bạn, mình là trợ lý ảo của Shop Gấu & Bí Ngô,-<br>",
           "greet",
           null,
           "utter_greet"
          ],
          [
           "url",
           "\"Sản phẩm  COMBO HOLLA LIÊN HOÀN 2020 có giá 4.100-<br>",
           "query_knowledge_base",
           "url",
           "action_query_babe_kb"
          ],
          [
           "Chào shop",
           "Chào bạn, mình là trợ lý ảo của Shop Gấu & Bí Ngô,-<br>",
           "greet",
           null,
           "utter_greet"
          ],
          [
           "url",
           "Sản phẩm  COMBO HOLLA LIÊN HOÀN 2020 có giá 4.100.-<br>",
           "query_knowledge_base",
           "url",
           "action_query_babe_kb"
          ],
          [
           "có những màu gì shop nhỉ?",
           "Sản phẩm COMBO HOLLA LIÊN HOÀN 2020 có màu: Xanh, -<br>",
           null,
           null,
           null
          ],
          [
           "ok, thank shop nhé",
           "Shop cảm ơn bạn ạ.",
           "thank",
           null,
           "utter_thank"
          ],
          [
           "mình muốn mua máy tiệt trùng uv\ntư vấn mình với",
           "\"Hiện tại sản phẩm Máy tiệt trùng  shop đang có nh-<br>",
           "query_knowledge_base",
           "[]",
           "action_query_babe_kb"
          ],
          [
           "Ok m đặt trên shopee nha",
           "Dạ vâng ạ!",
           "just_inform",
           null,
           null
          ],
          [
           "Shop ship cho minh ve dịa chi nay cái nhé 04 dường-<br>  hạc thành. Phường tân sơn. Thành phố thanh hóa 09-<br>",
           null,
           "handover_to_inbox",
           "[]",
           "action_handover_to_inbox"
          ],
          [
           "Vâng ạ. Phí ship SG khoảng bao nhiêu ạ",
           "Shop Gấu và Bí ngô sẵn sàng phục vụ, gửi hàng trên-<br>  toàn quốc. Chi tiết chính sách giao hàng bạn xem -<br>",
           "ask_ship",
           "['attribute:price']",
           "utter_ask_ship"
          ],
          [
           "url",
           "Bạn đang tìm kiếm thông tin gì ạ?",
           "send_link",
           "url",
           "action_handle_send_link_only"
          ],
          [
           "E bị mất khóa ở bộ phận này\nBên mình có bán lẻ k ạ",
           null,
           "handover_to_inbox",
           "['mention:bộ phận này']",
           "action_handover_to_inbox"
          ],
          [
           "url",
           "Sản phẩm Xe đẩy 2 chiều cao cấp VOVO 2019 đang có -<br> giá: 1.620.000 VNĐ (Giá gốc: 2.500.000 VNĐ).\nMời b-<br>",
           "query_knowledge_base",
           "url",
           "action_query_babe_kb"
          ],
          [
           "Xe đẩy này đang giảm giá phải k",
           "Sản phẩm Xe đẩy 2 chiều cao cấp VOVO 2019 đang có -<br>",
           "query_knowledge_base",
           "['object_type:xe_day', 'attribute:promotion']",
           "action_query_babe_kb"
          ],
          [
           "url",
           "Sản phẩm Xe đẩy 2 chiều cao cấp VOVO 2019 đang có -<br> giá: 1.620.000 VNĐ (Giá gốc: 2.500.000 VNĐ).\nMời b-<br> ạn xem chi tiết sản phẩm tại link:\n<Show card>\n\nSả-<br> n phẩm Thanh đồ chơi treo nôi, cũi, xe đẩy, ghế ng-<br> ồi ô tô hình chim có nhạc Infantino (Mỹ) đang có g-<br> iá: 279.000 VNĐ (Giá gốc: 399.000 VNĐ).\nSản phẩm X-<br> e đẩy 2 chiều cao cấp VOVO 2019 đang có giá: 1.620-<br> .000 VNĐ (Giá gốc: 2.500.000 VNĐ).\r\nMời bạn xem ch-<br>",
           "query_knowledge_base",
           "url",
           "action_query_babe_kb"
          ],
          [
           "Xe đẩy này đang giảm giá phải k",
           "Sản phẩm Xe đẩy 2 chiều cao cấp VOVO 2019 đang có -<br>",
           "query_knowledge_base",
           "['object_type:xe_day', 'attribute:promotion']",
           "action_query_babe_kb"
          ],
          [
           "url",
           "Bạn đang tìm kiếm thông tin gì ạ?",
           "send_link",
           "url",
           "action_handle_send_link_only"
          ],
          [
           "Mình có cầu trượt này của hola k c",
           "Sản phẩm Cầu trượt xích đu Hola hải cẩu 2020 đang -<br> có giá: 1.990.000 VNĐ (Giá gốc: 3.250.000 VNĐ).\nMờ-<br>",
           "query_knowledge_base",
           "['object_type:cau_truot', 'mention:này', 'brand:hola']",
           "action_query_babe_kb"
          ],
          [
           "url",
           "Bạn đang tìm kiếm thông tin gì ạ?",
           "send_link",
           "url",
           "action_handle_send_link_only"
          ],
          [
           "Mình có cầu trượt này của hola k c",
           "Sản phẩm Cầu trượt xích đu Hola hải cẩu 2020 shop -<br> đang tạm hết hàng. Bạn tham khảo các sản phẩm Cầu -<br>",
           "query_knowledge_base",
           "['object_type:cau_truot', 'mention:này', 'brand:hola']",
           "action_query_babe_kb"
          ],
          [
           "Khi nào có hàng lại ạ",
           null,
           "handover_to_inbox",
           "[]",
           "action_handover_to_inbox"
          ],
          [
           "Bạn ơi",
           "Chào bạn, mình là trợ lý ảo của Shop Gấu & Bí Ngô,-<br>",
           "greet",
           "[]",
           "utter_greet"
          ],
          [
           "Tiki giao hàng chậm quá mình hủy đơn rồi",
           null,
           "handover_to_inbox",
           "[]",
           "action_handover_to_inbox"
          ],
          [
           "url",
           "Dạ, có phải bạn muốn hỏi một trong các sản phẩm dư-<br>",
           "query_knowledge_base",
           "url",
           "action_query_babe_kb"
          ],
          [
           "/query_knowledge_base{\"url\": \"https://shopee.vn/pr-<br> oduct/36371562/3220636191\", \"product_id\": \"https:/-<br>",
           "Sản phẩm  Bộ đồ chơi đàn Piano kết hợp 10 nhạc cụ -<br> BKIDS 003398  hiện shop đang có giá: *880,000 VND -<br> (giá gốc 1,200,000 VND)*.\nBạn tham khảo các sản ph-<br>",
           "query_knowledge_base",
           "['url:https://shopee.vn/product/36371562/3220636191', 'product_id:https://shopee.vn/product/36371562/3220636191']",
           "action_query_babe_kb"
          ],
          [
           "url",
           "Sản phẩm  Bộ đồ chơi đàn Piano kết hợp 10 nhạc cụ -<br> BKIDS 003398  hiện shop đang có giá: *880,000 VND -<br> (giá gốc 1,200,000 VND)*.\nBạn tham khảo các sản ph-<br>",
           "query_knowledge_base",
           "url",
           "action_query_babe_kb"
          ],
          [
           "Còn xe màu xanh k bạn?",
           "Sản phẩm bạn đang tìm có phải là?",
           "query_knowledge_base",
           "['color:màu xanh','object_type:xe']",
           "action_query_babe_kb"
          ],
          [
           "url",
           "Dạ, có phải bạn muốn hỏi một trong các sản phẩm dư-<br>",
           "send_link",
           "url",
           "action_handle_send_link_only"
          ],
          [
           "/disagree{\"object_type\": null}",
           "Bạn vui lòng mô tả rõ mong muốn của bạn hoặc chat -<br>",
           "disagree",
           "['object_type:None']",
           "utter_disagree"
          ],
          [
           "Mình gửi ảnh ở trên bạn ơi\nXem tin nhắn đi",
           null,
           "handover_to_inbox",
           "['attribute:image']",
           "action_handover_to_inbox"
          ],
          [
           "Còn xe màu xanh k bạn?",
           "Sản phẩm bạn đang tìm có phải là?",
           "query_knowledge_base",
           "['color:màu xanh','object_type:xe']",
           "action_query_babe_kb"
          ],
          [
           "url",
           "Dạ, có phải bạn muốn hỏi một trong các sản phẩm dư-<br>",
           "send_link",
           "url",
           "action_handle_send_link_only"
          ],
          [
           "/query_knowledge_base{\"url\": \"https://www.facebook-<br> .com/shopgauvabingo/posts/2445777899065867\", \"prod-<br> uct_id\": \"https://www.facebook.com/shopgauvabingo/-<br>",
           "Sản phẩm Xe chòi chân kiêm xe lắc cao cấp có nhạc -<br> Holla hiện shop đang có giá: *790,000 VND (giá gốc-<br>  1,200,000 VND)*.\nBạn tham khảo các sản phẩm sau n-<br>",
           "query_knowledge_base",
           null,
           "action_query_babe_kb"
          ],
          [
           "thank shop",
           "Dạ, cảm ơn bạn!",
           "thank",
           null,
           "utter_thank"
          ],
          [
           "Còn xe màu xanh k bạn?",
           "Sản phẩm bạn đang tìm có phải là?",
           "query_knowledge_base",
           "['color:màu xanh','object_type:xe']",
           "action_query_babe_kb"
          ],
          [
           "url",
           "Sản phẩm Xe chòi chân kiêm xe lắc cao cấp có nhạc -<br> Holla hiện shop đang có giá: *790,000 VND (giá gốc-<br>  1,200,000 VND)*.\nBạn tham khảo các sản phẩm sau n-<br>",
           "send_link",
           "url",
           "action_handle_send_link_only"
          ],
          [
           "thank shop",
           "Dạ, cảm ơn bạn!",
           "thank",
           null,
           "utter_thank"
          ],
          [
           "Còn xe màu xanh k bạn?",
           "Sản phẩm bạn đang tìm có phải là?",
           "query_knowledge_base",
           "['color:màu xanh','object_type:xe']",
           "action_query_babe_kb"
          ],
          [
           "url",
           "Sản phẩm Xe chòi chân kiêm xe lắc cao cấp có nhạc -<br> Holla hiện shop còn hàng và đang có giá: *790,000 -<br> VND (giá gốc 1,200,000 VND)*.\r\nBạn tham khảo các s-<br>",
           "send_link",
           "url",
           "action_handle_send_link_only"
          ],
          [
           "thank shop",
           "Dạ, cảm ơn bạn!",
           "thank",
           null,
           "utter_thank"
          ],
          [
           "Còn xe màu xanh k bạn?",
           "Sản phẩm bạn đang tìm có phải là?",
           "query_knowledge_base",
           "['color:màu xanh','object_type:xe']",
           "action_query_babe_kb"
          ],
          [
           "url",
           "Sản phẩm Xe chòi chân kiêm xe lắc cao cấp có nhạc -<br> Holla hiện shop hết hàng ạ\nBạn tham khảo các sản p-<br>",
           "send_link",
           "url",
           "action_handle_send_link_only"
          ],
          [
           "thank shop",
           "Dạ, cảm ơn bạn!",
           "thank",
           null,
           "utter_thank"
          ],
          [
           "url",
           "Sản phẩm Xe chòi chân kiêm xe lắc cao cấp có nhạc -<br> Holla hiện shop đang có giá: *790,000 VND (giá gốc-<br>  1,200,000 VND)*.\nBạn tham khảo các sản phẩm sau n-<br>",
           "query_knowledge_base",
           "url",
           "action_query_babe_kb"
          ],
          [
           "url",
           "Bạn đang tìm kiếm thông tin gì ạ?",
           "send_link",
           "url",
           "action_query_babe_kb"
          ],
          [
           "xe này bao nhiêu ạ",
           "Sản phẩm Xe NADLE 3 in 1: Xe đẩy - Chòi chân - Xe -<br> đạp hiện shop đang có giá: *1,550,000 VND (giá gốc-<br>  2,650,000 VND)*.\nBạn tham khảo các sản phẩm sau n-<br>",
           "query_knowledge_base",
           "['attribute:price','object_type:xe','mention:này']",
           "action_query_babe_kb"
          ],
          [
           "ok shop",
           "Dạ,vâng",
           "agree",
           null,
           "utter_agree"
          ],
          [
           "url",
           "Sản phẩm Xe chòi chân kiêm xe lắc cao cấp có nhạc -<br> Holla hiện shop đang có giá: *790,000 VND (giá gốc-<br>  1,200,000 VND)*.\nBạn tham khảo các sản phẩm sau n-<br>",
           "query_knowledge_base",
           "url",
           "action_query_babe_kb"
          ],
          [
           "url",
           "Sản phẩm Xe NADLE 3 in 1: Xe đẩy - Chòi chân - Xe -<br> đạp hiện shop đang có giá: *1,550,000 VND (giá gốc-<br>  2,650,000 VND)*.\r\nBạn tham khảo các sản phẩm sau -<br>",
           "send_link",
           "url",
           "action_query_babe_kb"
          ],
          [
           "ok shop",
           "Dạ,vâng",
           "agree",
           null,
           "utter_agree"
          ],
          [
           "url",
           "Dạ, có phải bạn muốn hỏi một trong các sản phẩm dư-<br>",
           "query_knowledge_base",
           "url",
           "action_query_babe_kb"
          ],
          [
           "/disagree{\"object_type\": null}",
           "Bạn vui lòng mô tả rõ mong muốn của bạn hoặc chat -<br>",
           "disagree",
           "['object_type:None']",
           "utter_disagree"
          ],
          [
           "/connect_employee",
           null,
           "connect_employee",
           null,
           "action_handover_to_inbox"
          ],
          [
           "url",
           "Sản phẩm Xe chòi chân kiêm xe lắc cao cấp có nhạc -<br> Holla hiện shop đang có giá: *790,000 VND (giá gốc-<br>  1,200,000 VND)*.\nBạn tham khảo các sản phẩm sau n-<br>",
           "query_knowledge_base",
           "url",
           "action_query_babe_kb"
          ],
          [
           "xe lắc Holla có trên shopee chưa bạn",
           "Dạ mời bạn tham khảo sản phẩm Xe chòi chân kiêm xe-<br>",
           "query_knowledge_base",
           "['object_type:xe', 'attribute:link','brand:Holla']",
           "action_query_babe_kb"
          ],
          [
           "url",
           "Dạ, có phải bạn muốn hỏi một trong các sản phẩm dư-<br>",
           "query_knowledge_base",
           "url",
           "action_query_babe_kb"
          ],
          [
           "/query_knowledge_base{\"url\": \"https://www.facebook-<br> .com/shopgauvabingo/posts/2445777899065867\", \"prod-<br> uct_id\": \"https://www.facebook.com/shopgauvabingo/-<br>",
           "Sản phẩm Xe chòi chân kiêm xe lắc cao cấp có nhạc -<br> Holla hiện shop đang có giá: *790,000 VND (giá gốc-<br>  1,200,000 VND)*.\nBạn tham khảo các sản phẩm sau n-<br>",
           "query_knowledge_base",
           null,
           "action_query_babe_kb"
          ],
          [
           "url",
           "Sản phẩm  Cầu trượt xích đu Hola hải cẩu 2020  hiệ-<br> n shop đang có giá: *1,982,500 VND (giá gốc 3,250,-<br>",
           "send_link",
           "url",
           "action_handle_send_link_only"
          ],
          [
           "url",
           "Sản phẩm Xe chòi chân kiêm xe lắc cao cấp có nhạc -<br> Holla hiện shop đang có giá: *790,000 VND (giá gốc-<br>  1,200,000 VND)*.\nBạn tham khảo các sản phẩm sau n-<br>",
           "query_knowledge_base",
           "url",
           "action_query_babe_kb"
          ],
          [
           "url",
           "Sản phẩm  Cầu trượt xích đu Hola hải cẩu 2020  hiệ-<br> n shop đang có giá: *1,982,500 VND (giá gốc 3,250,-<br>",
           "send_link",
           "url",
           "action_handle_send_link_only"
          ],
          [
           "ok shop",
           "Dạ,vâng",
           "agree",
           null,
           "utter_agree"
          ],
          [
           "url",
           "Dạ, có phải bạn muốn hỏi một trong các sản phẩm dư-<br>",
           "query_knowledge_base",
           "url",
           "action_query_babe_kb"
          ],
          [
           "/disagree{\"object_type\": null}",
           "Bạn vui lòng mô tả rõ mong muốn của bạn hoặc chat -<br>",
           "disagree",
           "['object_type:None']",
           "utter_disagree"
          ],
          [
           "/connect_employee",
           null,
           "connect_employee",
           null,
           "action_handover_to_inbox"
          ],
          [
           "url",
           "Sản phẩm Xe chòi chân kiêm xe lắc cao cấp có nhạc -<br> Holla hiện shop đang có giá: *790,000 VND (giá gốc-<br>  1,200,000 VND)*.\nBạn tham khảo các sản phẩm sau n-<br>",
           "query_knowledge_base",
           "url",
           "action_query_babe_kb"
          ],
          [
           "Ok bạn thế để t xem lại rùi báo nha",
           "Dạ,vâng",
           "end_conversation",
           null,
           "action_end_conversation"
          ],
          [
           "url",
           "Dạ, có phải bạn muốn hỏi một trong các sản phẩm dư-<br>",
           "query_knowledge_base",
           "url",
           "action_query_babe_kb"
          ],
          [
           "/query_knowledge_base{\"url\": \"https://www.facebook-<br> .com/shopgauvabingo/posts/2445777899065867\", \"prod-<br> uct_id\": \"https://www.facebook.com/shopgauvabingo/-<br>",
           "Sản phẩm Xe chòi chân kiêm xe lắc cao cấp có nhạc -<br> Holla hiện shop đang có giá: *790,000 VND (giá gốc-<br>  1,200,000 VND)*.\nBạn tham khảo các sản phẩm sau n-<br>",
           "query_knowledge_base",
           null,
           "action_query_babe_kb"
          ],
          [
           "bé 13m đã dùng đc chưa bạn nhỉ?",
           "Sản phẩm  Xe chòi chân kiêm xe lắc cao cấp có nhạc-<br>  Holla hiện shop đang có độ tuổi sử dụng: 0 - 36 t-<br>",
           "query_knowledge_base",
           "['age_of_use:13m']",
           "action_query_babe_kb"
          ],
          [
           "Ok bạn",
           "Dạ,vâng",
           "agree",
           null,
           "utter_agree"
          ],
          [
           "url",
           "Sản phẩm Xe chòi chân kiêm xe lắc cao cấp có nhạc -<br> Holla hiện shop đang có giá: *790,000 VND (giá gốc-<br>  1,200,000 VND)*.\nBạn tham khảo các sản phẩm sau n-<br>",
           "query_knowledge_base",
           "url",
           "action_query_babe_kb"
          ],
          [
           "có những màu gì sh",
           "Sản phẩm  Xe chòi chân kiêm xe lắc cao cấp có nhạc-<br>  Holla hiện shop đang có màu: Hồng, Xanh.\nBạn tham-<br>",
           "query_knowledge_base",
           "['attribute:color']",
           "action_query_babe_kb"
          ],
          [
           "Để mình tham khảo ",
           null,
           "handover_to_inbox",
           null,
           "action_handover_to_inbox"
          ],
          [
           "url",
           "Sản phẩm Xe chòi chân kiêm xe lắc cao cấp có nhạc -<br> Holla hiện shop đang có giá: *790,000 VND (giá gốc-<br>  1,200,000 VND)*.\nBạn tham khảo các sản phẩm sau n-<br>",
           "query_knowledge_base",
           "url",
           "action_query_babe_kb"
          ],
          [
           "có những màu gì sh",
           "Sản phẩm  Xe chòi chân kiêm xe lắc cao cấp có nhạc-<br>  Holla hiện shop đang có màu: Hồng, Xanh.\nBạn tham-<br>",
           "query_knowledge_base",
           "['attribute:color']",
           "action_query_babe_kb"
          ],
          [
           "Để mình tham khảo ",
           "Dạ, vâng ạ",
           "end_conversation",
           null,
           "action_end_conversation"
          ],
          [
           "url",
           "Dạ, có phải bạn muốn hỏi một trong các sản phẩm dư-<br>",
           "query_knowledge_base",
           "url",
           "action_query_babe_kb"
          ],
          [
           "/query_knowledge_base{\"url\": \"https://www.facebook-<br> .com/shopgauvabingo/posts/2445777899065867\", \"prod-<br> uct_id\": \"https://www.facebook.com/shopgauvabingo/-<br>",
           "Sản phẩm Xe chòi chân kiêm xe lắc cao cấp có nhạc -<br> Holla hiện shop đang có giá: *790,000 VND (giá gốc-<br>  1,200,000 VND)*.\nBạn tham khảo các sản phẩm sau n-<br>",
           "query_knowledge_base",
           null,
           "action_query_babe_kb"
          ],
          [
           "Ok bạn",
           "Dạ,vâng",
           "agree",
           null,
           "utter_agree"
          ],
          [
           "url",
           "Sản phẩm Xe chòi chân kiêm xe lắc cao cấp có nhạc -<br> Holla hiện shop đang có giá: *790,000 VND (giá gốc-<br>  1,200,000 VND)*.\nBạn tham khảo các sản phẩm sau n-<br>",
           "query_knowledge_base",
           "url",
           "action_query_babe_kb"
          ],
          [
           "thank shop",
           "Dạ, cảm ơn bạn!",
           "thank",
           null,
           "utter_thank"
          ],
          [
           "hi shop",
           "Chào bạn, mình là trợ lý ảo của Shop Gấu & Bí Ngô,-<br>",
           "greet",
           null,
           "utter_greet"
          ],
          [
           "url",
           "Bạn đang tìm kiếm thông tin gì ạ?",
           "query_knowledge_base",
           "url",
           "action_query_babe_kb"
          ],
          [
           "Xe đẩy loại này còn k shop",
           "Sản phẩm Xe đẩy siêu nhẹ Umoo hiện shop đang có gi-<br> á: *749,000 VND (giá gốc 1,200,000 VND)*.\nBạn tham-<br>",
           "query_knowledge_base",
           "['object_type:xe_day', 'mention:loại này']",
           "action_query_babe_kb"
          ],
          [
           "Ok bạn",
           "Dạ,vâng",
           "agree",
           null,
           "utter_agree"
          ],
          [
           "hi shop",
           "Chào bạn, mình là trợ lý ảo của Shop Gấu & Bí Ngô,-<br>",
           "greet",
           null,
           "utter_greet"
          ],
          [
           "url",
           "Bạn đang tìm kiếm thông tin gì ạ?",
           "query_knowledge_base",
           "url",
           "action_query_babe_kb"
          ],
          [
           "Xe đẩy loại này còn k shop",
           "Sản phẩm Xe đẩy siêu nhẹ Umoo hiện shop đang hết h-<br>",
           "query_knowledge_base",
           "['object_type:xe_day', 'mention:loại này']",
           "action_query_babe_kb"
          ],
          [
           "Ok bạn",
           "Dạ,vâng",
           "agree",
           null,
           "utter_agree"
          ],
          [
           "url",
           "Dạ, có phải bạn muốn hỏi một trong các sản phẩm dư-<br> ới đây không ạ?\r\n (Vui lòng ấn chọn 1 sản phẩm)...-<br>",
           "query_knowledge_base",
           "url",
           "action_query_babe_kb"
          ],
          [
           "/disagree{\"object_type\": null}",
           "Bạn vui lòng mô tả rõ mong muốn của bạn hoặc chat -<br>",
           "disagree",
           "['object_type:None']",
           "utter_disagree"
          ],
          [
           "/connect_employee",
           null,
           "connect_employee",
           "[]",
           "action_handover_to_inbox"
          ],
          [
           "url",
           "Sản phẩm bạn đang tìm có phải là?",
           "query_knowledge_base",
           "url",
           "action_query_babe_kb"
          ],
          [
           "/disagree{\"object_type\": null}",
           "Bạn vui lòng mô tả rõ mong muốn của bạn hoặc chat -<br>",
           "disagree",
           "['object_type:None']",
           "utter_disagree"
          ],
          [
           "/connect_employee",
           null,
           "connect_employee",
           "[]",
           "action_handover_to_inbox"
          ],
          [
           "url",
           "Sản phẩm Bộ bảo vệ 7 món hiện shop đang có giá: *7-<br> 49,000 VND (giá gốc 1,200,000 VND)*.\nBạn tham khảo-<br>",
           "query_knowledge_base",
           "url",
           "action_query_babe_kb"
          ],
          [
           "để mình xem có gì minh báo",
           null,
           "handover_to_inbox",
           null,
           "action_handover_to_inbox"
          ],
          [
           "url",
           "Bạn đang tìm kiếm thông tin gì ạ?",
           "send_link",
           "url",
           "action_handle_send_link_only"
          ],
          [
           "Bạn ơi giường đệm đi kèm giá như nào",
           "Sản phẩm bạn đang tìm có phải là?",
           "query_knowledge_base",
           "['object_type:giuong', 'attribute:price']",
           "action_query_babe_kb"
          ],
          [
           "/disagree{\"object_type\": null}",
           "Bạn vui lòng mô tả rõ mong muốn của bạn hoặc chat -<br>",
           "disagree",
           "['object_type:None']",
           "utter_disagree"
          ],
          [
           "/connect_employee",
           null,
           "connect_employee",
           "[]",
           "action_handover_to_inbox"
          ],
          [
           "url",
           "Bạn đang tìm kiếm thông tin gì ạ?",
           "send_link",
           "url",
           "action_handle_send_link_only"
          ],
          [
           "Bạn ơi giường đệm đi kèm giá như nào",
           "Dạ, có phải bạn muốn hỏi một trong các sản phẩm dư-<br> ới đây không ạ?\r\n (Vui lòng ấn chọn 1 sản phẩm)...-<br>",
           "query_knowledge_base",
           "['object_type:giuong', 'attribute:price']",
           "action_query_babe_kb"
          ],
          [
           "/query_knowledge_base{\"url\": \"https://www.facebook-<br> .com/shopgauvabingo/posts/2445681652408825\", \"prod-<br> uct_id\": \"https://www.facebook.com/shopgauvabingo/-<br>",
           "Sản phẩm Giường nhựa Holla hiện shop đang có giá: -<br> *749,000 VND (giá gốc 1,200,000 VND)*.\nBạn tham kh-<br>",
           "query_knowledge_base",
           null,
           "action_query_babe_kb"
          ],
          [
           "Ok shop",
           "Dạ,vâng",
           "agree",
           null,
           "utter_agree"
          ],
          [
           "url",
           "Bạn đang tìm kiếm thông tin gì ạ?",
           "send_link",
           "url",
           "action_handle_send_link_only"
          ],
          [
           "Bạn ơi giường đệm đi kèm giá như nào",
           "Sản phẩm Giường nhựa Holla hiện shop đang có giá: -<br> *749,000 VND (giá gốc 1,200,000 VND)*.\r\nBạn tham k-<br>",
           "query_knowledge_base",
           "['object_type:giuong', 'attribute:price']",
           "action_query_babe_kb"
          ],
          [
           "thank shop",
           "Dạ, vâng ạ!",
           "thank",
           null,
           "utter_thank"
          ],
          [
           "alo shop",
           "Chào bạn, mình là trợ lý ảo của Shop Gấu & Bí Ngô,-<br>",
           "greet",
           null,
           "utter_greet"
          ],
          [
           "Shop có xe scooter ko ạ?",
           "Sản phẩm bạn đang tìm có phải là?",
           "query_knowledge_base",
           "['object_type:xe','brand:scooter']",
           "action_query_babe_kb"
          ],
          [
           "/deny_object_type{\"object_type\": null}",
           "Bạn vui lòng mô tả rõ mong muốn của bạn hoặc chat -<br>",
           "deny_object_type",
           "['object_type:None']",
           "utter_disagree"
          ],
          [
           "/connect_employee",
           null,
           "connect_employee",
           "[]",
           "action_handover_to_inbox"
          ],
          [
           "alo shop",
           "Chào bạn, mình là trợ lý ảo của Shop Gấu & Bí Ngô,-<br>",
           "greet",
           null,
           "utter_greet"
          ],
          [
           "Shop có xe scooter ko ạ?",
           "Hiện tại sản phẩm xe scooter  shop đang có những g-<br>",
           "query_knowledge_base",
           "['object_type:xe_scooter']",
           "action_query_babe_kb"
          ],
          [
           "/confirm_attribute_value{\"price\": \"500-1M\"}",
           "Hiện tại sản phẩm xe scooter giá 500 - 1m shop đan-<br>",
           "query_knowledge_base",
           null,
           "action_query_babe_kb"
          ],
          [
           "/confirm_attribute_value{\"brand\": \"Vinng\"}",
           "Dạ mời bạn tham khảo sản phẩm hiện có tại shop nhé-<br>",
           "query_knowledge_base",
           null,
           "action_query_babe_kb"
          ],
          [
           "Bạn ơi bên bạn hiện còn những loại cầu trượt nào n-<br>",
           "Sản phẩm  Cầu trượt xích đu Hola hải cẩu 2020  hiệ-<br> n shop đang có giá: *1,982,500 VND (giá gốc 3,250,-<br>",
           "query_knowledge_base",
           "['object_type:cau_truot']",
           "action_query_babe_kb"
          ],
          [
           "ok shop",
           "Dạ,vâng",
           "agree",
           null,
           "utter_agree"
          ],
          [
           "Bạn ơi bên bạn hiện còn những loại cầu trượt nào n-<br>",
           "Hiện tại sản phẩm cầu trượt  shop đang có những gi-<br>",
           "query_knowledge_base",
           "['object_type:cau_truot']",
           "action_query_babe_kb"
          ],
          [
           "/confirm_attribute_value{\"price\": \"1M-2M\"}",
           "Dạ mời bạn tham khảo sản phẩm hiện có tại shop nhé-<br>",
           "query_knowledge_base",
           null,
           "action_query_babe_kb"
          ],
          [
           "Có cái nào rẻ hơn k bạn\r\nCầu trượt riêng thôi",
           null,
           "handover_to_inbox",
           "['object_type:cau_truot']",
           "action_handover_to_inbox"
          ],
          [
           "Bạn ơi bên bạn hiện còn những loại cầu trượt nào n-<br>",
           "Sản phẩm  Cầu trượt xích đu Hola hải cẩu 2020  hiệ-<br> n shop đang có giá: *1,982,500 VND (giá gốc 3,250,-<br>",
           "query_knowledge_base",
           "['object_type:cau_truot']",
           "action_query_babe_kb"
          ],
          [
           "Có cái nào rẻ hơn k bạn\r\nCầu trượt riêng thôi",
           "Sản phẩm  Cầu trượt có giá thấp hơn: *1,982,500 VN-<br> D (giá gốc 3,250,000 VND)* shop có một số sản phẩm-<br>",
           "query_knowledge_base",
           "['object_type:cau_truot']",
           "action_query_babe_kb"
          ],
          [
           "Bạn ơi bên bạn hiện còn những loại cầu trượt nào n-<br>",
           "Sản phẩm  Cầu trượt xích đu Hola hải cẩu 2020  hiệ-<br> n shop đang có giá: *1,982,500 VND (giá gốc 3,250,-<br>",
           "query_knowledge_base",
           "['object_type:cau_truot']",
           "action_query_babe_kb"
          ],
          [
           "Có cái nào rẻ hơn k bạn\r\nCầu trượt riêng thôi",
           "Sản phẩm  Cầu trượt có giá thấp hơn: *1,982,500 VN-<br> D (giá gốc 3,250,000 VND)* shop hiện không có.\nBạn-<br>",
           "query_knowledge_base",
           "['object_type:cau_truot']",
           "action_query_babe_kb"
          ],
          [
           null,
           "Bạn đã tìm đc sản phẩm ưng ý chưa ạ ,có cần trợ lý-<br>",
           "reminder",
           null,
           "action_reminder"
          ],
          [
           "Cho m stk tối nhận hàng m ck nhé",
           "Dạ mình gửi bạn thông tin tài khoản của shop ạ:\nTh-<br> ông tin chuyển khoản: \n• 0611001928974 - VietcomBa-<br> nk chi nhánh Ba Đình. Nguyễn Lê Thuỷ\n• 15002167568-<br> 61 - Agribank chi nhánh Hà Nội - Nguyễn Lê Thủy\n• -<br> 19022876983383 - Techcombank chi nhánh Hà Nội. Ngu-<br> yễn Tuấn Quang! \nNội dung chuyển khoản bạn ghi rõ -<br> Tên Facebook + số điện thoại và nhắn lại bên mình -<br>",
           "ask_account",
           null,
           "action_ask_account"
          ],
          [
           "ok shop",
           null,
           "agree",
           null,
           "utter_agree"
          ],
          [
           "url",
           "Bạn đang tìm kiếm thông tin gì ạ?",
           "send_link",
           "url",
           "action_handle_send_link_only"
          ],
          [
           "Bạn ơi bạn có cầu trượt này k?",
           "Dạ, có phải bạn muốn hỏi một trong các sản phẩm dư-<br>",
           "query_knowledge_base",
           "['object_type:cau_truot', 'mention:này']",
           "action_query_babe_kb"
          ],
          [
           "/disagree{\"object_type\": null}",
           "Bạn vui lòng mô tả rõ mong muốn của bạn hoặc chat -<br>",
           "disagree",
           null,
           "utter_disagree"
          ],
          [
           "/connect_employee",
           null,
           "connect_employee",
           "[]",
           "action_handover_to_inbox"
          ],
          [
           "url",
           "Bạn đang tìm kiếm thông tin gì ạ?",
           "send_link",
           "url",
           "action_handle_send_link_only"
          ],
          [
           "Bạn ơi bạn có cầu trượt này k?",
           "Dạ, có phải bạn muốn hỏi một trong các sản phẩm dư-<br>",
           "query_knowledge_base",
           "['object_type:cau_truot', 'mention:này']",
           "action_query_babe_kb"
          ],
          [
           "Cái như mình gửi ảnh ấy",
           "Bạn vui lòng mô tả rõ mong muốn của bạn hoặc chat -<br>",
           "disagree",
           null,
           "utter_disagree"
          ],
          [
           null,
           "Bạn đã tìm đc sản phẩm ưng ý chưa ạ ,có cần trợ lý-<br>",
           "reminder",
           null,
           "action_reminder"
          ],
          [
           "C lấy bộ lego thỏ nhé\nNhắn c stk c ck",
           "Dạ mình gửi bạn thông tin tài khoản của shop ạ:\nTh-<br> ông tin chuyển khoản: \n• 0611001928974 - VietcomBa-<br> nk chi nhánh Ba Đình. Nguyễn Lê Thuỷ\n• 15002167568-<br> 61 - Agribank chi nhánh Hà Nội - Nguyễn Lê Thủy\n• -<br> 19022876983383 - Techcombank chi nhánh Hà Nội. Ngu-<br> yễn Tuấn Quang! \nNội dung chuyển khoản bạn ghi rõ -<br> Tên Facebook + số điện thoại và nhắn lại bên mình -<br>",
           "ask_account",
           null,
           "action_ask_account"
          ],
          [
           "Ship về 28 ngõ 48 ngô gia tự, long biên 0989067795",
           "\"Cảm ơn bạn! Bạn vui lòng kiểm tra lại thông tin đ-<br> ặt hàng giúp shop nhé!\r\n<Show ra cái bảng mẫu đặt -<br> hàng: có tên sản phẩm, cho khách tùy chọn số lượng-<br>",
           "order",
           "[]",
           "action_order"
          ],
          [
           "<xác nhận>",
           "Bạn đã đặt hàng thành công , đơn hàng sẽ đc giao đ-<br> ến 28 ngõ 48 ngô gia tự, long biên trong khoảng 24-<br>",
           "confirm_order",
           null,
           "action_confirm_order"
          ],
          [
           "alo shop",
           "Chào bạn, mình là trợ lý ảo của Shop Gấu & Bí Ngô,-<br>",
           "greet",
           null,
           "utter_greet"
          ],
          [
           "url",
           "Sản phẩm  Ghế đa năng Mastela Premium 1016  hiện s-<br> hop đang có giá: *1,590,000 VND (giá gốc 2,000,000-<br>",
           "query_knowledge_base",
           "url",
           "action_query_babe_kb"
          ],
          [
           "chiều nay ship được luôn cho mình được không",
           null,
           "handover_to_inbox",
           null,
           "action_handover_to_inbox"
          ],
          [
           "alo shop",
           "Chào bạn, mình là trợ lý ảo của Shop Gấu & Bí Ngô,-<br>",
           "greet",
           null,
           "utter_greet"
          ],
          [
           "url",
           "Sản phẩm  Ghế đa năng Mastela Premium 1016  hiện s-<br> hop đang có giá: *1,590,000 VND (giá gốc 2,000,000-<br>",
           "query_knowledge_base",
           "url",
           "action_query_babe_kb"
          ],
          [
           "chiều nay ship được luôn cho mình được không",
           "Bạn cho shop xin địa chỉ nhận hàng ạ.",
           "time_ship",
           null,
           "action_time_ship"
          ],
          [
           "số 7 tràng thi",
           "Với địa chỉ số 7 tràng thi shop có thể ship hàng đ-<br>",
           "time_ship",
           null,
           "action_time_ship"
          ],
          [
           "url",
           "Dạ, có phải bạn muốn hỏi một trong các sản phẩm dư-<br>",
           "query_knowledge_base",
           "url",
           "action_query_babe_kb"
          ],
          [
           "/query_knowledge_base{\"url\": \"https://www.facebook-<br> .com/shopgauvabingo/posts/2435578706752453\", \"prod-<br> uct_id\": \"https://www.facebook.com/shopgauvabingo/-<br>",
           "Bộ đồ chơi nhà bếp thông minh hiện shop đang có gi-<br> á: 790000 VND (giá gốc 790000 VND). Bạn tham khảo -<br>",
           "query_knowledge_base",
           null,
           "action_query_babe_kb"
          ],
          [
           "oki shop",
           "Dạ, vâng ạ",
           "agree",
           null,
           "utter_agree"
          ],
          [
           "url",
           "Sản phẩm bạn đang tìm có phải là?",
           "query_knowledge_base",
           "url",
           "action_query_babe_kb"
          ],
          [
           "/confirm_object_type{\"object_type\": \"bo_do_choi\"}",
           "Bộ đồ chơi nhà bếp thông minh hiện shop đang có gi-<br> á: 790000 VND (giá gốc 790000 VND). Bạn tham khảo -<br>",
           "query_knowledge_base",
           null,
           "action_query_babe_kb"
          ],
          [
           "oki shop",
           "Dạ, vâng ạ",
           "agree",
           null,
           "utter_agree"
          ],
          [
           "url",
           "Bộ đồ chơi nhà bếp thông minh hiện shop đang có gi-<br> á: 790000 VND (giá gốc 790000 VND). Bạn tham khảo -<br>",
           "query_knowledge_base",
           "url",
           "action_query_babe_kb"
          ],
          [
           "có những kích thước gì ạ",
           "Sản phẩm  Bộ đồ chơi nhà bếp thông minh có kích th-<br> ước: 57x30x77cm và 51x32x100cm\nBạn tham khảo các s-<br>",
           "query_knowledge_base",
           "['attribute:size']",
           "action_query_babe_kb"
          ],
          [
           null,
           "Bạn đã tìm đc sản phẩm ưng ý chưa ạ ,có cần trợ lý-<br>",
           "reminder",
           null,
           "action_reminder"
          ],
          [
           "Thế còn loại nào nữa ko c\nXe chòi chân ý",
           "Sản phẩm  Xe Chòi Chân  hiện shop đang có giá: *58-<br> 0,000 VND (giá gốc 800,000 VND), 499,000 VND (giá -<br> gốc 800,000 VND), 699,000 VND (giá gốc 998,000 VND-<br> ), 448,400 VND (giá gốc 590,000 VND), 576,000 VND -<br> (giá gốc 800,000 VND)*.\nBạn tham khảo các sản phẩm-<br>",
           "query_knowledge_base",
           "['object_type:xe_choi_chan']",
           "action_query_babe_kb"
          ],
          [
           "thank sop",
           "dạ,vâng ạ",
           "thank",
           null,
           "utter_thank"
          ],
          [
           "Shop cho e stk agribank để e ck ạ",
           "Dạ mình gửi bạn thông tin tài khoản của shop ạ:\nTh-<br> ông tin chuyển khoản: \n• 0611001928974 - VietcomBa-<br> nk chi nhánh Ba Đình. Nguyễn Lê Thuỷ\n• 15002167568-<br> 61 - Agribank chi nhánh Hà Nội - Nguyễn Lê Thủy\n• -<br> 19022876983383 - Techcombank chi nhánh Hà Nội. Ngu-<br> yễn Tuấn Quang! \nNội dung chuyển khoản bạn ghi rõ -<br> Tên Facebook + số điện thoại và nhắn lại bên mình -<br>",
           "ask_account",
           null,
           "action_ask_account"
          ],
          [
           "Mình chuyển khoản rồi nhé ",
           null,
           "handover_to_inbox",
           null,
           "action_handover_to_inbox"
          ],
          [
           "Shop cho e stk agribank để e ck ạ",
           "Dạ mình gửi bạn thông tin tài khoản của shop ạ:\nTh-<br> ông tin chuyển khoản: \n• 0611001928974 - VietcomBa-<br> nk chi nhánh Ba Đình. Nguyễn Lê Thuỷ\n• 15002167568-<br> 61 - Agribank chi nhánh Hà Nội - Nguyễn Lê Thủy\n• -<br> 19022876983383 - Techcombank chi nhánh Hà Nội. Ngu-<br> yễn Tuấn Quang! \nNội dung chuyển khoản bạn ghi rõ -<br> Tên Facebook + số điện thoại và nhắn lại bên mình -<br>",
           "ask_account",
           null,
           "action_ask_account"
          ],
          [
           "url",
           "Cảm ơn bạn, nhân viên của shop sẽ xác nhận sớm lại-<br>",
           "confirm_transfer",
           null,
           "confirm_transfer"
          ],
          [
           "url",
           "Sản phẩm Xe chòi chân kiêm xe lắc cao cấp có nhạc -<br> Holla hiện shop đang có giá: *790,000 VND (giá gốc-<br>  1,200,000 VND)*.\nBạn tham khảo các sản phẩm sau n-<br>",
           "query_knowledge_base",
           "url",
           "action_query_babe_kb"
          ],
          [
           "ok shop",
           "Vâng ạ!",
           "agree",
           null,
           "utter_agree"
          ],
          [
           "Chào shop",
           "Chào bạn, mình là trợ lý ảo của Shop Gấu & Bí Ngô,-<br>",
           "greet",
           "[]",
           "utter_greet"
          ],
          [
           "Đồ eco còmybaby hết loại 6-9m hả chị",
           "Sản phẩm Eco Comfybaby độ tuổi sử dụng 6 - 9 tháng-<br>  hiện đang hết hàng. Mời bạn tham khảo các sản phẩ-<br>",
           "query_knowledge_base",
           "['object_type:quan_ao']['size:6-9m']",
           "action_query_babe_kb"
          ],
          [
           "ok shop",
           "Vâng ạ!",
           "agree",
           null,
           "utter_agree"
          ],
          [
           "url",
           "Sản phẩm  Xe tập đi đa năng cao cấp Holla hiện sho-<br> p đang có giá: *750,000 VND (giá gốc 1,200,000 VND-<br> )*.\nBạn tham khảo các sản phẩm sau nhé ạ:\n<show ca-<br>",
           "query_knowledge_base",
           "url",
           "action_query_babe_kb"
          ],
          [
           "ok shop",
           "Vâng ạ!",
           "agree",
           null,
           "utter_agree"
          ],
          [
           "Cho mình link shoppe",
           "Mình chưa xác định được món đồ bạn hỏi, bạn mô tả -<br>",
           "query_knowledge_base",
           "['attribute:link']",
           "action_query_babe_kb"
          ],
          [
           "Xe lắc đó b",
           "Dạ mời bạn xem sản phẩm tại đây ạ:\n<show card sp>",
           "query_knowledge_base",
           "['object_type: xe_tap_di','attribute:link']",
           "action_query_babe_kb"
          ]
         ],
         "hovertemplate": "x=%{x}<br>y=%{y}<br>short_input_texts=%{customdata[0]}<br>short_bot_texts=%{customdata[1]}<br>intent=%{customdata[2]}<br>short_entities=%{customdata[3]}<br>action_1=%{customdata[4]}<br>cluster=%{marker.color}<extra></extra>",
         "legendgroup": "",
         "marker": {
          "color": [
           5,
           4,
           1,
           3,
           0,
           1,
           4,
           0,
           4,
           0,
           3,
           3,
           0,
           3,
           4,
           0,
           3,
           5,
           0,
           3,
           1,
           5,
           1,
           4,
           2,
           4,
           1,
           3,
           4,
           3,
           3,
           1,
           0,
           3,
           5,
           1,
           4,
           0,
           5,
           1,
           0,
           3,
           5,
           2,
           0,
           3,
           1,
           2,
           0,
           3,
           1,
           0,
           3,
           4,
           4,
           5,
           4,
           4,
           2,
           1,
           5,
           4,
           4,
           4,
           1,
           4,
           5,
           3,
           0,
           3,
           1,
           0,
           3,
           3,
           0,
           0,
           3,
           1,
           5,
           3,
           1,
           3,
           5,
           3,
           4,
           5,
           1,
           5,
           5,
           0,
           3,
           4,
           1,
           4,
           2,
           4,
           1,
           2,
           0,
           4,
           2,
           4,
           1,
           4,
           3,
           1,
           5,
           1,
           4,
           4,
           2,
           3,
           4,
           2,
           5,
           4,
           1,
           5,
           4,
           2,
           5,
           3,
           3,
           0,
           1,
           2,
           5,
           4,
           2,
           5,
           5,
           4,
           2,
           1,
           1,
           0,
           5,
           4,
           4,
           2,
           0,
           5,
           1,
           1,
           2,
           1,
           1,
           5,
           1,
           4,
           0,
           3,
           1,
           2,
           5,
           5,
           4,
           2,
           5,
           5,
           5,
           4,
           4,
           3,
           5,
           2,
           5,
           4,
           4,
           3,
           2,
           0,
           3,
           2,
           0,
           5,
           2,
           5,
           5,
           2,
           5,
           4,
           2,
           5,
           5,
           1,
           2,
           0,
           3,
           4,
           4,
           2,
           0,
           4,
           2,
           0,
           3,
           2,
           5,
           4,
           2,
           0,
           1,
           4,
           2,
           0,
           1,
           5,
           1,
           2,
           4,
           1,
           2,
           0,
           5,
           4,
           2,
           0,
           5,
           3,
           4,
           2,
           0,
           3,
           1,
           2,
           0,
           3,
           4,
           4,
           4,
           2,
           0,
           5,
           4,
           2,
           0,
           3,
           5,
           2,
           0,
           3,
           5,
           1,
           2,
           5,
           3,
           1,
           1,
           4,
           3,
           5,
           5,
           1,
           1,
           5,
           1,
           1,
           1,
           2,
           3,
           2,
           3,
           4,
           2,
           1,
           1,
           5,
           4,
           0,
           5,
           0,
           3,
           1,
           5,
           3,
           1,
           5,
           2,
           0,
           5,
           1,
           4,
           0,
           3,
           2,
           5,
           3,
           2,
           0,
           3,
           2,
           0,
           3,
           4,
           4,
           1,
           1,
           4,
           3,
           1,
           1,
           4,
           3,
           4,
           4,
           4,
           2,
           3,
           4,
           4,
           4,
           3,
           4,
           1,
           4,
           1,
           5,
           5,
           4,
           0,
           3,
           5,
           5,
           1,
           1,
           4,
           2,
           5,
           1,
           1,
           1,
           4,
           1,
           1,
           4,
           1,
           1,
           4,
           5,
           5,
           4,
           2,
           1,
           1,
           4,
           1,
           5,
           4,
           4,
           5,
           4,
           4,
           3,
           5,
           3,
           2,
           0,
           5,
           1,
           4,
           3,
           4,
           2,
           0,
           1,
           2,
           3,
           0,
           5,
           4,
           0,
           0,
           1,
           1,
           5,
           5,
           0,
           5,
           1,
           1,
           4,
           2,
           0,
           3,
           1,
           1,
           4,
           4,
           1,
           2,
           0,
           5,
           0,
           3,
           1,
           3,
           3,
           1,
           3,
           2,
           5,
           4,
           2,
           5,
           4,
           1,
           5,
           2,
           5,
           2,
           1,
           3,
           5,
           5,
           4,
           4,
           1,
           3,
           4,
           4,
           3,
           4,
           1,
           2,
           5,
           5,
           0,
           5,
           4,
           2,
           4,
           4,
           4,
           3,
           5,
           4,
           1,
           4,
           4,
           5,
           5,
           5,
           4,
           5,
           3,
           1,
           5,
           4,
           5,
           1,
           1,
           1,
           1,
           2,
           1,
           2,
           1,
           4,
           2,
           5,
           1,
           0,
           3,
           0,
           3,
           0,
           3,
           2,
           1,
           2,
           5,
           4,
           1,
           0,
           1,
           4,
           5,
           5,
           1,
           1,
           4,
           4,
           4,
           4,
           2,
           1,
           2,
           1,
           3,
           4,
           1,
           4,
           4,
           4,
           0,
           1,
           5,
           3,
           5,
           3,
           0,
           3,
           0,
           3,
           3,
           2,
           4,
           3,
           5,
           5,
           3,
           5,
           4,
           4,
           3,
           5,
           3,
           4,
           3,
           3,
           4,
           3,
           3,
           4,
           3,
           3,
           4,
           3,
           0,
           3,
           4,
           3,
           3,
           4,
           5,
           4,
           4,
           3,
           5,
           5,
           3,
           5,
           3,
           5,
           4,
           5,
           4,
           4,
           3,
           4,
           5,
           3,
           3,
           4,
           3,
           3,
           1,
           3,
           3,
           1,
           5,
           3,
           4,
           3,
           4,
           2,
           0,
           3,
           4,
           2,
           0,
           3,
           4,
           5,
           4,
           4,
           5,
           4,
           4,
           5,
           3,
           0,
           5,
           4,
           4,
           0,
           5,
           5,
           4,
           0,
           5,
           4,
           2,
           3,
           4,
           4,
           2,
           3,
           3,
           3,
           3,
           4,
           3,
           3,
           1,
           3,
           3,
           3,
           3,
           1,
           4,
           4,
           0,
           3,
           1,
           4,
           0,
           3,
           4,
           1,
           4,
           4,
           4,
           2,
           5,
           4,
           2,
           5,
           4,
           4,
           5,
           5,
           4,
           5,
           5,
           4,
           5,
           3,
           1,
           5,
           4,
           4,
           1,
           4,
           4,
           5,
           4,
           2,
           1,
           4,
           5,
           4,
           4,
           5
          ],
          "coloraxis": "coloraxis",
          "symbol": "circle"
         },
         "mode": "markers",
         "name": "",
         "showlegend": false,
         "type": "scatter",
         "x": [
          -7.3522515,
          14.971329,
          1.2995957,
          -21.638037,
          -12.096392999999999,
          9.1149235,
          19.494253,
          -12.096414,
          12.769508,
          -11.639847,
          -20.836479999999998,
          -17.13949,
          -11.636751,
          -20.836485,
          17.129353,
          -10.36947,
          -21.3968,
          -4.8542476,
          -11.91012,
          -20.012323000000002,
          0.8713778,
          -4.632202599999999,
          6.197644,
          23.906734,
          1.0847316999999999,
          21.978174,
          9.286839500000001,
          -19.896486,
          16.493309,
          -20.533974,
          -12.6835985,
          6.534987999999999,
          -10.769573,
          -20.616896,
          -14.023511,
          -0.37459380000000003,
          24.206339,
          -7.285062,
          -10.065845,
          6.890851,
          -9.805352000000001,
          -20.76435,
          -7.698966,
          1.2318034,
          -9.4161215,
          -20.56256,
          4.693158599999999,
          1.6146606000000001,
          -6.3775373,
          -19.157589,
          5.1206646,
          -11.297442,
          -19.353970999999998,
          14.686794,
          14.882646,
          -8.530778,
          14.925896,
          29.749388,
          1.8361665,
          5.2921762,
          -10.488723,
          29.238498999999997,
          21.105968,
          22.331995000000003,
          6.400864,
          21.079222,
          -11.223347,
          -10.69603,
          -11.870994999999999,
          -23.463007,
          2.962277,
          -10.990089,
          -20.001827,
          -15.41929,
          -8.469536,
          -7.8820534,
          -22.234066000000002,
          7.7952924,
          -9.858153,
          -13.481273999999999,
          3.2527997,
          -20.057121,
          -11.258557000000001,
          -12.683598,
          18.544266,
          -7.3076553,
          6.846412,
          -11.405547,
          -11.342759,
          -8.199909,
          -19.403168,
          29.238498999999997,
          3.2511692,
          14.919076,
          1.6275444,
          13.164832999999998,
          5.876796,
          4.327992,
          -10.891599000000001,
          12.65601,
          4.327992,
          18.976143,
          5.586035,
          16.129717000000003,
          -24.218489,
          6.076683,
          -9.786027,
          3.8635788,
          21.3756,
          19.951414,
          1.22461,
          -15.803267499999999,
          22.434492000000002,
          6.4435606,
          -7.2453027,
          21.01509,
          8.101791,
          -6.871271000000001,
          22.596575,
          4.6391163,
          -4.25485,
          -13.634379999999998,
          -16.528961,
          -8.999993,
          12.417247,
          2.0281756,
          -6.626095299999999,
          24.473814,
          3.2097439999999997,
          -6.626095299999999,
          -10.157477,
          28.661657,
          1.7105122,
          12.635572,
          6.0075965,
          -9.479405,
          -6.491733,
          12.518334,
          28.281736,
          2.7164752,
          -14.141167999999999,
          -1.8778383,
          -0.26869497,
          8.557819,
          6.1071480000000005,
          3.153203,
          1.2262355,
          -10.933238000000001,
          8.952584,
          20.297825,
          -5.7880163,
          -23.667612,
          9.998954,
          6.8917418,
          -7.101159,
          -11.388228999999999,
          24.428993,
          6.4668074,
          -6.7672215,
          -11.388228999999999,
          -2.0191767,
          28.866821,
          18.227604,
          -23.78428,
          -5.928310400000001,
          3.0872292999999997,
          -9.965431,
          15.618170000000001,
          26.50532,
          -20.710903,
          6.58562,
          -10.409442,
          -17.516804,
          6.585239,
          -9.870265,
          -3.5443354,
          6.638775999999999,
          -5.482705,
          -2.7977762000000004,
          2.8559957000000002,
          -3.6138239999999997,
          30.176907,
          3.1753066000000003,
          -5.545296,
          -1.2161611,
          4.5483519999999995,
          2.4742937,
          -7.287753599999999,
          -16.854333999999998,
          15.097826999999999,
          23.90981,
          2.2878497,
          -8.700891,
          19.815292000000003,
          1.8357318999999999,
          -8.314592999999999,
          -20.603516,
          3.0872292999999997,
          -6.065715,
          29.382753000000005,
          3.0877776000000003,
          -11.163332,
          2.3005471,
          26.482296,
          1.7013637,
          -9.222591,
          9.948278,
          -12.5904255,
          6.0616894,
          0.9617402,
          18.511606,
          2.6673117000000004,
          1.5040909,
          -8.377744999999999,
          -1.9020860000000002,
          30.139608000000003,
          3.496059,
          -8.376741,
          -1.9021,
          -16.19211,
          23.808687,
          5.398541000000001,
          -12.965923,
          -17.491196,
          7.744258,
          0.90092546,
          -12.966289,
          -17.491196,
          14.185469,
          29.748371000000002,
          20.625853,
          3.6717712999999996,
          -10.579391000000001,
          -9.28196,
          16.17696,
          0.76415074,
          -14.961357999999999,
          -16.725794,
          -10.255044,
          2.2359127999999995,
          -14.961557999999998,
          -15.020148,
          -9.240182,
          9.998953,
          1.9162852,
          -2.7668288,
          -14.616417000000002,
          4.4786325,
          6.2384567,
          26.133509,
          -22.741991,
          -2.6845474,
          -4.8559227,
          2.1116836,
          2.3475132000000003,
          -5.173487000000001,
          4.812887,
          2.3979824,
          3.0322757,
          3.217391,
          -14.403132000000001,
          2.446689,
          -14.403132000000001,
          20.042269,
          6.3223863,
          0.3315261,
          6.9132880000000005,
          -12.232716,
          29.412229999999997,
          -10.723314,
          -11.128065,
          -11.871226,
          -23.731373,
          6.8464084000000005,
          -5.358755,
          -24.218449,
          6.076717400000001,
          -9.786026,
          1.2005012,
          -14.141325,
          -1.8778543,
          -0.26869717,
          29.475233000000003,
          -9.495664999999999,
          -23.667606,
          6.7504789999999995,
          -4.7108436,
          -11.720948,
          5.275593799999999,
          -12.966667999999999,
          -17.491305999999998,
          2.7077615,
          -10.579988499999999,
          -17.442232,
          21.732605,
          26.31022,
          7.916894,
          -0.14238684,
          26.482440000000004,
          -11.109879,
          6.071553700000001,
          6.0715449999999995,
          20.215103,
          -13.167110999999998,
          14.947377,
          23.184319,
          22.381042,
          3.087226,
          -16.177052,
          14.021949,
          23.909742,
          26.272501000000002,
          -16.177001999999998,
          14.225518,
          7.2651916,
          25.394514,
          5.5151224,
          -11.405180999999999,
          -9.695191000000001,
          20.08077,
          -8.110291499999999,
          -18.229315,
          -12.111542,
          -4.465751,
          4.0406146000000005,
          5.815741,
          20.179804,
          6.080149,
          -11.382938000000001,
          0.43529700000000005,
          8.381205,
          4.0447936,
          15.131673000000001,
          8.381205,
          6.583711999999999,
          23.06798,
          8.980659,
          0.5776989,
          25.166304,
          -10.920471000000001,
          -12.064826,
          22.94742,
          6.247515,
          5.9105444,
          4.9957814,
          20.615595000000003,
          6.724756200000001,
          -7.739615400000001,
          15.344111999999999,
          23.41328,
          -7.238175999999999,
          16.72185,
          22.51497,
          -19.622488,
          -9.180268,
          -20.441319,
          1.7299098000000002,
          -6.4194202,
          -8.616953,
          9.14495,
          19.578108,
          -13.013053999999999,
          18.47795,
          3.1105058,
          -9.835137,
          2.213009,
          1.2346829,
          -15.651257999999999,
          -10.175092,
          -11.162442,
          18.680944,
          -10.39663,
          -10.396657000000001,
          0.37473429999999996,
          2.6513374,
          -8.187365,
          -12.175724,
          -7.074917999999999,
          -10.249713999999999,
          7.7914824000000005,
          7.5366116,
          25.540429999999997,
          3.7190459000000002,
          -11.850954,
          -18.499926000000002,
          8.54762,
          0.018285949,
          22.635368,
          22.884016,
          5.8820615,
          1.4269505,
          -9.835136,
          -9.508925999999999,
          -8.110109,
          -17.621579999999998,
          5.981416,
          -20.533974,
          -12.683556,
          6.992431,
          -23.711876,
          0.30596733,
          -3.9160876000000004,
          22.910124,
          0.30716974,
          -5.337676999999999,
          22.910124,
          7.895022999999999,
          -4.518388,
          -0.6324498000000001,
          -8.1639,
          -0.89406615,
          -0.35439754,
          -13.291373000000002,
          -7.176221400000001,
          -5.554937000000001,
          29.633411,
          16.980186,
          7.364217999999999,
          -18.44397,
          29.877705,
          16.022264,
          -14.242242999999998,
          16.924488,
          8.363816,
          0.30596727,
          -9.229614,
          -2.9523368,
          -6.9762216,
          -7.458070299999999,
          14.485589000000001,
          -0.7917665,
          16.847548,
          23.408579,
          13.450876999999998,
          -18.324732,
          -12.164238000000001,
          22.910126,
          6.6966853,
          23.408588,
          15.510632000000001,
          -3.9755017999999995,
          -3.9689066,
          -5.2686589999999995,
          21.6366,
          -13.194032,
          -16.026217000000003,
          2.3102063999999998,
          -9.112258,
          28.79515,
          -9.98728,
          10.16319,
          3.4718776,
          3.5678050000000003,
          8.436635,
          2.6671077999999997,
          4.938235,
          2.3014232999999997,
          2.122288,
          28.283007,
          1.9318967,
          -8.046052,
          11.819755,
          -12.507104,
          -15.211060999999999,
          -12.507050999999999,
          -16.136979999999998,
          -12.507839,
          -20.694498,
          -1.3211182,
          0.24280731,
          -1.3211107,
          -11.258833000000001,
          29.325758,
          6.8897862000000005,
          -10.305614,
          9.950219,
          29.147190000000002,
          -4.620278400000001,
          -6.293727,
          11.808728,
          6.419082599999999,
          28.136898,
          20.76831,
          18.990679999999998,
          28.136757,
          -1.3211030000000001,
          5.032475499999999,
          -1.3208963,
          5.032478299999999,
          -22.868185,
          18.52198,
          7.0595803,
          18.047228,
          22.479921,
          21.639341,
          -9.133638000000001,
          6.8764296,
          -1.3847167,
          -19.851814,
          -1.9522958,
          -19.852102,
          -7.7057294999999995,
          -14.149625,
          -7.7056355,
          -12.989769,
          -22.345999,
          2.916576,
          23.172037,
          -17.534819,
          -4.918840400000001,
          -9.672454,
          -19.785926999999997,
          -7.415791499999999,
          15.496723000000001,
          15.846585999999999,
          -20.13389,
          -7.415481,
          -22.848229999999997,
          21.230392000000002,
          -20.133806,
          -23.953691,
          21.230392000000002,
          -19.736628,
          -23.892805,
          21.372015,
          -19.736628,
          -21.576328,
          21.372015,
          -19.9382,
          -10.37043,
          -23.601960000000002,
          29.052630999999998,
          -19.938238000000002,
          -20.3049,
          29.989887,
          -7.857762299999999,
          14.820022,
          23.75315,
          -21.970753,
          -8.323211,
          -6.739640700000001,
          -22.861359,
          -13.71829,
          -21.98774,
          -13.71829,
          29.856256,
          -8.796845,
          14.589896,
          23.067917,
          -22.933096,
          22.101702,
          -6.835998,
          -22.861357,
          -16.479110000000002,
          23.73496,
          -21.976828,
          -23.403273000000002,
          6.477675,
          -21.976805,
          -23.403273000000002,
          3.2936459000000005,
          -4.43461,
          -22.848146,
          23.308737,
          -19.446151999999998,
          21.372015,
          5.783114,
          -4.6787114,
          -23.520288,
          23.73496,
          6.110851,
          -4.6787467000000005,
          -21.04766,
          23.308737,
          -5.7855644,
          15.496564999999999,
          25.126435999999998,
          -2.3348937000000003,
          14.586401,
          25.12315,
          -9.603056,
          -14.193817000000001,
          -14.121839000000001,
          -2.6938207000000003,
          15.231997,
          25.126435999999998,
          -14.121943,
          -7.0967899999999995,
          -12.978487,
          27.095867,
          -14.12185,
          -11.642241,
          25.915685999999997,
          5.3985405,
          -24.676401000000002,
          15.063335999999998,
          25.12315,
          5.262336299999999,
          -24.347244,
          -16.75229,
          -14.369179999999998,
          -20.571722,
          29.052633,
          -21.514473000000002,
          -14.761318,
          5.172358,
          -20.57145,
          -16.286573,
          -20.05911,
          -13.530407,
          8.064214,
          16.389870000000002,
          24.939222,
          -13.758861999999999,
          -22.964813,
          9.8166275,
          25.126435999999998,
          -13.758792999999999,
          -22.964813,
          16.245255,
          8.064214,
          18.101837,
          18.37827,
          21.368038000000002,
          5.678191,
          -9.661741000000001,
          20.675621,
          5.678191,
          -9.661733,
          14.735675,
          18.810228,
          -5.9301867,
          -9.737758,
          22.131989,
          -2.3431199,
          -11.119878,
          22.131982999999998,
          -8.578346,
          -18.769962,
          8.064214,
          -12.055132,
          23.159271,
          15.860629000000001,
          12.565673,
          15.860829,
          19.602913,
          -13.447417000000002,
          30.393079999999998,
          -0.8940667999999999,
          10.962898,
          28.78898,
          -6.141832,
          30.382523,
          15.795206,
          -5.6882410000000005
         ],
         "xaxis": "x",
         "y": [
          -5.871595,
          11.942058,
          0.20204364,
          -10.802861,
          49.428905,
          5.696333,
          1.3979356,
          49.429120000000005,
          9.031265,
          51.514717,
          1.5106943000000002,
          -6.9772334,
          51.51741,
          1.5105928999999998,
          12.086826,
          52.614655000000006,
          -0.18525913,
          -8.475207000000001,
          48.37446,
          1.0065831,
          7.843371,
          7.997476600000001,
          2.4975379,
          -6.5262384,
          -56.478092000000004,
          -6.644402,
          0.5510269,
          4.186408,
          11.399869,
          3.377044,
          -8.787666,
          -9.767461,
          51.215443,
          2.5741243,
          6.845364,
          5.680389,
          9.042224000000001,
          51.642265,
          5.257614,
          4.1080265,
          48.582046999999996,
          -0.6251125,
          -0.6034663,
          -56.256890000000006,
          50.994521999999996,
          -0.016111212,
          -5.467704299999999,
          -56.930397,
          51.489132,
          0.8695485000000001,
          5.671259,
          49.256546,
          2.6209388,
          4.5772614,
          3.9152934999999998,
          7.720606,
          10.527082,
          0.85897446,
          -56.398556000000006,
          -6.4630566,
          8.301293,
          0.78423506,
          16.632015,
          13.833048999999999,
          2.7476952,
          16.627726000000003,
          4.403393299999999,
          -9.724136,
          50.762572999999996,
          -4.82068,
          4.90369,
          49.9727,
          -0.46483904,
          -9.551464999999999,
          51.602270000000004,
          49.464620000000004,
          -1.4663913,
          -1.5748096,
          -1.2603811000000003,
          -8.741347,
          -5.7319083,
          4.183705000000001,
          -2.9444199,
          -4.034962,
          14.545767000000001,
          -3.3904157,
          -5.6890306,
          -2.4774849999999997,
          -3.678788,
          50.47589,
          0.26541477,
          0.7842348000000001,
          -3.279857,
          3.3458525999999997,
          -56.233288,
          6.887904600000001,
          7.790354700000001,
          -46.432274,
          48.433643,
          9.471886999999999,
          -46.432274,
          14.50791,
          4.1732597,
          7.273864,
          -2.3207805,
          -4.698751000000001,
          0.23486295,
          -4.8280735,
          14.768547,
          11.721707,
          -56.821316,
          -4.824284,
          0.80179447,
          -43.772484000000006,
          4.0484686000000005,
          14.125178,
          -2.266016,
          0.19560057,
          -4.71871,
          -46.176727,
          -2.1455882,
          -5.0913377,
          -8.606392,
          48.539547,
          6.739780400000001,
          -53.216395999999996,
          -0.7607284000000001,
          8.764459,
          -52.809082,
          -0.7607284000000001,
          -2.2533875,
          3.3468301,
          -52.455677,
          6.721853,
          -3.376718,
          50.031220000000005,
          -7.5949836,
          9.903454,
          0.9007729999999999,
          -53.922913,
          52.369842999999996,
          -1.3346672,
          -0.21021108,
          -0.22457449999999998,
          -46.316853,
          6.403033,
          6.1402645,
          1.3712486000000002,
          6.686424000000001,
          12.533483,
          52.608219999999996,
          -9.4169655,
          6.2629657,
          -42.89967,
          -8.432839,
          8.1041355,
          8.278882000000001,
          -47.27305,
          -8.128622,
          8.1041355,
          -4.333425,
          4.2434955,
          14.489895,
          -9.979541000000001,
          1.4457605,
          -49.415603999999995,
          -5.637795,
          7.599206,
          -5.7953897,
          -3.0608401,
          -45.870415,
          52.2541,
          -2.7840477999999997,
          -46.996033000000004,
          53.098087,
          -1.2291564,
          -46.888397,
          9.021616999999999,
          -0.59647816,
          -53.103848,
          0.2250564,
          3.809623,
          -52.185314,
          8.938612,
          -3.1539732999999996,
          -3.2157588,
          -53.168827,
          49.773357,
          -11.228914,
          0.81890553,
          -5.595229,
          -52.04032,
          52.288086,
          13.094207,
          -56.784317,
          48.289124,
          -10.231122000000001,
          -49.415603999999995,
          3.4987552,
          4.3986754,
          -49.415805999999996,
          52.558845999999996,
          1.2062926,
          3.0693576,
          -51.99713,
          50.013927,
          9.760907000000001,
          9.135242,
          -1.6488379000000002,
          -53.435547,
          11.276041000000001,
          -3.5741853999999997,
          -53.266059999999996,
          53.69056,
          -4.483142,
          2.860271,
          -53.462230000000005,
          53.690619999999996,
          -4.4831567,
          -10.254838000000001,
          10.420735,
          -46.630835999999995,
          51.69127,
          -9.646255,
          1.655146,
          -52.268029999999996,
          51.691143,
          -9.646255,
          5.5783997,
          2.9222238,
          11.587841000000001,
          -52.281116,
          49.607586,
          -4.278085,
          8.311154,
          -52.871646999999996,
          52.23973,
          -11.51126,
          7.3103595,
          -51.467490000000005,
          52.24045,
          -10.762758,
          7.191077000000001,
          6.2629660000000005,
          -53.888554000000006,
          -4.8506236,
          -5.208199,
          6.155887,
          5.8848886,
          7.3699856,
          -7.5905857,
          0.23816594,
          -1.1724875,
          6.1435404,
          6.038574700000001,
          1.1109858,
          7.2086024,
          5.780769,
          7.7668076,
          -51.724804,
          -2.0574625,
          -52.613865000000004,
          -2.0574625,
          0.36738259999999995,
          -43.549209999999995,
          -2.9336464,
          -1.4274601999999998,
          2.3062744,
          1.5325474,
          53.21507,
          4.435855999999999,
          50.763874,
          -5.074829,
          -5.689032,
          -1.0719358,
          -2.320817,
          -4.6987667,
          0.23486301,
          -51.82412,
          52.370502,
          -1.3345989,
          -0.21022485,
          2.965467,
          52.407703000000005,
          -9.416933,
          -43.2846,
          3.5559375,
          -10.0382595,
          -47.20735,
          51.6911,
          -9.64632,
          -51.568394,
          49.606120000000004,
          -7.2232265,
          -5.4538794,
          -5.869265599999999,
          -7.9773583,
          -1.0199274999999999,
          3.0693173,
          -9.952671,
          4.7849135,
          4.7849107,
          -0.22792266,
          -10.005188,
          1.4559298,
          -5.793328,
          12.118286999999999,
          -49.4156,
          -11.231838,
          1.4923898000000002,
          -5.5954137,
          -5.912179,
          -11.2318325,
          2.1478682,
          6.7117825,
          8.114697999999999,
          -6.885062,
          7.272386999999999,
          5.5310593,
          0.7108247,
          52.58286,
          0.8189860999999999,
          9.119769999999999,
          2.8613696,
          -3.021074,
          1.7547641,
          12.897121,
          -44.66198,
          9.545856,
          6.5413375,
          6.366778,
          -3.3766608,
          10.2465515,
          6.366778,
          -6.5572539999999995,
          -5.629267700000001,
          -3.1609017999999995,
          5.934289,
          8.792773,
          5.924003599999999,
          -3.330857,
          13.751477,
          -44.545770000000005,
          6.176954,
          -2.7136421000000004,
          12.822973,
          0.20574799,
          -9.687773,
          1.8737453000000002,
          -5.898882,
          5.358225,
          11.968031,
          -3.3132163999999995,
          -1.5702511000000001,
          -7.500205,
          -10.516988000000001,
          -51.489554999999996,
          49.967503,
          7.669685,
          7.6361117,
          13.259711,
          -10.7484,
          13.461497,
          -53.748523999999996,
          50.80713,
          8.583725999999999,
          -52.726383,
          -10.209039,
          53.985459999999996,
          5.1497574,
          12.875318,
          55.157593000000006,
          55.157463,
          -2.4501487999999996,
          6.9651914,
          -10.718802,
          8.020663,
          52.837227,
          4.065080600000001,
          4.992614,
          7.737655,
          -4.0122066,
          -52.91403199999999,
          54.024733999999995,
          -10.573604,
          -0.023063142000000002,
          5.848947,
          14.463821,
          15.370575,
          1.229133,
          -53.80064399999999,
          50.806458,
          -0.8434478999999999,
          52.582855,
          -10.416478999999999,
          -5.427821,
          3.377044,
          -8.787658,
          -9.658511,
          -7.941304,
          -48.371056,
          -1.4109912,
          -7.5034246,
          -48.371544,
          -1.6263858,
          -7.5034246,
          -5.2377553,
          -2.7146939999999997,
          -48.916115000000005,
          3.8065624,
          -48.65535,
          -3.1246111,
          -5.3601947,
          6.890318,
          -1.626261,
          3.5386221,
          10.62469,
          -3.4516574999999996,
          2.1773927000000004,
          4.0058084,
          11.210801,
          -3.1404638,
          -0.08924170599999999,
          5.432319000000001,
          -48.371044,
          -6.834255000000001,
          -3.0278912,
          51.93159,
          5.936498,
          9.468684,
          -48.76031,
          9.658248,
          1.6838404999999999,
          6.2499967000000005,
          3.1728525000000003,
          3.3689065,
          -7.503425999999999,
          -3.2289369999999997,
          1.6838293999999998,
          -0.84174025,
          -5.1376567,
          9.056397,
          -0.42298043,
          13.198099,
          -1.077724,
          -5.6385818,
          1.0219617,
          -7.9268312000000005,
          3.6607642,
          -4.4850097,
          0.20702425,
          7.2621326,
          6.534671,
          -4.2645154000000005,
          -52.318317,
          7.748400999999999,
          -53.867535,
          0.73424333,
          0.89872795,
          -52.753932999999996,
          -7.853656,
          8.906981,
          53.54065,
          -8.063055,
          53.540397999999996,
          -7.32072,
          53.54054300000001,
          -9.868853999999999,
          -49.809948,
          -0.62889624,
          -49.809956,
          -4.6579523,
          3.7079442000000005,
          7.9566455000000005,
          50.563725,
          8.643333,
          2.9778580000000003,
          -6.0809627,
          -8.357538,
          9.684564,
          6.547623000000001,
          1.4152997,
          11.401889,
          11.409156,
          1.4161166,
          -49.80996,
          3.7946332000000003,
          -49.81007,
          3.7946288999999997,
          -10.732832,
          0.39929217,
          -2.5181072,
          8.497022,
          15.003551999999999,
          13.104299000000001,
          49.532948,
          -4.1030216,
          -1.2905544,
          -10.5835495,
          -0.82370836,
          -10.583912,
          50.931725,
          -9.349632000000001,
          50.930915999999996,
          -6.9382052,
          -10.972127,
          -56.424316000000005,
          14.453215,
          -10.993768,
          8.750015,
          3.4624023,
          -11.624433,
          -9.931778999999999,
          1.296348,
          7.141255999999999,
          -11.815429,
          -9.930531,
          -0.5157864999999999,
          -0.16196913,
          -11.818072,
          0.041897934,
          -0.16196936,
          -11.783624,
          -0.50848305,
          0.15870532,
          -11.783624,
          -4.7440248,
          0.15870509,
          2.2381926,
          47.312656,
          -5.6015096,
          1.5777466999999998,
          2.2382164,
          1.3467743,
          1.3524573,
          -10.37088,
          1.4153578000000002,
          -5.7203054,
          -0.88039374,
          -3.8110142,
          -9.600989,
          -0.11784078,
          6.4502463,
          -0.15804681,
          6.4502463,
          1.4093094,
          -10.557966,
          0.9616353000000001,
          -5.631515,
          -1.2046523,
          14.187555999999999,
          -7.515069,
          -0.11783979,
          -6.624181299999999,
          -4.792574,
          1.0124855,
          -6.452571400000001,
          -9.970169,
          1.0126208,
          -6.452571400000001,
          1.533356,
          -6.5143223,
          -0.5156692,
          -4.8122635,
          1.4247442,
          0.15870604,
          -46.048187,
          52.88541800000001,
          -4.63668,
          -4.7925744,
          -46.320168,
          52.878555000000006,
          -8.333849,
          -4.8122635,
          -8.128962,
          1.2960133999999999,
          5.9834886,
          -6.3658066,
          0.96113867,
          5.9835525,
          5.985358,
          -13.047996000000001,
          50.162144,
          -5.1917415,
          0.866908,
          5.9834886,
          50.158512,
          -7.9972997,
          6.766775999999999,
          3.1840625,
          50.161922,
          5.0881944,
          3.8538492,
          -46.630835999999995,
          -9.450149,
          2.5189698,
          5.9835525,
          -47.048237,
          -9.086542,
          -7.6926084,
          -4.994535400000001,
          -1.8331662,
          1.5777471,
          -9.215417,
          -6.088323,
          -4.349295,
          -1.8332003000000001,
          -3.9480155,
          -1.9822936999999998,
          -2.7507292999999997,
          -8.975992,
          10.506602,
          -6.8950949999999995,
          48.26166,
          -9.167060000000001,
          -3.7833045,
          5.9834886,
          48.26202,
          -9.167060000000001,
          0.7349127,
          -8.975992,
          11.959347,
          12.318953,
          14.098532999999998,
          -47.2981,
          7.84237,
          -6.750890299999999,
          -47.2981,
          7.8423758,
          0.056709353,
          11.535297,
          -8.576097,
          7.2677646,
          -0.7942665,
          -6.4471739999999995,
          7.2112164000000005,
          -0.7942618,
          6.058865,
          -7.0985208,
          -8.975992,
          9.000994,
          10.541672,
          8.6403265,
          4.403092,
          8.640353,
          10.468214999999999,
          2.0097528000000002,
          2.963477,
          -48.655353999999996,
          9.036014999999999,
          3.0395036,
          6.429687,
          3.4577004999999996,
          -0.23954967,
          -7.3920335999999995
         ],
         "yaxis": "y"
        }
       ],
       "layout": {
        "coloraxis": {
         "colorbar": {
          "title": {
           "text": "cluster"
          }
         },
         "colorscale": [
          [
           0,
           "#0d0887"
          ],
          [
           0.1111111111111111,
           "#46039f"
          ],
          [
           0.2222222222222222,
           "#7201a8"
          ],
          [
           0.3333333333333333,
           "#9c179e"
          ],
          [
           0.4444444444444444,
           "#bd3786"
          ],
          [
           0.5555555555555556,
           "#d8576b"
          ],
          [
           0.6666666666666666,
           "#ed7953"
          ],
          [
           0.7777777777777778,
           "#fb9f3a"
          ],
          [
           0.8888888888888888,
           "#fdca26"
          ],
          [
           1,
           "#f0f921"
          ]
         ]
        },
        "legend": {
         "tracegroupgap": 0
        },
        "margin": {
         "t": 60
        },
        "template": {
         "data": {
          "bar": [
           {
            "error_x": {
             "color": "#2a3f5f"
            },
            "error_y": {
             "color": "#2a3f5f"
            },
            "marker": {
             "line": {
              "color": "#E5ECF6",
              "width": 0.5
             }
            },
            "type": "bar"
           }
          ],
          "barpolar": [
           {
            "marker": {
             "line": {
              "color": "#E5ECF6",
              "width": 0.5
             }
            },
            "type": "barpolar"
           }
          ],
          "carpet": [
           {
            "aaxis": {
             "endlinecolor": "#2a3f5f",
             "gridcolor": "white",
             "linecolor": "white",
             "minorgridcolor": "white",
             "startlinecolor": "#2a3f5f"
            },
            "baxis": {
             "endlinecolor": "#2a3f5f",
             "gridcolor": "white",
             "linecolor": "white",
             "minorgridcolor": "white",
             "startlinecolor": "#2a3f5f"
            },
            "type": "carpet"
           }
          ],
          "choropleth": [
           {
            "colorbar": {
             "outlinewidth": 0,
             "ticks": ""
            },
            "type": "choropleth"
           }
          ],
          "contour": [
           {
            "colorbar": {
             "outlinewidth": 0,
             "ticks": ""
            },
            "colorscale": [
             [
              0,
              "#0d0887"
             ],
             [
              0.1111111111111111,
              "#46039f"
             ],
             [
              0.2222222222222222,
              "#7201a8"
             ],
             [
              0.3333333333333333,
              "#9c179e"
             ],
             [
              0.4444444444444444,
              "#bd3786"
             ],
             [
              0.5555555555555556,
              "#d8576b"
             ],
             [
              0.6666666666666666,
              "#ed7953"
             ],
             [
              0.7777777777777778,
              "#fb9f3a"
             ],
             [
              0.8888888888888888,
              "#fdca26"
             ],
             [
              1,
              "#f0f921"
             ]
            ],
            "type": "contour"
           }
          ],
          "contourcarpet": [
           {
            "colorbar": {
             "outlinewidth": 0,
             "ticks": ""
            },
            "type": "contourcarpet"
           }
          ],
          "heatmap": [
           {
            "colorbar": {
             "outlinewidth": 0,
             "ticks": ""
            },
            "colorscale": [
             [
              0,
              "#0d0887"
             ],
             [
              0.1111111111111111,
              "#46039f"
             ],
             [
              0.2222222222222222,
              "#7201a8"
             ],
             [
              0.3333333333333333,
              "#9c179e"
             ],
             [
              0.4444444444444444,
              "#bd3786"
             ],
             [
              0.5555555555555556,
              "#d8576b"
             ],
             [
              0.6666666666666666,
              "#ed7953"
             ],
             [
              0.7777777777777778,
              "#fb9f3a"
             ],
             [
              0.8888888888888888,
              "#fdca26"
             ],
             [
              1,
              "#f0f921"
             ]
            ],
            "type": "heatmap"
           }
          ],
          "heatmapgl": [
           {
            "colorbar": {
             "outlinewidth": 0,
             "ticks": ""
            },
            "colorscale": [
             [
              0,
              "#0d0887"
             ],
             [
              0.1111111111111111,
              "#46039f"
             ],
             [
              0.2222222222222222,
              "#7201a8"
             ],
             [
              0.3333333333333333,
              "#9c179e"
             ],
             [
              0.4444444444444444,
              "#bd3786"
             ],
             [
              0.5555555555555556,
              "#d8576b"
             ],
             [
              0.6666666666666666,
              "#ed7953"
             ],
             [
              0.7777777777777778,
              "#fb9f3a"
             ],
             [
              0.8888888888888888,
              "#fdca26"
             ],
             [
              1,
              "#f0f921"
             ]
            ],
            "type": "heatmapgl"
           }
          ],
          "histogram": [
           {
            "marker": {
             "colorbar": {
              "outlinewidth": 0,
              "ticks": ""
             }
            },
            "type": "histogram"
           }
          ],
          "histogram2d": [
           {
            "colorbar": {
             "outlinewidth": 0,
             "ticks": ""
            },
            "colorscale": [
             [
              0,
              "#0d0887"
             ],
             [
              0.1111111111111111,
              "#46039f"
             ],
             [
              0.2222222222222222,
              "#7201a8"
             ],
             [
              0.3333333333333333,
              "#9c179e"
             ],
             [
              0.4444444444444444,
              "#bd3786"
             ],
             [
              0.5555555555555556,
              "#d8576b"
             ],
             [
              0.6666666666666666,
              "#ed7953"
             ],
             [
              0.7777777777777778,
              "#fb9f3a"
             ],
             [
              0.8888888888888888,
              "#fdca26"
             ],
             [
              1,
              "#f0f921"
             ]
            ],
            "type": "histogram2d"
           }
          ],
          "histogram2dcontour": [
           {
            "colorbar": {
             "outlinewidth": 0,
             "ticks": ""
            },
            "colorscale": [
             [
              0,
              "#0d0887"
             ],
             [
              0.1111111111111111,
              "#46039f"
             ],
             [
              0.2222222222222222,
              "#7201a8"
             ],
             [
              0.3333333333333333,
              "#9c179e"
             ],
             [
              0.4444444444444444,
              "#bd3786"
             ],
             [
              0.5555555555555556,
              "#d8576b"
             ],
             [
              0.6666666666666666,
              "#ed7953"
             ],
             [
              0.7777777777777778,
              "#fb9f3a"
             ],
             [
              0.8888888888888888,
              "#fdca26"
             ],
             [
              1,
              "#f0f921"
             ]
            ],
            "type": "histogram2dcontour"
           }
          ],
          "mesh3d": [
           {
            "colorbar": {
             "outlinewidth": 0,
             "ticks": ""
            },
            "type": "mesh3d"
           }
          ],
          "parcoords": [
           {
            "line": {
             "colorbar": {
              "outlinewidth": 0,
              "ticks": ""
             }
            },
            "type": "parcoords"
           }
          ],
          "pie": [
           {
            "automargin": true,
            "type": "pie"
           }
          ],
          "scatter": [
           {
            "marker": {
             "colorbar": {
              "outlinewidth": 0,
              "ticks": ""
             }
            },
            "type": "scatter"
           }
          ],
          "scatter3d": [
           {
            "line": {
             "colorbar": {
              "outlinewidth": 0,
              "ticks": ""
             }
            },
            "marker": {
             "colorbar": {
              "outlinewidth": 0,
              "ticks": ""
             }
            },
            "type": "scatter3d"
           }
          ],
          "scattercarpet": [
           {
            "marker": {
             "colorbar": {
              "outlinewidth": 0,
              "ticks": ""
             }
            },
            "type": "scattercarpet"
           }
          ],
          "scattergeo": [
           {
            "marker": {
             "colorbar": {
              "outlinewidth": 0,
              "ticks": ""
             }
            },
            "type": "scattergeo"
           }
          ],
          "scattergl": [
           {
            "marker": {
             "colorbar": {
              "outlinewidth": 0,
              "ticks": ""
             }
            },
            "type": "scattergl"
           }
          ],
          "scattermapbox": [
           {
            "marker": {
             "colorbar": {
              "outlinewidth": 0,
              "ticks": ""
             }
            },
            "type": "scattermapbox"
           }
          ],
          "scatterpolar": [
           {
            "marker": {
             "colorbar": {
              "outlinewidth": 0,
              "ticks": ""
             }
            },
            "type": "scatterpolar"
           }
          ],
          "scatterpolargl": [
           {
            "marker": {
             "colorbar": {
              "outlinewidth": 0,
              "ticks": ""
             }
            },
            "type": "scatterpolargl"
           }
          ],
          "scatterternary": [
           {
            "marker": {
             "colorbar": {
              "outlinewidth": 0,
              "ticks": ""
             }
            },
            "type": "scatterternary"
           }
          ],
          "surface": [
           {
            "colorbar": {
             "outlinewidth": 0,
             "ticks": ""
            },
            "colorscale": [
             [
              0,
              "#0d0887"
             ],
             [
              0.1111111111111111,
              "#46039f"
             ],
             [
              0.2222222222222222,
              "#7201a8"
             ],
             [
              0.3333333333333333,
              "#9c179e"
             ],
             [
              0.4444444444444444,
              "#bd3786"
             ],
             [
              0.5555555555555556,
              "#d8576b"
             ],
             [
              0.6666666666666666,
              "#ed7953"
             ],
             [
              0.7777777777777778,
              "#fb9f3a"
             ],
             [
              0.8888888888888888,
              "#fdca26"
             ],
             [
              1,
              "#f0f921"
             ]
            ],
            "type": "surface"
           }
          ],
          "table": [
           {
            "cells": {
             "fill": {
              "color": "#EBF0F8"
             },
             "line": {
              "color": "white"
             }
            },
            "header": {
             "fill": {
              "color": "#C8D4E3"
             },
             "line": {
              "color": "white"
             }
            },
            "type": "table"
           }
          ]
         },
         "layout": {
          "annotationdefaults": {
           "arrowcolor": "#2a3f5f",
           "arrowhead": 0,
           "arrowwidth": 1
          },
          "coloraxis": {
           "colorbar": {
            "outlinewidth": 0,
            "ticks": ""
           }
          },
          "colorscale": {
           "diverging": [
            [
             0,
             "#8e0152"
            ],
            [
             0.1,
             "#c51b7d"
            ],
            [
             0.2,
             "#de77ae"
            ],
            [
             0.3,
             "#f1b6da"
            ],
            [
             0.4,
             "#fde0ef"
            ],
            [
             0.5,
             "#f7f7f7"
            ],
            [
             0.6,
             "#e6f5d0"
            ],
            [
             0.7,
             "#b8e186"
            ],
            [
             0.8,
             "#7fbc41"
            ],
            [
             0.9,
             "#4d9221"
            ],
            [
             1,
             "#276419"
            ]
           ],
           "sequential": [
            [
             0,
             "#0d0887"
            ],
            [
             0.1111111111111111,
             "#46039f"
            ],
            [
             0.2222222222222222,
             "#7201a8"
            ],
            [
             0.3333333333333333,
             "#9c179e"
            ],
            [
             0.4444444444444444,
             "#bd3786"
            ],
            [
             0.5555555555555556,
             "#d8576b"
            ],
            [
             0.6666666666666666,
             "#ed7953"
            ],
            [
             0.7777777777777778,
             "#fb9f3a"
            ],
            [
             0.8888888888888888,
             "#fdca26"
            ],
            [
             1,
             "#f0f921"
            ]
           ],
           "sequentialminus": [
            [
             0,
             "#0d0887"
            ],
            [
             0.1111111111111111,
             "#46039f"
            ],
            [
             0.2222222222222222,
             "#7201a8"
            ],
            [
             0.3333333333333333,
             "#9c179e"
            ],
            [
             0.4444444444444444,
             "#bd3786"
            ],
            [
             0.5555555555555556,
             "#d8576b"
            ],
            [
             0.6666666666666666,
             "#ed7953"
            ],
            [
             0.7777777777777778,
             "#fb9f3a"
            ],
            [
             0.8888888888888888,
             "#fdca26"
            ],
            [
             1,
             "#f0f921"
            ]
           ]
          },
          "colorway": [
           "#636efa",
           "#EF553B",
           "#00cc96",
           "#ab63fa",
           "#FFA15A",
           "#19d3f3",
           "#FF6692",
           "#B6E880",
           "#FF97FF",
           "#FECB52"
          ],
          "font": {
           "color": "#2a3f5f"
          },
          "geo": {
           "bgcolor": "white",
           "lakecolor": "white",
           "landcolor": "#E5ECF6",
           "showlakes": true,
           "showland": true,
           "subunitcolor": "white"
          },
          "hoverlabel": {
           "align": "left"
          },
          "hovermode": "closest",
          "mapbox": {
           "style": "light"
          },
          "paper_bgcolor": "white",
          "plot_bgcolor": "#E5ECF6",
          "polar": {
           "angularaxis": {
            "gridcolor": "white",
            "linecolor": "white",
            "ticks": ""
           },
           "bgcolor": "#E5ECF6",
           "radialaxis": {
            "gridcolor": "white",
            "linecolor": "white",
            "ticks": ""
           }
          },
          "scene": {
           "xaxis": {
            "backgroundcolor": "#E5ECF6",
            "gridcolor": "white",
            "gridwidth": 2,
            "linecolor": "white",
            "showbackground": true,
            "ticks": "",
            "zerolinecolor": "white"
           },
           "yaxis": {
            "backgroundcolor": "#E5ECF6",
            "gridcolor": "white",
            "gridwidth": 2,
            "linecolor": "white",
            "showbackground": true,
            "ticks": "",
            "zerolinecolor": "white"
           },
           "zaxis": {
            "backgroundcolor": "#E5ECF6",
            "gridcolor": "white",
            "gridwidth": 2,
            "linecolor": "white",
            "showbackground": true,
            "ticks": "",
            "zerolinecolor": "white"
           }
          },
          "shapedefaults": {
           "line": {
            "color": "#2a3f5f"
           }
          },
          "ternary": {
           "aaxis": {
            "gridcolor": "white",
            "linecolor": "white",
            "ticks": ""
           },
           "baxis": {
            "gridcolor": "white",
            "linecolor": "white",
            "ticks": ""
           },
           "bgcolor": "#E5ECF6",
           "caxis": {
            "gridcolor": "white",
            "linecolor": "white",
            "ticks": ""
           }
          },
          "title": {
           "x": 0.05
          },
          "xaxis": {
           "automargin": true,
           "gridcolor": "white",
           "linecolor": "white",
           "ticks": "",
           "title": {
            "standoff": 15
           },
           "zerolinecolor": "white",
           "zerolinewidth": 2
          },
          "yaxis": {
           "automargin": true,
           "gridcolor": "white",
           "linecolor": "white",
           "ticks": "",
           "title": {
            "standoff": 15
           },
           "zerolinecolor": "white",
           "zerolinewidth": 2
          }
         }
        },
        "xaxis": {
         "anchor": "y",
         "domain": [
          0,
          1
         ],
         "title": {
          "text": "x"
         }
        },
        "yaxis": {
         "anchor": "x",
         "domain": [
          0,
          1
         ],
         "title": {
          "text": "y"
         }
        }
       }
      },
      "text/html": [
       "<div>\n",
       "        \n",
       "        \n",
       "            <div id=\"99e9d576-ac55-470a-9331-c6619579fb54\" class=\"plotly-graph-div\" style=\"height:525px; width:100%;\"></div>\n",
       "            <script type=\"text/javascript\">\n",
       "                require([\"plotly\"], function(Plotly) {\n",
       "                    window.PLOTLYENV=window.PLOTLYENV || {};\n",
       "                    \n",
       "                if (document.getElementById(\"99e9d576-ac55-470a-9331-c6619579fb54\")) {\n",
       "                    Plotly.newPlot(\n",
       "                        '99e9d576-ac55-470a-9331-c6619579fb54',\n",
       "                        [{\"customdata\": [[\"m\\u00e1y ti\\u1ec7t tr\\u00f9ng uv \\u0111\\u00e3 c\\u00f3 ch\\u01b0a \\u1ea1\", \"Hi\\u1ec7n t\\u1ea1i s\\u1ea3n ph\\u1ea9m M\\u00e1y ti\\u1ec7t tr\\u00f9ng  shop \\u0111ang c\\u00f3 nh\\u1eef-<br>\", \"query_knowledge_base\", \"['object_type:may_tiet_trung']\", \"action_query_babe_kb\"], [\"/confirm_attribute_value{\\\"price\\\": \\\"500-1M\\\"}\", \"M\\u1eddi b\\u1ea1n click v\\u00e0o \\\"Xem chi ti\\u1ebft\\\" \\u0111\\u1ec3 tham kh\\u1ea3o s\\u1ea3n -<br> ph\\u1ea9m hi\\u1ec7n c\\u00f3 t\\u1ea1i shop nh\\u00e9!\\n<card sp 1> <card sp 2>-<br>\", \"confirm_attribute_value\", \"['price:500-1M']\", \"action_query_babe_kb\"], [\"m\\u00e1y ti\\u1ec7t tr\\u00f9ng uv \\u0111\\u00e3 c\\u00f3 ch\\u01b0a \\u1ea1\", \"M\\u00e1y ti\\u1ec7t tr\\u00f9ng uv hi\\u1ec7n h\\u1ebft h\\u00e0ng m\\u1eddi b\\u1ea1n tham kh\\u1ea3o -<br> c\\u00e1c s\\u1ea3n ph\\u1ea9m kh\\u00e1c c\\u1ee7a shop\\nRecommend <sp1> <sp2> <-<br>\", \"query_knowledge_base\", \"['object_type:may_tiet_trung']\", \"action_query_babe_kb\"], [\"Khi n\\u00e0o th\\u00ec c\\u00f3 h\\u00e0ng m\\u1edbi \\u1ea1\", \"Kho\\u1ea3ng m\\u1ed9t tu\\u1ea7n sau c\\u00f3 h\\u00e0ng \\u1ea1\", \"query_knowledge_base\", null, \"action_query_babe_kb\"], [\"url\", \"B\\u1ea1n \\u0111ang t\\u00ecm ki\\u1ebfm th\\u00f4ng tin g\\u00ec \\u1ea1?\", \"send_link\", \"url\", \"action_handle_send_link_only\"], [\"E \\u01a1i c\\u00f2n gi\\u1ea5y kh\\u00f4 n\\u00e0y k?\", \"Kh\\u0103n kh\\u00f4 \\u0111a n\\u0103ng MIPBI 600gr hi\\u1ec7n \\u0111ang c\\u00f3 gi\\u00e1 l\\u00e0 6-<br> 1.000 (Gi\\u00e1 g\\u1ed1c: 70.000) m\\u1eddi b\\u1ea1n tham kh\\u1ea3o:\\n<show c-<br>\", \"query_knowledge_base\", \"['object_type:khan','mention:n\\u00e0y']\", \"action_query_babe_kb\"], [\"\\u0110\\u00fang r \\u1ea1\", \"D\\u1ea1, v\\u00e2ng \\u1ea1. \", \"agree\", null, \"utter_agree\"], [\"url\", \"B\\u1ea1n \\u0111ang t\\u00ecm ki\\u1ebfm th\\u00f4ng tin g\\u00ec \\u1ea1?\", \"send_link\", \"url\", \"action_handle_send_link_only\"], [\"E \\u01a1i c\\u00f2n gi\\u1ea5y kh\\u00f4 n\\u00e0y k?\", \"Kh\\u0103n kh\\u00f4 \\u0111a n\\u0103ng MIPBI 600gr  hi\\u1ec7n h\\u1ebft h\\u00e0ng m\\u1eddi b\\u1ea1-<br> n tham kh\\u1ea3o c\\u00e1c s\\u1ea3n ph\\u1ea9m kh\\u00e1c c\\u1ee7a shop\\nRecommend <-<br>\", \"query_knowledge_base\", \"['object_type:khan','mention:n\\u00e0y']\", \"action_query_babe_kb\"], [\"url\", \"B\\u1ea1n \\u0111ang t\\u00ecm ki\\u1ebfm th\\u00f4ng tin g\\u00ec \\u1ea1?\", \"send_link\", \"url\", \"action_handle_send_link_only\"], [\"Bn v\\u1eady shop \\u01a1i\", \"S\\u1ea3n ph\\u1ea9m  B\\u1ea2NG V\\u1ebc HOLLA 2 in 1  hi\\u1ec7n shop \\u0111ang c\\u00f3 -<br> gi\\u00e1: 830,000 VND (gi\\u00e1 g\\u1ed1c 1,090,000 VND).\\nB\\u1ea1n tham-<br>\", \"query_knowledge_base\", \"['attribute:price']\", \"action_query_babe_kb\"], [\"C\\u00f3 tr\\u00ean shopee k shop\", \"D\\u1ea1 m\\u1eddi b\\u1ea1n tham kh\\u1ea3o s\\u1ea3n ph\\u1ea9m B\\u1ea2NG V\\u1ebc HOLLA 2 in 1-<br>\", \"query_knowledge_base\", \"['attribute:link']\", \"action_query_babe_kb\"], [\"url\", \"B\\u1ea1n \\u0111ang t\\u00ecm ki\\u1ebfm th\\u00f4ng tin g\\u00ec \\u1ea1?\", \"send_link\", \"url\", \"action_handle_send_link_only\"], [\"Bn v\\u1eady shop \\u01a1i\", \"S\\u1ea3n ph\\u1ea9m  B\\u1ea2NG V\\u1ebc HOLLA 2 in 1  hi\\u1ec7n shop \\u0111ang c\\u00f3 -<br> gi\\u00e1: 830,000 VND (gi\\u00e1 g\\u1ed1c 1,090,000 VND).\\nB\\u1ea1n tham-<br>\", \"query_knowledge_base\", \"['attribute:price']\", \"action_query_babe_kb\"], [\"B\\u1ea3o h\\u00e0nh bao l\\u00e2u \\u1ea1\", \"\\\"D\\u1ea1 B\\u1ea2NG V\\u1ebc HOLLA 2 in 1 b\\u1ea3o h\\u00e0nh 12 th\\u00e1ng \\u1ea1. {ch\\u00ed-<br>\", \"query_knowledge_base\", \"['attribute:guarantee']\", \"action_query_babe_kb\"], [\"url\", \"B\\u1ea1n \\u0111ang t\\u00ecm ki\\u1ebfm th\\u00f4ng tin g\\u00ec \\u1ea1?\", \"send_link\", \"url\", \"action_handle_send_link_only\"], [\"B\\u1ed9 n\\u00e0y bn shop\", \"S\\u1ea3n ph\\u1ea9m  B\\u1ea2NG V\\u1ebc HOLLA 2 in 1  hi\\u1ec7n shop \\u0111ang c\\u00f3 -<br> gi\\u00e1: 830,000 VND (gi\\u00e1 g\\u1ed1c 1,090,000 VND).\\nB\\u1ea1n tham-<br>\", \"query_knowledge_base\", \"['mention:b\\u1ed9 n\\u00e0y', 'attribute:price']\", \"action_query_babe_kb\"], [\"S\\u1ea3n xu\\u1ea5t \\u1edf \\u0111\\u00e2u \\u1ea1\", \"D\\u1ea1 B\\u1ea2NG V\\u1ebc HOLLA 2 in 1 c\\u00f3 xu\\u1ea5t x\\u1ee9 t\\u1eeb Trung Qu\\u1ed1c \\u1ea1-<br>\", \"query_knowledge_base\", \"['attribute:origin']\", \"action_query_babe_kb\"], [\"url\", \"B\\u1ea1n \\u0111ang t\\u00ecm ki\\u1ebfm th\\u00f4ng tin g\\u00ec \\u1ea1?\", \"send_link\", \"url\", \"action_handle_send_link_only\"], [\"Cho t xin gi\\u00e1 nh\\u00e9\", \"S\\u1ea3n ph\\u1ea9m  B\\u1ea2NG V\\u1ebc HOLLA 2 in 1  hi\\u1ec7n shop \\u0111ang c\\u00f3 -<br> gi\\u00e1: 830,000 VND (gi\\u00e1 g\\u1ed1c 1,090,000 VND).\\nB\\u1ea1n tham-<br>\", \"query_knowledge_base\", \"['attribute:price']\", \"action_query_babe_kb\"], [\"L\\u00e0m b\\u1eb1ng nh\\u1ef1a \\u00e0 \", \"D\\u1ea1 s\\u1ea3n ph\\u1ea9m l\\u00e0m t\\u1eeb nh\\u1ef1a \\u1ea1\\nB\\u1ea1n tham kh\\u1ea3o c\\u00e1c s\\u1ea3n ph-<br>\", \"query_knowledge_base\", \"['material:b\\u1eb1ng nh\\u1ef1a']\", \"action_query_babe_kb\"], [\"B\\u1ed9 holla v\\u01b0\\u01a1ng mi\\u1ec7n gi\\u00e1 tnao b\\u1ea1n\", \"S\\u1ea3n ph\\u1ea9m  COMBO HOLLA FULL PHI\\u00caN B\\u1ea2N 2020 M\\u1eaaU V\\u01af\\u01a0N-<br> G MI\\u1ec6N  hi\\u1ec7n shop \\u0111ang c\\u00f3 gi\\u00e1: 500,000 VND (gi\\u00e1 g\\u1ed1-<br> c 500,000 VND).\\nB\\u1ea1n tham kh\\u1ea3o c\\u00e1c s\\u1ea3n ph\\u1ea9m sau nh\\u00e9-<br>\", \"query_knowledge_base\", \"['brand:holla', 'attribute:price','type:v\\u01b0\\u01a1ng mi\\u1ec7n']\", \"action_query_babe_kb\"], [\"N\\u01b0\\u1edbc n\\u00e0o s\\u1ea3n xu\\u1ea5t \\u1ea1 ?\", \"D\\u1ea1 COMBO HOLLA FULL PHI\\u00caN B\\u1ea2N 2020 M\\u1eaaU V\\u01af\\u01a0NG MI\\u1ec6N -<br> c\\u00f3 xu\\u1ea5t x\\u1ee9 t\\u1eeb Trung Qu\\u1ed1c \\u1ea1\\n(xu\\u1ea5t x\\u1ee9 trong ph\\u1ea7n m\\u00f4 -<br>\", \"query_knowledge_base\", \"['attribute:origin']\", \"action_query_babe_kb\"], [\"ok shop\", \"D\\u1ea1,v\\u00e2ng \\u1ea1\", \"agree\", null, \"utter_agree\"], [\"b\\u1ea1n \\u01a1i\", \"Ch\\u00e0o b\\u1ea1n, m\\u00ecnh l\\u00e0 tr\\u1ee3 l\\u00fd \\u1ea3o c\\u1ee7a Shop G\\u1ea5u & B\\u00ed Ng\\u00f4,-<br>\", \"greet\", null, \"utter_greet\"], [\"cho m\\u00ecnh h\\u1ecfi\", \"D\\u1ea1,v\\u00e2ng\", \"want_to_query\", null, \"utter_want_to_query\"], [\"m\\u00ecnh mu\\u1ed1n mua c\\u00e2u tr\\u01b0\\u1ee3t cho b\\u00e9 th\\u00ec m n\\u00ean ch\\u1ecdn lo\\u1ea1i-<br>\", \"(B\\u1eaft \\u0111\\u01b0\\u1ee3c \\u1ea3nh g\\u1eedi ti\\u1ebfp theo m\\u1edbi tr\\u1ea3 l\\u1eddi user)\", \"query_knowledge_base\", \"['object_type:cau_truot', 'attribute:price']\", \"query_knowledge_base\"], [\"url\", \"S\\u1ea3n ph\\u1ea9m  c\\u1ea7u tr\\u01b0\\u1ee3t  hi\\u1ec7n shop \\u0111ang c\\u00f3 gi\\u00e1: 500,00-<br> 0 VND (gi\\u00e1 g\\u1ed1c 500,000 VND).\\r\\nB\\u1ea1n tham kh\\u1ea3o c\\u00e1c s\\u1ea3-<br>\", \"send_link\", \"url\", \"action_handle_send_link_only\"], [\"Lo\\u1ea1i n\\u00e0y bn v\\u1eady b\\u1ea1n\", \"(B\\u1eaft \\u0111\\u01b0\\u1ee3c \\u1ea3nh g\\u1eedi ti\\u1ebfp theo m\\u1edbi tr\\u1ea3 l\\u1eddi user)\", \"query_knowledge_base\", \"['mention:lo\\u1ea1i n\\u00e0y', 'attribute:price']\", \"action_query_babe_kb\"], [\"url\", \"S\\u1ea3n ph\\u1ea9m  B\\u1ea2NG V\\u1ebc HOLLA 2 in 1  hi\\u1ec7n shop \\u0111ang c\\u00f3 -<br> gi\\u00e1: 830,000 VND (gi\\u00e1 g\\u1ed1c 1,090,000 VND).\\nB\\u1ea1n tham-<br>\", \"send_link\", \"url\", \"action_query_babe_kb\"], [\"C\\u00f3 nh\\u1eefng m\\u00e0u g\\u00ec \\u1ea1 ?\", \"D\\u1ea1, B\\u1ea2NG V\\u1ebc HOLLA 2 in 1 hi\\u1ec7n c\\u00f3 c\\u00e1c m\\u00e0u: H\\u1ed3ng, Xa-<br>\", \"query_knowledge_base\", \"['attribute:color']\", \"action_query_babe_kb\"], [\"\\u0110\\u1ec3 m\\u00ecnh tham kh\\u1ea3o th\\u00eam , c\\u00f3 g\\u00ec m\\u00ecnh b\\u00e1o s\\u1edbm\", \"D\\u1ea1,v\\u00e2ng \\u1ea1\", \"finish_conv\", null, \"action_finish_conv\"], [\"url\", \"B\\u1ea1n \\u0111ang t\\u00ecm ki\\u1ebfm th\\u00f4ng tin g\\u00ec \\u1ea1?\", \"send_link\", \"url\", \"action_handle_send_link_only\"], [\"Gi\\u00e1 bnh shop\", \"S\\u1ea3n ph\\u1ea9m B\\u1ea2NG V\\u1ebc HOLLA 2 in 1 hi\\u1ec7n shop \\u0111ang c\\u00f3 gi-<br> \\u00e1: *830,000 VND (gi\\u00e1 g\\u1ed1c 1,090,000 VND)*.\\r\\nB\\u1ea1n tha-<br>\", \"query_knowledge_base\", \"['attribute:price']\", \"action_query_babe_kb\"], [\"url\", \"S\\u1ea3n ph\\u1ea9m NG\\u1ef0A B\\u1eacP B\\u00caNH HOLLA 2020 hi\\u1ec7n shop \\u0111ang c-<br> \\u00f3 gi\\u00e1: *580,000 VND (gi\\u00e1 g\\u1ed1c 800,000 VND)*.\\r\\nB\\u1ea1n t-<br>\", \"send_link\", \"url\", \"action_handle_send_link_only\"], [\"Ng\\u1ef1a n\\u00e0y th\\u00ec sao\", \"D\\u1ea1, s\\u1ea3n ph\\u1ea9mNG\\u1ef0A B\\u1eacP B\\u00caNH HOLLA 2020hi\\u1ec7n t\\u1ea1i b\\u00ean s-<br> hop \\u0111ang t\\u1ea1m h\\u1ebft h\\u00e0ng \\u1ea1. B\\u1ea1n tham kh\\u1ea3o c\\u00e1c s\\u1ea3n ph\\u1ea9-<br> m kh\\u00e1c d\\u00e0nh cho b\\u00e9 nh\\u00e9!D\\u1ea1, s\\u1ea3n ph\\u1ea9m Ng\\u1ef1a B\\u1eadp B\\u1ec7nh -<br> hi\\u1ec7n t\\u1ea1i b\\u00ean shop \\u0111ang t\\u1ea1m h\\u1ebft h\\u00e0ng \\u1ea1. B\\u1ea1n tham kh-<br>\", \"query_knowledge_base\", \"['object_type:Ng\\u1ef1a',\\n'mention:n\\u00e0y']\", \"action_query_babe_kb\"], [\"thank sh\", \"D\\u1ea1, c\\u1ea3m \\u01a1n \\u1ea1!\", \"thank\", null, \"utter_thank\"], [\"url\", \"B\\u1ea1n \\u0111ang t\\u00ecm ki\\u1ebfm th\\u00f4ng tin g\\u00ec \\u1ea1?\", \"send_link\", \"url\", \"action_handle_send_link_only\"], [\"B\\u1ed9 n\\u00e0y bn v\\u1eady shop\", \"COMBO HOLLA FULL PHI\\u00caN B\\u1ea2N 2020 M\\u1eaaU V\\u01af\\u01a0NG MI\\u1ec6N hi\\u1ec7-<br> n shop \\u0111ang c\\u00f3 gi\\u00e1: 4100000 VND (gi\\u00e1 g\\u1ed1c 5000000 V-<br> ND). B\\u1ea1n tham kh\\u1ea3o c\\u00e1c s\\u1ea3n ph\\u1ea9m sau nh\\u00e9 \\u1ea1: <show s-<br>\", \"query_knowledge_base\", \"['mention:b\\u1ed9 n\\u00e0y', 'attribute:price']\", \"action_query_babe_kb\"], [\"N\\u01b0\\u1edbc n\\u00e0o s\\u1ea3n xu\\u1ea5t \", \"D\\u1ea1 COMBO HOLLA FULL PHI\\u00caN B\\u1ea2N 2020 M\\u1eaaU V\\u01af\\u01a0NG MI\\u1ec6N -<br> c\\u00f3 xu\\u1ea5t x\\u1ee9 t\\u1eeb Trung Qu\\u1ed1c \\u1ea1\\n(xu\\u1ea5t x\\u1ee9 trong ph\\u1ea7n m\\u00f4 -<br>\", \"query_knowledge_base\", \"['attribute:origin']\", \"action_query_babe_kb\"], [\"url\", \"B\\u1ea1n \\u0111ang t\\u00ecm ki\\u1ebfm th\\u00f4ng tin g\\u00ec \\u1ea1?\", \"send_link\", \"url\", \"action_handle_send_link_only\"], [\"2 b\\u1ed9 n\\u00e0y bn \\u1ea1\", \"B\\u1ed9 \\u0111\\u1ed3 ch\\u01a1i nh\\u00e0 b\\u1ebfp th\\u00f4ng minh hi\\u1ec7n shop \\u0111ang c\\u00f3 gi-<br> \\u00e1: 790000 VND (gi\\u00e1 g\\u1ed1c 790000 VND). B\\u1ea1n tham kh\\u1ea3o -<br>\", \"query_knowledge_base\", \"['mention:b\\u1ed9 n\\u00e0y', 'attribute:price']\", \"action_query_babe_kb\"], [\"ch\\u1ea5t li\\u1ec7u g\\u00ec th\\u1ebf\", \"D\\u1ea1 s\\u1ea3n ph\\u1ea9m l\\u00e0m t\\u1eeb nh\\u1ef1a \\u1ea1\\r\\nB\\u1ea1n tham kh\\u1ea3o c\\u00e1c s\\u1ea3n p-<br>\", \"query_knowledge_base\", \"['attribute:material']\", \"action_query_babe_kb\"], [\"b\\u1ea1n \\u01a1i\", \"Ch\\u00e0o b\\u1ea1n, m\\u00ecnh l\\u00e0 tr\\u1ee3 l\\u00fd \\u1ea3o c\\u1ee7a Shop G\\u1ea5u & B\\u00ed Ng\\u00f4,-<br>\", \"greet\", null, \"utter_greet\"], [\"url\", \"B\\u1ea1n \\u0111ang t\\u00ecm ki\\u1ebfm th\\u00f4ng tin g\\u00ec \\u1ea1?\", \"send_link\", \"url\", \"action_handle_send_link_only\"], [\"Bn m\\u1ed9t b\\u1ed9 n\\u00e0y v\\u1eady shop\", \"S\\u1ea3n ph\\u1ea9m  B\\u1ea2NG V\\u1ebc HOLLA 2 in 1  hi\\u1ec7n shop \\u0111ang c\\u00f3 -<br> gi\\u00e1: 830,000 VND (gi\\u00e1 g\\u1ed1c 1,090,000 VND).\\nB\\u1ea1n tham-<br>\", \"query_knowledge_base\", \"['attribute:price', 'mention:b\\u1ed9 n\\u00e0y']\", \"action_query_babe_kb\"], [\"C\\u1ea3 b\\u1ed9 h\\u1ea3 b ?\", \"D\\u1ea1,v\\u00e2ng \\u1ea1\", \"query_knowledge_base\", null, \"action_query_babe_kb\"], [\"b\\u1ea1n \\u01a1i\", \"Ch\\u00e0o b\\u1ea1n, m\\u00ecnh l\\u00e0 tr\\u1ee3 l\\u00fd \\u1ea3o c\\u1ee7a Shop G\\u1ea5u & B\\u00ed Ng\\u00f4,-<br>\", \"greet\", null, \"utter_greet\"], [\"url\", \"B\\u1ea1n \\u0111ang t\\u00ecm ki\\u1ebfm th\\u00f4ng tin g\\u00ec \\u1ea1?\", \"send_link\", \"url\", \"action_handle_send_link_only\"], [\"B\\u1ed9 nay bn b\", \"S\\u1ea3n ph\\u1ea9m  B\\u1ea2NG V\\u1ebc HOLLA 2 in 1  hi\\u1ec7n shop \\u0111ang c\\u00f3 -<br> gi\\u00e1: 830,000 VND (gi\\u00e1 g\\u1ed1c 1,090,000 VND).\\nB\\u1ea1n tham-<br>\", \"query_knowledge_base\", \"['mention:b\\u1ed9 nay', 'attribute:price']\", \"action_query_babe_kb\"], [\"M\\u1ea5y ch\\u1eef tr\\u00ean b\\u1ea3n\\r\\nLa co s\\u1eb5n lun hay la k co \\u1ea1\", \"S\\u1ea3n ph\\u1ea9m  B\\u1ea2NG V\\u1ebc HOLLA 2 in 1 bao g\\u1ed3m c\\u00e1c ph\\u1ee5 ki\\u1ec7-<br> n sau: b\\u1ed9 ch\\u1eef, b\\u1ed9 s\\u1ed1 v\\u00e0 b\\u00fat n\\u01b0\\u1edbc\\nB\\u1ea1n tham kh\\u1ea3o s\\u1ea3n-<br>\", \"query_knowledge_base\", \"['attribute:accessories']\", \"action_query_babe_kb\"], [\"url\", \"B\\u1ea1n \\u0111ang t\\u00ecm ki\\u1ebfm th\\u00f4ng tin g\\u00ec \\u1ea1?\", \"send_link\", \"url\", \"action_handle_send_link_only\"], [\"Bn shop oi\", \"S\\u1ea3n ph\\u1ea9m  B\\u1ea2NG V\\u1ebc HOLLA 2 in 1  hi\\u1ec7n shop \\u0111ang c\\u00f3 -<br> gi\\u00e1: 830,000 VND (gi\\u00e1 g\\u1ed1c 1,090,000 VND).\\nB\\u1ea1n tham-<br>\", \"query_knowledge_base\", \"['attribute:price']\", \"utter_greet\"], [\"Chi\\u1ec1u nay ship lu\\u00f4n cho m\\u00ecnh \\u0111\\u01b0\\u1ee3c kh\\u00f4ng\", \"B\\u1ea1n cho shop xin \\u0111\\u1ecba ch\\u1ec9 nh\\u1eadn h\\u00e0ng \\u1ea1.\", \"time_ship\", null, \"action_time_ship\"], [\"s\\u1ed1 7 tr\\u00e0ng thi\", \"V\\u1edbi \\u0111\\u1ecba ch\\u1ec9 s\\u1ed1 7 tr\\u00e0ng thi shop c\\u00f3 th\\u1ec3 ship h\\u00e0ng \\u0111-<br>\", null, null, null], [\"Thanh ch\\u1eafn c\\u1ea7u thang bn a\", \"S\\u1ea3n ph\\u1ea9m thanh ch\\u1eafn c\\u1ea7u thang hi\\u1ec7n shop \\u0111ang c\\u00f3 gi-<br> \\u00e1: 830,000 VND (gi\\u00e1 g\\u1ed1c 1,090,000 VND).\\nB\\u1ea1n tham k-<br>\", \"query_knowledge_base\", \"['attribute:price']['object_type:thanh_chan_cau_thang']\", \"action_query_babe_kb\"], [\"k\\u00edch th\\u01b0\\u1edbc tn shop\", \"D\\u1ea1, thanh ch\\u1eafn c\\u1ea7u thang c\\u00f3 (c\\u00e1c-nhi\\u1ec1u k\\u00edch th\\u01b0\\u1edbc)-<br>  k\\u00edch th\\u01b0\\u1edbc: 74x83x 77cm \\u1ea1. \\n<show card s\\u1ea3n ph\\u1ea9m> -<br>\", \"query_knowledge_base\", \"['attribute:size']\", \"action_query_babe_kb\"], [\"ok shop\", \"D\\u1ea1,v\\u00e2ng\", \"agree\", null, \"utter_agree\"], [\"b\\u1ea1n \\u01a1i\", \"Ch\\u00e0o b\\u1ea1n, m\\u00ecnh l\\u00e0 tr\\u1ee3 l\\u00fd \\u1ea3o c\\u1ee7a Shop G\\u1ea5u & B\\u00ed Ng\\u00f4,-<br>\", \"greet\", null, \"utter_greet\"], [\"B\\u1ed9 \\u0111\\u1ed3 ch\\u01a1i n\\u1ea5u \\u0103n gi\\u00e1 bn \\u1ea1\", \"M\\u00ecnh ch\\u01b0a x\\u00e1c \\u0111\\u1ecbnh \\u0111\\u01b0\\u1ee3c m\\u00f3n \\u0111\\u1ed3 b\\u1ea1n h\\u1ecfi, b\\u1ea1n m\\u00f4 t\\u1ea3 -<br>\", \"query_knowledge_base\", \"['attribute:price']\", \"action_query_babe_kb\"], [\"url\", \"B\\u1ed9 \\u0111\\u1ed3 ch\\u01a1i nh\\u00e0 b\\u1ebfp th\\u00f4ng minh hi\\u1ec7n shop \\u0111ang c\\u00f3 gi-<br> \\u00e1: 790000 VND (gi\\u00e1 g\\u1ed1c 790000 VND). B\\u1ea1n tham kh\\u1ea3o -<br>\", \"send_link\", \"url\", \"action_handle_send_link_only\"], [\"ok shop\", \"D\\u1ea1,v\\u00e2ng\", \"agree\", null, \"utter_agree\"], [\"url\", \"action_handle_send_link_only\", \"send_link\", \"url\", \"action_handle_send_link_only\"], [\"Thanh 36cm l\\u1eafp th\\u00eam v\\u00e0o ch\\u1ed7 h\\u1eb9p c\\u0169ng \\u0111c ph\\u1ea3i ko a,-<br>\", \"Cho m\\u00ecnh xin chi\\u1ec1u r\\u1ed9ng c\\u1ea7u thang nh\\u00e0 b\\u1ea1n \\u1ea1 ?\", \"to_compare\", \"['size:36cm', 'size:12cm']\", \"action_to_compare\"], [\"0,5m \\u1ea1\", \"D\\u1ea1 s\\u1ea3n ph\\u1ea9m thanh 36 cm v\\u00e0 12 cm l\\u1eafp \\u0111\\u01b0\\u1ee3c v\\u1edbi c\\u1ea7u -<br>\", \"query_knowledge_base\", \"['size:0,5m']\", \"action_query_babe_kb\"], [\"url\", \"action_handle_send_link_only\", \"send_link\", \"url\", \"action_handle_send_link_only\"], [\"Ng\\u1ef1a n\\u00e0y h\\u00e0ng v\\u1ec1 h\\u1ea3 shop?\", \"S\\u1ea3n ph\\u1ea9m  NG\\u1ef0A B\\u1eacP B\\u00caNH HOLLA 2020  hi\\u1ec7n shop c\\u00f3 h-<br> \\u00e0ng v\\u00e0 \\u0111ang c\\u00f3 gi\\u00e1: 580000\\n VND (gi\\u00e1 g\\u1ed1c 800000 VN-<br> D).\\nB\\u1ea1n tham kh\\u1ea3o c\\u00e1c s\\u1ea3n ph\\u1ea9m sau nh\\u00e9 \\u1ea1:\\n<show sp-<br>\", \"query_knowledge_base\", \"['object_type:ngua_bap_benh', 'mention:n\\u00e0y']\", \"action_query_babe_kb\"], [\"B\\u00ean m\\u00ecnh c\\u00f3 m\\u00e3 gi\\u1ea3m gi\\u00e1 shopee k shop?\", \"Hi\\u1ec7n shop kh\\u00f4ng c\\u00f3 m\\u00e3 gi\\u1ea3m gi\\u00e1 shopee cho s\\u1ea3n ph\\u1ea9m-<br>\", \"query_knowledge_base\", \"['attribute:promotion','attribute:codediscount']\", \"action_query_babe_kb\"], [\"url\", \"B\\u1ea1n \\u0111ang t\\u00ecm ki\\u1ebfm th\\u00f4ng tin g\\u00ec \\u1ea1?\", \"send_link\", \"url\", \"action_handle_send_link_only\"], [\"B\\u1ea1n \\u01a1i b\\u1ed9 n\\u00e0y bao ti\\u1ec1n \\u1ea1\", \"S\\u1ea3n ph\\u1ea9m  B\\u1ea2NG V\\u1ebc HOLLA 2 in 1  hi\\u1ec7n shop \\u0111ang c\\u00f3 -<br> gi\\u00e1: 830,000 VND (gi\\u00e1 g\\u1ed1c 1,090,000 VND).\\nB\\u1ea1n tham-<br>\", \"query_knowledge_base\", \"['mention:b\\u1ed9 n\\u00e0y', 'attribute:price']\", \"action_query_babe_kb\"], [\" bao g\\u1ed3m c\\u1ea3 b\\u1ed9 ch\\u1eef, s\\u1ed1 \\u1edf tr\\u00ean b\\u1ea3ng + b\\u00fat n\\u01b0\\u1edbc \\u00e0 b\", \"S\\u1ea3n ph\\u1ea9m  B\\u1ea2NG V\\u1ebc HOLLA 2 in 1 bao g\\u1ed3m c\\u00e1c ph\\u1ee5 ki\\u1ec7-<br> n sau: b\\u1ed9 ch\\u1eef, b\\u1ed9 s\\u1ed1 v\\u00e0 b\\u00fat n\\u01b0\\u1edbc\\nB\\u1ea1n tham kh\\u1ea3o s\\u1ea3n-<br>\", \"query_knowledge_base\", \"\\n['accessories:b\\u1ed9 ch\\u1eef']['accessories:b\\u1ed9 s\\u1ed1']['accessories:b\\u00fat n\\u01b0\\u1edbc']\", \"action_query_babe_kb\"], [\"url\", \"B\\u1ea1n \\u0111ang t\\u00ecm ki\\u1ebfm th\\u00f4ng tin g\\u00ec \\u1ea1?\", \"send_link\", \"url\", \"action_handle_send_link_only\"], [\"B\\u1ed9 n\\u00e0y bao nhi\\u00eau v\\u1eady shop \\u01a1i\", \"S\\u1ea3n ph\\u1ea9m  B\\u1ea2NG V\\u1ebc HOLLA 2 in 1  hi\\u1ec7n shop \\u0111ang c\\u00f3 -<br> gi\\u00e1: 830,000 VND (gi\\u00e1 g\\u1ed1c 1,090,000 VND).\\nB\\u1ea1n tham-<br>\", \"query_knowledge_base\", \"['mention:b\\u1ed9 n\\u00e0y', 'attribute:price']\", \"action_query_babe_kb\"], [\"M\\u00ecnh c\\u00f3 b\\u1ea3ng v\\u1ebd \\u0111a n\\u0103ng cho b\\u00e9 m\\u00e0 k \\u0111i li\\u1ec1n v\\u1edbi b\\u00e0-<br>\", \"S\\u1ea3n ph\\u1ea9m b\\u1ea3ng v\\u1ebd m\\u00e0 kh\\u00f4ng \\u0111i li\\u1ec1n v\\u1edbi b\\u00e0n hi\\u1ec7n sho-<br> p c\\u00f3 nh\\u1eefng s\\u1ea3n ph\\u1ea9m sau m\\u1eddi b\\u1ea1n tham kh\\u1ea3o:\\n<sp1><s-<br>\", \"query_knowledge_base\", null, \"action_query_babe_kb\"], [\"url\", \"B\\u1ea1n \\u0111ang t\\u00ecm ki\\u1ebfm th\\u00f4ng tin g\\u00ec \\u1ea1?\", \"send_link\", \"url\", \"action_handle_send_link_only\"], [\"url\", \"B\\u1ea1n \\u0111ang t\\u00ecm ki\\u1ebfm th\\u00f4ng tin g\\u00ec \\u1ea1?\", \"send_link\", \"url\", \"action_handle_send_link_only\"], [\"B\\u00e1o gi\\u00e1 gi\\u00fap m\\u00ecnh\", \"S\\u1ea3n ph\\u1ea9m  B\\u1ea2NG V\\u1ebc HOLLA 2 in 1  hi\\u1ec7n shop \\u0111ang c\\u00f3 -<br> gi\\u00e1: 830,000 VND (gi\\u00e1 g\\u1ed1c 1,090,000 VND).\\nB\\u1ea1n tham-<br>\", \"query_knowledge_base\", \"['attribute:price']\", \"action_query_babe_kb\"], [\"G\\u1ed3m b\\u1ea3ng, gh\\u1ebf v\\u00e0 g\\u00ec n\\u1eefa ko shop\", null, \"query_knowledge_base\", \"['attribute:accessories']\", \"action_query_babe_kb\"], [\"url\", \"S\\u1ea3n ph\\u1ea9m  B\\u1ea2NG V\\u1ebc HOLLA 2 in 1 bao g\\u1ed3m c\\u00e1c ph\\u1ee5 ki\\u1ec7-<br> n sau: b\\u1ed9 ch\\u1eef, b\\u1ed9 s\\u1ed1 v\\u00e0 b\\u00fat n\\u01b0\\u1edbc \\u1ea1\\nB\\u1ea1n tham kh\\u1ea3o s-<br>\", \"send_link\", \"url\", \"action_handle_send_link_only\"], [\"M\\u00ecnh c\\u00f3 b\\u1ea3ng v\\u1ebd \\u0111a n\\u0103ng cho b\\u00e9 m\\u00e0 k \\u0111i li\\u1ec1n v\\u1edbi gh-<br>\", \"S\\u1ea3n ph\\u1ea9m b\\u1ea3ng v\\u1ebd m\\u00e0 kh\\u00f4ng \\u0111i li\\u1ec1n v\\u1edbi gh\\u1ebf hi\\u1ec7n sho-<br> p c\\u00f3 nh\\u1eefng s\\u1ea3n ph\\u1ea9m sau m\\u1eddi b\\u1ea1n tham kh\\u1ea3o:\\n<sp1><s-<br>\", \"query_knowledge_base\", \"['aobject_type:bang_ve']\", \"action_query_babe_kb\"], [\"M\\u1eabu c\\u1ea7u tr\\u01b0\\u1ee3t n\\u00e0y b\\u00e1o gi\\u00e1 gi\\u00fap e nh\\u00e9\", null, \"query_knowledge_base\", \"['object_type:cau_truot', 'mention:n\\u00e0y', 'attribute:price']\", \"action_query_babe_kb\"], [\"url\", \"S\\u1ea3n ph\\u1ea9m  c\\u1ea7u tr\\u01b0\\u1ee3t  hi\\u1ec7n shop \\u0111ang c\\u00f3 gi\\u00e1: 830,00-<br> 0 VND (gi\\u00e1 g\\u1ed1c 1,090,000 VND).\\nB\\u1ea1n tham kh\\u1ea3o s\\u1ea3n p-<br>\", \"send_link\", \"url\", \"action_handle_send_link_only\"], [\"D\\u00f9ng cho b\\u00e9 bao th\\u00e1ng \\u1ea1\", \"C\\u1ea7u tr\\u01b0\\u1ee3t c\\u00f3 \\u0111\\u1ed9 tu\\u1ed5i s\\u1eed d\\u1ee5ng 0-36 th\\u00e1ng \\nB\\u1ea1n tham -<br>\", \"query_knowledge_base\", \"['attribute:age_of_use']\", \"action_query_babe_kb\"], [\"B\\u00e1o gi\\u00e1 gi\\u00fap m\\u00ecnh b\\u1ea3ng v\\u1ebd Hola nh\\u00e9\\n1 b\\u1ed9 bao g\\u1ed3m nh-<br>\", \"S\\u1ea3n ph\\u1ea9m  B\\u1ea2NG V\\u1ebc HOLLA 2 in 1  hi\\u1ec7n shop \\u0111ang c\\u00f3 -<br> gi\\u00e1: 830,000 VND (gi\\u00e1 g\\u1ed1c 1,090,000 VND).\\nS\\u1ea3n ph\\u1ea9m-<br>  B\\u1ea2NG V\\u1ebc HOLLA 2 in 1 bao g\\u1ed3m c\\u00e1c ph\\u1ee5 ki\\u1ec7n sau: b\\u1ed9-<br>  ch\\u1eef, b\\u1ed9 s\\u1ed1 v\\u00e0 b\\u00fat n\\u01b0\\u1edbc \\u1ea1 B\\u1ea1n tham kh\\u1ea3o s\\u1ea3n ph\\u1ea9m s-<br>\", \"query_knowledge_base\", \"['attribute:price','object_type:bang_ve','brand:hola','attribute:accessories']\", \"action_query_babe_kb\"], [\"url\", null, \"send_link\", \"url\", \"action_handle_send_link_only\"], [\"c\\u00f3 tr\\u00ean shopee kh\\u00f4ng shop\", \"M\\u1eddi b\\u1ea1n tham kh\\u1ea3o link shopee c\\u1ee7a s\\u1ea3n ph\\u1ea9m:\\n<show -<br>\", \"query_knowledge_base\", \"['attribute:link']\", \"action_query_babe_kb\"], [\"Cho m xem m\\u00e0u\", \"M\\u00ecnh ch\\u01b0a x\\u00e1c \\u0111\\u1ecbnh \\u0111\\u01b0\\u1ee3c m\\u00f3n \\u0111\\u1ed3 b\\u1ea1n h\\u1ecfi, b\\u1ea1n m\\u00f4 t\\u1ea3 -<br>\", \"query_knowledge_base\", \"['attribute:color']\", \"action_query_babe_kb\"], [\"Gh\\u1ebf \\u0103n d\\u1eb7m newber \\u1ea1\", \"D\\u1ea1, s\\u1ea3n ph\\u1ea9m Gh\\u1ebf \\u0102n h\\u00e3ng s\\u1ea3n xu\\u1ea5t Newber hi\\u1ec7n t\\u1ea1i -<br> \\u0111ang c\\u00f3 c\\u00e1c m\\u00e0u sau \\u1ea1 : h\\u1ed3ng, xanh\\nB\\u1ea1n tham kh\\u1ea3o s-<br>\", \"query_knowledge_base\", \"['object_type:ghe_an', 'brand:newber']\", \"action_query_babe_kb\"], [\"b\\u00e9 bao tu\\u1ed5i th\\u00ec ng\\u1ed3i \\u0111\\u01b0\\u1ee3c \\u1ea1\", \"Gh\\u1ebf \\u0102n h\\u00e3ng s\\u1ea3n xu\\u1ea5t Newber c\\u00f3 \\u0111\\u1ed9 tu\\u1ed5i s\\u1eed d\\u1ee5ng 0-3-<br> 6 th\\u00e1ng \\nB\\u1ea1n tham kh\\u1ea3o s\\u1ea3n ph\\u1ea9m sau nh\\u00e9 \\u1ea1:\\n<show s-<br>\", \"query_knowledge_base\", \"['attribute:age_of_use']\", \"action_query_babe_kb\"], [\"url\", \"B\\u1ea1n \\u0111ang t\\u00ecm ki\\u1ebfm th\\u00f4ng tin g\\u00ec \\u1ea1?\", \"send_link\", \"url\", \"action_handle_send_link_only\"], [\"B\\u1ea3n cho b\\u00e9 2 tuoi bao nh \\u1ea1\", \"S\\u1ea3n ph\\u1ea9m B\\u1ea2NG V\\u1ebc HOLLA 2 in 1 hi\\u1ec7n shop \\u0111ang c\\u00f3 gi-<br> \\u00e1: *830,000 VND (gi\\u00e1 g\\u1ed1c 1,090,000 VND)*.\\r\\nB\\u1ea1n tha-<br>\", \"query_knowledge_base\", \"['age_of_use:2 tuoi', 'attribute:price']\", \"action_query_babe_kb\"], [\"ok shop\", \"D\\u1ea1,v\\u00e2ng\", \"agree\", null, \"utter_agree\"], [\"B\\u1ea1n \\u01a1i ship cho m\\u00ecnh 1 thanh ch\\u1eafn c\\u1eeda v\\u00e0 1 thanh n-<br>\", \"\\\"C\\u1ea3m \\u01a1n b\\u1ea1n! B\\u1ea1n vui l\\u00f2ng \\u0111i\\u1ec1n th\\u00f4ng tin v\\u00e0o M\\u1eabu \\u0111-<br> \\u1eb7t h\\u00e0ng gi\\u00fap shop nh\\u00e9!\\n<Show ra c\\u00e1i b\\u1ea3ng m\\u1eabu \\u0111\\u1eb7t h-<br> \\u00e0ng: c\\u00f3 t\\u00ean s\\u1ea3n ph\\u1ea9m, cho kh\\u00e1ch t\\u00f9y ch\\u1ecdn s\\u1ed1 l\\u01b0\\u1ee3ng,-<br>\", \"query_knowledge_base\", \"['object_type:thanh_chan_cua','object_type:thanh_noi','attribute:ship'size:12cm]\", null], [null, \"B\\u1ea1n \\u0111\\u00e3 \\u0111\\u1eb7t h\\u00e0ng th\\u00e0nh c\\u00f4ng , \\u0111\\u01a1n h\\u00e0ng s\\u1ebd \\u0111c gioa \\u0111-<br>\", \"agree\", null, \"action_query_babe_kb\"], [\"b\\u1ea1n \\u01a1i\", \"Ch\\u00e0o b\\u1ea1n, m\\u00ecnh l\\u00e0 tr\\u1ee3 l\\u00fd \\u1ea3o c\\u1ee7a Shop G\\u1ea5u & B\\u00ed Ng\\u00f4,-<br>\", \"greet\", null, \"utter_greet\"], [\"shop \\u01a1i m\\u00ecnh c\\u1ea7n mua v\\u00e1y v\\u1eaft s\\u1eeda\\ns\\u01b0a\", \"Hi\\u1ec7n t\\u1ea1i s\\u1ea3n ph\\u1ea9m m\\u00e1y h\\u00fat s\\u1eefa shop \\u0111ang c\\u00f3 nh\\u1eefng g-<br>\", \"query_knowledge_base\", \"['object_type:may_hut_sua']\", \"action_query_babe_kb\"], [\"/query_knowledge_base{\\\"price\\\": \\\"1M - 2M\\\"}\\t\", \"M\\u1eddi b\\u1ea1n click v\\u00e0o \\\"Xem chi ti\\u1ebft\\\" \\u0111\\u1ec3 tham kh\\u1ea3o s\\u1ea3n -<br> ph\\u1ea9m hi\\u1ec7n c\\u00f3 t\\u1ea1i shop nh\\u00e9!\\r\\n<card sp 1> <card sp 2-<br>\", \"query_knowledge_base\", null, \"action_query_babe_kb\"], [\"Alo\", \"Ch\\u00e0o b\\u1ea1n, m\\u00ecnh l\\u00e0 tr\\u1ee3 l\\u00fd \\u1ea3o c\\u1ee7a Shop G\\u1ea5u & B\\u00ed Ng\\u00f4,-<br>\", \"greet\", null, \"utter_greet\"], [\"url\", \"B\\u1ea1n \\u0111ang t\\u00ecm ki\\u1ebfm th\\u00f4ng tin g\\u00ec \\u1ea1?\", \"send_link\", \"url\", \"action_handle_send_link_only\"], [\"\\u0110\\u0103ng shopee ch\\u01b0a\", \"M\\u1eddi b\\u1ea1n tham kh\\u1ea3o link shopee c\\u1ee7a s\\u1ea3n ph\\u1ea9m:\\n<show -<br>\", \"action_query_babe_kb\", \"['attribute:link']\", \"action_query_babe_kb\"], [\"Alo\", \"Ch\\u00e0o b\\u1ea1n, m\\u00ecnh l\\u00e0 tr\\u1ee3 l\\u00fd \\u1ea3o c\\u1ee7a Shop G\\u1ea5u & B\\u00ed Ng\\u00f4,-<br>\", \"greet\", null, \"utter_greet\"], [\"url\", null, \"send_link\", \"url\", \"action_handle_send_link_only\"], [\"\\u0110\\u0103ng shopee ch\\u01b0a\", \"S\\u1ea3n ph\\u1ea9m B\\u1ed9 \\u0111\\u1ed3 ch\\u01a1i nh\\u00e0 b\\u1ebfp th\\u00f4ng minh hi\\u1ec7n ch\\u01b0a c-<br>\", \"query_knowledge_base\", \"['attribute:link']\", \"action_query_babe_kb\"], [\"Bao gi\\u1edd \\u0111\\u0103ng l\\u00ean th\\u00ec th\\u00f4ng b\\u00e1o m\\u00ecnh nh\\u00e9 \\u0111\\u1ec3 m\\u00ecnh \\u0111\\u1eb7-<br>\", \"D\\u1ea1,v\\u00e2ng \\u1ea1\", \"query_knowledge_base\", null, \"action_query_babe_kb\"], [\"b \\u01a1i cho m\\u00ecnh h\\u1ecfi ch\\u00fat\\nb\\u00ean m\\u00ecnh c\\u00f3 qu\\u00e2y k k \\u1ea1\", \"S\\u1ea3n ph\\u1ea9m  Qu\\u00e2y  hi\\u1ec7n shop \\u0111ang c\\u00f3 gi\\u00e1: *1,440,000 -<br> VND (gi\\u00e1 g\\u1ed1c 1,490,000 VND), 1,040,000 VND (gi\\u00e1 g\\u1ed1-<br> c 1,290,000 VND), 1,340,000 VND (gi\\u00e1 g\\u1ed1c 1,390,000-<br>\", \"query_knowledge_base\", \"['object_type:quay']\", \"action_query_babe_kb\"], [\"m\\u1eabu n\\u00e0y kt bn h\\u1ea3 b\", \"M\\u00ecnh ch\\u01b0a x\\u00e1c \\u0111\\u1ecbnh \\u0111\\u01b0\\u1ee3c m\\u00f3n \\u0111\\u1ed3 b\\u1ea1n h\\u1ecfi, b\\u1ea1n m\\u00f4 t\\u1ea3 -<br>\", \"query_knowledge_base\", \"['mention:m\\u1eabu n\\u00e0y', 'attribute:size']\", \"action_query_babe_kb\"], [\"url\", \"S\\u1ea3n ph\\u1ea9m  COMBO HOLLA LI\\u00caN HO\\u00c0N 2020 hi\\u1ec7n shop \\u0111an-<br> g c\\u00f3 k\\u00edch th\\u01b0\\u1edbc: *1.8x2M*.\\nB\\u1ea1n tham kh\\u1ea3o s\\u1ea3n ph\\u1ea9m -<br>\", \"send_link\", \"url\", \"action_handle_send_link_only\"], [\"mai ship m\\u00ecnh b\\u1ed9 n\\u00e0y b nh\\u00e9\\n\", \"Cho shop xin th\\u00f4ng tin \\u1ea1 ( \\u0111\\u1ecba ch\\u1ec9 , s\\u1ed1 \\u0111i\\u1ec7n tho\\u1ea1i-<br>\", \"query_knowledge_base\", \"['mention:b\\u1ed9 n\\u00e0y']\", \"action_query_babe_kb\"], [\"434 tr\\u1ea7n kh\\u00e1t ch\\u00e2n, hai b\\u00e0 tr\\u01b0ng\\ns\\u0111t:113\", \"Th\\u00f4ng tin \\u0111\\u01a1n h\\u00e0ng \\n( ng nh\\u1eadn: t\\u00ean fb, t\\u00ean s\\u1ea3n ph\\u1ea9-<br> m, s\\u1ed1 l\\u01b0\\u1ee3ng, thu\\u1ed9c t\\u00ednh, gi\\u00e1 tr\\u1ecb s\\u1ea3n ph\\u1ea9m , ph\\u00ed sh-<br>\", \"query_knowledge_base\", null, \"action_query_babe_kb\"], [\"<x\\u00e1c nh\\u1eadn>\", \"C\\u00e1m \\u01a1n b\\u1ea1n \\u0111\\u00e3 mua h\\u00e0ng t\\u1ea1i shop, \\u0111\\u01a1n h\\u00e0ng s\\u1ebd \\u0111\\u01b0\\u1ee3c -<br> giao \\u0111\\u1ebfn 434 tr\\u1ea7n kh\\u00e1t ch\\u00e2n, 2 b\\u00e0 tr\\u01b0ng trong kho\\u1ea3-<br>\", \"agree\", null, null], [\"b\\u1ea1n \\u01a1i\", \"Ch\\u00e0o b\\u1ea1n, m\\u00ecnh l\\u00e0 tr\\u1ee3 l\\u00fd \\u1ea3o c\\u1ee7a Shop G\\u1ea5u & B\\u00ed Ng\\u00f4,-<br>\", \"greet\", null, \"utter_greet\"], [\"url\", \"S\\u1ea3n ph\\u1ea9m  Gh\\u1ebf cao \\u0111a n\\u0103ng Mastela 1015  hi\\u1ec7n shop -<br> \\u0111ang c\\u00f3 gi\\u00e1: 1320000 VND (gi\\u00e1 g\\u1ed1c 2000000 VND).\\nB\\u1ea1-<br>\", \"query_knowledge_base\", \"url\", \"action_query_babe_kb\"], [\"thank shop\", \"D\\u1ea1 v\\u00e2ng \\u1ea1.\", \"thank\", null, \"utter_thank\"], [\"url\", \"Ch\\u00e0o b\\u1ea1n, m\\u00ecnh l\\u00e0 tr\\u1ee3 l\\u00fd \\u1ea3o c\\u1ee7a Shop G\\u1ea5u & B\\u00ed Ng\\u00f4,-<br>\", \"greet\", \"url\", \"utter_greet\"], [\"Mua le dc k shop\", \"Qu\\u00e2y g\\u00f3c vu\\u00f4ng c\\u00e1nh nh\\u1ecf h\\u00ecnh ng\\u00f4i nh\\u00e0 toyhouse l\\u00e0 -<br> s\\u1ea3n ph\\u1ea9m b\\u00e1n l\\u1ebb hi\\u1ec7n \\u0111ang c\\u00f3 gi\\u00e1 1.090.000 - \\u20ab1.25-<br> 0.000\\n (gi\\u00e1 g\\u1ed1c 290.000 - \\u20ab1.390.000)\\nB\\u1ea1n tham kh\\u1ea3-<br>\", \"query_knowledge_base\", \"[]\", \"action_query_babe_kb\"], [\"Ship Th\\u1ea1ch Bnaf, LB ph\\u00ed bnhieu b\", \"Ship th\\u1ea1ch b\\u00e0n , long bi\\u00ean trong n\\u1ed9i th\\u00e0nh h\\u00e0 n\\u1ed9i -<br>\", \"query_knowledge_base\", \"[]\", \"action_handover_to_inbox\"], [\"Shop cho e h\\u1ecfi b\\u1ed9 \\u0111\\u1ed3 ch\\u01a1i cho b\\u00e9 n\\u00e0y c\\u00f3 to ko \\u1ea1. B-<br> \\u00e9 \\u0111\\u1ee9ng v\\u1edbi t\\u1edbi ko \\u1ea1. Do nh\\u00ecn qua h\\u00ecnh n\\u00ean ko h\\u00ecnh -<br>\", \"M\\u00ecnh ch\\u01b0a x\\u00e1c \\u0111\\u1ecbnh \\u0111\\u01b0\\u1ee3c m\\u00f3n \\u0111\\u1ed3 b\\u1ea1n h\\u1ecfi, b\\u1ea1n m\\u00f4 t\\u1ea3 -<br>\", \"query_knowledge_base\", \"['attribute:size']\", \"action_query_babe_kb\"], [\"url\", \"S\\u1ea3n ph\\u1ea9m  B\\u1ed9 \\u0111\\u1ed3 ch\\u01a1i nh\\u00e0 b\\u1ebfp th\\u00f4ng minh c\\u00f3 k\\u00edch th-<br> \\u01b0\\u1edbc: 57x30x77cm v\\u00e0 51x32x100cm\\nB\\u1ea1n tham kh\\u1ea3o c\\u00e1c s-<br>\", \"send_link\", \"url\", \"action_handle_send_link_only\\n\"], [\"c\\u00e1m \\u01a1n shop\", null, \"thank\", null, \"utter_thank\"], [\"hello\", \"Ch\\u00e0o b\\u1ea1n, m\\u00ecnh l\\u00e0 tr\\u1ee3 l\\u00fd \\u1ea3o c\\u1ee7a Shop G\\u1ea5u & B\\u00ed Ng\\u00f4,-<br>\", \"greet\", null, \"utter_greet\"], [\"gh\\u1ebf \\u0103n d\\u1eb7m\", \"Hi\\u1ec7n t\\u1ea1i s\\u1ea3n ph\\u1ea9m Gh\\u1ebf \\u0102n  shop \\u0111ang c\\u00f3 nh\\u1eefng *gi\\u00e1*-<br>\", \"query_knowledge_base\", \"['object_type:ghe_an']\", \"action_query_babe_kb\"], [\"/confirm_attribute_value{\\\"price\\\": \\\"500k - 1M\\\"}\", \"D\\u1ea1 m\\u1eddi b\\u1ea1n tham kh\\u1ea3o c\\u00e1c lo\\u1ea1i s\\u1ea3n ph\\u1ea9m hi\\u1ec7n c\\u00f3 t\\u1ea1i-<br>\", \"confirm_attribute_value\", \"['price:500k - 1M']\", \"action_query_babe_kb\"], [\"V\\u1eady xe scotter c\\u00f2n k \\u1ea1\\nLo\\u1ea1i c\\u00f3 \\u01b0 b\\u00e1nh trc \\u1ea1\", \"M\\u1eddi b\\u1ea1n tham kh\\u1ea3o c\\u00e1c Xe Scooter shop \\u0111ang c\\u00f3 \\u1ea1:\\n<-<br>\", \"query_knowledge_base\", \"['object_type:xe', 'brand:scotter']\", \"action_query_babe_kb\"], [\"url\", \"B\\u1ea1n \\u0111ang t\\u00ecm ki\\u1ebfm th\\u00f4ng tin g\\u00ec \\u1ea1?\", \"send_link\", \"url\", \"action_handle_send_link_only\"], [\"Shop co b\\u00e1n goi nay kg \\u1ea1?\", \"S\\u1ea3n ph\\u1ea9m b\\u1ea1n v\\u1eeba g\\u1eedi shop kh\\u00f4ng c\\u00f3 h\\u00e0ng, hi\\u1ec7n t\\u1ea1i -<br> shop c\\u00f3 c\\u00e1c lo\\u1ea1i G\\u1ed1i sau:\\n<show random card 5 c\\u00e1i -<br>\", \"query_knowledge_base\", \"['object_type:goi', 'mention:nay']\", \"action_query_babe_kb\"], [\"shop \\u01a1i\", \"Ch\\u00e0o b\\u1ea1n, m\\u00ecnh l\\u00e0 tr\\u1ee3 l\\u00fd \\u1ea3o c\\u1ee7a Shop G\\u1ea5u & B\\u00ed Ng\\u00f4,-<br>\", \"greet\", null, \"utter_greet\"], [\"url\", \"S\\u1ea3n ph\\u1ea9m  B\\u1ed9 \\u0111\\u1ed3 ch\\u01a1i nh\\u00e0 b\\u1ebfp th\\u00f4ng minh  hi\\u1ec7n shop-<br>  \\u0111ang c\\u00f3 gi\\u00e1: 490.000 - 790.000\\nB\\u1ea1n tham kh\\u1ea3o c\\u00e1c -<br>\", \"query_knowledge_base\", \"url\", \"action_query_babe_kb\"], [\"ok, thank shop!\", \"Shop c\\u1ea3m \\u01a1n b\\u1ea1n \\u1ea1.\", \"thank\", null, \"utter_thank\"], [\"shop \\u01a1i\", \"Ch\\u00e0o b\\u1ea1n, m\\u00ecnh l\\u00e0 tr\\u1ee3 l\\u00fd \\u1ea3o c\\u1ee7a Shop G\\u1ea5u & B\\u00ed Ng\\u00f4,-<br>\", \"greet\", null, \"utter_greet\"], [\"url\", \"S\\u1ea3n ph\\u1ea9m  B\\u1ed9 \\u0111\\u1ed3 ch\\u01a1i nh\\u00e0 b\\u1ebfp th\\u00f4ng minh  hi\\u1ec7n shop-<br>  \\u0111ang c\\u00f3 gi\\u00e1: 490.000 - 790.000\\nB\\u1ea1n tham kh\\u1ea3o c\\u00e1c -<br>\", \"query_knowledge_base\", \"url\", \"action_query_babe_kb\"], [\"c\\u00e1i n\\u00e0y c\\u00f3 2 size \\u00e0 shop?\", \"S\\u1ea3n ph\\u1ea9m  B\\u1ed9 \\u0111\\u1ed3 ch\\u01a1i nh\\u00e0 b\\u1ebfp th\\u00f4ng minh c\\u00f3 k\\u00edch th-<br> \\u01b0\\u1edbc: 57x30x77cm v\\u00e0 51x32x100cm\\nB\\u1ea1n tham kh\\u1ea3o c\\u00e1c s-<br>\", \"query_knowledge_base\", \"['mention:c\\u00e1i n\\u00e0y', 'attribute:size']\", \"action_query_babe_kb\"], [\"ok shop\", \"V\\u00e2ng \\u1ea1!\", \"agree\", null, \"utter_agree\"], [\"shop \\u01a1i\", \"Ch\\u00e0o b\\u1ea1n, m\\u00ecnh l\\u00e0 tr\\u1ee3 l\\u00fd \\u1ea3o c\\u1ee7a Shop G\\u1ea5u & B\\u00ed Ng\\u00f4,-<br>\", \"greet\", null, \"utter_greet\"], [\"Ch\\u00e0o shop, shop c\\u00f2n m\\u1eabu gh\\u1ebf mastela m\\u00e0u ghi, m\\u00e3 73-<br>\", \"S\\u1ea3n ph\\u1ea9m Gh\\u1ebf \\u0103n n\\u00e2ng h\\u1ea1 \\u0111\\u1ed9 cao nh\\u1ef1a Mastela 07330/-<br> 07331 m\\u00e0u ghi hi\\u1ec7n \\u0111ang c\\u00f3 gi\\u00e1: 490.000 (Gi\\u00e1 g\\u1ed1c: -<br>\", \"query_knowledge_base\", \"['object_type:ghe', 'brand:mastela', 'color:m\\u00e0u ghi', 'attribute:price', 'code:7330']\", \"action_query_babe_kb\"], [\"M\\u00ecnh c\\u1ea7n g\\u1ea5p, shop ship lu\\u00f4n cho m\\u00ecnh nh\\u00e9.\", \"C\\u1ea3m \\u01a1n b\\u1ea1n! B\\u1ea1n vui l\\u00f2ng \\u0111i\\u1ec1n th\\u00f4ng tin v\\u00e0o M\\u1eabu \\u0111\\u1eb7-<br> t h\\u00e0ng gi\\u00fap shop nh\\u00e9!\\n<Show ra c\\u00e1i b\\u1ea3ng m\\u1eabu \\u0111\\u1eb7t h\\u00e0-<br> ng: c\\u00f3 t\\u00ean s\\u1ea3n ph\\u1ea9m, cho kh\\u00e1ch t\\u00f9y ch\\u1ecdn s\\u1ed1 l\\u01b0\\u1ee3ng, -<br>\", \"make_order\", null, \"action_make_order\"], [\"url\", \"B\\u1ea1n \\u0111ang t\\u00ecm ki\\u1ebfm th\\u00f4ng tin g\\u00ec \\u1ea1?\", \"send_link\", \"url\", \"action_handle_send_link_only\"], [\"Bnhiu v shop\", \"D\\u1ea1, c\\u00f3 ph\\u1ea3i b\\u1ea1n mu\\u1ed1n h\\u1ecfi m\\u1ed9t trong c\\u00e1c s\\u1ea3n ph\\u1ea9m d\\u01b0-<br> \\u1edbi \\u0111\\u00e2y kh\\u00f4ng \\u1ea1?\\n (Vui l\\u00f2ng \\u1ea5n ch\\u1ecdn 1 s\\u1ea3n ph\\u1ea9m)\\n\\n<s-<br>\", \"query_knowledge_base\", \"['attribute:price']\", \"action_query_babe_kb\"], [\"C\\u00e1i th\\u1ee9 2\\n\", \"M\\u1eddi b\\u1ea1n tham kh\\u1ea3o s\\u1ea3n ph\\u1ea9m Voi Jumbo th\\u1ea3 h\\u00ecnh kh\\u1ed1i-<br>\", null, \"['mention:2']\", \"action_query_babe_kb\"], [\"ok shop\", \"D\\u1ea1 v\\u00e2ng \\u1ea1!\", \"agree\", null, \"utter_agree\"], [\"shop \\u01a1i\", \"Ch\\u00e0o b\\u1ea1n, m\\u00ecnh l\\u00e0 tr\\u1ee3 l\\u00fd \\u1ea3o c\\u1ee7a Shop G\\u1ea5u & B\\u00ed Ng\\u00f4,-<br>\", \"greet\", null, \"utter_greet\"], [\"url\", \"B\\u1ea1n \\u0111ang t\\u00ecm ki\\u1ebfm th\\u00f4ng tin g\\u00ec \\u1ea1?\", \"send_link\", \"url\", \"action_handle_send_link_only\"], [\"B c\\u00f3 s\\u1eb5n thanh ch\\u1eafn gi\\u01b0\\u1eddng n\\u00e0y ko?\", \"S\\u1ea3n ph\\u1ea9m Thanh ch\\u1eafn gi\\u01b0\\u1eddng cao c\\u1ea5p d\\u1ea1ng tr\\u01b0\\u1ee3t Umoo-<br>  ch\\u00ednh h\\u00e3ng \\u0111ang c\\u00f3 gi\\u00e1: 500.000 (Gi\\u00e1 g\\u1ed1c: 610.000-<br>\", \"query_knowledge_base\", \"['object_type:thanh_chan_giuong']\", \"action_query_babe_kb\"], [\"lo\\u1ea1i n\\u00e0y c\\u00f3 nh\\u1eefng k\\u00edch th\\u01b0\\u1edbc n\\u00e0o shop nh\\u1ec9?\", \"S\\u1ea3n ph\\u1ea9m Thanh ch\\u1eafn gi\\u01b0\\u1eddng cao c\\u1ea5p d\\u1ea1ng tr\\u01b0\\u1ee3t Umoo-<br>\", \"query_knowledge_base\", \"['mention:lo\\u1ea1i n\\u00e0y', 'attribute:size']\", \"action_query_babe_kb\"], [\"ok shop, cho m\\u00ecnh \\u0111\\u1eb7t thanh lo\\u1ea1i 2m2 nh\\u00e9.\", \"C\\u1ea3m \\u01a1n b\\u1ea1n! B\\u1ea1n vui l\\u00f2ng \\u0111i\\u1ec1n th\\u00f4ng tin v\\u00e0o M\\u1eabu \\u0111\\u1eb7-<br> t h\\u00e0ng gi\\u00fap shop nh\\u00e9!\\n<Show ra c\\u00e1i b\\u1ea3ng m\\u1eabu \\u0111\\u1eb7t h\\u00e0-<br> ng: c\\u00f3 t\\u00ean s\\u1ea3n ph\\u1ea9m, cho kh\\u00e1ch t\\u00f9y ch\\u1ecdn s\\u1ed1 l\\u01b0\\u1ee3ng, -<br>\", \"make_order\", \"['size:lo\\u1ea1i 2m2']\", \"action_make_order\"], [\"hi shop\", \"Ch\\u00e0o b\\u1ea1n, m\\u00ecnh l\\u00e0 tr\\u1ee3 l\\u00fd \\u1ea3o c\\u1ee7a Shop G\\u1ea5u & B\\u00ed Ng\\u00f4,-<br>\", \"greet\", null, \"utter_greet\"], [\"ch\\u1ecb mu\\u1ed1n h\\u1ecfi gi\\u00e1 c\\u0169i v\\u1ea3i greco\\nv\\u00e0 jolie\", \"D\\u1ea1, s\\u1ea3n ph\\u1ea9m Giuong h\\u00e3ng s\\u1ea3n xu\\u1ea5t Jolie, ch\\u1ea5t li\\u1ec7u-<br>  V\\u1ea3i b\\u00ean shop hi\\u1ec7n t\\u1ea1i kh\\u00f4ng c\\u00f3 \\u1ea1. B\\u1ea1n tham kh\\u1ea3o c-<br>\", \"query_knowledge_base\", \"['attribute:price', 'object_type:giuong', 'material:v\\u1ea3i', 'brand:greco', 'brand:jolie']\", \"action_query_babe_kb\"], [\"/query_knowledge_base{\\\"brand\\\": \\\"Graco\\\"}\", \"Hi\\u1ec7n t\\u1ea1i s\\u1ea3n ph\\u1ea9m Giuong h\\u00e3ng s\\u1ea3n xu\\u1ea5t Graco shop -<br>\", \"query_knowledge_base\", \"['brand:Graco']\", \"action_query_babe_kb\"], [\"/query_knowledge_base{\\\"price\\\": \\\"2M - 5M\\\"}\", \"S\\u1ea3n ph\\u1ea9m  Giuong h\\u00e3ng s\\u1ea3n xu\\u1ea5t Graco, gi\\u00e1 2m - 5m -<br> hi\\u1ec7n shop \\u0111ang c\\u00f3 gi\\u00e1: *5,000,000 VND, 2,900,000 V-<br>\", \"query_knowledge_base\", \"['price:2M - 5M']\", \"action_query_babe_kb\"], [\"2 c\\u00e1i kh\\u00e1c g\\u00ec nhau\", \"B\\u1ea1n c\\u00f3 th\\u1ec3 n\\u00f3i v\\u1edbi t\\u00f4i theo 1 c\\u00e1ch kh\\u00e1c \\u0111\\u01b0\\u1ee3c kh\\u00f4ng-<br>\", \"handover_to_inbox\", \"[]\", \"utter_ask_rephrase\"], [\"url\", \"M\\u1eddi b\\u1ea1n tham kh\\u1ea3o c\\u00e1c s\\u1ea3n ph\\u1ea9m:\\n<Show 4 cards t\\u01b0\\u01a1n-<br> g \\u1ee9ng 4 s\\u1ea3n ph\\u1ea9m g\\u1eedi \\u1ea3nh>\\n<K\\u1ef3 v\\u1ecdng g\\u1eedi \\u0111i \\u0111c c\\u1ea3 4 -<br>\", \"greet\\nquery_knowledge_base\", \"url\", \"action_query_babe_kb\"], [\"url\", \"B\\u1ea1n \\u0111ang t\\u00ecm ki\\u1ebfm th\\u00f4ng tin g\\u00ec \\u1ea1?\", \"send_link\", \"url\", \"action_handle_send_link_only\"], [\"Shop c\\u00f2n b\\u1ed9 n\\u00e0y k \\u1ea1\", \"D\\u1ea1 m\\u1eddi b\\u1ea1n tham kh\\u1ea3o s\\u1ea3n ph\\u1ea9m hi\\u1ec7n c\\u00f3 t\\u1ea1i shop nh\\u00e9-<br>\", \"query_knowledge_base\", \"['mention:b\\u1ed9 n\\u00e0y']\", \"action_query_babe_kb\"], [\"<\\u0110\\u1eb7t h\\u00e0ng>\\n(tr\\u00ean card cu\\u1ed1i show th\\u00eam n\\u00fat \\u0111\\u1eb7t h\\u00e0ng)\", \"C\\u1ea3m \\u01a1n b\\u1ea1n! B\\u1ea1n vui l\\u00f2ng \\u0111i\\u1ec1n th\\u00f4ng tin v\\u00e0o M\\u1eabu \\u0111\\u1eb7-<br> t h\\u00e0ng gi\\u00fap shop nh\\u00e9!\\n<Show ra c\\u00e1i b\\u1ea3ng m\\u1eabu \\u0111\\u1eb7t h\\u00e0-<br> ng: c\\u00f3 t\\u00ean s\\u1ea3n ph\\u1ea9m, cho kh\\u00e1ch t\\u00f9y ch\\u1ecdn s\\u1ed1 l\\u01b0\\u1ee3ng, -<br>\", \"make_order\", null, \"action_make_order\"], [\"alo shop \\u01a1i\", \"Ch\\u00e0o b\\u1ea1n, m\\u00ecnh l\\u00e0 ...\", \"greet\", \"[]\", \"utter_greet\"], [\"https://www.facebook.com/shopgauvabingo/photos/pcb-<br> .2425056854471305/2425056784471312/?type=3&theater-<br>\", \"D\\u1ea1, c\\u00f3 ph\\u1ea3i b\\u1ea1n mu\\u1ed1n h\\u1ecfi m\\u1ed9t trong c\\u00e1c s\\u1ea3n ph\\u1ea9m d\\u01b0-<br> \\u1edbi \\u0111\\u00e2y kh\\u00f4ng \\u1ea1?\\n (Vui l\\u00f2ng \\u1ea5n ch\\u1ecdn 1 s\\u1ea3n ph\\u1ea9m)\\n<Sh-<br>\", \"send_link\", \"[\\\"url:['https://www.facebook.com/shopgauvabingo/photos/pcb.2425056854471305/2425056784471312/?type=3&theater']\\\", 'mention:n\\u00e0y', 'attribute:price']\", \"action_handle_send_link_only\"], [\"/query_knowledge_base{\\\"url\\\": \\\"https://shopee.vn/pr-<br> oduct/36371562/3103025341\\\", \\\"product_id\\\": \\\"https:/-<br>\", \"S\\u1ea3n ph\\u1ea9m  Xe NADLE 3 in 1: Xe \\u0111\\u1ea9y - Ch\\u00f2i ch\\u00e2n - Xe-<br>  \\u0111\\u1ea1p  hi\\u1ec7n shop \\u0111ang c\\u00f3 gi\\u00e1: 2,650,000 VND (gi\\u00e1 g\\u1ed1-<br> c 2,650,000 VND), 2,450,000 VND (gi\\u00e1 g\\u1ed1c 2,450,000-<br>  VND), 1,550,000 VND (gi\\u00e1 g\\u1ed1c 2,650,000 VND).\\nB\\u1ea1n -<br> tham kh\\u1ea3o c\\u00e1c s\\u1ea3n ph\\u1ea9m sau nh\\u00e9 \\u1ea1:\\n<Show card cu\\u1ed1i -<br>\", \"query_knowledge_base\", \"['url:https://shopee.vn/product/36371562/3103025341', 'product_id:https://shopee.vn/product/36371562/3103025341']\", \"action_query_babe_kb\"], [\"Ok, thank shop\", \"C\\u1ea3m \\u01a1n b\\u1ea1n!\", \"thank\", null, \"utter_thank\"], [\"alo shop \\u01a1i\", \"Ch\\u00e0o b\\u1ea1n, m\\u00ecnh l\\u00e0 tr\\u1ee3 l\\u00fd \\u1ea3o c\\u1ee7a Shop G\\u1ea5u & B\\u00ed Ng\\u00f4,-<br>\", \"greet\", null, \"utter_greet\"], [\"https://www.facebook.com/shopgauvabingo/photos/pcb-<br> .2425056854471305/2425056784471312/?type=3&theater-<br>\", \"D\\u1ea1, c\\u00f3 ph\\u1ea3i b\\u1ea1n mu\\u1ed1n h\\u1ecfi m\\u1ed9t trong c\\u00e1c s\\u1ea3n ph\\u1ea9m d\\u01b0-<br> \\u1edbi \\u0111\\u00e2y kh\\u00f4ng \\u1ea1?\\n (Vui l\\u00f2ng \\u1ea5n ch\\u1ecdn 1 s\\u1ea3n ph\\u1ea9m)\\n<Sh-<br>\", \"query_knowledge_base\", \"[\\\"url:['https://www.facebook.com/shopgauvabingo/photos/pcb.2425056854471305/2425056784471312/?type=3&theater']\\\", 'object_type:xe', 'mention:n\\u00e0y', 'attribute:price']\", \"action_query_babe_kb\"], [\"/query_knowledge_base{\\\"url\\\": \\\"https://shopee.vn/pr-<br> oduct/36371562/3103025341\\\", \\\"product_id\\\": \\\"https:/-<br>\", \"S\\u1ea3n ph\\u1ea9m  Xe NADLE 3 in 1: Xe \\u0111\\u1ea9y - Ch\\u00f2i ch\\u00e2n - Xe-<br>  \\u0111\\u1ea1p  hi\\u1ec7n shop \\u0111ang c\\u00f3 gi\\u00e1: 2,650,000 VND (gi\\u00e1 g\\u1ed1-<br> c 2,650,000 VND), 2,450,000 VND (gi\\u00e1 g\\u1ed1c 2,450,000-<br>  VND), 1,550,000 VND (gi\\u00e1 g\\u1ed1c 2,650,000 VND).\\nB\\u1ea1n -<br> tham kh\\u1ea3o c\\u00e1c s\\u1ea3n ph\\u1ea9m sau nh\\u00e9 \\u1ea1:\\n<Show card cu\\u1ed1i -<br>\", \"query_knowledge_base\", \"['url:https://shopee.vn/product/36371562/3103025341', 'product_id:https://shopee.vn/product/36371562/3103025341']\", \"action_query_babe_kb\"], [\"c\\u00f2n m\\u00e0u g\\u00ec h\\u1ea3 b\\u1ea1n?\", \"S\\u1ea3n ph\\u1ea9m  Xe NADLE 3 in 1: Xe \\u0111\\u1ea9y - Ch\\u00f2i ch\\u00e2n - Xe-<br>  \\u0111\\u1ea1p  hi\\u1ec7n shop \\u0111ang c\\u00f3 c\\u00e1c m\\u00e0u sau: Xanh (c\\u00f3 \\u0111ai)-<br>\", \"query_knowledge_base\", \"['attribute:color']\", \"action_query_babe_kb\"], [\"ok shop\", \"D\\u1ea1!\", \"agree\", null, \"utter_agree\"], [\"url\", \"B\\u1ea1n \\u0111ang t\\u00ecm ki\\u1ebfm th\\u00f4ng tin g\\u00ec \\u1ea1?\", \"send_link\", \"url\", \"action_handle_send_link_only\"], [\"Shop c\\u00f2n c\\u1ea7u tr\\u01b0owtn n\\u00e0y k \\u1ea1\", \"S\\u1ea3n ph\\u1ea9m b\\u1ea1n \\u0111ang t\\u00ecm c\\u00f3 ph\\u1ea3i l\\u00e0?\", \"query_knowledge_base\", \"['object_type:c\\u1ea7u tr\\u01b0owtn']\", \"action_query_babe_kb\"], [\"/agree{\\\"object_type\\\": \\\"cau_truot\\\"}\", \"D\\u1ea1, s\\u1ea3n ph\\u1ea9m C\\u1ea7u Tr\\u01b0\\u1ee3t  b\\u00ean shop hi\\u1ec7n t\\u1ea1i kh\\u00f4ng c\\u00f3-<br>  \\u1ea1. B\\u1ea1n tham kh\\u1ea3o c\\u00e1c s\\u1ea3n ph\\u1ea9m kh\\u00e1c d\\u00e0nh cho b\\u00e9 nh-<br>\", \"agree\", \"['object_type:cau_truot']\", \"action_query_babe_kb\"], [\"shop \\u01a1i\", \"Ch\\u00e0o b\\u1ea1n, m\\u00ecnh l\\u00e0 tr\\u1ee3 l\\u00fd \\u1ea3o c\\u1ee7a Shop G\\u1ea5u & B\\u00ed Ng\\u00f4,-<br>\", \"greet\", \"[]\", \"utter_greet\"], [\"M\\u00ecnh mu\\u1ed1n mua b\\u1ed9 c\\u1ea7u tr\\u01b0\\u1ee3t\\nGi\\u00e1 tn b\", \"D\\u1ea1, s\\u1ea3n ph\\u1ea9m C\\u1ea7u Tr\\u01b0\\u1ee3t hi\\u1ec7n t\\u1ea1i b\\u00ean shop \\u0111ang t\\u1ea1m -<br> h\\u1ebft h\\u00e0ng \\u1ea1. B\\u1ea1n tham kh\\u1ea3o c\\u00e1c s\\u1ea3n ph\\u1ea9m kh\\u00e1c d\\u00e0nh c-<br>\", \"query_knowledge_base\", \"['object_type:cau_truot', 'attribute:price']\", \"action_query_babe_kb\"], [\"Thank b\", \"- C\\u1ea3m \\u01a1n b\\u1ea1n. Ch\\u00fac b\\u1ea1n m\\u1ed9t ng\\u00e0y vui v\\u1ebb.\", \"thank\", \"[]\", \"utter_thank\"], [\"shop \\u01a1i\", \"C\\u1ea3m \\u01a1n b\\u1ea1n!\", \"greet\", \"[]\", \"utter_greet\"], [\"Nh\\u00e0 m\\u00ecnh c\\u00f3 b\\u00e1n c\\u1ea7u tr\\u01b0\\u1ee3t ri\\u00eang k ah\", \"C\\u1ea7u tr\\u01b0\\u1ee3t l\\u00e0 s\\u1ea3n ph\\u1ea9m b\\u00e1n l\\u1ebb hi\\u1ec7n \\u0111ang c\\u00f3 gi\\u00e1 1.09-<br> 0.000 - \\u20ab1.250.000\\n (gi\\u00e1 g\\u1ed1c 290.000 - \\u20ab1.390.000)-<br>\", \"query_knowledge_base\", \"['object_type:cau_truot']\", \"action_query_babe_kb\"], [\"alo shop \\u01a1i\", \"Ch\\u00e0o b\\u1ea1n, m\\u00ecnh l\\u00e0 tr\\u1ee3 l\\u00fd \\u1ea3o c\\u1ee7a Shop G\\u1ea5u & B\\u00ed Ng\\u00f4,-<br>\", \"greet\", \"[]\", \"utter_greet\"], [\"url\", \"B\\u1ea1n \\u0111ang t\\u00ecm ki\\u1ebfm th\\u00f4ng tin g\\u00ec \\u1ea1?\", \"send_link\", \"url\", \"action_handle_send_link_only\"], [\"l\\u1ec1u c\\u00f2n ko shop\\ngi\\u00e1 bn\\nc\\u00f2n b\\u00f3ng bn\", \"L\\u1ec1u hi\\u1ec7n \\u0111ang c\\u00f3 gi\\u00e1 1.090.000 - \\u20ab1.250.000\\n (gi\\u00e1 -<br> g\\u1ed1c 290.000 - \\u20ab1.390.000)\\nB\\u1ea1n tham kh\\u1ea3o c\\u00e1c s\\u1ea3n ph-<br> \\u1ea9m sau nh\\u00e9 \\u1ea1:\\n<show sp>\\nB\\u00f3ng hi\\u1ec7n shop \\u0111\\u00e1ng c\\u00f3 c\\u00e1c-<br>\", \"query_knowledge_base\", \"['attribute:price']\", \"action_query_babe_kb\"], [\"alo shop \\u01a1i\", \"Ch\\u00e0o b\\u1ea1n, m\\u00ecnh l\\u00e0 tr\\u1ee3 l\\u00fd \\u1ea3o c\\u1ee7a Shop G\\u1ea5u & B\\u00ed Ng\\u00f4,-<br>\", \"greet\", null, \"utter_greet\"], [\"url\", \"B\\u1ea1n \\u0111ang t\\u00ecm ki\\u1ebfm th\\u00f4ng tin g\\u00ec \\u1ea1?\", \"send_link\", \"url\", \"action_handle_send_link_only\"], [\"M\\u00ecnh mua s\\u1ea3n ph\\u1ea9m n\\u00e0y nha\\nGi\\u00e1 sao\", \"S\\u1ea3n ph\\u1ea9m D\\u00e0n \\u00e2m thanh \\u0111\\u1ed9ng v\\u1eadt c\\u00f3 \\u0111\\u00e8n nh\\u1ea1c Infanti-<br> no \\u0111ang c\\u00f3 gi\\u00e1 129.000 (gi\\u00e1 g\\u1ed1c: 180.000).\\n<Show c-<br>\", \"query_knowledge_base\", \"['mention:s\\u1ea3n ph\\u1ea9m n\\u00e0y', 'attribute:price']\", \"action_query_babe_kb\"], [\"alo shop \\u01a1i\", \"Ch\\u00e0o b\\u1ea1n, m\\u00ecnh l\\u00e0 tr\\u1ee3 l\\u00fd \\u1ea3o c\\u1ee7a Shop G\\u1ea5u & B\\u00ed Ng\\u00f4,-<br>\", \"greet\", null, \"utter_greet\"], [\"B\\u00e1o gi\\u00e1 m\\u00ecnh qu\\u00e2y th\\u1ea3m v\\u1edbi\", \"S\\u1ea3n ph\\u1ea9m  Qu\\u00e2y g\\u00f3c vu\\u00f4ng c\\u00e1nh nh\\u1ecf h\\u00ecnh ng\\u00f4i nh\\u00e0 ch-<br> \\u1ea5t li\\u1ec7u Nh\\u1ef1a hi\\u1ec7n shop \\u0111ang c\\u00f3 gi\\u00e1: 1,040,000 VND -<br> (gi\\u00e1 g\\u1ed1c 1,290,000 VND), 1,340,000 VND (gi\\u00e1 g\\u1ed1c 1,-<br> 390,000 VND), 1,440,000 VND (gi\\u00e1 g\\u1ed1c 1,490,000 VND-<br> ).\\nB\\u1ea1n tham kh\\u1ea3o c\\u00e1c s\\u1ea3n ph\\u1ea9m sau nh\\u00e9 \\u1ea1:\\n<Show car-<br>\", \"query_knowledge_base\", \"['attribute:price', 'object_type:quay', 'object_type:tham']\", \"action_query_babe_kb\"], [\"C\\u00e1i n\\u00e0y c\\u00f3 k\\u00e8m th\\u1ea3m v\\u00e0 b\\u00f3ng ko b\\u1ea1n\", \"S\\u1ea3n ph\\u1ea9m  Qu\\u00e2y g\\u00f3c vu\\u00f4ng c\\u00e1nh nh\\u1ecf h\\u00ecnh ng\\u00f4i nh\\u00e0 ch-<br> \\u1ea5t li\\u1ec7u Nh\\u1ef1a kh\\u00f4ng c\\u00f3 ph\\u1ee5 ki\\u1ec7n \\u0111i k\\u00e8m\\nB\\u1ea1n tham kh\\u1ea3-<br>\", \"query_knowledge_base\", \"['mention:c\\u00e1i n\\u00e0y', 'object_type:tham','object_type:bong']\", \"action_query_babe_kb\"], [\"shop \\u01a1i\", \"Ch\\u00e0o b\\u1ea1n, m\\u00ecnh l\\u00e0 tr\\u1ee3 l\\u00fd \\u1ea3o c\\u1ee7a Shop G\\u1ea5u & B\\u00ed Ng\\u00f4,-<br>\", \"greet\", null, \"utter_greet\"], [\"minh mu\\u1ed1n t\\u00ecm qu\\u00e2y c\\u0169i nh\\u1ef1a\", \"D\\u1ea1, s\\u1ea3n ph\\u1ea9m Qu\\u00e2y ch\\u1ea5t li\\u1ec7u nh\\u1ef1a b\\u00ean shop hi\\u1ec7n t\\u1ea1i-<br>  kh\\u00f4ng c\\u00f3 \\u1ea1. B\\u1ea1n tham kh\\u1ea3o c\\u00e1c s\\u1ea3n ph\\u1ea9m kh\\u00e1c d\\u00e0nh -<br>\", \"query_knowledge_base\", \"['object_type:quay', 'material:nh\\u1ef1a']\", \"action_query_babe_kb\"], [\"ok shop\", \"V\\u00e2ng \\u1ea1!\", \"agree\", null, \"utter_agree\"], [\"shop \\u01a1i\", \"Ch\\u00e0o b\\u1ea1n, m\\u00ecnh l\\u00e0 tr\\u1ee3 l\\u00fd \\u1ea3o c\\u1ee7a Shop G\\u1ea5u & B\\u00ed Ng\\u00f4,-<br>\", \"greet\", null, \"utter_greet\"], [\"minh mu\\u1ed1n t\\u00ecm qu\\u00e2y c\\u0169i nh\\u1ef1a\", \"S\\u1ea3n ph\\u1ea9m  Qu\\u00e2y g\\u00f3c vu\\u00f4ng c\\u00e1nh nh\\u1ecf h\\u00ecnh ng\\u00f4i nh\\u00e0 ch-<br> \\u1ea5t li\\u1ec7u Nh\\u1ef1a hi\\u1ec7n shop \\u0111ang c\\u00f3 gi\\u00e1: 1,040,000 VND -<br> (gi\\u00e1 g\\u1ed1c 1,290,000 VND), 1,340,000 VND (gi\\u00e1 g\\u1ed1c 1,-<br> 390,000 VND), 1,440,000 VND (gi\\u00e1 g\\u1ed1c 1,490,000 VND-<br> ).\\nB\\u1ea1n tham kh\\u1ea3o c\\u00e1c s\\u1ea3n ph\\u1ea9m sau nh\\u00e9 \\u1ea1:\\n<Show car-<br>\", \"query_knowledge_base\", \"['object_type:quay', 'material:nh\\u1ef1a']\", \"action_query_babe_kb\"], [\"h\\u00e0ng c\\u00f3 s\\u1eb5n k shop?\", \"S\\u1ea3n ph\\u1ea9m Qu\\u00e2y g\\u00f3c vu\\u00f4ng c\\u00e1nh nh\\u1ecf h\\u00ecnh ng\\u00f4i nh\\u00e0 hi\\u1ec7-<br>\", \"query_knowledge_base\", \"['availability:c\\u00f3 s\\u1eb5n']\", \"action_query_babe_kb\"], [\"ok, cho m\\u00ecnh \\u0111\\u1eb7t c\\u00e1i \\u0111\\u1ea5y nh\\u00e9\", \"C\\u1ea3m \\u01a1n b\\u1ea1n! B\\u1ea1n vui l\\u00f2ng \\u0111i\\u1ec1n th\\u00f4ng tin v\\u00e0o M\\u1eabu \\u0111\\u1eb7-<br> t h\\u00e0ng gi\\u00fap shop nh\\u00e9!\\n<Show ra c\\u00e1i b\\u1ea3ng m\\u1eabu \\u0111\\u1eb7t h\\u00e0-<br> ng: c\\u00f3 t\\u00ean s\\u1ea3n ph\\u1ea9m, cho kh\\u00e1ch t\\u00f9y ch\\u1ecdn s\\u1ed1 l\\u01b0\\u1ee3ng, -<br> m\\u00e0u s\\u1eafc...>\\n<C\\u00e1c th\\u00f4ng tin \\u0111\\u00e3 thu th\\u1eadp \\u0111c th\\u00ec t\\u1ef1 \\u0111-<br>\", \"make_order\", null, \"action_make_order\"], [\"shop \\u01a1i\", \"Ch\\u00e0o b\\u1ea1n, m\\u00ecnh l\\u00e0 tr\\u1ee3 l\\u00fd \\u1ea3o c\\u1ee7a Shop G\\u1ea5u & B\\u00ed Ng\\u00f4,-<br>\", \"greet\", null, \"utter_greet\"], [\"url\", \"B\\u1ea1n \\u0111ang t\\u00ecm ki\\u1ebfm th\\u00f4ng tin g\\u00ec \\u1ea1?\\n\", \"send_link\", \"url\", \"action_handle_send_link_only\"], [\"Shop b\\u00e1n gh\\u1ebf n\\u00e0y ko\", \"D\\u1ea1, c\\u00f3 ph\\u1ea3i b\\u1ea1n mu\\u1ed1n h\\u1ecfi m\\u1ed9t trong c\\u00e1c s\\u1ea3n ph\\u1ea9m d\\u01b0-<br> \\u1edbi \\u0111\\u00e2y kh\\u00f4ng \\u1ea1?\\r\\n (Vui l\\u00f2ng \\u1ea5n ch\\u1ecdn 1 s\\u1ea3n ph\\u1ea9m)...-<br>\", \"query_knowledge_base\", \"['object_type:ghe', 'mention:n\\u00e0y']\", \"action_query_babe_kb\"], [\"/disagree{\\\"object_type\\\": null}\", \"B\\u1ea1n vui l\\u00f2ng m\\u00f4 t\\u1ea3 r\\u00f5 mong mu\\u1ed1n c\\u1ee7a b\\u1ea1n ho\\u1eb7c chat -<br>\", \"disagree\", \"['object_type:None']\", \"utter_disagree\"], [\"/connect_employee\", null, \"connect_employee\", null, \"action_handover_to_inbox\"], [\"shop \\u01a1i\", \"Ch\\u00e0o b\\u1ea1n, m\\u00ecnh l\\u00e0 tr\\u1ee3 l\\u00fd \\u1ea3o c\\u1ee7a Shop G\\u1ea5u & B\\u00ed Ng\\u00f4,-<br>\", \"greet\", null, \"utter_greet\"], [\"url\", \"B\\u1ea1n \\u0111ang t\\u00ecm ki\\u1ebfm th\\u00f4ng tin g\\u00ec \\u1ea1?\", \"send_link\", \"url\", \"action_handle_send_link_only\"], [\"M\\u00ecnh m\\u00fan mua b\\u1ed9 voi n\\u00e0y\\nM\\u00e0 ph\\u00ed ship shoppe t\\u1edbi 300-<br>\", null, \"handover_to_inbox\", \"['price:300k']\", \"action_handover_to_inbox\"], [\"b\\u1ea1n \\u01a1i\", \"Ch\\u00e0o b\\u1ea1n, m\\u00ecnh l\\u00e0 tr\\u1ee3 l\\u00fd \\u1ea3o c\\u1ee7a Shop G\\u1ea5u & B\\u00ed Ng\\u00f4,-<br>\", \"greet\", null, \"utter_greet\"], [\"url\", \"B\\u1ea1n \\u0111ang t\\u00ecm ki\\u1ebfm th\\u00f4ng tin g\\u00ec \\u1ea1?\\r\\n\", \"send_link\", \"url\", \"action_handle_send_link_only\"], [\"B\\u1ed9 n\\u00e0y c\\u00f2n k \\u1ea1\", \"S\\u1ea3n ph\\u1ea9m Voi th\\u1ea3 b\\u00f3ng t\\u1eadp \\u0111\\u1ee9ng c\\u00f3 \\u0111\\u00e8n nh\\u1ea1c Bkids I-<br> nfantino hi\\u1ec7n c\\u00f3 gi\\u00e1 1.160.000 (Gi\\u00e1 g\\u1ed1c: 1.298.000-<br>\", \"query_knowledge_base\", \"['mention:b\\u1ed9 n\\u00e0y']\", \"action_query_babe_kb\"], [\"shop \\u01a1i\", \"Ch\\u00e0o b\\u1ea1n, m\\u00ecnh l\\u00e0 tr\\u1ee3 l\\u00fd \\u1ea3o c\\u1ee7a Shop G\\u1ea5u & B\\u00ed Ng\\u00f4,-<br>\", \"greet\", \"[]\", \"utter_greet\"], [\"Cho m\\u00ecnh h\\u1ecfi b\\u00ean b\\u1ea1n c\\u00f3 m\\u00e1y h\\u00fat s\\u1eefa Avent hoa tuy\\u1ebf-<br>\", \"S\\u1ea3n ph\\u1ea9m M\\u00e1y h\\u00fat s\\u1eefa \\u0111i\\u1ec7n \\u0111\\u00f4i Avent Snow (Ch\\u00ednh h\\u00e3-<br> ng - Cty V\\u1ea1n An) h\\u00e3ng s\\u1ea3n xu\\u1ea5t Avent hi\\u1ec7n shop \\u0111an-<br> g c\\u00f3 gi\\u00e1: *4,990,000 VND (gi\\u00e1 g\\u1ed1c 6,950,000 VND)*.-<br>\", \"query_knowledge_base\", \"['object_type:may_hut_sua', 'brand:avent']\", \"action_query_babe_kb\"], [\"ok shop\", \"D\\u1ea1!\", \"agree\", null, \"utter_agree\"], [\"shop \\u01a1i\", \"Ch\\u00e0o b\\u1ea1n, m\\u00ecnh l\\u00e0 tr\\u1ee3 l\\u00fd \\u1ea3o c\\u1ee7a Shop G\\u1ea5u & B\\u00ed Ng\\u00f4,-<br>\", \"greet\", \"[]\", \"utter_greet\"], [\"url\", \"B\\u1ea1n \\u0111ang t\\u00ecm ki\\u1ebfm th\\u00f4ng tin g\\u00ec \\u1ea1?\", \"send_link\", \"url\", \"action_handle_send_link_only\"], [\"B\\u00ean m\\u00ecnh c\\u00f3 medela freestyle like new k ak\", \"Shop kh\\u00f4ng c\\u00f3 m\\u00e1y h\\u00fat s\\u1eefa th\\u01b0\\u01a1ng hi\\u1ec7u Medela, m\\u1eddi -<br> b\\u1ea1n tham kh\\u1ea3o c\\u00e1c s\\u1ea3n ph\\u1ea9m m\\u00e1y h\\u00fat s\\u1eefa hi\\u1ec7n c\\u00f3 t\\u1ea1i-<br>\", \"query_knowledge_base\", \"['brand:medela freestyle']\", \"action_query_babe_kb\"], [\"Ok shop\", \"D\\u1ea1 v\\u00e2ng \\u1ea1!\", \"agree\", null, \"utter_agree\"], [\"shop \\u01a1i\", \"Ch\\u00e0o b\\u1ea1n, m\\u00ecnh l\\u00e0 tr\\u1ee3 l\\u00fd \\u1ea3o c\\u1ee7a Shop G\\u1ea5u & B\\u00ed Ng\\u00f4,-<br>\", \"greet\", null, \"utter_greet\"], [\"url\", \"B\\u1ea1n \\u0111ang t\\u00ecm ki\\u1ebfm th\\u00f4ng tin g\\u00ec \\u1ea1?\\r\\n\", \"send_link\", \"url\", \"action_handle_send_link_only\"], [\"M\\u1eabu n\\u00e0y gi\\u00e1 bn ah\", \"M\\u00f3n \\u0111\\u1ed3 b\\u1ea1n c\\u1ea7n t\\u00ecm c\\u00f3 ph\\u1ea3i l\\u00e0:\\n<Xe ch\\u00f2i ch\\u00e2n> <Xe -<br>\", \"query_knowledge_base\", \"['mention:m\\u1eabu n\\u00e0y', 'attribute:price']\", \"action_query_babe_kb\"], [\"/agree{\\\"object_type\\\": \\\"xe_choi_chan\\\"}\", \"S\\u1ea3n ph\\u1ea9m  Xe Ch\\u00f2i Ch\\u00e2n  hi\\u1ec7n shop \\u0111ang c\\u00f3 gi\\u00e1: 499-<br> ,000 VND (gi\\u00e1 g\\u1ed1c 800,000 VND), 580,000 VND (gi\\u00e1 g-<br> \\u1ed1c 800,000 VND), 699,000 VND (gi\\u00e1 g\\u1ed1c 998,000 VND)-<br> .\\nB\\u1ea1n tham kh\\u1ea3o c\\u00e1c s\\u1ea3n ph\\u1ea9m sau nh\\u00e9 \\u1ea1:\\n<Show card-<br>\", \"confirm_object_type\", null, \"action_query_babe_kb\"], [\"ok shop, cho m\\u00ecnh l\\u1ea5y c\\u00e1i xe Luddy\", \"C\\u1ea3m \\u01a1n b\\u1ea1n! B\\u1ea1n vui l\\u00f2ng \\u0111i\\u1ec1n th\\u00f4ng tin v\\u00e0o M\\u1eabu \\u0111\\u1eb7-<br> t h\\u00e0ng gi\\u00fap shop nh\\u00e9!\\n<Show ra c\\u00e1i b\\u1ea3ng m\\u1eabu \\u0111\\u1eb7t h\\u00e0-<br> ng: c\\u00f3 t\\u00ean s\\u1ea3n ph\\u1ea9m, cho kh\\u00e1ch t\\u00f9y ch\\u1ecdn s\\u1ed1 l\\u01b0\\u1ee3ng, -<br> m\\u00e0u s\\u1eafc...>\\n<C\\u00e1c th\\u00f4ng tin \\u0111\\u00e3 thu th\\u1eadp \\u0111c th\\u00ec t\\u1ef1 \\u0111-<br>\", \"make_order\", \"['object_type:xe_choi_chan','brand:Luddy']\", \"action_make_order\"], [\"shop \\u01a1i\", \"Ch\\u00e0o b\\u1ea1n, m\\u00ecnh l\\u00e0 tr\\u1ee3 l\\u00fd \\u1ea3o c\\u1ee7a Shop G\\u1ea5u & B\\u00ed Ng\\u00f4,-<br>\", \"greet\", null, \"utter_greet\"], [\"C\\u00f3 ship h\\u00e0ng qua Nguy\\u1ec5n Tu\\u00e2n k shop\", \"Shop giao h\\u00e0ng to\\u00e0n qu\\u1ed1c, kh\\u00e1ch h\\u00e0ng c\\u00f3 th\\u1ec3 chuy\\u1ec3n-<br>  kho\\u1ea3n tr\\u01b0\\u1edbc ho\\u1eb7c ch\\u1ecdn h\\u00ecnh th\\u1ee9c thanh to\\u00e1n khi nh-<br>\", \"ask_ship\", \"['ship:ship', 'location:Nguy\\u1ec5n Tu\\u00e2n']\", \"utter_ship\"], [\"v\\u1eady ship lu\\u00f4n cho m\\u00ecnh Xe ch\\u00f2i ch\\u00e2n c\\u00f3 b\\u00e0n \\u0111\\u1ea1p cao-<br>\", \"C\\u1ea3m \\u01a1n b\\u1ea1n! B\\u1ea1n vui l\\u00f2ng \\u0111i\\u1ec1n th\\u00f4ng tin v\\u00e0o M\\u1eabu \\u0111\\u1eb7-<br> t h\\u00e0ng gi\\u00fap shop nh\\u00e9!\\n<Show ra c\\u00e1i b\\u1ea3ng m\\u1eabu \\u0111\\u1eb7t h\\u00e0-<br> ng: c\\u00f3 t\\u00ean s\\u1ea3n ph\\u1ea9m, cho kh\\u00e1ch t\\u00f9y ch\\u1ecdn s\\u1ed1 l\\u01b0\\u1ee3ng, -<br> m\\u00e0u s\\u1eafc...>\\n<C\\u00e1c th\\u00f4ng tin \\u0111\\u00e3 thu th\\u1eadp \\u0111c th\\u00ec t\\u1ef1 \\u0111-<br>\", \"make_order\", \"['ship:ship', 'object_type:xe_choi_chan', 'brand:Motion', 'color:\\u0111\\u1ecf'\", \"action_make_order\"], [\"shop \\u01a1i\", \"Ch\\u00e0o b\\u1ea1n, m\\u00ecnh l\\u00e0 tr\\u1ee3 l\\u00fd \\u1ea3o c\\u1ee7a Shop G\\u1ea5u & B\\u00ed Ng\\u00f4,-<br>\", \"greet\", null, \"utter_greet\"], [\"url\", \"B\\u1ea1n \\u0111ang t\\u00ecm ki\\u1ebfm th\\u00f4ng tin g\\u00ec \\u1ea1?\\r\\n\", \"send_link\", \"url\", \"action_handle_send_link_only\"], [\"Gia bao Nhiu shop\", \"S\\u1ea3n ph\\u1ea9m  COMBO HOLLA LI\\u00caN HO\\u00c0N 2020 c\\u00f3 gi\\u00e1 4.100.-<br>\", \"query_knowledge_base\", \"['attribute:price']\", \"action_query_babe_kb\"], [\"ok shop\", \"V\\u00e2ng \\u1ea1!\", \"agree\", null, \"utter_agree\"], [\"shop \\u01a1i\", \"Ch\\u00e0o b\\u1ea1n, m\\u00ecnh l\\u00e0 tr\\u1ee3 l\\u00fd \\u1ea3o c\\u1ee7a Shop G\\u1ea5u & B\\u00ed Ng\\u00f4,-<br>\", \"greet\", null, \"utter_greet\"], [\"url\", \"B\\u1ea1n \\u0111ang t\\u00ecm ki\\u1ebfm th\\u00f4ng tin g\\u00ec \\u1ea1?\\r\\n\", \"send_link\", \"url\", \"action_handle_send_link_only\"], [\"Gia bao Nhiu shop\", \"S\\u1ea3n ph\\u1ea9m  COMBO HOLLA LI\\u00caN HO\\u00c0N 2020 c\\u00f3 gi\\u00e1 4.100.-<br>\", \"query_knowledge_base\", \"['attribute:price']\", \"action_query_babe_kb\"], [\"c\\u00f3 nh\\u1eefng m\\u00e0u g\\u00ec b\\u1ea1n nh\\u1ec9?\", \"S\\u1ea3n ph\\u1ea9m  COMBO HOLLA LI\\u00caN HO\\u00c0N 2020 c\\u00f3 m\\u00e0u: Xanh -<br>\", \"query_knowledge_base\", \"['attribute:color']\", \"action_query_babe_kb\"], [\"ok shop, \\u0111\\u1ec3 m\\u00ecnh xem th\\u00eam ch\\u00fat nh\\u00e9!\", \"D\\u1ea1 v\\u00e2ng \\u1ea1!\", \"agree & check_more\", \"['check_more:xem th\\u00eam']\", \"utter_agree\"], [\"alo shop\", \"Ch\\u00e0o b\\u1ea1n, m\\u00ecnh l\\u00e0 tr\\u1ee3 l\\u00fd \\u1ea3o c\\u1ee7a Shop G\\u1ea5u & B\\u00ed Ng\\u00f4,-<br>\", \"greet\", null, \"utter_greet\"], [\"url\", \"B\\u1ea1n \\u0111ang t\\u00ecm ki\\u1ebfm th\\u00f4ng tin g\\u00ec \\u1ea1?\\r\\n\", \"send_link\", \"url\", \"action_handle_send_link_only\"], [\"M\\u00ecnh mu\\u00f3n mua xe n\\u00e0y\", \"S\\u1ea3n ph\\u1ea9m Xe t\\u1eadp \\u0111i cao c\\u1ea5p Tommorrow Sky - CH\\u00cdNH H-<br> \\u00c3NG c\\u00f3 gi\\u00e1 449.000 (Gi\\u00e1 g\\u1ed1c: 850.000).\\n<Show card -<br>\", \"query_knowledge_base\", \"['object_type:xe', 'mention:n\\u00e0y']\", \"action_query_babe_kb\"], [\"Shop ship lu\\u00f4n h\\u00e0ng k nh\\u1ec9\\nM\\u00ecnh B\\u1eafc T\\u1eeb Li\\u00eam, HN\", \"C\\u1ea3m \\u01a1n b\\u1ea1n! B\\u1ea1n vui l\\u00f2ng \\u0111i\\u1ec1n th\\u00f4ng tin v\\u00e0o M\\u1eabu \\u0111\\u1eb7-<br> t h\\u00e0ng gi\\u00fap shop nh\\u00e9!\\n<Show ra c\\u00e1i b\\u1ea3ng m\\u1eabu \\u0111\\u1eb7t h\\u00e0-<br> ng: c\\u00f3 t\\u00ean s\\u1ea3n ph\\u1ea9m, cho kh\\u00e1ch t\\u00f9y ch\\u1ecdn s\\u1ed1 l\\u01b0\\u1ee3ng, -<br> m\\u00e0u s\\u1eafc...>\\n<C\\u00e1c th\\u00f4ng tin \\u0111\\u00e3 thu th\\u1eadp \\u0111c th\\u00ec t\\u1ef1 \\u0111-<br>\", \"make_order\", \"[]\", \"action_make_order\"], [\"shop \\u01a1i\", \"Ch\\u00e0o b\\u1ea1n, m\\u00ecnh l\\u00e0 tr\\u1ee3 l\\u00fd \\u1ea3o c\\u1ee7a Shop G\\u1ea5u & B\\u00ed Ng\\u00f4,-<br>\", \"greet\", null, \"utter_greet\"], [\"url\", \"B\\u1ea1n \\u0111ang t\\u00ecm ki\\u1ebfm th\\u00f4ng tin g\\u00ec \\u1ea1?\\r\\n\", \"send_link\", \"url\", \"action_handle_send_link_only\"], [\"M\\u00ecnh mu\\u00f3n mua xe n\\u00e0y\", \"S\\u1ea3n ph\\u1ea9m Xe t\\u1eadp \\u0111i cao c\\u1ea5p Tommorrow Sky - CH\\u00cdNH H-<br> \\u00c3NG c\\u00f3 gi\\u00e1 449.000 (Gi\\u00e1 g\\u1ed1c: 850.000).\\n<Show card -<br>\", \"query_knowledge_base\", \"['object_type:xe', 'mention:n\\u00e0y']\", \"action_query_babe_kb\"], [\"B\\u00e9 nh\\u00e0 m\\u00ecnh 8 th\\u00e1ng \\u0111\\u00e3 d\\u00f9ng \\u0111\\u01b0\\u1ee3c ch\\u01b0a shop nh\\u1ec9?\", \"Xe t\\u1eadp \\u0111i cao c\\u1ea5p Tommorrow Sky - CH\\u00cdNH H\\u00c3NG c\\u00f3 \\u0111\\u1ed9-<br>\", \"query_knowledge_base\", \"['age_of_use:b\\u00e9 nh\\u00e0 m\\u00ecnh 8 th\\u00e1ng']\", \"action_query_babe_kb\"], [\"ok shop\", \"V\\u00e2ng \\u1ea1!\", \"agree\", null, \"utter_agree\"], [\"M\\u00ecnh v\\u1eeba \\u0111\\u1eb7t tr\\u00ean shopee r\\u1ed3i nh\\u00e9 shop, giao h\\u00e0ng g-<br>\", null, \"handover_to_inbox\", \"['attribute:link']\", \"action_handover_to_inbox\"], [\"shop \\u01a1i\", \"Ch\\u00e0o b\\u1ea1n, m\\u00ecnh l\\u00e0 tr\\u1ee3 l\\u00fd \\u1ea3o c\\u1ee7a Shop G\\u1ea5u & B\\u00ed Ng\\u00f4,-<br>\", \"greet\", null, \"utter_greet\"], [\"url\", \"B\\u1ea1n \\u0111ang t\\u00ecm ki\\u1ebfm th\\u00f4ng tin g\\u00ec \\u1ea1?\\r\\n\", \"send_link\", \"url\", \"action_handle_send_link_only\"], [\"M\\u1eabu n\\u00e0y shop c\\u00f2n ko?\", \"D\\u1ea1 m\\u1eddi b\\u1ea1n tham kh\\u1ea3o s\\u1ea3n ph\\u1ea9m hi\\u1ec7n c\\u00f3 t\\u1ea1i shop nh\\u00e9-<br> !\\r\\n\\n<Show card s\\u1ea3n ph\\u1ea9m Voi Jumbo th\\u1ea3 h\\u00ecnh kh\\u1ed1i Bk-<br>\", \"query_knowledge_base\", \"['mention:m\\u1eabu n\\u00e0y']\", \"action_query_babe_kb\"], [\"M\\u00ecnh \\u1edf Ng\\u00e3 T\\u01b0 S\\u1edf th\\u00ec ph\\u00ed ship h\\u1ebft bao nhi\\u00eau b\\u1ea1n, c-<br>\", \"Ship Ng\\u00e3 t\\u01b0 s\\u1edf , Thanh Xu\\u00e2n trong n\\u1ed9i th\\u00e0nh h\\u00e0 n\\u1ed9i-<br>\", \"ask_ship\", \"['attribute:fee_ship']\", \"action_ask_ship\"], [\"shop \\u01a1i\", \"Ch\\u00e0o b\\u1ea1n, m\\u00ecnh l\\u00e0 tr\\u1ee3 l\\u00fd \\u1ea3o c\\u1ee7a Shop G\\u1ea5u & B\\u00ed Ng\\u00f4,-<br>\", \"greet\", null, \"utter_greet\"], [\"url\", \"B\\u1ea1n \\u0111ang t\\u00ecm ki\\u1ebfm th\\u00f4ng tin g\\u00ec \\u1ea1?\", \"send_link\", \"url\", \"action_handle_send_link_only\"], [\"B\\u00e1o gi\\u00e1 cho m\\u00ecnh c\\u00e1i shop\", \"D\\u1ea1, c\\u00f3 ph\\u1ea3i b\\u1ea1n mu\\u1ed1n h\\u1ecfi m\\u1ed9t trong c\\u00e1c s\\u1ea3n ph\\u1ea9m d\\u01b0-<br> \\u1edbi \\u0111\\u00e2y kh\\u00f4ng \\u1ea1?\\r\\n (Vui l\\u00f2ng \\u1ea5n ch\\u1ecdn 1 s\\u1ea3n ph\\u1ea9m)...-<br>\", \"query_knowledge_base\", \"['attribute:price']\", \"action_query_babe_kb\"], [\"/query_knowledge_base{\\\"url\\\": \\\"https://shopee.vn/pr-<br> oduct/36371562/619150769\\\", \\\"product_id\\\": \\\"https://-<br>\", \"S\\u1ea3n ph\\u1ea9m Gh\\u1ebf \\u0111a n\\u0103ng cao c\\u1ea5p Mastela 1015 hi\\u1ec7n sho-<br> p \\u0111ang c\\u00f3 gi\\u00e1: *1,320,000 VND (gi\\u00e1 g\\u1ed1c 1,599,000 V-<br>\", \"query_knowledge_base\", \"['url:https://shopee.vn/product/36371562/619150769', 'product_id:https://shopee.vn/product/36371562/619150769']\", \"action_query_babe_kb\"], [\"shop \\u01a1i\", \"Ch\\u00e0o b\\u1ea1n, m\\u00ecnh l\\u00e0 tr\\u1ee3 l\\u00fd \\u1ea3o c\\u1ee7a Shop G\\u1ea5u & B\\u00ed Ng\\u00f4,-<br>\", \"greet\", null, \"utter_greet\"], [\"url\", \"B\\u1ea1n \\u0111ang t\\u00ecm ki\\u1ebfm th\\u00f4ng tin g\\u00ec \\u1ea1?\\r\\n\", \"send_link\", \"url\", \"action_handle_send_link_only\"], [\"B\\u00e1o gi\\u00e1 cho m\\u00ecnh c\\u00e1i shop\", \"D\\u1ea1, c\\u00f3 ph\\u1ea3i b\\u1ea1n mu\\u1ed1n h\\u1ecfi m\\u1ed9t trong c\\u00e1c s\\u1ea3n ph\\u1ea9m d\\u01b0-<br> \\u1edbi \\u0111\\u00e2y kh\\u00f4ng \\u1ea1?\\n (Vui l\\u00f2ng \\u1ea5n ch\\u1ecdn 1 s\\u1ea3n ph\\u1ea9m)\\n<Sh-<br>\", \"query_knowledge_base\", \"['attribute:price']\", \"action_query_babe_kb\"], [\"/query_knowledge_base{\\\"url\\\": \\\"https://shopee.vn/pr-<br> oduct/36371562/619150769\\\", \\\"product_id\\\": \\\"https://-<br>\", \"S\\u1ea3n ph\\u1ea9m  Gh\\u1ebf \\u0111a n\\u0103ng cao c\\u1ea5p Mastela 1015  hi\\u1ec7n s-<br> hop \\u0111ang c\\u00f3 gi\\u00e1: 1,320,000 VND (gi\\u00e1 g\\u1ed1c 1,599,000 -<br> VND).\\r\\nB\\u1ea1n tham kh\\u1ea3o c\\u00e1c s\\u1ea3n ph\\u1ea9m sau nh\\u00e9 \\u1ea1:\\n<show-<br>\", \"query_knowledge_base\", \"['url:https://shopee.vn/product/36371562/619150769', 'product_id:https://shopee.vn/product/36371562/619150769']\", \"action_query_babe_kb\"], [\"<\\u0110\\u1eb7t h\\u00e0ng>\\n(tr\\u00ean card cu\\u1ed1i show th\\u00eam n\\u00fat \\u0111\\u1eb7t h\\u00e0ng)\", \"C\\u1ea3m \\u01a1n b\\u1ea1n! B\\u1ea1n vui l\\u00f2ng \\u0111i\\u1ec1n th\\u00f4ng tin v\\u00e0o M\\u1eabu \\u0111\\u1eb7-<br> t h\\u00e0ng gi\\u00fap shop nh\\u00e9!\\n<Show ra c\\u00e1i b\\u1ea3ng m\\u1eabu \\u0111\\u1eb7t h\\u00e0-<br> ng: c\\u00f3 t\\u00ean s\\u1ea3n ph\\u1ea9m, cho kh\\u00e1ch t\\u00f9y ch\\u1ecdn s\\u1ed1 l\\u01b0\\u1ee3ng, -<br>\", \"make_order\", null, \"action_make_order\"], [\"shop \\u01a1i\", \"Ch\\u00e0o b\\u1ea1n, m\\u00ecnh l\\u00e0 tr\\u1ee3 l\\u00fd \\u1ea3o c\\u1ee7a Shop G\\u1ea5u & B\\u00ed Ng\\u00f4,-<br>\", \"greet\", null, \"utter_greet\"], [\"m\\u00ecnh c\\u1ea7n t\\u00ecm gh\\u1ebf \\u0103n d\\u1eb7m\", \"Hi\\u1ec7n t\\u1ea1i s\\u1ea3n ph\\u1ea9m Gh\\u1ebf \\u0102n  shop \\u0111ang c\\u00f3 nh\\u1eefng *gi\\u00e1*-<br>\", \"query_knowledge_base\", \"['object_type:ghe_an']\", \"action_query_babe_kb\"], [\"/query_knowledge_base{\\\"price\\\": \\\"1M - 2M\\\"}\", \"D\\u1ea1 m\\u1eddi b\\u1ea1n tham kh\\u1ea3o s\\u1ea3n ph\\u1ea9m hi\\u1ec7n c\\u00f3 t\\u1ea1i shop nh\\u00e9-<br>\", \"query_knowledge_base\", \"['price:1M - 2M']\", \"action_query_babe_kb\"], [\"gh\\u1ebf mastela s\\u1ea3n xu\\u1ea5t \\u1edf \\u0111\\u00e2u v\\u1eady shop?\", \"S\\u1ea3n ph\\u1ea9m Gh\\u1ebf \\u0102n h\\u00e3ng s\\u1ea3n xu\\u1ea5t Mastela hi\\u1ec7n shop \\u0111a-<br>\", \"query_knowledge_base\", \"['object_type:ghe', 'brand:mastela', 'attribute:origin']\", \"action_query_babe_kb\"], [\"b\\u00e9 bao nhi\\u00eau th\\u00e1ng th\\u00ec d\\u00f9ng \\u0111c gh\\u1ebf n\\u00e0y?\", \"Hi\\u1ec7n t\\u1ea1i s\\u1ea3n ph\\u1ea9m Gh\\u1ebf \\u0102n shop \\u0111ang c\\u00f3 nh\\u1eefng *\\u0111\\u1ed9 tu-<br>\", \"query_knowledge_base\", \"['attribute:age_of_use', 'object_type:ghe']\", \"action_query_babe_kb\"], [\"ok shop\", \"D\\u1ea1 v\\u00e2ng \\u1ea1!\", \"agree\", \"[]\", \"utter_agree\"], [\"shop c\\u00f3 xe \\u0111\\u1ea9y k?\", \"Hi\\u1ec7n t\\u1ea1i s\\u1ea3n ph\\u1ea9m Xe \\u0110\\u1ea9y shop \\u0111ang c\\u00f3 nh\\u1eefng *gi\\u00e1* -<br>\", \"query_knowledge_base\", \"['object_type:xe_day']\", \"action_query_babe_kb\"], [\"/query_knowledge_base{\\\"age_of_use\\\": \\\"0 - 36 Th\\u00e1ng\\\"-<br>\", \"Hi\\u1ec7n t\\u1ea1i s\\u1ea3n ph\\u1ea9m Xe \\u0110\\u1ea9y \\u0111\\u1ed9 tu\\u1ed5i s\\u1eed d\\u1ee5ng 0 - 36 Th-<br>\", \"query_knowledge_base\", \"['age_of_use:0 - 36 Th\\u00e1ng']\", \"action_query_babe_kb\"], [\"/query_knowledge_base{\\\"price\\\": \\\"2M - 5M\\\"}\", \"Hi\\u1ec7n t\\u1ea1i s\\u1ea3n ph\\u1ea9m Xe \\u0110\\u1ea9y gi\\u00e1 2m - 5m, \\u0111\\u1ed9 tu\\u1ed5i s\\u1eed d-<br> \\u1ee5ng 0 - 36 Th\\u00e1ng shop \\u0111ang c\\u00f3 nh\\u1eefng *h\\u00e3ng s\\u1ea3n xu\\u1ea5t-<br>\", \"query_knowledge_base\", \"['price:2M - 5M']\", \"action_query_babe_kb\"], [\"/confirm_attribute_value{\\\"brand\\\": \\\"NULL\\\"}\", \"Hi\\u1ec7n t\\u1ea1i s\\u1ea3n ph\\u1ea9m Xe \\u0110\\u1ea9y gi\\u00e1 2m - 5m, \\u0111\\u1ed9 tu\\u1ed5i s\\u1eed d-<br>\", \"confirm_attribute_value\", \"['brand:NULL']\", \"action_query_babe_kb\"], [\"/confirm_attribute_value{\\\"material\\\": \\\"NULL\\\"}\", \"Hi\\u1ec7n t\\u1ea1i s\\u1ea3n ph\\u1ea9m Xe \\u0110\\u1ea9y gi\\u00e1 2m - 5m, \\u0111\\u1ed9 tu\\u1ed5i s\\u1eed d-<br>\", \"confirm_attribute_value\", \"['material:NULL']\", \"action_query_babe_kb\"], [\"/query_knowledge_base{\\\"color\\\": \\\"Ghi\\\"}\", \"D\\u1ea1 m\\u1eddi b\\u1ea1n tham kh\\u1ea3o s\\u1ea3n ph\\u1ea9m hi\\u1ec7n c\\u00f3 t\\u1ea1i shop nh\\u00e9-<br>\", \"query_knowledge_base\", \"['color:Ghi']\", \"action_query_babe_kb\"], [\"shop c\\u00f3 gh\\u1ebf \\u0111a n\\u0103ng cho b\\u00e9 10 th\\u00e1ng k?\", \"Hi\\u1ec7n t\\u1ea1i s\\u1ea3n ph\\u1ea9m Gh\\u1ebf \\u0110a N\\u0103ng \\u0111\\u1ed9 tu\\u1ed5i s\\u1eed d\\u1ee5ng B\\u00e9 1-<br>\", \"query_knowledge_base\", \"['object_type:ghe_da_nang', 'age_of_use:b\\u00e9 10 th\\u00e1ng']\", \"action_query_babe_kb\"], [\"/query_knowledge_base{\\\"price\\\": \\\"1M - 2M\\\"}\", \"Hi\\u1ec7n t\\u1ea1i s\\u1ea3n ph\\u1ea9m Gh\\u1ebf \\u0110a N\\u0103ng gi\\u00e1 1m - 2m, \\u0111\\u1ed9 tu\\u1ed5i-<br>  s\\u1eed d\\u1ee5ng B\\u00e9 10 Th\\u00e1ng shop \\u0111ang c\\u00f3 nh\\u1eefng *h\\u00e3ng s\\u1ea3n -<br>\", \"query_knowledge_base\", \"['price:1M - 2M']\", \"action_query_babe_kb\"], [\"/query_knowledge_base{\\\"brand\\\": \\\"More Kiss\\\"}\", \"D\\u1ea1 m\\u1eddi b\\u1ea1n tham kh\\u1ea3o s\\u1ea3n ph\\u1ea9m hi\\u1ec7n c\\u00f3 t\\u1ea1i shop nh\\u00e9-<br>\", \"query_knowledge_base\", \"['brand:More Kiss']\", \"action_query_babe_kb\"], [\"shop \\u01a1i\", \"Ch\\u00e0o b\\u1ea1n, m\\u00ecnh l\\u00e0 tr\\u1ee3 l\\u00fd \\u1ea3o c\\u1ee7a Shop G\\u1ea5u & B\\u00ed Ng\\u00f4,-<br>\", \"greet\", null, \"utter_greet\"], [\"url\", \"S\\u1ea3n ph\\u1ea9m Gh\\u1ebf \\u00f4 t\\u00f4 cao c\\u1ea5p Joie Steadi Dark Pewte h-<br> i\\u1ec7n shop \\u0111ang c\\u00f3 gi\\u00e1: *2,750,000 VND (gi\\u00e1 g\\u1ed1c 3,20-<br> 0,000 VND)*.\\r\\nB\\u1ea1n tham kh\\u1ea3o c\\u00e1c s\\u1ea3n ph\\u1ea9m sau nh\\u00e9 \\u1ea1-<br>\", \"query_knowledge_base\", \"url\", \"action_query_babe_kb\"], [\"shop \\u01a1i\", \"Ch\\u00e0o b\\u1ea1n, m\\u00ecnh l\\u00e0 tr\\u1ee3 l\\u00fd \\u1ea3o c\\u1ee7a Shop G\\u1ea5u & B\\u00ed Ng\\u00f4,-<br>\", \"greet\", null, \"utter_greet\"], [\"url\", \"S\\u1ea3n ph\\u1ea9m Gh\\u1ebf \\u00f4 t\\u00f4 cao c\\u1ea5p Joie Steadi Dark Pewte h-<br> i\\u1ec7n shop \\u0111ang c\\u00f3 gi\\u00e1: *2,750,000 VND (gi\\u00e1 g\\u1ed1c 3,20-<br> 0,000 VND)*.\\r\\nB\\u1ea1n tham kh\\u1ea3o c\\u00e1c s\\u1ea3n ph\\u1ea9m sau nh\\u00e9 \\u1ea1-<br>\", \"query_knowledge_base\", \"url\", \"action_query_babe_kb\"], [\"ok, c\\u1ea3m \\u01a1n shop\", \"D\\u1ea1, c\\u1ea3m \\u01a1n b\\u1ea1n!\", \"thank\", null, \"utter_thank\"], [\"/greet\", \"Ch\\u00e0o Nguy\\u1ec5n Nhung, m\\u00ecnh l\\u00e0 tr\\u1ee3 l\\u00fd \\u1ea3o c\\u1ee7a Shop G\\u1ea5u -<br>\", \"greet\", \"[]\", \"utter_greet\"], [\"url\", \"S\\u1ea3n ph\\u1ea9m Gh\\u1ebf \\u00f4 t\\u00f4 cao c\\u1ea5p Gh\\u1ebf \\u00f4 t\\u00f4 cao c\\u1ea5p Joie St-<br> eadi Dark Pewte \\u0111ang c\\u00f3 gi\\u00e1 2.750.000 (Gi\\u00e1 g\\u1ed1c: 3.-<br> 200.000).\\nM\\u1eddi b\\u1ea1n tham kh\\u1ea3o chi ti\\u1ebft s\\u1ea3n ph\\u1ea9m:\\nhtt-<br>\", \"query_knowledge_base\", \"url\", \"action_query_babe_kb\"], [\"m\\u00ecnh \\u0111ang c\\u1ea7n g\\u1ea5p, b\\u1ea1n g\\u1eedi ship lu\\u00f4n cho m\\u00ecnh \\u0111\\u01b0\\u1ee3c-<br>\", \"C\\u1ea3m \\u01a1n b\\u1ea1n! B\\u1ea1n vui l\\u00f2ng \\u0111i\\u1ec1n th\\u00f4ng tin v\\u00e0o M\\u1eabu \\u0111\\u1eb7-<br> t h\\u00e0ng gi\\u00fap shop nh\\u00e9!\\n<Show ra c\\u00e1i b\\u1ea3ng m\\u1eabu \\u0111\\u1eb7t h\\u00e0-<br> ng: c\\u00f3 t\\u00ean s\\u1ea3n ph\\u1ea9m, cho kh\\u00e1ch t\\u00f9y ch\\u1ecdn s\\u1ed1 l\\u01b0\\u1ee3ng, -<br> m\\u00e0u s\\u1eafc...>\\n<C\\u00e1c th\\u00f4ng tin \\u0111\\u00e3 thu th\\u1eadp \\u0111c th\\u00ec t\\u1ef1 \\u0111-<br>\", \"make_order\", \"['ship:c\\u1ea7n g\\u1ea5p', 'ship':'g\\u1eedi ship']\", \"action_make_order\"], [\"B\\u1ed9 \\u0111\\u1ed3 ch\\u01a1i n\\u1ea5u \\u0103n gi\\u00e1 bn \\u1ea1\", \"B\\u1ed9 \\u0111\\u1ed3 ch\\u01a1i nh\\u00e0 b\\u1ebfp th\\u00f4ng minh hi\\u1ec7n shop \\u0111ang c\\u00f3 gi-<br> \\u00e1: 790000 VND (gi\\u00e1 g\\u1ed1c 790000 VND). B\\u1ea1n tham kh\\u1ea3o -<br>\", \"query_knowledge_base\", \"['attribute:price']\", \"action_query_babe_kb\"], [\"ok shop\", \"D\\u1ea1,v\\u00e2ng\", \"agree\", null, \"utter_agree\"], [\"url\", \"B\\u1ea1n \\u0111ang t\\u00ecm ki\\u1ebfm th\\u00f4ng tin g\\u00ec \\u1ea1?\", \"send_link\", \"url\", \"action_handle_send_link_only\"], [\"Ng\\u1ef1a n\\u00e0y h\\u00e0ng v\\u1ec1 h\\u1ea3 shop?\", \"S\\u1ea3n ph\\u1ea9m  NG\\u1ef0A B\\u1eacP B\\u00caNH HOLLA 2020  hi\\u1ec7n shop c\\u00f3 h-<br> \\u00e0ng v\\u00e0 \\u0111ang c\\u00f3 gi\\u00e1: 580000\\n VND (gi\\u00e1 g\\u1ed1c 800000 VN-<br> D).\\nB\\u1ea1n tham kh\\u1ea3o c\\u00e1c s\\u1ea3n ph\\u1ea9m sau nh\\u00e9 \\u1ea1:\\n<show sp-<br>\", \"query_knowledge_base\", \"['object_type:ng\\u1ef1a', 'mention:n\\u00e0y']\", \"action_query_babe_kb\"], [\"url\", \"B\\u1ea1n \\u0111ang t\\u00ecm ki\\u1ebfm th\\u00f4ng tin g\\u00ec \\u1ea1?\", \"send_link\", \"url\", \"action_handle_send_link_only\"], [\"B\\u1ea1n \\u01a1i b\\u1ed9 n\\u00e0y bao ti\\u1ec1n \\u1ea1\", \"S\\u1ea3n ph\\u1ea9m B\\u1ea2NG V\\u1ebc HOLLA 2 in 1 hi\\u1ec7n shop \\u0111ang c\\u00f3 gi-<br> \\u00e1: *830,000 VND (gi\\u00e1 g\\u1ed1c 1,090,000 VND)*.\\r\\nB\\u1ea1n tha-<br>\", \"query_knowledge_base\", \"['mention:b\\u1ed9 n\\u00e0y', 'attribute:price']\", \"action_query_babe_kb\"], [\"Cho m xem m\\u00e0u\", \"M\\u00ecnh ch\\u01b0a x\\u00e1c \\u0111\\u1ecbnh \\u0111\\u01b0\\u1ee3c m\\u00f3n \\u0111\\u1ed3 b\\u1ea1n h\\u1ecfi, b\\u1ea1n m\\u00f4 t\\u1ea3 -<br>\", \"query_knowledge_base\", \"['attribute:color']\", \"action_query_babe_kb\"], [\"Gh\\u1ebf \\u0103n d\\u1eb7m newber \\u1ea1\", \"D\\u1ea1, s\\u1ea3n ph\\u1ea9m Gh\\u1ebf \\u0102n h\\u00e3ng s\\u1ea3n xu\\u1ea5t Newber hi\\u1ec7n t\\u1ea1i -<br> b\\u00ean shop \\u0111ang t\\u1ea1m h\\u1ebft h\\u00e0ng \\u1ea1. B\\u1ea1n tham kh\\u1ea3o c\\u00e1c s\\u1ea3-<br>\", \"query_knowledge_base\", \"['object_type:ghe_an', 'brand:newber']\", \"action_query_babe_kb\"], [\"b \\u01a1i cho m\\u00ecnh h\\u1ecfi ch\\u00fat\\nb\\u00ean m\\u00ecnh c\\u00f3 qu\\u00e2y k k \\u1ea1\", \"S\\u1ea3n ph\\u1ea9m  Qu\\u00e2y  hi\\u1ec7n shop \\u0111ang c\\u00f3 gi\\u00e1: *1,440,000 -<br> VND (gi\\u00e1 g\\u1ed1c 1,490,000 VND), 1,040,000 VND (gi\\u00e1 g\\u1ed1-<br> c 1,290,000 VND), 1,340,000 VND (gi\\u00e1 g\\u1ed1c 1,390,000-<br>\", \"query_knowledge_base\", \"['object_type:quay']\", \"action_query_babe_kb\"], [\"m\\u1eabu n\\u00e0y kt bn h\\u1ea3 b\", \"M\\u00ecnh ch\\u01b0a x\\u00e1c \\u0111\\u1ecbnh \\u0111\\u01b0\\u1ee3c m\\u00f3n \\u0111\\u1ed3 b\\u1ea1n h\\u1ecfi, b\\u1ea1n m\\u00f4 t\\u1ea3 -<br>\", \"query_knowledge_base\", \"['mention:m\\u1eabu n\\u00e0y', 'attribute:size']\", \"action_query_babe_kb\"], [\"url\", \"S\\u1ea3n ph\\u1ea9m  COMBO HOLLA LI\\u00caN HO\\u00c0N 2020 hi\\u1ec7n shop \\u0111an-<br> g c\\u00f3 k\\u00edch th\\u01b0\\u1edbc: *1.8x2M*.\\nB\\u1ea1n tham kh\\u1ea3o s\\u1ea3n ph\\u1ea9m -<br>\", \"send_link\", \"url\", \"action_handle_send_link_only\"], [\"shop \\u01a1i\", \"Ch\\u00e0o b\\u1ea1n, m\\u00ecnh l\\u00e0 tr\\u1ee3 l\\u00fd \\u1ea3o c\\u1ee7a Shop G\\u1ea5u & B\\u00ed Ng\\u00f4,-<br>\", \"greet\", null, \"utter_greet\"], [\"url\", \"B\\u1ea1n \\u0111ang t\\u00ecm ki\\u1ebfm th\\u00f4ng tin g\\u00ec \\u1ea1?\", \"send_link\", \"url\", \"action_handle_send_link_only\"], [\"B c\\u00f3 s\\u1eb5n thanh ch\\u1eafn gi\\u01b0\\u1eddng n\\u00e0y ko?\", \"S\\u1ea3n ph\\u1ea9m Thanh ch\\u1eafn gi\\u01b0\\u1eddng cao c\\u1ea5p d\\u1ea1ng tr\\u01b0\\u1ee3t Umoo-<br>  ch\\u00ednh h\\u00e3ng \\u0111ang c\\u00f3 gi\\u00e1: 500.000 (Gi\\u00e1 g\\u1ed1c: 610.000-<br>\", \"query_knowledge_base\", \"['object_type:thanh_chan_giuong']\", \"action_query_babe_kb\"], [\"lo\\u1ea1i n\\u00e0y c\\u00f3 nh\\u1eefng k\\u00edch th\\u01b0\\u1edbc n\\u00e0o shop nh\\u1ec9?\", \"S\\u1ea3n ph\\u1ea9m Thanh ch\\u1eafn gi\\u01b0\\u1eddng cao c\\u1ea5p d\\u1ea1ng tr\\u01b0\\u1ee3t Umoo-<br>\", \"query_knowledge_base\", \"['mention:lo\\u1ea1i n\\u00e0y', 'attribute:size']\", \"action_query_babe_kb\"], [\"ok shop\", \"V\\u00e2ng \\u1ea1!\", \"agree\", null, \"utter_agree\"], [\"url\", \"B\\u1ea1n \\u0111ang t\\u00ecm ki\\u1ebfm th\\u00f4ng tin g\\u00ec \\u1ea1?\", \"send_link\", \"url\", \"action_handle_send_link_only\"], [\"Shop c\\u00f2n b\\u1ed9 n\\u00e0y k \\u1ea1\", \"D\\u1ea1 m\\u1eddi b\\u1ea1n tham kh\\u1ea3o s\\u1ea3n ph\\u1ea9m hi\\u1ec7n c\\u00f3 t\\u1ea1i shop nh\\u00e9-<br>\", \"query_knowledge_base\", \"['mention:b\\u1ed9 n\\u00e0y']\", \"action_query_babe_kb\"], [\"shop \\u01a1i\", \"Ch\\u00e0o b\\u1ea1n, m\\u00ecnh l\\u00e0 ...\", \"greet\", \"[]\", \"utter_greet\"], [\"Cho m\\u00ecnh h\\u1ecfi b\\u00ean b\\u1ea1n c\\u00f3 m\\u00e1y h\\u00fat s\\u1eefa Avent hoa tuy\\u1ebf-<br>\", \"S\\u1ea3n ph\\u1ea9m  M\\u00e1y h\\u00fat s\\u1eefa \\u0111i\\u1ec7n \\u0111\\u00f4i Avent Snow (Ch\\u00ednh h-<br> \\u00e3ng - Cty V\\u1ea1n An) h\\u00e3ng s\\u1ea3n xu\\u1ea5t Avent hi\\u1ec7n shop \\u0111a-<br> ng c\\u00f3 gi\\u00e1: 4,990,000 VND (gi\\u00e1 g\\u1ed1c 6,950,000 VND).\\n-<br>\", \"query_knowledge_base\", \"['object_type:may_hut_sua', 'brand:avent']\", \"action_query_babe_kb\"], [\"lo\\u1ea1i n\\u00e0y d\\u00f9ng c\\u00f3 t\\u1ed1t kh\\u00f4ng b\\u1ea1n nh\\u1ec9?\", null, \"handover_to_inbox\", \"['mention:lo\\u1ea1i n\\u00e0y']\", \"action_handover_to_inbox\"], [\"alo shop\", \"Ch\\u00e0o b\\u1ea1n, m\\u00ecnh l\\u00e0 tr\\u1ee3 l\\u00fd \\u1ea3o c\\u1ee7a Shop G\\u1ea5u & B\\u00ed Ng\\u00f4,-<br>\", \"greet\", null, \"utter_greet\"], [\"url\", \"B\\u1ea1n \\u0111ang t\\u00ecm ki\\u1ebfm th\\u00f4ng tin g\\u00ec \\u1ea1?\\r\\n\", \"send_link\", \"url\", \"action_handle_send_link_only\"], [\"M\\u00ecnh mu\\u00f3n mua xe n\\u00e0y\", \"S\\u1ea3n ph\\u1ea9m Xe t\\u1eadp \\u0111i cao c\\u1ea5p Tommorrow Sky - CH\\u00cdNH H-<br> \\u00c3NG c\\u00f3 gi\\u00e1 449.000 (Gi\\u00e1 g\\u1ed1c: 850.000).\\n<Show card -<br>\", \"query_knowledge_base\", \"['object_type:xe', 'mention:n\\u00e0y']\", \"action_query_babe_kb\"], [\"shop \\u01a1i\", \"Ch\\u00e0o b\\u1ea1n, m\\u00ecnh l\\u00e0 tr\\u1ee3 l\\u00fd \\u1ea3o c\\u1ee7a Shop G\\u1ea5u & B\\u00ed Ng\\u00f4,-<br>\", \"greet\", null, \"utter_greet\"], [\"url\", \"B\\u1ea1n \\u0111ang t\\u00ecm ki\\u1ebfm th\\u00f4ng tin g\\u00ec \\u1ea1?\\r\\n\", \"send_link\", \"url\", \"action_handle_send_link_only\"], [\"M\\u1eabu n\\u00e0y shop c\\u00f2n ko?\", \"D\\u1ea1 m\\u1eddi b\\u1ea1n tham kh\\u1ea3o s\\u1ea3n ph\\u1ea9m hi\\u1ec7n c\\u00f3 t\\u1ea1i shop nh\\u00e9-<br>\", \"query_knowledge_base\", \"['mention:m\\u1eabu n\\u00e0y']\", \"action_query_babe_kb\"], [\"thank b\\u1ea1n\", \"D\\u1ea1, c\\u1ea3m \\u01a1n b\\u1ea1n!\", \"thank\", null, \"utter_thank\"], [\"shop \\u01a1i\", \"Ch\\u00e0o Tr\\u1ea7n Di\\u1ec7u Nh\\u01b0, m\\u00ecnh l\\u00e0 tr\\u1ee3 l\\u00fd \\u1ea3o c\\u1ee7a Shop G\\u1ea5u-<br>  & B\\u00ed Ng\\u00f4!\\n\\u0110\\u1ec3 h\\u1ed7 tr\\u1ee3 b\\u1ea1n nhanh nh\\u1ea5t c\\u00f3 th\\u1ec3, vui l\\u00f2-<br> ng m\\u00f4 t\\u1ea3 ng\\u1eafn g\\u1ecdn v\\u00e0 r\\u00f5 r\\u00e0ng s\\u1ea3n ph\\u1ea9m mu\\u1ed1n t\\u00ecm ki\\u1ebf-<br>\", \"greet\", \"[]\", \"utter_greet\"], [\"Cho m\\u00ecnh h\\u1ecfi\", \"M\\u00ecnh ch\\u01b0a x\\u00e1c \\u0111\\u1ecbnh \\u0111\\u01b0\\u1ee3c m\\u00f3n \\u0111\\u1ed3 b\\u1ea1n h\\u1ecfi, b\\u1ea1n m\\u00f4 t\\u1ea3 -<br>\", \"query_knowledge_base\", \"[]\", \"action_query_babe_kb\"], [\"url\", \"S\\u1ea3n ph\\u1ea9m M\\u00e1y ti\\u1ec7t tr\\u00f9ng s\\u1ea5y kh\\u00f4 tia UV cao c\\u1ea5p Fat-<br> z Baby FB4702 c\\u00f3 gi\\u00e1: 2.350.000 (Gi\\u00e1 g\\u1ed1c: 2.750.00-<br>\", \"query_knowledge_base\", \"url\", \"action_query_babe_kb\"], [\"Ok shop\", \"D\\u1ea1 v\\u00e2ng \\u1ea1!\", \"agree\", null, \"utter_agree\"], [\"Shop \\u01a1i\\nShop c\\u00f2n xe \\u0111\\u1ea1p 3 b\\u00e1nh cho b\\u00e9 ko\", \"S\\u1ea3n ph\\u1ea9m Xe ba b\\u00e1nh hi\\u1ec7n t\\u1ea1i shop \\u0111ang c\\u00f3 c\\u00e1c h\\u00e3ng-<br>\", \"query_knowledge_base\", \"['object_type:xe_3_banh']\", \"action_query_babe_kb\"], [\"url\", \"S\\u1ea3n ph\\u1ea9m  COMBO HOLLA LI\\u00caN HO\\u00c0N 2020 gi\\u00e1 4.100.000-<br>\", \"query_knowledge_base\", \"url\", \"action_query_babe_kb\"], [\"url\", \"S\\u1ea3n ph\\u1ea9m  COMBO HOLLA LI\\u00caN HO\\u00c0N 2020 gi\\u00e1 4.100.000-<br>\", \"query_knowledge_base\", \"url\", \"action_query_babe_kb\"], [\"ok, c\\u1ea3m \\u01a1n b\\u1ea1n\", \"D\\u1ea1 v\\u00e2ng \\u1ea1!\", \"thank\", null, \"utter_thank\"], [\"url\", \"D\\u1ea1, c\\u00f3 ph\\u1ea3i b\\u1ea1n mu\\u1ed1n h\\u1ecfi m\\u1ed9t trong c\\u00e1c s\\u1ea3n ph\\u1ea9m d\\u01b0-<br>\", \"query_knowledge_base\", \"url\", \"action_query_babe_kb\"], [\"/disagree{\\\"object_type\\\": null}\\r\\n\\r\\n\", \"B\\u1ea1n vui l\\u00f2ng m\\u00f4 t\\u1ea3 r\\u00f5 mong mu\\u1ed1n c\\u1ee7a b\\u1ea1n ho\\u1eb7c chat -<br>\", \"disagree\", \"['object_type:None']\", \"utter_disagree\"], [\"/connect_employee\", null, \"connect_employee\", null, \"action_handover_to_inbox\"], [\"url\", null, \"handover_to_inbox\", \"url\", \"action_handover_to_inbox\"], [\"shop \\u01a1i\", \"Ch\\u00e0o b\\u1ea1n, m\\u00ecnh l\\u00e0 tr\\u1ee3 l\\u00fd \\u1ea3o c\\u1ee7a Shop G\\u1ea5u & B\\u00ed Ng\\u00f4,-<br>\", \"greet\", \"[]\", \"utter_greet\"], [\"url\", \"D\\u1ea1, c\\u00f3 ph\\u1ea3i b\\u1ea1n mu\\u1ed1n h\\u1ecfi m\\u1ed9t trong c\\u00e1c s\\u1ea3n ph\\u1ea9m d\\u01b0-<br>\", \"query_knowledge_base\", \"url\", \"action_query_babe_kb\"], [\"K b\\u00e0n g\\u1ed9i \\u0111\\u1ea7u n\\u1eefa b\\u1ea1n\", \"B\\u1ea1n vui l\\u00f2ng m\\u00f4 t\\u1ea3 r\\u00f5 mong mu\\u1ed1n c\\u1ee7a b\\u1ea1n ho\\u1eb7c chat -<br>\", \"disagree\", \"[]\", \"utter_disagree\"], [\"/connect_employee\", null, \"connect_employee\", null, \"action_handover_to_inbox\"], [\"shop \\u01a1i\", \"Ch\\u00e0o Thu Anh, m\\u00ecnh l\\u00e0 tr\\u1ee3 l\\u00fd \\u1ea3o c\\u1ee7a Shop G\\u1ea5u & B\\u00ed -<br> Ng\\u00f4!\\n\\u0110\\u1ec3 h\\u1ed7 tr\\u1ee3 b\\u1ea1n nhanh nh\\u1ea5t c\\u00f3 th\\u1ec3, vui l\\u00f2ng m\\u00f4 -<br> t\\u1ea3 ng\\u1eafn g\\u1ecdn v\\u00e0 r\\u00f5 r\\u00e0ng s\\u1ea3n ph\\u1ea9m mu\\u1ed1n t\\u00ecm ki\\u1ebfm nh\\u00e9!-<br>\", \"greet\", \"[]\", \"utter_greet\"], [\"url\", \"D\\u1ea1, c\\u00f3 ph\\u1ea3i b\\u1ea1n mu\\u1ed1n h\\u1ecfi m\\u1ed9t trong c\\u00e1c s\\u1ea3n ph\\u1ea9m d\\u01b0-<br>\", \"query_knowledge_base\", \"url\", \"action_query_babe_kb\"], [\"K b\\u00e0n g\\u1ed9i \\u0111\\u1ea7u n\\u1eefa b\\u1ea1n\", \"B\\u1ea1n vui l\\u00f2ng m\\u00f4 t\\u1ea3 r\\u00f5 mong mu\\u1ed1n c\\u1ee7a b\\u1ea1n ho\\u1eb7c chat -<br> v\\u1edbi nh\\u00e2n vi\\u00ean t\\u01b0 v\\u1ea5n nh\\u00e9!\\n<Show button [Chat v\\u1edbi n-<br>\", \"disagree\", \"[]\", \"utter_disagree\"], [\"ch\\u1ecb mu\\u1ed1n mua th\\u00eam c\\u00e1i b\\u00e0n g\\u1ed9i \\u0111\\u1ea7u n\\u1eefa\", \"D\\u1ea1 hi\\u1ec7n t\\u1ea1i s\\u1ea3n ph\\u1ea9m B\\u00e0n g\\u1ed9i \\u0111\\u1ea7u shop \\u0111ang h\\u1ebft h\\u00e0n-<br>\", \"query_knowledge_base\", \"[object_type:ban_goi_dau]\", \"action_query_babe_kb\"], [\"ok em\", \"D\\u1ea1 v\\u00e2ng \\u1ea1!\", \"agree\", null, \"utter_agree\"], [\"B\\u1ed9 n\\u00e0y bao nhi\\u00eau b\\u1ea1n\", \"M\\u00ecnh ch\\u01b0a x\\u00e1c \\u0111\\u1ecbnh \\u0111\\u01b0\\u1ee3c m\\u00f3n \\u0111\\u1ed3 b\\u1ea1n h\\u1ecfi, b\\u1ea1n m\\u00f4 t\\u1ea3 -<br>\", \"query_knowledge_base\", \"['mention:b\\u1ed9 n\\u00e0y', 'attribute:price']\", \"action_query_babe_kb\"], [\"url\", \"S\\u1ea3n ph\\u1ea9m  B\\u00e0n h\\u1ecdc, b\\u1ea3n ch\\u01a1i l\\u1eafp gh\\u00e9p Lego cao c\\u1ea5p -<br>  hi\\u1ec7n shop \\u0111ang c\\u00f3 gi\\u00e1: *995,000 VND (gi\\u00e1 g\\u1ed1c 1,75-<br> 0,000 VND)*.\\nB\\u1ea1n tham kh\\u1ea3o c\\u00e1c s\\u1ea3n ph\\u1ea9m sau nh\\u00e9 \\u1ea1:-<br>\", \"send_link\", \"url\", \"action_handle_send_link_only\"], [\"url\", \"S\\u1ea3n ph\\u1ea9m  B\\u1ed9 \\u0111\\u1ed3 ch\\u01a1i nh\\u00e0 b\\u1ebfp th\\u00f4ng minh  hi\\u1ec7n shop-<br>  \\u0111ang c\\u00f3 gi\\u00e1: *790,000 VND (gi\\u00e1 g\\u1ed1c 790,000 VND)*.-<br>\", \"query_knowledge_base\", \"url\", \"action_query_babe_kb\"], [\"D\\u1ea1 v\\u00e2ng b\", \"D\\u1ea1 v\\u00e2ng \\u1ea1!\", \"agree\", \"[]\", \"utter_agree\"], [\"url\", \"B\\u1ea1n \\u0111ang t\\u00ecm ki\\u1ebfm th\\u00f4ng tin g\\u00ec \\u1ea1?\", \"send_link\", \"url\", \"action_handle_send_link_only\"], [\"B\\u1ed9 n\\u00e0y gi\\u00e2 bn \\u1ea1 shop\", \"S\\u1ea3n ph\\u1ea9m  B\\u1ed9 \\u0111\\u1ed3 ch\\u01a1i nh\\u00e0 b\\u1ebfp th\\u00f4ng minh  hi\\u1ec7n shop-<br>  \\u0111ang c\\u00f3 gi\\u00e1: *790,000 VND (gi\\u00e1 g\\u1ed1c 790,000 VND)*.-<br>\", \"query_knowledge_base\", \"['mention:b\\u1ed9 n\\u00e0y', 'attribute:price']\", \"action_query_babe_kb\"], [\"Cho t m\\u1ed9t xe ch\\u00f2i ch\\u00e2n luddy\", \"S\\u1ea3n ph\\u1ea9m  Xe Ch\\u00f2i Ch\\u00e2n  hi\\u1ec7n shop \\u0111ang c\\u00f3 gi\\u00e1: *69-<br> 9,000 VND (gi\\u00e1 g\\u1ed1c 998,000 VND), 448,400 VND (gi\\u00e1 -<br> g\\u1ed1c 590,000 VND), 499,000 VND (gi\\u00e1 g\\u1ed1c 800,000 VND-<br> ), 580,000 VND (gi\\u00e1 g\\u1ed1c 800,000 VND)*.\\nB\\u1ea1n tham kh-<br>\", \"query_knowledge_base\", \"['object_type:xe_choi_chan', 'brand:luddy']\", \"action_query_babe_kb\"], [\"m\\u00ecnh mu\\u1ed1n mua c\\u00e1i luddy\", \"S\\u1ea3n ph\\u1ea9m Xe ch\\u00f2i ch\\u00e2n th\\u01b0\\u01a1ng hi\\u1ec7u Luddy c\\u00f3 gi\\u00e1: 49-<br> 9,000 VND (gi\\u00e1 g\\u1ed1c 800,000 VND)\\n<show card xe ludd-<br>\", \"query_knowledge_base\", \"['brand:luddy']\", \"action_query_babe_kb\"], [\"ok, m\\u00ecnh l\\u1ea5y c\\u00e1i n\\u00e0y nh\\u00e9\", \"\\\"C\\u1ea3m \\u01a1n b\\u1ea1n! B\\u1ea1n vui l\\u00f2ng \\u0111i\\u1ec1n th\\u00f4ng tin v\\u00e0o M\\u1eabu \\u0111-<br> \\u1eb7t h\\u00e0ng gi\\u00fap shop nh\\u00e9!\\n<Show ra c\\u00e1i b\\u1ea3ng m\\u1eabu \\u0111\\u1eb7t h-<br> \\u00e0ng: c\\u00f3 t\\u00ean s\\u1ea3n ph\\u1ea9m, cho kh\\u00e1ch t\\u00f9y ch\\u1ecdn s\\u1ed1 l\\u01b0\\u1ee3ng,-<br>  m\\u00e0u s\\u1eafc...>\\n<C\\u00e1c th\\u00f4ng tin \\u0111\\u00e3 thu th\\u1eadp \\u0111c th\\u00ec t\\u1ef1 -<br>\", \"make_order\", \"['mention:c\\u00e1i n\\u00e0y']\", \"action_make_order\"], [\"ship cho m 1 xe t\\u1eadp \\u0111i s\\u01b0 t\\u1eed nh\\u00e9\", \"\\\"\\\"\\\"C\\u1ea3m \\u01a1n b\\u1ea1n! B\\u1ea1n vui l\\u00f2ng \\u0111i\\u1ec1n th\\u00f4ng tin v\\u00e0o M\\u1eabu-<br>  \\u0111\\u1eb7t h\\u00e0ng gi\\u00fap shop nh\\u00e9!\\n<Show ra c\\u00e1i b\\u1ea3ng m\\u1eabu \\u0111\\u1eb7t-<br>  h\\u00e0ng: c\\u00f3 t\\u00ean s\\u1ea3n ph\\u1ea9m, cho kh\\u00e1ch t\\u00f9y ch\\u1ecdn s\\u1ed1 l\\u01b0\\u1ee3n-<br>\", \"query_knowledge_base\", \"['object_type:xe_tap_di,'type:s\\u01b0 t\\u1eed'] \", \"action_query_knowledge_base\"], [\"<X\\u00e1c nh\\u1eadn>\", \"C\\u00e1m \\u01a1n b\\u1ea1n \\u0111\\u00e3 mua h\\u00e0ng t\\u1ea1i shop, \\u0111\\u01a1n h\\u00e0ng s\\u1ebd \\u0111\\u01b0\\u1ee3c -<br> giao \\u0111\\u1ebfn 434 tr\\u1ea7n kh\\u00e1t ch\\u00e2n, 2 b\\u00e0 tr\\u01b0ng trong kho\\u1ea3-<br>\", \"query_knowledge_base\", null, \"action_query_knowledge_base\"], [\"hello\", \"Ch\\u00e0o b\\u1ea1n, m\\u00ecnh l\\u00e0 tr\\u1ee3 l\\u00fd \\u1ea3o c\\u1ee7a Shop G\\u1ea5u & B\\u00ed Ng\\u00f4,-<br>\", \"greet\", \"['brand:hello']\", \"utter_greet\"], [\"Alo, Shop cho m\\u00ecnh h\\u1ecfi ch\\u1eafn c\\u1eeda cho b\\u00e9 v\\u1edbi\", \"S\\u1ea3n ph\\u1ea9m  thanh ch\\u1eafn c\\u1eeda (thanh ch\\u1eafn c\\u1ea7u thang)  h-<br> i\\u1ec7n shop \\u0111ang c\\u00f3 gi\\u00e1: *699,000 VND (gi\\u00e1 g\\u1ed1c 998,00-<br> 0 VND), 448,400 VND (gi\\u00e1 g\\u1ed1c 590,000 VND), 499,000-<br>  VND (gi\\u00e1 g\\u1ed1c 800,000 VND), 580,000 VND (gi\\u00e1 g\\u1ed1c 8-<br> 00,000 VND)*.\\nB\\u1ea1n tham kh\\u1ea3o c\\u00e1c s\\u1ea3n ph\\u1ea9m sau nh\\u00e9 \\u1ea1-<br>\", \"query_knowledge_base\", \"['object_type:thanh_chan_cua,']\", \"action_query_knowledge_base\"], [\"C\\u00e1i th\\u1ee9 2 k\\u00edch th\\u01b0\\u1edbc sao \\u1ea1\", \"S\\u1ea3n ph\\u1ea9m  thanh ch\\u1eafn c\\u1eeda (thanh ch\\u1eafn c\\u1ea7u thang) gi-<br> \\u00e1 448,400 VND (gi\\u00e1 g\\u1ed1c 590,000 VND) hi\\u1ec7n shop \\u0111ang-<br>  c\\u00f3 k\\u00edch th\\u01b0\\u1edbc \\n<74x85x77cm> \\nM\\u1eddi b\\u1ea1n tham kh\\u1ea3o s\\u1ea3-<br>\", \"query_knowledge_base\", \"['mention:2', 'attribute:size']\", \"action_query_babe_kb\"], [\"url\", \"C\\u00f3 ph\\u1ea3i b\\u1ea1n \\u0111ang mu\\u1ed1n \\u0111\\u1eb7t h\\u00e0ng s\\u1ea3n ph\\u1ea9m sau \\u0111\\u00fang k-<br> o \\u1ea1:\\n< cardTh\\u1ea3m g\\u1ea5p XPE> < card Th\\u1ea3m x\\u1ed1p gh\\u00e9p 28 t-<br>\", \"query_knowledge_base\", \"url\", \"action_query_babe_kb\"], [\"<\\u0110\\u00fang>\", \"\\\"\\\"\\\"C\\u1ea3m \\u01a1n b\\u1ea1n! B\\u1ea1n vui l\\u00f2ng \\u0111i\\u1ec1n th\\u00f4ng tin v\\u00e0o M\\u1eabu-<br>  \\u0111\\u1eb7t h\\u00e0ng gi\\u00fap shop nh\\u00e9!\\n<Show ra c\\u00e1i b\\u1ea3ng m\\u1eabu \\u0111\\u1eb7t-<br>  h\\u00e0ng: c\\u00f3 t\\u00ean s\\u1ea3n ph\\u1ea9m, cho kh\\u00e1ch t\\u00f9y ch\\u1ecdn s\\u1ed1 l\\u01b0\\u1ee3n-<br>\", \"query_knowledge_base\", null, \"action_query_babe_kb\"], [\"<H\\u1ee7y>\", \"B\\u1ea1n \\u0111\\u00e3 h\\u1ee7y \\u0111\\u01a1n h\\u00e0ng th\\u00e0nh c\\u00f4ng\", \"query_knowledge_base\", null, \"action_query_babe_kb\"], [\"url\", \"C\\u00f3 ph\\u1ea3i b\\u1ea1n \\u0111ang mu\\u1ed1n \\u0111\\u1eb7t h\\u00e0ng s\\u1ea3n ph\\u1ea9m sau \\u0111\\u00fang k-<br> o \\u1ea1:\\n< cardTh\\u1ea3m g\\u1ea5p XPE> < card Th\\u1ea3m x\\u1ed1p gh\\u00e9p 28 t-<br>\", \"query_knowledge_base\", \"url\", \"action_query_babe_kb\"], [\"<Sai>\", \"- B\\u1ea1n vui l\\u00f2ng m\\u00f4 t\\u1ea3 r\\u00f5 mong mu\\u1ed1n c\\u1ee7a b\\u1ea1n ho\\u1eb7c cha-<br> t v\\u1edbi nh\\u00e2n vi\\u00ean t\\u01b0 v\\u1ea5n nh\\u00e9!\\n<Show button [Chat v\\u1edbi-<br>\", \"query_knowledge_base\", null, \"action_query_babe_kb\"], [\"/connect_employee\", null, \"connect_employee\", null, \"action_handover_to_inbox\"], [\"Bao nhi\\u00eau \\u1ea1?\", \"M\\u00ecnh ch\\u01b0a x\\u00e1c \\u0111\\u1ecbnh \\u0111\\u01b0\\u1ee3c m\\u00f3n \\u0111\\u1ed3 b\\u1ea1n h\\u1ecfi, b\\u1ea1n m\\u00f4 t\\u1ea3 -<br>\", \"query_knowledge_base\", \"['attribute:price']\", \"action_query_babe_kb\"], [\"Th\\u1ea3m \\u0111\\u00e0n umoo \\u00e1 b\", \"D\\u1ea1, s\\u1ea3n ph\\u1ea9m Th\\u1ea3m h\\u00e3ng s\\u1ea3n xu\\u1ea5t Umoo hi\\u1ec7n t\\u1ea1i b\\u00ean -<br> shop \\u0111ang t\\u1ea1m h\\u1ebft h\\u00e0ng \\u1ea1. B\\u1ea1n tham kh\\u1ea3o c\\u00e1c s\\u1ea3n ph-<br>\", \"query_knowledge_base\", \"['object_type:tham', 'brand:umoo']\", \"action_query_babe_kb\"], [\"ok sh\", \"D\\u1ea1 v\\u00e2ng \\u1ea1!\", \"agree\", null, \"utter_agree\"], [\"url\", \"S\\u1ea3n ph\\u1ea9m  Gi\\u00e1 s\\u00e1ch Hamitu  hi\\u1ec7n shop \\u0111ang c\\u00f3 gi\\u00e1: -<br> *790,000 VND (gi\\u00e1 g\\u1ed1c 790,000 VND)*.\\nB\\u1ea1n tham kh\\u1ea3o-<br>\", \"query_knowledge_base\", \"url\", \"action_query_babe_kb\"], [\"C\\u00f2n m\\u00e0u xanh ko shop\", \"S\\u1ea3n ph\\u1ea9m  Gi\\u00e1 s\\u00e1ch Hamitu  m\\u00e0u xanh hi\\u1ec7n c\\u00f2n h\\u00e0ng -<br>\", \"query_knowledge_base\", \"['color:m\\u00e0u xanh']\", \"action_query_babe_kb\"], [\"Ok thanks\", \"D\\u1ea1, c\\u1ea3m \\u01a1n \\u1ea1!\", \"thank\", \"[]\", \"utter_thank\"], [\"hi em\", \"Ch\\u00e0o b\\u1ea1n, m\\u00ecnh l\\u00e0 tr\\u1ee3 l\\u00fd \\u1ea3o c\\u1ee7a Shop G\\u1ea5u & B\\u00ed Ng\\u00f4,-<br>\", \"greet\", \"[]\", \"utter_greet\"], [\"url\", \"C\\u00f3 ph\\u1ea3i b\\u1ea1n \\u0111ang mu\\u1ed1n \\u0111\\u1eb7t h\\u00e0ng s\\u1ea3n ph\\u1ea9m sau \\u0111\\u00fang k-<br>\", \"query_knowledge_base\", \"url\", \"action_query_babe_kb\"], [\"<\\u0110\\u00fang>\", \"\\\"\\\"\\\"C\\u1ea3m \\u01a1n b\\u1ea1n! B\\u1ea1n vui l\\u00f2ng \\u0111i\\u1ec1n th\\u00f4ng tin v\\u00e0o M\\u1eabu-<br>  \\u0111\\u1eb7t h\\u00e0ng gi\\u00fap shop nh\\u00e9!\\n<Show ra c\\u00e1i b\\u1ea3ng m\\u1eabu \\u0111\\u1eb7t-<br>  h\\u00e0ng: c\\u00f3 t\\u00ean s\\u1ea3n ph\\u1ea9m, cho kh\\u00e1ch t\\u00f9y ch\\u1ecdn s\\u1ed1 l\\u01b0\\u1ee3n-<br>\", \"agree\", null, \"action_query_babe_kb\"], [\"<X\\u00e1c nh\\u1eadn>\", \"B\\u1ea1n \\u0111\\u00e3 \\u0111\\u1eb7t h\\u00e0ng th\\u00e0nh c\\u00f4ng, \\u0111\\u01a1n h\\u00e0ng s\\u1ebd \\u0111\\u01b0\\u1ee3c giao -<br>\", \"agree\", \"[]\", \"utter_agree\"], [\"shop oi b\\u00e1o gi\\u00e1 e nh\\u00e9\", null, \"query_knowledge_base\", \"['attribute:price']\", \"action_query_babe_kb\"], [\"url\", \"D\\u1ea1, c\\u00f3 ph\\u1ea3i b\\u1ea1n mu\\u1ed1n h\\u1ecfi m\\u1ed9t trong c\\u00e1c s\\u1ea3n ph\\u1ea9m d\\u01b0-<br> \\u1edbi \\u0111\\u00e2y kh\\u00f4ng \\u1ea1?\\r\\n (Vui l\\u00f2ng \\u1ea5n ch\\u1ecdn 1 s\\u1ea3n ph\\u1ea9m)...-<br>\", \"send_link\", \"url\", \"action_handle_send_link_only\"], [\"/disagree{\\\"object_type\\\": null}\\r\\n\\r\\n\", \"B\\u1ea1n vui l\\u00f2ng m\\u00f4 t\\u1ea3 r\\u00f5 mong mu\\u1ed1n c\\u1ee7a b\\u1ea1n ho\\u1eb7c chat -<br>\", \"deny_object_type\", \"['object_type:None']\", \"utter_disagree\"], [\"/connect_employee\", null, \"connect_employee\", null, \"action_handover_to_inbox\"], [\"url\", \"S\\u1ea3n ph\\u1ea9m  B\\u1ed9 \\u0111\\u1ed3 ch\\u01a1i nh\\u00e0 b\\u1ebfp th\\u00f4ng minh m\\u00e0u xanh h-<br> i\\u1ec7n shop \\u0111ang c\\u00f3 gi\\u00e1: *790,000 VND (gi\\u00e1 g\\u1ed1c 790,00-<br> 0 VND)*.\\nB\\u1ea1n tham kh\\u1ea3o c\\u00e1c s\\u1ea3n ph\\u1ea9m sau nh\\u00e9 \\u1ea1:\\n<sh-<br>\", \"query_knowledge_base\", \"url\", \"action_query_babe_kb\"], [\"L\\u00e0m b\\u1eb1ng nh\\u1ef1a \\u00e0 b\\u1ea1n\", \"S\\u1ea3n ph\\u1ea9m  B\\u1ed9 \\u0111\\u1ed3 ch\\u01a1i nh\\u00e0 b\\u1ebfp th\\u00f4ng minh \\u0111\\u01b0\\u1ee3c l\\u00e0m t-<br>\", \"query_knowledge_base\", \"['material:b\\u1eb1ng nh\\u1ef1a']\", \"action_query_babe_kb\"], [\"thank shop\", \"D\\u1ea1,v\\u00e2ng \\u1ea1\", \"thank\", null, \"utter_thank\"], [\"url\", \"S\\u1ea3n ph\\u1ea9m  Xe ch\\u00f2i ch\\u00e2n c\\u00f3 b\\u00e0n \\u0111\\u1ea1p cao c\\u1ea5p Motion  -<br> hi\\u1ec7n shop \\u0111ang c\\u00f3 gi\\u00e1: *389,400 VND (gi\\u00e1 g\\u1ed1c 590,0-<br>\", \"query_knowledge_base\", \"url\", \"action_query_babe_kb\"], [\"Xe n\\u00e0y cho b\\u00e9 t\\u1eeb m\\u1ea5y tu\\u1ed5i ha b\", \"S\\u1ea3n ph\\u1ea9m  Xe ch\\u00f2i ch\\u00e2n c\\u00f3 b\\u00e0n \\u0111\\u1ea1p cao c\\u1ea5p Motion  -<br> hi\\u1ec7n shop \\u0111ang c\\u00f3 \\u0111\\u1ed9 tu\\u1ed5i s\\u1eed d\\u1ee5ng: *0 - 36 th\\u00e1ng*.-<br>\", \"query_knowledge_base\", \"['object_type:xe', 'mention:n\\u00e0y', 'attribute:age_of_use']\", \"action_query_babe_kb\"], [\"N\\u01b0\\u1edbc n\\u00e0o s\\u1ea3n xu\\u1ea5t v\\u1eady b\\u1ea1n\", \"S\\u1ea3n ph\\u1ea9m  Xe ch\\u00f2i ch\\u00e2n c\\u00f3 b\\u00e0n \\u0111\\u1ea1p cao c\\u1ea5p Motion c-<br>\", \"query_knowledge_base\", \"['attribute:origin']\", \"action_query_babe_kb\"], [\"shop \\u01a1i\", \"Ch\\u00e0o b\\u1ea1n, m\\u00ecnh l\\u00e0 tr\\u1ee3 l\\u00fd \\u1ea3o c\\u1ee7a Shop G\\u1ea5u & B\\u00ed Ng\\u00f4,-<br>\", \"greet\", null, \"utter_greet\"], [\"url\", \"B\\u1ea1n \\u0111ang t\\u00ecm ki\\u1ebfm th\\u00f4ng tin g\\u00ec \\u1ea1?\", \"send_link\", \"url\", \"action_handle_send_link_only\"], [\"Bn v\\u1eady s\", \"S\\u1ea3n ph\\u1ea9m  XE \\u0110\\u1ea0P C\\u00d3 M\\u00c1I CHE UMOO  hi\\u1ec7n shop \\u0111ang c-<br> \\u00f3 gi\\u00e1: *1,148,000 VND (gi\\u00e1 g\\u1ed1c 2,800,000 VND)*.\\nB\\u1ea1-<br> n tham kh\\u1ea3o c\\u00e1c s\\u1ea3n ph\\u1ea9m sau nh\\u00e9 \\u1ea1:\\n<show card sp>-<br>\", \"query_knowledge_base\", \"['attribute:price']\", \"action_query_babe_kb\"], [\"tr\\u1ecdng l\\u01b0\\u1ee3ng xe bn \\u1ea1\", \"S\\u1ea3n ph\\u1ea9m  XE \\u0110\\u1ea0P C\\u00d3 M\\u00c1I CHE UMOO c\\u00f3 tr\\u1ecdng l\\u01b0\\u1ee3ng 3,-<br>\", \"query_knowledge_base\", \"['attribute:weight']\", \"action_query_babe_kb\"], [\"Cho m\\u00ecnh xin link shopee\", \"S\\u1ea3n ph\\u1ea9m  XE \\u0110\\u1ea0P C\\u00d3 M\\u00c1I CHE UMOO c\\u00f3 link shopee sa-<br>\", \"query_knowledge_base\", \"['attribute:link']\", \"action_query_babe_kb\"], [\"B\\u1ed9 n\\u00e0y c\\u00f3 g\\u1ea5p l\\u1ea1i dc k shop\", \"M\\u00ecnh ch\\u01b0a x\\u00e1c \\u0111\\u1ecbnh \\u0111\\u01b0\\u1ee3c m\\u00f3n \\u0111\\u1ed3 b\\u1ea1n h\\u1ecfi, b\\u1ea1n m\\u00f4 t\\u1ea3 -<br>\", \"handover_to_inbox\", \"['mention:b\\u1ed9 n\\u00e0y']\", \"action_handover_to_inbox\"], [\"https://scontent.fhan1-1.fna.fbcdn.net/v/t1.15752--<br> 0/p280x280/94247169_518496298833739_47427858278037-<br> 58592_n.jpg?_nc_cat=106&_nc_sid=b96e70&_nc_ohc=tIQ-<br> pyBHqGKcAX_YGh_a&_nc_ht=scontent.fhan1-1.fna&_nc_t-<br> p=6&oh=3141a0925467d595ddf7cb2d28d75d28&oe=5EC24DB-<br> E\\nhttps://scontent.fhan1-1.fna.fbcdn.net/v/t1.1575-<br> 2-0/p280x280/93419718_261010215057212_451887424476-<br> 7023104_n.jpg?_nc_cat=104&_nc_sid=b96e70&_nc_ohc=E-<br> VuxAqLJPbkAX-2BWJl&_nc_ht=scontent.fhan1-1.fna&_nc-<br> _tp=6&oh=08ddddefc4c435796d90f76c1ab9e8b3&oe=5EC58-<br>\", \"S\\u1ea3n ph\\u1ea9m abc_xyz c\\u00f3 th\\u1ec3 g\\u1ea5p g\\u1ecdn \\u1ea1!\", \"query_knowledge_base\", \"[\\\"url:['https://scontent.fhan1-1.fna.fbcdn.net/v/t1.15752-0/p280x280/94247169_518496298833739_4742785827803758592_n.jpg?_nc_cat=106&_nc_sid=b96e70&_nc_ohc=tIQpyBHqGKcAX_YGh_a&_nc_ht=scontent.fhan1-1.fna&_nc_tp=6&oh=3141a0925467d595ddf7cb2d28d75d28&oe=5EC24DBE', 'https://scontent.fhan1-1.fna.fbcdn.net/v/t1.15752-0/p280x280/93419718_261010215057212_4518874244767023104_n.jpg?_nc_cat=104&_nc_sid=b96e70&_nc_ohc=EVuxAqLJPbkAX-2BWJl&_nc_ht=scontent.fhan1-1.fna&_nc_tp=6&oh=08ddddefc4c435796d90f76c1ab9e8b3&oe=5EC5835B']\\\"]\", \"action_query_babe_kb\"], [\"shop \\u01a1i\", \"Ch\\u00e0o b\\u1ea1n, m\\u00ecnh l\\u00e0 tr\\u1ee3 l\\u00fd \\u1ea3o c\\u1ee7a Shop G\\u1ea5u & B\\u00ed Ng\\u00f4,-<br>\", \"greet\", null, \"utter_greet\"], [\"url\", \"B\\u1ea1n \\u0111ang t\\u00ecm ki\\u1ebfm th\\u00f4ng tin g\\u00ec \\u1ea1?\", \"send_link\", \"url\", \"action_handle_send_link_only\"], [\"Cho e gi\\u00e1 nh\\u00e9\", \"S\\u1ea3n ph\\u1ea9m B\\u1ed9 \\u0111\\u1ed3 ch\\u01a1i nh\\u00e0 b\\u1ebfp th\\u00f4ng minh g\\u1ed3m 2 size -<br> \\nSize nh\\u1ecf k\\u00edch th\\u01b0\\u1edbc  57x30x77cm gi\\u00e1 KM ch\\u1ec9 590,00-<br> 0 VND\\nSize to k\\u00edch th\\u01b0\\u1edbc 51x32x100cm Gi\\u00e1 Km ch\\u1ec9 79-<br> 0,000 VND\\nB\\u1ea1n tham kh\\u1ea3o c\\u00e1c s\\u1ea3n ph\\u1ea9m sau nh\\u00e9 \\u1ea1:\\n<S-<br>\", \"query_knowledge_base\", \"['attribute:price']\", \"action_query_babe_kb\"], [\"shop \\u01a1i\", \"Ch\\u00e0o b\\u1ea1n, m\\u00ecnh l\\u00e0 tr\\u1ee3 l\\u00fd \\u1ea3o c\\u1ee7a Shop G\\u1ea5u & B\\u00ed Ng\\u00f4,-<br>\", \"greet\", null, \"utter_greet\"], [\"Shop c\\u00f2n b\\u1ed9 c\\u00e2u c\\u00e1 k\", \"D\\u1ea1 m\\u00ecnh c\\u00f2n \\u1ea1\\nS\\u1ea3n ph\\u1ea9m B\\u1ed9 c\\u00e2u c\\u00e1 Toys House c\\u00f3 \\u0111\\u00e8n-<br> , nh\\u1ea1c ch\\u00ednh h\\u00e3ng hi\\u1ec7n shop c\\u00f3 gi\\u00e1 l\\u00e0 300,000 VND\\n-<br> B\\u1ea1n vui l\\u00f2ng xe th\\u00f4ng tin s\\u1ea3n ph\\u1ea9m t\\u1ea1i \\u0111\\u00e2y \\u1ea1:\\n<sho-<br>\", \"query_knowledge_base\", \"['object_type:bo_cau_ca']\", \"action_query_babe_kb\"], [\"url\", \"B\\u1ea1n \\u0111ang t\\u00ecm ki\\u1ebfm th\\u00f4ng tin g\\u00ec \\u1ea1?\", \"send_link\", \"url\", \"action_handle_send_link_only\"], [\"Bnhieu z\", \"S\\u1ea3n ph\\u1ea9m Xe \\u0111\\u1ea1p c\\u00f3 m\\u00e1i che Umoo hi\\u1ec7n shop \\u0111ang c\\u00f3 -<br> gi\\u00e1: 2,800,000 VND (gi\\u00e1 g\\u1ed1c 2,800,000 VND)\\nB\\u1ea1n tha-<br>\", \"query_knowledge_base\", \"['attribute:price']\", \"action_query_babe_kb\"], [\"Xe umoo th\\u00e1o ra thanh xe \\u0111ap 3 banh nh\\u01b0 nadle dc k-<br>\", \"Handover\", \"handover_to_inbox\", \"['brand:umoo', 'brand:nadle']\", \"action_handover_to_inbox\"], [\"url\", \"B\\u1ea1n \\u0111ang t\\u00ecm ki\\u1ebfm th\\u00f4ng tin g\\u00ec \\u1ea1?\", \"send_link\", \"url\", \"action_handle_send_link_only\"], [\"url\", \"B\\u1ea1n \\u0111ang t\\u00ecm ki\\u1ebfm th\\u00f4ng tin g\\u00ec \\u1ea1?\", \"send_link\", \"url\", \"action_handle_send_link_only\"], [\"M\\u00ecnh mu\\u1ed1n h\\u1ecfi 2c\\u00e1i n\\u00f4i n\\u00e0y l\\u00e0 1 ah\", \"D\\u1ea1, hai s\\u1ea3n ph\\u1ea9m tr\\u00ean kh\\u00e1c nhau, b\\u1ea1n c\\u00f3 th\\u1ec3 tham k-<br> h\\u1ea3o 2 s\\u1ea3n ph\\u1ea9m \\u0111\\u00f3 t\\u1ea1i \\u0111\\u00e2y \\u1ea1:\\n<show card sp 2 sp \\u0111\\u00f3-<br>\", \"query_knowledge_base\", \"['object_type:noi', 'mention:n\\u00e0y']\", \"action_query_babe_kb\"], [\"/query_knowledge_base{\\\"url\\\": \\\"https://shopee.vn/pr-<br> oduct/36371562/6418671728\\\", \\\"product_id\\\": \\\"https:/-<br>\", \"D\\u1ea1 m\\u1eddi b\\u1ea1n tham kh\\u1ea3o s\\u1ea3n ph\\u1ea9m hi\\u1ec7n c\\u00f3 t\\u1ea1i shop nh\\u00e9-<br>\", \"query_knowledge_base\", \"['url:https://shopee.vn/product/36371562/6418671728', 'product_id:https://shopee.vn/product/36371562/6418671728']\", \"action_query_babe_kb\"], [\"url\", \"D\\u1ea1, c\\u00f3 ph\\u1ea3i b\\u1ea1n mu\\u1ed1n h\\u1ecfi m\\u1ed9t trong c\\u00e1c s\\u1ea3n ph\\u1ea9m d\\u01b0-<br>\", \"query_knowledge_base\", \"url\", \"action_query_babe_kb\"], [\"/query_knowledge_base{\\\"url\\\": \\\"https://shopee.vn/pr-<br> oduct/36371562/3103025341\\\", \\\"product_id\\\": \\\"https:/-<br>\", \"S\\u1ea3n ph\\u1ea9m Xe NADLE 3 in 1: Xe \\u0111\\u1ea9y - Ch\\u00f2i ch\\u00e2n - Xe -<br> \\u0111\\u1ea1p hi\\u1ec7n shop \\u0111ang c\\u00f3 gi\\u00e1: *2,450,000 VND (gi\\u00e1 g\\u1ed1c-<br>  2,450,000 VND), 2,650,000 VND (gi\\u00e1 g\\u1ed1c 2,650,000 -<br> VND), 1,550,000 VND (gi\\u00e1 g\\u1ed1c 2,650,000 VND)*.\\r\\nB\\u1ea1n-<br>\", \"query_knowledge_base\", \"['url:https://shopee.vn/product/36371562/3103025341', 'product_id:https://shopee.vn/product/36371562/3103025341']\", \"action_query_babe_kb\"], [\"url\", \"B\\u1ea1n \\u0111ang t\\u00ecm ki\\u1ebfm th\\u00f4ng tin g\\u00ec \\u1ea1?\", \"send_link\", \"url\", \"action_handle_send_link_only\"], [\"Bn em oi\\nC\\u00f3 m\\u00e0u kh\\u00e1c ko e\", \"S\\u1ea3n ph\\u1ea9m B\\u00e0n gh\\u1ebf \\u0111a n\\u0103ng Lego Holla hi\\u1ec7n shop \\u0111ang-<br>  c\\u00f3 gi\\u00e1: *1,400,000 VND (gi\\u00e1 g\\u1ed1c 1,400,000 VND)\\nB\\u1ea1-<br> n tham kh\\u1ea3o c\\u00e1c s\\u1ea3n ph\\u1ea9m sau nh\\u00e9 \\u1ea1:\\n<show card sp>-<br> \\n\\nS\\u1ea3n ph\\u1ea9m B\\u00e0n gh\\u1ebf \\u0111a n\\u0103ng Lego Holla hi\\u1ec7n shop \\u0111a-<br> ng c\\u00f3 c\\u00e1c m\\u1eabu: m\\u1eabu G\\u1ea5u v\\u00e0 m\\u1eabu Th\\u1ecf\\nB\\u1ea1n tham kh\\u1ea3o c\\u00e1-<br>\", \"query_knowledge_base\", \"['attribute:price', 'attribute:color']\", \"action_query_babe_kb\"], [\"B \\u01a1i k\\u1ec7 s\\u1eafp v\\u1ec1 ch\\u01b0a b\", \"D\\u1ea1 b\\u1ea1n mu\\u1ed1n h\\u1ecfi s\\u1ea3n ph\\u1ea9m n\\u00e0o trong c\\u00e1c s\\u1ea3n ph\\u1ea9m d\\u01b0-<br> \\u1edbi \\u0111\\u00e2y \\u1ea1\\n<show card t\\u1ea5t c\\u1ea3 c\\u00e1c k\\u1ec7 m\\u00e0 shop b\\u00e1n k\\u00e8m -<br> button b\\u00ean d\\u01b0\\u1edbi \\\"C\\u00e1i n\\u00e0y\\\">\\n<button: Kh\\u00f4ng c\\u00f3 trong-<br>\", \"query_knowledge_base\", \"['object_type:ke']\", \"action_query_babe_kb\"], [\"/query_knowledge_base{\\\"url\\\": \\\"https://shopee.vn/pr-<br> oduct/36371562/3103025341\\\", \\\"product_id\\\": \\\"https:/-<br>\", \"D\\u1ea1 s\\u1ea3n ph\\u1ea9m K\\u1ec7 \\u0111a n\\u0103ng cao c\\u1ea5p Pie shop d\\u1ef1 t\\u00ednh s\\u1ebd-<br>  v\\u1ec1 h\\u00e0ng v\\u00e0o ng\\u00e0y xx/xx \\u1ea1\\nB\\u1ea1n vui l\\u00f2ng xem c\\u00e1c s\\u1ea3n-<br>  ph\\u1ea9m kh\\u00e1c c\\u1ee7a shop nh\\u00e9 \\u1ea1:\\n<show card c\\u00e1c sp t\\u01b0\\u01a1ng-<br>\", \"query_knowledge_base\", \"['url:https://shopee.vn/product/36371562/3103025341', 'product_id:https://shopee.vn/product/36371562/3103025341']\", \"action_query_babe_kb\"], [\"ok shop\", \"Shop c\\u1ea3m \\u01a1n b\\u1ea1n!\", \"agree\", null, \"utter_agree\"], [\"shop \\u01a1i\", \"Ch\\u00e0o b\\u1ea1n, m\\u00ecnh l\\u00e0 tr\\u1ee3 l\\u00fd \\u1ea3o c\\u1ee7a Shop G\\u1ea5u & B\\u00ed Ng\\u00f4,-<br>\", \"greet\", null, \"utter_greet\"], [\"url\", \"B\\u1ea1n \\u0111ang t\\u00ecm ki\\u1ebfm th\\u00f4ng tin g\\u00ec \\u1ea1?\", \"send_link\", \"url\", \"action_handle_send_link_only\"], [\"Ch\\u00f3 n\\u00e0y n\\u00e0y gi\\u00e1 bao nhi\\u00eau v\\u1eady shop\", \"D\\u1ea1, c\\u00f3 ph\\u1ea3i b\\u1ea1n mu\\u1ed1n h\\u1ecfi m\\u1ed9t trong c\\u00e1c s\\u1ea3n ph\\u1ea9m d\\u01b0-<br>\", \"query_knowledge_base\", \"['attribute:price']\", \"action_query_babe_kb\"], [\"H\\u1ebft h\\u00e0ng r\\u1ed3i h\\u1ea3 shop\", \"M\\u00ecnh ch\\u01b0a r\\u00f5 m\\u00f3n \\u0111\\u1ed3 b\\u1ea1n h\\u1ecfi, n\\u1ebfu c\\u00f3 trong danh s\\u00e1c-<br>\", \"query_knowledge_base\", \"[]\", \"action_query_babe_kb\"], [\"/query_knowledge_base{\\\"url\\\": \\\"https://shopee.vn/pr-<br> oduct/36371562/3103025341\\\", \\\"product_id\\\": \\\"https:/-<br>\", \"D\\u1ea1, s\\u1ea3n ph\\u1ea9m hi\\u1ec7n t\\u1ea1i b\\u00ean shop \\u0111ang t\\u1ea1m h\\u1ebft h\\u00e0ng \\u1ea1-<br> . B\\u1ea1n tham kh\\u1ea3o c\\u00e1c s\\u1ea3n ph\\u1ea9m kh\\u00e1c d\\u00e0nh cho b\\u00e9 nh\\u00e9!-<br>\", \"query_knowledge_base\", \"['url:https://shopee.vn/product/36371562/3103025341', 'product_id:https://shopee.vn/product/36371562/3103025341']\", \"action_query_babe_kb\"], [\"url\", \"C\\u1ea3m \\u01a1n b\\u1ea1n, nh\\u00e2n vi\\u00ean c\\u1ee7a shop s\\u1ebd x\\u00e1c nh\\u1eadn s\\u1edbm l\\u1ea1i-<br>\", \"confirm_transfer\", \"url\", \"confirm_transfer\"], [\"Shop em o dau\", \"\\u0110\\u1ecba ch\\u1ec9 shop \\u1edf : s\\u1ed1 16 ng\\u00f5 124 \\u00c2u C\\u01a1, T\\u1ee9 li\\u00ean , T\\u00e2-<br>\", \"ask_address\", \"[]\", \"action_ask_address\"], [\"B \\u01a1i k\\u1ec7 s\\u1eafp v\\u1ec1 ch\\u01b0a b\", \"D\\u1ea1 b\\u1ea1n mu\\u1ed1n h\\u1ecfi s\\u1ea3n ph\\u1ea9m n\\u00e0o trong c\\u00e1c s\\u1ea3n ph\\u1ea9m d\\u01b0-<br>\", \"query_knowledge_base\", \"['object_type:ke']\", \"action_query_babe_kb\"], [\"shop \\u01a1i\", \"Ch\\u00e0o b\\u1ea1n, m\\u00ecnh l\\u00e0 tr\\u1ee3 l\\u00fd \\u1ea3o c\\u1ee7a Shop G\\u1ea5u & B\\u00ed Ng\\u00f4,-<br>\", \"greet\", null, \"utter_greet\"], [\"url\", \"B\\u1ea1n \\u0111ang t\\u00ecm ki\\u1ebfm th\\u00f4ng tin g\\u00ec \\u1ea1?\", \"send_link\", \"url\", \"action_handle_send_link_only\"], [\"Cho e gi\\u00e1 nh\\u00e9\", \"S\\u1ea3n ph\\u1ea9m B\\u1ed9 \\u0111\\u1ed3 ch\\u01a1i nh\\u00e0 b\\u1ebfp th\\u00f4ng minh c\\u00f3 gi\\u00e1: 490-<br> .000 - 790.000 t\\u00f9y m\\u1eabu m\\u00e3 (k\\u00edch th\\u01b0\\u1edbc, m\\u00e0u s\\u1eafc...)-<br> .\\nB\\u1ea1n tham kh\\u1ea3o c\\u00e1c s\\u1ea3n ph\\u1ea9m sau nh\\u00e9 \\u1ea1:\\n<Show card-<br>\", \"query_knowledge_base\", \"['attribute:price']\", \"action_query_babe_kb\"], [\"url\", \"B\\u1ea1n \\u0111ang t\\u00ecm ki\\u1ebfm th\\u00f4ng tin g\\u00ec \\u1ea1?\", \"send_link\", \"url\", \"action_handle_send_link_only\"], [\"B\\u1ed9 n\\u00e0y gi\\u00e2 bn \\u1ea1 shop\", \"\\\"D\\u1ea1, c\\u00f3 ph\\u1ea3i b\\u1ea1n mu\\u1ed1n h\\u1ecfi m\\u1ed9t trong c\\u00e1c s\\u1ea3n ph\\u1ea9m d-<br> \\u01b0\\u1edbi \\u0111\\u00e2y kh\\u00f4ng \\u1ea1?\\n (Vui l\\u00f2ng \\u1ea5n ch\\u1ecdn 1 s\\u1ea3n ph\\u1ea9m)...-<br>\", \"query_knowledge_base\", \"['mention:b\\u1ed9 n\\u00e0y', 'attribute:price']\", \"action_query_babe_kb\"], [\"Lo\\u1ea1i n\\u00e0y bn v\\u1eady b\\u1ea1n\", \"M\\u00ecnh ch\\u01b0a x\\u00e1c \\u0111\\u1ecbnh \\u0111\\u01b0\\u1ee3c m\\u00f3n \\u0111\\u1ed3 b\\u1ea1n h\\u1ecfi, b\\u1ea1n m\\u00f4 t\\u1ea3 -<br>\", \"query_knowledge_base\", \"['mention:lo\\u1ea1i n\\u00e0y', 'attribute:price']\", \"action_query_babe_kb\"], [\"url\", \"S\\u1ea3n ph\\u1ea9m  B\\u1ea2NG V\\u1ebc HOLLA 2 in 1  hi\\u1ec7n shop \\u0111ang c\\u00f3 -<br> gi\\u00e1: 830,000 VND (gi\\u00e1 g\\u1ed1c 1,090,000 VND).\\nB\\u1ea1n tham-<br>\", \"send_link\", \"url\", \"action_query_babe_kb\"], [\"C\\u00f3 nh\\u1eefng m\\u00e0u g\\u00ec \\u1ea1 ?\", \"D\\u1ea1, B\\u1ea2NG V\\u1ebc HOLLA 2 in 1 hi\\u1ec7n c\\u00f3 c\\u00e1c m\\u00e0u: H\\u1ed3ng, Xa-<br>\", \"query_knowledge_base\", \"['attribute:color']\", \"action_query_babe_kb\"], [\"\\u0110\\u1ec3 m\\u00ecnh tham kh\\u1ea3o th\\u00eam , c\\u00f3 g\\u00ec m\\u00ecnh b\\u00e1o s\\u1edbm\", null, \"handover_to_inbox\", null, \"action_handover_to_inbox\"], [\"Shop c\\u00f3 gh\\u1ebf nh\\u00fan k b\", \"S\\u1ea3n ph\\u1ea9m Gh\\u1ebf nh\\u00fan hi\\u1ec7n shop \\u0111ang c\\u00f3 c\\u00e1c s\\u1ea3n ph\\u1ea9m s-<br> au \\u1ea1:\\r\\n<show card c\\u00e1c s\\u1ea3n ph\\u1ea9m object_type ghe_nhu-<br>\", \"query_knowledge_base\", \"['object_type:ghe_nhun']\", \"action_query_babe_kb\"], [\"Shop \\u01a1i\", \"Ch\\u00e0o b\\u1ea1n, m\\u00ecnh l\\u00e0 tr\\u1ee3 l\\u00fd \\u1ea3o c\\u1ee7a Shop G\\u1ea5u & B\\u00ed Ng\\u00f4,-<br>\", \"greet\", \"[]\", \"utter_greet\"], [\"M\\u00ecnh mua b\\u1ed9 \\u0111\\u1ed3 ch\\u01a1i n\\u1ea5u \\u0103n cho b\\u00e9\\nHappy little che-<br>\", \"S\\u1ea3n ph\\u1ea9m \\u0110\\u1ed3 ch\\u01a1i n\\u1ea5u \\u0103n hi\\u1ec7n shop \\u0111ang c\\u00f3 c\\u00e1c s\\u1ea3n -<br> ph\\u1ea9m sau \\u1ea1:\\n<show card c\\u00e1c s\\u1ea3n ph\\u1ea9m object_type do-<br>\", \"query_knowledge_base\", \"['object_type:do_choi_nau_an']\", \"action_query_babe_kb\"], [\"ok \\u1ea1\", \"V\\u00e2ng \\u1ea1!\", \"agree\", null, \"utter_agree\"], [\"Shop \\u01a1i\", \"Ch\\u00e0o b\\u1ea1n, m\\u00ecnh l\\u00e0 tr\\u1ee3 l\\u00fd \\u1ea3o c\\u1ee7a Shop G\\u1ea5u & B\\u00ed Ng\\u00f4,-<br>\", \"greet\", \"[]\", \"utter_greet\"], [\"C\\u00e1i thanh ch\\u1eafn c\\u1ea7u thang gi\\u00e1 bn v\\u1eady b\\u1ea1n\", \"S\\u1ea3n ph\\u1ea9m Thanh n\\u1ed1i ch\\u1eb7n hi\\u1ec7n shop \\u0111ang c\\u00f3 c\\u00e1c s\\u1ea3n -<br> ph\\u1ea9m sau \\u1ea1:\\n<show card c\\u00e1c s\\u1ea3n ph\\u1ea9m object_type th-<br>\", \"query_knowledge_base\", \"['object_type:thanh_noi_chan','attribute:price']\", \"action_query_babe_kb\"], [\"ok \\u1ea1\", \"V\\u00e2ng \\u1ea1!\", \"agree\", null, \"utter_agree\"], [\"g\\u1eedi \\u1ea3nh gi\\u00fap c \\u0111c ko\", \"M\\u00ecnh ch\\u01b0a x\\u00e1c \\u0111\\u1ecbnh \\u0111\\u01b0\\u1ee3c m\\u00f3n \\u0111\\u1ed3 b\\u1ea1n h\\u1ecfi, b\\u1ea1n m\\u00f4 t\\u1ea3 -<br>\", \"query_knowledge_base\", \"['attribute:image']\", \"action_query_babe_kb\"], [\"m c\\u1ea7n t\\u00ecm gh\\u1ebf \\u0103n cho b\\u00e9\", \"S\\u1ea3n ph\\u1ea9m Gh\\u1ebf \\u0102n hi\\u1ec7n shop \\u0111ang c\\u00f3 c\\u00e1c m\\u1ee9c gi\\u00e1 sau -<br>\", \"query_knowledge_base\", \"['object_type:ghe_an']\", \"action_query_babe_kb\"], [\"Ch\\u00e0o shop\", \"Ch\\u00e0o b\\u1ea1n, m\\u00ecnh l\\u00e0 tr\\u1ee3 l\\u00fd \\u1ea3o c\\u1ee7a Shop G\\u1ea5u & B\\u00ed Ng\\u00f4,-<br>\", \"greet\", \"[]\", \"utter_greet\"], [\"Cho  m\\u00ecnh xin gi\\u00e1 m\\u00e1y pha s\\u1eefa b\\u00ean shop nh\\u00e9 \\u1ea1\", \"S\\u1ea3n ph\\u1ea9m  M\\u00e1y pha s\\u1eefa cao c\\u1ea5p Tiny Baby Formula (N-<br> h\\u1eadt B\\u1ea3n)  hi\\u1ec7n shop \\u0111ang c\\u00f3 gi\\u00e1: *3,530,000 VND (g-<br> i\\u00e1 g\\u1ed1c 3,850,000 VND)*.\\nB\\u1ea1n tham kh\\u1ea3o c\\u00e1c s\\u1ea3n ph\\u1ea9m-<br>\", \"query_knowledge_base\", \"['attribute:price', 'object_type:may_pha_sua']\", \"action_query_babe_kb\"], [\"Ch\\u00e0o shop\", \"Ch\\u00e0o b\\u1ea1n, m\\u00ecnh l\\u00e0 tr\\u1ee3 l\\u00fd \\u1ea3o c\\u1ee7a Shop G\\u1ea5u & B\\u00ed Ng\\u00f4,-<br>\", \"greet\", \"[]\", \"utter_greet\"], [\"Shop cho h\\u1ecfi c\\u00f3 b\\u00e1n gh\\u1ebf \\u0103n d\\u1eb7m cho tr\\u1ebb con kh\\u00f4ng\", \"Hi\\u1ec7n t\\u1ea1i s\\u1ea3n ph\\u1ea9m Gh\\u1ebf \\u0102n  shop \\u0111ang c\\u00f3 nh\\u1eefng *gi\\u00e1*-<br>\", \"query_knowledge_base\", \"['object_type:ghe_an']\", \"action_query_babe_kb\"], [\"/confirm_attribute_value{\\\"price\\\": \\\"500k - 1M\\\"}\", \"D\\u1ea1 m\\u1eddi b\\u1ea1n tham kh\\u1ea3o s\\u1ea3n ph\\u1ea9m hi\\u1ec7n c\\u00f3 t\\u1ea1i shop nh\\u00e9-<br>\", \"confirm_attribute_value\", \"['price:500k - 1M']\", \"action_query_babe_kb\"], [\"T\\u00f4i mu\\u1ed1n mua lo\\u1ea1i 799k\", \"S\\u1ea3n ph\\u1ea9m  Gh\\u1ebf \\u0103n \\u0111a n\\u0103ng k\\u1ebft h\\u1ee3p xe k\\u00e9o MASTELA 10-<br> 18 CH\\u00cdNH H\\u00c3NG gi\\u00e1 799k hi\\u1ec7n shop \\u0111ang c\\u00f3 gi\\u00e1: *799-<br> ,000 VND (gi\\u00e1 g\\u1ed1c 1,300,000 VND)*.\\nB\\u1ea1n tham kh\\u1ea3o c-<br>\", \"query_knowledge_base\", \"['price:799k']\", \"action_query_babe_kb\"], [\"C\\u00e1i n\\u00e0y 30kg c\\u00f3 ng\\u1ed3i \\u0111\\u01b0\\u1ee3c ko\", \"S\\u1ea3n ph\\u1ea9m  Gh\\u1ebf \\u0103n \\u0111a n\\u0103ng k\\u1ebft h\\u1ee3p xe k\\u00e9o MASTELA 10-<br> 18 CH\\u00cdNH H\\u00c3NG c\\u00f3 tr\\u1ecdng t\\u1ea3i: 13kg \\u1ea1\\nB\\u1ea1n tham kh\\u1ea3o c-<br>\", \"query_knowledge_base\", \"['mention:c\\u00e1i n\\u00e0y', 'capacity:30kg']\", \"action_query_babe_kb\"], [\"ok shop\", \"V\\u00e2ng \\u1ea1!\", \"agree\", null, \"utter_agree\"], [\"C\\u00f3 freeship k an\\n\\u1ea0\\nShip hcm\", \"D\\u1ea1 b\\u1ea1n vui l\\u00f2ng ch\\u1edd trong v\\u00e0i ph\\u00fat, nh\\u00e2n vi\\u00ean s\\u1ebd t-<br>\", \"handover_to_inbox\", \"[]\", \"action_handover_to_inbox\"], [\"D\\u1ea1,bao l\\u00e2u th\\u00ec bi\\u1ebft \\u0111c m\\u00ecnh c\\u00f3 \\u0111c nh\\u1eadn q\\u00e0 hay k \\u1ea1\", \"D\\u1ea1 b\\u1ea1n vui l\\u00f2ng ch\\u1edd trong v\\u00e0i ph\\u00fat, nh\\u00e2n vi\\u00ean s\\u1ebd t-<br>\", \"handover_to_inbox\", \"[]\", \"action_handover_to_inbox\"], [\"url\", \"S\\u1ea3n ph\\u1ea9m B\\u1ed9 \\u0111\\u1ed3 ch\\u01a1i nh\\u00e0 b\\u1ebfp th\\u00f4ng minh hi\\u1ec7n shop \\u0111-<br> ang c\\u00f3 gi\\u00e1: 790000 VND (gi\\u00e1 g\\u1ed1c 790000 VND). B\\u1ea1n t-<br> ham kh\\u1ea3o c\\u00e1c s\\u1ea3n ph\\u1ea9m sau nh\\u00e9 \\u1ea1:\\n<show card sp>\\n\\nS-<br> \\u1ea3n ph\\u1ea9m Xe ch\\u00f2i ch\\u00e2n ki\\u00eam xe l\\u1eafc cao c\\u1ea5p c\\u00f3 nh\\u1ea1c H-<br> olla hi\\u1ec7n shop \\u0111ang c\\u00f3 gi\\u00e1: *790,000 VND (gi\\u00e1 g\\u1ed1c -<br> 1,200,000 VND)*.\\nB\\u1ea1n tham kh\\u1ea3o c\\u00e1c s\\u1ea3n ph\\u1ea9m sau nh-<br>\", \"query_knowledge_base\", \"url\", \"action_query_babe_kb\"], [\"ok shop\", \"V\\u00e2ng \\u1ea1!\", \"agree\", null, \"utter_agree\"], [\"B\\u00e0n n\\u00e0y g\\u1eadp g\\u1ecdn v\\u00e0o dc ko b\\u1ea1n?\", \"D\\u1ea1, b\\u1ea1n vui l\\u00f2ng xem h\\u01b0\\u1edbng d\\u1eabn s\\u1eed d\\u1ee5ng s\\u1ea3n ph\\u1ea9m t\\u1ea1-<br> i \\u0111\\u00e2y \\u1ea1\\n<show video h\\u01b0\\u1edbng d\\u1eabn s\\u1eed d\\u1ee5ng trong shopee-<br>\", \"query_knowledge_base\", \"['mention:b\\u00e0n n\\u00e0y','attribute:video']\", \"action_query_babe_kb\"], [\"url\", \"S\\u1ea3n ph\\u1ea9m  Xe t\\u1eadp \\u0111i \\u0111a n\\u0103ng cao c\\u1ea5p Holla hi\\u1ec7n sho-<br> p \\u0111ang c\\u00f3 gi\\u00e1: 1200.000 VND\\nB\\u1ea1n tham kh\\u1ea3o c\\u00e1c s\\u1ea3n -<br>\", \"query_knowledge_base\", \"url\", \"action_query_babe_kb\"], [\"C\\u1ea3m \\u01a1n shop\", \"C\\u1ea3m \\u01a1n b\\u1ea1n!\", \"thank\", \"[]\", \"utter_thank\"], [\"Shop ship cho em 1 chi\\u1ebfc xe \\u0111\\u1ea9y Holla m\\u00e0u xanh nh\\u00e9-<br>\", \"{C\\u00e1c c\\u00e2u h\\u1ecfi bot c\\u00f3 th\\u1ec3 h\\u1ecfi \\u0111\\u1ec3 \\u0111\\u1ee7 th\\u00f4ng tin:}\\r\\n- D-<br> \\u1ea1 b\\u1ea1n mu\\u1ed1n \\u0111\\u1eb7t s\\u1ea3n ph\\u1ea9m n\\u00e0o \\u1ea1?\\r\\n- B\\u1ea1n mu\\u1ed1n \\u0111\\u1eb7t s\\u1ed1 -<br> l\\u01b0\\u1ee3ng bao nhi\\u00eau? + 5 button t\\u1eeb 1 \\u0111\\u1ebfn 5\\r\\n- S\\u1ed1 \\u0111i\\u1ec7n -<br> tho\\u1ea1i ng\\u01b0\\u1eddi nh\\u1eadn?\\r\\n- \\u0110\\u1ecba ch\\u1ec9 nh\\u1eadn h\\u00e0ng? (S\\u1ed1 nh\\u00e0, p-<br> h\\u01b0\\u1eddng/x\\u00e3, qu\\u1eadn/huy\\u1ec7n, t\\u1ec9nh/th\\u00e0nh ph\\u1ed1)\\r\\n- B\\u1ea1n c\\u00f3 l\\u01b0-<br> u \\u00fd g\\u00ec cho b\\u00ean v\\u1eadn chuy\\u1ec3n kh\\u00f4ng? (vd: c\\u1ea7n g\\u1ea5p...)\\r-<br> \\n\\r\\n{N\\u1ebfu \\u0111\\u00e3 \\u0111\\u1ee7 th\\u00f4ng tin s\\u1ebd show ra} \\u0110\\u01a1n h\\u00e0ng c\\u1ee7a b-<br>\", \"query_knowledge_base\", \"['object_type:xe_day', 'brand:holla', 'color:m\\u00e0u xanh']\", \"action_query_babe_kb\"], [\"Shop \\u01a1i\", \"Ch\\u00e0o b\\u1ea1n, m\\u00ecnh l\\u00e0 tr\\u1ee3 l\\u00fd \\u1ea3o c\\u1ee7a Shop G\\u1ea5u & B\\u00ed Ng\\u00f4,-<br>\", \"greet\", \"[]\", \"utter_greet\"], [\"E ch\\u00e0o shop\\nE xin gi\\u00e1 xe \\u0111\\u1ea9y v\\u1edbi \\u1ea1\", \"Hi\\u1ec7n t\\u1ea1i s\\u1ea3n ph\\u1ea9m Xe \\u0110\\u1ea9y  shop \\u0111ang c\\u00f3 nh\\u1eefng *gi\\u00e1*-<br>\", \"query_knowledge_base\", \"['attribute:price', 'object_type:xe_day']\", \"action_query_babe_kb\"], [\"E qu\\u00ean \\u1ea1\\nXe tr\\u00f2n t\\u1eadp \\u0111i \\u1ea5y \\u1ea1\", \"Hi\\u1ec7n t\\u1ea1i s\\u1ea3n ph\\u1ea9m Xe T\\u1eadp \\u0110i  shop \\u0111ang c\\u00f3 nh\\u1eefng *g-<br>\", \"query_knowledge_base\", \"['object_type:xe_tap_di']\", \"action_query_babe_kb\"], [\"url\", \"B\\u1ea1n \\u0111ang t\\u00ecm ki\\u1ebfm th\\u00f4ng tin g\\u00ec \\u1ea1?\", \"send_link\", \"url\", \"action_handle_send_link_only\"], [\"Gi\\u00e1 ti\\u1ec1n ban \\u01a1i\", \"S\\u1ea3n ph\\u1ea9m Qu\\u00e2y HOLLA FULL PHI\\u00caN B\\u1ea2N 2020 M\\u1eaaU V\\u01af\\u01a0NG -<br> MI\\u1ec6N hi\\u1ec7n shop \\u0111ang c\\u00f3 gi\\u00e1: 4190.000 VND\\nB\\u1ea1n tham -<br>\", \"query_knowledge_base\", \"['attribute:price']\", \"action_query_babe_kb\"], [\"Thanks b nh\\u00e9\", \"C\\u1ea3m \\u01a1n b\\u1ea1n!\", \"thank\", \"[]\", \"utter_thank\"], [\"Ch\\u00e0o shop\", \"Ch\\u00e0o b\\u1ea1n, m\\u00ecnh l\\u00e0 tr\\u1ee3 l\\u00fd \\u1ea3o c\\u1ee7a Shop G\\u1ea5u & B\\u00ed Ng\\u00f4,-<br>\", \"greet\", \"[]\", \"utter_greet\"], [\"\\u0110\\u1ed3 eco c\\u00f2mybaby h\\u1ebft lo\\u1ea1i 6-9m h\\u1ea3 ch\\u1ecb\", \"D\\u1ea1, v\\u1ea5n \\u0111\\u1ec1 n\\u00e0y m\\u00ecnh kh\\u00f4ng h\\u1ed7 tr\\u1ee3 b\\u1ea1n \\u0111\\u01b0\\u1ee3c. B\\u1ea1n vui-<br>  l\\u00f2ng b\\u1ea5m \\\"Chat v\\u1edbi nh\\u00e2n vi\\u00ean\\\" v\\u00e0 ch\\u1edd trong gi\\u00e2y l-<br> \\u00e1t, nh\\u00e2n vi\\u00ean s\\u1ebd tr\\u1ea3 l\\u1eddi b\\u1ea1n s\\u1edbm nh\\u1ea5t c\\u00f3 th\\u1ec3 \\u1ea1. \\n(-<br>\", \"query_knowledge_base\", \"['object_type:quan_ao']['size:6-9m']\", \"action_query_babe_kb\"], [\"/connect_employee\", null, \"handover_to_inbox\", \"[]\", \"action_handover_to_inbox\"], [\"Okie b\\u1ea1n\\nB\\u1ea1n cho t\\u1edb t\\u1ed5ng ti\\u1ec1n nh\\u00e9\", \"D\\u1ea1, v\\u1ea5n \\u0111\\u1ec1 n\\u00e0y m\\u00ecnh kh\\u00f4ng h\\u1ed7 tr\\u1ee3 b\\u1ea1n \\u0111\\u01b0\\u1ee3c. B\\u1ea1n vui-<br>  l\\u00f2ng b\\u1ea5m \\\"Chat v\\u1edbi nh\\u00e2n vi\\u00ean\\\" v\\u00e0 ch\\u1edd trong gi\\u00e2y l-<br> \\u00e1t, nh\\u00e2n vi\\u00ean s\\u1ebd tr\\u1ea3 l\\u1eddi b\\u1ea1n s\\u1edbm nh\\u1ea5t c\\u00f3 th\\u1ec3 \\u1ea1. \\n(-<br>\", \"handover_to_inbox\", \"[]\", \"action_handover_to_inbox\"], [\"url\", \"S\\u1ea3n ph\\u1ea9m Xe ch\\u00f2i ch\\u00e2n ki\\u00eam xe l\\u1eafc cao c\\u1ea5p c\\u00f3 nh\\u1ea1c -<br> Holla hi\\u1ec7n shop \\u0111ang c\\u00f3 gi\\u00e1: *790,000 VND (gi\\u00e1 g\\u1ed1c-<br>  1,200,000 VND)*.\\nB\\u1ea1n tham kh\\u1ea3o c\\u00e1c s\\u1ea3n ph\\u1ea9m sau n-<br> h\\u00e9 \\u1ea1:\\n<show card sp>\\nS\\u1ea3n ph\\u1ea9m Voi m\\u1eb9 phun n\\u01b0\\u1edbc hi\\u1ec7-<br> n shop \\u0111ang c\\u00f3 gi\\u00e1: *189,000 VND (gi\\u00e1 g\\u1ed1c 290,000 -<br> VND)*.\\nB\\u1ea1n tham kh\\u1ea3o c\\u00e1c s\\u1ea3n ph\\u1ea9m sau nh\\u00e9 \\u1ea1:\\n<show-<br>  card sp>\\nS\\u1ea3n ph\\u1ea9m  Xe t\\u1eadp \\u0111i \\u0111a n\\u0103ng cao c\\u1ea5p Holl-<br> a hi\\u1ec7n shop \\u0111ang c\\u00f3 gi\\u00e1: *750,000 VND (gi\\u00e1 g\\u1ed1c 1,2-<br> 00,000 VND)*.\\nB\\u1ea1n tham kh\\u1ea3o c\\u00e1c s\\u1ea3n ph\\u1ea9m sau nh\\u00e9 \\u1ea1-<br>\", \"query_knowledge_base\", \"url\", \"action_query_babe_kb\"], [\"url\", \"S\\u1ea3n ph\\u1ea9m Xe ch\\u00f2i ch\\u00e2n ki\\u00eam xe l\\u1eafc cao c\\u1ea5p c\\u00f3 nh\\u1ea1c -<br> Holla hi\\u1ec7n shop \\u0111ang c\\u00f3 gi\\u00e1: *790,000 VND (gi\\u00e1 g\\u1ed1c-<br>  1,200,000 VND)*.\\r\\nB\\u1ea1n tham kh\\u1ea3o c\\u00e1c s\\u1ea3n ph\\u1ea9m sau -<br>\", \"query_knowledge_base\", \"url\", \"action_query_babe_kb\"], [\"ok \\u1ea1\", \"V\\u00e2ng \\u1ea1!\", \"agree\", null, \"utter_agree\"], [\"Xe nadle c\\u00f3 tay \\u0111\\u1ea9y ko b\", \"D\\u1ea1, v\\u1ea5n \\u0111\\u1ec1 n\\u00e0y m\\u00ecnh kh\\u00f4ng h\\u1ed7 tr\\u1ee3 b\\u1ea1n \\u0111\\u01b0\\u1ee3c. B\\u1ea1n vui-<br>  l\\u00f2ng b\\u1ea5m \\\"Chat v\\u1edbi nh\\u00e2n vi\\u00ean\\\" v\\u00e0 ch\\u1edd trong gi\\u00e2y l-<br> \\u00e1t, nh\\u00e2n vi\\u00ean s\\u1ebd tr\\u1ea3 l\\u1eddi b\\u1ea1n s\\u1edbm nh\\u1ea5t c\\u00f3 th\\u1ec3 \\u1ea1. \\n(-<br>\", \"query_knowledge_base\", \"['brand:nadle','accessories:tay \\u0111\\u1ea9y']\", \"action_query_babe_kb\"], [\"/connect_employee\", null, \"handover_to_inbox\", \"[]\", \"action_handover_to_inbox\"], [\"Cho m\\u00ecnh link shoppe\", \"D\\u1ea1 b\\u1ea1n c\\u1ea7n xin link shopee c\\u1ee7a shop hay c\\u1ee7a s\\u1ea3n ph-<br>\", \"query_knowledge_base\", \"['attribute:link']\", \"action_query_babe_kb\"], [\"Xe l\\u1eafc \\u0111\\u00f3 b\", \"D\\u1ea1 m\\u1eddi b\\u1ea1n xem s\\u1ea3n ph\\u1ea9m t\\u1ea1i \\u0111\\u00e2y \\u1ea1:\\n- Link Shopee: -<br>\", \"query_knowledge_base\", \"['object_type: xe_tap_di','attribute:link']\", \"action_query_babe_kb\"], [\"Ch\\u00e0o ad. Cho t\\u1edb h\\u1ecfi m\\u00ecnh c\\u00f2n th\\u1ea3m x\\u1ed1p Infantino 28-<br>\", \"S\\u1ea3n ph\\u1ea9m  Th\\u1ea3m h\\u00e3ng s\\u1ea3n xu\\u1ea5t Infantino, ch\\u1ea5t li\\u1ec7u -<br> X\\u1ed1p 28 mi\\u1ebfng hi\\u1ec7n shop c\\u00f2n h\\u00e0ng, shop \\u0111ang c\\u00f3 gi\\u00e1:-<br>  *99,000 VND (gi\\u00e1 g\\u1ed1c 99,000 VND), 279,000 VND (gi-<br> \\u00e1 g\\u1ed1c 349,000 VND), 179,000 VND (gi\\u00e1 g\\u1ed1c 179,000 V-<br>\", \"query_knowledge_base\", \"['object_type:tham', 'material:x\\u1ed1p', 'brand:infantino','number of pieces:28 mi\\u1ebfng']\", \"action_query_babe_kb\"], [\"Lo\\u1ea1i 28 mi\\u1ebfng c\\u00f3 nh\\u1eefng m\\u00e0u g\\u00ec h\\u1ea3 ad? Hay ch\\u1ec9 c\\u00f3 1 -<br>\", \"S\\u1ea3n ph\\u1ea9m  Th\\u1ea3m h\\u00e3ng s\\u1ea3n xu\\u1ea5t Infantino, ch\\u1ea5t li\\u1ec7u -<br> X\\u1ed1p 28 mi\\u1ebfng hi\\u1ec7n shop \\u0111ang c\\u00f3 m\\u00e0u: *Xanh, H\\u1ed3ng*.\\n-<br>\", \"query_knowledge_base\", \"['attribute:color', 'attribute:color']\", \"action_query_babe_kb\"], [\"Oki t\\u1edb c\\u1ea3m \\u01a1n nhi\\u1ec1u nh\\u00e9!\", \"C\\u1ea3m \\u01a1n b\\u1ea1n!\", \"thank\", \"[]\", \"utter_thank\"], [\"Shop \\u0111\\u00e3 v\\u1ec1 x\\u00edch \\u0111u & c\\u1ea7u tr\\u01b0\\u1ee3t holla ch\\u01b0a \\u1ea1\", \"S\\u1ea3n ph\\u1ea9m  C\\u1ea7u tr\\u01b0\\u1ee3t x\\u00edch \\u0111u Hola h\\u1ea3i c\\u1ea9u 2020 h\\u00e3ng-<br>  s\\u1ea3n xu\\u1ea5t Holla hi\\u1ec7n shop \\u0111ang c\\u00f3 gi\\u00e1: *1,982,500 -<br> VND (gi\\u00e1 g\\u1ed1c 3,250,000 VND)*.\\nB\\u1ea1n tham kh\\u1ea3o c\\u00e1c s\\u1ea3-<br>\", \"query_knowledge_base\", \"['object_type:cau_truot', object_type:xich_du', 'brand:holla']\", \"action_query_babe_kb\"], [\"X\\u00edch \\u0111u shop c\\u00f2n m\\u00e0u g\\u00ec \\u1ea1\", \"S\\u1ea3n ph\\u1ea9m  C\\u1ea7u tr\\u01b0\\u1ee3t x\\u00edch \\u0111u Hola h\\u1ea3i c\\u1ea9u 2020 h\\u00e3ng-<br>  s\\u1ea3n xu\\u1ea5t Holla hi\\u1ec7n shop \\u0111ang c\\u00f3 m\\u00e0u: *V\\u00e0ng, H\\u1ed3ng-<br>\", \"query_knowledge_base\", \"['object_type:xich_du','attribute:color']\", \"action_query_babe_kb\"], [\"Shop \\u0111\\u00e3 v\\u1ec1 x\\u00edch \\u0111u & c\\u1ea7u tr\\u01b0\\u1ee3t holla ch\\u01b0a \\u1ea1\", \"M\\u1eddi b\\u1ea1n tham kh\\u1ea3o c\\u00e1c s\\u1ea3n ph\\u1ea9m C\\u1ea7u tr\\u01b0\\u1ee3t, X\\u00edch \\u0111u,-<br>  nh\\u00e3n hi\\u1ec7u Holla \\u0111ang c\\u00f3 t\\u1ea1i shop \\u1ea1:\\n<show card c\\u00e1-<br>\", \"query_knowledge_base\", \"['object_type:cau_truot', object_type:xich_du', 'brand:holla']\", \"action_query_babe_kb\"], [\"X\\u00edch \\u0111u shop c\\u00f2n m\\u00e0u g\\u00ec \\u1ea1\", \"S\\u1ea3n ph\\u1ea9m X\\u00edch \\u0111u nh\\u00e3n hi\\u1ec7u Holla \\u0111ang c\\u00f3 c\\u00e1c m\\u00e0u s-<br>\", \"query_knowledge_base\", \"['object_type:xich_du','attribute:color']\", \"action_query_babe_kb\"], [\"ok shop\", \"V\\u00e2ng \\u1ea1!\", \"agree\", null, \"utter_agree\"], [\"url\", \"S\\u1ea3n ph\\u1ea9m n\\u00e0y hi\\u1ec7n t\\u1ea1i Shop kh\\u00f4ng c\\u00f3, m\\u1eddi b\\u1ea1n tham -<br> kh\\u1ea3o c\\u00e1c Gi\\u01b0\\u1eddng \\u0111ang c\\u00f3 t\\u1ea1i shop \\u1ea1:\\n<Show card Gi\\u01b0-<br>\", \"query_knowledge_base\", \"url\", \"action_query_babe_kb\"], [\"b\\u1ed9 bang lego thi bao nhieu\", \"M\\u00ecnh ch\\u01b0a x\\u00e1c \\u0111\\u1ecbnh \\u0111\\u01b0\\u1ee3c m\\u00f3n \\u0111\\u1ed3 b\\u1ea1n h\\u1ecfi, b\\u1ea1n m\\u00f4 t\\u1ea3 -<br>\", \"query_knowledge_base\", \"['attribute:price']\", \"action_query_babe_kb\"], [\"b\\u00e0n lego ah\", \"S\\u1ea3n ph\\u1ea9m B\\u00e0n Lego hi\\u1ec7n \\u0111ang c\\u00f3 gi\\u00e1: 1.035.000 VN\\u0110 -<br> (Gi\\u00e1 g\\u1ed1c: 1.750.000 VN\\u0110), 1.050.000VN\\u0110 (Gi\\u00e1 g\\u1ed1c: 1-<br>\", \"query_knowledge_base\", \"['object_type:ban_lego']\", \"action_query_babe_kb\"], [\"b\\u1ed9 b\\u00e0n lego thi bao nhieu\", \"S\\u1ea3n ph\\u1ea9m B\\u00e0n Lego hi\\u1ec7n \\u0111ang c\\u00f3 gi\\u00e1: 1.035.000 VN\\u0110 -<br> (Gi\\u00e1 g\\u1ed1c: 1.750.000 VN\\u0110), 1.050.000VN\\u0110 (Gi\\u00e1 g\\u1ed1c: 1-<br>\", \"query_knowledge_base\", \"['attribute:price', 'object_type:ban_lego']\", \"action_query_babe_kb\"], [\"thank b nh\\u00e9\", \"Shop c\\u1ea3m \\u01a1n b\\u1ea1n \\u1ea1\", \"thank\", \"[]\", \"utter thank\"], [\"shop \\u01a1i\", \"Ch\\u00e0o b\\u1ea1n, m\\u00ecnh l\\u00e0 tr\\u1ee3 l\\u00fd \\u1ea3o c\\u1ee7a Shop G\\u1ea5u & B\\u00ed Ng\\u00f4,-<br>\", \"greet\", null, \"utter_greet\"], [\"Shop c\\u00f3 m\\u00e1y ti\\u1ec7t tr\\u00f9ng uv fatz \\u0111\\u00fang ko \\u1ea1\", \"M\\u1eddi b\\u1ea1n tham kh\\u1ea3o c\\u00e1c s\\u1ea3n ph\\u1ea9m M\\u00e1y ti\\u1ec7t tr\\u00f9ng th\\u01b0\\u01a1-<br> ng hi\\u1ec7u Fatz \\u0111ang c\\u00f3 t\\u1ea1i shop \\u1ea1:\\n<card 1> <card 2>-<br>\", \"query_knowledge_base\", \"['object_type:may_tiet_trung', 'brand:fatz']\", \"action_query_babe_kb\"], [\"shop \\u01a1i\", \"Ch\\u00e0o b\\u1ea1n, m\\u00ecnh l\\u00e0 tr\\u1ee3 l\\u00fd \\u1ea3o c\\u1ee7a Shop G\\u1ea5u & B\\u00ed Ng\\u00f4,-<br>\", \"greet\", null, \"utter_greet\"], [\"url\", \"S\\u1ea3n ph\\u1ea9m T\\u1eb6NG 02 b\\u00ecnh s\\u1eefa cao c\\u1ea5p - M\\u00e1y ti\\u1ec7t tr\\u00f9ng-<br>  s\\u1ea5y kh\\u00f4 tia UV cao c\\u1ea5p Fatz Baby FB4702 hi\\u1ec7n c\\u00f3 g-<br> i\\u00e1: 2.390.000 VN\\u0110 (Gi\\u00e1 g\\u1ed1c: 2.750.000 VN\\u0110).\\n<show -<br>\", \"query_knowledge_base\", \"url\", \"action_query_babe_kb\"], [\"ok shop\", \"D\\u1ea1 v\\u00e2ng \\u1ea1!\", \"agree\", null, \"utter_agree\"], [\"shop \\u01a1i\", \"Ch\\u00e0o b\\u1ea1n, m\\u00ecnh l\\u00e0 tr\\u1ee3 l\\u00fd \\u1ea3o c\\u1ee7a Shop G\\u1ea5u & B\\u00ed Ng\\u00f4,-<br>\", \"greet\", null, \"utter_greet\"], [\"url\", \"D\\u1ea1, c\\u00f3 ph\\u1ea3i b\\u1ea1n mu\\u1ed1n h\\u1ecfi m\\u1ed9t trong c\\u00e1c s\\u1ea3n ph\\u1ea9m d\\u01b0-<br> \\u1edbi \\u0111\\u00e2y kh\\u00f4ng \\u1ea1?\\n (Vui l\\u00f2ng \\u1ea5n ch\\u1ecdn 1 s\\u1ea3n ph\\u1ea9m)\\n\\n<s-<br>\", \"query_knowledge_base\", \"url\", \"action_query_babe_kb\"], [\"/query_knowledge_base{\\\"url\\\": \\\"https://shopee.vn/pr-<br> oduct/36371562/3210697307\\\", \\\"product_id\\\": \\\"https:/-<br>\", \"S\\u1ea3n ph\\u1ea9m T\\u1eb6NG 02 b\\u00ecnh s\\u1eefa cao c\\u1ea5p - M\\u00e1y ti\\u1ec7t tr\\u00f9ng-<br>  s\\u1ea5y kh\\u00f4 tia UV cao c\\u1ea5p Fatz Baby FB4702 hi\\u1ec7n c\\u00f3 g-<br> i\\u00e1: 2.390.000 VN\\u0110 (Gi\\u00e1 g\\u1ed1c: 2.750.000 VN\\u0110).\\r\\n<show-<br>\", \"query_knowledge_base\", \"['url:https://shopee.vn/product/36371562/3210697307', 'product_id:https://shopee.vn/product/36371562/3210697307']\", \"action_query_babe_kb\"], [\"url\", \"B\\u1ea1n \\u0111ang t\\u00ecm ki\\u1ebfm th\\u00f4ng tin g\\u00ec \\u1ea1?\", \"send_link\", \"url\", \"action_handle_send_link_only\"], [\"B\\u1ea1n c\\u00f3 m\\u1eabu ntn ko\\nCho m\\u00ecnh xin th\\u00f4ng s\\u1ed1\", \"S\\u1ea3n ph\\u1ea9m Gh\\u1ebf \\u0111a n\\u0103ng cao c\\u1ea5p Mastela 1015 hi\\u1ec7n c\\u00f3 -<br> gi\\u00e1: 1.320.000 VN\\u0110 (Gi\\u00e1 g\\u1ed1c: 1.599.000 VN\\u0110).\\nM\\u1eddi b-<br> \\u1ea1n xem chi ti\\u1ebft th\\u00f4ng tin s\\u1ea3n ph\\u1ea9m t\\u1ea1i \\u0111\\u01b0\\u1eddng link:-<br>\", \"query_knowledge_base\", \"[]\", \"action_query_babe_kb\"], [\"url\", \"B\\u1ea1n \\u0111ang t\\u00ecm ki\\u1ebfm th\\u00f4ng tin g\\u00ec \\u1ea1?\", \"send_link\", \"url\", \"action_handle_send_link_only\"], [\"B\\u1ea1n c\\u00f3 m\\u1eabu ntn ko\\nCho m\\u00ecnh xin th\\u00f4ng s\\u1ed1\", \"S\\u1ea3n ph\\u1ea9m Gh\\u1ebf \\u0111a n\\u0103ng cao c\\u1ea5p Mastela 1015 hi\\u1ec7n \\u0111an-<br> g h\\u1ebft h\\u00e0ng. M\\u1eddi b\\u1ea1n tham kh\\u1ea3o c\\u00e1c s\\u1ea3n ph\\u1ea9m Gh\\u1ebf \\u0103n -<br>\", \"query_knowledge_base\", \"[]\", \"action_query_babe_kb\"], [\"url\", \"B\\u1ea1n \\u0111ang t\\u00ecm ki\\u1ebfm th\\u00f4ng tin g\\u00ec \\u1ea1?\", \"send_link\", \"url\", \"action_handle_send_link_only\"], [\"B\\u1ea1n c\\u00f3 m\\u1eabu ntn ko\\nCho m\\u00ecnh xin th\\u00f4ng s\\u1ed1\", \"D\\u1ea1, c\\u00f3 ph\\u1ea3i b\\u1ea1n mu\\u1ed1n h\\u1ecfi m\\u1ed9t trong c\\u00e1c s\\u1ea3n ph\\u1ea9m d\\u01b0-<br> \\u1edbi \\u0111\\u00e2y kh\\u00f4ng \\u1ea1?\\n (Vui l\\u00f2ng \\u1ea5n ch\\u1ecdn 1 s\\u1ea3n ph\\u1ea9m)\\n\\n<s-<br>\", \"query_knowledge_base\", \"[]\", \"action_query_babe_kb\"], [\"Ch\\u00e0o shop\", \"Ch\\u00e0o b\\u1ea1n, m\\u00ecnh l\\u00e0 tr\\u1ee3 l\\u00fd \\u1ea3o c\\u1ee7a Shop G\\u1ea5u & B\\u00ed Ng\\u00f4,-<br>\", \"greet\", null, \"utter_greet\"], [\"Hi\\u1ec7n b\\u00ean m\\u00ecnh c\\u00f3 nh\\u1eefng m\\u1eabu th\\u00fa nh\\u00fan n\\u00e0o\", \"S\\u1ea3n ph\\u1ea9m Th\\u00fa nh\\u00fan Toys House hi\\u1ec7n c\\u00f3 gi\\u00e1 239.000 V-<br> N\\u0110 (Gi\\u00e1 g\\u1ed1c: 275.000 VN\\u0110).\\nM\\u1eddi b\\u1ea1n tham kh\\u1ea3o s\\u1ea3n p-<br>\", \"query_knowledge_base\", \"['object_type:thu_nhun']\", \"action_query_babe_kb\"], [\"Ch\\u00e0o shop\", \"Ch\\u00e0o b\\u1ea1n, m\\u00ecnh l\\u00e0 tr\\u1ee3 l\\u00fd \\u1ea3o c\\u1ee7a Shop G\\u1ea5u & B\\u00ed Ng\\u00f4,-<br>\", \"greet\", null, \"utter_greet\"], [\"Hi\\u1ec7n b\\u00ean m\\u00ecnh c\\u00f3 nh\\u1eefng m\\u1eabu th\\u00fa nh\\u00fan n\\u00e0o\", \"S\\u1ea3n ph\\u1ea9m Th\\u00fa nh\\u00fan hi\\u1ec7n shop \\u0111ang c\\u00f3 c\\u00e1c s\\u1ea3n ph\\u1ea9m s-<br> au \\u1ea1:\\n<show card c\\u00e1c s\\u1ea3n ph\\u1ea9m object type thu_nhun-<br>\", \"query_knowledge_base\", \"['object_type:thu_nhun']\", \"action_query_babe_kb\"], [\"ok shop\", \"V\\u00e2ng \\u1ea1!\", \"agree\", null, \"utter_agree\"], [\"url\", \"S\\u1ea3n ph\\u1ea9m B\\u00e0n h\\u1ecdc, b\\u00e0n ch\\u01a1i l\\u1eafp gh\\u00e9p Lego cao c\\u1ea5p h-<br> i\\u1ec7n \\u0111ang c\\u00f3 gi\\u00e1: 1.035.000 VN\\u0110 (Gi\\u00e1 g\\u1ed1c: 1.750.000-<br>  VN\\u0110)\\n<Show card s\\u1ea3n ph\\u1ea9m 1>\\n\\nS\\u1ea3n ph\\u1ea9m Voi m\\u1eb9 phun-<br>  n\\u01b0\\u1edbc hi\\u1ec7n \\u0111ang c\\u00f3 gi\\u00e1: 189.000 VN\\u0110 (Gi\\u00e1 g\\u1ed1c: 290.-<br>\", \"query_knowledge_base\", \"url\", \"action_query_babe_kb\"], [\"url\", \"B\\u1ea1n \\u0111ang t\\u00ecm ki\\u1ebfm th\\u00f4ng tin g\\u00ec \\u1ea1?\", \"send_link\", \"url\", \"action_handle_send_link_only\"], [\"url\", \"S\\u1ea3n ph\\u1ea9m COMBO HOLLA FULL PHI\\u00caN B\\u1ea2N 2020 M\\u1eaaU V\\u01af\\u01a0NG-<br>  MI\\u1ec6N \\u0111ang c\\u00f3 gi\\u00e1 4.100.000 VN\\u0110 (Gi\\u00e1 g\\u1ed1c: 5.000.00-<br>\", \"query_knowledge_base\", \"url\", \"action_query_babe_kb\"], [\"ok shop\", \"V\\u00e2ng \\u1ea1!\", \"agree\", null, \"utter_agree\"], [\"url\", \"D\\u1ea1, c\\u00f3 ph\\u1ea3i b\\u1ea1n mu\\u1ed1n h\\u1ecfi m\\u1ed9t trong c\\u00e1c s\\u1ea3n ph\\u1ea9m d\\u01b0-<br> \\u1edbi \\u0111\\u00e2y kh\\u00f4ng \\u1ea1?\\n (Vui l\\u00f2ng \\u1ea5n ch\\u1ecdn 1 s\\u1ea3n ph\\u1ea9m)\\n\\n<s-<br>\", \"query_knowledge_base\", \"url\", \"action_query_babe_kb\"], [\"url\", \"D\\u1ea1, c\\u00f3 ph\\u1ea3i b\\u1ea1n mu\\u1ed1n h\\u1ecfi m\\u1ed9t trong c\\u00e1c s\\u1ea3n ph\\u1ea9m d\\u01b0-<br>\", \"query_knowledge_base\", \"url\", \"action_query_babe_kb\"], [\"/query_knowledge_base{\\\"url\\\": \\\"https://shopee.vn/pr-<br> oduct/36371562/5307497099\\\", \\\"product_id\\\": \\\"https:/-<br>\", \"S\\u1ea3n ph\\u1ea9m GH\\u1ebe NH\\u1ea2Y JUMPEROO KONIG KIDS CH\\u00cdNH H\\u00c3NG h-<br> i\\u1ec7n c\\u00f3 gi\\u00e1 1.190.000 VN\\u0110 (Gi\\u00e1 g\\u1ed1c: 1.900.000 VN\\u0110).-<br> \\nM\\u1eddi b\\u1ea1n tham kh\\u1ea3o s\\u1ea3n ph\\u1ea9m t\\u1ea1i \\u0111\\u01b0\\u1eddng link:\\n<show -<br>\", \"query_knowledge_base\", \"['url:https://shopee.vn/product/36371562/3210697307', 'product_id:https://shopee.vn/product/36371562/3210697307']\", \"action_query_babe_kb\"], [\"url\", \"S\\u1ea3n ph\\u1ea9m GH\\u1ebe NH\\u1ea2Y JUMPEROO KONIG KIDS CH\\u00cdNH H\\u00c3NG h-<br> i\\u1ec7n c\\u00f3 gi\\u00e1 1.190.000 VN\\u0110 (Gi\\u00e1 g\\u1ed1c: 1.900.000 VN\\u0110).-<br> \\nM\\u1eddi b\\u1ea1n tham kh\\u1ea3o s\\u1ea3n ph\\u1ea9m t\\u1ea1i \\u0111\\u01b0\\u1eddng link:\\n<show -<br>\", \"query_knowledge_base\", \"url\", \"action_query_babe_kb\"], [\"ok shop\", \"D\\u1ea1 v\\u00e2ng \\u1ea1!\", \"agree\", null, \"utter_agree\"], [\"url\", null, \"handover_to_inbox\", \"url\", \"action_handover_to_inbox\"], [\"url\", \"S\\u1ea3n ph\\u1ea9m M\\u00c1Y XAY H\\u1ea4P \\u0110A N\\u0102NG NUTRIBABY PLUS 5IN1 (-<br> Ph\\u00e1p) hi\\u1ec7n c\\u00f3 gi\\u00e1: 3.979.000 VN\\u0110 (Gi\\u00e1 g\\u1ed1c: 4.890.0-<br>\", \"query_knowledge_base\", \"url\", \"action_query_babe_kb\"], [\"ok shop\", \"D\\u1ea1 v\\u00e2ng \\u1ea1!\", \"agree\", null, \"utter_agree\"], [\"Ch\\u00e0o shop\", \"Ch\\u00e0o b\\u1ea1n, m\\u00ecnh l\\u00e0 tr\\u1ee3 l\\u00fd \\u1ea3o c\\u1ee7a Shop G\\u1ea5u & B\\u00ed Ng\\u00f4,-<br>\", \"greet\", null, \"utter_greet\"], [\"url\", \"\\\"S\\u1ea3n ph\\u1ea9m  COMBO HOLLA LI\\u00caN HO\\u00c0N 2020 c\\u00f3 gi\\u00e1 4.100-<br>\", \"query_knowledge_base\", \"url\", \"action_query_babe_kb\"], [\"Ch\\u00e0o shop\", \"Ch\\u00e0o b\\u1ea1n, m\\u00ecnh l\\u00e0 tr\\u1ee3 l\\u00fd \\u1ea3o c\\u1ee7a Shop G\\u1ea5u & B\\u00ed Ng\\u00f4,-<br>\", \"greet\", null, \"utter_greet\"], [\"url\", \"S\\u1ea3n ph\\u1ea9m  COMBO HOLLA LI\\u00caN HO\\u00c0N 2020 c\\u00f3 gi\\u00e1 4.100.-<br>\", \"query_knowledge_base\", \"url\", \"action_query_babe_kb\"], [\"c\\u00f3 nh\\u1eefng m\\u00e0u g\\u00ec shop nh\\u1ec9?\", \"S\\u1ea3n ph\\u1ea9m COMBO HOLLA LI\\u00caN HO\\u00c0N 2020 c\\u00f3 m\\u00e0u: Xanh, -<br>\", null, null, null], [\"ok, thank shop nh\\u00e9\", \"Shop c\\u1ea3m \\u01a1n b\\u1ea1n \\u1ea1.\", \"thank\", null, \"utter_thank\"], [\"m\\u00ecnh mu\\u1ed1n mua m\\u00e1y ti\\u1ec7t tr\\u00f9ng uv\\nt\\u01b0 v\\u1ea5n m\\u00ecnh v\\u1edbi\", \"\\\"Hi\\u1ec7n t\\u1ea1i s\\u1ea3n ph\\u1ea9m M\\u00e1y ti\\u1ec7t tr\\u00f9ng  shop \\u0111ang c\\u00f3 nh-<br>\", \"query_knowledge_base\", \"[]\", \"action_query_babe_kb\"], [\"Ok m \\u0111\\u1eb7t tr\\u00ean shopee nha\", \"D\\u1ea1 v\\u00e2ng \\u1ea1!\", \"just_inform\", null, null], [\"Shop ship cho minh ve d\\u1ecba chi nay c\\u00e1i nh\\u00e9 04 d\\u01b0\\u1eddng-<br>  h\\u1ea1c th\\u00e0nh. Ph\\u01b0\\u1eddng t\\u00e2n s\\u01a1n. Th\\u00e0nh ph\\u1ed1 thanh h\\u00f3a 09-<br>\", null, \"handover_to_inbox\", \"[]\", \"action_handover_to_inbox\"], [\"V\\u00e2ng \\u1ea1. Ph\\u00ed ship SG kho\\u1ea3ng bao nhi\\u00eau \\u1ea1\", \"Shop G\\u1ea5u v\\u00e0 B\\u00ed ng\\u00f4 s\\u1eb5n s\\u00e0ng ph\\u1ee5c v\\u1ee5, g\\u1eedi h\\u00e0ng tr\\u00ean-<br>  to\\u00e0n qu\\u1ed1c. Chi ti\\u1ebft ch\\u00ednh s\\u00e1ch giao h\\u00e0ng b\\u1ea1n xem -<br>\", \"ask_ship\", \"['attribute:price']\", \"utter_ask_ship\"], [\"url\", \"B\\u1ea1n \\u0111ang t\\u00ecm ki\\u1ebfm th\\u00f4ng tin g\\u00ec \\u1ea1?\", \"send_link\", \"url\", \"action_handle_send_link_only\"], [\"E b\\u1ecb m\\u1ea5t kh\\u00f3a \\u1edf b\\u1ed9 ph\\u1eadn n\\u00e0y\\nB\\u00ean m\\u00ecnh c\\u00f3 b\\u00e1n l\\u1ebb k \\u1ea1\", null, \"handover_to_inbox\", \"['mention:b\\u1ed9 ph\\u1eadn n\\u00e0y']\", \"action_handover_to_inbox\"], [\"url\", \"S\\u1ea3n ph\\u1ea9m Xe \\u0111\\u1ea9y 2 chi\\u1ec1u cao c\\u1ea5p VOVO 2019 \\u0111ang c\\u00f3 -<br> gi\\u00e1: 1.620.000 VN\\u0110 (Gi\\u00e1 g\\u1ed1c: 2.500.000 VN\\u0110).\\nM\\u1eddi b-<br>\", \"query_knowledge_base\", \"url\", \"action_query_babe_kb\"], [\"Xe \\u0111\\u1ea9y n\\u00e0y \\u0111ang gi\\u1ea3m gi\\u00e1 ph\\u1ea3i k\", \"S\\u1ea3n ph\\u1ea9m Xe \\u0111\\u1ea9y 2 chi\\u1ec1u cao c\\u1ea5p VOVO 2019 \\u0111ang c\\u00f3 -<br>\", \"query_knowledge_base\", \"['object_type:xe_day', 'attribute:promotion']\", \"action_query_babe_kb\"], [\"url\", \"S\\u1ea3n ph\\u1ea9m Xe \\u0111\\u1ea9y 2 chi\\u1ec1u cao c\\u1ea5p VOVO 2019 \\u0111ang c\\u00f3 -<br> gi\\u00e1: 1.620.000 VN\\u0110 (Gi\\u00e1 g\\u1ed1c: 2.500.000 VN\\u0110).\\nM\\u1eddi b-<br> \\u1ea1n xem chi ti\\u1ebft s\\u1ea3n ph\\u1ea9m t\\u1ea1i link:\\n<Show card>\\n\\nS\\u1ea3-<br> n ph\\u1ea9m Thanh \\u0111\\u1ed3 ch\\u01a1i treo n\\u00f4i, c\\u0169i, xe \\u0111\\u1ea9y, gh\\u1ebf ng-<br> \\u1ed3i \\u00f4 t\\u00f4 h\\u00ecnh chim c\\u00f3 nh\\u1ea1c Infantino (M\\u1ef9) \\u0111ang c\\u00f3 g-<br> i\\u00e1: 279.000 VN\\u0110 (Gi\\u00e1 g\\u1ed1c: 399.000 VN\\u0110).\\nS\\u1ea3n ph\\u1ea9m X-<br> e \\u0111\\u1ea9y 2 chi\\u1ec1u cao c\\u1ea5p VOVO 2019 \\u0111ang c\\u00f3 gi\\u00e1: 1.620-<br> .000 VN\\u0110 (Gi\\u00e1 g\\u1ed1c: 2.500.000 VN\\u0110).\\r\\nM\\u1eddi b\\u1ea1n xem ch-<br>\", \"query_knowledge_base\", \"url\", \"action_query_babe_kb\"], [\"Xe \\u0111\\u1ea9y n\\u00e0y \\u0111ang gi\\u1ea3m gi\\u00e1 ph\\u1ea3i k\", \"S\\u1ea3n ph\\u1ea9m Xe \\u0111\\u1ea9y 2 chi\\u1ec1u cao c\\u1ea5p VOVO 2019 \\u0111ang c\\u00f3 -<br>\", \"query_knowledge_base\", \"['object_type:xe_day', 'attribute:promotion']\", \"action_query_babe_kb\"], [\"url\", \"B\\u1ea1n \\u0111ang t\\u00ecm ki\\u1ebfm th\\u00f4ng tin g\\u00ec \\u1ea1?\", \"send_link\", \"url\", \"action_handle_send_link_only\"], [\"M\\u00ecnh c\\u00f3 c\\u1ea7u tr\\u01b0\\u1ee3t n\\u00e0y c\\u1ee7a hola k c\", \"S\\u1ea3n ph\\u1ea9m C\\u1ea7u tr\\u01b0\\u1ee3t x\\u00edch \\u0111u Hola h\\u1ea3i c\\u1ea9u 2020 \\u0111ang -<br> c\\u00f3 gi\\u00e1: 1.990.000 VN\\u0110 (Gi\\u00e1 g\\u1ed1c: 3.250.000 VN\\u0110).\\nM\\u1edd-<br>\", \"query_knowledge_base\", \"['object_type:cau_truot', 'mention:n\\u00e0y', 'brand:hola']\", \"action_query_babe_kb\"], [\"url\", \"B\\u1ea1n \\u0111ang t\\u00ecm ki\\u1ebfm th\\u00f4ng tin g\\u00ec \\u1ea1?\", \"send_link\", \"url\", \"action_handle_send_link_only\"], [\"M\\u00ecnh c\\u00f3 c\\u1ea7u tr\\u01b0\\u1ee3t n\\u00e0y c\\u1ee7a hola k c\", \"S\\u1ea3n ph\\u1ea9m C\\u1ea7u tr\\u01b0\\u1ee3t x\\u00edch \\u0111u Hola h\\u1ea3i c\\u1ea9u 2020 shop -<br> \\u0111ang t\\u1ea1m h\\u1ebft h\\u00e0ng. B\\u1ea1n tham kh\\u1ea3o c\\u00e1c s\\u1ea3n ph\\u1ea9m C\\u1ea7u -<br>\", \"query_knowledge_base\", \"['object_type:cau_truot', 'mention:n\\u00e0y', 'brand:hola']\", \"action_query_babe_kb\"], [\"Khi n\\u00e0o c\\u00f3 h\\u00e0ng l\\u1ea1i \\u1ea1\", null, \"handover_to_inbox\", \"[]\", \"action_handover_to_inbox\"], [\"B\\u1ea1n \\u01a1i\", \"Ch\\u00e0o b\\u1ea1n, m\\u00ecnh l\\u00e0 tr\\u1ee3 l\\u00fd \\u1ea3o c\\u1ee7a Shop G\\u1ea5u & B\\u00ed Ng\\u00f4,-<br>\", \"greet\", \"[]\", \"utter_greet\"], [\"Tiki giao h\\u00e0ng ch\\u1eadm qu\\u00e1 m\\u00ecnh h\\u1ee7y \\u0111\\u01a1n r\\u1ed3i\", null, \"handover_to_inbox\", \"[]\", \"action_handover_to_inbox\"], [\"url\", \"D\\u1ea1, c\\u00f3 ph\\u1ea3i b\\u1ea1n mu\\u1ed1n h\\u1ecfi m\\u1ed9t trong c\\u00e1c s\\u1ea3n ph\\u1ea9m d\\u01b0-<br>\", \"query_knowledge_base\", \"url\", \"action_query_babe_kb\"], [\"/query_knowledge_base{\\\"url\\\": \\\"https://shopee.vn/pr-<br> oduct/36371562/3220636191\\\", \\\"product_id\\\": \\\"https:/-<br>\", \"S\\u1ea3n ph\\u1ea9m  B\\u1ed9 \\u0111\\u1ed3 ch\\u01a1i \\u0111\\u00e0n Piano k\\u1ebft h\\u1ee3p 10 nh\\u1ea1c c\\u1ee5 -<br> BKIDS 003398  hi\\u1ec7n shop \\u0111ang c\\u00f3 gi\\u00e1: *880,000 VND -<br> (gi\\u00e1 g\\u1ed1c 1,200,000 VND)*.\\nB\\u1ea1n tham kh\\u1ea3o c\\u00e1c s\\u1ea3n ph-<br>\", \"query_knowledge_base\", \"['url:https://shopee.vn/product/36371562/3220636191', 'product_id:https://shopee.vn/product/36371562/3220636191']\", \"action_query_babe_kb\"], [\"url\", \"S\\u1ea3n ph\\u1ea9m  B\\u1ed9 \\u0111\\u1ed3 ch\\u01a1i \\u0111\\u00e0n Piano k\\u1ebft h\\u1ee3p 10 nh\\u1ea1c c\\u1ee5 -<br> BKIDS 003398  hi\\u1ec7n shop \\u0111ang c\\u00f3 gi\\u00e1: *880,000 VND -<br> (gi\\u00e1 g\\u1ed1c 1,200,000 VND)*.\\nB\\u1ea1n tham kh\\u1ea3o c\\u00e1c s\\u1ea3n ph-<br>\", \"query_knowledge_base\", \"url\", \"action_query_babe_kb\"], [\"C\\u00f2n xe m\\u00e0u xanh k b\\u1ea1n?\", \"S\\u1ea3n ph\\u1ea9m b\\u1ea1n \\u0111ang t\\u00ecm c\\u00f3 ph\\u1ea3i l\\u00e0?\", \"query_knowledge_base\", \"['color:m\\u00e0u xanh','object_type:xe']\", \"action_query_babe_kb\"], [\"url\", \"D\\u1ea1, c\\u00f3 ph\\u1ea3i b\\u1ea1n mu\\u1ed1n h\\u1ecfi m\\u1ed9t trong c\\u00e1c s\\u1ea3n ph\\u1ea9m d\\u01b0-<br>\", \"send_link\", \"url\", \"action_handle_send_link_only\"], [\"/disagree{\\\"object_type\\\": null}\", \"B\\u1ea1n vui l\\u00f2ng m\\u00f4 t\\u1ea3 r\\u00f5 mong mu\\u1ed1n c\\u1ee7a b\\u1ea1n ho\\u1eb7c chat -<br>\", \"disagree\", \"['object_type:None']\", \"utter_disagree\"], [\"M\\u00ecnh g\\u1eedi \\u1ea3nh \\u1edf tr\\u00ean b\\u1ea1n \\u01a1i\\nXem tin nh\\u1eafn \\u0111i\", null, \"handover_to_inbox\", \"['attribute:image']\", \"action_handover_to_inbox\"], [\"C\\u00f2n xe m\\u00e0u xanh k b\\u1ea1n?\", \"S\\u1ea3n ph\\u1ea9m b\\u1ea1n \\u0111ang t\\u00ecm c\\u00f3 ph\\u1ea3i l\\u00e0?\", \"query_knowledge_base\", \"['color:m\\u00e0u xanh','object_type:xe']\", \"action_query_babe_kb\"], [\"url\", \"D\\u1ea1, c\\u00f3 ph\\u1ea3i b\\u1ea1n mu\\u1ed1n h\\u1ecfi m\\u1ed9t trong c\\u00e1c s\\u1ea3n ph\\u1ea9m d\\u01b0-<br>\", \"send_link\", \"url\", \"action_handle_send_link_only\"], [\"/query_knowledge_base{\\\"url\\\": \\\"https://www.facebook-<br> .com/shopgauvabingo/posts/2445777899065867\\\", \\\"prod-<br> uct_id\\\": \\\"https://www.facebook.com/shopgauvabingo/-<br>\", \"S\\u1ea3n ph\\u1ea9m Xe ch\\u00f2i ch\\u00e2n ki\\u00eam xe l\\u1eafc cao c\\u1ea5p c\\u00f3 nh\\u1ea1c -<br> Holla hi\\u1ec7n shop \\u0111ang c\\u00f3 gi\\u00e1: *790,000 VND (gi\\u00e1 g\\u1ed1c-<br>  1,200,000 VND)*.\\nB\\u1ea1n tham kh\\u1ea3o c\\u00e1c s\\u1ea3n ph\\u1ea9m sau n-<br>\", \"query_knowledge_base\", null, \"action_query_babe_kb\"], [\"thank shop\", \"D\\u1ea1, c\\u1ea3m \\u01a1n b\\u1ea1n!\", \"thank\", null, \"utter_thank\"], [\"C\\u00f2n xe m\\u00e0u xanh k b\\u1ea1n?\", \"S\\u1ea3n ph\\u1ea9m b\\u1ea1n \\u0111ang t\\u00ecm c\\u00f3 ph\\u1ea3i l\\u00e0?\", \"query_knowledge_base\", \"['color:m\\u00e0u xanh','object_type:xe']\", \"action_query_babe_kb\"], [\"url\", \"S\\u1ea3n ph\\u1ea9m Xe ch\\u00f2i ch\\u00e2n ki\\u00eam xe l\\u1eafc cao c\\u1ea5p c\\u00f3 nh\\u1ea1c -<br> Holla hi\\u1ec7n shop \\u0111ang c\\u00f3 gi\\u00e1: *790,000 VND (gi\\u00e1 g\\u1ed1c-<br>  1,200,000 VND)*.\\nB\\u1ea1n tham kh\\u1ea3o c\\u00e1c s\\u1ea3n ph\\u1ea9m sau n-<br>\", \"send_link\", \"url\", \"action_handle_send_link_only\"], [\"thank shop\", \"D\\u1ea1, c\\u1ea3m \\u01a1n b\\u1ea1n!\", \"thank\", null, \"utter_thank\"], [\"C\\u00f2n xe m\\u00e0u xanh k b\\u1ea1n?\", \"S\\u1ea3n ph\\u1ea9m b\\u1ea1n \\u0111ang t\\u00ecm c\\u00f3 ph\\u1ea3i l\\u00e0?\", \"query_knowledge_base\", \"['color:m\\u00e0u xanh','object_type:xe']\", \"action_query_babe_kb\"], [\"url\", \"S\\u1ea3n ph\\u1ea9m Xe ch\\u00f2i ch\\u00e2n ki\\u00eam xe l\\u1eafc cao c\\u1ea5p c\\u00f3 nh\\u1ea1c -<br> Holla hi\\u1ec7n shop c\\u00f2n h\\u00e0ng v\\u00e0 \\u0111ang c\\u00f3 gi\\u00e1: *790,000 -<br> VND (gi\\u00e1 g\\u1ed1c 1,200,000 VND)*.\\r\\nB\\u1ea1n tham kh\\u1ea3o c\\u00e1c s-<br>\", \"send_link\", \"url\", \"action_handle_send_link_only\"], [\"thank shop\", \"D\\u1ea1, c\\u1ea3m \\u01a1n b\\u1ea1n!\", \"thank\", null, \"utter_thank\"], [\"C\\u00f2n xe m\\u00e0u xanh k b\\u1ea1n?\", \"S\\u1ea3n ph\\u1ea9m b\\u1ea1n \\u0111ang t\\u00ecm c\\u00f3 ph\\u1ea3i l\\u00e0?\", \"query_knowledge_base\", \"['color:m\\u00e0u xanh','object_type:xe']\", \"action_query_babe_kb\"], [\"url\", \"S\\u1ea3n ph\\u1ea9m Xe ch\\u00f2i ch\\u00e2n ki\\u00eam xe l\\u1eafc cao c\\u1ea5p c\\u00f3 nh\\u1ea1c -<br> Holla hi\\u1ec7n shop h\\u1ebft h\\u00e0ng \\u1ea1\\nB\\u1ea1n tham kh\\u1ea3o c\\u00e1c s\\u1ea3n p-<br>\", \"send_link\", \"url\", \"action_handle_send_link_only\"], [\"thank shop\", \"D\\u1ea1, c\\u1ea3m \\u01a1n b\\u1ea1n!\", \"thank\", null, \"utter_thank\"], [\"url\", \"S\\u1ea3n ph\\u1ea9m Xe ch\\u00f2i ch\\u00e2n ki\\u00eam xe l\\u1eafc cao c\\u1ea5p c\\u00f3 nh\\u1ea1c -<br> Holla hi\\u1ec7n shop \\u0111ang c\\u00f3 gi\\u00e1: *790,000 VND (gi\\u00e1 g\\u1ed1c-<br>  1,200,000 VND)*.\\nB\\u1ea1n tham kh\\u1ea3o c\\u00e1c s\\u1ea3n ph\\u1ea9m sau n-<br>\", \"query_knowledge_base\", \"url\", \"action_query_babe_kb\"], [\"url\", \"B\\u1ea1n \\u0111ang t\\u00ecm ki\\u1ebfm th\\u00f4ng tin g\\u00ec \\u1ea1?\", \"send_link\", \"url\", \"action_query_babe_kb\"], [\"xe n\\u00e0y bao nhi\\u00eau \\u1ea1\", \"S\\u1ea3n ph\\u1ea9m Xe NADLE 3 in 1: Xe \\u0111\\u1ea9y - Ch\\u00f2i ch\\u00e2n - Xe -<br> \\u0111\\u1ea1p hi\\u1ec7n shop \\u0111ang c\\u00f3 gi\\u00e1: *1,550,000 VND (gi\\u00e1 g\\u1ed1c-<br>  2,650,000 VND)*.\\nB\\u1ea1n tham kh\\u1ea3o c\\u00e1c s\\u1ea3n ph\\u1ea9m sau n-<br>\", \"query_knowledge_base\", \"['attribute:price','object_type:xe','mention:n\\u00e0y']\", \"action_query_babe_kb\"], [\"ok shop\", \"D\\u1ea1,v\\u00e2ng\", \"agree\", null, \"utter_agree\"], [\"url\", \"S\\u1ea3n ph\\u1ea9m Xe ch\\u00f2i ch\\u00e2n ki\\u00eam xe l\\u1eafc cao c\\u1ea5p c\\u00f3 nh\\u1ea1c -<br> Holla hi\\u1ec7n shop \\u0111ang c\\u00f3 gi\\u00e1: *790,000 VND (gi\\u00e1 g\\u1ed1c-<br>  1,200,000 VND)*.\\nB\\u1ea1n tham kh\\u1ea3o c\\u00e1c s\\u1ea3n ph\\u1ea9m sau n-<br>\", \"query_knowledge_base\", \"url\", \"action_query_babe_kb\"], [\"url\", \"S\\u1ea3n ph\\u1ea9m Xe NADLE 3 in 1: Xe \\u0111\\u1ea9y - Ch\\u00f2i ch\\u00e2n - Xe -<br> \\u0111\\u1ea1p hi\\u1ec7n shop \\u0111ang c\\u00f3 gi\\u00e1: *1,550,000 VND (gi\\u00e1 g\\u1ed1c-<br>  2,650,000 VND)*.\\r\\nB\\u1ea1n tham kh\\u1ea3o c\\u00e1c s\\u1ea3n ph\\u1ea9m sau -<br>\", \"send_link\", \"url\", \"action_query_babe_kb\"], [\"ok shop\", \"D\\u1ea1,v\\u00e2ng\", \"agree\", null, \"utter_agree\"], [\"url\", \"D\\u1ea1, c\\u00f3 ph\\u1ea3i b\\u1ea1n mu\\u1ed1n h\\u1ecfi m\\u1ed9t trong c\\u00e1c s\\u1ea3n ph\\u1ea9m d\\u01b0-<br>\", \"query_knowledge_base\", \"url\", \"action_query_babe_kb\"], [\"/disagree{\\\"object_type\\\": null}\", \"B\\u1ea1n vui l\\u00f2ng m\\u00f4 t\\u1ea3 r\\u00f5 mong mu\\u1ed1n c\\u1ee7a b\\u1ea1n ho\\u1eb7c chat -<br>\", \"disagree\", \"['object_type:None']\", \"utter_disagree\"], [\"/connect_employee\", null, \"connect_employee\", null, \"action_handover_to_inbox\"], [\"url\", \"S\\u1ea3n ph\\u1ea9m Xe ch\\u00f2i ch\\u00e2n ki\\u00eam xe l\\u1eafc cao c\\u1ea5p c\\u00f3 nh\\u1ea1c -<br> Holla hi\\u1ec7n shop \\u0111ang c\\u00f3 gi\\u00e1: *790,000 VND (gi\\u00e1 g\\u1ed1c-<br>  1,200,000 VND)*.\\nB\\u1ea1n tham kh\\u1ea3o c\\u00e1c s\\u1ea3n ph\\u1ea9m sau n-<br>\", \"query_knowledge_base\", \"url\", \"action_query_babe_kb\"], [\"xe l\\u0103\\u0301c Holla co\\u0301 tr\\u00ean shopee ch\\u01b0a ba\\u0323n\", \"D\\u1ea1 m\\u1eddi b\\u1ea1n tham kh\\u1ea3o s\\u1ea3n ph\\u1ea9m Xe ch\\u00f2i ch\\u00e2n ki\\u00eam xe-<br>\", \"query_knowledge_base\", \"['object_type:xe', 'attribute:link','brand:Holla']\", \"action_query_babe_kb\"], [\"url\", \"D\\u1ea1, c\\u00f3 ph\\u1ea3i b\\u1ea1n mu\\u1ed1n h\\u1ecfi m\\u1ed9t trong c\\u00e1c s\\u1ea3n ph\\u1ea9m d\\u01b0-<br>\", \"query_knowledge_base\", \"url\", \"action_query_babe_kb\"], [\"/query_knowledge_base{\\\"url\\\": \\\"https://www.facebook-<br> .com/shopgauvabingo/posts/2445777899065867\\\", \\\"prod-<br> uct_id\\\": \\\"https://www.facebook.com/shopgauvabingo/-<br>\", \"S\\u1ea3n ph\\u1ea9m Xe ch\\u00f2i ch\\u00e2n ki\\u00eam xe l\\u1eafc cao c\\u1ea5p c\\u00f3 nh\\u1ea1c -<br> Holla hi\\u1ec7n shop \\u0111ang c\\u00f3 gi\\u00e1: *790,000 VND (gi\\u00e1 g\\u1ed1c-<br>  1,200,000 VND)*.\\nB\\u1ea1n tham kh\\u1ea3o c\\u00e1c s\\u1ea3n ph\\u1ea9m sau n-<br>\", \"query_knowledge_base\", null, \"action_query_babe_kb\"], [\"url\", \"S\\u1ea3n ph\\u1ea9m  C\\u1ea7u tr\\u01b0\\u1ee3t x\\u00edch \\u0111u Hola h\\u1ea3i c\\u1ea9u 2020  hi\\u1ec7-<br> n shop \\u0111ang c\\u00f3 gi\\u00e1: *1,982,500 VND (gi\\u00e1 g\\u1ed1c 3,250,-<br>\", \"send_link\", \"url\", \"action_handle_send_link_only\"], [\"url\", \"S\\u1ea3n ph\\u1ea9m Xe ch\\u00f2i ch\\u00e2n ki\\u00eam xe l\\u1eafc cao c\\u1ea5p c\\u00f3 nh\\u1ea1c -<br> Holla hi\\u1ec7n shop \\u0111ang c\\u00f3 gi\\u00e1: *790,000 VND (gi\\u00e1 g\\u1ed1c-<br>  1,200,000 VND)*.\\nB\\u1ea1n tham kh\\u1ea3o c\\u00e1c s\\u1ea3n ph\\u1ea9m sau n-<br>\", \"query_knowledge_base\", \"url\", \"action_query_babe_kb\"], [\"url\", \"S\\u1ea3n ph\\u1ea9m  C\\u1ea7u tr\\u01b0\\u1ee3t x\\u00edch \\u0111u Hola h\\u1ea3i c\\u1ea9u 2020  hi\\u1ec7-<br> n shop \\u0111ang c\\u00f3 gi\\u00e1: *1,982,500 VND (gi\\u00e1 g\\u1ed1c 3,250,-<br>\", \"send_link\", \"url\", \"action_handle_send_link_only\"], [\"ok shop\", \"D\\u1ea1,v\\u00e2ng\", \"agree\", null, \"utter_agree\"], [\"url\", \"D\\u1ea1, c\\u00f3 ph\\u1ea3i b\\u1ea1n mu\\u1ed1n h\\u1ecfi m\\u1ed9t trong c\\u00e1c s\\u1ea3n ph\\u1ea9m d\\u01b0-<br>\", \"query_knowledge_base\", \"url\", \"action_query_babe_kb\"], [\"/disagree{\\\"object_type\\\": null}\", \"B\\u1ea1n vui l\\u00f2ng m\\u00f4 t\\u1ea3 r\\u00f5 mong mu\\u1ed1n c\\u1ee7a b\\u1ea1n ho\\u1eb7c chat -<br>\", \"disagree\", \"['object_type:None']\", \"utter_disagree\"], [\"/connect_employee\", null, \"connect_employee\", null, \"action_handover_to_inbox\"], [\"url\", \"S\\u1ea3n ph\\u1ea9m Xe ch\\u00f2i ch\\u00e2n ki\\u00eam xe l\\u1eafc cao c\\u1ea5p c\\u00f3 nh\\u1ea1c -<br> Holla hi\\u1ec7n shop \\u0111ang c\\u00f3 gi\\u00e1: *790,000 VND (gi\\u00e1 g\\u1ed1c-<br>  1,200,000 VND)*.\\nB\\u1ea1n tham kh\\u1ea3o c\\u00e1c s\\u1ea3n ph\\u1ea9m sau n-<br>\", \"query_knowledge_base\", \"url\", \"action_query_babe_kb\"], [\"Ok b\\u1ea1n th\\u1ebf \\u0111\\u1ec3 t xem l\\u1ea1i r\\u00f9i b\\u00e1o nha\", \"D\\u1ea1,v\\u00e2ng\", \"end_conversation\", null, \"action_end_conversation\"], [\"url\", \"D\\u1ea1, c\\u00f3 ph\\u1ea3i b\\u1ea1n mu\\u1ed1n h\\u1ecfi m\\u1ed9t trong c\\u00e1c s\\u1ea3n ph\\u1ea9m d\\u01b0-<br>\", \"query_knowledge_base\", \"url\", \"action_query_babe_kb\"], [\"/query_knowledge_base{\\\"url\\\": \\\"https://www.facebook-<br> .com/shopgauvabingo/posts/2445777899065867\\\", \\\"prod-<br> uct_id\\\": \\\"https://www.facebook.com/shopgauvabingo/-<br>\", \"S\\u1ea3n ph\\u1ea9m Xe ch\\u00f2i ch\\u00e2n ki\\u00eam xe l\\u1eafc cao c\\u1ea5p c\\u00f3 nh\\u1ea1c -<br> Holla hi\\u1ec7n shop \\u0111ang c\\u00f3 gi\\u00e1: *790,000 VND (gi\\u00e1 g\\u1ed1c-<br>  1,200,000 VND)*.\\nB\\u1ea1n tham kh\\u1ea3o c\\u00e1c s\\u1ea3n ph\\u1ea9m sau n-<br>\", \"query_knowledge_base\", null, \"action_query_babe_kb\"], [\"b\\u00e9 13m \\u0111\\u00e3 d\\u00f9ng \\u0111c ch\\u01b0a b\\u1ea1n nh\\u1ec9?\", \"S\\u1ea3n ph\\u1ea9m  Xe ch\\u00f2i ch\\u00e2n ki\\u00eam xe l\\u1eafc cao c\\u1ea5p c\\u00f3 nh\\u1ea1c-<br>  Holla hi\\u1ec7n shop \\u0111ang c\\u00f3 \\u0111\\u1ed9 tu\\u1ed5i s\\u1eed d\\u1ee5ng: 0 - 36 t-<br>\", \"query_knowledge_base\", \"['age_of_use:13m']\", \"action_query_babe_kb\"], [\"Ok b\\u1ea1n\", \"D\\u1ea1,v\\u00e2ng\", \"agree\", null, \"utter_agree\"], [\"url\", \"S\\u1ea3n ph\\u1ea9m Xe ch\\u00f2i ch\\u00e2n ki\\u00eam xe l\\u1eafc cao c\\u1ea5p c\\u00f3 nh\\u1ea1c -<br> Holla hi\\u1ec7n shop \\u0111ang c\\u00f3 gi\\u00e1: *790,000 VND (gi\\u00e1 g\\u1ed1c-<br>  1,200,000 VND)*.\\nB\\u1ea1n tham kh\\u1ea3o c\\u00e1c s\\u1ea3n ph\\u1ea9m sau n-<br>\", \"query_knowledge_base\", \"url\", \"action_query_babe_kb\"], [\"c\\u00f3 nh\\u1eefng m\\u00e0u g\\u00ec sh\", \"S\\u1ea3n ph\\u1ea9m  Xe ch\\u00f2i ch\\u00e2n ki\\u00eam xe l\\u1eafc cao c\\u1ea5p c\\u00f3 nh\\u1ea1c-<br>  Holla hi\\u1ec7n shop \\u0111ang c\\u00f3 m\\u00e0u: H\\u1ed3ng, Xanh.\\nB\\u1ea1n tham-<br>\", \"query_knowledge_base\", \"['attribute:color']\", \"action_query_babe_kb\"], [\"\\u0110\\u1ec3 m\\u00ecnh tham kh\\u1ea3o \", null, \"handover_to_inbox\", null, \"action_handover_to_inbox\"], [\"url\", \"S\\u1ea3n ph\\u1ea9m Xe ch\\u00f2i ch\\u00e2n ki\\u00eam xe l\\u1eafc cao c\\u1ea5p c\\u00f3 nh\\u1ea1c -<br> Holla hi\\u1ec7n shop \\u0111ang c\\u00f3 gi\\u00e1: *790,000 VND (gi\\u00e1 g\\u1ed1c-<br>  1,200,000 VND)*.\\nB\\u1ea1n tham kh\\u1ea3o c\\u00e1c s\\u1ea3n ph\\u1ea9m sau n-<br>\", \"query_knowledge_base\", \"url\", \"action_query_babe_kb\"], [\"c\\u00f3 nh\\u1eefng m\\u00e0u g\\u00ec sh\", \"S\\u1ea3n ph\\u1ea9m  Xe ch\\u00f2i ch\\u00e2n ki\\u00eam xe l\\u1eafc cao c\\u1ea5p c\\u00f3 nh\\u1ea1c-<br>  Holla hi\\u1ec7n shop \\u0111ang c\\u00f3 m\\u00e0u: H\\u1ed3ng, Xanh.\\nB\\u1ea1n tham-<br>\", \"query_knowledge_base\", \"['attribute:color']\", \"action_query_babe_kb\"], [\"\\u0110\\u1ec3 m\\u00ecnh tham kh\\u1ea3o \", \"D\\u1ea1, v\\u00e2ng \\u1ea1\", \"end_conversation\", null, \"action_end_conversation\"], [\"url\", \"D\\u1ea1, c\\u00f3 ph\\u1ea3i b\\u1ea1n mu\\u1ed1n h\\u1ecfi m\\u1ed9t trong c\\u00e1c s\\u1ea3n ph\\u1ea9m d\\u01b0-<br>\", \"query_knowledge_base\", \"url\", \"action_query_babe_kb\"], [\"/query_knowledge_base{\\\"url\\\": \\\"https://www.facebook-<br> .com/shopgauvabingo/posts/2445777899065867\\\", \\\"prod-<br> uct_id\\\": \\\"https://www.facebook.com/shopgauvabingo/-<br>\", \"S\\u1ea3n ph\\u1ea9m Xe ch\\u00f2i ch\\u00e2n ki\\u00eam xe l\\u1eafc cao c\\u1ea5p c\\u00f3 nh\\u1ea1c -<br> Holla hi\\u1ec7n shop \\u0111ang c\\u00f3 gi\\u00e1: *790,000 VND (gi\\u00e1 g\\u1ed1c-<br>  1,200,000 VND)*.\\nB\\u1ea1n tham kh\\u1ea3o c\\u00e1c s\\u1ea3n ph\\u1ea9m sau n-<br>\", \"query_knowledge_base\", null, \"action_query_babe_kb\"], [\"Ok b\\u1ea1n\", \"D\\u1ea1,v\\u00e2ng\", \"agree\", null, \"utter_agree\"], [\"url\", \"S\\u1ea3n ph\\u1ea9m Xe ch\\u00f2i ch\\u00e2n ki\\u00eam xe l\\u1eafc cao c\\u1ea5p c\\u00f3 nh\\u1ea1c -<br> Holla hi\\u1ec7n shop \\u0111ang c\\u00f3 gi\\u00e1: *790,000 VND (gi\\u00e1 g\\u1ed1c-<br>  1,200,000 VND)*.\\nB\\u1ea1n tham kh\\u1ea3o c\\u00e1c s\\u1ea3n ph\\u1ea9m sau n-<br>\", \"query_knowledge_base\", \"url\", \"action_query_babe_kb\"], [\"thank shop\", \"D\\u1ea1, c\\u1ea3m \\u01a1n b\\u1ea1n!\", \"thank\", null, \"utter_thank\"], [\"hi shop\", \"Ch\\u00e0o b\\u1ea1n, m\\u00ecnh l\\u00e0 tr\\u1ee3 l\\u00fd \\u1ea3o c\\u1ee7a Shop G\\u1ea5u & B\\u00ed Ng\\u00f4,-<br>\", \"greet\", null, \"utter_greet\"], [\"url\", \"B\\u1ea1n \\u0111ang t\\u00ecm ki\\u1ebfm th\\u00f4ng tin g\\u00ec \\u1ea1?\", \"query_knowledge_base\", \"url\", \"action_query_babe_kb\"], [\"Xe \\u0111\\u1ea9y lo\\u1ea1i n\\u00e0y c\\u00f2n k shop\", \"S\\u1ea3n ph\\u1ea9m Xe \\u0111\\u1ea9y si\\u00eau nh\\u1eb9 Umoo hi\\u1ec7n shop \\u0111ang c\\u00f3 gi-<br> \\u00e1: *749,000 VND (gi\\u00e1 g\\u1ed1c 1,200,000 VND)*.\\nB\\u1ea1n tham-<br>\", \"query_knowledge_base\", \"['object_type:xe_day', 'mention:lo\\u1ea1i n\\u00e0y']\", \"action_query_babe_kb\"], [\"Ok b\\u1ea1n\", \"D\\u1ea1,v\\u00e2ng\", \"agree\", null, \"utter_agree\"], [\"hi shop\", \"Ch\\u00e0o b\\u1ea1n, m\\u00ecnh l\\u00e0 tr\\u1ee3 l\\u00fd \\u1ea3o c\\u1ee7a Shop G\\u1ea5u & B\\u00ed Ng\\u00f4,-<br>\", \"greet\", null, \"utter_greet\"], [\"url\", \"B\\u1ea1n \\u0111ang t\\u00ecm ki\\u1ebfm th\\u00f4ng tin g\\u00ec \\u1ea1?\", \"query_knowledge_base\", \"url\", \"action_query_babe_kb\"], [\"Xe \\u0111\\u1ea9y lo\\u1ea1i n\\u00e0y c\\u00f2n k shop\", \"S\\u1ea3n ph\\u1ea9m Xe \\u0111\\u1ea9y si\\u00eau nh\\u1eb9 Umoo hi\\u1ec7n shop \\u0111ang h\\u1ebft h-<br>\", \"query_knowledge_base\", \"['object_type:xe_day', 'mention:lo\\u1ea1i n\\u00e0y']\", \"action_query_babe_kb\"], [\"Ok b\\u1ea1n\", \"D\\u1ea1,v\\u00e2ng\", \"agree\", null, \"utter_agree\"], [\"url\", \"D\\u1ea1, c\\u00f3 ph\\u1ea3i b\\u1ea1n mu\\u1ed1n h\\u1ecfi m\\u1ed9t trong c\\u00e1c s\\u1ea3n ph\\u1ea9m d\\u01b0-<br> \\u1edbi \\u0111\\u00e2y kh\\u00f4ng \\u1ea1?\\r\\n (Vui l\\u00f2ng \\u1ea5n ch\\u1ecdn 1 s\\u1ea3n ph\\u1ea9m)...-<br>\", \"query_knowledge_base\", \"url\", \"action_query_babe_kb\"], [\"/disagree{\\\"object_type\\\": null}\", \"B\\u1ea1n vui l\\u00f2ng m\\u00f4 t\\u1ea3 r\\u00f5 mong mu\\u1ed1n c\\u1ee7a b\\u1ea1n ho\\u1eb7c chat -<br>\", \"disagree\", \"['object_type:None']\", \"utter_disagree\"], [\"/connect_employee\", null, \"connect_employee\", \"[]\", \"action_handover_to_inbox\"], [\"url\", \"S\\u1ea3n ph\\u1ea9m b\\u1ea1n \\u0111ang t\\u00ecm c\\u00f3 ph\\u1ea3i l\\u00e0?\", \"query_knowledge_base\", \"url\", \"action_query_babe_kb\"], [\"/disagree{\\\"object_type\\\": null}\", \"B\\u1ea1n vui l\\u00f2ng m\\u00f4 t\\u1ea3 r\\u00f5 mong mu\\u1ed1n c\\u1ee7a b\\u1ea1n ho\\u1eb7c chat -<br>\", \"disagree\", \"['object_type:None']\", \"utter_disagree\"], [\"/connect_employee\", null, \"connect_employee\", \"[]\", \"action_handover_to_inbox\"], [\"url\", \"S\\u1ea3n ph\\u1ea9m B\\u1ed9 b\\u1ea3o v\\u1ec7 7 m\\u00f3n hi\\u1ec7n shop \\u0111ang c\\u00f3 gi\\u00e1: *7-<br> 49,000 VND (gi\\u00e1 g\\u1ed1c 1,200,000 VND)*.\\nB\\u1ea1n tham kh\\u1ea3o-<br>\", \"query_knowledge_base\", \"url\", \"action_query_babe_kb\"], [\"\\u0111\\u1ec3 m\\u00ecnh xem c\\u00f3 g\\u00ec minh b\\u00e1o\", null, \"handover_to_inbox\", null, \"action_handover_to_inbox\"], [\"url\", \"B\\u1ea1n \\u0111ang t\\u00ecm ki\\u1ebfm th\\u00f4ng tin g\\u00ec \\u1ea1?\", \"send_link\", \"url\", \"action_handle_send_link_only\"], [\"B\\u1ea1n \\u01a1i gi\\u01b0\\u1eddng \\u0111\\u1ec7m \\u0111i k\\u00e8m gi\\u00e1 nh\\u01b0 n\\u00e0o\", \"S\\u1ea3n ph\\u1ea9m b\\u1ea1n \\u0111ang t\\u00ecm c\\u00f3 ph\\u1ea3i l\\u00e0?\", \"query_knowledge_base\", \"['object_type:giuong', 'attribute:price']\", \"action_query_babe_kb\"], [\"/disagree{\\\"object_type\\\": null}\", \"B\\u1ea1n vui l\\u00f2ng m\\u00f4 t\\u1ea3 r\\u00f5 mong mu\\u1ed1n c\\u1ee7a b\\u1ea1n ho\\u1eb7c chat -<br>\", \"disagree\", \"['object_type:None']\", \"utter_disagree\"], [\"/connect_employee\", null, \"connect_employee\", \"[]\", \"action_handover_to_inbox\"], [\"url\", \"B\\u1ea1n \\u0111ang t\\u00ecm ki\\u1ebfm th\\u00f4ng tin g\\u00ec \\u1ea1?\", \"send_link\", \"url\", \"action_handle_send_link_only\"], [\"B\\u1ea1n \\u01a1i gi\\u01b0\\u1eddng \\u0111\\u1ec7m \\u0111i k\\u00e8m gi\\u00e1 nh\\u01b0 n\\u00e0o\", \"D\\u1ea1, c\\u00f3 ph\\u1ea3i b\\u1ea1n mu\\u1ed1n h\\u1ecfi m\\u1ed9t trong c\\u00e1c s\\u1ea3n ph\\u1ea9m d\\u01b0-<br> \\u1edbi \\u0111\\u00e2y kh\\u00f4ng \\u1ea1?\\r\\n (Vui l\\u00f2ng \\u1ea5n ch\\u1ecdn 1 s\\u1ea3n ph\\u1ea9m)...-<br>\", \"query_knowledge_base\", \"['object_type:giuong', 'attribute:price']\", \"action_query_babe_kb\"], [\"/query_knowledge_base{\\\"url\\\": \\\"https://www.facebook-<br> .com/shopgauvabingo/posts/2445681652408825\\\", \\\"prod-<br> uct_id\\\": \\\"https://www.facebook.com/shopgauvabingo/-<br>\", \"S\\u1ea3n ph\\u1ea9m Gi\\u01b0\\u1eddng nh\\u1ef1a Holla hi\\u1ec7n shop \\u0111ang c\\u00f3 gi\\u00e1: -<br> *749,000 VND (gi\\u00e1 g\\u1ed1c 1,200,000 VND)*.\\nB\\u1ea1n tham kh-<br>\", \"query_knowledge_base\", null, \"action_query_babe_kb\"], [\"Ok shop\", \"D\\u1ea1,v\\u00e2ng\", \"agree\", null, \"utter_agree\"], [\"url\", \"B\\u1ea1n \\u0111ang t\\u00ecm ki\\u1ebfm th\\u00f4ng tin g\\u00ec \\u1ea1?\", \"send_link\", \"url\", \"action_handle_send_link_only\"], [\"B\\u1ea1n \\u01a1i gi\\u01b0\\u1eddng \\u0111\\u1ec7m \\u0111i k\\u00e8m gi\\u00e1 nh\\u01b0 n\\u00e0o\", \"S\\u1ea3n ph\\u1ea9m Gi\\u01b0\\u1eddng nh\\u1ef1a Holla hi\\u1ec7n shop \\u0111ang c\\u00f3 gi\\u00e1: -<br> *749,000 VND (gi\\u00e1 g\\u1ed1c 1,200,000 VND)*.\\r\\nB\\u1ea1n tham k-<br>\", \"query_knowledge_base\", \"['object_type:giuong', 'attribute:price']\", \"action_query_babe_kb\"], [\"thank shop\", \"D\\u1ea1, v\\u00e2ng \\u1ea1!\", \"thank\", null, \"utter_thank\"], [\"alo shop\", \"Ch\\u00e0o b\\u1ea1n, m\\u00ecnh l\\u00e0 tr\\u1ee3 l\\u00fd \\u1ea3o c\\u1ee7a Shop G\\u1ea5u & B\\u00ed Ng\\u00f4,-<br>\", \"greet\", null, \"utter_greet\"], [\"Shop c\\u00f3 xe scooter ko \\u1ea1?\", \"S\\u1ea3n ph\\u1ea9m b\\u1ea1n \\u0111ang t\\u00ecm c\\u00f3 ph\\u1ea3i l\\u00e0?\", \"query_knowledge_base\", \"['object_type:xe','brand:scooter']\", \"action_query_babe_kb\"], [\"/deny_object_type{\\\"object_type\\\": null}\", \"B\\u1ea1n vui l\\u00f2ng m\\u00f4 t\\u1ea3 r\\u00f5 mong mu\\u1ed1n c\\u1ee7a b\\u1ea1n ho\\u1eb7c chat -<br>\", \"deny_object_type\", \"['object_type:None']\", \"utter_disagree\"], [\"/connect_employee\", null, \"connect_employee\", \"[]\", \"action_handover_to_inbox\"], [\"alo shop\", \"Ch\\u00e0o b\\u1ea1n, m\\u00ecnh l\\u00e0 tr\\u1ee3 l\\u00fd \\u1ea3o c\\u1ee7a Shop G\\u1ea5u & B\\u00ed Ng\\u00f4,-<br>\", \"greet\", null, \"utter_greet\"], [\"Shop c\\u00f3 xe scooter ko \\u1ea1?\", \"Hi\\u1ec7n t\\u1ea1i s\\u1ea3n ph\\u1ea9m xe scooter  shop \\u0111ang c\\u00f3 nh\\u1eefng g-<br>\", \"query_knowledge_base\", \"['object_type:xe_scooter']\", \"action_query_babe_kb\"], [\"/confirm_attribute_value{\\\"price\\\": \\\"500-1M\\\"}\", \"Hi\\u1ec7n t\\u1ea1i s\\u1ea3n ph\\u1ea9m xe scooter gi\\u00e1 500 - 1m shop \\u0111an-<br>\", \"query_knowledge_base\", null, \"action_query_babe_kb\"], [\"/confirm_attribute_value{\\\"brand\\\": \\\"Vinng\\\"}\", \"D\\u1ea1 m\\u1eddi b\\u1ea1n tham kh\\u1ea3o s\\u1ea3n ph\\u1ea9m hi\\u1ec7n c\\u00f3 t\\u1ea1i shop nh\\u00e9-<br>\", \"query_knowledge_base\", null, \"action_query_babe_kb\"], [\"B\\u1ea1n \\u01a1i b\\u00ean b\\u1ea1n hi\\u1ec7n c\\u00f2n nh\\u1eefng lo\\u1ea1i c\\u1ea7u tr\\u01b0\\u1ee3t n\\u00e0o n-<br>\", \"S\\u1ea3n ph\\u1ea9m  C\\u1ea7u tr\\u01b0\\u1ee3t x\\u00edch \\u0111u Hola h\\u1ea3i c\\u1ea9u 2020  hi\\u1ec7-<br> n shop \\u0111ang c\\u00f3 gi\\u00e1: *1,982,500 VND (gi\\u00e1 g\\u1ed1c 3,250,-<br>\", \"query_knowledge_base\", \"['object_type:cau_truot']\", \"action_query_babe_kb\"], [\"ok shop\", \"D\\u1ea1,v\\u00e2ng\", \"agree\", null, \"utter_agree\"], [\"B\\u1ea1n \\u01a1i b\\u00ean b\\u1ea1n hi\\u1ec7n c\\u00f2n nh\\u1eefng lo\\u1ea1i c\\u1ea7u tr\\u01b0\\u1ee3t n\\u00e0o n-<br>\", \"Hi\\u1ec7n t\\u1ea1i s\\u1ea3n ph\\u1ea9m c\\u1ea7u tr\\u01b0\\u1ee3t  shop \\u0111ang c\\u00f3 nh\\u1eefng gi-<br>\", \"query_knowledge_base\", \"['object_type:cau_truot']\", \"action_query_babe_kb\"], [\"/confirm_attribute_value{\\\"price\\\": \\\"1M-2M\\\"}\", \"D\\u1ea1 m\\u1eddi b\\u1ea1n tham kh\\u1ea3o s\\u1ea3n ph\\u1ea9m hi\\u1ec7n c\\u00f3 t\\u1ea1i shop nh\\u00e9-<br>\", \"query_knowledge_base\", null, \"action_query_babe_kb\"], [\"C\\u00f3 c\\u00e1i n\\u00e0o r\\u1ebb h\\u01a1n k b\\u1ea1n\\r\\nC\\u1ea7u tr\\u01b0\\u1ee3t ri\\u00eang th\\u00f4i\", null, \"handover_to_inbox\", \"['object_type:cau_truot']\", \"action_handover_to_inbox\"], [\"B\\u1ea1n \\u01a1i b\\u00ean b\\u1ea1n hi\\u1ec7n c\\u00f2n nh\\u1eefng lo\\u1ea1i c\\u1ea7u tr\\u01b0\\u1ee3t n\\u00e0o n-<br>\", \"S\\u1ea3n ph\\u1ea9m  C\\u1ea7u tr\\u01b0\\u1ee3t x\\u00edch \\u0111u Hola h\\u1ea3i c\\u1ea9u 2020  hi\\u1ec7-<br> n shop \\u0111ang c\\u00f3 gi\\u00e1: *1,982,500 VND (gi\\u00e1 g\\u1ed1c 3,250,-<br>\", \"query_knowledge_base\", \"['object_type:cau_truot']\", \"action_query_babe_kb\"], [\"C\\u00f3 c\\u00e1i n\\u00e0o r\\u1ebb h\\u01a1n k b\\u1ea1n\\r\\nC\\u1ea7u tr\\u01b0\\u1ee3t ri\\u00eang th\\u00f4i\", \"S\\u1ea3n ph\\u1ea9m  C\\u1ea7u tr\\u01b0\\u1ee3t c\\u00f3 gi\\u00e1 th\\u1ea5p h\\u01a1n: *1,982,500 VN-<br> D (gi\\u00e1 g\\u1ed1c 3,250,000 VND)* shop c\\u00f3 m\\u1ed9t s\\u1ed1 s\\u1ea3n ph\\u1ea9m-<br>\", \"query_knowledge_base\", \"['object_type:cau_truot']\", \"action_query_babe_kb\"], [\"B\\u1ea1n \\u01a1i b\\u00ean b\\u1ea1n hi\\u1ec7n c\\u00f2n nh\\u1eefng lo\\u1ea1i c\\u1ea7u tr\\u01b0\\u1ee3t n\\u00e0o n-<br>\", \"S\\u1ea3n ph\\u1ea9m  C\\u1ea7u tr\\u01b0\\u1ee3t x\\u00edch \\u0111u Hola h\\u1ea3i c\\u1ea9u 2020  hi\\u1ec7-<br> n shop \\u0111ang c\\u00f3 gi\\u00e1: *1,982,500 VND (gi\\u00e1 g\\u1ed1c 3,250,-<br>\", \"query_knowledge_base\", \"['object_type:cau_truot']\", \"action_query_babe_kb\"], [\"C\\u00f3 c\\u00e1i n\\u00e0o r\\u1ebb h\\u01a1n k b\\u1ea1n\\r\\nC\\u1ea7u tr\\u01b0\\u1ee3t ri\\u00eang th\\u00f4i\", \"S\\u1ea3n ph\\u1ea9m  C\\u1ea7u tr\\u01b0\\u1ee3t c\\u00f3 gi\\u00e1 th\\u1ea5p h\\u01a1n: *1,982,500 VN-<br> D (gi\\u00e1 g\\u1ed1c 3,250,000 VND)* shop hi\\u1ec7n kh\\u00f4ng c\\u00f3.\\nB\\u1ea1n-<br>\", \"query_knowledge_base\", \"['object_type:cau_truot']\", \"action_query_babe_kb\"], [null, \"B\\u1ea1n \\u0111\\u00e3 t\\u00ecm \\u0111c s\\u1ea3n ph\\u1ea9m \\u01b0ng \\u00fd ch\\u01b0a \\u1ea1 ,c\\u00f3 c\\u1ea7n tr\\u1ee3 l\\u00fd-<br>\", \"reminder\", null, \"action_reminder\"], [\"Cho m stk t\\u1ed1i nh\\u1eadn h\\u00e0ng m ck nh\\u00e9\", \"D\\u1ea1 m\\u00ecnh g\\u1eedi b\\u1ea1n th\\u00f4ng tin t\\u00e0i kho\\u1ea3n c\\u1ee7a shop \\u1ea1:\\nTh-<br> \\u00f4ng tin chuy\\u1ec3n kho\\u1ea3n: \\n\\u2022 0611001928974 - VietcomBa-<br> nk chi nh\\u00e1nh Ba \\u0110\\u00ecnh. Nguy\\u1ec5n L\\u00ea Thu\\u1ef7\\n\\u2022 15002167568-<br> 61 - Agribank chi nh\\u00e1nh H\\u00e0 N\\u1ed9i - Nguy\\u1ec5n L\\u00ea Th\\u1ee7y\\n\\u2022 -<br> 19022876983383 - Techcombank chi nh\\u00e1nh H\\u00e0 N\\u1ed9i. Ngu-<br> y\\u1ec5n Tu\\u1ea5n Quang! \\nN\\u1ed9i dung chuy\\u1ec3n kho\\u1ea3n b\\u1ea1n ghi r\\u00f5 -<br> T\\u00ean Facebook + s\\u1ed1 \\u0111i\\u1ec7n tho\\u1ea1i v\\u00e0 nh\\u1eafn l\\u1ea1i b\\u00ean m\\u00ecnh -<br>\", \"ask_account\", null, \"action_ask_account\"], [\"ok shop\", null, \"agree\", null, \"utter_agree\"], [\"url\", \"B\\u1ea1n \\u0111ang t\\u00ecm ki\\u1ebfm th\\u00f4ng tin g\\u00ec \\u1ea1?\", \"send_link\", \"url\", \"action_handle_send_link_only\"], [\"B\\u1ea1n \\u01a1i b\\u1ea1n c\\u00f3 c\\u1ea7u tr\\u01b0\\u1ee3t n\\u00e0y k?\", \"D\\u1ea1, c\\u00f3 ph\\u1ea3i b\\u1ea1n mu\\u1ed1n h\\u1ecfi m\\u1ed9t trong c\\u00e1c s\\u1ea3n ph\\u1ea9m d\\u01b0-<br>\", \"query_knowledge_base\", \"['object_type:cau_truot', 'mention:n\\u00e0y']\", \"action_query_babe_kb\"], [\"/disagree{\\\"object_type\\\": null}\", \"B\\u1ea1n vui l\\u00f2ng m\\u00f4 t\\u1ea3 r\\u00f5 mong mu\\u1ed1n c\\u1ee7a b\\u1ea1n ho\\u1eb7c chat -<br>\", \"disagree\", null, \"utter_disagree\"], [\"/connect_employee\", null, \"connect_employee\", \"[]\", \"action_handover_to_inbox\"], [\"url\", \"B\\u1ea1n \\u0111ang t\\u00ecm ki\\u1ebfm th\\u00f4ng tin g\\u00ec \\u1ea1?\", \"send_link\", \"url\", \"action_handle_send_link_only\"], [\"B\\u1ea1n \\u01a1i b\\u1ea1n c\\u00f3 c\\u1ea7u tr\\u01b0\\u1ee3t n\\u00e0y k?\", \"D\\u1ea1, c\\u00f3 ph\\u1ea3i b\\u1ea1n mu\\u1ed1n h\\u1ecfi m\\u1ed9t trong c\\u00e1c s\\u1ea3n ph\\u1ea9m d\\u01b0-<br>\", \"query_knowledge_base\", \"['object_type:cau_truot', 'mention:n\\u00e0y']\", \"action_query_babe_kb\"], [\"C\\u00e1i nh\\u01b0 m\\u00ecnh g\\u1eedi \\u1ea3nh \\u1ea5y\", \"B\\u1ea1n vui l\\u00f2ng m\\u00f4 t\\u1ea3 r\\u00f5 mong mu\\u1ed1n c\\u1ee7a b\\u1ea1n ho\\u1eb7c chat -<br>\", \"disagree\", null, \"utter_disagree\"], [null, \"B\\u1ea1n \\u0111\\u00e3 t\\u00ecm \\u0111c s\\u1ea3n ph\\u1ea9m \\u01b0ng \\u00fd ch\\u01b0a \\u1ea1 ,c\\u00f3 c\\u1ea7n tr\\u1ee3 l\\u00fd-<br>\", \"reminder\", null, \"action_reminder\"], [\"C l\\u1ea5y b\\u1ed9 lego th\\u1ecf nh\\u00e9\\nNh\\u1eafn c stk c ck\", \"D\\u1ea1 m\\u00ecnh g\\u1eedi b\\u1ea1n th\\u00f4ng tin t\\u00e0i kho\\u1ea3n c\\u1ee7a shop \\u1ea1:\\nTh-<br> \\u00f4ng tin chuy\\u1ec3n kho\\u1ea3n: \\n\\u2022 0611001928974 - VietcomBa-<br> nk chi nh\\u00e1nh Ba \\u0110\\u00ecnh. Nguy\\u1ec5n L\\u00ea Thu\\u1ef7\\n\\u2022 15002167568-<br> 61 - Agribank chi nh\\u00e1nh H\\u00e0 N\\u1ed9i - Nguy\\u1ec5n L\\u00ea Th\\u1ee7y\\n\\u2022 -<br> 19022876983383 - Techcombank chi nh\\u00e1nh H\\u00e0 N\\u1ed9i. Ngu-<br> y\\u1ec5n Tu\\u1ea5n Quang! \\nN\\u1ed9i dung chuy\\u1ec3n kho\\u1ea3n b\\u1ea1n ghi r\\u00f5 -<br> T\\u00ean Facebook + s\\u1ed1 \\u0111i\\u1ec7n tho\\u1ea1i v\\u00e0 nh\\u1eafn l\\u1ea1i b\\u00ean m\\u00ecnh -<br>\", \"ask_account\", null, \"action_ask_account\"], [\"Ship v\\u1ec1 28 ng\\u00f5 48 ng\\u00f4 gia t\\u1ef1, long bi\\u00ean 0989067795\", \"\\\"C\\u1ea3m \\u01a1n b\\u1ea1n! B\\u1ea1n vui l\\u00f2ng ki\\u1ec3m tra l\\u1ea1i th\\u00f4ng tin \\u0111-<br> \\u1eb7t h\\u00e0ng gi\\u00fap shop nh\\u00e9!\\r\\n<Show ra c\\u00e1i b\\u1ea3ng m\\u1eabu \\u0111\\u1eb7t -<br> h\\u00e0ng: c\\u00f3 t\\u00ean s\\u1ea3n ph\\u1ea9m, cho kh\\u00e1ch t\\u00f9y ch\\u1ecdn s\\u1ed1 l\\u01b0\\u1ee3ng-<br>\", \"order\", \"[]\", \"action_order\"], [\"<x\\u00e1c nh\\u1eadn>\", \"B\\u1ea1n \\u0111\\u00e3 \\u0111\\u1eb7t h\\u00e0ng th\\u00e0nh c\\u00f4ng , \\u0111\\u01a1n h\\u00e0ng s\\u1ebd \\u0111c giao \\u0111-<br> \\u1ebfn 28 ng\\u00f5 48 ng\\u00f4 gia t\\u1ef1, long bi\\u00ean trong kho\\u1ea3ng 24-<br>\", \"confirm_order\", null, \"action_confirm_order\"], [\"alo shop\", \"Ch\\u00e0o b\\u1ea1n, m\\u00ecnh l\\u00e0 tr\\u1ee3 l\\u00fd \\u1ea3o c\\u1ee7a Shop G\\u1ea5u & B\\u00ed Ng\\u00f4,-<br>\", \"greet\", null, \"utter_greet\"], [\"url\", \"S\\u1ea3n ph\\u1ea9m  Gh\\u1ebf \\u0111a n\\u0103ng Mastela Premium 1016  hi\\u1ec7n s-<br> hop \\u0111ang c\\u00f3 gi\\u00e1: *1,590,000 VND (gi\\u00e1 g\\u1ed1c 2,000,000-<br>\", \"query_knowledge_base\", \"url\", \"action_query_babe_kb\"], [\"chi\\u1ec1u nay ship \\u0111\\u01b0\\u1ee3c lu\\u00f4n cho m\\u00ecnh \\u0111\\u01b0\\u1ee3c kh\\u00f4ng\", null, \"handover_to_inbox\", null, \"action_handover_to_inbox\"], [\"alo shop\", \"Ch\\u00e0o b\\u1ea1n, m\\u00ecnh l\\u00e0 tr\\u1ee3 l\\u00fd \\u1ea3o c\\u1ee7a Shop G\\u1ea5u & B\\u00ed Ng\\u00f4,-<br>\", \"greet\", null, \"utter_greet\"], [\"url\", \"S\\u1ea3n ph\\u1ea9m  Gh\\u1ebf \\u0111a n\\u0103ng Mastela Premium 1016  hi\\u1ec7n s-<br> hop \\u0111ang c\\u00f3 gi\\u00e1: *1,590,000 VND (gi\\u00e1 g\\u1ed1c 2,000,000-<br>\", \"query_knowledge_base\", \"url\", \"action_query_babe_kb\"], [\"chi\\u1ec1u nay ship \\u0111\\u01b0\\u1ee3c lu\\u00f4n cho m\\u00ecnh \\u0111\\u01b0\\u1ee3c kh\\u00f4ng\", \"B\\u1ea1n cho shop xin \\u0111\\u1ecba ch\\u1ec9 nh\\u1eadn h\\u00e0ng \\u1ea1.\", \"time_ship\", null, \"action_time_ship\"], [\"s\\u1ed1 7 tr\\u00e0ng thi\", \"V\\u1edbi \\u0111\\u1ecba ch\\u1ec9 s\\u1ed1 7 tr\\u00e0ng thi shop c\\u00f3 th\\u1ec3 ship h\\u00e0ng \\u0111-<br>\", \"time_ship\", null, \"action_time_ship\"], [\"url\", \"D\\u1ea1, c\\u00f3 ph\\u1ea3i b\\u1ea1n mu\\u1ed1n h\\u1ecfi m\\u1ed9t trong c\\u00e1c s\\u1ea3n ph\\u1ea9m d\\u01b0-<br>\", \"query_knowledge_base\", \"url\", \"action_query_babe_kb\"], [\"/query_knowledge_base{\\\"url\\\": \\\"https://www.facebook-<br> .com/shopgauvabingo/posts/2435578706752453\\\", \\\"prod-<br> uct_id\\\": \\\"https://www.facebook.com/shopgauvabingo/-<br>\", \"B\\u1ed9 \\u0111\\u1ed3 ch\\u01a1i nh\\u00e0 b\\u1ebfp th\\u00f4ng minh hi\\u1ec7n shop \\u0111ang c\\u00f3 gi-<br> \\u00e1: 790000 VND (gi\\u00e1 g\\u1ed1c 790000 VND). B\\u1ea1n tham kh\\u1ea3o -<br>\", \"query_knowledge_base\", null, \"action_query_babe_kb\"], [\"oki shop\", \"D\\u1ea1, v\\u00e2ng \\u1ea1\", \"agree\", null, \"utter_agree\"], [\"url\", \"S\\u1ea3n ph\\u1ea9m b\\u1ea1n \\u0111ang t\\u00ecm c\\u00f3 ph\\u1ea3i l\\u00e0?\", \"query_knowledge_base\", \"url\", \"action_query_babe_kb\"], [\"/confirm_object_type{\\\"object_type\\\": \\\"bo_do_choi\\\"}\", \"B\\u1ed9 \\u0111\\u1ed3 ch\\u01a1i nh\\u00e0 b\\u1ebfp th\\u00f4ng minh hi\\u1ec7n shop \\u0111ang c\\u00f3 gi-<br> \\u00e1: 790000 VND (gi\\u00e1 g\\u1ed1c 790000 VND). B\\u1ea1n tham kh\\u1ea3o -<br>\", \"query_knowledge_base\", null, \"action_query_babe_kb\"], [\"oki shop\", \"D\\u1ea1, v\\u00e2ng \\u1ea1\", \"agree\", null, \"utter_agree\"], [\"url\", \"B\\u1ed9 \\u0111\\u1ed3 ch\\u01a1i nh\\u00e0 b\\u1ebfp th\\u00f4ng minh hi\\u1ec7n shop \\u0111ang c\\u00f3 gi-<br> \\u00e1: 790000 VND (gi\\u00e1 g\\u1ed1c 790000 VND). B\\u1ea1n tham kh\\u1ea3o -<br>\", \"query_knowledge_base\", \"url\", \"action_query_babe_kb\"], [\"c\\u00f3 nh\\u1eefng k\\u00edch th\\u01b0\\u1edbc g\\u00ec \\u1ea1\", \"S\\u1ea3n ph\\u1ea9m  B\\u1ed9 \\u0111\\u1ed3 ch\\u01a1i nh\\u00e0 b\\u1ebfp th\\u00f4ng minh c\\u00f3 k\\u00edch th-<br> \\u01b0\\u1edbc: 57x30x77cm v\\u00e0 51x32x100cm\\nB\\u1ea1n tham kh\\u1ea3o c\\u00e1c s-<br>\", \"query_knowledge_base\", \"['attribute:size']\", \"action_query_babe_kb\"], [null, \"B\\u1ea1n \\u0111\\u00e3 t\\u00ecm \\u0111c s\\u1ea3n ph\\u1ea9m \\u01b0ng \\u00fd ch\\u01b0a \\u1ea1 ,c\\u00f3 c\\u1ea7n tr\\u1ee3 l\\u00fd-<br>\", \"reminder\", null, \"action_reminder\"], [\"Th\\u1ebf c\\u00f2n lo\\u1ea1i n\\u00e0o n\\u1eefa ko c\\nXe ch\\u00f2i ch\\u00e2n \\u00fd\", \"S\\u1ea3n ph\\u1ea9m  Xe Ch\\u00f2i Ch\\u00e2n  hi\\u1ec7n shop \\u0111ang c\\u00f3 gi\\u00e1: *58-<br> 0,000 VND (gi\\u00e1 g\\u1ed1c 800,000 VND), 499,000 VND (gi\\u00e1 -<br> g\\u1ed1c 800,000 VND), 699,000 VND (gi\\u00e1 g\\u1ed1c 998,000 VND-<br> ), 448,400 VND (gi\\u00e1 g\\u1ed1c 590,000 VND), 576,000 VND -<br> (gi\\u00e1 g\\u1ed1c 800,000 VND)*.\\nB\\u1ea1n tham kh\\u1ea3o c\\u00e1c s\\u1ea3n ph\\u1ea9m-<br>\", \"query_knowledge_base\", \"['object_type:xe_choi_chan']\", \"action_query_babe_kb\"], [\"thank sop\", \"d\\u1ea1,v\\u00e2ng \\u1ea1\", \"thank\", null, \"utter_thank\"], [\"Shop cho e stk agribank \\u0111\\u1ec3 e ck \\u1ea1\", \"D\\u1ea1 m\\u00ecnh g\\u1eedi b\\u1ea1n th\\u00f4ng tin t\\u00e0i kho\\u1ea3n c\\u1ee7a shop \\u1ea1:\\nTh-<br> \\u00f4ng tin chuy\\u1ec3n kho\\u1ea3n: \\n\\u2022 0611001928974 - VietcomBa-<br> nk chi nh\\u00e1nh Ba \\u0110\\u00ecnh. Nguy\\u1ec5n L\\u00ea Thu\\u1ef7\\n\\u2022 15002167568-<br> 61 - Agribank chi nh\\u00e1nh H\\u00e0 N\\u1ed9i - Nguy\\u1ec5n L\\u00ea Th\\u1ee7y\\n\\u2022 -<br> 19022876983383 - Techcombank chi nh\\u00e1nh H\\u00e0 N\\u1ed9i. Ngu-<br> y\\u1ec5n Tu\\u1ea5n Quang! \\nN\\u1ed9i dung chuy\\u1ec3n kho\\u1ea3n b\\u1ea1n ghi r\\u00f5 -<br> T\\u00ean Facebook + s\\u1ed1 \\u0111i\\u1ec7n tho\\u1ea1i v\\u00e0 nh\\u1eafn l\\u1ea1i b\\u00ean m\\u00ecnh -<br>\", \"ask_account\", null, \"action_ask_account\"], [\"M\\u00ecnh chuy\\u1ec3n kho\\u1ea3n r\\u1ed3i nh\\u00e9 \", null, \"handover_to_inbox\", null, \"action_handover_to_inbox\"], [\"Shop cho e stk agribank \\u0111\\u1ec3 e ck \\u1ea1\", \"D\\u1ea1 m\\u00ecnh g\\u1eedi b\\u1ea1n th\\u00f4ng tin t\\u00e0i kho\\u1ea3n c\\u1ee7a shop \\u1ea1:\\nTh-<br> \\u00f4ng tin chuy\\u1ec3n kho\\u1ea3n: \\n\\u2022 0611001928974 - VietcomBa-<br> nk chi nh\\u00e1nh Ba \\u0110\\u00ecnh. Nguy\\u1ec5n L\\u00ea Thu\\u1ef7\\n\\u2022 15002167568-<br> 61 - Agribank chi nh\\u00e1nh H\\u00e0 N\\u1ed9i - Nguy\\u1ec5n L\\u00ea Th\\u1ee7y\\n\\u2022 -<br> 19022876983383 - Techcombank chi nh\\u00e1nh H\\u00e0 N\\u1ed9i. Ngu-<br> y\\u1ec5n Tu\\u1ea5n Quang! \\nN\\u1ed9i dung chuy\\u1ec3n kho\\u1ea3n b\\u1ea1n ghi r\\u00f5 -<br> T\\u00ean Facebook + s\\u1ed1 \\u0111i\\u1ec7n tho\\u1ea1i v\\u00e0 nh\\u1eafn l\\u1ea1i b\\u00ean m\\u00ecnh -<br>\", \"ask_account\", null, \"action_ask_account\"], [\"url\", \"C\\u1ea3m \\u01a1n b\\u1ea1n, nh\\u00e2n vi\\u00ean c\\u1ee7a shop s\\u1ebd x\\u00e1c nh\\u1eadn s\\u1edbm l\\u1ea1i-<br>\", \"confirm_transfer\", null, \"confirm_transfer\"], [\"url\", \"S\\u1ea3n ph\\u1ea9m Xe ch\\u00f2i ch\\u00e2n ki\\u00eam xe l\\u1eafc cao c\\u1ea5p c\\u00f3 nh\\u1ea1c -<br> Holla hi\\u1ec7n shop \\u0111ang c\\u00f3 gi\\u00e1: *790,000 VND (gi\\u00e1 g\\u1ed1c-<br>  1,200,000 VND)*.\\nB\\u1ea1n tham kh\\u1ea3o c\\u00e1c s\\u1ea3n ph\\u1ea9m sau n-<br>\", \"query_knowledge_base\", \"url\", \"action_query_babe_kb\"], [\"ok shop\", \"V\\u00e2ng \\u1ea1!\", \"agree\", null, \"utter_agree\"], [\"Ch\\u00e0o shop\", \"Ch\\u00e0o b\\u1ea1n, m\\u00ecnh l\\u00e0 tr\\u1ee3 l\\u00fd \\u1ea3o c\\u1ee7a Shop G\\u1ea5u & B\\u00ed Ng\\u00f4,-<br>\", \"greet\", \"[]\", \"utter_greet\"], [\"\\u0110\\u1ed3 eco c\\u00f2mybaby h\\u1ebft lo\\u1ea1i 6-9m h\\u1ea3 ch\\u1ecb\", \"S\\u1ea3n ph\\u1ea9m Eco Comfybaby \\u0111\\u1ed9 tu\\u1ed5i s\\u1eed d\\u1ee5ng 6 - 9 th\\u00e1ng-<br>  hi\\u1ec7n \\u0111ang h\\u1ebft h\\u00e0ng. M\\u1eddi b\\u1ea1n tham kh\\u1ea3o c\\u00e1c s\\u1ea3n ph\\u1ea9-<br>\", \"query_knowledge_base\", \"['object_type:quan_ao']['size:6-9m']\", \"action_query_babe_kb\"], [\"ok shop\", \"V\\u00e2ng \\u1ea1!\", \"agree\", null, \"utter_agree\"], [\"url\", \"S\\u1ea3n ph\\u1ea9m  Xe t\\u1eadp \\u0111i \\u0111a n\\u0103ng cao c\\u1ea5p Holla hi\\u1ec7n sho-<br> p \\u0111ang c\\u00f3 gi\\u00e1: *750,000 VND (gi\\u00e1 g\\u1ed1c 1,200,000 VND-<br> )*.\\nB\\u1ea1n tham kh\\u1ea3o c\\u00e1c s\\u1ea3n ph\\u1ea9m sau nh\\u00e9 \\u1ea1:\\n<show ca-<br>\", \"query_knowledge_base\", \"url\", \"action_query_babe_kb\"], [\"ok shop\", \"V\\u00e2ng \\u1ea1!\", \"agree\", null, \"utter_agree\"], [\"Cho m\\u00ecnh link shoppe\", \"M\\u00ecnh ch\\u01b0a x\\u00e1c \\u0111\\u1ecbnh \\u0111\\u01b0\\u1ee3c m\\u00f3n \\u0111\\u1ed3 b\\u1ea1n h\\u1ecfi, b\\u1ea1n m\\u00f4 t\\u1ea3 -<br>\", \"query_knowledge_base\", \"['attribute:link']\", \"action_query_babe_kb\"], [\"Xe l\\u1eafc \\u0111\\u00f3 b\", \"D\\u1ea1 m\\u1eddi b\\u1ea1n xem s\\u1ea3n ph\\u1ea9m t\\u1ea1i \\u0111\\u00e2y \\u1ea1:\\n<show card sp>\", \"query_knowledge_base\", \"['object_type: xe_tap_di','attribute:link']\", \"action_query_babe_kb\"]], \"hovertemplate\": \"x=%{x}<br>y=%{y}<br>short_input_texts=%{customdata[0]}<br>short_bot_texts=%{customdata[1]}<br>intent=%{customdata[2]}<br>short_entities=%{customdata[3]}<br>action_1=%{customdata[4]}<br>cluster=%{marker.color}<extra></extra>\", \"legendgroup\": \"\", \"marker\": {\"color\": [5, 4, 1, 3, 0, 1, 4, 0, 4, 0, 3, 3, 0, 3, 4, 0, 3, 5, 0, 3, 1, 5, 1, 4, 2, 4, 1, 3, 4, 3, 3, 1, 0, 3, 5, 1, 4, 0, 5, 1, 0, 3, 5, 2, 0, 3, 1, 2, 0, 3, 1, 0, 3, 4, 4, 5, 4, 4, 2, 1, 5, 4, 4, 4, 1, 4, 5, 3, 0, 3, 1, 0, 3, 3, 0, 0, 3, 1, 5, 3, 1, 3, 5, 3, 4, 5, 1, 5, 5, 0, 3, 4, 1, 4, 2, 4, 1, 2, 0, 4, 2, 4, 1, 4, 3, 1, 5, 1, 4, 4, 2, 3, 4, 2, 5, 4, 1, 5, 4, 2, 5, 3, 3, 0, 1, 2, 5, 4, 2, 5, 5, 4, 2, 1, 1, 0, 5, 4, 4, 2, 0, 5, 1, 1, 2, 1, 1, 5, 1, 4, 0, 3, 1, 2, 5, 5, 4, 2, 5, 5, 5, 4, 4, 3, 5, 2, 5, 4, 4, 3, 2, 0, 3, 2, 0, 5, 2, 5, 5, 2, 5, 4, 2, 5, 5, 1, 2, 0, 3, 4, 4, 2, 0, 4, 2, 0, 3, 2, 5, 4, 2, 0, 1, 4, 2, 0, 1, 5, 1, 2, 4, 1, 2, 0, 5, 4, 2, 0, 5, 3, 4, 2, 0, 3, 1, 2, 0, 3, 4, 4, 4, 2, 0, 5, 4, 2, 0, 3, 5, 2, 0, 3, 5, 1, 2, 5, 3, 1, 1, 4, 3, 5, 5, 1, 1, 5, 1, 1, 1, 2, 3, 2, 3, 4, 2, 1, 1, 5, 4, 0, 5, 0, 3, 1, 5, 3, 1, 5, 2, 0, 5, 1, 4, 0, 3, 2, 5, 3, 2, 0, 3, 2, 0, 3, 4, 4, 1, 1, 4, 3, 1, 1, 4, 3, 4, 4, 4, 2, 3, 4, 4, 4, 3, 4, 1, 4, 1, 5, 5, 4, 0, 3, 5, 5, 1, 1, 4, 2, 5, 1, 1, 1, 4, 1, 1, 4, 1, 1, 4, 5, 5, 4, 2, 1, 1, 4, 1, 5, 4, 4, 5, 4, 4, 3, 5, 3, 2, 0, 5, 1, 4, 3, 4, 2, 0, 1, 2, 3, 0, 5, 4, 0, 0, 1, 1, 5, 5, 0, 5, 1, 1, 4, 2, 0, 3, 1, 1, 4, 4, 1, 2, 0, 5, 0, 3, 1, 3, 3, 1, 3, 2, 5, 4, 2, 5, 4, 1, 5, 2, 5, 2, 1, 3, 5, 5, 4, 4, 1, 3, 4, 4, 3, 4, 1, 2, 5, 5, 0, 5, 4, 2, 4, 4, 4, 3, 5, 4, 1, 4, 4, 5, 5, 5, 4, 5, 3, 1, 5, 4, 5, 1, 1, 1, 1, 2, 1, 2, 1, 4, 2, 5, 1, 0, 3, 0, 3, 0, 3, 2, 1, 2, 5, 4, 1, 0, 1, 4, 5, 5, 1, 1, 4, 4, 4, 4, 2, 1, 2, 1, 3, 4, 1, 4, 4, 4, 0, 1, 5, 3, 5, 3, 0, 3, 0, 3, 3, 2, 4, 3, 5, 5, 3, 5, 4, 4, 3, 5, 3, 4, 3, 3, 4, 3, 3, 4, 3, 3, 4, 3, 0, 3, 4, 3, 3, 4, 5, 4, 4, 3, 5, 5, 3, 5, 3, 5, 4, 5, 4, 4, 3, 4, 5, 3, 3, 4, 3, 3, 1, 3, 3, 1, 5, 3, 4, 3, 4, 2, 0, 3, 4, 2, 0, 3, 4, 5, 4, 4, 5, 4, 4, 5, 3, 0, 5, 4, 4, 0, 5, 5, 4, 0, 5, 4, 2, 3, 4, 4, 2, 3, 3, 3, 3, 4, 3, 3, 1, 3, 3, 3, 3, 1, 4, 4, 0, 3, 1, 4, 0, 3, 4, 1, 4, 4, 4, 2, 5, 4, 2, 5, 4, 4, 5, 5, 4, 5, 5, 4, 5, 3, 1, 5, 4, 4, 1, 4, 4, 5, 4, 2, 1, 4, 5, 4, 4, 5], \"coloraxis\": \"coloraxis\", \"symbol\": \"circle\"}, \"mode\": \"markers\", \"name\": \"\", \"showlegend\": false, \"type\": \"scatter\", \"x\": [-7.3522515, 14.971329, 1.2995957, -21.638037, -12.096392999999999, 9.1149235, 19.494253, -12.096414, 12.769508, -11.639847, -20.836479999999998, -17.13949, -11.636751, -20.836485, 17.129353, -10.36947, -21.3968, -4.8542476, -11.91012, -20.012323000000002, 0.8713778, -4.632202599999999, 6.197644, 23.906734, 1.0847316999999999, 21.978174, 9.286839500000001, -19.896486, 16.493309, -20.533974, -12.6835985, 6.534987999999999, -10.769573, -20.616896, -14.023511, -0.37459380000000003, 24.206339, -7.285062, -10.065845, 6.890851, -9.805352000000001, -20.76435, -7.698966, 1.2318034, -9.4161215, -20.56256, 4.693158599999999, 1.6146606000000001, -6.3775373, -19.157589, 5.1206646, -11.297442, -19.353970999999998, 14.686794, 14.882646, -8.530778, 14.925896, 29.749388, 1.8361665, 5.2921762, -10.488723, 29.238498999999997, 21.105968, 22.331995000000003, 6.400864, 21.079222, -11.223347, -10.69603, -11.870994999999999, -23.463007, 2.962277, -10.990089, -20.001827, -15.41929, -8.469536, -7.8820534, -22.234066000000002, 7.7952924, -9.858153, -13.481273999999999, 3.2527997, -20.057121, -11.258557000000001, -12.683598, 18.544266, -7.3076553, 6.846412, -11.405547, -11.342759, -8.199909, -19.403168, 29.238498999999997, 3.2511692, 14.919076, 1.6275444, 13.164832999999998, 5.876796, 4.327992, -10.891599000000001, 12.65601, 4.327992, 18.976143, 5.586035, 16.129717000000003, -24.218489, 6.076683, -9.786027, 3.8635788, 21.3756, 19.951414, 1.22461, -15.803267499999999, 22.434492000000002, 6.4435606, -7.2453027, 21.01509, 8.101791, -6.871271000000001, 22.596575, 4.6391163, -4.25485, -13.634379999999998, -16.528961, -8.999993, 12.417247, 2.0281756, -6.626095299999999, 24.473814, 3.2097439999999997, -6.626095299999999, -10.157477, 28.661657, 1.7105122, 12.635572, 6.0075965, -9.479405, -6.491733, 12.518334, 28.281736, 2.7164752, -14.141167999999999, -1.8778383, -0.26869497, 8.557819, 6.1071480000000005, 3.153203, 1.2262355, -10.933238000000001, 8.952584, 20.297825, -5.7880163, -23.667612, 9.998954, 6.8917418, -7.101159, -11.388228999999999, 24.428993, 6.4668074, -6.7672215, -11.388228999999999, -2.0191767, 28.866821, 18.227604, -23.78428, -5.928310400000001, 3.0872292999999997, -9.965431, 15.618170000000001, 26.50532, -20.710903, 6.58562, -10.409442, -17.516804, 6.585239, -9.870265, -3.5443354, 6.638775999999999, -5.482705, -2.7977762000000004, 2.8559957000000002, -3.6138239999999997, 30.176907, 3.1753066000000003, -5.545296, -1.2161611, 4.5483519999999995, 2.4742937, -7.287753599999999, -16.854333999999998, 15.097826999999999, 23.90981, 2.2878497, -8.700891, 19.815292000000003, 1.8357318999999999, -8.314592999999999, -20.603516, 3.0872292999999997, -6.065715, 29.382753000000005, 3.0877776000000003, -11.163332, 2.3005471, 26.482296, 1.7013637, -9.222591, 9.948278, -12.5904255, 6.0616894, 0.9617402, 18.511606, 2.6673117000000004, 1.5040909, -8.377744999999999, -1.9020860000000002, 30.139608000000003, 3.496059, -8.376741, -1.9021, -16.19211, 23.808687, 5.398541000000001, -12.965923, -17.491196, 7.744258, 0.90092546, -12.966289, -17.491196, 14.185469, 29.748371000000002, 20.625853, 3.6717712999999996, -10.579391000000001, -9.28196, 16.17696, 0.76415074, -14.961357999999999, -16.725794, -10.255044, 2.2359127999999995, -14.961557999999998, -15.020148, -9.240182, 9.998953, 1.9162852, -2.7668288, -14.616417000000002, 4.4786325, 6.2384567, 26.133509, -22.741991, -2.6845474, -4.8559227, 2.1116836, 2.3475132000000003, -5.173487000000001, 4.812887, 2.3979824, 3.0322757, 3.217391, -14.403132000000001, 2.446689, -14.403132000000001, 20.042269, 6.3223863, 0.3315261, 6.9132880000000005, -12.232716, 29.412229999999997, -10.723314, -11.128065, -11.871226, -23.731373, 6.8464084000000005, -5.358755, -24.218449, 6.076717400000001, -9.786026, 1.2005012, -14.141325, -1.8778543, -0.26869717, 29.475233000000003, -9.495664999999999, -23.667606, 6.7504789999999995, -4.7108436, -11.720948, 5.275593799999999, -12.966667999999999, -17.491305999999998, 2.7077615, -10.579988499999999, -17.442232, 21.732605, 26.31022, 7.916894, -0.14238684, 26.482440000000004, -11.109879, 6.071553700000001, 6.0715449999999995, 20.215103, -13.167110999999998, 14.947377, 23.184319, 22.381042, 3.087226, -16.177052, 14.021949, 23.909742, 26.272501000000002, -16.177001999999998, 14.225518, 7.2651916, 25.394514, 5.5151224, -11.405180999999999, -9.695191000000001, 20.08077, -8.110291499999999, -18.229315, -12.111542, -4.465751, 4.0406146000000005, 5.815741, 20.179804, 6.080149, -11.382938000000001, 0.43529700000000005, 8.381205, 4.0447936, 15.131673000000001, 8.381205, 6.583711999999999, 23.06798, 8.980659, 0.5776989, 25.166304, -10.920471000000001, -12.064826, 22.94742, 6.247515, 5.9105444, 4.9957814, 20.615595000000003, 6.724756200000001, -7.739615400000001, 15.344111999999999, 23.41328, -7.238175999999999, 16.72185, 22.51497, -19.622488, -9.180268, -20.441319, 1.7299098000000002, -6.4194202, -8.616953, 9.14495, 19.578108, -13.013053999999999, 18.47795, 3.1105058, -9.835137, 2.213009, 1.2346829, -15.651257999999999, -10.175092, -11.162442, 18.680944, -10.39663, -10.396657000000001, 0.37473429999999996, 2.6513374, -8.187365, -12.175724, -7.074917999999999, -10.249713999999999, 7.7914824000000005, 7.5366116, 25.540429999999997, 3.7190459000000002, -11.850954, -18.499926000000002, 8.54762, 0.018285949, 22.635368, 22.884016, 5.8820615, 1.4269505, -9.835136, -9.508925999999999, -8.110109, -17.621579999999998, 5.981416, -20.533974, -12.683556, 6.992431, -23.711876, 0.30596733, -3.9160876000000004, 22.910124, 0.30716974, -5.337676999999999, 22.910124, 7.895022999999999, -4.518388, -0.6324498000000001, -8.1639, -0.89406615, -0.35439754, -13.291373000000002, -7.176221400000001, -5.554937000000001, 29.633411, 16.980186, 7.364217999999999, -18.44397, 29.877705, 16.022264, -14.242242999999998, 16.924488, 8.363816, 0.30596727, -9.229614, -2.9523368, -6.9762216, -7.458070299999999, 14.485589000000001, -0.7917665, 16.847548, 23.408579, 13.450876999999998, -18.324732, -12.164238000000001, 22.910126, 6.6966853, 23.408588, 15.510632000000001, -3.9755017999999995, -3.9689066, -5.2686589999999995, 21.6366, -13.194032, -16.026217000000003, 2.3102063999999998, -9.112258, 28.79515, -9.98728, 10.16319, 3.4718776, 3.5678050000000003, 8.436635, 2.6671077999999997, 4.938235, 2.3014232999999997, 2.122288, 28.283007, 1.9318967, -8.046052, 11.819755, -12.507104, -15.211060999999999, -12.507050999999999, -16.136979999999998, -12.507839, -20.694498, -1.3211182, 0.24280731, -1.3211107, -11.258833000000001, 29.325758, 6.8897862000000005, -10.305614, 9.950219, 29.147190000000002, -4.620278400000001, -6.293727, 11.808728, 6.419082599999999, 28.136898, 20.76831, 18.990679999999998, 28.136757, -1.3211030000000001, 5.032475499999999, -1.3208963, 5.032478299999999, -22.868185, 18.52198, 7.0595803, 18.047228, 22.479921, 21.639341, -9.133638000000001, 6.8764296, -1.3847167, -19.851814, -1.9522958, -19.852102, -7.7057294999999995, -14.149625, -7.7056355, -12.989769, -22.345999, 2.916576, 23.172037, -17.534819, -4.918840400000001, -9.672454, -19.785926999999997, -7.415791499999999, 15.496723000000001, 15.846585999999999, -20.13389, -7.415481, -22.848229999999997, 21.230392000000002, -20.133806, -23.953691, 21.230392000000002, -19.736628, -23.892805, 21.372015, -19.736628, -21.576328, 21.372015, -19.9382, -10.37043, -23.601960000000002, 29.052630999999998, -19.938238000000002, -20.3049, 29.989887, -7.857762299999999, 14.820022, 23.75315, -21.970753, -8.323211, -6.739640700000001, -22.861359, -13.71829, -21.98774, -13.71829, 29.856256, -8.796845, 14.589896, 23.067917, -22.933096, 22.101702, -6.835998, -22.861357, -16.479110000000002, 23.73496, -21.976828, -23.403273000000002, 6.477675, -21.976805, -23.403273000000002, 3.2936459000000005, -4.43461, -22.848146, 23.308737, -19.446151999999998, 21.372015, 5.783114, -4.6787114, -23.520288, 23.73496, 6.110851, -4.6787467000000005, -21.04766, 23.308737, -5.7855644, 15.496564999999999, 25.126435999999998, -2.3348937000000003, 14.586401, 25.12315, -9.603056, -14.193817000000001, -14.121839000000001, -2.6938207000000003, 15.231997, 25.126435999999998, -14.121943, -7.0967899999999995, -12.978487, 27.095867, -14.12185, -11.642241, 25.915685999999997, 5.3985405, -24.676401000000002, 15.063335999999998, 25.12315, 5.262336299999999, -24.347244, -16.75229, -14.369179999999998, -20.571722, 29.052633, -21.514473000000002, -14.761318, 5.172358, -20.57145, -16.286573, -20.05911, -13.530407, 8.064214, 16.389870000000002, 24.939222, -13.758861999999999, -22.964813, 9.8166275, 25.126435999999998, -13.758792999999999, -22.964813, 16.245255, 8.064214, 18.101837, 18.37827, 21.368038000000002, 5.678191, -9.661741000000001, 20.675621, 5.678191, -9.661733, 14.735675, 18.810228, -5.9301867, -9.737758, 22.131989, -2.3431199, -11.119878, 22.131982999999998, -8.578346, -18.769962, 8.064214, -12.055132, 23.159271, 15.860629000000001, 12.565673, 15.860829, 19.602913, -13.447417000000002, 30.393079999999998, -0.8940667999999999, 10.962898, 28.78898, -6.141832, 30.382523, 15.795206, -5.6882410000000005], \"xaxis\": \"x\", \"y\": [-5.871595, 11.942058, 0.20204364, -10.802861, 49.428905, 5.696333, 1.3979356, 49.429120000000005, 9.031265, 51.514717, 1.5106943000000002, -6.9772334, 51.51741, 1.5105928999999998, 12.086826, 52.614655000000006, -0.18525913, -8.475207000000001, 48.37446, 1.0065831, 7.843371, 7.997476600000001, 2.4975379, -6.5262384, -56.478092000000004, -6.644402, 0.5510269, 4.186408, 11.399869, 3.377044, -8.787666, -9.767461, 51.215443, 2.5741243, 6.845364, 5.680389, 9.042224000000001, 51.642265, 5.257614, 4.1080265, 48.582046999999996, -0.6251125, -0.6034663, -56.256890000000006, 50.994521999999996, -0.016111212, -5.467704299999999, -56.930397, 51.489132, 0.8695485000000001, 5.671259, 49.256546, 2.6209388, 4.5772614, 3.9152934999999998, 7.720606, 10.527082, 0.85897446, -56.398556000000006, -6.4630566, 8.301293, 0.78423506, 16.632015, 13.833048999999999, 2.7476952, 16.627726000000003, 4.403393299999999, -9.724136, 50.762572999999996, -4.82068, 4.90369, 49.9727, -0.46483904, -9.551464999999999, 51.602270000000004, 49.464620000000004, -1.4663913, -1.5748096, -1.2603811000000003, -8.741347, -5.7319083, 4.183705000000001, -2.9444199, -4.034962, 14.545767000000001, -3.3904157, -5.6890306, -2.4774849999999997, -3.678788, 50.47589, 0.26541477, 0.7842348000000001, -3.279857, 3.3458525999999997, -56.233288, 6.887904600000001, 7.790354700000001, -46.432274, 48.433643, 9.471886999999999, -46.432274, 14.50791, 4.1732597, 7.273864, -2.3207805, -4.698751000000001, 0.23486295, -4.8280735, 14.768547, 11.721707, -56.821316, -4.824284, 0.80179447, -43.772484000000006, 4.0484686000000005, 14.125178, -2.266016, 0.19560057, -4.71871, -46.176727, -2.1455882, -5.0913377, -8.606392, 48.539547, 6.739780400000001, -53.216395999999996, -0.7607284000000001, 8.764459, -52.809082, -0.7607284000000001, -2.2533875, 3.3468301, -52.455677, 6.721853, -3.376718, 50.031220000000005, -7.5949836, 9.903454, 0.9007729999999999, -53.922913, 52.369842999999996, -1.3346672, -0.21021108, -0.22457449999999998, -46.316853, 6.403033, 6.1402645, 1.3712486000000002, 6.686424000000001, 12.533483, 52.608219999999996, -9.4169655, 6.2629657, -42.89967, -8.432839, 8.1041355, 8.278882000000001, -47.27305, -8.128622, 8.1041355, -4.333425, 4.2434955, 14.489895, -9.979541000000001, 1.4457605, -49.415603999999995, -5.637795, 7.599206, -5.7953897, -3.0608401, -45.870415, 52.2541, -2.7840477999999997, -46.996033000000004, 53.098087, -1.2291564, -46.888397, 9.021616999999999, -0.59647816, -53.103848, 0.2250564, 3.809623, -52.185314, 8.938612, -3.1539732999999996, -3.2157588, -53.168827, 49.773357, -11.228914, 0.81890553, -5.595229, -52.04032, 52.288086, 13.094207, -56.784317, 48.289124, -10.231122000000001, -49.415603999999995, 3.4987552, 4.3986754, -49.415805999999996, 52.558845999999996, 1.2062926, 3.0693576, -51.99713, 50.013927, 9.760907000000001, 9.135242, -1.6488379000000002, -53.435547, 11.276041000000001, -3.5741853999999997, -53.266059999999996, 53.69056, -4.483142, 2.860271, -53.462230000000005, 53.690619999999996, -4.4831567, -10.254838000000001, 10.420735, -46.630835999999995, 51.69127, -9.646255, 1.655146, -52.268029999999996, 51.691143, -9.646255, 5.5783997, 2.9222238, 11.587841000000001, -52.281116, 49.607586, -4.278085, 8.311154, -52.871646999999996, 52.23973, -11.51126, 7.3103595, -51.467490000000005, 52.24045, -10.762758, 7.191077000000001, 6.2629660000000005, -53.888554000000006, -4.8506236, -5.208199, 6.155887, 5.8848886, 7.3699856, -7.5905857, 0.23816594, -1.1724875, 6.1435404, 6.038574700000001, 1.1109858, 7.2086024, 5.780769, 7.7668076, -51.724804, -2.0574625, -52.613865000000004, -2.0574625, 0.36738259999999995, -43.549209999999995, -2.9336464, -1.4274601999999998, 2.3062744, 1.5325474, 53.21507, 4.435855999999999, 50.763874, -5.074829, -5.689032, -1.0719358, -2.320817, -4.6987667, 0.23486301, -51.82412, 52.370502, -1.3345989, -0.21022485, 2.965467, 52.407703000000005, -9.416933, -43.2846, 3.5559375, -10.0382595, -47.20735, 51.6911, -9.64632, -51.568394, 49.606120000000004, -7.2232265, -5.4538794, -5.869265599999999, -7.9773583, -1.0199274999999999, 3.0693173, -9.952671, 4.7849135, 4.7849107, -0.22792266, -10.005188, 1.4559298, -5.793328, 12.118286999999999, -49.4156, -11.231838, 1.4923898000000002, -5.5954137, -5.912179, -11.2318325, 2.1478682, 6.7117825, 8.114697999999999, -6.885062, 7.272386999999999, 5.5310593, 0.7108247, 52.58286, 0.8189860999999999, 9.119769999999999, 2.8613696, -3.021074, 1.7547641, 12.897121, -44.66198, 9.545856, 6.5413375, 6.366778, -3.3766608, 10.2465515, 6.366778, -6.5572539999999995, -5.629267700000001, -3.1609017999999995, 5.934289, 8.792773, 5.924003599999999, -3.330857, 13.751477, -44.545770000000005, 6.176954, -2.7136421000000004, 12.822973, 0.20574799, -9.687773, 1.8737453000000002, -5.898882, 5.358225, 11.968031, -3.3132163999999995, -1.5702511000000001, -7.500205, -10.516988000000001, -51.489554999999996, 49.967503, 7.669685, 7.6361117, 13.259711, -10.7484, 13.461497, -53.748523999999996, 50.80713, 8.583725999999999, -52.726383, -10.209039, 53.985459999999996, 5.1497574, 12.875318, 55.157593000000006, 55.157463, -2.4501487999999996, 6.9651914, -10.718802, 8.020663, 52.837227, 4.065080600000001, 4.992614, 7.737655, -4.0122066, -52.91403199999999, 54.024733999999995, -10.573604, -0.023063142000000002, 5.848947, 14.463821, 15.370575, 1.229133, -53.80064399999999, 50.806458, -0.8434478999999999, 52.582855, -10.416478999999999, -5.427821, 3.377044, -8.787658, -9.658511, -7.941304, -48.371056, -1.4109912, -7.5034246, -48.371544, -1.6263858, -7.5034246, -5.2377553, -2.7146939999999997, -48.916115000000005, 3.8065624, -48.65535, -3.1246111, -5.3601947, 6.890318, -1.626261, 3.5386221, 10.62469, -3.4516574999999996, 2.1773927000000004, 4.0058084, 11.210801, -3.1404638, -0.08924170599999999, 5.432319000000001, -48.371044, -6.834255000000001, -3.0278912, 51.93159, 5.936498, 9.468684, -48.76031, 9.658248, 1.6838404999999999, 6.2499967000000005, 3.1728525000000003, 3.3689065, -7.503425999999999, -3.2289369999999997, 1.6838293999999998, -0.84174025, -5.1376567, 9.056397, -0.42298043, 13.198099, -1.077724, -5.6385818, 1.0219617, -7.9268312000000005, 3.6607642, -4.4850097, 0.20702425, 7.2621326, 6.534671, -4.2645154000000005, -52.318317, 7.748400999999999, -53.867535, 0.73424333, 0.89872795, -52.753932999999996, -7.853656, 8.906981, 53.54065, -8.063055, 53.540397999999996, -7.32072, 53.54054300000001, -9.868853999999999, -49.809948, -0.62889624, -49.809956, -4.6579523, 3.7079442000000005, 7.9566455000000005, 50.563725, 8.643333, 2.9778580000000003, -6.0809627, -8.357538, 9.684564, 6.547623000000001, 1.4152997, 11.401889, 11.409156, 1.4161166, -49.80996, 3.7946332000000003, -49.81007, 3.7946288999999997, -10.732832, 0.39929217, -2.5181072, 8.497022, 15.003551999999999, 13.104299000000001, 49.532948, -4.1030216, -1.2905544, -10.5835495, -0.82370836, -10.583912, 50.931725, -9.349632000000001, 50.930915999999996, -6.9382052, -10.972127, -56.424316000000005, 14.453215, -10.993768, 8.750015, 3.4624023, -11.624433, -9.931778999999999, 1.296348, 7.141255999999999, -11.815429, -9.930531, -0.5157864999999999, -0.16196913, -11.818072, 0.041897934, -0.16196936, -11.783624, -0.50848305, 0.15870532, -11.783624, -4.7440248, 0.15870509, 2.2381926, 47.312656, -5.6015096, 1.5777466999999998, 2.2382164, 1.3467743, 1.3524573, -10.37088, 1.4153578000000002, -5.7203054, -0.88039374, -3.8110142, -9.600989, -0.11784078, 6.4502463, -0.15804681, 6.4502463, 1.4093094, -10.557966, 0.9616353000000001, -5.631515, -1.2046523, 14.187555999999999, -7.515069, -0.11783979, -6.624181299999999, -4.792574, 1.0124855, -6.452571400000001, -9.970169, 1.0126208, -6.452571400000001, 1.533356, -6.5143223, -0.5156692, -4.8122635, 1.4247442, 0.15870604, -46.048187, 52.88541800000001, -4.63668, -4.7925744, -46.320168, 52.878555000000006, -8.333849, -4.8122635, -8.128962, 1.2960133999999999, 5.9834886, -6.3658066, 0.96113867, 5.9835525, 5.985358, -13.047996000000001, 50.162144, -5.1917415, 0.866908, 5.9834886, 50.158512, -7.9972997, 6.766775999999999, 3.1840625, 50.161922, 5.0881944, 3.8538492, -46.630835999999995, -9.450149, 2.5189698, 5.9835525, -47.048237, -9.086542, -7.6926084, -4.994535400000001, -1.8331662, 1.5777471, -9.215417, -6.088323, -4.349295, -1.8332003000000001, -3.9480155, -1.9822936999999998, -2.7507292999999997, -8.975992, 10.506602, -6.8950949999999995, 48.26166, -9.167060000000001, -3.7833045, 5.9834886, 48.26202, -9.167060000000001, 0.7349127, -8.975992, 11.959347, 12.318953, 14.098532999999998, -47.2981, 7.84237, -6.750890299999999, -47.2981, 7.8423758, 0.056709353, 11.535297, -8.576097, 7.2677646, -0.7942665, -6.4471739999999995, 7.2112164000000005, -0.7942618, 6.058865, -7.0985208, -8.975992, 9.000994, 10.541672, 8.6403265, 4.403092, 8.640353, 10.468214999999999, 2.0097528000000002, 2.963477, -48.655353999999996, 9.036014999999999, 3.0395036, 6.429687, 3.4577004999999996, -0.23954967, -7.3920335999999995], \"yaxis\": \"y\"}],\n",
       "                        {\"coloraxis\": {\"colorbar\": {\"title\": {\"text\": \"cluster\"}}, \"colorscale\": [[0.0, \"#0d0887\"], [0.1111111111111111, \"#46039f\"], [0.2222222222222222, \"#7201a8\"], [0.3333333333333333, \"#9c179e\"], [0.4444444444444444, \"#bd3786\"], [0.5555555555555556, \"#d8576b\"], [0.6666666666666666, \"#ed7953\"], [0.7777777777777778, \"#fb9f3a\"], [0.8888888888888888, \"#fdca26\"], [1.0, \"#f0f921\"]]}, \"legend\": {\"tracegroupgap\": 0}, \"margin\": {\"t\": 60}, \"template\": {\"data\": {\"bar\": [{\"error_x\": {\"color\": \"#2a3f5f\"}, \"error_y\": {\"color\": \"#2a3f5f\"}, \"marker\": {\"line\": {\"color\": \"#E5ECF6\", \"width\": 0.5}}, \"type\": \"bar\"}], \"barpolar\": [{\"marker\": {\"line\": {\"color\": \"#E5ECF6\", \"width\": 0.5}}, \"type\": \"barpolar\"}], \"carpet\": [{\"aaxis\": {\"endlinecolor\": \"#2a3f5f\", \"gridcolor\": \"white\", \"linecolor\": \"white\", \"minorgridcolor\": \"white\", \"startlinecolor\": \"#2a3f5f\"}, \"baxis\": {\"endlinecolor\": \"#2a3f5f\", \"gridcolor\": \"white\", \"linecolor\": \"white\", \"minorgridcolor\": \"white\", \"startlinecolor\": \"#2a3f5f\"}, \"type\": \"carpet\"}], \"choropleth\": [{\"colorbar\": {\"outlinewidth\": 0, \"ticks\": \"\"}, \"type\": \"choropleth\"}], \"contour\": [{\"colorbar\": {\"outlinewidth\": 0, \"ticks\": \"\"}, \"colorscale\": [[0.0, \"#0d0887\"], [0.1111111111111111, \"#46039f\"], [0.2222222222222222, \"#7201a8\"], [0.3333333333333333, \"#9c179e\"], [0.4444444444444444, \"#bd3786\"], [0.5555555555555556, \"#d8576b\"], [0.6666666666666666, \"#ed7953\"], [0.7777777777777778, \"#fb9f3a\"], [0.8888888888888888, \"#fdca26\"], [1.0, \"#f0f921\"]], \"type\": \"contour\"}], \"contourcarpet\": [{\"colorbar\": {\"outlinewidth\": 0, \"ticks\": \"\"}, \"type\": \"contourcarpet\"}], \"heatmap\": [{\"colorbar\": {\"outlinewidth\": 0, \"ticks\": \"\"}, \"colorscale\": [[0.0, \"#0d0887\"], [0.1111111111111111, \"#46039f\"], [0.2222222222222222, \"#7201a8\"], [0.3333333333333333, \"#9c179e\"], [0.4444444444444444, \"#bd3786\"], [0.5555555555555556, \"#d8576b\"], [0.6666666666666666, \"#ed7953\"], [0.7777777777777778, \"#fb9f3a\"], [0.8888888888888888, \"#fdca26\"], [1.0, \"#f0f921\"]], \"type\": \"heatmap\"}], \"heatmapgl\": [{\"colorbar\": {\"outlinewidth\": 0, \"ticks\": \"\"}, \"colorscale\": [[0.0, \"#0d0887\"], [0.1111111111111111, \"#46039f\"], [0.2222222222222222, \"#7201a8\"], [0.3333333333333333, \"#9c179e\"], [0.4444444444444444, \"#bd3786\"], [0.5555555555555556, \"#d8576b\"], [0.6666666666666666, \"#ed7953\"], [0.7777777777777778, \"#fb9f3a\"], [0.8888888888888888, \"#fdca26\"], [1.0, \"#f0f921\"]], \"type\": \"heatmapgl\"}], \"histogram\": [{\"marker\": {\"colorbar\": {\"outlinewidth\": 0, \"ticks\": \"\"}}, \"type\": \"histogram\"}], \"histogram2d\": [{\"colorbar\": {\"outlinewidth\": 0, \"ticks\": \"\"}, \"colorscale\": [[0.0, \"#0d0887\"], [0.1111111111111111, \"#46039f\"], [0.2222222222222222, \"#7201a8\"], [0.3333333333333333, \"#9c179e\"], [0.4444444444444444, \"#bd3786\"], [0.5555555555555556, \"#d8576b\"], [0.6666666666666666, \"#ed7953\"], [0.7777777777777778, \"#fb9f3a\"], [0.8888888888888888, \"#fdca26\"], [1.0, \"#f0f921\"]], \"type\": \"histogram2d\"}], \"histogram2dcontour\": [{\"colorbar\": {\"outlinewidth\": 0, \"ticks\": \"\"}, \"colorscale\": [[0.0, \"#0d0887\"], [0.1111111111111111, \"#46039f\"], [0.2222222222222222, \"#7201a8\"], [0.3333333333333333, \"#9c179e\"], [0.4444444444444444, \"#bd3786\"], [0.5555555555555556, \"#d8576b\"], [0.6666666666666666, \"#ed7953\"], [0.7777777777777778, \"#fb9f3a\"], [0.8888888888888888, \"#fdca26\"], [1.0, \"#f0f921\"]], \"type\": \"histogram2dcontour\"}], \"mesh3d\": [{\"colorbar\": {\"outlinewidth\": 0, \"ticks\": \"\"}, \"type\": \"mesh3d\"}], \"parcoords\": [{\"line\": {\"colorbar\": {\"outlinewidth\": 0, \"ticks\": \"\"}}, \"type\": \"parcoords\"}], \"pie\": [{\"automargin\": true, \"type\": \"pie\"}], \"scatter\": [{\"marker\": {\"colorbar\": {\"outlinewidth\": 0, \"ticks\": \"\"}}, \"type\": \"scatter\"}], \"scatter3d\": [{\"line\": {\"colorbar\": {\"outlinewidth\": 0, \"ticks\": \"\"}}, \"marker\": {\"colorbar\": {\"outlinewidth\": 0, \"ticks\": \"\"}}, \"type\": \"scatter3d\"}], \"scattercarpet\": [{\"marker\": {\"colorbar\": {\"outlinewidth\": 0, \"ticks\": \"\"}}, \"type\": \"scattercarpet\"}], \"scattergeo\": [{\"marker\": {\"colorbar\": {\"outlinewidth\": 0, \"ticks\": \"\"}}, \"type\": \"scattergeo\"}], \"scattergl\": [{\"marker\": {\"colorbar\": {\"outlinewidth\": 0, \"ticks\": \"\"}}, \"type\": \"scattergl\"}], \"scattermapbox\": [{\"marker\": {\"colorbar\": {\"outlinewidth\": 0, \"ticks\": \"\"}}, \"type\": \"scattermapbox\"}], \"scatterpolar\": [{\"marker\": {\"colorbar\": {\"outlinewidth\": 0, \"ticks\": \"\"}}, \"type\": \"scatterpolar\"}], \"scatterpolargl\": [{\"marker\": {\"colorbar\": {\"outlinewidth\": 0, \"ticks\": \"\"}}, \"type\": \"scatterpolargl\"}], \"scatterternary\": [{\"marker\": {\"colorbar\": {\"outlinewidth\": 0, \"ticks\": \"\"}}, \"type\": \"scatterternary\"}], \"surface\": [{\"colorbar\": {\"outlinewidth\": 0, \"ticks\": \"\"}, \"colorscale\": [[0.0, \"#0d0887\"], [0.1111111111111111, \"#46039f\"], [0.2222222222222222, \"#7201a8\"], [0.3333333333333333, \"#9c179e\"], [0.4444444444444444, \"#bd3786\"], [0.5555555555555556, \"#d8576b\"], [0.6666666666666666, \"#ed7953\"], [0.7777777777777778, \"#fb9f3a\"], [0.8888888888888888, \"#fdca26\"], [1.0, \"#f0f921\"]], \"type\": \"surface\"}], \"table\": [{\"cells\": {\"fill\": {\"color\": \"#EBF0F8\"}, \"line\": {\"color\": \"white\"}}, \"header\": {\"fill\": {\"color\": \"#C8D4E3\"}, \"line\": {\"color\": \"white\"}}, \"type\": \"table\"}]}, \"layout\": {\"annotationdefaults\": {\"arrowcolor\": \"#2a3f5f\", \"arrowhead\": 0, \"arrowwidth\": 1}, \"coloraxis\": {\"colorbar\": {\"outlinewidth\": 0, \"ticks\": \"\"}}, \"colorscale\": {\"diverging\": [[0, \"#8e0152\"], [0.1, \"#c51b7d\"], [0.2, \"#de77ae\"], [0.3, \"#f1b6da\"], [0.4, \"#fde0ef\"], [0.5, \"#f7f7f7\"], [0.6, \"#e6f5d0\"], [0.7, \"#b8e186\"], [0.8, \"#7fbc41\"], [0.9, \"#4d9221\"], [1, \"#276419\"]], \"sequential\": [[0.0, \"#0d0887\"], [0.1111111111111111, \"#46039f\"], [0.2222222222222222, \"#7201a8\"], [0.3333333333333333, \"#9c179e\"], [0.4444444444444444, \"#bd3786\"], [0.5555555555555556, \"#d8576b\"], [0.6666666666666666, \"#ed7953\"], [0.7777777777777778, \"#fb9f3a\"], [0.8888888888888888, \"#fdca26\"], [1.0, \"#f0f921\"]], \"sequentialminus\": [[0.0, \"#0d0887\"], [0.1111111111111111, \"#46039f\"], [0.2222222222222222, \"#7201a8\"], [0.3333333333333333, \"#9c179e\"], [0.4444444444444444, \"#bd3786\"], [0.5555555555555556, \"#d8576b\"], [0.6666666666666666, \"#ed7953\"], [0.7777777777777778, \"#fb9f3a\"], [0.8888888888888888, \"#fdca26\"], [1.0, \"#f0f921\"]]}, \"colorway\": [\"#636efa\", \"#EF553B\", \"#00cc96\", \"#ab63fa\", \"#FFA15A\", \"#19d3f3\", \"#FF6692\", \"#B6E880\", \"#FF97FF\", \"#FECB52\"], \"font\": {\"color\": \"#2a3f5f\"}, \"geo\": {\"bgcolor\": \"white\", \"lakecolor\": \"white\", \"landcolor\": \"#E5ECF6\", \"showlakes\": true, \"showland\": true, \"subunitcolor\": \"white\"}, \"hoverlabel\": {\"align\": \"left\"}, \"hovermode\": \"closest\", \"mapbox\": {\"style\": \"light\"}, \"paper_bgcolor\": \"white\", \"plot_bgcolor\": \"#E5ECF6\", \"polar\": {\"angularaxis\": {\"gridcolor\": \"white\", \"linecolor\": \"white\", \"ticks\": \"\"}, \"bgcolor\": \"#E5ECF6\", \"radialaxis\": {\"gridcolor\": \"white\", \"linecolor\": \"white\", \"ticks\": \"\"}}, \"scene\": {\"xaxis\": {\"backgroundcolor\": \"#E5ECF6\", \"gridcolor\": \"white\", \"gridwidth\": 2, \"linecolor\": \"white\", \"showbackground\": true, \"ticks\": \"\", \"zerolinecolor\": \"white\"}, \"yaxis\": {\"backgroundcolor\": \"#E5ECF6\", \"gridcolor\": \"white\", \"gridwidth\": 2, \"linecolor\": \"white\", \"showbackground\": true, \"ticks\": \"\", \"zerolinecolor\": \"white\"}, \"zaxis\": {\"backgroundcolor\": \"#E5ECF6\", \"gridcolor\": \"white\", \"gridwidth\": 2, \"linecolor\": \"white\", \"showbackground\": true, \"ticks\": \"\", \"zerolinecolor\": \"white\"}}, \"shapedefaults\": {\"line\": {\"color\": \"#2a3f5f\"}}, \"ternary\": {\"aaxis\": {\"gridcolor\": \"white\", \"linecolor\": \"white\", \"ticks\": \"\"}, \"baxis\": {\"gridcolor\": \"white\", \"linecolor\": \"white\", \"ticks\": \"\"}, \"bgcolor\": \"#E5ECF6\", \"caxis\": {\"gridcolor\": \"white\", \"linecolor\": \"white\", \"ticks\": \"\"}}, \"title\": {\"x\": 0.05}, \"xaxis\": {\"automargin\": true, \"gridcolor\": \"white\", \"linecolor\": \"white\", \"ticks\": \"\", \"title\": {\"standoff\": 15}, \"zerolinecolor\": \"white\", \"zerolinewidth\": 2}, \"yaxis\": {\"automargin\": true, \"gridcolor\": \"white\", \"linecolor\": \"white\", \"ticks\": \"\", \"title\": {\"standoff\": 15}, \"zerolinecolor\": \"white\", \"zerolinewidth\": 2}}}, \"xaxis\": {\"anchor\": \"y\", \"domain\": [0.0, 1.0], \"title\": {\"text\": \"x\"}}, \"yaxis\": {\"anchor\": \"x\", \"domain\": [0.0, 1.0], \"title\": {\"text\": \"y\"}}},\n",
       "                        {\"responsive\": true}\n",
       "                    ).then(function(){\n",
       "                            \n",
       "var gd = document.getElementById('99e9d576-ac55-470a-9331-c6619579fb54');\n",
       "var x = new MutationObserver(function (mutations, observer) {{\n",
       "        var display = window.getComputedStyle(gd).display;\n",
       "        if (!display || display === 'none') {{\n",
       "            console.log([gd, 'removed!']);\n",
       "            Plotly.purge(gd);\n",
       "            observer.disconnect();\n",
       "        }}\n",
       "}});\n",
       "\n",
       "// Listen for the removal of the full notebook cells\n",
       "var notebookContainer = gd.closest('#notebook-container');\n",
       "if (notebookContainer) {{\n",
       "    x.observe(notebookContainer, {childList: true});\n",
       "}}\n",
       "\n",
       "// Listen for the clearing of the current output cell\n",
       "var outputEl = gd.closest('.output');\n",
       "if (outputEl) {{\n",
       "    x.observe(outputEl, {childList: true});\n",
       "}}\n",
       "\n",
       "                        })\n",
       "                };\n",
       "                });\n",
       "            </script>\n",
       "        </div>"
      ]
     },
     "metadata": {},
     "output_type": "display_data"
    }
   ],
   "source": [
    "import plotly.graph_objects as go\n",
    "import plotly.express as px\n",
    "import pandas as pd\n",
    "\n",
    "df = pd.read_csv(\"data/tsne_vectors_2d.csv\")\n",
    "\n",
    "fig = px.scatter(\n",
    "    df,\n",
    "    x='x',\n",
    "    y='y',\n",
    "    color=\"cluster\",\n",
    "    hover_data=[\"short_input_texts\", \"short_bot_texts\",\"intent\",\"short_entities\",\"action_1\"],\n",
    "    )\n",
    "\n",
    "\n",
    "fig.show()"
   ]
  },
  {
   "cell_type": "code",
   "execution_count": null,
   "metadata": {},
   "outputs": [],
   "source": []
  },
  {
   "cell_type": "code",
   "execution_count": null,
   "metadata": {},
   "outputs": [],
   "source": []
  },
  {
   "cell_type": "code",
   "execution_count": null,
   "metadata": {},
   "outputs": [],
   "source": []
  },
  {
   "cell_type": "code",
   "execution_count": null,
   "metadata": {},
   "outputs": [],
   "source": []
  }
 ],
 "metadata": {
  "kernelspec": {
   "display_name": "Python 3",
   "language": "python",
   "name": "python3"
  },
  "language_info": {
   "codemirror_mode": {
    "name": "ipython",
    "version": 3
   },
   "file_extension": ".py",
   "mimetype": "text/x-python",
   "name": "python",
   "nbconvert_exporter": "python",
   "pygments_lexer": "ipython3",
   "version": "3.7.6"
  }
 },
 "nbformat": 4,
 "nbformat_minor": 4
}
